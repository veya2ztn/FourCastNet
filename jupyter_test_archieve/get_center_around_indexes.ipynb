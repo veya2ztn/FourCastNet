{
 "cells": [
  {
   "cell_type": "code",
   "execution_count": 10,
   "id": "59c526b3",
   "metadata": {},
   "outputs": [],
   "source": [
    "import numpy as np"
   ]
  },
  {
   "cell_type": "code",
   "execution_count": 12,
   "id": "678a4c39",
   "metadata": {},
   "outputs": [],
   "source": [
    "timelist = np.arange(np.datetime64(\"1979-01-02\"), np.datetime64(\"2016-01-01\"), np.timedelta64(1, \"h\"))"
   ]
  },
  {
   "cell_type": "code",
   "execution_count": 43,
   "id": "1426ead1",
   "metadata": {},
   "outputs": [
    {
     "data": {
      "text/plain": [
       "numpy.ndarray"
      ]
     },
     "execution_count": 43,
     "metadata": {},
     "output_type": "execute_result"
    }
   ],
   "source": [
    "type(timelist)"
   ]
  },
  {
   "cell_type": "code",
   "execution_count": 21,
   "id": "6cd2d1ff",
   "metadata": {},
   "outputs": [],
   "source": [
    "from tqdm.auto import tqdm"
   ]
  },
  {
   "cell_type": "code",
   "execution_count": 22,
   "id": "8e51ccdb",
   "metadata": {},
   "outputs": [],
   "source": [
    "def init_file_list(dates):\n",
    "    file_list = []\n",
    "    for date in tqdm(dates):\n",
    "        year = date.astype('datetime64[Y]').astype(int) + 1970\n",
    "        start_of_year = np.datetime64('{}-01-01'.format(year), 'h')\n",
    "        hour = (date - start_of_year).astype(int)\n",
    "        file_list.append([year, hour])\n",
    "    return file_list"
   ]
  },
  {
   "cell_type": "code",
   "execution_count": 40,
   "id": "081ae321",
   "metadata": {
    "scrolled": true
   },
   "outputs": [],
   "source": [
    "def init_file_list(years):\n",
    "    file_list = []\n",
    "    for year in years:\n",
    "        if year == 1979: # 1979年数据只有8753个，缺少第一天前7小时数据，所以这里我们从第二天开始算起\n",
    "            for hour in range(17, 8753, 1):\n",
    "                file_list.append([year, hour])\n",
    "        else:\n",
    "            if year % 4 == 0:\n",
    "                max_item = 8784\n",
    "            else:\n",
    "                max_item = 8760\n",
    "            for hour in range(0, max_item, 1):\n",
    "                file_list.append([year, hour])\n",
    "    return file_list"
   ]
  },
  {
   "cell_type": "code",
   "execution_count": 41,
   "id": "fcbe1ff6",
   "metadata": {},
   "outputs": [
    {
     "data": {
      "text/plain": [
       "324312"
      ]
     },
     "execution_count": 41,
     "metadata": {},
     "output_type": "execute_result"
    }
   ],
   "source": [
    "len(init_file_list(range(1979,2016)))"
   ]
  },
  {
   "cell_type": "code",
   "execution_count": 37,
   "id": "fde23a06",
   "metadata": {},
   "outputs": [],
   "source": []
  },
  {
   "cell_type": "code",
   "execution_count": 39,
   "id": "1c203667",
   "metadata": {
    "scrolled": false
   },
   "outputs": [
    {
     "data": {
      "text/plain": [
       "324312"
      ]
     },
     "execution_count": 39,
     "metadata": {},
     "output_type": "execute_result"
    }
   ],
   "source": [
    "len(init_file_list(timelist))"
   ]
  },
  {
   "cell_type": "code",
   "execution_count": 1,
   "id": "d6ebce78",
   "metadata": {},
   "outputs": [],
   "source": [
    "single_vnames = [ \"2m_temperature\", \"10m_u_component_of_wind\", \"10m_v_component_of_wind\", \"total_cloud_cover\",\n",
    "                  \"total_precipitation\", \"toa_incident_solar_radiation\"]\n",
    "level_vnames= []\n",
    "for physics_name in [\"geopotential\", \"temperature\",\n",
    "                        \"specific_humidity\",\"relative_humidity\",\n",
    "                        \"u_component_of_wind\",\"v_component_of_wind\",\n",
    "                        \"vorticity\",\"potential_vorticity\"]:\n",
    "    for pressure_level in [50, 100, 150, 200, 250, 300, 400, 500, 600, 700, 850, 925, 1000]:\n",
    "        level_vnames.append(f\"{pressure_level}hPa_{physics_name}\")"
   ]
  },
  {
   "cell_type": "code",
   "execution_count": 2,
   "id": "3e032b01",
   "metadata": {},
   "outputs": [],
   "source": [
    "weatherbench_property_name_list = single_vnames + level_vnames"
   ]
  },
  {
   "cell_type": "code",
   "execution_count": 5,
   "id": "5451d3dc",
   "metadata": {},
   "outputs": [],
   "source": [
    "_component_list70= ([58, 59, 60, 61, 62, 63, 64, 65, 66, 67, 68, 69, 70,  1]+   # u component of wind and the 10m u wind\n",
    "                    [71, 72, 73, 74, 75, 76, 77, 78, 79, 80, 81, 82, 83,  2]+   # v component of wind and the 10m v wind\n",
    "                    [19, 20, 21, 22, 23, 24, 25, 26, 27, 28, 29, 30, 31,  0]+   # Temperature and the 2m_temperature\n",
    "                    [ 6,  7,  8,  9, 10, 11, 12, 13, 14, 15, 16, 17, 18, 18]+   # Geopotential and the last one is ground Geopotential, should be replace later\n",
    "                    [45, 46, 47, 48, 49, 50, 51, 52, 53, 54, 55, 56, 57, 57]    # Realitve humidity and the Realitve humidity at groud, should be modified by total precipitaiton later\n",
    "                )\n",
    "_component_list68= ([58, 59, 60, 61, 62, 63, 64, 65, 66, 67, 68, 69, 70,  1]+   # u component of wind and the 10m u wind\n",
    "                    [71, 72, 73, 74, 75, 76, 77, 78, 79, 80, 81, 82, 83,  2]+   # v component of wind and the 10m v wind\n",
    "                    [19, 20, 21, 22, 23, 24, 25, 26, 27, 28, 29, 30, 31,  0]+   # Temperature and the 2m_temperature\n",
    "                    [ 6,  7,  8,  9, 10, 11, 12, 13, 14, 15, 16, 17, 18    ]+   # Geopotential \n",
    "                    [45, 46, 47, 48, 49, 50, 51, 52, 53, 54, 55, 56, 57    ]    # Realitve humidity \n",
    "                )  \n",
    "_component_list55= ([58, 59, 60, 61, 62, 63, 64, 65, 66, 67, 68, 69, 70,  1]+   # u component of wind and the 10m u wind\n",
    "                    [71, 72, 73, 74, 75, 76, 77, 78, 79, 80, 81, 82, 83,  2]+   # v component of wind and the 10m v wind\n",
    "                    [19, 20, 21, 22, 23, 24, 25, 26, 27, 28, 29, 30, 31,  0]+   # Temperature and the 2m_temperature\n",
    "                    [ 6,  7,  8,  9, 10, 11, 12, 13, 14, 15, 16, 17, 18    ]    # Geopotential and the last one is ground Geopotential, should be replace later\n",
    "                )\n",
    "volicity_idx = ([58, 59, 60, 61, 62, 63, 64, 65, 66, 67, 68, 69, 70,  1]+       # u component of wind and the 10m u wind\n",
    "                [71, 72, 73, 74, 75, 76, 77, 78, 79, 80, 81, 82, 83,  2]        # v component of wind and the 10m v wind\n",
    "               )"
   ]
  },
  {
   "cell_type": "code",
   "execution_count": 8,
   "id": "659c69f2",
   "metadata": {},
   "outputs": [
    {
     "name": "stdout",
     "output_type": "stream",
     "text": [
      "50hPa_u_component_of_wind\n",
      "100hPa_u_component_of_wind\n",
      "150hPa_u_component_of_wind\n",
      "200hPa_u_component_of_wind\n",
      "250hPa_u_component_of_wind\n",
      "300hPa_u_component_of_wind\n",
      "400hPa_u_component_of_wind\n",
      "500hPa_u_component_of_wind\n",
      "600hPa_u_component_of_wind\n",
      "700hPa_u_component_of_wind\n",
      "850hPa_u_component_of_wind\n",
      "925hPa_u_component_of_wind\n",
      "1000hPa_u_component_of_wind\n",
      "10m_u_component_of_wind\n",
      "50hPa_v_component_of_wind\n",
      "100hPa_v_component_of_wind\n",
      "150hPa_v_component_of_wind\n",
      "200hPa_v_component_of_wind\n",
      "250hPa_v_component_of_wind\n",
      "300hPa_v_component_of_wind\n",
      "400hPa_v_component_of_wind\n",
      "500hPa_v_component_of_wind\n",
      "600hPa_v_component_of_wind\n",
      "700hPa_v_component_of_wind\n",
      "850hPa_v_component_of_wind\n",
      "925hPa_v_component_of_wind\n",
      "1000hPa_v_component_of_wind\n",
      "10m_v_component_of_wind\n",
      "50hPa_temperature\n",
      "100hPa_temperature\n",
      "150hPa_temperature\n",
      "200hPa_temperature\n",
      "250hPa_temperature\n",
      "300hPa_temperature\n",
      "400hPa_temperature\n",
      "500hPa_temperature\n",
      "600hPa_temperature\n",
      "700hPa_temperature\n",
      "850hPa_temperature\n",
      "925hPa_temperature\n",
      "1000hPa_temperature\n",
      "2m_temperature\n",
      "50hPa_geopotential\n",
      "100hPa_geopotential\n",
      "150hPa_geopotential\n",
      "200hPa_geopotential\n",
      "250hPa_geopotential\n",
      "300hPa_geopotential\n",
      "400hPa_geopotential\n",
      "500hPa_geopotential\n",
      "600hPa_geopotential\n",
      "700hPa_geopotential\n",
      "850hPa_geopotential\n",
      "925hPa_geopotential\n",
      "1000hPa_geopotential\n"
     ]
    }
   ],
   "source": [
    "for t in _component_list55:\n",
    "    print(weatherbench_property_name_list[t])"
   ]
  },
  {
   "cell_type": "markdown",
   "id": "b14c173d",
   "metadata": {
    "code_folding": []
   },
   "source": [
    "##### 2D"
   ]
  },
  {
   "cell_type": "code",
   "execution_count": null,
   "id": "3f853b12",
   "metadata": {
    "code_folding": [
     0,
     17
    ]
   },
   "outputs": [],
   "source": [
    "def get_patch_location_index(center,img_shape,patch_range):\n",
    "        # we want to get the patch index around center with the self.patch_range\n",
    "        # For example, \n",
    "        #   (i-1,j-1) (i ,j-1) (i+1,j-1)\n",
    "        #   (i-1,j ) (i ,j ) (i+1,j )\n",
    "        #   (i-1,j+1) (i ,j+1) (i+1,j+1)\n",
    "        # notice our data is on the sphere, this mean the center in H should be in [-boundary+patch_range, boundary-patch_range]\n",
    "        # and the position in W is perodic.\n",
    "        assert center[-2] >= patch_range//2\n",
    "        assert center[-2] <= img_shape[-2] - (patch_range//2)\n",
    "        delta = [list(range(-(patch_range//2),patch_range//2+1))]*len(center)\n",
    "        delta = np.meshgrid(*delta)\n",
    "        pos  = [c+dc for c,dc in zip(center,delta)]\n",
    "        pos[-1]= pos[-1]%img_shape[-1] # perodic\n",
    "        pos = np.stack(pos).transpose(0,2,1)\n",
    "        return pos\n",
    "\n",
    "def get_center_around_indexes(patch_range,img_shape):\n",
    "    hlist   = range(patch_range//2, img_shape[-2] - (patch_range//2))\n",
    "    wlist   = range(img_shape[-1])\n",
    "    xes,yes = np.meshgrid(hlist,wlist)\n",
    "    coor    = np.stack([xes,yes],-1).reshape(-1,2)\n",
    "    indexes = np.array([np.stack(get_patch_location_index([x,y],img_shape,patch_range)) for x,y in coor] )\n",
    "    indexes = indexes.reshape(len(wlist),len(hlist),2,patch_range,patch_range).transpose(1,0,2,3,4)\n",
    "    coor    = coor.reshape(len(wlist),len(hlist),2).transpose(2,1,0)\n",
    "    return coor, indexes"
   ]
  },
  {
   "cell_type": "code",
   "execution_count": null,
   "id": "de1d6429",
   "metadata": {},
   "outputs": [],
   "source": [
    "img_shape = (32,64)\n",
    "patch_range = 5\n",
    "test_tensor = np.arange(32*64).reshape(32,64)\n",
    "coor, indexes = get_center_around_indexes(patch_range,img_shape)\n",
    "center_value_array_from_index = test_tensor[coor[0],coor[1]]\n",
    "pos_x   = 2\n",
    "pos_y   = 4\n",
    "center_x,center_y = coor[:,pos_x,pos_y]\n",
    "center_value      = test_tensor[center_x,center_y]\n",
    "around_x,around_y = indexes[pos_x,pos_y]\n",
    "around            = test_tensor[around_x,around_y]\n",
    "center_value_from_index = center_value_array_from_index[2,4]"
   ]
  },
  {
   "cell_type": "code",
   "execution_count": null,
   "id": "c791b746",
   "metadata": {},
   "outputs": [],
   "source": [
    "print(around)\n",
    "print(center_value)\n",
    "print(center_value_from_index)"
   ]
  },
  {
   "cell_type": "markdown",
   "id": "7e75abdc",
   "metadata": {},
   "source": [
    "##### 3D"
   ]
  },
  {
   "cell_type": "code",
   "execution_count": null,
   "id": "05a4fdbf",
   "metadata": {},
   "outputs": [],
   "source": [
    "import numpy as np\n",
    "\n",
    "def get_patch_location_index_3D(center,img_shape,patch_range):\n",
    "        # we want to get the patch index around center with the patch_range\n",
    "        # For example, \n",
    "        #   (i-1,j-1) (i ,j-1) (i+1,j-1)\n",
    "        #   (i-1,j ) (i ,j ) (i+1,j )\n",
    "        #   (i-1,j+1) (i ,j+1) (i+1,j+1)\n",
    "        # notice our data is on the sphere, this mean the center in H should be in [-boundary+patch_range, boundary-patch_range]\n",
    "        # and the position in W is perodic.\n",
    "        assert center[-2] >= patch_range//2\n",
    "        assert center[-2] <= img_shape[-2] - (patch_range//2)\n",
    "        assert center[-3] >= patch_range//2\n",
    "        assert center[-3] <= img_shape[-2] - (patch_range//2)\n",
    "        delta = [list(range(-(patch_range//2),patch_range//2+1))]*len(center)\n",
    "        delta = np.meshgrid(*delta)\n",
    "        pos  = [c+dc for c,dc in zip(center,delta)]\n",
    "        pos[-1]= pos[-1]%img_shape[-1] # perodic\n",
    "        pos = np.stack(pos).transpose(0,3,2,1)\n",
    "        return pos\n",
    "\n",
    "def get_center_around_indexes_3D(patch_range,img_shape):\n",
    "    wlist   = range(img_shape[-1])\n",
    "    hlist   = range(patch_range//2, img_shape[-2] - (patch_range//2))\n",
    "    zlist   = range(patch_range//2, img_shape[-3] - (patch_range//2))\n",
    "    zes,yes,xes = np.meshgrid(zlist,hlist,wlist)\n",
    "    coor    = np.stack([zes,yes,xes],-1).reshape(-1,3)\n",
    "    indexes = np.array([np.stack(get_patch_location_index_3D([z,y,x],img_shape,patch_range)) for z,y,x in coor] )\n",
    "    indexes = indexes.reshape(len(wlist),len(hlist),len(zlist),3,patch_range,patch_range,patch_range).transpose(2,1,0,3,4,5,6)\n",
    "    coor    = coor.reshape(len(wlist),len(hlist),len(zlist),3).transpose(3,2,1,0)\n",
    "    return coor, indexes"
   ]
  },
  {
   "cell_type": "code",
   "execution_count": null,
   "id": "8859ed28",
   "metadata": {},
   "outputs": [],
   "source": [
    "img_shape = (14,32,64)\n",
    "patch_range = 5\n",
    "test_tensor = np.arange(14*32*64).reshape(14,32,64)\n",
    "coor, indexes = get_center_around_indexes_3D(patch_range,img_shape)\n",
    "\n",
    "center_value_array_from_index = test_tensor[coor[0],coor[1],coor[2]]\n",
    "pos_x   = 2\n",
    "pos_y   = 4\n",
    "pos_z   = 8\n",
    "center_x,center_y,center_z = coor[:,pos_x,pos_y,pos_z]\n",
    "center_value               = test_tensor[center_x,center_y,center_z]\n",
    "around_x,around_y,around_z = indexes[pos_x,pos_y,pos_z]\n",
    "around                     = test_tensor[around_x,around_y,around_z]\n",
    "center_value_from_index = center_value_array_from_index[pos_x,pos_y,pos_z]"
   ]
  },
  {
   "cell_type": "code",
   "execution_count": null,
   "id": "1cc80148",
   "metadata": {},
   "outputs": [],
   "source": [
    "\n",
    "print(center_value)\n",
    "print(center_value_from_index)\n",
    "print(around)\n",
    "print(around-center_value)"
   ]
  }
 ],
 "metadata": {
  "kernelspec": {
   "display_name": "Python 3 (ipykernel)",
   "language": "python",
   "name": "python3"
  },
  "language_info": {
   "codemirror_mode": {
    "name": "ipython",
    "version": 3
   },
   "file_extension": ".py",
   "mimetype": "text/x-python",
   "name": "python",
   "nbconvert_exporter": "python",
   "pygments_lexer": "ipython3",
   "version": "3.9.15"
  }
 },
 "nbformat": 4,
 "nbformat_minor": 5
}
