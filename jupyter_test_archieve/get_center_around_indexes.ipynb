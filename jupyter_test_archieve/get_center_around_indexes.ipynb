{
 "cells": [
  {
   "cell_type": "markdown",
   "id": "b14c173d",
   "metadata": {
    "code_folding": []
   },
   "source": [
    "##### 2D"
   ]
  },
  {
   "cell_type": "code",
   "execution_count": null,
   "id": "3f853b12",
   "metadata": {
    "code_folding": [
     0,
     17
    ]
   },
   "outputs": [],
   "source": [
    "def get_patch_location_index(center,img_shape,patch_range):\n",
    "        # we want to get the patch index around center with the self.patch_range\n",
    "        # For example, \n",
    "        #   (i-1,j-1) (i ,j-1) (i+1,j-1)\n",
    "        #   (i-1,j ) (i ,j ) (i+1,j )\n",
    "        #   (i-1,j+1) (i ,j+1) (i+1,j+1)\n",
    "        # notice our data is on the sphere, this mean the center in H should be in [-boundary+patch_range, boundary-patch_range]\n",
    "        # and the position in W is perodic.\n",
    "        assert center[-2] >= patch_range//2\n",
    "        assert center[-2] <= img_shape[-2] - (patch_range//2)\n",
    "        delta = [list(range(-(patch_range//2),patch_range//2+1))]*len(center)\n",
    "        delta = np.meshgrid(*delta)\n",
    "        pos  = [c+dc for c,dc in zip(center,delta)]\n",
    "        pos[-1]= pos[-1]%img_shape[-1] # perodic\n",
    "        pos = np.stack(pos).transpose(0,2,1)\n",
    "        return pos\n",
    "\n",
    "def get_center_around_indexes(patch_range,img_shape):\n",
    "    hlist   = range(patch_range//2, img_shape[-2] - (patch_range//2))\n",
    "    wlist   = range(img_shape[-1])\n",
    "    xes,yes = np.meshgrid(hlist,wlist)\n",
    "    coor    = np.stack([xes,yes],-1).reshape(-1,2)\n",
    "    indexes = np.array([np.stack(get_patch_location_index([x,y],img_shape,patch_range)) for x,y in coor] )\n",
    "    indexes = indexes.reshape(len(wlist),len(hlist),2,patch_range,patch_range).transpose(1,0,2,3,4)\n",
    "    coor    = coor.reshape(len(wlist),len(hlist),2).transpose(2,1,0)\n",
    "    return coor, indexes"
   ]
  },
  {
   "cell_type": "code",
   "execution_count": null,
   "id": "de1d6429",
   "metadata": {},
   "outputs": [],
   "source": [
    "img_shape = (32,64)\n",
    "patch_range = 5\n",
    "test_tensor = np.arange(32*64).reshape(32,64)\n",
    "coor, indexes = get_center_around_indexes(patch_range,img_shape)\n",
    "center_value_array_from_index = test_tensor[coor[0],coor[1]]\n",
    "pos_x   = 2\n",
    "pos_y   = 4\n",
    "center_x,center_y = coor[:,pos_x,pos_y]\n",
    "center_value      = test_tensor[center_x,center_y]\n",
    "around_x,around_y = indexes[pos_x,pos_y]\n",
    "around            = test_tensor[around_x,around_y]\n",
    "center_value_from_index = center_value_array_from_index[2,4]"
   ]
  },
  {
   "cell_type": "code",
   "execution_count": null,
   "id": "c791b746",
   "metadata": {},
   "outputs": [],
   "source": [
    "print(around)\n",
    "print(center_value)\n",
    "print(center_value_from_index)"
   ]
  },
  {
   "cell_type": "markdown",
   "id": "7e75abdc",
   "metadata": {},
   "source": [
    "##### 3D"
   ]
  },
  {
   "cell_type": "code",
   "execution_count": null,
   "id": "05a4fdbf",
   "metadata": {},
   "outputs": [],
   "source": [
    "import numpy as np\n",
    "\n",
    "def get_patch_location_index_3D(center,img_shape,patch_range):\n",
    "        # we want to get the patch index around center with the patch_range\n",
    "        # For example, \n",
    "        #   (i-1,j-1) (i ,j-1) (i+1,j-1)\n",
    "        #   (i-1,j ) (i ,j ) (i+1,j )\n",
    "        #   (i-1,j+1) (i ,j+1) (i+1,j+1)\n",
    "        # notice our data is on the sphere, this mean the center in H should be in [-boundary+patch_range, boundary-patch_range]\n",
    "        # and the position in W is perodic.\n",
    "        assert center[-2] >= patch_range//2\n",
    "        assert center[-2] <= img_shape[-2] - (patch_range//2)\n",
    "        assert center[-3] >= patch_range//2\n",
    "        assert center[-3] <= img_shape[-2] - (patch_range//2)\n",
    "        delta = [list(range(-(patch_range//2),patch_range//2+1))]*len(center)\n",
    "        delta = np.meshgrid(*delta)\n",
    "        pos  = [c+dc for c,dc in zip(center,delta)]\n",
    "        pos[-1]= pos[-1]%img_shape[-1] # perodic\n",
    "        pos = np.stack(pos).transpose(0,3,2,1)\n",
    "        return pos\n",
    "\n",
    "def get_center_around_indexes_3D(patch_range,img_shape):\n",
    "    wlist   = range(img_shape[-1])\n",
    "    hlist   = range(patch_range//2, img_shape[-2] - (patch_range//2))\n",
    "    zlist   = range(patch_range//2, img_shape[-3] - (patch_range//2))\n",
    "    zes,yes,xes = np.meshgrid(zlist,hlist,wlist)\n",
    "    coor    = np.stack([zes,yes,xes],-1).reshape(-1,3)\n",
    "    indexes = np.array([np.stack(get_patch_location_index_3D([z,y,x],img_shape,patch_range)) for z,y,x in coor] )\n",
    "    indexes = indexes.reshape(len(wlist),len(hlist),len(zlist),3,patch_range,patch_range,patch_range).transpose(2,1,0,3,4,5,6)\n",
    "    coor    = coor.reshape(len(wlist),len(hlist),len(zlist),3).transpose(3,2,1,0)\n",
    "    return coor, indexes"
   ]
  },
  {
   "cell_type": "code",
   "execution_count": null,
   "id": "8859ed28",
   "metadata": {},
   "outputs": [],
   "source": [
    "img_shape = (14,32,64)\n",
    "patch_range = 5\n",
    "test_tensor = np.arange(14*32*64).reshape(14,32,64)\n",
    "coor, indexes = get_center_around_indexes_3D(patch_range,img_shape)\n",
    "\n",
    "center_value_array_from_index = test_tensor[coor[0],coor[1],coor[2]]\n",
    "pos_x   = 2\n",
    "pos_y   = 4\n",
    "pos_z   = 8\n",
    "center_x,center_y,center_z = coor[:,pos_x,pos_y,pos_z]\n",
    "center_value               = test_tensor[center_x,center_y,center_z]\n",
    "around_x,around_y,around_z = indexes[pos_x,pos_y,pos_z]\n",
    "around                     = test_tensor[around_x,around_y,around_z]\n",
    "center_value_from_index = center_value_array_from_index[pos_x,pos_y,pos_z]"
   ]
  },
  {
   "cell_type": "code",
   "execution_count": null,
   "id": "1cc80148",
   "metadata": {},
   "outputs": [],
   "source": [
    "\n",
    "print(center_value)\n",
    "print(center_value_from_index)\n",
    "print(around)\n",
    "print(around-center_value)"
   ]
  }
 ],
 "metadata": {
  "kernelspec": {
   "display_name": "Python 3 (ipykernel)",
   "language": "python",
   "name": "python3"
  },
  "language_info": {
   "codemirror_mode": {
    "name": "ipython",
    "version": 3
   },
   "file_extension": ".py",
   "mimetype": "text/x-python",
   "name": "python",
   "nbconvert_exporter": "python",
   "pygments_lexer": "ipython3",
   "version": "3.9.12"
  }
 },
 "nbformat": 4,
 "nbformat_minor": 5
}
