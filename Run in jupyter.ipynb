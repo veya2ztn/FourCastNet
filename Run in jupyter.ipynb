{
 "cells": [
  {
   "cell_type": "code",
   "execution_count": 1,
   "id": "cab07f72",
   "metadata": {
    "code_folding": []
   },
   "outputs": [],
   "source": [
    "from train.pretrain import *"
   ]
  },
  {
   "cell_type": "code",
   "execution_count": 2,
   "id": "cc75e328",
   "metadata": {},
   "outputs": [],
   "source": [
    "import pandas as pd\n",
    "import plotly.express as px\n",
    "\n",
    "def get_model_para_bar(model):\n",
    "    data = []\n",
    "    xmap ={}\n",
    "    for name,p in model.named_parameters():\n",
    "        key = name.split(\".\")[0]\n",
    "        if key not in xmap:xmap[key]=len(xmap)\n",
    "        data.append([name+f\".{tuple(p.shape)}\",np.prod(p.shape),key])  \n",
    "    names_col = ['layer','Log10_ParaM', 'block']\n",
    "    plot_df = pd.DataFrame(data=data,columns=names_col)\n",
    "    fig = px.bar(plot_df, x='block', y='Log10_ParaM', color='layer' ,title='My plot',height=600)\n",
    "    fig.update_layout(showlegend=False) \n",
    "    fig.show()"
   ]
  },
  {
   "cell_type": "code",
   "execution_count": 36,
   "id": "f87cfecb",
   "metadata": {},
   "outputs": [],
   "source": [
    "args=get_args(args=[])\n",
    "#args.debug = True\n",
    "local_rank = 0\n",
    "\n",
    "args.train_set='2D7066N' \n",
    "args.use_time_stamp=0\n",
    "args.history_length=1\n",
    "args.time_step=2\n",
    "args.model_type='AFNONet'\n",
    "args.wrapper_model='Time_Projection_Model'\n",
    "args.embed_dim=256*3\n",
    "args.use_amp=0\n",
    "args.model_depth=12\n",
    "args.valid_batch_size=12\n",
    "#args.n_heads=8\n",
    "args.share_memory=False\n",
    "args.input_channel= 928\n",
    "args.output_channel= 70\n",
    "args.unique_up_sample_channel = 70"
   ]
  },
  {
   "cell_type": "code",
   "execution_count": 37,
   "id": "a76929b0",
   "metadata": {},
   "outputs": [],
   "source": [
    "from mltool.universal_model_util import get_model_para_detail"
   ]
  },
  {
   "cell_type": "code",
   "execution_count": 38,
   "id": "aa30a737",
   "metadata": {},
   "outputs": [],
   "source": [
    "import numpy as np"
   ]
  },
  {
   "cell_type": "code",
   "execution_count": 39,
   "id": "cbbf888f",
   "metadata": {},
   "outputs": [
    {
     "name": "stdout",
     "output_type": "stream",
     "text": [
      "{'img_size': (32, 64), 'patch_size': (2, 2), 'in_chans': 928, 'out_chans': 70, 'fno_blocks': 4, 'embed_dim': 768, 'depth': 12, 'debug_mode': 0, 'double_skip': False, 'fno_bias': False, 'fno_softshrink': 0.0, 'history_length': 1, 'reduce_Field_coef': False, 'modes': (17, 33, 6), 'mode_select': 'normal', 'physics_num': 4, 'pred_len': 1, 'n_heads': 8, 'label_len': 3, 'canonical_fft': 1, 'unique_up_sample_channel': 70, 'share_memory': False}\n"
     ]
    }
   ],
   "source": [
    "args= parse_default_args(args)\n",
    "print(args.model_kargs)"
   ]
  },
  {
   "cell_type": "code",
   "execution_count": 40,
   "id": "1bf26496",
   "metadata": {},
   "outputs": [],
   "source": [
    "model = eval(args.model_type)(**args.model_kargs)"
   ]
  },
  {
   "cell_type": "code",
   "execution_count": 41,
   "id": "da95bd15",
   "metadata": {},
   "outputs": [
    {
     "data": {
      "application/vnd.plotly.v1+json": {
       "config": {
        "plotlyServerURL": "https://plot.ly"
       },
       "data": [
        {
         "alignmentgroup": "True",
         "hovertemplate": "layer=pos_embed.(1, 512, 768)<br>block=%{x}<br>Log10_ParaM=%{y}<extra></extra>",
         "legendgroup": "pos_embed.(1, 512, 768)",
         "marker": {
          "color": "#636efa",
          "pattern": {
           "shape": ""
          }
         },
         "name": "pos_embed.(1, 512, 768)",
         "offsetgroup": "pos_embed.(1, 512, 768)",
         "orientation": "v",
         "showlegend": true,
         "textposition": "auto",
         "type": "bar",
         "x": [
          "pos_embed"
         ],
         "xaxis": "x",
         "y": [
          393216
         ],
         "yaxis": "y"
        },
        {
         "alignmentgroup": "True",
         "hovertemplate": "layer=reduce_Field_coef.(1,)<br>block=%{x}<br>Log10_ParaM=%{y}<extra></extra>",
         "legendgroup": "reduce_Field_coef.(1,)",
         "marker": {
          "color": "#EF553B",
          "pattern": {
           "shape": ""
          }
         },
         "name": "reduce_Field_coef.(1,)",
         "offsetgroup": "reduce_Field_coef.(1,)",
         "orientation": "v",
         "showlegend": true,
         "textposition": "auto",
         "type": "bar",
         "x": [
          "reduce_Field_coef"
         ],
         "xaxis": "x",
         "y": [
          1
         ],
         "yaxis": "y"
        },
        {
         "alignmentgroup": "True",
         "hovertemplate": "layer=patch_embed.proj.conv_layers.0.weight.(768, 928, 2)<br>block=%{x}<br>Log10_ParaM=%{y}<extra></extra>",
         "legendgroup": "patch_embed.proj.conv_layers.0.weight.(768, 928, 2)",
         "marker": {
          "color": "#00cc96",
          "pattern": {
           "shape": ""
          }
         },
         "name": "patch_embed.proj.conv_layers.0.weight.(768, 928, 2)",
         "offsetgroup": "patch_embed.proj.conv_layers.0.weight.(768, 928, 2)",
         "orientation": "v",
         "showlegend": true,
         "textposition": "auto",
         "type": "bar",
         "x": [
          "patch_embed"
         ],
         "xaxis": "x",
         "y": [
          1425408
         ],
         "yaxis": "y"
        },
        {
         "alignmentgroup": "True",
         "hovertemplate": "layer=patch_embed.proj.conv_layers.1.weight.(768, 928, 2)<br>block=%{x}<br>Log10_ParaM=%{y}<extra></extra>",
         "legendgroup": "patch_embed.proj.conv_layers.1.weight.(768, 928, 2)",
         "marker": {
          "color": "#ab63fa",
          "pattern": {
           "shape": ""
          }
         },
         "name": "patch_embed.proj.conv_layers.1.weight.(768, 928, 2)",
         "offsetgroup": "patch_embed.proj.conv_layers.1.weight.(768, 928, 2)",
         "orientation": "v",
         "showlegend": true,
         "textposition": "auto",
         "type": "bar",
         "x": [
          "patch_embed"
         ],
         "xaxis": "x",
         "y": [
          1425408
         ],
         "yaxis": "y"
        },
        {
         "alignmentgroup": "True",
         "hovertemplate": "layer=blocks.0.norm1.weight.(768,)<br>block=%{x}<br>Log10_ParaM=%{y}<extra></extra>",
         "legendgroup": "blocks.0.norm1.weight.(768,)",
         "marker": {
          "color": "#FFA15A",
          "pattern": {
           "shape": ""
          }
         },
         "name": "blocks.0.norm1.weight.(768,)",
         "offsetgroup": "blocks.0.norm1.weight.(768,)",
         "orientation": "v",
         "showlegend": true,
         "textposition": "auto",
         "type": "bar",
         "x": [
          "blocks"
         ],
         "xaxis": "x",
         "y": [
          768
         ],
         "yaxis": "y"
        },
        {
         "alignmentgroup": "True",
         "hovertemplate": "layer=blocks.0.norm1.bias.(768,)<br>block=%{x}<br>Log10_ParaM=%{y}<extra></extra>",
         "legendgroup": "blocks.0.norm1.bias.(768,)",
         "marker": {
          "color": "#19d3f3",
          "pattern": {
           "shape": ""
          }
         },
         "name": "blocks.0.norm1.bias.(768,)",
         "offsetgroup": "blocks.0.norm1.bias.(768,)",
         "orientation": "v",
         "showlegend": true,
         "textposition": "auto",
         "type": "bar",
         "x": [
          "blocks"
         ],
         "xaxis": "x",
         "y": [
          768
         ],
         "yaxis": "y"
        },
        {
         "alignmentgroup": "True",
         "hovertemplate": "layer=blocks.0.filter.w1.(2, 4, 192, 192)<br>block=%{x}<br>Log10_ParaM=%{y}<extra></extra>",
         "legendgroup": "blocks.0.filter.w1.(2, 4, 192, 192)",
         "marker": {
          "color": "#FF6692",
          "pattern": {
           "shape": ""
          }
         },
         "name": "blocks.0.filter.w1.(2, 4, 192, 192)",
         "offsetgroup": "blocks.0.filter.w1.(2, 4, 192, 192)",
         "orientation": "v",
         "showlegend": true,
         "textposition": "auto",
         "type": "bar",
         "x": [
          "blocks"
         ],
         "xaxis": "x",
         "y": [
          294912
         ],
         "yaxis": "y"
        },
        {
         "alignmentgroup": "True",
         "hovertemplate": "layer=blocks.0.filter.b1.(2, 4, 192)<br>block=%{x}<br>Log10_ParaM=%{y}<extra></extra>",
         "legendgroup": "blocks.0.filter.b1.(2, 4, 192)",
         "marker": {
          "color": "#B6E880",
          "pattern": {
           "shape": ""
          }
         },
         "name": "blocks.0.filter.b1.(2, 4, 192)",
         "offsetgroup": "blocks.0.filter.b1.(2, 4, 192)",
         "orientation": "v",
         "showlegend": true,
         "textposition": "auto",
         "type": "bar",
         "x": [
          "blocks"
         ],
         "xaxis": "x",
         "y": [
          1536
         ],
         "yaxis": "y"
        },
        {
         "alignmentgroup": "True",
         "hovertemplate": "layer=blocks.0.filter.w2.(2, 4, 192, 192)<br>block=%{x}<br>Log10_ParaM=%{y}<extra></extra>",
         "legendgroup": "blocks.0.filter.w2.(2, 4, 192, 192)",
         "marker": {
          "color": "#FF97FF",
          "pattern": {
           "shape": ""
          }
         },
         "name": "blocks.0.filter.w2.(2, 4, 192, 192)",
         "offsetgroup": "blocks.0.filter.w2.(2, 4, 192, 192)",
         "orientation": "v",
         "showlegend": true,
         "textposition": "auto",
         "type": "bar",
         "x": [
          "blocks"
         ],
         "xaxis": "x",
         "y": [
          294912
         ],
         "yaxis": "y"
        },
        {
         "alignmentgroup": "True",
         "hovertemplate": "layer=blocks.0.filter.b2.(2, 4, 192)<br>block=%{x}<br>Log10_ParaM=%{y}<extra></extra>",
         "legendgroup": "blocks.0.filter.b2.(2, 4, 192)",
         "marker": {
          "color": "#FECB52",
          "pattern": {
           "shape": ""
          }
         },
         "name": "blocks.0.filter.b2.(2, 4, 192)",
         "offsetgroup": "blocks.0.filter.b2.(2, 4, 192)",
         "orientation": "v",
         "showlegend": true,
         "textposition": "auto",
         "type": "bar",
         "x": [
          "blocks"
         ],
         "xaxis": "x",
         "y": [
          1536
         ],
         "yaxis": "y"
        },
        {
         "alignmentgroup": "True",
         "hovertemplate": "layer=blocks.0.norm2.weight.(768,)<br>block=%{x}<br>Log10_ParaM=%{y}<extra></extra>",
         "legendgroup": "blocks.0.norm2.weight.(768,)",
         "marker": {
          "color": "#636efa",
          "pattern": {
           "shape": ""
          }
         },
         "name": "blocks.0.norm2.weight.(768,)",
         "offsetgroup": "blocks.0.norm2.weight.(768,)",
         "orientation": "v",
         "showlegend": true,
         "textposition": "auto",
         "type": "bar",
         "x": [
          "blocks"
         ],
         "xaxis": "x",
         "y": [
          768
         ],
         "yaxis": "y"
        },
        {
         "alignmentgroup": "True",
         "hovertemplate": "layer=blocks.0.norm2.bias.(768,)<br>block=%{x}<br>Log10_ParaM=%{y}<extra></extra>",
         "legendgroup": "blocks.0.norm2.bias.(768,)",
         "marker": {
          "color": "#EF553B",
          "pattern": {
           "shape": ""
          }
         },
         "name": "blocks.0.norm2.bias.(768,)",
         "offsetgroup": "blocks.0.norm2.bias.(768,)",
         "orientation": "v",
         "showlegend": true,
         "textposition": "auto",
         "type": "bar",
         "x": [
          "blocks"
         ],
         "xaxis": "x",
         "y": [
          768
         ],
         "yaxis": "y"
        },
        {
         "alignmentgroup": "True",
         "hovertemplate": "layer=blocks.0.mlp.fc1.weight.(3072, 768)<br>block=%{x}<br>Log10_ParaM=%{y}<extra></extra>",
         "legendgroup": "blocks.0.mlp.fc1.weight.(3072, 768)",
         "marker": {
          "color": "#00cc96",
          "pattern": {
           "shape": ""
          }
         },
         "name": "blocks.0.mlp.fc1.weight.(3072, 768)",
         "offsetgroup": "blocks.0.mlp.fc1.weight.(3072, 768)",
         "orientation": "v",
         "showlegend": true,
         "textposition": "auto",
         "type": "bar",
         "x": [
          "blocks"
         ],
         "xaxis": "x",
         "y": [
          2359296
         ],
         "yaxis": "y"
        },
        {
         "alignmentgroup": "True",
         "hovertemplate": "layer=blocks.0.mlp.fc1.bias.(3072,)<br>block=%{x}<br>Log10_ParaM=%{y}<extra></extra>",
         "legendgroup": "blocks.0.mlp.fc1.bias.(3072,)",
         "marker": {
          "color": "#ab63fa",
          "pattern": {
           "shape": ""
          }
         },
         "name": "blocks.0.mlp.fc1.bias.(3072,)",
         "offsetgroup": "blocks.0.mlp.fc1.bias.(3072,)",
         "orientation": "v",
         "showlegend": true,
         "textposition": "auto",
         "type": "bar",
         "x": [
          "blocks"
         ],
         "xaxis": "x",
         "y": [
          3072
         ],
         "yaxis": "y"
        },
        {
         "alignmentgroup": "True",
         "hovertemplate": "layer=blocks.1.norm1.weight.(768,)<br>block=%{x}<br>Log10_ParaM=%{y}<extra></extra>",
         "legendgroup": "blocks.1.norm1.weight.(768,)",
         "marker": {
          "color": "#FFA15A",
          "pattern": {
           "shape": ""
          }
         },
         "name": "blocks.1.norm1.weight.(768,)",
         "offsetgroup": "blocks.1.norm1.weight.(768,)",
         "orientation": "v",
         "showlegend": true,
         "textposition": "auto",
         "type": "bar",
         "x": [
          "blocks"
         ],
         "xaxis": "x",
         "y": [
          768
         ],
         "yaxis": "y"
        },
        {
         "alignmentgroup": "True",
         "hovertemplate": "layer=blocks.1.norm1.bias.(768,)<br>block=%{x}<br>Log10_ParaM=%{y}<extra></extra>",
         "legendgroup": "blocks.1.norm1.bias.(768,)",
         "marker": {
          "color": "#19d3f3",
          "pattern": {
           "shape": ""
          }
         },
         "name": "blocks.1.norm1.bias.(768,)",
         "offsetgroup": "blocks.1.norm1.bias.(768,)",
         "orientation": "v",
         "showlegend": true,
         "textposition": "auto",
         "type": "bar",
         "x": [
          "blocks"
         ],
         "xaxis": "x",
         "y": [
          768
         ],
         "yaxis": "y"
        },
        {
         "alignmentgroup": "True",
         "hovertemplate": "layer=blocks.1.filter.w1.(2, 4, 192, 192)<br>block=%{x}<br>Log10_ParaM=%{y}<extra></extra>",
         "legendgroup": "blocks.1.filter.w1.(2, 4, 192, 192)",
         "marker": {
          "color": "#FF6692",
          "pattern": {
           "shape": ""
          }
         },
         "name": "blocks.1.filter.w1.(2, 4, 192, 192)",
         "offsetgroup": "blocks.1.filter.w1.(2, 4, 192, 192)",
         "orientation": "v",
         "showlegend": true,
         "textposition": "auto",
         "type": "bar",
         "x": [
          "blocks"
         ],
         "xaxis": "x",
         "y": [
          294912
         ],
         "yaxis": "y"
        },
        {
         "alignmentgroup": "True",
         "hovertemplate": "layer=blocks.1.filter.b1.(2, 4, 192)<br>block=%{x}<br>Log10_ParaM=%{y}<extra></extra>",
         "legendgroup": "blocks.1.filter.b1.(2, 4, 192)",
         "marker": {
          "color": "#B6E880",
          "pattern": {
           "shape": ""
          }
         },
         "name": "blocks.1.filter.b1.(2, 4, 192)",
         "offsetgroup": "blocks.1.filter.b1.(2, 4, 192)",
         "orientation": "v",
         "showlegend": true,
         "textposition": "auto",
         "type": "bar",
         "x": [
          "blocks"
         ],
         "xaxis": "x",
         "y": [
          1536
         ],
         "yaxis": "y"
        },
        {
         "alignmentgroup": "True",
         "hovertemplate": "layer=blocks.1.filter.w2.(2, 4, 192, 192)<br>block=%{x}<br>Log10_ParaM=%{y}<extra></extra>",
         "legendgroup": "blocks.1.filter.w2.(2, 4, 192, 192)",
         "marker": {
          "color": "#FF97FF",
          "pattern": {
           "shape": ""
          }
         },
         "name": "blocks.1.filter.w2.(2, 4, 192, 192)",
         "offsetgroup": "blocks.1.filter.w2.(2, 4, 192, 192)",
         "orientation": "v",
         "showlegend": true,
         "textposition": "auto",
         "type": "bar",
         "x": [
          "blocks"
         ],
         "xaxis": "x",
         "y": [
          294912
         ],
         "yaxis": "y"
        },
        {
         "alignmentgroup": "True",
         "hovertemplate": "layer=blocks.1.filter.b2.(2, 4, 192)<br>block=%{x}<br>Log10_ParaM=%{y}<extra></extra>",
         "legendgroup": "blocks.1.filter.b2.(2, 4, 192)",
         "marker": {
          "color": "#FECB52",
          "pattern": {
           "shape": ""
          }
         },
         "name": "blocks.1.filter.b2.(2, 4, 192)",
         "offsetgroup": "blocks.1.filter.b2.(2, 4, 192)",
         "orientation": "v",
         "showlegend": true,
         "textposition": "auto",
         "type": "bar",
         "x": [
          "blocks"
         ],
         "xaxis": "x",
         "y": [
          1536
         ],
         "yaxis": "y"
        },
        {
         "alignmentgroup": "True",
         "hovertemplate": "layer=blocks.1.norm2.weight.(768,)<br>block=%{x}<br>Log10_ParaM=%{y}<extra></extra>",
         "legendgroup": "blocks.1.norm2.weight.(768,)",
         "marker": {
          "color": "#636efa",
          "pattern": {
           "shape": ""
          }
         },
         "name": "blocks.1.norm2.weight.(768,)",
         "offsetgroup": "blocks.1.norm2.weight.(768,)",
         "orientation": "v",
         "showlegend": true,
         "textposition": "auto",
         "type": "bar",
         "x": [
          "blocks"
         ],
         "xaxis": "x",
         "y": [
          768
         ],
         "yaxis": "y"
        },
        {
         "alignmentgroup": "True",
         "hovertemplate": "layer=blocks.1.norm2.bias.(768,)<br>block=%{x}<br>Log10_ParaM=%{y}<extra></extra>",
         "legendgroup": "blocks.1.norm2.bias.(768,)",
         "marker": {
          "color": "#EF553B",
          "pattern": {
           "shape": ""
          }
         },
         "name": "blocks.1.norm2.bias.(768,)",
         "offsetgroup": "blocks.1.norm2.bias.(768,)",
         "orientation": "v",
         "showlegend": true,
         "textposition": "auto",
         "type": "bar",
         "x": [
          "blocks"
         ],
         "xaxis": "x",
         "y": [
          768
         ],
         "yaxis": "y"
        },
        {
         "alignmentgroup": "True",
         "hovertemplate": "layer=blocks.1.mlp.fc1.weight.(3072, 768)<br>block=%{x}<br>Log10_ParaM=%{y}<extra></extra>",
         "legendgroup": "blocks.1.mlp.fc1.weight.(3072, 768)",
         "marker": {
          "color": "#00cc96",
          "pattern": {
           "shape": ""
          }
         },
         "name": "blocks.1.mlp.fc1.weight.(3072, 768)",
         "offsetgroup": "blocks.1.mlp.fc1.weight.(3072, 768)",
         "orientation": "v",
         "showlegend": true,
         "textposition": "auto",
         "type": "bar",
         "x": [
          "blocks"
         ],
         "xaxis": "x",
         "y": [
          2359296
         ],
         "yaxis": "y"
        },
        {
         "alignmentgroup": "True",
         "hovertemplate": "layer=blocks.1.mlp.fc1.bias.(3072,)<br>block=%{x}<br>Log10_ParaM=%{y}<extra></extra>",
         "legendgroup": "blocks.1.mlp.fc1.bias.(3072,)",
         "marker": {
          "color": "#ab63fa",
          "pattern": {
           "shape": ""
          }
         },
         "name": "blocks.1.mlp.fc1.bias.(3072,)",
         "offsetgroup": "blocks.1.mlp.fc1.bias.(3072,)",
         "orientation": "v",
         "showlegend": true,
         "textposition": "auto",
         "type": "bar",
         "x": [
          "blocks"
         ],
         "xaxis": "x",
         "y": [
          3072
         ],
         "yaxis": "y"
        },
        {
         "alignmentgroup": "True",
         "hovertemplate": "layer=blocks.2.norm1.weight.(768,)<br>block=%{x}<br>Log10_ParaM=%{y}<extra></extra>",
         "legendgroup": "blocks.2.norm1.weight.(768,)",
         "marker": {
          "color": "#FFA15A",
          "pattern": {
           "shape": ""
          }
         },
         "name": "blocks.2.norm1.weight.(768,)",
         "offsetgroup": "blocks.2.norm1.weight.(768,)",
         "orientation": "v",
         "showlegend": true,
         "textposition": "auto",
         "type": "bar",
         "x": [
          "blocks"
         ],
         "xaxis": "x",
         "y": [
          768
         ],
         "yaxis": "y"
        },
        {
         "alignmentgroup": "True",
         "hovertemplate": "layer=blocks.2.norm1.bias.(768,)<br>block=%{x}<br>Log10_ParaM=%{y}<extra></extra>",
         "legendgroup": "blocks.2.norm1.bias.(768,)",
         "marker": {
          "color": "#19d3f3",
          "pattern": {
           "shape": ""
          }
         },
         "name": "blocks.2.norm1.bias.(768,)",
         "offsetgroup": "blocks.2.norm1.bias.(768,)",
         "orientation": "v",
         "showlegend": true,
         "textposition": "auto",
         "type": "bar",
         "x": [
          "blocks"
         ],
         "xaxis": "x",
         "y": [
          768
         ],
         "yaxis": "y"
        },
        {
         "alignmentgroup": "True",
         "hovertemplate": "layer=blocks.2.filter.w1.(2, 4, 192, 192)<br>block=%{x}<br>Log10_ParaM=%{y}<extra></extra>",
         "legendgroup": "blocks.2.filter.w1.(2, 4, 192, 192)",
         "marker": {
          "color": "#FF6692",
          "pattern": {
           "shape": ""
          }
         },
         "name": "blocks.2.filter.w1.(2, 4, 192, 192)",
         "offsetgroup": "blocks.2.filter.w1.(2, 4, 192, 192)",
         "orientation": "v",
         "showlegend": true,
         "textposition": "auto",
         "type": "bar",
         "x": [
          "blocks"
         ],
         "xaxis": "x",
         "y": [
          294912
         ],
         "yaxis": "y"
        },
        {
         "alignmentgroup": "True",
         "hovertemplate": "layer=blocks.2.filter.b1.(2, 4, 192)<br>block=%{x}<br>Log10_ParaM=%{y}<extra></extra>",
         "legendgroup": "blocks.2.filter.b1.(2, 4, 192)",
         "marker": {
          "color": "#B6E880",
          "pattern": {
           "shape": ""
          }
         },
         "name": "blocks.2.filter.b1.(2, 4, 192)",
         "offsetgroup": "blocks.2.filter.b1.(2, 4, 192)",
         "orientation": "v",
         "showlegend": true,
         "textposition": "auto",
         "type": "bar",
         "x": [
          "blocks"
         ],
         "xaxis": "x",
         "y": [
          1536
         ],
         "yaxis": "y"
        },
        {
         "alignmentgroup": "True",
         "hovertemplate": "layer=blocks.2.filter.w2.(2, 4, 192, 192)<br>block=%{x}<br>Log10_ParaM=%{y}<extra></extra>",
         "legendgroup": "blocks.2.filter.w2.(2, 4, 192, 192)",
         "marker": {
          "color": "#FF97FF",
          "pattern": {
           "shape": ""
          }
         },
         "name": "blocks.2.filter.w2.(2, 4, 192, 192)",
         "offsetgroup": "blocks.2.filter.w2.(2, 4, 192, 192)",
         "orientation": "v",
         "showlegend": true,
         "textposition": "auto",
         "type": "bar",
         "x": [
          "blocks"
         ],
         "xaxis": "x",
         "y": [
          294912
         ],
         "yaxis": "y"
        },
        {
         "alignmentgroup": "True",
         "hovertemplate": "layer=blocks.2.filter.b2.(2, 4, 192)<br>block=%{x}<br>Log10_ParaM=%{y}<extra></extra>",
         "legendgroup": "blocks.2.filter.b2.(2, 4, 192)",
         "marker": {
          "color": "#FECB52",
          "pattern": {
           "shape": ""
          }
         },
         "name": "blocks.2.filter.b2.(2, 4, 192)",
         "offsetgroup": "blocks.2.filter.b2.(2, 4, 192)",
         "orientation": "v",
         "showlegend": true,
         "textposition": "auto",
         "type": "bar",
         "x": [
          "blocks"
         ],
         "xaxis": "x",
         "y": [
          1536
         ],
         "yaxis": "y"
        },
        {
         "alignmentgroup": "True",
         "hovertemplate": "layer=blocks.2.norm2.weight.(768,)<br>block=%{x}<br>Log10_ParaM=%{y}<extra></extra>",
         "legendgroup": "blocks.2.norm2.weight.(768,)",
         "marker": {
          "color": "#636efa",
          "pattern": {
           "shape": ""
          }
         },
         "name": "blocks.2.norm2.weight.(768,)",
         "offsetgroup": "blocks.2.norm2.weight.(768,)",
         "orientation": "v",
         "showlegend": true,
         "textposition": "auto",
         "type": "bar",
         "x": [
          "blocks"
         ],
         "xaxis": "x",
         "y": [
          768
         ],
         "yaxis": "y"
        },
        {
         "alignmentgroup": "True",
         "hovertemplate": "layer=blocks.2.norm2.bias.(768,)<br>block=%{x}<br>Log10_ParaM=%{y}<extra></extra>",
         "legendgroup": "blocks.2.norm2.bias.(768,)",
         "marker": {
          "color": "#EF553B",
          "pattern": {
           "shape": ""
          }
         },
         "name": "blocks.2.norm2.bias.(768,)",
         "offsetgroup": "blocks.2.norm2.bias.(768,)",
         "orientation": "v",
         "showlegend": true,
         "textposition": "auto",
         "type": "bar",
         "x": [
          "blocks"
         ],
         "xaxis": "x",
         "y": [
          768
         ],
         "yaxis": "y"
        },
        {
         "alignmentgroup": "True",
         "hovertemplate": "layer=blocks.2.mlp.fc1.weight.(3072, 768)<br>block=%{x}<br>Log10_ParaM=%{y}<extra></extra>",
         "legendgroup": "blocks.2.mlp.fc1.weight.(3072, 768)",
         "marker": {
          "color": "#00cc96",
          "pattern": {
           "shape": ""
          }
         },
         "name": "blocks.2.mlp.fc1.weight.(3072, 768)",
         "offsetgroup": "blocks.2.mlp.fc1.weight.(3072, 768)",
         "orientation": "v",
         "showlegend": true,
         "textposition": "auto",
         "type": "bar",
         "x": [
          "blocks"
         ],
         "xaxis": "x",
         "y": [
          2359296
         ],
         "yaxis": "y"
        },
        {
         "alignmentgroup": "True",
         "hovertemplate": "layer=blocks.2.mlp.fc1.bias.(3072,)<br>block=%{x}<br>Log10_ParaM=%{y}<extra></extra>",
         "legendgroup": "blocks.2.mlp.fc1.bias.(3072,)",
         "marker": {
          "color": "#ab63fa",
          "pattern": {
           "shape": ""
          }
         },
         "name": "blocks.2.mlp.fc1.bias.(3072,)",
         "offsetgroup": "blocks.2.mlp.fc1.bias.(3072,)",
         "orientation": "v",
         "showlegend": true,
         "textposition": "auto",
         "type": "bar",
         "x": [
          "blocks"
         ],
         "xaxis": "x",
         "y": [
          3072
         ],
         "yaxis": "y"
        },
        {
         "alignmentgroup": "True",
         "hovertemplate": "layer=blocks.3.norm1.weight.(768,)<br>block=%{x}<br>Log10_ParaM=%{y}<extra></extra>",
         "legendgroup": "blocks.3.norm1.weight.(768,)",
         "marker": {
          "color": "#FFA15A",
          "pattern": {
           "shape": ""
          }
         },
         "name": "blocks.3.norm1.weight.(768,)",
         "offsetgroup": "blocks.3.norm1.weight.(768,)",
         "orientation": "v",
         "showlegend": true,
         "textposition": "auto",
         "type": "bar",
         "x": [
          "blocks"
         ],
         "xaxis": "x",
         "y": [
          768
         ],
         "yaxis": "y"
        },
        {
         "alignmentgroup": "True",
         "hovertemplate": "layer=blocks.3.norm1.bias.(768,)<br>block=%{x}<br>Log10_ParaM=%{y}<extra></extra>",
         "legendgroup": "blocks.3.norm1.bias.(768,)",
         "marker": {
          "color": "#19d3f3",
          "pattern": {
           "shape": ""
          }
         },
         "name": "blocks.3.norm1.bias.(768,)",
         "offsetgroup": "blocks.3.norm1.bias.(768,)",
         "orientation": "v",
         "showlegend": true,
         "textposition": "auto",
         "type": "bar",
         "x": [
          "blocks"
         ],
         "xaxis": "x",
         "y": [
          768
         ],
         "yaxis": "y"
        },
        {
         "alignmentgroup": "True",
         "hovertemplate": "layer=blocks.3.filter.w1.(2, 4, 192, 192)<br>block=%{x}<br>Log10_ParaM=%{y}<extra></extra>",
         "legendgroup": "blocks.3.filter.w1.(2, 4, 192, 192)",
         "marker": {
          "color": "#FF6692",
          "pattern": {
           "shape": ""
          }
         },
         "name": "blocks.3.filter.w1.(2, 4, 192, 192)",
         "offsetgroup": "blocks.3.filter.w1.(2, 4, 192, 192)",
         "orientation": "v",
         "showlegend": true,
         "textposition": "auto",
         "type": "bar",
         "x": [
          "blocks"
         ],
         "xaxis": "x",
         "y": [
          294912
         ],
         "yaxis": "y"
        },
        {
         "alignmentgroup": "True",
         "hovertemplate": "layer=blocks.3.filter.b1.(2, 4, 192)<br>block=%{x}<br>Log10_ParaM=%{y}<extra></extra>",
         "legendgroup": "blocks.3.filter.b1.(2, 4, 192)",
         "marker": {
          "color": "#B6E880",
          "pattern": {
           "shape": ""
          }
         },
         "name": "blocks.3.filter.b1.(2, 4, 192)",
         "offsetgroup": "blocks.3.filter.b1.(2, 4, 192)",
         "orientation": "v",
         "showlegend": true,
         "textposition": "auto",
         "type": "bar",
         "x": [
          "blocks"
         ],
         "xaxis": "x",
         "y": [
          1536
         ],
         "yaxis": "y"
        },
        {
         "alignmentgroup": "True",
         "hovertemplate": "layer=blocks.3.filter.w2.(2, 4, 192, 192)<br>block=%{x}<br>Log10_ParaM=%{y}<extra></extra>",
         "legendgroup": "blocks.3.filter.w2.(2, 4, 192, 192)",
         "marker": {
          "color": "#FF97FF",
          "pattern": {
           "shape": ""
          }
         },
         "name": "blocks.3.filter.w2.(2, 4, 192, 192)",
         "offsetgroup": "blocks.3.filter.w2.(2, 4, 192, 192)",
         "orientation": "v",
         "showlegend": true,
         "textposition": "auto",
         "type": "bar",
         "x": [
          "blocks"
         ],
         "xaxis": "x",
         "y": [
          294912
         ],
         "yaxis": "y"
        },
        {
         "alignmentgroup": "True",
         "hovertemplate": "layer=blocks.3.filter.b2.(2, 4, 192)<br>block=%{x}<br>Log10_ParaM=%{y}<extra></extra>",
         "legendgroup": "blocks.3.filter.b2.(2, 4, 192)",
         "marker": {
          "color": "#FECB52",
          "pattern": {
           "shape": ""
          }
         },
         "name": "blocks.3.filter.b2.(2, 4, 192)",
         "offsetgroup": "blocks.3.filter.b2.(2, 4, 192)",
         "orientation": "v",
         "showlegend": true,
         "textposition": "auto",
         "type": "bar",
         "x": [
          "blocks"
         ],
         "xaxis": "x",
         "y": [
          1536
         ],
         "yaxis": "y"
        },
        {
         "alignmentgroup": "True",
         "hovertemplate": "layer=blocks.3.norm2.weight.(768,)<br>block=%{x}<br>Log10_ParaM=%{y}<extra></extra>",
         "legendgroup": "blocks.3.norm2.weight.(768,)",
         "marker": {
          "color": "#636efa",
          "pattern": {
           "shape": ""
          }
         },
         "name": "blocks.3.norm2.weight.(768,)",
         "offsetgroup": "blocks.3.norm2.weight.(768,)",
         "orientation": "v",
         "showlegend": true,
         "textposition": "auto",
         "type": "bar",
         "x": [
          "blocks"
         ],
         "xaxis": "x",
         "y": [
          768
         ],
         "yaxis": "y"
        },
        {
         "alignmentgroup": "True",
         "hovertemplate": "layer=blocks.3.norm2.bias.(768,)<br>block=%{x}<br>Log10_ParaM=%{y}<extra></extra>",
         "legendgroup": "blocks.3.norm2.bias.(768,)",
         "marker": {
          "color": "#EF553B",
          "pattern": {
           "shape": ""
          }
         },
         "name": "blocks.3.norm2.bias.(768,)",
         "offsetgroup": "blocks.3.norm2.bias.(768,)",
         "orientation": "v",
         "showlegend": true,
         "textposition": "auto",
         "type": "bar",
         "x": [
          "blocks"
         ],
         "xaxis": "x",
         "y": [
          768
         ],
         "yaxis": "y"
        },
        {
         "alignmentgroup": "True",
         "hovertemplate": "layer=blocks.3.mlp.fc1.weight.(3072, 768)<br>block=%{x}<br>Log10_ParaM=%{y}<extra></extra>",
         "legendgroup": "blocks.3.mlp.fc1.weight.(3072, 768)",
         "marker": {
          "color": "#00cc96",
          "pattern": {
           "shape": ""
          }
         },
         "name": "blocks.3.mlp.fc1.weight.(3072, 768)",
         "offsetgroup": "blocks.3.mlp.fc1.weight.(3072, 768)",
         "orientation": "v",
         "showlegend": true,
         "textposition": "auto",
         "type": "bar",
         "x": [
          "blocks"
         ],
         "xaxis": "x",
         "y": [
          2359296
         ],
         "yaxis": "y"
        },
        {
         "alignmentgroup": "True",
         "hovertemplate": "layer=blocks.3.mlp.fc1.bias.(3072,)<br>block=%{x}<br>Log10_ParaM=%{y}<extra></extra>",
         "legendgroup": "blocks.3.mlp.fc1.bias.(3072,)",
         "marker": {
          "color": "#ab63fa",
          "pattern": {
           "shape": ""
          }
         },
         "name": "blocks.3.mlp.fc1.bias.(3072,)",
         "offsetgroup": "blocks.3.mlp.fc1.bias.(3072,)",
         "orientation": "v",
         "showlegend": true,
         "textposition": "auto",
         "type": "bar",
         "x": [
          "blocks"
         ],
         "xaxis": "x",
         "y": [
          3072
         ],
         "yaxis": "y"
        },
        {
         "alignmentgroup": "True",
         "hovertemplate": "layer=blocks.4.norm1.weight.(768,)<br>block=%{x}<br>Log10_ParaM=%{y}<extra></extra>",
         "legendgroup": "blocks.4.norm1.weight.(768,)",
         "marker": {
          "color": "#FFA15A",
          "pattern": {
           "shape": ""
          }
         },
         "name": "blocks.4.norm1.weight.(768,)",
         "offsetgroup": "blocks.4.norm1.weight.(768,)",
         "orientation": "v",
         "showlegend": true,
         "textposition": "auto",
         "type": "bar",
         "x": [
          "blocks"
         ],
         "xaxis": "x",
         "y": [
          768
         ],
         "yaxis": "y"
        },
        {
         "alignmentgroup": "True",
         "hovertemplate": "layer=blocks.4.norm1.bias.(768,)<br>block=%{x}<br>Log10_ParaM=%{y}<extra></extra>",
         "legendgroup": "blocks.4.norm1.bias.(768,)",
         "marker": {
          "color": "#19d3f3",
          "pattern": {
           "shape": ""
          }
         },
         "name": "blocks.4.norm1.bias.(768,)",
         "offsetgroup": "blocks.4.norm1.bias.(768,)",
         "orientation": "v",
         "showlegend": true,
         "textposition": "auto",
         "type": "bar",
         "x": [
          "blocks"
         ],
         "xaxis": "x",
         "y": [
          768
         ],
         "yaxis": "y"
        },
        {
         "alignmentgroup": "True",
         "hovertemplate": "layer=blocks.4.filter.w1.(2, 4, 192, 192)<br>block=%{x}<br>Log10_ParaM=%{y}<extra></extra>",
         "legendgroup": "blocks.4.filter.w1.(2, 4, 192, 192)",
         "marker": {
          "color": "#FF6692",
          "pattern": {
           "shape": ""
          }
         },
         "name": "blocks.4.filter.w1.(2, 4, 192, 192)",
         "offsetgroup": "blocks.4.filter.w1.(2, 4, 192, 192)",
         "orientation": "v",
         "showlegend": true,
         "textposition": "auto",
         "type": "bar",
         "x": [
          "blocks"
         ],
         "xaxis": "x",
         "y": [
          294912
         ],
         "yaxis": "y"
        },
        {
         "alignmentgroup": "True",
         "hovertemplate": "layer=blocks.4.filter.b1.(2, 4, 192)<br>block=%{x}<br>Log10_ParaM=%{y}<extra></extra>",
         "legendgroup": "blocks.4.filter.b1.(2, 4, 192)",
         "marker": {
          "color": "#B6E880",
          "pattern": {
           "shape": ""
          }
         },
         "name": "blocks.4.filter.b1.(2, 4, 192)",
         "offsetgroup": "blocks.4.filter.b1.(2, 4, 192)",
         "orientation": "v",
         "showlegend": true,
         "textposition": "auto",
         "type": "bar",
         "x": [
          "blocks"
         ],
         "xaxis": "x",
         "y": [
          1536
         ],
         "yaxis": "y"
        },
        {
         "alignmentgroup": "True",
         "hovertemplate": "layer=blocks.4.filter.w2.(2, 4, 192, 192)<br>block=%{x}<br>Log10_ParaM=%{y}<extra></extra>",
         "legendgroup": "blocks.4.filter.w2.(2, 4, 192, 192)",
         "marker": {
          "color": "#FF97FF",
          "pattern": {
           "shape": ""
          }
         },
         "name": "blocks.4.filter.w2.(2, 4, 192, 192)",
         "offsetgroup": "blocks.4.filter.w2.(2, 4, 192, 192)",
         "orientation": "v",
         "showlegend": true,
         "textposition": "auto",
         "type": "bar",
         "x": [
          "blocks"
         ],
         "xaxis": "x",
         "y": [
          294912
         ],
         "yaxis": "y"
        },
        {
         "alignmentgroup": "True",
         "hovertemplate": "layer=blocks.4.filter.b2.(2, 4, 192)<br>block=%{x}<br>Log10_ParaM=%{y}<extra></extra>",
         "legendgroup": "blocks.4.filter.b2.(2, 4, 192)",
         "marker": {
          "color": "#FECB52",
          "pattern": {
           "shape": ""
          }
         },
         "name": "blocks.4.filter.b2.(2, 4, 192)",
         "offsetgroup": "blocks.4.filter.b2.(2, 4, 192)",
         "orientation": "v",
         "showlegend": true,
         "textposition": "auto",
         "type": "bar",
         "x": [
          "blocks"
         ],
         "xaxis": "x",
         "y": [
          1536
         ],
         "yaxis": "y"
        },
        {
         "alignmentgroup": "True",
         "hovertemplate": "layer=blocks.4.norm2.weight.(768,)<br>block=%{x}<br>Log10_ParaM=%{y}<extra></extra>",
         "legendgroup": "blocks.4.norm2.weight.(768,)",
         "marker": {
          "color": "#636efa",
          "pattern": {
           "shape": ""
          }
         },
         "name": "blocks.4.norm2.weight.(768,)",
         "offsetgroup": "blocks.4.norm2.weight.(768,)",
         "orientation": "v",
         "showlegend": true,
         "textposition": "auto",
         "type": "bar",
         "x": [
          "blocks"
         ],
         "xaxis": "x",
         "y": [
          768
         ],
         "yaxis": "y"
        },
        {
         "alignmentgroup": "True",
         "hovertemplate": "layer=blocks.4.norm2.bias.(768,)<br>block=%{x}<br>Log10_ParaM=%{y}<extra></extra>",
         "legendgroup": "blocks.4.norm2.bias.(768,)",
         "marker": {
          "color": "#EF553B",
          "pattern": {
           "shape": ""
          }
         },
         "name": "blocks.4.norm2.bias.(768,)",
         "offsetgroup": "blocks.4.norm2.bias.(768,)",
         "orientation": "v",
         "showlegend": true,
         "textposition": "auto",
         "type": "bar",
         "x": [
          "blocks"
         ],
         "xaxis": "x",
         "y": [
          768
         ],
         "yaxis": "y"
        },
        {
         "alignmentgroup": "True",
         "hovertemplate": "layer=blocks.4.mlp.fc1.weight.(3072, 768)<br>block=%{x}<br>Log10_ParaM=%{y}<extra></extra>",
         "legendgroup": "blocks.4.mlp.fc1.weight.(3072, 768)",
         "marker": {
          "color": "#00cc96",
          "pattern": {
           "shape": ""
          }
         },
         "name": "blocks.4.mlp.fc1.weight.(3072, 768)",
         "offsetgroup": "blocks.4.mlp.fc1.weight.(3072, 768)",
         "orientation": "v",
         "showlegend": true,
         "textposition": "auto",
         "type": "bar",
         "x": [
          "blocks"
         ],
         "xaxis": "x",
         "y": [
          2359296
         ],
         "yaxis": "y"
        },
        {
         "alignmentgroup": "True",
         "hovertemplate": "layer=blocks.4.mlp.fc1.bias.(3072,)<br>block=%{x}<br>Log10_ParaM=%{y}<extra></extra>",
         "legendgroup": "blocks.4.mlp.fc1.bias.(3072,)",
         "marker": {
          "color": "#ab63fa",
          "pattern": {
           "shape": ""
          }
         },
         "name": "blocks.4.mlp.fc1.bias.(3072,)",
         "offsetgroup": "blocks.4.mlp.fc1.bias.(3072,)",
         "orientation": "v",
         "showlegend": true,
         "textposition": "auto",
         "type": "bar",
         "x": [
          "blocks"
         ],
         "xaxis": "x",
         "y": [
          3072
         ],
         "yaxis": "y"
        },
        {
         "alignmentgroup": "True",
         "hovertemplate": "layer=blocks.5.norm1.weight.(768,)<br>block=%{x}<br>Log10_ParaM=%{y}<extra></extra>",
         "legendgroup": "blocks.5.norm1.weight.(768,)",
         "marker": {
          "color": "#FFA15A",
          "pattern": {
           "shape": ""
          }
         },
         "name": "blocks.5.norm1.weight.(768,)",
         "offsetgroup": "blocks.5.norm1.weight.(768,)",
         "orientation": "v",
         "showlegend": true,
         "textposition": "auto",
         "type": "bar",
         "x": [
          "blocks"
         ],
         "xaxis": "x",
         "y": [
          768
         ],
         "yaxis": "y"
        },
        {
         "alignmentgroup": "True",
         "hovertemplate": "layer=blocks.5.norm1.bias.(768,)<br>block=%{x}<br>Log10_ParaM=%{y}<extra></extra>",
         "legendgroup": "blocks.5.norm1.bias.(768,)",
         "marker": {
          "color": "#19d3f3",
          "pattern": {
           "shape": ""
          }
         },
         "name": "blocks.5.norm1.bias.(768,)",
         "offsetgroup": "blocks.5.norm1.bias.(768,)",
         "orientation": "v",
         "showlegend": true,
         "textposition": "auto",
         "type": "bar",
         "x": [
          "blocks"
         ],
         "xaxis": "x",
         "y": [
          768
         ],
         "yaxis": "y"
        },
        {
         "alignmentgroup": "True",
         "hovertemplate": "layer=blocks.5.filter.w1.(2, 4, 192, 192)<br>block=%{x}<br>Log10_ParaM=%{y}<extra></extra>",
         "legendgroup": "blocks.5.filter.w1.(2, 4, 192, 192)",
         "marker": {
          "color": "#FF6692",
          "pattern": {
           "shape": ""
          }
         },
         "name": "blocks.5.filter.w1.(2, 4, 192, 192)",
         "offsetgroup": "blocks.5.filter.w1.(2, 4, 192, 192)",
         "orientation": "v",
         "showlegend": true,
         "textposition": "auto",
         "type": "bar",
         "x": [
          "blocks"
         ],
         "xaxis": "x",
         "y": [
          294912
         ],
         "yaxis": "y"
        },
        {
         "alignmentgroup": "True",
         "hovertemplate": "layer=blocks.5.filter.b1.(2, 4, 192)<br>block=%{x}<br>Log10_ParaM=%{y}<extra></extra>",
         "legendgroup": "blocks.5.filter.b1.(2, 4, 192)",
         "marker": {
          "color": "#B6E880",
          "pattern": {
           "shape": ""
          }
         },
         "name": "blocks.5.filter.b1.(2, 4, 192)",
         "offsetgroup": "blocks.5.filter.b1.(2, 4, 192)",
         "orientation": "v",
         "showlegend": true,
         "textposition": "auto",
         "type": "bar",
         "x": [
          "blocks"
         ],
         "xaxis": "x",
         "y": [
          1536
         ],
         "yaxis": "y"
        },
        {
         "alignmentgroup": "True",
         "hovertemplate": "layer=blocks.5.filter.w2.(2, 4, 192, 192)<br>block=%{x}<br>Log10_ParaM=%{y}<extra></extra>",
         "legendgroup": "blocks.5.filter.w2.(2, 4, 192, 192)",
         "marker": {
          "color": "#FF97FF",
          "pattern": {
           "shape": ""
          }
         },
         "name": "blocks.5.filter.w2.(2, 4, 192, 192)",
         "offsetgroup": "blocks.5.filter.w2.(2, 4, 192, 192)",
         "orientation": "v",
         "showlegend": true,
         "textposition": "auto",
         "type": "bar",
         "x": [
          "blocks"
         ],
         "xaxis": "x",
         "y": [
          294912
         ],
         "yaxis": "y"
        },
        {
         "alignmentgroup": "True",
         "hovertemplate": "layer=blocks.5.filter.b2.(2, 4, 192)<br>block=%{x}<br>Log10_ParaM=%{y}<extra></extra>",
         "legendgroup": "blocks.5.filter.b2.(2, 4, 192)",
         "marker": {
          "color": "#FECB52",
          "pattern": {
           "shape": ""
          }
         },
         "name": "blocks.5.filter.b2.(2, 4, 192)",
         "offsetgroup": "blocks.5.filter.b2.(2, 4, 192)",
         "orientation": "v",
         "showlegend": true,
         "textposition": "auto",
         "type": "bar",
         "x": [
          "blocks"
         ],
         "xaxis": "x",
         "y": [
          1536
         ],
         "yaxis": "y"
        },
        {
         "alignmentgroup": "True",
         "hovertemplate": "layer=blocks.5.norm2.weight.(768,)<br>block=%{x}<br>Log10_ParaM=%{y}<extra></extra>",
         "legendgroup": "blocks.5.norm2.weight.(768,)",
         "marker": {
          "color": "#636efa",
          "pattern": {
           "shape": ""
          }
         },
         "name": "blocks.5.norm2.weight.(768,)",
         "offsetgroup": "blocks.5.norm2.weight.(768,)",
         "orientation": "v",
         "showlegend": true,
         "textposition": "auto",
         "type": "bar",
         "x": [
          "blocks"
         ],
         "xaxis": "x",
         "y": [
          768
         ],
         "yaxis": "y"
        },
        {
         "alignmentgroup": "True",
         "hovertemplate": "layer=blocks.5.norm2.bias.(768,)<br>block=%{x}<br>Log10_ParaM=%{y}<extra></extra>",
         "legendgroup": "blocks.5.norm2.bias.(768,)",
         "marker": {
          "color": "#EF553B",
          "pattern": {
           "shape": ""
          }
         },
         "name": "blocks.5.norm2.bias.(768,)",
         "offsetgroup": "blocks.5.norm2.bias.(768,)",
         "orientation": "v",
         "showlegend": true,
         "textposition": "auto",
         "type": "bar",
         "x": [
          "blocks"
         ],
         "xaxis": "x",
         "y": [
          768
         ],
         "yaxis": "y"
        },
        {
         "alignmentgroup": "True",
         "hovertemplate": "layer=blocks.5.mlp.fc1.weight.(3072, 768)<br>block=%{x}<br>Log10_ParaM=%{y}<extra></extra>",
         "legendgroup": "blocks.5.mlp.fc1.weight.(3072, 768)",
         "marker": {
          "color": "#00cc96",
          "pattern": {
           "shape": ""
          }
         },
         "name": "blocks.5.mlp.fc1.weight.(3072, 768)",
         "offsetgroup": "blocks.5.mlp.fc1.weight.(3072, 768)",
         "orientation": "v",
         "showlegend": true,
         "textposition": "auto",
         "type": "bar",
         "x": [
          "blocks"
         ],
         "xaxis": "x",
         "y": [
          2359296
         ],
         "yaxis": "y"
        },
        {
         "alignmentgroup": "True",
         "hovertemplate": "layer=blocks.5.mlp.fc1.bias.(3072,)<br>block=%{x}<br>Log10_ParaM=%{y}<extra></extra>",
         "legendgroup": "blocks.5.mlp.fc1.bias.(3072,)",
         "marker": {
          "color": "#ab63fa",
          "pattern": {
           "shape": ""
          }
         },
         "name": "blocks.5.mlp.fc1.bias.(3072,)",
         "offsetgroup": "blocks.5.mlp.fc1.bias.(3072,)",
         "orientation": "v",
         "showlegend": true,
         "textposition": "auto",
         "type": "bar",
         "x": [
          "blocks"
         ],
         "xaxis": "x",
         "y": [
          3072
         ],
         "yaxis": "y"
        },
        {
         "alignmentgroup": "True",
         "hovertemplate": "layer=blocks.6.norm1.weight.(768,)<br>block=%{x}<br>Log10_ParaM=%{y}<extra></extra>",
         "legendgroup": "blocks.6.norm1.weight.(768,)",
         "marker": {
          "color": "#FFA15A",
          "pattern": {
           "shape": ""
          }
         },
         "name": "blocks.6.norm1.weight.(768,)",
         "offsetgroup": "blocks.6.norm1.weight.(768,)",
         "orientation": "v",
         "showlegend": true,
         "textposition": "auto",
         "type": "bar",
         "x": [
          "blocks"
         ],
         "xaxis": "x",
         "y": [
          768
         ],
         "yaxis": "y"
        },
        {
         "alignmentgroup": "True",
         "hovertemplate": "layer=blocks.6.norm1.bias.(768,)<br>block=%{x}<br>Log10_ParaM=%{y}<extra></extra>",
         "legendgroup": "blocks.6.norm1.bias.(768,)",
         "marker": {
          "color": "#19d3f3",
          "pattern": {
           "shape": ""
          }
         },
         "name": "blocks.6.norm1.bias.(768,)",
         "offsetgroup": "blocks.6.norm1.bias.(768,)",
         "orientation": "v",
         "showlegend": true,
         "textposition": "auto",
         "type": "bar",
         "x": [
          "blocks"
         ],
         "xaxis": "x",
         "y": [
          768
         ],
         "yaxis": "y"
        },
        {
         "alignmentgroup": "True",
         "hovertemplate": "layer=blocks.6.filter.w1.(2, 4, 192, 192)<br>block=%{x}<br>Log10_ParaM=%{y}<extra></extra>",
         "legendgroup": "blocks.6.filter.w1.(2, 4, 192, 192)",
         "marker": {
          "color": "#FF6692",
          "pattern": {
           "shape": ""
          }
         },
         "name": "blocks.6.filter.w1.(2, 4, 192, 192)",
         "offsetgroup": "blocks.6.filter.w1.(2, 4, 192, 192)",
         "orientation": "v",
         "showlegend": true,
         "textposition": "auto",
         "type": "bar",
         "x": [
          "blocks"
         ],
         "xaxis": "x",
         "y": [
          294912
         ],
         "yaxis": "y"
        },
        {
         "alignmentgroup": "True",
         "hovertemplate": "layer=blocks.6.filter.b1.(2, 4, 192)<br>block=%{x}<br>Log10_ParaM=%{y}<extra></extra>",
         "legendgroup": "blocks.6.filter.b1.(2, 4, 192)",
         "marker": {
          "color": "#B6E880",
          "pattern": {
           "shape": ""
          }
         },
         "name": "blocks.6.filter.b1.(2, 4, 192)",
         "offsetgroup": "blocks.6.filter.b1.(2, 4, 192)",
         "orientation": "v",
         "showlegend": true,
         "textposition": "auto",
         "type": "bar",
         "x": [
          "blocks"
         ],
         "xaxis": "x",
         "y": [
          1536
         ],
         "yaxis": "y"
        },
        {
         "alignmentgroup": "True",
         "hovertemplate": "layer=blocks.6.filter.w2.(2, 4, 192, 192)<br>block=%{x}<br>Log10_ParaM=%{y}<extra></extra>",
         "legendgroup": "blocks.6.filter.w2.(2, 4, 192, 192)",
         "marker": {
          "color": "#FF97FF",
          "pattern": {
           "shape": ""
          }
         },
         "name": "blocks.6.filter.w2.(2, 4, 192, 192)",
         "offsetgroup": "blocks.6.filter.w2.(2, 4, 192, 192)",
         "orientation": "v",
         "showlegend": true,
         "textposition": "auto",
         "type": "bar",
         "x": [
          "blocks"
         ],
         "xaxis": "x",
         "y": [
          294912
         ],
         "yaxis": "y"
        },
        {
         "alignmentgroup": "True",
         "hovertemplate": "layer=blocks.6.filter.b2.(2, 4, 192)<br>block=%{x}<br>Log10_ParaM=%{y}<extra></extra>",
         "legendgroup": "blocks.6.filter.b2.(2, 4, 192)",
         "marker": {
          "color": "#FECB52",
          "pattern": {
           "shape": ""
          }
         },
         "name": "blocks.6.filter.b2.(2, 4, 192)",
         "offsetgroup": "blocks.6.filter.b2.(2, 4, 192)",
         "orientation": "v",
         "showlegend": true,
         "textposition": "auto",
         "type": "bar",
         "x": [
          "blocks"
         ],
         "xaxis": "x",
         "y": [
          1536
         ],
         "yaxis": "y"
        },
        {
         "alignmentgroup": "True",
         "hovertemplate": "layer=blocks.6.norm2.weight.(768,)<br>block=%{x}<br>Log10_ParaM=%{y}<extra></extra>",
         "legendgroup": "blocks.6.norm2.weight.(768,)",
         "marker": {
          "color": "#636efa",
          "pattern": {
           "shape": ""
          }
         },
         "name": "blocks.6.norm2.weight.(768,)",
         "offsetgroup": "blocks.6.norm2.weight.(768,)",
         "orientation": "v",
         "showlegend": true,
         "textposition": "auto",
         "type": "bar",
         "x": [
          "blocks"
         ],
         "xaxis": "x",
         "y": [
          768
         ],
         "yaxis": "y"
        },
        {
         "alignmentgroup": "True",
         "hovertemplate": "layer=blocks.6.norm2.bias.(768,)<br>block=%{x}<br>Log10_ParaM=%{y}<extra></extra>",
         "legendgroup": "blocks.6.norm2.bias.(768,)",
         "marker": {
          "color": "#EF553B",
          "pattern": {
           "shape": ""
          }
         },
         "name": "blocks.6.norm2.bias.(768,)",
         "offsetgroup": "blocks.6.norm2.bias.(768,)",
         "orientation": "v",
         "showlegend": true,
         "textposition": "auto",
         "type": "bar",
         "x": [
          "blocks"
         ],
         "xaxis": "x",
         "y": [
          768
         ],
         "yaxis": "y"
        },
        {
         "alignmentgroup": "True",
         "hovertemplate": "layer=blocks.6.mlp.fc1.weight.(3072, 768)<br>block=%{x}<br>Log10_ParaM=%{y}<extra></extra>",
         "legendgroup": "blocks.6.mlp.fc1.weight.(3072, 768)",
         "marker": {
          "color": "#00cc96",
          "pattern": {
           "shape": ""
          }
         },
         "name": "blocks.6.mlp.fc1.weight.(3072, 768)",
         "offsetgroup": "blocks.6.mlp.fc1.weight.(3072, 768)",
         "orientation": "v",
         "showlegend": true,
         "textposition": "auto",
         "type": "bar",
         "x": [
          "blocks"
         ],
         "xaxis": "x",
         "y": [
          2359296
         ],
         "yaxis": "y"
        },
        {
         "alignmentgroup": "True",
         "hovertemplate": "layer=blocks.6.mlp.fc1.bias.(3072,)<br>block=%{x}<br>Log10_ParaM=%{y}<extra></extra>",
         "legendgroup": "blocks.6.mlp.fc1.bias.(3072,)",
         "marker": {
          "color": "#ab63fa",
          "pattern": {
           "shape": ""
          }
         },
         "name": "blocks.6.mlp.fc1.bias.(3072,)",
         "offsetgroup": "blocks.6.mlp.fc1.bias.(3072,)",
         "orientation": "v",
         "showlegend": true,
         "textposition": "auto",
         "type": "bar",
         "x": [
          "blocks"
         ],
         "xaxis": "x",
         "y": [
          3072
         ],
         "yaxis": "y"
        },
        {
         "alignmentgroup": "True",
         "hovertemplate": "layer=blocks.7.norm1.weight.(768,)<br>block=%{x}<br>Log10_ParaM=%{y}<extra></extra>",
         "legendgroup": "blocks.7.norm1.weight.(768,)",
         "marker": {
          "color": "#FFA15A",
          "pattern": {
           "shape": ""
          }
         },
         "name": "blocks.7.norm1.weight.(768,)",
         "offsetgroup": "blocks.7.norm1.weight.(768,)",
         "orientation": "v",
         "showlegend": true,
         "textposition": "auto",
         "type": "bar",
         "x": [
          "blocks"
         ],
         "xaxis": "x",
         "y": [
          768
         ],
         "yaxis": "y"
        },
        {
         "alignmentgroup": "True",
         "hovertemplate": "layer=blocks.7.norm1.bias.(768,)<br>block=%{x}<br>Log10_ParaM=%{y}<extra></extra>",
         "legendgroup": "blocks.7.norm1.bias.(768,)",
         "marker": {
          "color": "#19d3f3",
          "pattern": {
           "shape": ""
          }
         },
         "name": "blocks.7.norm1.bias.(768,)",
         "offsetgroup": "blocks.7.norm1.bias.(768,)",
         "orientation": "v",
         "showlegend": true,
         "textposition": "auto",
         "type": "bar",
         "x": [
          "blocks"
         ],
         "xaxis": "x",
         "y": [
          768
         ],
         "yaxis": "y"
        },
        {
         "alignmentgroup": "True",
         "hovertemplate": "layer=blocks.7.filter.w1.(2, 4, 192, 192)<br>block=%{x}<br>Log10_ParaM=%{y}<extra></extra>",
         "legendgroup": "blocks.7.filter.w1.(2, 4, 192, 192)",
         "marker": {
          "color": "#FF6692",
          "pattern": {
           "shape": ""
          }
         },
         "name": "blocks.7.filter.w1.(2, 4, 192, 192)",
         "offsetgroup": "blocks.7.filter.w1.(2, 4, 192, 192)",
         "orientation": "v",
         "showlegend": true,
         "textposition": "auto",
         "type": "bar",
         "x": [
          "blocks"
         ],
         "xaxis": "x",
         "y": [
          294912
         ],
         "yaxis": "y"
        },
        {
         "alignmentgroup": "True",
         "hovertemplate": "layer=blocks.7.filter.b1.(2, 4, 192)<br>block=%{x}<br>Log10_ParaM=%{y}<extra></extra>",
         "legendgroup": "blocks.7.filter.b1.(2, 4, 192)",
         "marker": {
          "color": "#B6E880",
          "pattern": {
           "shape": ""
          }
         },
         "name": "blocks.7.filter.b1.(2, 4, 192)",
         "offsetgroup": "blocks.7.filter.b1.(2, 4, 192)",
         "orientation": "v",
         "showlegend": true,
         "textposition": "auto",
         "type": "bar",
         "x": [
          "blocks"
         ],
         "xaxis": "x",
         "y": [
          1536
         ],
         "yaxis": "y"
        },
        {
         "alignmentgroup": "True",
         "hovertemplate": "layer=blocks.7.filter.w2.(2, 4, 192, 192)<br>block=%{x}<br>Log10_ParaM=%{y}<extra></extra>",
         "legendgroup": "blocks.7.filter.w2.(2, 4, 192, 192)",
         "marker": {
          "color": "#FF97FF",
          "pattern": {
           "shape": ""
          }
         },
         "name": "blocks.7.filter.w2.(2, 4, 192, 192)",
         "offsetgroup": "blocks.7.filter.w2.(2, 4, 192, 192)",
         "orientation": "v",
         "showlegend": true,
         "textposition": "auto",
         "type": "bar",
         "x": [
          "blocks"
         ],
         "xaxis": "x",
         "y": [
          294912
         ],
         "yaxis": "y"
        },
        {
         "alignmentgroup": "True",
         "hovertemplate": "layer=blocks.7.filter.b2.(2, 4, 192)<br>block=%{x}<br>Log10_ParaM=%{y}<extra></extra>",
         "legendgroup": "blocks.7.filter.b2.(2, 4, 192)",
         "marker": {
          "color": "#FECB52",
          "pattern": {
           "shape": ""
          }
         },
         "name": "blocks.7.filter.b2.(2, 4, 192)",
         "offsetgroup": "blocks.7.filter.b2.(2, 4, 192)",
         "orientation": "v",
         "showlegend": true,
         "textposition": "auto",
         "type": "bar",
         "x": [
          "blocks"
         ],
         "xaxis": "x",
         "y": [
          1536
         ],
         "yaxis": "y"
        },
        {
         "alignmentgroup": "True",
         "hovertemplate": "layer=blocks.7.norm2.weight.(768,)<br>block=%{x}<br>Log10_ParaM=%{y}<extra></extra>",
         "legendgroup": "blocks.7.norm2.weight.(768,)",
         "marker": {
          "color": "#636efa",
          "pattern": {
           "shape": ""
          }
         },
         "name": "blocks.7.norm2.weight.(768,)",
         "offsetgroup": "blocks.7.norm2.weight.(768,)",
         "orientation": "v",
         "showlegend": true,
         "textposition": "auto",
         "type": "bar",
         "x": [
          "blocks"
         ],
         "xaxis": "x",
         "y": [
          768
         ],
         "yaxis": "y"
        },
        {
         "alignmentgroup": "True",
         "hovertemplate": "layer=blocks.7.norm2.bias.(768,)<br>block=%{x}<br>Log10_ParaM=%{y}<extra></extra>",
         "legendgroup": "blocks.7.norm2.bias.(768,)",
         "marker": {
          "color": "#EF553B",
          "pattern": {
           "shape": ""
          }
         },
         "name": "blocks.7.norm2.bias.(768,)",
         "offsetgroup": "blocks.7.norm2.bias.(768,)",
         "orientation": "v",
         "showlegend": true,
         "textposition": "auto",
         "type": "bar",
         "x": [
          "blocks"
         ],
         "xaxis": "x",
         "y": [
          768
         ],
         "yaxis": "y"
        },
        {
         "alignmentgroup": "True",
         "hovertemplate": "layer=blocks.7.mlp.fc1.weight.(3072, 768)<br>block=%{x}<br>Log10_ParaM=%{y}<extra></extra>",
         "legendgroup": "blocks.7.mlp.fc1.weight.(3072, 768)",
         "marker": {
          "color": "#00cc96",
          "pattern": {
           "shape": ""
          }
         },
         "name": "blocks.7.mlp.fc1.weight.(3072, 768)",
         "offsetgroup": "blocks.7.mlp.fc1.weight.(3072, 768)",
         "orientation": "v",
         "showlegend": true,
         "textposition": "auto",
         "type": "bar",
         "x": [
          "blocks"
         ],
         "xaxis": "x",
         "y": [
          2359296
         ],
         "yaxis": "y"
        },
        {
         "alignmentgroup": "True",
         "hovertemplate": "layer=blocks.7.mlp.fc1.bias.(3072,)<br>block=%{x}<br>Log10_ParaM=%{y}<extra></extra>",
         "legendgroup": "blocks.7.mlp.fc1.bias.(3072,)",
         "marker": {
          "color": "#ab63fa",
          "pattern": {
           "shape": ""
          }
         },
         "name": "blocks.7.mlp.fc1.bias.(3072,)",
         "offsetgroup": "blocks.7.mlp.fc1.bias.(3072,)",
         "orientation": "v",
         "showlegend": true,
         "textposition": "auto",
         "type": "bar",
         "x": [
          "blocks"
         ],
         "xaxis": "x",
         "y": [
          3072
         ],
         "yaxis": "y"
        },
        {
         "alignmentgroup": "True",
         "hovertemplate": "layer=blocks.8.norm1.weight.(768,)<br>block=%{x}<br>Log10_ParaM=%{y}<extra></extra>",
         "legendgroup": "blocks.8.norm1.weight.(768,)",
         "marker": {
          "color": "#FFA15A",
          "pattern": {
           "shape": ""
          }
         },
         "name": "blocks.8.norm1.weight.(768,)",
         "offsetgroup": "blocks.8.norm1.weight.(768,)",
         "orientation": "v",
         "showlegend": true,
         "textposition": "auto",
         "type": "bar",
         "x": [
          "blocks"
         ],
         "xaxis": "x",
         "y": [
          768
         ],
         "yaxis": "y"
        },
        {
         "alignmentgroup": "True",
         "hovertemplate": "layer=blocks.8.norm1.bias.(768,)<br>block=%{x}<br>Log10_ParaM=%{y}<extra></extra>",
         "legendgroup": "blocks.8.norm1.bias.(768,)",
         "marker": {
          "color": "#19d3f3",
          "pattern": {
           "shape": ""
          }
         },
         "name": "blocks.8.norm1.bias.(768,)",
         "offsetgroup": "blocks.8.norm1.bias.(768,)",
         "orientation": "v",
         "showlegend": true,
         "textposition": "auto",
         "type": "bar",
         "x": [
          "blocks"
         ],
         "xaxis": "x",
         "y": [
          768
         ],
         "yaxis": "y"
        },
        {
         "alignmentgroup": "True",
         "hovertemplate": "layer=blocks.8.filter.w1.(2, 4, 192, 192)<br>block=%{x}<br>Log10_ParaM=%{y}<extra></extra>",
         "legendgroup": "blocks.8.filter.w1.(2, 4, 192, 192)",
         "marker": {
          "color": "#FF6692",
          "pattern": {
           "shape": ""
          }
         },
         "name": "blocks.8.filter.w1.(2, 4, 192, 192)",
         "offsetgroup": "blocks.8.filter.w1.(2, 4, 192, 192)",
         "orientation": "v",
         "showlegend": true,
         "textposition": "auto",
         "type": "bar",
         "x": [
          "blocks"
         ],
         "xaxis": "x",
         "y": [
          294912
         ],
         "yaxis": "y"
        },
        {
         "alignmentgroup": "True",
         "hovertemplate": "layer=blocks.8.filter.b1.(2, 4, 192)<br>block=%{x}<br>Log10_ParaM=%{y}<extra></extra>",
         "legendgroup": "blocks.8.filter.b1.(2, 4, 192)",
         "marker": {
          "color": "#B6E880",
          "pattern": {
           "shape": ""
          }
         },
         "name": "blocks.8.filter.b1.(2, 4, 192)",
         "offsetgroup": "blocks.8.filter.b1.(2, 4, 192)",
         "orientation": "v",
         "showlegend": true,
         "textposition": "auto",
         "type": "bar",
         "x": [
          "blocks"
         ],
         "xaxis": "x",
         "y": [
          1536
         ],
         "yaxis": "y"
        },
        {
         "alignmentgroup": "True",
         "hovertemplate": "layer=blocks.8.filter.w2.(2, 4, 192, 192)<br>block=%{x}<br>Log10_ParaM=%{y}<extra></extra>",
         "legendgroup": "blocks.8.filter.w2.(2, 4, 192, 192)",
         "marker": {
          "color": "#FF97FF",
          "pattern": {
           "shape": ""
          }
         },
         "name": "blocks.8.filter.w2.(2, 4, 192, 192)",
         "offsetgroup": "blocks.8.filter.w2.(2, 4, 192, 192)",
         "orientation": "v",
         "showlegend": true,
         "textposition": "auto",
         "type": "bar",
         "x": [
          "blocks"
         ],
         "xaxis": "x",
         "y": [
          294912
         ],
         "yaxis": "y"
        },
        {
         "alignmentgroup": "True",
         "hovertemplate": "layer=blocks.8.filter.b2.(2, 4, 192)<br>block=%{x}<br>Log10_ParaM=%{y}<extra></extra>",
         "legendgroup": "blocks.8.filter.b2.(2, 4, 192)",
         "marker": {
          "color": "#FECB52",
          "pattern": {
           "shape": ""
          }
         },
         "name": "blocks.8.filter.b2.(2, 4, 192)",
         "offsetgroup": "blocks.8.filter.b2.(2, 4, 192)",
         "orientation": "v",
         "showlegend": true,
         "textposition": "auto",
         "type": "bar",
         "x": [
          "blocks"
         ],
         "xaxis": "x",
         "y": [
          1536
         ],
         "yaxis": "y"
        },
        {
         "alignmentgroup": "True",
         "hovertemplate": "layer=blocks.8.norm2.weight.(768,)<br>block=%{x}<br>Log10_ParaM=%{y}<extra></extra>",
         "legendgroup": "blocks.8.norm2.weight.(768,)",
         "marker": {
          "color": "#636efa",
          "pattern": {
           "shape": ""
          }
         },
         "name": "blocks.8.norm2.weight.(768,)",
         "offsetgroup": "blocks.8.norm2.weight.(768,)",
         "orientation": "v",
         "showlegend": true,
         "textposition": "auto",
         "type": "bar",
         "x": [
          "blocks"
         ],
         "xaxis": "x",
         "y": [
          768
         ],
         "yaxis": "y"
        },
        {
         "alignmentgroup": "True",
         "hovertemplate": "layer=blocks.8.norm2.bias.(768,)<br>block=%{x}<br>Log10_ParaM=%{y}<extra></extra>",
         "legendgroup": "blocks.8.norm2.bias.(768,)",
         "marker": {
          "color": "#EF553B",
          "pattern": {
           "shape": ""
          }
         },
         "name": "blocks.8.norm2.bias.(768,)",
         "offsetgroup": "blocks.8.norm2.bias.(768,)",
         "orientation": "v",
         "showlegend": true,
         "textposition": "auto",
         "type": "bar",
         "x": [
          "blocks"
         ],
         "xaxis": "x",
         "y": [
          768
         ],
         "yaxis": "y"
        },
        {
         "alignmentgroup": "True",
         "hovertemplate": "layer=blocks.8.mlp.fc1.weight.(3072, 768)<br>block=%{x}<br>Log10_ParaM=%{y}<extra></extra>",
         "legendgroup": "blocks.8.mlp.fc1.weight.(3072, 768)",
         "marker": {
          "color": "#00cc96",
          "pattern": {
           "shape": ""
          }
         },
         "name": "blocks.8.mlp.fc1.weight.(3072, 768)",
         "offsetgroup": "blocks.8.mlp.fc1.weight.(3072, 768)",
         "orientation": "v",
         "showlegend": true,
         "textposition": "auto",
         "type": "bar",
         "x": [
          "blocks"
         ],
         "xaxis": "x",
         "y": [
          2359296
         ],
         "yaxis": "y"
        },
        {
         "alignmentgroup": "True",
         "hovertemplate": "layer=blocks.8.mlp.fc1.bias.(3072,)<br>block=%{x}<br>Log10_ParaM=%{y}<extra></extra>",
         "legendgroup": "blocks.8.mlp.fc1.bias.(3072,)",
         "marker": {
          "color": "#ab63fa",
          "pattern": {
           "shape": ""
          }
         },
         "name": "blocks.8.mlp.fc1.bias.(3072,)",
         "offsetgroup": "blocks.8.mlp.fc1.bias.(3072,)",
         "orientation": "v",
         "showlegend": true,
         "textposition": "auto",
         "type": "bar",
         "x": [
          "blocks"
         ],
         "xaxis": "x",
         "y": [
          3072
         ],
         "yaxis": "y"
        },
        {
         "alignmentgroup": "True",
         "hovertemplate": "layer=blocks.9.norm1.weight.(768,)<br>block=%{x}<br>Log10_ParaM=%{y}<extra></extra>",
         "legendgroup": "blocks.9.norm1.weight.(768,)",
         "marker": {
          "color": "#FFA15A",
          "pattern": {
           "shape": ""
          }
         },
         "name": "blocks.9.norm1.weight.(768,)",
         "offsetgroup": "blocks.9.norm1.weight.(768,)",
         "orientation": "v",
         "showlegend": true,
         "textposition": "auto",
         "type": "bar",
         "x": [
          "blocks"
         ],
         "xaxis": "x",
         "y": [
          768
         ],
         "yaxis": "y"
        },
        {
         "alignmentgroup": "True",
         "hovertemplate": "layer=blocks.9.norm1.bias.(768,)<br>block=%{x}<br>Log10_ParaM=%{y}<extra></extra>",
         "legendgroup": "blocks.9.norm1.bias.(768,)",
         "marker": {
          "color": "#19d3f3",
          "pattern": {
           "shape": ""
          }
         },
         "name": "blocks.9.norm1.bias.(768,)",
         "offsetgroup": "blocks.9.norm1.bias.(768,)",
         "orientation": "v",
         "showlegend": true,
         "textposition": "auto",
         "type": "bar",
         "x": [
          "blocks"
         ],
         "xaxis": "x",
         "y": [
          768
         ],
         "yaxis": "y"
        },
        {
         "alignmentgroup": "True",
         "hovertemplate": "layer=blocks.9.filter.w1.(2, 4, 192, 192)<br>block=%{x}<br>Log10_ParaM=%{y}<extra></extra>",
         "legendgroup": "blocks.9.filter.w1.(2, 4, 192, 192)",
         "marker": {
          "color": "#FF6692",
          "pattern": {
           "shape": ""
          }
         },
         "name": "blocks.9.filter.w1.(2, 4, 192, 192)",
         "offsetgroup": "blocks.9.filter.w1.(2, 4, 192, 192)",
         "orientation": "v",
         "showlegend": true,
         "textposition": "auto",
         "type": "bar",
         "x": [
          "blocks"
         ],
         "xaxis": "x",
         "y": [
          294912
         ],
         "yaxis": "y"
        },
        {
         "alignmentgroup": "True",
         "hovertemplate": "layer=blocks.9.filter.b1.(2, 4, 192)<br>block=%{x}<br>Log10_ParaM=%{y}<extra></extra>",
         "legendgroup": "blocks.9.filter.b1.(2, 4, 192)",
         "marker": {
          "color": "#B6E880",
          "pattern": {
           "shape": ""
          }
         },
         "name": "blocks.9.filter.b1.(2, 4, 192)",
         "offsetgroup": "blocks.9.filter.b1.(2, 4, 192)",
         "orientation": "v",
         "showlegend": true,
         "textposition": "auto",
         "type": "bar",
         "x": [
          "blocks"
         ],
         "xaxis": "x",
         "y": [
          1536
         ],
         "yaxis": "y"
        },
        {
         "alignmentgroup": "True",
         "hovertemplate": "layer=blocks.9.filter.w2.(2, 4, 192, 192)<br>block=%{x}<br>Log10_ParaM=%{y}<extra></extra>",
         "legendgroup": "blocks.9.filter.w2.(2, 4, 192, 192)",
         "marker": {
          "color": "#FF97FF",
          "pattern": {
           "shape": ""
          }
         },
         "name": "blocks.9.filter.w2.(2, 4, 192, 192)",
         "offsetgroup": "blocks.9.filter.w2.(2, 4, 192, 192)",
         "orientation": "v",
         "showlegend": true,
         "textposition": "auto",
         "type": "bar",
         "x": [
          "blocks"
         ],
         "xaxis": "x",
         "y": [
          294912
         ],
         "yaxis": "y"
        },
        {
         "alignmentgroup": "True",
         "hovertemplate": "layer=blocks.9.filter.b2.(2, 4, 192)<br>block=%{x}<br>Log10_ParaM=%{y}<extra></extra>",
         "legendgroup": "blocks.9.filter.b2.(2, 4, 192)",
         "marker": {
          "color": "#FECB52",
          "pattern": {
           "shape": ""
          }
         },
         "name": "blocks.9.filter.b2.(2, 4, 192)",
         "offsetgroup": "blocks.9.filter.b2.(2, 4, 192)",
         "orientation": "v",
         "showlegend": true,
         "textposition": "auto",
         "type": "bar",
         "x": [
          "blocks"
         ],
         "xaxis": "x",
         "y": [
          1536
         ],
         "yaxis": "y"
        },
        {
         "alignmentgroup": "True",
         "hovertemplate": "layer=blocks.9.norm2.weight.(768,)<br>block=%{x}<br>Log10_ParaM=%{y}<extra></extra>",
         "legendgroup": "blocks.9.norm2.weight.(768,)",
         "marker": {
          "color": "#636efa",
          "pattern": {
           "shape": ""
          }
         },
         "name": "blocks.9.norm2.weight.(768,)",
         "offsetgroup": "blocks.9.norm2.weight.(768,)",
         "orientation": "v",
         "showlegend": true,
         "textposition": "auto",
         "type": "bar",
         "x": [
          "blocks"
         ],
         "xaxis": "x",
         "y": [
          768
         ],
         "yaxis": "y"
        },
        {
         "alignmentgroup": "True",
         "hovertemplate": "layer=blocks.9.norm2.bias.(768,)<br>block=%{x}<br>Log10_ParaM=%{y}<extra></extra>",
         "legendgroup": "blocks.9.norm2.bias.(768,)",
         "marker": {
          "color": "#EF553B",
          "pattern": {
           "shape": ""
          }
         },
         "name": "blocks.9.norm2.bias.(768,)",
         "offsetgroup": "blocks.9.norm2.bias.(768,)",
         "orientation": "v",
         "showlegend": true,
         "textposition": "auto",
         "type": "bar",
         "x": [
          "blocks"
         ],
         "xaxis": "x",
         "y": [
          768
         ],
         "yaxis": "y"
        },
        {
         "alignmentgroup": "True",
         "hovertemplate": "layer=blocks.9.mlp.fc1.weight.(3072, 768)<br>block=%{x}<br>Log10_ParaM=%{y}<extra></extra>",
         "legendgroup": "blocks.9.mlp.fc1.weight.(3072, 768)",
         "marker": {
          "color": "#00cc96",
          "pattern": {
           "shape": ""
          }
         },
         "name": "blocks.9.mlp.fc1.weight.(3072, 768)",
         "offsetgroup": "blocks.9.mlp.fc1.weight.(3072, 768)",
         "orientation": "v",
         "showlegend": true,
         "textposition": "auto",
         "type": "bar",
         "x": [
          "blocks"
         ],
         "xaxis": "x",
         "y": [
          2359296
         ],
         "yaxis": "y"
        },
        {
         "alignmentgroup": "True",
         "hovertemplate": "layer=blocks.9.mlp.fc1.bias.(3072,)<br>block=%{x}<br>Log10_ParaM=%{y}<extra></extra>",
         "legendgroup": "blocks.9.mlp.fc1.bias.(3072,)",
         "marker": {
          "color": "#ab63fa",
          "pattern": {
           "shape": ""
          }
         },
         "name": "blocks.9.mlp.fc1.bias.(3072,)",
         "offsetgroup": "blocks.9.mlp.fc1.bias.(3072,)",
         "orientation": "v",
         "showlegend": true,
         "textposition": "auto",
         "type": "bar",
         "x": [
          "blocks"
         ],
         "xaxis": "x",
         "y": [
          3072
         ],
         "yaxis": "y"
        },
        {
         "alignmentgroup": "True",
         "hovertemplate": "layer=blocks.10.norm1.weight.(768,)<br>block=%{x}<br>Log10_ParaM=%{y}<extra></extra>",
         "legendgroup": "blocks.10.norm1.weight.(768,)",
         "marker": {
          "color": "#FFA15A",
          "pattern": {
           "shape": ""
          }
         },
         "name": "blocks.10.norm1.weight.(768,)",
         "offsetgroup": "blocks.10.norm1.weight.(768,)",
         "orientation": "v",
         "showlegend": true,
         "textposition": "auto",
         "type": "bar",
         "x": [
          "blocks"
         ],
         "xaxis": "x",
         "y": [
          768
         ],
         "yaxis": "y"
        },
        {
         "alignmentgroup": "True",
         "hovertemplate": "layer=blocks.10.norm1.bias.(768,)<br>block=%{x}<br>Log10_ParaM=%{y}<extra></extra>",
         "legendgroup": "blocks.10.norm1.bias.(768,)",
         "marker": {
          "color": "#19d3f3",
          "pattern": {
           "shape": ""
          }
         },
         "name": "blocks.10.norm1.bias.(768,)",
         "offsetgroup": "blocks.10.norm1.bias.(768,)",
         "orientation": "v",
         "showlegend": true,
         "textposition": "auto",
         "type": "bar",
         "x": [
          "blocks"
         ],
         "xaxis": "x",
         "y": [
          768
         ],
         "yaxis": "y"
        },
        {
         "alignmentgroup": "True",
         "hovertemplate": "layer=blocks.10.filter.w1.(2, 4, 192, 192)<br>block=%{x}<br>Log10_ParaM=%{y}<extra></extra>",
         "legendgroup": "blocks.10.filter.w1.(2, 4, 192, 192)",
         "marker": {
          "color": "#FF6692",
          "pattern": {
           "shape": ""
          }
         },
         "name": "blocks.10.filter.w1.(2, 4, 192, 192)",
         "offsetgroup": "blocks.10.filter.w1.(2, 4, 192, 192)",
         "orientation": "v",
         "showlegend": true,
         "textposition": "auto",
         "type": "bar",
         "x": [
          "blocks"
         ],
         "xaxis": "x",
         "y": [
          294912
         ],
         "yaxis": "y"
        },
        {
         "alignmentgroup": "True",
         "hovertemplate": "layer=blocks.10.filter.b1.(2, 4, 192)<br>block=%{x}<br>Log10_ParaM=%{y}<extra></extra>",
         "legendgroup": "blocks.10.filter.b1.(2, 4, 192)",
         "marker": {
          "color": "#B6E880",
          "pattern": {
           "shape": ""
          }
         },
         "name": "blocks.10.filter.b1.(2, 4, 192)",
         "offsetgroup": "blocks.10.filter.b1.(2, 4, 192)",
         "orientation": "v",
         "showlegend": true,
         "textposition": "auto",
         "type": "bar",
         "x": [
          "blocks"
         ],
         "xaxis": "x",
         "y": [
          1536
         ],
         "yaxis": "y"
        },
        {
         "alignmentgroup": "True",
         "hovertemplate": "layer=blocks.10.filter.w2.(2, 4, 192, 192)<br>block=%{x}<br>Log10_ParaM=%{y}<extra></extra>",
         "legendgroup": "blocks.10.filter.w2.(2, 4, 192, 192)",
         "marker": {
          "color": "#FF97FF",
          "pattern": {
           "shape": ""
          }
         },
         "name": "blocks.10.filter.w2.(2, 4, 192, 192)",
         "offsetgroup": "blocks.10.filter.w2.(2, 4, 192, 192)",
         "orientation": "v",
         "showlegend": true,
         "textposition": "auto",
         "type": "bar",
         "x": [
          "blocks"
         ],
         "xaxis": "x",
         "y": [
          294912
         ],
         "yaxis": "y"
        },
        {
         "alignmentgroup": "True",
         "hovertemplate": "layer=blocks.10.filter.b2.(2, 4, 192)<br>block=%{x}<br>Log10_ParaM=%{y}<extra></extra>",
         "legendgroup": "blocks.10.filter.b2.(2, 4, 192)",
         "marker": {
          "color": "#FECB52",
          "pattern": {
           "shape": ""
          }
         },
         "name": "blocks.10.filter.b2.(2, 4, 192)",
         "offsetgroup": "blocks.10.filter.b2.(2, 4, 192)",
         "orientation": "v",
         "showlegend": true,
         "textposition": "auto",
         "type": "bar",
         "x": [
          "blocks"
         ],
         "xaxis": "x",
         "y": [
          1536
         ],
         "yaxis": "y"
        },
        {
         "alignmentgroup": "True",
         "hovertemplate": "layer=blocks.10.norm2.weight.(768,)<br>block=%{x}<br>Log10_ParaM=%{y}<extra></extra>",
         "legendgroup": "blocks.10.norm2.weight.(768,)",
         "marker": {
          "color": "#636efa",
          "pattern": {
           "shape": ""
          }
         },
         "name": "blocks.10.norm2.weight.(768,)",
         "offsetgroup": "blocks.10.norm2.weight.(768,)",
         "orientation": "v",
         "showlegend": true,
         "textposition": "auto",
         "type": "bar",
         "x": [
          "blocks"
         ],
         "xaxis": "x",
         "y": [
          768
         ],
         "yaxis": "y"
        },
        {
         "alignmentgroup": "True",
         "hovertemplate": "layer=blocks.10.norm2.bias.(768,)<br>block=%{x}<br>Log10_ParaM=%{y}<extra></extra>",
         "legendgroup": "blocks.10.norm2.bias.(768,)",
         "marker": {
          "color": "#EF553B",
          "pattern": {
           "shape": ""
          }
         },
         "name": "blocks.10.norm2.bias.(768,)",
         "offsetgroup": "blocks.10.norm2.bias.(768,)",
         "orientation": "v",
         "showlegend": true,
         "textposition": "auto",
         "type": "bar",
         "x": [
          "blocks"
         ],
         "xaxis": "x",
         "y": [
          768
         ],
         "yaxis": "y"
        },
        {
         "alignmentgroup": "True",
         "hovertemplate": "layer=blocks.10.mlp.fc1.weight.(3072, 768)<br>block=%{x}<br>Log10_ParaM=%{y}<extra></extra>",
         "legendgroup": "blocks.10.mlp.fc1.weight.(3072, 768)",
         "marker": {
          "color": "#00cc96",
          "pattern": {
           "shape": ""
          }
         },
         "name": "blocks.10.mlp.fc1.weight.(3072, 768)",
         "offsetgroup": "blocks.10.mlp.fc1.weight.(3072, 768)",
         "orientation": "v",
         "showlegend": true,
         "textposition": "auto",
         "type": "bar",
         "x": [
          "blocks"
         ],
         "xaxis": "x",
         "y": [
          2359296
         ],
         "yaxis": "y"
        },
        {
         "alignmentgroup": "True",
         "hovertemplate": "layer=blocks.10.mlp.fc1.bias.(3072,)<br>block=%{x}<br>Log10_ParaM=%{y}<extra></extra>",
         "legendgroup": "blocks.10.mlp.fc1.bias.(3072,)",
         "marker": {
          "color": "#ab63fa",
          "pattern": {
           "shape": ""
          }
         },
         "name": "blocks.10.mlp.fc1.bias.(3072,)",
         "offsetgroup": "blocks.10.mlp.fc1.bias.(3072,)",
         "orientation": "v",
         "showlegend": true,
         "textposition": "auto",
         "type": "bar",
         "x": [
          "blocks"
         ],
         "xaxis": "x",
         "y": [
          3072
         ],
         "yaxis": "y"
        },
        {
         "alignmentgroup": "True",
         "hovertemplate": "layer=blocks.11.norm1.weight.(768,)<br>block=%{x}<br>Log10_ParaM=%{y}<extra></extra>",
         "legendgroup": "blocks.11.norm1.weight.(768,)",
         "marker": {
          "color": "#FFA15A",
          "pattern": {
           "shape": ""
          }
         },
         "name": "blocks.11.norm1.weight.(768,)",
         "offsetgroup": "blocks.11.norm1.weight.(768,)",
         "orientation": "v",
         "showlegend": true,
         "textposition": "auto",
         "type": "bar",
         "x": [
          "blocks"
         ],
         "xaxis": "x",
         "y": [
          768
         ],
         "yaxis": "y"
        },
        {
         "alignmentgroup": "True",
         "hovertemplate": "layer=blocks.11.norm1.bias.(768,)<br>block=%{x}<br>Log10_ParaM=%{y}<extra></extra>",
         "legendgroup": "blocks.11.norm1.bias.(768,)",
         "marker": {
          "color": "#19d3f3",
          "pattern": {
           "shape": ""
          }
         },
         "name": "blocks.11.norm1.bias.(768,)",
         "offsetgroup": "blocks.11.norm1.bias.(768,)",
         "orientation": "v",
         "showlegend": true,
         "textposition": "auto",
         "type": "bar",
         "x": [
          "blocks"
         ],
         "xaxis": "x",
         "y": [
          768
         ],
         "yaxis": "y"
        },
        {
         "alignmentgroup": "True",
         "hovertemplate": "layer=blocks.11.filter.w1.(2, 4, 192, 192)<br>block=%{x}<br>Log10_ParaM=%{y}<extra></extra>",
         "legendgroup": "blocks.11.filter.w1.(2, 4, 192, 192)",
         "marker": {
          "color": "#FF6692",
          "pattern": {
           "shape": ""
          }
         },
         "name": "blocks.11.filter.w1.(2, 4, 192, 192)",
         "offsetgroup": "blocks.11.filter.w1.(2, 4, 192, 192)",
         "orientation": "v",
         "showlegend": true,
         "textposition": "auto",
         "type": "bar",
         "x": [
          "blocks"
         ],
         "xaxis": "x",
         "y": [
          294912
         ],
         "yaxis": "y"
        },
        {
         "alignmentgroup": "True",
         "hovertemplate": "layer=blocks.11.filter.b1.(2, 4, 192)<br>block=%{x}<br>Log10_ParaM=%{y}<extra></extra>",
         "legendgroup": "blocks.11.filter.b1.(2, 4, 192)",
         "marker": {
          "color": "#B6E880",
          "pattern": {
           "shape": ""
          }
         },
         "name": "blocks.11.filter.b1.(2, 4, 192)",
         "offsetgroup": "blocks.11.filter.b1.(2, 4, 192)",
         "orientation": "v",
         "showlegend": true,
         "textposition": "auto",
         "type": "bar",
         "x": [
          "blocks"
         ],
         "xaxis": "x",
         "y": [
          1536
         ],
         "yaxis": "y"
        },
        {
         "alignmentgroup": "True",
         "hovertemplate": "layer=blocks.11.filter.w2.(2, 4, 192, 192)<br>block=%{x}<br>Log10_ParaM=%{y}<extra></extra>",
         "legendgroup": "blocks.11.filter.w2.(2, 4, 192, 192)",
         "marker": {
          "color": "#FF97FF",
          "pattern": {
           "shape": ""
          }
         },
         "name": "blocks.11.filter.w2.(2, 4, 192, 192)",
         "offsetgroup": "blocks.11.filter.w2.(2, 4, 192, 192)",
         "orientation": "v",
         "showlegend": true,
         "textposition": "auto",
         "type": "bar",
         "x": [
          "blocks"
         ],
         "xaxis": "x",
         "y": [
          294912
         ],
         "yaxis": "y"
        },
        {
         "alignmentgroup": "True",
         "hovertemplate": "layer=blocks.11.filter.b2.(2, 4, 192)<br>block=%{x}<br>Log10_ParaM=%{y}<extra></extra>",
         "legendgroup": "blocks.11.filter.b2.(2, 4, 192)",
         "marker": {
          "color": "#FECB52",
          "pattern": {
           "shape": ""
          }
         },
         "name": "blocks.11.filter.b2.(2, 4, 192)",
         "offsetgroup": "blocks.11.filter.b2.(2, 4, 192)",
         "orientation": "v",
         "showlegend": true,
         "textposition": "auto",
         "type": "bar",
         "x": [
          "blocks"
         ],
         "xaxis": "x",
         "y": [
          1536
         ],
         "yaxis": "y"
        },
        {
         "alignmentgroup": "True",
         "hovertemplate": "layer=blocks.11.norm2.weight.(768,)<br>block=%{x}<br>Log10_ParaM=%{y}<extra></extra>",
         "legendgroup": "blocks.11.norm2.weight.(768,)",
         "marker": {
          "color": "#636efa",
          "pattern": {
           "shape": ""
          }
         },
         "name": "blocks.11.norm2.weight.(768,)",
         "offsetgroup": "blocks.11.norm2.weight.(768,)",
         "orientation": "v",
         "showlegend": true,
         "textposition": "auto",
         "type": "bar",
         "x": [
          "blocks"
         ],
         "xaxis": "x",
         "y": [
          768
         ],
         "yaxis": "y"
        },
        {
         "alignmentgroup": "True",
         "hovertemplate": "layer=blocks.11.norm2.bias.(768,)<br>block=%{x}<br>Log10_ParaM=%{y}<extra></extra>",
         "legendgroup": "blocks.11.norm2.bias.(768,)",
         "marker": {
          "color": "#EF553B",
          "pattern": {
           "shape": ""
          }
         },
         "name": "blocks.11.norm2.bias.(768,)",
         "offsetgroup": "blocks.11.norm2.bias.(768,)",
         "orientation": "v",
         "showlegend": true,
         "textposition": "auto",
         "type": "bar",
         "x": [
          "blocks"
         ],
         "xaxis": "x",
         "y": [
          768
         ],
         "yaxis": "y"
        },
        {
         "alignmentgroup": "True",
         "hovertemplate": "layer=blocks.11.mlp.fc1.weight.(3072, 768)<br>block=%{x}<br>Log10_ParaM=%{y}<extra></extra>",
         "legendgroup": "blocks.11.mlp.fc1.weight.(3072, 768)",
         "marker": {
          "color": "#00cc96",
          "pattern": {
           "shape": ""
          }
         },
         "name": "blocks.11.mlp.fc1.weight.(3072, 768)",
         "offsetgroup": "blocks.11.mlp.fc1.weight.(3072, 768)",
         "orientation": "v",
         "showlegend": true,
         "textposition": "auto",
         "type": "bar",
         "x": [
          "blocks"
         ],
         "xaxis": "x",
         "y": [
          2359296
         ],
         "yaxis": "y"
        },
        {
         "alignmentgroup": "True",
         "hovertemplate": "layer=blocks.11.mlp.fc1.bias.(3072,)<br>block=%{x}<br>Log10_ParaM=%{y}<extra></extra>",
         "legendgroup": "blocks.11.mlp.fc1.bias.(3072,)",
         "marker": {
          "color": "#ab63fa",
          "pattern": {
           "shape": ""
          }
         },
         "name": "blocks.11.mlp.fc1.bias.(3072,)",
         "offsetgroup": "blocks.11.mlp.fc1.bias.(3072,)",
         "orientation": "v",
         "showlegend": true,
         "textposition": "auto",
         "type": "bar",
         "x": [
          "blocks"
         ],
         "xaxis": "x",
         "y": [
          3072
         ],
         "yaxis": "y"
        },
        {
         "alignmentgroup": "True",
         "hovertemplate": "layer=norm.weight.(768,)<br>block=%{x}<br>Log10_ParaM=%{y}<extra></extra>",
         "legendgroup": "norm.weight.(768,)",
         "marker": {
          "color": "#FFA15A",
          "pattern": {
           "shape": ""
          }
         },
         "name": "norm.weight.(768,)",
         "offsetgroup": "norm.weight.(768,)",
         "orientation": "v",
         "showlegend": true,
         "textposition": "auto",
         "type": "bar",
         "x": [
          "norm"
         ],
         "xaxis": "x",
         "y": [
          768
         ],
         "yaxis": "y"
        },
        {
         "alignmentgroup": "True",
         "hovertemplate": "layer=norm.bias.(768,)<br>block=%{x}<br>Log10_ParaM=%{y}<extra></extra>",
         "legendgroup": "norm.bias.(768,)",
         "marker": {
          "color": "#19d3f3",
          "pattern": {
           "shape": ""
          }
         },
         "name": "norm.bias.(768,)",
         "offsetgroup": "norm.bias.(768,)",
         "orientation": "v",
         "showlegend": true,
         "textposition": "auto",
         "type": "bar",
         "x": [
          "norm"
         ],
         "xaxis": "x",
         "y": [
          768
         ],
         "yaxis": "y"
        },
        {
         "alignmentgroup": "True",
         "hovertemplate": "layer=pre_logits.conv1.conv_layers.0.weight.(768, 1120, 3)<br>block=%{x}<br>Log10_ParaM=%{y}<extra></extra>",
         "legendgroup": "pre_logits.conv1.conv_layers.0.weight.(768, 1120, 3)",
         "marker": {
          "color": "#FF6692",
          "pattern": {
           "shape": ""
          }
         },
         "name": "pre_logits.conv1.conv_layers.0.weight.(768, 1120, 3)",
         "offsetgroup": "pre_logits.conv1.conv_layers.0.weight.(768, 1120, 3)",
         "orientation": "v",
         "showlegend": true,
         "textposition": "auto",
         "type": "bar",
         "x": [
          "pre_logits"
         ],
         "xaxis": "x",
         "y": [
          2580480
         ],
         "yaxis": "y"
        },
        {
         "alignmentgroup": "True",
         "hovertemplate": "layer=pre_logits.conv1.conv_layers.1.weight.(768, 1120, 3)<br>block=%{x}<br>Log10_ParaM=%{y}<extra></extra>",
         "legendgroup": "pre_logits.conv1.conv_layers.1.weight.(768, 1120, 3)",
         "marker": {
          "color": "#B6E880",
          "pattern": {
           "shape": ""
          }
         },
         "name": "pre_logits.conv1.conv_layers.1.weight.(768, 1120, 3)",
         "offsetgroup": "pre_logits.conv1.conv_layers.1.weight.(768, 1120, 3)",
         "orientation": "v",
         "showlegend": true,
         "textposition": "auto",
         "type": "bar",
         "x": [
          "pre_logits"
         ],
         "xaxis": "x",
         "y": [
          2580480
         ],
         "yaxis": "y"
        },
        {
         "alignmentgroup": "True",
         "hovertemplate": "layer=pre_logits.conv1.conv_layers.2.weight.(768, 1120, 3)<br>block=%{x}<br>Log10_ParaM=%{y}<extra></extra>",
         "legendgroup": "pre_logits.conv1.conv_layers.2.weight.(768, 1120, 3)",
         "marker": {
          "color": "#FF97FF",
          "pattern": {
           "shape": ""
          }
         },
         "name": "pre_logits.conv1.conv_layers.2.weight.(768, 1120, 3)",
         "offsetgroup": "pre_logits.conv1.conv_layers.2.weight.(768, 1120, 3)",
         "orientation": "v",
         "showlegend": true,
         "textposition": "auto",
         "type": "bar",
         "x": [
          "pre_logits"
         ],
         "xaxis": "x",
         "y": [
          2580480
         ],
         "yaxis": "y"
        },
        {
         "alignmentgroup": "True",
         "hovertemplate": "layer=pre_logits.conv2.conv_layers.0.weight.(1120, 280, 3)<br>block=%{x}<br>Log10_ParaM=%{y}<extra></extra>",
         "legendgroup": "pre_logits.conv2.conv_layers.0.weight.(1120, 280, 3)",
         "marker": {
          "color": "#FECB52",
          "pattern": {
           "shape": ""
          }
         },
         "name": "pre_logits.conv2.conv_layers.0.weight.(1120, 280, 3)",
         "offsetgroup": "pre_logits.conv2.conv_layers.0.weight.(1120, 280, 3)",
         "orientation": "v",
         "showlegend": true,
         "textposition": "auto",
         "type": "bar",
         "x": [
          "pre_logits"
         ],
         "xaxis": "x",
         "y": [
          940800
         ],
         "yaxis": "y"
        },
        {
         "alignmentgroup": "True",
         "hovertemplate": "layer=pre_logits.conv2.conv_layers.1.weight.(1120, 280, 3)<br>block=%{x}<br>Log10_ParaM=%{y}<extra></extra>",
         "legendgroup": "pre_logits.conv2.conv_layers.1.weight.(1120, 280, 3)",
         "marker": {
          "color": "#636efa",
          "pattern": {
           "shape": ""
          }
         },
         "name": "pre_logits.conv2.conv_layers.1.weight.(1120, 280, 3)",
         "offsetgroup": "pre_logits.conv2.conv_layers.1.weight.(1120, 280, 3)",
         "orientation": "v",
         "showlegend": true,
         "textposition": "auto",
         "type": "bar",
         "x": [
          "pre_logits"
         ],
         "xaxis": "x",
         "y": [
          940800
         ],
         "yaxis": "y"
        },
        {
         "alignmentgroup": "True",
         "hovertemplate": "layer=pre_logits.conv2.conv_layers.2.weight.(1120, 280, 3)<br>block=%{x}<br>Log10_ParaM=%{y}<extra></extra>",
         "legendgroup": "pre_logits.conv2.conv_layers.2.weight.(1120, 280, 3)",
         "marker": {
          "color": "#EF553B",
          "pattern": {
           "shape": ""
          }
         },
         "name": "pre_logits.conv2.conv_layers.2.weight.(1120, 280, 3)",
         "offsetgroup": "pre_logits.conv2.conv_layers.2.weight.(1120, 280, 3)",
         "orientation": "v",
         "showlegend": true,
         "textposition": "auto",
         "type": "bar",
         "x": [
          "pre_logits"
         ],
         "xaxis": "x",
         "y": [
          940800
         ],
         "yaxis": "y"
        },
        {
         "alignmentgroup": "True",
         "hovertemplate": "layer=head.conv_layers.0.weight.(280, 70, 2)<br>block=%{x}<br>Log10_ParaM=%{y}<extra></extra>",
         "legendgroup": "head.conv_layers.0.weight.(280, 70, 2)",
         "marker": {
          "color": "#00cc96",
          "pattern": {
           "shape": ""
          }
         },
         "name": "head.conv_layers.0.weight.(280, 70, 2)",
         "offsetgroup": "head.conv_layers.0.weight.(280, 70, 2)",
         "orientation": "v",
         "showlegend": true,
         "textposition": "auto",
         "type": "bar",
         "x": [
          "head"
         ],
         "xaxis": "x",
         "y": [
          39200
         ],
         "yaxis": "y"
        },
        {
         "alignmentgroup": "True",
         "hovertemplate": "layer=head.conv_layers.1.weight.(280, 70, 2)<br>block=%{x}<br>Log10_ParaM=%{y}<extra></extra>",
         "legendgroup": "head.conv_layers.1.weight.(280, 70, 2)",
         "marker": {
          "color": "#ab63fa",
          "pattern": {
           "shape": ""
          }
         },
         "name": "head.conv_layers.1.weight.(280, 70, 2)",
         "offsetgroup": "head.conv_layers.1.weight.(280, 70, 2)",
         "orientation": "v",
         "showlegend": true,
         "textposition": "auto",
         "type": "bar",
         "x": [
          "head"
         ],
         "xaxis": "x",
         "y": [
          39200
         ],
         "yaxis": "y"
        }
       ],
       "layout": {
        "barmode": "relative",
        "height": 600,
        "legend": {
         "title": {
          "text": "layer"
         },
         "tracegroupgap": 0
        },
        "showlegend": false,
        "template": {
         "data": {
          "bar": [
           {
            "error_x": {
             "color": "#2a3f5f"
            },
            "error_y": {
             "color": "#2a3f5f"
            },
            "marker": {
             "line": {
              "color": "#E5ECF6",
              "width": 0.5
             },
             "pattern": {
              "fillmode": "overlay",
              "size": 10,
              "solidity": 0.2
             }
            },
            "type": "bar"
           }
          ],
          "barpolar": [
           {
            "marker": {
             "line": {
              "color": "#E5ECF6",
              "width": 0.5
             },
             "pattern": {
              "fillmode": "overlay",
              "size": 10,
              "solidity": 0.2
             }
            },
            "type": "barpolar"
           }
          ],
          "carpet": [
           {
            "aaxis": {
             "endlinecolor": "#2a3f5f",
             "gridcolor": "white",
             "linecolor": "white",
             "minorgridcolor": "white",
             "startlinecolor": "#2a3f5f"
            },
            "baxis": {
             "endlinecolor": "#2a3f5f",
             "gridcolor": "white",
             "linecolor": "white",
             "minorgridcolor": "white",
             "startlinecolor": "#2a3f5f"
            },
            "type": "carpet"
           }
          ],
          "choropleth": [
           {
            "colorbar": {
             "outlinewidth": 0,
             "ticks": ""
            },
            "type": "choropleth"
           }
          ],
          "contour": [
           {
            "colorbar": {
             "outlinewidth": 0,
             "ticks": ""
            },
            "colorscale": [
             [
              0,
              "#0d0887"
             ],
             [
              0.1111111111111111,
              "#46039f"
             ],
             [
              0.2222222222222222,
              "#7201a8"
             ],
             [
              0.3333333333333333,
              "#9c179e"
             ],
             [
              0.4444444444444444,
              "#bd3786"
             ],
             [
              0.5555555555555556,
              "#d8576b"
             ],
             [
              0.6666666666666666,
              "#ed7953"
             ],
             [
              0.7777777777777778,
              "#fb9f3a"
             ],
             [
              0.8888888888888888,
              "#fdca26"
             ],
             [
              1,
              "#f0f921"
             ]
            ],
            "type": "contour"
           }
          ],
          "contourcarpet": [
           {
            "colorbar": {
             "outlinewidth": 0,
             "ticks": ""
            },
            "type": "contourcarpet"
           }
          ],
          "heatmap": [
           {
            "colorbar": {
             "outlinewidth": 0,
             "ticks": ""
            },
            "colorscale": [
             [
              0,
              "#0d0887"
             ],
             [
              0.1111111111111111,
              "#46039f"
             ],
             [
              0.2222222222222222,
              "#7201a8"
             ],
             [
              0.3333333333333333,
              "#9c179e"
             ],
             [
              0.4444444444444444,
              "#bd3786"
             ],
             [
              0.5555555555555556,
              "#d8576b"
             ],
             [
              0.6666666666666666,
              "#ed7953"
             ],
             [
              0.7777777777777778,
              "#fb9f3a"
             ],
             [
              0.8888888888888888,
              "#fdca26"
             ],
             [
              1,
              "#f0f921"
             ]
            ],
            "type": "heatmap"
           }
          ],
          "heatmapgl": [
           {
            "colorbar": {
             "outlinewidth": 0,
             "ticks": ""
            },
            "colorscale": [
             [
              0,
              "#0d0887"
             ],
             [
              0.1111111111111111,
              "#46039f"
             ],
             [
              0.2222222222222222,
              "#7201a8"
             ],
             [
              0.3333333333333333,
              "#9c179e"
             ],
             [
              0.4444444444444444,
              "#bd3786"
             ],
             [
              0.5555555555555556,
              "#d8576b"
             ],
             [
              0.6666666666666666,
              "#ed7953"
             ],
             [
              0.7777777777777778,
              "#fb9f3a"
             ],
             [
              0.8888888888888888,
              "#fdca26"
             ],
             [
              1,
              "#f0f921"
             ]
            ],
            "type": "heatmapgl"
           }
          ],
          "histogram": [
           {
            "marker": {
             "pattern": {
              "fillmode": "overlay",
              "size": 10,
              "solidity": 0.2
             }
            },
            "type": "histogram"
           }
          ],
          "histogram2d": [
           {
            "colorbar": {
             "outlinewidth": 0,
             "ticks": ""
            },
            "colorscale": [
             [
              0,
              "#0d0887"
             ],
             [
              0.1111111111111111,
              "#46039f"
             ],
             [
              0.2222222222222222,
              "#7201a8"
             ],
             [
              0.3333333333333333,
              "#9c179e"
             ],
             [
              0.4444444444444444,
              "#bd3786"
             ],
             [
              0.5555555555555556,
              "#d8576b"
             ],
             [
              0.6666666666666666,
              "#ed7953"
             ],
             [
              0.7777777777777778,
              "#fb9f3a"
             ],
             [
              0.8888888888888888,
              "#fdca26"
             ],
             [
              1,
              "#f0f921"
             ]
            ],
            "type": "histogram2d"
           }
          ],
          "histogram2dcontour": [
           {
            "colorbar": {
             "outlinewidth": 0,
             "ticks": ""
            },
            "colorscale": [
             [
              0,
              "#0d0887"
             ],
             [
              0.1111111111111111,
              "#46039f"
             ],
             [
              0.2222222222222222,
              "#7201a8"
             ],
             [
              0.3333333333333333,
              "#9c179e"
             ],
             [
              0.4444444444444444,
              "#bd3786"
             ],
             [
              0.5555555555555556,
              "#d8576b"
             ],
             [
              0.6666666666666666,
              "#ed7953"
             ],
             [
              0.7777777777777778,
              "#fb9f3a"
             ],
             [
              0.8888888888888888,
              "#fdca26"
             ],
             [
              1,
              "#f0f921"
             ]
            ],
            "type": "histogram2dcontour"
           }
          ],
          "mesh3d": [
           {
            "colorbar": {
             "outlinewidth": 0,
             "ticks": ""
            },
            "type": "mesh3d"
           }
          ],
          "parcoords": [
           {
            "line": {
             "colorbar": {
              "outlinewidth": 0,
              "ticks": ""
             }
            },
            "type": "parcoords"
           }
          ],
          "pie": [
           {
            "automargin": true,
            "type": "pie"
           }
          ],
          "scatter": [
           {
            "fillpattern": {
             "fillmode": "overlay",
             "size": 10,
             "solidity": 0.2
            },
            "type": "scatter"
           }
          ],
          "scatter3d": [
           {
            "line": {
             "colorbar": {
              "outlinewidth": 0,
              "ticks": ""
             }
            },
            "marker": {
             "colorbar": {
              "outlinewidth": 0,
              "ticks": ""
             }
            },
            "type": "scatter3d"
           }
          ],
          "scattercarpet": [
           {
            "marker": {
             "colorbar": {
              "outlinewidth": 0,
              "ticks": ""
             }
            },
            "type": "scattercarpet"
           }
          ],
          "scattergeo": [
           {
            "marker": {
             "colorbar": {
              "outlinewidth": 0,
              "ticks": ""
             }
            },
            "type": "scattergeo"
           }
          ],
          "scattergl": [
           {
            "marker": {
             "colorbar": {
              "outlinewidth": 0,
              "ticks": ""
             }
            },
            "type": "scattergl"
           }
          ],
          "scattermapbox": [
           {
            "marker": {
             "colorbar": {
              "outlinewidth": 0,
              "ticks": ""
             }
            },
            "type": "scattermapbox"
           }
          ],
          "scatterpolar": [
           {
            "marker": {
             "colorbar": {
              "outlinewidth": 0,
              "ticks": ""
             }
            },
            "type": "scatterpolar"
           }
          ],
          "scatterpolargl": [
           {
            "marker": {
             "colorbar": {
              "outlinewidth": 0,
              "ticks": ""
             }
            },
            "type": "scatterpolargl"
           }
          ],
          "scatterternary": [
           {
            "marker": {
             "colorbar": {
              "outlinewidth": 0,
              "ticks": ""
             }
            },
            "type": "scatterternary"
           }
          ],
          "surface": [
           {
            "colorbar": {
             "outlinewidth": 0,
             "ticks": ""
            },
            "colorscale": [
             [
              0,
              "#0d0887"
             ],
             [
              0.1111111111111111,
              "#46039f"
             ],
             [
              0.2222222222222222,
              "#7201a8"
             ],
             [
              0.3333333333333333,
              "#9c179e"
             ],
             [
              0.4444444444444444,
              "#bd3786"
             ],
             [
              0.5555555555555556,
              "#d8576b"
             ],
             [
              0.6666666666666666,
              "#ed7953"
             ],
             [
              0.7777777777777778,
              "#fb9f3a"
             ],
             [
              0.8888888888888888,
              "#fdca26"
             ],
             [
              1,
              "#f0f921"
             ]
            ],
            "type": "surface"
           }
          ],
          "table": [
           {
            "cells": {
             "fill": {
              "color": "#EBF0F8"
             },
             "line": {
              "color": "white"
             }
            },
            "header": {
             "fill": {
              "color": "#C8D4E3"
             },
             "line": {
              "color": "white"
             }
            },
            "type": "table"
           }
          ]
         },
         "layout": {
          "annotationdefaults": {
           "arrowcolor": "#2a3f5f",
           "arrowhead": 0,
           "arrowwidth": 1
          },
          "autotypenumbers": "strict",
          "coloraxis": {
           "colorbar": {
            "outlinewidth": 0,
            "ticks": ""
           }
          },
          "colorscale": {
           "diverging": [
            [
             0,
             "#8e0152"
            ],
            [
             0.1,
             "#c51b7d"
            ],
            [
             0.2,
             "#de77ae"
            ],
            [
             0.3,
             "#f1b6da"
            ],
            [
             0.4,
             "#fde0ef"
            ],
            [
             0.5,
             "#f7f7f7"
            ],
            [
             0.6,
             "#e6f5d0"
            ],
            [
             0.7,
             "#b8e186"
            ],
            [
             0.8,
             "#7fbc41"
            ],
            [
             0.9,
             "#4d9221"
            ],
            [
             1,
             "#276419"
            ]
           ],
           "sequential": [
            [
             0,
             "#0d0887"
            ],
            [
             0.1111111111111111,
             "#46039f"
            ],
            [
             0.2222222222222222,
             "#7201a8"
            ],
            [
             0.3333333333333333,
             "#9c179e"
            ],
            [
             0.4444444444444444,
             "#bd3786"
            ],
            [
             0.5555555555555556,
             "#d8576b"
            ],
            [
             0.6666666666666666,
             "#ed7953"
            ],
            [
             0.7777777777777778,
             "#fb9f3a"
            ],
            [
             0.8888888888888888,
             "#fdca26"
            ],
            [
             1,
             "#f0f921"
            ]
           ],
           "sequentialminus": [
            [
             0,
             "#0d0887"
            ],
            [
             0.1111111111111111,
             "#46039f"
            ],
            [
             0.2222222222222222,
             "#7201a8"
            ],
            [
             0.3333333333333333,
             "#9c179e"
            ],
            [
             0.4444444444444444,
             "#bd3786"
            ],
            [
             0.5555555555555556,
             "#d8576b"
            ],
            [
             0.6666666666666666,
             "#ed7953"
            ],
            [
             0.7777777777777778,
             "#fb9f3a"
            ],
            [
             0.8888888888888888,
             "#fdca26"
            ],
            [
             1,
             "#f0f921"
            ]
           ]
          },
          "colorway": [
           "#636efa",
           "#EF553B",
           "#00cc96",
           "#ab63fa",
           "#FFA15A",
           "#19d3f3",
           "#FF6692",
           "#B6E880",
           "#FF97FF",
           "#FECB52"
          ],
          "font": {
           "color": "#2a3f5f"
          },
          "geo": {
           "bgcolor": "white",
           "lakecolor": "white",
           "landcolor": "#E5ECF6",
           "showlakes": true,
           "showland": true,
           "subunitcolor": "white"
          },
          "hoverlabel": {
           "align": "left"
          },
          "hovermode": "closest",
          "mapbox": {
           "style": "light"
          },
          "paper_bgcolor": "white",
          "plot_bgcolor": "#E5ECF6",
          "polar": {
           "angularaxis": {
            "gridcolor": "white",
            "linecolor": "white",
            "ticks": ""
           },
           "bgcolor": "#E5ECF6",
           "radialaxis": {
            "gridcolor": "white",
            "linecolor": "white",
            "ticks": ""
           }
          },
          "scene": {
           "xaxis": {
            "backgroundcolor": "#E5ECF6",
            "gridcolor": "white",
            "gridwidth": 2,
            "linecolor": "white",
            "showbackground": true,
            "ticks": "",
            "zerolinecolor": "white"
           },
           "yaxis": {
            "backgroundcolor": "#E5ECF6",
            "gridcolor": "white",
            "gridwidth": 2,
            "linecolor": "white",
            "showbackground": true,
            "ticks": "",
            "zerolinecolor": "white"
           },
           "zaxis": {
            "backgroundcolor": "#E5ECF6",
            "gridcolor": "white",
            "gridwidth": 2,
            "linecolor": "white",
            "showbackground": true,
            "ticks": "",
            "zerolinecolor": "white"
           }
          },
          "shapedefaults": {
           "line": {
            "color": "#2a3f5f"
           }
          },
          "ternary": {
           "aaxis": {
            "gridcolor": "white",
            "linecolor": "white",
            "ticks": ""
           },
           "baxis": {
            "gridcolor": "white",
            "linecolor": "white",
            "ticks": ""
           },
           "bgcolor": "#E5ECF6",
           "caxis": {
            "gridcolor": "white",
            "linecolor": "white",
            "ticks": ""
           }
          },
          "title": {
           "x": 0.05
          },
          "xaxis": {
           "automargin": true,
           "gridcolor": "white",
           "linecolor": "white",
           "ticks": "",
           "title": {
            "standoff": 15
           },
           "zerolinecolor": "white",
           "zerolinewidth": 2
          },
          "yaxis": {
           "automargin": true,
           "gridcolor": "white",
           "linecolor": "white",
           "ticks": "",
           "title": {
            "standoff": 15
           },
           "zerolinecolor": "white",
           "zerolinewidth": 2
          }
         }
        },
        "title": {
         "text": "My plot"
        },
        "xaxis": {
         "anchor": "y",
         "domain": [
          0,
          1
         ],
         "title": {
          "text": "block"
         }
        },
        "yaxis": {
         "anchor": "x",
         "domain": [
          0,
          1
         ],
         "title": {
          "text": "Log10_ParaM"
         }
        }
       }
      },
      "text/html": [
       "<div>                            <div id=\"7bb6ca52-9b09-4675-a4a5-d329e63a6bb3\" class=\"plotly-graph-div\" style=\"height:600px; width:100%;\"></div>            <script type=\"text/javascript\">                require([\"plotly\"], function(Plotly) {                    window.PLOTLYENV=window.PLOTLYENV || {};                                    if (document.getElementById(\"7bb6ca52-9b09-4675-a4a5-d329e63a6bb3\")) {                    Plotly.newPlot(                        \"7bb6ca52-9b09-4675-a4a5-d329e63a6bb3\",                        [{\"alignmentgroup\":\"True\",\"hovertemplate\":\"layer=pos_embed.(1, 512, 768)<br>block=%{x}<br>Log10_ParaM=%{y}<extra></extra>\",\"legendgroup\":\"pos_embed.(1, 512, 768)\",\"marker\":{\"color\":\"#636efa\",\"pattern\":{\"shape\":\"\"}},\"name\":\"pos_embed.(1, 512, 768)\",\"offsetgroup\":\"pos_embed.(1, 512, 768)\",\"orientation\":\"v\",\"showlegend\":true,\"textposition\":\"auto\",\"x\":[\"pos_embed\"],\"xaxis\":\"x\",\"y\":[393216],\"yaxis\":\"y\",\"type\":\"bar\"},{\"alignmentgroup\":\"True\",\"hovertemplate\":\"layer=reduce_Field_coef.(1,)<br>block=%{x}<br>Log10_ParaM=%{y}<extra></extra>\",\"legendgroup\":\"reduce_Field_coef.(1,)\",\"marker\":{\"color\":\"#EF553B\",\"pattern\":{\"shape\":\"\"}},\"name\":\"reduce_Field_coef.(1,)\",\"offsetgroup\":\"reduce_Field_coef.(1,)\",\"orientation\":\"v\",\"showlegend\":true,\"textposition\":\"auto\",\"x\":[\"reduce_Field_coef\"],\"xaxis\":\"x\",\"y\":[1],\"yaxis\":\"y\",\"type\":\"bar\"},{\"alignmentgroup\":\"True\",\"hovertemplate\":\"layer=patch_embed.proj.conv_layers.0.weight.(768, 928, 2)<br>block=%{x}<br>Log10_ParaM=%{y}<extra></extra>\",\"legendgroup\":\"patch_embed.proj.conv_layers.0.weight.(768, 928, 2)\",\"marker\":{\"color\":\"#00cc96\",\"pattern\":{\"shape\":\"\"}},\"name\":\"patch_embed.proj.conv_layers.0.weight.(768, 928, 2)\",\"offsetgroup\":\"patch_embed.proj.conv_layers.0.weight.(768, 928, 2)\",\"orientation\":\"v\",\"showlegend\":true,\"textposition\":\"auto\",\"x\":[\"patch_embed\"],\"xaxis\":\"x\",\"y\":[1425408],\"yaxis\":\"y\",\"type\":\"bar\"},{\"alignmentgroup\":\"True\",\"hovertemplate\":\"layer=patch_embed.proj.conv_layers.1.weight.(768, 928, 2)<br>block=%{x}<br>Log10_ParaM=%{y}<extra></extra>\",\"legendgroup\":\"patch_embed.proj.conv_layers.1.weight.(768, 928, 2)\",\"marker\":{\"color\":\"#ab63fa\",\"pattern\":{\"shape\":\"\"}},\"name\":\"patch_embed.proj.conv_layers.1.weight.(768, 928, 2)\",\"offsetgroup\":\"patch_embed.proj.conv_layers.1.weight.(768, 928, 2)\",\"orientation\":\"v\",\"showlegend\":true,\"textposition\":\"auto\",\"x\":[\"patch_embed\"],\"xaxis\":\"x\",\"y\":[1425408],\"yaxis\":\"y\",\"type\":\"bar\"},{\"alignmentgroup\":\"True\",\"hovertemplate\":\"layer=blocks.0.norm1.weight.(768,)<br>block=%{x}<br>Log10_ParaM=%{y}<extra></extra>\",\"legendgroup\":\"blocks.0.norm1.weight.(768,)\",\"marker\":{\"color\":\"#FFA15A\",\"pattern\":{\"shape\":\"\"}},\"name\":\"blocks.0.norm1.weight.(768,)\",\"offsetgroup\":\"blocks.0.norm1.weight.(768,)\",\"orientation\":\"v\",\"showlegend\":true,\"textposition\":\"auto\",\"x\":[\"blocks\"],\"xaxis\":\"x\",\"y\":[768],\"yaxis\":\"y\",\"type\":\"bar\"},{\"alignmentgroup\":\"True\",\"hovertemplate\":\"layer=blocks.0.norm1.bias.(768,)<br>block=%{x}<br>Log10_ParaM=%{y}<extra></extra>\",\"legendgroup\":\"blocks.0.norm1.bias.(768,)\",\"marker\":{\"color\":\"#19d3f3\",\"pattern\":{\"shape\":\"\"}},\"name\":\"blocks.0.norm1.bias.(768,)\",\"offsetgroup\":\"blocks.0.norm1.bias.(768,)\",\"orientation\":\"v\",\"showlegend\":true,\"textposition\":\"auto\",\"x\":[\"blocks\"],\"xaxis\":\"x\",\"y\":[768],\"yaxis\":\"y\",\"type\":\"bar\"},{\"alignmentgroup\":\"True\",\"hovertemplate\":\"layer=blocks.0.filter.w1.(2, 4, 192, 192)<br>block=%{x}<br>Log10_ParaM=%{y}<extra></extra>\",\"legendgroup\":\"blocks.0.filter.w1.(2, 4, 192, 192)\",\"marker\":{\"color\":\"#FF6692\",\"pattern\":{\"shape\":\"\"}},\"name\":\"blocks.0.filter.w1.(2, 4, 192, 192)\",\"offsetgroup\":\"blocks.0.filter.w1.(2, 4, 192, 192)\",\"orientation\":\"v\",\"showlegend\":true,\"textposition\":\"auto\",\"x\":[\"blocks\"],\"xaxis\":\"x\",\"y\":[294912],\"yaxis\":\"y\",\"type\":\"bar\"},{\"alignmentgroup\":\"True\",\"hovertemplate\":\"layer=blocks.0.filter.b1.(2, 4, 192)<br>block=%{x}<br>Log10_ParaM=%{y}<extra></extra>\",\"legendgroup\":\"blocks.0.filter.b1.(2, 4, 192)\",\"marker\":{\"color\":\"#B6E880\",\"pattern\":{\"shape\":\"\"}},\"name\":\"blocks.0.filter.b1.(2, 4, 192)\",\"offsetgroup\":\"blocks.0.filter.b1.(2, 4, 192)\",\"orientation\":\"v\",\"showlegend\":true,\"textposition\":\"auto\",\"x\":[\"blocks\"],\"xaxis\":\"x\",\"y\":[1536],\"yaxis\":\"y\",\"type\":\"bar\"},{\"alignmentgroup\":\"True\",\"hovertemplate\":\"layer=blocks.0.filter.w2.(2, 4, 192, 192)<br>block=%{x}<br>Log10_ParaM=%{y}<extra></extra>\",\"legendgroup\":\"blocks.0.filter.w2.(2, 4, 192, 192)\",\"marker\":{\"color\":\"#FF97FF\",\"pattern\":{\"shape\":\"\"}},\"name\":\"blocks.0.filter.w2.(2, 4, 192, 192)\",\"offsetgroup\":\"blocks.0.filter.w2.(2, 4, 192, 192)\",\"orientation\":\"v\",\"showlegend\":true,\"textposition\":\"auto\",\"x\":[\"blocks\"],\"xaxis\":\"x\",\"y\":[294912],\"yaxis\":\"y\",\"type\":\"bar\"},{\"alignmentgroup\":\"True\",\"hovertemplate\":\"layer=blocks.0.filter.b2.(2, 4, 192)<br>block=%{x}<br>Log10_ParaM=%{y}<extra></extra>\",\"legendgroup\":\"blocks.0.filter.b2.(2, 4, 192)\",\"marker\":{\"color\":\"#FECB52\",\"pattern\":{\"shape\":\"\"}},\"name\":\"blocks.0.filter.b2.(2, 4, 192)\",\"offsetgroup\":\"blocks.0.filter.b2.(2, 4, 192)\",\"orientation\":\"v\",\"showlegend\":true,\"textposition\":\"auto\",\"x\":[\"blocks\"],\"xaxis\":\"x\",\"y\":[1536],\"yaxis\":\"y\",\"type\":\"bar\"},{\"alignmentgroup\":\"True\",\"hovertemplate\":\"layer=blocks.0.norm2.weight.(768,)<br>block=%{x}<br>Log10_ParaM=%{y}<extra></extra>\",\"legendgroup\":\"blocks.0.norm2.weight.(768,)\",\"marker\":{\"color\":\"#636efa\",\"pattern\":{\"shape\":\"\"}},\"name\":\"blocks.0.norm2.weight.(768,)\",\"offsetgroup\":\"blocks.0.norm2.weight.(768,)\",\"orientation\":\"v\",\"showlegend\":true,\"textposition\":\"auto\",\"x\":[\"blocks\"],\"xaxis\":\"x\",\"y\":[768],\"yaxis\":\"y\",\"type\":\"bar\"},{\"alignmentgroup\":\"True\",\"hovertemplate\":\"layer=blocks.0.norm2.bias.(768,)<br>block=%{x}<br>Log10_ParaM=%{y}<extra></extra>\",\"legendgroup\":\"blocks.0.norm2.bias.(768,)\",\"marker\":{\"color\":\"#EF553B\",\"pattern\":{\"shape\":\"\"}},\"name\":\"blocks.0.norm2.bias.(768,)\",\"offsetgroup\":\"blocks.0.norm2.bias.(768,)\",\"orientation\":\"v\",\"showlegend\":true,\"textposition\":\"auto\",\"x\":[\"blocks\"],\"xaxis\":\"x\",\"y\":[768],\"yaxis\":\"y\",\"type\":\"bar\"},{\"alignmentgroup\":\"True\",\"hovertemplate\":\"layer=blocks.0.mlp.fc1.weight.(3072, 768)<br>block=%{x}<br>Log10_ParaM=%{y}<extra></extra>\",\"legendgroup\":\"blocks.0.mlp.fc1.weight.(3072, 768)\",\"marker\":{\"color\":\"#00cc96\",\"pattern\":{\"shape\":\"\"}},\"name\":\"blocks.0.mlp.fc1.weight.(3072, 768)\",\"offsetgroup\":\"blocks.0.mlp.fc1.weight.(3072, 768)\",\"orientation\":\"v\",\"showlegend\":true,\"textposition\":\"auto\",\"x\":[\"blocks\"],\"xaxis\":\"x\",\"y\":[2359296],\"yaxis\":\"y\",\"type\":\"bar\"},{\"alignmentgroup\":\"True\",\"hovertemplate\":\"layer=blocks.0.mlp.fc1.bias.(3072,)<br>block=%{x}<br>Log10_ParaM=%{y}<extra></extra>\",\"legendgroup\":\"blocks.0.mlp.fc1.bias.(3072,)\",\"marker\":{\"color\":\"#ab63fa\",\"pattern\":{\"shape\":\"\"}},\"name\":\"blocks.0.mlp.fc1.bias.(3072,)\",\"offsetgroup\":\"blocks.0.mlp.fc1.bias.(3072,)\",\"orientation\":\"v\",\"showlegend\":true,\"textposition\":\"auto\",\"x\":[\"blocks\"],\"xaxis\":\"x\",\"y\":[3072],\"yaxis\":\"y\",\"type\":\"bar\"},{\"alignmentgroup\":\"True\",\"hovertemplate\":\"layer=blocks.1.norm1.weight.(768,)<br>block=%{x}<br>Log10_ParaM=%{y}<extra></extra>\",\"legendgroup\":\"blocks.1.norm1.weight.(768,)\",\"marker\":{\"color\":\"#FFA15A\",\"pattern\":{\"shape\":\"\"}},\"name\":\"blocks.1.norm1.weight.(768,)\",\"offsetgroup\":\"blocks.1.norm1.weight.(768,)\",\"orientation\":\"v\",\"showlegend\":true,\"textposition\":\"auto\",\"x\":[\"blocks\"],\"xaxis\":\"x\",\"y\":[768],\"yaxis\":\"y\",\"type\":\"bar\"},{\"alignmentgroup\":\"True\",\"hovertemplate\":\"layer=blocks.1.norm1.bias.(768,)<br>block=%{x}<br>Log10_ParaM=%{y}<extra></extra>\",\"legendgroup\":\"blocks.1.norm1.bias.(768,)\",\"marker\":{\"color\":\"#19d3f3\",\"pattern\":{\"shape\":\"\"}},\"name\":\"blocks.1.norm1.bias.(768,)\",\"offsetgroup\":\"blocks.1.norm1.bias.(768,)\",\"orientation\":\"v\",\"showlegend\":true,\"textposition\":\"auto\",\"x\":[\"blocks\"],\"xaxis\":\"x\",\"y\":[768],\"yaxis\":\"y\",\"type\":\"bar\"},{\"alignmentgroup\":\"True\",\"hovertemplate\":\"layer=blocks.1.filter.w1.(2, 4, 192, 192)<br>block=%{x}<br>Log10_ParaM=%{y}<extra></extra>\",\"legendgroup\":\"blocks.1.filter.w1.(2, 4, 192, 192)\",\"marker\":{\"color\":\"#FF6692\",\"pattern\":{\"shape\":\"\"}},\"name\":\"blocks.1.filter.w1.(2, 4, 192, 192)\",\"offsetgroup\":\"blocks.1.filter.w1.(2, 4, 192, 192)\",\"orientation\":\"v\",\"showlegend\":true,\"textposition\":\"auto\",\"x\":[\"blocks\"],\"xaxis\":\"x\",\"y\":[294912],\"yaxis\":\"y\",\"type\":\"bar\"},{\"alignmentgroup\":\"True\",\"hovertemplate\":\"layer=blocks.1.filter.b1.(2, 4, 192)<br>block=%{x}<br>Log10_ParaM=%{y}<extra></extra>\",\"legendgroup\":\"blocks.1.filter.b1.(2, 4, 192)\",\"marker\":{\"color\":\"#B6E880\",\"pattern\":{\"shape\":\"\"}},\"name\":\"blocks.1.filter.b1.(2, 4, 192)\",\"offsetgroup\":\"blocks.1.filter.b1.(2, 4, 192)\",\"orientation\":\"v\",\"showlegend\":true,\"textposition\":\"auto\",\"x\":[\"blocks\"],\"xaxis\":\"x\",\"y\":[1536],\"yaxis\":\"y\",\"type\":\"bar\"},{\"alignmentgroup\":\"True\",\"hovertemplate\":\"layer=blocks.1.filter.w2.(2, 4, 192, 192)<br>block=%{x}<br>Log10_ParaM=%{y}<extra></extra>\",\"legendgroup\":\"blocks.1.filter.w2.(2, 4, 192, 192)\",\"marker\":{\"color\":\"#FF97FF\",\"pattern\":{\"shape\":\"\"}},\"name\":\"blocks.1.filter.w2.(2, 4, 192, 192)\",\"offsetgroup\":\"blocks.1.filter.w2.(2, 4, 192, 192)\",\"orientation\":\"v\",\"showlegend\":true,\"textposition\":\"auto\",\"x\":[\"blocks\"],\"xaxis\":\"x\",\"y\":[294912],\"yaxis\":\"y\",\"type\":\"bar\"},{\"alignmentgroup\":\"True\",\"hovertemplate\":\"layer=blocks.1.filter.b2.(2, 4, 192)<br>block=%{x}<br>Log10_ParaM=%{y}<extra></extra>\",\"legendgroup\":\"blocks.1.filter.b2.(2, 4, 192)\",\"marker\":{\"color\":\"#FECB52\",\"pattern\":{\"shape\":\"\"}},\"name\":\"blocks.1.filter.b2.(2, 4, 192)\",\"offsetgroup\":\"blocks.1.filter.b2.(2, 4, 192)\",\"orientation\":\"v\",\"showlegend\":true,\"textposition\":\"auto\",\"x\":[\"blocks\"],\"xaxis\":\"x\",\"y\":[1536],\"yaxis\":\"y\",\"type\":\"bar\"},{\"alignmentgroup\":\"True\",\"hovertemplate\":\"layer=blocks.1.norm2.weight.(768,)<br>block=%{x}<br>Log10_ParaM=%{y}<extra></extra>\",\"legendgroup\":\"blocks.1.norm2.weight.(768,)\",\"marker\":{\"color\":\"#636efa\",\"pattern\":{\"shape\":\"\"}},\"name\":\"blocks.1.norm2.weight.(768,)\",\"offsetgroup\":\"blocks.1.norm2.weight.(768,)\",\"orientation\":\"v\",\"showlegend\":true,\"textposition\":\"auto\",\"x\":[\"blocks\"],\"xaxis\":\"x\",\"y\":[768],\"yaxis\":\"y\",\"type\":\"bar\"},{\"alignmentgroup\":\"True\",\"hovertemplate\":\"layer=blocks.1.norm2.bias.(768,)<br>block=%{x}<br>Log10_ParaM=%{y}<extra></extra>\",\"legendgroup\":\"blocks.1.norm2.bias.(768,)\",\"marker\":{\"color\":\"#EF553B\",\"pattern\":{\"shape\":\"\"}},\"name\":\"blocks.1.norm2.bias.(768,)\",\"offsetgroup\":\"blocks.1.norm2.bias.(768,)\",\"orientation\":\"v\",\"showlegend\":true,\"textposition\":\"auto\",\"x\":[\"blocks\"],\"xaxis\":\"x\",\"y\":[768],\"yaxis\":\"y\",\"type\":\"bar\"},{\"alignmentgroup\":\"True\",\"hovertemplate\":\"layer=blocks.1.mlp.fc1.weight.(3072, 768)<br>block=%{x}<br>Log10_ParaM=%{y}<extra></extra>\",\"legendgroup\":\"blocks.1.mlp.fc1.weight.(3072, 768)\",\"marker\":{\"color\":\"#00cc96\",\"pattern\":{\"shape\":\"\"}},\"name\":\"blocks.1.mlp.fc1.weight.(3072, 768)\",\"offsetgroup\":\"blocks.1.mlp.fc1.weight.(3072, 768)\",\"orientation\":\"v\",\"showlegend\":true,\"textposition\":\"auto\",\"x\":[\"blocks\"],\"xaxis\":\"x\",\"y\":[2359296],\"yaxis\":\"y\",\"type\":\"bar\"},{\"alignmentgroup\":\"True\",\"hovertemplate\":\"layer=blocks.1.mlp.fc1.bias.(3072,)<br>block=%{x}<br>Log10_ParaM=%{y}<extra></extra>\",\"legendgroup\":\"blocks.1.mlp.fc1.bias.(3072,)\",\"marker\":{\"color\":\"#ab63fa\",\"pattern\":{\"shape\":\"\"}},\"name\":\"blocks.1.mlp.fc1.bias.(3072,)\",\"offsetgroup\":\"blocks.1.mlp.fc1.bias.(3072,)\",\"orientation\":\"v\",\"showlegend\":true,\"textposition\":\"auto\",\"x\":[\"blocks\"],\"xaxis\":\"x\",\"y\":[3072],\"yaxis\":\"y\",\"type\":\"bar\"},{\"alignmentgroup\":\"True\",\"hovertemplate\":\"layer=blocks.2.norm1.weight.(768,)<br>block=%{x}<br>Log10_ParaM=%{y}<extra></extra>\",\"legendgroup\":\"blocks.2.norm1.weight.(768,)\",\"marker\":{\"color\":\"#FFA15A\",\"pattern\":{\"shape\":\"\"}},\"name\":\"blocks.2.norm1.weight.(768,)\",\"offsetgroup\":\"blocks.2.norm1.weight.(768,)\",\"orientation\":\"v\",\"showlegend\":true,\"textposition\":\"auto\",\"x\":[\"blocks\"],\"xaxis\":\"x\",\"y\":[768],\"yaxis\":\"y\",\"type\":\"bar\"},{\"alignmentgroup\":\"True\",\"hovertemplate\":\"layer=blocks.2.norm1.bias.(768,)<br>block=%{x}<br>Log10_ParaM=%{y}<extra></extra>\",\"legendgroup\":\"blocks.2.norm1.bias.(768,)\",\"marker\":{\"color\":\"#19d3f3\",\"pattern\":{\"shape\":\"\"}},\"name\":\"blocks.2.norm1.bias.(768,)\",\"offsetgroup\":\"blocks.2.norm1.bias.(768,)\",\"orientation\":\"v\",\"showlegend\":true,\"textposition\":\"auto\",\"x\":[\"blocks\"],\"xaxis\":\"x\",\"y\":[768],\"yaxis\":\"y\",\"type\":\"bar\"},{\"alignmentgroup\":\"True\",\"hovertemplate\":\"layer=blocks.2.filter.w1.(2, 4, 192, 192)<br>block=%{x}<br>Log10_ParaM=%{y}<extra></extra>\",\"legendgroup\":\"blocks.2.filter.w1.(2, 4, 192, 192)\",\"marker\":{\"color\":\"#FF6692\",\"pattern\":{\"shape\":\"\"}},\"name\":\"blocks.2.filter.w1.(2, 4, 192, 192)\",\"offsetgroup\":\"blocks.2.filter.w1.(2, 4, 192, 192)\",\"orientation\":\"v\",\"showlegend\":true,\"textposition\":\"auto\",\"x\":[\"blocks\"],\"xaxis\":\"x\",\"y\":[294912],\"yaxis\":\"y\",\"type\":\"bar\"},{\"alignmentgroup\":\"True\",\"hovertemplate\":\"layer=blocks.2.filter.b1.(2, 4, 192)<br>block=%{x}<br>Log10_ParaM=%{y}<extra></extra>\",\"legendgroup\":\"blocks.2.filter.b1.(2, 4, 192)\",\"marker\":{\"color\":\"#B6E880\",\"pattern\":{\"shape\":\"\"}},\"name\":\"blocks.2.filter.b1.(2, 4, 192)\",\"offsetgroup\":\"blocks.2.filter.b1.(2, 4, 192)\",\"orientation\":\"v\",\"showlegend\":true,\"textposition\":\"auto\",\"x\":[\"blocks\"],\"xaxis\":\"x\",\"y\":[1536],\"yaxis\":\"y\",\"type\":\"bar\"},{\"alignmentgroup\":\"True\",\"hovertemplate\":\"layer=blocks.2.filter.w2.(2, 4, 192, 192)<br>block=%{x}<br>Log10_ParaM=%{y}<extra></extra>\",\"legendgroup\":\"blocks.2.filter.w2.(2, 4, 192, 192)\",\"marker\":{\"color\":\"#FF97FF\",\"pattern\":{\"shape\":\"\"}},\"name\":\"blocks.2.filter.w2.(2, 4, 192, 192)\",\"offsetgroup\":\"blocks.2.filter.w2.(2, 4, 192, 192)\",\"orientation\":\"v\",\"showlegend\":true,\"textposition\":\"auto\",\"x\":[\"blocks\"],\"xaxis\":\"x\",\"y\":[294912],\"yaxis\":\"y\",\"type\":\"bar\"},{\"alignmentgroup\":\"True\",\"hovertemplate\":\"layer=blocks.2.filter.b2.(2, 4, 192)<br>block=%{x}<br>Log10_ParaM=%{y}<extra></extra>\",\"legendgroup\":\"blocks.2.filter.b2.(2, 4, 192)\",\"marker\":{\"color\":\"#FECB52\",\"pattern\":{\"shape\":\"\"}},\"name\":\"blocks.2.filter.b2.(2, 4, 192)\",\"offsetgroup\":\"blocks.2.filter.b2.(2, 4, 192)\",\"orientation\":\"v\",\"showlegend\":true,\"textposition\":\"auto\",\"x\":[\"blocks\"],\"xaxis\":\"x\",\"y\":[1536],\"yaxis\":\"y\",\"type\":\"bar\"},{\"alignmentgroup\":\"True\",\"hovertemplate\":\"layer=blocks.2.norm2.weight.(768,)<br>block=%{x}<br>Log10_ParaM=%{y}<extra></extra>\",\"legendgroup\":\"blocks.2.norm2.weight.(768,)\",\"marker\":{\"color\":\"#636efa\",\"pattern\":{\"shape\":\"\"}},\"name\":\"blocks.2.norm2.weight.(768,)\",\"offsetgroup\":\"blocks.2.norm2.weight.(768,)\",\"orientation\":\"v\",\"showlegend\":true,\"textposition\":\"auto\",\"x\":[\"blocks\"],\"xaxis\":\"x\",\"y\":[768],\"yaxis\":\"y\",\"type\":\"bar\"},{\"alignmentgroup\":\"True\",\"hovertemplate\":\"layer=blocks.2.norm2.bias.(768,)<br>block=%{x}<br>Log10_ParaM=%{y}<extra></extra>\",\"legendgroup\":\"blocks.2.norm2.bias.(768,)\",\"marker\":{\"color\":\"#EF553B\",\"pattern\":{\"shape\":\"\"}},\"name\":\"blocks.2.norm2.bias.(768,)\",\"offsetgroup\":\"blocks.2.norm2.bias.(768,)\",\"orientation\":\"v\",\"showlegend\":true,\"textposition\":\"auto\",\"x\":[\"blocks\"],\"xaxis\":\"x\",\"y\":[768],\"yaxis\":\"y\",\"type\":\"bar\"},{\"alignmentgroup\":\"True\",\"hovertemplate\":\"layer=blocks.2.mlp.fc1.weight.(3072, 768)<br>block=%{x}<br>Log10_ParaM=%{y}<extra></extra>\",\"legendgroup\":\"blocks.2.mlp.fc1.weight.(3072, 768)\",\"marker\":{\"color\":\"#00cc96\",\"pattern\":{\"shape\":\"\"}},\"name\":\"blocks.2.mlp.fc1.weight.(3072, 768)\",\"offsetgroup\":\"blocks.2.mlp.fc1.weight.(3072, 768)\",\"orientation\":\"v\",\"showlegend\":true,\"textposition\":\"auto\",\"x\":[\"blocks\"],\"xaxis\":\"x\",\"y\":[2359296],\"yaxis\":\"y\",\"type\":\"bar\"},{\"alignmentgroup\":\"True\",\"hovertemplate\":\"layer=blocks.2.mlp.fc1.bias.(3072,)<br>block=%{x}<br>Log10_ParaM=%{y}<extra></extra>\",\"legendgroup\":\"blocks.2.mlp.fc1.bias.(3072,)\",\"marker\":{\"color\":\"#ab63fa\",\"pattern\":{\"shape\":\"\"}},\"name\":\"blocks.2.mlp.fc1.bias.(3072,)\",\"offsetgroup\":\"blocks.2.mlp.fc1.bias.(3072,)\",\"orientation\":\"v\",\"showlegend\":true,\"textposition\":\"auto\",\"x\":[\"blocks\"],\"xaxis\":\"x\",\"y\":[3072],\"yaxis\":\"y\",\"type\":\"bar\"},{\"alignmentgroup\":\"True\",\"hovertemplate\":\"layer=blocks.3.norm1.weight.(768,)<br>block=%{x}<br>Log10_ParaM=%{y}<extra></extra>\",\"legendgroup\":\"blocks.3.norm1.weight.(768,)\",\"marker\":{\"color\":\"#FFA15A\",\"pattern\":{\"shape\":\"\"}},\"name\":\"blocks.3.norm1.weight.(768,)\",\"offsetgroup\":\"blocks.3.norm1.weight.(768,)\",\"orientation\":\"v\",\"showlegend\":true,\"textposition\":\"auto\",\"x\":[\"blocks\"],\"xaxis\":\"x\",\"y\":[768],\"yaxis\":\"y\",\"type\":\"bar\"},{\"alignmentgroup\":\"True\",\"hovertemplate\":\"layer=blocks.3.norm1.bias.(768,)<br>block=%{x}<br>Log10_ParaM=%{y}<extra></extra>\",\"legendgroup\":\"blocks.3.norm1.bias.(768,)\",\"marker\":{\"color\":\"#19d3f3\",\"pattern\":{\"shape\":\"\"}},\"name\":\"blocks.3.norm1.bias.(768,)\",\"offsetgroup\":\"blocks.3.norm1.bias.(768,)\",\"orientation\":\"v\",\"showlegend\":true,\"textposition\":\"auto\",\"x\":[\"blocks\"],\"xaxis\":\"x\",\"y\":[768],\"yaxis\":\"y\",\"type\":\"bar\"},{\"alignmentgroup\":\"True\",\"hovertemplate\":\"layer=blocks.3.filter.w1.(2, 4, 192, 192)<br>block=%{x}<br>Log10_ParaM=%{y}<extra></extra>\",\"legendgroup\":\"blocks.3.filter.w1.(2, 4, 192, 192)\",\"marker\":{\"color\":\"#FF6692\",\"pattern\":{\"shape\":\"\"}},\"name\":\"blocks.3.filter.w1.(2, 4, 192, 192)\",\"offsetgroup\":\"blocks.3.filter.w1.(2, 4, 192, 192)\",\"orientation\":\"v\",\"showlegend\":true,\"textposition\":\"auto\",\"x\":[\"blocks\"],\"xaxis\":\"x\",\"y\":[294912],\"yaxis\":\"y\",\"type\":\"bar\"},{\"alignmentgroup\":\"True\",\"hovertemplate\":\"layer=blocks.3.filter.b1.(2, 4, 192)<br>block=%{x}<br>Log10_ParaM=%{y}<extra></extra>\",\"legendgroup\":\"blocks.3.filter.b1.(2, 4, 192)\",\"marker\":{\"color\":\"#B6E880\",\"pattern\":{\"shape\":\"\"}},\"name\":\"blocks.3.filter.b1.(2, 4, 192)\",\"offsetgroup\":\"blocks.3.filter.b1.(2, 4, 192)\",\"orientation\":\"v\",\"showlegend\":true,\"textposition\":\"auto\",\"x\":[\"blocks\"],\"xaxis\":\"x\",\"y\":[1536],\"yaxis\":\"y\",\"type\":\"bar\"},{\"alignmentgroup\":\"True\",\"hovertemplate\":\"layer=blocks.3.filter.w2.(2, 4, 192, 192)<br>block=%{x}<br>Log10_ParaM=%{y}<extra></extra>\",\"legendgroup\":\"blocks.3.filter.w2.(2, 4, 192, 192)\",\"marker\":{\"color\":\"#FF97FF\",\"pattern\":{\"shape\":\"\"}},\"name\":\"blocks.3.filter.w2.(2, 4, 192, 192)\",\"offsetgroup\":\"blocks.3.filter.w2.(2, 4, 192, 192)\",\"orientation\":\"v\",\"showlegend\":true,\"textposition\":\"auto\",\"x\":[\"blocks\"],\"xaxis\":\"x\",\"y\":[294912],\"yaxis\":\"y\",\"type\":\"bar\"},{\"alignmentgroup\":\"True\",\"hovertemplate\":\"layer=blocks.3.filter.b2.(2, 4, 192)<br>block=%{x}<br>Log10_ParaM=%{y}<extra></extra>\",\"legendgroup\":\"blocks.3.filter.b2.(2, 4, 192)\",\"marker\":{\"color\":\"#FECB52\",\"pattern\":{\"shape\":\"\"}},\"name\":\"blocks.3.filter.b2.(2, 4, 192)\",\"offsetgroup\":\"blocks.3.filter.b2.(2, 4, 192)\",\"orientation\":\"v\",\"showlegend\":true,\"textposition\":\"auto\",\"x\":[\"blocks\"],\"xaxis\":\"x\",\"y\":[1536],\"yaxis\":\"y\",\"type\":\"bar\"},{\"alignmentgroup\":\"True\",\"hovertemplate\":\"layer=blocks.3.norm2.weight.(768,)<br>block=%{x}<br>Log10_ParaM=%{y}<extra></extra>\",\"legendgroup\":\"blocks.3.norm2.weight.(768,)\",\"marker\":{\"color\":\"#636efa\",\"pattern\":{\"shape\":\"\"}},\"name\":\"blocks.3.norm2.weight.(768,)\",\"offsetgroup\":\"blocks.3.norm2.weight.(768,)\",\"orientation\":\"v\",\"showlegend\":true,\"textposition\":\"auto\",\"x\":[\"blocks\"],\"xaxis\":\"x\",\"y\":[768],\"yaxis\":\"y\",\"type\":\"bar\"},{\"alignmentgroup\":\"True\",\"hovertemplate\":\"layer=blocks.3.norm2.bias.(768,)<br>block=%{x}<br>Log10_ParaM=%{y}<extra></extra>\",\"legendgroup\":\"blocks.3.norm2.bias.(768,)\",\"marker\":{\"color\":\"#EF553B\",\"pattern\":{\"shape\":\"\"}},\"name\":\"blocks.3.norm2.bias.(768,)\",\"offsetgroup\":\"blocks.3.norm2.bias.(768,)\",\"orientation\":\"v\",\"showlegend\":true,\"textposition\":\"auto\",\"x\":[\"blocks\"],\"xaxis\":\"x\",\"y\":[768],\"yaxis\":\"y\",\"type\":\"bar\"},{\"alignmentgroup\":\"True\",\"hovertemplate\":\"layer=blocks.3.mlp.fc1.weight.(3072, 768)<br>block=%{x}<br>Log10_ParaM=%{y}<extra></extra>\",\"legendgroup\":\"blocks.3.mlp.fc1.weight.(3072, 768)\",\"marker\":{\"color\":\"#00cc96\",\"pattern\":{\"shape\":\"\"}},\"name\":\"blocks.3.mlp.fc1.weight.(3072, 768)\",\"offsetgroup\":\"blocks.3.mlp.fc1.weight.(3072, 768)\",\"orientation\":\"v\",\"showlegend\":true,\"textposition\":\"auto\",\"x\":[\"blocks\"],\"xaxis\":\"x\",\"y\":[2359296],\"yaxis\":\"y\",\"type\":\"bar\"},{\"alignmentgroup\":\"True\",\"hovertemplate\":\"layer=blocks.3.mlp.fc1.bias.(3072,)<br>block=%{x}<br>Log10_ParaM=%{y}<extra></extra>\",\"legendgroup\":\"blocks.3.mlp.fc1.bias.(3072,)\",\"marker\":{\"color\":\"#ab63fa\",\"pattern\":{\"shape\":\"\"}},\"name\":\"blocks.3.mlp.fc1.bias.(3072,)\",\"offsetgroup\":\"blocks.3.mlp.fc1.bias.(3072,)\",\"orientation\":\"v\",\"showlegend\":true,\"textposition\":\"auto\",\"x\":[\"blocks\"],\"xaxis\":\"x\",\"y\":[3072],\"yaxis\":\"y\",\"type\":\"bar\"},{\"alignmentgroup\":\"True\",\"hovertemplate\":\"layer=blocks.4.norm1.weight.(768,)<br>block=%{x}<br>Log10_ParaM=%{y}<extra></extra>\",\"legendgroup\":\"blocks.4.norm1.weight.(768,)\",\"marker\":{\"color\":\"#FFA15A\",\"pattern\":{\"shape\":\"\"}},\"name\":\"blocks.4.norm1.weight.(768,)\",\"offsetgroup\":\"blocks.4.norm1.weight.(768,)\",\"orientation\":\"v\",\"showlegend\":true,\"textposition\":\"auto\",\"x\":[\"blocks\"],\"xaxis\":\"x\",\"y\":[768],\"yaxis\":\"y\",\"type\":\"bar\"},{\"alignmentgroup\":\"True\",\"hovertemplate\":\"layer=blocks.4.norm1.bias.(768,)<br>block=%{x}<br>Log10_ParaM=%{y}<extra></extra>\",\"legendgroup\":\"blocks.4.norm1.bias.(768,)\",\"marker\":{\"color\":\"#19d3f3\",\"pattern\":{\"shape\":\"\"}},\"name\":\"blocks.4.norm1.bias.(768,)\",\"offsetgroup\":\"blocks.4.norm1.bias.(768,)\",\"orientation\":\"v\",\"showlegend\":true,\"textposition\":\"auto\",\"x\":[\"blocks\"],\"xaxis\":\"x\",\"y\":[768],\"yaxis\":\"y\",\"type\":\"bar\"},{\"alignmentgroup\":\"True\",\"hovertemplate\":\"layer=blocks.4.filter.w1.(2, 4, 192, 192)<br>block=%{x}<br>Log10_ParaM=%{y}<extra></extra>\",\"legendgroup\":\"blocks.4.filter.w1.(2, 4, 192, 192)\",\"marker\":{\"color\":\"#FF6692\",\"pattern\":{\"shape\":\"\"}},\"name\":\"blocks.4.filter.w1.(2, 4, 192, 192)\",\"offsetgroup\":\"blocks.4.filter.w1.(2, 4, 192, 192)\",\"orientation\":\"v\",\"showlegend\":true,\"textposition\":\"auto\",\"x\":[\"blocks\"],\"xaxis\":\"x\",\"y\":[294912],\"yaxis\":\"y\",\"type\":\"bar\"},{\"alignmentgroup\":\"True\",\"hovertemplate\":\"layer=blocks.4.filter.b1.(2, 4, 192)<br>block=%{x}<br>Log10_ParaM=%{y}<extra></extra>\",\"legendgroup\":\"blocks.4.filter.b1.(2, 4, 192)\",\"marker\":{\"color\":\"#B6E880\",\"pattern\":{\"shape\":\"\"}},\"name\":\"blocks.4.filter.b1.(2, 4, 192)\",\"offsetgroup\":\"blocks.4.filter.b1.(2, 4, 192)\",\"orientation\":\"v\",\"showlegend\":true,\"textposition\":\"auto\",\"x\":[\"blocks\"],\"xaxis\":\"x\",\"y\":[1536],\"yaxis\":\"y\",\"type\":\"bar\"},{\"alignmentgroup\":\"True\",\"hovertemplate\":\"layer=blocks.4.filter.w2.(2, 4, 192, 192)<br>block=%{x}<br>Log10_ParaM=%{y}<extra></extra>\",\"legendgroup\":\"blocks.4.filter.w2.(2, 4, 192, 192)\",\"marker\":{\"color\":\"#FF97FF\",\"pattern\":{\"shape\":\"\"}},\"name\":\"blocks.4.filter.w2.(2, 4, 192, 192)\",\"offsetgroup\":\"blocks.4.filter.w2.(2, 4, 192, 192)\",\"orientation\":\"v\",\"showlegend\":true,\"textposition\":\"auto\",\"x\":[\"blocks\"],\"xaxis\":\"x\",\"y\":[294912],\"yaxis\":\"y\",\"type\":\"bar\"},{\"alignmentgroup\":\"True\",\"hovertemplate\":\"layer=blocks.4.filter.b2.(2, 4, 192)<br>block=%{x}<br>Log10_ParaM=%{y}<extra></extra>\",\"legendgroup\":\"blocks.4.filter.b2.(2, 4, 192)\",\"marker\":{\"color\":\"#FECB52\",\"pattern\":{\"shape\":\"\"}},\"name\":\"blocks.4.filter.b2.(2, 4, 192)\",\"offsetgroup\":\"blocks.4.filter.b2.(2, 4, 192)\",\"orientation\":\"v\",\"showlegend\":true,\"textposition\":\"auto\",\"x\":[\"blocks\"],\"xaxis\":\"x\",\"y\":[1536],\"yaxis\":\"y\",\"type\":\"bar\"},{\"alignmentgroup\":\"True\",\"hovertemplate\":\"layer=blocks.4.norm2.weight.(768,)<br>block=%{x}<br>Log10_ParaM=%{y}<extra></extra>\",\"legendgroup\":\"blocks.4.norm2.weight.(768,)\",\"marker\":{\"color\":\"#636efa\",\"pattern\":{\"shape\":\"\"}},\"name\":\"blocks.4.norm2.weight.(768,)\",\"offsetgroup\":\"blocks.4.norm2.weight.(768,)\",\"orientation\":\"v\",\"showlegend\":true,\"textposition\":\"auto\",\"x\":[\"blocks\"],\"xaxis\":\"x\",\"y\":[768],\"yaxis\":\"y\",\"type\":\"bar\"},{\"alignmentgroup\":\"True\",\"hovertemplate\":\"layer=blocks.4.norm2.bias.(768,)<br>block=%{x}<br>Log10_ParaM=%{y}<extra></extra>\",\"legendgroup\":\"blocks.4.norm2.bias.(768,)\",\"marker\":{\"color\":\"#EF553B\",\"pattern\":{\"shape\":\"\"}},\"name\":\"blocks.4.norm2.bias.(768,)\",\"offsetgroup\":\"blocks.4.norm2.bias.(768,)\",\"orientation\":\"v\",\"showlegend\":true,\"textposition\":\"auto\",\"x\":[\"blocks\"],\"xaxis\":\"x\",\"y\":[768],\"yaxis\":\"y\",\"type\":\"bar\"},{\"alignmentgroup\":\"True\",\"hovertemplate\":\"layer=blocks.4.mlp.fc1.weight.(3072, 768)<br>block=%{x}<br>Log10_ParaM=%{y}<extra></extra>\",\"legendgroup\":\"blocks.4.mlp.fc1.weight.(3072, 768)\",\"marker\":{\"color\":\"#00cc96\",\"pattern\":{\"shape\":\"\"}},\"name\":\"blocks.4.mlp.fc1.weight.(3072, 768)\",\"offsetgroup\":\"blocks.4.mlp.fc1.weight.(3072, 768)\",\"orientation\":\"v\",\"showlegend\":true,\"textposition\":\"auto\",\"x\":[\"blocks\"],\"xaxis\":\"x\",\"y\":[2359296],\"yaxis\":\"y\",\"type\":\"bar\"},{\"alignmentgroup\":\"True\",\"hovertemplate\":\"layer=blocks.4.mlp.fc1.bias.(3072,)<br>block=%{x}<br>Log10_ParaM=%{y}<extra></extra>\",\"legendgroup\":\"blocks.4.mlp.fc1.bias.(3072,)\",\"marker\":{\"color\":\"#ab63fa\",\"pattern\":{\"shape\":\"\"}},\"name\":\"blocks.4.mlp.fc1.bias.(3072,)\",\"offsetgroup\":\"blocks.4.mlp.fc1.bias.(3072,)\",\"orientation\":\"v\",\"showlegend\":true,\"textposition\":\"auto\",\"x\":[\"blocks\"],\"xaxis\":\"x\",\"y\":[3072],\"yaxis\":\"y\",\"type\":\"bar\"},{\"alignmentgroup\":\"True\",\"hovertemplate\":\"layer=blocks.5.norm1.weight.(768,)<br>block=%{x}<br>Log10_ParaM=%{y}<extra></extra>\",\"legendgroup\":\"blocks.5.norm1.weight.(768,)\",\"marker\":{\"color\":\"#FFA15A\",\"pattern\":{\"shape\":\"\"}},\"name\":\"blocks.5.norm1.weight.(768,)\",\"offsetgroup\":\"blocks.5.norm1.weight.(768,)\",\"orientation\":\"v\",\"showlegend\":true,\"textposition\":\"auto\",\"x\":[\"blocks\"],\"xaxis\":\"x\",\"y\":[768],\"yaxis\":\"y\",\"type\":\"bar\"},{\"alignmentgroup\":\"True\",\"hovertemplate\":\"layer=blocks.5.norm1.bias.(768,)<br>block=%{x}<br>Log10_ParaM=%{y}<extra></extra>\",\"legendgroup\":\"blocks.5.norm1.bias.(768,)\",\"marker\":{\"color\":\"#19d3f3\",\"pattern\":{\"shape\":\"\"}},\"name\":\"blocks.5.norm1.bias.(768,)\",\"offsetgroup\":\"blocks.5.norm1.bias.(768,)\",\"orientation\":\"v\",\"showlegend\":true,\"textposition\":\"auto\",\"x\":[\"blocks\"],\"xaxis\":\"x\",\"y\":[768],\"yaxis\":\"y\",\"type\":\"bar\"},{\"alignmentgroup\":\"True\",\"hovertemplate\":\"layer=blocks.5.filter.w1.(2, 4, 192, 192)<br>block=%{x}<br>Log10_ParaM=%{y}<extra></extra>\",\"legendgroup\":\"blocks.5.filter.w1.(2, 4, 192, 192)\",\"marker\":{\"color\":\"#FF6692\",\"pattern\":{\"shape\":\"\"}},\"name\":\"blocks.5.filter.w1.(2, 4, 192, 192)\",\"offsetgroup\":\"blocks.5.filter.w1.(2, 4, 192, 192)\",\"orientation\":\"v\",\"showlegend\":true,\"textposition\":\"auto\",\"x\":[\"blocks\"],\"xaxis\":\"x\",\"y\":[294912],\"yaxis\":\"y\",\"type\":\"bar\"},{\"alignmentgroup\":\"True\",\"hovertemplate\":\"layer=blocks.5.filter.b1.(2, 4, 192)<br>block=%{x}<br>Log10_ParaM=%{y}<extra></extra>\",\"legendgroup\":\"blocks.5.filter.b1.(2, 4, 192)\",\"marker\":{\"color\":\"#B6E880\",\"pattern\":{\"shape\":\"\"}},\"name\":\"blocks.5.filter.b1.(2, 4, 192)\",\"offsetgroup\":\"blocks.5.filter.b1.(2, 4, 192)\",\"orientation\":\"v\",\"showlegend\":true,\"textposition\":\"auto\",\"x\":[\"blocks\"],\"xaxis\":\"x\",\"y\":[1536],\"yaxis\":\"y\",\"type\":\"bar\"},{\"alignmentgroup\":\"True\",\"hovertemplate\":\"layer=blocks.5.filter.w2.(2, 4, 192, 192)<br>block=%{x}<br>Log10_ParaM=%{y}<extra></extra>\",\"legendgroup\":\"blocks.5.filter.w2.(2, 4, 192, 192)\",\"marker\":{\"color\":\"#FF97FF\",\"pattern\":{\"shape\":\"\"}},\"name\":\"blocks.5.filter.w2.(2, 4, 192, 192)\",\"offsetgroup\":\"blocks.5.filter.w2.(2, 4, 192, 192)\",\"orientation\":\"v\",\"showlegend\":true,\"textposition\":\"auto\",\"x\":[\"blocks\"],\"xaxis\":\"x\",\"y\":[294912],\"yaxis\":\"y\",\"type\":\"bar\"},{\"alignmentgroup\":\"True\",\"hovertemplate\":\"layer=blocks.5.filter.b2.(2, 4, 192)<br>block=%{x}<br>Log10_ParaM=%{y}<extra></extra>\",\"legendgroup\":\"blocks.5.filter.b2.(2, 4, 192)\",\"marker\":{\"color\":\"#FECB52\",\"pattern\":{\"shape\":\"\"}},\"name\":\"blocks.5.filter.b2.(2, 4, 192)\",\"offsetgroup\":\"blocks.5.filter.b2.(2, 4, 192)\",\"orientation\":\"v\",\"showlegend\":true,\"textposition\":\"auto\",\"x\":[\"blocks\"],\"xaxis\":\"x\",\"y\":[1536],\"yaxis\":\"y\",\"type\":\"bar\"},{\"alignmentgroup\":\"True\",\"hovertemplate\":\"layer=blocks.5.norm2.weight.(768,)<br>block=%{x}<br>Log10_ParaM=%{y}<extra></extra>\",\"legendgroup\":\"blocks.5.norm2.weight.(768,)\",\"marker\":{\"color\":\"#636efa\",\"pattern\":{\"shape\":\"\"}},\"name\":\"blocks.5.norm2.weight.(768,)\",\"offsetgroup\":\"blocks.5.norm2.weight.(768,)\",\"orientation\":\"v\",\"showlegend\":true,\"textposition\":\"auto\",\"x\":[\"blocks\"],\"xaxis\":\"x\",\"y\":[768],\"yaxis\":\"y\",\"type\":\"bar\"},{\"alignmentgroup\":\"True\",\"hovertemplate\":\"layer=blocks.5.norm2.bias.(768,)<br>block=%{x}<br>Log10_ParaM=%{y}<extra></extra>\",\"legendgroup\":\"blocks.5.norm2.bias.(768,)\",\"marker\":{\"color\":\"#EF553B\",\"pattern\":{\"shape\":\"\"}},\"name\":\"blocks.5.norm2.bias.(768,)\",\"offsetgroup\":\"blocks.5.norm2.bias.(768,)\",\"orientation\":\"v\",\"showlegend\":true,\"textposition\":\"auto\",\"x\":[\"blocks\"],\"xaxis\":\"x\",\"y\":[768],\"yaxis\":\"y\",\"type\":\"bar\"},{\"alignmentgroup\":\"True\",\"hovertemplate\":\"layer=blocks.5.mlp.fc1.weight.(3072, 768)<br>block=%{x}<br>Log10_ParaM=%{y}<extra></extra>\",\"legendgroup\":\"blocks.5.mlp.fc1.weight.(3072, 768)\",\"marker\":{\"color\":\"#00cc96\",\"pattern\":{\"shape\":\"\"}},\"name\":\"blocks.5.mlp.fc1.weight.(3072, 768)\",\"offsetgroup\":\"blocks.5.mlp.fc1.weight.(3072, 768)\",\"orientation\":\"v\",\"showlegend\":true,\"textposition\":\"auto\",\"x\":[\"blocks\"],\"xaxis\":\"x\",\"y\":[2359296],\"yaxis\":\"y\",\"type\":\"bar\"},{\"alignmentgroup\":\"True\",\"hovertemplate\":\"layer=blocks.5.mlp.fc1.bias.(3072,)<br>block=%{x}<br>Log10_ParaM=%{y}<extra></extra>\",\"legendgroup\":\"blocks.5.mlp.fc1.bias.(3072,)\",\"marker\":{\"color\":\"#ab63fa\",\"pattern\":{\"shape\":\"\"}},\"name\":\"blocks.5.mlp.fc1.bias.(3072,)\",\"offsetgroup\":\"blocks.5.mlp.fc1.bias.(3072,)\",\"orientation\":\"v\",\"showlegend\":true,\"textposition\":\"auto\",\"x\":[\"blocks\"],\"xaxis\":\"x\",\"y\":[3072],\"yaxis\":\"y\",\"type\":\"bar\"},{\"alignmentgroup\":\"True\",\"hovertemplate\":\"layer=blocks.6.norm1.weight.(768,)<br>block=%{x}<br>Log10_ParaM=%{y}<extra></extra>\",\"legendgroup\":\"blocks.6.norm1.weight.(768,)\",\"marker\":{\"color\":\"#FFA15A\",\"pattern\":{\"shape\":\"\"}},\"name\":\"blocks.6.norm1.weight.(768,)\",\"offsetgroup\":\"blocks.6.norm1.weight.(768,)\",\"orientation\":\"v\",\"showlegend\":true,\"textposition\":\"auto\",\"x\":[\"blocks\"],\"xaxis\":\"x\",\"y\":[768],\"yaxis\":\"y\",\"type\":\"bar\"},{\"alignmentgroup\":\"True\",\"hovertemplate\":\"layer=blocks.6.norm1.bias.(768,)<br>block=%{x}<br>Log10_ParaM=%{y}<extra></extra>\",\"legendgroup\":\"blocks.6.norm1.bias.(768,)\",\"marker\":{\"color\":\"#19d3f3\",\"pattern\":{\"shape\":\"\"}},\"name\":\"blocks.6.norm1.bias.(768,)\",\"offsetgroup\":\"blocks.6.norm1.bias.(768,)\",\"orientation\":\"v\",\"showlegend\":true,\"textposition\":\"auto\",\"x\":[\"blocks\"],\"xaxis\":\"x\",\"y\":[768],\"yaxis\":\"y\",\"type\":\"bar\"},{\"alignmentgroup\":\"True\",\"hovertemplate\":\"layer=blocks.6.filter.w1.(2, 4, 192, 192)<br>block=%{x}<br>Log10_ParaM=%{y}<extra></extra>\",\"legendgroup\":\"blocks.6.filter.w1.(2, 4, 192, 192)\",\"marker\":{\"color\":\"#FF6692\",\"pattern\":{\"shape\":\"\"}},\"name\":\"blocks.6.filter.w1.(2, 4, 192, 192)\",\"offsetgroup\":\"blocks.6.filter.w1.(2, 4, 192, 192)\",\"orientation\":\"v\",\"showlegend\":true,\"textposition\":\"auto\",\"x\":[\"blocks\"],\"xaxis\":\"x\",\"y\":[294912],\"yaxis\":\"y\",\"type\":\"bar\"},{\"alignmentgroup\":\"True\",\"hovertemplate\":\"layer=blocks.6.filter.b1.(2, 4, 192)<br>block=%{x}<br>Log10_ParaM=%{y}<extra></extra>\",\"legendgroup\":\"blocks.6.filter.b1.(2, 4, 192)\",\"marker\":{\"color\":\"#B6E880\",\"pattern\":{\"shape\":\"\"}},\"name\":\"blocks.6.filter.b1.(2, 4, 192)\",\"offsetgroup\":\"blocks.6.filter.b1.(2, 4, 192)\",\"orientation\":\"v\",\"showlegend\":true,\"textposition\":\"auto\",\"x\":[\"blocks\"],\"xaxis\":\"x\",\"y\":[1536],\"yaxis\":\"y\",\"type\":\"bar\"},{\"alignmentgroup\":\"True\",\"hovertemplate\":\"layer=blocks.6.filter.w2.(2, 4, 192, 192)<br>block=%{x}<br>Log10_ParaM=%{y}<extra></extra>\",\"legendgroup\":\"blocks.6.filter.w2.(2, 4, 192, 192)\",\"marker\":{\"color\":\"#FF97FF\",\"pattern\":{\"shape\":\"\"}},\"name\":\"blocks.6.filter.w2.(2, 4, 192, 192)\",\"offsetgroup\":\"blocks.6.filter.w2.(2, 4, 192, 192)\",\"orientation\":\"v\",\"showlegend\":true,\"textposition\":\"auto\",\"x\":[\"blocks\"],\"xaxis\":\"x\",\"y\":[294912],\"yaxis\":\"y\",\"type\":\"bar\"},{\"alignmentgroup\":\"True\",\"hovertemplate\":\"layer=blocks.6.filter.b2.(2, 4, 192)<br>block=%{x}<br>Log10_ParaM=%{y}<extra></extra>\",\"legendgroup\":\"blocks.6.filter.b2.(2, 4, 192)\",\"marker\":{\"color\":\"#FECB52\",\"pattern\":{\"shape\":\"\"}},\"name\":\"blocks.6.filter.b2.(2, 4, 192)\",\"offsetgroup\":\"blocks.6.filter.b2.(2, 4, 192)\",\"orientation\":\"v\",\"showlegend\":true,\"textposition\":\"auto\",\"x\":[\"blocks\"],\"xaxis\":\"x\",\"y\":[1536],\"yaxis\":\"y\",\"type\":\"bar\"},{\"alignmentgroup\":\"True\",\"hovertemplate\":\"layer=blocks.6.norm2.weight.(768,)<br>block=%{x}<br>Log10_ParaM=%{y}<extra></extra>\",\"legendgroup\":\"blocks.6.norm2.weight.(768,)\",\"marker\":{\"color\":\"#636efa\",\"pattern\":{\"shape\":\"\"}},\"name\":\"blocks.6.norm2.weight.(768,)\",\"offsetgroup\":\"blocks.6.norm2.weight.(768,)\",\"orientation\":\"v\",\"showlegend\":true,\"textposition\":\"auto\",\"x\":[\"blocks\"],\"xaxis\":\"x\",\"y\":[768],\"yaxis\":\"y\",\"type\":\"bar\"},{\"alignmentgroup\":\"True\",\"hovertemplate\":\"layer=blocks.6.norm2.bias.(768,)<br>block=%{x}<br>Log10_ParaM=%{y}<extra></extra>\",\"legendgroup\":\"blocks.6.norm2.bias.(768,)\",\"marker\":{\"color\":\"#EF553B\",\"pattern\":{\"shape\":\"\"}},\"name\":\"blocks.6.norm2.bias.(768,)\",\"offsetgroup\":\"blocks.6.norm2.bias.(768,)\",\"orientation\":\"v\",\"showlegend\":true,\"textposition\":\"auto\",\"x\":[\"blocks\"],\"xaxis\":\"x\",\"y\":[768],\"yaxis\":\"y\",\"type\":\"bar\"},{\"alignmentgroup\":\"True\",\"hovertemplate\":\"layer=blocks.6.mlp.fc1.weight.(3072, 768)<br>block=%{x}<br>Log10_ParaM=%{y}<extra></extra>\",\"legendgroup\":\"blocks.6.mlp.fc1.weight.(3072, 768)\",\"marker\":{\"color\":\"#00cc96\",\"pattern\":{\"shape\":\"\"}},\"name\":\"blocks.6.mlp.fc1.weight.(3072, 768)\",\"offsetgroup\":\"blocks.6.mlp.fc1.weight.(3072, 768)\",\"orientation\":\"v\",\"showlegend\":true,\"textposition\":\"auto\",\"x\":[\"blocks\"],\"xaxis\":\"x\",\"y\":[2359296],\"yaxis\":\"y\",\"type\":\"bar\"},{\"alignmentgroup\":\"True\",\"hovertemplate\":\"layer=blocks.6.mlp.fc1.bias.(3072,)<br>block=%{x}<br>Log10_ParaM=%{y}<extra></extra>\",\"legendgroup\":\"blocks.6.mlp.fc1.bias.(3072,)\",\"marker\":{\"color\":\"#ab63fa\",\"pattern\":{\"shape\":\"\"}},\"name\":\"blocks.6.mlp.fc1.bias.(3072,)\",\"offsetgroup\":\"blocks.6.mlp.fc1.bias.(3072,)\",\"orientation\":\"v\",\"showlegend\":true,\"textposition\":\"auto\",\"x\":[\"blocks\"],\"xaxis\":\"x\",\"y\":[3072],\"yaxis\":\"y\",\"type\":\"bar\"},{\"alignmentgroup\":\"True\",\"hovertemplate\":\"layer=blocks.7.norm1.weight.(768,)<br>block=%{x}<br>Log10_ParaM=%{y}<extra></extra>\",\"legendgroup\":\"blocks.7.norm1.weight.(768,)\",\"marker\":{\"color\":\"#FFA15A\",\"pattern\":{\"shape\":\"\"}},\"name\":\"blocks.7.norm1.weight.(768,)\",\"offsetgroup\":\"blocks.7.norm1.weight.(768,)\",\"orientation\":\"v\",\"showlegend\":true,\"textposition\":\"auto\",\"x\":[\"blocks\"],\"xaxis\":\"x\",\"y\":[768],\"yaxis\":\"y\",\"type\":\"bar\"},{\"alignmentgroup\":\"True\",\"hovertemplate\":\"layer=blocks.7.norm1.bias.(768,)<br>block=%{x}<br>Log10_ParaM=%{y}<extra></extra>\",\"legendgroup\":\"blocks.7.norm1.bias.(768,)\",\"marker\":{\"color\":\"#19d3f3\",\"pattern\":{\"shape\":\"\"}},\"name\":\"blocks.7.norm1.bias.(768,)\",\"offsetgroup\":\"blocks.7.norm1.bias.(768,)\",\"orientation\":\"v\",\"showlegend\":true,\"textposition\":\"auto\",\"x\":[\"blocks\"],\"xaxis\":\"x\",\"y\":[768],\"yaxis\":\"y\",\"type\":\"bar\"},{\"alignmentgroup\":\"True\",\"hovertemplate\":\"layer=blocks.7.filter.w1.(2, 4, 192, 192)<br>block=%{x}<br>Log10_ParaM=%{y}<extra></extra>\",\"legendgroup\":\"blocks.7.filter.w1.(2, 4, 192, 192)\",\"marker\":{\"color\":\"#FF6692\",\"pattern\":{\"shape\":\"\"}},\"name\":\"blocks.7.filter.w1.(2, 4, 192, 192)\",\"offsetgroup\":\"blocks.7.filter.w1.(2, 4, 192, 192)\",\"orientation\":\"v\",\"showlegend\":true,\"textposition\":\"auto\",\"x\":[\"blocks\"],\"xaxis\":\"x\",\"y\":[294912],\"yaxis\":\"y\",\"type\":\"bar\"},{\"alignmentgroup\":\"True\",\"hovertemplate\":\"layer=blocks.7.filter.b1.(2, 4, 192)<br>block=%{x}<br>Log10_ParaM=%{y}<extra></extra>\",\"legendgroup\":\"blocks.7.filter.b1.(2, 4, 192)\",\"marker\":{\"color\":\"#B6E880\",\"pattern\":{\"shape\":\"\"}},\"name\":\"blocks.7.filter.b1.(2, 4, 192)\",\"offsetgroup\":\"blocks.7.filter.b1.(2, 4, 192)\",\"orientation\":\"v\",\"showlegend\":true,\"textposition\":\"auto\",\"x\":[\"blocks\"],\"xaxis\":\"x\",\"y\":[1536],\"yaxis\":\"y\",\"type\":\"bar\"},{\"alignmentgroup\":\"True\",\"hovertemplate\":\"layer=blocks.7.filter.w2.(2, 4, 192, 192)<br>block=%{x}<br>Log10_ParaM=%{y}<extra></extra>\",\"legendgroup\":\"blocks.7.filter.w2.(2, 4, 192, 192)\",\"marker\":{\"color\":\"#FF97FF\",\"pattern\":{\"shape\":\"\"}},\"name\":\"blocks.7.filter.w2.(2, 4, 192, 192)\",\"offsetgroup\":\"blocks.7.filter.w2.(2, 4, 192, 192)\",\"orientation\":\"v\",\"showlegend\":true,\"textposition\":\"auto\",\"x\":[\"blocks\"],\"xaxis\":\"x\",\"y\":[294912],\"yaxis\":\"y\",\"type\":\"bar\"},{\"alignmentgroup\":\"True\",\"hovertemplate\":\"layer=blocks.7.filter.b2.(2, 4, 192)<br>block=%{x}<br>Log10_ParaM=%{y}<extra></extra>\",\"legendgroup\":\"blocks.7.filter.b2.(2, 4, 192)\",\"marker\":{\"color\":\"#FECB52\",\"pattern\":{\"shape\":\"\"}},\"name\":\"blocks.7.filter.b2.(2, 4, 192)\",\"offsetgroup\":\"blocks.7.filter.b2.(2, 4, 192)\",\"orientation\":\"v\",\"showlegend\":true,\"textposition\":\"auto\",\"x\":[\"blocks\"],\"xaxis\":\"x\",\"y\":[1536],\"yaxis\":\"y\",\"type\":\"bar\"},{\"alignmentgroup\":\"True\",\"hovertemplate\":\"layer=blocks.7.norm2.weight.(768,)<br>block=%{x}<br>Log10_ParaM=%{y}<extra></extra>\",\"legendgroup\":\"blocks.7.norm2.weight.(768,)\",\"marker\":{\"color\":\"#636efa\",\"pattern\":{\"shape\":\"\"}},\"name\":\"blocks.7.norm2.weight.(768,)\",\"offsetgroup\":\"blocks.7.norm2.weight.(768,)\",\"orientation\":\"v\",\"showlegend\":true,\"textposition\":\"auto\",\"x\":[\"blocks\"],\"xaxis\":\"x\",\"y\":[768],\"yaxis\":\"y\",\"type\":\"bar\"},{\"alignmentgroup\":\"True\",\"hovertemplate\":\"layer=blocks.7.norm2.bias.(768,)<br>block=%{x}<br>Log10_ParaM=%{y}<extra></extra>\",\"legendgroup\":\"blocks.7.norm2.bias.(768,)\",\"marker\":{\"color\":\"#EF553B\",\"pattern\":{\"shape\":\"\"}},\"name\":\"blocks.7.norm2.bias.(768,)\",\"offsetgroup\":\"blocks.7.norm2.bias.(768,)\",\"orientation\":\"v\",\"showlegend\":true,\"textposition\":\"auto\",\"x\":[\"blocks\"],\"xaxis\":\"x\",\"y\":[768],\"yaxis\":\"y\",\"type\":\"bar\"},{\"alignmentgroup\":\"True\",\"hovertemplate\":\"layer=blocks.7.mlp.fc1.weight.(3072, 768)<br>block=%{x}<br>Log10_ParaM=%{y}<extra></extra>\",\"legendgroup\":\"blocks.7.mlp.fc1.weight.(3072, 768)\",\"marker\":{\"color\":\"#00cc96\",\"pattern\":{\"shape\":\"\"}},\"name\":\"blocks.7.mlp.fc1.weight.(3072, 768)\",\"offsetgroup\":\"blocks.7.mlp.fc1.weight.(3072, 768)\",\"orientation\":\"v\",\"showlegend\":true,\"textposition\":\"auto\",\"x\":[\"blocks\"],\"xaxis\":\"x\",\"y\":[2359296],\"yaxis\":\"y\",\"type\":\"bar\"},{\"alignmentgroup\":\"True\",\"hovertemplate\":\"layer=blocks.7.mlp.fc1.bias.(3072,)<br>block=%{x}<br>Log10_ParaM=%{y}<extra></extra>\",\"legendgroup\":\"blocks.7.mlp.fc1.bias.(3072,)\",\"marker\":{\"color\":\"#ab63fa\",\"pattern\":{\"shape\":\"\"}},\"name\":\"blocks.7.mlp.fc1.bias.(3072,)\",\"offsetgroup\":\"blocks.7.mlp.fc1.bias.(3072,)\",\"orientation\":\"v\",\"showlegend\":true,\"textposition\":\"auto\",\"x\":[\"blocks\"],\"xaxis\":\"x\",\"y\":[3072],\"yaxis\":\"y\",\"type\":\"bar\"},{\"alignmentgroup\":\"True\",\"hovertemplate\":\"layer=blocks.8.norm1.weight.(768,)<br>block=%{x}<br>Log10_ParaM=%{y}<extra></extra>\",\"legendgroup\":\"blocks.8.norm1.weight.(768,)\",\"marker\":{\"color\":\"#FFA15A\",\"pattern\":{\"shape\":\"\"}},\"name\":\"blocks.8.norm1.weight.(768,)\",\"offsetgroup\":\"blocks.8.norm1.weight.(768,)\",\"orientation\":\"v\",\"showlegend\":true,\"textposition\":\"auto\",\"x\":[\"blocks\"],\"xaxis\":\"x\",\"y\":[768],\"yaxis\":\"y\",\"type\":\"bar\"},{\"alignmentgroup\":\"True\",\"hovertemplate\":\"layer=blocks.8.norm1.bias.(768,)<br>block=%{x}<br>Log10_ParaM=%{y}<extra></extra>\",\"legendgroup\":\"blocks.8.norm1.bias.(768,)\",\"marker\":{\"color\":\"#19d3f3\",\"pattern\":{\"shape\":\"\"}},\"name\":\"blocks.8.norm1.bias.(768,)\",\"offsetgroup\":\"blocks.8.norm1.bias.(768,)\",\"orientation\":\"v\",\"showlegend\":true,\"textposition\":\"auto\",\"x\":[\"blocks\"],\"xaxis\":\"x\",\"y\":[768],\"yaxis\":\"y\",\"type\":\"bar\"},{\"alignmentgroup\":\"True\",\"hovertemplate\":\"layer=blocks.8.filter.w1.(2, 4, 192, 192)<br>block=%{x}<br>Log10_ParaM=%{y}<extra></extra>\",\"legendgroup\":\"blocks.8.filter.w1.(2, 4, 192, 192)\",\"marker\":{\"color\":\"#FF6692\",\"pattern\":{\"shape\":\"\"}},\"name\":\"blocks.8.filter.w1.(2, 4, 192, 192)\",\"offsetgroup\":\"blocks.8.filter.w1.(2, 4, 192, 192)\",\"orientation\":\"v\",\"showlegend\":true,\"textposition\":\"auto\",\"x\":[\"blocks\"],\"xaxis\":\"x\",\"y\":[294912],\"yaxis\":\"y\",\"type\":\"bar\"},{\"alignmentgroup\":\"True\",\"hovertemplate\":\"layer=blocks.8.filter.b1.(2, 4, 192)<br>block=%{x}<br>Log10_ParaM=%{y}<extra></extra>\",\"legendgroup\":\"blocks.8.filter.b1.(2, 4, 192)\",\"marker\":{\"color\":\"#B6E880\",\"pattern\":{\"shape\":\"\"}},\"name\":\"blocks.8.filter.b1.(2, 4, 192)\",\"offsetgroup\":\"blocks.8.filter.b1.(2, 4, 192)\",\"orientation\":\"v\",\"showlegend\":true,\"textposition\":\"auto\",\"x\":[\"blocks\"],\"xaxis\":\"x\",\"y\":[1536],\"yaxis\":\"y\",\"type\":\"bar\"},{\"alignmentgroup\":\"True\",\"hovertemplate\":\"layer=blocks.8.filter.w2.(2, 4, 192, 192)<br>block=%{x}<br>Log10_ParaM=%{y}<extra></extra>\",\"legendgroup\":\"blocks.8.filter.w2.(2, 4, 192, 192)\",\"marker\":{\"color\":\"#FF97FF\",\"pattern\":{\"shape\":\"\"}},\"name\":\"blocks.8.filter.w2.(2, 4, 192, 192)\",\"offsetgroup\":\"blocks.8.filter.w2.(2, 4, 192, 192)\",\"orientation\":\"v\",\"showlegend\":true,\"textposition\":\"auto\",\"x\":[\"blocks\"],\"xaxis\":\"x\",\"y\":[294912],\"yaxis\":\"y\",\"type\":\"bar\"},{\"alignmentgroup\":\"True\",\"hovertemplate\":\"layer=blocks.8.filter.b2.(2, 4, 192)<br>block=%{x}<br>Log10_ParaM=%{y}<extra></extra>\",\"legendgroup\":\"blocks.8.filter.b2.(2, 4, 192)\",\"marker\":{\"color\":\"#FECB52\",\"pattern\":{\"shape\":\"\"}},\"name\":\"blocks.8.filter.b2.(2, 4, 192)\",\"offsetgroup\":\"blocks.8.filter.b2.(2, 4, 192)\",\"orientation\":\"v\",\"showlegend\":true,\"textposition\":\"auto\",\"x\":[\"blocks\"],\"xaxis\":\"x\",\"y\":[1536],\"yaxis\":\"y\",\"type\":\"bar\"},{\"alignmentgroup\":\"True\",\"hovertemplate\":\"layer=blocks.8.norm2.weight.(768,)<br>block=%{x}<br>Log10_ParaM=%{y}<extra></extra>\",\"legendgroup\":\"blocks.8.norm2.weight.(768,)\",\"marker\":{\"color\":\"#636efa\",\"pattern\":{\"shape\":\"\"}},\"name\":\"blocks.8.norm2.weight.(768,)\",\"offsetgroup\":\"blocks.8.norm2.weight.(768,)\",\"orientation\":\"v\",\"showlegend\":true,\"textposition\":\"auto\",\"x\":[\"blocks\"],\"xaxis\":\"x\",\"y\":[768],\"yaxis\":\"y\",\"type\":\"bar\"},{\"alignmentgroup\":\"True\",\"hovertemplate\":\"layer=blocks.8.norm2.bias.(768,)<br>block=%{x}<br>Log10_ParaM=%{y}<extra></extra>\",\"legendgroup\":\"blocks.8.norm2.bias.(768,)\",\"marker\":{\"color\":\"#EF553B\",\"pattern\":{\"shape\":\"\"}},\"name\":\"blocks.8.norm2.bias.(768,)\",\"offsetgroup\":\"blocks.8.norm2.bias.(768,)\",\"orientation\":\"v\",\"showlegend\":true,\"textposition\":\"auto\",\"x\":[\"blocks\"],\"xaxis\":\"x\",\"y\":[768],\"yaxis\":\"y\",\"type\":\"bar\"},{\"alignmentgroup\":\"True\",\"hovertemplate\":\"layer=blocks.8.mlp.fc1.weight.(3072, 768)<br>block=%{x}<br>Log10_ParaM=%{y}<extra></extra>\",\"legendgroup\":\"blocks.8.mlp.fc1.weight.(3072, 768)\",\"marker\":{\"color\":\"#00cc96\",\"pattern\":{\"shape\":\"\"}},\"name\":\"blocks.8.mlp.fc1.weight.(3072, 768)\",\"offsetgroup\":\"blocks.8.mlp.fc1.weight.(3072, 768)\",\"orientation\":\"v\",\"showlegend\":true,\"textposition\":\"auto\",\"x\":[\"blocks\"],\"xaxis\":\"x\",\"y\":[2359296],\"yaxis\":\"y\",\"type\":\"bar\"},{\"alignmentgroup\":\"True\",\"hovertemplate\":\"layer=blocks.8.mlp.fc1.bias.(3072,)<br>block=%{x}<br>Log10_ParaM=%{y}<extra></extra>\",\"legendgroup\":\"blocks.8.mlp.fc1.bias.(3072,)\",\"marker\":{\"color\":\"#ab63fa\",\"pattern\":{\"shape\":\"\"}},\"name\":\"blocks.8.mlp.fc1.bias.(3072,)\",\"offsetgroup\":\"blocks.8.mlp.fc1.bias.(3072,)\",\"orientation\":\"v\",\"showlegend\":true,\"textposition\":\"auto\",\"x\":[\"blocks\"],\"xaxis\":\"x\",\"y\":[3072],\"yaxis\":\"y\",\"type\":\"bar\"},{\"alignmentgroup\":\"True\",\"hovertemplate\":\"layer=blocks.9.norm1.weight.(768,)<br>block=%{x}<br>Log10_ParaM=%{y}<extra></extra>\",\"legendgroup\":\"blocks.9.norm1.weight.(768,)\",\"marker\":{\"color\":\"#FFA15A\",\"pattern\":{\"shape\":\"\"}},\"name\":\"blocks.9.norm1.weight.(768,)\",\"offsetgroup\":\"blocks.9.norm1.weight.(768,)\",\"orientation\":\"v\",\"showlegend\":true,\"textposition\":\"auto\",\"x\":[\"blocks\"],\"xaxis\":\"x\",\"y\":[768],\"yaxis\":\"y\",\"type\":\"bar\"},{\"alignmentgroup\":\"True\",\"hovertemplate\":\"layer=blocks.9.norm1.bias.(768,)<br>block=%{x}<br>Log10_ParaM=%{y}<extra></extra>\",\"legendgroup\":\"blocks.9.norm1.bias.(768,)\",\"marker\":{\"color\":\"#19d3f3\",\"pattern\":{\"shape\":\"\"}},\"name\":\"blocks.9.norm1.bias.(768,)\",\"offsetgroup\":\"blocks.9.norm1.bias.(768,)\",\"orientation\":\"v\",\"showlegend\":true,\"textposition\":\"auto\",\"x\":[\"blocks\"],\"xaxis\":\"x\",\"y\":[768],\"yaxis\":\"y\",\"type\":\"bar\"},{\"alignmentgroup\":\"True\",\"hovertemplate\":\"layer=blocks.9.filter.w1.(2, 4, 192, 192)<br>block=%{x}<br>Log10_ParaM=%{y}<extra></extra>\",\"legendgroup\":\"blocks.9.filter.w1.(2, 4, 192, 192)\",\"marker\":{\"color\":\"#FF6692\",\"pattern\":{\"shape\":\"\"}},\"name\":\"blocks.9.filter.w1.(2, 4, 192, 192)\",\"offsetgroup\":\"blocks.9.filter.w1.(2, 4, 192, 192)\",\"orientation\":\"v\",\"showlegend\":true,\"textposition\":\"auto\",\"x\":[\"blocks\"],\"xaxis\":\"x\",\"y\":[294912],\"yaxis\":\"y\",\"type\":\"bar\"},{\"alignmentgroup\":\"True\",\"hovertemplate\":\"layer=blocks.9.filter.b1.(2, 4, 192)<br>block=%{x}<br>Log10_ParaM=%{y}<extra></extra>\",\"legendgroup\":\"blocks.9.filter.b1.(2, 4, 192)\",\"marker\":{\"color\":\"#B6E880\",\"pattern\":{\"shape\":\"\"}},\"name\":\"blocks.9.filter.b1.(2, 4, 192)\",\"offsetgroup\":\"blocks.9.filter.b1.(2, 4, 192)\",\"orientation\":\"v\",\"showlegend\":true,\"textposition\":\"auto\",\"x\":[\"blocks\"],\"xaxis\":\"x\",\"y\":[1536],\"yaxis\":\"y\",\"type\":\"bar\"},{\"alignmentgroup\":\"True\",\"hovertemplate\":\"layer=blocks.9.filter.w2.(2, 4, 192, 192)<br>block=%{x}<br>Log10_ParaM=%{y}<extra></extra>\",\"legendgroup\":\"blocks.9.filter.w2.(2, 4, 192, 192)\",\"marker\":{\"color\":\"#FF97FF\",\"pattern\":{\"shape\":\"\"}},\"name\":\"blocks.9.filter.w2.(2, 4, 192, 192)\",\"offsetgroup\":\"blocks.9.filter.w2.(2, 4, 192, 192)\",\"orientation\":\"v\",\"showlegend\":true,\"textposition\":\"auto\",\"x\":[\"blocks\"],\"xaxis\":\"x\",\"y\":[294912],\"yaxis\":\"y\",\"type\":\"bar\"},{\"alignmentgroup\":\"True\",\"hovertemplate\":\"layer=blocks.9.filter.b2.(2, 4, 192)<br>block=%{x}<br>Log10_ParaM=%{y}<extra></extra>\",\"legendgroup\":\"blocks.9.filter.b2.(2, 4, 192)\",\"marker\":{\"color\":\"#FECB52\",\"pattern\":{\"shape\":\"\"}},\"name\":\"blocks.9.filter.b2.(2, 4, 192)\",\"offsetgroup\":\"blocks.9.filter.b2.(2, 4, 192)\",\"orientation\":\"v\",\"showlegend\":true,\"textposition\":\"auto\",\"x\":[\"blocks\"],\"xaxis\":\"x\",\"y\":[1536],\"yaxis\":\"y\",\"type\":\"bar\"},{\"alignmentgroup\":\"True\",\"hovertemplate\":\"layer=blocks.9.norm2.weight.(768,)<br>block=%{x}<br>Log10_ParaM=%{y}<extra></extra>\",\"legendgroup\":\"blocks.9.norm2.weight.(768,)\",\"marker\":{\"color\":\"#636efa\",\"pattern\":{\"shape\":\"\"}},\"name\":\"blocks.9.norm2.weight.(768,)\",\"offsetgroup\":\"blocks.9.norm2.weight.(768,)\",\"orientation\":\"v\",\"showlegend\":true,\"textposition\":\"auto\",\"x\":[\"blocks\"],\"xaxis\":\"x\",\"y\":[768],\"yaxis\":\"y\",\"type\":\"bar\"},{\"alignmentgroup\":\"True\",\"hovertemplate\":\"layer=blocks.9.norm2.bias.(768,)<br>block=%{x}<br>Log10_ParaM=%{y}<extra></extra>\",\"legendgroup\":\"blocks.9.norm2.bias.(768,)\",\"marker\":{\"color\":\"#EF553B\",\"pattern\":{\"shape\":\"\"}},\"name\":\"blocks.9.norm2.bias.(768,)\",\"offsetgroup\":\"blocks.9.norm2.bias.(768,)\",\"orientation\":\"v\",\"showlegend\":true,\"textposition\":\"auto\",\"x\":[\"blocks\"],\"xaxis\":\"x\",\"y\":[768],\"yaxis\":\"y\",\"type\":\"bar\"},{\"alignmentgroup\":\"True\",\"hovertemplate\":\"layer=blocks.9.mlp.fc1.weight.(3072, 768)<br>block=%{x}<br>Log10_ParaM=%{y}<extra></extra>\",\"legendgroup\":\"blocks.9.mlp.fc1.weight.(3072, 768)\",\"marker\":{\"color\":\"#00cc96\",\"pattern\":{\"shape\":\"\"}},\"name\":\"blocks.9.mlp.fc1.weight.(3072, 768)\",\"offsetgroup\":\"blocks.9.mlp.fc1.weight.(3072, 768)\",\"orientation\":\"v\",\"showlegend\":true,\"textposition\":\"auto\",\"x\":[\"blocks\"],\"xaxis\":\"x\",\"y\":[2359296],\"yaxis\":\"y\",\"type\":\"bar\"},{\"alignmentgroup\":\"True\",\"hovertemplate\":\"layer=blocks.9.mlp.fc1.bias.(3072,)<br>block=%{x}<br>Log10_ParaM=%{y}<extra></extra>\",\"legendgroup\":\"blocks.9.mlp.fc1.bias.(3072,)\",\"marker\":{\"color\":\"#ab63fa\",\"pattern\":{\"shape\":\"\"}},\"name\":\"blocks.9.mlp.fc1.bias.(3072,)\",\"offsetgroup\":\"blocks.9.mlp.fc1.bias.(3072,)\",\"orientation\":\"v\",\"showlegend\":true,\"textposition\":\"auto\",\"x\":[\"blocks\"],\"xaxis\":\"x\",\"y\":[3072],\"yaxis\":\"y\",\"type\":\"bar\"},{\"alignmentgroup\":\"True\",\"hovertemplate\":\"layer=blocks.10.norm1.weight.(768,)<br>block=%{x}<br>Log10_ParaM=%{y}<extra></extra>\",\"legendgroup\":\"blocks.10.norm1.weight.(768,)\",\"marker\":{\"color\":\"#FFA15A\",\"pattern\":{\"shape\":\"\"}},\"name\":\"blocks.10.norm1.weight.(768,)\",\"offsetgroup\":\"blocks.10.norm1.weight.(768,)\",\"orientation\":\"v\",\"showlegend\":true,\"textposition\":\"auto\",\"x\":[\"blocks\"],\"xaxis\":\"x\",\"y\":[768],\"yaxis\":\"y\",\"type\":\"bar\"},{\"alignmentgroup\":\"True\",\"hovertemplate\":\"layer=blocks.10.norm1.bias.(768,)<br>block=%{x}<br>Log10_ParaM=%{y}<extra></extra>\",\"legendgroup\":\"blocks.10.norm1.bias.(768,)\",\"marker\":{\"color\":\"#19d3f3\",\"pattern\":{\"shape\":\"\"}},\"name\":\"blocks.10.norm1.bias.(768,)\",\"offsetgroup\":\"blocks.10.norm1.bias.(768,)\",\"orientation\":\"v\",\"showlegend\":true,\"textposition\":\"auto\",\"x\":[\"blocks\"],\"xaxis\":\"x\",\"y\":[768],\"yaxis\":\"y\",\"type\":\"bar\"},{\"alignmentgroup\":\"True\",\"hovertemplate\":\"layer=blocks.10.filter.w1.(2, 4, 192, 192)<br>block=%{x}<br>Log10_ParaM=%{y}<extra></extra>\",\"legendgroup\":\"blocks.10.filter.w1.(2, 4, 192, 192)\",\"marker\":{\"color\":\"#FF6692\",\"pattern\":{\"shape\":\"\"}},\"name\":\"blocks.10.filter.w1.(2, 4, 192, 192)\",\"offsetgroup\":\"blocks.10.filter.w1.(2, 4, 192, 192)\",\"orientation\":\"v\",\"showlegend\":true,\"textposition\":\"auto\",\"x\":[\"blocks\"],\"xaxis\":\"x\",\"y\":[294912],\"yaxis\":\"y\",\"type\":\"bar\"},{\"alignmentgroup\":\"True\",\"hovertemplate\":\"layer=blocks.10.filter.b1.(2, 4, 192)<br>block=%{x}<br>Log10_ParaM=%{y}<extra></extra>\",\"legendgroup\":\"blocks.10.filter.b1.(2, 4, 192)\",\"marker\":{\"color\":\"#B6E880\",\"pattern\":{\"shape\":\"\"}},\"name\":\"blocks.10.filter.b1.(2, 4, 192)\",\"offsetgroup\":\"blocks.10.filter.b1.(2, 4, 192)\",\"orientation\":\"v\",\"showlegend\":true,\"textposition\":\"auto\",\"x\":[\"blocks\"],\"xaxis\":\"x\",\"y\":[1536],\"yaxis\":\"y\",\"type\":\"bar\"},{\"alignmentgroup\":\"True\",\"hovertemplate\":\"layer=blocks.10.filter.w2.(2, 4, 192, 192)<br>block=%{x}<br>Log10_ParaM=%{y}<extra></extra>\",\"legendgroup\":\"blocks.10.filter.w2.(2, 4, 192, 192)\",\"marker\":{\"color\":\"#FF97FF\",\"pattern\":{\"shape\":\"\"}},\"name\":\"blocks.10.filter.w2.(2, 4, 192, 192)\",\"offsetgroup\":\"blocks.10.filter.w2.(2, 4, 192, 192)\",\"orientation\":\"v\",\"showlegend\":true,\"textposition\":\"auto\",\"x\":[\"blocks\"],\"xaxis\":\"x\",\"y\":[294912],\"yaxis\":\"y\",\"type\":\"bar\"},{\"alignmentgroup\":\"True\",\"hovertemplate\":\"layer=blocks.10.filter.b2.(2, 4, 192)<br>block=%{x}<br>Log10_ParaM=%{y}<extra></extra>\",\"legendgroup\":\"blocks.10.filter.b2.(2, 4, 192)\",\"marker\":{\"color\":\"#FECB52\",\"pattern\":{\"shape\":\"\"}},\"name\":\"blocks.10.filter.b2.(2, 4, 192)\",\"offsetgroup\":\"blocks.10.filter.b2.(2, 4, 192)\",\"orientation\":\"v\",\"showlegend\":true,\"textposition\":\"auto\",\"x\":[\"blocks\"],\"xaxis\":\"x\",\"y\":[1536],\"yaxis\":\"y\",\"type\":\"bar\"},{\"alignmentgroup\":\"True\",\"hovertemplate\":\"layer=blocks.10.norm2.weight.(768,)<br>block=%{x}<br>Log10_ParaM=%{y}<extra></extra>\",\"legendgroup\":\"blocks.10.norm2.weight.(768,)\",\"marker\":{\"color\":\"#636efa\",\"pattern\":{\"shape\":\"\"}},\"name\":\"blocks.10.norm2.weight.(768,)\",\"offsetgroup\":\"blocks.10.norm2.weight.(768,)\",\"orientation\":\"v\",\"showlegend\":true,\"textposition\":\"auto\",\"x\":[\"blocks\"],\"xaxis\":\"x\",\"y\":[768],\"yaxis\":\"y\",\"type\":\"bar\"},{\"alignmentgroup\":\"True\",\"hovertemplate\":\"layer=blocks.10.norm2.bias.(768,)<br>block=%{x}<br>Log10_ParaM=%{y}<extra></extra>\",\"legendgroup\":\"blocks.10.norm2.bias.(768,)\",\"marker\":{\"color\":\"#EF553B\",\"pattern\":{\"shape\":\"\"}},\"name\":\"blocks.10.norm2.bias.(768,)\",\"offsetgroup\":\"blocks.10.norm2.bias.(768,)\",\"orientation\":\"v\",\"showlegend\":true,\"textposition\":\"auto\",\"x\":[\"blocks\"],\"xaxis\":\"x\",\"y\":[768],\"yaxis\":\"y\",\"type\":\"bar\"},{\"alignmentgroup\":\"True\",\"hovertemplate\":\"layer=blocks.10.mlp.fc1.weight.(3072, 768)<br>block=%{x}<br>Log10_ParaM=%{y}<extra></extra>\",\"legendgroup\":\"blocks.10.mlp.fc1.weight.(3072, 768)\",\"marker\":{\"color\":\"#00cc96\",\"pattern\":{\"shape\":\"\"}},\"name\":\"blocks.10.mlp.fc1.weight.(3072, 768)\",\"offsetgroup\":\"blocks.10.mlp.fc1.weight.(3072, 768)\",\"orientation\":\"v\",\"showlegend\":true,\"textposition\":\"auto\",\"x\":[\"blocks\"],\"xaxis\":\"x\",\"y\":[2359296],\"yaxis\":\"y\",\"type\":\"bar\"},{\"alignmentgroup\":\"True\",\"hovertemplate\":\"layer=blocks.10.mlp.fc1.bias.(3072,)<br>block=%{x}<br>Log10_ParaM=%{y}<extra></extra>\",\"legendgroup\":\"blocks.10.mlp.fc1.bias.(3072,)\",\"marker\":{\"color\":\"#ab63fa\",\"pattern\":{\"shape\":\"\"}},\"name\":\"blocks.10.mlp.fc1.bias.(3072,)\",\"offsetgroup\":\"blocks.10.mlp.fc1.bias.(3072,)\",\"orientation\":\"v\",\"showlegend\":true,\"textposition\":\"auto\",\"x\":[\"blocks\"],\"xaxis\":\"x\",\"y\":[3072],\"yaxis\":\"y\",\"type\":\"bar\"},{\"alignmentgroup\":\"True\",\"hovertemplate\":\"layer=blocks.11.norm1.weight.(768,)<br>block=%{x}<br>Log10_ParaM=%{y}<extra></extra>\",\"legendgroup\":\"blocks.11.norm1.weight.(768,)\",\"marker\":{\"color\":\"#FFA15A\",\"pattern\":{\"shape\":\"\"}},\"name\":\"blocks.11.norm1.weight.(768,)\",\"offsetgroup\":\"blocks.11.norm1.weight.(768,)\",\"orientation\":\"v\",\"showlegend\":true,\"textposition\":\"auto\",\"x\":[\"blocks\"],\"xaxis\":\"x\",\"y\":[768],\"yaxis\":\"y\",\"type\":\"bar\"},{\"alignmentgroup\":\"True\",\"hovertemplate\":\"layer=blocks.11.norm1.bias.(768,)<br>block=%{x}<br>Log10_ParaM=%{y}<extra></extra>\",\"legendgroup\":\"blocks.11.norm1.bias.(768,)\",\"marker\":{\"color\":\"#19d3f3\",\"pattern\":{\"shape\":\"\"}},\"name\":\"blocks.11.norm1.bias.(768,)\",\"offsetgroup\":\"blocks.11.norm1.bias.(768,)\",\"orientation\":\"v\",\"showlegend\":true,\"textposition\":\"auto\",\"x\":[\"blocks\"],\"xaxis\":\"x\",\"y\":[768],\"yaxis\":\"y\",\"type\":\"bar\"},{\"alignmentgroup\":\"True\",\"hovertemplate\":\"layer=blocks.11.filter.w1.(2, 4, 192, 192)<br>block=%{x}<br>Log10_ParaM=%{y}<extra></extra>\",\"legendgroup\":\"blocks.11.filter.w1.(2, 4, 192, 192)\",\"marker\":{\"color\":\"#FF6692\",\"pattern\":{\"shape\":\"\"}},\"name\":\"blocks.11.filter.w1.(2, 4, 192, 192)\",\"offsetgroup\":\"blocks.11.filter.w1.(2, 4, 192, 192)\",\"orientation\":\"v\",\"showlegend\":true,\"textposition\":\"auto\",\"x\":[\"blocks\"],\"xaxis\":\"x\",\"y\":[294912],\"yaxis\":\"y\",\"type\":\"bar\"},{\"alignmentgroup\":\"True\",\"hovertemplate\":\"layer=blocks.11.filter.b1.(2, 4, 192)<br>block=%{x}<br>Log10_ParaM=%{y}<extra></extra>\",\"legendgroup\":\"blocks.11.filter.b1.(2, 4, 192)\",\"marker\":{\"color\":\"#B6E880\",\"pattern\":{\"shape\":\"\"}},\"name\":\"blocks.11.filter.b1.(2, 4, 192)\",\"offsetgroup\":\"blocks.11.filter.b1.(2, 4, 192)\",\"orientation\":\"v\",\"showlegend\":true,\"textposition\":\"auto\",\"x\":[\"blocks\"],\"xaxis\":\"x\",\"y\":[1536],\"yaxis\":\"y\",\"type\":\"bar\"},{\"alignmentgroup\":\"True\",\"hovertemplate\":\"layer=blocks.11.filter.w2.(2, 4, 192, 192)<br>block=%{x}<br>Log10_ParaM=%{y}<extra></extra>\",\"legendgroup\":\"blocks.11.filter.w2.(2, 4, 192, 192)\",\"marker\":{\"color\":\"#FF97FF\",\"pattern\":{\"shape\":\"\"}},\"name\":\"blocks.11.filter.w2.(2, 4, 192, 192)\",\"offsetgroup\":\"blocks.11.filter.w2.(2, 4, 192, 192)\",\"orientation\":\"v\",\"showlegend\":true,\"textposition\":\"auto\",\"x\":[\"blocks\"],\"xaxis\":\"x\",\"y\":[294912],\"yaxis\":\"y\",\"type\":\"bar\"},{\"alignmentgroup\":\"True\",\"hovertemplate\":\"layer=blocks.11.filter.b2.(2, 4, 192)<br>block=%{x}<br>Log10_ParaM=%{y}<extra></extra>\",\"legendgroup\":\"blocks.11.filter.b2.(2, 4, 192)\",\"marker\":{\"color\":\"#FECB52\",\"pattern\":{\"shape\":\"\"}},\"name\":\"blocks.11.filter.b2.(2, 4, 192)\",\"offsetgroup\":\"blocks.11.filter.b2.(2, 4, 192)\",\"orientation\":\"v\",\"showlegend\":true,\"textposition\":\"auto\",\"x\":[\"blocks\"],\"xaxis\":\"x\",\"y\":[1536],\"yaxis\":\"y\",\"type\":\"bar\"},{\"alignmentgroup\":\"True\",\"hovertemplate\":\"layer=blocks.11.norm2.weight.(768,)<br>block=%{x}<br>Log10_ParaM=%{y}<extra></extra>\",\"legendgroup\":\"blocks.11.norm2.weight.(768,)\",\"marker\":{\"color\":\"#636efa\",\"pattern\":{\"shape\":\"\"}},\"name\":\"blocks.11.norm2.weight.(768,)\",\"offsetgroup\":\"blocks.11.norm2.weight.(768,)\",\"orientation\":\"v\",\"showlegend\":true,\"textposition\":\"auto\",\"x\":[\"blocks\"],\"xaxis\":\"x\",\"y\":[768],\"yaxis\":\"y\",\"type\":\"bar\"},{\"alignmentgroup\":\"True\",\"hovertemplate\":\"layer=blocks.11.norm2.bias.(768,)<br>block=%{x}<br>Log10_ParaM=%{y}<extra></extra>\",\"legendgroup\":\"blocks.11.norm2.bias.(768,)\",\"marker\":{\"color\":\"#EF553B\",\"pattern\":{\"shape\":\"\"}},\"name\":\"blocks.11.norm2.bias.(768,)\",\"offsetgroup\":\"blocks.11.norm2.bias.(768,)\",\"orientation\":\"v\",\"showlegend\":true,\"textposition\":\"auto\",\"x\":[\"blocks\"],\"xaxis\":\"x\",\"y\":[768],\"yaxis\":\"y\",\"type\":\"bar\"},{\"alignmentgroup\":\"True\",\"hovertemplate\":\"layer=blocks.11.mlp.fc1.weight.(3072, 768)<br>block=%{x}<br>Log10_ParaM=%{y}<extra></extra>\",\"legendgroup\":\"blocks.11.mlp.fc1.weight.(3072, 768)\",\"marker\":{\"color\":\"#00cc96\",\"pattern\":{\"shape\":\"\"}},\"name\":\"blocks.11.mlp.fc1.weight.(3072, 768)\",\"offsetgroup\":\"blocks.11.mlp.fc1.weight.(3072, 768)\",\"orientation\":\"v\",\"showlegend\":true,\"textposition\":\"auto\",\"x\":[\"blocks\"],\"xaxis\":\"x\",\"y\":[2359296],\"yaxis\":\"y\",\"type\":\"bar\"},{\"alignmentgroup\":\"True\",\"hovertemplate\":\"layer=blocks.11.mlp.fc1.bias.(3072,)<br>block=%{x}<br>Log10_ParaM=%{y}<extra></extra>\",\"legendgroup\":\"blocks.11.mlp.fc1.bias.(3072,)\",\"marker\":{\"color\":\"#ab63fa\",\"pattern\":{\"shape\":\"\"}},\"name\":\"blocks.11.mlp.fc1.bias.(3072,)\",\"offsetgroup\":\"blocks.11.mlp.fc1.bias.(3072,)\",\"orientation\":\"v\",\"showlegend\":true,\"textposition\":\"auto\",\"x\":[\"blocks\"],\"xaxis\":\"x\",\"y\":[3072],\"yaxis\":\"y\",\"type\":\"bar\"},{\"alignmentgroup\":\"True\",\"hovertemplate\":\"layer=norm.weight.(768,)<br>block=%{x}<br>Log10_ParaM=%{y}<extra></extra>\",\"legendgroup\":\"norm.weight.(768,)\",\"marker\":{\"color\":\"#FFA15A\",\"pattern\":{\"shape\":\"\"}},\"name\":\"norm.weight.(768,)\",\"offsetgroup\":\"norm.weight.(768,)\",\"orientation\":\"v\",\"showlegend\":true,\"textposition\":\"auto\",\"x\":[\"norm\"],\"xaxis\":\"x\",\"y\":[768],\"yaxis\":\"y\",\"type\":\"bar\"},{\"alignmentgroup\":\"True\",\"hovertemplate\":\"layer=norm.bias.(768,)<br>block=%{x}<br>Log10_ParaM=%{y}<extra></extra>\",\"legendgroup\":\"norm.bias.(768,)\",\"marker\":{\"color\":\"#19d3f3\",\"pattern\":{\"shape\":\"\"}},\"name\":\"norm.bias.(768,)\",\"offsetgroup\":\"norm.bias.(768,)\",\"orientation\":\"v\",\"showlegend\":true,\"textposition\":\"auto\",\"x\":[\"norm\"],\"xaxis\":\"x\",\"y\":[768],\"yaxis\":\"y\",\"type\":\"bar\"},{\"alignmentgroup\":\"True\",\"hovertemplate\":\"layer=pre_logits.conv1.conv_layers.0.weight.(768, 1120, 3)<br>block=%{x}<br>Log10_ParaM=%{y}<extra></extra>\",\"legendgroup\":\"pre_logits.conv1.conv_layers.0.weight.(768, 1120, 3)\",\"marker\":{\"color\":\"#FF6692\",\"pattern\":{\"shape\":\"\"}},\"name\":\"pre_logits.conv1.conv_layers.0.weight.(768, 1120, 3)\",\"offsetgroup\":\"pre_logits.conv1.conv_layers.0.weight.(768, 1120, 3)\",\"orientation\":\"v\",\"showlegend\":true,\"textposition\":\"auto\",\"x\":[\"pre_logits\"],\"xaxis\":\"x\",\"y\":[2580480],\"yaxis\":\"y\",\"type\":\"bar\"},{\"alignmentgroup\":\"True\",\"hovertemplate\":\"layer=pre_logits.conv1.conv_layers.1.weight.(768, 1120, 3)<br>block=%{x}<br>Log10_ParaM=%{y}<extra></extra>\",\"legendgroup\":\"pre_logits.conv1.conv_layers.1.weight.(768, 1120, 3)\",\"marker\":{\"color\":\"#B6E880\",\"pattern\":{\"shape\":\"\"}},\"name\":\"pre_logits.conv1.conv_layers.1.weight.(768, 1120, 3)\",\"offsetgroup\":\"pre_logits.conv1.conv_layers.1.weight.(768, 1120, 3)\",\"orientation\":\"v\",\"showlegend\":true,\"textposition\":\"auto\",\"x\":[\"pre_logits\"],\"xaxis\":\"x\",\"y\":[2580480],\"yaxis\":\"y\",\"type\":\"bar\"},{\"alignmentgroup\":\"True\",\"hovertemplate\":\"layer=pre_logits.conv1.conv_layers.2.weight.(768, 1120, 3)<br>block=%{x}<br>Log10_ParaM=%{y}<extra></extra>\",\"legendgroup\":\"pre_logits.conv1.conv_layers.2.weight.(768, 1120, 3)\",\"marker\":{\"color\":\"#FF97FF\",\"pattern\":{\"shape\":\"\"}},\"name\":\"pre_logits.conv1.conv_layers.2.weight.(768, 1120, 3)\",\"offsetgroup\":\"pre_logits.conv1.conv_layers.2.weight.(768, 1120, 3)\",\"orientation\":\"v\",\"showlegend\":true,\"textposition\":\"auto\",\"x\":[\"pre_logits\"],\"xaxis\":\"x\",\"y\":[2580480],\"yaxis\":\"y\",\"type\":\"bar\"},{\"alignmentgroup\":\"True\",\"hovertemplate\":\"layer=pre_logits.conv2.conv_layers.0.weight.(1120, 280, 3)<br>block=%{x}<br>Log10_ParaM=%{y}<extra></extra>\",\"legendgroup\":\"pre_logits.conv2.conv_layers.0.weight.(1120, 280, 3)\",\"marker\":{\"color\":\"#FECB52\",\"pattern\":{\"shape\":\"\"}},\"name\":\"pre_logits.conv2.conv_layers.0.weight.(1120, 280, 3)\",\"offsetgroup\":\"pre_logits.conv2.conv_layers.0.weight.(1120, 280, 3)\",\"orientation\":\"v\",\"showlegend\":true,\"textposition\":\"auto\",\"x\":[\"pre_logits\"],\"xaxis\":\"x\",\"y\":[940800],\"yaxis\":\"y\",\"type\":\"bar\"},{\"alignmentgroup\":\"True\",\"hovertemplate\":\"layer=pre_logits.conv2.conv_layers.1.weight.(1120, 280, 3)<br>block=%{x}<br>Log10_ParaM=%{y}<extra></extra>\",\"legendgroup\":\"pre_logits.conv2.conv_layers.1.weight.(1120, 280, 3)\",\"marker\":{\"color\":\"#636efa\",\"pattern\":{\"shape\":\"\"}},\"name\":\"pre_logits.conv2.conv_layers.1.weight.(1120, 280, 3)\",\"offsetgroup\":\"pre_logits.conv2.conv_layers.1.weight.(1120, 280, 3)\",\"orientation\":\"v\",\"showlegend\":true,\"textposition\":\"auto\",\"x\":[\"pre_logits\"],\"xaxis\":\"x\",\"y\":[940800],\"yaxis\":\"y\",\"type\":\"bar\"},{\"alignmentgroup\":\"True\",\"hovertemplate\":\"layer=pre_logits.conv2.conv_layers.2.weight.(1120, 280, 3)<br>block=%{x}<br>Log10_ParaM=%{y}<extra></extra>\",\"legendgroup\":\"pre_logits.conv2.conv_layers.2.weight.(1120, 280, 3)\",\"marker\":{\"color\":\"#EF553B\",\"pattern\":{\"shape\":\"\"}},\"name\":\"pre_logits.conv2.conv_layers.2.weight.(1120, 280, 3)\",\"offsetgroup\":\"pre_logits.conv2.conv_layers.2.weight.(1120, 280, 3)\",\"orientation\":\"v\",\"showlegend\":true,\"textposition\":\"auto\",\"x\":[\"pre_logits\"],\"xaxis\":\"x\",\"y\":[940800],\"yaxis\":\"y\",\"type\":\"bar\"},{\"alignmentgroup\":\"True\",\"hovertemplate\":\"layer=head.conv_layers.0.weight.(280, 70, 2)<br>block=%{x}<br>Log10_ParaM=%{y}<extra></extra>\",\"legendgroup\":\"head.conv_layers.0.weight.(280, 70, 2)\",\"marker\":{\"color\":\"#00cc96\",\"pattern\":{\"shape\":\"\"}},\"name\":\"head.conv_layers.0.weight.(280, 70, 2)\",\"offsetgroup\":\"head.conv_layers.0.weight.(280, 70, 2)\",\"orientation\":\"v\",\"showlegend\":true,\"textposition\":\"auto\",\"x\":[\"head\"],\"xaxis\":\"x\",\"y\":[39200],\"yaxis\":\"y\",\"type\":\"bar\"},{\"alignmentgroup\":\"True\",\"hovertemplate\":\"layer=head.conv_layers.1.weight.(280, 70, 2)<br>block=%{x}<br>Log10_ParaM=%{y}<extra></extra>\",\"legendgroup\":\"head.conv_layers.1.weight.(280, 70, 2)\",\"marker\":{\"color\":\"#ab63fa\",\"pattern\":{\"shape\":\"\"}},\"name\":\"head.conv_layers.1.weight.(280, 70, 2)\",\"offsetgroup\":\"head.conv_layers.1.weight.(280, 70, 2)\",\"orientation\":\"v\",\"showlegend\":true,\"textposition\":\"auto\",\"x\":[\"head\"],\"xaxis\":\"x\",\"y\":[39200],\"yaxis\":\"y\",\"type\":\"bar\"}],                        {\"template\":{\"data\":{\"histogram2dcontour\":[{\"type\":\"histogram2dcontour\",\"colorbar\":{\"outlinewidth\":0,\"ticks\":\"\"},\"colorscale\":[[0.0,\"#0d0887\"],[0.1111111111111111,\"#46039f\"],[0.2222222222222222,\"#7201a8\"],[0.3333333333333333,\"#9c179e\"],[0.4444444444444444,\"#bd3786\"],[0.5555555555555556,\"#d8576b\"],[0.6666666666666666,\"#ed7953\"],[0.7777777777777778,\"#fb9f3a\"],[0.8888888888888888,\"#fdca26\"],[1.0,\"#f0f921\"]]}],\"choropleth\":[{\"type\":\"choropleth\",\"colorbar\":{\"outlinewidth\":0,\"ticks\":\"\"}}],\"histogram2d\":[{\"type\":\"histogram2d\",\"colorbar\":{\"outlinewidth\":0,\"ticks\":\"\"},\"colorscale\":[[0.0,\"#0d0887\"],[0.1111111111111111,\"#46039f\"],[0.2222222222222222,\"#7201a8\"],[0.3333333333333333,\"#9c179e\"],[0.4444444444444444,\"#bd3786\"],[0.5555555555555556,\"#d8576b\"],[0.6666666666666666,\"#ed7953\"],[0.7777777777777778,\"#fb9f3a\"],[0.8888888888888888,\"#fdca26\"],[1.0,\"#f0f921\"]]}],\"heatmap\":[{\"type\":\"heatmap\",\"colorbar\":{\"outlinewidth\":0,\"ticks\":\"\"},\"colorscale\":[[0.0,\"#0d0887\"],[0.1111111111111111,\"#46039f\"],[0.2222222222222222,\"#7201a8\"],[0.3333333333333333,\"#9c179e\"],[0.4444444444444444,\"#bd3786\"],[0.5555555555555556,\"#d8576b\"],[0.6666666666666666,\"#ed7953\"],[0.7777777777777778,\"#fb9f3a\"],[0.8888888888888888,\"#fdca26\"],[1.0,\"#f0f921\"]]}],\"heatmapgl\":[{\"type\":\"heatmapgl\",\"colorbar\":{\"outlinewidth\":0,\"ticks\":\"\"},\"colorscale\":[[0.0,\"#0d0887\"],[0.1111111111111111,\"#46039f\"],[0.2222222222222222,\"#7201a8\"],[0.3333333333333333,\"#9c179e\"],[0.4444444444444444,\"#bd3786\"],[0.5555555555555556,\"#d8576b\"],[0.6666666666666666,\"#ed7953\"],[0.7777777777777778,\"#fb9f3a\"],[0.8888888888888888,\"#fdca26\"],[1.0,\"#f0f921\"]]}],\"contourcarpet\":[{\"type\":\"contourcarpet\",\"colorbar\":{\"outlinewidth\":0,\"ticks\":\"\"}}],\"contour\":[{\"type\":\"contour\",\"colorbar\":{\"outlinewidth\":0,\"ticks\":\"\"},\"colorscale\":[[0.0,\"#0d0887\"],[0.1111111111111111,\"#46039f\"],[0.2222222222222222,\"#7201a8\"],[0.3333333333333333,\"#9c179e\"],[0.4444444444444444,\"#bd3786\"],[0.5555555555555556,\"#d8576b\"],[0.6666666666666666,\"#ed7953\"],[0.7777777777777778,\"#fb9f3a\"],[0.8888888888888888,\"#fdca26\"],[1.0,\"#f0f921\"]]}],\"surface\":[{\"type\":\"surface\",\"colorbar\":{\"outlinewidth\":0,\"ticks\":\"\"},\"colorscale\":[[0.0,\"#0d0887\"],[0.1111111111111111,\"#46039f\"],[0.2222222222222222,\"#7201a8\"],[0.3333333333333333,\"#9c179e\"],[0.4444444444444444,\"#bd3786\"],[0.5555555555555556,\"#d8576b\"],[0.6666666666666666,\"#ed7953\"],[0.7777777777777778,\"#fb9f3a\"],[0.8888888888888888,\"#fdca26\"],[1.0,\"#f0f921\"]]}],\"mesh3d\":[{\"type\":\"mesh3d\",\"colorbar\":{\"outlinewidth\":0,\"ticks\":\"\"}}],\"scatter\":[{\"fillpattern\":{\"fillmode\":\"overlay\",\"size\":10,\"solidity\":0.2},\"type\":\"scatter\"}],\"parcoords\":[{\"type\":\"parcoords\",\"line\":{\"colorbar\":{\"outlinewidth\":0,\"ticks\":\"\"}}}],\"scatterpolargl\":[{\"type\":\"scatterpolargl\",\"marker\":{\"colorbar\":{\"outlinewidth\":0,\"ticks\":\"\"}}}],\"bar\":[{\"error_x\":{\"color\":\"#2a3f5f\"},\"error_y\":{\"color\":\"#2a3f5f\"},\"marker\":{\"line\":{\"color\":\"#E5ECF6\",\"width\":0.5},\"pattern\":{\"fillmode\":\"overlay\",\"size\":10,\"solidity\":0.2}},\"type\":\"bar\"}],\"scattergeo\":[{\"type\":\"scattergeo\",\"marker\":{\"colorbar\":{\"outlinewidth\":0,\"ticks\":\"\"}}}],\"scatterpolar\":[{\"type\":\"scatterpolar\",\"marker\":{\"colorbar\":{\"outlinewidth\":0,\"ticks\":\"\"}}}],\"histogram\":[{\"marker\":{\"pattern\":{\"fillmode\":\"overlay\",\"size\":10,\"solidity\":0.2}},\"type\":\"histogram\"}],\"scattergl\":[{\"type\":\"scattergl\",\"marker\":{\"colorbar\":{\"outlinewidth\":0,\"ticks\":\"\"}}}],\"scatter3d\":[{\"type\":\"scatter3d\",\"line\":{\"colorbar\":{\"outlinewidth\":0,\"ticks\":\"\"}},\"marker\":{\"colorbar\":{\"outlinewidth\":0,\"ticks\":\"\"}}}],\"scattermapbox\":[{\"type\":\"scattermapbox\",\"marker\":{\"colorbar\":{\"outlinewidth\":0,\"ticks\":\"\"}}}],\"scatterternary\":[{\"type\":\"scatterternary\",\"marker\":{\"colorbar\":{\"outlinewidth\":0,\"ticks\":\"\"}}}],\"scattercarpet\":[{\"type\":\"scattercarpet\",\"marker\":{\"colorbar\":{\"outlinewidth\":0,\"ticks\":\"\"}}}],\"carpet\":[{\"aaxis\":{\"endlinecolor\":\"#2a3f5f\",\"gridcolor\":\"white\",\"linecolor\":\"white\",\"minorgridcolor\":\"white\",\"startlinecolor\":\"#2a3f5f\"},\"baxis\":{\"endlinecolor\":\"#2a3f5f\",\"gridcolor\":\"white\",\"linecolor\":\"white\",\"minorgridcolor\":\"white\",\"startlinecolor\":\"#2a3f5f\"},\"type\":\"carpet\"}],\"table\":[{\"cells\":{\"fill\":{\"color\":\"#EBF0F8\"},\"line\":{\"color\":\"white\"}},\"header\":{\"fill\":{\"color\":\"#C8D4E3\"},\"line\":{\"color\":\"white\"}},\"type\":\"table\"}],\"barpolar\":[{\"marker\":{\"line\":{\"color\":\"#E5ECF6\",\"width\":0.5},\"pattern\":{\"fillmode\":\"overlay\",\"size\":10,\"solidity\":0.2}},\"type\":\"barpolar\"}],\"pie\":[{\"automargin\":true,\"type\":\"pie\"}]},\"layout\":{\"autotypenumbers\":\"strict\",\"colorway\":[\"#636efa\",\"#EF553B\",\"#00cc96\",\"#ab63fa\",\"#FFA15A\",\"#19d3f3\",\"#FF6692\",\"#B6E880\",\"#FF97FF\",\"#FECB52\"],\"font\":{\"color\":\"#2a3f5f\"},\"hovermode\":\"closest\",\"hoverlabel\":{\"align\":\"left\"},\"paper_bgcolor\":\"white\",\"plot_bgcolor\":\"#E5ECF6\",\"polar\":{\"bgcolor\":\"#E5ECF6\",\"angularaxis\":{\"gridcolor\":\"white\",\"linecolor\":\"white\",\"ticks\":\"\"},\"radialaxis\":{\"gridcolor\":\"white\",\"linecolor\":\"white\",\"ticks\":\"\"}},\"ternary\":{\"bgcolor\":\"#E5ECF6\",\"aaxis\":{\"gridcolor\":\"white\",\"linecolor\":\"white\",\"ticks\":\"\"},\"baxis\":{\"gridcolor\":\"white\",\"linecolor\":\"white\",\"ticks\":\"\"},\"caxis\":{\"gridcolor\":\"white\",\"linecolor\":\"white\",\"ticks\":\"\"}},\"coloraxis\":{\"colorbar\":{\"outlinewidth\":0,\"ticks\":\"\"}},\"colorscale\":{\"sequential\":[[0.0,\"#0d0887\"],[0.1111111111111111,\"#46039f\"],[0.2222222222222222,\"#7201a8\"],[0.3333333333333333,\"#9c179e\"],[0.4444444444444444,\"#bd3786\"],[0.5555555555555556,\"#d8576b\"],[0.6666666666666666,\"#ed7953\"],[0.7777777777777778,\"#fb9f3a\"],[0.8888888888888888,\"#fdca26\"],[1.0,\"#f0f921\"]],\"sequentialminus\":[[0.0,\"#0d0887\"],[0.1111111111111111,\"#46039f\"],[0.2222222222222222,\"#7201a8\"],[0.3333333333333333,\"#9c179e\"],[0.4444444444444444,\"#bd3786\"],[0.5555555555555556,\"#d8576b\"],[0.6666666666666666,\"#ed7953\"],[0.7777777777777778,\"#fb9f3a\"],[0.8888888888888888,\"#fdca26\"],[1.0,\"#f0f921\"]],\"diverging\":[[0,\"#8e0152\"],[0.1,\"#c51b7d\"],[0.2,\"#de77ae\"],[0.3,\"#f1b6da\"],[0.4,\"#fde0ef\"],[0.5,\"#f7f7f7\"],[0.6,\"#e6f5d0\"],[0.7,\"#b8e186\"],[0.8,\"#7fbc41\"],[0.9,\"#4d9221\"],[1,\"#276419\"]]},\"xaxis\":{\"gridcolor\":\"white\",\"linecolor\":\"white\",\"ticks\":\"\",\"title\":{\"standoff\":15},\"zerolinecolor\":\"white\",\"automargin\":true,\"zerolinewidth\":2},\"yaxis\":{\"gridcolor\":\"white\",\"linecolor\":\"white\",\"ticks\":\"\",\"title\":{\"standoff\":15},\"zerolinecolor\":\"white\",\"automargin\":true,\"zerolinewidth\":2},\"scene\":{\"xaxis\":{\"backgroundcolor\":\"#E5ECF6\",\"gridcolor\":\"white\",\"linecolor\":\"white\",\"showbackground\":true,\"ticks\":\"\",\"zerolinecolor\":\"white\",\"gridwidth\":2},\"yaxis\":{\"backgroundcolor\":\"#E5ECF6\",\"gridcolor\":\"white\",\"linecolor\":\"white\",\"showbackground\":true,\"ticks\":\"\",\"zerolinecolor\":\"white\",\"gridwidth\":2},\"zaxis\":{\"backgroundcolor\":\"#E5ECF6\",\"gridcolor\":\"white\",\"linecolor\":\"white\",\"showbackground\":true,\"ticks\":\"\",\"zerolinecolor\":\"white\",\"gridwidth\":2}},\"shapedefaults\":{\"line\":{\"color\":\"#2a3f5f\"}},\"annotationdefaults\":{\"arrowcolor\":\"#2a3f5f\",\"arrowhead\":0,\"arrowwidth\":1},\"geo\":{\"bgcolor\":\"white\",\"landcolor\":\"#E5ECF6\",\"subunitcolor\":\"white\",\"showland\":true,\"showlakes\":true,\"lakecolor\":\"white\"},\"title\":{\"x\":0.05},\"mapbox\":{\"style\":\"light\"}}},\"xaxis\":{\"anchor\":\"y\",\"domain\":[0.0,1.0],\"title\":{\"text\":\"block\"}},\"yaxis\":{\"anchor\":\"x\",\"domain\":[0.0,1.0],\"title\":{\"text\":\"Log10_ParaM\"}},\"legend\":{\"title\":{\"text\":\"layer\"},\"tracegroupgap\":0},\"title\":{\"text\":\"My plot\"},\"barmode\":\"relative\",\"height\":600,\"showlegend\":false},                        {\"responsive\": true}                    ).then(function(){\n",
       "                            \n",
       "var gd = document.getElementById('7bb6ca52-9b09-4675-a4a5-d329e63a6bb3');\n",
       "var x = new MutationObserver(function (mutations, observer) {{\n",
       "        var display = window.getComputedStyle(gd).display;\n",
       "        if (!display || display === 'none') {{\n",
       "            console.log([gd, 'removed!']);\n",
       "            Plotly.purge(gd);\n",
       "            observer.disconnect();\n",
       "        }}\n",
       "}});\n",
       "\n",
       "// Listen for the removal of the full notebook cells\n",
       "var notebookContainer = gd.closest('#notebook-container');\n",
       "if (notebookContainer) {{\n",
       "    x.observe(notebookContainer, {childList: true});\n",
       "}}\n",
       "\n",
       "// Listen for the clearing of the current output cell\n",
       "var outputEl = gd.closest('.output');\n",
       "if (outputEl) {{\n",
       "    x.observe(outputEl, {childList: true});\n",
       "}}\n",
       "\n",
       "                        })                };                });            </script>        </div>"
      ]
     },
     "metadata": {},
     "output_type": "display_data"
    }
   ],
   "source": [
    "get_model_para_bar(model)#2048 70"
   ]
  },
  {
   "cell_type": "code",
   "execution_count": 26,
   "id": "d9ee98d9",
   "metadata": {},
   "outputs": [
    {
     "data": {
      "application/vnd.plotly.v1+json": {
       "config": {
        "plotlyServerURL": "https://plot.ly"
       },
       "data": [
        {
         "alignmentgroup": "True",
         "hovertemplate": "layer=pos_embed.(1, 512, 2048)<br>block=%{x}<br>Log10_ParaM=%{y}<extra></extra>",
         "legendgroup": "pos_embed.(1, 512, 2048)",
         "marker": {
          "color": "#636efa",
          "pattern": {
           "shape": ""
          }
         },
         "name": "pos_embed.(1, 512, 2048)",
         "offsetgroup": "pos_embed.(1, 512, 2048)",
         "orientation": "v",
         "showlegend": true,
         "textposition": "auto",
         "type": "bar",
         "x": [
          "pos_embed"
         ],
         "xaxis": "x",
         "y": [
          1048576
         ],
         "yaxis": "y"
        },
        {
         "alignmentgroup": "True",
         "hovertemplate": "layer=reduce_Field_coef.(1,)<br>block=%{x}<br>Log10_ParaM=%{y}<extra></extra>",
         "legendgroup": "reduce_Field_coef.(1,)",
         "marker": {
          "color": "#EF553B",
          "pattern": {
           "shape": ""
          }
         },
         "name": "reduce_Field_coef.(1,)",
         "offsetgroup": "reduce_Field_coef.(1,)",
         "orientation": "v",
         "showlegend": true,
         "textposition": "auto",
         "type": "bar",
         "x": [
          "reduce_Field_coef"
         ],
         "xaxis": "x",
         "y": [
          1
         ],
         "yaxis": "y"
        },
        {
         "alignmentgroup": "True",
         "hovertemplate": "layer=patch_embed.proj.conv_layers.0.weight.(2048, 210, 2)<br>block=%{x}<br>Log10_ParaM=%{y}<extra></extra>",
         "legendgroup": "patch_embed.proj.conv_layers.0.weight.(2048, 210, 2)",
         "marker": {
          "color": "#00cc96",
          "pattern": {
           "shape": ""
          }
         },
         "name": "patch_embed.proj.conv_layers.0.weight.(2048, 210, 2)",
         "offsetgroup": "patch_embed.proj.conv_layers.0.weight.(2048, 210, 2)",
         "orientation": "v",
         "showlegend": true,
         "textposition": "auto",
         "type": "bar",
         "x": [
          "patch_embed"
         ],
         "xaxis": "x",
         "y": [
          860160
         ],
         "yaxis": "y"
        },
        {
         "alignmentgroup": "True",
         "hovertemplate": "layer=patch_embed.proj.conv_layers.1.weight.(2048, 210, 2)<br>block=%{x}<br>Log10_ParaM=%{y}<extra></extra>",
         "legendgroup": "patch_embed.proj.conv_layers.1.weight.(2048, 210, 2)",
         "marker": {
          "color": "#ab63fa",
          "pattern": {
           "shape": ""
          }
         },
         "name": "patch_embed.proj.conv_layers.1.weight.(2048, 210, 2)",
         "offsetgroup": "patch_embed.proj.conv_layers.1.weight.(2048, 210, 2)",
         "orientation": "v",
         "showlegend": true,
         "textposition": "auto",
         "type": "bar",
         "x": [
          "patch_embed"
         ],
         "xaxis": "x",
         "y": [
          860160
         ],
         "yaxis": "y"
        },
        {
         "alignmentgroup": "True",
         "hovertemplate": "layer=blocks.0.norm1.weight.(2048,)<br>block=%{x}<br>Log10_ParaM=%{y}<extra></extra>",
         "legendgroup": "blocks.0.norm1.weight.(2048,)",
         "marker": {
          "color": "#FFA15A",
          "pattern": {
           "shape": ""
          }
         },
         "name": "blocks.0.norm1.weight.(2048,)",
         "offsetgroup": "blocks.0.norm1.weight.(2048,)",
         "orientation": "v",
         "showlegend": true,
         "textposition": "auto",
         "type": "bar",
         "x": [
          "blocks"
         ],
         "xaxis": "x",
         "y": [
          2048
         ],
         "yaxis": "y"
        },
        {
         "alignmentgroup": "True",
         "hovertemplate": "layer=blocks.0.norm1.bias.(2048,)<br>block=%{x}<br>Log10_ParaM=%{y}<extra></extra>",
         "legendgroup": "blocks.0.norm1.bias.(2048,)",
         "marker": {
          "color": "#19d3f3",
          "pattern": {
           "shape": ""
          }
         },
         "name": "blocks.0.norm1.bias.(2048,)",
         "offsetgroup": "blocks.0.norm1.bias.(2048,)",
         "orientation": "v",
         "showlegend": true,
         "textposition": "auto",
         "type": "bar",
         "x": [
          "blocks"
         ],
         "xaxis": "x",
         "y": [
          2048
         ],
         "yaxis": "y"
        },
        {
         "alignmentgroup": "True",
         "hovertemplate": "layer=blocks.0.filter.w1.(2, 4, 512, 512)<br>block=%{x}<br>Log10_ParaM=%{y}<extra></extra>",
         "legendgroup": "blocks.0.filter.w1.(2, 4, 512, 512)",
         "marker": {
          "color": "#FF6692",
          "pattern": {
           "shape": ""
          }
         },
         "name": "blocks.0.filter.w1.(2, 4, 512, 512)",
         "offsetgroup": "blocks.0.filter.w1.(2, 4, 512, 512)",
         "orientation": "v",
         "showlegend": true,
         "textposition": "auto",
         "type": "bar",
         "x": [
          "blocks"
         ],
         "xaxis": "x",
         "y": [
          2097152
         ],
         "yaxis": "y"
        },
        {
         "alignmentgroup": "True",
         "hovertemplate": "layer=blocks.0.filter.b1.(2, 4, 512)<br>block=%{x}<br>Log10_ParaM=%{y}<extra></extra>",
         "legendgroup": "blocks.0.filter.b1.(2, 4, 512)",
         "marker": {
          "color": "#B6E880",
          "pattern": {
           "shape": ""
          }
         },
         "name": "blocks.0.filter.b1.(2, 4, 512)",
         "offsetgroup": "blocks.0.filter.b1.(2, 4, 512)",
         "orientation": "v",
         "showlegend": true,
         "textposition": "auto",
         "type": "bar",
         "x": [
          "blocks"
         ],
         "xaxis": "x",
         "y": [
          4096
         ],
         "yaxis": "y"
        },
        {
         "alignmentgroup": "True",
         "hovertemplate": "layer=blocks.0.filter.w2.(2, 4, 512, 512)<br>block=%{x}<br>Log10_ParaM=%{y}<extra></extra>",
         "legendgroup": "blocks.0.filter.w2.(2, 4, 512, 512)",
         "marker": {
          "color": "#FF97FF",
          "pattern": {
           "shape": ""
          }
         },
         "name": "blocks.0.filter.w2.(2, 4, 512, 512)",
         "offsetgroup": "blocks.0.filter.w2.(2, 4, 512, 512)",
         "orientation": "v",
         "showlegend": true,
         "textposition": "auto",
         "type": "bar",
         "x": [
          "blocks"
         ],
         "xaxis": "x",
         "y": [
          2097152
         ],
         "yaxis": "y"
        },
        {
         "alignmentgroup": "True",
         "hovertemplate": "layer=blocks.0.filter.b2.(2, 4, 512)<br>block=%{x}<br>Log10_ParaM=%{y}<extra></extra>",
         "legendgroup": "blocks.0.filter.b2.(2, 4, 512)",
         "marker": {
          "color": "#FECB52",
          "pattern": {
           "shape": ""
          }
         },
         "name": "blocks.0.filter.b2.(2, 4, 512)",
         "offsetgroup": "blocks.0.filter.b2.(2, 4, 512)",
         "orientation": "v",
         "showlegend": true,
         "textposition": "auto",
         "type": "bar",
         "x": [
          "blocks"
         ],
         "xaxis": "x",
         "y": [
          4096
         ],
         "yaxis": "y"
        },
        {
         "alignmentgroup": "True",
         "hovertemplate": "layer=blocks.0.norm2.weight.(2048,)<br>block=%{x}<br>Log10_ParaM=%{y}<extra></extra>",
         "legendgroup": "blocks.0.norm2.weight.(2048,)",
         "marker": {
          "color": "#636efa",
          "pattern": {
           "shape": ""
          }
         },
         "name": "blocks.0.norm2.weight.(2048,)",
         "offsetgroup": "blocks.0.norm2.weight.(2048,)",
         "orientation": "v",
         "showlegend": true,
         "textposition": "auto",
         "type": "bar",
         "x": [
          "blocks"
         ],
         "xaxis": "x",
         "y": [
          2048
         ],
         "yaxis": "y"
        },
        {
         "alignmentgroup": "True",
         "hovertemplate": "layer=blocks.0.norm2.bias.(2048,)<br>block=%{x}<br>Log10_ParaM=%{y}<extra></extra>",
         "legendgroup": "blocks.0.norm2.bias.(2048,)",
         "marker": {
          "color": "#EF553B",
          "pattern": {
           "shape": ""
          }
         },
         "name": "blocks.0.norm2.bias.(2048,)",
         "offsetgroup": "blocks.0.norm2.bias.(2048,)",
         "orientation": "v",
         "showlegend": true,
         "textposition": "auto",
         "type": "bar",
         "x": [
          "blocks"
         ],
         "xaxis": "x",
         "y": [
          2048
         ],
         "yaxis": "y"
        },
        {
         "alignmentgroup": "True",
         "hovertemplate": "layer=blocks.0.mlp.fc1.weight.(8192, 2048)<br>block=%{x}<br>Log10_ParaM=%{y}<extra></extra>",
         "legendgroup": "blocks.0.mlp.fc1.weight.(8192, 2048)",
         "marker": {
          "color": "#00cc96",
          "pattern": {
           "shape": ""
          }
         },
         "name": "blocks.0.mlp.fc1.weight.(8192, 2048)",
         "offsetgroup": "blocks.0.mlp.fc1.weight.(8192, 2048)",
         "orientation": "v",
         "showlegend": true,
         "textposition": "auto",
         "type": "bar",
         "x": [
          "blocks"
         ],
         "xaxis": "x",
         "y": [
          16777216
         ],
         "yaxis": "y"
        },
        {
         "alignmentgroup": "True",
         "hovertemplate": "layer=blocks.0.mlp.fc1.bias.(8192,)<br>block=%{x}<br>Log10_ParaM=%{y}<extra></extra>",
         "legendgroup": "blocks.0.mlp.fc1.bias.(8192,)",
         "marker": {
          "color": "#ab63fa",
          "pattern": {
           "shape": ""
          }
         },
         "name": "blocks.0.mlp.fc1.bias.(8192,)",
         "offsetgroup": "blocks.0.mlp.fc1.bias.(8192,)",
         "orientation": "v",
         "showlegend": true,
         "textposition": "auto",
         "type": "bar",
         "x": [
          "blocks"
         ],
         "xaxis": "x",
         "y": [
          8192
         ],
         "yaxis": "y"
        },
        {
         "alignmentgroup": "True",
         "hovertemplate": "layer=blocks.1.norm1.weight.(2048,)<br>block=%{x}<br>Log10_ParaM=%{y}<extra></extra>",
         "legendgroup": "blocks.1.norm1.weight.(2048,)",
         "marker": {
          "color": "#FFA15A",
          "pattern": {
           "shape": ""
          }
         },
         "name": "blocks.1.norm1.weight.(2048,)",
         "offsetgroup": "blocks.1.norm1.weight.(2048,)",
         "orientation": "v",
         "showlegend": true,
         "textposition": "auto",
         "type": "bar",
         "x": [
          "blocks"
         ],
         "xaxis": "x",
         "y": [
          2048
         ],
         "yaxis": "y"
        },
        {
         "alignmentgroup": "True",
         "hovertemplate": "layer=blocks.1.norm1.bias.(2048,)<br>block=%{x}<br>Log10_ParaM=%{y}<extra></extra>",
         "legendgroup": "blocks.1.norm1.bias.(2048,)",
         "marker": {
          "color": "#19d3f3",
          "pattern": {
           "shape": ""
          }
         },
         "name": "blocks.1.norm1.bias.(2048,)",
         "offsetgroup": "blocks.1.norm1.bias.(2048,)",
         "orientation": "v",
         "showlegend": true,
         "textposition": "auto",
         "type": "bar",
         "x": [
          "blocks"
         ],
         "xaxis": "x",
         "y": [
          2048
         ],
         "yaxis": "y"
        },
        {
         "alignmentgroup": "True",
         "hovertemplate": "layer=blocks.1.filter.w1.(2, 4, 512, 512)<br>block=%{x}<br>Log10_ParaM=%{y}<extra></extra>",
         "legendgroup": "blocks.1.filter.w1.(2, 4, 512, 512)",
         "marker": {
          "color": "#FF6692",
          "pattern": {
           "shape": ""
          }
         },
         "name": "blocks.1.filter.w1.(2, 4, 512, 512)",
         "offsetgroup": "blocks.1.filter.w1.(2, 4, 512, 512)",
         "orientation": "v",
         "showlegend": true,
         "textposition": "auto",
         "type": "bar",
         "x": [
          "blocks"
         ],
         "xaxis": "x",
         "y": [
          2097152
         ],
         "yaxis": "y"
        },
        {
         "alignmentgroup": "True",
         "hovertemplate": "layer=blocks.1.filter.b1.(2, 4, 512)<br>block=%{x}<br>Log10_ParaM=%{y}<extra></extra>",
         "legendgroup": "blocks.1.filter.b1.(2, 4, 512)",
         "marker": {
          "color": "#B6E880",
          "pattern": {
           "shape": ""
          }
         },
         "name": "blocks.1.filter.b1.(2, 4, 512)",
         "offsetgroup": "blocks.1.filter.b1.(2, 4, 512)",
         "orientation": "v",
         "showlegend": true,
         "textposition": "auto",
         "type": "bar",
         "x": [
          "blocks"
         ],
         "xaxis": "x",
         "y": [
          4096
         ],
         "yaxis": "y"
        },
        {
         "alignmentgroup": "True",
         "hovertemplate": "layer=blocks.1.filter.w2.(2, 4, 512, 512)<br>block=%{x}<br>Log10_ParaM=%{y}<extra></extra>",
         "legendgroup": "blocks.1.filter.w2.(2, 4, 512, 512)",
         "marker": {
          "color": "#FF97FF",
          "pattern": {
           "shape": ""
          }
         },
         "name": "blocks.1.filter.w2.(2, 4, 512, 512)",
         "offsetgroup": "blocks.1.filter.w2.(2, 4, 512, 512)",
         "orientation": "v",
         "showlegend": true,
         "textposition": "auto",
         "type": "bar",
         "x": [
          "blocks"
         ],
         "xaxis": "x",
         "y": [
          2097152
         ],
         "yaxis": "y"
        },
        {
         "alignmentgroup": "True",
         "hovertemplate": "layer=blocks.1.filter.b2.(2, 4, 512)<br>block=%{x}<br>Log10_ParaM=%{y}<extra></extra>",
         "legendgroup": "blocks.1.filter.b2.(2, 4, 512)",
         "marker": {
          "color": "#FECB52",
          "pattern": {
           "shape": ""
          }
         },
         "name": "blocks.1.filter.b2.(2, 4, 512)",
         "offsetgroup": "blocks.1.filter.b2.(2, 4, 512)",
         "orientation": "v",
         "showlegend": true,
         "textposition": "auto",
         "type": "bar",
         "x": [
          "blocks"
         ],
         "xaxis": "x",
         "y": [
          4096
         ],
         "yaxis": "y"
        },
        {
         "alignmentgroup": "True",
         "hovertemplate": "layer=blocks.1.norm2.weight.(2048,)<br>block=%{x}<br>Log10_ParaM=%{y}<extra></extra>",
         "legendgroup": "blocks.1.norm2.weight.(2048,)",
         "marker": {
          "color": "#636efa",
          "pattern": {
           "shape": ""
          }
         },
         "name": "blocks.1.norm2.weight.(2048,)",
         "offsetgroup": "blocks.1.norm2.weight.(2048,)",
         "orientation": "v",
         "showlegend": true,
         "textposition": "auto",
         "type": "bar",
         "x": [
          "blocks"
         ],
         "xaxis": "x",
         "y": [
          2048
         ],
         "yaxis": "y"
        },
        {
         "alignmentgroup": "True",
         "hovertemplate": "layer=blocks.1.norm2.bias.(2048,)<br>block=%{x}<br>Log10_ParaM=%{y}<extra></extra>",
         "legendgroup": "blocks.1.norm2.bias.(2048,)",
         "marker": {
          "color": "#EF553B",
          "pattern": {
           "shape": ""
          }
         },
         "name": "blocks.1.norm2.bias.(2048,)",
         "offsetgroup": "blocks.1.norm2.bias.(2048,)",
         "orientation": "v",
         "showlegend": true,
         "textposition": "auto",
         "type": "bar",
         "x": [
          "blocks"
         ],
         "xaxis": "x",
         "y": [
          2048
         ],
         "yaxis": "y"
        },
        {
         "alignmentgroup": "True",
         "hovertemplate": "layer=blocks.1.mlp.fc1.weight.(8192, 2048)<br>block=%{x}<br>Log10_ParaM=%{y}<extra></extra>",
         "legendgroup": "blocks.1.mlp.fc1.weight.(8192, 2048)",
         "marker": {
          "color": "#00cc96",
          "pattern": {
           "shape": ""
          }
         },
         "name": "blocks.1.mlp.fc1.weight.(8192, 2048)",
         "offsetgroup": "blocks.1.mlp.fc1.weight.(8192, 2048)",
         "orientation": "v",
         "showlegend": true,
         "textposition": "auto",
         "type": "bar",
         "x": [
          "blocks"
         ],
         "xaxis": "x",
         "y": [
          16777216
         ],
         "yaxis": "y"
        },
        {
         "alignmentgroup": "True",
         "hovertemplate": "layer=blocks.1.mlp.fc1.bias.(8192,)<br>block=%{x}<br>Log10_ParaM=%{y}<extra></extra>",
         "legendgroup": "blocks.1.mlp.fc1.bias.(8192,)",
         "marker": {
          "color": "#ab63fa",
          "pattern": {
           "shape": ""
          }
         },
         "name": "blocks.1.mlp.fc1.bias.(8192,)",
         "offsetgroup": "blocks.1.mlp.fc1.bias.(8192,)",
         "orientation": "v",
         "showlegend": true,
         "textposition": "auto",
         "type": "bar",
         "x": [
          "blocks"
         ],
         "xaxis": "x",
         "y": [
          8192
         ],
         "yaxis": "y"
        },
        {
         "alignmentgroup": "True",
         "hovertemplate": "layer=blocks.2.norm1.weight.(2048,)<br>block=%{x}<br>Log10_ParaM=%{y}<extra></extra>",
         "legendgroup": "blocks.2.norm1.weight.(2048,)",
         "marker": {
          "color": "#FFA15A",
          "pattern": {
           "shape": ""
          }
         },
         "name": "blocks.2.norm1.weight.(2048,)",
         "offsetgroup": "blocks.2.norm1.weight.(2048,)",
         "orientation": "v",
         "showlegend": true,
         "textposition": "auto",
         "type": "bar",
         "x": [
          "blocks"
         ],
         "xaxis": "x",
         "y": [
          2048
         ],
         "yaxis": "y"
        },
        {
         "alignmentgroup": "True",
         "hovertemplate": "layer=blocks.2.norm1.bias.(2048,)<br>block=%{x}<br>Log10_ParaM=%{y}<extra></extra>",
         "legendgroup": "blocks.2.norm1.bias.(2048,)",
         "marker": {
          "color": "#19d3f3",
          "pattern": {
           "shape": ""
          }
         },
         "name": "blocks.2.norm1.bias.(2048,)",
         "offsetgroup": "blocks.2.norm1.bias.(2048,)",
         "orientation": "v",
         "showlegend": true,
         "textposition": "auto",
         "type": "bar",
         "x": [
          "blocks"
         ],
         "xaxis": "x",
         "y": [
          2048
         ],
         "yaxis": "y"
        },
        {
         "alignmentgroup": "True",
         "hovertemplate": "layer=blocks.2.filter.w1.(2, 4, 512, 512)<br>block=%{x}<br>Log10_ParaM=%{y}<extra></extra>",
         "legendgroup": "blocks.2.filter.w1.(2, 4, 512, 512)",
         "marker": {
          "color": "#FF6692",
          "pattern": {
           "shape": ""
          }
         },
         "name": "blocks.2.filter.w1.(2, 4, 512, 512)",
         "offsetgroup": "blocks.2.filter.w1.(2, 4, 512, 512)",
         "orientation": "v",
         "showlegend": true,
         "textposition": "auto",
         "type": "bar",
         "x": [
          "blocks"
         ],
         "xaxis": "x",
         "y": [
          2097152
         ],
         "yaxis": "y"
        },
        {
         "alignmentgroup": "True",
         "hovertemplate": "layer=blocks.2.filter.b1.(2, 4, 512)<br>block=%{x}<br>Log10_ParaM=%{y}<extra></extra>",
         "legendgroup": "blocks.2.filter.b1.(2, 4, 512)",
         "marker": {
          "color": "#B6E880",
          "pattern": {
           "shape": ""
          }
         },
         "name": "blocks.2.filter.b1.(2, 4, 512)",
         "offsetgroup": "blocks.2.filter.b1.(2, 4, 512)",
         "orientation": "v",
         "showlegend": true,
         "textposition": "auto",
         "type": "bar",
         "x": [
          "blocks"
         ],
         "xaxis": "x",
         "y": [
          4096
         ],
         "yaxis": "y"
        },
        {
         "alignmentgroup": "True",
         "hovertemplate": "layer=blocks.2.filter.w2.(2, 4, 512, 512)<br>block=%{x}<br>Log10_ParaM=%{y}<extra></extra>",
         "legendgroup": "blocks.2.filter.w2.(2, 4, 512, 512)",
         "marker": {
          "color": "#FF97FF",
          "pattern": {
           "shape": ""
          }
         },
         "name": "blocks.2.filter.w2.(2, 4, 512, 512)",
         "offsetgroup": "blocks.2.filter.w2.(2, 4, 512, 512)",
         "orientation": "v",
         "showlegend": true,
         "textposition": "auto",
         "type": "bar",
         "x": [
          "blocks"
         ],
         "xaxis": "x",
         "y": [
          2097152
         ],
         "yaxis": "y"
        },
        {
         "alignmentgroup": "True",
         "hovertemplate": "layer=blocks.2.filter.b2.(2, 4, 512)<br>block=%{x}<br>Log10_ParaM=%{y}<extra></extra>",
         "legendgroup": "blocks.2.filter.b2.(2, 4, 512)",
         "marker": {
          "color": "#FECB52",
          "pattern": {
           "shape": ""
          }
         },
         "name": "blocks.2.filter.b2.(2, 4, 512)",
         "offsetgroup": "blocks.2.filter.b2.(2, 4, 512)",
         "orientation": "v",
         "showlegend": true,
         "textposition": "auto",
         "type": "bar",
         "x": [
          "blocks"
         ],
         "xaxis": "x",
         "y": [
          4096
         ],
         "yaxis": "y"
        },
        {
         "alignmentgroup": "True",
         "hovertemplate": "layer=blocks.2.norm2.weight.(2048,)<br>block=%{x}<br>Log10_ParaM=%{y}<extra></extra>",
         "legendgroup": "blocks.2.norm2.weight.(2048,)",
         "marker": {
          "color": "#636efa",
          "pattern": {
           "shape": ""
          }
         },
         "name": "blocks.2.norm2.weight.(2048,)",
         "offsetgroup": "blocks.2.norm2.weight.(2048,)",
         "orientation": "v",
         "showlegend": true,
         "textposition": "auto",
         "type": "bar",
         "x": [
          "blocks"
         ],
         "xaxis": "x",
         "y": [
          2048
         ],
         "yaxis": "y"
        },
        {
         "alignmentgroup": "True",
         "hovertemplate": "layer=blocks.2.norm2.bias.(2048,)<br>block=%{x}<br>Log10_ParaM=%{y}<extra></extra>",
         "legendgroup": "blocks.2.norm2.bias.(2048,)",
         "marker": {
          "color": "#EF553B",
          "pattern": {
           "shape": ""
          }
         },
         "name": "blocks.2.norm2.bias.(2048,)",
         "offsetgroup": "blocks.2.norm2.bias.(2048,)",
         "orientation": "v",
         "showlegend": true,
         "textposition": "auto",
         "type": "bar",
         "x": [
          "blocks"
         ],
         "xaxis": "x",
         "y": [
          2048
         ],
         "yaxis": "y"
        },
        {
         "alignmentgroup": "True",
         "hovertemplate": "layer=blocks.2.mlp.fc1.weight.(8192, 2048)<br>block=%{x}<br>Log10_ParaM=%{y}<extra></extra>",
         "legendgroup": "blocks.2.mlp.fc1.weight.(8192, 2048)",
         "marker": {
          "color": "#00cc96",
          "pattern": {
           "shape": ""
          }
         },
         "name": "blocks.2.mlp.fc1.weight.(8192, 2048)",
         "offsetgroup": "blocks.2.mlp.fc1.weight.(8192, 2048)",
         "orientation": "v",
         "showlegend": true,
         "textposition": "auto",
         "type": "bar",
         "x": [
          "blocks"
         ],
         "xaxis": "x",
         "y": [
          16777216
         ],
         "yaxis": "y"
        },
        {
         "alignmentgroup": "True",
         "hovertemplate": "layer=blocks.2.mlp.fc1.bias.(8192,)<br>block=%{x}<br>Log10_ParaM=%{y}<extra></extra>",
         "legendgroup": "blocks.2.mlp.fc1.bias.(8192,)",
         "marker": {
          "color": "#ab63fa",
          "pattern": {
           "shape": ""
          }
         },
         "name": "blocks.2.mlp.fc1.bias.(8192,)",
         "offsetgroup": "blocks.2.mlp.fc1.bias.(8192,)",
         "orientation": "v",
         "showlegend": true,
         "textposition": "auto",
         "type": "bar",
         "x": [
          "blocks"
         ],
         "xaxis": "x",
         "y": [
          8192
         ],
         "yaxis": "y"
        },
        {
         "alignmentgroup": "True",
         "hovertemplate": "layer=blocks.3.norm1.weight.(2048,)<br>block=%{x}<br>Log10_ParaM=%{y}<extra></extra>",
         "legendgroup": "blocks.3.norm1.weight.(2048,)",
         "marker": {
          "color": "#FFA15A",
          "pattern": {
           "shape": ""
          }
         },
         "name": "blocks.3.norm1.weight.(2048,)",
         "offsetgroup": "blocks.3.norm1.weight.(2048,)",
         "orientation": "v",
         "showlegend": true,
         "textposition": "auto",
         "type": "bar",
         "x": [
          "blocks"
         ],
         "xaxis": "x",
         "y": [
          2048
         ],
         "yaxis": "y"
        },
        {
         "alignmentgroup": "True",
         "hovertemplate": "layer=blocks.3.norm1.bias.(2048,)<br>block=%{x}<br>Log10_ParaM=%{y}<extra></extra>",
         "legendgroup": "blocks.3.norm1.bias.(2048,)",
         "marker": {
          "color": "#19d3f3",
          "pattern": {
           "shape": ""
          }
         },
         "name": "blocks.3.norm1.bias.(2048,)",
         "offsetgroup": "blocks.3.norm1.bias.(2048,)",
         "orientation": "v",
         "showlegend": true,
         "textposition": "auto",
         "type": "bar",
         "x": [
          "blocks"
         ],
         "xaxis": "x",
         "y": [
          2048
         ],
         "yaxis": "y"
        },
        {
         "alignmentgroup": "True",
         "hovertemplate": "layer=blocks.3.filter.w1.(2, 4, 512, 512)<br>block=%{x}<br>Log10_ParaM=%{y}<extra></extra>",
         "legendgroup": "blocks.3.filter.w1.(2, 4, 512, 512)",
         "marker": {
          "color": "#FF6692",
          "pattern": {
           "shape": ""
          }
         },
         "name": "blocks.3.filter.w1.(2, 4, 512, 512)",
         "offsetgroup": "blocks.3.filter.w1.(2, 4, 512, 512)",
         "orientation": "v",
         "showlegend": true,
         "textposition": "auto",
         "type": "bar",
         "x": [
          "blocks"
         ],
         "xaxis": "x",
         "y": [
          2097152
         ],
         "yaxis": "y"
        },
        {
         "alignmentgroup": "True",
         "hovertemplate": "layer=blocks.3.filter.b1.(2, 4, 512)<br>block=%{x}<br>Log10_ParaM=%{y}<extra></extra>",
         "legendgroup": "blocks.3.filter.b1.(2, 4, 512)",
         "marker": {
          "color": "#B6E880",
          "pattern": {
           "shape": ""
          }
         },
         "name": "blocks.3.filter.b1.(2, 4, 512)",
         "offsetgroup": "blocks.3.filter.b1.(2, 4, 512)",
         "orientation": "v",
         "showlegend": true,
         "textposition": "auto",
         "type": "bar",
         "x": [
          "blocks"
         ],
         "xaxis": "x",
         "y": [
          4096
         ],
         "yaxis": "y"
        },
        {
         "alignmentgroup": "True",
         "hovertemplate": "layer=blocks.3.filter.w2.(2, 4, 512, 512)<br>block=%{x}<br>Log10_ParaM=%{y}<extra></extra>",
         "legendgroup": "blocks.3.filter.w2.(2, 4, 512, 512)",
         "marker": {
          "color": "#FF97FF",
          "pattern": {
           "shape": ""
          }
         },
         "name": "blocks.3.filter.w2.(2, 4, 512, 512)",
         "offsetgroup": "blocks.3.filter.w2.(2, 4, 512, 512)",
         "orientation": "v",
         "showlegend": true,
         "textposition": "auto",
         "type": "bar",
         "x": [
          "blocks"
         ],
         "xaxis": "x",
         "y": [
          2097152
         ],
         "yaxis": "y"
        },
        {
         "alignmentgroup": "True",
         "hovertemplate": "layer=blocks.3.filter.b2.(2, 4, 512)<br>block=%{x}<br>Log10_ParaM=%{y}<extra></extra>",
         "legendgroup": "blocks.3.filter.b2.(2, 4, 512)",
         "marker": {
          "color": "#FECB52",
          "pattern": {
           "shape": ""
          }
         },
         "name": "blocks.3.filter.b2.(2, 4, 512)",
         "offsetgroup": "blocks.3.filter.b2.(2, 4, 512)",
         "orientation": "v",
         "showlegend": true,
         "textposition": "auto",
         "type": "bar",
         "x": [
          "blocks"
         ],
         "xaxis": "x",
         "y": [
          4096
         ],
         "yaxis": "y"
        },
        {
         "alignmentgroup": "True",
         "hovertemplate": "layer=blocks.3.norm2.weight.(2048,)<br>block=%{x}<br>Log10_ParaM=%{y}<extra></extra>",
         "legendgroup": "blocks.3.norm2.weight.(2048,)",
         "marker": {
          "color": "#636efa",
          "pattern": {
           "shape": ""
          }
         },
         "name": "blocks.3.norm2.weight.(2048,)",
         "offsetgroup": "blocks.3.norm2.weight.(2048,)",
         "orientation": "v",
         "showlegend": true,
         "textposition": "auto",
         "type": "bar",
         "x": [
          "blocks"
         ],
         "xaxis": "x",
         "y": [
          2048
         ],
         "yaxis": "y"
        },
        {
         "alignmentgroup": "True",
         "hovertemplate": "layer=blocks.3.norm2.bias.(2048,)<br>block=%{x}<br>Log10_ParaM=%{y}<extra></extra>",
         "legendgroup": "blocks.3.norm2.bias.(2048,)",
         "marker": {
          "color": "#EF553B",
          "pattern": {
           "shape": ""
          }
         },
         "name": "blocks.3.norm2.bias.(2048,)",
         "offsetgroup": "blocks.3.norm2.bias.(2048,)",
         "orientation": "v",
         "showlegend": true,
         "textposition": "auto",
         "type": "bar",
         "x": [
          "blocks"
         ],
         "xaxis": "x",
         "y": [
          2048
         ],
         "yaxis": "y"
        },
        {
         "alignmentgroup": "True",
         "hovertemplate": "layer=blocks.3.mlp.fc1.weight.(8192, 2048)<br>block=%{x}<br>Log10_ParaM=%{y}<extra></extra>",
         "legendgroup": "blocks.3.mlp.fc1.weight.(8192, 2048)",
         "marker": {
          "color": "#00cc96",
          "pattern": {
           "shape": ""
          }
         },
         "name": "blocks.3.mlp.fc1.weight.(8192, 2048)",
         "offsetgroup": "blocks.3.mlp.fc1.weight.(8192, 2048)",
         "orientation": "v",
         "showlegend": true,
         "textposition": "auto",
         "type": "bar",
         "x": [
          "blocks"
         ],
         "xaxis": "x",
         "y": [
          16777216
         ],
         "yaxis": "y"
        },
        {
         "alignmentgroup": "True",
         "hovertemplate": "layer=blocks.3.mlp.fc1.bias.(8192,)<br>block=%{x}<br>Log10_ParaM=%{y}<extra></extra>",
         "legendgroup": "blocks.3.mlp.fc1.bias.(8192,)",
         "marker": {
          "color": "#ab63fa",
          "pattern": {
           "shape": ""
          }
         },
         "name": "blocks.3.mlp.fc1.bias.(8192,)",
         "offsetgroup": "blocks.3.mlp.fc1.bias.(8192,)",
         "orientation": "v",
         "showlegend": true,
         "textposition": "auto",
         "type": "bar",
         "x": [
          "blocks"
         ],
         "xaxis": "x",
         "y": [
          8192
         ],
         "yaxis": "y"
        },
        {
         "alignmentgroup": "True",
         "hovertemplate": "layer=blocks.4.norm1.weight.(2048,)<br>block=%{x}<br>Log10_ParaM=%{y}<extra></extra>",
         "legendgroup": "blocks.4.norm1.weight.(2048,)",
         "marker": {
          "color": "#FFA15A",
          "pattern": {
           "shape": ""
          }
         },
         "name": "blocks.4.norm1.weight.(2048,)",
         "offsetgroup": "blocks.4.norm1.weight.(2048,)",
         "orientation": "v",
         "showlegend": true,
         "textposition": "auto",
         "type": "bar",
         "x": [
          "blocks"
         ],
         "xaxis": "x",
         "y": [
          2048
         ],
         "yaxis": "y"
        },
        {
         "alignmentgroup": "True",
         "hovertemplate": "layer=blocks.4.norm1.bias.(2048,)<br>block=%{x}<br>Log10_ParaM=%{y}<extra></extra>",
         "legendgroup": "blocks.4.norm1.bias.(2048,)",
         "marker": {
          "color": "#19d3f3",
          "pattern": {
           "shape": ""
          }
         },
         "name": "blocks.4.norm1.bias.(2048,)",
         "offsetgroup": "blocks.4.norm1.bias.(2048,)",
         "orientation": "v",
         "showlegend": true,
         "textposition": "auto",
         "type": "bar",
         "x": [
          "blocks"
         ],
         "xaxis": "x",
         "y": [
          2048
         ],
         "yaxis": "y"
        },
        {
         "alignmentgroup": "True",
         "hovertemplate": "layer=blocks.4.filter.w1.(2, 4, 512, 512)<br>block=%{x}<br>Log10_ParaM=%{y}<extra></extra>",
         "legendgroup": "blocks.4.filter.w1.(2, 4, 512, 512)",
         "marker": {
          "color": "#FF6692",
          "pattern": {
           "shape": ""
          }
         },
         "name": "blocks.4.filter.w1.(2, 4, 512, 512)",
         "offsetgroup": "blocks.4.filter.w1.(2, 4, 512, 512)",
         "orientation": "v",
         "showlegend": true,
         "textposition": "auto",
         "type": "bar",
         "x": [
          "blocks"
         ],
         "xaxis": "x",
         "y": [
          2097152
         ],
         "yaxis": "y"
        },
        {
         "alignmentgroup": "True",
         "hovertemplate": "layer=blocks.4.filter.b1.(2, 4, 512)<br>block=%{x}<br>Log10_ParaM=%{y}<extra></extra>",
         "legendgroup": "blocks.4.filter.b1.(2, 4, 512)",
         "marker": {
          "color": "#B6E880",
          "pattern": {
           "shape": ""
          }
         },
         "name": "blocks.4.filter.b1.(2, 4, 512)",
         "offsetgroup": "blocks.4.filter.b1.(2, 4, 512)",
         "orientation": "v",
         "showlegend": true,
         "textposition": "auto",
         "type": "bar",
         "x": [
          "blocks"
         ],
         "xaxis": "x",
         "y": [
          4096
         ],
         "yaxis": "y"
        },
        {
         "alignmentgroup": "True",
         "hovertemplate": "layer=blocks.4.filter.w2.(2, 4, 512, 512)<br>block=%{x}<br>Log10_ParaM=%{y}<extra></extra>",
         "legendgroup": "blocks.4.filter.w2.(2, 4, 512, 512)",
         "marker": {
          "color": "#FF97FF",
          "pattern": {
           "shape": ""
          }
         },
         "name": "blocks.4.filter.w2.(2, 4, 512, 512)",
         "offsetgroup": "blocks.4.filter.w2.(2, 4, 512, 512)",
         "orientation": "v",
         "showlegend": true,
         "textposition": "auto",
         "type": "bar",
         "x": [
          "blocks"
         ],
         "xaxis": "x",
         "y": [
          2097152
         ],
         "yaxis": "y"
        },
        {
         "alignmentgroup": "True",
         "hovertemplate": "layer=blocks.4.filter.b2.(2, 4, 512)<br>block=%{x}<br>Log10_ParaM=%{y}<extra></extra>",
         "legendgroup": "blocks.4.filter.b2.(2, 4, 512)",
         "marker": {
          "color": "#FECB52",
          "pattern": {
           "shape": ""
          }
         },
         "name": "blocks.4.filter.b2.(2, 4, 512)",
         "offsetgroup": "blocks.4.filter.b2.(2, 4, 512)",
         "orientation": "v",
         "showlegend": true,
         "textposition": "auto",
         "type": "bar",
         "x": [
          "blocks"
         ],
         "xaxis": "x",
         "y": [
          4096
         ],
         "yaxis": "y"
        },
        {
         "alignmentgroup": "True",
         "hovertemplate": "layer=blocks.4.norm2.weight.(2048,)<br>block=%{x}<br>Log10_ParaM=%{y}<extra></extra>",
         "legendgroup": "blocks.4.norm2.weight.(2048,)",
         "marker": {
          "color": "#636efa",
          "pattern": {
           "shape": ""
          }
         },
         "name": "blocks.4.norm2.weight.(2048,)",
         "offsetgroup": "blocks.4.norm2.weight.(2048,)",
         "orientation": "v",
         "showlegend": true,
         "textposition": "auto",
         "type": "bar",
         "x": [
          "blocks"
         ],
         "xaxis": "x",
         "y": [
          2048
         ],
         "yaxis": "y"
        },
        {
         "alignmentgroup": "True",
         "hovertemplate": "layer=blocks.4.norm2.bias.(2048,)<br>block=%{x}<br>Log10_ParaM=%{y}<extra></extra>",
         "legendgroup": "blocks.4.norm2.bias.(2048,)",
         "marker": {
          "color": "#EF553B",
          "pattern": {
           "shape": ""
          }
         },
         "name": "blocks.4.norm2.bias.(2048,)",
         "offsetgroup": "blocks.4.norm2.bias.(2048,)",
         "orientation": "v",
         "showlegend": true,
         "textposition": "auto",
         "type": "bar",
         "x": [
          "blocks"
         ],
         "xaxis": "x",
         "y": [
          2048
         ],
         "yaxis": "y"
        },
        {
         "alignmentgroup": "True",
         "hovertemplate": "layer=blocks.4.mlp.fc1.weight.(8192, 2048)<br>block=%{x}<br>Log10_ParaM=%{y}<extra></extra>",
         "legendgroup": "blocks.4.mlp.fc1.weight.(8192, 2048)",
         "marker": {
          "color": "#00cc96",
          "pattern": {
           "shape": ""
          }
         },
         "name": "blocks.4.mlp.fc1.weight.(8192, 2048)",
         "offsetgroup": "blocks.4.mlp.fc1.weight.(8192, 2048)",
         "orientation": "v",
         "showlegend": true,
         "textposition": "auto",
         "type": "bar",
         "x": [
          "blocks"
         ],
         "xaxis": "x",
         "y": [
          16777216
         ],
         "yaxis": "y"
        },
        {
         "alignmentgroup": "True",
         "hovertemplate": "layer=blocks.4.mlp.fc1.bias.(8192,)<br>block=%{x}<br>Log10_ParaM=%{y}<extra></extra>",
         "legendgroup": "blocks.4.mlp.fc1.bias.(8192,)",
         "marker": {
          "color": "#ab63fa",
          "pattern": {
           "shape": ""
          }
         },
         "name": "blocks.4.mlp.fc1.bias.(8192,)",
         "offsetgroup": "blocks.4.mlp.fc1.bias.(8192,)",
         "orientation": "v",
         "showlegend": true,
         "textposition": "auto",
         "type": "bar",
         "x": [
          "blocks"
         ],
         "xaxis": "x",
         "y": [
          8192
         ],
         "yaxis": "y"
        },
        {
         "alignmentgroup": "True",
         "hovertemplate": "layer=blocks.5.norm1.weight.(2048,)<br>block=%{x}<br>Log10_ParaM=%{y}<extra></extra>",
         "legendgroup": "blocks.5.norm1.weight.(2048,)",
         "marker": {
          "color": "#FFA15A",
          "pattern": {
           "shape": ""
          }
         },
         "name": "blocks.5.norm1.weight.(2048,)",
         "offsetgroup": "blocks.5.norm1.weight.(2048,)",
         "orientation": "v",
         "showlegend": true,
         "textposition": "auto",
         "type": "bar",
         "x": [
          "blocks"
         ],
         "xaxis": "x",
         "y": [
          2048
         ],
         "yaxis": "y"
        },
        {
         "alignmentgroup": "True",
         "hovertemplate": "layer=blocks.5.norm1.bias.(2048,)<br>block=%{x}<br>Log10_ParaM=%{y}<extra></extra>",
         "legendgroup": "blocks.5.norm1.bias.(2048,)",
         "marker": {
          "color": "#19d3f3",
          "pattern": {
           "shape": ""
          }
         },
         "name": "blocks.5.norm1.bias.(2048,)",
         "offsetgroup": "blocks.5.norm1.bias.(2048,)",
         "orientation": "v",
         "showlegend": true,
         "textposition": "auto",
         "type": "bar",
         "x": [
          "blocks"
         ],
         "xaxis": "x",
         "y": [
          2048
         ],
         "yaxis": "y"
        },
        {
         "alignmentgroup": "True",
         "hovertemplate": "layer=blocks.5.filter.w1.(2, 4, 512, 512)<br>block=%{x}<br>Log10_ParaM=%{y}<extra></extra>",
         "legendgroup": "blocks.5.filter.w1.(2, 4, 512, 512)",
         "marker": {
          "color": "#FF6692",
          "pattern": {
           "shape": ""
          }
         },
         "name": "blocks.5.filter.w1.(2, 4, 512, 512)",
         "offsetgroup": "blocks.5.filter.w1.(2, 4, 512, 512)",
         "orientation": "v",
         "showlegend": true,
         "textposition": "auto",
         "type": "bar",
         "x": [
          "blocks"
         ],
         "xaxis": "x",
         "y": [
          2097152
         ],
         "yaxis": "y"
        },
        {
         "alignmentgroup": "True",
         "hovertemplate": "layer=blocks.5.filter.b1.(2, 4, 512)<br>block=%{x}<br>Log10_ParaM=%{y}<extra></extra>",
         "legendgroup": "blocks.5.filter.b1.(2, 4, 512)",
         "marker": {
          "color": "#B6E880",
          "pattern": {
           "shape": ""
          }
         },
         "name": "blocks.5.filter.b1.(2, 4, 512)",
         "offsetgroup": "blocks.5.filter.b1.(2, 4, 512)",
         "orientation": "v",
         "showlegend": true,
         "textposition": "auto",
         "type": "bar",
         "x": [
          "blocks"
         ],
         "xaxis": "x",
         "y": [
          4096
         ],
         "yaxis": "y"
        },
        {
         "alignmentgroup": "True",
         "hovertemplate": "layer=blocks.5.filter.w2.(2, 4, 512, 512)<br>block=%{x}<br>Log10_ParaM=%{y}<extra></extra>",
         "legendgroup": "blocks.5.filter.w2.(2, 4, 512, 512)",
         "marker": {
          "color": "#FF97FF",
          "pattern": {
           "shape": ""
          }
         },
         "name": "blocks.5.filter.w2.(2, 4, 512, 512)",
         "offsetgroup": "blocks.5.filter.w2.(2, 4, 512, 512)",
         "orientation": "v",
         "showlegend": true,
         "textposition": "auto",
         "type": "bar",
         "x": [
          "blocks"
         ],
         "xaxis": "x",
         "y": [
          2097152
         ],
         "yaxis": "y"
        },
        {
         "alignmentgroup": "True",
         "hovertemplate": "layer=blocks.5.filter.b2.(2, 4, 512)<br>block=%{x}<br>Log10_ParaM=%{y}<extra></extra>",
         "legendgroup": "blocks.5.filter.b2.(2, 4, 512)",
         "marker": {
          "color": "#FECB52",
          "pattern": {
           "shape": ""
          }
         },
         "name": "blocks.5.filter.b2.(2, 4, 512)",
         "offsetgroup": "blocks.5.filter.b2.(2, 4, 512)",
         "orientation": "v",
         "showlegend": true,
         "textposition": "auto",
         "type": "bar",
         "x": [
          "blocks"
         ],
         "xaxis": "x",
         "y": [
          4096
         ],
         "yaxis": "y"
        },
        {
         "alignmentgroup": "True",
         "hovertemplate": "layer=blocks.5.norm2.weight.(2048,)<br>block=%{x}<br>Log10_ParaM=%{y}<extra></extra>",
         "legendgroup": "blocks.5.norm2.weight.(2048,)",
         "marker": {
          "color": "#636efa",
          "pattern": {
           "shape": ""
          }
         },
         "name": "blocks.5.norm2.weight.(2048,)",
         "offsetgroup": "blocks.5.norm2.weight.(2048,)",
         "orientation": "v",
         "showlegend": true,
         "textposition": "auto",
         "type": "bar",
         "x": [
          "blocks"
         ],
         "xaxis": "x",
         "y": [
          2048
         ],
         "yaxis": "y"
        },
        {
         "alignmentgroup": "True",
         "hovertemplate": "layer=blocks.5.norm2.bias.(2048,)<br>block=%{x}<br>Log10_ParaM=%{y}<extra></extra>",
         "legendgroup": "blocks.5.norm2.bias.(2048,)",
         "marker": {
          "color": "#EF553B",
          "pattern": {
           "shape": ""
          }
         },
         "name": "blocks.5.norm2.bias.(2048,)",
         "offsetgroup": "blocks.5.norm2.bias.(2048,)",
         "orientation": "v",
         "showlegend": true,
         "textposition": "auto",
         "type": "bar",
         "x": [
          "blocks"
         ],
         "xaxis": "x",
         "y": [
          2048
         ],
         "yaxis": "y"
        },
        {
         "alignmentgroup": "True",
         "hovertemplate": "layer=blocks.5.mlp.fc1.weight.(8192, 2048)<br>block=%{x}<br>Log10_ParaM=%{y}<extra></extra>",
         "legendgroup": "blocks.5.mlp.fc1.weight.(8192, 2048)",
         "marker": {
          "color": "#00cc96",
          "pattern": {
           "shape": ""
          }
         },
         "name": "blocks.5.mlp.fc1.weight.(8192, 2048)",
         "offsetgroup": "blocks.5.mlp.fc1.weight.(8192, 2048)",
         "orientation": "v",
         "showlegend": true,
         "textposition": "auto",
         "type": "bar",
         "x": [
          "blocks"
         ],
         "xaxis": "x",
         "y": [
          16777216
         ],
         "yaxis": "y"
        },
        {
         "alignmentgroup": "True",
         "hovertemplate": "layer=blocks.5.mlp.fc1.bias.(8192,)<br>block=%{x}<br>Log10_ParaM=%{y}<extra></extra>",
         "legendgroup": "blocks.5.mlp.fc1.bias.(8192,)",
         "marker": {
          "color": "#ab63fa",
          "pattern": {
           "shape": ""
          }
         },
         "name": "blocks.5.mlp.fc1.bias.(8192,)",
         "offsetgroup": "blocks.5.mlp.fc1.bias.(8192,)",
         "orientation": "v",
         "showlegend": true,
         "textposition": "auto",
         "type": "bar",
         "x": [
          "blocks"
         ],
         "xaxis": "x",
         "y": [
          8192
         ],
         "yaxis": "y"
        },
        {
         "alignmentgroup": "True",
         "hovertemplate": "layer=blocks.6.norm1.weight.(2048,)<br>block=%{x}<br>Log10_ParaM=%{y}<extra></extra>",
         "legendgroup": "blocks.6.norm1.weight.(2048,)",
         "marker": {
          "color": "#FFA15A",
          "pattern": {
           "shape": ""
          }
         },
         "name": "blocks.6.norm1.weight.(2048,)",
         "offsetgroup": "blocks.6.norm1.weight.(2048,)",
         "orientation": "v",
         "showlegend": true,
         "textposition": "auto",
         "type": "bar",
         "x": [
          "blocks"
         ],
         "xaxis": "x",
         "y": [
          2048
         ],
         "yaxis": "y"
        },
        {
         "alignmentgroup": "True",
         "hovertemplate": "layer=blocks.6.norm1.bias.(2048,)<br>block=%{x}<br>Log10_ParaM=%{y}<extra></extra>",
         "legendgroup": "blocks.6.norm1.bias.(2048,)",
         "marker": {
          "color": "#19d3f3",
          "pattern": {
           "shape": ""
          }
         },
         "name": "blocks.6.norm1.bias.(2048,)",
         "offsetgroup": "blocks.6.norm1.bias.(2048,)",
         "orientation": "v",
         "showlegend": true,
         "textposition": "auto",
         "type": "bar",
         "x": [
          "blocks"
         ],
         "xaxis": "x",
         "y": [
          2048
         ],
         "yaxis": "y"
        },
        {
         "alignmentgroup": "True",
         "hovertemplate": "layer=blocks.6.filter.w1.(2, 4, 512, 512)<br>block=%{x}<br>Log10_ParaM=%{y}<extra></extra>",
         "legendgroup": "blocks.6.filter.w1.(2, 4, 512, 512)",
         "marker": {
          "color": "#FF6692",
          "pattern": {
           "shape": ""
          }
         },
         "name": "blocks.6.filter.w1.(2, 4, 512, 512)",
         "offsetgroup": "blocks.6.filter.w1.(2, 4, 512, 512)",
         "orientation": "v",
         "showlegend": true,
         "textposition": "auto",
         "type": "bar",
         "x": [
          "blocks"
         ],
         "xaxis": "x",
         "y": [
          2097152
         ],
         "yaxis": "y"
        },
        {
         "alignmentgroup": "True",
         "hovertemplate": "layer=blocks.6.filter.b1.(2, 4, 512)<br>block=%{x}<br>Log10_ParaM=%{y}<extra></extra>",
         "legendgroup": "blocks.6.filter.b1.(2, 4, 512)",
         "marker": {
          "color": "#B6E880",
          "pattern": {
           "shape": ""
          }
         },
         "name": "blocks.6.filter.b1.(2, 4, 512)",
         "offsetgroup": "blocks.6.filter.b1.(2, 4, 512)",
         "orientation": "v",
         "showlegend": true,
         "textposition": "auto",
         "type": "bar",
         "x": [
          "blocks"
         ],
         "xaxis": "x",
         "y": [
          4096
         ],
         "yaxis": "y"
        },
        {
         "alignmentgroup": "True",
         "hovertemplate": "layer=blocks.6.filter.w2.(2, 4, 512, 512)<br>block=%{x}<br>Log10_ParaM=%{y}<extra></extra>",
         "legendgroup": "blocks.6.filter.w2.(2, 4, 512, 512)",
         "marker": {
          "color": "#FF97FF",
          "pattern": {
           "shape": ""
          }
         },
         "name": "blocks.6.filter.w2.(2, 4, 512, 512)",
         "offsetgroup": "blocks.6.filter.w2.(2, 4, 512, 512)",
         "orientation": "v",
         "showlegend": true,
         "textposition": "auto",
         "type": "bar",
         "x": [
          "blocks"
         ],
         "xaxis": "x",
         "y": [
          2097152
         ],
         "yaxis": "y"
        },
        {
         "alignmentgroup": "True",
         "hovertemplate": "layer=blocks.6.filter.b2.(2, 4, 512)<br>block=%{x}<br>Log10_ParaM=%{y}<extra></extra>",
         "legendgroup": "blocks.6.filter.b2.(2, 4, 512)",
         "marker": {
          "color": "#FECB52",
          "pattern": {
           "shape": ""
          }
         },
         "name": "blocks.6.filter.b2.(2, 4, 512)",
         "offsetgroup": "blocks.6.filter.b2.(2, 4, 512)",
         "orientation": "v",
         "showlegend": true,
         "textposition": "auto",
         "type": "bar",
         "x": [
          "blocks"
         ],
         "xaxis": "x",
         "y": [
          4096
         ],
         "yaxis": "y"
        },
        {
         "alignmentgroup": "True",
         "hovertemplate": "layer=blocks.6.norm2.weight.(2048,)<br>block=%{x}<br>Log10_ParaM=%{y}<extra></extra>",
         "legendgroup": "blocks.6.norm2.weight.(2048,)",
         "marker": {
          "color": "#636efa",
          "pattern": {
           "shape": ""
          }
         },
         "name": "blocks.6.norm2.weight.(2048,)",
         "offsetgroup": "blocks.6.norm2.weight.(2048,)",
         "orientation": "v",
         "showlegend": true,
         "textposition": "auto",
         "type": "bar",
         "x": [
          "blocks"
         ],
         "xaxis": "x",
         "y": [
          2048
         ],
         "yaxis": "y"
        },
        {
         "alignmentgroup": "True",
         "hovertemplate": "layer=blocks.6.norm2.bias.(2048,)<br>block=%{x}<br>Log10_ParaM=%{y}<extra></extra>",
         "legendgroup": "blocks.6.norm2.bias.(2048,)",
         "marker": {
          "color": "#EF553B",
          "pattern": {
           "shape": ""
          }
         },
         "name": "blocks.6.norm2.bias.(2048,)",
         "offsetgroup": "blocks.6.norm2.bias.(2048,)",
         "orientation": "v",
         "showlegend": true,
         "textposition": "auto",
         "type": "bar",
         "x": [
          "blocks"
         ],
         "xaxis": "x",
         "y": [
          2048
         ],
         "yaxis": "y"
        },
        {
         "alignmentgroup": "True",
         "hovertemplate": "layer=blocks.6.mlp.fc1.weight.(8192, 2048)<br>block=%{x}<br>Log10_ParaM=%{y}<extra></extra>",
         "legendgroup": "blocks.6.mlp.fc1.weight.(8192, 2048)",
         "marker": {
          "color": "#00cc96",
          "pattern": {
           "shape": ""
          }
         },
         "name": "blocks.6.mlp.fc1.weight.(8192, 2048)",
         "offsetgroup": "blocks.6.mlp.fc1.weight.(8192, 2048)",
         "orientation": "v",
         "showlegend": true,
         "textposition": "auto",
         "type": "bar",
         "x": [
          "blocks"
         ],
         "xaxis": "x",
         "y": [
          16777216
         ],
         "yaxis": "y"
        },
        {
         "alignmentgroup": "True",
         "hovertemplate": "layer=blocks.6.mlp.fc1.bias.(8192,)<br>block=%{x}<br>Log10_ParaM=%{y}<extra></extra>",
         "legendgroup": "blocks.6.mlp.fc1.bias.(8192,)",
         "marker": {
          "color": "#ab63fa",
          "pattern": {
           "shape": ""
          }
         },
         "name": "blocks.6.mlp.fc1.bias.(8192,)",
         "offsetgroup": "blocks.6.mlp.fc1.bias.(8192,)",
         "orientation": "v",
         "showlegend": true,
         "textposition": "auto",
         "type": "bar",
         "x": [
          "blocks"
         ],
         "xaxis": "x",
         "y": [
          8192
         ],
         "yaxis": "y"
        },
        {
         "alignmentgroup": "True",
         "hovertemplate": "layer=blocks.7.norm1.weight.(2048,)<br>block=%{x}<br>Log10_ParaM=%{y}<extra></extra>",
         "legendgroup": "blocks.7.norm1.weight.(2048,)",
         "marker": {
          "color": "#FFA15A",
          "pattern": {
           "shape": ""
          }
         },
         "name": "blocks.7.norm1.weight.(2048,)",
         "offsetgroup": "blocks.7.norm1.weight.(2048,)",
         "orientation": "v",
         "showlegend": true,
         "textposition": "auto",
         "type": "bar",
         "x": [
          "blocks"
         ],
         "xaxis": "x",
         "y": [
          2048
         ],
         "yaxis": "y"
        },
        {
         "alignmentgroup": "True",
         "hovertemplate": "layer=blocks.7.norm1.bias.(2048,)<br>block=%{x}<br>Log10_ParaM=%{y}<extra></extra>",
         "legendgroup": "blocks.7.norm1.bias.(2048,)",
         "marker": {
          "color": "#19d3f3",
          "pattern": {
           "shape": ""
          }
         },
         "name": "blocks.7.norm1.bias.(2048,)",
         "offsetgroup": "blocks.7.norm1.bias.(2048,)",
         "orientation": "v",
         "showlegend": true,
         "textposition": "auto",
         "type": "bar",
         "x": [
          "blocks"
         ],
         "xaxis": "x",
         "y": [
          2048
         ],
         "yaxis": "y"
        },
        {
         "alignmentgroup": "True",
         "hovertemplate": "layer=blocks.7.filter.w1.(2, 4, 512, 512)<br>block=%{x}<br>Log10_ParaM=%{y}<extra></extra>",
         "legendgroup": "blocks.7.filter.w1.(2, 4, 512, 512)",
         "marker": {
          "color": "#FF6692",
          "pattern": {
           "shape": ""
          }
         },
         "name": "blocks.7.filter.w1.(2, 4, 512, 512)",
         "offsetgroup": "blocks.7.filter.w1.(2, 4, 512, 512)",
         "orientation": "v",
         "showlegend": true,
         "textposition": "auto",
         "type": "bar",
         "x": [
          "blocks"
         ],
         "xaxis": "x",
         "y": [
          2097152
         ],
         "yaxis": "y"
        },
        {
         "alignmentgroup": "True",
         "hovertemplate": "layer=blocks.7.filter.b1.(2, 4, 512)<br>block=%{x}<br>Log10_ParaM=%{y}<extra></extra>",
         "legendgroup": "blocks.7.filter.b1.(2, 4, 512)",
         "marker": {
          "color": "#B6E880",
          "pattern": {
           "shape": ""
          }
         },
         "name": "blocks.7.filter.b1.(2, 4, 512)",
         "offsetgroup": "blocks.7.filter.b1.(2, 4, 512)",
         "orientation": "v",
         "showlegend": true,
         "textposition": "auto",
         "type": "bar",
         "x": [
          "blocks"
         ],
         "xaxis": "x",
         "y": [
          4096
         ],
         "yaxis": "y"
        },
        {
         "alignmentgroup": "True",
         "hovertemplate": "layer=blocks.7.filter.w2.(2, 4, 512, 512)<br>block=%{x}<br>Log10_ParaM=%{y}<extra></extra>",
         "legendgroup": "blocks.7.filter.w2.(2, 4, 512, 512)",
         "marker": {
          "color": "#FF97FF",
          "pattern": {
           "shape": ""
          }
         },
         "name": "blocks.7.filter.w2.(2, 4, 512, 512)",
         "offsetgroup": "blocks.7.filter.w2.(2, 4, 512, 512)",
         "orientation": "v",
         "showlegend": true,
         "textposition": "auto",
         "type": "bar",
         "x": [
          "blocks"
         ],
         "xaxis": "x",
         "y": [
          2097152
         ],
         "yaxis": "y"
        },
        {
         "alignmentgroup": "True",
         "hovertemplate": "layer=blocks.7.filter.b2.(2, 4, 512)<br>block=%{x}<br>Log10_ParaM=%{y}<extra></extra>",
         "legendgroup": "blocks.7.filter.b2.(2, 4, 512)",
         "marker": {
          "color": "#FECB52",
          "pattern": {
           "shape": ""
          }
         },
         "name": "blocks.7.filter.b2.(2, 4, 512)",
         "offsetgroup": "blocks.7.filter.b2.(2, 4, 512)",
         "orientation": "v",
         "showlegend": true,
         "textposition": "auto",
         "type": "bar",
         "x": [
          "blocks"
         ],
         "xaxis": "x",
         "y": [
          4096
         ],
         "yaxis": "y"
        },
        {
         "alignmentgroup": "True",
         "hovertemplate": "layer=blocks.7.norm2.weight.(2048,)<br>block=%{x}<br>Log10_ParaM=%{y}<extra></extra>",
         "legendgroup": "blocks.7.norm2.weight.(2048,)",
         "marker": {
          "color": "#636efa",
          "pattern": {
           "shape": ""
          }
         },
         "name": "blocks.7.norm2.weight.(2048,)",
         "offsetgroup": "blocks.7.norm2.weight.(2048,)",
         "orientation": "v",
         "showlegend": true,
         "textposition": "auto",
         "type": "bar",
         "x": [
          "blocks"
         ],
         "xaxis": "x",
         "y": [
          2048
         ],
         "yaxis": "y"
        },
        {
         "alignmentgroup": "True",
         "hovertemplate": "layer=blocks.7.norm2.bias.(2048,)<br>block=%{x}<br>Log10_ParaM=%{y}<extra></extra>",
         "legendgroup": "blocks.7.norm2.bias.(2048,)",
         "marker": {
          "color": "#EF553B",
          "pattern": {
           "shape": ""
          }
         },
         "name": "blocks.7.norm2.bias.(2048,)",
         "offsetgroup": "blocks.7.norm2.bias.(2048,)",
         "orientation": "v",
         "showlegend": true,
         "textposition": "auto",
         "type": "bar",
         "x": [
          "blocks"
         ],
         "xaxis": "x",
         "y": [
          2048
         ],
         "yaxis": "y"
        },
        {
         "alignmentgroup": "True",
         "hovertemplate": "layer=blocks.7.mlp.fc1.weight.(8192, 2048)<br>block=%{x}<br>Log10_ParaM=%{y}<extra></extra>",
         "legendgroup": "blocks.7.mlp.fc1.weight.(8192, 2048)",
         "marker": {
          "color": "#00cc96",
          "pattern": {
           "shape": ""
          }
         },
         "name": "blocks.7.mlp.fc1.weight.(8192, 2048)",
         "offsetgroup": "blocks.7.mlp.fc1.weight.(8192, 2048)",
         "orientation": "v",
         "showlegend": true,
         "textposition": "auto",
         "type": "bar",
         "x": [
          "blocks"
         ],
         "xaxis": "x",
         "y": [
          16777216
         ],
         "yaxis": "y"
        },
        {
         "alignmentgroup": "True",
         "hovertemplate": "layer=blocks.7.mlp.fc1.bias.(8192,)<br>block=%{x}<br>Log10_ParaM=%{y}<extra></extra>",
         "legendgroup": "blocks.7.mlp.fc1.bias.(8192,)",
         "marker": {
          "color": "#ab63fa",
          "pattern": {
           "shape": ""
          }
         },
         "name": "blocks.7.mlp.fc1.bias.(8192,)",
         "offsetgroup": "blocks.7.mlp.fc1.bias.(8192,)",
         "orientation": "v",
         "showlegend": true,
         "textposition": "auto",
         "type": "bar",
         "x": [
          "blocks"
         ],
         "xaxis": "x",
         "y": [
          8192
         ],
         "yaxis": "y"
        },
        {
         "alignmentgroup": "True",
         "hovertemplate": "layer=blocks.8.norm1.weight.(2048,)<br>block=%{x}<br>Log10_ParaM=%{y}<extra></extra>",
         "legendgroup": "blocks.8.norm1.weight.(2048,)",
         "marker": {
          "color": "#FFA15A",
          "pattern": {
           "shape": ""
          }
         },
         "name": "blocks.8.norm1.weight.(2048,)",
         "offsetgroup": "blocks.8.norm1.weight.(2048,)",
         "orientation": "v",
         "showlegend": true,
         "textposition": "auto",
         "type": "bar",
         "x": [
          "blocks"
         ],
         "xaxis": "x",
         "y": [
          2048
         ],
         "yaxis": "y"
        },
        {
         "alignmentgroup": "True",
         "hovertemplate": "layer=blocks.8.norm1.bias.(2048,)<br>block=%{x}<br>Log10_ParaM=%{y}<extra></extra>",
         "legendgroup": "blocks.8.norm1.bias.(2048,)",
         "marker": {
          "color": "#19d3f3",
          "pattern": {
           "shape": ""
          }
         },
         "name": "blocks.8.norm1.bias.(2048,)",
         "offsetgroup": "blocks.8.norm1.bias.(2048,)",
         "orientation": "v",
         "showlegend": true,
         "textposition": "auto",
         "type": "bar",
         "x": [
          "blocks"
         ],
         "xaxis": "x",
         "y": [
          2048
         ],
         "yaxis": "y"
        },
        {
         "alignmentgroup": "True",
         "hovertemplate": "layer=blocks.8.filter.w1.(2, 4, 512, 512)<br>block=%{x}<br>Log10_ParaM=%{y}<extra></extra>",
         "legendgroup": "blocks.8.filter.w1.(2, 4, 512, 512)",
         "marker": {
          "color": "#FF6692",
          "pattern": {
           "shape": ""
          }
         },
         "name": "blocks.8.filter.w1.(2, 4, 512, 512)",
         "offsetgroup": "blocks.8.filter.w1.(2, 4, 512, 512)",
         "orientation": "v",
         "showlegend": true,
         "textposition": "auto",
         "type": "bar",
         "x": [
          "blocks"
         ],
         "xaxis": "x",
         "y": [
          2097152
         ],
         "yaxis": "y"
        },
        {
         "alignmentgroup": "True",
         "hovertemplate": "layer=blocks.8.filter.b1.(2, 4, 512)<br>block=%{x}<br>Log10_ParaM=%{y}<extra></extra>",
         "legendgroup": "blocks.8.filter.b1.(2, 4, 512)",
         "marker": {
          "color": "#B6E880",
          "pattern": {
           "shape": ""
          }
         },
         "name": "blocks.8.filter.b1.(2, 4, 512)",
         "offsetgroup": "blocks.8.filter.b1.(2, 4, 512)",
         "orientation": "v",
         "showlegend": true,
         "textposition": "auto",
         "type": "bar",
         "x": [
          "blocks"
         ],
         "xaxis": "x",
         "y": [
          4096
         ],
         "yaxis": "y"
        },
        {
         "alignmentgroup": "True",
         "hovertemplate": "layer=blocks.8.filter.w2.(2, 4, 512, 512)<br>block=%{x}<br>Log10_ParaM=%{y}<extra></extra>",
         "legendgroup": "blocks.8.filter.w2.(2, 4, 512, 512)",
         "marker": {
          "color": "#FF97FF",
          "pattern": {
           "shape": ""
          }
         },
         "name": "blocks.8.filter.w2.(2, 4, 512, 512)",
         "offsetgroup": "blocks.8.filter.w2.(2, 4, 512, 512)",
         "orientation": "v",
         "showlegend": true,
         "textposition": "auto",
         "type": "bar",
         "x": [
          "blocks"
         ],
         "xaxis": "x",
         "y": [
          2097152
         ],
         "yaxis": "y"
        },
        {
         "alignmentgroup": "True",
         "hovertemplate": "layer=blocks.8.filter.b2.(2, 4, 512)<br>block=%{x}<br>Log10_ParaM=%{y}<extra></extra>",
         "legendgroup": "blocks.8.filter.b2.(2, 4, 512)",
         "marker": {
          "color": "#FECB52",
          "pattern": {
           "shape": ""
          }
         },
         "name": "blocks.8.filter.b2.(2, 4, 512)",
         "offsetgroup": "blocks.8.filter.b2.(2, 4, 512)",
         "orientation": "v",
         "showlegend": true,
         "textposition": "auto",
         "type": "bar",
         "x": [
          "blocks"
         ],
         "xaxis": "x",
         "y": [
          4096
         ],
         "yaxis": "y"
        },
        {
         "alignmentgroup": "True",
         "hovertemplate": "layer=blocks.8.norm2.weight.(2048,)<br>block=%{x}<br>Log10_ParaM=%{y}<extra></extra>",
         "legendgroup": "blocks.8.norm2.weight.(2048,)",
         "marker": {
          "color": "#636efa",
          "pattern": {
           "shape": ""
          }
         },
         "name": "blocks.8.norm2.weight.(2048,)",
         "offsetgroup": "blocks.8.norm2.weight.(2048,)",
         "orientation": "v",
         "showlegend": true,
         "textposition": "auto",
         "type": "bar",
         "x": [
          "blocks"
         ],
         "xaxis": "x",
         "y": [
          2048
         ],
         "yaxis": "y"
        },
        {
         "alignmentgroup": "True",
         "hovertemplate": "layer=blocks.8.norm2.bias.(2048,)<br>block=%{x}<br>Log10_ParaM=%{y}<extra></extra>",
         "legendgroup": "blocks.8.norm2.bias.(2048,)",
         "marker": {
          "color": "#EF553B",
          "pattern": {
           "shape": ""
          }
         },
         "name": "blocks.8.norm2.bias.(2048,)",
         "offsetgroup": "blocks.8.norm2.bias.(2048,)",
         "orientation": "v",
         "showlegend": true,
         "textposition": "auto",
         "type": "bar",
         "x": [
          "blocks"
         ],
         "xaxis": "x",
         "y": [
          2048
         ],
         "yaxis": "y"
        },
        {
         "alignmentgroup": "True",
         "hovertemplate": "layer=blocks.8.mlp.fc1.weight.(8192, 2048)<br>block=%{x}<br>Log10_ParaM=%{y}<extra></extra>",
         "legendgroup": "blocks.8.mlp.fc1.weight.(8192, 2048)",
         "marker": {
          "color": "#00cc96",
          "pattern": {
           "shape": ""
          }
         },
         "name": "blocks.8.mlp.fc1.weight.(8192, 2048)",
         "offsetgroup": "blocks.8.mlp.fc1.weight.(8192, 2048)",
         "orientation": "v",
         "showlegend": true,
         "textposition": "auto",
         "type": "bar",
         "x": [
          "blocks"
         ],
         "xaxis": "x",
         "y": [
          16777216
         ],
         "yaxis": "y"
        },
        {
         "alignmentgroup": "True",
         "hovertemplate": "layer=blocks.8.mlp.fc1.bias.(8192,)<br>block=%{x}<br>Log10_ParaM=%{y}<extra></extra>",
         "legendgroup": "blocks.8.mlp.fc1.bias.(8192,)",
         "marker": {
          "color": "#ab63fa",
          "pattern": {
           "shape": ""
          }
         },
         "name": "blocks.8.mlp.fc1.bias.(8192,)",
         "offsetgroup": "blocks.8.mlp.fc1.bias.(8192,)",
         "orientation": "v",
         "showlegend": true,
         "textposition": "auto",
         "type": "bar",
         "x": [
          "blocks"
         ],
         "xaxis": "x",
         "y": [
          8192
         ],
         "yaxis": "y"
        },
        {
         "alignmentgroup": "True",
         "hovertemplate": "layer=blocks.9.norm1.weight.(2048,)<br>block=%{x}<br>Log10_ParaM=%{y}<extra></extra>",
         "legendgroup": "blocks.9.norm1.weight.(2048,)",
         "marker": {
          "color": "#FFA15A",
          "pattern": {
           "shape": ""
          }
         },
         "name": "blocks.9.norm1.weight.(2048,)",
         "offsetgroup": "blocks.9.norm1.weight.(2048,)",
         "orientation": "v",
         "showlegend": true,
         "textposition": "auto",
         "type": "bar",
         "x": [
          "blocks"
         ],
         "xaxis": "x",
         "y": [
          2048
         ],
         "yaxis": "y"
        },
        {
         "alignmentgroup": "True",
         "hovertemplate": "layer=blocks.9.norm1.bias.(2048,)<br>block=%{x}<br>Log10_ParaM=%{y}<extra></extra>",
         "legendgroup": "blocks.9.norm1.bias.(2048,)",
         "marker": {
          "color": "#19d3f3",
          "pattern": {
           "shape": ""
          }
         },
         "name": "blocks.9.norm1.bias.(2048,)",
         "offsetgroup": "blocks.9.norm1.bias.(2048,)",
         "orientation": "v",
         "showlegend": true,
         "textposition": "auto",
         "type": "bar",
         "x": [
          "blocks"
         ],
         "xaxis": "x",
         "y": [
          2048
         ],
         "yaxis": "y"
        },
        {
         "alignmentgroup": "True",
         "hovertemplate": "layer=blocks.9.filter.w1.(2, 4, 512, 512)<br>block=%{x}<br>Log10_ParaM=%{y}<extra></extra>",
         "legendgroup": "blocks.9.filter.w1.(2, 4, 512, 512)",
         "marker": {
          "color": "#FF6692",
          "pattern": {
           "shape": ""
          }
         },
         "name": "blocks.9.filter.w1.(2, 4, 512, 512)",
         "offsetgroup": "blocks.9.filter.w1.(2, 4, 512, 512)",
         "orientation": "v",
         "showlegend": true,
         "textposition": "auto",
         "type": "bar",
         "x": [
          "blocks"
         ],
         "xaxis": "x",
         "y": [
          2097152
         ],
         "yaxis": "y"
        },
        {
         "alignmentgroup": "True",
         "hovertemplate": "layer=blocks.9.filter.b1.(2, 4, 512)<br>block=%{x}<br>Log10_ParaM=%{y}<extra></extra>",
         "legendgroup": "blocks.9.filter.b1.(2, 4, 512)",
         "marker": {
          "color": "#B6E880",
          "pattern": {
           "shape": ""
          }
         },
         "name": "blocks.9.filter.b1.(2, 4, 512)",
         "offsetgroup": "blocks.9.filter.b1.(2, 4, 512)",
         "orientation": "v",
         "showlegend": true,
         "textposition": "auto",
         "type": "bar",
         "x": [
          "blocks"
         ],
         "xaxis": "x",
         "y": [
          4096
         ],
         "yaxis": "y"
        },
        {
         "alignmentgroup": "True",
         "hovertemplate": "layer=blocks.9.filter.w2.(2, 4, 512, 512)<br>block=%{x}<br>Log10_ParaM=%{y}<extra></extra>",
         "legendgroup": "blocks.9.filter.w2.(2, 4, 512, 512)",
         "marker": {
          "color": "#FF97FF",
          "pattern": {
           "shape": ""
          }
         },
         "name": "blocks.9.filter.w2.(2, 4, 512, 512)",
         "offsetgroup": "blocks.9.filter.w2.(2, 4, 512, 512)",
         "orientation": "v",
         "showlegend": true,
         "textposition": "auto",
         "type": "bar",
         "x": [
          "blocks"
         ],
         "xaxis": "x",
         "y": [
          2097152
         ],
         "yaxis": "y"
        },
        {
         "alignmentgroup": "True",
         "hovertemplate": "layer=blocks.9.filter.b2.(2, 4, 512)<br>block=%{x}<br>Log10_ParaM=%{y}<extra></extra>",
         "legendgroup": "blocks.9.filter.b2.(2, 4, 512)",
         "marker": {
          "color": "#FECB52",
          "pattern": {
           "shape": ""
          }
         },
         "name": "blocks.9.filter.b2.(2, 4, 512)",
         "offsetgroup": "blocks.9.filter.b2.(2, 4, 512)",
         "orientation": "v",
         "showlegend": true,
         "textposition": "auto",
         "type": "bar",
         "x": [
          "blocks"
         ],
         "xaxis": "x",
         "y": [
          4096
         ],
         "yaxis": "y"
        },
        {
         "alignmentgroup": "True",
         "hovertemplate": "layer=blocks.9.norm2.weight.(2048,)<br>block=%{x}<br>Log10_ParaM=%{y}<extra></extra>",
         "legendgroup": "blocks.9.norm2.weight.(2048,)",
         "marker": {
          "color": "#636efa",
          "pattern": {
           "shape": ""
          }
         },
         "name": "blocks.9.norm2.weight.(2048,)",
         "offsetgroup": "blocks.9.norm2.weight.(2048,)",
         "orientation": "v",
         "showlegend": true,
         "textposition": "auto",
         "type": "bar",
         "x": [
          "blocks"
         ],
         "xaxis": "x",
         "y": [
          2048
         ],
         "yaxis": "y"
        },
        {
         "alignmentgroup": "True",
         "hovertemplate": "layer=blocks.9.norm2.bias.(2048,)<br>block=%{x}<br>Log10_ParaM=%{y}<extra></extra>",
         "legendgroup": "blocks.9.norm2.bias.(2048,)",
         "marker": {
          "color": "#EF553B",
          "pattern": {
           "shape": ""
          }
         },
         "name": "blocks.9.norm2.bias.(2048,)",
         "offsetgroup": "blocks.9.norm2.bias.(2048,)",
         "orientation": "v",
         "showlegend": true,
         "textposition": "auto",
         "type": "bar",
         "x": [
          "blocks"
         ],
         "xaxis": "x",
         "y": [
          2048
         ],
         "yaxis": "y"
        },
        {
         "alignmentgroup": "True",
         "hovertemplate": "layer=blocks.9.mlp.fc1.weight.(8192, 2048)<br>block=%{x}<br>Log10_ParaM=%{y}<extra></extra>",
         "legendgroup": "blocks.9.mlp.fc1.weight.(8192, 2048)",
         "marker": {
          "color": "#00cc96",
          "pattern": {
           "shape": ""
          }
         },
         "name": "blocks.9.mlp.fc1.weight.(8192, 2048)",
         "offsetgroup": "blocks.9.mlp.fc1.weight.(8192, 2048)",
         "orientation": "v",
         "showlegend": true,
         "textposition": "auto",
         "type": "bar",
         "x": [
          "blocks"
         ],
         "xaxis": "x",
         "y": [
          16777216
         ],
         "yaxis": "y"
        },
        {
         "alignmentgroup": "True",
         "hovertemplate": "layer=blocks.9.mlp.fc1.bias.(8192,)<br>block=%{x}<br>Log10_ParaM=%{y}<extra></extra>",
         "legendgroup": "blocks.9.mlp.fc1.bias.(8192,)",
         "marker": {
          "color": "#ab63fa",
          "pattern": {
           "shape": ""
          }
         },
         "name": "blocks.9.mlp.fc1.bias.(8192,)",
         "offsetgroup": "blocks.9.mlp.fc1.bias.(8192,)",
         "orientation": "v",
         "showlegend": true,
         "textposition": "auto",
         "type": "bar",
         "x": [
          "blocks"
         ],
         "xaxis": "x",
         "y": [
          8192
         ],
         "yaxis": "y"
        },
        {
         "alignmentgroup": "True",
         "hovertemplate": "layer=blocks.10.norm1.weight.(2048,)<br>block=%{x}<br>Log10_ParaM=%{y}<extra></extra>",
         "legendgroup": "blocks.10.norm1.weight.(2048,)",
         "marker": {
          "color": "#FFA15A",
          "pattern": {
           "shape": ""
          }
         },
         "name": "blocks.10.norm1.weight.(2048,)",
         "offsetgroup": "blocks.10.norm1.weight.(2048,)",
         "orientation": "v",
         "showlegend": true,
         "textposition": "auto",
         "type": "bar",
         "x": [
          "blocks"
         ],
         "xaxis": "x",
         "y": [
          2048
         ],
         "yaxis": "y"
        },
        {
         "alignmentgroup": "True",
         "hovertemplate": "layer=blocks.10.norm1.bias.(2048,)<br>block=%{x}<br>Log10_ParaM=%{y}<extra></extra>",
         "legendgroup": "blocks.10.norm1.bias.(2048,)",
         "marker": {
          "color": "#19d3f3",
          "pattern": {
           "shape": ""
          }
         },
         "name": "blocks.10.norm1.bias.(2048,)",
         "offsetgroup": "blocks.10.norm1.bias.(2048,)",
         "orientation": "v",
         "showlegend": true,
         "textposition": "auto",
         "type": "bar",
         "x": [
          "blocks"
         ],
         "xaxis": "x",
         "y": [
          2048
         ],
         "yaxis": "y"
        },
        {
         "alignmentgroup": "True",
         "hovertemplate": "layer=blocks.10.filter.w1.(2, 4, 512, 512)<br>block=%{x}<br>Log10_ParaM=%{y}<extra></extra>",
         "legendgroup": "blocks.10.filter.w1.(2, 4, 512, 512)",
         "marker": {
          "color": "#FF6692",
          "pattern": {
           "shape": ""
          }
         },
         "name": "blocks.10.filter.w1.(2, 4, 512, 512)",
         "offsetgroup": "blocks.10.filter.w1.(2, 4, 512, 512)",
         "orientation": "v",
         "showlegend": true,
         "textposition": "auto",
         "type": "bar",
         "x": [
          "blocks"
         ],
         "xaxis": "x",
         "y": [
          2097152
         ],
         "yaxis": "y"
        },
        {
         "alignmentgroup": "True",
         "hovertemplate": "layer=blocks.10.filter.b1.(2, 4, 512)<br>block=%{x}<br>Log10_ParaM=%{y}<extra></extra>",
         "legendgroup": "blocks.10.filter.b1.(2, 4, 512)",
         "marker": {
          "color": "#B6E880",
          "pattern": {
           "shape": ""
          }
         },
         "name": "blocks.10.filter.b1.(2, 4, 512)",
         "offsetgroup": "blocks.10.filter.b1.(2, 4, 512)",
         "orientation": "v",
         "showlegend": true,
         "textposition": "auto",
         "type": "bar",
         "x": [
          "blocks"
         ],
         "xaxis": "x",
         "y": [
          4096
         ],
         "yaxis": "y"
        },
        {
         "alignmentgroup": "True",
         "hovertemplate": "layer=blocks.10.filter.w2.(2, 4, 512, 512)<br>block=%{x}<br>Log10_ParaM=%{y}<extra></extra>",
         "legendgroup": "blocks.10.filter.w2.(2, 4, 512, 512)",
         "marker": {
          "color": "#FF97FF",
          "pattern": {
           "shape": ""
          }
         },
         "name": "blocks.10.filter.w2.(2, 4, 512, 512)",
         "offsetgroup": "blocks.10.filter.w2.(2, 4, 512, 512)",
         "orientation": "v",
         "showlegend": true,
         "textposition": "auto",
         "type": "bar",
         "x": [
          "blocks"
         ],
         "xaxis": "x",
         "y": [
          2097152
         ],
         "yaxis": "y"
        },
        {
         "alignmentgroup": "True",
         "hovertemplate": "layer=blocks.10.filter.b2.(2, 4, 512)<br>block=%{x}<br>Log10_ParaM=%{y}<extra></extra>",
         "legendgroup": "blocks.10.filter.b2.(2, 4, 512)",
         "marker": {
          "color": "#FECB52",
          "pattern": {
           "shape": ""
          }
         },
         "name": "blocks.10.filter.b2.(2, 4, 512)",
         "offsetgroup": "blocks.10.filter.b2.(2, 4, 512)",
         "orientation": "v",
         "showlegend": true,
         "textposition": "auto",
         "type": "bar",
         "x": [
          "blocks"
         ],
         "xaxis": "x",
         "y": [
          4096
         ],
         "yaxis": "y"
        },
        {
         "alignmentgroup": "True",
         "hovertemplate": "layer=blocks.10.norm2.weight.(2048,)<br>block=%{x}<br>Log10_ParaM=%{y}<extra></extra>",
         "legendgroup": "blocks.10.norm2.weight.(2048,)",
         "marker": {
          "color": "#636efa",
          "pattern": {
           "shape": ""
          }
         },
         "name": "blocks.10.norm2.weight.(2048,)",
         "offsetgroup": "blocks.10.norm2.weight.(2048,)",
         "orientation": "v",
         "showlegend": true,
         "textposition": "auto",
         "type": "bar",
         "x": [
          "blocks"
         ],
         "xaxis": "x",
         "y": [
          2048
         ],
         "yaxis": "y"
        },
        {
         "alignmentgroup": "True",
         "hovertemplate": "layer=blocks.10.norm2.bias.(2048,)<br>block=%{x}<br>Log10_ParaM=%{y}<extra></extra>",
         "legendgroup": "blocks.10.norm2.bias.(2048,)",
         "marker": {
          "color": "#EF553B",
          "pattern": {
           "shape": ""
          }
         },
         "name": "blocks.10.norm2.bias.(2048,)",
         "offsetgroup": "blocks.10.norm2.bias.(2048,)",
         "orientation": "v",
         "showlegend": true,
         "textposition": "auto",
         "type": "bar",
         "x": [
          "blocks"
         ],
         "xaxis": "x",
         "y": [
          2048
         ],
         "yaxis": "y"
        },
        {
         "alignmentgroup": "True",
         "hovertemplate": "layer=blocks.10.mlp.fc1.weight.(8192, 2048)<br>block=%{x}<br>Log10_ParaM=%{y}<extra></extra>",
         "legendgroup": "blocks.10.mlp.fc1.weight.(8192, 2048)",
         "marker": {
          "color": "#00cc96",
          "pattern": {
           "shape": ""
          }
         },
         "name": "blocks.10.mlp.fc1.weight.(8192, 2048)",
         "offsetgroup": "blocks.10.mlp.fc1.weight.(8192, 2048)",
         "orientation": "v",
         "showlegend": true,
         "textposition": "auto",
         "type": "bar",
         "x": [
          "blocks"
         ],
         "xaxis": "x",
         "y": [
          16777216
         ],
         "yaxis": "y"
        },
        {
         "alignmentgroup": "True",
         "hovertemplate": "layer=blocks.10.mlp.fc1.bias.(8192,)<br>block=%{x}<br>Log10_ParaM=%{y}<extra></extra>",
         "legendgroup": "blocks.10.mlp.fc1.bias.(8192,)",
         "marker": {
          "color": "#ab63fa",
          "pattern": {
           "shape": ""
          }
         },
         "name": "blocks.10.mlp.fc1.bias.(8192,)",
         "offsetgroup": "blocks.10.mlp.fc1.bias.(8192,)",
         "orientation": "v",
         "showlegend": true,
         "textposition": "auto",
         "type": "bar",
         "x": [
          "blocks"
         ],
         "xaxis": "x",
         "y": [
          8192
         ],
         "yaxis": "y"
        },
        {
         "alignmentgroup": "True",
         "hovertemplate": "layer=blocks.11.norm1.weight.(2048,)<br>block=%{x}<br>Log10_ParaM=%{y}<extra></extra>",
         "legendgroup": "blocks.11.norm1.weight.(2048,)",
         "marker": {
          "color": "#FFA15A",
          "pattern": {
           "shape": ""
          }
         },
         "name": "blocks.11.norm1.weight.(2048,)",
         "offsetgroup": "blocks.11.norm1.weight.(2048,)",
         "orientation": "v",
         "showlegend": true,
         "textposition": "auto",
         "type": "bar",
         "x": [
          "blocks"
         ],
         "xaxis": "x",
         "y": [
          2048
         ],
         "yaxis": "y"
        },
        {
         "alignmentgroup": "True",
         "hovertemplate": "layer=blocks.11.norm1.bias.(2048,)<br>block=%{x}<br>Log10_ParaM=%{y}<extra></extra>",
         "legendgroup": "blocks.11.norm1.bias.(2048,)",
         "marker": {
          "color": "#19d3f3",
          "pattern": {
           "shape": ""
          }
         },
         "name": "blocks.11.norm1.bias.(2048,)",
         "offsetgroup": "blocks.11.norm1.bias.(2048,)",
         "orientation": "v",
         "showlegend": true,
         "textposition": "auto",
         "type": "bar",
         "x": [
          "blocks"
         ],
         "xaxis": "x",
         "y": [
          2048
         ],
         "yaxis": "y"
        },
        {
         "alignmentgroup": "True",
         "hovertemplate": "layer=blocks.11.filter.w1.(2, 4, 512, 512)<br>block=%{x}<br>Log10_ParaM=%{y}<extra></extra>",
         "legendgroup": "blocks.11.filter.w1.(2, 4, 512, 512)",
         "marker": {
          "color": "#FF6692",
          "pattern": {
           "shape": ""
          }
         },
         "name": "blocks.11.filter.w1.(2, 4, 512, 512)",
         "offsetgroup": "blocks.11.filter.w1.(2, 4, 512, 512)",
         "orientation": "v",
         "showlegend": true,
         "textposition": "auto",
         "type": "bar",
         "x": [
          "blocks"
         ],
         "xaxis": "x",
         "y": [
          2097152
         ],
         "yaxis": "y"
        },
        {
         "alignmentgroup": "True",
         "hovertemplate": "layer=blocks.11.filter.b1.(2, 4, 512)<br>block=%{x}<br>Log10_ParaM=%{y}<extra></extra>",
         "legendgroup": "blocks.11.filter.b1.(2, 4, 512)",
         "marker": {
          "color": "#B6E880",
          "pattern": {
           "shape": ""
          }
         },
         "name": "blocks.11.filter.b1.(2, 4, 512)",
         "offsetgroup": "blocks.11.filter.b1.(2, 4, 512)",
         "orientation": "v",
         "showlegend": true,
         "textposition": "auto",
         "type": "bar",
         "x": [
          "blocks"
         ],
         "xaxis": "x",
         "y": [
          4096
         ],
         "yaxis": "y"
        },
        {
         "alignmentgroup": "True",
         "hovertemplate": "layer=blocks.11.filter.w2.(2, 4, 512, 512)<br>block=%{x}<br>Log10_ParaM=%{y}<extra></extra>",
         "legendgroup": "blocks.11.filter.w2.(2, 4, 512, 512)",
         "marker": {
          "color": "#FF97FF",
          "pattern": {
           "shape": ""
          }
         },
         "name": "blocks.11.filter.w2.(2, 4, 512, 512)",
         "offsetgroup": "blocks.11.filter.w2.(2, 4, 512, 512)",
         "orientation": "v",
         "showlegend": true,
         "textposition": "auto",
         "type": "bar",
         "x": [
          "blocks"
         ],
         "xaxis": "x",
         "y": [
          2097152
         ],
         "yaxis": "y"
        },
        {
         "alignmentgroup": "True",
         "hovertemplate": "layer=blocks.11.filter.b2.(2, 4, 512)<br>block=%{x}<br>Log10_ParaM=%{y}<extra></extra>",
         "legendgroup": "blocks.11.filter.b2.(2, 4, 512)",
         "marker": {
          "color": "#FECB52",
          "pattern": {
           "shape": ""
          }
         },
         "name": "blocks.11.filter.b2.(2, 4, 512)",
         "offsetgroup": "blocks.11.filter.b2.(2, 4, 512)",
         "orientation": "v",
         "showlegend": true,
         "textposition": "auto",
         "type": "bar",
         "x": [
          "blocks"
         ],
         "xaxis": "x",
         "y": [
          4096
         ],
         "yaxis": "y"
        },
        {
         "alignmentgroup": "True",
         "hovertemplate": "layer=blocks.11.norm2.weight.(2048,)<br>block=%{x}<br>Log10_ParaM=%{y}<extra></extra>",
         "legendgroup": "blocks.11.norm2.weight.(2048,)",
         "marker": {
          "color": "#636efa",
          "pattern": {
           "shape": ""
          }
         },
         "name": "blocks.11.norm2.weight.(2048,)",
         "offsetgroup": "blocks.11.norm2.weight.(2048,)",
         "orientation": "v",
         "showlegend": true,
         "textposition": "auto",
         "type": "bar",
         "x": [
          "blocks"
         ],
         "xaxis": "x",
         "y": [
          2048
         ],
         "yaxis": "y"
        },
        {
         "alignmentgroup": "True",
         "hovertemplate": "layer=blocks.11.norm2.bias.(2048,)<br>block=%{x}<br>Log10_ParaM=%{y}<extra></extra>",
         "legendgroup": "blocks.11.norm2.bias.(2048,)",
         "marker": {
          "color": "#EF553B",
          "pattern": {
           "shape": ""
          }
         },
         "name": "blocks.11.norm2.bias.(2048,)",
         "offsetgroup": "blocks.11.norm2.bias.(2048,)",
         "orientation": "v",
         "showlegend": true,
         "textposition": "auto",
         "type": "bar",
         "x": [
          "blocks"
         ],
         "xaxis": "x",
         "y": [
          2048
         ],
         "yaxis": "y"
        },
        {
         "alignmentgroup": "True",
         "hovertemplate": "layer=blocks.11.mlp.fc1.weight.(8192, 2048)<br>block=%{x}<br>Log10_ParaM=%{y}<extra></extra>",
         "legendgroup": "blocks.11.mlp.fc1.weight.(8192, 2048)",
         "marker": {
          "color": "#00cc96",
          "pattern": {
           "shape": ""
          }
         },
         "name": "blocks.11.mlp.fc1.weight.(8192, 2048)",
         "offsetgroup": "blocks.11.mlp.fc1.weight.(8192, 2048)",
         "orientation": "v",
         "showlegend": true,
         "textposition": "auto",
         "type": "bar",
         "x": [
          "blocks"
         ],
         "xaxis": "x",
         "y": [
          16777216
         ],
         "yaxis": "y"
        },
        {
         "alignmentgroup": "True",
         "hovertemplate": "layer=blocks.11.mlp.fc1.bias.(8192,)<br>block=%{x}<br>Log10_ParaM=%{y}<extra></extra>",
         "legendgroup": "blocks.11.mlp.fc1.bias.(8192,)",
         "marker": {
          "color": "#ab63fa",
          "pattern": {
           "shape": ""
          }
         },
         "name": "blocks.11.mlp.fc1.bias.(8192,)",
         "offsetgroup": "blocks.11.mlp.fc1.bias.(8192,)",
         "orientation": "v",
         "showlegend": true,
         "textposition": "auto",
         "type": "bar",
         "x": [
          "blocks"
         ],
         "xaxis": "x",
         "y": [
          8192
         ],
         "yaxis": "y"
        },
        {
         "alignmentgroup": "True",
         "hovertemplate": "layer=norm.weight.(2048,)<br>block=%{x}<br>Log10_ParaM=%{y}<extra></extra>",
         "legendgroup": "norm.weight.(2048,)",
         "marker": {
          "color": "#FFA15A",
          "pattern": {
           "shape": ""
          }
         },
         "name": "norm.weight.(2048,)",
         "offsetgroup": "norm.weight.(2048,)",
         "orientation": "v",
         "showlegend": true,
         "textposition": "auto",
         "type": "bar",
         "x": [
          "norm"
         ],
         "xaxis": "x",
         "y": [
          2048
         ],
         "yaxis": "y"
        },
        {
         "alignmentgroup": "True",
         "hovertemplate": "layer=norm.bias.(2048,)<br>block=%{x}<br>Log10_ParaM=%{y}<extra></extra>",
         "legendgroup": "norm.bias.(2048,)",
         "marker": {
          "color": "#19d3f3",
          "pattern": {
           "shape": ""
          }
         },
         "name": "norm.bias.(2048,)",
         "offsetgroup": "norm.bias.(2048,)",
         "orientation": "v",
         "showlegend": true,
         "textposition": "auto",
         "type": "bar",
         "x": [
          "norm"
         ],
         "xaxis": "x",
         "y": [
          2048
         ],
         "yaxis": "y"
        },
        {
         "alignmentgroup": "True",
         "hovertemplate": "layer=pre_logits.conv1.conv_layers.0.weight.(2048, 3360, 3)<br>block=%{x}<br>Log10_ParaM=%{y}<extra></extra>",
         "legendgroup": "pre_logits.conv1.conv_layers.0.weight.(2048, 3360, 3)",
         "marker": {
          "color": "#FF6692",
          "pattern": {
           "shape": ""
          }
         },
         "name": "pre_logits.conv1.conv_layers.0.weight.(2048, 3360, 3)",
         "offsetgroup": "pre_logits.conv1.conv_layers.0.weight.(2048, 3360, 3)",
         "orientation": "v",
         "showlegend": true,
         "textposition": "auto",
         "type": "bar",
         "x": [
          "pre_logits"
         ],
         "xaxis": "x",
         "y": [
          20643840
         ],
         "yaxis": "y"
        },
        {
         "alignmentgroup": "True",
         "hovertemplate": "layer=pre_logits.conv1.conv_layers.1.weight.(2048, 3360, 3)<br>block=%{x}<br>Log10_ParaM=%{y}<extra></extra>",
         "legendgroup": "pre_logits.conv1.conv_layers.1.weight.(2048, 3360, 3)",
         "marker": {
          "color": "#B6E880",
          "pattern": {
           "shape": ""
          }
         },
         "name": "pre_logits.conv1.conv_layers.1.weight.(2048, 3360, 3)",
         "offsetgroup": "pre_logits.conv1.conv_layers.1.weight.(2048, 3360, 3)",
         "orientation": "v",
         "showlegend": true,
         "textposition": "auto",
         "type": "bar",
         "x": [
          "pre_logits"
         ],
         "xaxis": "x",
         "y": [
          20643840
         ],
         "yaxis": "y"
        },
        {
         "alignmentgroup": "True",
         "hovertemplate": "layer=pre_logits.conv1.conv_layers.2.weight.(2048, 3360, 3)<br>block=%{x}<br>Log10_ParaM=%{y}<extra></extra>",
         "legendgroup": "pre_logits.conv1.conv_layers.2.weight.(2048, 3360, 3)",
         "marker": {
          "color": "#FF97FF",
          "pattern": {
           "shape": ""
          }
         },
         "name": "pre_logits.conv1.conv_layers.2.weight.(2048, 3360, 3)",
         "offsetgroup": "pre_logits.conv1.conv_layers.2.weight.(2048, 3360, 3)",
         "orientation": "v",
         "showlegend": true,
         "textposition": "auto",
         "type": "bar",
         "x": [
          "pre_logits"
         ],
         "xaxis": "x",
         "y": [
          20643840
         ],
         "yaxis": "y"
        },
        {
         "alignmentgroup": "True",
         "hovertemplate": "layer=pre_logits.conv2.conv_layers.0.weight.(3360, 840, 3)<br>block=%{x}<br>Log10_ParaM=%{y}<extra></extra>",
         "legendgroup": "pre_logits.conv2.conv_layers.0.weight.(3360, 840, 3)",
         "marker": {
          "color": "#FECB52",
          "pattern": {
           "shape": ""
          }
         },
         "name": "pre_logits.conv2.conv_layers.0.weight.(3360, 840, 3)",
         "offsetgroup": "pre_logits.conv2.conv_layers.0.weight.(3360, 840, 3)",
         "orientation": "v",
         "showlegend": true,
         "textposition": "auto",
         "type": "bar",
         "x": [
          "pre_logits"
         ],
         "xaxis": "x",
         "y": [
          8467200
         ],
         "yaxis": "y"
        },
        {
         "alignmentgroup": "True",
         "hovertemplate": "layer=pre_logits.conv2.conv_layers.1.weight.(3360, 840, 3)<br>block=%{x}<br>Log10_ParaM=%{y}<extra></extra>",
         "legendgroup": "pre_logits.conv2.conv_layers.1.weight.(3360, 840, 3)",
         "marker": {
          "color": "#636efa",
          "pattern": {
           "shape": ""
          }
         },
         "name": "pre_logits.conv2.conv_layers.1.weight.(3360, 840, 3)",
         "offsetgroup": "pre_logits.conv2.conv_layers.1.weight.(3360, 840, 3)",
         "orientation": "v",
         "showlegend": true,
         "textposition": "auto",
         "type": "bar",
         "x": [
          "pre_logits"
         ],
         "xaxis": "x",
         "y": [
          8467200
         ],
         "yaxis": "y"
        },
        {
         "alignmentgroup": "True",
         "hovertemplate": "layer=pre_logits.conv2.conv_layers.2.weight.(3360, 840, 3)<br>block=%{x}<br>Log10_ParaM=%{y}<extra></extra>",
         "legendgroup": "pre_logits.conv2.conv_layers.2.weight.(3360, 840, 3)",
         "marker": {
          "color": "#EF553B",
          "pattern": {
           "shape": ""
          }
         },
         "name": "pre_logits.conv2.conv_layers.2.weight.(3360, 840, 3)",
         "offsetgroup": "pre_logits.conv2.conv_layers.2.weight.(3360, 840, 3)",
         "orientation": "v",
         "showlegend": true,
         "textposition": "auto",
         "type": "bar",
         "x": [
          "pre_logits"
         ],
         "xaxis": "x",
         "y": [
          8467200
         ],
         "yaxis": "y"
        },
        {
         "alignmentgroup": "True",
         "hovertemplate": "layer=head.conv_layers.0.weight.(840, 210, 2)<br>block=%{x}<br>Log10_ParaM=%{y}<extra></extra>",
         "legendgroup": "head.conv_layers.0.weight.(840, 210, 2)",
         "marker": {
          "color": "#00cc96",
          "pattern": {
           "shape": ""
          }
         },
         "name": "head.conv_layers.0.weight.(840, 210, 2)",
         "offsetgroup": "head.conv_layers.0.weight.(840, 210, 2)",
         "orientation": "v",
         "showlegend": true,
         "textposition": "auto",
         "type": "bar",
         "x": [
          "head"
         ],
         "xaxis": "x",
         "y": [
          352800
         ],
         "yaxis": "y"
        },
        {
         "alignmentgroup": "True",
         "hovertemplate": "layer=head.conv_layers.1.weight.(840, 210, 2)<br>block=%{x}<br>Log10_ParaM=%{y}<extra></extra>",
         "legendgroup": "head.conv_layers.1.weight.(840, 210, 2)",
         "marker": {
          "color": "#ab63fa",
          "pattern": {
           "shape": ""
          }
         },
         "name": "head.conv_layers.1.weight.(840, 210, 2)",
         "offsetgroup": "head.conv_layers.1.weight.(840, 210, 2)",
         "orientation": "v",
         "showlegend": true,
         "textposition": "auto",
         "type": "bar",
         "x": [
          "head"
         ],
         "xaxis": "x",
         "y": [
          352800
         ],
         "yaxis": "y"
        }
       ],
       "layout": {
        "barmode": "relative",
        "height": 600,
        "legend": {
         "title": {
          "text": "layer"
         },
         "tracegroupgap": 0
        },
        "showlegend": false,
        "template": {
         "data": {
          "bar": [
           {
            "error_x": {
             "color": "#2a3f5f"
            },
            "error_y": {
             "color": "#2a3f5f"
            },
            "marker": {
             "line": {
              "color": "#E5ECF6",
              "width": 0.5
             },
             "pattern": {
              "fillmode": "overlay",
              "size": 10,
              "solidity": 0.2
             }
            },
            "type": "bar"
           }
          ],
          "barpolar": [
           {
            "marker": {
             "line": {
              "color": "#E5ECF6",
              "width": 0.5
             },
             "pattern": {
              "fillmode": "overlay",
              "size": 10,
              "solidity": 0.2
             }
            },
            "type": "barpolar"
           }
          ],
          "carpet": [
           {
            "aaxis": {
             "endlinecolor": "#2a3f5f",
             "gridcolor": "white",
             "linecolor": "white",
             "minorgridcolor": "white",
             "startlinecolor": "#2a3f5f"
            },
            "baxis": {
             "endlinecolor": "#2a3f5f",
             "gridcolor": "white",
             "linecolor": "white",
             "minorgridcolor": "white",
             "startlinecolor": "#2a3f5f"
            },
            "type": "carpet"
           }
          ],
          "choropleth": [
           {
            "colorbar": {
             "outlinewidth": 0,
             "ticks": ""
            },
            "type": "choropleth"
           }
          ],
          "contour": [
           {
            "colorbar": {
             "outlinewidth": 0,
             "ticks": ""
            },
            "colorscale": [
             [
              0,
              "#0d0887"
             ],
             [
              0.1111111111111111,
              "#46039f"
             ],
             [
              0.2222222222222222,
              "#7201a8"
             ],
             [
              0.3333333333333333,
              "#9c179e"
             ],
             [
              0.4444444444444444,
              "#bd3786"
             ],
             [
              0.5555555555555556,
              "#d8576b"
             ],
             [
              0.6666666666666666,
              "#ed7953"
             ],
             [
              0.7777777777777778,
              "#fb9f3a"
             ],
             [
              0.8888888888888888,
              "#fdca26"
             ],
             [
              1,
              "#f0f921"
             ]
            ],
            "type": "contour"
           }
          ],
          "contourcarpet": [
           {
            "colorbar": {
             "outlinewidth": 0,
             "ticks": ""
            },
            "type": "contourcarpet"
           }
          ],
          "heatmap": [
           {
            "colorbar": {
             "outlinewidth": 0,
             "ticks": ""
            },
            "colorscale": [
             [
              0,
              "#0d0887"
             ],
             [
              0.1111111111111111,
              "#46039f"
             ],
             [
              0.2222222222222222,
              "#7201a8"
             ],
             [
              0.3333333333333333,
              "#9c179e"
             ],
             [
              0.4444444444444444,
              "#bd3786"
             ],
             [
              0.5555555555555556,
              "#d8576b"
             ],
             [
              0.6666666666666666,
              "#ed7953"
             ],
             [
              0.7777777777777778,
              "#fb9f3a"
             ],
             [
              0.8888888888888888,
              "#fdca26"
             ],
             [
              1,
              "#f0f921"
             ]
            ],
            "type": "heatmap"
           }
          ],
          "heatmapgl": [
           {
            "colorbar": {
             "outlinewidth": 0,
             "ticks": ""
            },
            "colorscale": [
             [
              0,
              "#0d0887"
             ],
             [
              0.1111111111111111,
              "#46039f"
             ],
             [
              0.2222222222222222,
              "#7201a8"
             ],
             [
              0.3333333333333333,
              "#9c179e"
             ],
             [
              0.4444444444444444,
              "#bd3786"
             ],
             [
              0.5555555555555556,
              "#d8576b"
             ],
             [
              0.6666666666666666,
              "#ed7953"
             ],
             [
              0.7777777777777778,
              "#fb9f3a"
             ],
             [
              0.8888888888888888,
              "#fdca26"
             ],
             [
              1,
              "#f0f921"
             ]
            ],
            "type": "heatmapgl"
           }
          ],
          "histogram": [
           {
            "marker": {
             "pattern": {
              "fillmode": "overlay",
              "size": 10,
              "solidity": 0.2
             }
            },
            "type": "histogram"
           }
          ],
          "histogram2d": [
           {
            "colorbar": {
             "outlinewidth": 0,
             "ticks": ""
            },
            "colorscale": [
             [
              0,
              "#0d0887"
             ],
             [
              0.1111111111111111,
              "#46039f"
             ],
             [
              0.2222222222222222,
              "#7201a8"
             ],
             [
              0.3333333333333333,
              "#9c179e"
             ],
             [
              0.4444444444444444,
              "#bd3786"
             ],
             [
              0.5555555555555556,
              "#d8576b"
             ],
             [
              0.6666666666666666,
              "#ed7953"
             ],
             [
              0.7777777777777778,
              "#fb9f3a"
             ],
             [
              0.8888888888888888,
              "#fdca26"
             ],
             [
              1,
              "#f0f921"
             ]
            ],
            "type": "histogram2d"
           }
          ],
          "histogram2dcontour": [
           {
            "colorbar": {
             "outlinewidth": 0,
             "ticks": ""
            },
            "colorscale": [
             [
              0,
              "#0d0887"
             ],
             [
              0.1111111111111111,
              "#46039f"
             ],
             [
              0.2222222222222222,
              "#7201a8"
             ],
             [
              0.3333333333333333,
              "#9c179e"
             ],
             [
              0.4444444444444444,
              "#bd3786"
             ],
             [
              0.5555555555555556,
              "#d8576b"
             ],
             [
              0.6666666666666666,
              "#ed7953"
             ],
             [
              0.7777777777777778,
              "#fb9f3a"
             ],
             [
              0.8888888888888888,
              "#fdca26"
             ],
             [
              1,
              "#f0f921"
             ]
            ],
            "type": "histogram2dcontour"
           }
          ],
          "mesh3d": [
           {
            "colorbar": {
             "outlinewidth": 0,
             "ticks": ""
            },
            "type": "mesh3d"
           }
          ],
          "parcoords": [
           {
            "line": {
             "colorbar": {
              "outlinewidth": 0,
              "ticks": ""
             }
            },
            "type": "parcoords"
           }
          ],
          "pie": [
           {
            "automargin": true,
            "type": "pie"
           }
          ],
          "scatter": [
           {
            "fillpattern": {
             "fillmode": "overlay",
             "size": 10,
             "solidity": 0.2
            },
            "type": "scatter"
           }
          ],
          "scatter3d": [
           {
            "line": {
             "colorbar": {
              "outlinewidth": 0,
              "ticks": ""
             }
            },
            "marker": {
             "colorbar": {
              "outlinewidth": 0,
              "ticks": ""
             }
            },
            "type": "scatter3d"
           }
          ],
          "scattercarpet": [
           {
            "marker": {
             "colorbar": {
              "outlinewidth": 0,
              "ticks": ""
             }
            },
            "type": "scattercarpet"
           }
          ],
          "scattergeo": [
           {
            "marker": {
             "colorbar": {
              "outlinewidth": 0,
              "ticks": ""
             }
            },
            "type": "scattergeo"
           }
          ],
          "scattergl": [
           {
            "marker": {
             "colorbar": {
              "outlinewidth": 0,
              "ticks": ""
             }
            },
            "type": "scattergl"
           }
          ],
          "scattermapbox": [
           {
            "marker": {
             "colorbar": {
              "outlinewidth": 0,
              "ticks": ""
             }
            },
            "type": "scattermapbox"
           }
          ],
          "scatterpolar": [
           {
            "marker": {
             "colorbar": {
              "outlinewidth": 0,
              "ticks": ""
             }
            },
            "type": "scatterpolar"
           }
          ],
          "scatterpolargl": [
           {
            "marker": {
             "colorbar": {
              "outlinewidth": 0,
              "ticks": ""
             }
            },
            "type": "scatterpolargl"
           }
          ],
          "scatterternary": [
           {
            "marker": {
             "colorbar": {
              "outlinewidth": 0,
              "ticks": ""
             }
            },
            "type": "scatterternary"
           }
          ],
          "surface": [
           {
            "colorbar": {
             "outlinewidth": 0,
             "ticks": ""
            },
            "colorscale": [
             [
              0,
              "#0d0887"
             ],
             [
              0.1111111111111111,
              "#46039f"
             ],
             [
              0.2222222222222222,
              "#7201a8"
             ],
             [
              0.3333333333333333,
              "#9c179e"
             ],
             [
              0.4444444444444444,
              "#bd3786"
             ],
             [
              0.5555555555555556,
              "#d8576b"
             ],
             [
              0.6666666666666666,
              "#ed7953"
             ],
             [
              0.7777777777777778,
              "#fb9f3a"
             ],
             [
              0.8888888888888888,
              "#fdca26"
             ],
             [
              1,
              "#f0f921"
             ]
            ],
            "type": "surface"
           }
          ],
          "table": [
           {
            "cells": {
             "fill": {
              "color": "#EBF0F8"
             },
             "line": {
              "color": "white"
             }
            },
            "header": {
             "fill": {
              "color": "#C8D4E3"
             },
             "line": {
              "color": "white"
             }
            },
            "type": "table"
           }
          ]
         },
         "layout": {
          "annotationdefaults": {
           "arrowcolor": "#2a3f5f",
           "arrowhead": 0,
           "arrowwidth": 1
          },
          "autotypenumbers": "strict",
          "coloraxis": {
           "colorbar": {
            "outlinewidth": 0,
            "ticks": ""
           }
          },
          "colorscale": {
           "diverging": [
            [
             0,
             "#8e0152"
            ],
            [
             0.1,
             "#c51b7d"
            ],
            [
             0.2,
             "#de77ae"
            ],
            [
             0.3,
             "#f1b6da"
            ],
            [
             0.4,
             "#fde0ef"
            ],
            [
             0.5,
             "#f7f7f7"
            ],
            [
             0.6,
             "#e6f5d0"
            ],
            [
             0.7,
             "#b8e186"
            ],
            [
             0.8,
             "#7fbc41"
            ],
            [
             0.9,
             "#4d9221"
            ],
            [
             1,
             "#276419"
            ]
           ],
           "sequential": [
            [
             0,
             "#0d0887"
            ],
            [
             0.1111111111111111,
             "#46039f"
            ],
            [
             0.2222222222222222,
             "#7201a8"
            ],
            [
             0.3333333333333333,
             "#9c179e"
            ],
            [
             0.4444444444444444,
             "#bd3786"
            ],
            [
             0.5555555555555556,
             "#d8576b"
            ],
            [
             0.6666666666666666,
             "#ed7953"
            ],
            [
             0.7777777777777778,
             "#fb9f3a"
            ],
            [
             0.8888888888888888,
             "#fdca26"
            ],
            [
             1,
             "#f0f921"
            ]
           ],
           "sequentialminus": [
            [
             0,
             "#0d0887"
            ],
            [
             0.1111111111111111,
             "#46039f"
            ],
            [
             0.2222222222222222,
             "#7201a8"
            ],
            [
             0.3333333333333333,
             "#9c179e"
            ],
            [
             0.4444444444444444,
             "#bd3786"
            ],
            [
             0.5555555555555556,
             "#d8576b"
            ],
            [
             0.6666666666666666,
             "#ed7953"
            ],
            [
             0.7777777777777778,
             "#fb9f3a"
            ],
            [
             0.8888888888888888,
             "#fdca26"
            ],
            [
             1,
             "#f0f921"
            ]
           ]
          },
          "colorway": [
           "#636efa",
           "#EF553B",
           "#00cc96",
           "#ab63fa",
           "#FFA15A",
           "#19d3f3",
           "#FF6692",
           "#B6E880",
           "#FF97FF",
           "#FECB52"
          ],
          "font": {
           "color": "#2a3f5f"
          },
          "geo": {
           "bgcolor": "white",
           "lakecolor": "white",
           "landcolor": "#E5ECF6",
           "showlakes": true,
           "showland": true,
           "subunitcolor": "white"
          },
          "hoverlabel": {
           "align": "left"
          },
          "hovermode": "closest",
          "mapbox": {
           "style": "light"
          },
          "paper_bgcolor": "white",
          "plot_bgcolor": "#E5ECF6",
          "polar": {
           "angularaxis": {
            "gridcolor": "white",
            "linecolor": "white",
            "ticks": ""
           },
           "bgcolor": "#E5ECF6",
           "radialaxis": {
            "gridcolor": "white",
            "linecolor": "white",
            "ticks": ""
           }
          },
          "scene": {
           "xaxis": {
            "backgroundcolor": "#E5ECF6",
            "gridcolor": "white",
            "gridwidth": 2,
            "linecolor": "white",
            "showbackground": true,
            "ticks": "",
            "zerolinecolor": "white"
           },
           "yaxis": {
            "backgroundcolor": "#E5ECF6",
            "gridcolor": "white",
            "gridwidth": 2,
            "linecolor": "white",
            "showbackground": true,
            "ticks": "",
            "zerolinecolor": "white"
           },
           "zaxis": {
            "backgroundcolor": "#E5ECF6",
            "gridcolor": "white",
            "gridwidth": 2,
            "linecolor": "white",
            "showbackground": true,
            "ticks": "",
            "zerolinecolor": "white"
           }
          },
          "shapedefaults": {
           "line": {
            "color": "#2a3f5f"
           }
          },
          "ternary": {
           "aaxis": {
            "gridcolor": "white",
            "linecolor": "white",
            "ticks": ""
           },
           "baxis": {
            "gridcolor": "white",
            "linecolor": "white",
            "ticks": ""
           },
           "bgcolor": "#E5ECF6",
           "caxis": {
            "gridcolor": "white",
            "linecolor": "white",
            "ticks": ""
           }
          },
          "title": {
           "x": 0.05
          },
          "xaxis": {
           "automargin": true,
           "gridcolor": "white",
           "linecolor": "white",
           "ticks": "",
           "title": {
            "standoff": 15
           },
           "zerolinecolor": "white",
           "zerolinewidth": 2
          },
          "yaxis": {
           "automargin": true,
           "gridcolor": "white",
           "linecolor": "white",
           "ticks": "",
           "title": {
            "standoff": 15
           },
           "zerolinecolor": "white",
           "zerolinewidth": 2
          }
         }
        },
        "title": {
         "text": "My plot"
        },
        "xaxis": {
         "anchor": "y",
         "domain": [
          0,
          1
         ],
         "title": {
          "text": "block"
         }
        },
        "yaxis": {
         "anchor": "x",
         "domain": [
          0,
          1
         ],
         "title": {
          "text": "Log10_ParaM"
         }
        }
       }
      },
      "text/html": [
       "<div>                            <div id=\"cf2a1801-48f5-4472-bd6e-24c97321de0c\" class=\"plotly-graph-div\" style=\"height:600px; width:100%;\"></div>            <script type=\"text/javascript\">                require([\"plotly\"], function(Plotly) {                    window.PLOTLYENV=window.PLOTLYENV || {};                                    if (document.getElementById(\"cf2a1801-48f5-4472-bd6e-24c97321de0c\")) {                    Plotly.newPlot(                        \"cf2a1801-48f5-4472-bd6e-24c97321de0c\",                        [{\"alignmentgroup\":\"True\",\"hovertemplate\":\"layer=pos_embed.(1, 512, 2048)<br>block=%{x}<br>Log10_ParaM=%{y}<extra></extra>\",\"legendgroup\":\"pos_embed.(1, 512, 2048)\",\"marker\":{\"color\":\"#636efa\",\"pattern\":{\"shape\":\"\"}},\"name\":\"pos_embed.(1, 512, 2048)\",\"offsetgroup\":\"pos_embed.(1, 512, 2048)\",\"orientation\":\"v\",\"showlegend\":true,\"textposition\":\"auto\",\"x\":[\"pos_embed\"],\"xaxis\":\"x\",\"y\":[1048576],\"yaxis\":\"y\",\"type\":\"bar\"},{\"alignmentgroup\":\"True\",\"hovertemplate\":\"layer=reduce_Field_coef.(1,)<br>block=%{x}<br>Log10_ParaM=%{y}<extra></extra>\",\"legendgroup\":\"reduce_Field_coef.(1,)\",\"marker\":{\"color\":\"#EF553B\",\"pattern\":{\"shape\":\"\"}},\"name\":\"reduce_Field_coef.(1,)\",\"offsetgroup\":\"reduce_Field_coef.(1,)\",\"orientation\":\"v\",\"showlegend\":true,\"textposition\":\"auto\",\"x\":[\"reduce_Field_coef\"],\"xaxis\":\"x\",\"y\":[1],\"yaxis\":\"y\",\"type\":\"bar\"},{\"alignmentgroup\":\"True\",\"hovertemplate\":\"layer=patch_embed.proj.conv_layers.0.weight.(2048, 210, 2)<br>block=%{x}<br>Log10_ParaM=%{y}<extra></extra>\",\"legendgroup\":\"patch_embed.proj.conv_layers.0.weight.(2048, 210, 2)\",\"marker\":{\"color\":\"#00cc96\",\"pattern\":{\"shape\":\"\"}},\"name\":\"patch_embed.proj.conv_layers.0.weight.(2048, 210, 2)\",\"offsetgroup\":\"patch_embed.proj.conv_layers.0.weight.(2048, 210, 2)\",\"orientation\":\"v\",\"showlegend\":true,\"textposition\":\"auto\",\"x\":[\"patch_embed\"],\"xaxis\":\"x\",\"y\":[860160],\"yaxis\":\"y\",\"type\":\"bar\"},{\"alignmentgroup\":\"True\",\"hovertemplate\":\"layer=patch_embed.proj.conv_layers.1.weight.(2048, 210, 2)<br>block=%{x}<br>Log10_ParaM=%{y}<extra></extra>\",\"legendgroup\":\"patch_embed.proj.conv_layers.1.weight.(2048, 210, 2)\",\"marker\":{\"color\":\"#ab63fa\",\"pattern\":{\"shape\":\"\"}},\"name\":\"patch_embed.proj.conv_layers.1.weight.(2048, 210, 2)\",\"offsetgroup\":\"patch_embed.proj.conv_layers.1.weight.(2048, 210, 2)\",\"orientation\":\"v\",\"showlegend\":true,\"textposition\":\"auto\",\"x\":[\"patch_embed\"],\"xaxis\":\"x\",\"y\":[860160],\"yaxis\":\"y\",\"type\":\"bar\"},{\"alignmentgroup\":\"True\",\"hovertemplate\":\"layer=blocks.0.norm1.weight.(2048,)<br>block=%{x}<br>Log10_ParaM=%{y}<extra></extra>\",\"legendgroup\":\"blocks.0.norm1.weight.(2048,)\",\"marker\":{\"color\":\"#FFA15A\",\"pattern\":{\"shape\":\"\"}},\"name\":\"blocks.0.norm1.weight.(2048,)\",\"offsetgroup\":\"blocks.0.norm1.weight.(2048,)\",\"orientation\":\"v\",\"showlegend\":true,\"textposition\":\"auto\",\"x\":[\"blocks\"],\"xaxis\":\"x\",\"y\":[2048],\"yaxis\":\"y\",\"type\":\"bar\"},{\"alignmentgroup\":\"True\",\"hovertemplate\":\"layer=blocks.0.norm1.bias.(2048,)<br>block=%{x}<br>Log10_ParaM=%{y}<extra></extra>\",\"legendgroup\":\"blocks.0.norm1.bias.(2048,)\",\"marker\":{\"color\":\"#19d3f3\",\"pattern\":{\"shape\":\"\"}},\"name\":\"blocks.0.norm1.bias.(2048,)\",\"offsetgroup\":\"blocks.0.norm1.bias.(2048,)\",\"orientation\":\"v\",\"showlegend\":true,\"textposition\":\"auto\",\"x\":[\"blocks\"],\"xaxis\":\"x\",\"y\":[2048],\"yaxis\":\"y\",\"type\":\"bar\"},{\"alignmentgroup\":\"True\",\"hovertemplate\":\"layer=blocks.0.filter.w1.(2, 4, 512, 512)<br>block=%{x}<br>Log10_ParaM=%{y}<extra></extra>\",\"legendgroup\":\"blocks.0.filter.w1.(2, 4, 512, 512)\",\"marker\":{\"color\":\"#FF6692\",\"pattern\":{\"shape\":\"\"}},\"name\":\"blocks.0.filter.w1.(2, 4, 512, 512)\",\"offsetgroup\":\"blocks.0.filter.w1.(2, 4, 512, 512)\",\"orientation\":\"v\",\"showlegend\":true,\"textposition\":\"auto\",\"x\":[\"blocks\"],\"xaxis\":\"x\",\"y\":[2097152],\"yaxis\":\"y\",\"type\":\"bar\"},{\"alignmentgroup\":\"True\",\"hovertemplate\":\"layer=blocks.0.filter.b1.(2, 4, 512)<br>block=%{x}<br>Log10_ParaM=%{y}<extra></extra>\",\"legendgroup\":\"blocks.0.filter.b1.(2, 4, 512)\",\"marker\":{\"color\":\"#B6E880\",\"pattern\":{\"shape\":\"\"}},\"name\":\"blocks.0.filter.b1.(2, 4, 512)\",\"offsetgroup\":\"blocks.0.filter.b1.(2, 4, 512)\",\"orientation\":\"v\",\"showlegend\":true,\"textposition\":\"auto\",\"x\":[\"blocks\"],\"xaxis\":\"x\",\"y\":[4096],\"yaxis\":\"y\",\"type\":\"bar\"},{\"alignmentgroup\":\"True\",\"hovertemplate\":\"layer=blocks.0.filter.w2.(2, 4, 512, 512)<br>block=%{x}<br>Log10_ParaM=%{y}<extra></extra>\",\"legendgroup\":\"blocks.0.filter.w2.(2, 4, 512, 512)\",\"marker\":{\"color\":\"#FF97FF\",\"pattern\":{\"shape\":\"\"}},\"name\":\"blocks.0.filter.w2.(2, 4, 512, 512)\",\"offsetgroup\":\"blocks.0.filter.w2.(2, 4, 512, 512)\",\"orientation\":\"v\",\"showlegend\":true,\"textposition\":\"auto\",\"x\":[\"blocks\"],\"xaxis\":\"x\",\"y\":[2097152],\"yaxis\":\"y\",\"type\":\"bar\"},{\"alignmentgroup\":\"True\",\"hovertemplate\":\"layer=blocks.0.filter.b2.(2, 4, 512)<br>block=%{x}<br>Log10_ParaM=%{y}<extra></extra>\",\"legendgroup\":\"blocks.0.filter.b2.(2, 4, 512)\",\"marker\":{\"color\":\"#FECB52\",\"pattern\":{\"shape\":\"\"}},\"name\":\"blocks.0.filter.b2.(2, 4, 512)\",\"offsetgroup\":\"blocks.0.filter.b2.(2, 4, 512)\",\"orientation\":\"v\",\"showlegend\":true,\"textposition\":\"auto\",\"x\":[\"blocks\"],\"xaxis\":\"x\",\"y\":[4096],\"yaxis\":\"y\",\"type\":\"bar\"},{\"alignmentgroup\":\"True\",\"hovertemplate\":\"layer=blocks.0.norm2.weight.(2048,)<br>block=%{x}<br>Log10_ParaM=%{y}<extra></extra>\",\"legendgroup\":\"blocks.0.norm2.weight.(2048,)\",\"marker\":{\"color\":\"#636efa\",\"pattern\":{\"shape\":\"\"}},\"name\":\"blocks.0.norm2.weight.(2048,)\",\"offsetgroup\":\"blocks.0.norm2.weight.(2048,)\",\"orientation\":\"v\",\"showlegend\":true,\"textposition\":\"auto\",\"x\":[\"blocks\"],\"xaxis\":\"x\",\"y\":[2048],\"yaxis\":\"y\",\"type\":\"bar\"},{\"alignmentgroup\":\"True\",\"hovertemplate\":\"layer=blocks.0.norm2.bias.(2048,)<br>block=%{x}<br>Log10_ParaM=%{y}<extra></extra>\",\"legendgroup\":\"blocks.0.norm2.bias.(2048,)\",\"marker\":{\"color\":\"#EF553B\",\"pattern\":{\"shape\":\"\"}},\"name\":\"blocks.0.norm2.bias.(2048,)\",\"offsetgroup\":\"blocks.0.norm2.bias.(2048,)\",\"orientation\":\"v\",\"showlegend\":true,\"textposition\":\"auto\",\"x\":[\"blocks\"],\"xaxis\":\"x\",\"y\":[2048],\"yaxis\":\"y\",\"type\":\"bar\"},{\"alignmentgroup\":\"True\",\"hovertemplate\":\"layer=blocks.0.mlp.fc1.weight.(8192, 2048)<br>block=%{x}<br>Log10_ParaM=%{y}<extra></extra>\",\"legendgroup\":\"blocks.0.mlp.fc1.weight.(8192, 2048)\",\"marker\":{\"color\":\"#00cc96\",\"pattern\":{\"shape\":\"\"}},\"name\":\"blocks.0.mlp.fc1.weight.(8192, 2048)\",\"offsetgroup\":\"blocks.0.mlp.fc1.weight.(8192, 2048)\",\"orientation\":\"v\",\"showlegend\":true,\"textposition\":\"auto\",\"x\":[\"blocks\"],\"xaxis\":\"x\",\"y\":[16777216],\"yaxis\":\"y\",\"type\":\"bar\"},{\"alignmentgroup\":\"True\",\"hovertemplate\":\"layer=blocks.0.mlp.fc1.bias.(8192,)<br>block=%{x}<br>Log10_ParaM=%{y}<extra></extra>\",\"legendgroup\":\"blocks.0.mlp.fc1.bias.(8192,)\",\"marker\":{\"color\":\"#ab63fa\",\"pattern\":{\"shape\":\"\"}},\"name\":\"blocks.0.mlp.fc1.bias.(8192,)\",\"offsetgroup\":\"blocks.0.mlp.fc1.bias.(8192,)\",\"orientation\":\"v\",\"showlegend\":true,\"textposition\":\"auto\",\"x\":[\"blocks\"],\"xaxis\":\"x\",\"y\":[8192],\"yaxis\":\"y\",\"type\":\"bar\"},{\"alignmentgroup\":\"True\",\"hovertemplate\":\"layer=blocks.1.norm1.weight.(2048,)<br>block=%{x}<br>Log10_ParaM=%{y}<extra></extra>\",\"legendgroup\":\"blocks.1.norm1.weight.(2048,)\",\"marker\":{\"color\":\"#FFA15A\",\"pattern\":{\"shape\":\"\"}},\"name\":\"blocks.1.norm1.weight.(2048,)\",\"offsetgroup\":\"blocks.1.norm1.weight.(2048,)\",\"orientation\":\"v\",\"showlegend\":true,\"textposition\":\"auto\",\"x\":[\"blocks\"],\"xaxis\":\"x\",\"y\":[2048],\"yaxis\":\"y\",\"type\":\"bar\"},{\"alignmentgroup\":\"True\",\"hovertemplate\":\"layer=blocks.1.norm1.bias.(2048,)<br>block=%{x}<br>Log10_ParaM=%{y}<extra></extra>\",\"legendgroup\":\"blocks.1.norm1.bias.(2048,)\",\"marker\":{\"color\":\"#19d3f3\",\"pattern\":{\"shape\":\"\"}},\"name\":\"blocks.1.norm1.bias.(2048,)\",\"offsetgroup\":\"blocks.1.norm1.bias.(2048,)\",\"orientation\":\"v\",\"showlegend\":true,\"textposition\":\"auto\",\"x\":[\"blocks\"],\"xaxis\":\"x\",\"y\":[2048],\"yaxis\":\"y\",\"type\":\"bar\"},{\"alignmentgroup\":\"True\",\"hovertemplate\":\"layer=blocks.1.filter.w1.(2, 4, 512, 512)<br>block=%{x}<br>Log10_ParaM=%{y}<extra></extra>\",\"legendgroup\":\"blocks.1.filter.w1.(2, 4, 512, 512)\",\"marker\":{\"color\":\"#FF6692\",\"pattern\":{\"shape\":\"\"}},\"name\":\"blocks.1.filter.w1.(2, 4, 512, 512)\",\"offsetgroup\":\"blocks.1.filter.w1.(2, 4, 512, 512)\",\"orientation\":\"v\",\"showlegend\":true,\"textposition\":\"auto\",\"x\":[\"blocks\"],\"xaxis\":\"x\",\"y\":[2097152],\"yaxis\":\"y\",\"type\":\"bar\"},{\"alignmentgroup\":\"True\",\"hovertemplate\":\"layer=blocks.1.filter.b1.(2, 4, 512)<br>block=%{x}<br>Log10_ParaM=%{y}<extra></extra>\",\"legendgroup\":\"blocks.1.filter.b1.(2, 4, 512)\",\"marker\":{\"color\":\"#B6E880\",\"pattern\":{\"shape\":\"\"}},\"name\":\"blocks.1.filter.b1.(2, 4, 512)\",\"offsetgroup\":\"blocks.1.filter.b1.(2, 4, 512)\",\"orientation\":\"v\",\"showlegend\":true,\"textposition\":\"auto\",\"x\":[\"blocks\"],\"xaxis\":\"x\",\"y\":[4096],\"yaxis\":\"y\",\"type\":\"bar\"},{\"alignmentgroup\":\"True\",\"hovertemplate\":\"layer=blocks.1.filter.w2.(2, 4, 512, 512)<br>block=%{x}<br>Log10_ParaM=%{y}<extra></extra>\",\"legendgroup\":\"blocks.1.filter.w2.(2, 4, 512, 512)\",\"marker\":{\"color\":\"#FF97FF\",\"pattern\":{\"shape\":\"\"}},\"name\":\"blocks.1.filter.w2.(2, 4, 512, 512)\",\"offsetgroup\":\"blocks.1.filter.w2.(2, 4, 512, 512)\",\"orientation\":\"v\",\"showlegend\":true,\"textposition\":\"auto\",\"x\":[\"blocks\"],\"xaxis\":\"x\",\"y\":[2097152],\"yaxis\":\"y\",\"type\":\"bar\"},{\"alignmentgroup\":\"True\",\"hovertemplate\":\"layer=blocks.1.filter.b2.(2, 4, 512)<br>block=%{x}<br>Log10_ParaM=%{y}<extra></extra>\",\"legendgroup\":\"blocks.1.filter.b2.(2, 4, 512)\",\"marker\":{\"color\":\"#FECB52\",\"pattern\":{\"shape\":\"\"}},\"name\":\"blocks.1.filter.b2.(2, 4, 512)\",\"offsetgroup\":\"blocks.1.filter.b2.(2, 4, 512)\",\"orientation\":\"v\",\"showlegend\":true,\"textposition\":\"auto\",\"x\":[\"blocks\"],\"xaxis\":\"x\",\"y\":[4096],\"yaxis\":\"y\",\"type\":\"bar\"},{\"alignmentgroup\":\"True\",\"hovertemplate\":\"layer=blocks.1.norm2.weight.(2048,)<br>block=%{x}<br>Log10_ParaM=%{y}<extra></extra>\",\"legendgroup\":\"blocks.1.norm2.weight.(2048,)\",\"marker\":{\"color\":\"#636efa\",\"pattern\":{\"shape\":\"\"}},\"name\":\"blocks.1.norm2.weight.(2048,)\",\"offsetgroup\":\"blocks.1.norm2.weight.(2048,)\",\"orientation\":\"v\",\"showlegend\":true,\"textposition\":\"auto\",\"x\":[\"blocks\"],\"xaxis\":\"x\",\"y\":[2048],\"yaxis\":\"y\",\"type\":\"bar\"},{\"alignmentgroup\":\"True\",\"hovertemplate\":\"layer=blocks.1.norm2.bias.(2048,)<br>block=%{x}<br>Log10_ParaM=%{y}<extra></extra>\",\"legendgroup\":\"blocks.1.norm2.bias.(2048,)\",\"marker\":{\"color\":\"#EF553B\",\"pattern\":{\"shape\":\"\"}},\"name\":\"blocks.1.norm2.bias.(2048,)\",\"offsetgroup\":\"blocks.1.norm2.bias.(2048,)\",\"orientation\":\"v\",\"showlegend\":true,\"textposition\":\"auto\",\"x\":[\"blocks\"],\"xaxis\":\"x\",\"y\":[2048],\"yaxis\":\"y\",\"type\":\"bar\"},{\"alignmentgroup\":\"True\",\"hovertemplate\":\"layer=blocks.1.mlp.fc1.weight.(8192, 2048)<br>block=%{x}<br>Log10_ParaM=%{y}<extra></extra>\",\"legendgroup\":\"blocks.1.mlp.fc1.weight.(8192, 2048)\",\"marker\":{\"color\":\"#00cc96\",\"pattern\":{\"shape\":\"\"}},\"name\":\"blocks.1.mlp.fc1.weight.(8192, 2048)\",\"offsetgroup\":\"blocks.1.mlp.fc1.weight.(8192, 2048)\",\"orientation\":\"v\",\"showlegend\":true,\"textposition\":\"auto\",\"x\":[\"blocks\"],\"xaxis\":\"x\",\"y\":[16777216],\"yaxis\":\"y\",\"type\":\"bar\"},{\"alignmentgroup\":\"True\",\"hovertemplate\":\"layer=blocks.1.mlp.fc1.bias.(8192,)<br>block=%{x}<br>Log10_ParaM=%{y}<extra></extra>\",\"legendgroup\":\"blocks.1.mlp.fc1.bias.(8192,)\",\"marker\":{\"color\":\"#ab63fa\",\"pattern\":{\"shape\":\"\"}},\"name\":\"blocks.1.mlp.fc1.bias.(8192,)\",\"offsetgroup\":\"blocks.1.mlp.fc1.bias.(8192,)\",\"orientation\":\"v\",\"showlegend\":true,\"textposition\":\"auto\",\"x\":[\"blocks\"],\"xaxis\":\"x\",\"y\":[8192],\"yaxis\":\"y\",\"type\":\"bar\"},{\"alignmentgroup\":\"True\",\"hovertemplate\":\"layer=blocks.2.norm1.weight.(2048,)<br>block=%{x}<br>Log10_ParaM=%{y}<extra></extra>\",\"legendgroup\":\"blocks.2.norm1.weight.(2048,)\",\"marker\":{\"color\":\"#FFA15A\",\"pattern\":{\"shape\":\"\"}},\"name\":\"blocks.2.norm1.weight.(2048,)\",\"offsetgroup\":\"blocks.2.norm1.weight.(2048,)\",\"orientation\":\"v\",\"showlegend\":true,\"textposition\":\"auto\",\"x\":[\"blocks\"],\"xaxis\":\"x\",\"y\":[2048],\"yaxis\":\"y\",\"type\":\"bar\"},{\"alignmentgroup\":\"True\",\"hovertemplate\":\"layer=blocks.2.norm1.bias.(2048,)<br>block=%{x}<br>Log10_ParaM=%{y}<extra></extra>\",\"legendgroup\":\"blocks.2.norm1.bias.(2048,)\",\"marker\":{\"color\":\"#19d3f3\",\"pattern\":{\"shape\":\"\"}},\"name\":\"blocks.2.norm1.bias.(2048,)\",\"offsetgroup\":\"blocks.2.norm1.bias.(2048,)\",\"orientation\":\"v\",\"showlegend\":true,\"textposition\":\"auto\",\"x\":[\"blocks\"],\"xaxis\":\"x\",\"y\":[2048],\"yaxis\":\"y\",\"type\":\"bar\"},{\"alignmentgroup\":\"True\",\"hovertemplate\":\"layer=blocks.2.filter.w1.(2, 4, 512, 512)<br>block=%{x}<br>Log10_ParaM=%{y}<extra></extra>\",\"legendgroup\":\"blocks.2.filter.w1.(2, 4, 512, 512)\",\"marker\":{\"color\":\"#FF6692\",\"pattern\":{\"shape\":\"\"}},\"name\":\"blocks.2.filter.w1.(2, 4, 512, 512)\",\"offsetgroup\":\"blocks.2.filter.w1.(2, 4, 512, 512)\",\"orientation\":\"v\",\"showlegend\":true,\"textposition\":\"auto\",\"x\":[\"blocks\"],\"xaxis\":\"x\",\"y\":[2097152],\"yaxis\":\"y\",\"type\":\"bar\"},{\"alignmentgroup\":\"True\",\"hovertemplate\":\"layer=blocks.2.filter.b1.(2, 4, 512)<br>block=%{x}<br>Log10_ParaM=%{y}<extra></extra>\",\"legendgroup\":\"blocks.2.filter.b1.(2, 4, 512)\",\"marker\":{\"color\":\"#B6E880\",\"pattern\":{\"shape\":\"\"}},\"name\":\"blocks.2.filter.b1.(2, 4, 512)\",\"offsetgroup\":\"blocks.2.filter.b1.(2, 4, 512)\",\"orientation\":\"v\",\"showlegend\":true,\"textposition\":\"auto\",\"x\":[\"blocks\"],\"xaxis\":\"x\",\"y\":[4096],\"yaxis\":\"y\",\"type\":\"bar\"},{\"alignmentgroup\":\"True\",\"hovertemplate\":\"layer=blocks.2.filter.w2.(2, 4, 512, 512)<br>block=%{x}<br>Log10_ParaM=%{y}<extra></extra>\",\"legendgroup\":\"blocks.2.filter.w2.(2, 4, 512, 512)\",\"marker\":{\"color\":\"#FF97FF\",\"pattern\":{\"shape\":\"\"}},\"name\":\"blocks.2.filter.w2.(2, 4, 512, 512)\",\"offsetgroup\":\"blocks.2.filter.w2.(2, 4, 512, 512)\",\"orientation\":\"v\",\"showlegend\":true,\"textposition\":\"auto\",\"x\":[\"blocks\"],\"xaxis\":\"x\",\"y\":[2097152],\"yaxis\":\"y\",\"type\":\"bar\"},{\"alignmentgroup\":\"True\",\"hovertemplate\":\"layer=blocks.2.filter.b2.(2, 4, 512)<br>block=%{x}<br>Log10_ParaM=%{y}<extra></extra>\",\"legendgroup\":\"blocks.2.filter.b2.(2, 4, 512)\",\"marker\":{\"color\":\"#FECB52\",\"pattern\":{\"shape\":\"\"}},\"name\":\"blocks.2.filter.b2.(2, 4, 512)\",\"offsetgroup\":\"blocks.2.filter.b2.(2, 4, 512)\",\"orientation\":\"v\",\"showlegend\":true,\"textposition\":\"auto\",\"x\":[\"blocks\"],\"xaxis\":\"x\",\"y\":[4096],\"yaxis\":\"y\",\"type\":\"bar\"},{\"alignmentgroup\":\"True\",\"hovertemplate\":\"layer=blocks.2.norm2.weight.(2048,)<br>block=%{x}<br>Log10_ParaM=%{y}<extra></extra>\",\"legendgroup\":\"blocks.2.norm2.weight.(2048,)\",\"marker\":{\"color\":\"#636efa\",\"pattern\":{\"shape\":\"\"}},\"name\":\"blocks.2.norm2.weight.(2048,)\",\"offsetgroup\":\"blocks.2.norm2.weight.(2048,)\",\"orientation\":\"v\",\"showlegend\":true,\"textposition\":\"auto\",\"x\":[\"blocks\"],\"xaxis\":\"x\",\"y\":[2048],\"yaxis\":\"y\",\"type\":\"bar\"},{\"alignmentgroup\":\"True\",\"hovertemplate\":\"layer=blocks.2.norm2.bias.(2048,)<br>block=%{x}<br>Log10_ParaM=%{y}<extra></extra>\",\"legendgroup\":\"blocks.2.norm2.bias.(2048,)\",\"marker\":{\"color\":\"#EF553B\",\"pattern\":{\"shape\":\"\"}},\"name\":\"blocks.2.norm2.bias.(2048,)\",\"offsetgroup\":\"blocks.2.norm2.bias.(2048,)\",\"orientation\":\"v\",\"showlegend\":true,\"textposition\":\"auto\",\"x\":[\"blocks\"],\"xaxis\":\"x\",\"y\":[2048],\"yaxis\":\"y\",\"type\":\"bar\"},{\"alignmentgroup\":\"True\",\"hovertemplate\":\"layer=blocks.2.mlp.fc1.weight.(8192, 2048)<br>block=%{x}<br>Log10_ParaM=%{y}<extra></extra>\",\"legendgroup\":\"blocks.2.mlp.fc1.weight.(8192, 2048)\",\"marker\":{\"color\":\"#00cc96\",\"pattern\":{\"shape\":\"\"}},\"name\":\"blocks.2.mlp.fc1.weight.(8192, 2048)\",\"offsetgroup\":\"blocks.2.mlp.fc1.weight.(8192, 2048)\",\"orientation\":\"v\",\"showlegend\":true,\"textposition\":\"auto\",\"x\":[\"blocks\"],\"xaxis\":\"x\",\"y\":[16777216],\"yaxis\":\"y\",\"type\":\"bar\"},{\"alignmentgroup\":\"True\",\"hovertemplate\":\"layer=blocks.2.mlp.fc1.bias.(8192,)<br>block=%{x}<br>Log10_ParaM=%{y}<extra></extra>\",\"legendgroup\":\"blocks.2.mlp.fc1.bias.(8192,)\",\"marker\":{\"color\":\"#ab63fa\",\"pattern\":{\"shape\":\"\"}},\"name\":\"blocks.2.mlp.fc1.bias.(8192,)\",\"offsetgroup\":\"blocks.2.mlp.fc1.bias.(8192,)\",\"orientation\":\"v\",\"showlegend\":true,\"textposition\":\"auto\",\"x\":[\"blocks\"],\"xaxis\":\"x\",\"y\":[8192],\"yaxis\":\"y\",\"type\":\"bar\"},{\"alignmentgroup\":\"True\",\"hovertemplate\":\"layer=blocks.3.norm1.weight.(2048,)<br>block=%{x}<br>Log10_ParaM=%{y}<extra></extra>\",\"legendgroup\":\"blocks.3.norm1.weight.(2048,)\",\"marker\":{\"color\":\"#FFA15A\",\"pattern\":{\"shape\":\"\"}},\"name\":\"blocks.3.norm1.weight.(2048,)\",\"offsetgroup\":\"blocks.3.norm1.weight.(2048,)\",\"orientation\":\"v\",\"showlegend\":true,\"textposition\":\"auto\",\"x\":[\"blocks\"],\"xaxis\":\"x\",\"y\":[2048],\"yaxis\":\"y\",\"type\":\"bar\"},{\"alignmentgroup\":\"True\",\"hovertemplate\":\"layer=blocks.3.norm1.bias.(2048,)<br>block=%{x}<br>Log10_ParaM=%{y}<extra></extra>\",\"legendgroup\":\"blocks.3.norm1.bias.(2048,)\",\"marker\":{\"color\":\"#19d3f3\",\"pattern\":{\"shape\":\"\"}},\"name\":\"blocks.3.norm1.bias.(2048,)\",\"offsetgroup\":\"blocks.3.norm1.bias.(2048,)\",\"orientation\":\"v\",\"showlegend\":true,\"textposition\":\"auto\",\"x\":[\"blocks\"],\"xaxis\":\"x\",\"y\":[2048],\"yaxis\":\"y\",\"type\":\"bar\"},{\"alignmentgroup\":\"True\",\"hovertemplate\":\"layer=blocks.3.filter.w1.(2, 4, 512, 512)<br>block=%{x}<br>Log10_ParaM=%{y}<extra></extra>\",\"legendgroup\":\"blocks.3.filter.w1.(2, 4, 512, 512)\",\"marker\":{\"color\":\"#FF6692\",\"pattern\":{\"shape\":\"\"}},\"name\":\"blocks.3.filter.w1.(2, 4, 512, 512)\",\"offsetgroup\":\"blocks.3.filter.w1.(2, 4, 512, 512)\",\"orientation\":\"v\",\"showlegend\":true,\"textposition\":\"auto\",\"x\":[\"blocks\"],\"xaxis\":\"x\",\"y\":[2097152],\"yaxis\":\"y\",\"type\":\"bar\"},{\"alignmentgroup\":\"True\",\"hovertemplate\":\"layer=blocks.3.filter.b1.(2, 4, 512)<br>block=%{x}<br>Log10_ParaM=%{y}<extra></extra>\",\"legendgroup\":\"blocks.3.filter.b1.(2, 4, 512)\",\"marker\":{\"color\":\"#B6E880\",\"pattern\":{\"shape\":\"\"}},\"name\":\"blocks.3.filter.b1.(2, 4, 512)\",\"offsetgroup\":\"blocks.3.filter.b1.(2, 4, 512)\",\"orientation\":\"v\",\"showlegend\":true,\"textposition\":\"auto\",\"x\":[\"blocks\"],\"xaxis\":\"x\",\"y\":[4096],\"yaxis\":\"y\",\"type\":\"bar\"},{\"alignmentgroup\":\"True\",\"hovertemplate\":\"layer=blocks.3.filter.w2.(2, 4, 512, 512)<br>block=%{x}<br>Log10_ParaM=%{y}<extra></extra>\",\"legendgroup\":\"blocks.3.filter.w2.(2, 4, 512, 512)\",\"marker\":{\"color\":\"#FF97FF\",\"pattern\":{\"shape\":\"\"}},\"name\":\"blocks.3.filter.w2.(2, 4, 512, 512)\",\"offsetgroup\":\"blocks.3.filter.w2.(2, 4, 512, 512)\",\"orientation\":\"v\",\"showlegend\":true,\"textposition\":\"auto\",\"x\":[\"blocks\"],\"xaxis\":\"x\",\"y\":[2097152],\"yaxis\":\"y\",\"type\":\"bar\"},{\"alignmentgroup\":\"True\",\"hovertemplate\":\"layer=blocks.3.filter.b2.(2, 4, 512)<br>block=%{x}<br>Log10_ParaM=%{y}<extra></extra>\",\"legendgroup\":\"blocks.3.filter.b2.(2, 4, 512)\",\"marker\":{\"color\":\"#FECB52\",\"pattern\":{\"shape\":\"\"}},\"name\":\"blocks.3.filter.b2.(2, 4, 512)\",\"offsetgroup\":\"blocks.3.filter.b2.(2, 4, 512)\",\"orientation\":\"v\",\"showlegend\":true,\"textposition\":\"auto\",\"x\":[\"blocks\"],\"xaxis\":\"x\",\"y\":[4096],\"yaxis\":\"y\",\"type\":\"bar\"},{\"alignmentgroup\":\"True\",\"hovertemplate\":\"layer=blocks.3.norm2.weight.(2048,)<br>block=%{x}<br>Log10_ParaM=%{y}<extra></extra>\",\"legendgroup\":\"blocks.3.norm2.weight.(2048,)\",\"marker\":{\"color\":\"#636efa\",\"pattern\":{\"shape\":\"\"}},\"name\":\"blocks.3.norm2.weight.(2048,)\",\"offsetgroup\":\"blocks.3.norm2.weight.(2048,)\",\"orientation\":\"v\",\"showlegend\":true,\"textposition\":\"auto\",\"x\":[\"blocks\"],\"xaxis\":\"x\",\"y\":[2048],\"yaxis\":\"y\",\"type\":\"bar\"},{\"alignmentgroup\":\"True\",\"hovertemplate\":\"layer=blocks.3.norm2.bias.(2048,)<br>block=%{x}<br>Log10_ParaM=%{y}<extra></extra>\",\"legendgroup\":\"blocks.3.norm2.bias.(2048,)\",\"marker\":{\"color\":\"#EF553B\",\"pattern\":{\"shape\":\"\"}},\"name\":\"blocks.3.norm2.bias.(2048,)\",\"offsetgroup\":\"blocks.3.norm2.bias.(2048,)\",\"orientation\":\"v\",\"showlegend\":true,\"textposition\":\"auto\",\"x\":[\"blocks\"],\"xaxis\":\"x\",\"y\":[2048],\"yaxis\":\"y\",\"type\":\"bar\"},{\"alignmentgroup\":\"True\",\"hovertemplate\":\"layer=blocks.3.mlp.fc1.weight.(8192, 2048)<br>block=%{x}<br>Log10_ParaM=%{y}<extra></extra>\",\"legendgroup\":\"blocks.3.mlp.fc1.weight.(8192, 2048)\",\"marker\":{\"color\":\"#00cc96\",\"pattern\":{\"shape\":\"\"}},\"name\":\"blocks.3.mlp.fc1.weight.(8192, 2048)\",\"offsetgroup\":\"blocks.3.mlp.fc1.weight.(8192, 2048)\",\"orientation\":\"v\",\"showlegend\":true,\"textposition\":\"auto\",\"x\":[\"blocks\"],\"xaxis\":\"x\",\"y\":[16777216],\"yaxis\":\"y\",\"type\":\"bar\"},{\"alignmentgroup\":\"True\",\"hovertemplate\":\"layer=blocks.3.mlp.fc1.bias.(8192,)<br>block=%{x}<br>Log10_ParaM=%{y}<extra></extra>\",\"legendgroup\":\"blocks.3.mlp.fc1.bias.(8192,)\",\"marker\":{\"color\":\"#ab63fa\",\"pattern\":{\"shape\":\"\"}},\"name\":\"blocks.3.mlp.fc1.bias.(8192,)\",\"offsetgroup\":\"blocks.3.mlp.fc1.bias.(8192,)\",\"orientation\":\"v\",\"showlegend\":true,\"textposition\":\"auto\",\"x\":[\"blocks\"],\"xaxis\":\"x\",\"y\":[8192],\"yaxis\":\"y\",\"type\":\"bar\"},{\"alignmentgroup\":\"True\",\"hovertemplate\":\"layer=blocks.4.norm1.weight.(2048,)<br>block=%{x}<br>Log10_ParaM=%{y}<extra></extra>\",\"legendgroup\":\"blocks.4.norm1.weight.(2048,)\",\"marker\":{\"color\":\"#FFA15A\",\"pattern\":{\"shape\":\"\"}},\"name\":\"blocks.4.norm1.weight.(2048,)\",\"offsetgroup\":\"blocks.4.norm1.weight.(2048,)\",\"orientation\":\"v\",\"showlegend\":true,\"textposition\":\"auto\",\"x\":[\"blocks\"],\"xaxis\":\"x\",\"y\":[2048],\"yaxis\":\"y\",\"type\":\"bar\"},{\"alignmentgroup\":\"True\",\"hovertemplate\":\"layer=blocks.4.norm1.bias.(2048,)<br>block=%{x}<br>Log10_ParaM=%{y}<extra></extra>\",\"legendgroup\":\"blocks.4.norm1.bias.(2048,)\",\"marker\":{\"color\":\"#19d3f3\",\"pattern\":{\"shape\":\"\"}},\"name\":\"blocks.4.norm1.bias.(2048,)\",\"offsetgroup\":\"blocks.4.norm1.bias.(2048,)\",\"orientation\":\"v\",\"showlegend\":true,\"textposition\":\"auto\",\"x\":[\"blocks\"],\"xaxis\":\"x\",\"y\":[2048],\"yaxis\":\"y\",\"type\":\"bar\"},{\"alignmentgroup\":\"True\",\"hovertemplate\":\"layer=blocks.4.filter.w1.(2, 4, 512, 512)<br>block=%{x}<br>Log10_ParaM=%{y}<extra></extra>\",\"legendgroup\":\"blocks.4.filter.w1.(2, 4, 512, 512)\",\"marker\":{\"color\":\"#FF6692\",\"pattern\":{\"shape\":\"\"}},\"name\":\"blocks.4.filter.w1.(2, 4, 512, 512)\",\"offsetgroup\":\"blocks.4.filter.w1.(2, 4, 512, 512)\",\"orientation\":\"v\",\"showlegend\":true,\"textposition\":\"auto\",\"x\":[\"blocks\"],\"xaxis\":\"x\",\"y\":[2097152],\"yaxis\":\"y\",\"type\":\"bar\"},{\"alignmentgroup\":\"True\",\"hovertemplate\":\"layer=blocks.4.filter.b1.(2, 4, 512)<br>block=%{x}<br>Log10_ParaM=%{y}<extra></extra>\",\"legendgroup\":\"blocks.4.filter.b1.(2, 4, 512)\",\"marker\":{\"color\":\"#B6E880\",\"pattern\":{\"shape\":\"\"}},\"name\":\"blocks.4.filter.b1.(2, 4, 512)\",\"offsetgroup\":\"blocks.4.filter.b1.(2, 4, 512)\",\"orientation\":\"v\",\"showlegend\":true,\"textposition\":\"auto\",\"x\":[\"blocks\"],\"xaxis\":\"x\",\"y\":[4096],\"yaxis\":\"y\",\"type\":\"bar\"},{\"alignmentgroup\":\"True\",\"hovertemplate\":\"layer=blocks.4.filter.w2.(2, 4, 512, 512)<br>block=%{x}<br>Log10_ParaM=%{y}<extra></extra>\",\"legendgroup\":\"blocks.4.filter.w2.(2, 4, 512, 512)\",\"marker\":{\"color\":\"#FF97FF\",\"pattern\":{\"shape\":\"\"}},\"name\":\"blocks.4.filter.w2.(2, 4, 512, 512)\",\"offsetgroup\":\"blocks.4.filter.w2.(2, 4, 512, 512)\",\"orientation\":\"v\",\"showlegend\":true,\"textposition\":\"auto\",\"x\":[\"blocks\"],\"xaxis\":\"x\",\"y\":[2097152],\"yaxis\":\"y\",\"type\":\"bar\"},{\"alignmentgroup\":\"True\",\"hovertemplate\":\"layer=blocks.4.filter.b2.(2, 4, 512)<br>block=%{x}<br>Log10_ParaM=%{y}<extra></extra>\",\"legendgroup\":\"blocks.4.filter.b2.(2, 4, 512)\",\"marker\":{\"color\":\"#FECB52\",\"pattern\":{\"shape\":\"\"}},\"name\":\"blocks.4.filter.b2.(2, 4, 512)\",\"offsetgroup\":\"blocks.4.filter.b2.(2, 4, 512)\",\"orientation\":\"v\",\"showlegend\":true,\"textposition\":\"auto\",\"x\":[\"blocks\"],\"xaxis\":\"x\",\"y\":[4096],\"yaxis\":\"y\",\"type\":\"bar\"},{\"alignmentgroup\":\"True\",\"hovertemplate\":\"layer=blocks.4.norm2.weight.(2048,)<br>block=%{x}<br>Log10_ParaM=%{y}<extra></extra>\",\"legendgroup\":\"blocks.4.norm2.weight.(2048,)\",\"marker\":{\"color\":\"#636efa\",\"pattern\":{\"shape\":\"\"}},\"name\":\"blocks.4.norm2.weight.(2048,)\",\"offsetgroup\":\"blocks.4.norm2.weight.(2048,)\",\"orientation\":\"v\",\"showlegend\":true,\"textposition\":\"auto\",\"x\":[\"blocks\"],\"xaxis\":\"x\",\"y\":[2048],\"yaxis\":\"y\",\"type\":\"bar\"},{\"alignmentgroup\":\"True\",\"hovertemplate\":\"layer=blocks.4.norm2.bias.(2048,)<br>block=%{x}<br>Log10_ParaM=%{y}<extra></extra>\",\"legendgroup\":\"blocks.4.norm2.bias.(2048,)\",\"marker\":{\"color\":\"#EF553B\",\"pattern\":{\"shape\":\"\"}},\"name\":\"blocks.4.norm2.bias.(2048,)\",\"offsetgroup\":\"blocks.4.norm2.bias.(2048,)\",\"orientation\":\"v\",\"showlegend\":true,\"textposition\":\"auto\",\"x\":[\"blocks\"],\"xaxis\":\"x\",\"y\":[2048],\"yaxis\":\"y\",\"type\":\"bar\"},{\"alignmentgroup\":\"True\",\"hovertemplate\":\"layer=blocks.4.mlp.fc1.weight.(8192, 2048)<br>block=%{x}<br>Log10_ParaM=%{y}<extra></extra>\",\"legendgroup\":\"blocks.4.mlp.fc1.weight.(8192, 2048)\",\"marker\":{\"color\":\"#00cc96\",\"pattern\":{\"shape\":\"\"}},\"name\":\"blocks.4.mlp.fc1.weight.(8192, 2048)\",\"offsetgroup\":\"blocks.4.mlp.fc1.weight.(8192, 2048)\",\"orientation\":\"v\",\"showlegend\":true,\"textposition\":\"auto\",\"x\":[\"blocks\"],\"xaxis\":\"x\",\"y\":[16777216],\"yaxis\":\"y\",\"type\":\"bar\"},{\"alignmentgroup\":\"True\",\"hovertemplate\":\"layer=blocks.4.mlp.fc1.bias.(8192,)<br>block=%{x}<br>Log10_ParaM=%{y}<extra></extra>\",\"legendgroup\":\"blocks.4.mlp.fc1.bias.(8192,)\",\"marker\":{\"color\":\"#ab63fa\",\"pattern\":{\"shape\":\"\"}},\"name\":\"blocks.4.mlp.fc1.bias.(8192,)\",\"offsetgroup\":\"blocks.4.mlp.fc1.bias.(8192,)\",\"orientation\":\"v\",\"showlegend\":true,\"textposition\":\"auto\",\"x\":[\"blocks\"],\"xaxis\":\"x\",\"y\":[8192],\"yaxis\":\"y\",\"type\":\"bar\"},{\"alignmentgroup\":\"True\",\"hovertemplate\":\"layer=blocks.5.norm1.weight.(2048,)<br>block=%{x}<br>Log10_ParaM=%{y}<extra></extra>\",\"legendgroup\":\"blocks.5.norm1.weight.(2048,)\",\"marker\":{\"color\":\"#FFA15A\",\"pattern\":{\"shape\":\"\"}},\"name\":\"blocks.5.norm1.weight.(2048,)\",\"offsetgroup\":\"blocks.5.norm1.weight.(2048,)\",\"orientation\":\"v\",\"showlegend\":true,\"textposition\":\"auto\",\"x\":[\"blocks\"],\"xaxis\":\"x\",\"y\":[2048],\"yaxis\":\"y\",\"type\":\"bar\"},{\"alignmentgroup\":\"True\",\"hovertemplate\":\"layer=blocks.5.norm1.bias.(2048,)<br>block=%{x}<br>Log10_ParaM=%{y}<extra></extra>\",\"legendgroup\":\"blocks.5.norm1.bias.(2048,)\",\"marker\":{\"color\":\"#19d3f3\",\"pattern\":{\"shape\":\"\"}},\"name\":\"blocks.5.norm1.bias.(2048,)\",\"offsetgroup\":\"blocks.5.norm1.bias.(2048,)\",\"orientation\":\"v\",\"showlegend\":true,\"textposition\":\"auto\",\"x\":[\"blocks\"],\"xaxis\":\"x\",\"y\":[2048],\"yaxis\":\"y\",\"type\":\"bar\"},{\"alignmentgroup\":\"True\",\"hovertemplate\":\"layer=blocks.5.filter.w1.(2, 4, 512, 512)<br>block=%{x}<br>Log10_ParaM=%{y}<extra></extra>\",\"legendgroup\":\"blocks.5.filter.w1.(2, 4, 512, 512)\",\"marker\":{\"color\":\"#FF6692\",\"pattern\":{\"shape\":\"\"}},\"name\":\"blocks.5.filter.w1.(2, 4, 512, 512)\",\"offsetgroup\":\"blocks.5.filter.w1.(2, 4, 512, 512)\",\"orientation\":\"v\",\"showlegend\":true,\"textposition\":\"auto\",\"x\":[\"blocks\"],\"xaxis\":\"x\",\"y\":[2097152],\"yaxis\":\"y\",\"type\":\"bar\"},{\"alignmentgroup\":\"True\",\"hovertemplate\":\"layer=blocks.5.filter.b1.(2, 4, 512)<br>block=%{x}<br>Log10_ParaM=%{y}<extra></extra>\",\"legendgroup\":\"blocks.5.filter.b1.(2, 4, 512)\",\"marker\":{\"color\":\"#B6E880\",\"pattern\":{\"shape\":\"\"}},\"name\":\"blocks.5.filter.b1.(2, 4, 512)\",\"offsetgroup\":\"blocks.5.filter.b1.(2, 4, 512)\",\"orientation\":\"v\",\"showlegend\":true,\"textposition\":\"auto\",\"x\":[\"blocks\"],\"xaxis\":\"x\",\"y\":[4096],\"yaxis\":\"y\",\"type\":\"bar\"},{\"alignmentgroup\":\"True\",\"hovertemplate\":\"layer=blocks.5.filter.w2.(2, 4, 512, 512)<br>block=%{x}<br>Log10_ParaM=%{y}<extra></extra>\",\"legendgroup\":\"blocks.5.filter.w2.(2, 4, 512, 512)\",\"marker\":{\"color\":\"#FF97FF\",\"pattern\":{\"shape\":\"\"}},\"name\":\"blocks.5.filter.w2.(2, 4, 512, 512)\",\"offsetgroup\":\"blocks.5.filter.w2.(2, 4, 512, 512)\",\"orientation\":\"v\",\"showlegend\":true,\"textposition\":\"auto\",\"x\":[\"blocks\"],\"xaxis\":\"x\",\"y\":[2097152],\"yaxis\":\"y\",\"type\":\"bar\"},{\"alignmentgroup\":\"True\",\"hovertemplate\":\"layer=blocks.5.filter.b2.(2, 4, 512)<br>block=%{x}<br>Log10_ParaM=%{y}<extra></extra>\",\"legendgroup\":\"blocks.5.filter.b2.(2, 4, 512)\",\"marker\":{\"color\":\"#FECB52\",\"pattern\":{\"shape\":\"\"}},\"name\":\"blocks.5.filter.b2.(2, 4, 512)\",\"offsetgroup\":\"blocks.5.filter.b2.(2, 4, 512)\",\"orientation\":\"v\",\"showlegend\":true,\"textposition\":\"auto\",\"x\":[\"blocks\"],\"xaxis\":\"x\",\"y\":[4096],\"yaxis\":\"y\",\"type\":\"bar\"},{\"alignmentgroup\":\"True\",\"hovertemplate\":\"layer=blocks.5.norm2.weight.(2048,)<br>block=%{x}<br>Log10_ParaM=%{y}<extra></extra>\",\"legendgroup\":\"blocks.5.norm2.weight.(2048,)\",\"marker\":{\"color\":\"#636efa\",\"pattern\":{\"shape\":\"\"}},\"name\":\"blocks.5.norm2.weight.(2048,)\",\"offsetgroup\":\"blocks.5.norm2.weight.(2048,)\",\"orientation\":\"v\",\"showlegend\":true,\"textposition\":\"auto\",\"x\":[\"blocks\"],\"xaxis\":\"x\",\"y\":[2048],\"yaxis\":\"y\",\"type\":\"bar\"},{\"alignmentgroup\":\"True\",\"hovertemplate\":\"layer=blocks.5.norm2.bias.(2048,)<br>block=%{x}<br>Log10_ParaM=%{y}<extra></extra>\",\"legendgroup\":\"blocks.5.norm2.bias.(2048,)\",\"marker\":{\"color\":\"#EF553B\",\"pattern\":{\"shape\":\"\"}},\"name\":\"blocks.5.norm2.bias.(2048,)\",\"offsetgroup\":\"blocks.5.norm2.bias.(2048,)\",\"orientation\":\"v\",\"showlegend\":true,\"textposition\":\"auto\",\"x\":[\"blocks\"],\"xaxis\":\"x\",\"y\":[2048],\"yaxis\":\"y\",\"type\":\"bar\"},{\"alignmentgroup\":\"True\",\"hovertemplate\":\"layer=blocks.5.mlp.fc1.weight.(8192, 2048)<br>block=%{x}<br>Log10_ParaM=%{y}<extra></extra>\",\"legendgroup\":\"blocks.5.mlp.fc1.weight.(8192, 2048)\",\"marker\":{\"color\":\"#00cc96\",\"pattern\":{\"shape\":\"\"}},\"name\":\"blocks.5.mlp.fc1.weight.(8192, 2048)\",\"offsetgroup\":\"blocks.5.mlp.fc1.weight.(8192, 2048)\",\"orientation\":\"v\",\"showlegend\":true,\"textposition\":\"auto\",\"x\":[\"blocks\"],\"xaxis\":\"x\",\"y\":[16777216],\"yaxis\":\"y\",\"type\":\"bar\"},{\"alignmentgroup\":\"True\",\"hovertemplate\":\"layer=blocks.5.mlp.fc1.bias.(8192,)<br>block=%{x}<br>Log10_ParaM=%{y}<extra></extra>\",\"legendgroup\":\"blocks.5.mlp.fc1.bias.(8192,)\",\"marker\":{\"color\":\"#ab63fa\",\"pattern\":{\"shape\":\"\"}},\"name\":\"blocks.5.mlp.fc1.bias.(8192,)\",\"offsetgroup\":\"blocks.5.mlp.fc1.bias.(8192,)\",\"orientation\":\"v\",\"showlegend\":true,\"textposition\":\"auto\",\"x\":[\"blocks\"],\"xaxis\":\"x\",\"y\":[8192],\"yaxis\":\"y\",\"type\":\"bar\"},{\"alignmentgroup\":\"True\",\"hovertemplate\":\"layer=blocks.6.norm1.weight.(2048,)<br>block=%{x}<br>Log10_ParaM=%{y}<extra></extra>\",\"legendgroup\":\"blocks.6.norm1.weight.(2048,)\",\"marker\":{\"color\":\"#FFA15A\",\"pattern\":{\"shape\":\"\"}},\"name\":\"blocks.6.norm1.weight.(2048,)\",\"offsetgroup\":\"blocks.6.norm1.weight.(2048,)\",\"orientation\":\"v\",\"showlegend\":true,\"textposition\":\"auto\",\"x\":[\"blocks\"],\"xaxis\":\"x\",\"y\":[2048],\"yaxis\":\"y\",\"type\":\"bar\"},{\"alignmentgroup\":\"True\",\"hovertemplate\":\"layer=blocks.6.norm1.bias.(2048,)<br>block=%{x}<br>Log10_ParaM=%{y}<extra></extra>\",\"legendgroup\":\"blocks.6.norm1.bias.(2048,)\",\"marker\":{\"color\":\"#19d3f3\",\"pattern\":{\"shape\":\"\"}},\"name\":\"blocks.6.norm1.bias.(2048,)\",\"offsetgroup\":\"blocks.6.norm1.bias.(2048,)\",\"orientation\":\"v\",\"showlegend\":true,\"textposition\":\"auto\",\"x\":[\"blocks\"],\"xaxis\":\"x\",\"y\":[2048],\"yaxis\":\"y\",\"type\":\"bar\"},{\"alignmentgroup\":\"True\",\"hovertemplate\":\"layer=blocks.6.filter.w1.(2, 4, 512, 512)<br>block=%{x}<br>Log10_ParaM=%{y}<extra></extra>\",\"legendgroup\":\"blocks.6.filter.w1.(2, 4, 512, 512)\",\"marker\":{\"color\":\"#FF6692\",\"pattern\":{\"shape\":\"\"}},\"name\":\"blocks.6.filter.w1.(2, 4, 512, 512)\",\"offsetgroup\":\"blocks.6.filter.w1.(2, 4, 512, 512)\",\"orientation\":\"v\",\"showlegend\":true,\"textposition\":\"auto\",\"x\":[\"blocks\"],\"xaxis\":\"x\",\"y\":[2097152],\"yaxis\":\"y\",\"type\":\"bar\"},{\"alignmentgroup\":\"True\",\"hovertemplate\":\"layer=blocks.6.filter.b1.(2, 4, 512)<br>block=%{x}<br>Log10_ParaM=%{y}<extra></extra>\",\"legendgroup\":\"blocks.6.filter.b1.(2, 4, 512)\",\"marker\":{\"color\":\"#B6E880\",\"pattern\":{\"shape\":\"\"}},\"name\":\"blocks.6.filter.b1.(2, 4, 512)\",\"offsetgroup\":\"blocks.6.filter.b1.(2, 4, 512)\",\"orientation\":\"v\",\"showlegend\":true,\"textposition\":\"auto\",\"x\":[\"blocks\"],\"xaxis\":\"x\",\"y\":[4096],\"yaxis\":\"y\",\"type\":\"bar\"},{\"alignmentgroup\":\"True\",\"hovertemplate\":\"layer=blocks.6.filter.w2.(2, 4, 512, 512)<br>block=%{x}<br>Log10_ParaM=%{y}<extra></extra>\",\"legendgroup\":\"blocks.6.filter.w2.(2, 4, 512, 512)\",\"marker\":{\"color\":\"#FF97FF\",\"pattern\":{\"shape\":\"\"}},\"name\":\"blocks.6.filter.w2.(2, 4, 512, 512)\",\"offsetgroup\":\"blocks.6.filter.w2.(2, 4, 512, 512)\",\"orientation\":\"v\",\"showlegend\":true,\"textposition\":\"auto\",\"x\":[\"blocks\"],\"xaxis\":\"x\",\"y\":[2097152],\"yaxis\":\"y\",\"type\":\"bar\"},{\"alignmentgroup\":\"True\",\"hovertemplate\":\"layer=blocks.6.filter.b2.(2, 4, 512)<br>block=%{x}<br>Log10_ParaM=%{y}<extra></extra>\",\"legendgroup\":\"blocks.6.filter.b2.(2, 4, 512)\",\"marker\":{\"color\":\"#FECB52\",\"pattern\":{\"shape\":\"\"}},\"name\":\"blocks.6.filter.b2.(2, 4, 512)\",\"offsetgroup\":\"blocks.6.filter.b2.(2, 4, 512)\",\"orientation\":\"v\",\"showlegend\":true,\"textposition\":\"auto\",\"x\":[\"blocks\"],\"xaxis\":\"x\",\"y\":[4096],\"yaxis\":\"y\",\"type\":\"bar\"},{\"alignmentgroup\":\"True\",\"hovertemplate\":\"layer=blocks.6.norm2.weight.(2048,)<br>block=%{x}<br>Log10_ParaM=%{y}<extra></extra>\",\"legendgroup\":\"blocks.6.norm2.weight.(2048,)\",\"marker\":{\"color\":\"#636efa\",\"pattern\":{\"shape\":\"\"}},\"name\":\"blocks.6.norm2.weight.(2048,)\",\"offsetgroup\":\"blocks.6.norm2.weight.(2048,)\",\"orientation\":\"v\",\"showlegend\":true,\"textposition\":\"auto\",\"x\":[\"blocks\"],\"xaxis\":\"x\",\"y\":[2048],\"yaxis\":\"y\",\"type\":\"bar\"},{\"alignmentgroup\":\"True\",\"hovertemplate\":\"layer=blocks.6.norm2.bias.(2048,)<br>block=%{x}<br>Log10_ParaM=%{y}<extra></extra>\",\"legendgroup\":\"blocks.6.norm2.bias.(2048,)\",\"marker\":{\"color\":\"#EF553B\",\"pattern\":{\"shape\":\"\"}},\"name\":\"blocks.6.norm2.bias.(2048,)\",\"offsetgroup\":\"blocks.6.norm2.bias.(2048,)\",\"orientation\":\"v\",\"showlegend\":true,\"textposition\":\"auto\",\"x\":[\"blocks\"],\"xaxis\":\"x\",\"y\":[2048],\"yaxis\":\"y\",\"type\":\"bar\"},{\"alignmentgroup\":\"True\",\"hovertemplate\":\"layer=blocks.6.mlp.fc1.weight.(8192, 2048)<br>block=%{x}<br>Log10_ParaM=%{y}<extra></extra>\",\"legendgroup\":\"blocks.6.mlp.fc1.weight.(8192, 2048)\",\"marker\":{\"color\":\"#00cc96\",\"pattern\":{\"shape\":\"\"}},\"name\":\"blocks.6.mlp.fc1.weight.(8192, 2048)\",\"offsetgroup\":\"blocks.6.mlp.fc1.weight.(8192, 2048)\",\"orientation\":\"v\",\"showlegend\":true,\"textposition\":\"auto\",\"x\":[\"blocks\"],\"xaxis\":\"x\",\"y\":[16777216],\"yaxis\":\"y\",\"type\":\"bar\"},{\"alignmentgroup\":\"True\",\"hovertemplate\":\"layer=blocks.6.mlp.fc1.bias.(8192,)<br>block=%{x}<br>Log10_ParaM=%{y}<extra></extra>\",\"legendgroup\":\"blocks.6.mlp.fc1.bias.(8192,)\",\"marker\":{\"color\":\"#ab63fa\",\"pattern\":{\"shape\":\"\"}},\"name\":\"blocks.6.mlp.fc1.bias.(8192,)\",\"offsetgroup\":\"blocks.6.mlp.fc1.bias.(8192,)\",\"orientation\":\"v\",\"showlegend\":true,\"textposition\":\"auto\",\"x\":[\"blocks\"],\"xaxis\":\"x\",\"y\":[8192],\"yaxis\":\"y\",\"type\":\"bar\"},{\"alignmentgroup\":\"True\",\"hovertemplate\":\"layer=blocks.7.norm1.weight.(2048,)<br>block=%{x}<br>Log10_ParaM=%{y}<extra></extra>\",\"legendgroup\":\"blocks.7.norm1.weight.(2048,)\",\"marker\":{\"color\":\"#FFA15A\",\"pattern\":{\"shape\":\"\"}},\"name\":\"blocks.7.norm1.weight.(2048,)\",\"offsetgroup\":\"blocks.7.norm1.weight.(2048,)\",\"orientation\":\"v\",\"showlegend\":true,\"textposition\":\"auto\",\"x\":[\"blocks\"],\"xaxis\":\"x\",\"y\":[2048],\"yaxis\":\"y\",\"type\":\"bar\"},{\"alignmentgroup\":\"True\",\"hovertemplate\":\"layer=blocks.7.norm1.bias.(2048,)<br>block=%{x}<br>Log10_ParaM=%{y}<extra></extra>\",\"legendgroup\":\"blocks.7.norm1.bias.(2048,)\",\"marker\":{\"color\":\"#19d3f3\",\"pattern\":{\"shape\":\"\"}},\"name\":\"blocks.7.norm1.bias.(2048,)\",\"offsetgroup\":\"blocks.7.norm1.bias.(2048,)\",\"orientation\":\"v\",\"showlegend\":true,\"textposition\":\"auto\",\"x\":[\"blocks\"],\"xaxis\":\"x\",\"y\":[2048],\"yaxis\":\"y\",\"type\":\"bar\"},{\"alignmentgroup\":\"True\",\"hovertemplate\":\"layer=blocks.7.filter.w1.(2, 4, 512, 512)<br>block=%{x}<br>Log10_ParaM=%{y}<extra></extra>\",\"legendgroup\":\"blocks.7.filter.w1.(2, 4, 512, 512)\",\"marker\":{\"color\":\"#FF6692\",\"pattern\":{\"shape\":\"\"}},\"name\":\"blocks.7.filter.w1.(2, 4, 512, 512)\",\"offsetgroup\":\"blocks.7.filter.w1.(2, 4, 512, 512)\",\"orientation\":\"v\",\"showlegend\":true,\"textposition\":\"auto\",\"x\":[\"blocks\"],\"xaxis\":\"x\",\"y\":[2097152],\"yaxis\":\"y\",\"type\":\"bar\"},{\"alignmentgroup\":\"True\",\"hovertemplate\":\"layer=blocks.7.filter.b1.(2, 4, 512)<br>block=%{x}<br>Log10_ParaM=%{y}<extra></extra>\",\"legendgroup\":\"blocks.7.filter.b1.(2, 4, 512)\",\"marker\":{\"color\":\"#B6E880\",\"pattern\":{\"shape\":\"\"}},\"name\":\"blocks.7.filter.b1.(2, 4, 512)\",\"offsetgroup\":\"blocks.7.filter.b1.(2, 4, 512)\",\"orientation\":\"v\",\"showlegend\":true,\"textposition\":\"auto\",\"x\":[\"blocks\"],\"xaxis\":\"x\",\"y\":[4096],\"yaxis\":\"y\",\"type\":\"bar\"},{\"alignmentgroup\":\"True\",\"hovertemplate\":\"layer=blocks.7.filter.w2.(2, 4, 512, 512)<br>block=%{x}<br>Log10_ParaM=%{y}<extra></extra>\",\"legendgroup\":\"blocks.7.filter.w2.(2, 4, 512, 512)\",\"marker\":{\"color\":\"#FF97FF\",\"pattern\":{\"shape\":\"\"}},\"name\":\"blocks.7.filter.w2.(2, 4, 512, 512)\",\"offsetgroup\":\"blocks.7.filter.w2.(2, 4, 512, 512)\",\"orientation\":\"v\",\"showlegend\":true,\"textposition\":\"auto\",\"x\":[\"blocks\"],\"xaxis\":\"x\",\"y\":[2097152],\"yaxis\":\"y\",\"type\":\"bar\"},{\"alignmentgroup\":\"True\",\"hovertemplate\":\"layer=blocks.7.filter.b2.(2, 4, 512)<br>block=%{x}<br>Log10_ParaM=%{y}<extra></extra>\",\"legendgroup\":\"blocks.7.filter.b2.(2, 4, 512)\",\"marker\":{\"color\":\"#FECB52\",\"pattern\":{\"shape\":\"\"}},\"name\":\"blocks.7.filter.b2.(2, 4, 512)\",\"offsetgroup\":\"blocks.7.filter.b2.(2, 4, 512)\",\"orientation\":\"v\",\"showlegend\":true,\"textposition\":\"auto\",\"x\":[\"blocks\"],\"xaxis\":\"x\",\"y\":[4096],\"yaxis\":\"y\",\"type\":\"bar\"},{\"alignmentgroup\":\"True\",\"hovertemplate\":\"layer=blocks.7.norm2.weight.(2048,)<br>block=%{x}<br>Log10_ParaM=%{y}<extra></extra>\",\"legendgroup\":\"blocks.7.norm2.weight.(2048,)\",\"marker\":{\"color\":\"#636efa\",\"pattern\":{\"shape\":\"\"}},\"name\":\"blocks.7.norm2.weight.(2048,)\",\"offsetgroup\":\"blocks.7.norm2.weight.(2048,)\",\"orientation\":\"v\",\"showlegend\":true,\"textposition\":\"auto\",\"x\":[\"blocks\"],\"xaxis\":\"x\",\"y\":[2048],\"yaxis\":\"y\",\"type\":\"bar\"},{\"alignmentgroup\":\"True\",\"hovertemplate\":\"layer=blocks.7.norm2.bias.(2048,)<br>block=%{x}<br>Log10_ParaM=%{y}<extra></extra>\",\"legendgroup\":\"blocks.7.norm2.bias.(2048,)\",\"marker\":{\"color\":\"#EF553B\",\"pattern\":{\"shape\":\"\"}},\"name\":\"blocks.7.norm2.bias.(2048,)\",\"offsetgroup\":\"blocks.7.norm2.bias.(2048,)\",\"orientation\":\"v\",\"showlegend\":true,\"textposition\":\"auto\",\"x\":[\"blocks\"],\"xaxis\":\"x\",\"y\":[2048],\"yaxis\":\"y\",\"type\":\"bar\"},{\"alignmentgroup\":\"True\",\"hovertemplate\":\"layer=blocks.7.mlp.fc1.weight.(8192, 2048)<br>block=%{x}<br>Log10_ParaM=%{y}<extra></extra>\",\"legendgroup\":\"blocks.7.mlp.fc1.weight.(8192, 2048)\",\"marker\":{\"color\":\"#00cc96\",\"pattern\":{\"shape\":\"\"}},\"name\":\"blocks.7.mlp.fc1.weight.(8192, 2048)\",\"offsetgroup\":\"blocks.7.mlp.fc1.weight.(8192, 2048)\",\"orientation\":\"v\",\"showlegend\":true,\"textposition\":\"auto\",\"x\":[\"blocks\"],\"xaxis\":\"x\",\"y\":[16777216],\"yaxis\":\"y\",\"type\":\"bar\"},{\"alignmentgroup\":\"True\",\"hovertemplate\":\"layer=blocks.7.mlp.fc1.bias.(8192,)<br>block=%{x}<br>Log10_ParaM=%{y}<extra></extra>\",\"legendgroup\":\"blocks.7.mlp.fc1.bias.(8192,)\",\"marker\":{\"color\":\"#ab63fa\",\"pattern\":{\"shape\":\"\"}},\"name\":\"blocks.7.mlp.fc1.bias.(8192,)\",\"offsetgroup\":\"blocks.7.mlp.fc1.bias.(8192,)\",\"orientation\":\"v\",\"showlegend\":true,\"textposition\":\"auto\",\"x\":[\"blocks\"],\"xaxis\":\"x\",\"y\":[8192],\"yaxis\":\"y\",\"type\":\"bar\"},{\"alignmentgroup\":\"True\",\"hovertemplate\":\"layer=blocks.8.norm1.weight.(2048,)<br>block=%{x}<br>Log10_ParaM=%{y}<extra></extra>\",\"legendgroup\":\"blocks.8.norm1.weight.(2048,)\",\"marker\":{\"color\":\"#FFA15A\",\"pattern\":{\"shape\":\"\"}},\"name\":\"blocks.8.norm1.weight.(2048,)\",\"offsetgroup\":\"blocks.8.norm1.weight.(2048,)\",\"orientation\":\"v\",\"showlegend\":true,\"textposition\":\"auto\",\"x\":[\"blocks\"],\"xaxis\":\"x\",\"y\":[2048],\"yaxis\":\"y\",\"type\":\"bar\"},{\"alignmentgroup\":\"True\",\"hovertemplate\":\"layer=blocks.8.norm1.bias.(2048,)<br>block=%{x}<br>Log10_ParaM=%{y}<extra></extra>\",\"legendgroup\":\"blocks.8.norm1.bias.(2048,)\",\"marker\":{\"color\":\"#19d3f3\",\"pattern\":{\"shape\":\"\"}},\"name\":\"blocks.8.norm1.bias.(2048,)\",\"offsetgroup\":\"blocks.8.norm1.bias.(2048,)\",\"orientation\":\"v\",\"showlegend\":true,\"textposition\":\"auto\",\"x\":[\"blocks\"],\"xaxis\":\"x\",\"y\":[2048],\"yaxis\":\"y\",\"type\":\"bar\"},{\"alignmentgroup\":\"True\",\"hovertemplate\":\"layer=blocks.8.filter.w1.(2, 4, 512, 512)<br>block=%{x}<br>Log10_ParaM=%{y}<extra></extra>\",\"legendgroup\":\"blocks.8.filter.w1.(2, 4, 512, 512)\",\"marker\":{\"color\":\"#FF6692\",\"pattern\":{\"shape\":\"\"}},\"name\":\"blocks.8.filter.w1.(2, 4, 512, 512)\",\"offsetgroup\":\"blocks.8.filter.w1.(2, 4, 512, 512)\",\"orientation\":\"v\",\"showlegend\":true,\"textposition\":\"auto\",\"x\":[\"blocks\"],\"xaxis\":\"x\",\"y\":[2097152],\"yaxis\":\"y\",\"type\":\"bar\"},{\"alignmentgroup\":\"True\",\"hovertemplate\":\"layer=blocks.8.filter.b1.(2, 4, 512)<br>block=%{x}<br>Log10_ParaM=%{y}<extra></extra>\",\"legendgroup\":\"blocks.8.filter.b1.(2, 4, 512)\",\"marker\":{\"color\":\"#B6E880\",\"pattern\":{\"shape\":\"\"}},\"name\":\"blocks.8.filter.b1.(2, 4, 512)\",\"offsetgroup\":\"blocks.8.filter.b1.(2, 4, 512)\",\"orientation\":\"v\",\"showlegend\":true,\"textposition\":\"auto\",\"x\":[\"blocks\"],\"xaxis\":\"x\",\"y\":[4096],\"yaxis\":\"y\",\"type\":\"bar\"},{\"alignmentgroup\":\"True\",\"hovertemplate\":\"layer=blocks.8.filter.w2.(2, 4, 512, 512)<br>block=%{x}<br>Log10_ParaM=%{y}<extra></extra>\",\"legendgroup\":\"blocks.8.filter.w2.(2, 4, 512, 512)\",\"marker\":{\"color\":\"#FF97FF\",\"pattern\":{\"shape\":\"\"}},\"name\":\"blocks.8.filter.w2.(2, 4, 512, 512)\",\"offsetgroup\":\"blocks.8.filter.w2.(2, 4, 512, 512)\",\"orientation\":\"v\",\"showlegend\":true,\"textposition\":\"auto\",\"x\":[\"blocks\"],\"xaxis\":\"x\",\"y\":[2097152],\"yaxis\":\"y\",\"type\":\"bar\"},{\"alignmentgroup\":\"True\",\"hovertemplate\":\"layer=blocks.8.filter.b2.(2, 4, 512)<br>block=%{x}<br>Log10_ParaM=%{y}<extra></extra>\",\"legendgroup\":\"blocks.8.filter.b2.(2, 4, 512)\",\"marker\":{\"color\":\"#FECB52\",\"pattern\":{\"shape\":\"\"}},\"name\":\"blocks.8.filter.b2.(2, 4, 512)\",\"offsetgroup\":\"blocks.8.filter.b2.(2, 4, 512)\",\"orientation\":\"v\",\"showlegend\":true,\"textposition\":\"auto\",\"x\":[\"blocks\"],\"xaxis\":\"x\",\"y\":[4096],\"yaxis\":\"y\",\"type\":\"bar\"},{\"alignmentgroup\":\"True\",\"hovertemplate\":\"layer=blocks.8.norm2.weight.(2048,)<br>block=%{x}<br>Log10_ParaM=%{y}<extra></extra>\",\"legendgroup\":\"blocks.8.norm2.weight.(2048,)\",\"marker\":{\"color\":\"#636efa\",\"pattern\":{\"shape\":\"\"}},\"name\":\"blocks.8.norm2.weight.(2048,)\",\"offsetgroup\":\"blocks.8.norm2.weight.(2048,)\",\"orientation\":\"v\",\"showlegend\":true,\"textposition\":\"auto\",\"x\":[\"blocks\"],\"xaxis\":\"x\",\"y\":[2048],\"yaxis\":\"y\",\"type\":\"bar\"},{\"alignmentgroup\":\"True\",\"hovertemplate\":\"layer=blocks.8.norm2.bias.(2048,)<br>block=%{x}<br>Log10_ParaM=%{y}<extra></extra>\",\"legendgroup\":\"blocks.8.norm2.bias.(2048,)\",\"marker\":{\"color\":\"#EF553B\",\"pattern\":{\"shape\":\"\"}},\"name\":\"blocks.8.norm2.bias.(2048,)\",\"offsetgroup\":\"blocks.8.norm2.bias.(2048,)\",\"orientation\":\"v\",\"showlegend\":true,\"textposition\":\"auto\",\"x\":[\"blocks\"],\"xaxis\":\"x\",\"y\":[2048],\"yaxis\":\"y\",\"type\":\"bar\"},{\"alignmentgroup\":\"True\",\"hovertemplate\":\"layer=blocks.8.mlp.fc1.weight.(8192, 2048)<br>block=%{x}<br>Log10_ParaM=%{y}<extra></extra>\",\"legendgroup\":\"blocks.8.mlp.fc1.weight.(8192, 2048)\",\"marker\":{\"color\":\"#00cc96\",\"pattern\":{\"shape\":\"\"}},\"name\":\"blocks.8.mlp.fc1.weight.(8192, 2048)\",\"offsetgroup\":\"blocks.8.mlp.fc1.weight.(8192, 2048)\",\"orientation\":\"v\",\"showlegend\":true,\"textposition\":\"auto\",\"x\":[\"blocks\"],\"xaxis\":\"x\",\"y\":[16777216],\"yaxis\":\"y\",\"type\":\"bar\"},{\"alignmentgroup\":\"True\",\"hovertemplate\":\"layer=blocks.8.mlp.fc1.bias.(8192,)<br>block=%{x}<br>Log10_ParaM=%{y}<extra></extra>\",\"legendgroup\":\"blocks.8.mlp.fc1.bias.(8192,)\",\"marker\":{\"color\":\"#ab63fa\",\"pattern\":{\"shape\":\"\"}},\"name\":\"blocks.8.mlp.fc1.bias.(8192,)\",\"offsetgroup\":\"blocks.8.mlp.fc1.bias.(8192,)\",\"orientation\":\"v\",\"showlegend\":true,\"textposition\":\"auto\",\"x\":[\"blocks\"],\"xaxis\":\"x\",\"y\":[8192],\"yaxis\":\"y\",\"type\":\"bar\"},{\"alignmentgroup\":\"True\",\"hovertemplate\":\"layer=blocks.9.norm1.weight.(2048,)<br>block=%{x}<br>Log10_ParaM=%{y}<extra></extra>\",\"legendgroup\":\"blocks.9.norm1.weight.(2048,)\",\"marker\":{\"color\":\"#FFA15A\",\"pattern\":{\"shape\":\"\"}},\"name\":\"blocks.9.norm1.weight.(2048,)\",\"offsetgroup\":\"blocks.9.norm1.weight.(2048,)\",\"orientation\":\"v\",\"showlegend\":true,\"textposition\":\"auto\",\"x\":[\"blocks\"],\"xaxis\":\"x\",\"y\":[2048],\"yaxis\":\"y\",\"type\":\"bar\"},{\"alignmentgroup\":\"True\",\"hovertemplate\":\"layer=blocks.9.norm1.bias.(2048,)<br>block=%{x}<br>Log10_ParaM=%{y}<extra></extra>\",\"legendgroup\":\"blocks.9.norm1.bias.(2048,)\",\"marker\":{\"color\":\"#19d3f3\",\"pattern\":{\"shape\":\"\"}},\"name\":\"blocks.9.norm1.bias.(2048,)\",\"offsetgroup\":\"blocks.9.norm1.bias.(2048,)\",\"orientation\":\"v\",\"showlegend\":true,\"textposition\":\"auto\",\"x\":[\"blocks\"],\"xaxis\":\"x\",\"y\":[2048],\"yaxis\":\"y\",\"type\":\"bar\"},{\"alignmentgroup\":\"True\",\"hovertemplate\":\"layer=blocks.9.filter.w1.(2, 4, 512, 512)<br>block=%{x}<br>Log10_ParaM=%{y}<extra></extra>\",\"legendgroup\":\"blocks.9.filter.w1.(2, 4, 512, 512)\",\"marker\":{\"color\":\"#FF6692\",\"pattern\":{\"shape\":\"\"}},\"name\":\"blocks.9.filter.w1.(2, 4, 512, 512)\",\"offsetgroup\":\"blocks.9.filter.w1.(2, 4, 512, 512)\",\"orientation\":\"v\",\"showlegend\":true,\"textposition\":\"auto\",\"x\":[\"blocks\"],\"xaxis\":\"x\",\"y\":[2097152],\"yaxis\":\"y\",\"type\":\"bar\"},{\"alignmentgroup\":\"True\",\"hovertemplate\":\"layer=blocks.9.filter.b1.(2, 4, 512)<br>block=%{x}<br>Log10_ParaM=%{y}<extra></extra>\",\"legendgroup\":\"blocks.9.filter.b1.(2, 4, 512)\",\"marker\":{\"color\":\"#B6E880\",\"pattern\":{\"shape\":\"\"}},\"name\":\"blocks.9.filter.b1.(2, 4, 512)\",\"offsetgroup\":\"blocks.9.filter.b1.(2, 4, 512)\",\"orientation\":\"v\",\"showlegend\":true,\"textposition\":\"auto\",\"x\":[\"blocks\"],\"xaxis\":\"x\",\"y\":[4096],\"yaxis\":\"y\",\"type\":\"bar\"},{\"alignmentgroup\":\"True\",\"hovertemplate\":\"layer=blocks.9.filter.w2.(2, 4, 512, 512)<br>block=%{x}<br>Log10_ParaM=%{y}<extra></extra>\",\"legendgroup\":\"blocks.9.filter.w2.(2, 4, 512, 512)\",\"marker\":{\"color\":\"#FF97FF\",\"pattern\":{\"shape\":\"\"}},\"name\":\"blocks.9.filter.w2.(2, 4, 512, 512)\",\"offsetgroup\":\"blocks.9.filter.w2.(2, 4, 512, 512)\",\"orientation\":\"v\",\"showlegend\":true,\"textposition\":\"auto\",\"x\":[\"blocks\"],\"xaxis\":\"x\",\"y\":[2097152],\"yaxis\":\"y\",\"type\":\"bar\"},{\"alignmentgroup\":\"True\",\"hovertemplate\":\"layer=blocks.9.filter.b2.(2, 4, 512)<br>block=%{x}<br>Log10_ParaM=%{y}<extra></extra>\",\"legendgroup\":\"blocks.9.filter.b2.(2, 4, 512)\",\"marker\":{\"color\":\"#FECB52\",\"pattern\":{\"shape\":\"\"}},\"name\":\"blocks.9.filter.b2.(2, 4, 512)\",\"offsetgroup\":\"blocks.9.filter.b2.(2, 4, 512)\",\"orientation\":\"v\",\"showlegend\":true,\"textposition\":\"auto\",\"x\":[\"blocks\"],\"xaxis\":\"x\",\"y\":[4096],\"yaxis\":\"y\",\"type\":\"bar\"},{\"alignmentgroup\":\"True\",\"hovertemplate\":\"layer=blocks.9.norm2.weight.(2048,)<br>block=%{x}<br>Log10_ParaM=%{y}<extra></extra>\",\"legendgroup\":\"blocks.9.norm2.weight.(2048,)\",\"marker\":{\"color\":\"#636efa\",\"pattern\":{\"shape\":\"\"}},\"name\":\"blocks.9.norm2.weight.(2048,)\",\"offsetgroup\":\"blocks.9.norm2.weight.(2048,)\",\"orientation\":\"v\",\"showlegend\":true,\"textposition\":\"auto\",\"x\":[\"blocks\"],\"xaxis\":\"x\",\"y\":[2048],\"yaxis\":\"y\",\"type\":\"bar\"},{\"alignmentgroup\":\"True\",\"hovertemplate\":\"layer=blocks.9.norm2.bias.(2048,)<br>block=%{x}<br>Log10_ParaM=%{y}<extra></extra>\",\"legendgroup\":\"blocks.9.norm2.bias.(2048,)\",\"marker\":{\"color\":\"#EF553B\",\"pattern\":{\"shape\":\"\"}},\"name\":\"blocks.9.norm2.bias.(2048,)\",\"offsetgroup\":\"blocks.9.norm2.bias.(2048,)\",\"orientation\":\"v\",\"showlegend\":true,\"textposition\":\"auto\",\"x\":[\"blocks\"],\"xaxis\":\"x\",\"y\":[2048],\"yaxis\":\"y\",\"type\":\"bar\"},{\"alignmentgroup\":\"True\",\"hovertemplate\":\"layer=blocks.9.mlp.fc1.weight.(8192, 2048)<br>block=%{x}<br>Log10_ParaM=%{y}<extra></extra>\",\"legendgroup\":\"blocks.9.mlp.fc1.weight.(8192, 2048)\",\"marker\":{\"color\":\"#00cc96\",\"pattern\":{\"shape\":\"\"}},\"name\":\"blocks.9.mlp.fc1.weight.(8192, 2048)\",\"offsetgroup\":\"blocks.9.mlp.fc1.weight.(8192, 2048)\",\"orientation\":\"v\",\"showlegend\":true,\"textposition\":\"auto\",\"x\":[\"blocks\"],\"xaxis\":\"x\",\"y\":[16777216],\"yaxis\":\"y\",\"type\":\"bar\"},{\"alignmentgroup\":\"True\",\"hovertemplate\":\"layer=blocks.9.mlp.fc1.bias.(8192,)<br>block=%{x}<br>Log10_ParaM=%{y}<extra></extra>\",\"legendgroup\":\"blocks.9.mlp.fc1.bias.(8192,)\",\"marker\":{\"color\":\"#ab63fa\",\"pattern\":{\"shape\":\"\"}},\"name\":\"blocks.9.mlp.fc1.bias.(8192,)\",\"offsetgroup\":\"blocks.9.mlp.fc1.bias.(8192,)\",\"orientation\":\"v\",\"showlegend\":true,\"textposition\":\"auto\",\"x\":[\"blocks\"],\"xaxis\":\"x\",\"y\":[8192],\"yaxis\":\"y\",\"type\":\"bar\"},{\"alignmentgroup\":\"True\",\"hovertemplate\":\"layer=blocks.10.norm1.weight.(2048,)<br>block=%{x}<br>Log10_ParaM=%{y}<extra></extra>\",\"legendgroup\":\"blocks.10.norm1.weight.(2048,)\",\"marker\":{\"color\":\"#FFA15A\",\"pattern\":{\"shape\":\"\"}},\"name\":\"blocks.10.norm1.weight.(2048,)\",\"offsetgroup\":\"blocks.10.norm1.weight.(2048,)\",\"orientation\":\"v\",\"showlegend\":true,\"textposition\":\"auto\",\"x\":[\"blocks\"],\"xaxis\":\"x\",\"y\":[2048],\"yaxis\":\"y\",\"type\":\"bar\"},{\"alignmentgroup\":\"True\",\"hovertemplate\":\"layer=blocks.10.norm1.bias.(2048,)<br>block=%{x}<br>Log10_ParaM=%{y}<extra></extra>\",\"legendgroup\":\"blocks.10.norm1.bias.(2048,)\",\"marker\":{\"color\":\"#19d3f3\",\"pattern\":{\"shape\":\"\"}},\"name\":\"blocks.10.norm1.bias.(2048,)\",\"offsetgroup\":\"blocks.10.norm1.bias.(2048,)\",\"orientation\":\"v\",\"showlegend\":true,\"textposition\":\"auto\",\"x\":[\"blocks\"],\"xaxis\":\"x\",\"y\":[2048],\"yaxis\":\"y\",\"type\":\"bar\"},{\"alignmentgroup\":\"True\",\"hovertemplate\":\"layer=blocks.10.filter.w1.(2, 4, 512, 512)<br>block=%{x}<br>Log10_ParaM=%{y}<extra></extra>\",\"legendgroup\":\"blocks.10.filter.w1.(2, 4, 512, 512)\",\"marker\":{\"color\":\"#FF6692\",\"pattern\":{\"shape\":\"\"}},\"name\":\"blocks.10.filter.w1.(2, 4, 512, 512)\",\"offsetgroup\":\"blocks.10.filter.w1.(2, 4, 512, 512)\",\"orientation\":\"v\",\"showlegend\":true,\"textposition\":\"auto\",\"x\":[\"blocks\"],\"xaxis\":\"x\",\"y\":[2097152],\"yaxis\":\"y\",\"type\":\"bar\"},{\"alignmentgroup\":\"True\",\"hovertemplate\":\"layer=blocks.10.filter.b1.(2, 4, 512)<br>block=%{x}<br>Log10_ParaM=%{y}<extra></extra>\",\"legendgroup\":\"blocks.10.filter.b1.(2, 4, 512)\",\"marker\":{\"color\":\"#B6E880\",\"pattern\":{\"shape\":\"\"}},\"name\":\"blocks.10.filter.b1.(2, 4, 512)\",\"offsetgroup\":\"blocks.10.filter.b1.(2, 4, 512)\",\"orientation\":\"v\",\"showlegend\":true,\"textposition\":\"auto\",\"x\":[\"blocks\"],\"xaxis\":\"x\",\"y\":[4096],\"yaxis\":\"y\",\"type\":\"bar\"},{\"alignmentgroup\":\"True\",\"hovertemplate\":\"layer=blocks.10.filter.w2.(2, 4, 512, 512)<br>block=%{x}<br>Log10_ParaM=%{y}<extra></extra>\",\"legendgroup\":\"blocks.10.filter.w2.(2, 4, 512, 512)\",\"marker\":{\"color\":\"#FF97FF\",\"pattern\":{\"shape\":\"\"}},\"name\":\"blocks.10.filter.w2.(2, 4, 512, 512)\",\"offsetgroup\":\"blocks.10.filter.w2.(2, 4, 512, 512)\",\"orientation\":\"v\",\"showlegend\":true,\"textposition\":\"auto\",\"x\":[\"blocks\"],\"xaxis\":\"x\",\"y\":[2097152],\"yaxis\":\"y\",\"type\":\"bar\"},{\"alignmentgroup\":\"True\",\"hovertemplate\":\"layer=blocks.10.filter.b2.(2, 4, 512)<br>block=%{x}<br>Log10_ParaM=%{y}<extra></extra>\",\"legendgroup\":\"blocks.10.filter.b2.(2, 4, 512)\",\"marker\":{\"color\":\"#FECB52\",\"pattern\":{\"shape\":\"\"}},\"name\":\"blocks.10.filter.b2.(2, 4, 512)\",\"offsetgroup\":\"blocks.10.filter.b2.(2, 4, 512)\",\"orientation\":\"v\",\"showlegend\":true,\"textposition\":\"auto\",\"x\":[\"blocks\"],\"xaxis\":\"x\",\"y\":[4096],\"yaxis\":\"y\",\"type\":\"bar\"},{\"alignmentgroup\":\"True\",\"hovertemplate\":\"layer=blocks.10.norm2.weight.(2048,)<br>block=%{x}<br>Log10_ParaM=%{y}<extra></extra>\",\"legendgroup\":\"blocks.10.norm2.weight.(2048,)\",\"marker\":{\"color\":\"#636efa\",\"pattern\":{\"shape\":\"\"}},\"name\":\"blocks.10.norm2.weight.(2048,)\",\"offsetgroup\":\"blocks.10.norm2.weight.(2048,)\",\"orientation\":\"v\",\"showlegend\":true,\"textposition\":\"auto\",\"x\":[\"blocks\"],\"xaxis\":\"x\",\"y\":[2048],\"yaxis\":\"y\",\"type\":\"bar\"},{\"alignmentgroup\":\"True\",\"hovertemplate\":\"layer=blocks.10.norm2.bias.(2048,)<br>block=%{x}<br>Log10_ParaM=%{y}<extra></extra>\",\"legendgroup\":\"blocks.10.norm2.bias.(2048,)\",\"marker\":{\"color\":\"#EF553B\",\"pattern\":{\"shape\":\"\"}},\"name\":\"blocks.10.norm2.bias.(2048,)\",\"offsetgroup\":\"blocks.10.norm2.bias.(2048,)\",\"orientation\":\"v\",\"showlegend\":true,\"textposition\":\"auto\",\"x\":[\"blocks\"],\"xaxis\":\"x\",\"y\":[2048],\"yaxis\":\"y\",\"type\":\"bar\"},{\"alignmentgroup\":\"True\",\"hovertemplate\":\"layer=blocks.10.mlp.fc1.weight.(8192, 2048)<br>block=%{x}<br>Log10_ParaM=%{y}<extra></extra>\",\"legendgroup\":\"blocks.10.mlp.fc1.weight.(8192, 2048)\",\"marker\":{\"color\":\"#00cc96\",\"pattern\":{\"shape\":\"\"}},\"name\":\"blocks.10.mlp.fc1.weight.(8192, 2048)\",\"offsetgroup\":\"blocks.10.mlp.fc1.weight.(8192, 2048)\",\"orientation\":\"v\",\"showlegend\":true,\"textposition\":\"auto\",\"x\":[\"blocks\"],\"xaxis\":\"x\",\"y\":[16777216],\"yaxis\":\"y\",\"type\":\"bar\"},{\"alignmentgroup\":\"True\",\"hovertemplate\":\"layer=blocks.10.mlp.fc1.bias.(8192,)<br>block=%{x}<br>Log10_ParaM=%{y}<extra></extra>\",\"legendgroup\":\"blocks.10.mlp.fc1.bias.(8192,)\",\"marker\":{\"color\":\"#ab63fa\",\"pattern\":{\"shape\":\"\"}},\"name\":\"blocks.10.mlp.fc1.bias.(8192,)\",\"offsetgroup\":\"blocks.10.mlp.fc1.bias.(8192,)\",\"orientation\":\"v\",\"showlegend\":true,\"textposition\":\"auto\",\"x\":[\"blocks\"],\"xaxis\":\"x\",\"y\":[8192],\"yaxis\":\"y\",\"type\":\"bar\"},{\"alignmentgroup\":\"True\",\"hovertemplate\":\"layer=blocks.11.norm1.weight.(2048,)<br>block=%{x}<br>Log10_ParaM=%{y}<extra></extra>\",\"legendgroup\":\"blocks.11.norm1.weight.(2048,)\",\"marker\":{\"color\":\"#FFA15A\",\"pattern\":{\"shape\":\"\"}},\"name\":\"blocks.11.norm1.weight.(2048,)\",\"offsetgroup\":\"blocks.11.norm1.weight.(2048,)\",\"orientation\":\"v\",\"showlegend\":true,\"textposition\":\"auto\",\"x\":[\"blocks\"],\"xaxis\":\"x\",\"y\":[2048],\"yaxis\":\"y\",\"type\":\"bar\"},{\"alignmentgroup\":\"True\",\"hovertemplate\":\"layer=blocks.11.norm1.bias.(2048,)<br>block=%{x}<br>Log10_ParaM=%{y}<extra></extra>\",\"legendgroup\":\"blocks.11.norm1.bias.(2048,)\",\"marker\":{\"color\":\"#19d3f3\",\"pattern\":{\"shape\":\"\"}},\"name\":\"blocks.11.norm1.bias.(2048,)\",\"offsetgroup\":\"blocks.11.norm1.bias.(2048,)\",\"orientation\":\"v\",\"showlegend\":true,\"textposition\":\"auto\",\"x\":[\"blocks\"],\"xaxis\":\"x\",\"y\":[2048],\"yaxis\":\"y\",\"type\":\"bar\"},{\"alignmentgroup\":\"True\",\"hovertemplate\":\"layer=blocks.11.filter.w1.(2, 4, 512, 512)<br>block=%{x}<br>Log10_ParaM=%{y}<extra></extra>\",\"legendgroup\":\"blocks.11.filter.w1.(2, 4, 512, 512)\",\"marker\":{\"color\":\"#FF6692\",\"pattern\":{\"shape\":\"\"}},\"name\":\"blocks.11.filter.w1.(2, 4, 512, 512)\",\"offsetgroup\":\"blocks.11.filter.w1.(2, 4, 512, 512)\",\"orientation\":\"v\",\"showlegend\":true,\"textposition\":\"auto\",\"x\":[\"blocks\"],\"xaxis\":\"x\",\"y\":[2097152],\"yaxis\":\"y\",\"type\":\"bar\"},{\"alignmentgroup\":\"True\",\"hovertemplate\":\"layer=blocks.11.filter.b1.(2, 4, 512)<br>block=%{x}<br>Log10_ParaM=%{y}<extra></extra>\",\"legendgroup\":\"blocks.11.filter.b1.(2, 4, 512)\",\"marker\":{\"color\":\"#B6E880\",\"pattern\":{\"shape\":\"\"}},\"name\":\"blocks.11.filter.b1.(2, 4, 512)\",\"offsetgroup\":\"blocks.11.filter.b1.(2, 4, 512)\",\"orientation\":\"v\",\"showlegend\":true,\"textposition\":\"auto\",\"x\":[\"blocks\"],\"xaxis\":\"x\",\"y\":[4096],\"yaxis\":\"y\",\"type\":\"bar\"},{\"alignmentgroup\":\"True\",\"hovertemplate\":\"layer=blocks.11.filter.w2.(2, 4, 512, 512)<br>block=%{x}<br>Log10_ParaM=%{y}<extra></extra>\",\"legendgroup\":\"blocks.11.filter.w2.(2, 4, 512, 512)\",\"marker\":{\"color\":\"#FF97FF\",\"pattern\":{\"shape\":\"\"}},\"name\":\"blocks.11.filter.w2.(2, 4, 512, 512)\",\"offsetgroup\":\"blocks.11.filter.w2.(2, 4, 512, 512)\",\"orientation\":\"v\",\"showlegend\":true,\"textposition\":\"auto\",\"x\":[\"blocks\"],\"xaxis\":\"x\",\"y\":[2097152],\"yaxis\":\"y\",\"type\":\"bar\"},{\"alignmentgroup\":\"True\",\"hovertemplate\":\"layer=blocks.11.filter.b2.(2, 4, 512)<br>block=%{x}<br>Log10_ParaM=%{y}<extra></extra>\",\"legendgroup\":\"blocks.11.filter.b2.(2, 4, 512)\",\"marker\":{\"color\":\"#FECB52\",\"pattern\":{\"shape\":\"\"}},\"name\":\"blocks.11.filter.b2.(2, 4, 512)\",\"offsetgroup\":\"blocks.11.filter.b2.(2, 4, 512)\",\"orientation\":\"v\",\"showlegend\":true,\"textposition\":\"auto\",\"x\":[\"blocks\"],\"xaxis\":\"x\",\"y\":[4096],\"yaxis\":\"y\",\"type\":\"bar\"},{\"alignmentgroup\":\"True\",\"hovertemplate\":\"layer=blocks.11.norm2.weight.(2048,)<br>block=%{x}<br>Log10_ParaM=%{y}<extra></extra>\",\"legendgroup\":\"blocks.11.norm2.weight.(2048,)\",\"marker\":{\"color\":\"#636efa\",\"pattern\":{\"shape\":\"\"}},\"name\":\"blocks.11.norm2.weight.(2048,)\",\"offsetgroup\":\"blocks.11.norm2.weight.(2048,)\",\"orientation\":\"v\",\"showlegend\":true,\"textposition\":\"auto\",\"x\":[\"blocks\"],\"xaxis\":\"x\",\"y\":[2048],\"yaxis\":\"y\",\"type\":\"bar\"},{\"alignmentgroup\":\"True\",\"hovertemplate\":\"layer=blocks.11.norm2.bias.(2048,)<br>block=%{x}<br>Log10_ParaM=%{y}<extra></extra>\",\"legendgroup\":\"blocks.11.norm2.bias.(2048,)\",\"marker\":{\"color\":\"#EF553B\",\"pattern\":{\"shape\":\"\"}},\"name\":\"blocks.11.norm2.bias.(2048,)\",\"offsetgroup\":\"blocks.11.norm2.bias.(2048,)\",\"orientation\":\"v\",\"showlegend\":true,\"textposition\":\"auto\",\"x\":[\"blocks\"],\"xaxis\":\"x\",\"y\":[2048],\"yaxis\":\"y\",\"type\":\"bar\"},{\"alignmentgroup\":\"True\",\"hovertemplate\":\"layer=blocks.11.mlp.fc1.weight.(8192, 2048)<br>block=%{x}<br>Log10_ParaM=%{y}<extra></extra>\",\"legendgroup\":\"blocks.11.mlp.fc1.weight.(8192, 2048)\",\"marker\":{\"color\":\"#00cc96\",\"pattern\":{\"shape\":\"\"}},\"name\":\"blocks.11.mlp.fc1.weight.(8192, 2048)\",\"offsetgroup\":\"blocks.11.mlp.fc1.weight.(8192, 2048)\",\"orientation\":\"v\",\"showlegend\":true,\"textposition\":\"auto\",\"x\":[\"blocks\"],\"xaxis\":\"x\",\"y\":[16777216],\"yaxis\":\"y\",\"type\":\"bar\"},{\"alignmentgroup\":\"True\",\"hovertemplate\":\"layer=blocks.11.mlp.fc1.bias.(8192,)<br>block=%{x}<br>Log10_ParaM=%{y}<extra></extra>\",\"legendgroup\":\"blocks.11.mlp.fc1.bias.(8192,)\",\"marker\":{\"color\":\"#ab63fa\",\"pattern\":{\"shape\":\"\"}},\"name\":\"blocks.11.mlp.fc1.bias.(8192,)\",\"offsetgroup\":\"blocks.11.mlp.fc1.bias.(8192,)\",\"orientation\":\"v\",\"showlegend\":true,\"textposition\":\"auto\",\"x\":[\"blocks\"],\"xaxis\":\"x\",\"y\":[8192],\"yaxis\":\"y\",\"type\":\"bar\"},{\"alignmentgroup\":\"True\",\"hovertemplate\":\"layer=norm.weight.(2048,)<br>block=%{x}<br>Log10_ParaM=%{y}<extra></extra>\",\"legendgroup\":\"norm.weight.(2048,)\",\"marker\":{\"color\":\"#FFA15A\",\"pattern\":{\"shape\":\"\"}},\"name\":\"norm.weight.(2048,)\",\"offsetgroup\":\"norm.weight.(2048,)\",\"orientation\":\"v\",\"showlegend\":true,\"textposition\":\"auto\",\"x\":[\"norm\"],\"xaxis\":\"x\",\"y\":[2048],\"yaxis\":\"y\",\"type\":\"bar\"},{\"alignmentgroup\":\"True\",\"hovertemplate\":\"layer=norm.bias.(2048,)<br>block=%{x}<br>Log10_ParaM=%{y}<extra></extra>\",\"legendgroup\":\"norm.bias.(2048,)\",\"marker\":{\"color\":\"#19d3f3\",\"pattern\":{\"shape\":\"\"}},\"name\":\"norm.bias.(2048,)\",\"offsetgroup\":\"norm.bias.(2048,)\",\"orientation\":\"v\",\"showlegend\":true,\"textposition\":\"auto\",\"x\":[\"norm\"],\"xaxis\":\"x\",\"y\":[2048],\"yaxis\":\"y\",\"type\":\"bar\"},{\"alignmentgroup\":\"True\",\"hovertemplate\":\"layer=pre_logits.conv1.conv_layers.0.weight.(2048, 3360, 3)<br>block=%{x}<br>Log10_ParaM=%{y}<extra></extra>\",\"legendgroup\":\"pre_logits.conv1.conv_layers.0.weight.(2048, 3360, 3)\",\"marker\":{\"color\":\"#FF6692\",\"pattern\":{\"shape\":\"\"}},\"name\":\"pre_logits.conv1.conv_layers.0.weight.(2048, 3360, 3)\",\"offsetgroup\":\"pre_logits.conv1.conv_layers.0.weight.(2048, 3360, 3)\",\"orientation\":\"v\",\"showlegend\":true,\"textposition\":\"auto\",\"x\":[\"pre_logits\"],\"xaxis\":\"x\",\"y\":[20643840],\"yaxis\":\"y\",\"type\":\"bar\"},{\"alignmentgroup\":\"True\",\"hovertemplate\":\"layer=pre_logits.conv1.conv_layers.1.weight.(2048, 3360, 3)<br>block=%{x}<br>Log10_ParaM=%{y}<extra></extra>\",\"legendgroup\":\"pre_logits.conv1.conv_layers.1.weight.(2048, 3360, 3)\",\"marker\":{\"color\":\"#B6E880\",\"pattern\":{\"shape\":\"\"}},\"name\":\"pre_logits.conv1.conv_layers.1.weight.(2048, 3360, 3)\",\"offsetgroup\":\"pre_logits.conv1.conv_layers.1.weight.(2048, 3360, 3)\",\"orientation\":\"v\",\"showlegend\":true,\"textposition\":\"auto\",\"x\":[\"pre_logits\"],\"xaxis\":\"x\",\"y\":[20643840],\"yaxis\":\"y\",\"type\":\"bar\"},{\"alignmentgroup\":\"True\",\"hovertemplate\":\"layer=pre_logits.conv1.conv_layers.2.weight.(2048, 3360, 3)<br>block=%{x}<br>Log10_ParaM=%{y}<extra></extra>\",\"legendgroup\":\"pre_logits.conv1.conv_layers.2.weight.(2048, 3360, 3)\",\"marker\":{\"color\":\"#FF97FF\",\"pattern\":{\"shape\":\"\"}},\"name\":\"pre_logits.conv1.conv_layers.2.weight.(2048, 3360, 3)\",\"offsetgroup\":\"pre_logits.conv1.conv_layers.2.weight.(2048, 3360, 3)\",\"orientation\":\"v\",\"showlegend\":true,\"textposition\":\"auto\",\"x\":[\"pre_logits\"],\"xaxis\":\"x\",\"y\":[20643840],\"yaxis\":\"y\",\"type\":\"bar\"},{\"alignmentgroup\":\"True\",\"hovertemplate\":\"layer=pre_logits.conv2.conv_layers.0.weight.(3360, 840, 3)<br>block=%{x}<br>Log10_ParaM=%{y}<extra></extra>\",\"legendgroup\":\"pre_logits.conv2.conv_layers.0.weight.(3360, 840, 3)\",\"marker\":{\"color\":\"#FECB52\",\"pattern\":{\"shape\":\"\"}},\"name\":\"pre_logits.conv2.conv_layers.0.weight.(3360, 840, 3)\",\"offsetgroup\":\"pre_logits.conv2.conv_layers.0.weight.(3360, 840, 3)\",\"orientation\":\"v\",\"showlegend\":true,\"textposition\":\"auto\",\"x\":[\"pre_logits\"],\"xaxis\":\"x\",\"y\":[8467200],\"yaxis\":\"y\",\"type\":\"bar\"},{\"alignmentgroup\":\"True\",\"hovertemplate\":\"layer=pre_logits.conv2.conv_layers.1.weight.(3360, 840, 3)<br>block=%{x}<br>Log10_ParaM=%{y}<extra></extra>\",\"legendgroup\":\"pre_logits.conv2.conv_layers.1.weight.(3360, 840, 3)\",\"marker\":{\"color\":\"#636efa\",\"pattern\":{\"shape\":\"\"}},\"name\":\"pre_logits.conv2.conv_layers.1.weight.(3360, 840, 3)\",\"offsetgroup\":\"pre_logits.conv2.conv_layers.1.weight.(3360, 840, 3)\",\"orientation\":\"v\",\"showlegend\":true,\"textposition\":\"auto\",\"x\":[\"pre_logits\"],\"xaxis\":\"x\",\"y\":[8467200],\"yaxis\":\"y\",\"type\":\"bar\"},{\"alignmentgroup\":\"True\",\"hovertemplate\":\"layer=pre_logits.conv2.conv_layers.2.weight.(3360, 840, 3)<br>block=%{x}<br>Log10_ParaM=%{y}<extra></extra>\",\"legendgroup\":\"pre_logits.conv2.conv_layers.2.weight.(3360, 840, 3)\",\"marker\":{\"color\":\"#EF553B\",\"pattern\":{\"shape\":\"\"}},\"name\":\"pre_logits.conv2.conv_layers.2.weight.(3360, 840, 3)\",\"offsetgroup\":\"pre_logits.conv2.conv_layers.2.weight.(3360, 840, 3)\",\"orientation\":\"v\",\"showlegend\":true,\"textposition\":\"auto\",\"x\":[\"pre_logits\"],\"xaxis\":\"x\",\"y\":[8467200],\"yaxis\":\"y\",\"type\":\"bar\"},{\"alignmentgroup\":\"True\",\"hovertemplate\":\"layer=head.conv_layers.0.weight.(840, 210, 2)<br>block=%{x}<br>Log10_ParaM=%{y}<extra></extra>\",\"legendgroup\":\"head.conv_layers.0.weight.(840, 210, 2)\",\"marker\":{\"color\":\"#00cc96\",\"pattern\":{\"shape\":\"\"}},\"name\":\"head.conv_layers.0.weight.(840, 210, 2)\",\"offsetgroup\":\"head.conv_layers.0.weight.(840, 210, 2)\",\"orientation\":\"v\",\"showlegend\":true,\"textposition\":\"auto\",\"x\":[\"head\"],\"xaxis\":\"x\",\"y\":[352800],\"yaxis\":\"y\",\"type\":\"bar\"},{\"alignmentgroup\":\"True\",\"hovertemplate\":\"layer=head.conv_layers.1.weight.(840, 210, 2)<br>block=%{x}<br>Log10_ParaM=%{y}<extra></extra>\",\"legendgroup\":\"head.conv_layers.1.weight.(840, 210, 2)\",\"marker\":{\"color\":\"#ab63fa\",\"pattern\":{\"shape\":\"\"}},\"name\":\"head.conv_layers.1.weight.(840, 210, 2)\",\"offsetgroup\":\"head.conv_layers.1.weight.(840, 210, 2)\",\"orientation\":\"v\",\"showlegend\":true,\"textposition\":\"auto\",\"x\":[\"head\"],\"xaxis\":\"x\",\"y\":[352800],\"yaxis\":\"y\",\"type\":\"bar\"}],                        {\"template\":{\"data\":{\"histogram2dcontour\":[{\"type\":\"histogram2dcontour\",\"colorbar\":{\"outlinewidth\":0,\"ticks\":\"\"},\"colorscale\":[[0.0,\"#0d0887\"],[0.1111111111111111,\"#46039f\"],[0.2222222222222222,\"#7201a8\"],[0.3333333333333333,\"#9c179e\"],[0.4444444444444444,\"#bd3786\"],[0.5555555555555556,\"#d8576b\"],[0.6666666666666666,\"#ed7953\"],[0.7777777777777778,\"#fb9f3a\"],[0.8888888888888888,\"#fdca26\"],[1.0,\"#f0f921\"]]}],\"choropleth\":[{\"type\":\"choropleth\",\"colorbar\":{\"outlinewidth\":0,\"ticks\":\"\"}}],\"histogram2d\":[{\"type\":\"histogram2d\",\"colorbar\":{\"outlinewidth\":0,\"ticks\":\"\"},\"colorscale\":[[0.0,\"#0d0887\"],[0.1111111111111111,\"#46039f\"],[0.2222222222222222,\"#7201a8\"],[0.3333333333333333,\"#9c179e\"],[0.4444444444444444,\"#bd3786\"],[0.5555555555555556,\"#d8576b\"],[0.6666666666666666,\"#ed7953\"],[0.7777777777777778,\"#fb9f3a\"],[0.8888888888888888,\"#fdca26\"],[1.0,\"#f0f921\"]]}],\"heatmap\":[{\"type\":\"heatmap\",\"colorbar\":{\"outlinewidth\":0,\"ticks\":\"\"},\"colorscale\":[[0.0,\"#0d0887\"],[0.1111111111111111,\"#46039f\"],[0.2222222222222222,\"#7201a8\"],[0.3333333333333333,\"#9c179e\"],[0.4444444444444444,\"#bd3786\"],[0.5555555555555556,\"#d8576b\"],[0.6666666666666666,\"#ed7953\"],[0.7777777777777778,\"#fb9f3a\"],[0.8888888888888888,\"#fdca26\"],[1.0,\"#f0f921\"]]}],\"heatmapgl\":[{\"type\":\"heatmapgl\",\"colorbar\":{\"outlinewidth\":0,\"ticks\":\"\"},\"colorscale\":[[0.0,\"#0d0887\"],[0.1111111111111111,\"#46039f\"],[0.2222222222222222,\"#7201a8\"],[0.3333333333333333,\"#9c179e\"],[0.4444444444444444,\"#bd3786\"],[0.5555555555555556,\"#d8576b\"],[0.6666666666666666,\"#ed7953\"],[0.7777777777777778,\"#fb9f3a\"],[0.8888888888888888,\"#fdca26\"],[1.0,\"#f0f921\"]]}],\"contourcarpet\":[{\"type\":\"contourcarpet\",\"colorbar\":{\"outlinewidth\":0,\"ticks\":\"\"}}],\"contour\":[{\"type\":\"contour\",\"colorbar\":{\"outlinewidth\":0,\"ticks\":\"\"},\"colorscale\":[[0.0,\"#0d0887\"],[0.1111111111111111,\"#46039f\"],[0.2222222222222222,\"#7201a8\"],[0.3333333333333333,\"#9c179e\"],[0.4444444444444444,\"#bd3786\"],[0.5555555555555556,\"#d8576b\"],[0.6666666666666666,\"#ed7953\"],[0.7777777777777778,\"#fb9f3a\"],[0.8888888888888888,\"#fdca26\"],[1.0,\"#f0f921\"]]}],\"surface\":[{\"type\":\"surface\",\"colorbar\":{\"outlinewidth\":0,\"ticks\":\"\"},\"colorscale\":[[0.0,\"#0d0887\"],[0.1111111111111111,\"#46039f\"],[0.2222222222222222,\"#7201a8\"],[0.3333333333333333,\"#9c179e\"],[0.4444444444444444,\"#bd3786\"],[0.5555555555555556,\"#d8576b\"],[0.6666666666666666,\"#ed7953\"],[0.7777777777777778,\"#fb9f3a\"],[0.8888888888888888,\"#fdca26\"],[1.0,\"#f0f921\"]]}],\"mesh3d\":[{\"type\":\"mesh3d\",\"colorbar\":{\"outlinewidth\":0,\"ticks\":\"\"}}],\"scatter\":[{\"fillpattern\":{\"fillmode\":\"overlay\",\"size\":10,\"solidity\":0.2},\"type\":\"scatter\"}],\"parcoords\":[{\"type\":\"parcoords\",\"line\":{\"colorbar\":{\"outlinewidth\":0,\"ticks\":\"\"}}}],\"scatterpolargl\":[{\"type\":\"scatterpolargl\",\"marker\":{\"colorbar\":{\"outlinewidth\":0,\"ticks\":\"\"}}}],\"bar\":[{\"error_x\":{\"color\":\"#2a3f5f\"},\"error_y\":{\"color\":\"#2a3f5f\"},\"marker\":{\"line\":{\"color\":\"#E5ECF6\",\"width\":0.5},\"pattern\":{\"fillmode\":\"overlay\",\"size\":10,\"solidity\":0.2}},\"type\":\"bar\"}],\"scattergeo\":[{\"type\":\"scattergeo\",\"marker\":{\"colorbar\":{\"outlinewidth\":0,\"ticks\":\"\"}}}],\"scatterpolar\":[{\"type\":\"scatterpolar\",\"marker\":{\"colorbar\":{\"outlinewidth\":0,\"ticks\":\"\"}}}],\"histogram\":[{\"marker\":{\"pattern\":{\"fillmode\":\"overlay\",\"size\":10,\"solidity\":0.2}},\"type\":\"histogram\"}],\"scattergl\":[{\"type\":\"scattergl\",\"marker\":{\"colorbar\":{\"outlinewidth\":0,\"ticks\":\"\"}}}],\"scatter3d\":[{\"type\":\"scatter3d\",\"line\":{\"colorbar\":{\"outlinewidth\":0,\"ticks\":\"\"}},\"marker\":{\"colorbar\":{\"outlinewidth\":0,\"ticks\":\"\"}}}],\"scattermapbox\":[{\"type\":\"scattermapbox\",\"marker\":{\"colorbar\":{\"outlinewidth\":0,\"ticks\":\"\"}}}],\"scatterternary\":[{\"type\":\"scatterternary\",\"marker\":{\"colorbar\":{\"outlinewidth\":0,\"ticks\":\"\"}}}],\"scattercarpet\":[{\"type\":\"scattercarpet\",\"marker\":{\"colorbar\":{\"outlinewidth\":0,\"ticks\":\"\"}}}],\"carpet\":[{\"aaxis\":{\"endlinecolor\":\"#2a3f5f\",\"gridcolor\":\"white\",\"linecolor\":\"white\",\"minorgridcolor\":\"white\",\"startlinecolor\":\"#2a3f5f\"},\"baxis\":{\"endlinecolor\":\"#2a3f5f\",\"gridcolor\":\"white\",\"linecolor\":\"white\",\"minorgridcolor\":\"white\",\"startlinecolor\":\"#2a3f5f\"},\"type\":\"carpet\"}],\"table\":[{\"cells\":{\"fill\":{\"color\":\"#EBF0F8\"},\"line\":{\"color\":\"white\"}},\"header\":{\"fill\":{\"color\":\"#C8D4E3\"},\"line\":{\"color\":\"white\"}},\"type\":\"table\"}],\"barpolar\":[{\"marker\":{\"line\":{\"color\":\"#E5ECF6\",\"width\":0.5},\"pattern\":{\"fillmode\":\"overlay\",\"size\":10,\"solidity\":0.2}},\"type\":\"barpolar\"}],\"pie\":[{\"automargin\":true,\"type\":\"pie\"}]},\"layout\":{\"autotypenumbers\":\"strict\",\"colorway\":[\"#636efa\",\"#EF553B\",\"#00cc96\",\"#ab63fa\",\"#FFA15A\",\"#19d3f3\",\"#FF6692\",\"#B6E880\",\"#FF97FF\",\"#FECB52\"],\"font\":{\"color\":\"#2a3f5f\"},\"hovermode\":\"closest\",\"hoverlabel\":{\"align\":\"left\"},\"paper_bgcolor\":\"white\",\"plot_bgcolor\":\"#E5ECF6\",\"polar\":{\"bgcolor\":\"#E5ECF6\",\"angularaxis\":{\"gridcolor\":\"white\",\"linecolor\":\"white\",\"ticks\":\"\"},\"radialaxis\":{\"gridcolor\":\"white\",\"linecolor\":\"white\",\"ticks\":\"\"}},\"ternary\":{\"bgcolor\":\"#E5ECF6\",\"aaxis\":{\"gridcolor\":\"white\",\"linecolor\":\"white\",\"ticks\":\"\"},\"baxis\":{\"gridcolor\":\"white\",\"linecolor\":\"white\",\"ticks\":\"\"},\"caxis\":{\"gridcolor\":\"white\",\"linecolor\":\"white\",\"ticks\":\"\"}},\"coloraxis\":{\"colorbar\":{\"outlinewidth\":0,\"ticks\":\"\"}},\"colorscale\":{\"sequential\":[[0.0,\"#0d0887\"],[0.1111111111111111,\"#46039f\"],[0.2222222222222222,\"#7201a8\"],[0.3333333333333333,\"#9c179e\"],[0.4444444444444444,\"#bd3786\"],[0.5555555555555556,\"#d8576b\"],[0.6666666666666666,\"#ed7953\"],[0.7777777777777778,\"#fb9f3a\"],[0.8888888888888888,\"#fdca26\"],[1.0,\"#f0f921\"]],\"sequentialminus\":[[0.0,\"#0d0887\"],[0.1111111111111111,\"#46039f\"],[0.2222222222222222,\"#7201a8\"],[0.3333333333333333,\"#9c179e\"],[0.4444444444444444,\"#bd3786\"],[0.5555555555555556,\"#d8576b\"],[0.6666666666666666,\"#ed7953\"],[0.7777777777777778,\"#fb9f3a\"],[0.8888888888888888,\"#fdca26\"],[1.0,\"#f0f921\"]],\"diverging\":[[0,\"#8e0152\"],[0.1,\"#c51b7d\"],[0.2,\"#de77ae\"],[0.3,\"#f1b6da\"],[0.4,\"#fde0ef\"],[0.5,\"#f7f7f7\"],[0.6,\"#e6f5d0\"],[0.7,\"#b8e186\"],[0.8,\"#7fbc41\"],[0.9,\"#4d9221\"],[1,\"#276419\"]]},\"xaxis\":{\"gridcolor\":\"white\",\"linecolor\":\"white\",\"ticks\":\"\",\"title\":{\"standoff\":15},\"zerolinecolor\":\"white\",\"automargin\":true,\"zerolinewidth\":2},\"yaxis\":{\"gridcolor\":\"white\",\"linecolor\":\"white\",\"ticks\":\"\",\"title\":{\"standoff\":15},\"zerolinecolor\":\"white\",\"automargin\":true,\"zerolinewidth\":2},\"scene\":{\"xaxis\":{\"backgroundcolor\":\"#E5ECF6\",\"gridcolor\":\"white\",\"linecolor\":\"white\",\"showbackground\":true,\"ticks\":\"\",\"zerolinecolor\":\"white\",\"gridwidth\":2},\"yaxis\":{\"backgroundcolor\":\"#E5ECF6\",\"gridcolor\":\"white\",\"linecolor\":\"white\",\"showbackground\":true,\"ticks\":\"\",\"zerolinecolor\":\"white\",\"gridwidth\":2},\"zaxis\":{\"backgroundcolor\":\"#E5ECF6\",\"gridcolor\":\"white\",\"linecolor\":\"white\",\"showbackground\":true,\"ticks\":\"\",\"zerolinecolor\":\"white\",\"gridwidth\":2}},\"shapedefaults\":{\"line\":{\"color\":\"#2a3f5f\"}},\"annotationdefaults\":{\"arrowcolor\":\"#2a3f5f\",\"arrowhead\":0,\"arrowwidth\":1},\"geo\":{\"bgcolor\":\"white\",\"landcolor\":\"#E5ECF6\",\"subunitcolor\":\"white\",\"showland\":true,\"showlakes\":true,\"lakecolor\":\"white\"},\"title\":{\"x\":0.05},\"mapbox\":{\"style\":\"light\"}}},\"xaxis\":{\"anchor\":\"y\",\"domain\":[0.0,1.0],\"title\":{\"text\":\"block\"}},\"yaxis\":{\"anchor\":\"x\",\"domain\":[0.0,1.0],\"title\":{\"text\":\"Log10_ParaM\"}},\"legend\":{\"title\":{\"text\":\"layer\"},\"tracegroupgap\":0},\"title\":{\"text\":\"My plot\"},\"barmode\":\"relative\",\"height\":600,\"showlegend\":false},                        {\"responsive\": true}                    ).then(function(){\n",
       "                            \n",
       "var gd = document.getElementById('cf2a1801-48f5-4472-bd6e-24c97321de0c');\n",
       "var x = new MutationObserver(function (mutations, observer) {{\n",
       "        var display = window.getComputedStyle(gd).display;\n",
       "        if (!display || display === 'none') {{\n",
       "            console.log([gd, 'removed!']);\n",
       "            Plotly.purge(gd);\n",
       "            observer.disconnect();\n",
       "        }}\n",
       "}});\n",
       "\n",
       "// Listen for the removal of the full notebook cells\n",
       "var notebookContainer = gd.closest('#notebook-container');\n",
       "if (notebookContainer) {{\n",
       "    x.observe(notebookContainer, {childList: true});\n",
       "}}\n",
       "\n",
       "// Listen for the clearing of the current output cell\n",
       "var outputEl = gd.closest('.output');\n",
       "if (outputEl) {{\n",
       "    x.observe(outputEl, {childList: true});\n",
       "}}\n",
       "\n",
       "                        })                };                });            </script>        </div>"
      ]
     },
     "metadata": {},
     "output_type": "display_data"
    }
   ],
   "source": [
    "get_model_para_bar(model)#embed= 2048 210"
   ]
  },
  {
   "cell_type": "code",
   "execution_count": 30,
   "id": "dfe0cbe7",
   "metadata": {},
   "outputs": [
    {
     "data": {
      "application/vnd.plotly.v1+json": {
       "config": {
        "plotlyServerURL": "https://plot.ly"
       },
       "data": [
        {
         "alignmentgroup": "True",
         "hovertemplate": "layer=pos_embed.(1, 512, 768)<br>block=%{x}<br>Log10_ParaM=%{y}<extra></extra>",
         "legendgroup": "pos_embed.(1, 512, 768)",
         "marker": {
          "color": "#636efa",
          "pattern": {
           "shape": ""
          }
         },
         "name": "pos_embed.(1, 512, 768)",
         "offsetgroup": "pos_embed.(1, 512, 768)",
         "orientation": "v",
         "showlegend": true,
         "textposition": "auto",
         "type": "bar",
         "x": [
          "pos_embed"
         ],
         "xaxis": "x",
         "y": [
          393216
         ],
         "yaxis": "y"
        },
        {
         "alignmentgroup": "True",
         "hovertemplate": "layer=reduce_Field_coef.(1,)<br>block=%{x}<br>Log10_ParaM=%{y}<extra></extra>",
         "legendgroup": "reduce_Field_coef.(1,)",
         "marker": {
          "color": "#EF553B",
          "pattern": {
           "shape": ""
          }
         },
         "name": "reduce_Field_coef.(1,)",
         "offsetgroup": "reduce_Field_coef.(1,)",
         "orientation": "v",
         "showlegend": true,
         "textposition": "auto",
         "type": "bar",
         "x": [
          "reduce_Field_coef"
         ],
         "xaxis": "x",
         "y": [
          1
         ],
         "yaxis": "y"
        },
        {
         "alignmentgroup": "True",
         "hovertemplate": "layer=patch_embed.proj.conv_layers.0.weight.(768, 210, 2)<br>block=%{x}<br>Log10_ParaM=%{y}<extra></extra>",
         "legendgroup": "patch_embed.proj.conv_layers.0.weight.(768, 210, 2)",
         "marker": {
          "color": "#00cc96",
          "pattern": {
           "shape": ""
          }
         },
         "name": "patch_embed.proj.conv_layers.0.weight.(768, 210, 2)",
         "offsetgroup": "patch_embed.proj.conv_layers.0.weight.(768, 210, 2)",
         "orientation": "v",
         "showlegend": true,
         "textposition": "auto",
         "type": "bar",
         "x": [
          "patch_embed"
         ],
         "xaxis": "x",
         "y": [
          322560
         ],
         "yaxis": "y"
        },
        {
         "alignmentgroup": "True",
         "hovertemplate": "layer=patch_embed.proj.conv_layers.1.weight.(768, 210, 2)<br>block=%{x}<br>Log10_ParaM=%{y}<extra></extra>",
         "legendgroup": "patch_embed.proj.conv_layers.1.weight.(768, 210, 2)",
         "marker": {
          "color": "#ab63fa",
          "pattern": {
           "shape": ""
          }
         },
         "name": "patch_embed.proj.conv_layers.1.weight.(768, 210, 2)",
         "offsetgroup": "patch_embed.proj.conv_layers.1.weight.(768, 210, 2)",
         "orientation": "v",
         "showlegend": true,
         "textposition": "auto",
         "type": "bar",
         "x": [
          "patch_embed"
         ],
         "xaxis": "x",
         "y": [
          322560
         ],
         "yaxis": "y"
        },
        {
         "alignmentgroup": "True",
         "hovertemplate": "layer=blocks.0.norm1.weight.(768,)<br>block=%{x}<br>Log10_ParaM=%{y}<extra></extra>",
         "legendgroup": "blocks.0.norm1.weight.(768,)",
         "marker": {
          "color": "#FFA15A",
          "pattern": {
           "shape": ""
          }
         },
         "name": "blocks.0.norm1.weight.(768,)",
         "offsetgroup": "blocks.0.norm1.weight.(768,)",
         "orientation": "v",
         "showlegend": true,
         "textposition": "auto",
         "type": "bar",
         "x": [
          "blocks"
         ],
         "xaxis": "x",
         "y": [
          768
         ],
         "yaxis": "y"
        },
        {
         "alignmentgroup": "True",
         "hovertemplate": "layer=blocks.0.norm1.bias.(768,)<br>block=%{x}<br>Log10_ParaM=%{y}<extra></extra>",
         "legendgroup": "blocks.0.norm1.bias.(768,)",
         "marker": {
          "color": "#19d3f3",
          "pattern": {
           "shape": ""
          }
         },
         "name": "blocks.0.norm1.bias.(768,)",
         "offsetgroup": "blocks.0.norm1.bias.(768,)",
         "orientation": "v",
         "showlegend": true,
         "textposition": "auto",
         "type": "bar",
         "x": [
          "blocks"
         ],
         "xaxis": "x",
         "y": [
          768
         ],
         "yaxis": "y"
        },
        {
         "alignmentgroup": "True",
         "hovertemplate": "layer=blocks.0.filter.w1.(2, 4, 192, 192)<br>block=%{x}<br>Log10_ParaM=%{y}<extra></extra>",
         "legendgroup": "blocks.0.filter.w1.(2, 4, 192, 192)",
         "marker": {
          "color": "#FF6692",
          "pattern": {
           "shape": ""
          }
         },
         "name": "blocks.0.filter.w1.(2, 4, 192, 192)",
         "offsetgroup": "blocks.0.filter.w1.(2, 4, 192, 192)",
         "orientation": "v",
         "showlegend": true,
         "textposition": "auto",
         "type": "bar",
         "x": [
          "blocks"
         ],
         "xaxis": "x",
         "y": [
          294912
         ],
         "yaxis": "y"
        },
        {
         "alignmentgroup": "True",
         "hovertemplate": "layer=blocks.0.filter.b1.(2, 4, 192)<br>block=%{x}<br>Log10_ParaM=%{y}<extra></extra>",
         "legendgroup": "blocks.0.filter.b1.(2, 4, 192)",
         "marker": {
          "color": "#B6E880",
          "pattern": {
           "shape": ""
          }
         },
         "name": "blocks.0.filter.b1.(2, 4, 192)",
         "offsetgroup": "blocks.0.filter.b1.(2, 4, 192)",
         "orientation": "v",
         "showlegend": true,
         "textposition": "auto",
         "type": "bar",
         "x": [
          "blocks"
         ],
         "xaxis": "x",
         "y": [
          1536
         ],
         "yaxis": "y"
        },
        {
         "alignmentgroup": "True",
         "hovertemplate": "layer=blocks.0.filter.w2.(2, 4, 192, 192)<br>block=%{x}<br>Log10_ParaM=%{y}<extra></extra>",
         "legendgroup": "blocks.0.filter.w2.(2, 4, 192, 192)",
         "marker": {
          "color": "#FF97FF",
          "pattern": {
           "shape": ""
          }
         },
         "name": "blocks.0.filter.w2.(2, 4, 192, 192)",
         "offsetgroup": "blocks.0.filter.w2.(2, 4, 192, 192)",
         "orientation": "v",
         "showlegend": true,
         "textposition": "auto",
         "type": "bar",
         "x": [
          "blocks"
         ],
         "xaxis": "x",
         "y": [
          294912
         ],
         "yaxis": "y"
        },
        {
         "alignmentgroup": "True",
         "hovertemplate": "layer=blocks.0.filter.b2.(2, 4, 192)<br>block=%{x}<br>Log10_ParaM=%{y}<extra></extra>",
         "legendgroup": "blocks.0.filter.b2.(2, 4, 192)",
         "marker": {
          "color": "#FECB52",
          "pattern": {
           "shape": ""
          }
         },
         "name": "blocks.0.filter.b2.(2, 4, 192)",
         "offsetgroup": "blocks.0.filter.b2.(2, 4, 192)",
         "orientation": "v",
         "showlegend": true,
         "textposition": "auto",
         "type": "bar",
         "x": [
          "blocks"
         ],
         "xaxis": "x",
         "y": [
          1536
         ],
         "yaxis": "y"
        },
        {
         "alignmentgroup": "True",
         "hovertemplate": "layer=blocks.0.norm2.weight.(768,)<br>block=%{x}<br>Log10_ParaM=%{y}<extra></extra>",
         "legendgroup": "blocks.0.norm2.weight.(768,)",
         "marker": {
          "color": "#636efa",
          "pattern": {
           "shape": ""
          }
         },
         "name": "blocks.0.norm2.weight.(768,)",
         "offsetgroup": "blocks.0.norm2.weight.(768,)",
         "orientation": "v",
         "showlegend": true,
         "textposition": "auto",
         "type": "bar",
         "x": [
          "blocks"
         ],
         "xaxis": "x",
         "y": [
          768
         ],
         "yaxis": "y"
        },
        {
         "alignmentgroup": "True",
         "hovertemplate": "layer=blocks.0.norm2.bias.(768,)<br>block=%{x}<br>Log10_ParaM=%{y}<extra></extra>",
         "legendgroup": "blocks.0.norm2.bias.(768,)",
         "marker": {
          "color": "#EF553B",
          "pattern": {
           "shape": ""
          }
         },
         "name": "blocks.0.norm2.bias.(768,)",
         "offsetgroup": "blocks.0.norm2.bias.(768,)",
         "orientation": "v",
         "showlegend": true,
         "textposition": "auto",
         "type": "bar",
         "x": [
          "blocks"
         ],
         "xaxis": "x",
         "y": [
          768
         ],
         "yaxis": "y"
        },
        {
         "alignmentgroup": "True",
         "hovertemplate": "layer=blocks.0.mlp.fc1.weight.(3072, 768)<br>block=%{x}<br>Log10_ParaM=%{y}<extra></extra>",
         "legendgroup": "blocks.0.mlp.fc1.weight.(3072, 768)",
         "marker": {
          "color": "#00cc96",
          "pattern": {
           "shape": ""
          }
         },
         "name": "blocks.0.mlp.fc1.weight.(3072, 768)",
         "offsetgroup": "blocks.0.mlp.fc1.weight.(3072, 768)",
         "orientation": "v",
         "showlegend": true,
         "textposition": "auto",
         "type": "bar",
         "x": [
          "blocks"
         ],
         "xaxis": "x",
         "y": [
          2359296
         ],
         "yaxis": "y"
        },
        {
         "alignmentgroup": "True",
         "hovertemplate": "layer=blocks.0.mlp.fc1.bias.(3072,)<br>block=%{x}<br>Log10_ParaM=%{y}<extra></extra>",
         "legendgroup": "blocks.0.mlp.fc1.bias.(3072,)",
         "marker": {
          "color": "#ab63fa",
          "pattern": {
           "shape": ""
          }
         },
         "name": "blocks.0.mlp.fc1.bias.(3072,)",
         "offsetgroup": "blocks.0.mlp.fc1.bias.(3072,)",
         "orientation": "v",
         "showlegend": true,
         "textposition": "auto",
         "type": "bar",
         "x": [
          "blocks"
         ],
         "xaxis": "x",
         "y": [
          3072
         ],
         "yaxis": "y"
        },
        {
         "alignmentgroup": "True",
         "hovertemplate": "layer=blocks.1.norm1.weight.(768,)<br>block=%{x}<br>Log10_ParaM=%{y}<extra></extra>",
         "legendgroup": "blocks.1.norm1.weight.(768,)",
         "marker": {
          "color": "#FFA15A",
          "pattern": {
           "shape": ""
          }
         },
         "name": "blocks.1.norm1.weight.(768,)",
         "offsetgroup": "blocks.1.norm1.weight.(768,)",
         "orientation": "v",
         "showlegend": true,
         "textposition": "auto",
         "type": "bar",
         "x": [
          "blocks"
         ],
         "xaxis": "x",
         "y": [
          768
         ],
         "yaxis": "y"
        },
        {
         "alignmentgroup": "True",
         "hovertemplate": "layer=blocks.1.norm1.bias.(768,)<br>block=%{x}<br>Log10_ParaM=%{y}<extra></extra>",
         "legendgroup": "blocks.1.norm1.bias.(768,)",
         "marker": {
          "color": "#19d3f3",
          "pattern": {
           "shape": ""
          }
         },
         "name": "blocks.1.norm1.bias.(768,)",
         "offsetgroup": "blocks.1.norm1.bias.(768,)",
         "orientation": "v",
         "showlegend": true,
         "textposition": "auto",
         "type": "bar",
         "x": [
          "blocks"
         ],
         "xaxis": "x",
         "y": [
          768
         ],
         "yaxis": "y"
        },
        {
         "alignmentgroup": "True",
         "hovertemplate": "layer=blocks.1.filter.w1.(2, 4, 192, 192)<br>block=%{x}<br>Log10_ParaM=%{y}<extra></extra>",
         "legendgroup": "blocks.1.filter.w1.(2, 4, 192, 192)",
         "marker": {
          "color": "#FF6692",
          "pattern": {
           "shape": ""
          }
         },
         "name": "blocks.1.filter.w1.(2, 4, 192, 192)",
         "offsetgroup": "blocks.1.filter.w1.(2, 4, 192, 192)",
         "orientation": "v",
         "showlegend": true,
         "textposition": "auto",
         "type": "bar",
         "x": [
          "blocks"
         ],
         "xaxis": "x",
         "y": [
          294912
         ],
         "yaxis": "y"
        },
        {
         "alignmentgroup": "True",
         "hovertemplate": "layer=blocks.1.filter.b1.(2, 4, 192)<br>block=%{x}<br>Log10_ParaM=%{y}<extra></extra>",
         "legendgroup": "blocks.1.filter.b1.(2, 4, 192)",
         "marker": {
          "color": "#B6E880",
          "pattern": {
           "shape": ""
          }
         },
         "name": "blocks.1.filter.b1.(2, 4, 192)",
         "offsetgroup": "blocks.1.filter.b1.(2, 4, 192)",
         "orientation": "v",
         "showlegend": true,
         "textposition": "auto",
         "type": "bar",
         "x": [
          "blocks"
         ],
         "xaxis": "x",
         "y": [
          1536
         ],
         "yaxis": "y"
        },
        {
         "alignmentgroup": "True",
         "hovertemplate": "layer=blocks.1.filter.w2.(2, 4, 192, 192)<br>block=%{x}<br>Log10_ParaM=%{y}<extra></extra>",
         "legendgroup": "blocks.1.filter.w2.(2, 4, 192, 192)",
         "marker": {
          "color": "#FF97FF",
          "pattern": {
           "shape": ""
          }
         },
         "name": "blocks.1.filter.w2.(2, 4, 192, 192)",
         "offsetgroup": "blocks.1.filter.w2.(2, 4, 192, 192)",
         "orientation": "v",
         "showlegend": true,
         "textposition": "auto",
         "type": "bar",
         "x": [
          "blocks"
         ],
         "xaxis": "x",
         "y": [
          294912
         ],
         "yaxis": "y"
        },
        {
         "alignmentgroup": "True",
         "hovertemplate": "layer=blocks.1.filter.b2.(2, 4, 192)<br>block=%{x}<br>Log10_ParaM=%{y}<extra></extra>",
         "legendgroup": "blocks.1.filter.b2.(2, 4, 192)",
         "marker": {
          "color": "#FECB52",
          "pattern": {
           "shape": ""
          }
         },
         "name": "blocks.1.filter.b2.(2, 4, 192)",
         "offsetgroup": "blocks.1.filter.b2.(2, 4, 192)",
         "orientation": "v",
         "showlegend": true,
         "textposition": "auto",
         "type": "bar",
         "x": [
          "blocks"
         ],
         "xaxis": "x",
         "y": [
          1536
         ],
         "yaxis": "y"
        },
        {
         "alignmentgroup": "True",
         "hovertemplate": "layer=blocks.1.norm2.weight.(768,)<br>block=%{x}<br>Log10_ParaM=%{y}<extra></extra>",
         "legendgroup": "blocks.1.norm2.weight.(768,)",
         "marker": {
          "color": "#636efa",
          "pattern": {
           "shape": ""
          }
         },
         "name": "blocks.1.norm2.weight.(768,)",
         "offsetgroup": "blocks.1.norm2.weight.(768,)",
         "orientation": "v",
         "showlegend": true,
         "textposition": "auto",
         "type": "bar",
         "x": [
          "blocks"
         ],
         "xaxis": "x",
         "y": [
          768
         ],
         "yaxis": "y"
        },
        {
         "alignmentgroup": "True",
         "hovertemplate": "layer=blocks.1.norm2.bias.(768,)<br>block=%{x}<br>Log10_ParaM=%{y}<extra></extra>",
         "legendgroup": "blocks.1.norm2.bias.(768,)",
         "marker": {
          "color": "#EF553B",
          "pattern": {
           "shape": ""
          }
         },
         "name": "blocks.1.norm2.bias.(768,)",
         "offsetgroup": "blocks.1.norm2.bias.(768,)",
         "orientation": "v",
         "showlegend": true,
         "textposition": "auto",
         "type": "bar",
         "x": [
          "blocks"
         ],
         "xaxis": "x",
         "y": [
          768
         ],
         "yaxis": "y"
        },
        {
         "alignmentgroup": "True",
         "hovertemplate": "layer=blocks.1.mlp.fc1.weight.(3072, 768)<br>block=%{x}<br>Log10_ParaM=%{y}<extra></extra>",
         "legendgroup": "blocks.1.mlp.fc1.weight.(3072, 768)",
         "marker": {
          "color": "#00cc96",
          "pattern": {
           "shape": ""
          }
         },
         "name": "blocks.1.mlp.fc1.weight.(3072, 768)",
         "offsetgroup": "blocks.1.mlp.fc1.weight.(3072, 768)",
         "orientation": "v",
         "showlegend": true,
         "textposition": "auto",
         "type": "bar",
         "x": [
          "blocks"
         ],
         "xaxis": "x",
         "y": [
          2359296
         ],
         "yaxis": "y"
        },
        {
         "alignmentgroup": "True",
         "hovertemplate": "layer=blocks.1.mlp.fc1.bias.(3072,)<br>block=%{x}<br>Log10_ParaM=%{y}<extra></extra>",
         "legendgroup": "blocks.1.mlp.fc1.bias.(3072,)",
         "marker": {
          "color": "#ab63fa",
          "pattern": {
           "shape": ""
          }
         },
         "name": "blocks.1.mlp.fc1.bias.(3072,)",
         "offsetgroup": "blocks.1.mlp.fc1.bias.(3072,)",
         "orientation": "v",
         "showlegend": true,
         "textposition": "auto",
         "type": "bar",
         "x": [
          "blocks"
         ],
         "xaxis": "x",
         "y": [
          3072
         ],
         "yaxis": "y"
        },
        {
         "alignmentgroup": "True",
         "hovertemplate": "layer=blocks.2.norm1.weight.(768,)<br>block=%{x}<br>Log10_ParaM=%{y}<extra></extra>",
         "legendgroup": "blocks.2.norm1.weight.(768,)",
         "marker": {
          "color": "#FFA15A",
          "pattern": {
           "shape": ""
          }
         },
         "name": "blocks.2.norm1.weight.(768,)",
         "offsetgroup": "blocks.2.norm1.weight.(768,)",
         "orientation": "v",
         "showlegend": true,
         "textposition": "auto",
         "type": "bar",
         "x": [
          "blocks"
         ],
         "xaxis": "x",
         "y": [
          768
         ],
         "yaxis": "y"
        },
        {
         "alignmentgroup": "True",
         "hovertemplate": "layer=blocks.2.norm1.bias.(768,)<br>block=%{x}<br>Log10_ParaM=%{y}<extra></extra>",
         "legendgroup": "blocks.2.norm1.bias.(768,)",
         "marker": {
          "color": "#19d3f3",
          "pattern": {
           "shape": ""
          }
         },
         "name": "blocks.2.norm1.bias.(768,)",
         "offsetgroup": "blocks.2.norm1.bias.(768,)",
         "orientation": "v",
         "showlegend": true,
         "textposition": "auto",
         "type": "bar",
         "x": [
          "blocks"
         ],
         "xaxis": "x",
         "y": [
          768
         ],
         "yaxis": "y"
        },
        {
         "alignmentgroup": "True",
         "hovertemplate": "layer=blocks.2.filter.w1.(2, 4, 192, 192)<br>block=%{x}<br>Log10_ParaM=%{y}<extra></extra>",
         "legendgroup": "blocks.2.filter.w1.(2, 4, 192, 192)",
         "marker": {
          "color": "#FF6692",
          "pattern": {
           "shape": ""
          }
         },
         "name": "blocks.2.filter.w1.(2, 4, 192, 192)",
         "offsetgroup": "blocks.2.filter.w1.(2, 4, 192, 192)",
         "orientation": "v",
         "showlegend": true,
         "textposition": "auto",
         "type": "bar",
         "x": [
          "blocks"
         ],
         "xaxis": "x",
         "y": [
          294912
         ],
         "yaxis": "y"
        },
        {
         "alignmentgroup": "True",
         "hovertemplate": "layer=blocks.2.filter.b1.(2, 4, 192)<br>block=%{x}<br>Log10_ParaM=%{y}<extra></extra>",
         "legendgroup": "blocks.2.filter.b1.(2, 4, 192)",
         "marker": {
          "color": "#B6E880",
          "pattern": {
           "shape": ""
          }
         },
         "name": "blocks.2.filter.b1.(2, 4, 192)",
         "offsetgroup": "blocks.2.filter.b1.(2, 4, 192)",
         "orientation": "v",
         "showlegend": true,
         "textposition": "auto",
         "type": "bar",
         "x": [
          "blocks"
         ],
         "xaxis": "x",
         "y": [
          1536
         ],
         "yaxis": "y"
        },
        {
         "alignmentgroup": "True",
         "hovertemplate": "layer=blocks.2.filter.w2.(2, 4, 192, 192)<br>block=%{x}<br>Log10_ParaM=%{y}<extra></extra>",
         "legendgroup": "blocks.2.filter.w2.(2, 4, 192, 192)",
         "marker": {
          "color": "#FF97FF",
          "pattern": {
           "shape": ""
          }
         },
         "name": "blocks.2.filter.w2.(2, 4, 192, 192)",
         "offsetgroup": "blocks.2.filter.w2.(2, 4, 192, 192)",
         "orientation": "v",
         "showlegend": true,
         "textposition": "auto",
         "type": "bar",
         "x": [
          "blocks"
         ],
         "xaxis": "x",
         "y": [
          294912
         ],
         "yaxis": "y"
        },
        {
         "alignmentgroup": "True",
         "hovertemplate": "layer=blocks.2.filter.b2.(2, 4, 192)<br>block=%{x}<br>Log10_ParaM=%{y}<extra></extra>",
         "legendgroup": "blocks.2.filter.b2.(2, 4, 192)",
         "marker": {
          "color": "#FECB52",
          "pattern": {
           "shape": ""
          }
         },
         "name": "blocks.2.filter.b2.(2, 4, 192)",
         "offsetgroup": "blocks.2.filter.b2.(2, 4, 192)",
         "orientation": "v",
         "showlegend": true,
         "textposition": "auto",
         "type": "bar",
         "x": [
          "blocks"
         ],
         "xaxis": "x",
         "y": [
          1536
         ],
         "yaxis": "y"
        },
        {
         "alignmentgroup": "True",
         "hovertemplate": "layer=blocks.2.norm2.weight.(768,)<br>block=%{x}<br>Log10_ParaM=%{y}<extra></extra>",
         "legendgroup": "blocks.2.norm2.weight.(768,)",
         "marker": {
          "color": "#636efa",
          "pattern": {
           "shape": ""
          }
         },
         "name": "blocks.2.norm2.weight.(768,)",
         "offsetgroup": "blocks.2.norm2.weight.(768,)",
         "orientation": "v",
         "showlegend": true,
         "textposition": "auto",
         "type": "bar",
         "x": [
          "blocks"
         ],
         "xaxis": "x",
         "y": [
          768
         ],
         "yaxis": "y"
        },
        {
         "alignmentgroup": "True",
         "hovertemplate": "layer=blocks.2.norm2.bias.(768,)<br>block=%{x}<br>Log10_ParaM=%{y}<extra></extra>",
         "legendgroup": "blocks.2.norm2.bias.(768,)",
         "marker": {
          "color": "#EF553B",
          "pattern": {
           "shape": ""
          }
         },
         "name": "blocks.2.norm2.bias.(768,)",
         "offsetgroup": "blocks.2.norm2.bias.(768,)",
         "orientation": "v",
         "showlegend": true,
         "textposition": "auto",
         "type": "bar",
         "x": [
          "blocks"
         ],
         "xaxis": "x",
         "y": [
          768
         ],
         "yaxis": "y"
        },
        {
         "alignmentgroup": "True",
         "hovertemplate": "layer=blocks.2.mlp.fc1.weight.(3072, 768)<br>block=%{x}<br>Log10_ParaM=%{y}<extra></extra>",
         "legendgroup": "blocks.2.mlp.fc1.weight.(3072, 768)",
         "marker": {
          "color": "#00cc96",
          "pattern": {
           "shape": ""
          }
         },
         "name": "blocks.2.mlp.fc1.weight.(3072, 768)",
         "offsetgroup": "blocks.2.mlp.fc1.weight.(3072, 768)",
         "orientation": "v",
         "showlegend": true,
         "textposition": "auto",
         "type": "bar",
         "x": [
          "blocks"
         ],
         "xaxis": "x",
         "y": [
          2359296
         ],
         "yaxis": "y"
        },
        {
         "alignmentgroup": "True",
         "hovertemplate": "layer=blocks.2.mlp.fc1.bias.(3072,)<br>block=%{x}<br>Log10_ParaM=%{y}<extra></extra>",
         "legendgroup": "blocks.2.mlp.fc1.bias.(3072,)",
         "marker": {
          "color": "#ab63fa",
          "pattern": {
           "shape": ""
          }
         },
         "name": "blocks.2.mlp.fc1.bias.(3072,)",
         "offsetgroup": "blocks.2.mlp.fc1.bias.(3072,)",
         "orientation": "v",
         "showlegend": true,
         "textposition": "auto",
         "type": "bar",
         "x": [
          "blocks"
         ],
         "xaxis": "x",
         "y": [
          3072
         ],
         "yaxis": "y"
        },
        {
         "alignmentgroup": "True",
         "hovertemplate": "layer=blocks.3.norm1.weight.(768,)<br>block=%{x}<br>Log10_ParaM=%{y}<extra></extra>",
         "legendgroup": "blocks.3.norm1.weight.(768,)",
         "marker": {
          "color": "#FFA15A",
          "pattern": {
           "shape": ""
          }
         },
         "name": "blocks.3.norm1.weight.(768,)",
         "offsetgroup": "blocks.3.norm1.weight.(768,)",
         "orientation": "v",
         "showlegend": true,
         "textposition": "auto",
         "type": "bar",
         "x": [
          "blocks"
         ],
         "xaxis": "x",
         "y": [
          768
         ],
         "yaxis": "y"
        },
        {
         "alignmentgroup": "True",
         "hovertemplate": "layer=blocks.3.norm1.bias.(768,)<br>block=%{x}<br>Log10_ParaM=%{y}<extra></extra>",
         "legendgroup": "blocks.3.norm1.bias.(768,)",
         "marker": {
          "color": "#19d3f3",
          "pattern": {
           "shape": ""
          }
         },
         "name": "blocks.3.norm1.bias.(768,)",
         "offsetgroup": "blocks.3.norm1.bias.(768,)",
         "orientation": "v",
         "showlegend": true,
         "textposition": "auto",
         "type": "bar",
         "x": [
          "blocks"
         ],
         "xaxis": "x",
         "y": [
          768
         ],
         "yaxis": "y"
        },
        {
         "alignmentgroup": "True",
         "hovertemplate": "layer=blocks.3.filter.w1.(2, 4, 192, 192)<br>block=%{x}<br>Log10_ParaM=%{y}<extra></extra>",
         "legendgroup": "blocks.3.filter.w1.(2, 4, 192, 192)",
         "marker": {
          "color": "#FF6692",
          "pattern": {
           "shape": ""
          }
         },
         "name": "blocks.3.filter.w1.(2, 4, 192, 192)",
         "offsetgroup": "blocks.3.filter.w1.(2, 4, 192, 192)",
         "orientation": "v",
         "showlegend": true,
         "textposition": "auto",
         "type": "bar",
         "x": [
          "blocks"
         ],
         "xaxis": "x",
         "y": [
          294912
         ],
         "yaxis": "y"
        },
        {
         "alignmentgroup": "True",
         "hovertemplate": "layer=blocks.3.filter.b1.(2, 4, 192)<br>block=%{x}<br>Log10_ParaM=%{y}<extra></extra>",
         "legendgroup": "blocks.3.filter.b1.(2, 4, 192)",
         "marker": {
          "color": "#B6E880",
          "pattern": {
           "shape": ""
          }
         },
         "name": "blocks.3.filter.b1.(2, 4, 192)",
         "offsetgroup": "blocks.3.filter.b1.(2, 4, 192)",
         "orientation": "v",
         "showlegend": true,
         "textposition": "auto",
         "type": "bar",
         "x": [
          "blocks"
         ],
         "xaxis": "x",
         "y": [
          1536
         ],
         "yaxis": "y"
        },
        {
         "alignmentgroup": "True",
         "hovertemplate": "layer=blocks.3.filter.w2.(2, 4, 192, 192)<br>block=%{x}<br>Log10_ParaM=%{y}<extra></extra>",
         "legendgroup": "blocks.3.filter.w2.(2, 4, 192, 192)",
         "marker": {
          "color": "#FF97FF",
          "pattern": {
           "shape": ""
          }
         },
         "name": "blocks.3.filter.w2.(2, 4, 192, 192)",
         "offsetgroup": "blocks.3.filter.w2.(2, 4, 192, 192)",
         "orientation": "v",
         "showlegend": true,
         "textposition": "auto",
         "type": "bar",
         "x": [
          "blocks"
         ],
         "xaxis": "x",
         "y": [
          294912
         ],
         "yaxis": "y"
        },
        {
         "alignmentgroup": "True",
         "hovertemplate": "layer=blocks.3.filter.b2.(2, 4, 192)<br>block=%{x}<br>Log10_ParaM=%{y}<extra></extra>",
         "legendgroup": "blocks.3.filter.b2.(2, 4, 192)",
         "marker": {
          "color": "#FECB52",
          "pattern": {
           "shape": ""
          }
         },
         "name": "blocks.3.filter.b2.(2, 4, 192)",
         "offsetgroup": "blocks.3.filter.b2.(2, 4, 192)",
         "orientation": "v",
         "showlegend": true,
         "textposition": "auto",
         "type": "bar",
         "x": [
          "blocks"
         ],
         "xaxis": "x",
         "y": [
          1536
         ],
         "yaxis": "y"
        },
        {
         "alignmentgroup": "True",
         "hovertemplate": "layer=blocks.3.norm2.weight.(768,)<br>block=%{x}<br>Log10_ParaM=%{y}<extra></extra>",
         "legendgroup": "blocks.3.norm2.weight.(768,)",
         "marker": {
          "color": "#636efa",
          "pattern": {
           "shape": ""
          }
         },
         "name": "blocks.3.norm2.weight.(768,)",
         "offsetgroup": "blocks.3.norm2.weight.(768,)",
         "orientation": "v",
         "showlegend": true,
         "textposition": "auto",
         "type": "bar",
         "x": [
          "blocks"
         ],
         "xaxis": "x",
         "y": [
          768
         ],
         "yaxis": "y"
        },
        {
         "alignmentgroup": "True",
         "hovertemplate": "layer=blocks.3.norm2.bias.(768,)<br>block=%{x}<br>Log10_ParaM=%{y}<extra></extra>",
         "legendgroup": "blocks.3.norm2.bias.(768,)",
         "marker": {
          "color": "#EF553B",
          "pattern": {
           "shape": ""
          }
         },
         "name": "blocks.3.norm2.bias.(768,)",
         "offsetgroup": "blocks.3.norm2.bias.(768,)",
         "orientation": "v",
         "showlegend": true,
         "textposition": "auto",
         "type": "bar",
         "x": [
          "blocks"
         ],
         "xaxis": "x",
         "y": [
          768
         ],
         "yaxis": "y"
        },
        {
         "alignmentgroup": "True",
         "hovertemplate": "layer=blocks.3.mlp.fc1.weight.(3072, 768)<br>block=%{x}<br>Log10_ParaM=%{y}<extra></extra>",
         "legendgroup": "blocks.3.mlp.fc1.weight.(3072, 768)",
         "marker": {
          "color": "#00cc96",
          "pattern": {
           "shape": ""
          }
         },
         "name": "blocks.3.mlp.fc1.weight.(3072, 768)",
         "offsetgroup": "blocks.3.mlp.fc1.weight.(3072, 768)",
         "orientation": "v",
         "showlegend": true,
         "textposition": "auto",
         "type": "bar",
         "x": [
          "blocks"
         ],
         "xaxis": "x",
         "y": [
          2359296
         ],
         "yaxis": "y"
        },
        {
         "alignmentgroup": "True",
         "hovertemplate": "layer=blocks.3.mlp.fc1.bias.(3072,)<br>block=%{x}<br>Log10_ParaM=%{y}<extra></extra>",
         "legendgroup": "blocks.3.mlp.fc1.bias.(3072,)",
         "marker": {
          "color": "#ab63fa",
          "pattern": {
           "shape": ""
          }
         },
         "name": "blocks.3.mlp.fc1.bias.(3072,)",
         "offsetgroup": "blocks.3.mlp.fc1.bias.(3072,)",
         "orientation": "v",
         "showlegend": true,
         "textposition": "auto",
         "type": "bar",
         "x": [
          "blocks"
         ],
         "xaxis": "x",
         "y": [
          3072
         ],
         "yaxis": "y"
        },
        {
         "alignmentgroup": "True",
         "hovertemplate": "layer=blocks.4.norm1.weight.(768,)<br>block=%{x}<br>Log10_ParaM=%{y}<extra></extra>",
         "legendgroup": "blocks.4.norm1.weight.(768,)",
         "marker": {
          "color": "#FFA15A",
          "pattern": {
           "shape": ""
          }
         },
         "name": "blocks.4.norm1.weight.(768,)",
         "offsetgroup": "blocks.4.norm1.weight.(768,)",
         "orientation": "v",
         "showlegend": true,
         "textposition": "auto",
         "type": "bar",
         "x": [
          "blocks"
         ],
         "xaxis": "x",
         "y": [
          768
         ],
         "yaxis": "y"
        },
        {
         "alignmentgroup": "True",
         "hovertemplate": "layer=blocks.4.norm1.bias.(768,)<br>block=%{x}<br>Log10_ParaM=%{y}<extra></extra>",
         "legendgroup": "blocks.4.norm1.bias.(768,)",
         "marker": {
          "color": "#19d3f3",
          "pattern": {
           "shape": ""
          }
         },
         "name": "blocks.4.norm1.bias.(768,)",
         "offsetgroup": "blocks.4.norm1.bias.(768,)",
         "orientation": "v",
         "showlegend": true,
         "textposition": "auto",
         "type": "bar",
         "x": [
          "blocks"
         ],
         "xaxis": "x",
         "y": [
          768
         ],
         "yaxis": "y"
        },
        {
         "alignmentgroup": "True",
         "hovertemplate": "layer=blocks.4.filter.w1.(2, 4, 192, 192)<br>block=%{x}<br>Log10_ParaM=%{y}<extra></extra>",
         "legendgroup": "blocks.4.filter.w1.(2, 4, 192, 192)",
         "marker": {
          "color": "#FF6692",
          "pattern": {
           "shape": ""
          }
         },
         "name": "blocks.4.filter.w1.(2, 4, 192, 192)",
         "offsetgroup": "blocks.4.filter.w1.(2, 4, 192, 192)",
         "orientation": "v",
         "showlegend": true,
         "textposition": "auto",
         "type": "bar",
         "x": [
          "blocks"
         ],
         "xaxis": "x",
         "y": [
          294912
         ],
         "yaxis": "y"
        },
        {
         "alignmentgroup": "True",
         "hovertemplate": "layer=blocks.4.filter.b1.(2, 4, 192)<br>block=%{x}<br>Log10_ParaM=%{y}<extra></extra>",
         "legendgroup": "blocks.4.filter.b1.(2, 4, 192)",
         "marker": {
          "color": "#B6E880",
          "pattern": {
           "shape": ""
          }
         },
         "name": "blocks.4.filter.b1.(2, 4, 192)",
         "offsetgroup": "blocks.4.filter.b1.(2, 4, 192)",
         "orientation": "v",
         "showlegend": true,
         "textposition": "auto",
         "type": "bar",
         "x": [
          "blocks"
         ],
         "xaxis": "x",
         "y": [
          1536
         ],
         "yaxis": "y"
        },
        {
         "alignmentgroup": "True",
         "hovertemplate": "layer=blocks.4.filter.w2.(2, 4, 192, 192)<br>block=%{x}<br>Log10_ParaM=%{y}<extra></extra>",
         "legendgroup": "blocks.4.filter.w2.(2, 4, 192, 192)",
         "marker": {
          "color": "#FF97FF",
          "pattern": {
           "shape": ""
          }
         },
         "name": "blocks.4.filter.w2.(2, 4, 192, 192)",
         "offsetgroup": "blocks.4.filter.w2.(2, 4, 192, 192)",
         "orientation": "v",
         "showlegend": true,
         "textposition": "auto",
         "type": "bar",
         "x": [
          "blocks"
         ],
         "xaxis": "x",
         "y": [
          294912
         ],
         "yaxis": "y"
        },
        {
         "alignmentgroup": "True",
         "hovertemplate": "layer=blocks.4.filter.b2.(2, 4, 192)<br>block=%{x}<br>Log10_ParaM=%{y}<extra></extra>",
         "legendgroup": "blocks.4.filter.b2.(2, 4, 192)",
         "marker": {
          "color": "#FECB52",
          "pattern": {
           "shape": ""
          }
         },
         "name": "blocks.4.filter.b2.(2, 4, 192)",
         "offsetgroup": "blocks.4.filter.b2.(2, 4, 192)",
         "orientation": "v",
         "showlegend": true,
         "textposition": "auto",
         "type": "bar",
         "x": [
          "blocks"
         ],
         "xaxis": "x",
         "y": [
          1536
         ],
         "yaxis": "y"
        },
        {
         "alignmentgroup": "True",
         "hovertemplate": "layer=blocks.4.norm2.weight.(768,)<br>block=%{x}<br>Log10_ParaM=%{y}<extra></extra>",
         "legendgroup": "blocks.4.norm2.weight.(768,)",
         "marker": {
          "color": "#636efa",
          "pattern": {
           "shape": ""
          }
         },
         "name": "blocks.4.norm2.weight.(768,)",
         "offsetgroup": "blocks.4.norm2.weight.(768,)",
         "orientation": "v",
         "showlegend": true,
         "textposition": "auto",
         "type": "bar",
         "x": [
          "blocks"
         ],
         "xaxis": "x",
         "y": [
          768
         ],
         "yaxis": "y"
        },
        {
         "alignmentgroup": "True",
         "hovertemplate": "layer=blocks.4.norm2.bias.(768,)<br>block=%{x}<br>Log10_ParaM=%{y}<extra></extra>",
         "legendgroup": "blocks.4.norm2.bias.(768,)",
         "marker": {
          "color": "#EF553B",
          "pattern": {
           "shape": ""
          }
         },
         "name": "blocks.4.norm2.bias.(768,)",
         "offsetgroup": "blocks.4.norm2.bias.(768,)",
         "orientation": "v",
         "showlegend": true,
         "textposition": "auto",
         "type": "bar",
         "x": [
          "blocks"
         ],
         "xaxis": "x",
         "y": [
          768
         ],
         "yaxis": "y"
        },
        {
         "alignmentgroup": "True",
         "hovertemplate": "layer=blocks.4.mlp.fc1.weight.(3072, 768)<br>block=%{x}<br>Log10_ParaM=%{y}<extra></extra>",
         "legendgroup": "blocks.4.mlp.fc1.weight.(3072, 768)",
         "marker": {
          "color": "#00cc96",
          "pattern": {
           "shape": ""
          }
         },
         "name": "blocks.4.mlp.fc1.weight.(3072, 768)",
         "offsetgroup": "blocks.4.mlp.fc1.weight.(3072, 768)",
         "orientation": "v",
         "showlegend": true,
         "textposition": "auto",
         "type": "bar",
         "x": [
          "blocks"
         ],
         "xaxis": "x",
         "y": [
          2359296
         ],
         "yaxis": "y"
        },
        {
         "alignmentgroup": "True",
         "hovertemplate": "layer=blocks.4.mlp.fc1.bias.(3072,)<br>block=%{x}<br>Log10_ParaM=%{y}<extra></extra>",
         "legendgroup": "blocks.4.mlp.fc1.bias.(3072,)",
         "marker": {
          "color": "#ab63fa",
          "pattern": {
           "shape": ""
          }
         },
         "name": "blocks.4.mlp.fc1.bias.(3072,)",
         "offsetgroup": "blocks.4.mlp.fc1.bias.(3072,)",
         "orientation": "v",
         "showlegend": true,
         "textposition": "auto",
         "type": "bar",
         "x": [
          "blocks"
         ],
         "xaxis": "x",
         "y": [
          3072
         ],
         "yaxis": "y"
        },
        {
         "alignmentgroup": "True",
         "hovertemplate": "layer=blocks.5.norm1.weight.(768,)<br>block=%{x}<br>Log10_ParaM=%{y}<extra></extra>",
         "legendgroup": "blocks.5.norm1.weight.(768,)",
         "marker": {
          "color": "#FFA15A",
          "pattern": {
           "shape": ""
          }
         },
         "name": "blocks.5.norm1.weight.(768,)",
         "offsetgroup": "blocks.5.norm1.weight.(768,)",
         "orientation": "v",
         "showlegend": true,
         "textposition": "auto",
         "type": "bar",
         "x": [
          "blocks"
         ],
         "xaxis": "x",
         "y": [
          768
         ],
         "yaxis": "y"
        },
        {
         "alignmentgroup": "True",
         "hovertemplate": "layer=blocks.5.norm1.bias.(768,)<br>block=%{x}<br>Log10_ParaM=%{y}<extra></extra>",
         "legendgroup": "blocks.5.norm1.bias.(768,)",
         "marker": {
          "color": "#19d3f3",
          "pattern": {
           "shape": ""
          }
         },
         "name": "blocks.5.norm1.bias.(768,)",
         "offsetgroup": "blocks.5.norm1.bias.(768,)",
         "orientation": "v",
         "showlegend": true,
         "textposition": "auto",
         "type": "bar",
         "x": [
          "blocks"
         ],
         "xaxis": "x",
         "y": [
          768
         ],
         "yaxis": "y"
        },
        {
         "alignmentgroup": "True",
         "hovertemplate": "layer=blocks.5.filter.w1.(2, 4, 192, 192)<br>block=%{x}<br>Log10_ParaM=%{y}<extra></extra>",
         "legendgroup": "blocks.5.filter.w1.(2, 4, 192, 192)",
         "marker": {
          "color": "#FF6692",
          "pattern": {
           "shape": ""
          }
         },
         "name": "blocks.5.filter.w1.(2, 4, 192, 192)",
         "offsetgroup": "blocks.5.filter.w1.(2, 4, 192, 192)",
         "orientation": "v",
         "showlegend": true,
         "textposition": "auto",
         "type": "bar",
         "x": [
          "blocks"
         ],
         "xaxis": "x",
         "y": [
          294912
         ],
         "yaxis": "y"
        },
        {
         "alignmentgroup": "True",
         "hovertemplate": "layer=blocks.5.filter.b1.(2, 4, 192)<br>block=%{x}<br>Log10_ParaM=%{y}<extra></extra>",
         "legendgroup": "blocks.5.filter.b1.(2, 4, 192)",
         "marker": {
          "color": "#B6E880",
          "pattern": {
           "shape": ""
          }
         },
         "name": "blocks.5.filter.b1.(2, 4, 192)",
         "offsetgroup": "blocks.5.filter.b1.(2, 4, 192)",
         "orientation": "v",
         "showlegend": true,
         "textposition": "auto",
         "type": "bar",
         "x": [
          "blocks"
         ],
         "xaxis": "x",
         "y": [
          1536
         ],
         "yaxis": "y"
        },
        {
         "alignmentgroup": "True",
         "hovertemplate": "layer=blocks.5.filter.w2.(2, 4, 192, 192)<br>block=%{x}<br>Log10_ParaM=%{y}<extra></extra>",
         "legendgroup": "blocks.5.filter.w2.(2, 4, 192, 192)",
         "marker": {
          "color": "#FF97FF",
          "pattern": {
           "shape": ""
          }
         },
         "name": "blocks.5.filter.w2.(2, 4, 192, 192)",
         "offsetgroup": "blocks.5.filter.w2.(2, 4, 192, 192)",
         "orientation": "v",
         "showlegend": true,
         "textposition": "auto",
         "type": "bar",
         "x": [
          "blocks"
         ],
         "xaxis": "x",
         "y": [
          294912
         ],
         "yaxis": "y"
        },
        {
         "alignmentgroup": "True",
         "hovertemplate": "layer=blocks.5.filter.b2.(2, 4, 192)<br>block=%{x}<br>Log10_ParaM=%{y}<extra></extra>",
         "legendgroup": "blocks.5.filter.b2.(2, 4, 192)",
         "marker": {
          "color": "#FECB52",
          "pattern": {
           "shape": ""
          }
         },
         "name": "blocks.5.filter.b2.(2, 4, 192)",
         "offsetgroup": "blocks.5.filter.b2.(2, 4, 192)",
         "orientation": "v",
         "showlegend": true,
         "textposition": "auto",
         "type": "bar",
         "x": [
          "blocks"
         ],
         "xaxis": "x",
         "y": [
          1536
         ],
         "yaxis": "y"
        },
        {
         "alignmentgroup": "True",
         "hovertemplate": "layer=blocks.5.norm2.weight.(768,)<br>block=%{x}<br>Log10_ParaM=%{y}<extra></extra>",
         "legendgroup": "blocks.5.norm2.weight.(768,)",
         "marker": {
          "color": "#636efa",
          "pattern": {
           "shape": ""
          }
         },
         "name": "blocks.5.norm2.weight.(768,)",
         "offsetgroup": "blocks.5.norm2.weight.(768,)",
         "orientation": "v",
         "showlegend": true,
         "textposition": "auto",
         "type": "bar",
         "x": [
          "blocks"
         ],
         "xaxis": "x",
         "y": [
          768
         ],
         "yaxis": "y"
        },
        {
         "alignmentgroup": "True",
         "hovertemplate": "layer=blocks.5.norm2.bias.(768,)<br>block=%{x}<br>Log10_ParaM=%{y}<extra></extra>",
         "legendgroup": "blocks.5.norm2.bias.(768,)",
         "marker": {
          "color": "#EF553B",
          "pattern": {
           "shape": ""
          }
         },
         "name": "blocks.5.norm2.bias.(768,)",
         "offsetgroup": "blocks.5.norm2.bias.(768,)",
         "orientation": "v",
         "showlegend": true,
         "textposition": "auto",
         "type": "bar",
         "x": [
          "blocks"
         ],
         "xaxis": "x",
         "y": [
          768
         ],
         "yaxis": "y"
        },
        {
         "alignmentgroup": "True",
         "hovertemplate": "layer=blocks.5.mlp.fc1.weight.(3072, 768)<br>block=%{x}<br>Log10_ParaM=%{y}<extra></extra>",
         "legendgroup": "blocks.5.mlp.fc1.weight.(3072, 768)",
         "marker": {
          "color": "#00cc96",
          "pattern": {
           "shape": ""
          }
         },
         "name": "blocks.5.mlp.fc1.weight.(3072, 768)",
         "offsetgroup": "blocks.5.mlp.fc1.weight.(3072, 768)",
         "orientation": "v",
         "showlegend": true,
         "textposition": "auto",
         "type": "bar",
         "x": [
          "blocks"
         ],
         "xaxis": "x",
         "y": [
          2359296
         ],
         "yaxis": "y"
        },
        {
         "alignmentgroup": "True",
         "hovertemplate": "layer=blocks.5.mlp.fc1.bias.(3072,)<br>block=%{x}<br>Log10_ParaM=%{y}<extra></extra>",
         "legendgroup": "blocks.5.mlp.fc1.bias.(3072,)",
         "marker": {
          "color": "#ab63fa",
          "pattern": {
           "shape": ""
          }
         },
         "name": "blocks.5.mlp.fc1.bias.(3072,)",
         "offsetgroup": "blocks.5.mlp.fc1.bias.(3072,)",
         "orientation": "v",
         "showlegend": true,
         "textposition": "auto",
         "type": "bar",
         "x": [
          "blocks"
         ],
         "xaxis": "x",
         "y": [
          3072
         ],
         "yaxis": "y"
        },
        {
         "alignmentgroup": "True",
         "hovertemplate": "layer=blocks.6.norm1.weight.(768,)<br>block=%{x}<br>Log10_ParaM=%{y}<extra></extra>",
         "legendgroup": "blocks.6.norm1.weight.(768,)",
         "marker": {
          "color": "#FFA15A",
          "pattern": {
           "shape": ""
          }
         },
         "name": "blocks.6.norm1.weight.(768,)",
         "offsetgroup": "blocks.6.norm1.weight.(768,)",
         "orientation": "v",
         "showlegend": true,
         "textposition": "auto",
         "type": "bar",
         "x": [
          "blocks"
         ],
         "xaxis": "x",
         "y": [
          768
         ],
         "yaxis": "y"
        },
        {
         "alignmentgroup": "True",
         "hovertemplate": "layer=blocks.6.norm1.bias.(768,)<br>block=%{x}<br>Log10_ParaM=%{y}<extra></extra>",
         "legendgroup": "blocks.6.norm1.bias.(768,)",
         "marker": {
          "color": "#19d3f3",
          "pattern": {
           "shape": ""
          }
         },
         "name": "blocks.6.norm1.bias.(768,)",
         "offsetgroup": "blocks.6.norm1.bias.(768,)",
         "orientation": "v",
         "showlegend": true,
         "textposition": "auto",
         "type": "bar",
         "x": [
          "blocks"
         ],
         "xaxis": "x",
         "y": [
          768
         ],
         "yaxis": "y"
        },
        {
         "alignmentgroup": "True",
         "hovertemplate": "layer=blocks.6.filter.w1.(2, 4, 192, 192)<br>block=%{x}<br>Log10_ParaM=%{y}<extra></extra>",
         "legendgroup": "blocks.6.filter.w1.(2, 4, 192, 192)",
         "marker": {
          "color": "#FF6692",
          "pattern": {
           "shape": ""
          }
         },
         "name": "blocks.6.filter.w1.(2, 4, 192, 192)",
         "offsetgroup": "blocks.6.filter.w1.(2, 4, 192, 192)",
         "orientation": "v",
         "showlegend": true,
         "textposition": "auto",
         "type": "bar",
         "x": [
          "blocks"
         ],
         "xaxis": "x",
         "y": [
          294912
         ],
         "yaxis": "y"
        },
        {
         "alignmentgroup": "True",
         "hovertemplate": "layer=blocks.6.filter.b1.(2, 4, 192)<br>block=%{x}<br>Log10_ParaM=%{y}<extra></extra>",
         "legendgroup": "blocks.6.filter.b1.(2, 4, 192)",
         "marker": {
          "color": "#B6E880",
          "pattern": {
           "shape": ""
          }
         },
         "name": "blocks.6.filter.b1.(2, 4, 192)",
         "offsetgroup": "blocks.6.filter.b1.(2, 4, 192)",
         "orientation": "v",
         "showlegend": true,
         "textposition": "auto",
         "type": "bar",
         "x": [
          "blocks"
         ],
         "xaxis": "x",
         "y": [
          1536
         ],
         "yaxis": "y"
        },
        {
         "alignmentgroup": "True",
         "hovertemplate": "layer=blocks.6.filter.w2.(2, 4, 192, 192)<br>block=%{x}<br>Log10_ParaM=%{y}<extra></extra>",
         "legendgroup": "blocks.6.filter.w2.(2, 4, 192, 192)",
         "marker": {
          "color": "#FF97FF",
          "pattern": {
           "shape": ""
          }
         },
         "name": "blocks.6.filter.w2.(2, 4, 192, 192)",
         "offsetgroup": "blocks.6.filter.w2.(2, 4, 192, 192)",
         "orientation": "v",
         "showlegend": true,
         "textposition": "auto",
         "type": "bar",
         "x": [
          "blocks"
         ],
         "xaxis": "x",
         "y": [
          294912
         ],
         "yaxis": "y"
        },
        {
         "alignmentgroup": "True",
         "hovertemplate": "layer=blocks.6.filter.b2.(2, 4, 192)<br>block=%{x}<br>Log10_ParaM=%{y}<extra></extra>",
         "legendgroup": "blocks.6.filter.b2.(2, 4, 192)",
         "marker": {
          "color": "#FECB52",
          "pattern": {
           "shape": ""
          }
         },
         "name": "blocks.6.filter.b2.(2, 4, 192)",
         "offsetgroup": "blocks.6.filter.b2.(2, 4, 192)",
         "orientation": "v",
         "showlegend": true,
         "textposition": "auto",
         "type": "bar",
         "x": [
          "blocks"
         ],
         "xaxis": "x",
         "y": [
          1536
         ],
         "yaxis": "y"
        },
        {
         "alignmentgroup": "True",
         "hovertemplate": "layer=blocks.6.norm2.weight.(768,)<br>block=%{x}<br>Log10_ParaM=%{y}<extra></extra>",
         "legendgroup": "blocks.6.norm2.weight.(768,)",
         "marker": {
          "color": "#636efa",
          "pattern": {
           "shape": ""
          }
         },
         "name": "blocks.6.norm2.weight.(768,)",
         "offsetgroup": "blocks.6.norm2.weight.(768,)",
         "orientation": "v",
         "showlegend": true,
         "textposition": "auto",
         "type": "bar",
         "x": [
          "blocks"
         ],
         "xaxis": "x",
         "y": [
          768
         ],
         "yaxis": "y"
        },
        {
         "alignmentgroup": "True",
         "hovertemplate": "layer=blocks.6.norm2.bias.(768,)<br>block=%{x}<br>Log10_ParaM=%{y}<extra></extra>",
         "legendgroup": "blocks.6.norm2.bias.(768,)",
         "marker": {
          "color": "#EF553B",
          "pattern": {
           "shape": ""
          }
         },
         "name": "blocks.6.norm2.bias.(768,)",
         "offsetgroup": "blocks.6.norm2.bias.(768,)",
         "orientation": "v",
         "showlegend": true,
         "textposition": "auto",
         "type": "bar",
         "x": [
          "blocks"
         ],
         "xaxis": "x",
         "y": [
          768
         ],
         "yaxis": "y"
        },
        {
         "alignmentgroup": "True",
         "hovertemplate": "layer=blocks.6.mlp.fc1.weight.(3072, 768)<br>block=%{x}<br>Log10_ParaM=%{y}<extra></extra>",
         "legendgroup": "blocks.6.mlp.fc1.weight.(3072, 768)",
         "marker": {
          "color": "#00cc96",
          "pattern": {
           "shape": ""
          }
         },
         "name": "blocks.6.mlp.fc1.weight.(3072, 768)",
         "offsetgroup": "blocks.6.mlp.fc1.weight.(3072, 768)",
         "orientation": "v",
         "showlegend": true,
         "textposition": "auto",
         "type": "bar",
         "x": [
          "blocks"
         ],
         "xaxis": "x",
         "y": [
          2359296
         ],
         "yaxis": "y"
        },
        {
         "alignmentgroup": "True",
         "hovertemplate": "layer=blocks.6.mlp.fc1.bias.(3072,)<br>block=%{x}<br>Log10_ParaM=%{y}<extra></extra>",
         "legendgroup": "blocks.6.mlp.fc1.bias.(3072,)",
         "marker": {
          "color": "#ab63fa",
          "pattern": {
           "shape": ""
          }
         },
         "name": "blocks.6.mlp.fc1.bias.(3072,)",
         "offsetgroup": "blocks.6.mlp.fc1.bias.(3072,)",
         "orientation": "v",
         "showlegend": true,
         "textposition": "auto",
         "type": "bar",
         "x": [
          "blocks"
         ],
         "xaxis": "x",
         "y": [
          3072
         ],
         "yaxis": "y"
        },
        {
         "alignmentgroup": "True",
         "hovertemplate": "layer=blocks.7.norm1.weight.(768,)<br>block=%{x}<br>Log10_ParaM=%{y}<extra></extra>",
         "legendgroup": "blocks.7.norm1.weight.(768,)",
         "marker": {
          "color": "#FFA15A",
          "pattern": {
           "shape": ""
          }
         },
         "name": "blocks.7.norm1.weight.(768,)",
         "offsetgroup": "blocks.7.norm1.weight.(768,)",
         "orientation": "v",
         "showlegend": true,
         "textposition": "auto",
         "type": "bar",
         "x": [
          "blocks"
         ],
         "xaxis": "x",
         "y": [
          768
         ],
         "yaxis": "y"
        },
        {
         "alignmentgroup": "True",
         "hovertemplate": "layer=blocks.7.norm1.bias.(768,)<br>block=%{x}<br>Log10_ParaM=%{y}<extra></extra>",
         "legendgroup": "blocks.7.norm1.bias.(768,)",
         "marker": {
          "color": "#19d3f3",
          "pattern": {
           "shape": ""
          }
         },
         "name": "blocks.7.norm1.bias.(768,)",
         "offsetgroup": "blocks.7.norm1.bias.(768,)",
         "orientation": "v",
         "showlegend": true,
         "textposition": "auto",
         "type": "bar",
         "x": [
          "blocks"
         ],
         "xaxis": "x",
         "y": [
          768
         ],
         "yaxis": "y"
        },
        {
         "alignmentgroup": "True",
         "hovertemplate": "layer=blocks.7.filter.w1.(2, 4, 192, 192)<br>block=%{x}<br>Log10_ParaM=%{y}<extra></extra>",
         "legendgroup": "blocks.7.filter.w1.(2, 4, 192, 192)",
         "marker": {
          "color": "#FF6692",
          "pattern": {
           "shape": ""
          }
         },
         "name": "blocks.7.filter.w1.(2, 4, 192, 192)",
         "offsetgroup": "blocks.7.filter.w1.(2, 4, 192, 192)",
         "orientation": "v",
         "showlegend": true,
         "textposition": "auto",
         "type": "bar",
         "x": [
          "blocks"
         ],
         "xaxis": "x",
         "y": [
          294912
         ],
         "yaxis": "y"
        },
        {
         "alignmentgroup": "True",
         "hovertemplate": "layer=blocks.7.filter.b1.(2, 4, 192)<br>block=%{x}<br>Log10_ParaM=%{y}<extra></extra>",
         "legendgroup": "blocks.7.filter.b1.(2, 4, 192)",
         "marker": {
          "color": "#B6E880",
          "pattern": {
           "shape": ""
          }
         },
         "name": "blocks.7.filter.b1.(2, 4, 192)",
         "offsetgroup": "blocks.7.filter.b1.(2, 4, 192)",
         "orientation": "v",
         "showlegend": true,
         "textposition": "auto",
         "type": "bar",
         "x": [
          "blocks"
         ],
         "xaxis": "x",
         "y": [
          1536
         ],
         "yaxis": "y"
        },
        {
         "alignmentgroup": "True",
         "hovertemplate": "layer=blocks.7.filter.w2.(2, 4, 192, 192)<br>block=%{x}<br>Log10_ParaM=%{y}<extra></extra>",
         "legendgroup": "blocks.7.filter.w2.(2, 4, 192, 192)",
         "marker": {
          "color": "#FF97FF",
          "pattern": {
           "shape": ""
          }
         },
         "name": "blocks.7.filter.w2.(2, 4, 192, 192)",
         "offsetgroup": "blocks.7.filter.w2.(2, 4, 192, 192)",
         "orientation": "v",
         "showlegend": true,
         "textposition": "auto",
         "type": "bar",
         "x": [
          "blocks"
         ],
         "xaxis": "x",
         "y": [
          294912
         ],
         "yaxis": "y"
        },
        {
         "alignmentgroup": "True",
         "hovertemplate": "layer=blocks.7.filter.b2.(2, 4, 192)<br>block=%{x}<br>Log10_ParaM=%{y}<extra></extra>",
         "legendgroup": "blocks.7.filter.b2.(2, 4, 192)",
         "marker": {
          "color": "#FECB52",
          "pattern": {
           "shape": ""
          }
         },
         "name": "blocks.7.filter.b2.(2, 4, 192)",
         "offsetgroup": "blocks.7.filter.b2.(2, 4, 192)",
         "orientation": "v",
         "showlegend": true,
         "textposition": "auto",
         "type": "bar",
         "x": [
          "blocks"
         ],
         "xaxis": "x",
         "y": [
          1536
         ],
         "yaxis": "y"
        },
        {
         "alignmentgroup": "True",
         "hovertemplate": "layer=blocks.7.norm2.weight.(768,)<br>block=%{x}<br>Log10_ParaM=%{y}<extra></extra>",
         "legendgroup": "blocks.7.norm2.weight.(768,)",
         "marker": {
          "color": "#636efa",
          "pattern": {
           "shape": ""
          }
         },
         "name": "blocks.7.norm2.weight.(768,)",
         "offsetgroup": "blocks.7.norm2.weight.(768,)",
         "orientation": "v",
         "showlegend": true,
         "textposition": "auto",
         "type": "bar",
         "x": [
          "blocks"
         ],
         "xaxis": "x",
         "y": [
          768
         ],
         "yaxis": "y"
        },
        {
         "alignmentgroup": "True",
         "hovertemplate": "layer=blocks.7.norm2.bias.(768,)<br>block=%{x}<br>Log10_ParaM=%{y}<extra></extra>",
         "legendgroup": "blocks.7.norm2.bias.(768,)",
         "marker": {
          "color": "#EF553B",
          "pattern": {
           "shape": ""
          }
         },
         "name": "blocks.7.norm2.bias.(768,)",
         "offsetgroup": "blocks.7.norm2.bias.(768,)",
         "orientation": "v",
         "showlegend": true,
         "textposition": "auto",
         "type": "bar",
         "x": [
          "blocks"
         ],
         "xaxis": "x",
         "y": [
          768
         ],
         "yaxis": "y"
        },
        {
         "alignmentgroup": "True",
         "hovertemplate": "layer=blocks.7.mlp.fc1.weight.(3072, 768)<br>block=%{x}<br>Log10_ParaM=%{y}<extra></extra>",
         "legendgroup": "blocks.7.mlp.fc1.weight.(3072, 768)",
         "marker": {
          "color": "#00cc96",
          "pattern": {
           "shape": ""
          }
         },
         "name": "blocks.7.mlp.fc1.weight.(3072, 768)",
         "offsetgroup": "blocks.7.mlp.fc1.weight.(3072, 768)",
         "orientation": "v",
         "showlegend": true,
         "textposition": "auto",
         "type": "bar",
         "x": [
          "blocks"
         ],
         "xaxis": "x",
         "y": [
          2359296
         ],
         "yaxis": "y"
        },
        {
         "alignmentgroup": "True",
         "hovertemplate": "layer=blocks.7.mlp.fc1.bias.(3072,)<br>block=%{x}<br>Log10_ParaM=%{y}<extra></extra>",
         "legendgroup": "blocks.7.mlp.fc1.bias.(3072,)",
         "marker": {
          "color": "#ab63fa",
          "pattern": {
           "shape": ""
          }
         },
         "name": "blocks.7.mlp.fc1.bias.(3072,)",
         "offsetgroup": "blocks.7.mlp.fc1.bias.(3072,)",
         "orientation": "v",
         "showlegend": true,
         "textposition": "auto",
         "type": "bar",
         "x": [
          "blocks"
         ],
         "xaxis": "x",
         "y": [
          3072
         ],
         "yaxis": "y"
        },
        {
         "alignmentgroup": "True",
         "hovertemplate": "layer=blocks.8.norm1.weight.(768,)<br>block=%{x}<br>Log10_ParaM=%{y}<extra></extra>",
         "legendgroup": "blocks.8.norm1.weight.(768,)",
         "marker": {
          "color": "#FFA15A",
          "pattern": {
           "shape": ""
          }
         },
         "name": "blocks.8.norm1.weight.(768,)",
         "offsetgroup": "blocks.8.norm1.weight.(768,)",
         "orientation": "v",
         "showlegend": true,
         "textposition": "auto",
         "type": "bar",
         "x": [
          "blocks"
         ],
         "xaxis": "x",
         "y": [
          768
         ],
         "yaxis": "y"
        },
        {
         "alignmentgroup": "True",
         "hovertemplate": "layer=blocks.8.norm1.bias.(768,)<br>block=%{x}<br>Log10_ParaM=%{y}<extra></extra>",
         "legendgroup": "blocks.8.norm1.bias.(768,)",
         "marker": {
          "color": "#19d3f3",
          "pattern": {
           "shape": ""
          }
         },
         "name": "blocks.8.norm1.bias.(768,)",
         "offsetgroup": "blocks.8.norm1.bias.(768,)",
         "orientation": "v",
         "showlegend": true,
         "textposition": "auto",
         "type": "bar",
         "x": [
          "blocks"
         ],
         "xaxis": "x",
         "y": [
          768
         ],
         "yaxis": "y"
        },
        {
         "alignmentgroup": "True",
         "hovertemplate": "layer=blocks.8.filter.w1.(2, 4, 192, 192)<br>block=%{x}<br>Log10_ParaM=%{y}<extra></extra>",
         "legendgroup": "blocks.8.filter.w1.(2, 4, 192, 192)",
         "marker": {
          "color": "#FF6692",
          "pattern": {
           "shape": ""
          }
         },
         "name": "blocks.8.filter.w1.(2, 4, 192, 192)",
         "offsetgroup": "blocks.8.filter.w1.(2, 4, 192, 192)",
         "orientation": "v",
         "showlegend": true,
         "textposition": "auto",
         "type": "bar",
         "x": [
          "blocks"
         ],
         "xaxis": "x",
         "y": [
          294912
         ],
         "yaxis": "y"
        },
        {
         "alignmentgroup": "True",
         "hovertemplate": "layer=blocks.8.filter.b1.(2, 4, 192)<br>block=%{x}<br>Log10_ParaM=%{y}<extra></extra>",
         "legendgroup": "blocks.8.filter.b1.(2, 4, 192)",
         "marker": {
          "color": "#B6E880",
          "pattern": {
           "shape": ""
          }
         },
         "name": "blocks.8.filter.b1.(2, 4, 192)",
         "offsetgroup": "blocks.8.filter.b1.(2, 4, 192)",
         "orientation": "v",
         "showlegend": true,
         "textposition": "auto",
         "type": "bar",
         "x": [
          "blocks"
         ],
         "xaxis": "x",
         "y": [
          1536
         ],
         "yaxis": "y"
        },
        {
         "alignmentgroup": "True",
         "hovertemplate": "layer=blocks.8.filter.w2.(2, 4, 192, 192)<br>block=%{x}<br>Log10_ParaM=%{y}<extra></extra>",
         "legendgroup": "blocks.8.filter.w2.(2, 4, 192, 192)",
         "marker": {
          "color": "#FF97FF",
          "pattern": {
           "shape": ""
          }
         },
         "name": "blocks.8.filter.w2.(2, 4, 192, 192)",
         "offsetgroup": "blocks.8.filter.w2.(2, 4, 192, 192)",
         "orientation": "v",
         "showlegend": true,
         "textposition": "auto",
         "type": "bar",
         "x": [
          "blocks"
         ],
         "xaxis": "x",
         "y": [
          294912
         ],
         "yaxis": "y"
        },
        {
         "alignmentgroup": "True",
         "hovertemplate": "layer=blocks.8.filter.b2.(2, 4, 192)<br>block=%{x}<br>Log10_ParaM=%{y}<extra></extra>",
         "legendgroup": "blocks.8.filter.b2.(2, 4, 192)",
         "marker": {
          "color": "#FECB52",
          "pattern": {
           "shape": ""
          }
         },
         "name": "blocks.8.filter.b2.(2, 4, 192)",
         "offsetgroup": "blocks.8.filter.b2.(2, 4, 192)",
         "orientation": "v",
         "showlegend": true,
         "textposition": "auto",
         "type": "bar",
         "x": [
          "blocks"
         ],
         "xaxis": "x",
         "y": [
          1536
         ],
         "yaxis": "y"
        },
        {
         "alignmentgroup": "True",
         "hovertemplate": "layer=blocks.8.norm2.weight.(768,)<br>block=%{x}<br>Log10_ParaM=%{y}<extra></extra>",
         "legendgroup": "blocks.8.norm2.weight.(768,)",
         "marker": {
          "color": "#636efa",
          "pattern": {
           "shape": ""
          }
         },
         "name": "blocks.8.norm2.weight.(768,)",
         "offsetgroup": "blocks.8.norm2.weight.(768,)",
         "orientation": "v",
         "showlegend": true,
         "textposition": "auto",
         "type": "bar",
         "x": [
          "blocks"
         ],
         "xaxis": "x",
         "y": [
          768
         ],
         "yaxis": "y"
        },
        {
         "alignmentgroup": "True",
         "hovertemplate": "layer=blocks.8.norm2.bias.(768,)<br>block=%{x}<br>Log10_ParaM=%{y}<extra></extra>",
         "legendgroup": "blocks.8.norm2.bias.(768,)",
         "marker": {
          "color": "#EF553B",
          "pattern": {
           "shape": ""
          }
         },
         "name": "blocks.8.norm2.bias.(768,)",
         "offsetgroup": "blocks.8.norm2.bias.(768,)",
         "orientation": "v",
         "showlegend": true,
         "textposition": "auto",
         "type": "bar",
         "x": [
          "blocks"
         ],
         "xaxis": "x",
         "y": [
          768
         ],
         "yaxis": "y"
        },
        {
         "alignmentgroup": "True",
         "hovertemplate": "layer=blocks.8.mlp.fc1.weight.(3072, 768)<br>block=%{x}<br>Log10_ParaM=%{y}<extra></extra>",
         "legendgroup": "blocks.8.mlp.fc1.weight.(3072, 768)",
         "marker": {
          "color": "#00cc96",
          "pattern": {
           "shape": ""
          }
         },
         "name": "blocks.8.mlp.fc1.weight.(3072, 768)",
         "offsetgroup": "blocks.8.mlp.fc1.weight.(3072, 768)",
         "orientation": "v",
         "showlegend": true,
         "textposition": "auto",
         "type": "bar",
         "x": [
          "blocks"
         ],
         "xaxis": "x",
         "y": [
          2359296
         ],
         "yaxis": "y"
        },
        {
         "alignmentgroup": "True",
         "hovertemplate": "layer=blocks.8.mlp.fc1.bias.(3072,)<br>block=%{x}<br>Log10_ParaM=%{y}<extra></extra>",
         "legendgroup": "blocks.8.mlp.fc1.bias.(3072,)",
         "marker": {
          "color": "#ab63fa",
          "pattern": {
           "shape": ""
          }
         },
         "name": "blocks.8.mlp.fc1.bias.(3072,)",
         "offsetgroup": "blocks.8.mlp.fc1.bias.(3072,)",
         "orientation": "v",
         "showlegend": true,
         "textposition": "auto",
         "type": "bar",
         "x": [
          "blocks"
         ],
         "xaxis": "x",
         "y": [
          3072
         ],
         "yaxis": "y"
        },
        {
         "alignmentgroup": "True",
         "hovertemplate": "layer=blocks.9.norm1.weight.(768,)<br>block=%{x}<br>Log10_ParaM=%{y}<extra></extra>",
         "legendgroup": "blocks.9.norm1.weight.(768,)",
         "marker": {
          "color": "#FFA15A",
          "pattern": {
           "shape": ""
          }
         },
         "name": "blocks.9.norm1.weight.(768,)",
         "offsetgroup": "blocks.9.norm1.weight.(768,)",
         "orientation": "v",
         "showlegend": true,
         "textposition": "auto",
         "type": "bar",
         "x": [
          "blocks"
         ],
         "xaxis": "x",
         "y": [
          768
         ],
         "yaxis": "y"
        },
        {
         "alignmentgroup": "True",
         "hovertemplate": "layer=blocks.9.norm1.bias.(768,)<br>block=%{x}<br>Log10_ParaM=%{y}<extra></extra>",
         "legendgroup": "blocks.9.norm1.bias.(768,)",
         "marker": {
          "color": "#19d3f3",
          "pattern": {
           "shape": ""
          }
         },
         "name": "blocks.9.norm1.bias.(768,)",
         "offsetgroup": "blocks.9.norm1.bias.(768,)",
         "orientation": "v",
         "showlegend": true,
         "textposition": "auto",
         "type": "bar",
         "x": [
          "blocks"
         ],
         "xaxis": "x",
         "y": [
          768
         ],
         "yaxis": "y"
        },
        {
         "alignmentgroup": "True",
         "hovertemplate": "layer=blocks.9.filter.w1.(2, 4, 192, 192)<br>block=%{x}<br>Log10_ParaM=%{y}<extra></extra>",
         "legendgroup": "blocks.9.filter.w1.(2, 4, 192, 192)",
         "marker": {
          "color": "#FF6692",
          "pattern": {
           "shape": ""
          }
         },
         "name": "blocks.9.filter.w1.(2, 4, 192, 192)",
         "offsetgroup": "blocks.9.filter.w1.(2, 4, 192, 192)",
         "orientation": "v",
         "showlegend": true,
         "textposition": "auto",
         "type": "bar",
         "x": [
          "blocks"
         ],
         "xaxis": "x",
         "y": [
          294912
         ],
         "yaxis": "y"
        },
        {
         "alignmentgroup": "True",
         "hovertemplate": "layer=blocks.9.filter.b1.(2, 4, 192)<br>block=%{x}<br>Log10_ParaM=%{y}<extra></extra>",
         "legendgroup": "blocks.9.filter.b1.(2, 4, 192)",
         "marker": {
          "color": "#B6E880",
          "pattern": {
           "shape": ""
          }
         },
         "name": "blocks.9.filter.b1.(2, 4, 192)",
         "offsetgroup": "blocks.9.filter.b1.(2, 4, 192)",
         "orientation": "v",
         "showlegend": true,
         "textposition": "auto",
         "type": "bar",
         "x": [
          "blocks"
         ],
         "xaxis": "x",
         "y": [
          1536
         ],
         "yaxis": "y"
        },
        {
         "alignmentgroup": "True",
         "hovertemplate": "layer=blocks.9.filter.w2.(2, 4, 192, 192)<br>block=%{x}<br>Log10_ParaM=%{y}<extra></extra>",
         "legendgroup": "blocks.9.filter.w2.(2, 4, 192, 192)",
         "marker": {
          "color": "#FF97FF",
          "pattern": {
           "shape": ""
          }
         },
         "name": "blocks.9.filter.w2.(2, 4, 192, 192)",
         "offsetgroup": "blocks.9.filter.w2.(2, 4, 192, 192)",
         "orientation": "v",
         "showlegend": true,
         "textposition": "auto",
         "type": "bar",
         "x": [
          "blocks"
         ],
         "xaxis": "x",
         "y": [
          294912
         ],
         "yaxis": "y"
        },
        {
         "alignmentgroup": "True",
         "hovertemplate": "layer=blocks.9.filter.b2.(2, 4, 192)<br>block=%{x}<br>Log10_ParaM=%{y}<extra></extra>",
         "legendgroup": "blocks.9.filter.b2.(2, 4, 192)",
         "marker": {
          "color": "#FECB52",
          "pattern": {
           "shape": ""
          }
         },
         "name": "blocks.9.filter.b2.(2, 4, 192)",
         "offsetgroup": "blocks.9.filter.b2.(2, 4, 192)",
         "orientation": "v",
         "showlegend": true,
         "textposition": "auto",
         "type": "bar",
         "x": [
          "blocks"
         ],
         "xaxis": "x",
         "y": [
          1536
         ],
         "yaxis": "y"
        },
        {
         "alignmentgroup": "True",
         "hovertemplate": "layer=blocks.9.norm2.weight.(768,)<br>block=%{x}<br>Log10_ParaM=%{y}<extra></extra>",
         "legendgroup": "blocks.9.norm2.weight.(768,)",
         "marker": {
          "color": "#636efa",
          "pattern": {
           "shape": ""
          }
         },
         "name": "blocks.9.norm2.weight.(768,)",
         "offsetgroup": "blocks.9.norm2.weight.(768,)",
         "orientation": "v",
         "showlegend": true,
         "textposition": "auto",
         "type": "bar",
         "x": [
          "blocks"
         ],
         "xaxis": "x",
         "y": [
          768
         ],
         "yaxis": "y"
        },
        {
         "alignmentgroup": "True",
         "hovertemplate": "layer=blocks.9.norm2.bias.(768,)<br>block=%{x}<br>Log10_ParaM=%{y}<extra></extra>",
         "legendgroup": "blocks.9.norm2.bias.(768,)",
         "marker": {
          "color": "#EF553B",
          "pattern": {
           "shape": ""
          }
         },
         "name": "blocks.9.norm2.bias.(768,)",
         "offsetgroup": "blocks.9.norm2.bias.(768,)",
         "orientation": "v",
         "showlegend": true,
         "textposition": "auto",
         "type": "bar",
         "x": [
          "blocks"
         ],
         "xaxis": "x",
         "y": [
          768
         ],
         "yaxis": "y"
        },
        {
         "alignmentgroup": "True",
         "hovertemplate": "layer=blocks.9.mlp.fc1.weight.(3072, 768)<br>block=%{x}<br>Log10_ParaM=%{y}<extra></extra>",
         "legendgroup": "blocks.9.mlp.fc1.weight.(3072, 768)",
         "marker": {
          "color": "#00cc96",
          "pattern": {
           "shape": ""
          }
         },
         "name": "blocks.9.mlp.fc1.weight.(3072, 768)",
         "offsetgroup": "blocks.9.mlp.fc1.weight.(3072, 768)",
         "orientation": "v",
         "showlegend": true,
         "textposition": "auto",
         "type": "bar",
         "x": [
          "blocks"
         ],
         "xaxis": "x",
         "y": [
          2359296
         ],
         "yaxis": "y"
        },
        {
         "alignmentgroup": "True",
         "hovertemplate": "layer=blocks.9.mlp.fc1.bias.(3072,)<br>block=%{x}<br>Log10_ParaM=%{y}<extra></extra>",
         "legendgroup": "blocks.9.mlp.fc1.bias.(3072,)",
         "marker": {
          "color": "#ab63fa",
          "pattern": {
           "shape": ""
          }
         },
         "name": "blocks.9.mlp.fc1.bias.(3072,)",
         "offsetgroup": "blocks.9.mlp.fc1.bias.(3072,)",
         "orientation": "v",
         "showlegend": true,
         "textposition": "auto",
         "type": "bar",
         "x": [
          "blocks"
         ],
         "xaxis": "x",
         "y": [
          3072
         ],
         "yaxis": "y"
        },
        {
         "alignmentgroup": "True",
         "hovertemplate": "layer=blocks.10.norm1.weight.(768,)<br>block=%{x}<br>Log10_ParaM=%{y}<extra></extra>",
         "legendgroup": "blocks.10.norm1.weight.(768,)",
         "marker": {
          "color": "#FFA15A",
          "pattern": {
           "shape": ""
          }
         },
         "name": "blocks.10.norm1.weight.(768,)",
         "offsetgroup": "blocks.10.norm1.weight.(768,)",
         "orientation": "v",
         "showlegend": true,
         "textposition": "auto",
         "type": "bar",
         "x": [
          "blocks"
         ],
         "xaxis": "x",
         "y": [
          768
         ],
         "yaxis": "y"
        },
        {
         "alignmentgroup": "True",
         "hovertemplate": "layer=blocks.10.norm1.bias.(768,)<br>block=%{x}<br>Log10_ParaM=%{y}<extra></extra>",
         "legendgroup": "blocks.10.norm1.bias.(768,)",
         "marker": {
          "color": "#19d3f3",
          "pattern": {
           "shape": ""
          }
         },
         "name": "blocks.10.norm1.bias.(768,)",
         "offsetgroup": "blocks.10.norm1.bias.(768,)",
         "orientation": "v",
         "showlegend": true,
         "textposition": "auto",
         "type": "bar",
         "x": [
          "blocks"
         ],
         "xaxis": "x",
         "y": [
          768
         ],
         "yaxis": "y"
        },
        {
         "alignmentgroup": "True",
         "hovertemplate": "layer=blocks.10.filter.w1.(2, 4, 192, 192)<br>block=%{x}<br>Log10_ParaM=%{y}<extra></extra>",
         "legendgroup": "blocks.10.filter.w1.(2, 4, 192, 192)",
         "marker": {
          "color": "#FF6692",
          "pattern": {
           "shape": ""
          }
         },
         "name": "blocks.10.filter.w1.(2, 4, 192, 192)",
         "offsetgroup": "blocks.10.filter.w1.(2, 4, 192, 192)",
         "orientation": "v",
         "showlegend": true,
         "textposition": "auto",
         "type": "bar",
         "x": [
          "blocks"
         ],
         "xaxis": "x",
         "y": [
          294912
         ],
         "yaxis": "y"
        },
        {
         "alignmentgroup": "True",
         "hovertemplate": "layer=blocks.10.filter.b1.(2, 4, 192)<br>block=%{x}<br>Log10_ParaM=%{y}<extra></extra>",
         "legendgroup": "blocks.10.filter.b1.(2, 4, 192)",
         "marker": {
          "color": "#B6E880",
          "pattern": {
           "shape": ""
          }
         },
         "name": "blocks.10.filter.b1.(2, 4, 192)",
         "offsetgroup": "blocks.10.filter.b1.(2, 4, 192)",
         "orientation": "v",
         "showlegend": true,
         "textposition": "auto",
         "type": "bar",
         "x": [
          "blocks"
         ],
         "xaxis": "x",
         "y": [
          1536
         ],
         "yaxis": "y"
        },
        {
         "alignmentgroup": "True",
         "hovertemplate": "layer=blocks.10.filter.w2.(2, 4, 192, 192)<br>block=%{x}<br>Log10_ParaM=%{y}<extra></extra>",
         "legendgroup": "blocks.10.filter.w2.(2, 4, 192, 192)",
         "marker": {
          "color": "#FF97FF",
          "pattern": {
           "shape": ""
          }
         },
         "name": "blocks.10.filter.w2.(2, 4, 192, 192)",
         "offsetgroup": "blocks.10.filter.w2.(2, 4, 192, 192)",
         "orientation": "v",
         "showlegend": true,
         "textposition": "auto",
         "type": "bar",
         "x": [
          "blocks"
         ],
         "xaxis": "x",
         "y": [
          294912
         ],
         "yaxis": "y"
        },
        {
         "alignmentgroup": "True",
         "hovertemplate": "layer=blocks.10.filter.b2.(2, 4, 192)<br>block=%{x}<br>Log10_ParaM=%{y}<extra></extra>",
         "legendgroup": "blocks.10.filter.b2.(2, 4, 192)",
         "marker": {
          "color": "#FECB52",
          "pattern": {
           "shape": ""
          }
         },
         "name": "blocks.10.filter.b2.(2, 4, 192)",
         "offsetgroup": "blocks.10.filter.b2.(2, 4, 192)",
         "orientation": "v",
         "showlegend": true,
         "textposition": "auto",
         "type": "bar",
         "x": [
          "blocks"
         ],
         "xaxis": "x",
         "y": [
          1536
         ],
         "yaxis": "y"
        },
        {
         "alignmentgroup": "True",
         "hovertemplate": "layer=blocks.10.norm2.weight.(768,)<br>block=%{x}<br>Log10_ParaM=%{y}<extra></extra>",
         "legendgroup": "blocks.10.norm2.weight.(768,)",
         "marker": {
          "color": "#636efa",
          "pattern": {
           "shape": ""
          }
         },
         "name": "blocks.10.norm2.weight.(768,)",
         "offsetgroup": "blocks.10.norm2.weight.(768,)",
         "orientation": "v",
         "showlegend": true,
         "textposition": "auto",
         "type": "bar",
         "x": [
          "blocks"
         ],
         "xaxis": "x",
         "y": [
          768
         ],
         "yaxis": "y"
        },
        {
         "alignmentgroup": "True",
         "hovertemplate": "layer=blocks.10.norm2.bias.(768,)<br>block=%{x}<br>Log10_ParaM=%{y}<extra></extra>",
         "legendgroup": "blocks.10.norm2.bias.(768,)",
         "marker": {
          "color": "#EF553B",
          "pattern": {
           "shape": ""
          }
         },
         "name": "blocks.10.norm2.bias.(768,)",
         "offsetgroup": "blocks.10.norm2.bias.(768,)",
         "orientation": "v",
         "showlegend": true,
         "textposition": "auto",
         "type": "bar",
         "x": [
          "blocks"
         ],
         "xaxis": "x",
         "y": [
          768
         ],
         "yaxis": "y"
        },
        {
         "alignmentgroup": "True",
         "hovertemplate": "layer=blocks.10.mlp.fc1.weight.(3072, 768)<br>block=%{x}<br>Log10_ParaM=%{y}<extra></extra>",
         "legendgroup": "blocks.10.mlp.fc1.weight.(3072, 768)",
         "marker": {
          "color": "#00cc96",
          "pattern": {
           "shape": ""
          }
         },
         "name": "blocks.10.mlp.fc1.weight.(3072, 768)",
         "offsetgroup": "blocks.10.mlp.fc1.weight.(3072, 768)",
         "orientation": "v",
         "showlegend": true,
         "textposition": "auto",
         "type": "bar",
         "x": [
          "blocks"
         ],
         "xaxis": "x",
         "y": [
          2359296
         ],
         "yaxis": "y"
        },
        {
         "alignmentgroup": "True",
         "hovertemplate": "layer=blocks.10.mlp.fc1.bias.(3072,)<br>block=%{x}<br>Log10_ParaM=%{y}<extra></extra>",
         "legendgroup": "blocks.10.mlp.fc1.bias.(3072,)",
         "marker": {
          "color": "#ab63fa",
          "pattern": {
           "shape": ""
          }
         },
         "name": "blocks.10.mlp.fc1.bias.(3072,)",
         "offsetgroup": "blocks.10.mlp.fc1.bias.(3072,)",
         "orientation": "v",
         "showlegend": true,
         "textposition": "auto",
         "type": "bar",
         "x": [
          "blocks"
         ],
         "xaxis": "x",
         "y": [
          3072
         ],
         "yaxis": "y"
        },
        {
         "alignmentgroup": "True",
         "hovertemplate": "layer=blocks.11.norm1.weight.(768,)<br>block=%{x}<br>Log10_ParaM=%{y}<extra></extra>",
         "legendgroup": "blocks.11.norm1.weight.(768,)",
         "marker": {
          "color": "#FFA15A",
          "pattern": {
           "shape": ""
          }
         },
         "name": "blocks.11.norm1.weight.(768,)",
         "offsetgroup": "blocks.11.norm1.weight.(768,)",
         "orientation": "v",
         "showlegend": true,
         "textposition": "auto",
         "type": "bar",
         "x": [
          "blocks"
         ],
         "xaxis": "x",
         "y": [
          768
         ],
         "yaxis": "y"
        },
        {
         "alignmentgroup": "True",
         "hovertemplate": "layer=blocks.11.norm1.bias.(768,)<br>block=%{x}<br>Log10_ParaM=%{y}<extra></extra>",
         "legendgroup": "blocks.11.norm1.bias.(768,)",
         "marker": {
          "color": "#19d3f3",
          "pattern": {
           "shape": ""
          }
         },
         "name": "blocks.11.norm1.bias.(768,)",
         "offsetgroup": "blocks.11.norm1.bias.(768,)",
         "orientation": "v",
         "showlegend": true,
         "textposition": "auto",
         "type": "bar",
         "x": [
          "blocks"
         ],
         "xaxis": "x",
         "y": [
          768
         ],
         "yaxis": "y"
        },
        {
         "alignmentgroup": "True",
         "hovertemplate": "layer=blocks.11.filter.w1.(2, 4, 192, 192)<br>block=%{x}<br>Log10_ParaM=%{y}<extra></extra>",
         "legendgroup": "blocks.11.filter.w1.(2, 4, 192, 192)",
         "marker": {
          "color": "#FF6692",
          "pattern": {
           "shape": ""
          }
         },
         "name": "blocks.11.filter.w1.(2, 4, 192, 192)",
         "offsetgroup": "blocks.11.filter.w1.(2, 4, 192, 192)",
         "orientation": "v",
         "showlegend": true,
         "textposition": "auto",
         "type": "bar",
         "x": [
          "blocks"
         ],
         "xaxis": "x",
         "y": [
          294912
         ],
         "yaxis": "y"
        },
        {
         "alignmentgroup": "True",
         "hovertemplate": "layer=blocks.11.filter.b1.(2, 4, 192)<br>block=%{x}<br>Log10_ParaM=%{y}<extra></extra>",
         "legendgroup": "blocks.11.filter.b1.(2, 4, 192)",
         "marker": {
          "color": "#B6E880",
          "pattern": {
           "shape": ""
          }
         },
         "name": "blocks.11.filter.b1.(2, 4, 192)",
         "offsetgroup": "blocks.11.filter.b1.(2, 4, 192)",
         "orientation": "v",
         "showlegend": true,
         "textposition": "auto",
         "type": "bar",
         "x": [
          "blocks"
         ],
         "xaxis": "x",
         "y": [
          1536
         ],
         "yaxis": "y"
        },
        {
         "alignmentgroup": "True",
         "hovertemplate": "layer=blocks.11.filter.w2.(2, 4, 192, 192)<br>block=%{x}<br>Log10_ParaM=%{y}<extra></extra>",
         "legendgroup": "blocks.11.filter.w2.(2, 4, 192, 192)",
         "marker": {
          "color": "#FF97FF",
          "pattern": {
           "shape": ""
          }
         },
         "name": "blocks.11.filter.w2.(2, 4, 192, 192)",
         "offsetgroup": "blocks.11.filter.w2.(2, 4, 192, 192)",
         "orientation": "v",
         "showlegend": true,
         "textposition": "auto",
         "type": "bar",
         "x": [
          "blocks"
         ],
         "xaxis": "x",
         "y": [
          294912
         ],
         "yaxis": "y"
        },
        {
         "alignmentgroup": "True",
         "hovertemplate": "layer=blocks.11.filter.b2.(2, 4, 192)<br>block=%{x}<br>Log10_ParaM=%{y}<extra></extra>",
         "legendgroup": "blocks.11.filter.b2.(2, 4, 192)",
         "marker": {
          "color": "#FECB52",
          "pattern": {
           "shape": ""
          }
         },
         "name": "blocks.11.filter.b2.(2, 4, 192)",
         "offsetgroup": "blocks.11.filter.b2.(2, 4, 192)",
         "orientation": "v",
         "showlegend": true,
         "textposition": "auto",
         "type": "bar",
         "x": [
          "blocks"
         ],
         "xaxis": "x",
         "y": [
          1536
         ],
         "yaxis": "y"
        },
        {
         "alignmentgroup": "True",
         "hovertemplate": "layer=blocks.11.norm2.weight.(768,)<br>block=%{x}<br>Log10_ParaM=%{y}<extra></extra>",
         "legendgroup": "blocks.11.norm2.weight.(768,)",
         "marker": {
          "color": "#636efa",
          "pattern": {
           "shape": ""
          }
         },
         "name": "blocks.11.norm2.weight.(768,)",
         "offsetgroup": "blocks.11.norm2.weight.(768,)",
         "orientation": "v",
         "showlegend": true,
         "textposition": "auto",
         "type": "bar",
         "x": [
          "blocks"
         ],
         "xaxis": "x",
         "y": [
          768
         ],
         "yaxis": "y"
        },
        {
         "alignmentgroup": "True",
         "hovertemplate": "layer=blocks.11.norm2.bias.(768,)<br>block=%{x}<br>Log10_ParaM=%{y}<extra></extra>",
         "legendgroup": "blocks.11.norm2.bias.(768,)",
         "marker": {
          "color": "#EF553B",
          "pattern": {
           "shape": ""
          }
         },
         "name": "blocks.11.norm2.bias.(768,)",
         "offsetgroup": "blocks.11.norm2.bias.(768,)",
         "orientation": "v",
         "showlegend": true,
         "textposition": "auto",
         "type": "bar",
         "x": [
          "blocks"
         ],
         "xaxis": "x",
         "y": [
          768
         ],
         "yaxis": "y"
        },
        {
         "alignmentgroup": "True",
         "hovertemplate": "layer=blocks.11.mlp.fc1.weight.(3072, 768)<br>block=%{x}<br>Log10_ParaM=%{y}<extra></extra>",
         "legendgroup": "blocks.11.mlp.fc1.weight.(3072, 768)",
         "marker": {
          "color": "#00cc96",
          "pattern": {
           "shape": ""
          }
         },
         "name": "blocks.11.mlp.fc1.weight.(3072, 768)",
         "offsetgroup": "blocks.11.mlp.fc1.weight.(3072, 768)",
         "orientation": "v",
         "showlegend": true,
         "textposition": "auto",
         "type": "bar",
         "x": [
          "blocks"
         ],
         "xaxis": "x",
         "y": [
          2359296
         ],
         "yaxis": "y"
        },
        {
         "alignmentgroup": "True",
         "hovertemplate": "layer=blocks.11.mlp.fc1.bias.(3072,)<br>block=%{x}<br>Log10_ParaM=%{y}<extra></extra>",
         "legendgroup": "blocks.11.mlp.fc1.bias.(3072,)",
         "marker": {
          "color": "#ab63fa",
          "pattern": {
           "shape": ""
          }
         },
         "name": "blocks.11.mlp.fc1.bias.(3072,)",
         "offsetgroup": "blocks.11.mlp.fc1.bias.(3072,)",
         "orientation": "v",
         "showlegend": true,
         "textposition": "auto",
         "type": "bar",
         "x": [
          "blocks"
         ],
         "xaxis": "x",
         "y": [
          3072
         ],
         "yaxis": "y"
        },
        {
         "alignmentgroup": "True",
         "hovertemplate": "layer=norm.weight.(768,)<br>block=%{x}<br>Log10_ParaM=%{y}<extra></extra>",
         "legendgroup": "norm.weight.(768,)",
         "marker": {
          "color": "#FFA15A",
          "pattern": {
           "shape": ""
          }
         },
         "name": "norm.weight.(768,)",
         "offsetgroup": "norm.weight.(768,)",
         "orientation": "v",
         "showlegend": true,
         "textposition": "auto",
         "type": "bar",
         "x": [
          "norm"
         ],
         "xaxis": "x",
         "y": [
          768
         ],
         "yaxis": "y"
        },
        {
         "alignmentgroup": "True",
         "hovertemplate": "layer=norm.bias.(768,)<br>block=%{x}<br>Log10_ParaM=%{y}<extra></extra>",
         "legendgroup": "norm.bias.(768,)",
         "marker": {
          "color": "#19d3f3",
          "pattern": {
           "shape": ""
          }
         },
         "name": "norm.bias.(768,)",
         "offsetgroup": "norm.bias.(768,)",
         "orientation": "v",
         "showlegend": true,
         "textposition": "auto",
         "type": "bar",
         "x": [
          "norm"
         ],
         "xaxis": "x",
         "y": [
          768
         ],
         "yaxis": "y"
        },
        {
         "alignmentgroup": "True",
         "hovertemplate": "layer=pre_logits.conv1.conv_layers.0.weight.(768, 3360, 3)<br>block=%{x}<br>Log10_ParaM=%{y}<extra></extra>",
         "legendgroup": "pre_logits.conv1.conv_layers.0.weight.(768, 3360, 3)",
         "marker": {
          "color": "#FF6692",
          "pattern": {
           "shape": ""
          }
         },
         "name": "pre_logits.conv1.conv_layers.0.weight.(768, 3360, 3)",
         "offsetgroup": "pre_logits.conv1.conv_layers.0.weight.(768, 3360, 3)",
         "orientation": "v",
         "showlegend": true,
         "textposition": "auto",
         "type": "bar",
         "x": [
          "pre_logits"
         ],
         "xaxis": "x",
         "y": [
          7741440
         ],
         "yaxis": "y"
        },
        {
         "alignmentgroup": "True",
         "hovertemplate": "layer=pre_logits.conv1.conv_layers.1.weight.(768, 3360, 3)<br>block=%{x}<br>Log10_ParaM=%{y}<extra></extra>",
         "legendgroup": "pre_logits.conv1.conv_layers.1.weight.(768, 3360, 3)",
         "marker": {
          "color": "#B6E880",
          "pattern": {
           "shape": ""
          }
         },
         "name": "pre_logits.conv1.conv_layers.1.weight.(768, 3360, 3)",
         "offsetgroup": "pre_logits.conv1.conv_layers.1.weight.(768, 3360, 3)",
         "orientation": "v",
         "showlegend": true,
         "textposition": "auto",
         "type": "bar",
         "x": [
          "pre_logits"
         ],
         "xaxis": "x",
         "y": [
          7741440
         ],
         "yaxis": "y"
        },
        {
         "alignmentgroup": "True",
         "hovertemplate": "layer=pre_logits.conv1.conv_layers.2.weight.(768, 3360, 3)<br>block=%{x}<br>Log10_ParaM=%{y}<extra></extra>",
         "legendgroup": "pre_logits.conv1.conv_layers.2.weight.(768, 3360, 3)",
         "marker": {
          "color": "#FF97FF",
          "pattern": {
           "shape": ""
          }
         },
         "name": "pre_logits.conv1.conv_layers.2.weight.(768, 3360, 3)",
         "offsetgroup": "pre_logits.conv1.conv_layers.2.weight.(768, 3360, 3)",
         "orientation": "v",
         "showlegend": true,
         "textposition": "auto",
         "type": "bar",
         "x": [
          "pre_logits"
         ],
         "xaxis": "x",
         "y": [
          7741440
         ],
         "yaxis": "y"
        },
        {
         "alignmentgroup": "True",
         "hovertemplate": "layer=pre_logits.conv2.conv_layers.0.weight.(3360, 840, 3)<br>block=%{x}<br>Log10_ParaM=%{y}<extra></extra>",
         "legendgroup": "pre_logits.conv2.conv_layers.0.weight.(3360, 840, 3)",
         "marker": {
          "color": "#FECB52",
          "pattern": {
           "shape": ""
          }
         },
         "name": "pre_logits.conv2.conv_layers.0.weight.(3360, 840, 3)",
         "offsetgroup": "pre_logits.conv2.conv_layers.0.weight.(3360, 840, 3)",
         "orientation": "v",
         "showlegend": true,
         "textposition": "auto",
         "type": "bar",
         "x": [
          "pre_logits"
         ],
         "xaxis": "x",
         "y": [
          8467200
         ],
         "yaxis": "y"
        },
        {
         "alignmentgroup": "True",
         "hovertemplate": "layer=pre_logits.conv2.conv_layers.1.weight.(3360, 840, 3)<br>block=%{x}<br>Log10_ParaM=%{y}<extra></extra>",
         "legendgroup": "pre_logits.conv2.conv_layers.1.weight.(3360, 840, 3)",
         "marker": {
          "color": "#636efa",
          "pattern": {
           "shape": ""
          }
         },
         "name": "pre_logits.conv2.conv_layers.1.weight.(3360, 840, 3)",
         "offsetgroup": "pre_logits.conv2.conv_layers.1.weight.(3360, 840, 3)",
         "orientation": "v",
         "showlegend": true,
         "textposition": "auto",
         "type": "bar",
         "x": [
          "pre_logits"
         ],
         "xaxis": "x",
         "y": [
          8467200
         ],
         "yaxis": "y"
        },
        {
         "alignmentgroup": "True",
         "hovertemplate": "layer=pre_logits.conv2.conv_layers.2.weight.(3360, 840, 3)<br>block=%{x}<br>Log10_ParaM=%{y}<extra></extra>",
         "legendgroup": "pre_logits.conv2.conv_layers.2.weight.(3360, 840, 3)",
         "marker": {
          "color": "#EF553B",
          "pattern": {
           "shape": ""
          }
         },
         "name": "pre_logits.conv2.conv_layers.2.weight.(3360, 840, 3)",
         "offsetgroup": "pre_logits.conv2.conv_layers.2.weight.(3360, 840, 3)",
         "orientation": "v",
         "showlegend": true,
         "textposition": "auto",
         "type": "bar",
         "x": [
          "pre_logits"
         ],
         "xaxis": "x",
         "y": [
          8467200
         ],
         "yaxis": "y"
        },
        {
         "alignmentgroup": "True",
         "hovertemplate": "layer=head.conv_layers.0.weight.(840, 210, 2)<br>block=%{x}<br>Log10_ParaM=%{y}<extra></extra>",
         "legendgroup": "head.conv_layers.0.weight.(840, 210, 2)",
         "marker": {
          "color": "#00cc96",
          "pattern": {
           "shape": ""
          }
         },
         "name": "head.conv_layers.0.weight.(840, 210, 2)",
         "offsetgroup": "head.conv_layers.0.weight.(840, 210, 2)",
         "orientation": "v",
         "showlegend": true,
         "textposition": "auto",
         "type": "bar",
         "x": [
          "head"
         ],
         "xaxis": "x",
         "y": [
          352800
         ],
         "yaxis": "y"
        },
        {
         "alignmentgroup": "True",
         "hovertemplate": "layer=head.conv_layers.1.weight.(840, 210, 2)<br>block=%{x}<br>Log10_ParaM=%{y}<extra></extra>",
         "legendgroup": "head.conv_layers.1.weight.(840, 210, 2)",
         "marker": {
          "color": "#ab63fa",
          "pattern": {
           "shape": ""
          }
         },
         "name": "head.conv_layers.1.weight.(840, 210, 2)",
         "offsetgroup": "head.conv_layers.1.weight.(840, 210, 2)",
         "orientation": "v",
         "showlegend": true,
         "textposition": "auto",
         "type": "bar",
         "x": [
          "head"
         ],
         "xaxis": "x",
         "y": [
          352800
         ],
         "yaxis": "y"
        }
       ],
       "layout": {
        "barmode": "relative",
        "height": 600,
        "legend": {
         "title": {
          "text": "layer"
         },
         "tracegroupgap": 0
        },
        "showlegend": false,
        "template": {
         "data": {
          "bar": [
           {
            "error_x": {
             "color": "#2a3f5f"
            },
            "error_y": {
             "color": "#2a3f5f"
            },
            "marker": {
             "line": {
              "color": "#E5ECF6",
              "width": 0.5
             },
             "pattern": {
              "fillmode": "overlay",
              "size": 10,
              "solidity": 0.2
             }
            },
            "type": "bar"
           }
          ],
          "barpolar": [
           {
            "marker": {
             "line": {
              "color": "#E5ECF6",
              "width": 0.5
             },
             "pattern": {
              "fillmode": "overlay",
              "size": 10,
              "solidity": 0.2
             }
            },
            "type": "barpolar"
           }
          ],
          "carpet": [
           {
            "aaxis": {
             "endlinecolor": "#2a3f5f",
             "gridcolor": "white",
             "linecolor": "white",
             "minorgridcolor": "white",
             "startlinecolor": "#2a3f5f"
            },
            "baxis": {
             "endlinecolor": "#2a3f5f",
             "gridcolor": "white",
             "linecolor": "white",
             "minorgridcolor": "white",
             "startlinecolor": "#2a3f5f"
            },
            "type": "carpet"
           }
          ],
          "choropleth": [
           {
            "colorbar": {
             "outlinewidth": 0,
             "ticks": ""
            },
            "type": "choropleth"
           }
          ],
          "contour": [
           {
            "colorbar": {
             "outlinewidth": 0,
             "ticks": ""
            },
            "colorscale": [
             [
              0,
              "#0d0887"
             ],
             [
              0.1111111111111111,
              "#46039f"
             ],
             [
              0.2222222222222222,
              "#7201a8"
             ],
             [
              0.3333333333333333,
              "#9c179e"
             ],
             [
              0.4444444444444444,
              "#bd3786"
             ],
             [
              0.5555555555555556,
              "#d8576b"
             ],
             [
              0.6666666666666666,
              "#ed7953"
             ],
             [
              0.7777777777777778,
              "#fb9f3a"
             ],
             [
              0.8888888888888888,
              "#fdca26"
             ],
             [
              1,
              "#f0f921"
             ]
            ],
            "type": "contour"
           }
          ],
          "contourcarpet": [
           {
            "colorbar": {
             "outlinewidth": 0,
             "ticks": ""
            },
            "type": "contourcarpet"
           }
          ],
          "heatmap": [
           {
            "colorbar": {
             "outlinewidth": 0,
             "ticks": ""
            },
            "colorscale": [
             [
              0,
              "#0d0887"
             ],
             [
              0.1111111111111111,
              "#46039f"
             ],
             [
              0.2222222222222222,
              "#7201a8"
             ],
             [
              0.3333333333333333,
              "#9c179e"
             ],
             [
              0.4444444444444444,
              "#bd3786"
             ],
             [
              0.5555555555555556,
              "#d8576b"
             ],
             [
              0.6666666666666666,
              "#ed7953"
             ],
             [
              0.7777777777777778,
              "#fb9f3a"
             ],
             [
              0.8888888888888888,
              "#fdca26"
             ],
             [
              1,
              "#f0f921"
             ]
            ],
            "type": "heatmap"
           }
          ],
          "heatmapgl": [
           {
            "colorbar": {
             "outlinewidth": 0,
             "ticks": ""
            },
            "colorscale": [
             [
              0,
              "#0d0887"
             ],
             [
              0.1111111111111111,
              "#46039f"
             ],
             [
              0.2222222222222222,
              "#7201a8"
             ],
             [
              0.3333333333333333,
              "#9c179e"
             ],
             [
              0.4444444444444444,
              "#bd3786"
             ],
             [
              0.5555555555555556,
              "#d8576b"
             ],
             [
              0.6666666666666666,
              "#ed7953"
             ],
             [
              0.7777777777777778,
              "#fb9f3a"
             ],
             [
              0.8888888888888888,
              "#fdca26"
             ],
             [
              1,
              "#f0f921"
             ]
            ],
            "type": "heatmapgl"
           }
          ],
          "histogram": [
           {
            "marker": {
             "pattern": {
              "fillmode": "overlay",
              "size": 10,
              "solidity": 0.2
             }
            },
            "type": "histogram"
           }
          ],
          "histogram2d": [
           {
            "colorbar": {
             "outlinewidth": 0,
             "ticks": ""
            },
            "colorscale": [
             [
              0,
              "#0d0887"
             ],
             [
              0.1111111111111111,
              "#46039f"
             ],
             [
              0.2222222222222222,
              "#7201a8"
             ],
             [
              0.3333333333333333,
              "#9c179e"
             ],
             [
              0.4444444444444444,
              "#bd3786"
             ],
             [
              0.5555555555555556,
              "#d8576b"
             ],
             [
              0.6666666666666666,
              "#ed7953"
             ],
             [
              0.7777777777777778,
              "#fb9f3a"
             ],
             [
              0.8888888888888888,
              "#fdca26"
             ],
             [
              1,
              "#f0f921"
             ]
            ],
            "type": "histogram2d"
           }
          ],
          "histogram2dcontour": [
           {
            "colorbar": {
             "outlinewidth": 0,
             "ticks": ""
            },
            "colorscale": [
             [
              0,
              "#0d0887"
             ],
             [
              0.1111111111111111,
              "#46039f"
             ],
             [
              0.2222222222222222,
              "#7201a8"
             ],
             [
              0.3333333333333333,
              "#9c179e"
             ],
             [
              0.4444444444444444,
              "#bd3786"
             ],
             [
              0.5555555555555556,
              "#d8576b"
             ],
             [
              0.6666666666666666,
              "#ed7953"
             ],
             [
              0.7777777777777778,
              "#fb9f3a"
             ],
             [
              0.8888888888888888,
              "#fdca26"
             ],
             [
              1,
              "#f0f921"
             ]
            ],
            "type": "histogram2dcontour"
           }
          ],
          "mesh3d": [
           {
            "colorbar": {
             "outlinewidth": 0,
             "ticks": ""
            },
            "type": "mesh3d"
           }
          ],
          "parcoords": [
           {
            "line": {
             "colorbar": {
              "outlinewidth": 0,
              "ticks": ""
             }
            },
            "type": "parcoords"
           }
          ],
          "pie": [
           {
            "automargin": true,
            "type": "pie"
           }
          ],
          "scatter": [
           {
            "fillpattern": {
             "fillmode": "overlay",
             "size": 10,
             "solidity": 0.2
            },
            "type": "scatter"
           }
          ],
          "scatter3d": [
           {
            "line": {
             "colorbar": {
              "outlinewidth": 0,
              "ticks": ""
             }
            },
            "marker": {
             "colorbar": {
              "outlinewidth": 0,
              "ticks": ""
             }
            },
            "type": "scatter3d"
           }
          ],
          "scattercarpet": [
           {
            "marker": {
             "colorbar": {
              "outlinewidth": 0,
              "ticks": ""
             }
            },
            "type": "scattercarpet"
           }
          ],
          "scattergeo": [
           {
            "marker": {
             "colorbar": {
              "outlinewidth": 0,
              "ticks": ""
             }
            },
            "type": "scattergeo"
           }
          ],
          "scattergl": [
           {
            "marker": {
             "colorbar": {
              "outlinewidth": 0,
              "ticks": ""
             }
            },
            "type": "scattergl"
           }
          ],
          "scattermapbox": [
           {
            "marker": {
             "colorbar": {
              "outlinewidth": 0,
              "ticks": ""
             }
            },
            "type": "scattermapbox"
           }
          ],
          "scatterpolar": [
           {
            "marker": {
             "colorbar": {
              "outlinewidth": 0,
              "ticks": ""
             }
            },
            "type": "scatterpolar"
           }
          ],
          "scatterpolargl": [
           {
            "marker": {
             "colorbar": {
              "outlinewidth": 0,
              "ticks": ""
             }
            },
            "type": "scatterpolargl"
           }
          ],
          "scatterternary": [
           {
            "marker": {
             "colorbar": {
              "outlinewidth": 0,
              "ticks": ""
             }
            },
            "type": "scatterternary"
           }
          ],
          "surface": [
           {
            "colorbar": {
             "outlinewidth": 0,
             "ticks": ""
            },
            "colorscale": [
             [
              0,
              "#0d0887"
             ],
             [
              0.1111111111111111,
              "#46039f"
             ],
             [
              0.2222222222222222,
              "#7201a8"
             ],
             [
              0.3333333333333333,
              "#9c179e"
             ],
             [
              0.4444444444444444,
              "#bd3786"
             ],
             [
              0.5555555555555556,
              "#d8576b"
             ],
             [
              0.6666666666666666,
              "#ed7953"
             ],
             [
              0.7777777777777778,
              "#fb9f3a"
             ],
             [
              0.8888888888888888,
              "#fdca26"
             ],
             [
              1,
              "#f0f921"
             ]
            ],
            "type": "surface"
           }
          ],
          "table": [
           {
            "cells": {
             "fill": {
              "color": "#EBF0F8"
             },
             "line": {
              "color": "white"
             }
            },
            "header": {
             "fill": {
              "color": "#C8D4E3"
             },
             "line": {
              "color": "white"
             }
            },
            "type": "table"
           }
          ]
         },
         "layout": {
          "annotationdefaults": {
           "arrowcolor": "#2a3f5f",
           "arrowhead": 0,
           "arrowwidth": 1
          },
          "autotypenumbers": "strict",
          "coloraxis": {
           "colorbar": {
            "outlinewidth": 0,
            "ticks": ""
           }
          },
          "colorscale": {
           "diverging": [
            [
             0,
             "#8e0152"
            ],
            [
             0.1,
             "#c51b7d"
            ],
            [
             0.2,
             "#de77ae"
            ],
            [
             0.3,
             "#f1b6da"
            ],
            [
             0.4,
             "#fde0ef"
            ],
            [
             0.5,
             "#f7f7f7"
            ],
            [
             0.6,
             "#e6f5d0"
            ],
            [
             0.7,
             "#b8e186"
            ],
            [
             0.8,
             "#7fbc41"
            ],
            [
             0.9,
             "#4d9221"
            ],
            [
             1,
             "#276419"
            ]
           ],
           "sequential": [
            [
             0,
             "#0d0887"
            ],
            [
             0.1111111111111111,
             "#46039f"
            ],
            [
             0.2222222222222222,
             "#7201a8"
            ],
            [
             0.3333333333333333,
             "#9c179e"
            ],
            [
             0.4444444444444444,
             "#bd3786"
            ],
            [
             0.5555555555555556,
             "#d8576b"
            ],
            [
             0.6666666666666666,
             "#ed7953"
            ],
            [
             0.7777777777777778,
             "#fb9f3a"
            ],
            [
             0.8888888888888888,
             "#fdca26"
            ],
            [
             1,
             "#f0f921"
            ]
           ],
           "sequentialminus": [
            [
             0,
             "#0d0887"
            ],
            [
             0.1111111111111111,
             "#46039f"
            ],
            [
             0.2222222222222222,
             "#7201a8"
            ],
            [
             0.3333333333333333,
             "#9c179e"
            ],
            [
             0.4444444444444444,
             "#bd3786"
            ],
            [
             0.5555555555555556,
             "#d8576b"
            ],
            [
             0.6666666666666666,
             "#ed7953"
            ],
            [
             0.7777777777777778,
             "#fb9f3a"
            ],
            [
             0.8888888888888888,
             "#fdca26"
            ],
            [
             1,
             "#f0f921"
            ]
           ]
          },
          "colorway": [
           "#636efa",
           "#EF553B",
           "#00cc96",
           "#ab63fa",
           "#FFA15A",
           "#19d3f3",
           "#FF6692",
           "#B6E880",
           "#FF97FF",
           "#FECB52"
          ],
          "font": {
           "color": "#2a3f5f"
          },
          "geo": {
           "bgcolor": "white",
           "lakecolor": "white",
           "landcolor": "#E5ECF6",
           "showlakes": true,
           "showland": true,
           "subunitcolor": "white"
          },
          "hoverlabel": {
           "align": "left"
          },
          "hovermode": "closest",
          "mapbox": {
           "style": "light"
          },
          "paper_bgcolor": "white",
          "plot_bgcolor": "#E5ECF6",
          "polar": {
           "angularaxis": {
            "gridcolor": "white",
            "linecolor": "white",
            "ticks": ""
           },
           "bgcolor": "#E5ECF6",
           "radialaxis": {
            "gridcolor": "white",
            "linecolor": "white",
            "ticks": ""
           }
          },
          "scene": {
           "xaxis": {
            "backgroundcolor": "#E5ECF6",
            "gridcolor": "white",
            "gridwidth": 2,
            "linecolor": "white",
            "showbackground": true,
            "ticks": "",
            "zerolinecolor": "white"
           },
           "yaxis": {
            "backgroundcolor": "#E5ECF6",
            "gridcolor": "white",
            "gridwidth": 2,
            "linecolor": "white",
            "showbackground": true,
            "ticks": "",
            "zerolinecolor": "white"
           },
           "zaxis": {
            "backgroundcolor": "#E5ECF6",
            "gridcolor": "white",
            "gridwidth": 2,
            "linecolor": "white",
            "showbackground": true,
            "ticks": "",
            "zerolinecolor": "white"
           }
          },
          "shapedefaults": {
           "line": {
            "color": "#2a3f5f"
           }
          },
          "ternary": {
           "aaxis": {
            "gridcolor": "white",
            "linecolor": "white",
            "ticks": ""
           },
           "baxis": {
            "gridcolor": "white",
            "linecolor": "white",
            "ticks": ""
           },
           "bgcolor": "#E5ECF6",
           "caxis": {
            "gridcolor": "white",
            "linecolor": "white",
            "ticks": ""
           }
          },
          "title": {
           "x": 0.05
          },
          "xaxis": {
           "automargin": true,
           "gridcolor": "white",
           "linecolor": "white",
           "ticks": "",
           "title": {
            "standoff": 15
           },
           "zerolinecolor": "white",
           "zerolinewidth": 2
          },
          "yaxis": {
           "automargin": true,
           "gridcolor": "white",
           "linecolor": "white",
           "ticks": "",
           "title": {
            "standoff": 15
           },
           "zerolinecolor": "white",
           "zerolinewidth": 2
          }
         }
        },
        "title": {
         "text": "My plot"
        },
        "xaxis": {
         "anchor": "y",
         "domain": [
          0,
          1
         ],
         "title": {
          "text": "block"
         }
        },
        "yaxis": {
         "anchor": "x",
         "domain": [
          0,
          1
         ],
         "title": {
          "text": "Log10_ParaM"
         }
        }
       }
      },
      "text/html": [
       "<div>                            <div id=\"e5bb650e-2f75-4438-8722-57891c98e455\" class=\"plotly-graph-div\" style=\"height:600px; width:100%;\"></div>            <script type=\"text/javascript\">                require([\"plotly\"], function(Plotly) {                    window.PLOTLYENV=window.PLOTLYENV || {};                                    if (document.getElementById(\"e5bb650e-2f75-4438-8722-57891c98e455\")) {                    Plotly.newPlot(                        \"e5bb650e-2f75-4438-8722-57891c98e455\",                        [{\"alignmentgroup\":\"True\",\"hovertemplate\":\"layer=pos_embed.(1, 512, 768)<br>block=%{x}<br>Log10_ParaM=%{y}<extra></extra>\",\"legendgroup\":\"pos_embed.(1, 512, 768)\",\"marker\":{\"color\":\"#636efa\",\"pattern\":{\"shape\":\"\"}},\"name\":\"pos_embed.(1, 512, 768)\",\"offsetgroup\":\"pos_embed.(1, 512, 768)\",\"orientation\":\"v\",\"showlegend\":true,\"textposition\":\"auto\",\"x\":[\"pos_embed\"],\"xaxis\":\"x\",\"y\":[393216],\"yaxis\":\"y\",\"type\":\"bar\"},{\"alignmentgroup\":\"True\",\"hovertemplate\":\"layer=reduce_Field_coef.(1,)<br>block=%{x}<br>Log10_ParaM=%{y}<extra></extra>\",\"legendgroup\":\"reduce_Field_coef.(1,)\",\"marker\":{\"color\":\"#EF553B\",\"pattern\":{\"shape\":\"\"}},\"name\":\"reduce_Field_coef.(1,)\",\"offsetgroup\":\"reduce_Field_coef.(1,)\",\"orientation\":\"v\",\"showlegend\":true,\"textposition\":\"auto\",\"x\":[\"reduce_Field_coef\"],\"xaxis\":\"x\",\"y\":[1],\"yaxis\":\"y\",\"type\":\"bar\"},{\"alignmentgroup\":\"True\",\"hovertemplate\":\"layer=patch_embed.proj.conv_layers.0.weight.(768, 210, 2)<br>block=%{x}<br>Log10_ParaM=%{y}<extra></extra>\",\"legendgroup\":\"patch_embed.proj.conv_layers.0.weight.(768, 210, 2)\",\"marker\":{\"color\":\"#00cc96\",\"pattern\":{\"shape\":\"\"}},\"name\":\"patch_embed.proj.conv_layers.0.weight.(768, 210, 2)\",\"offsetgroup\":\"patch_embed.proj.conv_layers.0.weight.(768, 210, 2)\",\"orientation\":\"v\",\"showlegend\":true,\"textposition\":\"auto\",\"x\":[\"patch_embed\"],\"xaxis\":\"x\",\"y\":[322560],\"yaxis\":\"y\",\"type\":\"bar\"},{\"alignmentgroup\":\"True\",\"hovertemplate\":\"layer=patch_embed.proj.conv_layers.1.weight.(768, 210, 2)<br>block=%{x}<br>Log10_ParaM=%{y}<extra></extra>\",\"legendgroup\":\"patch_embed.proj.conv_layers.1.weight.(768, 210, 2)\",\"marker\":{\"color\":\"#ab63fa\",\"pattern\":{\"shape\":\"\"}},\"name\":\"patch_embed.proj.conv_layers.1.weight.(768, 210, 2)\",\"offsetgroup\":\"patch_embed.proj.conv_layers.1.weight.(768, 210, 2)\",\"orientation\":\"v\",\"showlegend\":true,\"textposition\":\"auto\",\"x\":[\"patch_embed\"],\"xaxis\":\"x\",\"y\":[322560],\"yaxis\":\"y\",\"type\":\"bar\"},{\"alignmentgroup\":\"True\",\"hovertemplate\":\"layer=blocks.0.norm1.weight.(768,)<br>block=%{x}<br>Log10_ParaM=%{y}<extra></extra>\",\"legendgroup\":\"blocks.0.norm1.weight.(768,)\",\"marker\":{\"color\":\"#FFA15A\",\"pattern\":{\"shape\":\"\"}},\"name\":\"blocks.0.norm1.weight.(768,)\",\"offsetgroup\":\"blocks.0.norm1.weight.(768,)\",\"orientation\":\"v\",\"showlegend\":true,\"textposition\":\"auto\",\"x\":[\"blocks\"],\"xaxis\":\"x\",\"y\":[768],\"yaxis\":\"y\",\"type\":\"bar\"},{\"alignmentgroup\":\"True\",\"hovertemplate\":\"layer=blocks.0.norm1.bias.(768,)<br>block=%{x}<br>Log10_ParaM=%{y}<extra></extra>\",\"legendgroup\":\"blocks.0.norm1.bias.(768,)\",\"marker\":{\"color\":\"#19d3f3\",\"pattern\":{\"shape\":\"\"}},\"name\":\"blocks.0.norm1.bias.(768,)\",\"offsetgroup\":\"blocks.0.norm1.bias.(768,)\",\"orientation\":\"v\",\"showlegend\":true,\"textposition\":\"auto\",\"x\":[\"blocks\"],\"xaxis\":\"x\",\"y\":[768],\"yaxis\":\"y\",\"type\":\"bar\"},{\"alignmentgroup\":\"True\",\"hovertemplate\":\"layer=blocks.0.filter.w1.(2, 4, 192, 192)<br>block=%{x}<br>Log10_ParaM=%{y}<extra></extra>\",\"legendgroup\":\"blocks.0.filter.w1.(2, 4, 192, 192)\",\"marker\":{\"color\":\"#FF6692\",\"pattern\":{\"shape\":\"\"}},\"name\":\"blocks.0.filter.w1.(2, 4, 192, 192)\",\"offsetgroup\":\"blocks.0.filter.w1.(2, 4, 192, 192)\",\"orientation\":\"v\",\"showlegend\":true,\"textposition\":\"auto\",\"x\":[\"blocks\"],\"xaxis\":\"x\",\"y\":[294912],\"yaxis\":\"y\",\"type\":\"bar\"},{\"alignmentgroup\":\"True\",\"hovertemplate\":\"layer=blocks.0.filter.b1.(2, 4, 192)<br>block=%{x}<br>Log10_ParaM=%{y}<extra></extra>\",\"legendgroup\":\"blocks.0.filter.b1.(2, 4, 192)\",\"marker\":{\"color\":\"#B6E880\",\"pattern\":{\"shape\":\"\"}},\"name\":\"blocks.0.filter.b1.(2, 4, 192)\",\"offsetgroup\":\"blocks.0.filter.b1.(2, 4, 192)\",\"orientation\":\"v\",\"showlegend\":true,\"textposition\":\"auto\",\"x\":[\"blocks\"],\"xaxis\":\"x\",\"y\":[1536],\"yaxis\":\"y\",\"type\":\"bar\"},{\"alignmentgroup\":\"True\",\"hovertemplate\":\"layer=blocks.0.filter.w2.(2, 4, 192, 192)<br>block=%{x}<br>Log10_ParaM=%{y}<extra></extra>\",\"legendgroup\":\"blocks.0.filter.w2.(2, 4, 192, 192)\",\"marker\":{\"color\":\"#FF97FF\",\"pattern\":{\"shape\":\"\"}},\"name\":\"blocks.0.filter.w2.(2, 4, 192, 192)\",\"offsetgroup\":\"blocks.0.filter.w2.(2, 4, 192, 192)\",\"orientation\":\"v\",\"showlegend\":true,\"textposition\":\"auto\",\"x\":[\"blocks\"],\"xaxis\":\"x\",\"y\":[294912],\"yaxis\":\"y\",\"type\":\"bar\"},{\"alignmentgroup\":\"True\",\"hovertemplate\":\"layer=blocks.0.filter.b2.(2, 4, 192)<br>block=%{x}<br>Log10_ParaM=%{y}<extra></extra>\",\"legendgroup\":\"blocks.0.filter.b2.(2, 4, 192)\",\"marker\":{\"color\":\"#FECB52\",\"pattern\":{\"shape\":\"\"}},\"name\":\"blocks.0.filter.b2.(2, 4, 192)\",\"offsetgroup\":\"blocks.0.filter.b2.(2, 4, 192)\",\"orientation\":\"v\",\"showlegend\":true,\"textposition\":\"auto\",\"x\":[\"blocks\"],\"xaxis\":\"x\",\"y\":[1536],\"yaxis\":\"y\",\"type\":\"bar\"},{\"alignmentgroup\":\"True\",\"hovertemplate\":\"layer=blocks.0.norm2.weight.(768,)<br>block=%{x}<br>Log10_ParaM=%{y}<extra></extra>\",\"legendgroup\":\"blocks.0.norm2.weight.(768,)\",\"marker\":{\"color\":\"#636efa\",\"pattern\":{\"shape\":\"\"}},\"name\":\"blocks.0.norm2.weight.(768,)\",\"offsetgroup\":\"blocks.0.norm2.weight.(768,)\",\"orientation\":\"v\",\"showlegend\":true,\"textposition\":\"auto\",\"x\":[\"blocks\"],\"xaxis\":\"x\",\"y\":[768],\"yaxis\":\"y\",\"type\":\"bar\"},{\"alignmentgroup\":\"True\",\"hovertemplate\":\"layer=blocks.0.norm2.bias.(768,)<br>block=%{x}<br>Log10_ParaM=%{y}<extra></extra>\",\"legendgroup\":\"blocks.0.norm2.bias.(768,)\",\"marker\":{\"color\":\"#EF553B\",\"pattern\":{\"shape\":\"\"}},\"name\":\"blocks.0.norm2.bias.(768,)\",\"offsetgroup\":\"blocks.0.norm2.bias.(768,)\",\"orientation\":\"v\",\"showlegend\":true,\"textposition\":\"auto\",\"x\":[\"blocks\"],\"xaxis\":\"x\",\"y\":[768],\"yaxis\":\"y\",\"type\":\"bar\"},{\"alignmentgroup\":\"True\",\"hovertemplate\":\"layer=blocks.0.mlp.fc1.weight.(3072, 768)<br>block=%{x}<br>Log10_ParaM=%{y}<extra></extra>\",\"legendgroup\":\"blocks.0.mlp.fc1.weight.(3072, 768)\",\"marker\":{\"color\":\"#00cc96\",\"pattern\":{\"shape\":\"\"}},\"name\":\"blocks.0.mlp.fc1.weight.(3072, 768)\",\"offsetgroup\":\"blocks.0.mlp.fc1.weight.(3072, 768)\",\"orientation\":\"v\",\"showlegend\":true,\"textposition\":\"auto\",\"x\":[\"blocks\"],\"xaxis\":\"x\",\"y\":[2359296],\"yaxis\":\"y\",\"type\":\"bar\"},{\"alignmentgroup\":\"True\",\"hovertemplate\":\"layer=blocks.0.mlp.fc1.bias.(3072,)<br>block=%{x}<br>Log10_ParaM=%{y}<extra></extra>\",\"legendgroup\":\"blocks.0.mlp.fc1.bias.(3072,)\",\"marker\":{\"color\":\"#ab63fa\",\"pattern\":{\"shape\":\"\"}},\"name\":\"blocks.0.mlp.fc1.bias.(3072,)\",\"offsetgroup\":\"blocks.0.mlp.fc1.bias.(3072,)\",\"orientation\":\"v\",\"showlegend\":true,\"textposition\":\"auto\",\"x\":[\"blocks\"],\"xaxis\":\"x\",\"y\":[3072],\"yaxis\":\"y\",\"type\":\"bar\"},{\"alignmentgroup\":\"True\",\"hovertemplate\":\"layer=blocks.1.norm1.weight.(768,)<br>block=%{x}<br>Log10_ParaM=%{y}<extra></extra>\",\"legendgroup\":\"blocks.1.norm1.weight.(768,)\",\"marker\":{\"color\":\"#FFA15A\",\"pattern\":{\"shape\":\"\"}},\"name\":\"blocks.1.norm1.weight.(768,)\",\"offsetgroup\":\"blocks.1.norm1.weight.(768,)\",\"orientation\":\"v\",\"showlegend\":true,\"textposition\":\"auto\",\"x\":[\"blocks\"],\"xaxis\":\"x\",\"y\":[768],\"yaxis\":\"y\",\"type\":\"bar\"},{\"alignmentgroup\":\"True\",\"hovertemplate\":\"layer=blocks.1.norm1.bias.(768,)<br>block=%{x}<br>Log10_ParaM=%{y}<extra></extra>\",\"legendgroup\":\"blocks.1.norm1.bias.(768,)\",\"marker\":{\"color\":\"#19d3f3\",\"pattern\":{\"shape\":\"\"}},\"name\":\"blocks.1.norm1.bias.(768,)\",\"offsetgroup\":\"blocks.1.norm1.bias.(768,)\",\"orientation\":\"v\",\"showlegend\":true,\"textposition\":\"auto\",\"x\":[\"blocks\"],\"xaxis\":\"x\",\"y\":[768],\"yaxis\":\"y\",\"type\":\"bar\"},{\"alignmentgroup\":\"True\",\"hovertemplate\":\"layer=blocks.1.filter.w1.(2, 4, 192, 192)<br>block=%{x}<br>Log10_ParaM=%{y}<extra></extra>\",\"legendgroup\":\"blocks.1.filter.w1.(2, 4, 192, 192)\",\"marker\":{\"color\":\"#FF6692\",\"pattern\":{\"shape\":\"\"}},\"name\":\"blocks.1.filter.w1.(2, 4, 192, 192)\",\"offsetgroup\":\"blocks.1.filter.w1.(2, 4, 192, 192)\",\"orientation\":\"v\",\"showlegend\":true,\"textposition\":\"auto\",\"x\":[\"blocks\"],\"xaxis\":\"x\",\"y\":[294912],\"yaxis\":\"y\",\"type\":\"bar\"},{\"alignmentgroup\":\"True\",\"hovertemplate\":\"layer=blocks.1.filter.b1.(2, 4, 192)<br>block=%{x}<br>Log10_ParaM=%{y}<extra></extra>\",\"legendgroup\":\"blocks.1.filter.b1.(2, 4, 192)\",\"marker\":{\"color\":\"#B6E880\",\"pattern\":{\"shape\":\"\"}},\"name\":\"blocks.1.filter.b1.(2, 4, 192)\",\"offsetgroup\":\"blocks.1.filter.b1.(2, 4, 192)\",\"orientation\":\"v\",\"showlegend\":true,\"textposition\":\"auto\",\"x\":[\"blocks\"],\"xaxis\":\"x\",\"y\":[1536],\"yaxis\":\"y\",\"type\":\"bar\"},{\"alignmentgroup\":\"True\",\"hovertemplate\":\"layer=blocks.1.filter.w2.(2, 4, 192, 192)<br>block=%{x}<br>Log10_ParaM=%{y}<extra></extra>\",\"legendgroup\":\"blocks.1.filter.w2.(2, 4, 192, 192)\",\"marker\":{\"color\":\"#FF97FF\",\"pattern\":{\"shape\":\"\"}},\"name\":\"blocks.1.filter.w2.(2, 4, 192, 192)\",\"offsetgroup\":\"blocks.1.filter.w2.(2, 4, 192, 192)\",\"orientation\":\"v\",\"showlegend\":true,\"textposition\":\"auto\",\"x\":[\"blocks\"],\"xaxis\":\"x\",\"y\":[294912],\"yaxis\":\"y\",\"type\":\"bar\"},{\"alignmentgroup\":\"True\",\"hovertemplate\":\"layer=blocks.1.filter.b2.(2, 4, 192)<br>block=%{x}<br>Log10_ParaM=%{y}<extra></extra>\",\"legendgroup\":\"blocks.1.filter.b2.(2, 4, 192)\",\"marker\":{\"color\":\"#FECB52\",\"pattern\":{\"shape\":\"\"}},\"name\":\"blocks.1.filter.b2.(2, 4, 192)\",\"offsetgroup\":\"blocks.1.filter.b2.(2, 4, 192)\",\"orientation\":\"v\",\"showlegend\":true,\"textposition\":\"auto\",\"x\":[\"blocks\"],\"xaxis\":\"x\",\"y\":[1536],\"yaxis\":\"y\",\"type\":\"bar\"},{\"alignmentgroup\":\"True\",\"hovertemplate\":\"layer=blocks.1.norm2.weight.(768,)<br>block=%{x}<br>Log10_ParaM=%{y}<extra></extra>\",\"legendgroup\":\"blocks.1.norm2.weight.(768,)\",\"marker\":{\"color\":\"#636efa\",\"pattern\":{\"shape\":\"\"}},\"name\":\"blocks.1.norm2.weight.(768,)\",\"offsetgroup\":\"blocks.1.norm2.weight.(768,)\",\"orientation\":\"v\",\"showlegend\":true,\"textposition\":\"auto\",\"x\":[\"blocks\"],\"xaxis\":\"x\",\"y\":[768],\"yaxis\":\"y\",\"type\":\"bar\"},{\"alignmentgroup\":\"True\",\"hovertemplate\":\"layer=blocks.1.norm2.bias.(768,)<br>block=%{x}<br>Log10_ParaM=%{y}<extra></extra>\",\"legendgroup\":\"blocks.1.norm2.bias.(768,)\",\"marker\":{\"color\":\"#EF553B\",\"pattern\":{\"shape\":\"\"}},\"name\":\"blocks.1.norm2.bias.(768,)\",\"offsetgroup\":\"blocks.1.norm2.bias.(768,)\",\"orientation\":\"v\",\"showlegend\":true,\"textposition\":\"auto\",\"x\":[\"blocks\"],\"xaxis\":\"x\",\"y\":[768],\"yaxis\":\"y\",\"type\":\"bar\"},{\"alignmentgroup\":\"True\",\"hovertemplate\":\"layer=blocks.1.mlp.fc1.weight.(3072, 768)<br>block=%{x}<br>Log10_ParaM=%{y}<extra></extra>\",\"legendgroup\":\"blocks.1.mlp.fc1.weight.(3072, 768)\",\"marker\":{\"color\":\"#00cc96\",\"pattern\":{\"shape\":\"\"}},\"name\":\"blocks.1.mlp.fc1.weight.(3072, 768)\",\"offsetgroup\":\"blocks.1.mlp.fc1.weight.(3072, 768)\",\"orientation\":\"v\",\"showlegend\":true,\"textposition\":\"auto\",\"x\":[\"blocks\"],\"xaxis\":\"x\",\"y\":[2359296],\"yaxis\":\"y\",\"type\":\"bar\"},{\"alignmentgroup\":\"True\",\"hovertemplate\":\"layer=blocks.1.mlp.fc1.bias.(3072,)<br>block=%{x}<br>Log10_ParaM=%{y}<extra></extra>\",\"legendgroup\":\"blocks.1.mlp.fc1.bias.(3072,)\",\"marker\":{\"color\":\"#ab63fa\",\"pattern\":{\"shape\":\"\"}},\"name\":\"blocks.1.mlp.fc1.bias.(3072,)\",\"offsetgroup\":\"blocks.1.mlp.fc1.bias.(3072,)\",\"orientation\":\"v\",\"showlegend\":true,\"textposition\":\"auto\",\"x\":[\"blocks\"],\"xaxis\":\"x\",\"y\":[3072],\"yaxis\":\"y\",\"type\":\"bar\"},{\"alignmentgroup\":\"True\",\"hovertemplate\":\"layer=blocks.2.norm1.weight.(768,)<br>block=%{x}<br>Log10_ParaM=%{y}<extra></extra>\",\"legendgroup\":\"blocks.2.norm1.weight.(768,)\",\"marker\":{\"color\":\"#FFA15A\",\"pattern\":{\"shape\":\"\"}},\"name\":\"blocks.2.norm1.weight.(768,)\",\"offsetgroup\":\"blocks.2.norm1.weight.(768,)\",\"orientation\":\"v\",\"showlegend\":true,\"textposition\":\"auto\",\"x\":[\"blocks\"],\"xaxis\":\"x\",\"y\":[768],\"yaxis\":\"y\",\"type\":\"bar\"},{\"alignmentgroup\":\"True\",\"hovertemplate\":\"layer=blocks.2.norm1.bias.(768,)<br>block=%{x}<br>Log10_ParaM=%{y}<extra></extra>\",\"legendgroup\":\"blocks.2.norm1.bias.(768,)\",\"marker\":{\"color\":\"#19d3f3\",\"pattern\":{\"shape\":\"\"}},\"name\":\"blocks.2.norm1.bias.(768,)\",\"offsetgroup\":\"blocks.2.norm1.bias.(768,)\",\"orientation\":\"v\",\"showlegend\":true,\"textposition\":\"auto\",\"x\":[\"blocks\"],\"xaxis\":\"x\",\"y\":[768],\"yaxis\":\"y\",\"type\":\"bar\"},{\"alignmentgroup\":\"True\",\"hovertemplate\":\"layer=blocks.2.filter.w1.(2, 4, 192, 192)<br>block=%{x}<br>Log10_ParaM=%{y}<extra></extra>\",\"legendgroup\":\"blocks.2.filter.w1.(2, 4, 192, 192)\",\"marker\":{\"color\":\"#FF6692\",\"pattern\":{\"shape\":\"\"}},\"name\":\"blocks.2.filter.w1.(2, 4, 192, 192)\",\"offsetgroup\":\"blocks.2.filter.w1.(2, 4, 192, 192)\",\"orientation\":\"v\",\"showlegend\":true,\"textposition\":\"auto\",\"x\":[\"blocks\"],\"xaxis\":\"x\",\"y\":[294912],\"yaxis\":\"y\",\"type\":\"bar\"},{\"alignmentgroup\":\"True\",\"hovertemplate\":\"layer=blocks.2.filter.b1.(2, 4, 192)<br>block=%{x}<br>Log10_ParaM=%{y}<extra></extra>\",\"legendgroup\":\"blocks.2.filter.b1.(2, 4, 192)\",\"marker\":{\"color\":\"#B6E880\",\"pattern\":{\"shape\":\"\"}},\"name\":\"blocks.2.filter.b1.(2, 4, 192)\",\"offsetgroup\":\"blocks.2.filter.b1.(2, 4, 192)\",\"orientation\":\"v\",\"showlegend\":true,\"textposition\":\"auto\",\"x\":[\"blocks\"],\"xaxis\":\"x\",\"y\":[1536],\"yaxis\":\"y\",\"type\":\"bar\"},{\"alignmentgroup\":\"True\",\"hovertemplate\":\"layer=blocks.2.filter.w2.(2, 4, 192, 192)<br>block=%{x}<br>Log10_ParaM=%{y}<extra></extra>\",\"legendgroup\":\"blocks.2.filter.w2.(2, 4, 192, 192)\",\"marker\":{\"color\":\"#FF97FF\",\"pattern\":{\"shape\":\"\"}},\"name\":\"blocks.2.filter.w2.(2, 4, 192, 192)\",\"offsetgroup\":\"blocks.2.filter.w2.(2, 4, 192, 192)\",\"orientation\":\"v\",\"showlegend\":true,\"textposition\":\"auto\",\"x\":[\"blocks\"],\"xaxis\":\"x\",\"y\":[294912],\"yaxis\":\"y\",\"type\":\"bar\"},{\"alignmentgroup\":\"True\",\"hovertemplate\":\"layer=blocks.2.filter.b2.(2, 4, 192)<br>block=%{x}<br>Log10_ParaM=%{y}<extra></extra>\",\"legendgroup\":\"blocks.2.filter.b2.(2, 4, 192)\",\"marker\":{\"color\":\"#FECB52\",\"pattern\":{\"shape\":\"\"}},\"name\":\"blocks.2.filter.b2.(2, 4, 192)\",\"offsetgroup\":\"blocks.2.filter.b2.(2, 4, 192)\",\"orientation\":\"v\",\"showlegend\":true,\"textposition\":\"auto\",\"x\":[\"blocks\"],\"xaxis\":\"x\",\"y\":[1536],\"yaxis\":\"y\",\"type\":\"bar\"},{\"alignmentgroup\":\"True\",\"hovertemplate\":\"layer=blocks.2.norm2.weight.(768,)<br>block=%{x}<br>Log10_ParaM=%{y}<extra></extra>\",\"legendgroup\":\"blocks.2.norm2.weight.(768,)\",\"marker\":{\"color\":\"#636efa\",\"pattern\":{\"shape\":\"\"}},\"name\":\"blocks.2.norm2.weight.(768,)\",\"offsetgroup\":\"blocks.2.norm2.weight.(768,)\",\"orientation\":\"v\",\"showlegend\":true,\"textposition\":\"auto\",\"x\":[\"blocks\"],\"xaxis\":\"x\",\"y\":[768],\"yaxis\":\"y\",\"type\":\"bar\"},{\"alignmentgroup\":\"True\",\"hovertemplate\":\"layer=blocks.2.norm2.bias.(768,)<br>block=%{x}<br>Log10_ParaM=%{y}<extra></extra>\",\"legendgroup\":\"blocks.2.norm2.bias.(768,)\",\"marker\":{\"color\":\"#EF553B\",\"pattern\":{\"shape\":\"\"}},\"name\":\"blocks.2.norm2.bias.(768,)\",\"offsetgroup\":\"blocks.2.norm2.bias.(768,)\",\"orientation\":\"v\",\"showlegend\":true,\"textposition\":\"auto\",\"x\":[\"blocks\"],\"xaxis\":\"x\",\"y\":[768],\"yaxis\":\"y\",\"type\":\"bar\"},{\"alignmentgroup\":\"True\",\"hovertemplate\":\"layer=blocks.2.mlp.fc1.weight.(3072, 768)<br>block=%{x}<br>Log10_ParaM=%{y}<extra></extra>\",\"legendgroup\":\"blocks.2.mlp.fc1.weight.(3072, 768)\",\"marker\":{\"color\":\"#00cc96\",\"pattern\":{\"shape\":\"\"}},\"name\":\"blocks.2.mlp.fc1.weight.(3072, 768)\",\"offsetgroup\":\"blocks.2.mlp.fc1.weight.(3072, 768)\",\"orientation\":\"v\",\"showlegend\":true,\"textposition\":\"auto\",\"x\":[\"blocks\"],\"xaxis\":\"x\",\"y\":[2359296],\"yaxis\":\"y\",\"type\":\"bar\"},{\"alignmentgroup\":\"True\",\"hovertemplate\":\"layer=blocks.2.mlp.fc1.bias.(3072,)<br>block=%{x}<br>Log10_ParaM=%{y}<extra></extra>\",\"legendgroup\":\"blocks.2.mlp.fc1.bias.(3072,)\",\"marker\":{\"color\":\"#ab63fa\",\"pattern\":{\"shape\":\"\"}},\"name\":\"blocks.2.mlp.fc1.bias.(3072,)\",\"offsetgroup\":\"blocks.2.mlp.fc1.bias.(3072,)\",\"orientation\":\"v\",\"showlegend\":true,\"textposition\":\"auto\",\"x\":[\"blocks\"],\"xaxis\":\"x\",\"y\":[3072],\"yaxis\":\"y\",\"type\":\"bar\"},{\"alignmentgroup\":\"True\",\"hovertemplate\":\"layer=blocks.3.norm1.weight.(768,)<br>block=%{x}<br>Log10_ParaM=%{y}<extra></extra>\",\"legendgroup\":\"blocks.3.norm1.weight.(768,)\",\"marker\":{\"color\":\"#FFA15A\",\"pattern\":{\"shape\":\"\"}},\"name\":\"blocks.3.norm1.weight.(768,)\",\"offsetgroup\":\"blocks.3.norm1.weight.(768,)\",\"orientation\":\"v\",\"showlegend\":true,\"textposition\":\"auto\",\"x\":[\"blocks\"],\"xaxis\":\"x\",\"y\":[768],\"yaxis\":\"y\",\"type\":\"bar\"},{\"alignmentgroup\":\"True\",\"hovertemplate\":\"layer=blocks.3.norm1.bias.(768,)<br>block=%{x}<br>Log10_ParaM=%{y}<extra></extra>\",\"legendgroup\":\"blocks.3.norm1.bias.(768,)\",\"marker\":{\"color\":\"#19d3f3\",\"pattern\":{\"shape\":\"\"}},\"name\":\"blocks.3.norm1.bias.(768,)\",\"offsetgroup\":\"blocks.3.norm1.bias.(768,)\",\"orientation\":\"v\",\"showlegend\":true,\"textposition\":\"auto\",\"x\":[\"blocks\"],\"xaxis\":\"x\",\"y\":[768],\"yaxis\":\"y\",\"type\":\"bar\"},{\"alignmentgroup\":\"True\",\"hovertemplate\":\"layer=blocks.3.filter.w1.(2, 4, 192, 192)<br>block=%{x}<br>Log10_ParaM=%{y}<extra></extra>\",\"legendgroup\":\"blocks.3.filter.w1.(2, 4, 192, 192)\",\"marker\":{\"color\":\"#FF6692\",\"pattern\":{\"shape\":\"\"}},\"name\":\"blocks.3.filter.w1.(2, 4, 192, 192)\",\"offsetgroup\":\"blocks.3.filter.w1.(2, 4, 192, 192)\",\"orientation\":\"v\",\"showlegend\":true,\"textposition\":\"auto\",\"x\":[\"blocks\"],\"xaxis\":\"x\",\"y\":[294912],\"yaxis\":\"y\",\"type\":\"bar\"},{\"alignmentgroup\":\"True\",\"hovertemplate\":\"layer=blocks.3.filter.b1.(2, 4, 192)<br>block=%{x}<br>Log10_ParaM=%{y}<extra></extra>\",\"legendgroup\":\"blocks.3.filter.b1.(2, 4, 192)\",\"marker\":{\"color\":\"#B6E880\",\"pattern\":{\"shape\":\"\"}},\"name\":\"blocks.3.filter.b1.(2, 4, 192)\",\"offsetgroup\":\"blocks.3.filter.b1.(2, 4, 192)\",\"orientation\":\"v\",\"showlegend\":true,\"textposition\":\"auto\",\"x\":[\"blocks\"],\"xaxis\":\"x\",\"y\":[1536],\"yaxis\":\"y\",\"type\":\"bar\"},{\"alignmentgroup\":\"True\",\"hovertemplate\":\"layer=blocks.3.filter.w2.(2, 4, 192, 192)<br>block=%{x}<br>Log10_ParaM=%{y}<extra></extra>\",\"legendgroup\":\"blocks.3.filter.w2.(2, 4, 192, 192)\",\"marker\":{\"color\":\"#FF97FF\",\"pattern\":{\"shape\":\"\"}},\"name\":\"blocks.3.filter.w2.(2, 4, 192, 192)\",\"offsetgroup\":\"blocks.3.filter.w2.(2, 4, 192, 192)\",\"orientation\":\"v\",\"showlegend\":true,\"textposition\":\"auto\",\"x\":[\"blocks\"],\"xaxis\":\"x\",\"y\":[294912],\"yaxis\":\"y\",\"type\":\"bar\"},{\"alignmentgroup\":\"True\",\"hovertemplate\":\"layer=blocks.3.filter.b2.(2, 4, 192)<br>block=%{x}<br>Log10_ParaM=%{y}<extra></extra>\",\"legendgroup\":\"blocks.3.filter.b2.(2, 4, 192)\",\"marker\":{\"color\":\"#FECB52\",\"pattern\":{\"shape\":\"\"}},\"name\":\"blocks.3.filter.b2.(2, 4, 192)\",\"offsetgroup\":\"blocks.3.filter.b2.(2, 4, 192)\",\"orientation\":\"v\",\"showlegend\":true,\"textposition\":\"auto\",\"x\":[\"blocks\"],\"xaxis\":\"x\",\"y\":[1536],\"yaxis\":\"y\",\"type\":\"bar\"},{\"alignmentgroup\":\"True\",\"hovertemplate\":\"layer=blocks.3.norm2.weight.(768,)<br>block=%{x}<br>Log10_ParaM=%{y}<extra></extra>\",\"legendgroup\":\"blocks.3.norm2.weight.(768,)\",\"marker\":{\"color\":\"#636efa\",\"pattern\":{\"shape\":\"\"}},\"name\":\"blocks.3.norm2.weight.(768,)\",\"offsetgroup\":\"blocks.3.norm2.weight.(768,)\",\"orientation\":\"v\",\"showlegend\":true,\"textposition\":\"auto\",\"x\":[\"blocks\"],\"xaxis\":\"x\",\"y\":[768],\"yaxis\":\"y\",\"type\":\"bar\"},{\"alignmentgroup\":\"True\",\"hovertemplate\":\"layer=blocks.3.norm2.bias.(768,)<br>block=%{x}<br>Log10_ParaM=%{y}<extra></extra>\",\"legendgroup\":\"blocks.3.norm2.bias.(768,)\",\"marker\":{\"color\":\"#EF553B\",\"pattern\":{\"shape\":\"\"}},\"name\":\"blocks.3.norm2.bias.(768,)\",\"offsetgroup\":\"blocks.3.norm2.bias.(768,)\",\"orientation\":\"v\",\"showlegend\":true,\"textposition\":\"auto\",\"x\":[\"blocks\"],\"xaxis\":\"x\",\"y\":[768],\"yaxis\":\"y\",\"type\":\"bar\"},{\"alignmentgroup\":\"True\",\"hovertemplate\":\"layer=blocks.3.mlp.fc1.weight.(3072, 768)<br>block=%{x}<br>Log10_ParaM=%{y}<extra></extra>\",\"legendgroup\":\"blocks.3.mlp.fc1.weight.(3072, 768)\",\"marker\":{\"color\":\"#00cc96\",\"pattern\":{\"shape\":\"\"}},\"name\":\"blocks.3.mlp.fc1.weight.(3072, 768)\",\"offsetgroup\":\"blocks.3.mlp.fc1.weight.(3072, 768)\",\"orientation\":\"v\",\"showlegend\":true,\"textposition\":\"auto\",\"x\":[\"blocks\"],\"xaxis\":\"x\",\"y\":[2359296],\"yaxis\":\"y\",\"type\":\"bar\"},{\"alignmentgroup\":\"True\",\"hovertemplate\":\"layer=blocks.3.mlp.fc1.bias.(3072,)<br>block=%{x}<br>Log10_ParaM=%{y}<extra></extra>\",\"legendgroup\":\"blocks.3.mlp.fc1.bias.(3072,)\",\"marker\":{\"color\":\"#ab63fa\",\"pattern\":{\"shape\":\"\"}},\"name\":\"blocks.3.mlp.fc1.bias.(3072,)\",\"offsetgroup\":\"blocks.3.mlp.fc1.bias.(3072,)\",\"orientation\":\"v\",\"showlegend\":true,\"textposition\":\"auto\",\"x\":[\"blocks\"],\"xaxis\":\"x\",\"y\":[3072],\"yaxis\":\"y\",\"type\":\"bar\"},{\"alignmentgroup\":\"True\",\"hovertemplate\":\"layer=blocks.4.norm1.weight.(768,)<br>block=%{x}<br>Log10_ParaM=%{y}<extra></extra>\",\"legendgroup\":\"blocks.4.norm1.weight.(768,)\",\"marker\":{\"color\":\"#FFA15A\",\"pattern\":{\"shape\":\"\"}},\"name\":\"blocks.4.norm1.weight.(768,)\",\"offsetgroup\":\"blocks.4.norm1.weight.(768,)\",\"orientation\":\"v\",\"showlegend\":true,\"textposition\":\"auto\",\"x\":[\"blocks\"],\"xaxis\":\"x\",\"y\":[768],\"yaxis\":\"y\",\"type\":\"bar\"},{\"alignmentgroup\":\"True\",\"hovertemplate\":\"layer=blocks.4.norm1.bias.(768,)<br>block=%{x}<br>Log10_ParaM=%{y}<extra></extra>\",\"legendgroup\":\"blocks.4.norm1.bias.(768,)\",\"marker\":{\"color\":\"#19d3f3\",\"pattern\":{\"shape\":\"\"}},\"name\":\"blocks.4.norm1.bias.(768,)\",\"offsetgroup\":\"blocks.4.norm1.bias.(768,)\",\"orientation\":\"v\",\"showlegend\":true,\"textposition\":\"auto\",\"x\":[\"blocks\"],\"xaxis\":\"x\",\"y\":[768],\"yaxis\":\"y\",\"type\":\"bar\"},{\"alignmentgroup\":\"True\",\"hovertemplate\":\"layer=blocks.4.filter.w1.(2, 4, 192, 192)<br>block=%{x}<br>Log10_ParaM=%{y}<extra></extra>\",\"legendgroup\":\"blocks.4.filter.w1.(2, 4, 192, 192)\",\"marker\":{\"color\":\"#FF6692\",\"pattern\":{\"shape\":\"\"}},\"name\":\"blocks.4.filter.w1.(2, 4, 192, 192)\",\"offsetgroup\":\"blocks.4.filter.w1.(2, 4, 192, 192)\",\"orientation\":\"v\",\"showlegend\":true,\"textposition\":\"auto\",\"x\":[\"blocks\"],\"xaxis\":\"x\",\"y\":[294912],\"yaxis\":\"y\",\"type\":\"bar\"},{\"alignmentgroup\":\"True\",\"hovertemplate\":\"layer=blocks.4.filter.b1.(2, 4, 192)<br>block=%{x}<br>Log10_ParaM=%{y}<extra></extra>\",\"legendgroup\":\"blocks.4.filter.b1.(2, 4, 192)\",\"marker\":{\"color\":\"#B6E880\",\"pattern\":{\"shape\":\"\"}},\"name\":\"blocks.4.filter.b1.(2, 4, 192)\",\"offsetgroup\":\"blocks.4.filter.b1.(2, 4, 192)\",\"orientation\":\"v\",\"showlegend\":true,\"textposition\":\"auto\",\"x\":[\"blocks\"],\"xaxis\":\"x\",\"y\":[1536],\"yaxis\":\"y\",\"type\":\"bar\"},{\"alignmentgroup\":\"True\",\"hovertemplate\":\"layer=blocks.4.filter.w2.(2, 4, 192, 192)<br>block=%{x}<br>Log10_ParaM=%{y}<extra></extra>\",\"legendgroup\":\"blocks.4.filter.w2.(2, 4, 192, 192)\",\"marker\":{\"color\":\"#FF97FF\",\"pattern\":{\"shape\":\"\"}},\"name\":\"blocks.4.filter.w2.(2, 4, 192, 192)\",\"offsetgroup\":\"blocks.4.filter.w2.(2, 4, 192, 192)\",\"orientation\":\"v\",\"showlegend\":true,\"textposition\":\"auto\",\"x\":[\"blocks\"],\"xaxis\":\"x\",\"y\":[294912],\"yaxis\":\"y\",\"type\":\"bar\"},{\"alignmentgroup\":\"True\",\"hovertemplate\":\"layer=blocks.4.filter.b2.(2, 4, 192)<br>block=%{x}<br>Log10_ParaM=%{y}<extra></extra>\",\"legendgroup\":\"blocks.4.filter.b2.(2, 4, 192)\",\"marker\":{\"color\":\"#FECB52\",\"pattern\":{\"shape\":\"\"}},\"name\":\"blocks.4.filter.b2.(2, 4, 192)\",\"offsetgroup\":\"blocks.4.filter.b2.(2, 4, 192)\",\"orientation\":\"v\",\"showlegend\":true,\"textposition\":\"auto\",\"x\":[\"blocks\"],\"xaxis\":\"x\",\"y\":[1536],\"yaxis\":\"y\",\"type\":\"bar\"},{\"alignmentgroup\":\"True\",\"hovertemplate\":\"layer=blocks.4.norm2.weight.(768,)<br>block=%{x}<br>Log10_ParaM=%{y}<extra></extra>\",\"legendgroup\":\"blocks.4.norm2.weight.(768,)\",\"marker\":{\"color\":\"#636efa\",\"pattern\":{\"shape\":\"\"}},\"name\":\"blocks.4.norm2.weight.(768,)\",\"offsetgroup\":\"blocks.4.norm2.weight.(768,)\",\"orientation\":\"v\",\"showlegend\":true,\"textposition\":\"auto\",\"x\":[\"blocks\"],\"xaxis\":\"x\",\"y\":[768],\"yaxis\":\"y\",\"type\":\"bar\"},{\"alignmentgroup\":\"True\",\"hovertemplate\":\"layer=blocks.4.norm2.bias.(768,)<br>block=%{x}<br>Log10_ParaM=%{y}<extra></extra>\",\"legendgroup\":\"blocks.4.norm2.bias.(768,)\",\"marker\":{\"color\":\"#EF553B\",\"pattern\":{\"shape\":\"\"}},\"name\":\"blocks.4.norm2.bias.(768,)\",\"offsetgroup\":\"blocks.4.norm2.bias.(768,)\",\"orientation\":\"v\",\"showlegend\":true,\"textposition\":\"auto\",\"x\":[\"blocks\"],\"xaxis\":\"x\",\"y\":[768],\"yaxis\":\"y\",\"type\":\"bar\"},{\"alignmentgroup\":\"True\",\"hovertemplate\":\"layer=blocks.4.mlp.fc1.weight.(3072, 768)<br>block=%{x}<br>Log10_ParaM=%{y}<extra></extra>\",\"legendgroup\":\"blocks.4.mlp.fc1.weight.(3072, 768)\",\"marker\":{\"color\":\"#00cc96\",\"pattern\":{\"shape\":\"\"}},\"name\":\"blocks.4.mlp.fc1.weight.(3072, 768)\",\"offsetgroup\":\"blocks.4.mlp.fc1.weight.(3072, 768)\",\"orientation\":\"v\",\"showlegend\":true,\"textposition\":\"auto\",\"x\":[\"blocks\"],\"xaxis\":\"x\",\"y\":[2359296],\"yaxis\":\"y\",\"type\":\"bar\"},{\"alignmentgroup\":\"True\",\"hovertemplate\":\"layer=blocks.4.mlp.fc1.bias.(3072,)<br>block=%{x}<br>Log10_ParaM=%{y}<extra></extra>\",\"legendgroup\":\"blocks.4.mlp.fc1.bias.(3072,)\",\"marker\":{\"color\":\"#ab63fa\",\"pattern\":{\"shape\":\"\"}},\"name\":\"blocks.4.mlp.fc1.bias.(3072,)\",\"offsetgroup\":\"blocks.4.mlp.fc1.bias.(3072,)\",\"orientation\":\"v\",\"showlegend\":true,\"textposition\":\"auto\",\"x\":[\"blocks\"],\"xaxis\":\"x\",\"y\":[3072],\"yaxis\":\"y\",\"type\":\"bar\"},{\"alignmentgroup\":\"True\",\"hovertemplate\":\"layer=blocks.5.norm1.weight.(768,)<br>block=%{x}<br>Log10_ParaM=%{y}<extra></extra>\",\"legendgroup\":\"blocks.5.norm1.weight.(768,)\",\"marker\":{\"color\":\"#FFA15A\",\"pattern\":{\"shape\":\"\"}},\"name\":\"blocks.5.norm1.weight.(768,)\",\"offsetgroup\":\"blocks.5.norm1.weight.(768,)\",\"orientation\":\"v\",\"showlegend\":true,\"textposition\":\"auto\",\"x\":[\"blocks\"],\"xaxis\":\"x\",\"y\":[768],\"yaxis\":\"y\",\"type\":\"bar\"},{\"alignmentgroup\":\"True\",\"hovertemplate\":\"layer=blocks.5.norm1.bias.(768,)<br>block=%{x}<br>Log10_ParaM=%{y}<extra></extra>\",\"legendgroup\":\"blocks.5.norm1.bias.(768,)\",\"marker\":{\"color\":\"#19d3f3\",\"pattern\":{\"shape\":\"\"}},\"name\":\"blocks.5.norm1.bias.(768,)\",\"offsetgroup\":\"blocks.5.norm1.bias.(768,)\",\"orientation\":\"v\",\"showlegend\":true,\"textposition\":\"auto\",\"x\":[\"blocks\"],\"xaxis\":\"x\",\"y\":[768],\"yaxis\":\"y\",\"type\":\"bar\"},{\"alignmentgroup\":\"True\",\"hovertemplate\":\"layer=blocks.5.filter.w1.(2, 4, 192, 192)<br>block=%{x}<br>Log10_ParaM=%{y}<extra></extra>\",\"legendgroup\":\"blocks.5.filter.w1.(2, 4, 192, 192)\",\"marker\":{\"color\":\"#FF6692\",\"pattern\":{\"shape\":\"\"}},\"name\":\"blocks.5.filter.w1.(2, 4, 192, 192)\",\"offsetgroup\":\"blocks.5.filter.w1.(2, 4, 192, 192)\",\"orientation\":\"v\",\"showlegend\":true,\"textposition\":\"auto\",\"x\":[\"blocks\"],\"xaxis\":\"x\",\"y\":[294912],\"yaxis\":\"y\",\"type\":\"bar\"},{\"alignmentgroup\":\"True\",\"hovertemplate\":\"layer=blocks.5.filter.b1.(2, 4, 192)<br>block=%{x}<br>Log10_ParaM=%{y}<extra></extra>\",\"legendgroup\":\"blocks.5.filter.b1.(2, 4, 192)\",\"marker\":{\"color\":\"#B6E880\",\"pattern\":{\"shape\":\"\"}},\"name\":\"blocks.5.filter.b1.(2, 4, 192)\",\"offsetgroup\":\"blocks.5.filter.b1.(2, 4, 192)\",\"orientation\":\"v\",\"showlegend\":true,\"textposition\":\"auto\",\"x\":[\"blocks\"],\"xaxis\":\"x\",\"y\":[1536],\"yaxis\":\"y\",\"type\":\"bar\"},{\"alignmentgroup\":\"True\",\"hovertemplate\":\"layer=blocks.5.filter.w2.(2, 4, 192, 192)<br>block=%{x}<br>Log10_ParaM=%{y}<extra></extra>\",\"legendgroup\":\"blocks.5.filter.w2.(2, 4, 192, 192)\",\"marker\":{\"color\":\"#FF97FF\",\"pattern\":{\"shape\":\"\"}},\"name\":\"blocks.5.filter.w2.(2, 4, 192, 192)\",\"offsetgroup\":\"blocks.5.filter.w2.(2, 4, 192, 192)\",\"orientation\":\"v\",\"showlegend\":true,\"textposition\":\"auto\",\"x\":[\"blocks\"],\"xaxis\":\"x\",\"y\":[294912],\"yaxis\":\"y\",\"type\":\"bar\"},{\"alignmentgroup\":\"True\",\"hovertemplate\":\"layer=blocks.5.filter.b2.(2, 4, 192)<br>block=%{x}<br>Log10_ParaM=%{y}<extra></extra>\",\"legendgroup\":\"blocks.5.filter.b2.(2, 4, 192)\",\"marker\":{\"color\":\"#FECB52\",\"pattern\":{\"shape\":\"\"}},\"name\":\"blocks.5.filter.b2.(2, 4, 192)\",\"offsetgroup\":\"blocks.5.filter.b2.(2, 4, 192)\",\"orientation\":\"v\",\"showlegend\":true,\"textposition\":\"auto\",\"x\":[\"blocks\"],\"xaxis\":\"x\",\"y\":[1536],\"yaxis\":\"y\",\"type\":\"bar\"},{\"alignmentgroup\":\"True\",\"hovertemplate\":\"layer=blocks.5.norm2.weight.(768,)<br>block=%{x}<br>Log10_ParaM=%{y}<extra></extra>\",\"legendgroup\":\"blocks.5.norm2.weight.(768,)\",\"marker\":{\"color\":\"#636efa\",\"pattern\":{\"shape\":\"\"}},\"name\":\"blocks.5.norm2.weight.(768,)\",\"offsetgroup\":\"blocks.5.norm2.weight.(768,)\",\"orientation\":\"v\",\"showlegend\":true,\"textposition\":\"auto\",\"x\":[\"blocks\"],\"xaxis\":\"x\",\"y\":[768],\"yaxis\":\"y\",\"type\":\"bar\"},{\"alignmentgroup\":\"True\",\"hovertemplate\":\"layer=blocks.5.norm2.bias.(768,)<br>block=%{x}<br>Log10_ParaM=%{y}<extra></extra>\",\"legendgroup\":\"blocks.5.norm2.bias.(768,)\",\"marker\":{\"color\":\"#EF553B\",\"pattern\":{\"shape\":\"\"}},\"name\":\"blocks.5.norm2.bias.(768,)\",\"offsetgroup\":\"blocks.5.norm2.bias.(768,)\",\"orientation\":\"v\",\"showlegend\":true,\"textposition\":\"auto\",\"x\":[\"blocks\"],\"xaxis\":\"x\",\"y\":[768],\"yaxis\":\"y\",\"type\":\"bar\"},{\"alignmentgroup\":\"True\",\"hovertemplate\":\"layer=blocks.5.mlp.fc1.weight.(3072, 768)<br>block=%{x}<br>Log10_ParaM=%{y}<extra></extra>\",\"legendgroup\":\"blocks.5.mlp.fc1.weight.(3072, 768)\",\"marker\":{\"color\":\"#00cc96\",\"pattern\":{\"shape\":\"\"}},\"name\":\"blocks.5.mlp.fc1.weight.(3072, 768)\",\"offsetgroup\":\"blocks.5.mlp.fc1.weight.(3072, 768)\",\"orientation\":\"v\",\"showlegend\":true,\"textposition\":\"auto\",\"x\":[\"blocks\"],\"xaxis\":\"x\",\"y\":[2359296],\"yaxis\":\"y\",\"type\":\"bar\"},{\"alignmentgroup\":\"True\",\"hovertemplate\":\"layer=blocks.5.mlp.fc1.bias.(3072,)<br>block=%{x}<br>Log10_ParaM=%{y}<extra></extra>\",\"legendgroup\":\"blocks.5.mlp.fc1.bias.(3072,)\",\"marker\":{\"color\":\"#ab63fa\",\"pattern\":{\"shape\":\"\"}},\"name\":\"blocks.5.mlp.fc1.bias.(3072,)\",\"offsetgroup\":\"blocks.5.mlp.fc1.bias.(3072,)\",\"orientation\":\"v\",\"showlegend\":true,\"textposition\":\"auto\",\"x\":[\"blocks\"],\"xaxis\":\"x\",\"y\":[3072],\"yaxis\":\"y\",\"type\":\"bar\"},{\"alignmentgroup\":\"True\",\"hovertemplate\":\"layer=blocks.6.norm1.weight.(768,)<br>block=%{x}<br>Log10_ParaM=%{y}<extra></extra>\",\"legendgroup\":\"blocks.6.norm1.weight.(768,)\",\"marker\":{\"color\":\"#FFA15A\",\"pattern\":{\"shape\":\"\"}},\"name\":\"blocks.6.norm1.weight.(768,)\",\"offsetgroup\":\"blocks.6.norm1.weight.(768,)\",\"orientation\":\"v\",\"showlegend\":true,\"textposition\":\"auto\",\"x\":[\"blocks\"],\"xaxis\":\"x\",\"y\":[768],\"yaxis\":\"y\",\"type\":\"bar\"},{\"alignmentgroup\":\"True\",\"hovertemplate\":\"layer=blocks.6.norm1.bias.(768,)<br>block=%{x}<br>Log10_ParaM=%{y}<extra></extra>\",\"legendgroup\":\"blocks.6.norm1.bias.(768,)\",\"marker\":{\"color\":\"#19d3f3\",\"pattern\":{\"shape\":\"\"}},\"name\":\"blocks.6.norm1.bias.(768,)\",\"offsetgroup\":\"blocks.6.norm1.bias.(768,)\",\"orientation\":\"v\",\"showlegend\":true,\"textposition\":\"auto\",\"x\":[\"blocks\"],\"xaxis\":\"x\",\"y\":[768],\"yaxis\":\"y\",\"type\":\"bar\"},{\"alignmentgroup\":\"True\",\"hovertemplate\":\"layer=blocks.6.filter.w1.(2, 4, 192, 192)<br>block=%{x}<br>Log10_ParaM=%{y}<extra></extra>\",\"legendgroup\":\"blocks.6.filter.w1.(2, 4, 192, 192)\",\"marker\":{\"color\":\"#FF6692\",\"pattern\":{\"shape\":\"\"}},\"name\":\"blocks.6.filter.w1.(2, 4, 192, 192)\",\"offsetgroup\":\"blocks.6.filter.w1.(2, 4, 192, 192)\",\"orientation\":\"v\",\"showlegend\":true,\"textposition\":\"auto\",\"x\":[\"blocks\"],\"xaxis\":\"x\",\"y\":[294912],\"yaxis\":\"y\",\"type\":\"bar\"},{\"alignmentgroup\":\"True\",\"hovertemplate\":\"layer=blocks.6.filter.b1.(2, 4, 192)<br>block=%{x}<br>Log10_ParaM=%{y}<extra></extra>\",\"legendgroup\":\"blocks.6.filter.b1.(2, 4, 192)\",\"marker\":{\"color\":\"#B6E880\",\"pattern\":{\"shape\":\"\"}},\"name\":\"blocks.6.filter.b1.(2, 4, 192)\",\"offsetgroup\":\"blocks.6.filter.b1.(2, 4, 192)\",\"orientation\":\"v\",\"showlegend\":true,\"textposition\":\"auto\",\"x\":[\"blocks\"],\"xaxis\":\"x\",\"y\":[1536],\"yaxis\":\"y\",\"type\":\"bar\"},{\"alignmentgroup\":\"True\",\"hovertemplate\":\"layer=blocks.6.filter.w2.(2, 4, 192, 192)<br>block=%{x}<br>Log10_ParaM=%{y}<extra></extra>\",\"legendgroup\":\"blocks.6.filter.w2.(2, 4, 192, 192)\",\"marker\":{\"color\":\"#FF97FF\",\"pattern\":{\"shape\":\"\"}},\"name\":\"blocks.6.filter.w2.(2, 4, 192, 192)\",\"offsetgroup\":\"blocks.6.filter.w2.(2, 4, 192, 192)\",\"orientation\":\"v\",\"showlegend\":true,\"textposition\":\"auto\",\"x\":[\"blocks\"],\"xaxis\":\"x\",\"y\":[294912],\"yaxis\":\"y\",\"type\":\"bar\"},{\"alignmentgroup\":\"True\",\"hovertemplate\":\"layer=blocks.6.filter.b2.(2, 4, 192)<br>block=%{x}<br>Log10_ParaM=%{y}<extra></extra>\",\"legendgroup\":\"blocks.6.filter.b2.(2, 4, 192)\",\"marker\":{\"color\":\"#FECB52\",\"pattern\":{\"shape\":\"\"}},\"name\":\"blocks.6.filter.b2.(2, 4, 192)\",\"offsetgroup\":\"blocks.6.filter.b2.(2, 4, 192)\",\"orientation\":\"v\",\"showlegend\":true,\"textposition\":\"auto\",\"x\":[\"blocks\"],\"xaxis\":\"x\",\"y\":[1536],\"yaxis\":\"y\",\"type\":\"bar\"},{\"alignmentgroup\":\"True\",\"hovertemplate\":\"layer=blocks.6.norm2.weight.(768,)<br>block=%{x}<br>Log10_ParaM=%{y}<extra></extra>\",\"legendgroup\":\"blocks.6.norm2.weight.(768,)\",\"marker\":{\"color\":\"#636efa\",\"pattern\":{\"shape\":\"\"}},\"name\":\"blocks.6.norm2.weight.(768,)\",\"offsetgroup\":\"blocks.6.norm2.weight.(768,)\",\"orientation\":\"v\",\"showlegend\":true,\"textposition\":\"auto\",\"x\":[\"blocks\"],\"xaxis\":\"x\",\"y\":[768],\"yaxis\":\"y\",\"type\":\"bar\"},{\"alignmentgroup\":\"True\",\"hovertemplate\":\"layer=blocks.6.norm2.bias.(768,)<br>block=%{x}<br>Log10_ParaM=%{y}<extra></extra>\",\"legendgroup\":\"blocks.6.norm2.bias.(768,)\",\"marker\":{\"color\":\"#EF553B\",\"pattern\":{\"shape\":\"\"}},\"name\":\"blocks.6.norm2.bias.(768,)\",\"offsetgroup\":\"blocks.6.norm2.bias.(768,)\",\"orientation\":\"v\",\"showlegend\":true,\"textposition\":\"auto\",\"x\":[\"blocks\"],\"xaxis\":\"x\",\"y\":[768],\"yaxis\":\"y\",\"type\":\"bar\"},{\"alignmentgroup\":\"True\",\"hovertemplate\":\"layer=blocks.6.mlp.fc1.weight.(3072, 768)<br>block=%{x}<br>Log10_ParaM=%{y}<extra></extra>\",\"legendgroup\":\"blocks.6.mlp.fc1.weight.(3072, 768)\",\"marker\":{\"color\":\"#00cc96\",\"pattern\":{\"shape\":\"\"}},\"name\":\"blocks.6.mlp.fc1.weight.(3072, 768)\",\"offsetgroup\":\"blocks.6.mlp.fc1.weight.(3072, 768)\",\"orientation\":\"v\",\"showlegend\":true,\"textposition\":\"auto\",\"x\":[\"blocks\"],\"xaxis\":\"x\",\"y\":[2359296],\"yaxis\":\"y\",\"type\":\"bar\"},{\"alignmentgroup\":\"True\",\"hovertemplate\":\"layer=blocks.6.mlp.fc1.bias.(3072,)<br>block=%{x}<br>Log10_ParaM=%{y}<extra></extra>\",\"legendgroup\":\"blocks.6.mlp.fc1.bias.(3072,)\",\"marker\":{\"color\":\"#ab63fa\",\"pattern\":{\"shape\":\"\"}},\"name\":\"blocks.6.mlp.fc1.bias.(3072,)\",\"offsetgroup\":\"blocks.6.mlp.fc1.bias.(3072,)\",\"orientation\":\"v\",\"showlegend\":true,\"textposition\":\"auto\",\"x\":[\"blocks\"],\"xaxis\":\"x\",\"y\":[3072],\"yaxis\":\"y\",\"type\":\"bar\"},{\"alignmentgroup\":\"True\",\"hovertemplate\":\"layer=blocks.7.norm1.weight.(768,)<br>block=%{x}<br>Log10_ParaM=%{y}<extra></extra>\",\"legendgroup\":\"blocks.7.norm1.weight.(768,)\",\"marker\":{\"color\":\"#FFA15A\",\"pattern\":{\"shape\":\"\"}},\"name\":\"blocks.7.norm1.weight.(768,)\",\"offsetgroup\":\"blocks.7.norm1.weight.(768,)\",\"orientation\":\"v\",\"showlegend\":true,\"textposition\":\"auto\",\"x\":[\"blocks\"],\"xaxis\":\"x\",\"y\":[768],\"yaxis\":\"y\",\"type\":\"bar\"},{\"alignmentgroup\":\"True\",\"hovertemplate\":\"layer=blocks.7.norm1.bias.(768,)<br>block=%{x}<br>Log10_ParaM=%{y}<extra></extra>\",\"legendgroup\":\"blocks.7.norm1.bias.(768,)\",\"marker\":{\"color\":\"#19d3f3\",\"pattern\":{\"shape\":\"\"}},\"name\":\"blocks.7.norm1.bias.(768,)\",\"offsetgroup\":\"blocks.7.norm1.bias.(768,)\",\"orientation\":\"v\",\"showlegend\":true,\"textposition\":\"auto\",\"x\":[\"blocks\"],\"xaxis\":\"x\",\"y\":[768],\"yaxis\":\"y\",\"type\":\"bar\"},{\"alignmentgroup\":\"True\",\"hovertemplate\":\"layer=blocks.7.filter.w1.(2, 4, 192, 192)<br>block=%{x}<br>Log10_ParaM=%{y}<extra></extra>\",\"legendgroup\":\"blocks.7.filter.w1.(2, 4, 192, 192)\",\"marker\":{\"color\":\"#FF6692\",\"pattern\":{\"shape\":\"\"}},\"name\":\"blocks.7.filter.w1.(2, 4, 192, 192)\",\"offsetgroup\":\"blocks.7.filter.w1.(2, 4, 192, 192)\",\"orientation\":\"v\",\"showlegend\":true,\"textposition\":\"auto\",\"x\":[\"blocks\"],\"xaxis\":\"x\",\"y\":[294912],\"yaxis\":\"y\",\"type\":\"bar\"},{\"alignmentgroup\":\"True\",\"hovertemplate\":\"layer=blocks.7.filter.b1.(2, 4, 192)<br>block=%{x}<br>Log10_ParaM=%{y}<extra></extra>\",\"legendgroup\":\"blocks.7.filter.b1.(2, 4, 192)\",\"marker\":{\"color\":\"#B6E880\",\"pattern\":{\"shape\":\"\"}},\"name\":\"blocks.7.filter.b1.(2, 4, 192)\",\"offsetgroup\":\"blocks.7.filter.b1.(2, 4, 192)\",\"orientation\":\"v\",\"showlegend\":true,\"textposition\":\"auto\",\"x\":[\"blocks\"],\"xaxis\":\"x\",\"y\":[1536],\"yaxis\":\"y\",\"type\":\"bar\"},{\"alignmentgroup\":\"True\",\"hovertemplate\":\"layer=blocks.7.filter.w2.(2, 4, 192, 192)<br>block=%{x}<br>Log10_ParaM=%{y}<extra></extra>\",\"legendgroup\":\"blocks.7.filter.w2.(2, 4, 192, 192)\",\"marker\":{\"color\":\"#FF97FF\",\"pattern\":{\"shape\":\"\"}},\"name\":\"blocks.7.filter.w2.(2, 4, 192, 192)\",\"offsetgroup\":\"blocks.7.filter.w2.(2, 4, 192, 192)\",\"orientation\":\"v\",\"showlegend\":true,\"textposition\":\"auto\",\"x\":[\"blocks\"],\"xaxis\":\"x\",\"y\":[294912],\"yaxis\":\"y\",\"type\":\"bar\"},{\"alignmentgroup\":\"True\",\"hovertemplate\":\"layer=blocks.7.filter.b2.(2, 4, 192)<br>block=%{x}<br>Log10_ParaM=%{y}<extra></extra>\",\"legendgroup\":\"blocks.7.filter.b2.(2, 4, 192)\",\"marker\":{\"color\":\"#FECB52\",\"pattern\":{\"shape\":\"\"}},\"name\":\"blocks.7.filter.b2.(2, 4, 192)\",\"offsetgroup\":\"blocks.7.filter.b2.(2, 4, 192)\",\"orientation\":\"v\",\"showlegend\":true,\"textposition\":\"auto\",\"x\":[\"blocks\"],\"xaxis\":\"x\",\"y\":[1536],\"yaxis\":\"y\",\"type\":\"bar\"},{\"alignmentgroup\":\"True\",\"hovertemplate\":\"layer=blocks.7.norm2.weight.(768,)<br>block=%{x}<br>Log10_ParaM=%{y}<extra></extra>\",\"legendgroup\":\"blocks.7.norm2.weight.(768,)\",\"marker\":{\"color\":\"#636efa\",\"pattern\":{\"shape\":\"\"}},\"name\":\"blocks.7.norm2.weight.(768,)\",\"offsetgroup\":\"blocks.7.norm2.weight.(768,)\",\"orientation\":\"v\",\"showlegend\":true,\"textposition\":\"auto\",\"x\":[\"blocks\"],\"xaxis\":\"x\",\"y\":[768],\"yaxis\":\"y\",\"type\":\"bar\"},{\"alignmentgroup\":\"True\",\"hovertemplate\":\"layer=blocks.7.norm2.bias.(768,)<br>block=%{x}<br>Log10_ParaM=%{y}<extra></extra>\",\"legendgroup\":\"blocks.7.norm2.bias.(768,)\",\"marker\":{\"color\":\"#EF553B\",\"pattern\":{\"shape\":\"\"}},\"name\":\"blocks.7.norm2.bias.(768,)\",\"offsetgroup\":\"blocks.7.norm2.bias.(768,)\",\"orientation\":\"v\",\"showlegend\":true,\"textposition\":\"auto\",\"x\":[\"blocks\"],\"xaxis\":\"x\",\"y\":[768],\"yaxis\":\"y\",\"type\":\"bar\"},{\"alignmentgroup\":\"True\",\"hovertemplate\":\"layer=blocks.7.mlp.fc1.weight.(3072, 768)<br>block=%{x}<br>Log10_ParaM=%{y}<extra></extra>\",\"legendgroup\":\"blocks.7.mlp.fc1.weight.(3072, 768)\",\"marker\":{\"color\":\"#00cc96\",\"pattern\":{\"shape\":\"\"}},\"name\":\"blocks.7.mlp.fc1.weight.(3072, 768)\",\"offsetgroup\":\"blocks.7.mlp.fc1.weight.(3072, 768)\",\"orientation\":\"v\",\"showlegend\":true,\"textposition\":\"auto\",\"x\":[\"blocks\"],\"xaxis\":\"x\",\"y\":[2359296],\"yaxis\":\"y\",\"type\":\"bar\"},{\"alignmentgroup\":\"True\",\"hovertemplate\":\"layer=blocks.7.mlp.fc1.bias.(3072,)<br>block=%{x}<br>Log10_ParaM=%{y}<extra></extra>\",\"legendgroup\":\"blocks.7.mlp.fc1.bias.(3072,)\",\"marker\":{\"color\":\"#ab63fa\",\"pattern\":{\"shape\":\"\"}},\"name\":\"blocks.7.mlp.fc1.bias.(3072,)\",\"offsetgroup\":\"blocks.7.mlp.fc1.bias.(3072,)\",\"orientation\":\"v\",\"showlegend\":true,\"textposition\":\"auto\",\"x\":[\"blocks\"],\"xaxis\":\"x\",\"y\":[3072],\"yaxis\":\"y\",\"type\":\"bar\"},{\"alignmentgroup\":\"True\",\"hovertemplate\":\"layer=blocks.8.norm1.weight.(768,)<br>block=%{x}<br>Log10_ParaM=%{y}<extra></extra>\",\"legendgroup\":\"blocks.8.norm1.weight.(768,)\",\"marker\":{\"color\":\"#FFA15A\",\"pattern\":{\"shape\":\"\"}},\"name\":\"blocks.8.norm1.weight.(768,)\",\"offsetgroup\":\"blocks.8.norm1.weight.(768,)\",\"orientation\":\"v\",\"showlegend\":true,\"textposition\":\"auto\",\"x\":[\"blocks\"],\"xaxis\":\"x\",\"y\":[768],\"yaxis\":\"y\",\"type\":\"bar\"},{\"alignmentgroup\":\"True\",\"hovertemplate\":\"layer=blocks.8.norm1.bias.(768,)<br>block=%{x}<br>Log10_ParaM=%{y}<extra></extra>\",\"legendgroup\":\"blocks.8.norm1.bias.(768,)\",\"marker\":{\"color\":\"#19d3f3\",\"pattern\":{\"shape\":\"\"}},\"name\":\"blocks.8.norm1.bias.(768,)\",\"offsetgroup\":\"blocks.8.norm1.bias.(768,)\",\"orientation\":\"v\",\"showlegend\":true,\"textposition\":\"auto\",\"x\":[\"blocks\"],\"xaxis\":\"x\",\"y\":[768],\"yaxis\":\"y\",\"type\":\"bar\"},{\"alignmentgroup\":\"True\",\"hovertemplate\":\"layer=blocks.8.filter.w1.(2, 4, 192, 192)<br>block=%{x}<br>Log10_ParaM=%{y}<extra></extra>\",\"legendgroup\":\"blocks.8.filter.w1.(2, 4, 192, 192)\",\"marker\":{\"color\":\"#FF6692\",\"pattern\":{\"shape\":\"\"}},\"name\":\"blocks.8.filter.w1.(2, 4, 192, 192)\",\"offsetgroup\":\"blocks.8.filter.w1.(2, 4, 192, 192)\",\"orientation\":\"v\",\"showlegend\":true,\"textposition\":\"auto\",\"x\":[\"blocks\"],\"xaxis\":\"x\",\"y\":[294912],\"yaxis\":\"y\",\"type\":\"bar\"},{\"alignmentgroup\":\"True\",\"hovertemplate\":\"layer=blocks.8.filter.b1.(2, 4, 192)<br>block=%{x}<br>Log10_ParaM=%{y}<extra></extra>\",\"legendgroup\":\"blocks.8.filter.b1.(2, 4, 192)\",\"marker\":{\"color\":\"#B6E880\",\"pattern\":{\"shape\":\"\"}},\"name\":\"blocks.8.filter.b1.(2, 4, 192)\",\"offsetgroup\":\"blocks.8.filter.b1.(2, 4, 192)\",\"orientation\":\"v\",\"showlegend\":true,\"textposition\":\"auto\",\"x\":[\"blocks\"],\"xaxis\":\"x\",\"y\":[1536],\"yaxis\":\"y\",\"type\":\"bar\"},{\"alignmentgroup\":\"True\",\"hovertemplate\":\"layer=blocks.8.filter.w2.(2, 4, 192, 192)<br>block=%{x}<br>Log10_ParaM=%{y}<extra></extra>\",\"legendgroup\":\"blocks.8.filter.w2.(2, 4, 192, 192)\",\"marker\":{\"color\":\"#FF97FF\",\"pattern\":{\"shape\":\"\"}},\"name\":\"blocks.8.filter.w2.(2, 4, 192, 192)\",\"offsetgroup\":\"blocks.8.filter.w2.(2, 4, 192, 192)\",\"orientation\":\"v\",\"showlegend\":true,\"textposition\":\"auto\",\"x\":[\"blocks\"],\"xaxis\":\"x\",\"y\":[294912],\"yaxis\":\"y\",\"type\":\"bar\"},{\"alignmentgroup\":\"True\",\"hovertemplate\":\"layer=blocks.8.filter.b2.(2, 4, 192)<br>block=%{x}<br>Log10_ParaM=%{y}<extra></extra>\",\"legendgroup\":\"blocks.8.filter.b2.(2, 4, 192)\",\"marker\":{\"color\":\"#FECB52\",\"pattern\":{\"shape\":\"\"}},\"name\":\"blocks.8.filter.b2.(2, 4, 192)\",\"offsetgroup\":\"blocks.8.filter.b2.(2, 4, 192)\",\"orientation\":\"v\",\"showlegend\":true,\"textposition\":\"auto\",\"x\":[\"blocks\"],\"xaxis\":\"x\",\"y\":[1536],\"yaxis\":\"y\",\"type\":\"bar\"},{\"alignmentgroup\":\"True\",\"hovertemplate\":\"layer=blocks.8.norm2.weight.(768,)<br>block=%{x}<br>Log10_ParaM=%{y}<extra></extra>\",\"legendgroup\":\"blocks.8.norm2.weight.(768,)\",\"marker\":{\"color\":\"#636efa\",\"pattern\":{\"shape\":\"\"}},\"name\":\"blocks.8.norm2.weight.(768,)\",\"offsetgroup\":\"blocks.8.norm2.weight.(768,)\",\"orientation\":\"v\",\"showlegend\":true,\"textposition\":\"auto\",\"x\":[\"blocks\"],\"xaxis\":\"x\",\"y\":[768],\"yaxis\":\"y\",\"type\":\"bar\"},{\"alignmentgroup\":\"True\",\"hovertemplate\":\"layer=blocks.8.norm2.bias.(768,)<br>block=%{x}<br>Log10_ParaM=%{y}<extra></extra>\",\"legendgroup\":\"blocks.8.norm2.bias.(768,)\",\"marker\":{\"color\":\"#EF553B\",\"pattern\":{\"shape\":\"\"}},\"name\":\"blocks.8.norm2.bias.(768,)\",\"offsetgroup\":\"blocks.8.norm2.bias.(768,)\",\"orientation\":\"v\",\"showlegend\":true,\"textposition\":\"auto\",\"x\":[\"blocks\"],\"xaxis\":\"x\",\"y\":[768],\"yaxis\":\"y\",\"type\":\"bar\"},{\"alignmentgroup\":\"True\",\"hovertemplate\":\"layer=blocks.8.mlp.fc1.weight.(3072, 768)<br>block=%{x}<br>Log10_ParaM=%{y}<extra></extra>\",\"legendgroup\":\"blocks.8.mlp.fc1.weight.(3072, 768)\",\"marker\":{\"color\":\"#00cc96\",\"pattern\":{\"shape\":\"\"}},\"name\":\"blocks.8.mlp.fc1.weight.(3072, 768)\",\"offsetgroup\":\"blocks.8.mlp.fc1.weight.(3072, 768)\",\"orientation\":\"v\",\"showlegend\":true,\"textposition\":\"auto\",\"x\":[\"blocks\"],\"xaxis\":\"x\",\"y\":[2359296],\"yaxis\":\"y\",\"type\":\"bar\"},{\"alignmentgroup\":\"True\",\"hovertemplate\":\"layer=blocks.8.mlp.fc1.bias.(3072,)<br>block=%{x}<br>Log10_ParaM=%{y}<extra></extra>\",\"legendgroup\":\"blocks.8.mlp.fc1.bias.(3072,)\",\"marker\":{\"color\":\"#ab63fa\",\"pattern\":{\"shape\":\"\"}},\"name\":\"blocks.8.mlp.fc1.bias.(3072,)\",\"offsetgroup\":\"blocks.8.mlp.fc1.bias.(3072,)\",\"orientation\":\"v\",\"showlegend\":true,\"textposition\":\"auto\",\"x\":[\"blocks\"],\"xaxis\":\"x\",\"y\":[3072],\"yaxis\":\"y\",\"type\":\"bar\"},{\"alignmentgroup\":\"True\",\"hovertemplate\":\"layer=blocks.9.norm1.weight.(768,)<br>block=%{x}<br>Log10_ParaM=%{y}<extra></extra>\",\"legendgroup\":\"blocks.9.norm1.weight.(768,)\",\"marker\":{\"color\":\"#FFA15A\",\"pattern\":{\"shape\":\"\"}},\"name\":\"blocks.9.norm1.weight.(768,)\",\"offsetgroup\":\"blocks.9.norm1.weight.(768,)\",\"orientation\":\"v\",\"showlegend\":true,\"textposition\":\"auto\",\"x\":[\"blocks\"],\"xaxis\":\"x\",\"y\":[768],\"yaxis\":\"y\",\"type\":\"bar\"},{\"alignmentgroup\":\"True\",\"hovertemplate\":\"layer=blocks.9.norm1.bias.(768,)<br>block=%{x}<br>Log10_ParaM=%{y}<extra></extra>\",\"legendgroup\":\"blocks.9.norm1.bias.(768,)\",\"marker\":{\"color\":\"#19d3f3\",\"pattern\":{\"shape\":\"\"}},\"name\":\"blocks.9.norm1.bias.(768,)\",\"offsetgroup\":\"blocks.9.norm1.bias.(768,)\",\"orientation\":\"v\",\"showlegend\":true,\"textposition\":\"auto\",\"x\":[\"blocks\"],\"xaxis\":\"x\",\"y\":[768],\"yaxis\":\"y\",\"type\":\"bar\"},{\"alignmentgroup\":\"True\",\"hovertemplate\":\"layer=blocks.9.filter.w1.(2, 4, 192, 192)<br>block=%{x}<br>Log10_ParaM=%{y}<extra></extra>\",\"legendgroup\":\"blocks.9.filter.w1.(2, 4, 192, 192)\",\"marker\":{\"color\":\"#FF6692\",\"pattern\":{\"shape\":\"\"}},\"name\":\"blocks.9.filter.w1.(2, 4, 192, 192)\",\"offsetgroup\":\"blocks.9.filter.w1.(2, 4, 192, 192)\",\"orientation\":\"v\",\"showlegend\":true,\"textposition\":\"auto\",\"x\":[\"blocks\"],\"xaxis\":\"x\",\"y\":[294912],\"yaxis\":\"y\",\"type\":\"bar\"},{\"alignmentgroup\":\"True\",\"hovertemplate\":\"layer=blocks.9.filter.b1.(2, 4, 192)<br>block=%{x}<br>Log10_ParaM=%{y}<extra></extra>\",\"legendgroup\":\"blocks.9.filter.b1.(2, 4, 192)\",\"marker\":{\"color\":\"#B6E880\",\"pattern\":{\"shape\":\"\"}},\"name\":\"blocks.9.filter.b1.(2, 4, 192)\",\"offsetgroup\":\"blocks.9.filter.b1.(2, 4, 192)\",\"orientation\":\"v\",\"showlegend\":true,\"textposition\":\"auto\",\"x\":[\"blocks\"],\"xaxis\":\"x\",\"y\":[1536],\"yaxis\":\"y\",\"type\":\"bar\"},{\"alignmentgroup\":\"True\",\"hovertemplate\":\"layer=blocks.9.filter.w2.(2, 4, 192, 192)<br>block=%{x}<br>Log10_ParaM=%{y}<extra></extra>\",\"legendgroup\":\"blocks.9.filter.w2.(2, 4, 192, 192)\",\"marker\":{\"color\":\"#FF97FF\",\"pattern\":{\"shape\":\"\"}},\"name\":\"blocks.9.filter.w2.(2, 4, 192, 192)\",\"offsetgroup\":\"blocks.9.filter.w2.(2, 4, 192, 192)\",\"orientation\":\"v\",\"showlegend\":true,\"textposition\":\"auto\",\"x\":[\"blocks\"],\"xaxis\":\"x\",\"y\":[294912],\"yaxis\":\"y\",\"type\":\"bar\"},{\"alignmentgroup\":\"True\",\"hovertemplate\":\"layer=blocks.9.filter.b2.(2, 4, 192)<br>block=%{x}<br>Log10_ParaM=%{y}<extra></extra>\",\"legendgroup\":\"blocks.9.filter.b2.(2, 4, 192)\",\"marker\":{\"color\":\"#FECB52\",\"pattern\":{\"shape\":\"\"}},\"name\":\"blocks.9.filter.b2.(2, 4, 192)\",\"offsetgroup\":\"blocks.9.filter.b2.(2, 4, 192)\",\"orientation\":\"v\",\"showlegend\":true,\"textposition\":\"auto\",\"x\":[\"blocks\"],\"xaxis\":\"x\",\"y\":[1536],\"yaxis\":\"y\",\"type\":\"bar\"},{\"alignmentgroup\":\"True\",\"hovertemplate\":\"layer=blocks.9.norm2.weight.(768,)<br>block=%{x}<br>Log10_ParaM=%{y}<extra></extra>\",\"legendgroup\":\"blocks.9.norm2.weight.(768,)\",\"marker\":{\"color\":\"#636efa\",\"pattern\":{\"shape\":\"\"}},\"name\":\"blocks.9.norm2.weight.(768,)\",\"offsetgroup\":\"blocks.9.norm2.weight.(768,)\",\"orientation\":\"v\",\"showlegend\":true,\"textposition\":\"auto\",\"x\":[\"blocks\"],\"xaxis\":\"x\",\"y\":[768],\"yaxis\":\"y\",\"type\":\"bar\"},{\"alignmentgroup\":\"True\",\"hovertemplate\":\"layer=blocks.9.norm2.bias.(768,)<br>block=%{x}<br>Log10_ParaM=%{y}<extra></extra>\",\"legendgroup\":\"blocks.9.norm2.bias.(768,)\",\"marker\":{\"color\":\"#EF553B\",\"pattern\":{\"shape\":\"\"}},\"name\":\"blocks.9.norm2.bias.(768,)\",\"offsetgroup\":\"blocks.9.norm2.bias.(768,)\",\"orientation\":\"v\",\"showlegend\":true,\"textposition\":\"auto\",\"x\":[\"blocks\"],\"xaxis\":\"x\",\"y\":[768],\"yaxis\":\"y\",\"type\":\"bar\"},{\"alignmentgroup\":\"True\",\"hovertemplate\":\"layer=blocks.9.mlp.fc1.weight.(3072, 768)<br>block=%{x}<br>Log10_ParaM=%{y}<extra></extra>\",\"legendgroup\":\"blocks.9.mlp.fc1.weight.(3072, 768)\",\"marker\":{\"color\":\"#00cc96\",\"pattern\":{\"shape\":\"\"}},\"name\":\"blocks.9.mlp.fc1.weight.(3072, 768)\",\"offsetgroup\":\"blocks.9.mlp.fc1.weight.(3072, 768)\",\"orientation\":\"v\",\"showlegend\":true,\"textposition\":\"auto\",\"x\":[\"blocks\"],\"xaxis\":\"x\",\"y\":[2359296],\"yaxis\":\"y\",\"type\":\"bar\"},{\"alignmentgroup\":\"True\",\"hovertemplate\":\"layer=blocks.9.mlp.fc1.bias.(3072,)<br>block=%{x}<br>Log10_ParaM=%{y}<extra></extra>\",\"legendgroup\":\"blocks.9.mlp.fc1.bias.(3072,)\",\"marker\":{\"color\":\"#ab63fa\",\"pattern\":{\"shape\":\"\"}},\"name\":\"blocks.9.mlp.fc1.bias.(3072,)\",\"offsetgroup\":\"blocks.9.mlp.fc1.bias.(3072,)\",\"orientation\":\"v\",\"showlegend\":true,\"textposition\":\"auto\",\"x\":[\"blocks\"],\"xaxis\":\"x\",\"y\":[3072],\"yaxis\":\"y\",\"type\":\"bar\"},{\"alignmentgroup\":\"True\",\"hovertemplate\":\"layer=blocks.10.norm1.weight.(768,)<br>block=%{x}<br>Log10_ParaM=%{y}<extra></extra>\",\"legendgroup\":\"blocks.10.norm1.weight.(768,)\",\"marker\":{\"color\":\"#FFA15A\",\"pattern\":{\"shape\":\"\"}},\"name\":\"blocks.10.norm1.weight.(768,)\",\"offsetgroup\":\"blocks.10.norm1.weight.(768,)\",\"orientation\":\"v\",\"showlegend\":true,\"textposition\":\"auto\",\"x\":[\"blocks\"],\"xaxis\":\"x\",\"y\":[768],\"yaxis\":\"y\",\"type\":\"bar\"},{\"alignmentgroup\":\"True\",\"hovertemplate\":\"layer=blocks.10.norm1.bias.(768,)<br>block=%{x}<br>Log10_ParaM=%{y}<extra></extra>\",\"legendgroup\":\"blocks.10.norm1.bias.(768,)\",\"marker\":{\"color\":\"#19d3f3\",\"pattern\":{\"shape\":\"\"}},\"name\":\"blocks.10.norm1.bias.(768,)\",\"offsetgroup\":\"blocks.10.norm1.bias.(768,)\",\"orientation\":\"v\",\"showlegend\":true,\"textposition\":\"auto\",\"x\":[\"blocks\"],\"xaxis\":\"x\",\"y\":[768],\"yaxis\":\"y\",\"type\":\"bar\"},{\"alignmentgroup\":\"True\",\"hovertemplate\":\"layer=blocks.10.filter.w1.(2, 4, 192, 192)<br>block=%{x}<br>Log10_ParaM=%{y}<extra></extra>\",\"legendgroup\":\"blocks.10.filter.w1.(2, 4, 192, 192)\",\"marker\":{\"color\":\"#FF6692\",\"pattern\":{\"shape\":\"\"}},\"name\":\"blocks.10.filter.w1.(2, 4, 192, 192)\",\"offsetgroup\":\"blocks.10.filter.w1.(2, 4, 192, 192)\",\"orientation\":\"v\",\"showlegend\":true,\"textposition\":\"auto\",\"x\":[\"blocks\"],\"xaxis\":\"x\",\"y\":[294912],\"yaxis\":\"y\",\"type\":\"bar\"},{\"alignmentgroup\":\"True\",\"hovertemplate\":\"layer=blocks.10.filter.b1.(2, 4, 192)<br>block=%{x}<br>Log10_ParaM=%{y}<extra></extra>\",\"legendgroup\":\"blocks.10.filter.b1.(2, 4, 192)\",\"marker\":{\"color\":\"#B6E880\",\"pattern\":{\"shape\":\"\"}},\"name\":\"blocks.10.filter.b1.(2, 4, 192)\",\"offsetgroup\":\"blocks.10.filter.b1.(2, 4, 192)\",\"orientation\":\"v\",\"showlegend\":true,\"textposition\":\"auto\",\"x\":[\"blocks\"],\"xaxis\":\"x\",\"y\":[1536],\"yaxis\":\"y\",\"type\":\"bar\"},{\"alignmentgroup\":\"True\",\"hovertemplate\":\"layer=blocks.10.filter.w2.(2, 4, 192, 192)<br>block=%{x}<br>Log10_ParaM=%{y}<extra></extra>\",\"legendgroup\":\"blocks.10.filter.w2.(2, 4, 192, 192)\",\"marker\":{\"color\":\"#FF97FF\",\"pattern\":{\"shape\":\"\"}},\"name\":\"blocks.10.filter.w2.(2, 4, 192, 192)\",\"offsetgroup\":\"blocks.10.filter.w2.(2, 4, 192, 192)\",\"orientation\":\"v\",\"showlegend\":true,\"textposition\":\"auto\",\"x\":[\"blocks\"],\"xaxis\":\"x\",\"y\":[294912],\"yaxis\":\"y\",\"type\":\"bar\"},{\"alignmentgroup\":\"True\",\"hovertemplate\":\"layer=blocks.10.filter.b2.(2, 4, 192)<br>block=%{x}<br>Log10_ParaM=%{y}<extra></extra>\",\"legendgroup\":\"blocks.10.filter.b2.(2, 4, 192)\",\"marker\":{\"color\":\"#FECB52\",\"pattern\":{\"shape\":\"\"}},\"name\":\"blocks.10.filter.b2.(2, 4, 192)\",\"offsetgroup\":\"blocks.10.filter.b2.(2, 4, 192)\",\"orientation\":\"v\",\"showlegend\":true,\"textposition\":\"auto\",\"x\":[\"blocks\"],\"xaxis\":\"x\",\"y\":[1536],\"yaxis\":\"y\",\"type\":\"bar\"},{\"alignmentgroup\":\"True\",\"hovertemplate\":\"layer=blocks.10.norm2.weight.(768,)<br>block=%{x}<br>Log10_ParaM=%{y}<extra></extra>\",\"legendgroup\":\"blocks.10.norm2.weight.(768,)\",\"marker\":{\"color\":\"#636efa\",\"pattern\":{\"shape\":\"\"}},\"name\":\"blocks.10.norm2.weight.(768,)\",\"offsetgroup\":\"blocks.10.norm2.weight.(768,)\",\"orientation\":\"v\",\"showlegend\":true,\"textposition\":\"auto\",\"x\":[\"blocks\"],\"xaxis\":\"x\",\"y\":[768],\"yaxis\":\"y\",\"type\":\"bar\"},{\"alignmentgroup\":\"True\",\"hovertemplate\":\"layer=blocks.10.norm2.bias.(768,)<br>block=%{x}<br>Log10_ParaM=%{y}<extra></extra>\",\"legendgroup\":\"blocks.10.norm2.bias.(768,)\",\"marker\":{\"color\":\"#EF553B\",\"pattern\":{\"shape\":\"\"}},\"name\":\"blocks.10.norm2.bias.(768,)\",\"offsetgroup\":\"blocks.10.norm2.bias.(768,)\",\"orientation\":\"v\",\"showlegend\":true,\"textposition\":\"auto\",\"x\":[\"blocks\"],\"xaxis\":\"x\",\"y\":[768],\"yaxis\":\"y\",\"type\":\"bar\"},{\"alignmentgroup\":\"True\",\"hovertemplate\":\"layer=blocks.10.mlp.fc1.weight.(3072, 768)<br>block=%{x}<br>Log10_ParaM=%{y}<extra></extra>\",\"legendgroup\":\"blocks.10.mlp.fc1.weight.(3072, 768)\",\"marker\":{\"color\":\"#00cc96\",\"pattern\":{\"shape\":\"\"}},\"name\":\"blocks.10.mlp.fc1.weight.(3072, 768)\",\"offsetgroup\":\"blocks.10.mlp.fc1.weight.(3072, 768)\",\"orientation\":\"v\",\"showlegend\":true,\"textposition\":\"auto\",\"x\":[\"blocks\"],\"xaxis\":\"x\",\"y\":[2359296],\"yaxis\":\"y\",\"type\":\"bar\"},{\"alignmentgroup\":\"True\",\"hovertemplate\":\"layer=blocks.10.mlp.fc1.bias.(3072,)<br>block=%{x}<br>Log10_ParaM=%{y}<extra></extra>\",\"legendgroup\":\"blocks.10.mlp.fc1.bias.(3072,)\",\"marker\":{\"color\":\"#ab63fa\",\"pattern\":{\"shape\":\"\"}},\"name\":\"blocks.10.mlp.fc1.bias.(3072,)\",\"offsetgroup\":\"blocks.10.mlp.fc1.bias.(3072,)\",\"orientation\":\"v\",\"showlegend\":true,\"textposition\":\"auto\",\"x\":[\"blocks\"],\"xaxis\":\"x\",\"y\":[3072],\"yaxis\":\"y\",\"type\":\"bar\"},{\"alignmentgroup\":\"True\",\"hovertemplate\":\"layer=blocks.11.norm1.weight.(768,)<br>block=%{x}<br>Log10_ParaM=%{y}<extra></extra>\",\"legendgroup\":\"blocks.11.norm1.weight.(768,)\",\"marker\":{\"color\":\"#FFA15A\",\"pattern\":{\"shape\":\"\"}},\"name\":\"blocks.11.norm1.weight.(768,)\",\"offsetgroup\":\"blocks.11.norm1.weight.(768,)\",\"orientation\":\"v\",\"showlegend\":true,\"textposition\":\"auto\",\"x\":[\"blocks\"],\"xaxis\":\"x\",\"y\":[768],\"yaxis\":\"y\",\"type\":\"bar\"},{\"alignmentgroup\":\"True\",\"hovertemplate\":\"layer=blocks.11.norm1.bias.(768,)<br>block=%{x}<br>Log10_ParaM=%{y}<extra></extra>\",\"legendgroup\":\"blocks.11.norm1.bias.(768,)\",\"marker\":{\"color\":\"#19d3f3\",\"pattern\":{\"shape\":\"\"}},\"name\":\"blocks.11.norm1.bias.(768,)\",\"offsetgroup\":\"blocks.11.norm1.bias.(768,)\",\"orientation\":\"v\",\"showlegend\":true,\"textposition\":\"auto\",\"x\":[\"blocks\"],\"xaxis\":\"x\",\"y\":[768],\"yaxis\":\"y\",\"type\":\"bar\"},{\"alignmentgroup\":\"True\",\"hovertemplate\":\"layer=blocks.11.filter.w1.(2, 4, 192, 192)<br>block=%{x}<br>Log10_ParaM=%{y}<extra></extra>\",\"legendgroup\":\"blocks.11.filter.w1.(2, 4, 192, 192)\",\"marker\":{\"color\":\"#FF6692\",\"pattern\":{\"shape\":\"\"}},\"name\":\"blocks.11.filter.w1.(2, 4, 192, 192)\",\"offsetgroup\":\"blocks.11.filter.w1.(2, 4, 192, 192)\",\"orientation\":\"v\",\"showlegend\":true,\"textposition\":\"auto\",\"x\":[\"blocks\"],\"xaxis\":\"x\",\"y\":[294912],\"yaxis\":\"y\",\"type\":\"bar\"},{\"alignmentgroup\":\"True\",\"hovertemplate\":\"layer=blocks.11.filter.b1.(2, 4, 192)<br>block=%{x}<br>Log10_ParaM=%{y}<extra></extra>\",\"legendgroup\":\"blocks.11.filter.b1.(2, 4, 192)\",\"marker\":{\"color\":\"#B6E880\",\"pattern\":{\"shape\":\"\"}},\"name\":\"blocks.11.filter.b1.(2, 4, 192)\",\"offsetgroup\":\"blocks.11.filter.b1.(2, 4, 192)\",\"orientation\":\"v\",\"showlegend\":true,\"textposition\":\"auto\",\"x\":[\"blocks\"],\"xaxis\":\"x\",\"y\":[1536],\"yaxis\":\"y\",\"type\":\"bar\"},{\"alignmentgroup\":\"True\",\"hovertemplate\":\"layer=blocks.11.filter.w2.(2, 4, 192, 192)<br>block=%{x}<br>Log10_ParaM=%{y}<extra></extra>\",\"legendgroup\":\"blocks.11.filter.w2.(2, 4, 192, 192)\",\"marker\":{\"color\":\"#FF97FF\",\"pattern\":{\"shape\":\"\"}},\"name\":\"blocks.11.filter.w2.(2, 4, 192, 192)\",\"offsetgroup\":\"blocks.11.filter.w2.(2, 4, 192, 192)\",\"orientation\":\"v\",\"showlegend\":true,\"textposition\":\"auto\",\"x\":[\"blocks\"],\"xaxis\":\"x\",\"y\":[294912],\"yaxis\":\"y\",\"type\":\"bar\"},{\"alignmentgroup\":\"True\",\"hovertemplate\":\"layer=blocks.11.filter.b2.(2, 4, 192)<br>block=%{x}<br>Log10_ParaM=%{y}<extra></extra>\",\"legendgroup\":\"blocks.11.filter.b2.(2, 4, 192)\",\"marker\":{\"color\":\"#FECB52\",\"pattern\":{\"shape\":\"\"}},\"name\":\"blocks.11.filter.b2.(2, 4, 192)\",\"offsetgroup\":\"blocks.11.filter.b2.(2, 4, 192)\",\"orientation\":\"v\",\"showlegend\":true,\"textposition\":\"auto\",\"x\":[\"blocks\"],\"xaxis\":\"x\",\"y\":[1536],\"yaxis\":\"y\",\"type\":\"bar\"},{\"alignmentgroup\":\"True\",\"hovertemplate\":\"layer=blocks.11.norm2.weight.(768,)<br>block=%{x}<br>Log10_ParaM=%{y}<extra></extra>\",\"legendgroup\":\"blocks.11.norm2.weight.(768,)\",\"marker\":{\"color\":\"#636efa\",\"pattern\":{\"shape\":\"\"}},\"name\":\"blocks.11.norm2.weight.(768,)\",\"offsetgroup\":\"blocks.11.norm2.weight.(768,)\",\"orientation\":\"v\",\"showlegend\":true,\"textposition\":\"auto\",\"x\":[\"blocks\"],\"xaxis\":\"x\",\"y\":[768],\"yaxis\":\"y\",\"type\":\"bar\"},{\"alignmentgroup\":\"True\",\"hovertemplate\":\"layer=blocks.11.norm2.bias.(768,)<br>block=%{x}<br>Log10_ParaM=%{y}<extra></extra>\",\"legendgroup\":\"blocks.11.norm2.bias.(768,)\",\"marker\":{\"color\":\"#EF553B\",\"pattern\":{\"shape\":\"\"}},\"name\":\"blocks.11.norm2.bias.(768,)\",\"offsetgroup\":\"blocks.11.norm2.bias.(768,)\",\"orientation\":\"v\",\"showlegend\":true,\"textposition\":\"auto\",\"x\":[\"blocks\"],\"xaxis\":\"x\",\"y\":[768],\"yaxis\":\"y\",\"type\":\"bar\"},{\"alignmentgroup\":\"True\",\"hovertemplate\":\"layer=blocks.11.mlp.fc1.weight.(3072, 768)<br>block=%{x}<br>Log10_ParaM=%{y}<extra></extra>\",\"legendgroup\":\"blocks.11.mlp.fc1.weight.(3072, 768)\",\"marker\":{\"color\":\"#00cc96\",\"pattern\":{\"shape\":\"\"}},\"name\":\"blocks.11.mlp.fc1.weight.(3072, 768)\",\"offsetgroup\":\"blocks.11.mlp.fc1.weight.(3072, 768)\",\"orientation\":\"v\",\"showlegend\":true,\"textposition\":\"auto\",\"x\":[\"blocks\"],\"xaxis\":\"x\",\"y\":[2359296],\"yaxis\":\"y\",\"type\":\"bar\"},{\"alignmentgroup\":\"True\",\"hovertemplate\":\"layer=blocks.11.mlp.fc1.bias.(3072,)<br>block=%{x}<br>Log10_ParaM=%{y}<extra></extra>\",\"legendgroup\":\"blocks.11.mlp.fc1.bias.(3072,)\",\"marker\":{\"color\":\"#ab63fa\",\"pattern\":{\"shape\":\"\"}},\"name\":\"blocks.11.mlp.fc1.bias.(3072,)\",\"offsetgroup\":\"blocks.11.mlp.fc1.bias.(3072,)\",\"orientation\":\"v\",\"showlegend\":true,\"textposition\":\"auto\",\"x\":[\"blocks\"],\"xaxis\":\"x\",\"y\":[3072],\"yaxis\":\"y\",\"type\":\"bar\"},{\"alignmentgroup\":\"True\",\"hovertemplate\":\"layer=norm.weight.(768,)<br>block=%{x}<br>Log10_ParaM=%{y}<extra></extra>\",\"legendgroup\":\"norm.weight.(768,)\",\"marker\":{\"color\":\"#FFA15A\",\"pattern\":{\"shape\":\"\"}},\"name\":\"norm.weight.(768,)\",\"offsetgroup\":\"norm.weight.(768,)\",\"orientation\":\"v\",\"showlegend\":true,\"textposition\":\"auto\",\"x\":[\"norm\"],\"xaxis\":\"x\",\"y\":[768],\"yaxis\":\"y\",\"type\":\"bar\"},{\"alignmentgroup\":\"True\",\"hovertemplate\":\"layer=norm.bias.(768,)<br>block=%{x}<br>Log10_ParaM=%{y}<extra></extra>\",\"legendgroup\":\"norm.bias.(768,)\",\"marker\":{\"color\":\"#19d3f3\",\"pattern\":{\"shape\":\"\"}},\"name\":\"norm.bias.(768,)\",\"offsetgroup\":\"norm.bias.(768,)\",\"orientation\":\"v\",\"showlegend\":true,\"textposition\":\"auto\",\"x\":[\"norm\"],\"xaxis\":\"x\",\"y\":[768],\"yaxis\":\"y\",\"type\":\"bar\"},{\"alignmentgroup\":\"True\",\"hovertemplate\":\"layer=pre_logits.conv1.conv_layers.0.weight.(768, 3360, 3)<br>block=%{x}<br>Log10_ParaM=%{y}<extra></extra>\",\"legendgroup\":\"pre_logits.conv1.conv_layers.0.weight.(768, 3360, 3)\",\"marker\":{\"color\":\"#FF6692\",\"pattern\":{\"shape\":\"\"}},\"name\":\"pre_logits.conv1.conv_layers.0.weight.(768, 3360, 3)\",\"offsetgroup\":\"pre_logits.conv1.conv_layers.0.weight.(768, 3360, 3)\",\"orientation\":\"v\",\"showlegend\":true,\"textposition\":\"auto\",\"x\":[\"pre_logits\"],\"xaxis\":\"x\",\"y\":[7741440],\"yaxis\":\"y\",\"type\":\"bar\"},{\"alignmentgroup\":\"True\",\"hovertemplate\":\"layer=pre_logits.conv1.conv_layers.1.weight.(768, 3360, 3)<br>block=%{x}<br>Log10_ParaM=%{y}<extra></extra>\",\"legendgroup\":\"pre_logits.conv1.conv_layers.1.weight.(768, 3360, 3)\",\"marker\":{\"color\":\"#B6E880\",\"pattern\":{\"shape\":\"\"}},\"name\":\"pre_logits.conv1.conv_layers.1.weight.(768, 3360, 3)\",\"offsetgroup\":\"pre_logits.conv1.conv_layers.1.weight.(768, 3360, 3)\",\"orientation\":\"v\",\"showlegend\":true,\"textposition\":\"auto\",\"x\":[\"pre_logits\"],\"xaxis\":\"x\",\"y\":[7741440],\"yaxis\":\"y\",\"type\":\"bar\"},{\"alignmentgroup\":\"True\",\"hovertemplate\":\"layer=pre_logits.conv1.conv_layers.2.weight.(768, 3360, 3)<br>block=%{x}<br>Log10_ParaM=%{y}<extra></extra>\",\"legendgroup\":\"pre_logits.conv1.conv_layers.2.weight.(768, 3360, 3)\",\"marker\":{\"color\":\"#FF97FF\",\"pattern\":{\"shape\":\"\"}},\"name\":\"pre_logits.conv1.conv_layers.2.weight.(768, 3360, 3)\",\"offsetgroup\":\"pre_logits.conv1.conv_layers.2.weight.(768, 3360, 3)\",\"orientation\":\"v\",\"showlegend\":true,\"textposition\":\"auto\",\"x\":[\"pre_logits\"],\"xaxis\":\"x\",\"y\":[7741440],\"yaxis\":\"y\",\"type\":\"bar\"},{\"alignmentgroup\":\"True\",\"hovertemplate\":\"layer=pre_logits.conv2.conv_layers.0.weight.(3360, 840, 3)<br>block=%{x}<br>Log10_ParaM=%{y}<extra></extra>\",\"legendgroup\":\"pre_logits.conv2.conv_layers.0.weight.(3360, 840, 3)\",\"marker\":{\"color\":\"#FECB52\",\"pattern\":{\"shape\":\"\"}},\"name\":\"pre_logits.conv2.conv_layers.0.weight.(3360, 840, 3)\",\"offsetgroup\":\"pre_logits.conv2.conv_layers.0.weight.(3360, 840, 3)\",\"orientation\":\"v\",\"showlegend\":true,\"textposition\":\"auto\",\"x\":[\"pre_logits\"],\"xaxis\":\"x\",\"y\":[8467200],\"yaxis\":\"y\",\"type\":\"bar\"},{\"alignmentgroup\":\"True\",\"hovertemplate\":\"layer=pre_logits.conv2.conv_layers.1.weight.(3360, 840, 3)<br>block=%{x}<br>Log10_ParaM=%{y}<extra></extra>\",\"legendgroup\":\"pre_logits.conv2.conv_layers.1.weight.(3360, 840, 3)\",\"marker\":{\"color\":\"#636efa\",\"pattern\":{\"shape\":\"\"}},\"name\":\"pre_logits.conv2.conv_layers.1.weight.(3360, 840, 3)\",\"offsetgroup\":\"pre_logits.conv2.conv_layers.1.weight.(3360, 840, 3)\",\"orientation\":\"v\",\"showlegend\":true,\"textposition\":\"auto\",\"x\":[\"pre_logits\"],\"xaxis\":\"x\",\"y\":[8467200],\"yaxis\":\"y\",\"type\":\"bar\"},{\"alignmentgroup\":\"True\",\"hovertemplate\":\"layer=pre_logits.conv2.conv_layers.2.weight.(3360, 840, 3)<br>block=%{x}<br>Log10_ParaM=%{y}<extra></extra>\",\"legendgroup\":\"pre_logits.conv2.conv_layers.2.weight.(3360, 840, 3)\",\"marker\":{\"color\":\"#EF553B\",\"pattern\":{\"shape\":\"\"}},\"name\":\"pre_logits.conv2.conv_layers.2.weight.(3360, 840, 3)\",\"offsetgroup\":\"pre_logits.conv2.conv_layers.2.weight.(3360, 840, 3)\",\"orientation\":\"v\",\"showlegend\":true,\"textposition\":\"auto\",\"x\":[\"pre_logits\"],\"xaxis\":\"x\",\"y\":[8467200],\"yaxis\":\"y\",\"type\":\"bar\"},{\"alignmentgroup\":\"True\",\"hovertemplate\":\"layer=head.conv_layers.0.weight.(840, 210, 2)<br>block=%{x}<br>Log10_ParaM=%{y}<extra></extra>\",\"legendgroup\":\"head.conv_layers.0.weight.(840, 210, 2)\",\"marker\":{\"color\":\"#00cc96\",\"pattern\":{\"shape\":\"\"}},\"name\":\"head.conv_layers.0.weight.(840, 210, 2)\",\"offsetgroup\":\"head.conv_layers.0.weight.(840, 210, 2)\",\"orientation\":\"v\",\"showlegend\":true,\"textposition\":\"auto\",\"x\":[\"head\"],\"xaxis\":\"x\",\"y\":[352800],\"yaxis\":\"y\",\"type\":\"bar\"},{\"alignmentgroup\":\"True\",\"hovertemplate\":\"layer=head.conv_layers.1.weight.(840, 210, 2)<br>block=%{x}<br>Log10_ParaM=%{y}<extra></extra>\",\"legendgroup\":\"head.conv_layers.1.weight.(840, 210, 2)\",\"marker\":{\"color\":\"#ab63fa\",\"pattern\":{\"shape\":\"\"}},\"name\":\"head.conv_layers.1.weight.(840, 210, 2)\",\"offsetgroup\":\"head.conv_layers.1.weight.(840, 210, 2)\",\"orientation\":\"v\",\"showlegend\":true,\"textposition\":\"auto\",\"x\":[\"head\"],\"xaxis\":\"x\",\"y\":[352800],\"yaxis\":\"y\",\"type\":\"bar\"}],                        {\"template\":{\"data\":{\"histogram2dcontour\":[{\"type\":\"histogram2dcontour\",\"colorbar\":{\"outlinewidth\":0,\"ticks\":\"\"},\"colorscale\":[[0.0,\"#0d0887\"],[0.1111111111111111,\"#46039f\"],[0.2222222222222222,\"#7201a8\"],[0.3333333333333333,\"#9c179e\"],[0.4444444444444444,\"#bd3786\"],[0.5555555555555556,\"#d8576b\"],[0.6666666666666666,\"#ed7953\"],[0.7777777777777778,\"#fb9f3a\"],[0.8888888888888888,\"#fdca26\"],[1.0,\"#f0f921\"]]}],\"choropleth\":[{\"type\":\"choropleth\",\"colorbar\":{\"outlinewidth\":0,\"ticks\":\"\"}}],\"histogram2d\":[{\"type\":\"histogram2d\",\"colorbar\":{\"outlinewidth\":0,\"ticks\":\"\"},\"colorscale\":[[0.0,\"#0d0887\"],[0.1111111111111111,\"#46039f\"],[0.2222222222222222,\"#7201a8\"],[0.3333333333333333,\"#9c179e\"],[0.4444444444444444,\"#bd3786\"],[0.5555555555555556,\"#d8576b\"],[0.6666666666666666,\"#ed7953\"],[0.7777777777777778,\"#fb9f3a\"],[0.8888888888888888,\"#fdca26\"],[1.0,\"#f0f921\"]]}],\"heatmap\":[{\"type\":\"heatmap\",\"colorbar\":{\"outlinewidth\":0,\"ticks\":\"\"},\"colorscale\":[[0.0,\"#0d0887\"],[0.1111111111111111,\"#46039f\"],[0.2222222222222222,\"#7201a8\"],[0.3333333333333333,\"#9c179e\"],[0.4444444444444444,\"#bd3786\"],[0.5555555555555556,\"#d8576b\"],[0.6666666666666666,\"#ed7953\"],[0.7777777777777778,\"#fb9f3a\"],[0.8888888888888888,\"#fdca26\"],[1.0,\"#f0f921\"]]}],\"heatmapgl\":[{\"type\":\"heatmapgl\",\"colorbar\":{\"outlinewidth\":0,\"ticks\":\"\"},\"colorscale\":[[0.0,\"#0d0887\"],[0.1111111111111111,\"#46039f\"],[0.2222222222222222,\"#7201a8\"],[0.3333333333333333,\"#9c179e\"],[0.4444444444444444,\"#bd3786\"],[0.5555555555555556,\"#d8576b\"],[0.6666666666666666,\"#ed7953\"],[0.7777777777777778,\"#fb9f3a\"],[0.8888888888888888,\"#fdca26\"],[1.0,\"#f0f921\"]]}],\"contourcarpet\":[{\"type\":\"contourcarpet\",\"colorbar\":{\"outlinewidth\":0,\"ticks\":\"\"}}],\"contour\":[{\"type\":\"contour\",\"colorbar\":{\"outlinewidth\":0,\"ticks\":\"\"},\"colorscale\":[[0.0,\"#0d0887\"],[0.1111111111111111,\"#46039f\"],[0.2222222222222222,\"#7201a8\"],[0.3333333333333333,\"#9c179e\"],[0.4444444444444444,\"#bd3786\"],[0.5555555555555556,\"#d8576b\"],[0.6666666666666666,\"#ed7953\"],[0.7777777777777778,\"#fb9f3a\"],[0.8888888888888888,\"#fdca26\"],[1.0,\"#f0f921\"]]}],\"surface\":[{\"type\":\"surface\",\"colorbar\":{\"outlinewidth\":0,\"ticks\":\"\"},\"colorscale\":[[0.0,\"#0d0887\"],[0.1111111111111111,\"#46039f\"],[0.2222222222222222,\"#7201a8\"],[0.3333333333333333,\"#9c179e\"],[0.4444444444444444,\"#bd3786\"],[0.5555555555555556,\"#d8576b\"],[0.6666666666666666,\"#ed7953\"],[0.7777777777777778,\"#fb9f3a\"],[0.8888888888888888,\"#fdca26\"],[1.0,\"#f0f921\"]]}],\"mesh3d\":[{\"type\":\"mesh3d\",\"colorbar\":{\"outlinewidth\":0,\"ticks\":\"\"}}],\"scatter\":[{\"fillpattern\":{\"fillmode\":\"overlay\",\"size\":10,\"solidity\":0.2},\"type\":\"scatter\"}],\"parcoords\":[{\"type\":\"parcoords\",\"line\":{\"colorbar\":{\"outlinewidth\":0,\"ticks\":\"\"}}}],\"scatterpolargl\":[{\"type\":\"scatterpolargl\",\"marker\":{\"colorbar\":{\"outlinewidth\":0,\"ticks\":\"\"}}}],\"bar\":[{\"error_x\":{\"color\":\"#2a3f5f\"},\"error_y\":{\"color\":\"#2a3f5f\"},\"marker\":{\"line\":{\"color\":\"#E5ECF6\",\"width\":0.5},\"pattern\":{\"fillmode\":\"overlay\",\"size\":10,\"solidity\":0.2}},\"type\":\"bar\"}],\"scattergeo\":[{\"type\":\"scattergeo\",\"marker\":{\"colorbar\":{\"outlinewidth\":0,\"ticks\":\"\"}}}],\"scatterpolar\":[{\"type\":\"scatterpolar\",\"marker\":{\"colorbar\":{\"outlinewidth\":0,\"ticks\":\"\"}}}],\"histogram\":[{\"marker\":{\"pattern\":{\"fillmode\":\"overlay\",\"size\":10,\"solidity\":0.2}},\"type\":\"histogram\"}],\"scattergl\":[{\"type\":\"scattergl\",\"marker\":{\"colorbar\":{\"outlinewidth\":0,\"ticks\":\"\"}}}],\"scatter3d\":[{\"type\":\"scatter3d\",\"line\":{\"colorbar\":{\"outlinewidth\":0,\"ticks\":\"\"}},\"marker\":{\"colorbar\":{\"outlinewidth\":0,\"ticks\":\"\"}}}],\"scattermapbox\":[{\"type\":\"scattermapbox\",\"marker\":{\"colorbar\":{\"outlinewidth\":0,\"ticks\":\"\"}}}],\"scatterternary\":[{\"type\":\"scatterternary\",\"marker\":{\"colorbar\":{\"outlinewidth\":0,\"ticks\":\"\"}}}],\"scattercarpet\":[{\"type\":\"scattercarpet\",\"marker\":{\"colorbar\":{\"outlinewidth\":0,\"ticks\":\"\"}}}],\"carpet\":[{\"aaxis\":{\"endlinecolor\":\"#2a3f5f\",\"gridcolor\":\"white\",\"linecolor\":\"white\",\"minorgridcolor\":\"white\",\"startlinecolor\":\"#2a3f5f\"},\"baxis\":{\"endlinecolor\":\"#2a3f5f\",\"gridcolor\":\"white\",\"linecolor\":\"white\",\"minorgridcolor\":\"white\",\"startlinecolor\":\"#2a3f5f\"},\"type\":\"carpet\"}],\"table\":[{\"cells\":{\"fill\":{\"color\":\"#EBF0F8\"},\"line\":{\"color\":\"white\"}},\"header\":{\"fill\":{\"color\":\"#C8D4E3\"},\"line\":{\"color\":\"white\"}},\"type\":\"table\"}],\"barpolar\":[{\"marker\":{\"line\":{\"color\":\"#E5ECF6\",\"width\":0.5},\"pattern\":{\"fillmode\":\"overlay\",\"size\":10,\"solidity\":0.2}},\"type\":\"barpolar\"}],\"pie\":[{\"automargin\":true,\"type\":\"pie\"}]},\"layout\":{\"autotypenumbers\":\"strict\",\"colorway\":[\"#636efa\",\"#EF553B\",\"#00cc96\",\"#ab63fa\",\"#FFA15A\",\"#19d3f3\",\"#FF6692\",\"#B6E880\",\"#FF97FF\",\"#FECB52\"],\"font\":{\"color\":\"#2a3f5f\"},\"hovermode\":\"closest\",\"hoverlabel\":{\"align\":\"left\"},\"paper_bgcolor\":\"white\",\"plot_bgcolor\":\"#E5ECF6\",\"polar\":{\"bgcolor\":\"#E5ECF6\",\"angularaxis\":{\"gridcolor\":\"white\",\"linecolor\":\"white\",\"ticks\":\"\"},\"radialaxis\":{\"gridcolor\":\"white\",\"linecolor\":\"white\",\"ticks\":\"\"}},\"ternary\":{\"bgcolor\":\"#E5ECF6\",\"aaxis\":{\"gridcolor\":\"white\",\"linecolor\":\"white\",\"ticks\":\"\"},\"baxis\":{\"gridcolor\":\"white\",\"linecolor\":\"white\",\"ticks\":\"\"},\"caxis\":{\"gridcolor\":\"white\",\"linecolor\":\"white\",\"ticks\":\"\"}},\"coloraxis\":{\"colorbar\":{\"outlinewidth\":0,\"ticks\":\"\"}},\"colorscale\":{\"sequential\":[[0.0,\"#0d0887\"],[0.1111111111111111,\"#46039f\"],[0.2222222222222222,\"#7201a8\"],[0.3333333333333333,\"#9c179e\"],[0.4444444444444444,\"#bd3786\"],[0.5555555555555556,\"#d8576b\"],[0.6666666666666666,\"#ed7953\"],[0.7777777777777778,\"#fb9f3a\"],[0.8888888888888888,\"#fdca26\"],[1.0,\"#f0f921\"]],\"sequentialminus\":[[0.0,\"#0d0887\"],[0.1111111111111111,\"#46039f\"],[0.2222222222222222,\"#7201a8\"],[0.3333333333333333,\"#9c179e\"],[0.4444444444444444,\"#bd3786\"],[0.5555555555555556,\"#d8576b\"],[0.6666666666666666,\"#ed7953\"],[0.7777777777777778,\"#fb9f3a\"],[0.8888888888888888,\"#fdca26\"],[1.0,\"#f0f921\"]],\"diverging\":[[0,\"#8e0152\"],[0.1,\"#c51b7d\"],[0.2,\"#de77ae\"],[0.3,\"#f1b6da\"],[0.4,\"#fde0ef\"],[0.5,\"#f7f7f7\"],[0.6,\"#e6f5d0\"],[0.7,\"#b8e186\"],[0.8,\"#7fbc41\"],[0.9,\"#4d9221\"],[1,\"#276419\"]]},\"xaxis\":{\"gridcolor\":\"white\",\"linecolor\":\"white\",\"ticks\":\"\",\"title\":{\"standoff\":15},\"zerolinecolor\":\"white\",\"automargin\":true,\"zerolinewidth\":2},\"yaxis\":{\"gridcolor\":\"white\",\"linecolor\":\"white\",\"ticks\":\"\",\"title\":{\"standoff\":15},\"zerolinecolor\":\"white\",\"automargin\":true,\"zerolinewidth\":2},\"scene\":{\"xaxis\":{\"backgroundcolor\":\"#E5ECF6\",\"gridcolor\":\"white\",\"linecolor\":\"white\",\"showbackground\":true,\"ticks\":\"\",\"zerolinecolor\":\"white\",\"gridwidth\":2},\"yaxis\":{\"backgroundcolor\":\"#E5ECF6\",\"gridcolor\":\"white\",\"linecolor\":\"white\",\"showbackground\":true,\"ticks\":\"\",\"zerolinecolor\":\"white\",\"gridwidth\":2},\"zaxis\":{\"backgroundcolor\":\"#E5ECF6\",\"gridcolor\":\"white\",\"linecolor\":\"white\",\"showbackground\":true,\"ticks\":\"\",\"zerolinecolor\":\"white\",\"gridwidth\":2}},\"shapedefaults\":{\"line\":{\"color\":\"#2a3f5f\"}},\"annotationdefaults\":{\"arrowcolor\":\"#2a3f5f\",\"arrowhead\":0,\"arrowwidth\":1},\"geo\":{\"bgcolor\":\"white\",\"landcolor\":\"#E5ECF6\",\"subunitcolor\":\"white\",\"showland\":true,\"showlakes\":true,\"lakecolor\":\"white\"},\"title\":{\"x\":0.05},\"mapbox\":{\"style\":\"light\"}}},\"xaxis\":{\"anchor\":\"y\",\"domain\":[0.0,1.0],\"title\":{\"text\":\"block\"}},\"yaxis\":{\"anchor\":\"x\",\"domain\":[0.0,1.0],\"title\":{\"text\":\"Log10_ParaM\"}},\"legend\":{\"title\":{\"text\":\"layer\"},\"tracegroupgap\":0},\"title\":{\"text\":\"My plot\"},\"barmode\":\"relative\",\"height\":600,\"showlegend\":false},                        {\"responsive\": true}                    ).then(function(){\n",
       "                            \n",
       "var gd = document.getElementById('e5bb650e-2f75-4438-8722-57891c98e455');\n",
       "var x = new MutationObserver(function (mutations, observer) {{\n",
       "        var display = window.getComputedStyle(gd).display;\n",
       "        if (!display || display === 'none') {{\n",
       "            console.log([gd, 'removed!']);\n",
       "            Plotly.purge(gd);\n",
       "            observer.disconnect();\n",
       "        }}\n",
       "}});\n",
       "\n",
       "// Listen for the removal of the full notebook cells\n",
       "var notebookContainer = gd.closest('#notebook-container');\n",
       "if (notebookContainer) {{\n",
       "    x.observe(notebookContainer, {childList: true});\n",
       "}}\n",
       "\n",
       "// Listen for the clearing of the current output cell\n",
       "var outputEl = gd.closest('.output');\n",
       "if (outputEl) {{\n",
       "    x.observe(outputEl, {childList: true});\n",
       "}}\n",
       "\n",
       "                        })                };                });            </script>        </div>"
      ]
     },
     "metadata": {},
     "output_type": "display_data"
    }
   ],
   "source": [
    "get_model_para_bar(model)#768 210"
   ]
  },
  {
   "cell_type": "code",
   "execution_count": 35,
   "id": "1940122c",
   "metadata": {},
   "outputs": [
    {
     "data": {
      "application/vnd.plotly.v1+json": {
       "config": {
        "plotlyServerURL": "https://plot.ly"
       },
       "data": [
        {
         "alignmentgroup": "True",
         "hovertemplate": "layer=pos_embed.(1, 512, 768)<br>block=%{x}<br>Log10_ParaM=%{y}<extra></extra>",
         "legendgroup": "pos_embed.(1, 512, 768)",
         "marker": {
          "color": "#636efa",
          "pattern": {
           "shape": ""
          }
         },
         "name": "pos_embed.(1, 512, 768)",
         "offsetgroup": "pos_embed.(1, 512, 768)",
         "orientation": "v",
         "showlegend": true,
         "textposition": "auto",
         "type": "bar",
         "x": [
          "pos_embed"
         ],
         "xaxis": "x",
         "y": [
          393216
         ],
         "yaxis": "y"
        },
        {
         "alignmentgroup": "True",
         "hovertemplate": "layer=reduce_Field_coef.(1,)<br>block=%{x}<br>Log10_ParaM=%{y}<extra></extra>",
         "legendgroup": "reduce_Field_coef.(1,)",
         "marker": {
          "color": "#EF553B",
          "pattern": {
           "shape": ""
          }
         },
         "name": "reduce_Field_coef.(1,)",
         "offsetgroup": "reduce_Field_coef.(1,)",
         "orientation": "v",
         "showlegend": true,
         "textposition": "auto",
         "type": "bar",
         "x": [
          "reduce_Field_coef"
         ],
         "xaxis": "x",
         "y": [
          1
         ],
         "yaxis": "y"
        },
        {
         "alignmentgroup": "True",
         "hovertemplate": "layer=patch_embed.proj.conv_layers.0.weight.(768, 30, 2)<br>block=%{x}<br>Log10_ParaM=%{y}<extra></extra>",
         "legendgroup": "patch_embed.proj.conv_layers.0.weight.(768, 30, 2)",
         "marker": {
          "color": "#00cc96",
          "pattern": {
           "shape": ""
          }
         },
         "name": "patch_embed.proj.conv_layers.0.weight.(768, 30, 2)",
         "offsetgroup": "patch_embed.proj.conv_layers.0.weight.(768, 30, 2)",
         "orientation": "v",
         "showlegend": true,
         "textposition": "auto",
         "type": "bar",
         "x": [
          "patch_embed"
         ],
         "xaxis": "x",
         "y": [
          46080
         ],
         "yaxis": "y"
        },
        {
         "alignmentgroup": "True",
         "hovertemplate": "layer=patch_embed.proj.conv_layers.1.weight.(768, 30, 2)<br>block=%{x}<br>Log10_ParaM=%{y}<extra></extra>",
         "legendgroup": "patch_embed.proj.conv_layers.1.weight.(768, 30, 2)",
         "marker": {
          "color": "#ab63fa",
          "pattern": {
           "shape": ""
          }
         },
         "name": "patch_embed.proj.conv_layers.1.weight.(768, 30, 2)",
         "offsetgroup": "patch_embed.proj.conv_layers.1.weight.(768, 30, 2)",
         "orientation": "v",
         "showlegend": true,
         "textposition": "auto",
         "type": "bar",
         "x": [
          "patch_embed"
         ],
         "xaxis": "x",
         "y": [
          46080
         ],
         "yaxis": "y"
        },
        {
         "alignmentgroup": "True",
         "hovertemplate": "layer=blocks.0.norm1.weight.(768,)<br>block=%{x}<br>Log10_ParaM=%{y}<extra></extra>",
         "legendgroup": "blocks.0.norm1.weight.(768,)",
         "marker": {
          "color": "#FFA15A",
          "pattern": {
           "shape": ""
          }
         },
         "name": "blocks.0.norm1.weight.(768,)",
         "offsetgroup": "blocks.0.norm1.weight.(768,)",
         "orientation": "v",
         "showlegend": true,
         "textposition": "auto",
         "type": "bar",
         "x": [
          "blocks"
         ],
         "xaxis": "x",
         "y": [
          768
         ],
         "yaxis": "y"
        },
        {
         "alignmentgroup": "True",
         "hovertemplate": "layer=blocks.0.norm1.bias.(768,)<br>block=%{x}<br>Log10_ParaM=%{y}<extra></extra>",
         "legendgroup": "blocks.0.norm1.bias.(768,)",
         "marker": {
          "color": "#19d3f3",
          "pattern": {
           "shape": ""
          }
         },
         "name": "blocks.0.norm1.bias.(768,)",
         "offsetgroup": "blocks.0.norm1.bias.(768,)",
         "orientation": "v",
         "showlegend": true,
         "textposition": "auto",
         "type": "bar",
         "x": [
          "blocks"
         ],
         "xaxis": "x",
         "y": [
          768
         ],
         "yaxis": "y"
        },
        {
         "alignmentgroup": "True",
         "hovertemplate": "layer=blocks.0.filter.w1.(2, 4, 192, 192)<br>block=%{x}<br>Log10_ParaM=%{y}<extra></extra>",
         "legendgroup": "blocks.0.filter.w1.(2, 4, 192, 192)",
         "marker": {
          "color": "#FF6692",
          "pattern": {
           "shape": ""
          }
         },
         "name": "blocks.0.filter.w1.(2, 4, 192, 192)",
         "offsetgroup": "blocks.0.filter.w1.(2, 4, 192, 192)",
         "orientation": "v",
         "showlegend": true,
         "textposition": "auto",
         "type": "bar",
         "x": [
          "blocks"
         ],
         "xaxis": "x",
         "y": [
          294912
         ],
         "yaxis": "y"
        },
        {
         "alignmentgroup": "True",
         "hovertemplate": "layer=blocks.0.filter.b1.(2, 4, 192)<br>block=%{x}<br>Log10_ParaM=%{y}<extra></extra>",
         "legendgroup": "blocks.0.filter.b1.(2, 4, 192)",
         "marker": {
          "color": "#B6E880",
          "pattern": {
           "shape": ""
          }
         },
         "name": "blocks.0.filter.b1.(2, 4, 192)",
         "offsetgroup": "blocks.0.filter.b1.(2, 4, 192)",
         "orientation": "v",
         "showlegend": true,
         "textposition": "auto",
         "type": "bar",
         "x": [
          "blocks"
         ],
         "xaxis": "x",
         "y": [
          1536
         ],
         "yaxis": "y"
        },
        {
         "alignmentgroup": "True",
         "hovertemplate": "layer=blocks.0.filter.w2.(2, 4, 192, 192)<br>block=%{x}<br>Log10_ParaM=%{y}<extra></extra>",
         "legendgroup": "blocks.0.filter.w2.(2, 4, 192, 192)",
         "marker": {
          "color": "#FF97FF",
          "pattern": {
           "shape": ""
          }
         },
         "name": "blocks.0.filter.w2.(2, 4, 192, 192)",
         "offsetgroup": "blocks.0.filter.w2.(2, 4, 192, 192)",
         "orientation": "v",
         "showlegend": true,
         "textposition": "auto",
         "type": "bar",
         "x": [
          "blocks"
         ],
         "xaxis": "x",
         "y": [
          294912
         ],
         "yaxis": "y"
        },
        {
         "alignmentgroup": "True",
         "hovertemplate": "layer=blocks.0.filter.b2.(2, 4, 192)<br>block=%{x}<br>Log10_ParaM=%{y}<extra></extra>",
         "legendgroup": "blocks.0.filter.b2.(2, 4, 192)",
         "marker": {
          "color": "#FECB52",
          "pattern": {
           "shape": ""
          }
         },
         "name": "blocks.0.filter.b2.(2, 4, 192)",
         "offsetgroup": "blocks.0.filter.b2.(2, 4, 192)",
         "orientation": "v",
         "showlegend": true,
         "textposition": "auto",
         "type": "bar",
         "x": [
          "blocks"
         ],
         "xaxis": "x",
         "y": [
          1536
         ],
         "yaxis": "y"
        },
        {
         "alignmentgroup": "True",
         "hovertemplate": "layer=blocks.0.norm2.weight.(768,)<br>block=%{x}<br>Log10_ParaM=%{y}<extra></extra>",
         "legendgroup": "blocks.0.norm2.weight.(768,)",
         "marker": {
          "color": "#636efa",
          "pattern": {
           "shape": ""
          }
         },
         "name": "blocks.0.norm2.weight.(768,)",
         "offsetgroup": "blocks.0.norm2.weight.(768,)",
         "orientation": "v",
         "showlegend": true,
         "textposition": "auto",
         "type": "bar",
         "x": [
          "blocks"
         ],
         "xaxis": "x",
         "y": [
          768
         ],
         "yaxis": "y"
        },
        {
         "alignmentgroup": "True",
         "hovertemplate": "layer=blocks.0.norm2.bias.(768,)<br>block=%{x}<br>Log10_ParaM=%{y}<extra></extra>",
         "legendgroup": "blocks.0.norm2.bias.(768,)",
         "marker": {
          "color": "#EF553B",
          "pattern": {
           "shape": ""
          }
         },
         "name": "blocks.0.norm2.bias.(768,)",
         "offsetgroup": "blocks.0.norm2.bias.(768,)",
         "orientation": "v",
         "showlegend": true,
         "textposition": "auto",
         "type": "bar",
         "x": [
          "blocks"
         ],
         "xaxis": "x",
         "y": [
          768
         ],
         "yaxis": "y"
        },
        {
         "alignmentgroup": "True",
         "hovertemplate": "layer=blocks.0.mlp.fc1.weight.(3072, 768)<br>block=%{x}<br>Log10_ParaM=%{y}<extra></extra>",
         "legendgroup": "blocks.0.mlp.fc1.weight.(3072, 768)",
         "marker": {
          "color": "#00cc96",
          "pattern": {
           "shape": ""
          }
         },
         "name": "blocks.0.mlp.fc1.weight.(3072, 768)",
         "offsetgroup": "blocks.0.mlp.fc1.weight.(3072, 768)",
         "orientation": "v",
         "showlegend": true,
         "textposition": "auto",
         "type": "bar",
         "x": [
          "blocks"
         ],
         "xaxis": "x",
         "y": [
          2359296
         ],
         "yaxis": "y"
        },
        {
         "alignmentgroup": "True",
         "hovertemplate": "layer=blocks.0.mlp.fc1.bias.(3072,)<br>block=%{x}<br>Log10_ParaM=%{y}<extra></extra>",
         "legendgroup": "blocks.0.mlp.fc1.bias.(3072,)",
         "marker": {
          "color": "#ab63fa",
          "pattern": {
           "shape": ""
          }
         },
         "name": "blocks.0.mlp.fc1.bias.(3072,)",
         "offsetgroup": "blocks.0.mlp.fc1.bias.(3072,)",
         "orientation": "v",
         "showlegend": true,
         "textposition": "auto",
         "type": "bar",
         "x": [
          "blocks"
         ],
         "xaxis": "x",
         "y": [
          3072
         ],
         "yaxis": "y"
        },
        {
         "alignmentgroup": "True",
         "hovertemplate": "layer=blocks.1.norm1.weight.(768,)<br>block=%{x}<br>Log10_ParaM=%{y}<extra></extra>",
         "legendgroup": "blocks.1.norm1.weight.(768,)",
         "marker": {
          "color": "#FFA15A",
          "pattern": {
           "shape": ""
          }
         },
         "name": "blocks.1.norm1.weight.(768,)",
         "offsetgroup": "blocks.1.norm1.weight.(768,)",
         "orientation": "v",
         "showlegend": true,
         "textposition": "auto",
         "type": "bar",
         "x": [
          "blocks"
         ],
         "xaxis": "x",
         "y": [
          768
         ],
         "yaxis": "y"
        },
        {
         "alignmentgroup": "True",
         "hovertemplate": "layer=blocks.1.norm1.bias.(768,)<br>block=%{x}<br>Log10_ParaM=%{y}<extra></extra>",
         "legendgroup": "blocks.1.norm1.bias.(768,)",
         "marker": {
          "color": "#19d3f3",
          "pattern": {
           "shape": ""
          }
         },
         "name": "blocks.1.norm1.bias.(768,)",
         "offsetgroup": "blocks.1.norm1.bias.(768,)",
         "orientation": "v",
         "showlegend": true,
         "textposition": "auto",
         "type": "bar",
         "x": [
          "blocks"
         ],
         "xaxis": "x",
         "y": [
          768
         ],
         "yaxis": "y"
        },
        {
         "alignmentgroup": "True",
         "hovertemplate": "layer=blocks.1.filter.w1.(2, 4, 192, 192)<br>block=%{x}<br>Log10_ParaM=%{y}<extra></extra>",
         "legendgroup": "blocks.1.filter.w1.(2, 4, 192, 192)",
         "marker": {
          "color": "#FF6692",
          "pattern": {
           "shape": ""
          }
         },
         "name": "blocks.1.filter.w1.(2, 4, 192, 192)",
         "offsetgroup": "blocks.1.filter.w1.(2, 4, 192, 192)",
         "orientation": "v",
         "showlegend": true,
         "textposition": "auto",
         "type": "bar",
         "x": [
          "blocks"
         ],
         "xaxis": "x",
         "y": [
          294912
         ],
         "yaxis": "y"
        },
        {
         "alignmentgroup": "True",
         "hovertemplate": "layer=blocks.1.filter.b1.(2, 4, 192)<br>block=%{x}<br>Log10_ParaM=%{y}<extra></extra>",
         "legendgroup": "blocks.1.filter.b1.(2, 4, 192)",
         "marker": {
          "color": "#B6E880",
          "pattern": {
           "shape": ""
          }
         },
         "name": "blocks.1.filter.b1.(2, 4, 192)",
         "offsetgroup": "blocks.1.filter.b1.(2, 4, 192)",
         "orientation": "v",
         "showlegend": true,
         "textposition": "auto",
         "type": "bar",
         "x": [
          "blocks"
         ],
         "xaxis": "x",
         "y": [
          1536
         ],
         "yaxis": "y"
        },
        {
         "alignmentgroup": "True",
         "hovertemplate": "layer=blocks.1.filter.w2.(2, 4, 192, 192)<br>block=%{x}<br>Log10_ParaM=%{y}<extra></extra>",
         "legendgroup": "blocks.1.filter.w2.(2, 4, 192, 192)",
         "marker": {
          "color": "#FF97FF",
          "pattern": {
           "shape": ""
          }
         },
         "name": "blocks.1.filter.w2.(2, 4, 192, 192)",
         "offsetgroup": "blocks.1.filter.w2.(2, 4, 192, 192)",
         "orientation": "v",
         "showlegend": true,
         "textposition": "auto",
         "type": "bar",
         "x": [
          "blocks"
         ],
         "xaxis": "x",
         "y": [
          294912
         ],
         "yaxis": "y"
        },
        {
         "alignmentgroup": "True",
         "hovertemplate": "layer=blocks.1.filter.b2.(2, 4, 192)<br>block=%{x}<br>Log10_ParaM=%{y}<extra></extra>",
         "legendgroup": "blocks.1.filter.b2.(2, 4, 192)",
         "marker": {
          "color": "#FECB52",
          "pattern": {
           "shape": ""
          }
         },
         "name": "blocks.1.filter.b2.(2, 4, 192)",
         "offsetgroup": "blocks.1.filter.b2.(2, 4, 192)",
         "orientation": "v",
         "showlegend": true,
         "textposition": "auto",
         "type": "bar",
         "x": [
          "blocks"
         ],
         "xaxis": "x",
         "y": [
          1536
         ],
         "yaxis": "y"
        },
        {
         "alignmentgroup": "True",
         "hovertemplate": "layer=blocks.1.norm2.weight.(768,)<br>block=%{x}<br>Log10_ParaM=%{y}<extra></extra>",
         "legendgroup": "blocks.1.norm2.weight.(768,)",
         "marker": {
          "color": "#636efa",
          "pattern": {
           "shape": ""
          }
         },
         "name": "blocks.1.norm2.weight.(768,)",
         "offsetgroup": "blocks.1.norm2.weight.(768,)",
         "orientation": "v",
         "showlegend": true,
         "textposition": "auto",
         "type": "bar",
         "x": [
          "blocks"
         ],
         "xaxis": "x",
         "y": [
          768
         ],
         "yaxis": "y"
        },
        {
         "alignmentgroup": "True",
         "hovertemplate": "layer=blocks.1.norm2.bias.(768,)<br>block=%{x}<br>Log10_ParaM=%{y}<extra></extra>",
         "legendgroup": "blocks.1.norm2.bias.(768,)",
         "marker": {
          "color": "#EF553B",
          "pattern": {
           "shape": ""
          }
         },
         "name": "blocks.1.norm2.bias.(768,)",
         "offsetgroup": "blocks.1.norm2.bias.(768,)",
         "orientation": "v",
         "showlegend": true,
         "textposition": "auto",
         "type": "bar",
         "x": [
          "blocks"
         ],
         "xaxis": "x",
         "y": [
          768
         ],
         "yaxis": "y"
        },
        {
         "alignmentgroup": "True",
         "hovertemplate": "layer=blocks.1.mlp.fc1.weight.(3072, 768)<br>block=%{x}<br>Log10_ParaM=%{y}<extra></extra>",
         "legendgroup": "blocks.1.mlp.fc1.weight.(3072, 768)",
         "marker": {
          "color": "#00cc96",
          "pattern": {
           "shape": ""
          }
         },
         "name": "blocks.1.mlp.fc1.weight.(3072, 768)",
         "offsetgroup": "blocks.1.mlp.fc1.weight.(3072, 768)",
         "orientation": "v",
         "showlegend": true,
         "textposition": "auto",
         "type": "bar",
         "x": [
          "blocks"
         ],
         "xaxis": "x",
         "y": [
          2359296
         ],
         "yaxis": "y"
        },
        {
         "alignmentgroup": "True",
         "hovertemplate": "layer=blocks.1.mlp.fc1.bias.(3072,)<br>block=%{x}<br>Log10_ParaM=%{y}<extra></extra>",
         "legendgroup": "blocks.1.mlp.fc1.bias.(3072,)",
         "marker": {
          "color": "#ab63fa",
          "pattern": {
           "shape": ""
          }
         },
         "name": "blocks.1.mlp.fc1.bias.(3072,)",
         "offsetgroup": "blocks.1.mlp.fc1.bias.(3072,)",
         "orientation": "v",
         "showlegend": true,
         "textposition": "auto",
         "type": "bar",
         "x": [
          "blocks"
         ],
         "xaxis": "x",
         "y": [
          3072
         ],
         "yaxis": "y"
        },
        {
         "alignmentgroup": "True",
         "hovertemplate": "layer=blocks.2.norm1.weight.(768,)<br>block=%{x}<br>Log10_ParaM=%{y}<extra></extra>",
         "legendgroup": "blocks.2.norm1.weight.(768,)",
         "marker": {
          "color": "#FFA15A",
          "pattern": {
           "shape": ""
          }
         },
         "name": "blocks.2.norm1.weight.(768,)",
         "offsetgroup": "blocks.2.norm1.weight.(768,)",
         "orientation": "v",
         "showlegend": true,
         "textposition": "auto",
         "type": "bar",
         "x": [
          "blocks"
         ],
         "xaxis": "x",
         "y": [
          768
         ],
         "yaxis": "y"
        },
        {
         "alignmentgroup": "True",
         "hovertemplate": "layer=blocks.2.norm1.bias.(768,)<br>block=%{x}<br>Log10_ParaM=%{y}<extra></extra>",
         "legendgroup": "blocks.2.norm1.bias.(768,)",
         "marker": {
          "color": "#19d3f3",
          "pattern": {
           "shape": ""
          }
         },
         "name": "blocks.2.norm1.bias.(768,)",
         "offsetgroup": "blocks.2.norm1.bias.(768,)",
         "orientation": "v",
         "showlegend": true,
         "textposition": "auto",
         "type": "bar",
         "x": [
          "blocks"
         ],
         "xaxis": "x",
         "y": [
          768
         ],
         "yaxis": "y"
        },
        {
         "alignmentgroup": "True",
         "hovertemplate": "layer=blocks.2.filter.w1.(2, 4, 192, 192)<br>block=%{x}<br>Log10_ParaM=%{y}<extra></extra>",
         "legendgroup": "blocks.2.filter.w1.(2, 4, 192, 192)",
         "marker": {
          "color": "#FF6692",
          "pattern": {
           "shape": ""
          }
         },
         "name": "blocks.2.filter.w1.(2, 4, 192, 192)",
         "offsetgroup": "blocks.2.filter.w1.(2, 4, 192, 192)",
         "orientation": "v",
         "showlegend": true,
         "textposition": "auto",
         "type": "bar",
         "x": [
          "blocks"
         ],
         "xaxis": "x",
         "y": [
          294912
         ],
         "yaxis": "y"
        },
        {
         "alignmentgroup": "True",
         "hovertemplate": "layer=blocks.2.filter.b1.(2, 4, 192)<br>block=%{x}<br>Log10_ParaM=%{y}<extra></extra>",
         "legendgroup": "blocks.2.filter.b1.(2, 4, 192)",
         "marker": {
          "color": "#B6E880",
          "pattern": {
           "shape": ""
          }
         },
         "name": "blocks.2.filter.b1.(2, 4, 192)",
         "offsetgroup": "blocks.2.filter.b1.(2, 4, 192)",
         "orientation": "v",
         "showlegend": true,
         "textposition": "auto",
         "type": "bar",
         "x": [
          "blocks"
         ],
         "xaxis": "x",
         "y": [
          1536
         ],
         "yaxis": "y"
        },
        {
         "alignmentgroup": "True",
         "hovertemplate": "layer=blocks.2.filter.w2.(2, 4, 192, 192)<br>block=%{x}<br>Log10_ParaM=%{y}<extra></extra>",
         "legendgroup": "blocks.2.filter.w2.(2, 4, 192, 192)",
         "marker": {
          "color": "#FF97FF",
          "pattern": {
           "shape": ""
          }
         },
         "name": "blocks.2.filter.w2.(2, 4, 192, 192)",
         "offsetgroup": "blocks.2.filter.w2.(2, 4, 192, 192)",
         "orientation": "v",
         "showlegend": true,
         "textposition": "auto",
         "type": "bar",
         "x": [
          "blocks"
         ],
         "xaxis": "x",
         "y": [
          294912
         ],
         "yaxis": "y"
        },
        {
         "alignmentgroup": "True",
         "hovertemplate": "layer=blocks.2.filter.b2.(2, 4, 192)<br>block=%{x}<br>Log10_ParaM=%{y}<extra></extra>",
         "legendgroup": "blocks.2.filter.b2.(2, 4, 192)",
         "marker": {
          "color": "#FECB52",
          "pattern": {
           "shape": ""
          }
         },
         "name": "blocks.2.filter.b2.(2, 4, 192)",
         "offsetgroup": "blocks.2.filter.b2.(2, 4, 192)",
         "orientation": "v",
         "showlegend": true,
         "textposition": "auto",
         "type": "bar",
         "x": [
          "blocks"
         ],
         "xaxis": "x",
         "y": [
          1536
         ],
         "yaxis": "y"
        },
        {
         "alignmentgroup": "True",
         "hovertemplate": "layer=blocks.2.norm2.weight.(768,)<br>block=%{x}<br>Log10_ParaM=%{y}<extra></extra>",
         "legendgroup": "blocks.2.norm2.weight.(768,)",
         "marker": {
          "color": "#636efa",
          "pattern": {
           "shape": ""
          }
         },
         "name": "blocks.2.norm2.weight.(768,)",
         "offsetgroup": "blocks.2.norm2.weight.(768,)",
         "orientation": "v",
         "showlegend": true,
         "textposition": "auto",
         "type": "bar",
         "x": [
          "blocks"
         ],
         "xaxis": "x",
         "y": [
          768
         ],
         "yaxis": "y"
        },
        {
         "alignmentgroup": "True",
         "hovertemplate": "layer=blocks.2.norm2.bias.(768,)<br>block=%{x}<br>Log10_ParaM=%{y}<extra></extra>",
         "legendgroup": "blocks.2.norm2.bias.(768,)",
         "marker": {
          "color": "#EF553B",
          "pattern": {
           "shape": ""
          }
         },
         "name": "blocks.2.norm2.bias.(768,)",
         "offsetgroup": "blocks.2.norm2.bias.(768,)",
         "orientation": "v",
         "showlegend": true,
         "textposition": "auto",
         "type": "bar",
         "x": [
          "blocks"
         ],
         "xaxis": "x",
         "y": [
          768
         ],
         "yaxis": "y"
        },
        {
         "alignmentgroup": "True",
         "hovertemplate": "layer=blocks.2.mlp.fc1.weight.(3072, 768)<br>block=%{x}<br>Log10_ParaM=%{y}<extra></extra>",
         "legendgroup": "blocks.2.mlp.fc1.weight.(3072, 768)",
         "marker": {
          "color": "#00cc96",
          "pattern": {
           "shape": ""
          }
         },
         "name": "blocks.2.mlp.fc1.weight.(3072, 768)",
         "offsetgroup": "blocks.2.mlp.fc1.weight.(3072, 768)",
         "orientation": "v",
         "showlegend": true,
         "textposition": "auto",
         "type": "bar",
         "x": [
          "blocks"
         ],
         "xaxis": "x",
         "y": [
          2359296
         ],
         "yaxis": "y"
        },
        {
         "alignmentgroup": "True",
         "hovertemplate": "layer=blocks.2.mlp.fc1.bias.(3072,)<br>block=%{x}<br>Log10_ParaM=%{y}<extra></extra>",
         "legendgroup": "blocks.2.mlp.fc1.bias.(3072,)",
         "marker": {
          "color": "#ab63fa",
          "pattern": {
           "shape": ""
          }
         },
         "name": "blocks.2.mlp.fc1.bias.(3072,)",
         "offsetgroup": "blocks.2.mlp.fc1.bias.(3072,)",
         "orientation": "v",
         "showlegend": true,
         "textposition": "auto",
         "type": "bar",
         "x": [
          "blocks"
         ],
         "xaxis": "x",
         "y": [
          3072
         ],
         "yaxis": "y"
        },
        {
         "alignmentgroup": "True",
         "hovertemplate": "layer=blocks.3.norm1.weight.(768,)<br>block=%{x}<br>Log10_ParaM=%{y}<extra></extra>",
         "legendgroup": "blocks.3.norm1.weight.(768,)",
         "marker": {
          "color": "#FFA15A",
          "pattern": {
           "shape": ""
          }
         },
         "name": "blocks.3.norm1.weight.(768,)",
         "offsetgroup": "blocks.3.norm1.weight.(768,)",
         "orientation": "v",
         "showlegend": true,
         "textposition": "auto",
         "type": "bar",
         "x": [
          "blocks"
         ],
         "xaxis": "x",
         "y": [
          768
         ],
         "yaxis": "y"
        },
        {
         "alignmentgroup": "True",
         "hovertemplate": "layer=blocks.3.norm1.bias.(768,)<br>block=%{x}<br>Log10_ParaM=%{y}<extra></extra>",
         "legendgroup": "blocks.3.norm1.bias.(768,)",
         "marker": {
          "color": "#19d3f3",
          "pattern": {
           "shape": ""
          }
         },
         "name": "blocks.3.norm1.bias.(768,)",
         "offsetgroup": "blocks.3.norm1.bias.(768,)",
         "orientation": "v",
         "showlegend": true,
         "textposition": "auto",
         "type": "bar",
         "x": [
          "blocks"
         ],
         "xaxis": "x",
         "y": [
          768
         ],
         "yaxis": "y"
        },
        {
         "alignmentgroup": "True",
         "hovertemplate": "layer=blocks.3.filter.w1.(2, 4, 192, 192)<br>block=%{x}<br>Log10_ParaM=%{y}<extra></extra>",
         "legendgroup": "blocks.3.filter.w1.(2, 4, 192, 192)",
         "marker": {
          "color": "#FF6692",
          "pattern": {
           "shape": ""
          }
         },
         "name": "blocks.3.filter.w1.(2, 4, 192, 192)",
         "offsetgroup": "blocks.3.filter.w1.(2, 4, 192, 192)",
         "orientation": "v",
         "showlegend": true,
         "textposition": "auto",
         "type": "bar",
         "x": [
          "blocks"
         ],
         "xaxis": "x",
         "y": [
          294912
         ],
         "yaxis": "y"
        },
        {
         "alignmentgroup": "True",
         "hovertemplate": "layer=blocks.3.filter.b1.(2, 4, 192)<br>block=%{x}<br>Log10_ParaM=%{y}<extra></extra>",
         "legendgroup": "blocks.3.filter.b1.(2, 4, 192)",
         "marker": {
          "color": "#B6E880",
          "pattern": {
           "shape": ""
          }
         },
         "name": "blocks.3.filter.b1.(2, 4, 192)",
         "offsetgroup": "blocks.3.filter.b1.(2, 4, 192)",
         "orientation": "v",
         "showlegend": true,
         "textposition": "auto",
         "type": "bar",
         "x": [
          "blocks"
         ],
         "xaxis": "x",
         "y": [
          1536
         ],
         "yaxis": "y"
        },
        {
         "alignmentgroup": "True",
         "hovertemplate": "layer=blocks.3.filter.w2.(2, 4, 192, 192)<br>block=%{x}<br>Log10_ParaM=%{y}<extra></extra>",
         "legendgroup": "blocks.3.filter.w2.(2, 4, 192, 192)",
         "marker": {
          "color": "#FF97FF",
          "pattern": {
           "shape": ""
          }
         },
         "name": "blocks.3.filter.w2.(2, 4, 192, 192)",
         "offsetgroup": "blocks.3.filter.w2.(2, 4, 192, 192)",
         "orientation": "v",
         "showlegend": true,
         "textposition": "auto",
         "type": "bar",
         "x": [
          "blocks"
         ],
         "xaxis": "x",
         "y": [
          294912
         ],
         "yaxis": "y"
        },
        {
         "alignmentgroup": "True",
         "hovertemplate": "layer=blocks.3.filter.b2.(2, 4, 192)<br>block=%{x}<br>Log10_ParaM=%{y}<extra></extra>",
         "legendgroup": "blocks.3.filter.b2.(2, 4, 192)",
         "marker": {
          "color": "#FECB52",
          "pattern": {
           "shape": ""
          }
         },
         "name": "blocks.3.filter.b2.(2, 4, 192)",
         "offsetgroup": "blocks.3.filter.b2.(2, 4, 192)",
         "orientation": "v",
         "showlegend": true,
         "textposition": "auto",
         "type": "bar",
         "x": [
          "blocks"
         ],
         "xaxis": "x",
         "y": [
          1536
         ],
         "yaxis": "y"
        },
        {
         "alignmentgroup": "True",
         "hovertemplate": "layer=blocks.3.norm2.weight.(768,)<br>block=%{x}<br>Log10_ParaM=%{y}<extra></extra>",
         "legendgroup": "blocks.3.norm2.weight.(768,)",
         "marker": {
          "color": "#636efa",
          "pattern": {
           "shape": ""
          }
         },
         "name": "blocks.3.norm2.weight.(768,)",
         "offsetgroup": "blocks.3.norm2.weight.(768,)",
         "orientation": "v",
         "showlegend": true,
         "textposition": "auto",
         "type": "bar",
         "x": [
          "blocks"
         ],
         "xaxis": "x",
         "y": [
          768
         ],
         "yaxis": "y"
        },
        {
         "alignmentgroup": "True",
         "hovertemplate": "layer=blocks.3.norm2.bias.(768,)<br>block=%{x}<br>Log10_ParaM=%{y}<extra></extra>",
         "legendgroup": "blocks.3.norm2.bias.(768,)",
         "marker": {
          "color": "#EF553B",
          "pattern": {
           "shape": ""
          }
         },
         "name": "blocks.3.norm2.bias.(768,)",
         "offsetgroup": "blocks.3.norm2.bias.(768,)",
         "orientation": "v",
         "showlegend": true,
         "textposition": "auto",
         "type": "bar",
         "x": [
          "blocks"
         ],
         "xaxis": "x",
         "y": [
          768
         ],
         "yaxis": "y"
        },
        {
         "alignmentgroup": "True",
         "hovertemplate": "layer=blocks.3.mlp.fc1.weight.(3072, 768)<br>block=%{x}<br>Log10_ParaM=%{y}<extra></extra>",
         "legendgroup": "blocks.3.mlp.fc1.weight.(3072, 768)",
         "marker": {
          "color": "#00cc96",
          "pattern": {
           "shape": ""
          }
         },
         "name": "blocks.3.mlp.fc1.weight.(3072, 768)",
         "offsetgroup": "blocks.3.mlp.fc1.weight.(3072, 768)",
         "orientation": "v",
         "showlegend": true,
         "textposition": "auto",
         "type": "bar",
         "x": [
          "blocks"
         ],
         "xaxis": "x",
         "y": [
          2359296
         ],
         "yaxis": "y"
        },
        {
         "alignmentgroup": "True",
         "hovertemplate": "layer=blocks.3.mlp.fc1.bias.(3072,)<br>block=%{x}<br>Log10_ParaM=%{y}<extra></extra>",
         "legendgroup": "blocks.3.mlp.fc1.bias.(3072,)",
         "marker": {
          "color": "#ab63fa",
          "pattern": {
           "shape": ""
          }
         },
         "name": "blocks.3.mlp.fc1.bias.(3072,)",
         "offsetgroup": "blocks.3.mlp.fc1.bias.(3072,)",
         "orientation": "v",
         "showlegend": true,
         "textposition": "auto",
         "type": "bar",
         "x": [
          "blocks"
         ],
         "xaxis": "x",
         "y": [
          3072
         ],
         "yaxis": "y"
        },
        {
         "alignmentgroup": "True",
         "hovertemplate": "layer=blocks.4.norm1.weight.(768,)<br>block=%{x}<br>Log10_ParaM=%{y}<extra></extra>",
         "legendgroup": "blocks.4.norm1.weight.(768,)",
         "marker": {
          "color": "#FFA15A",
          "pattern": {
           "shape": ""
          }
         },
         "name": "blocks.4.norm1.weight.(768,)",
         "offsetgroup": "blocks.4.norm1.weight.(768,)",
         "orientation": "v",
         "showlegend": true,
         "textposition": "auto",
         "type": "bar",
         "x": [
          "blocks"
         ],
         "xaxis": "x",
         "y": [
          768
         ],
         "yaxis": "y"
        },
        {
         "alignmentgroup": "True",
         "hovertemplate": "layer=blocks.4.norm1.bias.(768,)<br>block=%{x}<br>Log10_ParaM=%{y}<extra></extra>",
         "legendgroup": "blocks.4.norm1.bias.(768,)",
         "marker": {
          "color": "#19d3f3",
          "pattern": {
           "shape": ""
          }
         },
         "name": "blocks.4.norm1.bias.(768,)",
         "offsetgroup": "blocks.4.norm1.bias.(768,)",
         "orientation": "v",
         "showlegend": true,
         "textposition": "auto",
         "type": "bar",
         "x": [
          "blocks"
         ],
         "xaxis": "x",
         "y": [
          768
         ],
         "yaxis": "y"
        },
        {
         "alignmentgroup": "True",
         "hovertemplate": "layer=blocks.4.filter.w1.(2, 4, 192, 192)<br>block=%{x}<br>Log10_ParaM=%{y}<extra></extra>",
         "legendgroup": "blocks.4.filter.w1.(2, 4, 192, 192)",
         "marker": {
          "color": "#FF6692",
          "pattern": {
           "shape": ""
          }
         },
         "name": "blocks.4.filter.w1.(2, 4, 192, 192)",
         "offsetgroup": "blocks.4.filter.w1.(2, 4, 192, 192)",
         "orientation": "v",
         "showlegend": true,
         "textposition": "auto",
         "type": "bar",
         "x": [
          "blocks"
         ],
         "xaxis": "x",
         "y": [
          294912
         ],
         "yaxis": "y"
        },
        {
         "alignmentgroup": "True",
         "hovertemplate": "layer=blocks.4.filter.b1.(2, 4, 192)<br>block=%{x}<br>Log10_ParaM=%{y}<extra></extra>",
         "legendgroup": "blocks.4.filter.b1.(2, 4, 192)",
         "marker": {
          "color": "#B6E880",
          "pattern": {
           "shape": ""
          }
         },
         "name": "blocks.4.filter.b1.(2, 4, 192)",
         "offsetgroup": "blocks.4.filter.b1.(2, 4, 192)",
         "orientation": "v",
         "showlegend": true,
         "textposition": "auto",
         "type": "bar",
         "x": [
          "blocks"
         ],
         "xaxis": "x",
         "y": [
          1536
         ],
         "yaxis": "y"
        },
        {
         "alignmentgroup": "True",
         "hovertemplate": "layer=blocks.4.filter.w2.(2, 4, 192, 192)<br>block=%{x}<br>Log10_ParaM=%{y}<extra></extra>",
         "legendgroup": "blocks.4.filter.w2.(2, 4, 192, 192)",
         "marker": {
          "color": "#FF97FF",
          "pattern": {
           "shape": ""
          }
         },
         "name": "blocks.4.filter.w2.(2, 4, 192, 192)",
         "offsetgroup": "blocks.4.filter.w2.(2, 4, 192, 192)",
         "orientation": "v",
         "showlegend": true,
         "textposition": "auto",
         "type": "bar",
         "x": [
          "blocks"
         ],
         "xaxis": "x",
         "y": [
          294912
         ],
         "yaxis": "y"
        },
        {
         "alignmentgroup": "True",
         "hovertemplate": "layer=blocks.4.filter.b2.(2, 4, 192)<br>block=%{x}<br>Log10_ParaM=%{y}<extra></extra>",
         "legendgroup": "blocks.4.filter.b2.(2, 4, 192)",
         "marker": {
          "color": "#FECB52",
          "pattern": {
           "shape": ""
          }
         },
         "name": "blocks.4.filter.b2.(2, 4, 192)",
         "offsetgroup": "blocks.4.filter.b2.(2, 4, 192)",
         "orientation": "v",
         "showlegend": true,
         "textposition": "auto",
         "type": "bar",
         "x": [
          "blocks"
         ],
         "xaxis": "x",
         "y": [
          1536
         ],
         "yaxis": "y"
        },
        {
         "alignmentgroup": "True",
         "hovertemplate": "layer=blocks.4.norm2.weight.(768,)<br>block=%{x}<br>Log10_ParaM=%{y}<extra></extra>",
         "legendgroup": "blocks.4.norm2.weight.(768,)",
         "marker": {
          "color": "#636efa",
          "pattern": {
           "shape": ""
          }
         },
         "name": "blocks.4.norm2.weight.(768,)",
         "offsetgroup": "blocks.4.norm2.weight.(768,)",
         "orientation": "v",
         "showlegend": true,
         "textposition": "auto",
         "type": "bar",
         "x": [
          "blocks"
         ],
         "xaxis": "x",
         "y": [
          768
         ],
         "yaxis": "y"
        },
        {
         "alignmentgroup": "True",
         "hovertemplate": "layer=blocks.4.norm2.bias.(768,)<br>block=%{x}<br>Log10_ParaM=%{y}<extra></extra>",
         "legendgroup": "blocks.4.norm2.bias.(768,)",
         "marker": {
          "color": "#EF553B",
          "pattern": {
           "shape": ""
          }
         },
         "name": "blocks.4.norm2.bias.(768,)",
         "offsetgroup": "blocks.4.norm2.bias.(768,)",
         "orientation": "v",
         "showlegend": true,
         "textposition": "auto",
         "type": "bar",
         "x": [
          "blocks"
         ],
         "xaxis": "x",
         "y": [
          768
         ],
         "yaxis": "y"
        },
        {
         "alignmentgroup": "True",
         "hovertemplate": "layer=blocks.4.mlp.fc1.weight.(3072, 768)<br>block=%{x}<br>Log10_ParaM=%{y}<extra></extra>",
         "legendgroup": "blocks.4.mlp.fc1.weight.(3072, 768)",
         "marker": {
          "color": "#00cc96",
          "pattern": {
           "shape": ""
          }
         },
         "name": "blocks.4.mlp.fc1.weight.(3072, 768)",
         "offsetgroup": "blocks.4.mlp.fc1.weight.(3072, 768)",
         "orientation": "v",
         "showlegend": true,
         "textposition": "auto",
         "type": "bar",
         "x": [
          "blocks"
         ],
         "xaxis": "x",
         "y": [
          2359296
         ],
         "yaxis": "y"
        },
        {
         "alignmentgroup": "True",
         "hovertemplate": "layer=blocks.4.mlp.fc1.bias.(3072,)<br>block=%{x}<br>Log10_ParaM=%{y}<extra></extra>",
         "legendgroup": "blocks.4.mlp.fc1.bias.(3072,)",
         "marker": {
          "color": "#ab63fa",
          "pattern": {
           "shape": ""
          }
         },
         "name": "blocks.4.mlp.fc1.bias.(3072,)",
         "offsetgroup": "blocks.4.mlp.fc1.bias.(3072,)",
         "orientation": "v",
         "showlegend": true,
         "textposition": "auto",
         "type": "bar",
         "x": [
          "blocks"
         ],
         "xaxis": "x",
         "y": [
          3072
         ],
         "yaxis": "y"
        },
        {
         "alignmentgroup": "True",
         "hovertemplate": "layer=blocks.5.norm1.weight.(768,)<br>block=%{x}<br>Log10_ParaM=%{y}<extra></extra>",
         "legendgroup": "blocks.5.norm1.weight.(768,)",
         "marker": {
          "color": "#FFA15A",
          "pattern": {
           "shape": ""
          }
         },
         "name": "blocks.5.norm1.weight.(768,)",
         "offsetgroup": "blocks.5.norm1.weight.(768,)",
         "orientation": "v",
         "showlegend": true,
         "textposition": "auto",
         "type": "bar",
         "x": [
          "blocks"
         ],
         "xaxis": "x",
         "y": [
          768
         ],
         "yaxis": "y"
        },
        {
         "alignmentgroup": "True",
         "hovertemplate": "layer=blocks.5.norm1.bias.(768,)<br>block=%{x}<br>Log10_ParaM=%{y}<extra></extra>",
         "legendgroup": "blocks.5.norm1.bias.(768,)",
         "marker": {
          "color": "#19d3f3",
          "pattern": {
           "shape": ""
          }
         },
         "name": "blocks.5.norm1.bias.(768,)",
         "offsetgroup": "blocks.5.norm1.bias.(768,)",
         "orientation": "v",
         "showlegend": true,
         "textposition": "auto",
         "type": "bar",
         "x": [
          "blocks"
         ],
         "xaxis": "x",
         "y": [
          768
         ],
         "yaxis": "y"
        },
        {
         "alignmentgroup": "True",
         "hovertemplate": "layer=blocks.5.filter.w1.(2, 4, 192, 192)<br>block=%{x}<br>Log10_ParaM=%{y}<extra></extra>",
         "legendgroup": "blocks.5.filter.w1.(2, 4, 192, 192)",
         "marker": {
          "color": "#FF6692",
          "pattern": {
           "shape": ""
          }
         },
         "name": "blocks.5.filter.w1.(2, 4, 192, 192)",
         "offsetgroup": "blocks.5.filter.w1.(2, 4, 192, 192)",
         "orientation": "v",
         "showlegend": true,
         "textposition": "auto",
         "type": "bar",
         "x": [
          "blocks"
         ],
         "xaxis": "x",
         "y": [
          294912
         ],
         "yaxis": "y"
        },
        {
         "alignmentgroup": "True",
         "hovertemplate": "layer=blocks.5.filter.b1.(2, 4, 192)<br>block=%{x}<br>Log10_ParaM=%{y}<extra></extra>",
         "legendgroup": "blocks.5.filter.b1.(2, 4, 192)",
         "marker": {
          "color": "#B6E880",
          "pattern": {
           "shape": ""
          }
         },
         "name": "blocks.5.filter.b1.(2, 4, 192)",
         "offsetgroup": "blocks.5.filter.b1.(2, 4, 192)",
         "orientation": "v",
         "showlegend": true,
         "textposition": "auto",
         "type": "bar",
         "x": [
          "blocks"
         ],
         "xaxis": "x",
         "y": [
          1536
         ],
         "yaxis": "y"
        },
        {
         "alignmentgroup": "True",
         "hovertemplate": "layer=blocks.5.filter.w2.(2, 4, 192, 192)<br>block=%{x}<br>Log10_ParaM=%{y}<extra></extra>",
         "legendgroup": "blocks.5.filter.w2.(2, 4, 192, 192)",
         "marker": {
          "color": "#FF97FF",
          "pattern": {
           "shape": ""
          }
         },
         "name": "blocks.5.filter.w2.(2, 4, 192, 192)",
         "offsetgroup": "blocks.5.filter.w2.(2, 4, 192, 192)",
         "orientation": "v",
         "showlegend": true,
         "textposition": "auto",
         "type": "bar",
         "x": [
          "blocks"
         ],
         "xaxis": "x",
         "y": [
          294912
         ],
         "yaxis": "y"
        },
        {
         "alignmentgroup": "True",
         "hovertemplate": "layer=blocks.5.filter.b2.(2, 4, 192)<br>block=%{x}<br>Log10_ParaM=%{y}<extra></extra>",
         "legendgroup": "blocks.5.filter.b2.(2, 4, 192)",
         "marker": {
          "color": "#FECB52",
          "pattern": {
           "shape": ""
          }
         },
         "name": "blocks.5.filter.b2.(2, 4, 192)",
         "offsetgroup": "blocks.5.filter.b2.(2, 4, 192)",
         "orientation": "v",
         "showlegend": true,
         "textposition": "auto",
         "type": "bar",
         "x": [
          "blocks"
         ],
         "xaxis": "x",
         "y": [
          1536
         ],
         "yaxis": "y"
        },
        {
         "alignmentgroup": "True",
         "hovertemplate": "layer=blocks.5.norm2.weight.(768,)<br>block=%{x}<br>Log10_ParaM=%{y}<extra></extra>",
         "legendgroup": "blocks.5.norm2.weight.(768,)",
         "marker": {
          "color": "#636efa",
          "pattern": {
           "shape": ""
          }
         },
         "name": "blocks.5.norm2.weight.(768,)",
         "offsetgroup": "blocks.5.norm2.weight.(768,)",
         "orientation": "v",
         "showlegend": true,
         "textposition": "auto",
         "type": "bar",
         "x": [
          "blocks"
         ],
         "xaxis": "x",
         "y": [
          768
         ],
         "yaxis": "y"
        },
        {
         "alignmentgroup": "True",
         "hovertemplate": "layer=blocks.5.norm2.bias.(768,)<br>block=%{x}<br>Log10_ParaM=%{y}<extra></extra>",
         "legendgroup": "blocks.5.norm2.bias.(768,)",
         "marker": {
          "color": "#EF553B",
          "pattern": {
           "shape": ""
          }
         },
         "name": "blocks.5.norm2.bias.(768,)",
         "offsetgroup": "blocks.5.norm2.bias.(768,)",
         "orientation": "v",
         "showlegend": true,
         "textposition": "auto",
         "type": "bar",
         "x": [
          "blocks"
         ],
         "xaxis": "x",
         "y": [
          768
         ],
         "yaxis": "y"
        },
        {
         "alignmentgroup": "True",
         "hovertemplate": "layer=blocks.5.mlp.fc1.weight.(3072, 768)<br>block=%{x}<br>Log10_ParaM=%{y}<extra></extra>",
         "legendgroup": "blocks.5.mlp.fc1.weight.(3072, 768)",
         "marker": {
          "color": "#00cc96",
          "pattern": {
           "shape": ""
          }
         },
         "name": "blocks.5.mlp.fc1.weight.(3072, 768)",
         "offsetgroup": "blocks.5.mlp.fc1.weight.(3072, 768)",
         "orientation": "v",
         "showlegend": true,
         "textposition": "auto",
         "type": "bar",
         "x": [
          "blocks"
         ],
         "xaxis": "x",
         "y": [
          2359296
         ],
         "yaxis": "y"
        },
        {
         "alignmentgroup": "True",
         "hovertemplate": "layer=blocks.5.mlp.fc1.bias.(3072,)<br>block=%{x}<br>Log10_ParaM=%{y}<extra></extra>",
         "legendgroup": "blocks.5.mlp.fc1.bias.(3072,)",
         "marker": {
          "color": "#ab63fa",
          "pattern": {
           "shape": ""
          }
         },
         "name": "blocks.5.mlp.fc1.bias.(3072,)",
         "offsetgroup": "blocks.5.mlp.fc1.bias.(3072,)",
         "orientation": "v",
         "showlegend": true,
         "textposition": "auto",
         "type": "bar",
         "x": [
          "blocks"
         ],
         "xaxis": "x",
         "y": [
          3072
         ],
         "yaxis": "y"
        },
        {
         "alignmentgroup": "True",
         "hovertemplate": "layer=blocks.6.norm1.weight.(768,)<br>block=%{x}<br>Log10_ParaM=%{y}<extra></extra>",
         "legendgroup": "blocks.6.norm1.weight.(768,)",
         "marker": {
          "color": "#FFA15A",
          "pattern": {
           "shape": ""
          }
         },
         "name": "blocks.6.norm1.weight.(768,)",
         "offsetgroup": "blocks.6.norm1.weight.(768,)",
         "orientation": "v",
         "showlegend": true,
         "textposition": "auto",
         "type": "bar",
         "x": [
          "blocks"
         ],
         "xaxis": "x",
         "y": [
          768
         ],
         "yaxis": "y"
        },
        {
         "alignmentgroup": "True",
         "hovertemplate": "layer=blocks.6.norm1.bias.(768,)<br>block=%{x}<br>Log10_ParaM=%{y}<extra></extra>",
         "legendgroup": "blocks.6.norm1.bias.(768,)",
         "marker": {
          "color": "#19d3f3",
          "pattern": {
           "shape": ""
          }
         },
         "name": "blocks.6.norm1.bias.(768,)",
         "offsetgroup": "blocks.6.norm1.bias.(768,)",
         "orientation": "v",
         "showlegend": true,
         "textposition": "auto",
         "type": "bar",
         "x": [
          "blocks"
         ],
         "xaxis": "x",
         "y": [
          768
         ],
         "yaxis": "y"
        },
        {
         "alignmentgroup": "True",
         "hovertemplate": "layer=blocks.6.filter.w1.(2, 4, 192, 192)<br>block=%{x}<br>Log10_ParaM=%{y}<extra></extra>",
         "legendgroup": "blocks.6.filter.w1.(2, 4, 192, 192)",
         "marker": {
          "color": "#FF6692",
          "pattern": {
           "shape": ""
          }
         },
         "name": "blocks.6.filter.w1.(2, 4, 192, 192)",
         "offsetgroup": "blocks.6.filter.w1.(2, 4, 192, 192)",
         "orientation": "v",
         "showlegend": true,
         "textposition": "auto",
         "type": "bar",
         "x": [
          "blocks"
         ],
         "xaxis": "x",
         "y": [
          294912
         ],
         "yaxis": "y"
        },
        {
         "alignmentgroup": "True",
         "hovertemplate": "layer=blocks.6.filter.b1.(2, 4, 192)<br>block=%{x}<br>Log10_ParaM=%{y}<extra></extra>",
         "legendgroup": "blocks.6.filter.b1.(2, 4, 192)",
         "marker": {
          "color": "#B6E880",
          "pattern": {
           "shape": ""
          }
         },
         "name": "blocks.6.filter.b1.(2, 4, 192)",
         "offsetgroup": "blocks.6.filter.b1.(2, 4, 192)",
         "orientation": "v",
         "showlegend": true,
         "textposition": "auto",
         "type": "bar",
         "x": [
          "blocks"
         ],
         "xaxis": "x",
         "y": [
          1536
         ],
         "yaxis": "y"
        },
        {
         "alignmentgroup": "True",
         "hovertemplate": "layer=blocks.6.filter.w2.(2, 4, 192, 192)<br>block=%{x}<br>Log10_ParaM=%{y}<extra></extra>",
         "legendgroup": "blocks.6.filter.w2.(2, 4, 192, 192)",
         "marker": {
          "color": "#FF97FF",
          "pattern": {
           "shape": ""
          }
         },
         "name": "blocks.6.filter.w2.(2, 4, 192, 192)",
         "offsetgroup": "blocks.6.filter.w2.(2, 4, 192, 192)",
         "orientation": "v",
         "showlegend": true,
         "textposition": "auto",
         "type": "bar",
         "x": [
          "blocks"
         ],
         "xaxis": "x",
         "y": [
          294912
         ],
         "yaxis": "y"
        },
        {
         "alignmentgroup": "True",
         "hovertemplate": "layer=blocks.6.filter.b2.(2, 4, 192)<br>block=%{x}<br>Log10_ParaM=%{y}<extra></extra>",
         "legendgroup": "blocks.6.filter.b2.(2, 4, 192)",
         "marker": {
          "color": "#FECB52",
          "pattern": {
           "shape": ""
          }
         },
         "name": "blocks.6.filter.b2.(2, 4, 192)",
         "offsetgroup": "blocks.6.filter.b2.(2, 4, 192)",
         "orientation": "v",
         "showlegend": true,
         "textposition": "auto",
         "type": "bar",
         "x": [
          "blocks"
         ],
         "xaxis": "x",
         "y": [
          1536
         ],
         "yaxis": "y"
        },
        {
         "alignmentgroup": "True",
         "hovertemplate": "layer=blocks.6.norm2.weight.(768,)<br>block=%{x}<br>Log10_ParaM=%{y}<extra></extra>",
         "legendgroup": "blocks.6.norm2.weight.(768,)",
         "marker": {
          "color": "#636efa",
          "pattern": {
           "shape": ""
          }
         },
         "name": "blocks.6.norm2.weight.(768,)",
         "offsetgroup": "blocks.6.norm2.weight.(768,)",
         "orientation": "v",
         "showlegend": true,
         "textposition": "auto",
         "type": "bar",
         "x": [
          "blocks"
         ],
         "xaxis": "x",
         "y": [
          768
         ],
         "yaxis": "y"
        },
        {
         "alignmentgroup": "True",
         "hovertemplate": "layer=blocks.6.norm2.bias.(768,)<br>block=%{x}<br>Log10_ParaM=%{y}<extra></extra>",
         "legendgroup": "blocks.6.norm2.bias.(768,)",
         "marker": {
          "color": "#EF553B",
          "pattern": {
           "shape": ""
          }
         },
         "name": "blocks.6.norm2.bias.(768,)",
         "offsetgroup": "blocks.6.norm2.bias.(768,)",
         "orientation": "v",
         "showlegend": true,
         "textposition": "auto",
         "type": "bar",
         "x": [
          "blocks"
         ],
         "xaxis": "x",
         "y": [
          768
         ],
         "yaxis": "y"
        },
        {
         "alignmentgroup": "True",
         "hovertemplate": "layer=blocks.6.mlp.fc1.weight.(3072, 768)<br>block=%{x}<br>Log10_ParaM=%{y}<extra></extra>",
         "legendgroup": "blocks.6.mlp.fc1.weight.(3072, 768)",
         "marker": {
          "color": "#00cc96",
          "pattern": {
           "shape": ""
          }
         },
         "name": "blocks.6.mlp.fc1.weight.(3072, 768)",
         "offsetgroup": "blocks.6.mlp.fc1.weight.(3072, 768)",
         "orientation": "v",
         "showlegend": true,
         "textposition": "auto",
         "type": "bar",
         "x": [
          "blocks"
         ],
         "xaxis": "x",
         "y": [
          2359296
         ],
         "yaxis": "y"
        },
        {
         "alignmentgroup": "True",
         "hovertemplate": "layer=blocks.6.mlp.fc1.bias.(3072,)<br>block=%{x}<br>Log10_ParaM=%{y}<extra></extra>",
         "legendgroup": "blocks.6.mlp.fc1.bias.(3072,)",
         "marker": {
          "color": "#ab63fa",
          "pattern": {
           "shape": ""
          }
         },
         "name": "blocks.6.mlp.fc1.bias.(3072,)",
         "offsetgroup": "blocks.6.mlp.fc1.bias.(3072,)",
         "orientation": "v",
         "showlegend": true,
         "textposition": "auto",
         "type": "bar",
         "x": [
          "blocks"
         ],
         "xaxis": "x",
         "y": [
          3072
         ],
         "yaxis": "y"
        },
        {
         "alignmentgroup": "True",
         "hovertemplate": "layer=blocks.7.norm1.weight.(768,)<br>block=%{x}<br>Log10_ParaM=%{y}<extra></extra>",
         "legendgroup": "blocks.7.norm1.weight.(768,)",
         "marker": {
          "color": "#FFA15A",
          "pattern": {
           "shape": ""
          }
         },
         "name": "blocks.7.norm1.weight.(768,)",
         "offsetgroup": "blocks.7.norm1.weight.(768,)",
         "orientation": "v",
         "showlegend": true,
         "textposition": "auto",
         "type": "bar",
         "x": [
          "blocks"
         ],
         "xaxis": "x",
         "y": [
          768
         ],
         "yaxis": "y"
        },
        {
         "alignmentgroup": "True",
         "hovertemplate": "layer=blocks.7.norm1.bias.(768,)<br>block=%{x}<br>Log10_ParaM=%{y}<extra></extra>",
         "legendgroup": "blocks.7.norm1.bias.(768,)",
         "marker": {
          "color": "#19d3f3",
          "pattern": {
           "shape": ""
          }
         },
         "name": "blocks.7.norm1.bias.(768,)",
         "offsetgroup": "blocks.7.norm1.bias.(768,)",
         "orientation": "v",
         "showlegend": true,
         "textposition": "auto",
         "type": "bar",
         "x": [
          "blocks"
         ],
         "xaxis": "x",
         "y": [
          768
         ],
         "yaxis": "y"
        },
        {
         "alignmentgroup": "True",
         "hovertemplate": "layer=blocks.7.filter.w1.(2, 4, 192, 192)<br>block=%{x}<br>Log10_ParaM=%{y}<extra></extra>",
         "legendgroup": "blocks.7.filter.w1.(2, 4, 192, 192)",
         "marker": {
          "color": "#FF6692",
          "pattern": {
           "shape": ""
          }
         },
         "name": "blocks.7.filter.w1.(2, 4, 192, 192)",
         "offsetgroup": "blocks.7.filter.w1.(2, 4, 192, 192)",
         "orientation": "v",
         "showlegend": true,
         "textposition": "auto",
         "type": "bar",
         "x": [
          "blocks"
         ],
         "xaxis": "x",
         "y": [
          294912
         ],
         "yaxis": "y"
        },
        {
         "alignmentgroup": "True",
         "hovertemplate": "layer=blocks.7.filter.b1.(2, 4, 192)<br>block=%{x}<br>Log10_ParaM=%{y}<extra></extra>",
         "legendgroup": "blocks.7.filter.b1.(2, 4, 192)",
         "marker": {
          "color": "#B6E880",
          "pattern": {
           "shape": ""
          }
         },
         "name": "blocks.7.filter.b1.(2, 4, 192)",
         "offsetgroup": "blocks.7.filter.b1.(2, 4, 192)",
         "orientation": "v",
         "showlegend": true,
         "textposition": "auto",
         "type": "bar",
         "x": [
          "blocks"
         ],
         "xaxis": "x",
         "y": [
          1536
         ],
         "yaxis": "y"
        },
        {
         "alignmentgroup": "True",
         "hovertemplate": "layer=blocks.7.filter.w2.(2, 4, 192, 192)<br>block=%{x}<br>Log10_ParaM=%{y}<extra></extra>",
         "legendgroup": "blocks.7.filter.w2.(2, 4, 192, 192)",
         "marker": {
          "color": "#FF97FF",
          "pattern": {
           "shape": ""
          }
         },
         "name": "blocks.7.filter.w2.(2, 4, 192, 192)",
         "offsetgroup": "blocks.7.filter.w2.(2, 4, 192, 192)",
         "orientation": "v",
         "showlegend": true,
         "textposition": "auto",
         "type": "bar",
         "x": [
          "blocks"
         ],
         "xaxis": "x",
         "y": [
          294912
         ],
         "yaxis": "y"
        },
        {
         "alignmentgroup": "True",
         "hovertemplate": "layer=blocks.7.filter.b2.(2, 4, 192)<br>block=%{x}<br>Log10_ParaM=%{y}<extra></extra>",
         "legendgroup": "blocks.7.filter.b2.(2, 4, 192)",
         "marker": {
          "color": "#FECB52",
          "pattern": {
           "shape": ""
          }
         },
         "name": "blocks.7.filter.b2.(2, 4, 192)",
         "offsetgroup": "blocks.7.filter.b2.(2, 4, 192)",
         "orientation": "v",
         "showlegend": true,
         "textposition": "auto",
         "type": "bar",
         "x": [
          "blocks"
         ],
         "xaxis": "x",
         "y": [
          1536
         ],
         "yaxis": "y"
        },
        {
         "alignmentgroup": "True",
         "hovertemplate": "layer=blocks.7.norm2.weight.(768,)<br>block=%{x}<br>Log10_ParaM=%{y}<extra></extra>",
         "legendgroup": "blocks.7.norm2.weight.(768,)",
         "marker": {
          "color": "#636efa",
          "pattern": {
           "shape": ""
          }
         },
         "name": "blocks.7.norm2.weight.(768,)",
         "offsetgroup": "blocks.7.norm2.weight.(768,)",
         "orientation": "v",
         "showlegend": true,
         "textposition": "auto",
         "type": "bar",
         "x": [
          "blocks"
         ],
         "xaxis": "x",
         "y": [
          768
         ],
         "yaxis": "y"
        },
        {
         "alignmentgroup": "True",
         "hovertemplate": "layer=blocks.7.norm2.bias.(768,)<br>block=%{x}<br>Log10_ParaM=%{y}<extra></extra>",
         "legendgroup": "blocks.7.norm2.bias.(768,)",
         "marker": {
          "color": "#EF553B",
          "pattern": {
           "shape": ""
          }
         },
         "name": "blocks.7.norm2.bias.(768,)",
         "offsetgroup": "blocks.7.norm2.bias.(768,)",
         "orientation": "v",
         "showlegend": true,
         "textposition": "auto",
         "type": "bar",
         "x": [
          "blocks"
         ],
         "xaxis": "x",
         "y": [
          768
         ],
         "yaxis": "y"
        },
        {
         "alignmentgroup": "True",
         "hovertemplate": "layer=blocks.7.mlp.fc1.weight.(3072, 768)<br>block=%{x}<br>Log10_ParaM=%{y}<extra></extra>",
         "legendgroup": "blocks.7.mlp.fc1.weight.(3072, 768)",
         "marker": {
          "color": "#00cc96",
          "pattern": {
           "shape": ""
          }
         },
         "name": "blocks.7.mlp.fc1.weight.(3072, 768)",
         "offsetgroup": "blocks.7.mlp.fc1.weight.(3072, 768)",
         "orientation": "v",
         "showlegend": true,
         "textposition": "auto",
         "type": "bar",
         "x": [
          "blocks"
         ],
         "xaxis": "x",
         "y": [
          2359296
         ],
         "yaxis": "y"
        },
        {
         "alignmentgroup": "True",
         "hovertemplate": "layer=blocks.7.mlp.fc1.bias.(3072,)<br>block=%{x}<br>Log10_ParaM=%{y}<extra></extra>",
         "legendgroup": "blocks.7.mlp.fc1.bias.(3072,)",
         "marker": {
          "color": "#ab63fa",
          "pattern": {
           "shape": ""
          }
         },
         "name": "blocks.7.mlp.fc1.bias.(3072,)",
         "offsetgroup": "blocks.7.mlp.fc1.bias.(3072,)",
         "orientation": "v",
         "showlegend": true,
         "textposition": "auto",
         "type": "bar",
         "x": [
          "blocks"
         ],
         "xaxis": "x",
         "y": [
          3072
         ],
         "yaxis": "y"
        },
        {
         "alignmentgroup": "True",
         "hovertemplate": "layer=blocks.8.norm1.weight.(768,)<br>block=%{x}<br>Log10_ParaM=%{y}<extra></extra>",
         "legendgroup": "blocks.8.norm1.weight.(768,)",
         "marker": {
          "color": "#FFA15A",
          "pattern": {
           "shape": ""
          }
         },
         "name": "blocks.8.norm1.weight.(768,)",
         "offsetgroup": "blocks.8.norm1.weight.(768,)",
         "orientation": "v",
         "showlegend": true,
         "textposition": "auto",
         "type": "bar",
         "x": [
          "blocks"
         ],
         "xaxis": "x",
         "y": [
          768
         ],
         "yaxis": "y"
        },
        {
         "alignmentgroup": "True",
         "hovertemplate": "layer=blocks.8.norm1.bias.(768,)<br>block=%{x}<br>Log10_ParaM=%{y}<extra></extra>",
         "legendgroup": "blocks.8.norm1.bias.(768,)",
         "marker": {
          "color": "#19d3f3",
          "pattern": {
           "shape": ""
          }
         },
         "name": "blocks.8.norm1.bias.(768,)",
         "offsetgroup": "blocks.8.norm1.bias.(768,)",
         "orientation": "v",
         "showlegend": true,
         "textposition": "auto",
         "type": "bar",
         "x": [
          "blocks"
         ],
         "xaxis": "x",
         "y": [
          768
         ],
         "yaxis": "y"
        },
        {
         "alignmentgroup": "True",
         "hovertemplate": "layer=blocks.8.filter.w1.(2, 4, 192, 192)<br>block=%{x}<br>Log10_ParaM=%{y}<extra></extra>",
         "legendgroup": "blocks.8.filter.w1.(2, 4, 192, 192)",
         "marker": {
          "color": "#FF6692",
          "pattern": {
           "shape": ""
          }
         },
         "name": "blocks.8.filter.w1.(2, 4, 192, 192)",
         "offsetgroup": "blocks.8.filter.w1.(2, 4, 192, 192)",
         "orientation": "v",
         "showlegend": true,
         "textposition": "auto",
         "type": "bar",
         "x": [
          "blocks"
         ],
         "xaxis": "x",
         "y": [
          294912
         ],
         "yaxis": "y"
        },
        {
         "alignmentgroup": "True",
         "hovertemplate": "layer=blocks.8.filter.b1.(2, 4, 192)<br>block=%{x}<br>Log10_ParaM=%{y}<extra></extra>",
         "legendgroup": "blocks.8.filter.b1.(2, 4, 192)",
         "marker": {
          "color": "#B6E880",
          "pattern": {
           "shape": ""
          }
         },
         "name": "blocks.8.filter.b1.(2, 4, 192)",
         "offsetgroup": "blocks.8.filter.b1.(2, 4, 192)",
         "orientation": "v",
         "showlegend": true,
         "textposition": "auto",
         "type": "bar",
         "x": [
          "blocks"
         ],
         "xaxis": "x",
         "y": [
          1536
         ],
         "yaxis": "y"
        },
        {
         "alignmentgroup": "True",
         "hovertemplate": "layer=blocks.8.filter.w2.(2, 4, 192, 192)<br>block=%{x}<br>Log10_ParaM=%{y}<extra></extra>",
         "legendgroup": "blocks.8.filter.w2.(2, 4, 192, 192)",
         "marker": {
          "color": "#FF97FF",
          "pattern": {
           "shape": ""
          }
         },
         "name": "blocks.8.filter.w2.(2, 4, 192, 192)",
         "offsetgroup": "blocks.8.filter.w2.(2, 4, 192, 192)",
         "orientation": "v",
         "showlegend": true,
         "textposition": "auto",
         "type": "bar",
         "x": [
          "blocks"
         ],
         "xaxis": "x",
         "y": [
          294912
         ],
         "yaxis": "y"
        },
        {
         "alignmentgroup": "True",
         "hovertemplate": "layer=blocks.8.filter.b2.(2, 4, 192)<br>block=%{x}<br>Log10_ParaM=%{y}<extra></extra>",
         "legendgroup": "blocks.8.filter.b2.(2, 4, 192)",
         "marker": {
          "color": "#FECB52",
          "pattern": {
           "shape": ""
          }
         },
         "name": "blocks.8.filter.b2.(2, 4, 192)",
         "offsetgroup": "blocks.8.filter.b2.(2, 4, 192)",
         "orientation": "v",
         "showlegend": true,
         "textposition": "auto",
         "type": "bar",
         "x": [
          "blocks"
         ],
         "xaxis": "x",
         "y": [
          1536
         ],
         "yaxis": "y"
        },
        {
         "alignmentgroup": "True",
         "hovertemplate": "layer=blocks.8.norm2.weight.(768,)<br>block=%{x}<br>Log10_ParaM=%{y}<extra></extra>",
         "legendgroup": "blocks.8.norm2.weight.(768,)",
         "marker": {
          "color": "#636efa",
          "pattern": {
           "shape": ""
          }
         },
         "name": "blocks.8.norm2.weight.(768,)",
         "offsetgroup": "blocks.8.norm2.weight.(768,)",
         "orientation": "v",
         "showlegend": true,
         "textposition": "auto",
         "type": "bar",
         "x": [
          "blocks"
         ],
         "xaxis": "x",
         "y": [
          768
         ],
         "yaxis": "y"
        },
        {
         "alignmentgroup": "True",
         "hovertemplate": "layer=blocks.8.norm2.bias.(768,)<br>block=%{x}<br>Log10_ParaM=%{y}<extra></extra>",
         "legendgroup": "blocks.8.norm2.bias.(768,)",
         "marker": {
          "color": "#EF553B",
          "pattern": {
           "shape": ""
          }
         },
         "name": "blocks.8.norm2.bias.(768,)",
         "offsetgroup": "blocks.8.norm2.bias.(768,)",
         "orientation": "v",
         "showlegend": true,
         "textposition": "auto",
         "type": "bar",
         "x": [
          "blocks"
         ],
         "xaxis": "x",
         "y": [
          768
         ],
         "yaxis": "y"
        },
        {
         "alignmentgroup": "True",
         "hovertemplate": "layer=blocks.8.mlp.fc1.weight.(3072, 768)<br>block=%{x}<br>Log10_ParaM=%{y}<extra></extra>",
         "legendgroup": "blocks.8.mlp.fc1.weight.(3072, 768)",
         "marker": {
          "color": "#00cc96",
          "pattern": {
           "shape": ""
          }
         },
         "name": "blocks.8.mlp.fc1.weight.(3072, 768)",
         "offsetgroup": "blocks.8.mlp.fc1.weight.(3072, 768)",
         "orientation": "v",
         "showlegend": true,
         "textposition": "auto",
         "type": "bar",
         "x": [
          "blocks"
         ],
         "xaxis": "x",
         "y": [
          2359296
         ],
         "yaxis": "y"
        },
        {
         "alignmentgroup": "True",
         "hovertemplate": "layer=blocks.8.mlp.fc1.bias.(3072,)<br>block=%{x}<br>Log10_ParaM=%{y}<extra></extra>",
         "legendgroup": "blocks.8.mlp.fc1.bias.(3072,)",
         "marker": {
          "color": "#ab63fa",
          "pattern": {
           "shape": ""
          }
         },
         "name": "blocks.8.mlp.fc1.bias.(3072,)",
         "offsetgroup": "blocks.8.mlp.fc1.bias.(3072,)",
         "orientation": "v",
         "showlegend": true,
         "textposition": "auto",
         "type": "bar",
         "x": [
          "blocks"
         ],
         "xaxis": "x",
         "y": [
          3072
         ],
         "yaxis": "y"
        },
        {
         "alignmentgroup": "True",
         "hovertemplate": "layer=blocks.9.norm1.weight.(768,)<br>block=%{x}<br>Log10_ParaM=%{y}<extra></extra>",
         "legendgroup": "blocks.9.norm1.weight.(768,)",
         "marker": {
          "color": "#FFA15A",
          "pattern": {
           "shape": ""
          }
         },
         "name": "blocks.9.norm1.weight.(768,)",
         "offsetgroup": "blocks.9.norm1.weight.(768,)",
         "orientation": "v",
         "showlegend": true,
         "textposition": "auto",
         "type": "bar",
         "x": [
          "blocks"
         ],
         "xaxis": "x",
         "y": [
          768
         ],
         "yaxis": "y"
        },
        {
         "alignmentgroup": "True",
         "hovertemplate": "layer=blocks.9.norm1.bias.(768,)<br>block=%{x}<br>Log10_ParaM=%{y}<extra></extra>",
         "legendgroup": "blocks.9.norm1.bias.(768,)",
         "marker": {
          "color": "#19d3f3",
          "pattern": {
           "shape": ""
          }
         },
         "name": "blocks.9.norm1.bias.(768,)",
         "offsetgroup": "blocks.9.norm1.bias.(768,)",
         "orientation": "v",
         "showlegend": true,
         "textposition": "auto",
         "type": "bar",
         "x": [
          "blocks"
         ],
         "xaxis": "x",
         "y": [
          768
         ],
         "yaxis": "y"
        },
        {
         "alignmentgroup": "True",
         "hovertemplate": "layer=blocks.9.filter.w1.(2, 4, 192, 192)<br>block=%{x}<br>Log10_ParaM=%{y}<extra></extra>",
         "legendgroup": "blocks.9.filter.w1.(2, 4, 192, 192)",
         "marker": {
          "color": "#FF6692",
          "pattern": {
           "shape": ""
          }
         },
         "name": "blocks.9.filter.w1.(2, 4, 192, 192)",
         "offsetgroup": "blocks.9.filter.w1.(2, 4, 192, 192)",
         "orientation": "v",
         "showlegend": true,
         "textposition": "auto",
         "type": "bar",
         "x": [
          "blocks"
         ],
         "xaxis": "x",
         "y": [
          294912
         ],
         "yaxis": "y"
        },
        {
         "alignmentgroup": "True",
         "hovertemplate": "layer=blocks.9.filter.b1.(2, 4, 192)<br>block=%{x}<br>Log10_ParaM=%{y}<extra></extra>",
         "legendgroup": "blocks.9.filter.b1.(2, 4, 192)",
         "marker": {
          "color": "#B6E880",
          "pattern": {
           "shape": ""
          }
         },
         "name": "blocks.9.filter.b1.(2, 4, 192)",
         "offsetgroup": "blocks.9.filter.b1.(2, 4, 192)",
         "orientation": "v",
         "showlegend": true,
         "textposition": "auto",
         "type": "bar",
         "x": [
          "blocks"
         ],
         "xaxis": "x",
         "y": [
          1536
         ],
         "yaxis": "y"
        },
        {
         "alignmentgroup": "True",
         "hovertemplate": "layer=blocks.9.filter.w2.(2, 4, 192, 192)<br>block=%{x}<br>Log10_ParaM=%{y}<extra></extra>",
         "legendgroup": "blocks.9.filter.w2.(2, 4, 192, 192)",
         "marker": {
          "color": "#FF97FF",
          "pattern": {
           "shape": ""
          }
         },
         "name": "blocks.9.filter.w2.(2, 4, 192, 192)",
         "offsetgroup": "blocks.9.filter.w2.(2, 4, 192, 192)",
         "orientation": "v",
         "showlegend": true,
         "textposition": "auto",
         "type": "bar",
         "x": [
          "blocks"
         ],
         "xaxis": "x",
         "y": [
          294912
         ],
         "yaxis": "y"
        },
        {
         "alignmentgroup": "True",
         "hovertemplate": "layer=blocks.9.filter.b2.(2, 4, 192)<br>block=%{x}<br>Log10_ParaM=%{y}<extra></extra>",
         "legendgroup": "blocks.9.filter.b2.(2, 4, 192)",
         "marker": {
          "color": "#FECB52",
          "pattern": {
           "shape": ""
          }
         },
         "name": "blocks.9.filter.b2.(2, 4, 192)",
         "offsetgroup": "blocks.9.filter.b2.(2, 4, 192)",
         "orientation": "v",
         "showlegend": true,
         "textposition": "auto",
         "type": "bar",
         "x": [
          "blocks"
         ],
         "xaxis": "x",
         "y": [
          1536
         ],
         "yaxis": "y"
        },
        {
         "alignmentgroup": "True",
         "hovertemplate": "layer=blocks.9.norm2.weight.(768,)<br>block=%{x}<br>Log10_ParaM=%{y}<extra></extra>",
         "legendgroup": "blocks.9.norm2.weight.(768,)",
         "marker": {
          "color": "#636efa",
          "pattern": {
           "shape": ""
          }
         },
         "name": "blocks.9.norm2.weight.(768,)",
         "offsetgroup": "blocks.9.norm2.weight.(768,)",
         "orientation": "v",
         "showlegend": true,
         "textposition": "auto",
         "type": "bar",
         "x": [
          "blocks"
         ],
         "xaxis": "x",
         "y": [
          768
         ],
         "yaxis": "y"
        },
        {
         "alignmentgroup": "True",
         "hovertemplate": "layer=blocks.9.norm2.bias.(768,)<br>block=%{x}<br>Log10_ParaM=%{y}<extra></extra>",
         "legendgroup": "blocks.9.norm2.bias.(768,)",
         "marker": {
          "color": "#EF553B",
          "pattern": {
           "shape": ""
          }
         },
         "name": "blocks.9.norm2.bias.(768,)",
         "offsetgroup": "blocks.9.norm2.bias.(768,)",
         "orientation": "v",
         "showlegend": true,
         "textposition": "auto",
         "type": "bar",
         "x": [
          "blocks"
         ],
         "xaxis": "x",
         "y": [
          768
         ],
         "yaxis": "y"
        },
        {
         "alignmentgroup": "True",
         "hovertemplate": "layer=blocks.9.mlp.fc1.weight.(3072, 768)<br>block=%{x}<br>Log10_ParaM=%{y}<extra></extra>",
         "legendgroup": "blocks.9.mlp.fc1.weight.(3072, 768)",
         "marker": {
          "color": "#00cc96",
          "pattern": {
           "shape": ""
          }
         },
         "name": "blocks.9.mlp.fc1.weight.(3072, 768)",
         "offsetgroup": "blocks.9.mlp.fc1.weight.(3072, 768)",
         "orientation": "v",
         "showlegend": true,
         "textposition": "auto",
         "type": "bar",
         "x": [
          "blocks"
         ],
         "xaxis": "x",
         "y": [
          2359296
         ],
         "yaxis": "y"
        },
        {
         "alignmentgroup": "True",
         "hovertemplate": "layer=blocks.9.mlp.fc1.bias.(3072,)<br>block=%{x}<br>Log10_ParaM=%{y}<extra></extra>",
         "legendgroup": "blocks.9.mlp.fc1.bias.(3072,)",
         "marker": {
          "color": "#ab63fa",
          "pattern": {
           "shape": ""
          }
         },
         "name": "blocks.9.mlp.fc1.bias.(3072,)",
         "offsetgroup": "blocks.9.mlp.fc1.bias.(3072,)",
         "orientation": "v",
         "showlegend": true,
         "textposition": "auto",
         "type": "bar",
         "x": [
          "blocks"
         ],
         "xaxis": "x",
         "y": [
          3072
         ],
         "yaxis": "y"
        },
        {
         "alignmentgroup": "True",
         "hovertemplate": "layer=blocks.10.norm1.weight.(768,)<br>block=%{x}<br>Log10_ParaM=%{y}<extra></extra>",
         "legendgroup": "blocks.10.norm1.weight.(768,)",
         "marker": {
          "color": "#FFA15A",
          "pattern": {
           "shape": ""
          }
         },
         "name": "blocks.10.norm1.weight.(768,)",
         "offsetgroup": "blocks.10.norm1.weight.(768,)",
         "orientation": "v",
         "showlegend": true,
         "textposition": "auto",
         "type": "bar",
         "x": [
          "blocks"
         ],
         "xaxis": "x",
         "y": [
          768
         ],
         "yaxis": "y"
        },
        {
         "alignmentgroup": "True",
         "hovertemplate": "layer=blocks.10.norm1.bias.(768,)<br>block=%{x}<br>Log10_ParaM=%{y}<extra></extra>",
         "legendgroup": "blocks.10.norm1.bias.(768,)",
         "marker": {
          "color": "#19d3f3",
          "pattern": {
           "shape": ""
          }
         },
         "name": "blocks.10.norm1.bias.(768,)",
         "offsetgroup": "blocks.10.norm1.bias.(768,)",
         "orientation": "v",
         "showlegend": true,
         "textposition": "auto",
         "type": "bar",
         "x": [
          "blocks"
         ],
         "xaxis": "x",
         "y": [
          768
         ],
         "yaxis": "y"
        },
        {
         "alignmentgroup": "True",
         "hovertemplate": "layer=blocks.10.filter.w1.(2, 4, 192, 192)<br>block=%{x}<br>Log10_ParaM=%{y}<extra></extra>",
         "legendgroup": "blocks.10.filter.w1.(2, 4, 192, 192)",
         "marker": {
          "color": "#FF6692",
          "pattern": {
           "shape": ""
          }
         },
         "name": "blocks.10.filter.w1.(2, 4, 192, 192)",
         "offsetgroup": "blocks.10.filter.w1.(2, 4, 192, 192)",
         "orientation": "v",
         "showlegend": true,
         "textposition": "auto",
         "type": "bar",
         "x": [
          "blocks"
         ],
         "xaxis": "x",
         "y": [
          294912
         ],
         "yaxis": "y"
        },
        {
         "alignmentgroup": "True",
         "hovertemplate": "layer=blocks.10.filter.b1.(2, 4, 192)<br>block=%{x}<br>Log10_ParaM=%{y}<extra></extra>",
         "legendgroup": "blocks.10.filter.b1.(2, 4, 192)",
         "marker": {
          "color": "#B6E880",
          "pattern": {
           "shape": ""
          }
         },
         "name": "blocks.10.filter.b1.(2, 4, 192)",
         "offsetgroup": "blocks.10.filter.b1.(2, 4, 192)",
         "orientation": "v",
         "showlegend": true,
         "textposition": "auto",
         "type": "bar",
         "x": [
          "blocks"
         ],
         "xaxis": "x",
         "y": [
          1536
         ],
         "yaxis": "y"
        },
        {
         "alignmentgroup": "True",
         "hovertemplate": "layer=blocks.10.filter.w2.(2, 4, 192, 192)<br>block=%{x}<br>Log10_ParaM=%{y}<extra></extra>",
         "legendgroup": "blocks.10.filter.w2.(2, 4, 192, 192)",
         "marker": {
          "color": "#FF97FF",
          "pattern": {
           "shape": ""
          }
         },
         "name": "blocks.10.filter.w2.(2, 4, 192, 192)",
         "offsetgroup": "blocks.10.filter.w2.(2, 4, 192, 192)",
         "orientation": "v",
         "showlegend": true,
         "textposition": "auto",
         "type": "bar",
         "x": [
          "blocks"
         ],
         "xaxis": "x",
         "y": [
          294912
         ],
         "yaxis": "y"
        },
        {
         "alignmentgroup": "True",
         "hovertemplate": "layer=blocks.10.filter.b2.(2, 4, 192)<br>block=%{x}<br>Log10_ParaM=%{y}<extra></extra>",
         "legendgroup": "blocks.10.filter.b2.(2, 4, 192)",
         "marker": {
          "color": "#FECB52",
          "pattern": {
           "shape": ""
          }
         },
         "name": "blocks.10.filter.b2.(2, 4, 192)",
         "offsetgroup": "blocks.10.filter.b2.(2, 4, 192)",
         "orientation": "v",
         "showlegend": true,
         "textposition": "auto",
         "type": "bar",
         "x": [
          "blocks"
         ],
         "xaxis": "x",
         "y": [
          1536
         ],
         "yaxis": "y"
        },
        {
         "alignmentgroup": "True",
         "hovertemplate": "layer=blocks.10.norm2.weight.(768,)<br>block=%{x}<br>Log10_ParaM=%{y}<extra></extra>",
         "legendgroup": "blocks.10.norm2.weight.(768,)",
         "marker": {
          "color": "#636efa",
          "pattern": {
           "shape": ""
          }
         },
         "name": "blocks.10.norm2.weight.(768,)",
         "offsetgroup": "blocks.10.norm2.weight.(768,)",
         "orientation": "v",
         "showlegend": true,
         "textposition": "auto",
         "type": "bar",
         "x": [
          "blocks"
         ],
         "xaxis": "x",
         "y": [
          768
         ],
         "yaxis": "y"
        },
        {
         "alignmentgroup": "True",
         "hovertemplate": "layer=blocks.10.norm2.bias.(768,)<br>block=%{x}<br>Log10_ParaM=%{y}<extra></extra>",
         "legendgroup": "blocks.10.norm2.bias.(768,)",
         "marker": {
          "color": "#EF553B",
          "pattern": {
           "shape": ""
          }
         },
         "name": "blocks.10.norm2.bias.(768,)",
         "offsetgroup": "blocks.10.norm2.bias.(768,)",
         "orientation": "v",
         "showlegend": true,
         "textposition": "auto",
         "type": "bar",
         "x": [
          "blocks"
         ],
         "xaxis": "x",
         "y": [
          768
         ],
         "yaxis": "y"
        },
        {
         "alignmentgroup": "True",
         "hovertemplate": "layer=blocks.10.mlp.fc1.weight.(3072, 768)<br>block=%{x}<br>Log10_ParaM=%{y}<extra></extra>",
         "legendgroup": "blocks.10.mlp.fc1.weight.(3072, 768)",
         "marker": {
          "color": "#00cc96",
          "pattern": {
           "shape": ""
          }
         },
         "name": "blocks.10.mlp.fc1.weight.(3072, 768)",
         "offsetgroup": "blocks.10.mlp.fc1.weight.(3072, 768)",
         "orientation": "v",
         "showlegend": true,
         "textposition": "auto",
         "type": "bar",
         "x": [
          "blocks"
         ],
         "xaxis": "x",
         "y": [
          2359296
         ],
         "yaxis": "y"
        },
        {
         "alignmentgroup": "True",
         "hovertemplate": "layer=blocks.10.mlp.fc1.bias.(3072,)<br>block=%{x}<br>Log10_ParaM=%{y}<extra></extra>",
         "legendgroup": "blocks.10.mlp.fc1.bias.(3072,)",
         "marker": {
          "color": "#ab63fa",
          "pattern": {
           "shape": ""
          }
         },
         "name": "blocks.10.mlp.fc1.bias.(3072,)",
         "offsetgroup": "blocks.10.mlp.fc1.bias.(3072,)",
         "orientation": "v",
         "showlegend": true,
         "textposition": "auto",
         "type": "bar",
         "x": [
          "blocks"
         ],
         "xaxis": "x",
         "y": [
          3072
         ],
         "yaxis": "y"
        },
        {
         "alignmentgroup": "True",
         "hovertemplate": "layer=blocks.11.norm1.weight.(768,)<br>block=%{x}<br>Log10_ParaM=%{y}<extra></extra>",
         "legendgroup": "blocks.11.norm1.weight.(768,)",
         "marker": {
          "color": "#FFA15A",
          "pattern": {
           "shape": ""
          }
         },
         "name": "blocks.11.norm1.weight.(768,)",
         "offsetgroup": "blocks.11.norm1.weight.(768,)",
         "orientation": "v",
         "showlegend": true,
         "textposition": "auto",
         "type": "bar",
         "x": [
          "blocks"
         ],
         "xaxis": "x",
         "y": [
          768
         ],
         "yaxis": "y"
        },
        {
         "alignmentgroup": "True",
         "hovertemplate": "layer=blocks.11.norm1.bias.(768,)<br>block=%{x}<br>Log10_ParaM=%{y}<extra></extra>",
         "legendgroup": "blocks.11.norm1.bias.(768,)",
         "marker": {
          "color": "#19d3f3",
          "pattern": {
           "shape": ""
          }
         },
         "name": "blocks.11.norm1.bias.(768,)",
         "offsetgroup": "blocks.11.norm1.bias.(768,)",
         "orientation": "v",
         "showlegend": true,
         "textposition": "auto",
         "type": "bar",
         "x": [
          "blocks"
         ],
         "xaxis": "x",
         "y": [
          768
         ],
         "yaxis": "y"
        },
        {
         "alignmentgroup": "True",
         "hovertemplate": "layer=blocks.11.filter.w1.(2, 4, 192, 192)<br>block=%{x}<br>Log10_ParaM=%{y}<extra></extra>",
         "legendgroup": "blocks.11.filter.w1.(2, 4, 192, 192)",
         "marker": {
          "color": "#FF6692",
          "pattern": {
           "shape": ""
          }
         },
         "name": "blocks.11.filter.w1.(2, 4, 192, 192)",
         "offsetgroup": "blocks.11.filter.w1.(2, 4, 192, 192)",
         "orientation": "v",
         "showlegend": true,
         "textposition": "auto",
         "type": "bar",
         "x": [
          "blocks"
         ],
         "xaxis": "x",
         "y": [
          294912
         ],
         "yaxis": "y"
        },
        {
         "alignmentgroup": "True",
         "hovertemplate": "layer=blocks.11.filter.b1.(2, 4, 192)<br>block=%{x}<br>Log10_ParaM=%{y}<extra></extra>",
         "legendgroup": "blocks.11.filter.b1.(2, 4, 192)",
         "marker": {
          "color": "#B6E880",
          "pattern": {
           "shape": ""
          }
         },
         "name": "blocks.11.filter.b1.(2, 4, 192)",
         "offsetgroup": "blocks.11.filter.b1.(2, 4, 192)",
         "orientation": "v",
         "showlegend": true,
         "textposition": "auto",
         "type": "bar",
         "x": [
          "blocks"
         ],
         "xaxis": "x",
         "y": [
          1536
         ],
         "yaxis": "y"
        },
        {
         "alignmentgroup": "True",
         "hovertemplate": "layer=blocks.11.filter.w2.(2, 4, 192, 192)<br>block=%{x}<br>Log10_ParaM=%{y}<extra></extra>",
         "legendgroup": "blocks.11.filter.w2.(2, 4, 192, 192)",
         "marker": {
          "color": "#FF97FF",
          "pattern": {
           "shape": ""
          }
         },
         "name": "blocks.11.filter.w2.(2, 4, 192, 192)",
         "offsetgroup": "blocks.11.filter.w2.(2, 4, 192, 192)",
         "orientation": "v",
         "showlegend": true,
         "textposition": "auto",
         "type": "bar",
         "x": [
          "blocks"
         ],
         "xaxis": "x",
         "y": [
          294912
         ],
         "yaxis": "y"
        },
        {
         "alignmentgroup": "True",
         "hovertemplate": "layer=blocks.11.filter.b2.(2, 4, 192)<br>block=%{x}<br>Log10_ParaM=%{y}<extra></extra>",
         "legendgroup": "blocks.11.filter.b2.(2, 4, 192)",
         "marker": {
          "color": "#FECB52",
          "pattern": {
           "shape": ""
          }
         },
         "name": "blocks.11.filter.b2.(2, 4, 192)",
         "offsetgroup": "blocks.11.filter.b2.(2, 4, 192)",
         "orientation": "v",
         "showlegend": true,
         "textposition": "auto",
         "type": "bar",
         "x": [
          "blocks"
         ],
         "xaxis": "x",
         "y": [
          1536
         ],
         "yaxis": "y"
        },
        {
         "alignmentgroup": "True",
         "hovertemplate": "layer=blocks.11.norm2.weight.(768,)<br>block=%{x}<br>Log10_ParaM=%{y}<extra></extra>",
         "legendgroup": "blocks.11.norm2.weight.(768,)",
         "marker": {
          "color": "#636efa",
          "pattern": {
           "shape": ""
          }
         },
         "name": "blocks.11.norm2.weight.(768,)",
         "offsetgroup": "blocks.11.norm2.weight.(768,)",
         "orientation": "v",
         "showlegend": true,
         "textposition": "auto",
         "type": "bar",
         "x": [
          "blocks"
         ],
         "xaxis": "x",
         "y": [
          768
         ],
         "yaxis": "y"
        },
        {
         "alignmentgroup": "True",
         "hovertemplate": "layer=blocks.11.norm2.bias.(768,)<br>block=%{x}<br>Log10_ParaM=%{y}<extra></extra>",
         "legendgroup": "blocks.11.norm2.bias.(768,)",
         "marker": {
          "color": "#EF553B",
          "pattern": {
           "shape": ""
          }
         },
         "name": "blocks.11.norm2.bias.(768,)",
         "offsetgroup": "blocks.11.norm2.bias.(768,)",
         "orientation": "v",
         "showlegend": true,
         "textposition": "auto",
         "type": "bar",
         "x": [
          "blocks"
         ],
         "xaxis": "x",
         "y": [
          768
         ],
         "yaxis": "y"
        },
        {
         "alignmentgroup": "True",
         "hovertemplate": "layer=blocks.11.mlp.fc1.weight.(3072, 768)<br>block=%{x}<br>Log10_ParaM=%{y}<extra></extra>",
         "legendgroup": "blocks.11.mlp.fc1.weight.(3072, 768)",
         "marker": {
          "color": "#00cc96",
          "pattern": {
           "shape": ""
          }
         },
         "name": "blocks.11.mlp.fc1.weight.(3072, 768)",
         "offsetgroup": "blocks.11.mlp.fc1.weight.(3072, 768)",
         "orientation": "v",
         "showlegend": true,
         "textposition": "auto",
         "type": "bar",
         "x": [
          "blocks"
         ],
         "xaxis": "x",
         "y": [
          2359296
         ],
         "yaxis": "y"
        },
        {
         "alignmentgroup": "True",
         "hovertemplate": "layer=blocks.11.mlp.fc1.bias.(3072,)<br>block=%{x}<br>Log10_ParaM=%{y}<extra></extra>",
         "legendgroup": "blocks.11.mlp.fc1.bias.(3072,)",
         "marker": {
          "color": "#ab63fa",
          "pattern": {
           "shape": ""
          }
         },
         "name": "blocks.11.mlp.fc1.bias.(3072,)",
         "offsetgroup": "blocks.11.mlp.fc1.bias.(3072,)",
         "orientation": "v",
         "showlegend": true,
         "textposition": "auto",
         "type": "bar",
         "x": [
          "blocks"
         ],
         "xaxis": "x",
         "y": [
          3072
         ],
         "yaxis": "y"
        },
        {
         "alignmentgroup": "True",
         "hovertemplate": "layer=norm.weight.(768,)<br>block=%{x}<br>Log10_ParaM=%{y}<extra></extra>",
         "legendgroup": "norm.weight.(768,)",
         "marker": {
          "color": "#FFA15A",
          "pattern": {
           "shape": ""
          }
         },
         "name": "norm.weight.(768,)",
         "offsetgroup": "norm.weight.(768,)",
         "orientation": "v",
         "showlegend": true,
         "textposition": "auto",
         "type": "bar",
         "x": [
          "norm"
         ],
         "xaxis": "x",
         "y": [
          768
         ],
         "yaxis": "y"
        },
        {
         "alignmentgroup": "True",
         "hovertemplate": "layer=norm.bias.(768,)<br>block=%{x}<br>Log10_ParaM=%{y}<extra></extra>",
         "legendgroup": "norm.bias.(768,)",
         "marker": {
          "color": "#19d3f3",
          "pattern": {
           "shape": ""
          }
         },
         "name": "norm.bias.(768,)",
         "offsetgroup": "norm.bias.(768,)",
         "orientation": "v",
         "showlegend": true,
         "textposition": "auto",
         "type": "bar",
         "x": [
          "norm"
         ],
         "xaxis": "x",
         "y": [
          768
         ],
         "yaxis": "y"
        },
        {
         "alignmentgroup": "True",
         "hovertemplate": "layer=pre_logits.conv1.conv_layers.0.weight.(768, 480, 3)<br>block=%{x}<br>Log10_ParaM=%{y}<extra></extra>",
         "legendgroup": "pre_logits.conv1.conv_layers.0.weight.(768, 480, 3)",
         "marker": {
          "color": "#FF6692",
          "pattern": {
           "shape": ""
          }
         },
         "name": "pre_logits.conv1.conv_layers.0.weight.(768, 480, 3)",
         "offsetgroup": "pre_logits.conv1.conv_layers.0.weight.(768, 480, 3)",
         "orientation": "v",
         "showlegend": true,
         "textposition": "auto",
         "type": "bar",
         "x": [
          "pre_logits"
         ],
         "xaxis": "x",
         "y": [
          1105920
         ],
         "yaxis": "y"
        },
        {
         "alignmentgroup": "True",
         "hovertemplate": "layer=pre_logits.conv1.conv_layers.1.weight.(768, 480, 3)<br>block=%{x}<br>Log10_ParaM=%{y}<extra></extra>",
         "legendgroup": "pre_logits.conv1.conv_layers.1.weight.(768, 480, 3)",
         "marker": {
          "color": "#B6E880",
          "pattern": {
           "shape": ""
          }
         },
         "name": "pre_logits.conv1.conv_layers.1.weight.(768, 480, 3)",
         "offsetgroup": "pre_logits.conv1.conv_layers.1.weight.(768, 480, 3)",
         "orientation": "v",
         "showlegend": true,
         "textposition": "auto",
         "type": "bar",
         "x": [
          "pre_logits"
         ],
         "xaxis": "x",
         "y": [
          1105920
         ],
         "yaxis": "y"
        },
        {
         "alignmentgroup": "True",
         "hovertemplate": "layer=pre_logits.conv1.conv_layers.2.weight.(768, 480, 3)<br>block=%{x}<br>Log10_ParaM=%{y}<extra></extra>",
         "legendgroup": "pre_logits.conv1.conv_layers.2.weight.(768, 480, 3)",
         "marker": {
          "color": "#FF97FF",
          "pattern": {
           "shape": ""
          }
         },
         "name": "pre_logits.conv1.conv_layers.2.weight.(768, 480, 3)",
         "offsetgroup": "pre_logits.conv1.conv_layers.2.weight.(768, 480, 3)",
         "orientation": "v",
         "showlegend": true,
         "textposition": "auto",
         "type": "bar",
         "x": [
          "pre_logits"
         ],
         "xaxis": "x",
         "y": [
          1105920
         ],
         "yaxis": "y"
        },
        {
         "alignmentgroup": "True",
         "hovertemplate": "layer=pre_logits.conv2.conv_layers.0.weight.(480, 120, 3)<br>block=%{x}<br>Log10_ParaM=%{y}<extra></extra>",
         "legendgroup": "pre_logits.conv2.conv_layers.0.weight.(480, 120, 3)",
         "marker": {
          "color": "#FECB52",
          "pattern": {
           "shape": ""
          }
         },
         "name": "pre_logits.conv2.conv_layers.0.weight.(480, 120, 3)",
         "offsetgroup": "pre_logits.conv2.conv_layers.0.weight.(480, 120, 3)",
         "orientation": "v",
         "showlegend": true,
         "textposition": "auto",
         "type": "bar",
         "x": [
          "pre_logits"
         ],
         "xaxis": "x",
         "y": [
          172800
         ],
         "yaxis": "y"
        },
        {
         "alignmentgroup": "True",
         "hovertemplate": "layer=pre_logits.conv2.conv_layers.1.weight.(480, 120, 3)<br>block=%{x}<br>Log10_ParaM=%{y}<extra></extra>",
         "legendgroup": "pre_logits.conv2.conv_layers.1.weight.(480, 120, 3)",
         "marker": {
          "color": "#636efa",
          "pattern": {
           "shape": ""
          }
         },
         "name": "pre_logits.conv2.conv_layers.1.weight.(480, 120, 3)",
         "offsetgroup": "pre_logits.conv2.conv_layers.1.weight.(480, 120, 3)",
         "orientation": "v",
         "showlegend": true,
         "textposition": "auto",
         "type": "bar",
         "x": [
          "pre_logits"
         ],
         "xaxis": "x",
         "y": [
          172800
         ],
         "yaxis": "y"
        },
        {
         "alignmentgroup": "True",
         "hovertemplate": "layer=pre_logits.conv2.conv_layers.2.weight.(480, 120, 3)<br>block=%{x}<br>Log10_ParaM=%{y}<extra></extra>",
         "legendgroup": "pre_logits.conv2.conv_layers.2.weight.(480, 120, 3)",
         "marker": {
          "color": "#EF553B",
          "pattern": {
           "shape": ""
          }
         },
         "name": "pre_logits.conv2.conv_layers.2.weight.(480, 120, 3)",
         "offsetgroup": "pre_logits.conv2.conv_layers.2.weight.(480, 120, 3)",
         "orientation": "v",
         "showlegend": true,
         "textposition": "auto",
         "type": "bar",
         "x": [
          "pre_logits"
         ],
         "xaxis": "x",
         "y": [
          172800
         ],
         "yaxis": "y"
        },
        {
         "alignmentgroup": "True",
         "hovertemplate": "layer=head.conv_layers.0.weight.(120, 30, 2)<br>block=%{x}<br>Log10_ParaM=%{y}<extra></extra>",
         "legendgroup": "head.conv_layers.0.weight.(120, 30, 2)",
         "marker": {
          "color": "#00cc96",
          "pattern": {
           "shape": ""
          }
         },
         "name": "head.conv_layers.0.weight.(120, 30, 2)",
         "offsetgroup": "head.conv_layers.0.weight.(120, 30, 2)",
         "orientation": "v",
         "showlegend": true,
         "textposition": "auto",
         "type": "bar",
         "x": [
          "head"
         ],
         "xaxis": "x",
         "y": [
          7200
         ],
         "yaxis": "y"
        },
        {
         "alignmentgroup": "True",
         "hovertemplate": "layer=head.conv_layers.1.weight.(120, 30, 2)<br>block=%{x}<br>Log10_ParaM=%{y}<extra></extra>",
         "legendgroup": "head.conv_layers.1.weight.(120, 30, 2)",
         "marker": {
          "color": "#ab63fa",
          "pattern": {
           "shape": ""
          }
         },
         "name": "head.conv_layers.1.weight.(120, 30, 2)",
         "offsetgroup": "head.conv_layers.1.weight.(120, 30, 2)",
         "orientation": "v",
         "showlegend": true,
         "textposition": "auto",
         "type": "bar",
         "x": [
          "head"
         ],
         "xaxis": "x",
         "y": [
          7200
         ],
         "yaxis": "y"
        }
       ],
       "layout": {
        "barmode": "relative",
        "height": 600,
        "legend": {
         "title": {
          "text": "layer"
         },
         "tracegroupgap": 0
        },
        "showlegend": false,
        "template": {
         "data": {
          "bar": [
           {
            "error_x": {
             "color": "#2a3f5f"
            },
            "error_y": {
             "color": "#2a3f5f"
            },
            "marker": {
             "line": {
              "color": "#E5ECF6",
              "width": 0.5
             },
             "pattern": {
              "fillmode": "overlay",
              "size": 10,
              "solidity": 0.2
             }
            },
            "type": "bar"
           }
          ],
          "barpolar": [
           {
            "marker": {
             "line": {
              "color": "#E5ECF6",
              "width": 0.5
             },
             "pattern": {
              "fillmode": "overlay",
              "size": 10,
              "solidity": 0.2
             }
            },
            "type": "barpolar"
           }
          ],
          "carpet": [
           {
            "aaxis": {
             "endlinecolor": "#2a3f5f",
             "gridcolor": "white",
             "linecolor": "white",
             "minorgridcolor": "white",
             "startlinecolor": "#2a3f5f"
            },
            "baxis": {
             "endlinecolor": "#2a3f5f",
             "gridcolor": "white",
             "linecolor": "white",
             "minorgridcolor": "white",
             "startlinecolor": "#2a3f5f"
            },
            "type": "carpet"
           }
          ],
          "choropleth": [
           {
            "colorbar": {
             "outlinewidth": 0,
             "ticks": ""
            },
            "type": "choropleth"
           }
          ],
          "contour": [
           {
            "colorbar": {
             "outlinewidth": 0,
             "ticks": ""
            },
            "colorscale": [
             [
              0,
              "#0d0887"
             ],
             [
              0.1111111111111111,
              "#46039f"
             ],
             [
              0.2222222222222222,
              "#7201a8"
             ],
             [
              0.3333333333333333,
              "#9c179e"
             ],
             [
              0.4444444444444444,
              "#bd3786"
             ],
             [
              0.5555555555555556,
              "#d8576b"
             ],
             [
              0.6666666666666666,
              "#ed7953"
             ],
             [
              0.7777777777777778,
              "#fb9f3a"
             ],
             [
              0.8888888888888888,
              "#fdca26"
             ],
             [
              1,
              "#f0f921"
             ]
            ],
            "type": "contour"
           }
          ],
          "contourcarpet": [
           {
            "colorbar": {
             "outlinewidth": 0,
             "ticks": ""
            },
            "type": "contourcarpet"
           }
          ],
          "heatmap": [
           {
            "colorbar": {
             "outlinewidth": 0,
             "ticks": ""
            },
            "colorscale": [
             [
              0,
              "#0d0887"
             ],
             [
              0.1111111111111111,
              "#46039f"
             ],
             [
              0.2222222222222222,
              "#7201a8"
             ],
             [
              0.3333333333333333,
              "#9c179e"
             ],
             [
              0.4444444444444444,
              "#bd3786"
             ],
             [
              0.5555555555555556,
              "#d8576b"
             ],
             [
              0.6666666666666666,
              "#ed7953"
             ],
             [
              0.7777777777777778,
              "#fb9f3a"
             ],
             [
              0.8888888888888888,
              "#fdca26"
             ],
             [
              1,
              "#f0f921"
             ]
            ],
            "type": "heatmap"
           }
          ],
          "heatmapgl": [
           {
            "colorbar": {
             "outlinewidth": 0,
             "ticks": ""
            },
            "colorscale": [
             [
              0,
              "#0d0887"
             ],
             [
              0.1111111111111111,
              "#46039f"
             ],
             [
              0.2222222222222222,
              "#7201a8"
             ],
             [
              0.3333333333333333,
              "#9c179e"
             ],
             [
              0.4444444444444444,
              "#bd3786"
             ],
             [
              0.5555555555555556,
              "#d8576b"
             ],
             [
              0.6666666666666666,
              "#ed7953"
             ],
             [
              0.7777777777777778,
              "#fb9f3a"
             ],
             [
              0.8888888888888888,
              "#fdca26"
             ],
             [
              1,
              "#f0f921"
             ]
            ],
            "type": "heatmapgl"
           }
          ],
          "histogram": [
           {
            "marker": {
             "pattern": {
              "fillmode": "overlay",
              "size": 10,
              "solidity": 0.2
             }
            },
            "type": "histogram"
           }
          ],
          "histogram2d": [
           {
            "colorbar": {
             "outlinewidth": 0,
             "ticks": ""
            },
            "colorscale": [
             [
              0,
              "#0d0887"
             ],
             [
              0.1111111111111111,
              "#46039f"
             ],
             [
              0.2222222222222222,
              "#7201a8"
             ],
             [
              0.3333333333333333,
              "#9c179e"
             ],
             [
              0.4444444444444444,
              "#bd3786"
             ],
             [
              0.5555555555555556,
              "#d8576b"
             ],
             [
              0.6666666666666666,
              "#ed7953"
             ],
             [
              0.7777777777777778,
              "#fb9f3a"
             ],
             [
              0.8888888888888888,
              "#fdca26"
             ],
             [
              1,
              "#f0f921"
             ]
            ],
            "type": "histogram2d"
           }
          ],
          "histogram2dcontour": [
           {
            "colorbar": {
             "outlinewidth": 0,
             "ticks": ""
            },
            "colorscale": [
             [
              0,
              "#0d0887"
             ],
             [
              0.1111111111111111,
              "#46039f"
             ],
             [
              0.2222222222222222,
              "#7201a8"
             ],
             [
              0.3333333333333333,
              "#9c179e"
             ],
             [
              0.4444444444444444,
              "#bd3786"
             ],
             [
              0.5555555555555556,
              "#d8576b"
             ],
             [
              0.6666666666666666,
              "#ed7953"
             ],
             [
              0.7777777777777778,
              "#fb9f3a"
             ],
             [
              0.8888888888888888,
              "#fdca26"
             ],
             [
              1,
              "#f0f921"
             ]
            ],
            "type": "histogram2dcontour"
           }
          ],
          "mesh3d": [
           {
            "colorbar": {
             "outlinewidth": 0,
             "ticks": ""
            },
            "type": "mesh3d"
           }
          ],
          "parcoords": [
           {
            "line": {
             "colorbar": {
              "outlinewidth": 0,
              "ticks": ""
             }
            },
            "type": "parcoords"
           }
          ],
          "pie": [
           {
            "automargin": true,
            "type": "pie"
           }
          ],
          "scatter": [
           {
            "fillpattern": {
             "fillmode": "overlay",
             "size": 10,
             "solidity": 0.2
            },
            "type": "scatter"
           }
          ],
          "scatter3d": [
           {
            "line": {
             "colorbar": {
              "outlinewidth": 0,
              "ticks": ""
             }
            },
            "marker": {
             "colorbar": {
              "outlinewidth": 0,
              "ticks": ""
             }
            },
            "type": "scatter3d"
           }
          ],
          "scattercarpet": [
           {
            "marker": {
             "colorbar": {
              "outlinewidth": 0,
              "ticks": ""
             }
            },
            "type": "scattercarpet"
           }
          ],
          "scattergeo": [
           {
            "marker": {
             "colorbar": {
              "outlinewidth": 0,
              "ticks": ""
             }
            },
            "type": "scattergeo"
           }
          ],
          "scattergl": [
           {
            "marker": {
             "colorbar": {
              "outlinewidth": 0,
              "ticks": ""
             }
            },
            "type": "scattergl"
           }
          ],
          "scattermapbox": [
           {
            "marker": {
             "colorbar": {
              "outlinewidth": 0,
              "ticks": ""
             }
            },
            "type": "scattermapbox"
           }
          ],
          "scatterpolar": [
           {
            "marker": {
             "colorbar": {
              "outlinewidth": 0,
              "ticks": ""
             }
            },
            "type": "scatterpolar"
           }
          ],
          "scatterpolargl": [
           {
            "marker": {
             "colorbar": {
              "outlinewidth": 0,
              "ticks": ""
             }
            },
            "type": "scatterpolargl"
           }
          ],
          "scatterternary": [
           {
            "marker": {
             "colorbar": {
              "outlinewidth": 0,
              "ticks": ""
             }
            },
            "type": "scatterternary"
           }
          ],
          "surface": [
           {
            "colorbar": {
             "outlinewidth": 0,
             "ticks": ""
            },
            "colorscale": [
             [
              0,
              "#0d0887"
             ],
             [
              0.1111111111111111,
              "#46039f"
             ],
             [
              0.2222222222222222,
              "#7201a8"
             ],
             [
              0.3333333333333333,
              "#9c179e"
             ],
             [
              0.4444444444444444,
              "#bd3786"
             ],
             [
              0.5555555555555556,
              "#d8576b"
             ],
             [
              0.6666666666666666,
              "#ed7953"
             ],
             [
              0.7777777777777778,
              "#fb9f3a"
             ],
             [
              0.8888888888888888,
              "#fdca26"
             ],
             [
              1,
              "#f0f921"
             ]
            ],
            "type": "surface"
           }
          ],
          "table": [
           {
            "cells": {
             "fill": {
              "color": "#EBF0F8"
             },
             "line": {
              "color": "white"
             }
            },
            "header": {
             "fill": {
              "color": "#C8D4E3"
             },
             "line": {
              "color": "white"
             }
            },
            "type": "table"
           }
          ]
         },
         "layout": {
          "annotationdefaults": {
           "arrowcolor": "#2a3f5f",
           "arrowhead": 0,
           "arrowwidth": 1
          },
          "autotypenumbers": "strict",
          "coloraxis": {
           "colorbar": {
            "outlinewidth": 0,
            "ticks": ""
           }
          },
          "colorscale": {
           "diverging": [
            [
             0,
             "#8e0152"
            ],
            [
             0.1,
             "#c51b7d"
            ],
            [
             0.2,
             "#de77ae"
            ],
            [
             0.3,
             "#f1b6da"
            ],
            [
             0.4,
             "#fde0ef"
            ],
            [
             0.5,
             "#f7f7f7"
            ],
            [
             0.6,
             "#e6f5d0"
            ],
            [
             0.7,
             "#b8e186"
            ],
            [
             0.8,
             "#7fbc41"
            ],
            [
             0.9,
             "#4d9221"
            ],
            [
             1,
             "#276419"
            ]
           ],
           "sequential": [
            [
             0,
             "#0d0887"
            ],
            [
             0.1111111111111111,
             "#46039f"
            ],
            [
             0.2222222222222222,
             "#7201a8"
            ],
            [
             0.3333333333333333,
             "#9c179e"
            ],
            [
             0.4444444444444444,
             "#bd3786"
            ],
            [
             0.5555555555555556,
             "#d8576b"
            ],
            [
             0.6666666666666666,
             "#ed7953"
            ],
            [
             0.7777777777777778,
             "#fb9f3a"
            ],
            [
             0.8888888888888888,
             "#fdca26"
            ],
            [
             1,
             "#f0f921"
            ]
           ],
           "sequentialminus": [
            [
             0,
             "#0d0887"
            ],
            [
             0.1111111111111111,
             "#46039f"
            ],
            [
             0.2222222222222222,
             "#7201a8"
            ],
            [
             0.3333333333333333,
             "#9c179e"
            ],
            [
             0.4444444444444444,
             "#bd3786"
            ],
            [
             0.5555555555555556,
             "#d8576b"
            ],
            [
             0.6666666666666666,
             "#ed7953"
            ],
            [
             0.7777777777777778,
             "#fb9f3a"
            ],
            [
             0.8888888888888888,
             "#fdca26"
            ],
            [
             1,
             "#f0f921"
            ]
           ]
          },
          "colorway": [
           "#636efa",
           "#EF553B",
           "#00cc96",
           "#ab63fa",
           "#FFA15A",
           "#19d3f3",
           "#FF6692",
           "#B6E880",
           "#FF97FF",
           "#FECB52"
          ],
          "font": {
           "color": "#2a3f5f"
          },
          "geo": {
           "bgcolor": "white",
           "lakecolor": "white",
           "landcolor": "#E5ECF6",
           "showlakes": true,
           "showland": true,
           "subunitcolor": "white"
          },
          "hoverlabel": {
           "align": "left"
          },
          "hovermode": "closest",
          "mapbox": {
           "style": "light"
          },
          "paper_bgcolor": "white",
          "plot_bgcolor": "#E5ECF6",
          "polar": {
           "angularaxis": {
            "gridcolor": "white",
            "linecolor": "white",
            "ticks": ""
           },
           "bgcolor": "#E5ECF6",
           "radialaxis": {
            "gridcolor": "white",
            "linecolor": "white",
            "ticks": ""
           }
          },
          "scene": {
           "xaxis": {
            "backgroundcolor": "#E5ECF6",
            "gridcolor": "white",
            "gridwidth": 2,
            "linecolor": "white",
            "showbackground": true,
            "ticks": "",
            "zerolinecolor": "white"
           },
           "yaxis": {
            "backgroundcolor": "#E5ECF6",
            "gridcolor": "white",
            "gridwidth": 2,
            "linecolor": "white",
            "showbackground": true,
            "ticks": "",
            "zerolinecolor": "white"
           },
           "zaxis": {
            "backgroundcolor": "#E5ECF6",
            "gridcolor": "white",
            "gridwidth": 2,
            "linecolor": "white",
            "showbackground": true,
            "ticks": "",
            "zerolinecolor": "white"
           }
          },
          "shapedefaults": {
           "line": {
            "color": "#2a3f5f"
           }
          },
          "ternary": {
           "aaxis": {
            "gridcolor": "white",
            "linecolor": "white",
            "ticks": ""
           },
           "baxis": {
            "gridcolor": "white",
            "linecolor": "white",
            "ticks": ""
           },
           "bgcolor": "#E5ECF6",
           "caxis": {
            "gridcolor": "white",
            "linecolor": "white",
            "ticks": ""
           }
          },
          "title": {
           "x": 0.05
          },
          "xaxis": {
           "automargin": true,
           "gridcolor": "white",
           "linecolor": "white",
           "ticks": "",
           "title": {
            "standoff": 15
           },
           "zerolinecolor": "white",
           "zerolinewidth": 2
          },
          "yaxis": {
           "automargin": true,
           "gridcolor": "white",
           "linecolor": "white",
           "ticks": "",
           "title": {
            "standoff": 15
           },
           "zerolinecolor": "white",
           "zerolinewidth": 2
          }
         }
        },
        "title": {
         "text": "My plot"
        },
        "xaxis": {
         "anchor": "y",
         "domain": [
          0,
          1
         ],
         "title": {
          "text": "block"
         }
        },
        "yaxis": {
         "anchor": "x",
         "domain": [
          0,
          1
         ],
         "title": {
          "text": "Log10_ParaM"
         }
        }
       }
      },
      "text/html": [
       "<div>                            <div id=\"da5d84ba-ce60-4c2d-bfc8-9b01512b780a\" class=\"plotly-graph-div\" style=\"height:600px; width:100%;\"></div>            <script type=\"text/javascript\">                require([\"plotly\"], function(Plotly) {                    window.PLOTLYENV=window.PLOTLYENV || {};                                    if (document.getElementById(\"da5d84ba-ce60-4c2d-bfc8-9b01512b780a\")) {                    Plotly.newPlot(                        \"da5d84ba-ce60-4c2d-bfc8-9b01512b780a\",                        [{\"alignmentgroup\":\"True\",\"hovertemplate\":\"layer=pos_embed.(1, 512, 768)<br>block=%{x}<br>Log10_ParaM=%{y}<extra></extra>\",\"legendgroup\":\"pos_embed.(1, 512, 768)\",\"marker\":{\"color\":\"#636efa\",\"pattern\":{\"shape\":\"\"}},\"name\":\"pos_embed.(1, 512, 768)\",\"offsetgroup\":\"pos_embed.(1, 512, 768)\",\"orientation\":\"v\",\"showlegend\":true,\"textposition\":\"auto\",\"x\":[\"pos_embed\"],\"xaxis\":\"x\",\"y\":[393216],\"yaxis\":\"y\",\"type\":\"bar\"},{\"alignmentgroup\":\"True\",\"hovertemplate\":\"layer=reduce_Field_coef.(1,)<br>block=%{x}<br>Log10_ParaM=%{y}<extra></extra>\",\"legendgroup\":\"reduce_Field_coef.(1,)\",\"marker\":{\"color\":\"#EF553B\",\"pattern\":{\"shape\":\"\"}},\"name\":\"reduce_Field_coef.(1,)\",\"offsetgroup\":\"reduce_Field_coef.(1,)\",\"orientation\":\"v\",\"showlegend\":true,\"textposition\":\"auto\",\"x\":[\"reduce_Field_coef\"],\"xaxis\":\"x\",\"y\":[1],\"yaxis\":\"y\",\"type\":\"bar\"},{\"alignmentgroup\":\"True\",\"hovertemplate\":\"layer=patch_embed.proj.conv_layers.0.weight.(768, 30, 2)<br>block=%{x}<br>Log10_ParaM=%{y}<extra></extra>\",\"legendgroup\":\"patch_embed.proj.conv_layers.0.weight.(768, 30, 2)\",\"marker\":{\"color\":\"#00cc96\",\"pattern\":{\"shape\":\"\"}},\"name\":\"patch_embed.proj.conv_layers.0.weight.(768, 30, 2)\",\"offsetgroup\":\"patch_embed.proj.conv_layers.0.weight.(768, 30, 2)\",\"orientation\":\"v\",\"showlegend\":true,\"textposition\":\"auto\",\"x\":[\"patch_embed\"],\"xaxis\":\"x\",\"y\":[46080],\"yaxis\":\"y\",\"type\":\"bar\"},{\"alignmentgroup\":\"True\",\"hovertemplate\":\"layer=patch_embed.proj.conv_layers.1.weight.(768, 30, 2)<br>block=%{x}<br>Log10_ParaM=%{y}<extra></extra>\",\"legendgroup\":\"patch_embed.proj.conv_layers.1.weight.(768, 30, 2)\",\"marker\":{\"color\":\"#ab63fa\",\"pattern\":{\"shape\":\"\"}},\"name\":\"patch_embed.proj.conv_layers.1.weight.(768, 30, 2)\",\"offsetgroup\":\"patch_embed.proj.conv_layers.1.weight.(768, 30, 2)\",\"orientation\":\"v\",\"showlegend\":true,\"textposition\":\"auto\",\"x\":[\"patch_embed\"],\"xaxis\":\"x\",\"y\":[46080],\"yaxis\":\"y\",\"type\":\"bar\"},{\"alignmentgroup\":\"True\",\"hovertemplate\":\"layer=blocks.0.norm1.weight.(768,)<br>block=%{x}<br>Log10_ParaM=%{y}<extra></extra>\",\"legendgroup\":\"blocks.0.norm1.weight.(768,)\",\"marker\":{\"color\":\"#FFA15A\",\"pattern\":{\"shape\":\"\"}},\"name\":\"blocks.0.norm1.weight.(768,)\",\"offsetgroup\":\"blocks.0.norm1.weight.(768,)\",\"orientation\":\"v\",\"showlegend\":true,\"textposition\":\"auto\",\"x\":[\"blocks\"],\"xaxis\":\"x\",\"y\":[768],\"yaxis\":\"y\",\"type\":\"bar\"},{\"alignmentgroup\":\"True\",\"hovertemplate\":\"layer=blocks.0.norm1.bias.(768,)<br>block=%{x}<br>Log10_ParaM=%{y}<extra></extra>\",\"legendgroup\":\"blocks.0.norm1.bias.(768,)\",\"marker\":{\"color\":\"#19d3f3\",\"pattern\":{\"shape\":\"\"}},\"name\":\"blocks.0.norm1.bias.(768,)\",\"offsetgroup\":\"blocks.0.norm1.bias.(768,)\",\"orientation\":\"v\",\"showlegend\":true,\"textposition\":\"auto\",\"x\":[\"blocks\"],\"xaxis\":\"x\",\"y\":[768],\"yaxis\":\"y\",\"type\":\"bar\"},{\"alignmentgroup\":\"True\",\"hovertemplate\":\"layer=blocks.0.filter.w1.(2, 4, 192, 192)<br>block=%{x}<br>Log10_ParaM=%{y}<extra></extra>\",\"legendgroup\":\"blocks.0.filter.w1.(2, 4, 192, 192)\",\"marker\":{\"color\":\"#FF6692\",\"pattern\":{\"shape\":\"\"}},\"name\":\"blocks.0.filter.w1.(2, 4, 192, 192)\",\"offsetgroup\":\"blocks.0.filter.w1.(2, 4, 192, 192)\",\"orientation\":\"v\",\"showlegend\":true,\"textposition\":\"auto\",\"x\":[\"blocks\"],\"xaxis\":\"x\",\"y\":[294912],\"yaxis\":\"y\",\"type\":\"bar\"},{\"alignmentgroup\":\"True\",\"hovertemplate\":\"layer=blocks.0.filter.b1.(2, 4, 192)<br>block=%{x}<br>Log10_ParaM=%{y}<extra></extra>\",\"legendgroup\":\"blocks.0.filter.b1.(2, 4, 192)\",\"marker\":{\"color\":\"#B6E880\",\"pattern\":{\"shape\":\"\"}},\"name\":\"blocks.0.filter.b1.(2, 4, 192)\",\"offsetgroup\":\"blocks.0.filter.b1.(2, 4, 192)\",\"orientation\":\"v\",\"showlegend\":true,\"textposition\":\"auto\",\"x\":[\"blocks\"],\"xaxis\":\"x\",\"y\":[1536],\"yaxis\":\"y\",\"type\":\"bar\"},{\"alignmentgroup\":\"True\",\"hovertemplate\":\"layer=blocks.0.filter.w2.(2, 4, 192, 192)<br>block=%{x}<br>Log10_ParaM=%{y}<extra></extra>\",\"legendgroup\":\"blocks.0.filter.w2.(2, 4, 192, 192)\",\"marker\":{\"color\":\"#FF97FF\",\"pattern\":{\"shape\":\"\"}},\"name\":\"blocks.0.filter.w2.(2, 4, 192, 192)\",\"offsetgroup\":\"blocks.0.filter.w2.(2, 4, 192, 192)\",\"orientation\":\"v\",\"showlegend\":true,\"textposition\":\"auto\",\"x\":[\"blocks\"],\"xaxis\":\"x\",\"y\":[294912],\"yaxis\":\"y\",\"type\":\"bar\"},{\"alignmentgroup\":\"True\",\"hovertemplate\":\"layer=blocks.0.filter.b2.(2, 4, 192)<br>block=%{x}<br>Log10_ParaM=%{y}<extra></extra>\",\"legendgroup\":\"blocks.0.filter.b2.(2, 4, 192)\",\"marker\":{\"color\":\"#FECB52\",\"pattern\":{\"shape\":\"\"}},\"name\":\"blocks.0.filter.b2.(2, 4, 192)\",\"offsetgroup\":\"blocks.0.filter.b2.(2, 4, 192)\",\"orientation\":\"v\",\"showlegend\":true,\"textposition\":\"auto\",\"x\":[\"blocks\"],\"xaxis\":\"x\",\"y\":[1536],\"yaxis\":\"y\",\"type\":\"bar\"},{\"alignmentgroup\":\"True\",\"hovertemplate\":\"layer=blocks.0.norm2.weight.(768,)<br>block=%{x}<br>Log10_ParaM=%{y}<extra></extra>\",\"legendgroup\":\"blocks.0.norm2.weight.(768,)\",\"marker\":{\"color\":\"#636efa\",\"pattern\":{\"shape\":\"\"}},\"name\":\"blocks.0.norm2.weight.(768,)\",\"offsetgroup\":\"blocks.0.norm2.weight.(768,)\",\"orientation\":\"v\",\"showlegend\":true,\"textposition\":\"auto\",\"x\":[\"blocks\"],\"xaxis\":\"x\",\"y\":[768],\"yaxis\":\"y\",\"type\":\"bar\"},{\"alignmentgroup\":\"True\",\"hovertemplate\":\"layer=blocks.0.norm2.bias.(768,)<br>block=%{x}<br>Log10_ParaM=%{y}<extra></extra>\",\"legendgroup\":\"blocks.0.norm2.bias.(768,)\",\"marker\":{\"color\":\"#EF553B\",\"pattern\":{\"shape\":\"\"}},\"name\":\"blocks.0.norm2.bias.(768,)\",\"offsetgroup\":\"blocks.0.norm2.bias.(768,)\",\"orientation\":\"v\",\"showlegend\":true,\"textposition\":\"auto\",\"x\":[\"blocks\"],\"xaxis\":\"x\",\"y\":[768],\"yaxis\":\"y\",\"type\":\"bar\"},{\"alignmentgroup\":\"True\",\"hovertemplate\":\"layer=blocks.0.mlp.fc1.weight.(3072, 768)<br>block=%{x}<br>Log10_ParaM=%{y}<extra></extra>\",\"legendgroup\":\"blocks.0.mlp.fc1.weight.(3072, 768)\",\"marker\":{\"color\":\"#00cc96\",\"pattern\":{\"shape\":\"\"}},\"name\":\"blocks.0.mlp.fc1.weight.(3072, 768)\",\"offsetgroup\":\"blocks.0.mlp.fc1.weight.(3072, 768)\",\"orientation\":\"v\",\"showlegend\":true,\"textposition\":\"auto\",\"x\":[\"blocks\"],\"xaxis\":\"x\",\"y\":[2359296],\"yaxis\":\"y\",\"type\":\"bar\"},{\"alignmentgroup\":\"True\",\"hovertemplate\":\"layer=blocks.0.mlp.fc1.bias.(3072,)<br>block=%{x}<br>Log10_ParaM=%{y}<extra></extra>\",\"legendgroup\":\"blocks.0.mlp.fc1.bias.(3072,)\",\"marker\":{\"color\":\"#ab63fa\",\"pattern\":{\"shape\":\"\"}},\"name\":\"blocks.0.mlp.fc1.bias.(3072,)\",\"offsetgroup\":\"blocks.0.mlp.fc1.bias.(3072,)\",\"orientation\":\"v\",\"showlegend\":true,\"textposition\":\"auto\",\"x\":[\"blocks\"],\"xaxis\":\"x\",\"y\":[3072],\"yaxis\":\"y\",\"type\":\"bar\"},{\"alignmentgroup\":\"True\",\"hovertemplate\":\"layer=blocks.1.norm1.weight.(768,)<br>block=%{x}<br>Log10_ParaM=%{y}<extra></extra>\",\"legendgroup\":\"blocks.1.norm1.weight.(768,)\",\"marker\":{\"color\":\"#FFA15A\",\"pattern\":{\"shape\":\"\"}},\"name\":\"blocks.1.norm1.weight.(768,)\",\"offsetgroup\":\"blocks.1.norm1.weight.(768,)\",\"orientation\":\"v\",\"showlegend\":true,\"textposition\":\"auto\",\"x\":[\"blocks\"],\"xaxis\":\"x\",\"y\":[768],\"yaxis\":\"y\",\"type\":\"bar\"},{\"alignmentgroup\":\"True\",\"hovertemplate\":\"layer=blocks.1.norm1.bias.(768,)<br>block=%{x}<br>Log10_ParaM=%{y}<extra></extra>\",\"legendgroup\":\"blocks.1.norm1.bias.(768,)\",\"marker\":{\"color\":\"#19d3f3\",\"pattern\":{\"shape\":\"\"}},\"name\":\"blocks.1.norm1.bias.(768,)\",\"offsetgroup\":\"blocks.1.norm1.bias.(768,)\",\"orientation\":\"v\",\"showlegend\":true,\"textposition\":\"auto\",\"x\":[\"blocks\"],\"xaxis\":\"x\",\"y\":[768],\"yaxis\":\"y\",\"type\":\"bar\"},{\"alignmentgroup\":\"True\",\"hovertemplate\":\"layer=blocks.1.filter.w1.(2, 4, 192, 192)<br>block=%{x}<br>Log10_ParaM=%{y}<extra></extra>\",\"legendgroup\":\"blocks.1.filter.w1.(2, 4, 192, 192)\",\"marker\":{\"color\":\"#FF6692\",\"pattern\":{\"shape\":\"\"}},\"name\":\"blocks.1.filter.w1.(2, 4, 192, 192)\",\"offsetgroup\":\"blocks.1.filter.w1.(2, 4, 192, 192)\",\"orientation\":\"v\",\"showlegend\":true,\"textposition\":\"auto\",\"x\":[\"blocks\"],\"xaxis\":\"x\",\"y\":[294912],\"yaxis\":\"y\",\"type\":\"bar\"},{\"alignmentgroup\":\"True\",\"hovertemplate\":\"layer=blocks.1.filter.b1.(2, 4, 192)<br>block=%{x}<br>Log10_ParaM=%{y}<extra></extra>\",\"legendgroup\":\"blocks.1.filter.b1.(2, 4, 192)\",\"marker\":{\"color\":\"#B6E880\",\"pattern\":{\"shape\":\"\"}},\"name\":\"blocks.1.filter.b1.(2, 4, 192)\",\"offsetgroup\":\"blocks.1.filter.b1.(2, 4, 192)\",\"orientation\":\"v\",\"showlegend\":true,\"textposition\":\"auto\",\"x\":[\"blocks\"],\"xaxis\":\"x\",\"y\":[1536],\"yaxis\":\"y\",\"type\":\"bar\"},{\"alignmentgroup\":\"True\",\"hovertemplate\":\"layer=blocks.1.filter.w2.(2, 4, 192, 192)<br>block=%{x}<br>Log10_ParaM=%{y}<extra></extra>\",\"legendgroup\":\"blocks.1.filter.w2.(2, 4, 192, 192)\",\"marker\":{\"color\":\"#FF97FF\",\"pattern\":{\"shape\":\"\"}},\"name\":\"blocks.1.filter.w2.(2, 4, 192, 192)\",\"offsetgroup\":\"blocks.1.filter.w2.(2, 4, 192, 192)\",\"orientation\":\"v\",\"showlegend\":true,\"textposition\":\"auto\",\"x\":[\"blocks\"],\"xaxis\":\"x\",\"y\":[294912],\"yaxis\":\"y\",\"type\":\"bar\"},{\"alignmentgroup\":\"True\",\"hovertemplate\":\"layer=blocks.1.filter.b2.(2, 4, 192)<br>block=%{x}<br>Log10_ParaM=%{y}<extra></extra>\",\"legendgroup\":\"blocks.1.filter.b2.(2, 4, 192)\",\"marker\":{\"color\":\"#FECB52\",\"pattern\":{\"shape\":\"\"}},\"name\":\"blocks.1.filter.b2.(2, 4, 192)\",\"offsetgroup\":\"blocks.1.filter.b2.(2, 4, 192)\",\"orientation\":\"v\",\"showlegend\":true,\"textposition\":\"auto\",\"x\":[\"blocks\"],\"xaxis\":\"x\",\"y\":[1536],\"yaxis\":\"y\",\"type\":\"bar\"},{\"alignmentgroup\":\"True\",\"hovertemplate\":\"layer=blocks.1.norm2.weight.(768,)<br>block=%{x}<br>Log10_ParaM=%{y}<extra></extra>\",\"legendgroup\":\"blocks.1.norm2.weight.(768,)\",\"marker\":{\"color\":\"#636efa\",\"pattern\":{\"shape\":\"\"}},\"name\":\"blocks.1.norm2.weight.(768,)\",\"offsetgroup\":\"blocks.1.norm2.weight.(768,)\",\"orientation\":\"v\",\"showlegend\":true,\"textposition\":\"auto\",\"x\":[\"blocks\"],\"xaxis\":\"x\",\"y\":[768],\"yaxis\":\"y\",\"type\":\"bar\"},{\"alignmentgroup\":\"True\",\"hovertemplate\":\"layer=blocks.1.norm2.bias.(768,)<br>block=%{x}<br>Log10_ParaM=%{y}<extra></extra>\",\"legendgroup\":\"blocks.1.norm2.bias.(768,)\",\"marker\":{\"color\":\"#EF553B\",\"pattern\":{\"shape\":\"\"}},\"name\":\"blocks.1.norm2.bias.(768,)\",\"offsetgroup\":\"blocks.1.norm2.bias.(768,)\",\"orientation\":\"v\",\"showlegend\":true,\"textposition\":\"auto\",\"x\":[\"blocks\"],\"xaxis\":\"x\",\"y\":[768],\"yaxis\":\"y\",\"type\":\"bar\"},{\"alignmentgroup\":\"True\",\"hovertemplate\":\"layer=blocks.1.mlp.fc1.weight.(3072, 768)<br>block=%{x}<br>Log10_ParaM=%{y}<extra></extra>\",\"legendgroup\":\"blocks.1.mlp.fc1.weight.(3072, 768)\",\"marker\":{\"color\":\"#00cc96\",\"pattern\":{\"shape\":\"\"}},\"name\":\"blocks.1.mlp.fc1.weight.(3072, 768)\",\"offsetgroup\":\"blocks.1.mlp.fc1.weight.(3072, 768)\",\"orientation\":\"v\",\"showlegend\":true,\"textposition\":\"auto\",\"x\":[\"blocks\"],\"xaxis\":\"x\",\"y\":[2359296],\"yaxis\":\"y\",\"type\":\"bar\"},{\"alignmentgroup\":\"True\",\"hovertemplate\":\"layer=blocks.1.mlp.fc1.bias.(3072,)<br>block=%{x}<br>Log10_ParaM=%{y}<extra></extra>\",\"legendgroup\":\"blocks.1.mlp.fc1.bias.(3072,)\",\"marker\":{\"color\":\"#ab63fa\",\"pattern\":{\"shape\":\"\"}},\"name\":\"blocks.1.mlp.fc1.bias.(3072,)\",\"offsetgroup\":\"blocks.1.mlp.fc1.bias.(3072,)\",\"orientation\":\"v\",\"showlegend\":true,\"textposition\":\"auto\",\"x\":[\"blocks\"],\"xaxis\":\"x\",\"y\":[3072],\"yaxis\":\"y\",\"type\":\"bar\"},{\"alignmentgroup\":\"True\",\"hovertemplate\":\"layer=blocks.2.norm1.weight.(768,)<br>block=%{x}<br>Log10_ParaM=%{y}<extra></extra>\",\"legendgroup\":\"blocks.2.norm1.weight.(768,)\",\"marker\":{\"color\":\"#FFA15A\",\"pattern\":{\"shape\":\"\"}},\"name\":\"blocks.2.norm1.weight.(768,)\",\"offsetgroup\":\"blocks.2.norm1.weight.(768,)\",\"orientation\":\"v\",\"showlegend\":true,\"textposition\":\"auto\",\"x\":[\"blocks\"],\"xaxis\":\"x\",\"y\":[768],\"yaxis\":\"y\",\"type\":\"bar\"},{\"alignmentgroup\":\"True\",\"hovertemplate\":\"layer=blocks.2.norm1.bias.(768,)<br>block=%{x}<br>Log10_ParaM=%{y}<extra></extra>\",\"legendgroup\":\"blocks.2.norm1.bias.(768,)\",\"marker\":{\"color\":\"#19d3f3\",\"pattern\":{\"shape\":\"\"}},\"name\":\"blocks.2.norm1.bias.(768,)\",\"offsetgroup\":\"blocks.2.norm1.bias.(768,)\",\"orientation\":\"v\",\"showlegend\":true,\"textposition\":\"auto\",\"x\":[\"blocks\"],\"xaxis\":\"x\",\"y\":[768],\"yaxis\":\"y\",\"type\":\"bar\"},{\"alignmentgroup\":\"True\",\"hovertemplate\":\"layer=blocks.2.filter.w1.(2, 4, 192, 192)<br>block=%{x}<br>Log10_ParaM=%{y}<extra></extra>\",\"legendgroup\":\"blocks.2.filter.w1.(2, 4, 192, 192)\",\"marker\":{\"color\":\"#FF6692\",\"pattern\":{\"shape\":\"\"}},\"name\":\"blocks.2.filter.w1.(2, 4, 192, 192)\",\"offsetgroup\":\"blocks.2.filter.w1.(2, 4, 192, 192)\",\"orientation\":\"v\",\"showlegend\":true,\"textposition\":\"auto\",\"x\":[\"blocks\"],\"xaxis\":\"x\",\"y\":[294912],\"yaxis\":\"y\",\"type\":\"bar\"},{\"alignmentgroup\":\"True\",\"hovertemplate\":\"layer=blocks.2.filter.b1.(2, 4, 192)<br>block=%{x}<br>Log10_ParaM=%{y}<extra></extra>\",\"legendgroup\":\"blocks.2.filter.b1.(2, 4, 192)\",\"marker\":{\"color\":\"#B6E880\",\"pattern\":{\"shape\":\"\"}},\"name\":\"blocks.2.filter.b1.(2, 4, 192)\",\"offsetgroup\":\"blocks.2.filter.b1.(2, 4, 192)\",\"orientation\":\"v\",\"showlegend\":true,\"textposition\":\"auto\",\"x\":[\"blocks\"],\"xaxis\":\"x\",\"y\":[1536],\"yaxis\":\"y\",\"type\":\"bar\"},{\"alignmentgroup\":\"True\",\"hovertemplate\":\"layer=blocks.2.filter.w2.(2, 4, 192, 192)<br>block=%{x}<br>Log10_ParaM=%{y}<extra></extra>\",\"legendgroup\":\"blocks.2.filter.w2.(2, 4, 192, 192)\",\"marker\":{\"color\":\"#FF97FF\",\"pattern\":{\"shape\":\"\"}},\"name\":\"blocks.2.filter.w2.(2, 4, 192, 192)\",\"offsetgroup\":\"blocks.2.filter.w2.(2, 4, 192, 192)\",\"orientation\":\"v\",\"showlegend\":true,\"textposition\":\"auto\",\"x\":[\"blocks\"],\"xaxis\":\"x\",\"y\":[294912],\"yaxis\":\"y\",\"type\":\"bar\"},{\"alignmentgroup\":\"True\",\"hovertemplate\":\"layer=blocks.2.filter.b2.(2, 4, 192)<br>block=%{x}<br>Log10_ParaM=%{y}<extra></extra>\",\"legendgroup\":\"blocks.2.filter.b2.(2, 4, 192)\",\"marker\":{\"color\":\"#FECB52\",\"pattern\":{\"shape\":\"\"}},\"name\":\"blocks.2.filter.b2.(2, 4, 192)\",\"offsetgroup\":\"blocks.2.filter.b2.(2, 4, 192)\",\"orientation\":\"v\",\"showlegend\":true,\"textposition\":\"auto\",\"x\":[\"blocks\"],\"xaxis\":\"x\",\"y\":[1536],\"yaxis\":\"y\",\"type\":\"bar\"},{\"alignmentgroup\":\"True\",\"hovertemplate\":\"layer=blocks.2.norm2.weight.(768,)<br>block=%{x}<br>Log10_ParaM=%{y}<extra></extra>\",\"legendgroup\":\"blocks.2.norm2.weight.(768,)\",\"marker\":{\"color\":\"#636efa\",\"pattern\":{\"shape\":\"\"}},\"name\":\"blocks.2.norm2.weight.(768,)\",\"offsetgroup\":\"blocks.2.norm2.weight.(768,)\",\"orientation\":\"v\",\"showlegend\":true,\"textposition\":\"auto\",\"x\":[\"blocks\"],\"xaxis\":\"x\",\"y\":[768],\"yaxis\":\"y\",\"type\":\"bar\"},{\"alignmentgroup\":\"True\",\"hovertemplate\":\"layer=blocks.2.norm2.bias.(768,)<br>block=%{x}<br>Log10_ParaM=%{y}<extra></extra>\",\"legendgroup\":\"blocks.2.norm2.bias.(768,)\",\"marker\":{\"color\":\"#EF553B\",\"pattern\":{\"shape\":\"\"}},\"name\":\"blocks.2.norm2.bias.(768,)\",\"offsetgroup\":\"blocks.2.norm2.bias.(768,)\",\"orientation\":\"v\",\"showlegend\":true,\"textposition\":\"auto\",\"x\":[\"blocks\"],\"xaxis\":\"x\",\"y\":[768],\"yaxis\":\"y\",\"type\":\"bar\"},{\"alignmentgroup\":\"True\",\"hovertemplate\":\"layer=blocks.2.mlp.fc1.weight.(3072, 768)<br>block=%{x}<br>Log10_ParaM=%{y}<extra></extra>\",\"legendgroup\":\"blocks.2.mlp.fc1.weight.(3072, 768)\",\"marker\":{\"color\":\"#00cc96\",\"pattern\":{\"shape\":\"\"}},\"name\":\"blocks.2.mlp.fc1.weight.(3072, 768)\",\"offsetgroup\":\"blocks.2.mlp.fc1.weight.(3072, 768)\",\"orientation\":\"v\",\"showlegend\":true,\"textposition\":\"auto\",\"x\":[\"blocks\"],\"xaxis\":\"x\",\"y\":[2359296],\"yaxis\":\"y\",\"type\":\"bar\"},{\"alignmentgroup\":\"True\",\"hovertemplate\":\"layer=blocks.2.mlp.fc1.bias.(3072,)<br>block=%{x}<br>Log10_ParaM=%{y}<extra></extra>\",\"legendgroup\":\"blocks.2.mlp.fc1.bias.(3072,)\",\"marker\":{\"color\":\"#ab63fa\",\"pattern\":{\"shape\":\"\"}},\"name\":\"blocks.2.mlp.fc1.bias.(3072,)\",\"offsetgroup\":\"blocks.2.mlp.fc1.bias.(3072,)\",\"orientation\":\"v\",\"showlegend\":true,\"textposition\":\"auto\",\"x\":[\"blocks\"],\"xaxis\":\"x\",\"y\":[3072],\"yaxis\":\"y\",\"type\":\"bar\"},{\"alignmentgroup\":\"True\",\"hovertemplate\":\"layer=blocks.3.norm1.weight.(768,)<br>block=%{x}<br>Log10_ParaM=%{y}<extra></extra>\",\"legendgroup\":\"blocks.3.norm1.weight.(768,)\",\"marker\":{\"color\":\"#FFA15A\",\"pattern\":{\"shape\":\"\"}},\"name\":\"blocks.3.norm1.weight.(768,)\",\"offsetgroup\":\"blocks.3.norm1.weight.(768,)\",\"orientation\":\"v\",\"showlegend\":true,\"textposition\":\"auto\",\"x\":[\"blocks\"],\"xaxis\":\"x\",\"y\":[768],\"yaxis\":\"y\",\"type\":\"bar\"},{\"alignmentgroup\":\"True\",\"hovertemplate\":\"layer=blocks.3.norm1.bias.(768,)<br>block=%{x}<br>Log10_ParaM=%{y}<extra></extra>\",\"legendgroup\":\"blocks.3.norm1.bias.(768,)\",\"marker\":{\"color\":\"#19d3f3\",\"pattern\":{\"shape\":\"\"}},\"name\":\"blocks.3.norm1.bias.(768,)\",\"offsetgroup\":\"blocks.3.norm1.bias.(768,)\",\"orientation\":\"v\",\"showlegend\":true,\"textposition\":\"auto\",\"x\":[\"blocks\"],\"xaxis\":\"x\",\"y\":[768],\"yaxis\":\"y\",\"type\":\"bar\"},{\"alignmentgroup\":\"True\",\"hovertemplate\":\"layer=blocks.3.filter.w1.(2, 4, 192, 192)<br>block=%{x}<br>Log10_ParaM=%{y}<extra></extra>\",\"legendgroup\":\"blocks.3.filter.w1.(2, 4, 192, 192)\",\"marker\":{\"color\":\"#FF6692\",\"pattern\":{\"shape\":\"\"}},\"name\":\"blocks.3.filter.w1.(2, 4, 192, 192)\",\"offsetgroup\":\"blocks.3.filter.w1.(2, 4, 192, 192)\",\"orientation\":\"v\",\"showlegend\":true,\"textposition\":\"auto\",\"x\":[\"blocks\"],\"xaxis\":\"x\",\"y\":[294912],\"yaxis\":\"y\",\"type\":\"bar\"},{\"alignmentgroup\":\"True\",\"hovertemplate\":\"layer=blocks.3.filter.b1.(2, 4, 192)<br>block=%{x}<br>Log10_ParaM=%{y}<extra></extra>\",\"legendgroup\":\"blocks.3.filter.b1.(2, 4, 192)\",\"marker\":{\"color\":\"#B6E880\",\"pattern\":{\"shape\":\"\"}},\"name\":\"blocks.3.filter.b1.(2, 4, 192)\",\"offsetgroup\":\"blocks.3.filter.b1.(2, 4, 192)\",\"orientation\":\"v\",\"showlegend\":true,\"textposition\":\"auto\",\"x\":[\"blocks\"],\"xaxis\":\"x\",\"y\":[1536],\"yaxis\":\"y\",\"type\":\"bar\"},{\"alignmentgroup\":\"True\",\"hovertemplate\":\"layer=blocks.3.filter.w2.(2, 4, 192, 192)<br>block=%{x}<br>Log10_ParaM=%{y}<extra></extra>\",\"legendgroup\":\"blocks.3.filter.w2.(2, 4, 192, 192)\",\"marker\":{\"color\":\"#FF97FF\",\"pattern\":{\"shape\":\"\"}},\"name\":\"blocks.3.filter.w2.(2, 4, 192, 192)\",\"offsetgroup\":\"blocks.3.filter.w2.(2, 4, 192, 192)\",\"orientation\":\"v\",\"showlegend\":true,\"textposition\":\"auto\",\"x\":[\"blocks\"],\"xaxis\":\"x\",\"y\":[294912],\"yaxis\":\"y\",\"type\":\"bar\"},{\"alignmentgroup\":\"True\",\"hovertemplate\":\"layer=blocks.3.filter.b2.(2, 4, 192)<br>block=%{x}<br>Log10_ParaM=%{y}<extra></extra>\",\"legendgroup\":\"blocks.3.filter.b2.(2, 4, 192)\",\"marker\":{\"color\":\"#FECB52\",\"pattern\":{\"shape\":\"\"}},\"name\":\"blocks.3.filter.b2.(2, 4, 192)\",\"offsetgroup\":\"blocks.3.filter.b2.(2, 4, 192)\",\"orientation\":\"v\",\"showlegend\":true,\"textposition\":\"auto\",\"x\":[\"blocks\"],\"xaxis\":\"x\",\"y\":[1536],\"yaxis\":\"y\",\"type\":\"bar\"},{\"alignmentgroup\":\"True\",\"hovertemplate\":\"layer=blocks.3.norm2.weight.(768,)<br>block=%{x}<br>Log10_ParaM=%{y}<extra></extra>\",\"legendgroup\":\"blocks.3.norm2.weight.(768,)\",\"marker\":{\"color\":\"#636efa\",\"pattern\":{\"shape\":\"\"}},\"name\":\"blocks.3.norm2.weight.(768,)\",\"offsetgroup\":\"blocks.3.norm2.weight.(768,)\",\"orientation\":\"v\",\"showlegend\":true,\"textposition\":\"auto\",\"x\":[\"blocks\"],\"xaxis\":\"x\",\"y\":[768],\"yaxis\":\"y\",\"type\":\"bar\"},{\"alignmentgroup\":\"True\",\"hovertemplate\":\"layer=blocks.3.norm2.bias.(768,)<br>block=%{x}<br>Log10_ParaM=%{y}<extra></extra>\",\"legendgroup\":\"blocks.3.norm2.bias.(768,)\",\"marker\":{\"color\":\"#EF553B\",\"pattern\":{\"shape\":\"\"}},\"name\":\"blocks.3.norm2.bias.(768,)\",\"offsetgroup\":\"blocks.3.norm2.bias.(768,)\",\"orientation\":\"v\",\"showlegend\":true,\"textposition\":\"auto\",\"x\":[\"blocks\"],\"xaxis\":\"x\",\"y\":[768],\"yaxis\":\"y\",\"type\":\"bar\"},{\"alignmentgroup\":\"True\",\"hovertemplate\":\"layer=blocks.3.mlp.fc1.weight.(3072, 768)<br>block=%{x}<br>Log10_ParaM=%{y}<extra></extra>\",\"legendgroup\":\"blocks.3.mlp.fc1.weight.(3072, 768)\",\"marker\":{\"color\":\"#00cc96\",\"pattern\":{\"shape\":\"\"}},\"name\":\"blocks.3.mlp.fc1.weight.(3072, 768)\",\"offsetgroup\":\"blocks.3.mlp.fc1.weight.(3072, 768)\",\"orientation\":\"v\",\"showlegend\":true,\"textposition\":\"auto\",\"x\":[\"blocks\"],\"xaxis\":\"x\",\"y\":[2359296],\"yaxis\":\"y\",\"type\":\"bar\"},{\"alignmentgroup\":\"True\",\"hovertemplate\":\"layer=blocks.3.mlp.fc1.bias.(3072,)<br>block=%{x}<br>Log10_ParaM=%{y}<extra></extra>\",\"legendgroup\":\"blocks.3.mlp.fc1.bias.(3072,)\",\"marker\":{\"color\":\"#ab63fa\",\"pattern\":{\"shape\":\"\"}},\"name\":\"blocks.3.mlp.fc1.bias.(3072,)\",\"offsetgroup\":\"blocks.3.mlp.fc1.bias.(3072,)\",\"orientation\":\"v\",\"showlegend\":true,\"textposition\":\"auto\",\"x\":[\"blocks\"],\"xaxis\":\"x\",\"y\":[3072],\"yaxis\":\"y\",\"type\":\"bar\"},{\"alignmentgroup\":\"True\",\"hovertemplate\":\"layer=blocks.4.norm1.weight.(768,)<br>block=%{x}<br>Log10_ParaM=%{y}<extra></extra>\",\"legendgroup\":\"blocks.4.norm1.weight.(768,)\",\"marker\":{\"color\":\"#FFA15A\",\"pattern\":{\"shape\":\"\"}},\"name\":\"blocks.4.norm1.weight.(768,)\",\"offsetgroup\":\"blocks.4.norm1.weight.(768,)\",\"orientation\":\"v\",\"showlegend\":true,\"textposition\":\"auto\",\"x\":[\"blocks\"],\"xaxis\":\"x\",\"y\":[768],\"yaxis\":\"y\",\"type\":\"bar\"},{\"alignmentgroup\":\"True\",\"hovertemplate\":\"layer=blocks.4.norm1.bias.(768,)<br>block=%{x}<br>Log10_ParaM=%{y}<extra></extra>\",\"legendgroup\":\"blocks.4.norm1.bias.(768,)\",\"marker\":{\"color\":\"#19d3f3\",\"pattern\":{\"shape\":\"\"}},\"name\":\"blocks.4.norm1.bias.(768,)\",\"offsetgroup\":\"blocks.4.norm1.bias.(768,)\",\"orientation\":\"v\",\"showlegend\":true,\"textposition\":\"auto\",\"x\":[\"blocks\"],\"xaxis\":\"x\",\"y\":[768],\"yaxis\":\"y\",\"type\":\"bar\"},{\"alignmentgroup\":\"True\",\"hovertemplate\":\"layer=blocks.4.filter.w1.(2, 4, 192, 192)<br>block=%{x}<br>Log10_ParaM=%{y}<extra></extra>\",\"legendgroup\":\"blocks.4.filter.w1.(2, 4, 192, 192)\",\"marker\":{\"color\":\"#FF6692\",\"pattern\":{\"shape\":\"\"}},\"name\":\"blocks.4.filter.w1.(2, 4, 192, 192)\",\"offsetgroup\":\"blocks.4.filter.w1.(2, 4, 192, 192)\",\"orientation\":\"v\",\"showlegend\":true,\"textposition\":\"auto\",\"x\":[\"blocks\"],\"xaxis\":\"x\",\"y\":[294912],\"yaxis\":\"y\",\"type\":\"bar\"},{\"alignmentgroup\":\"True\",\"hovertemplate\":\"layer=blocks.4.filter.b1.(2, 4, 192)<br>block=%{x}<br>Log10_ParaM=%{y}<extra></extra>\",\"legendgroup\":\"blocks.4.filter.b1.(2, 4, 192)\",\"marker\":{\"color\":\"#B6E880\",\"pattern\":{\"shape\":\"\"}},\"name\":\"blocks.4.filter.b1.(2, 4, 192)\",\"offsetgroup\":\"blocks.4.filter.b1.(2, 4, 192)\",\"orientation\":\"v\",\"showlegend\":true,\"textposition\":\"auto\",\"x\":[\"blocks\"],\"xaxis\":\"x\",\"y\":[1536],\"yaxis\":\"y\",\"type\":\"bar\"},{\"alignmentgroup\":\"True\",\"hovertemplate\":\"layer=blocks.4.filter.w2.(2, 4, 192, 192)<br>block=%{x}<br>Log10_ParaM=%{y}<extra></extra>\",\"legendgroup\":\"blocks.4.filter.w2.(2, 4, 192, 192)\",\"marker\":{\"color\":\"#FF97FF\",\"pattern\":{\"shape\":\"\"}},\"name\":\"blocks.4.filter.w2.(2, 4, 192, 192)\",\"offsetgroup\":\"blocks.4.filter.w2.(2, 4, 192, 192)\",\"orientation\":\"v\",\"showlegend\":true,\"textposition\":\"auto\",\"x\":[\"blocks\"],\"xaxis\":\"x\",\"y\":[294912],\"yaxis\":\"y\",\"type\":\"bar\"},{\"alignmentgroup\":\"True\",\"hovertemplate\":\"layer=blocks.4.filter.b2.(2, 4, 192)<br>block=%{x}<br>Log10_ParaM=%{y}<extra></extra>\",\"legendgroup\":\"blocks.4.filter.b2.(2, 4, 192)\",\"marker\":{\"color\":\"#FECB52\",\"pattern\":{\"shape\":\"\"}},\"name\":\"blocks.4.filter.b2.(2, 4, 192)\",\"offsetgroup\":\"blocks.4.filter.b2.(2, 4, 192)\",\"orientation\":\"v\",\"showlegend\":true,\"textposition\":\"auto\",\"x\":[\"blocks\"],\"xaxis\":\"x\",\"y\":[1536],\"yaxis\":\"y\",\"type\":\"bar\"},{\"alignmentgroup\":\"True\",\"hovertemplate\":\"layer=blocks.4.norm2.weight.(768,)<br>block=%{x}<br>Log10_ParaM=%{y}<extra></extra>\",\"legendgroup\":\"blocks.4.norm2.weight.(768,)\",\"marker\":{\"color\":\"#636efa\",\"pattern\":{\"shape\":\"\"}},\"name\":\"blocks.4.norm2.weight.(768,)\",\"offsetgroup\":\"blocks.4.norm2.weight.(768,)\",\"orientation\":\"v\",\"showlegend\":true,\"textposition\":\"auto\",\"x\":[\"blocks\"],\"xaxis\":\"x\",\"y\":[768],\"yaxis\":\"y\",\"type\":\"bar\"},{\"alignmentgroup\":\"True\",\"hovertemplate\":\"layer=blocks.4.norm2.bias.(768,)<br>block=%{x}<br>Log10_ParaM=%{y}<extra></extra>\",\"legendgroup\":\"blocks.4.norm2.bias.(768,)\",\"marker\":{\"color\":\"#EF553B\",\"pattern\":{\"shape\":\"\"}},\"name\":\"blocks.4.norm2.bias.(768,)\",\"offsetgroup\":\"blocks.4.norm2.bias.(768,)\",\"orientation\":\"v\",\"showlegend\":true,\"textposition\":\"auto\",\"x\":[\"blocks\"],\"xaxis\":\"x\",\"y\":[768],\"yaxis\":\"y\",\"type\":\"bar\"},{\"alignmentgroup\":\"True\",\"hovertemplate\":\"layer=blocks.4.mlp.fc1.weight.(3072, 768)<br>block=%{x}<br>Log10_ParaM=%{y}<extra></extra>\",\"legendgroup\":\"blocks.4.mlp.fc1.weight.(3072, 768)\",\"marker\":{\"color\":\"#00cc96\",\"pattern\":{\"shape\":\"\"}},\"name\":\"blocks.4.mlp.fc1.weight.(3072, 768)\",\"offsetgroup\":\"blocks.4.mlp.fc1.weight.(3072, 768)\",\"orientation\":\"v\",\"showlegend\":true,\"textposition\":\"auto\",\"x\":[\"blocks\"],\"xaxis\":\"x\",\"y\":[2359296],\"yaxis\":\"y\",\"type\":\"bar\"},{\"alignmentgroup\":\"True\",\"hovertemplate\":\"layer=blocks.4.mlp.fc1.bias.(3072,)<br>block=%{x}<br>Log10_ParaM=%{y}<extra></extra>\",\"legendgroup\":\"blocks.4.mlp.fc1.bias.(3072,)\",\"marker\":{\"color\":\"#ab63fa\",\"pattern\":{\"shape\":\"\"}},\"name\":\"blocks.4.mlp.fc1.bias.(3072,)\",\"offsetgroup\":\"blocks.4.mlp.fc1.bias.(3072,)\",\"orientation\":\"v\",\"showlegend\":true,\"textposition\":\"auto\",\"x\":[\"blocks\"],\"xaxis\":\"x\",\"y\":[3072],\"yaxis\":\"y\",\"type\":\"bar\"},{\"alignmentgroup\":\"True\",\"hovertemplate\":\"layer=blocks.5.norm1.weight.(768,)<br>block=%{x}<br>Log10_ParaM=%{y}<extra></extra>\",\"legendgroup\":\"blocks.5.norm1.weight.(768,)\",\"marker\":{\"color\":\"#FFA15A\",\"pattern\":{\"shape\":\"\"}},\"name\":\"blocks.5.norm1.weight.(768,)\",\"offsetgroup\":\"blocks.5.norm1.weight.(768,)\",\"orientation\":\"v\",\"showlegend\":true,\"textposition\":\"auto\",\"x\":[\"blocks\"],\"xaxis\":\"x\",\"y\":[768],\"yaxis\":\"y\",\"type\":\"bar\"},{\"alignmentgroup\":\"True\",\"hovertemplate\":\"layer=blocks.5.norm1.bias.(768,)<br>block=%{x}<br>Log10_ParaM=%{y}<extra></extra>\",\"legendgroup\":\"blocks.5.norm1.bias.(768,)\",\"marker\":{\"color\":\"#19d3f3\",\"pattern\":{\"shape\":\"\"}},\"name\":\"blocks.5.norm1.bias.(768,)\",\"offsetgroup\":\"blocks.5.norm1.bias.(768,)\",\"orientation\":\"v\",\"showlegend\":true,\"textposition\":\"auto\",\"x\":[\"blocks\"],\"xaxis\":\"x\",\"y\":[768],\"yaxis\":\"y\",\"type\":\"bar\"},{\"alignmentgroup\":\"True\",\"hovertemplate\":\"layer=blocks.5.filter.w1.(2, 4, 192, 192)<br>block=%{x}<br>Log10_ParaM=%{y}<extra></extra>\",\"legendgroup\":\"blocks.5.filter.w1.(2, 4, 192, 192)\",\"marker\":{\"color\":\"#FF6692\",\"pattern\":{\"shape\":\"\"}},\"name\":\"blocks.5.filter.w1.(2, 4, 192, 192)\",\"offsetgroup\":\"blocks.5.filter.w1.(2, 4, 192, 192)\",\"orientation\":\"v\",\"showlegend\":true,\"textposition\":\"auto\",\"x\":[\"blocks\"],\"xaxis\":\"x\",\"y\":[294912],\"yaxis\":\"y\",\"type\":\"bar\"},{\"alignmentgroup\":\"True\",\"hovertemplate\":\"layer=blocks.5.filter.b1.(2, 4, 192)<br>block=%{x}<br>Log10_ParaM=%{y}<extra></extra>\",\"legendgroup\":\"blocks.5.filter.b1.(2, 4, 192)\",\"marker\":{\"color\":\"#B6E880\",\"pattern\":{\"shape\":\"\"}},\"name\":\"blocks.5.filter.b1.(2, 4, 192)\",\"offsetgroup\":\"blocks.5.filter.b1.(2, 4, 192)\",\"orientation\":\"v\",\"showlegend\":true,\"textposition\":\"auto\",\"x\":[\"blocks\"],\"xaxis\":\"x\",\"y\":[1536],\"yaxis\":\"y\",\"type\":\"bar\"},{\"alignmentgroup\":\"True\",\"hovertemplate\":\"layer=blocks.5.filter.w2.(2, 4, 192, 192)<br>block=%{x}<br>Log10_ParaM=%{y}<extra></extra>\",\"legendgroup\":\"blocks.5.filter.w2.(2, 4, 192, 192)\",\"marker\":{\"color\":\"#FF97FF\",\"pattern\":{\"shape\":\"\"}},\"name\":\"blocks.5.filter.w2.(2, 4, 192, 192)\",\"offsetgroup\":\"blocks.5.filter.w2.(2, 4, 192, 192)\",\"orientation\":\"v\",\"showlegend\":true,\"textposition\":\"auto\",\"x\":[\"blocks\"],\"xaxis\":\"x\",\"y\":[294912],\"yaxis\":\"y\",\"type\":\"bar\"},{\"alignmentgroup\":\"True\",\"hovertemplate\":\"layer=blocks.5.filter.b2.(2, 4, 192)<br>block=%{x}<br>Log10_ParaM=%{y}<extra></extra>\",\"legendgroup\":\"blocks.5.filter.b2.(2, 4, 192)\",\"marker\":{\"color\":\"#FECB52\",\"pattern\":{\"shape\":\"\"}},\"name\":\"blocks.5.filter.b2.(2, 4, 192)\",\"offsetgroup\":\"blocks.5.filter.b2.(2, 4, 192)\",\"orientation\":\"v\",\"showlegend\":true,\"textposition\":\"auto\",\"x\":[\"blocks\"],\"xaxis\":\"x\",\"y\":[1536],\"yaxis\":\"y\",\"type\":\"bar\"},{\"alignmentgroup\":\"True\",\"hovertemplate\":\"layer=blocks.5.norm2.weight.(768,)<br>block=%{x}<br>Log10_ParaM=%{y}<extra></extra>\",\"legendgroup\":\"blocks.5.norm2.weight.(768,)\",\"marker\":{\"color\":\"#636efa\",\"pattern\":{\"shape\":\"\"}},\"name\":\"blocks.5.norm2.weight.(768,)\",\"offsetgroup\":\"blocks.5.norm2.weight.(768,)\",\"orientation\":\"v\",\"showlegend\":true,\"textposition\":\"auto\",\"x\":[\"blocks\"],\"xaxis\":\"x\",\"y\":[768],\"yaxis\":\"y\",\"type\":\"bar\"},{\"alignmentgroup\":\"True\",\"hovertemplate\":\"layer=blocks.5.norm2.bias.(768,)<br>block=%{x}<br>Log10_ParaM=%{y}<extra></extra>\",\"legendgroup\":\"blocks.5.norm2.bias.(768,)\",\"marker\":{\"color\":\"#EF553B\",\"pattern\":{\"shape\":\"\"}},\"name\":\"blocks.5.norm2.bias.(768,)\",\"offsetgroup\":\"blocks.5.norm2.bias.(768,)\",\"orientation\":\"v\",\"showlegend\":true,\"textposition\":\"auto\",\"x\":[\"blocks\"],\"xaxis\":\"x\",\"y\":[768],\"yaxis\":\"y\",\"type\":\"bar\"},{\"alignmentgroup\":\"True\",\"hovertemplate\":\"layer=blocks.5.mlp.fc1.weight.(3072, 768)<br>block=%{x}<br>Log10_ParaM=%{y}<extra></extra>\",\"legendgroup\":\"blocks.5.mlp.fc1.weight.(3072, 768)\",\"marker\":{\"color\":\"#00cc96\",\"pattern\":{\"shape\":\"\"}},\"name\":\"blocks.5.mlp.fc1.weight.(3072, 768)\",\"offsetgroup\":\"blocks.5.mlp.fc1.weight.(3072, 768)\",\"orientation\":\"v\",\"showlegend\":true,\"textposition\":\"auto\",\"x\":[\"blocks\"],\"xaxis\":\"x\",\"y\":[2359296],\"yaxis\":\"y\",\"type\":\"bar\"},{\"alignmentgroup\":\"True\",\"hovertemplate\":\"layer=blocks.5.mlp.fc1.bias.(3072,)<br>block=%{x}<br>Log10_ParaM=%{y}<extra></extra>\",\"legendgroup\":\"blocks.5.mlp.fc1.bias.(3072,)\",\"marker\":{\"color\":\"#ab63fa\",\"pattern\":{\"shape\":\"\"}},\"name\":\"blocks.5.mlp.fc1.bias.(3072,)\",\"offsetgroup\":\"blocks.5.mlp.fc1.bias.(3072,)\",\"orientation\":\"v\",\"showlegend\":true,\"textposition\":\"auto\",\"x\":[\"blocks\"],\"xaxis\":\"x\",\"y\":[3072],\"yaxis\":\"y\",\"type\":\"bar\"},{\"alignmentgroup\":\"True\",\"hovertemplate\":\"layer=blocks.6.norm1.weight.(768,)<br>block=%{x}<br>Log10_ParaM=%{y}<extra></extra>\",\"legendgroup\":\"blocks.6.norm1.weight.(768,)\",\"marker\":{\"color\":\"#FFA15A\",\"pattern\":{\"shape\":\"\"}},\"name\":\"blocks.6.norm1.weight.(768,)\",\"offsetgroup\":\"blocks.6.norm1.weight.(768,)\",\"orientation\":\"v\",\"showlegend\":true,\"textposition\":\"auto\",\"x\":[\"blocks\"],\"xaxis\":\"x\",\"y\":[768],\"yaxis\":\"y\",\"type\":\"bar\"},{\"alignmentgroup\":\"True\",\"hovertemplate\":\"layer=blocks.6.norm1.bias.(768,)<br>block=%{x}<br>Log10_ParaM=%{y}<extra></extra>\",\"legendgroup\":\"blocks.6.norm1.bias.(768,)\",\"marker\":{\"color\":\"#19d3f3\",\"pattern\":{\"shape\":\"\"}},\"name\":\"blocks.6.norm1.bias.(768,)\",\"offsetgroup\":\"blocks.6.norm1.bias.(768,)\",\"orientation\":\"v\",\"showlegend\":true,\"textposition\":\"auto\",\"x\":[\"blocks\"],\"xaxis\":\"x\",\"y\":[768],\"yaxis\":\"y\",\"type\":\"bar\"},{\"alignmentgroup\":\"True\",\"hovertemplate\":\"layer=blocks.6.filter.w1.(2, 4, 192, 192)<br>block=%{x}<br>Log10_ParaM=%{y}<extra></extra>\",\"legendgroup\":\"blocks.6.filter.w1.(2, 4, 192, 192)\",\"marker\":{\"color\":\"#FF6692\",\"pattern\":{\"shape\":\"\"}},\"name\":\"blocks.6.filter.w1.(2, 4, 192, 192)\",\"offsetgroup\":\"blocks.6.filter.w1.(2, 4, 192, 192)\",\"orientation\":\"v\",\"showlegend\":true,\"textposition\":\"auto\",\"x\":[\"blocks\"],\"xaxis\":\"x\",\"y\":[294912],\"yaxis\":\"y\",\"type\":\"bar\"},{\"alignmentgroup\":\"True\",\"hovertemplate\":\"layer=blocks.6.filter.b1.(2, 4, 192)<br>block=%{x}<br>Log10_ParaM=%{y}<extra></extra>\",\"legendgroup\":\"blocks.6.filter.b1.(2, 4, 192)\",\"marker\":{\"color\":\"#B6E880\",\"pattern\":{\"shape\":\"\"}},\"name\":\"blocks.6.filter.b1.(2, 4, 192)\",\"offsetgroup\":\"blocks.6.filter.b1.(2, 4, 192)\",\"orientation\":\"v\",\"showlegend\":true,\"textposition\":\"auto\",\"x\":[\"blocks\"],\"xaxis\":\"x\",\"y\":[1536],\"yaxis\":\"y\",\"type\":\"bar\"},{\"alignmentgroup\":\"True\",\"hovertemplate\":\"layer=blocks.6.filter.w2.(2, 4, 192, 192)<br>block=%{x}<br>Log10_ParaM=%{y}<extra></extra>\",\"legendgroup\":\"blocks.6.filter.w2.(2, 4, 192, 192)\",\"marker\":{\"color\":\"#FF97FF\",\"pattern\":{\"shape\":\"\"}},\"name\":\"blocks.6.filter.w2.(2, 4, 192, 192)\",\"offsetgroup\":\"blocks.6.filter.w2.(2, 4, 192, 192)\",\"orientation\":\"v\",\"showlegend\":true,\"textposition\":\"auto\",\"x\":[\"blocks\"],\"xaxis\":\"x\",\"y\":[294912],\"yaxis\":\"y\",\"type\":\"bar\"},{\"alignmentgroup\":\"True\",\"hovertemplate\":\"layer=blocks.6.filter.b2.(2, 4, 192)<br>block=%{x}<br>Log10_ParaM=%{y}<extra></extra>\",\"legendgroup\":\"blocks.6.filter.b2.(2, 4, 192)\",\"marker\":{\"color\":\"#FECB52\",\"pattern\":{\"shape\":\"\"}},\"name\":\"blocks.6.filter.b2.(2, 4, 192)\",\"offsetgroup\":\"blocks.6.filter.b2.(2, 4, 192)\",\"orientation\":\"v\",\"showlegend\":true,\"textposition\":\"auto\",\"x\":[\"blocks\"],\"xaxis\":\"x\",\"y\":[1536],\"yaxis\":\"y\",\"type\":\"bar\"},{\"alignmentgroup\":\"True\",\"hovertemplate\":\"layer=blocks.6.norm2.weight.(768,)<br>block=%{x}<br>Log10_ParaM=%{y}<extra></extra>\",\"legendgroup\":\"blocks.6.norm2.weight.(768,)\",\"marker\":{\"color\":\"#636efa\",\"pattern\":{\"shape\":\"\"}},\"name\":\"blocks.6.norm2.weight.(768,)\",\"offsetgroup\":\"blocks.6.norm2.weight.(768,)\",\"orientation\":\"v\",\"showlegend\":true,\"textposition\":\"auto\",\"x\":[\"blocks\"],\"xaxis\":\"x\",\"y\":[768],\"yaxis\":\"y\",\"type\":\"bar\"},{\"alignmentgroup\":\"True\",\"hovertemplate\":\"layer=blocks.6.norm2.bias.(768,)<br>block=%{x}<br>Log10_ParaM=%{y}<extra></extra>\",\"legendgroup\":\"blocks.6.norm2.bias.(768,)\",\"marker\":{\"color\":\"#EF553B\",\"pattern\":{\"shape\":\"\"}},\"name\":\"blocks.6.norm2.bias.(768,)\",\"offsetgroup\":\"blocks.6.norm2.bias.(768,)\",\"orientation\":\"v\",\"showlegend\":true,\"textposition\":\"auto\",\"x\":[\"blocks\"],\"xaxis\":\"x\",\"y\":[768],\"yaxis\":\"y\",\"type\":\"bar\"},{\"alignmentgroup\":\"True\",\"hovertemplate\":\"layer=blocks.6.mlp.fc1.weight.(3072, 768)<br>block=%{x}<br>Log10_ParaM=%{y}<extra></extra>\",\"legendgroup\":\"blocks.6.mlp.fc1.weight.(3072, 768)\",\"marker\":{\"color\":\"#00cc96\",\"pattern\":{\"shape\":\"\"}},\"name\":\"blocks.6.mlp.fc1.weight.(3072, 768)\",\"offsetgroup\":\"blocks.6.mlp.fc1.weight.(3072, 768)\",\"orientation\":\"v\",\"showlegend\":true,\"textposition\":\"auto\",\"x\":[\"blocks\"],\"xaxis\":\"x\",\"y\":[2359296],\"yaxis\":\"y\",\"type\":\"bar\"},{\"alignmentgroup\":\"True\",\"hovertemplate\":\"layer=blocks.6.mlp.fc1.bias.(3072,)<br>block=%{x}<br>Log10_ParaM=%{y}<extra></extra>\",\"legendgroup\":\"blocks.6.mlp.fc1.bias.(3072,)\",\"marker\":{\"color\":\"#ab63fa\",\"pattern\":{\"shape\":\"\"}},\"name\":\"blocks.6.mlp.fc1.bias.(3072,)\",\"offsetgroup\":\"blocks.6.mlp.fc1.bias.(3072,)\",\"orientation\":\"v\",\"showlegend\":true,\"textposition\":\"auto\",\"x\":[\"blocks\"],\"xaxis\":\"x\",\"y\":[3072],\"yaxis\":\"y\",\"type\":\"bar\"},{\"alignmentgroup\":\"True\",\"hovertemplate\":\"layer=blocks.7.norm1.weight.(768,)<br>block=%{x}<br>Log10_ParaM=%{y}<extra></extra>\",\"legendgroup\":\"blocks.7.norm1.weight.(768,)\",\"marker\":{\"color\":\"#FFA15A\",\"pattern\":{\"shape\":\"\"}},\"name\":\"blocks.7.norm1.weight.(768,)\",\"offsetgroup\":\"blocks.7.norm1.weight.(768,)\",\"orientation\":\"v\",\"showlegend\":true,\"textposition\":\"auto\",\"x\":[\"blocks\"],\"xaxis\":\"x\",\"y\":[768],\"yaxis\":\"y\",\"type\":\"bar\"},{\"alignmentgroup\":\"True\",\"hovertemplate\":\"layer=blocks.7.norm1.bias.(768,)<br>block=%{x}<br>Log10_ParaM=%{y}<extra></extra>\",\"legendgroup\":\"blocks.7.norm1.bias.(768,)\",\"marker\":{\"color\":\"#19d3f3\",\"pattern\":{\"shape\":\"\"}},\"name\":\"blocks.7.norm1.bias.(768,)\",\"offsetgroup\":\"blocks.7.norm1.bias.(768,)\",\"orientation\":\"v\",\"showlegend\":true,\"textposition\":\"auto\",\"x\":[\"blocks\"],\"xaxis\":\"x\",\"y\":[768],\"yaxis\":\"y\",\"type\":\"bar\"},{\"alignmentgroup\":\"True\",\"hovertemplate\":\"layer=blocks.7.filter.w1.(2, 4, 192, 192)<br>block=%{x}<br>Log10_ParaM=%{y}<extra></extra>\",\"legendgroup\":\"blocks.7.filter.w1.(2, 4, 192, 192)\",\"marker\":{\"color\":\"#FF6692\",\"pattern\":{\"shape\":\"\"}},\"name\":\"blocks.7.filter.w1.(2, 4, 192, 192)\",\"offsetgroup\":\"blocks.7.filter.w1.(2, 4, 192, 192)\",\"orientation\":\"v\",\"showlegend\":true,\"textposition\":\"auto\",\"x\":[\"blocks\"],\"xaxis\":\"x\",\"y\":[294912],\"yaxis\":\"y\",\"type\":\"bar\"},{\"alignmentgroup\":\"True\",\"hovertemplate\":\"layer=blocks.7.filter.b1.(2, 4, 192)<br>block=%{x}<br>Log10_ParaM=%{y}<extra></extra>\",\"legendgroup\":\"blocks.7.filter.b1.(2, 4, 192)\",\"marker\":{\"color\":\"#B6E880\",\"pattern\":{\"shape\":\"\"}},\"name\":\"blocks.7.filter.b1.(2, 4, 192)\",\"offsetgroup\":\"blocks.7.filter.b1.(2, 4, 192)\",\"orientation\":\"v\",\"showlegend\":true,\"textposition\":\"auto\",\"x\":[\"blocks\"],\"xaxis\":\"x\",\"y\":[1536],\"yaxis\":\"y\",\"type\":\"bar\"},{\"alignmentgroup\":\"True\",\"hovertemplate\":\"layer=blocks.7.filter.w2.(2, 4, 192, 192)<br>block=%{x}<br>Log10_ParaM=%{y}<extra></extra>\",\"legendgroup\":\"blocks.7.filter.w2.(2, 4, 192, 192)\",\"marker\":{\"color\":\"#FF97FF\",\"pattern\":{\"shape\":\"\"}},\"name\":\"blocks.7.filter.w2.(2, 4, 192, 192)\",\"offsetgroup\":\"blocks.7.filter.w2.(2, 4, 192, 192)\",\"orientation\":\"v\",\"showlegend\":true,\"textposition\":\"auto\",\"x\":[\"blocks\"],\"xaxis\":\"x\",\"y\":[294912],\"yaxis\":\"y\",\"type\":\"bar\"},{\"alignmentgroup\":\"True\",\"hovertemplate\":\"layer=blocks.7.filter.b2.(2, 4, 192)<br>block=%{x}<br>Log10_ParaM=%{y}<extra></extra>\",\"legendgroup\":\"blocks.7.filter.b2.(2, 4, 192)\",\"marker\":{\"color\":\"#FECB52\",\"pattern\":{\"shape\":\"\"}},\"name\":\"blocks.7.filter.b2.(2, 4, 192)\",\"offsetgroup\":\"blocks.7.filter.b2.(2, 4, 192)\",\"orientation\":\"v\",\"showlegend\":true,\"textposition\":\"auto\",\"x\":[\"blocks\"],\"xaxis\":\"x\",\"y\":[1536],\"yaxis\":\"y\",\"type\":\"bar\"},{\"alignmentgroup\":\"True\",\"hovertemplate\":\"layer=blocks.7.norm2.weight.(768,)<br>block=%{x}<br>Log10_ParaM=%{y}<extra></extra>\",\"legendgroup\":\"blocks.7.norm2.weight.(768,)\",\"marker\":{\"color\":\"#636efa\",\"pattern\":{\"shape\":\"\"}},\"name\":\"blocks.7.norm2.weight.(768,)\",\"offsetgroup\":\"blocks.7.norm2.weight.(768,)\",\"orientation\":\"v\",\"showlegend\":true,\"textposition\":\"auto\",\"x\":[\"blocks\"],\"xaxis\":\"x\",\"y\":[768],\"yaxis\":\"y\",\"type\":\"bar\"},{\"alignmentgroup\":\"True\",\"hovertemplate\":\"layer=blocks.7.norm2.bias.(768,)<br>block=%{x}<br>Log10_ParaM=%{y}<extra></extra>\",\"legendgroup\":\"blocks.7.norm2.bias.(768,)\",\"marker\":{\"color\":\"#EF553B\",\"pattern\":{\"shape\":\"\"}},\"name\":\"blocks.7.norm2.bias.(768,)\",\"offsetgroup\":\"blocks.7.norm2.bias.(768,)\",\"orientation\":\"v\",\"showlegend\":true,\"textposition\":\"auto\",\"x\":[\"blocks\"],\"xaxis\":\"x\",\"y\":[768],\"yaxis\":\"y\",\"type\":\"bar\"},{\"alignmentgroup\":\"True\",\"hovertemplate\":\"layer=blocks.7.mlp.fc1.weight.(3072, 768)<br>block=%{x}<br>Log10_ParaM=%{y}<extra></extra>\",\"legendgroup\":\"blocks.7.mlp.fc1.weight.(3072, 768)\",\"marker\":{\"color\":\"#00cc96\",\"pattern\":{\"shape\":\"\"}},\"name\":\"blocks.7.mlp.fc1.weight.(3072, 768)\",\"offsetgroup\":\"blocks.7.mlp.fc1.weight.(3072, 768)\",\"orientation\":\"v\",\"showlegend\":true,\"textposition\":\"auto\",\"x\":[\"blocks\"],\"xaxis\":\"x\",\"y\":[2359296],\"yaxis\":\"y\",\"type\":\"bar\"},{\"alignmentgroup\":\"True\",\"hovertemplate\":\"layer=blocks.7.mlp.fc1.bias.(3072,)<br>block=%{x}<br>Log10_ParaM=%{y}<extra></extra>\",\"legendgroup\":\"blocks.7.mlp.fc1.bias.(3072,)\",\"marker\":{\"color\":\"#ab63fa\",\"pattern\":{\"shape\":\"\"}},\"name\":\"blocks.7.mlp.fc1.bias.(3072,)\",\"offsetgroup\":\"blocks.7.mlp.fc1.bias.(3072,)\",\"orientation\":\"v\",\"showlegend\":true,\"textposition\":\"auto\",\"x\":[\"blocks\"],\"xaxis\":\"x\",\"y\":[3072],\"yaxis\":\"y\",\"type\":\"bar\"},{\"alignmentgroup\":\"True\",\"hovertemplate\":\"layer=blocks.8.norm1.weight.(768,)<br>block=%{x}<br>Log10_ParaM=%{y}<extra></extra>\",\"legendgroup\":\"blocks.8.norm1.weight.(768,)\",\"marker\":{\"color\":\"#FFA15A\",\"pattern\":{\"shape\":\"\"}},\"name\":\"blocks.8.norm1.weight.(768,)\",\"offsetgroup\":\"blocks.8.norm1.weight.(768,)\",\"orientation\":\"v\",\"showlegend\":true,\"textposition\":\"auto\",\"x\":[\"blocks\"],\"xaxis\":\"x\",\"y\":[768],\"yaxis\":\"y\",\"type\":\"bar\"},{\"alignmentgroup\":\"True\",\"hovertemplate\":\"layer=blocks.8.norm1.bias.(768,)<br>block=%{x}<br>Log10_ParaM=%{y}<extra></extra>\",\"legendgroup\":\"blocks.8.norm1.bias.(768,)\",\"marker\":{\"color\":\"#19d3f3\",\"pattern\":{\"shape\":\"\"}},\"name\":\"blocks.8.norm1.bias.(768,)\",\"offsetgroup\":\"blocks.8.norm1.bias.(768,)\",\"orientation\":\"v\",\"showlegend\":true,\"textposition\":\"auto\",\"x\":[\"blocks\"],\"xaxis\":\"x\",\"y\":[768],\"yaxis\":\"y\",\"type\":\"bar\"},{\"alignmentgroup\":\"True\",\"hovertemplate\":\"layer=blocks.8.filter.w1.(2, 4, 192, 192)<br>block=%{x}<br>Log10_ParaM=%{y}<extra></extra>\",\"legendgroup\":\"blocks.8.filter.w1.(2, 4, 192, 192)\",\"marker\":{\"color\":\"#FF6692\",\"pattern\":{\"shape\":\"\"}},\"name\":\"blocks.8.filter.w1.(2, 4, 192, 192)\",\"offsetgroup\":\"blocks.8.filter.w1.(2, 4, 192, 192)\",\"orientation\":\"v\",\"showlegend\":true,\"textposition\":\"auto\",\"x\":[\"blocks\"],\"xaxis\":\"x\",\"y\":[294912],\"yaxis\":\"y\",\"type\":\"bar\"},{\"alignmentgroup\":\"True\",\"hovertemplate\":\"layer=blocks.8.filter.b1.(2, 4, 192)<br>block=%{x}<br>Log10_ParaM=%{y}<extra></extra>\",\"legendgroup\":\"blocks.8.filter.b1.(2, 4, 192)\",\"marker\":{\"color\":\"#B6E880\",\"pattern\":{\"shape\":\"\"}},\"name\":\"blocks.8.filter.b1.(2, 4, 192)\",\"offsetgroup\":\"blocks.8.filter.b1.(2, 4, 192)\",\"orientation\":\"v\",\"showlegend\":true,\"textposition\":\"auto\",\"x\":[\"blocks\"],\"xaxis\":\"x\",\"y\":[1536],\"yaxis\":\"y\",\"type\":\"bar\"},{\"alignmentgroup\":\"True\",\"hovertemplate\":\"layer=blocks.8.filter.w2.(2, 4, 192, 192)<br>block=%{x}<br>Log10_ParaM=%{y}<extra></extra>\",\"legendgroup\":\"blocks.8.filter.w2.(2, 4, 192, 192)\",\"marker\":{\"color\":\"#FF97FF\",\"pattern\":{\"shape\":\"\"}},\"name\":\"blocks.8.filter.w2.(2, 4, 192, 192)\",\"offsetgroup\":\"blocks.8.filter.w2.(2, 4, 192, 192)\",\"orientation\":\"v\",\"showlegend\":true,\"textposition\":\"auto\",\"x\":[\"blocks\"],\"xaxis\":\"x\",\"y\":[294912],\"yaxis\":\"y\",\"type\":\"bar\"},{\"alignmentgroup\":\"True\",\"hovertemplate\":\"layer=blocks.8.filter.b2.(2, 4, 192)<br>block=%{x}<br>Log10_ParaM=%{y}<extra></extra>\",\"legendgroup\":\"blocks.8.filter.b2.(2, 4, 192)\",\"marker\":{\"color\":\"#FECB52\",\"pattern\":{\"shape\":\"\"}},\"name\":\"blocks.8.filter.b2.(2, 4, 192)\",\"offsetgroup\":\"blocks.8.filter.b2.(2, 4, 192)\",\"orientation\":\"v\",\"showlegend\":true,\"textposition\":\"auto\",\"x\":[\"blocks\"],\"xaxis\":\"x\",\"y\":[1536],\"yaxis\":\"y\",\"type\":\"bar\"},{\"alignmentgroup\":\"True\",\"hovertemplate\":\"layer=blocks.8.norm2.weight.(768,)<br>block=%{x}<br>Log10_ParaM=%{y}<extra></extra>\",\"legendgroup\":\"blocks.8.norm2.weight.(768,)\",\"marker\":{\"color\":\"#636efa\",\"pattern\":{\"shape\":\"\"}},\"name\":\"blocks.8.norm2.weight.(768,)\",\"offsetgroup\":\"blocks.8.norm2.weight.(768,)\",\"orientation\":\"v\",\"showlegend\":true,\"textposition\":\"auto\",\"x\":[\"blocks\"],\"xaxis\":\"x\",\"y\":[768],\"yaxis\":\"y\",\"type\":\"bar\"},{\"alignmentgroup\":\"True\",\"hovertemplate\":\"layer=blocks.8.norm2.bias.(768,)<br>block=%{x}<br>Log10_ParaM=%{y}<extra></extra>\",\"legendgroup\":\"blocks.8.norm2.bias.(768,)\",\"marker\":{\"color\":\"#EF553B\",\"pattern\":{\"shape\":\"\"}},\"name\":\"blocks.8.norm2.bias.(768,)\",\"offsetgroup\":\"blocks.8.norm2.bias.(768,)\",\"orientation\":\"v\",\"showlegend\":true,\"textposition\":\"auto\",\"x\":[\"blocks\"],\"xaxis\":\"x\",\"y\":[768],\"yaxis\":\"y\",\"type\":\"bar\"},{\"alignmentgroup\":\"True\",\"hovertemplate\":\"layer=blocks.8.mlp.fc1.weight.(3072, 768)<br>block=%{x}<br>Log10_ParaM=%{y}<extra></extra>\",\"legendgroup\":\"blocks.8.mlp.fc1.weight.(3072, 768)\",\"marker\":{\"color\":\"#00cc96\",\"pattern\":{\"shape\":\"\"}},\"name\":\"blocks.8.mlp.fc1.weight.(3072, 768)\",\"offsetgroup\":\"blocks.8.mlp.fc1.weight.(3072, 768)\",\"orientation\":\"v\",\"showlegend\":true,\"textposition\":\"auto\",\"x\":[\"blocks\"],\"xaxis\":\"x\",\"y\":[2359296],\"yaxis\":\"y\",\"type\":\"bar\"},{\"alignmentgroup\":\"True\",\"hovertemplate\":\"layer=blocks.8.mlp.fc1.bias.(3072,)<br>block=%{x}<br>Log10_ParaM=%{y}<extra></extra>\",\"legendgroup\":\"blocks.8.mlp.fc1.bias.(3072,)\",\"marker\":{\"color\":\"#ab63fa\",\"pattern\":{\"shape\":\"\"}},\"name\":\"blocks.8.mlp.fc1.bias.(3072,)\",\"offsetgroup\":\"blocks.8.mlp.fc1.bias.(3072,)\",\"orientation\":\"v\",\"showlegend\":true,\"textposition\":\"auto\",\"x\":[\"blocks\"],\"xaxis\":\"x\",\"y\":[3072],\"yaxis\":\"y\",\"type\":\"bar\"},{\"alignmentgroup\":\"True\",\"hovertemplate\":\"layer=blocks.9.norm1.weight.(768,)<br>block=%{x}<br>Log10_ParaM=%{y}<extra></extra>\",\"legendgroup\":\"blocks.9.norm1.weight.(768,)\",\"marker\":{\"color\":\"#FFA15A\",\"pattern\":{\"shape\":\"\"}},\"name\":\"blocks.9.norm1.weight.(768,)\",\"offsetgroup\":\"blocks.9.norm1.weight.(768,)\",\"orientation\":\"v\",\"showlegend\":true,\"textposition\":\"auto\",\"x\":[\"blocks\"],\"xaxis\":\"x\",\"y\":[768],\"yaxis\":\"y\",\"type\":\"bar\"},{\"alignmentgroup\":\"True\",\"hovertemplate\":\"layer=blocks.9.norm1.bias.(768,)<br>block=%{x}<br>Log10_ParaM=%{y}<extra></extra>\",\"legendgroup\":\"blocks.9.norm1.bias.(768,)\",\"marker\":{\"color\":\"#19d3f3\",\"pattern\":{\"shape\":\"\"}},\"name\":\"blocks.9.norm1.bias.(768,)\",\"offsetgroup\":\"blocks.9.norm1.bias.(768,)\",\"orientation\":\"v\",\"showlegend\":true,\"textposition\":\"auto\",\"x\":[\"blocks\"],\"xaxis\":\"x\",\"y\":[768],\"yaxis\":\"y\",\"type\":\"bar\"},{\"alignmentgroup\":\"True\",\"hovertemplate\":\"layer=blocks.9.filter.w1.(2, 4, 192, 192)<br>block=%{x}<br>Log10_ParaM=%{y}<extra></extra>\",\"legendgroup\":\"blocks.9.filter.w1.(2, 4, 192, 192)\",\"marker\":{\"color\":\"#FF6692\",\"pattern\":{\"shape\":\"\"}},\"name\":\"blocks.9.filter.w1.(2, 4, 192, 192)\",\"offsetgroup\":\"blocks.9.filter.w1.(2, 4, 192, 192)\",\"orientation\":\"v\",\"showlegend\":true,\"textposition\":\"auto\",\"x\":[\"blocks\"],\"xaxis\":\"x\",\"y\":[294912],\"yaxis\":\"y\",\"type\":\"bar\"},{\"alignmentgroup\":\"True\",\"hovertemplate\":\"layer=blocks.9.filter.b1.(2, 4, 192)<br>block=%{x}<br>Log10_ParaM=%{y}<extra></extra>\",\"legendgroup\":\"blocks.9.filter.b1.(2, 4, 192)\",\"marker\":{\"color\":\"#B6E880\",\"pattern\":{\"shape\":\"\"}},\"name\":\"blocks.9.filter.b1.(2, 4, 192)\",\"offsetgroup\":\"blocks.9.filter.b1.(2, 4, 192)\",\"orientation\":\"v\",\"showlegend\":true,\"textposition\":\"auto\",\"x\":[\"blocks\"],\"xaxis\":\"x\",\"y\":[1536],\"yaxis\":\"y\",\"type\":\"bar\"},{\"alignmentgroup\":\"True\",\"hovertemplate\":\"layer=blocks.9.filter.w2.(2, 4, 192, 192)<br>block=%{x}<br>Log10_ParaM=%{y}<extra></extra>\",\"legendgroup\":\"blocks.9.filter.w2.(2, 4, 192, 192)\",\"marker\":{\"color\":\"#FF97FF\",\"pattern\":{\"shape\":\"\"}},\"name\":\"blocks.9.filter.w2.(2, 4, 192, 192)\",\"offsetgroup\":\"blocks.9.filter.w2.(2, 4, 192, 192)\",\"orientation\":\"v\",\"showlegend\":true,\"textposition\":\"auto\",\"x\":[\"blocks\"],\"xaxis\":\"x\",\"y\":[294912],\"yaxis\":\"y\",\"type\":\"bar\"},{\"alignmentgroup\":\"True\",\"hovertemplate\":\"layer=blocks.9.filter.b2.(2, 4, 192)<br>block=%{x}<br>Log10_ParaM=%{y}<extra></extra>\",\"legendgroup\":\"blocks.9.filter.b2.(2, 4, 192)\",\"marker\":{\"color\":\"#FECB52\",\"pattern\":{\"shape\":\"\"}},\"name\":\"blocks.9.filter.b2.(2, 4, 192)\",\"offsetgroup\":\"blocks.9.filter.b2.(2, 4, 192)\",\"orientation\":\"v\",\"showlegend\":true,\"textposition\":\"auto\",\"x\":[\"blocks\"],\"xaxis\":\"x\",\"y\":[1536],\"yaxis\":\"y\",\"type\":\"bar\"},{\"alignmentgroup\":\"True\",\"hovertemplate\":\"layer=blocks.9.norm2.weight.(768,)<br>block=%{x}<br>Log10_ParaM=%{y}<extra></extra>\",\"legendgroup\":\"blocks.9.norm2.weight.(768,)\",\"marker\":{\"color\":\"#636efa\",\"pattern\":{\"shape\":\"\"}},\"name\":\"blocks.9.norm2.weight.(768,)\",\"offsetgroup\":\"blocks.9.norm2.weight.(768,)\",\"orientation\":\"v\",\"showlegend\":true,\"textposition\":\"auto\",\"x\":[\"blocks\"],\"xaxis\":\"x\",\"y\":[768],\"yaxis\":\"y\",\"type\":\"bar\"},{\"alignmentgroup\":\"True\",\"hovertemplate\":\"layer=blocks.9.norm2.bias.(768,)<br>block=%{x}<br>Log10_ParaM=%{y}<extra></extra>\",\"legendgroup\":\"blocks.9.norm2.bias.(768,)\",\"marker\":{\"color\":\"#EF553B\",\"pattern\":{\"shape\":\"\"}},\"name\":\"blocks.9.norm2.bias.(768,)\",\"offsetgroup\":\"blocks.9.norm2.bias.(768,)\",\"orientation\":\"v\",\"showlegend\":true,\"textposition\":\"auto\",\"x\":[\"blocks\"],\"xaxis\":\"x\",\"y\":[768],\"yaxis\":\"y\",\"type\":\"bar\"},{\"alignmentgroup\":\"True\",\"hovertemplate\":\"layer=blocks.9.mlp.fc1.weight.(3072, 768)<br>block=%{x}<br>Log10_ParaM=%{y}<extra></extra>\",\"legendgroup\":\"blocks.9.mlp.fc1.weight.(3072, 768)\",\"marker\":{\"color\":\"#00cc96\",\"pattern\":{\"shape\":\"\"}},\"name\":\"blocks.9.mlp.fc1.weight.(3072, 768)\",\"offsetgroup\":\"blocks.9.mlp.fc1.weight.(3072, 768)\",\"orientation\":\"v\",\"showlegend\":true,\"textposition\":\"auto\",\"x\":[\"blocks\"],\"xaxis\":\"x\",\"y\":[2359296],\"yaxis\":\"y\",\"type\":\"bar\"},{\"alignmentgroup\":\"True\",\"hovertemplate\":\"layer=blocks.9.mlp.fc1.bias.(3072,)<br>block=%{x}<br>Log10_ParaM=%{y}<extra></extra>\",\"legendgroup\":\"blocks.9.mlp.fc1.bias.(3072,)\",\"marker\":{\"color\":\"#ab63fa\",\"pattern\":{\"shape\":\"\"}},\"name\":\"blocks.9.mlp.fc1.bias.(3072,)\",\"offsetgroup\":\"blocks.9.mlp.fc1.bias.(3072,)\",\"orientation\":\"v\",\"showlegend\":true,\"textposition\":\"auto\",\"x\":[\"blocks\"],\"xaxis\":\"x\",\"y\":[3072],\"yaxis\":\"y\",\"type\":\"bar\"},{\"alignmentgroup\":\"True\",\"hovertemplate\":\"layer=blocks.10.norm1.weight.(768,)<br>block=%{x}<br>Log10_ParaM=%{y}<extra></extra>\",\"legendgroup\":\"blocks.10.norm1.weight.(768,)\",\"marker\":{\"color\":\"#FFA15A\",\"pattern\":{\"shape\":\"\"}},\"name\":\"blocks.10.norm1.weight.(768,)\",\"offsetgroup\":\"blocks.10.norm1.weight.(768,)\",\"orientation\":\"v\",\"showlegend\":true,\"textposition\":\"auto\",\"x\":[\"blocks\"],\"xaxis\":\"x\",\"y\":[768],\"yaxis\":\"y\",\"type\":\"bar\"},{\"alignmentgroup\":\"True\",\"hovertemplate\":\"layer=blocks.10.norm1.bias.(768,)<br>block=%{x}<br>Log10_ParaM=%{y}<extra></extra>\",\"legendgroup\":\"blocks.10.norm1.bias.(768,)\",\"marker\":{\"color\":\"#19d3f3\",\"pattern\":{\"shape\":\"\"}},\"name\":\"blocks.10.norm1.bias.(768,)\",\"offsetgroup\":\"blocks.10.norm1.bias.(768,)\",\"orientation\":\"v\",\"showlegend\":true,\"textposition\":\"auto\",\"x\":[\"blocks\"],\"xaxis\":\"x\",\"y\":[768],\"yaxis\":\"y\",\"type\":\"bar\"},{\"alignmentgroup\":\"True\",\"hovertemplate\":\"layer=blocks.10.filter.w1.(2, 4, 192, 192)<br>block=%{x}<br>Log10_ParaM=%{y}<extra></extra>\",\"legendgroup\":\"blocks.10.filter.w1.(2, 4, 192, 192)\",\"marker\":{\"color\":\"#FF6692\",\"pattern\":{\"shape\":\"\"}},\"name\":\"blocks.10.filter.w1.(2, 4, 192, 192)\",\"offsetgroup\":\"blocks.10.filter.w1.(2, 4, 192, 192)\",\"orientation\":\"v\",\"showlegend\":true,\"textposition\":\"auto\",\"x\":[\"blocks\"],\"xaxis\":\"x\",\"y\":[294912],\"yaxis\":\"y\",\"type\":\"bar\"},{\"alignmentgroup\":\"True\",\"hovertemplate\":\"layer=blocks.10.filter.b1.(2, 4, 192)<br>block=%{x}<br>Log10_ParaM=%{y}<extra></extra>\",\"legendgroup\":\"blocks.10.filter.b1.(2, 4, 192)\",\"marker\":{\"color\":\"#B6E880\",\"pattern\":{\"shape\":\"\"}},\"name\":\"blocks.10.filter.b1.(2, 4, 192)\",\"offsetgroup\":\"blocks.10.filter.b1.(2, 4, 192)\",\"orientation\":\"v\",\"showlegend\":true,\"textposition\":\"auto\",\"x\":[\"blocks\"],\"xaxis\":\"x\",\"y\":[1536],\"yaxis\":\"y\",\"type\":\"bar\"},{\"alignmentgroup\":\"True\",\"hovertemplate\":\"layer=blocks.10.filter.w2.(2, 4, 192, 192)<br>block=%{x}<br>Log10_ParaM=%{y}<extra></extra>\",\"legendgroup\":\"blocks.10.filter.w2.(2, 4, 192, 192)\",\"marker\":{\"color\":\"#FF97FF\",\"pattern\":{\"shape\":\"\"}},\"name\":\"blocks.10.filter.w2.(2, 4, 192, 192)\",\"offsetgroup\":\"blocks.10.filter.w2.(2, 4, 192, 192)\",\"orientation\":\"v\",\"showlegend\":true,\"textposition\":\"auto\",\"x\":[\"blocks\"],\"xaxis\":\"x\",\"y\":[294912],\"yaxis\":\"y\",\"type\":\"bar\"},{\"alignmentgroup\":\"True\",\"hovertemplate\":\"layer=blocks.10.filter.b2.(2, 4, 192)<br>block=%{x}<br>Log10_ParaM=%{y}<extra></extra>\",\"legendgroup\":\"blocks.10.filter.b2.(2, 4, 192)\",\"marker\":{\"color\":\"#FECB52\",\"pattern\":{\"shape\":\"\"}},\"name\":\"blocks.10.filter.b2.(2, 4, 192)\",\"offsetgroup\":\"blocks.10.filter.b2.(2, 4, 192)\",\"orientation\":\"v\",\"showlegend\":true,\"textposition\":\"auto\",\"x\":[\"blocks\"],\"xaxis\":\"x\",\"y\":[1536],\"yaxis\":\"y\",\"type\":\"bar\"},{\"alignmentgroup\":\"True\",\"hovertemplate\":\"layer=blocks.10.norm2.weight.(768,)<br>block=%{x}<br>Log10_ParaM=%{y}<extra></extra>\",\"legendgroup\":\"blocks.10.norm2.weight.(768,)\",\"marker\":{\"color\":\"#636efa\",\"pattern\":{\"shape\":\"\"}},\"name\":\"blocks.10.norm2.weight.(768,)\",\"offsetgroup\":\"blocks.10.norm2.weight.(768,)\",\"orientation\":\"v\",\"showlegend\":true,\"textposition\":\"auto\",\"x\":[\"blocks\"],\"xaxis\":\"x\",\"y\":[768],\"yaxis\":\"y\",\"type\":\"bar\"},{\"alignmentgroup\":\"True\",\"hovertemplate\":\"layer=blocks.10.norm2.bias.(768,)<br>block=%{x}<br>Log10_ParaM=%{y}<extra></extra>\",\"legendgroup\":\"blocks.10.norm2.bias.(768,)\",\"marker\":{\"color\":\"#EF553B\",\"pattern\":{\"shape\":\"\"}},\"name\":\"blocks.10.norm2.bias.(768,)\",\"offsetgroup\":\"blocks.10.norm2.bias.(768,)\",\"orientation\":\"v\",\"showlegend\":true,\"textposition\":\"auto\",\"x\":[\"blocks\"],\"xaxis\":\"x\",\"y\":[768],\"yaxis\":\"y\",\"type\":\"bar\"},{\"alignmentgroup\":\"True\",\"hovertemplate\":\"layer=blocks.10.mlp.fc1.weight.(3072, 768)<br>block=%{x}<br>Log10_ParaM=%{y}<extra></extra>\",\"legendgroup\":\"blocks.10.mlp.fc1.weight.(3072, 768)\",\"marker\":{\"color\":\"#00cc96\",\"pattern\":{\"shape\":\"\"}},\"name\":\"blocks.10.mlp.fc1.weight.(3072, 768)\",\"offsetgroup\":\"blocks.10.mlp.fc1.weight.(3072, 768)\",\"orientation\":\"v\",\"showlegend\":true,\"textposition\":\"auto\",\"x\":[\"blocks\"],\"xaxis\":\"x\",\"y\":[2359296],\"yaxis\":\"y\",\"type\":\"bar\"},{\"alignmentgroup\":\"True\",\"hovertemplate\":\"layer=blocks.10.mlp.fc1.bias.(3072,)<br>block=%{x}<br>Log10_ParaM=%{y}<extra></extra>\",\"legendgroup\":\"blocks.10.mlp.fc1.bias.(3072,)\",\"marker\":{\"color\":\"#ab63fa\",\"pattern\":{\"shape\":\"\"}},\"name\":\"blocks.10.mlp.fc1.bias.(3072,)\",\"offsetgroup\":\"blocks.10.mlp.fc1.bias.(3072,)\",\"orientation\":\"v\",\"showlegend\":true,\"textposition\":\"auto\",\"x\":[\"blocks\"],\"xaxis\":\"x\",\"y\":[3072],\"yaxis\":\"y\",\"type\":\"bar\"},{\"alignmentgroup\":\"True\",\"hovertemplate\":\"layer=blocks.11.norm1.weight.(768,)<br>block=%{x}<br>Log10_ParaM=%{y}<extra></extra>\",\"legendgroup\":\"blocks.11.norm1.weight.(768,)\",\"marker\":{\"color\":\"#FFA15A\",\"pattern\":{\"shape\":\"\"}},\"name\":\"blocks.11.norm1.weight.(768,)\",\"offsetgroup\":\"blocks.11.norm1.weight.(768,)\",\"orientation\":\"v\",\"showlegend\":true,\"textposition\":\"auto\",\"x\":[\"blocks\"],\"xaxis\":\"x\",\"y\":[768],\"yaxis\":\"y\",\"type\":\"bar\"},{\"alignmentgroup\":\"True\",\"hovertemplate\":\"layer=blocks.11.norm1.bias.(768,)<br>block=%{x}<br>Log10_ParaM=%{y}<extra></extra>\",\"legendgroup\":\"blocks.11.norm1.bias.(768,)\",\"marker\":{\"color\":\"#19d3f3\",\"pattern\":{\"shape\":\"\"}},\"name\":\"blocks.11.norm1.bias.(768,)\",\"offsetgroup\":\"blocks.11.norm1.bias.(768,)\",\"orientation\":\"v\",\"showlegend\":true,\"textposition\":\"auto\",\"x\":[\"blocks\"],\"xaxis\":\"x\",\"y\":[768],\"yaxis\":\"y\",\"type\":\"bar\"},{\"alignmentgroup\":\"True\",\"hovertemplate\":\"layer=blocks.11.filter.w1.(2, 4, 192, 192)<br>block=%{x}<br>Log10_ParaM=%{y}<extra></extra>\",\"legendgroup\":\"blocks.11.filter.w1.(2, 4, 192, 192)\",\"marker\":{\"color\":\"#FF6692\",\"pattern\":{\"shape\":\"\"}},\"name\":\"blocks.11.filter.w1.(2, 4, 192, 192)\",\"offsetgroup\":\"blocks.11.filter.w1.(2, 4, 192, 192)\",\"orientation\":\"v\",\"showlegend\":true,\"textposition\":\"auto\",\"x\":[\"blocks\"],\"xaxis\":\"x\",\"y\":[294912],\"yaxis\":\"y\",\"type\":\"bar\"},{\"alignmentgroup\":\"True\",\"hovertemplate\":\"layer=blocks.11.filter.b1.(2, 4, 192)<br>block=%{x}<br>Log10_ParaM=%{y}<extra></extra>\",\"legendgroup\":\"blocks.11.filter.b1.(2, 4, 192)\",\"marker\":{\"color\":\"#B6E880\",\"pattern\":{\"shape\":\"\"}},\"name\":\"blocks.11.filter.b1.(2, 4, 192)\",\"offsetgroup\":\"blocks.11.filter.b1.(2, 4, 192)\",\"orientation\":\"v\",\"showlegend\":true,\"textposition\":\"auto\",\"x\":[\"blocks\"],\"xaxis\":\"x\",\"y\":[1536],\"yaxis\":\"y\",\"type\":\"bar\"},{\"alignmentgroup\":\"True\",\"hovertemplate\":\"layer=blocks.11.filter.w2.(2, 4, 192, 192)<br>block=%{x}<br>Log10_ParaM=%{y}<extra></extra>\",\"legendgroup\":\"blocks.11.filter.w2.(2, 4, 192, 192)\",\"marker\":{\"color\":\"#FF97FF\",\"pattern\":{\"shape\":\"\"}},\"name\":\"blocks.11.filter.w2.(2, 4, 192, 192)\",\"offsetgroup\":\"blocks.11.filter.w2.(2, 4, 192, 192)\",\"orientation\":\"v\",\"showlegend\":true,\"textposition\":\"auto\",\"x\":[\"blocks\"],\"xaxis\":\"x\",\"y\":[294912],\"yaxis\":\"y\",\"type\":\"bar\"},{\"alignmentgroup\":\"True\",\"hovertemplate\":\"layer=blocks.11.filter.b2.(2, 4, 192)<br>block=%{x}<br>Log10_ParaM=%{y}<extra></extra>\",\"legendgroup\":\"blocks.11.filter.b2.(2, 4, 192)\",\"marker\":{\"color\":\"#FECB52\",\"pattern\":{\"shape\":\"\"}},\"name\":\"blocks.11.filter.b2.(2, 4, 192)\",\"offsetgroup\":\"blocks.11.filter.b2.(2, 4, 192)\",\"orientation\":\"v\",\"showlegend\":true,\"textposition\":\"auto\",\"x\":[\"blocks\"],\"xaxis\":\"x\",\"y\":[1536],\"yaxis\":\"y\",\"type\":\"bar\"},{\"alignmentgroup\":\"True\",\"hovertemplate\":\"layer=blocks.11.norm2.weight.(768,)<br>block=%{x}<br>Log10_ParaM=%{y}<extra></extra>\",\"legendgroup\":\"blocks.11.norm2.weight.(768,)\",\"marker\":{\"color\":\"#636efa\",\"pattern\":{\"shape\":\"\"}},\"name\":\"blocks.11.norm2.weight.(768,)\",\"offsetgroup\":\"blocks.11.norm2.weight.(768,)\",\"orientation\":\"v\",\"showlegend\":true,\"textposition\":\"auto\",\"x\":[\"blocks\"],\"xaxis\":\"x\",\"y\":[768],\"yaxis\":\"y\",\"type\":\"bar\"},{\"alignmentgroup\":\"True\",\"hovertemplate\":\"layer=blocks.11.norm2.bias.(768,)<br>block=%{x}<br>Log10_ParaM=%{y}<extra></extra>\",\"legendgroup\":\"blocks.11.norm2.bias.(768,)\",\"marker\":{\"color\":\"#EF553B\",\"pattern\":{\"shape\":\"\"}},\"name\":\"blocks.11.norm2.bias.(768,)\",\"offsetgroup\":\"blocks.11.norm2.bias.(768,)\",\"orientation\":\"v\",\"showlegend\":true,\"textposition\":\"auto\",\"x\":[\"blocks\"],\"xaxis\":\"x\",\"y\":[768],\"yaxis\":\"y\",\"type\":\"bar\"},{\"alignmentgroup\":\"True\",\"hovertemplate\":\"layer=blocks.11.mlp.fc1.weight.(3072, 768)<br>block=%{x}<br>Log10_ParaM=%{y}<extra></extra>\",\"legendgroup\":\"blocks.11.mlp.fc1.weight.(3072, 768)\",\"marker\":{\"color\":\"#00cc96\",\"pattern\":{\"shape\":\"\"}},\"name\":\"blocks.11.mlp.fc1.weight.(3072, 768)\",\"offsetgroup\":\"blocks.11.mlp.fc1.weight.(3072, 768)\",\"orientation\":\"v\",\"showlegend\":true,\"textposition\":\"auto\",\"x\":[\"blocks\"],\"xaxis\":\"x\",\"y\":[2359296],\"yaxis\":\"y\",\"type\":\"bar\"},{\"alignmentgroup\":\"True\",\"hovertemplate\":\"layer=blocks.11.mlp.fc1.bias.(3072,)<br>block=%{x}<br>Log10_ParaM=%{y}<extra></extra>\",\"legendgroup\":\"blocks.11.mlp.fc1.bias.(3072,)\",\"marker\":{\"color\":\"#ab63fa\",\"pattern\":{\"shape\":\"\"}},\"name\":\"blocks.11.mlp.fc1.bias.(3072,)\",\"offsetgroup\":\"blocks.11.mlp.fc1.bias.(3072,)\",\"orientation\":\"v\",\"showlegend\":true,\"textposition\":\"auto\",\"x\":[\"blocks\"],\"xaxis\":\"x\",\"y\":[3072],\"yaxis\":\"y\",\"type\":\"bar\"},{\"alignmentgroup\":\"True\",\"hovertemplate\":\"layer=norm.weight.(768,)<br>block=%{x}<br>Log10_ParaM=%{y}<extra></extra>\",\"legendgroup\":\"norm.weight.(768,)\",\"marker\":{\"color\":\"#FFA15A\",\"pattern\":{\"shape\":\"\"}},\"name\":\"norm.weight.(768,)\",\"offsetgroup\":\"norm.weight.(768,)\",\"orientation\":\"v\",\"showlegend\":true,\"textposition\":\"auto\",\"x\":[\"norm\"],\"xaxis\":\"x\",\"y\":[768],\"yaxis\":\"y\",\"type\":\"bar\"},{\"alignmentgroup\":\"True\",\"hovertemplate\":\"layer=norm.bias.(768,)<br>block=%{x}<br>Log10_ParaM=%{y}<extra></extra>\",\"legendgroup\":\"norm.bias.(768,)\",\"marker\":{\"color\":\"#19d3f3\",\"pattern\":{\"shape\":\"\"}},\"name\":\"norm.bias.(768,)\",\"offsetgroup\":\"norm.bias.(768,)\",\"orientation\":\"v\",\"showlegend\":true,\"textposition\":\"auto\",\"x\":[\"norm\"],\"xaxis\":\"x\",\"y\":[768],\"yaxis\":\"y\",\"type\":\"bar\"},{\"alignmentgroup\":\"True\",\"hovertemplate\":\"layer=pre_logits.conv1.conv_layers.0.weight.(768, 480, 3)<br>block=%{x}<br>Log10_ParaM=%{y}<extra></extra>\",\"legendgroup\":\"pre_logits.conv1.conv_layers.0.weight.(768, 480, 3)\",\"marker\":{\"color\":\"#FF6692\",\"pattern\":{\"shape\":\"\"}},\"name\":\"pre_logits.conv1.conv_layers.0.weight.(768, 480, 3)\",\"offsetgroup\":\"pre_logits.conv1.conv_layers.0.weight.(768, 480, 3)\",\"orientation\":\"v\",\"showlegend\":true,\"textposition\":\"auto\",\"x\":[\"pre_logits\"],\"xaxis\":\"x\",\"y\":[1105920],\"yaxis\":\"y\",\"type\":\"bar\"},{\"alignmentgroup\":\"True\",\"hovertemplate\":\"layer=pre_logits.conv1.conv_layers.1.weight.(768, 480, 3)<br>block=%{x}<br>Log10_ParaM=%{y}<extra></extra>\",\"legendgroup\":\"pre_logits.conv1.conv_layers.1.weight.(768, 480, 3)\",\"marker\":{\"color\":\"#B6E880\",\"pattern\":{\"shape\":\"\"}},\"name\":\"pre_logits.conv1.conv_layers.1.weight.(768, 480, 3)\",\"offsetgroup\":\"pre_logits.conv1.conv_layers.1.weight.(768, 480, 3)\",\"orientation\":\"v\",\"showlegend\":true,\"textposition\":\"auto\",\"x\":[\"pre_logits\"],\"xaxis\":\"x\",\"y\":[1105920],\"yaxis\":\"y\",\"type\":\"bar\"},{\"alignmentgroup\":\"True\",\"hovertemplate\":\"layer=pre_logits.conv1.conv_layers.2.weight.(768, 480, 3)<br>block=%{x}<br>Log10_ParaM=%{y}<extra></extra>\",\"legendgroup\":\"pre_logits.conv1.conv_layers.2.weight.(768, 480, 3)\",\"marker\":{\"color\":\"#FF97FF\",\"pattern\":{\"shape\":\"\"}},\"name\":\"pre_logits.conv1.conv_layers.2.weight.(768, 480, 3)\",\"offsetgroup\":\"pre_logits.conv1.conv_layers.2.weight.(768, 480, 3)\",\"orientation\":\"v\",\"showlegend\":true,\"textposition\":\"auto\",\"x\":[\"pre_logits\"],\"xaxis\":\"x\",\"y\":[1105920],\"yaxis\":\"y\",\"type\":\"bar\"},{\"alignmentgroup\":\"True\",\"hovertemplate\":\"layer=pre_logits.conv2.conv_layers.0.weight.(480, 120, 3)<br>block=%{x}<br>Log10_ParaM=%{y}<extra></extra>\",\"legendgroup\":\"pre_logits.conv2.conv_layers.0.weight.(480, 120, 3)\",\"marker\":{\"color\":\"#FECB52\",\"pattern\":{\"shape\":\"\"}},\"name\":\"pre_logits.conv2.conv_layers.0.weight.(480, 120, 3)\",\"offsetgroup\":\"pre_logits.conv2.conv_layers.0.weight.(480, 120, 3)\",\"orientation\":\"v\",\"showlegend\":true,\"textposition\":\"auto\",\"x\":[\"pre_logits\"],\"xaxis\":\"x\",\"y\":[172800],\"yaxis\":\"y\",\"type\":\"bar\"},{\"alignmentgroup\":\"True\",\"hovertemplate\":\"layer=pre_logits.conv2.conv_layers.1.weight.(480, 120, 3)<br>block=%{x}<br>Log10_ParaM=%{y}<extra></extra>\",\"legendgroup\":\"pre_logits.conv2.conv_layers.1.weight.(480, 120, 3)\",\"marker\":{\"color\":\"#636efa\",\"pattern\":{\"shape\":\"\"}},\"name\":\"pre_logits.conv2.conv_layers.1.weight.(480, 120, 3)\",\"offsetgroup\":\"pre_logits.conv2.conv_layers.1.weight.(480, 120, 3)\",\"orientation\":\"v\",\"showlegend\":true,\"textposition\":\"auto\",\"x\":[\"pre_logits\"],\"xaxis\":\"x\",\"y\":[172800],\"yaxis\":\"y\",\"type\":\"bar\"},{\"alignmentgroup\":\"True\",\"hovertemplate\":\"layer=pre_logits.conv2.conv_layers.2.weight.(480, 120, 3)<br>block=%{x}<br>Log10_ParaM=%{y}<extra></extra>\",\"legendgroup\":\"pre_logits.conv2.conv_layers.2.weight.(480, 120, 3)\",\"marker\":{\"color\":\"#EF553B\",\"pattern\":{\"shape\":\"\"}},\"name\":\"pre_logits.conv2.conv_layers.2.weight.(480, 120, 3)\",\"offsetgroup\":\"pre_logits.conv2.conv_layers.2.weight.(480, 120, 3)\",\"orientation\":\"v\",\"showlegend\":true,\"textposition\":\"auto\",\"x\":[\"pre_logits\"],\"xaxis\":\"x\",\"y\":[172800],\"yaxis\":\"y\",\"type\":\"bar\"},{\"alignmentgroup\":\"True\",\"hovertemplate\":\"layer=head.conv_layers.0.weight.(120, 30, 2)<br>block=%{x}<br>Log10_ParaM=%{y}<extra></extra>\",\"legendgroup\":\"head.conv_layers.0.weight.(120, 30, 2)\",\"marker\":{\"color\":\"#00cc96\",\"pattern\":{\"shape\":\"\"}},\"name\":\"head.conv_layers.0.weight.(120, 30, 2)\",\"offsetgroup\":\"head.conv_layers.0.weight.(120, 30, 2)\",\"orientation\":\"v\",\"showlegend\":true,\"textposition\":\"auto\",\"x\":[\"head\"],\"xaxis\":\"x\",\"y\":[7200],\"yaxis\":\"y\",\"type\":\"bar\"},{\"alignmentgroup\":\"True\",\"hovertemplate\":\"layer=head.conv_layers.1.weight.(120, 30, 2)<br>block=%{x}<br>Log10_ParaM=%{y}<extra></extra>\",\"legendgroup\":\"head.conv_layers.1.weight.(120, 30, 2)\",\"marker\":{\"color\":\"#ab63fa\",\"pattern\":{\"shape\":\"\"}},\"name\":\"head.conv_layers.1.weight.(120, 30, 2)\",\"offsetgroup\":\"head.conv_layers.1.weight.(120, 30, 2)\",\"orientation\":\"v\",\"showlegend\":true,\"textposition\":\"auto\",\"x\":[\"head\"],\"xaxis\":\"x\",\"y\":[7200],\"yaxis\":\"y\",\"type\":\"bar\"}],                        {\"template\":{\"data\":{\"histogram2dcontour\":[{\"type\":\"histogram2dcontour\",\"colorbar\":{\"outlinewidth\":0,\"ticks\":\"\"},\"colorscale\":[[0.0,\"#0d0887\"],[0.1111111111111111,\"#46039f\"],[0.2222222222222222,\"#7201a8\"],[0.3333333333333333,\"#9c179e\"],[0.4444444444444444,\"#bd3786\"],[0.5555555555555556,\"#d8576b\"],[0.6666666666666666,\"#ed7953\"],[0.7777777777777778,\"#fb9f3a\"],[0.8888888888888888,\"#fdca26\"],[1.0,\"#f0f921\"]]}],\"choropleth\":[{\"type\":\"choropleth\",\"colorbar\":{\"outlinewidth\":0,\"ticks\":\"\"}}],\"histogram2d\":[{\"type\":\"histogram2d\",\"colorbar\":{\"outlinewidth\":0,\"ticks\":\"\"},\"colorscale\":[[0.0,\"#0d0887\"],[0.1111111111111111,\"#46039f\"],[0.2222222222222222,\"#7201a8\"],[0.3333333333333333,\"#9c179e\"],[0.4444444444444444,\"#bd3786\"],[0.5555555555555556,\"#d8576b\"],[0.6666666666666666,\"#ed7953\"],[0.7777777777777778,\"#fb9f3a\"],[0.8888888888888888,\"#fdca26\"],[1.0,\"#f0f921\"]]}],\"heatmap\":[{\"type\":\"heatmap\",\"colorbar\":{\"outlinewidth\":0,\"ticks\":\"\"},\"colorscale\":[[0.0,\"#0d0887\"],[0.1111111111111111,\"#46039f\"],[0.2222222222222222,\"#7201a8\"],[0.3333333333333333,\"#9c179e\"],[0.4444444444444444,\"#bd3786\"],[0.5555555555555556,\"#d8576b\"],[0.6666666666666666,\"#ed7953\"],[0.7777777777777778,\"#fb9f3a\"],[0.8888888888888888,\"#fdca26\"],[1.0,\"#f0f921\"]]}],\"heatmapgl\":[{\"type\":\"heatmapgl\",\"colorbar\":{\"outlinewidth\":0,\"ticks\":\"\"},\"colorscale\":[[0.0,\"#0d0887\"],[0.1111111111111111,\"#46039f\"],[0.2222222222222222,\"#7201a8\"],[0.3333333333333333,\"#9c179e\"],[0.4444444444444444,\"#bd3786\"],[0.5555555555555556,\"#d8576b\"],[0.6666666666666666,\"#ed7953\"],[0.7777777777777778,\"#fb9f3a\"],[0.8888888888888888,\"#fdca26\"],[1.0,\"#f0f921\"]]}],\"contourcarpet\":[{\"type\":\"contourcarpet\",\"colorbar\":{\"outlinewidth\":0,\"ticks\":\"\"}}],\"contour\":[{\"type\":\"contour\",\"colorbar\":{\"outlinewidth\":0,\"ticks\":\"\"},\"colorscale\":[[0.0,\"#0d0887\"],[0.1111111111111111,\"#46039f\"],[0.2222222222222222,\"#7201a8\"],[0.3333333333333333,\"#9c179e\"],[0.4444444444444444,\"#bd3786\"],[0.5555555555555556,\"#d8576b\"],[0.6666666666666666,\"#ed7953\"],[0.7777777777777778,\"#fb9f3a\"],[0.8888888888888888,\"#fdca26\"],[1.0,\"#f0f921\"]]}],\"surface\":[{\"type\":\"surface\",\"colorbar\":{\"outlinewidth\":0,\"ticks\":\"\"},\"colorscale\":[[0.0,\"#0d0887\"],[0.1111111111111111,\"#46039f\"],[0.2222222222222222,\"#7201a8\"],[0.3333333333333333,\"#9c179e\"],[0.4444444444444444,\"#bd3786\"],[0.5555555555555556,\"#d8576b\"],[0.6666666666666666,\"#ed7953\"],[0.7777777777777778,\"#fb9f3a\"],[0.8888888888888888,\"#fdca26\"],[1.0,\"#f0f921\"]]}],\"mesh3d\":[{\"type\":\"mesh3d\",\"colorbar\":{\"outlinewidth\":0,\"ticks\":\"\"}}],\"scatter\":[{\"fillpattern\":{\"fillmode\":\"overlay\",\"size\":10,\"solidity\":0.2},\"type\":\"scatter\"}],\"parcoords\":[{\"type\":\"parcoords\",\"line\":{\"colorbar\":{\"outlinewidth\":0,\"ticks\":\"\"}}}],\"scatterpolargl\":[{\"type\":\"scatterpolargl\",\"marker\":{\"colorbar\":{\"outlinewidth\":0,\"ticks\":\"\"}}}],\"bar\":[{\"error_x\":{\"color\":\"#2a3f5f\"},\"error_y\":{\"color\":\"#2a3f5f\"},\"marker\":{\"line\":{\"color\":\"#E5ECF6\",\"width\":0.5},\"pattern\":{\"fillmode\":\"overlay\",\"size\":10,\"solidity\":0.2}},\"type\":\"bar\"}],\"scattergeo\":[{\"type\":\"scattergeo\",\"marker\":{\"colorbar\":{\"outlinewidth\":0,\"ticks\":\"\"}}}],\"scatterpolar\":[{\"type\":\"scatterpolar\",\"marker\":{\"colorbar\":{\"outlinewidth\":0,\"ticks\":\"\"}}}],\"histogram\":[{\"marker\":{\"pattern\":{\"fillmode\":\"overlay\",\"size\":10,\"solidity\":0.2}},\"type\":\"histogram\"}],\"scattergl\":[{\"type\":\"scattergl\",\"marker\":{\"colorbar\":{\"outlinewidth\":0,\"ticks\":\"\"}}}],\"scatter3d\":[{\"type\":\"scatter3d\",\"line\":{\"colorbar\":{\"outlinewidth\":0,\"ticks\":\"\"}},\"marker\":{\"colorbar\":{\"outlinewidth\":0,\"ticks\":\"\"}}}],\"scattermapbox\":[{\"type\":\"scattermapbox\",\"marker\":{\"colorbar\":{\"outlinewidth\":0,\"ticks\":\"\"}}}],\"scatterternary\":[{\"type\":\"scatterternary\",\"marker\":{\"colorbar\":{\"outlinewidth\":0,\"ticks\":\"\"}}}],\"scattercarpet\":[{\"type\":\"scattercarpet\",\"marker\":{\"colorbar\":{\"outlinewidth\":0,\"ticks\":\"\"}}}],\"carpet\":[{\"aaxis\":{\"endlinecolor\":\"#2a3f5f\",\"gridcolor\":\"white\",\"linecolor\":\"white\",\"minorgridcolor\":\"white\",\"startlinecolor\":\"#2a3f5f\"},\"baxis\":{\"endlinecolor\":\"#2a3f5f\",\"gridcolor\":\"white\",\"linecolor\":\"white\",\"minorgridcolor\":\"white\",\"startlinecolor\":\"#2a3f5f\"},\"type\":\"carpet\"}],\"table\":[{\"cells\":{\"fill\":{\"color\":\"#EBF0F8\"},\"line\":{\"color\":\"white\"}},\"header\":{\"fill\":{\"color\":\"#C8D4E3\"},\"line\":{\"color\":\"white\"}},\"type\":\"table\"}],\"barpolar\":[{\"marker\":{\"line\":{\"color\":\"#E5ECF6\",\"width\":0.5},\"pattern\":{\"fillmode\":\"overlay\",\"size\":10,\"solidity\":0.2}},\"type\":\"barpolar\"}],\"pie\":[{\"automargin\":true,\"type\":\"pie\"}]},\"layout\":{\"autotypenumbers\":\"strict\",\"colorway\":[\"#636efa\",\"#EF553B\",\"#00cc96\",\"#ab63fa\",\"#FFA15A\",\"#19d3f3\",\"#FF6692\",\"#B6E880\",\"#FF97FF\",\"#FECB52\"],\"font\":{\"color\":\"#2a3f5f\"},\"hovermode\":\"closest\",\"hoverlabel\":{\"align\":\"left\"},\"paper_bgcolor\":\"white\",\"plot_bgcolor\":\"#E5ECF6\",\"polar\":{\"bgcolor\":\"#E5ECF6\",\"angularaxis\":{\"gridcolor\":\"white\",\"linecolor\":\"white\",\"ticks\":\"\"},\"radialaxis\":{\"gridcolor\":\"white\",\"linecolor\":\"white\",\"ticks\":\"\"}},\"ternary\":{\"bgcolor\":\"#E5ECF6\",\"aaxis\":{\"gridcolor\":\"white\",\"linecolor\":\"white\",\"ticks\":\"\"},\"baxis\":{\"gridcolor\":\"white\",\"linecolor\":\"white\",\"ticks\":\"\"},\"caxis\":{\"gridcolor\":\"white\",\"linecolor\":\"white\",\"ticks\":\"\"}},\"coloraxis\":{\"colorbar\":{\"outlinewidth\":0,\"ticks\":\"\"}},\"colorscale\":{\"sequential\":[[0.0,\"#0d0887\"],[0.1111111111111111,\"#46039f\"],[0.2222222222222222,\"#7201a8\"],[0.3333333333333333,\"#9c179e\"],[0.4444444444444444,\"#bd3786\"],[0.5555555555555556,\"#d8576b\"],[0.6666666666666666,\"#ed7953\"],[0.7777777777777778,\"#fb9f3a\"],[0.8888888888888888,\"#fdca26\"],[1.0,\"#f0f921\"]],\"sequentialminus\":[[0.0,\"#0d0887\"],[0.1111111111111111,\"#46039f\"],[0.2222222222222222,\"#7201a8\"],[0.3333333333333333,\"#9c179e\"],[0.4444444444444444,\"#bd3786\"],[0.5555555555555556,\"#d8576b\"],[0.6666666666666666,\"#ed7953\"],[0.7777777777777778,\"#fb9f3a\"],[0.8888888888888888,\"#fdca26\"],[1.0,\"#f0f921\"]],\"diverging\":[[0,\"#8e0152\"],[0.1,\"#c51b7d\"],[0.2,\"#de77ae\"],[0.3,\"#f1b6da\"],[0.4,\"#fde0ef\"],[0.5,\"#f7f7f7\"],[0.6,\"#e6f5d0\"],[0.7,\"#b8e186\"],[0.8,\"#7fbc41\"],[0.9,\"#4d9221\"],[1,\"#276419\"]]},\"xaxis\":{\"gridcolor\":\"white\",\"linecolor\":\"white\",\"ticks\":\"\",\"title\":{\"standoff\":15},\"zerolinecolor\":\"white\",\"automargin\":true,\"zerolinewidth\":2},\"yaxis\":{\"gridcolor\":\"white\",\"linecolor\":\"white\",\"ticks\":\"\",\"title\":{\"standoff\":15},\"zerolinecolor\":\"white\",\"automargin\":true,\"zerolinewidth\":2},\"scene\":{\"xaxis\":{\"backgroundcolor\":\"#E5ECF6\",\"gridcolor\":\"white\",\"linecolor\":\"white\",\"showbackground\":true,\"ticks\":\"\",\"zerolinecolor\":\"white\",\"gridwidth\":2},\"yaxis\":{\"backgroundcolor\":\"#E5ECF6\",\"gridcolor\":\"white\",\"linecolor\":\"white\",\"showbackground\":true,\"ticks\":\"\",\"zerolinecolor\":\"white\",\"gridwidth\":2},\"zaxis\":{\"backgroundcolor\":\"#E5ECF6\",\"gridcolor\":\"white\",\"linecolor\":\"white\",\"showbackground\":true,\"ticks\":\"\",\"zerolinecolor\":\"white\",\"gridwidth\":2}},\"shapedefaults\":{\"line\":{\"color\":\"#2a3f5f\"}},\"annotationdefaults\":{\"arrowcolor\":\"#2a3f5f\",\"arrowhead\":0,\"arrowwidth\":1},\"geo\":{\"bgcolor\":\"white\",\"landcolor\":\"#E5ECF6\",\"subunitcolor\":\"white\",\"showland\":true,\"showlakes\":true,\"lakecolor\":\"white\"},\"title\":{\"x\":0.05},\"mapbox\":{\"style\":\"light\"}}},\"xaxis\":{\"anchor\":\"y\",\"domain\":[0.0,1.0],\"title\":{\"text\":\"block\"}},\"yaxis\":{\"anchor\":\"x\",\"domain\":[0.0,1.0],\"title\":{\"text\":\"Log10_ParaM\"}},\"legend\":{\"title\":{\"text\":\"layer\"},\"tracegroupgap\":0},\"title\":{\"text\":\"My plot\"},\"barmode\":\"relative\",\"height\":600,\"showlegend\":false},                        {\"responsive\": true}                    ).then(function(){\n",
       "                            \n",
       "var gd = document.getElementById('da5d84ba-ce60-4c2d-bfc8-9b01512b780a');\n",
       "var x = new MutationObserver(function (mutations, observer) {{\n",
       "        var display = window.getComputedStyle(gd).display;\n",
       "        if (!display || display === 'none') {{\n",
       "            console.log([gd, 'removed!']);\n",
       "            Plotly.purge(gd);\n",
       "            observer.disconnect();\n",
       "        }}\n",
       "}});\n",
       "\n",
       "// Listen for the removal of the full notebook cells\n",
       "var notebookContainer = gd.closest('#notebook-container');\n",
       "if (notebookContainer) {{\n",
       "    x.observe(notebookContainer, {childList: true});\n",
       "}}\n",
       "\n",
       "// Listen for the clearing of the current output cell\n",
       "var outputEl = gd.closest('.output');\n",
       "if (outputEl) {{\n",
       "    x.observe(outputEl, {childList: true});\n",
       "}}\n",
       "\n",
       "                        })                };                });            </script>        </div>"
      ]
     },
     "metadata": {},
     "output_type": "display_data"
    }
   ],
   "source": [
    "get_model_para_bar(model)#768 30"
   ]
  },
  {
   "cell_type": "code",
   "execution_count": 91,
   "id": "287c52be",
   "metadata": {
    "code_folding": [
     9,
     27,
     29
    ]
   },
   "outputs": [
    {
     "name": "stdout",
     "output_type": "stream",
     "text": [
      "log at checkpoints/ERA5_20/FEDformer.normal_select.M32-33-6_P1L3/history_6_time_step_7_pretrain-small_every_1_step/10_20_15_17_50-seed_42\n",
      "mode                           ---> pretrain\n",
      "train_set                      ---> small\n",
      "batch_size                     ---> 4\n",
      "valid_batch_size               ---> 12\n",
      "epochs                         ---> 80\n",
      "save_warm_up                   ---> 5\n",
      "more_epoch_train               ---> 0\n",
      "seed                           ---> 42\n",
      "input_noise_std                ---> 0.0\n",
      "do_final_fourcast              ---> 1\n",
      "debug                          ---> 0\n",
      "distributed                    ---> 0\n",
      "rank                           ---> 0\n",
      "continue_train                 ---> 0\n",
      "model_type                     ---> FEDformer\n",
      "patch_size                     ---> 8\n",
      "img_size                       ---> (32, 64)\n",
      "modes                          ---> 32,33,6\n",
      "mode_select                    ---> normal\n",
      "physics_num                    ---> 4\n",
      "input_channel                  ---> 20\n",
      "output_channel                 ---> 20\n",
      "embed_dim                      ---> 128\n",
      "model_depth                    ---> 2\n",
      "history_length                 ---> 6\n",
      "block_target_timestamp         ---> 0\n",
      "canonical_fft                  ---> 1\n",
      "unique_up_sample_channel       ---> 0\n",
      "pred_len                       ---> 1\n",
      "label_len                      ---> 3\n",
      "use_amp                        ---> 0\n",
      "random_time_step               ---> False\n",
      "use_scalar_advection           ---> False\n",
      "fno_bias                       ---> False\n",
      "fno_blocks                     ---> 4\n",
      "fno_softshrink                 ---> 0.0\n",
      "double_skip                    ---> False\n",
      "tensorboard_dir                ---> None\n",
      "hidden_size                    ---> 256\n",
      "num_layers                     ---> 12\n",
      "checkpoint_activations         ---> False\n",
      "autoresume                     ---> False\n",
      "wrapper_model                  ---> \n",
      "dataset_type                   ---> ERA5CephSmallDataset\n",
      "dataset_flag                   ---> \n",
      "time_reverse_flag              ---> only_forward\n",
      "time_intervel                  ---> 1\n",
      "time_step                      ---> 7\n",
      "data_root                      ---> \n",
      "use_time_stamp                 ---> 1\n",
      "cross_sample                   ---> 1\n",
      "use_inmemory_dataset           ---> 0\n",
      "pretrain_weight                ---> \n",
      "fourcast_randn_initial         ---> 0\n",
      "force_fourcast                 ---> 0\n",
      "opt                            ---> adamw\n",
      "opt_eps                        ---> 1e-08\n",
      "opt_betas                      ---> None\n",
      "clip_grad                      ---> 0\n",
      "momentum                       ---> 0.9\n",
      "weight_decay                   ---> 0.05\n",
      "lr                             ---> 0.0005\n",
      "sched                          ---> cosine\n",
      "lr_noise                       ---> None\n",
      "lr_noise_pct                   ---> 0.67\n",
      "lr_noise_std                   ---> 1.0\n",
      "warmup_lr                      ---> 1e-06\n",
      "min_lr                         ---> 1e-05\n",
      "decay_epochs                   ---> 30\n",
      "warmup_epochs                  ---> 5\n",
      "cooldown_epochs                ---> 10\n",
      "patience_epochs                ---> 10\n",
      "decay_rate                     ---> 0.1\n",
      "gpu                            ---> 0\n",
      "local_rank                     ---> 0\n",
      "half_model                     ---> False\n",
      "accumulation_steps_global      ---> 4\n",
      "dataset_kargs                  ---> {'root': None, 'mode': 'pretrain', 'time_step': 7, 'check_data': True, 'time_reverse_flag': 'only_forward', 'time_intervel': 1, 'cross_sample': 1, 'use_time_stamp': 1}\n",
      "model_kargs                    ---> {'img_size': (32, 64), 'patch_size': 8, 'in_chans': 20, 'out_chans': 20, 'fno_blocks': 4, 'embed_dim': 128, 'depth': 2, 'debug_mode': 0, 'double_skip': False, 'fno_bias': False, 'fno_softshrink': 0.0, 'history_length': 6, 'reduce_Field_coef': False, 'modes': (32, 33, 6), 'mode_select': 'normal', 'physics_num': 4, 'pred_len': 1, 'label_len': 3, 'canonical_fft': 1, 'unique_up_sample_channel': 0}\n",
      "trail_name                     ---> 10_20_15_17_50-seed_42\n",
      "SAVE_PATH                      ---> checkpoints/ERA5_20/FEDformer.normal_select.M32-33-6_P1L3/history_6_time_step_7_pretrain-small_every_1_step/10_20_15_17_50-seed_42\n",
      "logsys                         ---> <mltool.loggingsystem.loggingsystem.LoggingSystem object at 0x7f90a87e6610>\n"
     ]
    },
    {
     "ename": "TypeError",
     "evalue": "Object of type LoggingSystem is not JSON serializable",
     "output_type": "error",
     "traceback": [
      "\u001b[0;31m---------------------------------------------------------------------------\u001b[0m",
      "\u001b[0;31mTypeError\u001b[0m                                 Traceback (most recent call last)",
      "Cell \u001b[0;32mIn [91], line 7\u001b[0m\n\u001b[1;32m      5\u001b[0m args\u001b[38;5;241m.\u001b[39mSAVE_PATH \u001b[38;5;241m=\u001b[39m \u001b[38;5;28mstr\u001b[39m(SAVE_PATH)\n\u001b[1;32m      6\u001b[0m \u001b[38;5;66;03m########## inital log ###################\u001b[39;00m\n\u001b[0;32m----> 7\u001b[0m logsys \u001b[38;5;241m=\u001b[39m \u001b[43mcreate_logsys\u001b[49m\u001b[43m(\u001b[49m\u001b[43margs\u001b[49m\u001b[43m)\u001b[49m\n\u001b[1;32m     10\u001b[0m \u001b[38;5;28;01mif\u001b[39;00m args\u001b[38;5;241m.\u001b[39mdistributed:\n\u001b[1;32m     11\u001b[0m     \u001b[38;5;28;01mif\u001b[39;00m args\u001b[38;5;241m.\u001b[39mdist_url \u001b[38;5;241m==\u001b[39m \u001b[38;5;124m\"\u001b[39m\u001b[38;5;124menv://\u001b[39m\u001b[38;5;124m\"\u001b[39m \u001b[38;5;129;01mand\u001b[39;00m args\u001b[38;5;241m.\u001b[39mrank \u001b[38;5;241m==\u001b[39m \u001b[38;5;241m-\u001b[39m\u001b[38;5;241m1\u001b[39m:\n",
      "File \u001b[0;32m~/projects/FourCastNet/train/pretrain.py:904\u001b[0m, in \u001b[0;36mcreate_logsys\u001b[0;34m(args, save_config)\u001b[0m\n\u001b[1;32m    902\u001b[0m     \u001b[38;5;28;01mif\u001b[39;00m \u001b[38;5;129;01mnot\u001b[39;00m os\u001b[38;5;241m.\u001b[39mpath\u001b[38;5;241m.\u001b[39mexists(config_path):\n\u001b[1;32m    903\u001b[0m         \u001b[38;5;28;01mwith\u001b[39;00m \u001b[38;5;28mopen\u001b[39m(config_path,\u001b[38;5;124m'\u001b[39m\u001b[38;5;124mw\u001b[39m\u001b[38;5;124m'\u001b[39m) \u001b[38;5;28;01mas\u001b[39;00m f:\n\u001b[0;32m--> 904\u001b[0m             \u001b[43mjson\u001b[49m\u001b[38;5;241;43m.\u001b[39;49m\u001b[43mdump\u001b[49m\u001b[43m(\u001b[49m\u001b[38;5;28;43mvars\u001b[39;49m\u001b[43m(\u001b[49m\u001b[43margs\u001b[49m\u001b[43m)\u001b[49m\u001b[43m,\u001b[49m\u001b[43mf\u001b[49m\u001b[43m)\u001b[49m\n\u001b[1;32m    905\u001b[0m args\u001b[38;5;241m.\u001b[39mlogsys \u001b[38;5;241m=\u001b[39m logsys\n\u001b[1;32m    906\u001b[0m \u001b[38;5;28;01mreturn\u001b[39;00m logsys\n",
      "File \u001b[0;32m~/anaconda3/envs/pytorch/lib/python3.9/json/__init__.py:179\u001b[0m, in \u001b[0;36mdump\u001b[0;34m(obj, fp, skipkeys, ensure_ascii, check_circular, allow_nan, cls, indent, separators, default, sort_keys, **kw)\u001b[0m\n\u001b[1;32m    173\u001b[0m     iterable \u001b[38;5;241m=\u001b[39m \u001b[38;5;28mcls\u001b[39m(skipkeys\u001b[38;5;241m=\u001b[39mskipkeys, ensure_ascii\u001b[38;5;241m=\u001b[39mensure_ascii,\n\u001b[1;32m    174\u001b[0m         check_circular\u001b[38;5;241m=\u001b[39mcheck_circular, allow_nan\u001b[38;5;241m=\u001b[39mallow_nan, indent\u001b[38;5;241m=\u001b[39mindent,\n\u001b[1;32m    175\u001b[0m         separators\u001b[38;5;241m=\u001b[39mseparators,\n\u001b[1;32m    176\u001b[0m         default\u001b[38;5;241m=\u001b[39mdefault, sort_keys\u001b[38;5;241m=\u001b[39msort_keys, \u001b[38;5;241m*\u001b[39m\u001b[38;5;241m*\u001b[39mkw)\u001b[38;5;241m.\u001b[39miterencode(obj)\n\u001b[1;32m    177\u001b[0m \u001b[38;5;66;03m# could accelerate with writelines in some versions of Python, at\u001b[39;00m\n\u001b[1;32m    178\u001b[0m \u001b[38;5;66;03m# a debuggability cost\u001b[39;00m\n\u001b[0;32m--> 179\u001b[0m \u001b[38;5;28;01mfor\u001b[39;00m chunk \u001b[38;5;129;01min\u001b[39;00m iterable:\n\u001b[1;32m    180\u001b[0m     fp\u001b[38;5;241m.\u001b[39mwrite(chunk)\n",
      "File \u001b[0;32m~/anaconda3/envs/pytorch/lib/python3.9/json/encoder.py:431\u001b[0m, in \u001b[0;36m_make_iterencode.<locals>._iterencode\u001b[0;34m(o, _current_indent_level)\u001b[0m\n\u001b[1;32m    429\u001b[0m     \u001b[38;5;28;01myield from\u001b[39;00m _iterencode_list(o, _current_indent_level)\n\u001b[1;32m    430\u001b[0m \u001b[38;5;28;01melif\u001b[39;00m \u001b[38;5;28misinstance\u001b[39m(o, \u001b[38;5;28mdict\u001b[39m):\n\u001b[0;32m--> 431\u001b[0m     \u001b[38;5;28;01myield from\u001b[39;00m _iterencode_dict(o, _current_indent_level)\n\u001b[1;32m    432\u001b[0m \u001b[38;5;28;01melse\u001b[39;00m:\n\u001b[1;32m    433\u001b[0m     \u001b[38;5;28;01mif\u001b[39;00m markers \u001b[38;5;129;01mis\u001b[39;00m \u001b[38;5;129;01mnot\u001b[39;00m \u001b[38;5;28;01mNone\u001b[39;00m:\n",
      "File \u001b[0;32m~/anaconda3/envs/pytorch/lib/python3.9/json/encoder.py:405\u001b[0m, in \u001b[0;36m_make_iterencode.<locals>._iterencode_dict\u001b[0;34m(dct, _current_indent_level)\u001b[0m\n\u001b[1;32m    403\u001b[0m         \u001b[38;5;28;01melse\u001b[39;00m:\n\u001b[1;32m    404\u001b[0m             chunks \u001b[38;5;241m=\u001b[39m _iterencode(value, _current_indent_level)\n\u001b[0;32m--> 405\u001b[0m         \u001b[38;5;28;01myield from\u001b[39;00m chunks\n\u001b[1;32m    406\u001b[0m \u001b[38;5;28;01mif\u001b[39;00m newline_indent \u001b[38;5;129;01mis\u001b[39;00m \u001b[38;5;129;01mnot\u001b[39;00m \u001b[38;5;28;01mNone\u001b[39;00m:\n\u001b[1;32m    407\u001b[0m     _current_indent_level \u001b[38;5;241m-\u001b[39m\u001b[38;5;241m=\u001b[39m \u001b[38;5;241m1\u001b[39m\n",
      "File \u001b[0;32m~/anaconda3/envs/pytorch/lib/python3.9/json/encoder.py:438\u001b[0m, in \u001b[0;36m_make_iterencode.<locals>._iterencode\u001b[0;34m(o, _current_indent_level)\u001b[0m\n\u001b[1;32m    436\u001b[0m         \u001b[38;5;28;01mraise\u001b[39;00m \u001b[38;5;167;01mValueError\u001b[39;00m(\u001b[38;5;124m\"\u001b[39m\u001b[38;5;124mCircular reference detected\u001b[39m\u001b[38;5;124m\"\u001b[39m)\n\u001b[1;32m    437\u001b[0m     markers[markerid] \u001b[38;5;241m=\u001b[39m o\n\u001b[0;32m--> 438\u001b[0m o \u001b[38;5;241m=\u001b[39m \u001b[43m_default\u001b[49m\u001b[43m(\u001b[49m\u001b[43mo\u001b[49m\u001b[43m)\u001b[49m\n\u001b[1;32m    439\u001b[0m \u001b[38;5;28;01myield from\u001b[39;00m _iterencode(o, _current_indent_level)\n\u001b[1;32m    440\u001b[0m \u001b[38;5;28;01mif\u001b[39;00m markers \u001b[38;5;129;01mis\u001b[39;00m \u001b[38;5;129;01mnot\u001b[39;00m \u001b[38;5;28;01mNone\u001b[39;00m:\n",
      "File \u001b[0;32m~/anaconda3/envs/pytorch/lib/python3.9/json/encoder.py:179\u001b[0m, in \u001b[0;36mJSONEncoder.default\u001b[0;34m(self, o)\u001b[0m\n\u001b[1;32m    160\u001b[0m \u001b[38;5;28;01mdef\u001b[39;00m \u001b[38;5;21mdefault\u001b[39m(\u001b[38;5;28mself\u001b[39m, o):\n\u001b[1;32m    161\u001b[0m     \u001b[38;5;124;03m\"\"\"Implement this method in a subclass such that it returns\u001b[39;00m\n\u001b[1;32m    162\u001b[0m \u001b[38;5;124;03m    a serializable object for ``o``, or calls the base implementation\u001b[39;00m\n\u001b[1;32m    163\u001b[0m \u001b[38;5;124;03m    (to raise a ``TypeError``).\u001b[39;00m\n\u001b[0;32m   (...)\u001b[0m\n\u001b[1;32m    177\u001b[0m \n\u001b[1;32m    178\u001b[0m \u001b[38;5;124;03m    \"\"\"\u001b[39;00m\n\u001b[0;32m--> 179\u001b[0m     \u001b[38;5;28;01mraise\u001b[39;00m \u001b[38;5;167;01mTypeError\u001b[39;00m(\u001b[38;5;124mf\u001b[39m\u001b[38;5;124m'\u001b[39m\u001b[38;5;124mObject of type \u001b[39m\u001b[38;5;132;01m{\u001b[39;00mo\u001b[38;5;241m.\u001b[39m\u001b[38;5;18m__class__\u001b[39m\u001b[38;5;241m.\u001b[39m\u001b[38;5;18m__name__\u001b[39m\u001b[38;5;132;01m}\u001b[39;00m\u001b[38;5;124m \u001b[39m\u001b[38;5;124m'\u001b[39m\n\u001b[1;32m    180\u001b[0m                     \u001b[38;5;124mf\u001b[39m\u001b[38;5;124m'\u001b[39m\u001b[38;5;124mis not JSON serializable\u001b[39m\u001b[38;5;124m'\u001b[39m)\n",
      "\u001b[0;31mTypeError\u001b[0m: Object of type LoggingSystem is not JSON serializable"
     ]
    }
   ],
   "source": [
    "args.gpu = args.local_rank = gpu  = local_rank\n",
    "##### parse args: dataset_kargs / model_kargs / train_kargs  ###########\n",
    "args= parse_default_args(args)\n",
    "SAVE_PATH = get_ckpt_path(args)\n",
    "args.SAVE_PATH = str(SAVE_PATH)\n",
    "########## inital log ###################\n",
    "logsys = create_logsys(args)\n",
    "\n",
    "\n",
    "if args.distributed:\n",
    "    if args.dist_url == \"env://\" and args.rank == -1:\n",
    "        args.rank = int(os.environ[\"RANK\"])\n",
    "    if args.multiprocessing_distributed:\n",
    "        # For multiprocessing distributed training, rank needs to be the\n",
    "        # global rank among all the processes\n",
    "        args.rank = args.rank * ngpus_per_node + local_rank\n",
    "    logsys.info(f\"start init_process_group,backend={args.dist_backend}, init_method={args.dist_url},world_size={args.world_size}, rank={args.rank}\")\n",
    "    dist.init_process_group(backend=args.dist_backend, init_method=args.dist_url,world_size=args.world_size, rank=args.rank)\n",
    "\n",
    "model           = build_model(args)\n",
    "#param_groups    = timm.optim.optim_factory.add_weight_decay(model, args.weight_decay)\n",
    "optimizer,lr_scheduler,criterion = build_optimizer(args,model)\n",
    "loss_scaler     = torch.cuda.amp.GradScaler(enabled=True)\n",
    "logsys.info(f'use lr_scheduler:{lr_scheduler}')\n",
    "\n",
    "args.pretrain_weight = args.pretrain_weight.strip()\n",
    "logsys.info(f\"loading weight from {args.pretrain_weight}\")\n",
    "start_epoch, start_step, min_loss = load_model(model.module if args.distributed else model, optimizer, lr_scheduler, loss_scaler, path=args.pretrain_weight, \n",
    "                    only_model= (args.mode=='fourcast') or (args.mode=='finetune' and not args.continue_train) ,loc = 'cuda:{}'.format(args.gpu))\n",
    "if args.more_epoch_train:\n",
    "    assert args.pretrain_weight\n",
    "    print(f\"detect more epoch training, we will do a copy processing for {args.pretrain_weight}\")\n",
    "    os.system(f'cp {args.pretrain_weight} {args.pretrain_weight}-epoch{start_epoch}')\n",
    "logsys.info(\"done!\")"
   ]
  },
  {
   "cell_type": "code",
   "execution_count": null,
   "id": "e74073ee",
   "metadata": {},
   "outputs": [],
   "source": []
  },
  {
   "cell_type": "code",
   "execution_count": 7,
   "id": "540e3a26",
   "metadata": {},
   "outputs": [],
   "source": [
    "train_dataset_tensor=None;\n",
    "train_record_load=None;\n",
    "valid_dataset_tensor=None;\n",
    "valid_record_load=None"
   ]
  },
  {
   "cell_type": "code",
   "execution_count": 9,
   "id": "d6b458ea",
   "metadata": {
    "code_folding": [],
    "scrolled": true
   },
   "outputs": [
    {
     "name": "stdout",
     "output_type": "stream",
     "text": [
      "entering pretrain training in cuda:0\n",
      "in this dataset:ERA5CephSmallDataset, years/root args is disabled\n",
      "in this dataset:ERA5CephSmallDataset, years/root args is disabled\n"
     ]
    },
    {
     "name": "stderr",
     "output_type": "stream",
     "text": [
      "2022-10-20 13:36:35,562 use dataset ==> ERA5CephSmallDataset\n",
      "2022-10-20 13:36:35,564 Start training for 80 epochs\n"
     ]
    },
    {
     "data": {
      "text/html": [
       "\n",
       "    <div>\n",
       "        <style>\n",
       "            /* Turns off some styling */\n",
       "            progress {\n",
       "                /* gets rid of default border in Firefox and Opera. */\n",
       "                border: none;\n",
       "                /* Needs to be in here for Safari polyfill so background images work as expected. */\n",
       "                background-size: auto;\n",
       "            }\n",
       "            .progress-bar-interrupted, .progress-bar-interrupted::-webkit-progress-bar {\n",
       "                background: #F44336;\n",
       "            }\n",
       "        </style>\n",
       "      <progress value='3' class='' max='80', style='width:300px; height:20px; vertical-align: middle;'></progress>\n",
       "      3.75% [3/80 02:25<1:02:09]\n",
       "    </div>\n",
       "    \n",
       "\n",
       "\n",
       "    <div>\n",
       "        <style>\n",
       "            /* Turns off some styling */\n",
       "            progress {\n",
       "                /* gets rid of default border in Firefox and Opera. */\n",
       "                border: none;\n",
       "                /* Needs to be in here for Safari polyfill so background images work as expected. */\n",
       "                background-size: auto;\n",
       "            }\n",
       "            .progress-bar-interrupted, .progress-bar-interrupted::-webkit-progress-bar {\n",
       "                background: #F44336;\n",
       "            }\n",
       "        </style>\n",
       "      <progress value='491' class='' max='1459', style='width:300px; height:20px; vertical-align: middle;'></progress>\n",
       "      33.65% [491/1459 00:13<00:26]\n",
       "    </div>\n",
       "    "
      ],
      "text/plain": [
       "<IPython.core.display.HTML object>"
      ]
     },
     "metadata": {},
     "output_type": "display_data"
    },
    {
     "name": "stdout",
     "output_type": "stream",
     "text": [
      "epoch:000 iter:[  485]/[487] [TimeLeng]:7 GPU:[0] abs_loss:0.29 loss:0.29 cost:[Date]:1.4e-03 [Train]:1.3e-02  \r"
     ]
    },
    {
     "name": "stderr",
     "output_type": "stream",
     "text": [
      "2022-10-20 13:37:24,661 Epoch 0 | Train loss: 0.313534, Val loss: 0.315764\n",
      "2022-10-20 13:37:24,663 The best accu is 0.3157639503479004\n"
     ]
    },
    {
     "name": "stdout",
     "output_type": "stream",
     "text": [
      "epoch:001 iter:[  485]/[487] [TimeLeng]:7 GPU:[0] abs_loss:0.29 loss:0.29 cost:[Date]:8.2e-04 [Train]:1.2e-02  \r"
     ]
    },
    {
     "name": "stderr",
     "output_type": "stream",
     "text": [
      "2022-10-20 13:38:14,601 Epoch 1 | Train loss: 0.312141, Val loss: 0.314317\n",
      "2022-10-20 13:38:14,604 The best accu is 0.31431692838668823\n"
     ]
    },
    {
     "name": "stdout",
     "output_type": "stream",
     "text": [
      "epoch:002 iter:[  485]/[487] [TimeLeng]:7 GPU:[0] abs_loss:0.24 loss:0.24 cost:[Date]:1.4e-03 [Train]:1.4e-02  \r"
     ]
    },
    {
     "name": "stderr",
     "output_type": "stream",
     "text": [
      "2022-10-20 13:39:00,876 Epoch 2 | Train loss: 0.269667, Val loss: 0.240780\n",
      "2022-10-20 13:39:00,879 The best accu is 0.24077992141246796\n"
     ]
    },
    {
     "name": "stdout",
     "output_type": "stream",
     "text": [
      "epoch:003 iter:[  495]/[1459] [TimeLeng]:7 GPU:[0] abs_loss:0.22 loss:0.05 cost:[Date]:1.2e-03 [Train]:2.5e-02 \r"
     ]
    },
    {
     "name": "stderr",
     "output_type": "stream",
     "text": [
      "\n",
      "KeyboardInterrupt\n",
      "\n"
     ]
    }
   ],
   "source": [
    "# =======================> start training <==========================\n",
    "print(f\"entering {args.mode} training in {next(model.parameters()).device}\")\n",
    "now_best_path = SAVE_PATH / 'backbone.best.pt'\n",
    "latest_ckpt_p = SAVE_PATH / 'pretrain_latest.pt'\n",
    "\n",
    "\n",
    "train_dataset, val_dataset, train_dataloader,val_dataloader = get_train_and_valid_dataset(args,\n",
    "               train_dataset_tensor=train_dataset_tensor,train_record_load=train_record_load,\n",
    "               valid_dataset_tensor=valid_dataset_tensor,valid_record_load=valid_record_load)\n",
    "logsys.info(f\"use dataset ==> {train_dataset.__class__.__name__}\")\n",
    "logsys.info(f\"Start training for {args.epochs} epochs\")\n",
    "metric_list = ['loss']\n",
    "master_bar        = logsys.create_master_bar(args.epochs)\n",
    "master_bar.set_multiply_graph(figsize=(9,3),engine=[['plot','plot']],labels=[metric_list])\n",
    "for epoch in master_bar:\n",
    "    if epoch < start_epoch:continue\n",
    "    if hasattr(model,'set_epoch'):model.set_epoch(epoch=epoch,epoch_total=args.epochs)\n",
    "    if hasattr(model,'module') and hasattr(model.module,'set_epoch'):model.module.set_epoch(epoch=epoch,epoch_total=args.epochs)\n",
    "    logsys.record('learning rate',optimizer.param_groups[0]['lr'],epoch)\n",
    "    train_loss = run_one_epoch(epoch, start_step, model, criterion, train_dataloader, optimizer, loss_scaler,logsys,'train')\n",
    "    if (not args.more_epoch_train) and (lr_scheduler is not None):lr_scheduler.step(epoch)\n",
    "    #torch.cuda.empty_cache()\n",
    "    #train_loss = single_step_evaluate(train_dataloader, model, criterion,epoch,logsys,status='train') if 'small' in args.train_set else -1\n",
    "    val_loss   = run_one_epoch(epoch, start_step, model, criterion, val_dataloader, optimizer, loss_scaler,logsys,'valid')\n",
    "\n",
    "    if (not args.distributed) or (args.rank == 0 and local_rank == 0) :\n",
    "        logsys.info(f\"Epoch {epoch} | Train loss: {train_loss:.6f}, Val loss: {val_loss:.6f}\")\n",
    "        logsys.record('train', train_loss, epoch)\n",
    "        logsys.record('valid', val_loss, epoch)\n",
    "        if use_wandb:wandb.log({\"epoch\":epoch,'train':train_loss,'valid':val_loss})\n",
    "        if val_loss < min_loss:\n",
    "            min_loss = val_loss\n",
    "            if epoch > args.epochs//10:\n",
    "                logsys.info(f\"saving best model ....\")\n",
    "                save_model(model, path=now_best_path, only_model=True)\n",
    "                logsys.info(f\"done;\")\n",
    "            #if last_best_path is not None:os.system(f\"rm {last_best_path}\")\n",
    "            #last_best_path= now_best_path\n",
    "            logsys.info(f\"The best accu is {val_loss}\")\n",
    "        logsys.record('best_loss', min_loss, epoch)\n",
    "        update_experiment_info(experiment_hub_path,epoch,args)\n",
    "        if epoch>args.save_warm_up:\n",
    "            logsys.info(f\"saving latest model ....\")\n",
    "            save_model(model, epoch+1, 0, optimizer, lr_scheduler, loss_scaler, min_loss, latest_ckpt_p)\n",
    "            logsys.info(f\"done ....\")\n",
    "\n",
    "if os.path.exists(now_best_path) and args.do_final_fourcast:\n",
    "    logsys.info(f\"we finish training, then start test on the best checkpoint {now_best_path}\")\n",
    "    start_epoch, start_step, min_loss = load_model(model.module if args.distributed else model, path=now_best_path, only_model=True)\n",
    "    run_fourcast(args, model,logsys)\n",
    "if use_wandb:wandb.finish()"
   ]
  },
  {
   "cell_type": "code",
   "execution_count": null,
   "id": "885fbe32",
   "metadata": {
    "code_folding": [
     0,
     5
    ]
   },
   "outputs": [
    {
     "data": {
      "text/html": [
       "\n",
       "    <div>\n",
       "        <style>\n",
       "            /* Turns off some styling */\n",
       "            progress {\n",
       "                /* gets rid of default border in Firefox and Opera. */\n",
       "                border: none;\n",
       "                /* Needs to be in here for Safari polyfill so background images work as expected. */\n",
       "                background-size: auto;\n",
       "            }\n",
       "            .progress-bar-interrupted, .progress-bar-interrupted::-webkit-progress-bar {\n",
       "                background: #F44336;\n",
       "            }\n",
       "        </style>\n",
       "      <progress value='4' class='' max='80', style='width:300px; height:20px; vertical-align: middle;'></progress>\n",
       "      5.00% [4/80 02:53<54:54]\n",
       "    </div>\n",
       "    \n",
       "\n",
       "\n",
       "    <div>\n",
       "        <style>\n",
       "            /* Turns off some styling */\n",
       "            progress {\n",
       "                /* gets rid of default border in Firefox and Opera. */\n",
       "                border: none;\n",
       "                /* Needs to be in here for Safari polyfill so background images work as expected. */\n",
       "                background-size: auto;\n",
       "            }\n",
       "            .progress-bar-interrupted, .progress-bar-interrupted::-webkit-progress-bar {\n",
       "                background: #F44336;\n",
       "            }\n",
       "        </style>\n",
       "      <progress value='421' class='' max='422', style='width:300px; height:20px; vertical-align: middle;'></progress>\n",
       "      99.76% [421/422 00:27<00:00]\n",
       "    </div>\n",
       "    "
      ],
      "text/plain": [
       "<IPython.core.display.HTML object>"
      ]
     },
     "metadata": {},
     "output_type": "display_data"
    },
    {
     "name": "stdout",
     "output_type": "stream",
     "text": [
      "epoch:004 iter:[  419]/[422] GPU:[0] loss:0.40 extra_loss:0.73 cost:[Date]:6.0e-04 [Train]:4.6e-02 [Rest]:1.4e-02\r"
     ]
    }
   ],
   "source": [
    "if local_rank == 0:\n",
    "    print(f\"Start training for {args.epochs} epochs\")\n",
    "\n",
    "master_bar        = logsys.create_master_bar(args.epochs)\n",
    "last_best_path = None\n",
    "for epoch in master_bar:\n",
    "    if epoch < start_epoch:continue\n",
    "    train_one_epoch(epoch, start_step, model, criterion, train_dataloader, optimizer, loss_scaler,lr_scheduler, min_loss,logsys)\n",
    "    lr_scheduler.step(epoch)\n",
    "    #torch.cuda.empty_cache()\n",
    "    train_loss = single_step_evaluate(train_dataloader, model, criterion,epoch,logsys)\n",
    "    #train_loss = -1\n",
    "    val_loss   = single_step_evaluate(val_dataloader, model, criterion,epoch,logsys)\n",
    "\n",
    "    if rank == 0 and local_rank == 0:\n",
    "        print(f\"Epoch {epoch} | Train loss: {train_loss:.6f}, Val loss: {val_loss:.6f}\")\n",
    "        logsys.record('train', train_loss, epoch)\n",
    "        logsys.record('valid', val_loss, epoch)\n",
    "        if val_loss < min_loss:\n",
    "            min_loss = val_loss\n",
    "            print(f\"saving best model ....\")\n",
    "            now_best_path = SAVE_PATH / f'backbone.best.pt'\n",
    "            if epoch>args.save_warm_up:save_model(model, path=now_best_path, only_model=True)\n",
    "            #if last_best_path is not None:os.system(f\"rm {last_best_path}\")\n",
    "            #last_best_path= now_best_path\n",
    "            print(f\"done; the best accu is {val_loss}\")\n",
    "        logsys.record('best_loss', min_loss, epoch)\n",
    "        "
   ]
  },
  {
   "cell_type": "code",
   "execution_count": null,
   "id": "2e2c43ef",
   "metadata": {
    "code_folding": [
     0
    ]
   },
   "outputs": [],
   "source": [
    "if __name__ == '__main__':\n",
    "    args = get_args()\n",
    "    ngpus = ngpus_per_node = torch.cuda.device_count()\n",
    "    args.world_size = -1\n",
    "    args.dist_file  = None\n",
    "    args.rank       = 0\n",
    "    args.dist_backend = \"nccl\"\n",
    "    args.multiprocessing_distributed = ngpus>1\n",
    "    if not hasattr(args,'train_set'):args.train_set='large'\n",
    "    ip = os.environ.get(\"MASTER_ADDR\", \"127.0.0.1\")\n",
    "    port = os.environ.get(\"MASTER_PORT\", \"54247\")\n",
    "    hosts = int(os.environ.get(\"WORLD_SIZE\", \"1\"))  # number of nodes\n",
    "    rank = int(os.environ.get(\"RANK\", \"0\"))  # node id\n",
    "    gpus = torch.cuda.device_count()  # gpus per node\n",
    "    args.dist_url = f\"tcp://{ip}:{port}\"\n",
    "    if args.world_size == -1 and \"SLURM_NPROCS\" in os.environ:\n",
    "        args.world_size = int(os.environ[\"SLURM_NPROCS\"])\n",
    "        args.rank       = int(os.environ[\"SLURM_PROCID\"])\n",
    "        jobid           = os.environ[\"SLURM_JOBID\"]\n",
    "\n",
    "        hostfile        = \"dist_url.\" + jobid  + \".txt\"\n",
    "        if args.dist_file is not None:\n",
    "            args.dist_url = \"file://{}.{}\".format(os.path.realpath(args.dist_file), jobid)\n",
    "        elif args.rank == 0:\n",
    "            import socket\n",
    "            ip = socket.gethostbyname(socket.gethostname())\n",
    "            port = find_free_port()\n",
    "            args.dist_url = \"tcp://{}:{}\".format(ip, port)\n",
    "            #with open(hostfile, \"w\") as f:f.write(args.dist_url)\n",
    "        else:\n",
    "            import os\n",
    "            import time\n",
    "            while not os.path.exists(hostfile):\n",
    "                time.sleep(1)\n",
    "            with open(hostfile, \"r\") as f:\n",
    "                args.dist_url = f.read()\n",
    "        print(\"dist-url:{} at PROCID {} / {}\".format(args.dist_url, args.rank, args.world_size))\n",
    "    else:\n",
    "        args.world_size = 1\n",
    "    args.distributed = args.world_size > 1 or args.multiprocessing_distributed\n",
    "    train_dataset_tensor=valid_dataset_tensor=None\n",
    "\n",
    "    print(\"======== loading data ==========\")\n",
    "    if 'small' in args.train_set:\n",
    "        if not args.fourcast:\n",
    "            train_dataset_tensor = load_small_dataset_in_memory('train').share_memory_()\n",
    "            valid_dataset_tensor = load_small_dataset_in_memory('valid').share_memory_()\n",
    "        else:\n",
    "            train_dataset_tensor = load_small_dataset_in_memory('test').share_memory_()\n",
    "            valid_dataset_tensor = None\n",
    "    else:\n",
    "        if args.fourcast:\n",
    "            train_dataset_tensor = load_test_dataset_in_memory(years=[2018],root=\"/nvme/zhangtianning/datasets/ERA5\").share_memory_()\n",
    "            valid_dataset_tensor = None\n",
    "    print(\"=======done==========\")\n",
    "    print(train_dataset_tensor.shape)\n",
    "    if args.multiprocessing_distributed:\n",
    "        args.world_size = ngpus_per_node * args.world_size\n",
    "        torch.multiprocessing.spawn(main_worker, nprocs=ngpus_per_node, args=(ngpus_per_node, args,train_dataset_tensor,valid_dataset_tensor))\n",
    "    else:\n",
    "        main_worker(0, ngpus_per_node, args,train_dataset_tensor,valid_dataset_tensor)"
   ]
  }
 ],
 "metadata": {
  "kernelspec": {
   "display_name": "Python 3 (ipykernel)",
   "language": "python",
   "name": "python3"
  },
  "language_info": {
   "codemirror_mode": {
    "name": "ipython",
    "version": 3
   },
   "file_extension": ".py",
   "mimetype": "text/x-python",
   "name": "python",
   "nbconvert_exporter": "python",
   "pygments_lexer": "ipython3",
   "version": "3.9.12"
  }
 },
 "nbformat": 4,
 "nbformat_minor": 5
}
