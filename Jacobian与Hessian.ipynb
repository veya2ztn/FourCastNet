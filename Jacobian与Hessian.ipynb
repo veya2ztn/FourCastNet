{
 "cells": [
  {
   "cell_type": "code",
   "execution_count": 1,
   "id": "ca86263d",
   "metadata": {},
   "outputs": [],
   "source": [
    "import os\n",
    "os.environ[\"CUDA_VISIBLE_DEVICES\"] = \"7\""
   ]
  },
  {
   "cell_type": "code",
   "execution_count": 2,
   "id": "51b603a3",
   "metadata": {},
   "outputs": [],
   "source": [
    "import torch\n",
    "import torch.nn.functional as F\n",
    "import functorch\n",
    "from functorch import jacrev\n",
    "from functorch import make_functional, vmap, grad"
   ]
  },
  {
   "cell_type": "code",
   "execution_count": 3,
   "id": "be03745b",
   "metadata": {
    "code_folding": []
   },
   "outputs": [],
   "source": [
    "class MyModel(torch.nn.Module):\n",
    "    def __init__(self, in_chan, out_chan):\n",
    "        super().__init__()\n",
    "        self.backbone = torch.nn.Linear(in_chan, out_chan,bias=False)\n",
    "    def forward(self,x):\n",
    "        return self.backbone(x)**2"
   ]
  },
  {
   "cell_type": "code",
   "execution_count": 30,
   "id": "9202bc26",
   "metadata": {
    "code_folding": []
   },
   "outputs": [],
   "source": [
    "import torch\n",
    "from functorch import make_functional, vmap, grad\n",
    "model= MyModel(3, 4)\n",
    "x    = torch.randn(7, 3)\n",
    "func_model, params = make_functional(model)\n",
    "w    = params[0]\n",
    "batch_J= vmap(jacrev(func_model, argnums=1), (None, 0))(params, x)\n",
    "batch_H= jacrev(vmap(jacrev(func_model, argnums=1), (None, 0)), argnums=0)(params, x)"
   ]
  },
  {
   "cell_type": "code",
   "execution_count": 31,
   "id": "a593fc63",
   "metadata": {},
   "outputs": [
    {
     "data": {
      "text/plain": [
       "torch.Size([7, 4, 3])"
      ]
     },
     "execution_count": 31,
     "metadata": {},
     "output_type": "execute_result"
    }
   ],
   "source": [
    "batch_J.shape"
   ]
  },
  {
   "cell_type": "markdown",
   "id": "a5611e08",
   "metadata": {},
   "source": [
    "这里设定\n",
    "$$\n",
    "Y=(W^TX)^2 则 Y_{j}=(\\sum W_{jk}X_k)^2\n",
    "$$\n",
    "\n",
    "那么 \n",
    "$$\n",
    "\\frac{dY_{j}}{dX_{\\alpha}}=2 (\\sum W_{jk}X_k) (\\sum W_{jk}\\delta_{\\alpha k})=2 (\\sum W_{jk}X_k) W_{j\\alpha}\n",
    "$$"
   ]
  },
  {
   "cell_type": "markdown",
   "id": "af3a744a",
   "metadata": {},
   "source": [
    "首先来看 Jacobian "
   ]
  },
  {
   "cell_type": "code",
   "execution_count": 6,
   "id": "d07e2772",
   "metadata": {},
   "outputs": [
    {
     "name": "stdout",
     "output_type": "stream",
     "text": [
      "True\n"
     ]
    }
   ],
   "source": [
    "y1 = torch.einsum('ij,bj->bi',w,x)\n",
    "yx = 2*torch.einsum('bi,ik->bik',y1,w)\n",
    "print(torch.allclose(yx,batch_J))"
   ]
  },
  {
   "cell_type": "markdown",
   "id": "a819284f",
   "metadata": {},
   "source": [
    "再来看 Hessian\n",
    "\n",
    "那么 \n",
    "$$\n",
    "\\begin{align}\n",
    "\\frac{d^2Y_{j}}{dW_{\\beta\\gamma}dX_{\\alpha}}\n",
    "&=\\frac{d}{dW_{\\beta\\gamma}}\\frac{dY_{j}}{dX_{\\alpha}}=2 \\frac{d}{dW_{\\beta\\gamma}}(\\sum_k W_{jk}X_k) W_{j\\alpha}\\\\\n",
    "&=2 (\\sum_k \\delta_{jk}^{\\beta\\gamma} X_k)  W_{j\\alpha} + 2 (\\sum_k W_{jk}X_k)\\delta_{j\\alpha}^{\\beta\\gamma}\\\\\n",
    "&=2 (\\delta_{j}^{\\beta} X_{\\gamma})W_{j\\alpha} +2 (\\sum_k W_{jk}X_k)\\delta_{j}^{\\beta}\\delta_{\\alpha}^{\\gamma}\n",
    "\\end{align}\n",
    "$$"
   ]
  },
  {
   "cell_type": "code",
   "execution_count": 5,
   "id": "66f794b6",
   "metadata": {},
   "outputs": [
    {
     "name": "stdout",
     "output_type": "stream",
     "text": [
      "True\n"
     ]
    }
   ],
   "source": [
    "dta1 = torch.eye(w.shape[0],w.shape[0])\n",
    "dta2 = torch.eye(w.shape[1],x.shape[1])\n",
    "\n",
    "h=2*torch.einsum('bj,Bg,ja   ->Bjabg',dta1,x,w) \\\n",
    " +2*torch.einsum('jk,Bk,bj,ga->Bjabg',w,x,dta1,dta2)\n",
    "print(torch.allclose(h,batch_H[0]))"
   ]
  },
  {
   "cell_type": "markdown",
   "id": "23aee316",
   "metadata": {},
   "source": [
    "#### 我们也可以直接来计算正则项的导数\n",
    "$$\n",
    "P^{\\gamma}=< y^\\gamma,t^\\gamma >+\\lambda_1 (\\sum_\\alpha J_\\alpha^{\\gamma}-1)^2+\\lambda_2 [\\sum_\\alpha (J_\\alpha^{\\gamma})^2-1]^2\n",
    "$$\n",
    "\n",
    "如果我们的函数是 $Y = (WX)**2$ 即 $y_j = (\\sum_k W_{jk}X_k)^2$ 那么\n",
    "\n",
    "$$\n",
    "J_\\alpha^\\gamma = \\frac{dY_{\\gamma}}{dX_{\\alpha}}=2 (\\sum_k W_{\\gamma k}X_k) (\\sum_k W_{\\gamma k}\\delta_{\\alpha k})=2 (\\sum_k W_{\\gamma k}X_k) W_{\\gamma\\alpha}\n",
    "$$\n",
    "\n",
    "那么我们可以显式的得到 \n",
    "$$\n",
    "\\sum_\\alpha J_\\alpha^{\\gamma} = \\sum_\\alpha 2 (\\sum_k W_{\\gamma k}X_k) W_{j\\alpha} = 2 (\\sum_k W_{\\gamma k}X_k) \\sum_\\alpha W_{\\gamma\\alpha}\n",
    "$$\n",
    "\n",
    "我们的 L1 约束是对每一个上标 $(\\sum_\\alpha J_\\alpha^{\\gamma}-1)^2$ 都极小, 在这个 toy 模型里面, $\\gamma$ 只是 $W$ 的某一行, 所以我们现在去掉上标 $W_{\\gamma k}\\rightarrow w_k$, 得到\n",
    "$$\n",
    "P(w) = <w|x><w|\\mathbf{1}>\n",
    "$$\n",
    "再给定 |x> 的情况下, 我们要观察 $P(w) =1$ 这个解是否存在, 以及他是否是 $(P(w)-1)^2$ 的极小值解.\n",
    "\n",
    "注意 |x> 是一个 batch tensor, 意思是我们会要求所有的 x 都要满足 $P(w;x) =1$"
   ]
  },
  {
   "cell_type": "markdown",
   "id": "8aff7eea",
   "metadata": {},
   "source": [
    "我们不妨假设 $\\sum_\\alpha w_{\\alpha} = 1/\\Lambda$ 为一个常数. 那么就得到方程组(n个未知数,一个方程,必有解, 如果有B个 Batch 那么总的方程数是B, 所以最后存在解的条件就是参数量要大于数据量)\n",
    "$$\n",
    "w_1+w_2+\\dots+w_n = 1/\\Lambda\\\\\n",
    "w_1x_1+w_2x_2+\\dots+w_nx_n = \\Lambda\n",
    "$$\n",
    "有柯西不等式和基本不等式\n",
    "$$\n",
    "\\Lambda = \\sum_i (w_ix_i) \\leq \\sqrt{\\sum_i w_i^2 \\sum_i x_i^2} \\leq \\sqrt{(\\sum_i w_i)^2 \\sum_i x_i^2} = |\\frac{1}{\\Lambda}| \\sqrt{ \\sum_i x_i^2}\n",
    "$$\n",
    "也就是\n",
    "$$\n",
    "\\Lambda^2 \\leq \\sqrt{ \\sum_i x_i^2}\n",
    "$$"
   ]
  },
  {
   "cell_type": "code",
   "execution_count": null,
   "id": "88cae4d1",
   "metadata": {},
   "outputs": [],
   "source": []
  },
  {
   "cell_type": "code",
   "execution_count": 156,
   "id": "ad282637",
   "metadata": {
    "code_folding": [
     3
    ]
   },
   "outputs": [],
   "source": [
    "B=20\n",
    "I=10\n",
    "O=30\n",
    "class MyModel(torch.nn.Module):\n",
    "    def __init__(self, in_chan, out_chan):\n",
    "        super().__init__()\n",
    "        self.backbone = torch.nn.Linear(in_chan, out_chan,bias=False)\n",
    "    def forward(self,x):\n",
    "        return self.backbone(x)**2\n",
    "model= MyModel(I, O)\n",
    "x    = torch.randn(B, I)\n",
    "cotangents = torch.ones(B,I)\n",
    "func_model, params = make_functional(model)"
   ]
  },
  {
   "cell_type": "markdown",
   "id": "0401a239",
   "metadata": {},
   "source": [
    "##### 验证 estimate 的效果\n"
   ]
  },
  {
   "cell_type": "markdown",
   "id": "b857749e",
   "metadata": {},
   "source": [
    "- $||A||_F^2=Tr(AA^T) = \\frac{1}{m}\\sum_i^m v_i AA^T v_i^T$"
   ]
  },
  {
   "cell_type": "code",
   "execution_count": 105,
   "id": "7bfc1e0a",
   "metadata": {},
   "outputs": [
    {
     "name": "stdout",
     "output_type": "stream",
     "text": [
      "tensor(4923.3936)\n",
      "tensor(4981.4468)\n"
     ]
    }
   ],
   "source": [
    "O = 100\n",
    "I = 50 \n",
    "sample_times = 100\n",
    "A = torch.randn(O,I)\n",
    "v = torch.randint(2,(100, O))*2-1\n",
    "v = v.float()\n",
    "ground_truth = (A**2).sum()\n",
    "estima_value = torch.einsum('bi,ij,lj,bl->b',v,A,A,v).mean()\n",
    "print(ground_truth)\n",
    "print(estima_value)"
   ]
  },
  {
   "cell_type": "markdown",
   "id": "578af569",
   "metadata": {},
   "source": [
    "- $Var(\\sum_i^m v_i A v_i^T) = 2(||A||_F^2 - \\sum_{i}^n A_{ii})$\n",
    "\n",
    "sample_times 没必要太大就有比较好的效果"
   ]
  },
  {
   "cell_type": "code",
   "execution_count": 187,
   "id": "91ced50d",
   "metadata": {},
   "outputs": [
    {
     "name": "stdout",
     "output_type": "stream",
     "text": [
      "tensor(289.8571)\n",
      "tensor(277.1272)\n"
     ]
    }
   ],
   "source": [
    "O = 10\n",
    "sample_times = 10\n",
    "A = torch.randn(O,O) \n",
    "A = A+A.transpose(1,0)\n",
    "v = torch.randint(2,(sample_times, O))*2-1\n",
    "v = v.float()\n",
    "ground_truth = 2*((A**2).sum() - (A**2).trace())\n",
    "estima_value = torch.einsum('bi,il,bl->b',v,A,v).var()\n",
    "print(ground_truth)\n",
    "print(estima_value)"
   ]
  },
  {
   "cell_type": "code",
   "execution_count": null,
   "id": "5119b7df",
   "metadata": {},
   "outputs": [],
   "source": []
  },
  {
   "cell_type": "code",
   "execution_count": 153,
   "id": "259c0b62",
   "metadata": {},
   "outputs": [
    {
     "data": {
      "text/plain": [
       "torch.Size([1000])"
      ]
     },
     "execution_count": 153,
     "metadata": {},
     "output_type": "execute_result"
    }
   ],
   "source": [
    "torch.einsum('bi,ij,lj,bl->b',v,A,A,v).shape"
   ]
  },
  {
   "cell_type": "markdown",
   "id": "eee6154a",
   "metadata": {},
   "source": [
    "压力测试"
   ]
  },
  {
   "cell_type": "code",
   "execution_count": null,
   "id": "0700334d",
   "metadata": {},
   "outputs": [],
   "source": [
    "# from model.afnonet import AFNONet\n",
    "# model = AFNONet((32,64),2,1,1).cuda()\n",
    "# func_model, params = make_functional(model)\n",
    "# x = torch.randn(4,1,32,64).cuda()\n",
    "# cotangents=torch.ones_like(x)"
   ]
  },
  {
   "cell_type": "code",
   "execution_count": null,
   "id": "e7eaa568",
   "metadata": {},
   "outputs": [],
   "source": [
    "# from pytorch_memlab import MemReporter\n",
    "# reporter = MemReporter()\n",
    "# reporter.report()"
   ]
  },
  {
   "cell_type": "code",
   "execution_count": 6,
   "id": "3e8f5c15",
   "metadata": {
    "code_folding": []
   },
   "outputs": [],
   "source": [
    "import os\n",
    "os.environ[\"CUDA_VISIBLE_DEVICES\"] = \"7\"\n",
    "import torch\n",
    "import torch.nn.functional as F\n",
    "import functorch\n",
    "from functorch import jacrev,jacfwd\n",
    "from functorch import make_functional, vmap, grad\n",
    "import torch"
   ]
  },
  {
   "cell_type": "code",
   "execution_count": 16,
   "id": "018ebb8a",
   "metadata": {},
   "outputs": [],
   "source": [
    "# from model.afnonet import AFNONet\n",
    "# model = AFNONet((32,64),2,110,110).cuda()\n",
    "# func_model, params = make_functional(model)\n",
    "# x = torch.randn(4,110,32,64).cuda()\n",
    "# y = torch.randn(4,110,32,64).cuda()\n",
    "# optimzer= torch.optim.Adam(model.parameters())\n",
    "# shape = x.shape"
   ]
  },
  {
   "cell_type": "code",
   "execution_count": 42,
   "id": "f7550a7c",
   "metadata": {
    "code_folding": [
     1,
     17,
     23,
     28,
     30
    ]
   },
   "outputs": [],
   "source": [
    "class Nodal_GradientModifier:\n",
    "    def __init__(self,lambda1=1,lambda2=1,sample_times=10):\n",
    "        self.lambda1 = lambda1\n",
    "        self.lambda2 = lambda2\n",
    "        self.sample_times = sample_times\n",
    "        self.cotangents_sum_along_x_dimension = None\n",
    "    def Normlization_Term_1(self,params,x):\n",
    "        if self.cotangents_sum_along_x_dimension is None or self.cotangents_sum_along_x_dimension.shape!=x.shape:\n",
    "            self.cotangents_sum_along_x_dimension = torch.ones_like(x)\n",
    "        return ((functorch.jvp(lambda x:self.func_model(params,x), (x,), (self.cotangents_sum_along_x_dimension,))[1]-1)**2).mean()\n",
    "    def TrvJOJv_and_ETrAAT(self,params,x,cotangents_variable):\n",
    "        _, vJ_fn = functorch.vjp(lambda x:self.func_model(params,x), x)\n",
    "        vJ   = vJ_fn(cotangents_variable)[0]\n",
    "        dims = list(range(1,len(vJ.shape)))\n",
    "        vJO  = vJ.sum(dims,keepdims=True)-vJ # <vJ|1-I|\n",
    "        vJOJv= (vJ*vJO).sum(dims)#should sum over all dimension except batch\n",
    "        return vJOJv, functorch.jvp(lambda x:self.func_model(params,x), (x,), (vJO,))[1].norm()# average the batch_size also\n",
    "    def get_TrvJOJv(self,params,x,cotangents_variable):\n",
    "        _, vJ_fn = functorch.vjp(lambda x:self.func_model(params,x), x)\n",
    "        vJ   = vJ_fn(cotangents_variable)[0]\n",
    "        vJO  = vJ.sum(1,keepdims=True)-vJ # <vJ|1-I|\n",
    "        vJOJv= (vJ*vJO).sum(-1)#should sum over all dimension except batch\n",
    "        return vJOJv\n",
    "    def get_ETrAAT(self,params,x,cotangents_variable):\n",
    "        _, vJ_fn = functorch.vjp(lambda x:self.func_model(params,x), x)\n",
    "        vJ   = vJ_fn(cotangents_variable)[0]\n",
    "        vJO  = vJ.sum(1,keepdims=True)-vJ # <vJ|1-I|\n",
    "        return functorch.jvp(lambda x:self.func_model(params,x), (x,), (vJO,))[1].norm()# average the batch_size also\n",
    "    def get_ETrAAT_times(self,params,x,cotangents_variables):\n",
    "        return vmap(get_ETrAAT, (None, None, 0 ))(params, x,cotangents_variables).mean()\n",
    "    def get_TrvJOJv_times(self,params,x,cotangents_variables):\n",
    "        return vmap(self.get_TrvJOJv, (None, None, 0 ))(params, x,cotangents_variables).mean()\n",
    "    def Normlization_Term_2(self,params,x,cotangents_variables):\n",
    "        TrvJOJvs,ETrAATs =  vmap(self.TrvJOJv_and_ETrAAT, (None, None, 0 ))(params, x,cotangents_variables)\n",
    "        return ETrAATs.mean() - torch.var(TrvJOJvs,0).mean()\n",
    "    def Normlization_Term_2_Full(self,params,x,cotangents_variables):\n",
    "        return (((vmap(jacrev(self.func_model, argnums=1), (None, 0))(params, x)**2).sum(-1)-1)**2).mean()   \n",
    "    \n",
    "    def backward(self,model, x, y , return_Normlization_Term_1=False, return_Normlization_Term_2=False):\n",
    "        \n",
    "        self.func_model, params =  make_functional(model)\n",
    "        shape = y.shape\n",
    "        cotangents_variables = torch.randint(2,(self.sample_times,*shape)).cuda()*2-1\n",
    "        with torch.no_grad():\n",
    "            if self.lambda1 != 0:\n",
    "                Derivation_Term_1 = jacrev(self.Normlization_Term_1, argnums=0)(params, x)\n",
    "            if self.lambda2 != 0:\n",
    "                Derivation_Term_2 = jacrev(self.Normlization_Term_2, argnums=0)(params, x,cotangents_variables)\n",
    "        for i, param in enumerate(model.parameters()):\n",
    "            delta_p = 0\n",
    "            if self.lambda1 != 0:delta_p += self.lambda1*Derivation_Term_1[i]\n",
    "            if self.lambda2 != 0:delta_p += self.lambda2*Derivation_Term_2[i]\n",
    "            if param.grad is not None:\n",
    "                param.grad.data += delta_p\n",
    "            else:\n",
    "                param.grad = delta_p\n",
    "        with torch.no_grad():\n",
    "            if return_Normlization_Term_1: \n",
    "                return self.Normlization_Term_1(params, x)\n",
    "            if return_Normlization_Term_2:\n",
    "                return self.Normlization_Term_2(params, x,cotangents_variables)\n"
   ]
  },
  {
   "cell_type": "markdown",
   "id": "d26c6164",
   "metadata": {},
   "source": [
    "$\\sum_\\beta\\sum_{\\alpha\\neq\\beta} J_\\alpha^{\\gamma}J_\\beta^{\\gamma} \\rightarrow 0$"
   ]
  },
  {
   "cell_type": "code",
   "execution_count": 81,
   "id": "9e5f0462",
   "metadata": {},
   "outputs": [],
   "source": [
    "B=1\n",
    "I=10\n",
    "O=30\n",
    "model= MyModel(I, O).cuda()\n",
    "x    = torch.randn(B, I).cuda()\n",
    "y    = torch.randn(B, O).cuda()\n",
    "shape = y.shape\n",
    "sample_times=1000\n",
    "func_model, params =  make_functional(model)"
   ]
  },
  {
   "cell_type": "code",
   "execution_count": 82,
   "id": "33ea5df7",
   "metadata": {
    "code_folding": [
     0
    ]
   },
   "outputs": [],
   "source": [
    "def CorrelationTerm(params,x,cotangents_variable):\n",
    "    '''\n",
    "    \\sum_\\beta\\sum_{\\alpha\\neq\\beta} J_\\alpha^{\\gamma}J_\\beta^{\\gamma}\n",
    "    '''\n",
    "    J = vmap(jacrev(func_model, argnums=1), (None, 0))(params, x) #(B, O, I)\n",
    "    B, O, I =J.shape\n",
    "    K = torch.ones(I,I) - torch.eye(I,I)\n",
    "    K = K.to(J.device)\n",
    "    # L^\\gamma = \\sum_\\beta\\sum_{\\alpha\\neq\\beta} J_\\alpha^{\\gamma}J_\\beta^{\\gamma}\n",
    "    C = torch.einsum('bij,jk,bik->bi',J,K,J) #(B,O)  L^\\gamma\n",
    "    C = (C**2).sum(-1) #(B) \\sum_\\gamma (L^\\gamma)^2\n",
    "    return C"
   ]
  },
  {
   "cell_type": "code",
   "execution_count": 83,
   "id": "390698c3",
   "metadata": {
    "code_folding": [
     0
    ]
   },
   "outputs": [],
   "source": [
    "def TrvJOJv_and_ETrAAT(params,x,cotangents_variable):\n",
    "    _, vJ_fn = functorch.vjp(lambda x:func_model(params,x), x)\n",
    "    vJ   = vJ_fn(cotangents_variable)[0]\n",
    "    dims = list(range(1,len(vJ.shape)))\n",
    "    vJO  = vJ.sum(dims,keepdims=True)-vJ # <vJ|1-I|\n",
    "    vJOJv= (vJ*vJO).sum(dims)#should sum over all dimension except batch\n",
    "    return vJOJv, functorch.jvp(lambda x:func_model(params,x), (x,), (vJO,))[1].norm()# average the batch_size also"
   ]
  },
  {
   "cell_type": "code",
   "execution_count": 84,
   "id": "fb1e8d3c",
   "metadata": {
    "code_folding": [
     0
    ]
   },
   "outputs": [],
   "source": [
    "def Normlization_Term_2(params,x,cotangents_variables):\n",
    "    TrvJOJvs,ETrAATs =  vmap(TrvJOJv_and_ETrAAT, (None, None, 0 ))(params, x,cotangents_variables)\n",
    "    return ETrAATs.mean() - torch.var(TrvJOJvs,0).mean()"
   ]
  },
  {
   "cell_type": "code",
   "execution_count": 96,
   "id": "32e390ff",
   "metadata": {
    "code_folding": [
     0
    ]
   },
   "outputs": [
    {
     "name": "stdout",
     "output_type": "stream",
     "text": [
      "tensor(7.7047, device='cuda:0')\n"
     ]
    }
   ],
   "source": [
    "with torch.no_grad():\n",
    "    ground_truth = CorrelationTerm(params,x,None)[0]\n",
    "    print(ground_truth)"
   ]
  },
  {
   "cell_type": "code",
   "execution_count": 95,
   "id": "1c4124a3",
   "metadata": {
    "code_folding": [
     0
    ]
   },
   "outputs": [
    {
     "name": "stdout",
     "output_type": "stream",
     "text": [
      "tensor(-70.0145, device='cuda:0')\n"
     ]
    }
   ],
   "source": [
    "with torch.no_grad():\n",
    "    TrvJOJvs,ETrAATs = vmap(TrvJOJv_and_ETrAAT, (None, None, 0 ))(params, x,cotangents_variables)\n",
    "    print(ETrAATs.mean() - torch.var(TrvJOJvs,0).mean())"
   ]
  },
  {
   "cell_type": "code",
   "execution_count": 86,
   "id": "64ebee1d",
   "metadata": {},
   "outputs": [
    {
     "data": {
      "text/plain": [
       "torch.Size([1000, 1])"
      ]
     },
     "execution_count": 86,
     "metadata": {},
     "output_type": "execute_result"
    }
   ],
   "source": [
    "TrvJOJvs.shape"
   ]
  },
  {
   "cell_type": "code",
   "execution_count": 80,
   "id": "dfb3806d",
   "metadata": {},
   "outputs": [
    {
     "data": {
      "text/plain": [
       "torch.Size([1000])"
      ]
     },
     "execution_count": 80,
     "metadata": {},
     "output_type": "execute_result"
    }
   ],
   "source": [
    "ETrAATs.shape"
   ]
  },
  {
   "cell_type": "code",
   "execution_count": 77,
   "id": "61d86050",
   "metadata": {},
   "outputs": [
    {
     "name": "stdout",
     "output_type": "stream",
     "text": [
      "1.2106140851974487\n",
      "-280.4579162597656\n"
     ]
    }
   ],
   "source": [
    "B=1\n",
    "I=10\n",
    "O=30\n",
    "model= MyModel(I, O).cuda()\n",
    "x    = torch.randn(B, I).cuda()\n",
    "y    = torch.randn(B, O).cuda()\n",
    "shape = y.shape\n",
    "sample_times=1000\n",
    "\n",
    "grad_modifier.func_model, params =  make_functional(model)\n",
    "with torch.no_grad():\n",
    "    ground_truth = grad_modifier.Normlization_Term_2_Full(params,x,None)\n",
    "with torch.no_grad():\n",
    "    cotangents_variables = torch.randint(2,(sample_times,*shape)).cuda()*2-1\n",
    "    esimat_value = grad_modifier.Normlization_Term_2(params,x,cotangents_variables)\n",
    "print(ground_truth.item())\n",
    "print(esimat_value.item())"
   ]
  },
  {
   "cell_type": "code",
   "execution_count": null,
   "id": "785994b9",
   "metadata": {},
   "outputs": [],
   "source": [
    "from tqdm.notebook import tqdm"
   ]
  },
  {
   "cell_type": "code",
   "execution_count": 12,
   "id": "8256dda2",
   "metadata": {
    "code_folding": [
     0
    ]
   },
   "outputs": [],
   "source": [
    "# the position of gradient modifier(before `loss.backward` or after `loss.backward`) does not effect the result\n",
    "##############################################################################################################\n",
    "B=20\n",
    "I=10\n",
    "O=30\n",
    "class MyModel(torch.nn.Module):\n",
    "    def __init__(self, in_chan, out_chan):\n",
    "        super().__init__()\n",
    "        self.backbone = torch.nn.Linear(in_chan, out_chan,bias=False)\n",
    "    def forward(self,x):\n",
    "        return self.backbone(x)**2\n",
    "model= MyModel(I, O).cuda()\n",
    "x    = torch.randn(B, I).cuda()\n",
    "y    = torch.randn(B, O).cuda()\n",
    "func_model, params = make_functional(model)\n",
    "optimizer = torch.optim.SGD(model.parameters(),1)\n",
    "\n",
    "model.load_state_dict(torch.load('debug/model.weight.pt'))\n",
    "x = torch.load('debug/input.pt')\n",
    "y = torch.load('debug/ouput.pt')\n",
    "\n",
    "#optimizer = SGD_Nodel(model.parameters(),1)\n",
    "#optimzer= torch.optim.Adam(model.parameters())\n",
    "\n",
    "accues= []\n",
    "grad_modifier = Nodal_GradientModifier()\n",
    "weight_beg = model.backbone.weight.cpu().detach().numpy()\n",
    "# for _ in tqdm(range(1000)):\n",
    "optimizer.zero_grad()\n",
    "\n",
    "loss = F.mse_loss(model(x),y)\n",
    "loss.backward()\n",
    "grad_modifier.backward(model,x,y)\n",
    "gradient = model.backbone.weight.grad.cpu().detach().numpy()\n",
    "\n",
    "optimizer.step()\n",
    "#     accues.append(accu.item())\n",
    "weight_end = model.backbone.weight.cpu().detach().numpy()"
   ]
  },
  {
   "cell_type": "code",
   "execution_count": 15,
   "id": "f4bf461a",
   "metadata": {
    "code_folding": [
     8,
     9
    ],
    "scrolled": true
   },
   "outputs": [
    {
     "data": {
      "application/json": {
       "ascii": false,
       "bar_format": null,
       "colour": null,
       "elapsed": 0.011625289916992188,
       "initial": 0,
       "n": 0,
       "ncols": null,
       "nrows": null,
       "postfix": null,
       "prefix": "",
       "rate": null,
       "total": 100,
       "unit": "it",
       "unit_divisor": 1000,
       "unit_scale": false
      },
      "application/vnd.jupyter.widget-view+json": {
       "model_id": "b4b07174deb94b0990d0035efd6b91f0",
       "version_major": 2,
       "version_minor": 0
      },
      "text/plain": [
       "  0%|          | 0/100 [00:00<?, ?it/s]"
      ]
     },
     "metadata": {},
     "output_type": "display_data"
    },
    {
     "data": {
      "text/plain": [
       "[<matplotlib.lines.Line2D at 0x7f1f6deac310>]"
      ]
     },
     "execution_count": 15,
     "metadata": {},
     "output_type": "execute_result"
    },
    {
     "data": {
      "image/png": "[encoded data removed]",
      "text/plain": [
       "<Figure size 640x480 with 1 Axes>"
      ]
     },
     "metadata": {},
     "output_type": "display_data"
    }
   ],
   "source": [
    "# the goal about achieve zero loss is depended on the Batch size and the number of data\n",
    "##############################################################################################################\n",
    "%matplotlib inline\n",
    "from mltool.visualization import *\n",
    "from tqdm.notebook import tqdm\n",
    "B=20\n",
    "I=100\n",
    "O=300\n",
    "class MyModel(torch.nn.Module):\n",
    "    def __init__(self, in_chan, out_chan):\n",
    "        super().__init__()\n",
    "        self.backbone = torch.nn.Linear(in_chan, out_chan,bias=False)\n",
    "    def forward(self,x):\n",
    "        return self.backbone(x)**2\n",
    "model= MyModel(I, O).cuda()\n",
    "x    = torch.randn(B, I).cuda()\n",
    "y    = torch.randn(B, O).cuda()\n",
    "func_model, params = make_functional(model)\n",
    "optimizer = torch.optim.SGD(model.parameters(),1)\n",
    "\n",
    "#optimizer = SGD_Nodel(model.parameters(),1)\n",
    "#optimzer= torch.optim.Adam(model.parameters())\n",
    "\n",
    "accues= []\n",
    "grad_modifier = Nodal_GradientModifier(1,0)\n",
    "#weight_beg = model.backbone.weight.cpu().detach().numpy()\n",
    "for _ in tqdm(range(100)):\n",
    "    optimizer.zero_grad()\n",
    "    # loss = F.mse_loss(model(x),y)\n",
    "    # loss.backward()\n",
    "    #gradient = model.backbone.weight.grad.cpu().detach().numpy()\n",
    "    accu=grad_modifier.backward(model,x,y,return_Normlization_Term_1=True)\n",
    "    optimizer.step()\n",
    "    accues.append(accu.item())\n",
    "#weight_end = model.backbone.weight.cpu().detach().numpy()\n",
    "\n",
    "plt.plot(accues)"
   ]
  },
  {
   "cell_type": "code",
   "execution_count": 39,
   "id": "0dabb4ae",
   "metadata": {
    "code_folding": [
     8
    ]
   },
   "outputs": [
    {
     "data": {
      "application/json": {
       "ascii": false,
       "bar_format": null,
       "colour": null,
       "elapsed": 0.011411190032958984,
       "initial": 0,
       "n": 0,
       "ncols": null,
       "nrows": null,
       "postfix": null,
       "prefix": "",
       "rate": null,
       "total": 1000,
       "unit": "it",
       "unit_divisor": 1000,
       "unit_scale": false
      },
      "application/vnd.jupyter.widget-view+json": {
       "model_id": "0fa0c3679564457293ec417e3fdd8633",
       "version_major": 2,
       "version_minor": 0
      },
      "text/plain": [
       "  0%|          | 0/1000 [00:00<?, ?it/s]"
      ]
     },
     "metadata": {},
     "output_type": "display_data"
    },
    {
     "data": {
      "text/plain": [
       "[<matplotlib.lines.Line2D at 0x7f1f1b2bf340>]"
      ]
     },
     "execution_count": 39,
     "metadata": {},
     "output_type": "execute_result"
    },
    {
     "data": {
      "image/png": "[encoded data removed]",
      "text/plain": [
       "<Figure size 640x480 with 1 Axes>"
      ]
     },
     "metadata": {},
     "output_type": "display_data"
    }
   ],
   "source": [
    "# the goal about achieve zero loss is depended on the Batch size and the number of data\n",
    "##############################################################################################################\n",
    "%matplotlib inline\n",
    "from mltool.visualization import *\n",
    "from tqdm.notebook import tqdm\n",
    "B=20\n",
    "I=10\n",
    "O=30\n",
    "class MyModel(torch.nn.Module):\n",
    "    def __init__(self, in_chan, out_chan):\n",
    "        super().__init__()\n",
    "        self.backbone = torch.nn.Linear(in_chan, out_chan,bias=False)\n",
    "    def forward(self,x):\n",
    "        return self.backbone(x)**2\n",
    "model= MyModel(I, O).cuda()\n",
    "x    = torch.randn(B, I).cuda()\n",
    "y    = torch.randn(B, O).cuda()\n",
    "func_model, params = make_functional(model)\n",
    "optimizer = torch.optim.SGD(model.parameters(),1)\n",
    "\n",
    "#optimizer = SGD_Nodel(model.parameters(),1)\n",
    "#optimzer= torch.optim.Adam(model.parameters())\n",
    "\n",
    "accues= []\n",
    "grad_modifier = Nodal_GradientModifier(10,1,100)\n",
    "#weight_beg = model.backbone.weight.cpu().detach().numpy()\n",
    "for _ in tqdm(range(1000)):\n",
    "    optimizer.zero_grad()\n",
    "    # loss = F.mse_loss(model(x),y)\n",
    "    # loss.backward()\n",
    "    #gradient = model.backbone.weight.grad.cpu().detach().numpy()\n",
    "    accu=grad_modifier.backward(model,x,y,return_Normlization_Term_2=True)\n",
    "    optimizer.step()\n",
    "    accues.append(accu.item())\n",
    "#weight_end = model.backbone.weight.cpu().detach().numpy()\n",
    "\n",
    "plt.plot(accues)"
   ]
  },
  {
   "cell_type": "code",
   "execution_count": 8,
   "id": "a7ca28a8",
   "metadata": {},
   "outputs": [],
   "source": [
    "import numpy as np"
   ]
  },
  {
   "cell_type": "code",
   "execution_count": 52,
   "id": "6fd81633",
   "metadata": {},
   "outputs": [
    {
     "name": "stdout",
     "output_type": "stream",
     "text": [
      "1.6432467\n"
     ]
    }
   ],
   "source": [
    "print(np.linalg.norm(weight_end - weight_beg))"
   ]
  },
  {
   "cell_type": "code",
   "execution_count": 12,
   "id": "47c50946",
   "metadata": {},
   "outputs": [],
   "source": [
    "print(optimzer.param_groups[0]['params'][0].grad)"
   ]
  },
  {
   "cell_type": "code",
   "execution_count": 3,
   "id": "f91283f8",
   "metadata": {},
   "outputs": [],
   "source": [
    "cotangents = torch.ones(*shape).cuda()\n",
    "cotangents_variable  = torch.randint(2,shape).cuda()*2-1\n",
    "cotangents_variables = torch.randint(2,(10,*shape)).cuda()*2-1"
   ]
  },
  {
   "cell_type": "code",
   "execution_count": 4,
   "id": "605845ca",
   "metadata": {
    "code_folding": [],
    "scrolled": true
   },
   "outputs": [],
   "source": [
    "Normlization_Term_1 = lambda params,x:((functorch.jvp(lambda x:func_model(params,x), (x,), (cotangents,)\n",
    "                                      )[1]-1)**2).mean()\n",
    "with torch.no_grad():\n",
    "    Derivation_Term_1 = jacrev(Normlization_Term_1, argnums=0)(params, x)\n",
    "    torch.cuda.empty_cache()"
   ]
  },
  {
   "cell_type": "markdown",
   "id": "fdb6a5b5",
   "metadata": {},
   "source": [
    "$$\n",
    "\\sum_\\gamma A_{\\gamma\\gamma}^2=2(||A||_F^2) - Var[Tr_m(A)]=2\\{E[Tr_m(AA^T)] - Var[Tr_m(A)]\\}\n",
    "$$\n",
    "where $A=J(\\mathbf{1}-I)J^T$"
   ]
  },
  {
   "cell_type": "markdown",
   "id": "52e5a905",
   "metadata": {},
   "source": [
    "$$\n",
    "||A||_F^2= Tr(AA^T)=E[< \\vec{v}A|A^T\\vec{v}>]\n",
    "$$"
   ]
  },
  {
   "cell_type": "markdown",
   "id": "7cb7175c",
   "metadata": {},
   "source": [
    "$$\n",
    "< \\vec{v}A| = < \\vec{v}J|(\\mathbf{1}-I)J^T|= < \\vec{u}J^T|=|J\\vec{u}>^T\n",
    "$$"
   ]
  },
  {
   "cell_type": "code",
   "execution_count": 5,
   "id": "8c0f314a",
   "metadata": {
    "code_folding": [
     0,
     7,
     13,
     18,
     20,
     22,
     25
    ]
   },
   "outputs": [],
   "source": [
    "def TrvJOJv_and_ETrAAT(params,x,cotangents_variable):\n",
    "    _, vJ_fn = functorch.vjp(lambda x:func_model(params,x), x)\n",
    "    vJ   = vJ_fn(cotangents_variable)[0]\n",
    "    dims = list(range(1,len(vJ.shape)))\n",
    "    vJO  = vJ.sum(dims,keepdims=True)-vJ # <vJ|1-I|\n",
    "    vJOJv= (vJ*vJO).sum(dims)#should sum over all dimension except batch\n",
    "    return vJOJv, functorch.jvp(lambda x:func_model(params,x), (x,), (vJO,))[1].norm()# average the batch_size also\n",
    "def get_TrvJOJv(params,x,cotangents_variable):\n",
    "    _, vJ_fn = functorch.vjp(lambda x:func_model(params,x), x)\n",
    "    vJ   = vJ_fn(cotangents_variable)[0]\n",
    "    vJO  = vJ.sum(1,keepdims=True)-vJ # <vJ|1-I|\n",
    "    vJOJv= (vJ*vJO).sum(-1)#should sum over all dimension except batch\n",
    "    return vJOJv\n",
    "def get_ETrAAT(params,x,cotangents_variable):\n",
    "    _, vJ_fn = functorch.vjp(lambda x:func_model(params,x), x)\n",
    "    vJ   = vJ_fn(cotangents_variable)[0]\n",
    "    vJO  = vJ.sum(1,keepdims=True)-vJ # <vJ|1-I|\n",
    "    return functorch.jvp(lambda x:func_model(params,x), (x,), (vJO,))[1].norm()# average the batch_size also\n",
    "def get_ETrAAT_times(params,x,cotangents_variables):\n",
    "    return vmap(get_ETrAAT, (None, None, 0 ))(params, x,cotangents_variables).mean()\n",
    "def get_TrvJOJv_times(params,x,cotangents_variables):\n",
    "    return vmap(get_TrvJOJv, (None, None, 0 ))(params, x,cotangents_variables).mean()\n",
    "def Normlization_Term_2(params,x,cotangents_variables):\n",
    "    TrvJOJvs,ETrAATs =  vmap(TrvJOJv_and_ETrAAT, (None, None, 0 ))(params, x,cotangents_variables)\n",
    "    return ETrAATs.mean() - torch.var(TrvJOJvs,0).mean()\n",
    "def Normlization_Term_2_Full(params,x):\n",
    "    return (((vmap(jacrev(func_model, argnums=1), (None, 0))(params, x)**2).sum(-1)-1)**2).mean()"
   ]
  },
  {
   "cell_type": "code",
   "execution_count": 6,
   "id": "f6368280",
   "metadata": {
    "scrolled": true
   },
   "outputs": [],
   "source": [
    "with torch.no_grad():\n",
    "    Derivation_Term_2 = jacrev(Normlization_Term_2, argnums=0)(params, x,cotangents_variables)"
   ]
  },
  {
   "cell_type": "code",
   "execution_count": 65,
   "id": "fe3b2ea9",
   "metadata": {},
   "outputs": [],
   "source": []
  },
  {
   "cell_type": "code",
   "execution_count": 8,
   "id": "0bccff7a",
   "metadata": {},
   "outputs": [],
   "source": [
    "params_from_optimizer = optimizer.param_groups[0]['params']"
   ]
  },
  {
   "cell_type": "code",
   "execution_count": 14,
   "id": "64cc7d48",
   "metadata": {},
   "outputs": [],
   "source": [
    "for i,(p1,p2) in enumerate(zip(params_from_optimizer,params)):\n",
    "    if not torch.allclose(p1,p2):\n",
    "        print(f\"{i:03d}:p1.shape={p1.shape}:p2.shape={p2.shape}\")"
   ]
  },
  {
   "cell_type": "code",
   "execution_count": 9,
   "id": "c11ac2f4",
   "metadata": {},
   "outputs": [
    {
     "data": {
      "text/plain": [
       "132"
      ]
     },
     "execution_count": 9,
     "metadata": {},
     "output_type": "execute_result"
    }
   ],
   "source": [
    "len(params)"
   ]
  },
  {
   "cell_type": "code",
   "execution_count": 65,
   "id": "c1e10d45",
   "metadata": {
    "code_folding": [
     3
    ]
   },
   "outputs": [],
   "source": [
    "# from tqdm.notebook import tqdm\n",
    "# torch.cuda.empty_cache()\n",
    "# Derivation_Term_2=[0]*len(params)\n",
    "# with torch.no_grad():\n",
    "#     for i in tqdm(range(32)):\n",
    "#         for j in tqdm(range(64)):\n",
    "#             small_fun = lambda params,x:func_model(params,x)[:,i,j]\n",
    "#             Normlization_Term_2= lambda params,x:((\n",
    "#                 (vmap(jacrev(small_fun, argnums=1), (None, 0))(params, x)**2).sum(-1)-1\n",
    "#                 )**2).mean()\n",
    "#             Derivation_Term_2_tuple = jacrev(Normlization_Term_2, argnums=0)(params, x)\n",
    "#             for k in range(len(Derivation_Term_2_tuple)):\n",
    "#                 Derivation_Term_2[k]+=Derivation_Term_2_tuple[k]\n",
    "            "
   ]
  },
  {
   "cell_type": "markdown",
   "id": "1fbb91c3",
   "metadata": {},
   "source": [
    "输入 70x32x32 过大, 我们做出近邻假设:\n",
    "```\n",
    "                                     (x-h,y-h) (x  ,y-h) (x+h,y-h)\n",
    "位于 (x,y) 的 pixel 的响应只和他周围 一圈 (x-h,y  ) (x ,y  ) (x+h,y)\n",
    "                                     (x-h,y+h) (x  ,y+h) (x+h,y+h)\n",
    "有关\n",
    "```"
   ]
  },
  {
   "cell_type": "markdown",
   "id": "859184dc",
   "metadata": {},
   "source": [
    "###### Define a new backward modifier"
   ]
  },
  {
   "cell_type": "code",
   "execution_count": 17,
   "id": "fa7c26fa",
   "metadata": {
    "code_folding": [
     0,
     7,
     11,
     18,
     24,
     29,
     31,
     33,
     36,
     38
    ]
   },
   "outputs": [],
   "source": [
    "class GradientModifier:\n",
    "    def __init__(self,model,lambda1=100,lambda2=100,sample_times=10):\n",
    "        self.func_model, self.params = make_functional(model)\n",
    "        self.lambda1 = lambda1\n",
    "        self.lambda2 = lambda2\n",
    "        self.sample_times = sample_times\n",
    "        self.cotangents_sum_along_x_dimension = None\n",
    "    def Normlization_Term_1(self,params,x):\n",
    "        if self.cotangents_sum_along_x_dimension is None or self.cotangents_sum_along_x_dimension.shape!=x.shape:\n",
    "            self.cotangents_sum_along_x_dimension = torch.ones_like(x)\n",
    "        return ((functorch.jvp(lambda x:self.func_model(params,x), (x,), (self.cotangents_sum_along_x_dimension,))[1]-1)**2).mean()\n",
    "    def TrvJOJv_and_ETrAAT(self,params,x,cotangents_variable):\n",
    "        _, vJ_fn = functorch.vjp(lambda x:self.func_model(params,x), x)\n",
    "        vJ   = vJ_fn(cotangents_variable)[0]\n",
    "        dims = list(range(1,len(vJ.shape)))\n",
    "        vJO  = vJ.sum(dims,keepdims=True)-vJ # <vJ|1-I|\n",
    "        vJOJv= (vJ*vJO).sum(dims)#should sum over all dimension except batch\n",
    "        return vJOJv, functorch.jvp(lambda x:self.func_model(params,x), (x,), (vJO,))[1].norm()# average the batch_size also\n",
    "    def get_TrvJOJv(params,x,cotangents_variable):\n",
    "        _, vJ_fn = functorch.vjp(lambda x:self.func_model(params,x), x)\n",
    "        vJ   = vJ_fn(cotangents_variable)[0]\n",
    "        vJO  = vJ.sum(1,keepdims=True)-vJ # <vJ|1-I|\n",
    "        vJOJv= (vJ*vJO).sum(-1)#should sum over all dimension except batch\n",
    "        return vJOJv\n",
    "    def get_ETrAAT(params,x,cotangents_variable):\n",
    "        _, vJ_fn = functorch.vjp(lambda x:self.func_model(params,x), x)\n",
    "        vJ   = vJ_fn(cotangents_variable)[0]\n",
    "        vJO  = vJ.sum(1,keepdims=True)-vJ # <vJ|1-I|\n",
    "        return functorch.jvp(lambda x:self.func_model(params,x), (x,), (vJO,))[1].norm()# average the batch_size also\n",
    "    def get_ETrAAT_times(params,x,cotangents_variables):\n",
    "        return vmap(get_ETrAAT, (None, None, 0 ))(params, x,cotangents_variables).mean()\n",
    "    def get_TrvJOJv_times(params,x,cotangents_variables):\n",
    "        return vmap(self.get_TrvJOJv, (None, None, 0 ))(params, x,cotangents_variables).mean()\n",
    "    def Normlization_Term_2(params,x,cotangents_variables):\n",
    "        TrvJOJvs,ETrAATs =  vmap(self.TrvJOJv_and_ETrAAT, (None, None, 0 ))(params, x,cotangents_variables)\n",
    "        return ETrAATs.mean() - torch.var(TrvJOJvs,0).mean()\n",
    "    def Normlization_Term_2_Full(params,x):\n",
    "        return (((vmap(jacrev(self.func_model, argnums=1), (None, 0))(params, x)**2).sum(-1)-1)**2).mean()   \n",
    "    def backward(self,x):\n",
    "        shape = x.shape\n",
    "        cotangents_variables = torch.randint(2,(self.sample_times,*shape)).cuda()*2-1\n",
    "        with torch.no_grad():\n",
    "            Derivation_Term_1 = jacrev(self.Normlization_Term_1, argnums=0)(self.params, _input)\n",
    "            #torch.cuda.empty_cache() # usually not helpful to save memory\n",
    "        with torch.no_grad():\n",
    "            Derivation_Term_2 = jacrev(Normlization_Term_2, argnums=0)(self.params, x,cotangents_variables)\n",
    "            #torch.cuda.empty_cache() # usually not helpful to save memory\n",
    "            for p, delta1, delta2 in zip(self.params,Derivation_Term_1,Derivation_Term_2):\n",
    "                if p.grad is not None:\n",
    "                    p += self.lambda1*delta1 + self.lambda2*delta2"
   ]
  },
  {
   "cell_type": "markdown",
   "id": "1377e4e3",
   "metadata": {},
   "source": [
    "###### Define the optimizer"
   ]
  },
  {
   "cell_type": "code",
   "execution_count": 69,
   "id": "76271014",
   "metadata": {
    "code_folding": []
   },
   "outputs": [],
   "source": []
  },
  {
   "cell_type": "code",
   "execution_count": null,
   "id": "4479b498",
   "metadata": {
    "code_folding": [
     10,
     138,
     153
    ]
   },
   "outputs": [],
   "source": [
    "from collections import defaultdict\n",
    "import math\n",
    "from typing import cast, List, Optional, Dict, Tuple\n",
    "\n",
    "import torch\n",
    "from torch import Tensor\n",
    "from .optimizer import Optimizer, _use_grad_for_differentiable\n",
    "\n",
    "__all__ = ['Adam', 'adam']\n",
    "\n",
    "class Adam_Nodal(Optimizer):\n",
    "    def __init__(self, params, lambda1=100,lambda2=100,sample_times=10,lr=1e-3, betas=(0.9, 0.999), eps=1e-8,\n",
    "                 weight_decay=0, amsgrad=False, *, foreach: Optional[bool] = None,\n",
    "                 maximize: bool = False, capturable: bool = False,\n",
    "                 differentiable: bool = False, fused: bool = False):\n",
    "        assert func_model is not None,\"you need provide the function-like model. For example, try `func_model, params = make_functional(model)` \"\n",
    "        if not 0.0 <= lr:\n",
    "            raise ValueError(\"Invalid learning rate: {}\".format(lr))\n",
    "        if not 0.0 <= eps:\n",
    "            raise ValueError(\"Invalid epsilon value: {}\".format(eps))\n",
    "        if not 0.0 <= betas[0] < 1.0:\n",
    "            raise ValueError(\"Invalid beta parameter at index 0: {}\".format(betas[0]))\n",
    "        if not 0.0 <= betas[1] < 1.0:\n",
    "            raise ValueError(\"Invalid beta parameter at index 1: {}\".format(betas[1]))\n",
    "        if not 0.0 <= weight_decay:\n",
    "            raise ValueError(\"Invalid weight_decay value: {}\".format(weight_decay))\n",
    "        defaults = dict(lr=lr, betas=betas, eps=eps,\n",
    "                        weight_decay=weight_decay, amsgrad=amsgrad,\n",
    "                        maximize=maximize, foreach=foreach, capturable=capturable,\n",
    "                        differentiable=differentiable, fused=fused)\n",
    "        super(Adam, self).__init__(params, defaults)a\n",
    "        assert len(self.param_groups)==1, \"only one group parameter allowed \"\n",
    "        self.params = optimizer.param_groups[0]['params']\n",
    "        self.func_model = func_model\n",
    "        if fused:\n",
    "            if differentiable:\n",
    "                raise RuntimeError(\"`fused` cannot be `differentiable`\")\n",
    "            self._step_supports_amp_scaling = True\n",
    "            # TODO(crcrpar): [low prec params & their higher prec copy]\n",
    "            # Suppor AMP with FP16/BF16 model params which would need\n",
    "            # higher prec copy of params to do update math in higher prec to\n",
    "            # alleviate the loss of information.\n",
    "            if not all(\n",
    "                p.is_cuda and torch.is_floating_point(p)\n",
    "                for pg in self.param_groups for p in pg['params']\n",
    "            ):\n",
    "                raise RuntimeError(\"FusedAdam requires all the params to be CUDA, floating point\")\n",
    "                self.lambda1 = lambda1\n",
    "        self.lambda2 = lambda2\n",
    "        self.sample_times = sample_times\n",
    "        self.cotangents_sum_along_x_dimension = None\n",
    "        \n",
    "    def __setstate__(self, state):\n",
    "        super().__setstate__(state)\n",
    "        for group in self.param_groups:\n",
    "            group.setdefault('amsgrad', False)\n",
    "            group.setdefault('maximize', False)\n",
    "            group.setdefault('foreach', None)\n",
    "            group.setdefault('capturable', False)\n",
    "            group.setdefault('differentiable', False)\n",
    "            group.setdefault('fused', False)\n",
    "        state_values = list(self.state.values())\n",
    "        step_is_tensor = (len(state_values) != 0) and torch.is_tensor(state_values[0]['step'])\n",
    "        if not step_is_tensor:\n",
    "            for s in state_values:\n",
    "                s['step'] = torch.tensor(float(s['step']))\n",
    "\n",
    "                \n",
    "    def Normlization_Term_1(self,params,x):\n",
    "        if self.cotangents_sum_along_x_dimension is None or self.cotangents_sum_along_x_dimension.shape!=x.shape:\n",
    "            self.cotangents_sum_along_x_dimension = torch.ones_like(x)\n",
    "        return ((functorch.jvp(lambda x:self.func_model(params,x), (x,), (self.cotangents_sum_along_x_dimension,))[1]-1)**2).mean()\n",
    "    def TrvJOJv_and_ETrAAT(self,params,x,cotangents_variable):\n",
    "        _, vJ_fn = functorch.vjp(lambda x:self.func_model(params,x), x)\n",
    "        vJ   = vJ_fn(cotangents_variable)[0]\n",
    "        dims = list(range(1,len(vJ.shape)))\n",
    "        vJO  = vJ.sum(dims,keepdims=True)-vJ # <vJ|1-I|\n",
    "        vJOJv= (vJ*vJO).sum(dims)#should sum over all dimension except batch\n",
    "        return vJOJv, functorch.jvp(lambda x:self.func_model(params,x), (x,), (vJO,))[1].norm()# average the batch_size also\n",
    "    def get_TrvJOJv(self,params,x,cotangents_variable):\n",
    "        _, vJ_fn = functorch.vjp(lambda x:self.func_model(params,x), x)\n",
    "        vJ   = vJ_fn(cotangents_variable)[0]\n",
    "        vJO  = vJ.sum(1,keepdims=True)-vJ # <vJ|1-I|\n",
    "        vJOJv= (vJ*vJO).sum(-1)#should sum over all dimension except batch\n",
    "        return vJOJv\n",
    "    def get_ETrAAT(self,params,x,cotangents_variable):\n",
    "        _, vJ_fn = functorch.vjp(lambda x:self.func_model(params,x), x)\n",
    "        vJ   = vJ_fn(cotangents_variable)[0]\n",
    "        vJO  = vJ.sum(1,keepdims=True)-vJ # <vJ|1-I|\n",
    "        return functorch.jvp(lambda x:self.func_model(params,x), (x,), (vJO,))[1].norm()# average the batch_size also\n",
    "    def get_ETrAAT_times(self,params,x,cotangents_variables):\n",
    "        return vmap(get_ETrAAT, (None, None, 0 ))(params, x,cotangents_variables).mean()\n",
    "    def get_TrvJOJv_times(self,params,x,cotangents_variables):\n",
    "        return vmap(self.get_TrvJOJv, (None, None, 0 ))(params, x,cotangents_variables).mean()\n",
    "    def Normlization_Term_2(self,params,x,cotangents_variables):\n",
    "        TrvJOJvs,ETrAATs =  vmap(self.TrvJOJv_and_ETrAAT, (None, None, 0 ))(params, x,cotangents_variables)\n",
    "        return ETrAATs.mean() - torch.var(TrvJOJvs,0).mean()\n",
    "    def Normlization_Term_2_Full(model, params,x):\n",
    "        return (((vmap(jacrev(self.func_model, argnums=1), (None, 0))(params, x)**2).sum(-1)-1)**2).mean()   \n",
    "    \n",
    "            \n",
    "    @_use_grad_for_differentiable\n",
    "    def step(self, _input,_output, model):\n",
    "        \"\"\"Performs a single optimization step.\n",
    "\n",
    "        Args:\n",
    "            closure (Callable, optional): A closure that reevaluates the model\n",
    "                and returns the loss.\n",
    "            grad_scaler (:class:`torch.cuda.amp.GradScaler`, optional): A GradScaler which is\n",
    "                supplied from ``grad_scaler.step(optimizer)``.\n",
    "        \"\"\"\n",
    "        self._cuda_graph_capture_health_check()\n",
    "\n",
    "        # we will firstly update the grad from regularzation term\n",
    "        # in this case is \n",
    "        #     $L1 = \\sum_\\gamma(\\sum_\\alpha J_\\alpha^{\\gamma}-1)^2$\n",
    "        #     $L2 = \\lambda_2[\\sum_\\gamma A_{\\gamma\\gamma}^2]$ where $A=J(\\mathbf{1}-I)J^T$\n",
    "        #          for L2 part, we will use Hutchinson Method to estimate the value and do backprogation\n",
    "        #          $\\sum_\\gamma A_{\\gamma\\gamma}^2 = 2\\{E[\\Tr_m(AA^T)] - Var[\\Tr_m(A)]\\}$\n",
    "        \n",
    "        self.func_model, params =  make_functional(model)\n",
    "        shape = _output.shape\n",
    "        cotangents_variables = torch.randint(2,(self.sample_times,*shape)).cuda()*2-1\n",
    "        with torch.no_grad():\n",
    "            Derivation_Term_1 = jacrev(self.Normlization_Term_1, argnums=0)(params, _input)\n",
    "            Derivation_Term_2 = jacrev(self.Normlization_Term_2, argnums=0)(params, _input,cotangents_variables)\n",
    "\n",
    "        for group in self.param_groups:\n",
    "            params_with_grad = []\n",
    "            grads = []\n",
    "            exp_avgs = []\n",
    "            exp_avg_sqs = []\n",
    "            max_exp_avg_sqs = []\n",
    "            state_steps = []\n",
    "            beta1, beta2 = group['betas']\n",
    "\n",
    "            grad_scale = None\n",
    "            found_inf = None\n",
    "            if group['fused'] and grad_scaler is not None:\n",
    "                grad_scale = grad_scaler._get_scale_async()\n",
    "                device = grad_scale.device\n",
    "                grad_scale = _MultiDeviceReplicator(grad_scale)\n",
    "                found_inf = _get_fp16AMP_params(optimizer=self, grad_scaler=grad_scaler, device=device)\n",
    "\n",
    "            for p ,d1,d2 in zip(group['params'],Derivation_Term_1,Derivation_Term_2):\n",
    "                if p.grad is not None:\n",
    "                    params_with_grad.append(p)\n",
    "                    if p.grad.is_sparse:\n",
    "                        raise RuntimeError('Adam does not support sparse gradients, please consider SparseAdam instead')\n",
    "                    grads.append(p.grad+d1+d2)\n",
    "\n",
    "                    state = self.state[p]\n",
    "                    # Lazy state initialization\n",
    "                    if len(state) == 0:\n",
    "                        state['step'] = (\n",
    "                            torch.zeros((1,), dtype=torch.float, device=p.device)\n",
    "                            if self.defaults['capturable'] or self.defaults['fused']\n",
    "                            else torch.tensor(0.)\n",
    "                        )\n",
    "                        # Exponential moving average of gradient values\n",
    "                        state['exp_avg'] = torch.zeros_like(p, memory_format=torch.preserve_format)\n",
    "                        # Exponential moving average of squared gradient values\n",
    "                        state['exp_avg_sq'] = torch.zeros_like(p, memory_format=torch.preserve_format)\n",
    "                        if group['amsgrad']:\n",
    "                            # Maintains max of all exp. moving avg. of sq. grad. values\n",
    "                            state['max_exp_avg_sq'] = torch.zeros_like(p, memory_format=torch.preserve_format)\n",
    "\n",
    "                    exp_avgs.append(state['exp_avg'])\n",
    "                    exp_avg_sqs.append(state['exp_avg_sq'])\n",
    "\n",
    "                    if group['amsgrad']:\n",
    "                        max_exp_avg_sqs.append(state['max_exp_avg_sq'])\n",
    "                    if group['differentiable'] and state['step'].requires_grad:\n",
    "                        raise RuntimeError('`requires_grad` is not supported for `step` in differentiable mode')\n",
    "                    state_steps.append(state['step'])\n",
    "\n",
    "            adam(params_with_grad,\n",
    "                 grads,\n",
    "                 exp_avgs,\n",
    "                 exp_avg_sqs,\n",
    "                 max_exp_avg_sqs,\n",
    "                 state_steps,\n",
    "                 amsgrad=group['amsgrad'],\n",
    "                 beta1=beta1,\n",
    "                 beta2=beta2,\n",
    "                 lr=group['lr'],\n",
    "                 weight_decay=group['weight_decay'],\n",
    "                 eps=group['eps'],\n",
    "                 maximize=group['maximize'],\n",
    "                 foreach=group['foreach'],\n",
    "                 capturable=group['capturable'],\n",
    "                 differentiable=group['differentiable'],\n",
    "                 fused=group['fused'],\n",
    "                 grad_scale=grad_scale,\n",
    "                 found_inf=found_inf)\n",
    "\n",
    "        return loss\n",
    "\n"
   ]
  },
  {
   "cell_type": "markdown",
   "id": "43af2e18",
   "metadata": {},
   "source": [
    "#### 如果我们直接计算出来梯度, 是不是可以减少中间变量的占用\n",
    "\n",
    "我们接下来要利用的内置函数 vpj, vjp, pjv 实现的是这几个量\n",
    "- $\\sum_\\alpha J_\\alpha^\\gamma$\n",
    "- $\\sum_\\alpha H_{\\alpha\\beta}^\\gamma$\n",
    "- $\\sum_\\alpha (J_\\alpha^\\gamma)^2$\n",
    "- $\\sum_\\alpha J_\\alpha^\\gamma H_{\\alpha\\beta}^\\gamma$\n"
   ]
  },
  {
   "cell_type": "markdown",
   "id": "4cd47ad3",
   "metadata": {
    "heading_collapsed": true
   },
   "source": [
    "##### $\\sum_\\alpha J_\\alpha^\\gamma$"
   ]
  },
  {
   "cell_type": "code",
   "execution_count": 200,
   "id": "da899e32",
   "metadata": {
    "hidden": true,
    "scrolled": true
   },
   "outputs": [],
   "source": [
    "jvp_from_batch_J = batch_J.sum(-1)"
   ]
  },
  {
   "cell_type": "markdown",
   "id": "a9381bad",
   "metadata": {
    "hidden": true
   },
   "source": [
    "首先比较 torch 原生的和functorch 的 jvp function"
   ]
  },
  {
   "cell_type": "code",
   "execution_count": 195,
   "id": "4641fc59",
   "metadata": {
    "hidden": true
   },
   "outputs": [],
   "source": [
    "output_pytorch_jvp,jvp_result_pytorch_jvp = torch.autograd.functional.jvp(model, x, torch.ones(7,3))\n",
    "output_functorch_jvp,jvp_result_functorch_jvp = functorch.jvp(model, (x,), (torch.ones(7,3),))"
   ]
  },
  {
   "cell_type": "code",
   "execution_count": 202,
   "id": "540633cf",
   "metadata": {
    "hidden": true
   },
   "outputs": [
    {
     "name": "stdout",
     "output_type": "stream",
     "text": [
      "tensor(0., grad_fn=<DistBackward0>)\n",
      "tensor(0., grad_fn=<DistBackward0>)\n",
      "tensor(3.4459e-07, grad_fn=<DistBackward0>)\n"
     ]
    }
   ],
   "source": [
    "# result \n",
    "print(torch.dist(output_pytorch_jvp,output_functorch_jvp))\n",
    "print(torch.dist(jvp_result_pytorch_jvp,jvp_result_functorch_jvp))\n",
    "print(torch.dist(jvp_result_pytorch_jvp,jvp_from_batch_J))"
   ]
  },
  {
   "cell_type": "markdown",
   "id": "b37c6fb6",
   "metadata": {
    "hidden": true
   },
   "source": [
    "注意到上面的function 没有实现 vmap, 我们现在来尝试用vmap写出"
   ]
  },
  {
   "cell_type": "code",
   "execution_count": 206,
   "id": "21ef609a",
   "metadata": {
    "hidden": true
   },
   "outputs": [],
   "source": [
    "func = lambda x:functorch.jvp(model, (x,), (torch.ones(3),))"
   ]
  },
  {
   "cell_type": "code",
   "execution_count": 208,
   "id": "139f7932",
   "metadata": {
    "hidden": true
   },
   "outputs": [],
   "source": [
    "output_batch_functorch_jvp,jvp_batch_result_functorch_jvp = vmap(func)(x)"
   ]
  },
  {
   "cell_type": "code",
   "execution_count": 211,
   "id": "daa75c59",
   "metadata": {
    "hidden": true
   },
   "outputs": [
    {
     "name": "stdout",
     "output_type": "stream",
     "text": [
      "tensor(4.5825e-07, grad_fn=<DistBackward0>)\n",
      "tensor(3.3542e-07, grad_fn=<DistBackward0>)\n"
     ]
    }
   ],
   "source": [
    "print(torch.dist(output_batch_functorch_jvp,output_pytorch_jvp))\n",
    "print(torch.dist(jvp_batch_result_functorch_jvp,jvp_from_batch_J))"
   ]
  },
  {
   "cell_type": "markdown",
   "id": "6a92d45a",
   "metadata": {
    "hidden": true
   },
   "source": [
    "下面进行压力测试"
   ]
  },
  {
   "cell_type": "code",
   "execution_count": 222,
   "id": "65507261",
   "metadata": {
    "hidden": true
   },
   "outputs": [],
   "source": [
    "B=200\n",
    "I=100\n",
    "O=300\n",
    "model= MyModel(I, O)\n",
    "x    = torch.randn(B, I)"
   ]
  },
  {
   "cell_type": "code",
   "execution_count": 223,
   "id": "4a23dd5c",
   "metadata": {
    "hidden": true
   },
   "outputs": [
    {
     "name": "stdout",
     "output_type": "stream",
     "text": [
      "450 µs ± 28.4 µs per loop (mean ± std. dev. of 7 runs, 1,000 loops each)\n"
     ]
    }
   ],
   "source": [
    "%%timeit\n",
    "output_pytorch_jvp,jvp_result_pytorch_jvp = torch.autograd.functional.jvp(model, x, torch.ones(B,I))"
   ]
  },
  {
   "cell_type": "code",
   "execution_count": 224,
   "id": "b1d7bd9d",
   "metadata": {
    "hidden": true
   },
   "outputs": [
    {
     "name": "stdout",
     "output_type": "stream",
     "text": [
      "464 µs ± 25.2 µs per loop (mean ± std. dev. of 7 runs, 1,000 loops each)\n"
     ]
    }
   ],
   "source": [
    "%%timeit\n",
    "output_pytorch_jvp,jvp_result_pytorch_jvp = functorch.jvp(model, (x,), (torch.ones(B,I),))"
   ]
  },
  {
   "cell_type": "code",
   "execution_count": 226,
   "id": "d89050f2",
   "metadata": {
    "hidden": true
   },
   "outputs": [],
   "source": [
    "func = lambda x:functorch.jvp(model, (x,), (torch.ones(I),))"
   ]
  },
  {
   "cell_type": "code",
   "execution_count": 227,
   "id": "389a86cf",
   "metadata": {
    "hidden": true
   },
   "outputs": [
    {
     "name": "stdout",
     "output_type": "stream",
     "text": [
      "685 µs ± 40.3 µs per loop (mean ± std. dev. of 7 runs, 1,000 loops each)\n"
     ]
    }
   ],
   "source": [
    "%%timeit\n",
    "output_batch_functorch_jvp,jvp_batch_result_functorch_jvp = vmap(func)(x)"
   ]
  },
  {
   "cell_type": "markdown",
   "id": "5858ebcf",
   "metadata": {
    "hidden": true
   },
   "source": [
    "结论: 不用 vmap 会更加好!"
   ]
  },
  {
   "cell_type": "markdown",
   "id": "ee82676b",
   "metadata": {},
   "source": [
    "#####  $\\sum_\\alpha H_{\\alpha\\beta}^\\gamma = \\partial_{\\beta}\\sum_\\alpha J^\\gamma_{\\alpha}$"
   ]
  },
  {
   "cell_type": "code",
   "execution_count": 269,
   "id": "72fc86e7",
   "metadata": {},
   "outputs": [],
   "source": [
    "import torch\n",
    "from functorch import make_functional, vmap, grad\n",
    "model= MyModel(3, 4)\n",
    "x    = torch.randn(7, 3)\n",
    "func_model, params = make_functional(model)\n",
    "w    = params[0]\n",
    "batch_J= vmap(jacrev(func_model, argnums=1), (None, 0))(params, x)\n",
    "batch_H= jacrev(vmap(jacrev(func_model, argnums=1), (None, 0)), argnums=0)(params, x)"
   ]
  },
  {
   "cell_type": "code",
   "execution_count": 270,
   "id": "997934a5",
   "metadata": {
    "scrolled": true
   },
   "outputs": [
    {
     "data": {
      "text/plain": [
       "torch.Size([7, 4, 3, 4, 3])"
      ]
     },
     "execution_count": 270,
     "metadata": {},
     "output_type": "execute_result"
    }
   ],
   "source": [
    "batch_H[0].shape# 后面的 (4,3) 是 weight 的形状, 7 是 batch, 4 是输出的Dim, 3是alpha "
   ]
  },
  {
   "cell_type": "markdown",
   "id": "90ace874",
   "metadata": {},
   "source": [
    "指标 $\\beta$ 是指代的第几个 parameter, 也就是 `batch_H` 这个 tuple 里面的第几个量"
   ]
  },
  {
   "cell_type": "code",
   "execution_count": 280,
   "id": "e8a3a121",
   "metadata": {},
   "outputs": [
    {
     "data": {
      "text/plain": [
       "tensor(1.2781e-06, grad_fn=<DistBackward0>)"
      ]
     },
     "execution_count": 280,
     "metadata": {},
     "output_type": "execute_result"
    }
   ],
   "source": [
    "func = lambda params,x:functorch.jvp(lambda x:func_model(params,x), (x,), (torch.ones(7,3),))[1]\n",
    "batch_H_sum_from_jvp= jacrev(func, argnums=0)(params, x)\n",
    "#### full computation\n",
    "batch_H= jacrev(vmap(jacrev(func_model, argnums=1), (None, 0)), argnums=0)(params, x)\n",
    "jvp_from_batch_H = batch_H[0].sum(2)\n",
    "torch.dist(batch_H[0].sum(2),batch_H_sum_from_jvp[0])"
   ]
  },
  {
   "cell_type": "code",
   "execution_count": null,
   "id": "96cc2c88",
   "metadata": {},
   "outputs": [],
   "source": [
    "##### "
   ]
  },
  {
   "cell_type": "code",
   "execution_count": null,
   "id": "0b7dbf99",
   "metadata": {},
   "outputs": [],
   "source": [
    "_, vjp_fn = vjp(func_model, x)\n",
    "\n",
    "ft_jacobian, = vmap(vjp_fn)(unit_vectors)"
   ]
  },
  {
   "cell_type": "code",
   "execution_count": 152,
   "id": "9b8ca5d6",
   "metadata": {},
   "outputs": [
    {
     "ename": "RuntimeError",
     "evalue": "jvp(f, primals, tangents): Expected primals and tangents to have the same python structure. For example, if primals is a tuple of 3 tensors, tangents also must be. Got primals with structure TreeSpec(tuple, None, [TreeSpec(tuple, None, [*]), *]) and tangents with structure TreeSpec(tuple, None, [*, *])",
     "output_type": "error",
     "traceback": [
      "\u001b[0;31m---------------------------------------------------------------------------\u001b[0m",
      "\u001b[0;31mRuntimeError\u001b[0m                              Traceback (most recent call last)",
      "Cell \u001b[0;32mIn [152], line 1\u001b[0m\n\u001b[0;32m----> 1\u001b[0m batch_J\u001b[38;5;241m=\u001b[39m \u001b[43mvmap\u001b[49m\u001b[43m(\u001b[49m\u001b[43mfunc\u001b[49m\u001b[43m,\u001b[49m\u001b[43m \u001b[49m\u001b[43m(\u001b[49m\u001b[43m(\u001b[49m\u001b[38;5;28;43;01mNone\u001b[39;49;00m\u001b[43m,\u001b[49m\u001b[43m \u001b[49m\u001b[38;5;241;43m0\u001b[39;49m\u001b[43m)\u001b[49m\u001b[43m,\u001b[49m\u001b[43m \u001b[49m\u001b[43m(\u001b[49m\u001b[38;5;28;43;01mNone\u001b[39;49;00m\u001b[43m,\u001b[49m\u001b[38;5;28;43;01mNone\u001b[39;49;00m\u001b[43m)\u001b[49m\u001b[43m)\u001b[49m\u001b[43m)\u001b[49m\u001b[43m(\u001b[49m\u001b[43m(\u001b[49m\u001b[43mparams\u001b[49m\u001b[43m,\u001b[49m\u001b[43m \u001b[49m\u001b[43mx\u001b[49m\u001b[43m)\u001b[49m\u001b[43m,\u001b[49m\u001b[43m \u001b[49m\u001b[43m(\u001b[49m\u001b[43mtorch\u001b[49m\u001b[38;5;241;43m.\u001b[39;49m\u001b[43mones\u001b[49m\u001b[43m(\u001b[49m\u001b[38;5;241;43m4\u001b[39;49m\u001b[43m)\u001b[49m\u001b[43m,\u001b[49m\u001b[43mtorch\u001b[49m\u001b[38;5;241;43m.\u001b[39;49m\u001b[43mones\u001b[49m\u001b[43m(\u001b[49m\u001b[38;5;241;43m3\u001b[39;49m\u001b[43m)\u001b[49m\u001b[43m)\u001b[49m\u001b[43m)\u001b[49m\n",
      "File \u001b[0;32m~/anaconda3/envs/pytorch/lib/python3.9/site-packages/functorch/_src/vmap.py:365\u001b[0m, in \u001b[0;36mvmap.<locals>.wrapped\u001b[0;34m(*args, **kwargs)\u001b[0m\n\u001b[1;32m    363\u001b[0m \u001b[38;5;28;01mtry\u001b[39;00m:\n\u001b[1;32m    364\u001b[0m     batched_inputs \u001b[38;5;241m=\u001b[39m _create_batched_inputs(flat_in_dims, flat_args, vmap_level, args_spec)\n\u001b[0;32m--> 365\u001b[0m     batched_outputs \u001b[38;5;241m=\u001b[39m \u001b[43mfunc\u001b[49m\u001b[43m(\u001b[49m\u001b[38;5;241;43m*\u001b[39;49m\u001b[43mbatched_inputs\u001b[49m\u001b[43m,\u001b[49m\u001b[43m \u001b[49m\u001b[38;5;241;43m*\u001b[39;49m\u001b[38;5;241;43m*\u001b[39;49m\u001b[43mkwargs\u001b[49m\u001b[43m)\u001b[49m\n\u001b[1;32m    366\u001b[0m     \u001b[38;5;28;01mreturn\u001b[39;00m _unwrap_batched(batched_outputs, out_dims, vmap_level, batch_size, func)\n\u001b[1;32m    367\u001b[0m \u001b[38;5;28;01mfinally\u001b[39;00m:\n",
      "Cell \u001b[0;32mIn [148], line 1\u001b[0m, in \u001b[0;36m<lambda>\u001b[0;34m(*args)\u001b[0m\n\u001b[0;32m----> 1\u001b[0m func \u001b[38;5;241m=\u001b[39m \u001b[38;5;28;01mlambda\u001b[39;00m \u001b[38;5;241m*\u001b[39margs:\u001b[43mjvp\u001b[49m\u001b[43m(\u001b[49m\u001b[43mfunc_model\u001b[49m\u001b[43m,\u001b[49m\u001b[43m \u001b[49m\u001b[38;5;241;43m*\u001b[39;49m\u001b[43margs\u001b[49m\u001b[43m)\u001b[49m\n",
      "File \u001b[0;32m~/anaconda3/envs/pytorch/lib/python3.9/site-packages/functorch/_src/eager_transforms.py:786\u001b[0m, in \u001b[0;36mjvp\u001b[0;34m(func, primals, tangents, strict, has_aux)\u001b[0m\n\u001b[1;32m    784\u001b[0m flat_tangents, tangents_spec \u001b[38;5;241m=\u001b[39m tree_flatten(tangents)\n\u001b[1;32m    785\u001b[0m \u001b[38;5;28;01mif\u001b[39;00m primals_spec \u001b[38;5;241m!=\u001b[39m tangents_spec:\n\u001b[0;32m--> 786\u001b[0m     \u001b[38;5;28;01mraise\u001b[39;00m \u001b[38;5;167;01mRuntimeError\u001b[39;00m(\n\u001b[1;32m    787\u001b[0m         \u001b[38;5;124mf\u001b[39m\u001b[38;5;124m'\u001b[39m\u001b[38;5;132;01m{\u001b[39;00mjvp_str\u001b[38;5;132;01m}\u001b[39;00m\u001b[38;5;124m: Expected primals and tangents to have the same python \u001b[39m\u001b[38;5;124m'\u001b[39m\n\u001b[1;32m    788\u001b[0m         \u001b[38;5;124mf\u001b[39m\u001b[38;5;124m'\u001b[39m\u001b[38;5;124mstructure. For example, if primals is a tuple of 3 tensors, \u001b[39m\u001b[38;5;124m'\u001b[39m\n\u001b[1;32m    789\u001b[0m         \u001b[38;5;124mf\u001b[39m\u001b[38;5;124m'\u001b[39m\u001b[38;5;124mtangents also must be. Got primals with structure \u001b[39m\u001b[38;5;132;01m{\u001b[39;00mprimals_spec\u001b[38;5;132;01m}\u001b[39;00m\u001b[38;5;124m \u001b[39m\u001b[38;5;124m'\u001b[39m\n\u001b[1;32m    790\u001b[0m         \u001b[38;5;124mf\u001b[39m\u001b[38;5;124m'\u001b[39m\u001b[38;5;124mand tangents with structure \u001b[39m\u001b[38;5;132;01m{\u001b[39;00mtangents_spec\u001b[38;5;132;01m}\u001b[39;00m\u001b[38;5;124m'\u001b[39m)\n\u001b[1;32m    791\u001b[0m assert_non_empty_list_of_tensors(flat_primals, jvp_str, \u001b[38;5;124m'\u001b[39m\u001b[38;5;124mprimals\u001b[39m\u001b[38;5;124m'\u001b[39m)\n\u001b[1;32m    792\u001b[0m assert_non_empty_list_of_tensors(flat_tangents, jvp_str, \u001b[38;5;124m'\u001b[39m\u001b[38;5;124mtangents\u001b[39m\u001b[38;5;124m'\u001b[39m)\n",
      "\u001b[0;31mRuntimeError\u001b[0m: jvp(f, primals, tangents): Expected primals and tangents to have the same python structure. For example, if primals is a tuple of 3 tensors, tangents also must be. Got primals with structure TreeSpec(tuple, None, [TreeSpec(tuple, None, [*]), *]) and tangents with structure TreeSpec(tuple, None, [*, *])"
     ]
    }
   ],
   "source": [
    "batch_J= vmap(func, ((None, 0), (None,None)) \n",
    "             )( (params, x), (torch.ones(4),torch.ones(3)))"
   ]
  },
  {
   "cell_type": "code",
   "execution_count": null,
   "id": "b464bad7",
   "metadata": {},
   "outputs": [],
   "source": [
    "_, vjp_fn = vjp(partial(predict, weight, bias), x)\n",
    "\n",
    "ft_jacobian, = vmap(vjp_fn)(unit_vectors)"
   ]
  },
  {
   "cell_type": "code",
   "execution_count": 145,
   "id": "8ce7f93d",
   "metadata": {},
   "outputs": [],
   "source": [
    "from functorch import jvp\n",
    "x = torch.randn(5)\n",
    "y = torch.randn(5)\n",
    "f = lambda x, y: (x * y)\n",
    "_, output = jvp(f, (x, y), (torch.ones(5), torch.ones(5)))"
   ]
  },
  {
   "cell_type": "code",
   "execution_count": 146,
   "id": "0e460b48",
   "metadata": {},
   "outputs": [
    {
     "data": {
      "text/plain": [
       "tensor([ 3.1409, -0.3539, -0.2227, -0.5354, -2.3300])"
      ]
     },
     "execution_count": 146,
     "metadata": {},
     "output_type": "execute_result"
    }
   ],
   "source": [
    "output"
   ]
  },
  {
   "cell_type": "code",
   "execution_count": null,
   "id": "4efd1f7a",
   "metadata": {},
   "outputs": [],
   "source": [
    "import math\n",
    "import torch\n",
    "from torch import Tensor\n",
    "from torch.optim import Optimizer\n",
    "from typing import List, Optional"
   ]
  },
  {
   "cell_type": "code",
   "execution_count": null,
   "id": "598ea9b7",
   "metadata": {},
   "outputs": [],
   "source": [
    "def compute_constrained_gradient(grad, hessian)"
   ]
  },
  {
   "cell_type": "code",
   "execution_count": null,
   "id": "8ffb53a9",
   "metadata": {
    "code_folding": [
     1,
     6,
     19,
     95,
     148,
     229
    ]
   },
   "outputs": [],
   "source": [
    "\n",
    "class Adam(Optimizer):\n",
    "    r\"\"\"Implements Adam algorithm.\n",
    "\n",
    "    \"\"\"\n",
    "\n",
    "    def __init__(self, params, lr=1e-3, betas=(0.9, 0.999), eps=1e-8,\n",
    "                 weight_decay=0, amsgrad=False, *, foreach: Optional[bool] = None,\n",
    "                 maximize: bool = False, capturable: bool = False):\n",
    "        if not 0.0 <= lr:raise ValueError(\"Invalid learning rate: {}\".format(lr))\n",
    "        if not 0.0 <= eps:raise ValueError(\"Invalid epsilon value: {}\".format(eps))\n",
    "        if not 0.0 <= betas[0] < 1.0:raise ValueError(\"Invalid beta parameter at index 0: {}\".format(betas[0]))\n",
    "        if not 0.0 <= betas[1] < 1.0:raise ValueError(\"Invalid beta parameter at index 1: {}\".format(betas[1]))\n",
    "        if not 0.0 <= weight_decay:raise ValueError(\"Invalid weight_decay value: {}\".format(weight_decay))\n",
    "        defaults = dict(lr=lr, betas=betas, eps=eps,\n",
    "                        weight_decay=weight_decay, amsgrad=amsgrad,\n",
    "                        maximize=maximize, foreach=foreach, capturable=capturable)\n",
    "        super(Adam, self).__init__(params, defaults)\n",
    "\n",
    "    def __setstate__(self, state):\n",
    "        super().__setstate__(state)\n",
    "        for group in self.param_groups:\n",
    "            group.setdefault('amsgrad', False)\n",
    "            group.setdefault('maximize', False)\n",
    "            group.setdefault('foreach', None)\n",
    "            group.setdefault('capturable', False)\n",
    "        state_values = list(self.state.values())\n",
    "        step_is_tensor = (len(state_values) != 0) and torch.is_tensor(state_values[0]['step'])\n",
    "        if not step_is_tensor:\n",
    "            for s in state_values:\n",
    "                s['step'] = torch.tensor(float(s['step']))\n",
    "\n",
    "\n",
    "    @torch.no_grad()\n",
    "    def step(self, hessian,closure=None):\n",
    "        self._cuda_graph_capture_health_check()\n",
    "\n",
    "        loss = None\n",
    "        for group in self.param_groups:\n",
    "            params_with_grad = []\n",
    "            grads = []\n",
    "            exp_avgs = []\n",
    "            exp_avg_sqs = []\n",
    "            max_exp_avg_sqs = []\n",
    "            state_steps = []\n",
    "            beta1, beta2 = group['betas']\n",
    "\n",
    "            for p in group['params']:\n",
    "                if p.grad is not None:\n",
    "                    params_with_grad.append(p)\n",
    "                    if p.grad.is_sparse:\n",
    "                        raise RuntimeError('Adam does not support sparse gradients, please consider SparseAdam instead')\n",
    "                    grads.append(p.grad)\n",
    "\n",
    "                    state = self.state[p]\n",
    "                    # Lazy state initialization\n",
    "                    if len(state) == 0:\n",
    "                        state['step'] = torch.zeros((1,), dtype=torch.float, device=p.device) \\\n",
    "                            if self.defaults['capturable'] else torch.tensor(0.)\n",
    "                        # Exponential moving average of gradient values\n",
    "                        state['exp_avg'] = torch.zeros_like(p, memory_format=torch.preserve_format)\n",
    "                        # Exponential moving average of squared gradient values\n",
    "                        state['exp_avg_sq'] = torch.zeros_like(p, memory_format=torch.preserve_format)\n",
    "                        if group['amsgrad']:\n",
    "                            # Maintains max of all exp. moving avg. of sq. grad. values\n",
    "                            state['max_exp_avg_sq'] = torch.zeros_like(p, memory_format=torch.preserve_format)\n",
    "\n",
    "                    exp_avgs.append(state['exp_avg'])\n",
    "                    exp_avg_sqs.append(state['exp_avg_sq'])\n",
    "\n",
    "                    if group['amsgrad']:\n",
    "                        max_exp_avg_sqs.append(state['max_exp_avg_sq'])\n",
    "\n",
    "                    state_steps.append(state['step'])\n",
    "\n",
    "            adam(params_with_grad,\n",
    "                 grads,\n",
    "                 exp_avgs,\n",
    "                 exp_avg_sqs,\n",
    "                 max_exp_avg_sqs,\n",
    "                 state_steps,\n",
    "                 amsgrad=group['amsgrad'],\n",
    "                 beta1=beta1,\n",
    "                 beta2=beta2,\n",
    "                 lr=group['lr'],\n",
    "                 weight_decay=group['weight_decay'],\n",
    "                 eps=group['eps'],\n",
    "                 maximize=group['maximize'],\n",
    "                 foreach=group['foreach'],\n",
    "                 capturable=group['capturable'])\n",
    "\n",
    "        return loss\n",
    "\n",
    "\n",
    "\n",
    "def adam(params: List[Tensor],\n",
    "         grads: List[Tensor],\n",
    "         exp_avgs: List[Tensor],\n",
    "         exp_avg_sqs: List[Tensor],\n",
    "         max_exp_avg_sqs: List[Tensor],\n",
    "         state_steps: List[Tensor],\n",
    "         # kwonly args with defaults are not supported by functions compiled with torchscript issue #70627\n",
    "         # setting this as kwarg for now as functional API is compiled by torch/distributed/optim\n",
    "         foreach: bool = None,\n",
    "         capturable: bool = False,\n",
    "         *,\n",
    "         amsgrad: bool,\n",
    "         beta1: float,\n",
    "         beta2: float,\n",
    "         lr: float,\n",
    "         weight_decay: float,\n",
    "         eps: float,\n",
    "         maximize: bool):\n",
    "    r\"\"\"Functional API that performs Adam algorithm computation.\n",
    "    See :class:`~torch.optim.Adam` for details.\n",
    "    \"\"\"\n",
    "\n",
    "    if not all([isinstance(t, torch.Tensor) for t in state_steps]):\n",
    "        raise RuntimeError(\"API has changed, `state_steps` argument must contain a list of singleton tensors\")\n",
    "\n",
    "    if foreach is None:\n",
    "        # Placeholder for more complex foreach logic to be added when value is not set\n",
    "        foreach = False\n",
    "\n",
    "    if foreach and torch.jit.is_scripting():\n",
    "        raise RuntimeError('torch.jit.script not supported with foreach optimizers')\n",
    "\n",
    "    if foreach and not torch.jit.is_scripting():\n",
    "        func = _multi_tensor_adam\n",
    "    else:\n",
    "        func = _single_tensor_adam\n",
    "\n",
    "    func(params,\n",
    "         grads,\n",
    "         exp_avgs,\n",
    "         exp_avg_sqs,\n",
    "         max_exp_avg_sqs,\n",
    "         state_steps,\n",
    "         amsgrad=amsgrad,\n",
    "         beta1=beta1,\n",
    "         beta2=beta2,\n",
    "         lr=lr,\n",
    "         weight_decay=weight_decay,\n",
    "         eps=eps,\n",
    "         maximize=maximize,\n",
    "         capturable=capturable)\n",
    "\n",
    "\n",
    "def _single_tensor_adam(params: List[Tensor],\n",
    "                        grads: List[Tensor],\n",
    "                        exp_avgs: List[Tensor],\n",
    "                        exp_avg_sqs: List[Tensor],\n",
    "                        max_exp_avg_sqs: List[Tensor],\n",
    "                        state_steps: List[Tensor],\n",
    "                        *,\n",
    "                        amsgrad: bool,\n",
    "                        beta1: float,\n",
    "                        beta2: float,\n",
    "                        lr: float,\n",
    "                        weight_decay: float,\n",
    "                        eps: float,\n",
    "                        maximize: bool,\n",
    "                        capturable: bool):\n",
    "\n",
    "    for i, param in enumerate(params):\n",
    "\n",
    "        grad       = grads[i] if not maximize else -grads[i]\n",
    "        exp_avg    = exp_avgs[i]\n",
    "        exp_avg_sq = exp_avg_sqs[i]\n",
    "        step_t = state_steps[i]\n",
    "\n",
    "        if capturable:\n",
    "            assert param.is_cuda and step_t.is_cuda, \"If capturable=True, params and state_steps must be CUDA tensors.\"\n",
    "\n",
    "        # update step\n",
    "        step_t += 1\n",
    "\n",
    "        if weight_decay != 0:\n",
    "            grad = grad.add(param, alpha=weight_decay)\n",
    "\n",
    "        # Decay the first and second moment running average coefficient\n",
    "        exp_avg.mul_(beta1).add_(grad, alpha=1 - beta1)\n",
    "        exp_avg_sq.mul_(beta2).addcmul_(grad, grad.conj(), value=1 - beta2)\n",
    "\n",
    "        if capturable:\n",
    "            step = step_t\n",
    "\n",
    "            # 1 - beta1 ** step can't be captured in a CUDA graph, even if step is a CUDA tensor\n",
    "            # (incurs \"RuntimeError: CUDA error: operation not permitted when stream is capturing\")\n",
    "            bias_correction1 = 1 - torch.pow(beta1, step)\n",
    "            bias_correction2 = 1 - torch.pow(beta2, step)\n",
    "\n",
    "            step_size = lr / bias_correction1\n",
    "            step_size_neg = step_size.neg()\n",
    "\n",
    "            bias_correction2_sqrt = bias_correction2.sqrt()\n",
    "\n",
    "            if amsgrad:\n",
    "                # Maintains the maximum of all 2nd moment running avg. till now\n",
    "                torch.maximum(max_exp_avg_sqs[i], exp_avg_sq, out=max_exp_avg_sqs[i])\n",
    "                # Uses the max. for normalizing running avg. of gradient\n",
    "                # Folds in (admittedly ugly) 1-elem step_size math here to avoid extra param-set-sized read+write\n",
    "                # (can't fold it into addcdiv_ below because addcdiv_ requires value is a Number, not a Tensor)\n",
    "                denom = (max_exp_avg_sqs[i].sqrt() / (bias_correction2_sqrt * step_size_neg)).add_(eps / step_size_neg)\n",
    "            else:\n",
    "                denom = (exp_avg_sq.sqrt() / (bias_correction2_sqrt * step_size_neg)).add_(eps / step_size_neg)\n",
    "\n",
    "            param.addcdiv_(exp_avg, denom)\n",
    "        else:\n",
    "            step = step_t.item()\n",
    "\n",
    "            bias_correction1 = 1 - beta1 ** step\n",
    "            bias_correction2 = 1 - beta2 ** step\n",
    "\n",
    "            step_size = lr / bias_correction1\n",
    "\n",
    "            bias_correction2_sqrt = math.sqrt(bias_correction2)\n",
    "\n",
    "            if amsgrad:\n",
    "                # Maintains the maximum of all 2nd moment running avg. till now\n",
    "                torch.maximum(max_exp_avg_sqs[i], exp_avg_sq, out=max_exp_avg_sqs[i])\n",
    "                # Use the max. for normalizing running avg. of gradient\n",
    "                denom = (max_exp_avg_sqs[i].sqrt() / bias_correction2_sqrt).add_(eps)\n",
    "            else:\n",
    "                denom = (exp_avg_sq.sqrt() / bias_correction2_sqrt).add_(eps)\n",
    "\n",
    "            param.addcdiv_(exp_avg, denom, value=-step_size)\n",
    "\n",
    "\n",
    "def _multi_tensor_adam(params: List[Tensor],\n",
    "                       grads: List[Tensor],\n",
    "                       exp_avgs: List[Tensor],\n",
    "                       exp_avg_sqs: List[Tensor],\n",
    "                       max_exp_avg_sqs: List[Tensor],\n",
    "                       state_steps: List[Tensor],\n",
    "                       *,\n",
    "                       amsgrad: bool,\n",
    "                       beta1: float,\n",
    "                       beta2: float,\n",
    "                       lr: float,\n",
    "                       weight_decay: float,\n",
    "                       eps: float,\n",
    "                       maximize: bool,\n",
    "                       capturable: bool):\n",
    "    if len(params) == 0:\n",
    "        return\n",
    "\n",
    "    if capturable:\n",
    "        assert all(p.is_cuda and step.is_cuda for p, step in zip(params, state_steps)), \\\n",
    "            \"If capturable=True, params and state_steps must be CUDA tensors.\"\n",
    "\n",
    "    if maximize:\n",
    "        grads = torch._foreach_neg(tuple(grads))  # type: ignore[assignment]\n",
    "\n",
    "    # update steps\n",
    "    torch._foreach_add_(state_steps, 1)\n",
    "\n",
    "    if weight_decay != 0:\n",
    "        torch._foreach_add_(grads, params, alpha=weight_decay)\n",
    "\n",
    "    # Decay the first and second moment running average coefficient\n",
    "    torch._foreach_mul_(exp_avgs, beta1)\n",
    "    torch._foreach_add_(exp_avgs, grads, alpha=1 - beta1)\n",
    "\n",
    "    torch._foreach_mul_(exp_avg_sqs, beta2)\n",
    "    torch._foreach_addcmul_(exp_avg_sqs, grads, grads, 1 - beta2)\n",
    "\n",
    "    if capturable:\n",
    "        # TODO: use foreach_pow if/when foreach_pow is added\n",
    "        bias_correction1 = [torch.pow(beta1, step) for step in state_steps]\n",
    "        bias_correction2 = [torch.pow(beta2, step) for step in state_steps]\n",
    "        # foreach_sub doesn't allow a scalar as the first arg\n",
    "        torch._foreach_sub_(bias_correction1, 1)\n",
    "        torch._foreach_sub_(bias_correction2, 1)\n",
    "        torch._foreach_neg_(bias_correction1)\n",
    "        torch._foreach_neg_(bias_correction2)\n",
    "\n",
    "        # foreach_div doesn't allow a scalar as the first arg\n",
    "        step_size = torch._foreach_div(bias_correction1, lr)\n",
    "        torch._foreach_reciprocal_(step_size)\n",
    "        torch._foreach_neg_(step_size)\n",
    "\n",
    "        bias_correction2_sqrt = torch._foreach_sqrt(bias_correction2)\n",
    "\n",
    "        if amsgrad:\n",
    "            # Maintains the maximum of all 2nd moment running avg. till now\n",
    "            max_exp_avg_sqs = torch._foreach_maximum(max_exp_avg_sqs, exp_avg_sqs)  # type: ignore[assignment]\n",
    "\n",
    "            # Use the max. for normalizing running avg. of gradient\n",
    "            max_exp_avg_sq_sqrt = torch._foreach_sqrt(max_exp_avg_sqs)\n",
    "            # Folds in (admittedly ugly) 1-elem step_size math here to avoid extra param-set-sized read+write\n",
    "            # (can't fold it into addcdiv_ below because addcdiv_ requires value is a Number, not a Tensor)\n",
    "            torch._foreach_div_(max_exp_avg_sq_sqrt, torch._foreach_mul(bias_correction2_sqrt, step_size))\n",
    "            eps_over_step_size = torch._foreach_div(step_size, eps)\n",
    "            torch._foreach_reciprocal_(eps_over_step_size)\n",
    "            denom = torch._foreach_add(max_exp_avg_sq_sqrt, eps_over_step_size)\n",
    "        else:\n",
    "            exp_avg_sq_sqrt = torch._foreach_sqrt(exp_avg_sqs)\n",
    "            torch._foreach_div_(exp_avg_sq_sqrt, torch._foreach_mul(bias_correction2_sqrt, step_size))\n",
    "            eps_over_step_size = torch._foreach_div(step_size, eps)\n",
    "            torch._foreach_reciprocal_(eps_over_step_size)\n",
    "            denom = torch._foreach_add(exp_avg_sq_sqrt, eps_over_step_size)\n",
    "\n",
    "        torch._foreach_addcdiv_(params, exp_avgs, denom)\n",
    "    else:\n",
    "        bias_correction1 = [1 - beta1 ** step.item() for step in state_steps]\n",
    "        bias_correction2 = [1 - beta2 ** step.item() for step in state_steps]\n",
    "\n",
    "        step_size = [(lr / bc) * -1 for bc in bias_correction1]\n",
    "\n",
    "        bias_correction2_sqrt = [math.sqrt(bc) for bc in bias_correction2]\n",
    "\n",
    "        if amsgrad:\n",
    "            # Maintains the maximum of all 2nd moment running avg. till now\n",
    "            max_exp_avg_sqs = torch._foreach_maximum(max_exp_avg_sqs, exp_avg_sqs)  # type: ignore[assignment]\n",
    "\n",
    "            # Use the max. for normalizing running avg. of gradient\n",
    "            max_exp_avg_sq_sqrt = torch._foreach_sqrt(max_exp_avg_sqs)\n",
    "            torch._foreach_div_(max_exp_avg_sq_sqrt, bias_correction2_sqrt)\n",
    "            denom = torch._foreach_add(max_exp_avg_sq_sqrt, eps)\n",
    "        else:\n",
    "            exp_avg_sq_sqrt = torch._foreach_sqrt(exp_avg_sqs)\n",
    "            torch._foreach_div_(exp_avg_sq_sqrt, bias_correction2_sqrt)\n",
    "            denom = torch._foreach_add(exp_avg_sq_sqrt, eps)\n",
    "\n",
    "        torch._foreach_addcdiv_(params, exp_avgs, denom, step_size)"
   ]
  },
  {
   "cell_type": "code",
   "execution_count": 32,
   "id": "92215445",
   "metadata": {
    "code_folding": [
     14
    ],
    "scrolled": true
   },
   "outputs": [
    {
     "ename": "RuntimeError",
     "evalue": "element 0 of tensors does not require grad and does not have a grad_fn",
     "output_type": "error",
     "traceback": [
      "\u001b[0;31m---------------------------------------------------------------------------\u001b[0m",
      "\u001b[0;31mRuntimeError\u001b[0m                              Traceback (most recent call last)",
      "Cell \u001b[0;32mIn [32], line 1\u001b[0m\n\u001b[0;32m----> 1\u001b[0m \u001b[43mhess_params\u001b[49m\u001b[38;5;241;43m.\u001b[39;49m\u001b[43mbackward\u001b[49m\u001b[43m(\u001b[49m\u001b[43m)\u001b[49m\n",
      "File \u001b[0;32m~/anaconda3/envs/pytorch/lib/python3.9/site-packages/torch/_tensor.py:396\u001b[0m, in \u001b[0;36mTensor.backward\u001b[0;34m(self, gradient, retain_graph, create_graph, inputs)\u001b[0m\n\u001b[1;32m    387\u001b[0m \u001b[38;5;28;01mif\u001b[39;00m has_torch_function_unary(\u001b[38;5;28mself\u001b[39m):\n\u001b[1;32m    388\u001b[0m     \u001b[38;5;28;01mreturn\u001b[39;00m handle_torch_function(\n\u001b[1;32m    389\u001b[0m         Tensor\u001b[38;5;241m.\u001b[39mbackward,\n\u001b[1;32m    390\u001b[0m         (\u001b[38;5;28mself\u001b[39m,),\n\u001b[0;32m   (...)\u001b[0m\n\u001b[1;32m    394\u001b[0m         create_graph\u001b[38;5;241m=\u001b[39mcreate_graph,\n\u001b[1;32m    395\u001b[0m         inputs\u001b[38;5;241m=\u001b[39minputs)\n\u001b[0;32m--> 396\u001b[0m \u001b[43mtorch\u001b[49m\u001b[38;5;241;43m.\u001b[39;49m\u001b[43mautograd\u001b[49m\u001b[38;5;241;43m.\u001b[39;49m\u001b[43mbackward\u001b[49m\u001b[43m(\u001b[49m\u001b[38;5;28;43mself\u001b[39;49m\u001b[43m,\u001b[49m\u001b[43m \u001b[49m\u001b[43mgradient\u001b[49m\u001b[43m,\u001b[49m\u001b[43m \u001b[49m\u001b[43mretain_graph\u001b[49m\u001b[43m,\u001b[49m\u001b[43m \u001b[49m\u001b[43mcreate_graph\u001b[49m\u001b[43m,\u001b[49m\u001b[43m \u001b[49m\u001b[43minputs\u001b[49m\u001b[38;5;241;43m=\u001b[39;49m\u001b[43minputs\u001b[49m\u001b[43m)\u001b[49m\n",
      "File \u001b[0;32m~/anaconda3/envs/pytorch/lib/python3.9/site-packages/torch/autograd/__init__.py:173\u001b[0m, in \u001b[0;36mbackward\u001b[0;34m(tensors, grad_tensors, retain_graph, create_graph, grad_variables, inputs)\u001b[0m\n\u001b[1;32m    168\u001b[0m     retain_graph \u001b[38;5;241m=\u001b[39m create_graph\n\u001b[1;32m    170\u001b[0m \u001b[38;5;66;03m# The reason we repeat same the comment below is that\u001b[39;00m\n\u001b[1;32m    171\u001b[0m \u001b[38;5;66;03m# some Python versions print out the first line of a multi-line function\u001b[39;00m\n\u001b[1;32m    172\u001b[0m \u001b[38;5;66;03m# calls in the traceback and some print out the last line\u001b[39;00m\n\u001b[0;32m--> 173\u001b[0m \u001b[43mVariable\u001b[49m\u001b[38;5;241;43m.\u001b[39;49m\u001b[43m_execution_engine\u001b[49m\u001b[38;5;241;43m.\u001b[39;49m\u001b[43mrun_backward\u001b[49m\u001b[43m(\u001b[49m\u001b[43m  \u001b[49m\u001b[38;5;66;43;03m# Calls into the C++ engine to run the backward pass\u001b[39;49;00m\n\u001b[1;32m    174\u001b[0m \u001b[43m    \u001b[49m\u001b[43mtensors\u001b[49m\u001b[43m,\u001b[49m\u001b[43m \u001b[49m\u001b[43mgrad_tensors_\u001b[49m\u001b[43m,\u001b[49m\u001b[43m \u001b[49m\u001b[43mretain_graph\u001b[49m\u001b[43m,\u001b[49m\u001b[43m \u001b[49m\u001b[43mcreate_graph\u001b[49m\u001b[43m,\u001b[49m\u001b[43m \u001b[49m\u001b[43minputs\u001b[49m\u001b[43m,\u001b[49m\n\u001b[1;32m    175\u001b[0m \u001b[43m    \u001b[49m\u001b[43mallow_unreachable\u001b[49m\u001b[38;5;241;43m=\u001b[39;49m\u001b[38;5;28;43;01mTrue\u001b[39;49;00m\u001b[43m,\u001b[49m\u001b[43m \u001b[49m\u001b[43maccumulate_grad\u001b[49m\u001b[38;5;241;43m=\u001b[39;49m\u001b[38;5;28;43;01mTrue\u001b[39;49;00m\u001b[43m)\u001b[49m\n",
      "\u001b[0;31mRuntimeError\u001b[0m: element 0 of tensors does not require grad and does not have a grad_fn"
     ]
    }
   ],
   "source": [
    "import torch\n",
    "import numpy as np\n",
    "import torch.nn as nn\n",
    "import torch.nn.functional as F\n",
    "from torch.autograd import Variable\n",
    "from .architect import Architect\n",
    "from .history import History\n",
    "\n",
    "\n",
    "def _concat(xs):\n",
    "    return torch.cat([x.view(-1) for x in xs])\n",
    "\n",
    "\n",
    "# TODO: modify to include learnable edge weights.\n",
    "class ArchitectDARTS(Architect):\n",
    "    def __init__(self, model, args, writer):\n",
    "        super(ArchitectDARTS, self).__init__(model, args, writer)\n",
    "\n",
    "        self.network_momentum = args.train.momentum\n",
    "        self.network_weight_decay = args.train.weight_decay\n",
    "        if args.search.gd:\n",
    "            self.optimizer = torch.optim.SGD(\n",
    "                self._arch_parameters,\n",
    "                lr=args.search.arch_learning_rate,\n",
    "                weight_decay=args.search.arch_weight_decay,\n",
    "            )\n",
    "        else:\n",
    "            self.optimizer = torch.optim.Adam(\n",
    "                self._arch_parameters,\n",
    "                lr=args.search.arch_learning_rate,\n",
    "                betas=(0.5, 0.999),\n",
    "                weight_decay=args.search.arch_weight_decay,\n",
    "            )\n",
    "        self.history = History(\n",
    "            model, self, to_save=(\"alphas\", \"l2_norm\", \"l2_norm_from_init\")\n",
    "        )\n",
    "        self.history.dict[\"grads\"] = {}\n",
    "        for v in [\"alphas\", \"edges\"]:\n",
    "            self.history.dict[\"grads\"][v] = {}\n",
    "            for ct in self.cell_types:\n",
    "                self.history.dict[\"grads\"][v][ct] = []\n",
    "\n",
    "    def initialize_alphas(self):\n",
    "        k = self.n_edges\n",
    "        num_ops = self.model._num_ops\n",
    "        for ct in self.cell_types:\n",
    "            self.alphas[ct] = Variable(\n",
    "                1e-3 * torch.randn(k, num_ops).cuda(), requires_grad=True\n",
    "            )\n",
    "        self._arch_parameters = [self.alphas[ct] for ct in self.cell_types]\n",
    "\n",
    "    def initialize_edge_weights(self):\n",
    "        for ct in self.cell_types:\n",
    "            self.edges[ct] = Variable(\n",
    "                torch.ones(self.n_edges).cuda(), requires_grad=False\n",
    "            )\n",
    "\n",
    "    def get_alphas(self):\n",
    "        return {ct: F.softmax(self.alphas[ct], dim=-1) for ct in self.cell_types}\n",
    "\n",
    "    def get_edge_weights(self):\n",
    "        return self.edges\n",
    "\n",
    "    def step(self,input_train,target_train,input_valid, target_valid,eta,network_optimizer,unrolled,**kwargs\n",
    "    ):\n",
    "        self.optimizer.zero_grad()\n",
    "        self.zero_arch_var_grad()\n",
    "        self.set_model_alphas()\n",
    "        self.set_model_edge_weights()\n",
    "\n",
    "        if unrolled:\n",
    "            self._backward_step_unrolled(\n",
    "                input_train,\n",
    "                target_train,\n",
    "                input_valid,\n",
    "                target_valid,\n",
    "                eta,\n",
    "                network_optimizer,\n",
    "            )\n",
    "        else:\n",
    "            self._backward_step(input_valid, target_valid)\n",
    "        self.optimizer.step()\n",
    "        self.steps += 1\n",
    "\n",
    "    def _backward_step(self, input_valid, target_valid):\n",
    "        loss = self.model._loss(input_valid, target_valid)\n",
    "        loss.backward()\n",
    "        for ct in self.cell_types:\n",
    "            self.history.dict[\"grads\"][\"alphas\"][ct].append(\n",
    "                self.alphas[ct].grad.data.cpu().numpy()\n",
    "            )\n",
    "\n",
    "    def _construct_model_from_theta(self, theta):\n",
    "        model_new = self.model.new()\n",
    "        model_dict = self.model.state_dict()\n",
    "\n",
    "        params = {}\n",
    "        offset = 0\n",
    "        for k, v in self.model.named_parameters():\n",
    "            v_length = np.prod(v.size())\n",
    "            params[k] = theta[offset : offset + v_length].view(v.size())\n",
    "            offset += v_length\n",
    "\n",
    "        assert offset == len(theta)\n",
    "        model_dict.update(params)\n",
    "        model_new.load_state_dict(model_dict)\n",
    "        self.initialize_new_model_arch_params(model_new)\n",
    "\n",
    "        return model_new.cuda()\n",
    "\n",
    "    def copy_architecture_params(self):\n",
    "        new_alphas = {\n",
    "            ct: Variable(self.alphas[ct].data.clone().cuda(), requires_grad=True)\n",
    "            for ct in self.cell_types\n",
    "        }\n",
    "        new_edges = {\n",
    "            ct: Variable(self.edges[ct].data.clone().cuda(), requires_grad=False)\n",
    "            for ct in self.cell_types\n",
    "        }\n",
    "        return new_alphas, new_edges\n",
    "\n",
    "    def initialize_new_model_arch_params(self, new_model):\n",
    "        self._new_alphas, self._new_edges = self.copy_architecture_params()\n",
    "        alphas = {ct: F.softmax(self._new_alphas[ct], dim=-1) for ct in self.cell_types}\n",
    "        new_model.set_alphas(alphas)\n",
    "        new_model.set_edge_weights(self._new_edges)\n",
    "        new_model.drop_path_prob = self.model.drop_path_prob\n",
    "\n",
    "    def _compute_unrolled_model(self, input, target, eta, network_optimizer):\n",
    "        loss = self.model._loss(input, target)\n",
    "        theta = _concat(self.model.parameters()).data\n",
    "        try:\n",
    "            moment = _concat(\n",
    "                network_optimizer.state[v][\"momentum_buffer\"]\n",
    "                for v in self.model.parameters()\n",
    "            ).mul_(self.network_momentum)\n",
    "        except:\n",
    "            moment = torch.zeros_like(theta)\n",
    "        dtheta = (\n",
    "            _concat(torch.autograd.grad(loss, self.model.parameters())).data\n",
    "            + self.network_weight_decay * theta\n",
    "        )\n",
    "        self.set_model_alphas()\n",
    "        self.set_model_edge_weights()\n",
    "        unrolled_model = self._construct_model_from_theta(\n",
    "            theta.sub(eta, moment + dtheta)\n",
    "        )\n",
    "        return unrolled_model\n",
    "\n",
    "    def _hessian_vector_product(self, vector, input, target, r=1e-2):\n",
    "        R = r / _concat(vector).norm()\n",
    "        for p, v in zip(self.model.parameters(), vector):\n",
    "            p.data.add_(R, v)\n",
    "        loss = self.model._loss(input, target)\n",
    "        grads_p = torch.autograd.grad(loss, self._arch_parameters)\n",
    "        self.set_model_alphas()\n",
    "        self.set_model_edge_weights()\n",
    "\n",
    "        for p, v in zip(self.model.parameters(), vector):\n",
    "            p.data.sub_(2 * R, v)\n",
    "        loss = self.model._loss(input, target)\n",
    "        grads_n = torch.autograd.grad(loss, self._arch_parameters)\n",
    "        self.set_model_alphas()\n",
    "        self.set_model_edge_weights()\n",
    "\n",
    "        for p, v in zip(self.model.parameters(), vector):\n",
    "            p.data.add_(R, v)\n",
    "\n",
    "        return [(x - y).div_(2 * R) for x, y in zip(grads_p, grads_n)]\n",
    "\n",
    "    def _backward_step_unrolled(\n",
    "        self,\n",
    "        input_train,\n",
    "        target_train,\n",
    "        input_valid,\n",
    "        target_valid,\n",
    "        eta,\n",
    "        network_optimizer,\n",
    "    ):\n",
    "        unrolled_model = self._compute_unrolled_model(\n",
    "            input_train, target_train, eta, network_optimizer\n",
    "        )\n",
    "        unrolled_loss = unrolled_model._loss(input_valid, target_valid)\n",
    "\n",
    "        unrolled_loss.backward()\n",
    "        dalpha = [self._new_alphas[ct].grad for ct in self.cell_types]\n",
    "        vector = [v.grad.data for v in unrolled_model.parameters()]\n",
    "        implicit_grads = self._hessian_vector_product(vector, input_train, target_train)\n",
    "\n",
    "        for g, ig in zip(dalpha, implicit_grads):\n",
    "            g.data.sub_(eta, ig.data)\n",
    "\n",
    "        for v, g in zip(self._arch_parameters, dalpha):\n",
    "            if v.grad is None:\n",
    "                v.grad = Variable(g.data)\n",
    "            else:\n",
    "                v.grad.data.copy_(g.data)"
   ]
  },
  {
   "cell_type": "code",
   "execution_count": 12,
   "id": "7097ff29",
   "metadata": {},
   "outputs": [
    {
     "data": {
      "text/plain": [
       "tensor([[[[4.8910, 0.0000],\n",
       "          [0.0000, 0.0000]],\n",
       "\n",
       "         [[0.0000, 0.8857],\n",
       "          [0.0000, 0.0000]]],\n",
       "\n",
       "\n",
       "        [[[0.0000, 0.0000],\n",
       "          [5.9064, 0.0000]],\n",
       "\n",
       "         [[0.0000, 0.0000],\n",
       "          [0.0000, 0.4972]]]])"
      ]
     },
     "execution_count": 12,
     "metadata": {},
     "output_type": "execute_result"
    }
   ],
   "source": [
    "def pow_reducer(x):\n",
    "    return x.pow(3).sum()\n",
    "inputs = torch.rand(2, 2)\n",
    "torch.autograd.functional.hessian(pow_reducer, inputs)"
   ]
  }
 ],
 "metadata": {
  "kernelspec": {
   "display_name": "Python 3 (ipykernel)",
   "language": "python",
   "name": "python3"
  },
  "language_info": {
   "codemirror_mode": {
    "name": "ipython",
    "version": 3
   },
   "file_extension": ".py",
   "mimetype": "text/x-python",
   "name": "python",
   "nbconvert_exporter": "python",
   "pygments_lexer": "ipython3",
   "version": "3.9.12"
  },
  "vscode": {
   "interpreter": {
    "hash": "fc77af441bfc2c62c4c17d61422da4a44e42f2508bbc97d57f2d3e249317e47a"
   }
  }
 },
 "nbformat": 4,
 "nbformat_minor": 5
}
