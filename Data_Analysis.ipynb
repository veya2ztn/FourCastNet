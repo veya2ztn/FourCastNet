{
 "cells": [
  {
   "cell_type": "code",
   "execution_count": 1,
   "id": "d7176de9",
   "metadata": {},
   "outputs": [],
   "source": [
    "import torch"
   ]
  },
  {
   "cell_type": "code",
   "execution_count": 2,
   "id": "75139bce",
   "metadata": {},
   "outputs": [],
   "source": [
    "import numpy as np"
   ]
  },
  {
   "cell_type": "code",
   "execution_count": 23,
   "id": "9b84c189",
   "metadata": {},
   "outputs": [],
   "source": [
    "data = np.load(\"datasets/weatherbench_6hour_offline/train_2D70N.npy\")"
   ]
  },
  {
   "cell_type": "code",
   "execution_count": 14,
   "id": "db651960",
   "metadata": {},
   "outputs": [
    {
     "name": "stdout",
     "output_type": "stream",
     "text": [
      "[ 3.0660825e-11 -2.0440550e-11 -5.1101377e-11  8.1762201e-11\n",
      "  0.0000000e+00  1.5330412e-11 -2.5550688e-11 -5.1101377e-11\n",
      " -2.8105757e-11 -4.0881101e-11 -5.4933978e-11  0.0000000e+00\n",
      " -1.4052879e-11  9.5176311e-11 -1.9163017e-11 -2.5550688e-11\n",
      " -3.1299591e-11 -1.4052879e-11  2.5550688e-11 -1.5969179e-11\n",
      "  8.3039738e-12  1.2775344e-12 -2.2356852e-12 -3.1938360e-12\n",
      "  3.7048496e-11 -6.3876721e-12  2.5550688e-12  5.1101377e-11\n",
      " -1.3286358e-10  5.6211515e-11  1.7374467e-10  1.6863454e-10\n",
      " -2.5550688e-11  3.2577128e-11  2.4273153e-11 -2.5550688e-12\n",
      "  3.3215895e-11  4.4713703e-12  1.0092522e-10  6.5154257e-11\n",
      " -3.1938360e-12 -3.1938358e-11  6.1321649e-11  7.4096992e-11\n",
      " -5.1740143e-11 -6.7709324e-11 -5.1101377e-11 -1.1497810e-11\n",
      "  9.3260011e-11 -7.1541925e-11  2.5550688e-12  5.3656444e-11\n",
      " -1.0220275e-11 -3.0660825e-11 -1.6096934e-10  1.4271592e-07\n",
      " -7.1541925e-11 -2.0440550e-11  2.8616770e-10 -2.5550688e-11\n",
      " -8.6872336e-11  6.6431791e-11  4.8226922e-11  2.0440550e-11\n",
      "  1.7885481e-11  6.3876716e-11 -8.9427406e-12 -3.2577128e-11\n",
      " -6.6431791e-11 -3.7995773e-07]\n"
     ]
    }
   ],
   "source": [
    "delta_mean = (data[1:] - data[:-1]).mean(axis=(0,2,3))\n",
    "print(delta_mean)"
   ]
  },
  {
   "cell_type": "code",
   "execution_count": 15,
   "id": "5e80a522",
   "metadata": {},
   "outputs": [
    {
     "name": "stdout",
     "output_type": "stream",
     "text": [
      "[1.72648951e-01 2.05078095e-01 2.02047914e-01 2.42298603e-01\n",
      " 3.03099573e-01 3.43970656e-01 3.59705180e-01 3.44765484e-01\n",
      " 3.36679608e-01 3.41607034e-01 3.84239852e-01 4.12058741e-01\n",
      " 4.06733662e-01 4.14937377e-01 4.16339219e-01 4.08064932e-01\n",
      " 3.80120516e-01 4.21280622e-01 4.86691207e-01 5.27707100e-01\n",
      " 5.46236753e-01 5.31475782e-01 5.18999457e-01 5.20245254e-01\n",
      " 5.61616719e-01 5.69243610e-01 5.20451784e-01 5.27660847e-01\n",
      " 1.23075299e-01 8.58527049e-02 1.28156587e-01 2.20837578e-01\n",
      " 1.82825252e-01 1.18727483e-01 1.06423572e-01 1.08658224e-01\n",
      " 1.04324140e-01 9.52550620e-02 1.05083816e-01 1.09838851e-01\n",
      " 1.09604880e-01 1.23902380e-01 3.63428816e-02 3.52755412e-02\n",
      " 3.71658690e-02 4.53566276e-02 5.66521473e-02 6.48614094e-02\n",
      " 7.10383654e-02 7.32995942e-02 7.85938203e-02 9.10658464e-02\n",
      " 1.32132456e-01 1.65601194e-01 2.01228023e-01 5.44756222e-06\n",
      " 1.48899361e-01 2.76221812e-01 3.50592703e-01 5.01899600e-01\n",
      " 6.37645900e-01 7.05352008e-01 7.27614820e-01 7.13507831e-01\n",
      " 6.83362544e-01 6.51107073e-01 6.34134531e-01 5.54651082e-01\n",
      " 5.52372873e-01 1.45114582e-05]\n"
     ]
    }
   ],
   "source": [
    "delta_std  = (data[1:] - data[:-1]).std(axis=(0,2,3))\n",
    "print(delta_std)"
   ]
  },
  {
   "cell_type": "code",
   "execution_count": 24,
   "id": "b4e3818e",
   "metadata": {},
   "outputs": [],
   "source": [
    "deltadata  = (data[1:] - data[:-1]).astype('float')"
   ]
  },
  {
   "cell_type": "code",
   "execution_count": 27,
   "id": "8bbf4cda",
   "metadata": {},
   "outputs": [
    {
     "name": "stdout",
     "output_type": "stream",
     "text": [
      "[-9.91958613e-10  1.52216326e-09  1.84266399e-09  2.74796539e-09\n",
      " -1.02076592e-08 -5.90588303e-09 -8.69511720e-09 -3.96584645e-10\n",
      "  5.87291329e-09 -4.47879924e-10  9.32178169e-10 -1.48599710e-10\n",
      " -2.36466709e-09 -2.63909733e-09  4.73651656e-09 -6.91522771e-09\n",
      "  5.79438213e-09  7.94914556e-09 -7.20658634e-09 -6.59994914e-09\n",
      " -4.98900017e-09  9.56984264e-09 -1.43446696e-09  2.23421939e-09\n",
      " -8.26992572e-09 -1.79807338e-08 -8.12271111e-09  5.55058447e-09\n",
      "  8.85427710e-10  8.96024599e-10  1.93927063e-09  2.50677750e-09\n",
      " -4.71279060e-09  2.46575406e-09 -1.31155237e-09 -1.02709512e-09\n",
      " -1.31179196e-09  7.68757073e-10 -4.81597252e-10 -2.55468762e-10\n",
      " -7.21002654e-10 -1.06417715e-09 -4.73858634e-11  1.54490308e-10\n",
      "  4.50612897e-10 -4.51766795e-10 -5.29190198e-10 -5.07365733e-10\n",
      "  4.77250603e-10 -4.79928529e-10 -8.10868345e-10  7.84405218e-10\n",
      " -2.93477167e-10  2.58293114e-09 -3.82374810e-09  0.00000000e+00\n",
      " -6.67087119e-10 -3.11959468e-10  3.28967546e-10 -4.52965728e-09\n",
      "  2.40498733e-08 -1.16185407e-08  6.58454583e-09  1.09517168e-08\n",
      " -2.78950406e-08 -7.85828167e-09  6.12520346e-09 -4.01388974e-09\n",
      "  1.40361383e-08  0.00000000e+00]\n"
     ]
    }
   ],
   "source": [
    "delta_mean = deltadata.mean(axis=(0,2,3))\n",
    "print(delta_mean)"
   ]
  },
  {
   "cell_type": "code",
   "execution_count": 28,
   "id": "7418d08f",
   "metadata": {},
   "outputs": [
    {
     "name": "stdout",
     "output_type": "stream",
     "text": [
      "[0.17595761 0.20225206 0.20001469 0.23744294 0.29642082 0.33593663\n",
      " 0.35131921 0.33501878 0.32602348 0.33077386 0.37410515 0.40064429\n",
      " 0.3957375  0.40379274 0.42103449 0.40341772 0.37803587 0.41452458\n",
      " 0.47720814 0.51842918 0.53903266 0.52176416 0.50595544 0.5058432\n",
      " 0.5472708  0.55644614 0.51043651 0.51738891 0.12280267 0.08593811\n",
      " 0.1263917  0.21451408 0.1768521  0.11558877 0.1051932  0.10723519\n",
      " 0.10225772 0.0930473  0.10312956 0.10816337 0.10841645 0.12286259\n",
      " 0.03557989 0.03472574 0.03672766 0.04455242 0.05537727 0.06337955\n",
      " 0.06947452 0.07157118 0.07656746 0.08870237 0.12873203 0.16140055\n",
      " 0.19626208 0.         0.13865457 0.27502079 0.34811997 0.49601835\n",
      " 0.62401159 0.68582727 0.71202563 0.69995804 0.67275742 0.64525523\n",
      " 0.63374297 0.5555102  0.54968991 0.        ]\n"
     ]
    }
   ],
   "source": [
    "delta_std  = deltadata.std(axis=(0,2,3))\n",
    "print(delta_std)"
   ]
  },
  {
   "cell_type": "code",
   "execution_count": 34,
   "id": "c1cfcfb7",
   "metadata": {},
   "outputs": [],
   "source": [
    "delta_std[55]=1\n",
    "delta_std[69]=1"
   ]
  },
  {
   "cell_type": "code",
   "execution_count": 36,
   "id": "b6a70c44",
   "metadata": {},
   "outputs": [],
   "source": [
    "delta_mean_std = np.stack([delta_mean,delta_std])"
   ]
  },
  {
   "cell_type": "code",
   "execution_count": 39,
   "id": "2f6e120f",
   "metadata": {},
   "outputs": [],
   "source": [
    "np.save(\"datasets/weatherbench_6hour/delta_mean_std.npy\",delta_mean_std)"
   ]
  },
  {
   "cell_type": "code",
   "execution_count": 35,
   "id": "0007cfa7",
   "metadata": {},
   "outputs": [
    {
     "data": {
      "text/plain": [
       "(2, 110)"
      ]
     },
     "execution_count": 35,
     "metadata": {},
     "output_type": "execute_result"
    }
   ],
   "source": [
    "np.load(\"datasets/weatherbench_6hour/mean_std.npy\").shape"
   ]
  },
  {
   "cell_type": "code",
   "execution_count": null,
   "id": "d034873c",
   "metadata": {},
   "outputs": [],
   "source": []
  },
  {
   "cell_type": "code",
   "execution_count": 1,
   "id": "96c9b402",
   "metadata": {},
   "outputs": [],
   "source": [
    "import torch\n",
    "import numpy as np"
   ]
  },
  {
   "cell_type": "code",
   "execution_count": 14,
   "id": "5b005d31",
   "metadata": {},
   "outputs": [
    {
     "data": {
      "text/plain": [
       "<All keys matched successfully>"
      ]
     },
     "execution_count": 14,
     "metadata": {},
     "output_type": "execute_result"
    }
   ],
   "source": [
    "a = torch.ones(1,5)\n",
    "b = torch.ones(1,10)\n",
    "c = torch.arange(10).reshape(1,10)\n",
    "layer = torch.nn.Linear(5,10)\n",
    "layer.load_state_dict(torch.load(\"debug/test.weight\"))"
   ]
  },
  {
   "cell_type": "code",
   "execution_count": 15,
   "id": "83548a98",
   "metadata": {},
   "outputs": [],
   "source": [
    "torch.save(layer.state_dict(),'debug/test.weight')"
   ]
  },
  {
   "cell_type": "code",
   "execution_count": 16,
   "id": "61464b54",
   "metadata": {},
   "outputs": [],
   "source": [
    "torch.nn.MSELoss()(b+c,layer(a)+c).backward()"
   ]
  },
  {
   "cell_type": "code",
   "execution_count": 17,
   "id": "70751e4e",
   "metadata": {},
   "outputs": [
    {
     "data": {
      "text/plain": [
       "tensor([[-3.1168e-01, -3.1168e-01, -3.1168e-01, -3.1168e-01, -3.1168e-01],\n",
       "        [ 1.0257e-02,  1.0257e-02,  1.0257e-02,  1.0257e-02,  1.0257e-02],\n",
       "        [-4.6965e-02, -4.6965e-02, -4.6965e-02, -4.6965e-02, -4.6965e-02],\n",
       "        [ 2.4194e-02,  2.4194e-02,  2.4194e-02,  2.4194e-02,  2.4194e-02],\n",
       "        [-4.9562e-01, -4.9562e-01, -4.9562e-01, -4.9562e-01, -4.9562e-01],\n",
       "        [-1.2085e-01, -1.2085e-01, -1.2085e-01, -1.2085e-01, -1.2085e-01],\n",
       "        [-3.5114e-01, -3.5114e-01, -3.5114e-01, -3.5114e-01, -3.5114e-01],\n",
       "        [-3.4697e-01, -3.4697e-01, -3.4697e-01, -3.4697e-01, -3.4697e-01],\n",
       "        [-2.1173e-01, -2.1173e-01, -2.1173e-01, -2.1173e-01, -2.1173e-01],\n",
       "        [-2.8019e-04, -2.8019e-04, -2.8019e-04, -2.8019e-04, -2.8019e-04]])"
      ]
     },
     "execution_count": 17,
     "metadata": {},
     "output_type": "execute_result"
    }
   ],
   "source": [
    "layer.weight.grad"
   ]
  },
  {
   "cell_type": "code",
   "execution_count": 13,
   "id": "ede712dc",
   "metadata": {},
   "outputs": [
    {
     "data": {
      "text/plain": [
       "tensor([[-3.1168e-01, -3.1168e-01, -3.1168e-01, -3.1168e-01, -3.1168e-01],\n",
       "        [ 1.0257e-02,  1.0257e-02,  1.0257e-02,  1.0257e-02,  1.0257e-02],\n",
       "        [-4.6965e-02, -4.6965e-02, -4.6965e-02, -4.6965e-02, -4.6965e-02],\n",
       "        [ 2.4194e-02,  2.4194e-02,  2.4194e-02,  2.4194e-02,  2.4194e-02],\n",
       "        [-4.9562e-01, -4.9562e-01, -4.9562e-01, -4.9562e-01, -4.9562e-01],\n",
       "        [-1.2085e-01, -1.2085e-01, -1.2085e-01, -1.2085e-01, -1.2085e-01],\n",
       "        [-3.5114e-01, -3.5114e-01, -3.5114e-01, -3.5114e-01, -3.5114e-01],\n",
       "        [-3.4697e-01, -3.4697e-01, -3.4697e-01, -3.4697e-01, -3.4697e-01],\n",
       "        [-2.1173e-01, -2.1173e-01, -2.1173e-01, -2.1173e-01, -2.1173e-01],\n",
       "        [-2.8021e-04, -2.8021e-04, -2.8021e-04, -2.8021e-04, -2.8021e-04]])"
      ]
     },
     "execution_count": 13,
     "metadata": {},
     "output_type": "execute_result"
    }
   ],
   "source": [
    "layer.weight.grad"
   ]
  },
  {
   "cell_type": "code",
   "execution_count": 3,
   "id": "536b1136",
   "metadata": {},
   "outputs": [],
   "source": [
    "from cephdataset import WeathBench7066PatchDataset"
   ]
  },
  {
   "cell_type": "code",
   "execution_count": 42,
   "id": "d4b8591f",
   "metadata": {},
   "outputs": [],
   "source": [
    "a=torch.randn(5,14)\n",
    "b=a.reshape(1,70)\n",
    "c=a.flatten(0,1)"
   ]
  },
  {
   "cell_type": "code",
   "execution_count": 43,
   "id": "8f34058e",
   "metadata": {},
   "outputs": [
    {
     "data": {
      "text/plain": [
       "tensor(0.)"
      ]
     },
     "execution_count": 43,
     "metadata": {},
     "output_type": "execute_result"
    }
   ],
   "source": [
    "torch.dist(b,c)"
   ]
  },
  {
   "cell_type": "code",
   "execution_count": 38,
   "id": "9c415308",
   "metadata": {},
   "outputs": [
    {
     "name": "stdout",
     "output_type": "stream",
     "text": [
      "use offline data mode <2>: train/valid/test use offline data\n",
      "use dataset in datasets/weatherbench_6hour\n",
      "load data from datasets/weatherbench_6hour/valid_2D70N.npy\n",
      "notice we will use around_index(28, 64, 2, 5, 5) to patch data\n"
     ]
    }
   ],
   "source": [
    "dataset_flag = \"2D70N\"\n",
    "flag = \"valid\"\n",
    "\n",
    "kargs={'dataset_flag':dataset_flag ,\n",
    " 'root': \"datasets/weatherbench_6hour\",\n",
    " 'mode': 'pretrain',\n",
    " 'time_step': 2,\n",
    " 'check_data': True,\n",
    " 'time_reverse_flag': 'only_forward',\n",
    " 'time_intervel': 1,\n",
    " 'cross_sample': 0,\n",
    " 'random_dataset': 0, \n",
    " 'use_offline_data':2,'with_idx':True,\n",
    " 'patch_range':5}\n",
    "dataset1 = WeathBench7066PatchDataset(split=flag,**kargs)"
   ]
  },
  {
   "cell_type": "code",
   "execution_count": 14,
   "id": "0e515bf9",
   "metadata": {},
   "outputs": [
    {
     "name": "stdout",
     "output_type": "stream",
     "text": [
      "0\n"
     ]
    },
    {
     "data": {
      "text/plain": [
       "torch.Size([70, 32, 64])"
      ]
     },
     "execution_count": 14,
     "metadata": {},
     "output_type": "execute_result"
    }
   ],
   "source": [
    "print(dataset1[0][0])\n",
    "dataset1[0][1][0].shape"
   ]
  },
  {
   "cell_type": "code",
   "execution_count": 39,
   "id": "847fca4a",
   "metadata": {},
   "outputs": [
    {
     "name": "stdout",
     "output_type": "stream",
     "text": [
      "use offline data mode <2>: train/valid/test use offline data\n",
      "use dataset in datasets/weatherbench_6hour\n",
      "load data from datasets/weatherbench_6hour/test_2D70N.npy\n",
      "notice we will use around_index(28, 64, 2, 5, 5) to patch data\n"
     ]
    }
   ],
   "source": [
    "dataset_flag = \"2D70N\"\n",
    "flag = \"test\"\n",
    "\n",
    "kargs={'dataset_flag':dataset_flag ,\n",
    " 'root': \"datasets/weatherbench_6hour\",\n",
    " 'mode': 'pretrain',\n",
    " 'time_step': 2,\n",
    " 'check_data': True,\n",
    " 'time_reverse_flag': 'only_forward',\n",
    " 'time_intervel': 1,\n",
    " 'cross_sample': 0,\n",
    " 'random_dataset': 0, \n",
    " 'use_offline_data':2,'with_idx':True,\n",
    " 'patch_range':5}\n",
    "dataset2 = WeathBench7066PatchDataset(split=flag,**kargs)"
   ]
  },
  {
   "cell_type": "code",
   "execution_count": 15,
   "id": "1617876f",
   "metadata": {},
   "outputs": [
    {
     "name": "stdout",
     "output_type": "stream",
     "text": [
      " 55 -> 0.009417231448110746\n",
      " 69 -> 0.025083986984419517\n"
     ]
    }
   ],
   "source": [
    "for idx,(a,b) in enumerate(zip(dataset1[0][1][0],dataset2[0][1][0])):\n",
    "    delta = torch.dist(a,b).item()\n",
    "    if delta > 1e-4:print(f\"{idx:3d} -> {delta}\")"
   ]
  },
  {
   "cell_type": "code",
   "execution_count": 41,
   "id": "b0cb9ce0",
   "metadata": {
    "scrolled": false
   },
   "outputs": [
    {
     "data": {
      "text/plain": [
       "tensor(0.)"
      ]
     },
     "execution_count": 41,
     "metadata": {},
     "output_type": "execute_result"
    }
   ],
   "source": [
    "torch.dist(dataset1[0][1][0][55] - (dataset1[0][1][0][55][0][0]  - dataset2[0][1][0][55][0][0] ),dataset2[0][1][0][55])"
   ]
  },
  {
   "cell_type": "code",
   "execution_count": 34,
   "id": "19f492ea",
   "metadata": {
    "scrolled": true
   },
   "outputs": [
    {
     "data": {
      "text/plain": [
       "tensor([-0.6394, -0.6394, -0.6394, -0.6394, -0.6394, -0.6394, -0.6394, -0.6394,\n",
       "        -0.6394, -0.6394, -0.6394, -0.6394, -0.6394, -0.6394, -0.6394, -0.6394,\n",
       "        -0.6394, -0.6394, -0.6394, -0.6394, -0.6394, -0.6394, -0.6394, -0.6394,\n",
       "        -0.6394, -0.6394, -0.6394, -0.6394, -0.6394, -0.6394, -0.6394, -0.6394,\n",
       "        -0.6394, -0.6394, -0.6394, -0.6394, -0.6394, -0.6394, -0.6394, -0.6394,\n",
       "        -0.6394, -0.6394, -0.6394, -0.6394, -0.6394, -0.6394, -0.6394, -0.6394,\n",
       "        -0.6394, -0.6394, -0.6394, -0.6394, -0.6394, -0.6394, -0.6394, -0.6394,\n",
       "        -0.6394, -0.6394, -0.6394, -0.6394, -0.6394, -0.6394, -0.6394, -0.6394],\n",
       "       dtype=torch.float64)"
      ]
     },
     "execution_count": 34,
     "metadata": {},
     "output_type": "execute_result"
    }
   ],
   "source": [
    "dataset1[0][1][0][55][0] "
   ]
  },
  {
   "cell_type": "code",
   "execution_count": 27,
   "id": "397f4a1c",
   "metadata": {
    "scrolled": true
   },
   "outputs": [
    {
     "data": {
      "text/plain": [
       "tensor([[-0.6396, -0.6396, -0.6396,  ..., -0.6396, -0.6396, -0.6396],\n",
       "        [-0.6396, -0.6396, -0.6396,  ..., -0.6396, -0.6396, -0.6396],\n",
       "        [-0.6396, -0.6396, -0.6396,  ..., -0.6396, -0.6396, -0.6396],\n",
       "        ...,\n",
       "        [-0.6396, -0.6396, -0.6396,  ..., -0.6396, -0.6396, -0.6396],\n",
       "        [-0.6396, -0.6396, -0.6396,  ..., -0.6396, -0.6396, -0.6396],\n",
       "        [-0.6396, -0.6396, -0.6396,  ..., -0.6396, -0.6396, -0.6396]])"
      ]
     },
     "execution_count": 27,
     "metadata": {},
     "output_type": "execute_result"
    }
   ],
   "source": [
    "dataset2[0][1][0][55]"
   ]
  },
  {
   "cell_type": "code",
   "execution_count": 23,
   "id": "7160ce17",
   "metadata": {},
   "outputs": [
    {
     "data": {
      "text/plain": [
       "tensor(5.2915, dtype=torch.float64)"
      ]
     },
     "execution_count": 23,
     "metadata": {},
     "output_type": "execute_result"
    }
   ],
   "source": [
    "torch.dist(torch.round(dataset1[0][1][0],decimals=0),torch.round(dataset2[0][1][0],decimals=0))"
   ]
  },
  {
   "cell_type": "code",
   "execution_count": 6,
   "id": "6364e716",
   "metadata": {},
   "outputs": [
    {
     "data": {
      "text/plain": [
       "tensor(0.0268, dtype=torch.float64)"
      ]
     },
     "execution_count": 6,
     "metadata": {},
     "output_type": "execute_result"
    }
   ],
   "source": [
    "torch.dist(dataset1[0][0],dataset2[0][0])"
   ]
  },
  {
   "cell_type": "code",
   "execution_count": 13,
   "id": "58a8aef2",
   "metadata": {},
   "outputs": [],
   "source": [
    "data = dataset.dataset_tensor\n",
    "data = data*dataset.mean_std[1].reshape(1,110,1,1) + dataset.mean_std[0].reshape(1,110,1,1)"
   ]
  },
  {
   "cell_type": "code",
   "execution_count": 14,
   "id": "74df743c",
   "metadata": {},
   "outputs": [],
   "source": [
    "_component_list= ([58, 59, 60, 61, 62, 63, 64, 65, 66, 67, 68, 69, 70,  1]+ # u component of wind and the 10m u wind\n",
    "                    [71, 72, 73, 74, 75, 76, 77, 78, 79, 80, 81, 82, 83,  2] # v component of wind and the 10m v wind\n",
    ")"
   ]
  },
  {
   "cell_type": "code",
   "execution_count": 15,
   "id": "74f3bce4",
   "metadata": {},
   "outputs": [],
   "source": [
    "volecity = data[:,_component_list].reshape(1460,2,14,32,64)"
   ]
  },
  {
   "cell_type": "code",
   "execution_count": 17,
   "id": "2d1e0089",
   "metadata": {},
   "outputs": [],
   "source": [
    "sixhourvolecity = volecity*3.6"
   ]
  },
  {
   "cell_type": "code",
   "execution_count": 20,
   "id": "1409d042",
   "metadata": {},
   "outputs": [],
   "source": [
    "from mltool.visualization import *"
   ]
  },
  {
   "cell_type": "code",
   "execution_count": 21,
   "id": "bed189bb",
   "metadata": {},
   "outputs": [],
   "source": [
    "vdata =  sixhourvolecity[:,0].flatten().numpy()"
   ]
  },
  {
   "cell_type": "code",
   "execution_count": 23,
   "id": "33cb5022",
   "metadata": {},
   "outputs": [],
   "source": [
    "smoothhist(vdata)"
   ]
  },
  {
   "cell_type": "code",
   "execution_count": 24,
   "id": "5aea5835",
   "metadata": {},
   "outputs": [],
   "source": [
    "plt.show()"
   ]
  },
  {
   "cell_type": "code",
   "execution_count": 11,
   "id": "2a2c8c85",
   "metadata": {},
   "outputs": [],
   "source": [
    "center_h = np.random.randint(dataset.img_shape[-2] - (dataset.patch_range//2)*2) \n",
    "center_w = np.random.randint(dataset.img_shape[-1])"
   ]
  },
  {
   "cell_type": "code",
   "execution_count": 12,
   "id": "1b559e8a",
   "metadata": {},
   "outputs": [],
   "source": [
    "patch_idx_h, patch_idx_w = dataset.around_index[center_h, center_w]"
   ]
  },
  {
   "cell_type": "code",
   "execution_count": 13,
   "id": "52a7cc88",
   "metadata": {
    "scrolled": true
   },
   "outputs": [
    {
     "data": {
      "text/plain": [
       "(28, 64, 2, 5, 5)"
      ]
     },
     "execution_count": 13,
     "metadata": {},
     "output_type": "execute_result"
    }
   ],
   "source": [
    "dataset.around_index.shape"
   ]
  },
  {
   "cell_type": "code",
   "execution_count": 14,
   "id": "6f23fe4c",
   "metadata": {},
   "outputs": [],
   "source": [
    "data = torch.arange(32*64).reshape(1,1,32,64)"
   ]
  },
  {
   "cell_type": "code",
   "execution_count": 16,
   "id": "b74acfd6",
   "metadata": {},
   "outputs": [
    {
     "data": {
      "text/plain": [
       "tensor([[[[368, 369, 370, 371, 372],\n",
       "          [432, 433, 434, 435, 436],\n",
       "          [496, 497, 498, 499, 500],\n",
       "          [560, 561, 562, 563, 564],\n",
       "          [624, 625, 626, 627, 628]]]])"
      ]
     },
     "execution_count": 16,
     "metadata": {},
     "output_type": "execute_result"
    }
   ],
   "source": [
    "data[...,patch_idx_h, patch_idx_w]"
   ]
  },
  {
   "cell_type": "code",
   "execution_count": 3,
   "id": "b3bfbad6",
   "metadata": {},
   "outputs": [],
   "source": [
    "import numpy as np"
   ]
  },
  {
   "cell_type": "code",
   "execution_count": 50,
   "id": "9d9c9929",
   "metadata": {},
   "outputs": [],
   "source": [
    "dataloader = torch.utils.data.DataLoader(dataset,batch_size=3)"
   ]
  },
  {
   "cell_type": "code",
   "execution_count": 58,
   "id": "8ddcff12",
   "metadata": {
    "code_folding": [
     0
    ]
   },
   "outputs": [],
   "source": [
    "class RandomSelectPatchFetcher:\n",
    "    def __init__(self,data_loader,device):\n",
    "        dataset = data_loader.dataset\n",
    "        assert dataset.use_offline_data  \n",
    "        self.data  = dataset.dataset_tensor #(B,70,32,64)\n",
    "        self.batch_size = data_loader.batch_size \n",
    "        self.patch_range= dataset.patch_range\n",
    "        self.img_shape  = dataset.img_shape\n",
    "        self.around_index = dataset.around_index\n",
    "        self.length = len(dataset)\n",
    "        self.time_step = dataset.time_step\n",
    "        self.device = device\n",
    "    def next(self):\n",
    "        center_h = np.random.randint(self.patch_range//2, self.img_shape[-2] - (self.patch_range//2)*2,size=(self.batch_size,)) \n",
    "        center_w = np.random.randint(self.img_shape[-1],size=(self.batch_size,))\n",
    "        patch_idx = self.around_index[center_h, center_w] #(B,2,5,5) \n",
    "        patch_idx_h = patch_idx[:,0]#(B,5,5)\n",
    "        patch_idx_w = patch_idx[:,1]#(B,5,5)\n",
    "        batch_idx = np.random.randint(self.length,size=(self.batch_size,)).reshape(self.batch_size,1,1) #(B,1,1)\n",
    "        return [self.data[batch_idx+i,:,patch_idx_h,patch_idx_w].to(self.device) for i in range(self.time_step)]"
   ]
  },
  {
   "cell_type": "code",
   "execution_count": 99,
   "id": "b6012360",
   "metadata": {},
   "outputs": [],
   "source": [
    "fetcher.data = torch.arange(8*2*32*64).reshape(8,2, 32, 64)"
   ]
  },
  {
   "cell_type": "code",
   "execution_count": 100,
   "id": "99b969b1",
   "metadata": {},
   "outputs": [],
   "source": [
    "# center_h = np.random.randint(fetcher.patch_range//2, fetcher.img_shape[-2] - (fetcher.patch_range//2)*2,size=(fetcher.batch_size)) \n",
    "# center_w = np.random.randint(fetcher.img_shape[-1],size=(fetcher.batch_size))\n",
    "center_h = np.array([1,2,4])\n",
    "center_w = np.array([2,2,4])\n",
    "patch_idx = fetcher.around_index[center_h, center_w] #(B,5,5) (B,5,5)\n",
    "patch_idx_h = patch_idx[:,0]\n",
    "patch_idx_w = patch_idx[:,1]\n",
    "batch_idx = batch_idx = np.array([1,2,3]).reshape(3,1,1)"
   ]
  },
  {
   "cell_type": "code",
   "execution_count": 101,
   "id": "8c58a7b2",
   "metadata": {},
   "outputs": [],
   "source": [
    "a,b = [fetcher.data[batch_idx+i,:,patch_idx_h,patch_idx_w].to(fetcher.device) for i in range(fetcher.time_step)]"
   ]
  },
  {
   "cell_type": "code",
   "execution_count": null,
   "id": "c735fbcb",
   "metadata": {},
   "outputs": [],
   "source": [
    "np.random.randint("
   ]
  },
  {
   "cell_type": "code",
   "execution_count": 37,
   "id": "2b592445",
   "metadata": {},
   "outputs": [],
   "source": [
    "batch_idx = np.stack([np.ones((5,5))*1,np.ones((5,5))*2])"
   ]
  },
  {
   "cell_type": "code",
   "execution_count": 42,
   "id": "01bbc4a5",
   "metadata": {},
   "outputs": [],
   "source": [
    "batch_idx = np.array([1,2]).reshape(2,1,1)"
   ]
  },
  {
   "cell_type": "code",
   "execution_count": 45,
   "id": "a9ca44b1",
   "metadata": {},
   "outputs": [
    {
     "data": {
      "text/plain": [
       "(2, 1, 1)"
      ]
     },
     "execution_count": 45,
     "metadata": {},
     "output_type": "execute_result"
    }
   ],
   "source": [
    "batch_idx.shape"
   ]
  },
  {
   "cell_type": "code",
   "execution_count": 23,
   "id": "7766c68f",
   "metadata": {},
   "outputs": [],
   "source": [
    "import torch"
   ]
  },
  {
   "cell_type": "code",
   "execution_count": 47,
   "id": "d422a42d",
   "metadata": {},
   "outputs": [
    {
     "data": {
      "text/plain": [
       "tensor(0.)"
      ]
     },
     "execution_count": 47,
     "metadata": {},
     "output_type": "execute_result"
    }
   ],
   "source": [
    "torch.dist(dataset_tensor[batch_idx,:,patch_idx_h, patch_idx_w][0],\n",
    "           dataset_tensor[batch_idx[0,0,0],:,patch_idx_h[0], patch_idx_w[0]].permute(1,2,0))"
   ]
  },
  {
   "cell_type": "code",
   "execution_count": 48,
   "id": "33f79a16",
   "metadata": {},
   "outputs": [
    {
     "data": {
      "text/plain": [
       "tensor(0.)"
      ]
     },
     "execution_count": 48,
     "metadata": {},
     "output_type": "execute_result"
    }
   ],
   "source": [
    "torch.dist(dataset_tensor[batch_idx,:,patch_idx_h, patch_idx_w][1],\n",
    "           dataset_tensor[batch_idx[1,0,0],:,patch_idx_h[1], patch_idx_w[1]].permute(1,2,0))"
   ]
  },
  {
   "cell_type": "code",
   "execution_count": 7,
   "id": "037b80cd",
   "metadata": {},
   "outputs": [
    {
     "data": {
      "text/plain": [
       "torch.Size([70, 5, 5])"
      ]
     },
     "execution_count": 7,
     "metadata": {},
     "output_type": "execute_result"
    }
   ],
   "source": []
  },
  {
   "cell_type": "code",
   "execution_count": 15,
   "id": "38cc8560",
   "metadata": {},
   "outputs": [],
   "source": [
    "def get_center_around_indexes(patch_range,img_shape):\n",
    "    hlist   = range(patch_range//2, img_shape[-2] - (patch_range//2))\n",
    "    wlist   = range(img_shape[-1])\n",
    "    xes,yes = np.meshgrid(hlist,wlist)\n",
    "    coor    = np.stack([xes,yes],-1).reshape(-1,2)\n",
    "    indexes = np.array([np.stack(get_patch_location_index([x,y],img_shape,patch_range)) for x,y in coor] )\n",
    "    indexes = indexes.reshape(len(wlist),len(hlist),2,patch_range,patch_range).transpose(1,0,2,3,4)\n",
    "    coor    = coor.reshape(len(wlist),len(hlist),2).transpose(2,1,0)\n",
    "    return coor, indexes"
   ]
  },
  {
   "cell_type": "markdown",
   "id": "fd10ca1b",
   "metadata": {},
   "source": [
    "# WeatherBench"
   ]
  },
  {
   "cell_type": "code",
   "execution_count": null,
   "id": "cb0008d4",
   "metadata": {},
   "outputs": [],
   "source": []
  },
  {
   "cell_type": "code",
   "execution_count": 2,
   "id": "4b334fa6",
   "metadata": {},
   "outputs": [],
   "source": [
    "import os\n",
    "import numpy as np"
   ]
  },
  {
   "cell_type": "code",
   "execution_count": 3,
   "id": "16e47289",
   "metadata": {},
   "outputs": [],
   "source": [
    "DATAROOT=\"/nvme/zhangtianning/datasets/weatherbench/weatherbench32x64\""
   ]
  },
  {
   "cell_type": "code",
   "execution_count": 4,
   "id": "94b23bd2",
   "metadata": {},
   "outputs": [],
   "source": [
    "years = os.listdir(DATAROOT)"
   ]
  },
  {
   "cell_type": "code",
   "execution_count": 4,
   "id": "b55f3116",
   "metadata": {
    "code_folding": []
   },
   "outputs": [],
   "source": [
    "def init_file_list(years):\n",
    "    file_list = []\n",
    "    for year in years:\n",
    "        if year == 1979: # 1979年数据只有8753个，缺少第一天前7小时数据，所以这里我们从第二天开始算起\n",
    "            for hour in range(17, 8753, 1):\n",
    "                file_list.append([year, hour])\n",
    "        else:\n",
    "            if year % 4 == 0:\n",
    "                max_item = 8784\n",
    "            else:\n",
    "                max_item = 8760\n",
    "            for hour in range(0, max_item, 1):\n",
    "                file_list.append([year, hour])\n",
    "    return file_list"
   ]
  },
  {
   "cell_type": "code",
   "execution_count": 10,
   "id": "4cc9e22c",
   "metadata": {},
   "outputs": [],
   "source": [
    "yearhourslist=init_file_list([1979])"
   ]
  },
  {
   "cell_type": "code",
   "execution_count": 11,
   "id": "5d5ee856",
   "metadata": {},
   "outputs": [],
   "source": [
    "data = []\n",
    "for year, hour in yearhourslist:\n",
    "    url = f\"{DATAROOT}/{year}/{year}-{hour:04d}.npy\"\n",
    "    data.append(np.load(url))"
   ]
  },
  {
   "cell_type": "code",
   "execution_count": 12,
   "id": "e01ac26b",
   "metadata": {},
   "outputs": [],
   "source": [
    "data=np.stack(data)"
   ]
  },
  {
   "cell_type": "code",
   "execution_count": 13,
   "id": "21c9f676",
   "metadata": {},
   "outputs": [
    {
     "data": {
      "text/plain": [
       "(8736, 110, 32, 64)"
      ]
     },
     "execution_count": 13,
     "metadata": {},
     "output_type": "execute_result"
    }
   ],
   "source": [
    "data.shape"
   ]
  },
  {
   "cell_type": "code",
   "execution_count": 16,
   "id": "5209c12e",
   "metadata": {},
   "outputs": [],
   "source": [
    "multi_level_vnames = [\n",
    "    \"z\", \"t\", \"q\", \"r\", \"u\", \"v\", \"vo\", \"pv\",\n",
    "]\n",
    "single_level_vnames = [\n",
    "    \"t2m\", \"u10\", \"v10\", \"tcc\", \"tp\", \"tisr\",\n",
    "]\n",
    "long2shortname_dict = {\"geopotential\": \"z\", \n",
    "                       \"temperature\": \"t\", \n",
    "                       \"specific_humidity\": \"q\", \n",
    "                       \"relative_humidity\": \"r\", \n",
    "                       \"u_component_of_wind\": \"u\", \n",
    "                       \"v_component_of_wind\": \"v\", \n",
    "                       \"vorticity\": \"vo\", \n",
    "                       \"potential_vorticity\": \"pv\", \n",
    "                \"2m_temperature\": \"t2m\", \n",
    "                \"10m_u_component_of_wind\": \"u10\", \n",
    "                \"10m_v_component_of_wind\": \"v10\", \n",
    "                \"total_cloud_cover\": \"tcc\",\n",
    "                \"total_precipitation\": \"tp\", \n",
    "                \"toa_incident_solar_radiation\": \"tisr\"}\n",
    "constants = [\n",
    "    \"lsm\", \"slt\", \"orography\"\n",
    "]\n",
    "height_level = [50, 100, 150, 200, 250, 300, 400, 500, 600, 700, 850, 925, 1000]\n",
    "multi_level_dict_param = {\"z\":height_level, \"t\": height_level, \"q\": height_level, \"r\": height_level}\n"
   ]
  },
  {
   "cell_type": "code",
   "execution_count": 36,
   "id": "4523841d",
   "metadata": {},
   "outputs": [],
   "source": []
  },
  {
   "cell_type": "code",
   "execution_count": 37,
   "id": "2a4be570",
   "metadata": {},
   "outputs": [],
   "source": [
    "level_vnames = np.array(level_vnames)"
   ]
  },
  {
   "cell_type": "code",
   "execution_count": 38,
   "id": "4a5f69c4",
   "metadata": {},
   "outputs": [
    {
     "data": {
      "text/plain": [
       "array(['50hPa_geopotential', '50hPa_temperature',\n",
       "       '50hPa_specific_humidity', '50hPa_relative_humidity',\n",
       "       '50hPa_u_component_of_wind', '50hPa_v_component_of_wind',\n",
       "       '50hPa_vorticity', '50hPa_potential_vorticity'], dtype='<U27')"
      ]
     },
     "execution_count": 38,
     "metadata": {},
     "output_type": "execute_result"
    }
   ],
   "source": [
    "level_vnames.reshape(8,13)[:,0]"
   ]
  },
  {
   "cell_type": "code",
   "execution_count": 17,
   "id": "ae7e28d8",
   "metadata": {},
   "outputs": [],
   "source": [
    "heightdata = data[:,6:].reshape(8736, 8, 13, 32, 64)\n",
    "# heightdata[:,0] is geopotential          7.777e+04±5.952e+04 [-6.261e+03,2.081e+05] unit: m^2s^-2 \n",
    "# heightdata[:,1] is temperature           2.432e+02±2.882e+01 [ 1.776e+02,3.225e+02] unit: K\n",
    "# heightdata[:,2] is specific_humidity     1.771e-03±3.553e-03 [-6.156e-06,2.469e-02] unit: kg \n",
    "# heightdata[:,3] is relative_humidity     4.870e+01±3.626e+01 [-9.227e+00,1.782e+02] unit: %\n",
    "# heightdata[:,4] is u_component_of_wind   7.307e+00±1.409e+01 [-5.961e+01,1.117e+02] unit: ms^-1\n",
    "# heightdata[:,5] is v_component_of_wind   3.442e-02±9.212e+00 [-9.401e+01,9.645e+01] unit: ms^-1\n",
    "# heightdata[:,6] is vorticity            -2.492e-07±4.333e-05 [-1.153e-03,1.433e-03] unit:  \n",
    "# heightdata[:,7] is potential_vorticity  -1.363e-07±1.026e-05 [-2.604e-04,1.432e-04] unit:   "
   ]
  },
  {
   "cell_type": "code",
   "execution_count": 27,
   "id": "5c40934a",
   "metadata": {
    "scrolled": false
   },
   "outputs": [
    {
     "name": "stdout",
     "output_type": "stream",
     "text": [
      "7.777e+04±5.952e+04 [-6.261e+03,2.081e+05]\n",
      "2.432e+02±2.882e+01 [1.776e+02,3.225e+02]\n",
      "1.771e-03±3.553e-03 [-6.156e-06,2.469e-02]\n",
      "4.870e+01±3.626e+01 [-9.227e+00,1.782e+02]\n",
      "7.307e+00±1.409e+01 [-5.961e+01,1.117e+02]\n",
      "3.442e-02±9.212e+00 [-9.401e+01,9.645e+01]\n",
      "-2.492e-07±4.333e-05 [-1.153e-03,1.433e-03]\n",
      "-1.363e-07±1.026e-05 [-2.604e-04,1.432e-04]\n"
     ]
    }
   ],
   "source": [
    "for i in range(8):\n",
    "    data = heightdata[:,i]\n",
    "    print(f\"{data.mean():.3e}±{data.std():.3e} [{data.min():.3e},{data.max():.3e}]\")"
   ]
  },
  {
   "cell_type": "code",
   "execution_count": 29,
   "id": "d320279a",
   "metadata": {},
   "outputs": [],
   "source": [
    "from cephdataset import BaseDataset"
   ]
  },
  {
   "cell_type": "code",
   "execution_count": 39,
   "id": "f1983597",
   "metadata": {},
   "outputs": [],
   "source": [
    "mean_std_info = np.load(\"/nvme/zhangtianning/datasets/weatherbench/weatherbench32x64/mean_std.npy\")"
   ]
  },
  {
   "cell_type": "code",
   "execution_count": 46,
   "id": "1f7ff8a7",
   "metadata": {},
   "outputs": [
    {
     "data": {
      "text/plain": [
       "array([10.27698228, 12.52860717,  8.92840926,  7.19445705,  8.53572232,\n",
       "       10.71944056, 12.69260423, 13.06556828, 13.42290514, 14.77465358,\n",
       "       15.58016255, 16.0798523 , 17.11261468])"
      ]
     },
     "execution_count": 46,
     "metadata": {},
     "output_type": "execute_result"
    }
   ],
   "source": [
    "mean_std_info[1][6:].reshape(8,13)[1]"
   ]
  },
  {
   "cell_type": "code",
   "execution_count": 47,
   "id": "f34bd3fd",
   "metadata": {
    "scrolled": true
   },
   "outputs": [
    {
     "data": {
      "text/plain": [
       "array([212.46681965, 208.3921226 , 213.31250125, 218.05583224,\n",
       "       222.77171537, 228.87366884, 242.14303417, 252.95490299,\n",
       "       261.14155898, 267.39864117, 274.56928968, 277.35748774,\n",
       "       281.01954037])"
      ]
     },
     "execution_count": 47,
     "metadata": {},
     "output_type": "execute_result"
    }
   ],
   "source": [
    "mean_std_info[0][6:].reshape(8,13)[1]"
   ]
  },
  {
   "cell_type": "code",
   "execution_count": 52,
   "id": "b04875f3",
   "metadata": {},
   "outputs": [],
   "source": [
    "a=np.random.randn(110,2,3)"
   ]
  },
  {
   "cell_type": "code",
   "execution_count": 57,
   "id": "9e2d4f58",
   "metadata": {},
   "outputs": [
    {
     "data": {
      "text/plain": [
       "(8, 1, 1)"
      ]
     },
     "execution_count": 57,
     "metadata": {},
     "output_type": "execute_result"
    }
   ],
   "source": [
    "b[6:].reshape(8,13,1,1).mean(1).shape"
   ]
  },
  {
   "cell_type": "code",
   "execution_count": 61,
   "id": "fc0a73ce",
   "metadata": {},
   "outputs": [
    {
     "ename": "ValueError",
     "evalue": "operands could not be broadcast together with shapes (110,2,3) (110,) ",
     "output_type": "error",
     "traceback": [
      "\u001b[0;31m---------------------------------------------------------------------------\u001b[0m",
      "\u001b[0;31mValueError\u001b[0m                                Traceback (most recent call last)",
      "Input \u001b[0;32mIn [61]\u001b[0m, in \u001b[0;36m<cell line: 3>\u001b[0;34m()\u001b[0m\n\u001b[1;32m      1\u001b[0m b\u001b[38;5;241m=\u001b[39mnp\u001b[38;5;241m.\u001b[39mrandom\u001b[38;5;241m.\u001b[39mrandn(\u001b[38;5;241m110\u001b[39m)\n\u001b[1;32m      2\u001b[0m c\u001b[38;5;241m=\u001b[39mnp\u001b[38;5;241m.\u001b[39mrandom\u001b[38;5;241m.\u001b[39mrandn(\u001b[38;5;241m110\u001b[39m)\n\u001b[0;32m----> 3\u001b[0m ((\u001b[43ma\u001b[49m\u001b[38;5;241;43m-\u001b[39;49m\u001b[43mb\u001b[49m)\u001b[38;5;241m/\u001b[39mc)\u001b[38;5;241m.\u001b[39mshape\n",
      "\u001b[0;31mValueError\u001b[0m: operands could not be broadcast together with shapes (110,2,3) (110,) "
     ]
    }
   ],
   "source": [
    "b=np.random.randn(110)\n",
    "c=np.random.randn(110)\n",
    "((a-b)/c).shape"
   ]
  },
  {
   "cell_type": "code",
   "execution_count": 60,
   "id": "a723115b",
   "metadata": {},
   "outputs": [
    {
     "data": {
      "text/plain": [
       "(110, 2, 3)"
      ]
     },
     "execution_count": 60,
     "metadata": {},
     "output_type": "execute_result"
    }
   ],
   "source": [
    "a[:].shape"
   ]
  },
  {
   "cell_type": "code",
   "execution_count": 108,
   "id": "6519b0ff",
   "metadata": {
    "code_folding": [
     0,
     22,
     43,
     45,
     108
    ]
   },
   "outputs": [],
   "source": [
    "class WeathBench(BaseDataset):\n",
    "    yeas_split={'train':range(1979, 2016),\n",
    "                'valid':range(2016, 2018),\n",
    "                 'test':range(2018,2022),\n",
    "                'all': range(1979, 2022),\n",
    "                'debug':range(1979,1980)}\n",
    "    single_vnames = [\"2m_temperature\", \n",
    "                      \"10m_u_component_of_wind\", \n",
    "                      \"10m_v_component_of_wind\", \n",
    "                      \"total_cloud_cover\",\n",
    "                      \"total_precipitation\", \n",
    "                      \"toa_incident_solar_radiation\"]\n",
    "    level_vnames= []\n",
    "    for physics_name in [\"geopotential\", \"temperature\",\n",
    "                         \"specific_humidity\",\"relative_humidity\",\n",
    "                         \"u_component_of_wind\",\"v_component_of_wind\",\n",
    "                         \"vorticity\",\"potential_vorticity\"]:\n",
    "        for pressure_level in [50, 100, 150, 200, 250, 300, 400, 500, 600, 700, 850, 925, 1000]:\n",
    "            level_vnames.append(f\"{pressure_level}hPa_{physics_name}\")\n",
    "    all_vnames = single_vnames + level_vnames\n",
    "    \n",
    "    @staticmethod\n",
    "    def init_file_list(years):\n",
    "        file_list = []\n",
    "        for year in years:\n",
    "            if year == 1979: # 1979年数据只有8753个，缺少第一天前7小时数据，所以这里我们从第二天开始算起\n",
    "                for hour in range(17, 8753, 1):\n",
    "                    file_list.append([year, hour])\n",
    "            else:\n",
    "                if year % 4 == 0:\n",
    "                    max_item = 8784\n",
    "                else:\n",
    "                    max_item = 8760\n",
    "                for hour in range(0, max_item, 1):\n",
    "                    file_list.append([year, hour])\n",
    "        return file_list\n",
    "\n",
    "    def __init__(self, split=\"train\", mode='pretrain', channel_last=True, check_data=True,\n",
    "                 root='datasets/weatherbench', time_step=2,\n",
    "                 with_idx=False,\n",
    "                 years=None, \n",
    "                 dataset_flag='normal',\n",
    "                 **kargs):\n",
    "        if years is None:\n",
    "            years = self.yeas_split[split]\n",
    "        else:\n",
    "            print(f\"you are using flag={split}, the default range is {list(self.yeas_split[split])}\")\n",
    "            print(f\"noice you assign your own year list {list(years)}\")\n",
    "\n",
    "        self.root             = root\n",
    "        self.single_data_path_list = self.init_file_list(years) # [[year,idx],[year,idx],.....]\n",
    "        self.dataset_flag     = dataset_flag\n",
    "        self.clim_tensor      = 0\n",
    "        self.mean_std         = np.load(os.path.join(root,\"mean_std.npy\"))\n",
    "        \n",
    "        self.mode             = mode\n",
    "        self.channel_last     = channel_last\n",
    "        self.with_idx         = with_idx\n",
    "        self.error_path       = []\n",
    "        self.time_step        = time_step\n",
    "        self.dataset_flag     = dataset_flag\n",
    "        \n",
    "    \n",
    "        config_pool = self.config_pool\n",
    "        \n",
    "        if dataset_flag in config_pool:\n",
    "            self.channel_choice, self.normalize_type, mean_std, self.do_normlize_data , self.inv_normlize_data = config_pool[dataset_flag]\n",
    "            self.mean,self.std = mean_std\n",
    "            self.vname= [self.all_vnames[i] for i in self.channel_choice]\n",
    "        else:\n",
    "            raise NotImplementedErrorl\n",
    "            \n",
    "    @property\n",
    "    def config_pool(self):\n",
    "        config_pool={\n",
    "            \n",
    "            '2D110N': (list(range(110))  ,'gauss_norm'   , self.mean_std.reshape(2,110,1,1)      , lambda x:x, lambda x:x ),\n",
    "            '2D110U': (list(range(110))  ,'unit_norm'    , self.mean_std.reshape(2,110,1,1)      , lambda x:x, lambda x:x ),\n",
    "            '2D104N': (list(range(6,110)),'gauss_norm'   , self.mean_std[:,6:].reshape(2,104,1,1), lambda x:x, lambda x:x ),\n",
    "            '2D104U': (list(range(6,110)),'unit_norm'    , self.mean_std[:,6:].reshape(2,104,1,1), lambda x:x, lambda x:x ),\n",
    "            '3D104N': (list(range(6,110)),'gauss_norm_3D', self.mean_std[:,6:].reshape(2,8,13,1,1,1).mean(2), lambda x:x, lambda x:x ),\n",
    "            '3D104U': (list(range(6,110)),'unit_norm_3D' , self.mean_std[:,6:].reshape(2,8,13,1,1,1).mean(2), lambda x:x, lambda x:x ),\n",
    "        }\n",
    "        def do_batch_normlize(batch,mean,std):\n",
    "            if isinstance(batch,list):\n",
    "                return [(x-mean/std) for x in batch]\n",
    "            else:\n",
    "                return batch-mean/std\n",
    "        \n",
    "        def inv_batch_normlize(batch,mean,std):\n",
    "            if isinstance(batch,list):\n",
    "                return [(x*std+mean) for x in batch]\n",
    "            else:\n",
    "                return batch*std+mean\n",
    "        \n",
    "        mean, std = self.mean_std.reshape(2,110,1,1)\n",
    "        config_pool['2D110O'] =(list(range(110))  ,'none', (0,1) , lambda x:do_batch_normlize(x,mean,std), \n",
    "                                                                   lambda x:inv_batch_normlize(x,mean,std))\n",
    "        \n",
    "        mean, std = self.mean_std[:,6:].reshape(2,104,1,1)\n",
    "        config_pool['2D104O'] =(list(range(6,110)),'none', (0,1) , lambda x:do_batch_normlize(x,mean,std), \n",
    "                                                                   lambda x:inv_batch_normlize(x,mean,std))\n",
    "        \n",
    "        mean, std = self.mean_std[:,6:].reshape(2,8,13,1,1,1).mean(2)\n",
    "        config_pool['3D104O'] =(list(range(6,110))  ,'3D', (0,1) , lambda x:do_batch_normlize(x,mean,std), \n",
    "                                                                   lambda x:inv_batch_normlize(x,mean,std))\n",
    "        return config_pool\n",
    "    \n",
    "    def __len__(self):\n",
    "        return len(self.yeas_split) - self.time_step + 1\n",
    " \n",
    "    def get_item(self,idx):\n",
    "        year, hour = self.single_data_path_list[idx]\n",
    "        url = f\"{self.root}/{year}/{year}-{hour:04d}.npy\"\n",
    "        data= np.load(url)[self.channel_choice]\n",
    "        if '3D' in self.normalize_type:\n",
    "            shape= data.shape\n",
    "            data = data.reshape(8,13,*shape[-2:])\n",
    "        if 'gauss_norm' in self.normalize_type:\n",
    "            return (data - self.mean)/self.std\n",
    "        elif 'unit_norm' in self.normalize_type:\n",
    "            return data/self.std\n",
    "        else:\n",
    "            return data\n",
    "        \n"
   ]
  },
  {
   "cell_type": "code",
   "execution_count": 109,
   "id": "ea987bed",
   "metadata": {},
   "outputs": [],
   "source": [
    "dataset = WeathBench(split='debug',dataset_flag='3D104O')"
   ]
  },
  {
   "cell_type": "code",
   "execution_count": 111,
   "id": "bd52652e",
   "metadata": {},
   "outputs": [
    {
     "data": {
      "text/plain": [
       "(8, 13, 32, 64)"
      ]
     },
     "execution_count": 111,
     "metadata": {},
     "output_type": "execute_result"
    }
   ],
   "source": [
    "dataset[0][0].shape"
   ]
  },
  {
   "cell_type": "markdown",
   "id": "7bb8c6a8",
   "metadata": {
    "heading_collapsed": true
   },
   "source": [
    "#### analyze the drive information"
   ]
  },
  {
   "cell_type": "code",
   "execution_count": 90,
   "id": "a5e4ba6a",
   "metadata": {
    "hidden": true
   },
   "outputs": [],
   "source": [
    "import torch\n",
    "import numpy as np\n",
    "import torch\n",
    "import torch.nn as nn\n",
    "import torch.nn.functional as F\n",
    "import torch\n",
    "import os\n",
    "os.environ[\"CUDA_VISIBLE_DEVICES\"] = \"7\"\n",
    "def Drive(x,position=-1,dim=3,mode='circular'):\n",
    "    expandQ=False\n",
    "    if len(x.shape) == dim + 1 and x.shape[1]!=1:\n",
    "        x = x.unsqueeze(1)\n",
    "        expandQ = True\n",
    "    conv_engine = [torch.conv1d, torch.conv2d, torch.conv3d][dim-1]\n",
    "    weight = torch.Tensor([1/12, -8/12, 0, 8/12, -1/12]).cuda()\n",
    "    weight = weight[(None,)*(dim + 1)].transpose(position,-1)\n",
    "    pad_num = 2\n",
    "    padtuple = [0]*dim*2\n",
    "    padtuple[(-position-1)*2]   = pad_num\n",
    "    padtuple[(-position-1)*2+1] = pad_num\n",
    "    padtuple = tuple(padtuple)\n",
    "    x = conv_engine(F.pad(x, padtuple, mode=mode), weight)\n",
    "    return x.squeeze(1) if expandQ else x\n",
    "\n",
    "Dx = lambda x:Drive(x,position=-1,dim=3,mode='circular')\n",
    "Dy = lambda x:Drive(x,position=-2,dim=3,mode='replicate')\n",
    "Dz = lambda x:Drive(x,position=-3,dim=3,mode='replicate')"
   ]
  },
  {
   "cell_type": "code",
   "execution_count": 162,
   "id": "c0ff39f7",
   "metadata": {
    "hidden": true
   },
   "outputs": [],
   "source": [
    "real_vorticity=heightdata[:,6:7]"
   ]
  },
  {
   "cell_type": "code",
   "execution_count": 163,
   "id": "3b1bc992",
   "metadata": {
    "hidden": true
   },
   "outputs": [
    {
     "data": {
      "text/plain": [
       "(8736, 1, 13, 32, 64)"
      ]
     },
     "execution_count": 163,
     "metadata": {},
     "output_type": "execute_result"
    }
   ],
   "source": [
    "real_vorticity.shape"
   ]
  },
  {
   "cell_type": "code",
   "execution_count": 134,
   "id": "bf0a7aac",
   "metadata": {
    "hidden": true
   },
   "outputs": [],
   "source": [
    "UVTPdata = heightdata[:,[4,5,1,0]]\n",
    "year_data = torch.Tensor(UVTPdata).cuda()\n",
    "u = year_data[:, 0:1]  # (Batch, 1, z, y ,x)\n",
    "v = year_data[:, 1:2]  # (Batch, 1, z, y ,x)\n",
    "T = year_data[:, 2:3]  # (Batch, 1, z, y ,x)\n",
    "p = year_data[:, 3:4]  # (Batch, 1, z, y ,x)\n",
    "V = torch.cat([u, v], 1)  # (Batch, 3, z, y ,x)\n",
    "Nabla_cdot_V    = (Dx(u[:, 0]) + Dy(v[:, 0])).unsqueeze(1)  # (Batch, 1, z, y ,x)\n",
    "Vphysics        = torch.stack([V*u, V*v, V*T, V*p], 1)\n",
    "Vphysics_dx     = Dx(Vphysics[:, :, 0].flatten(0, 1)).reshape(year_data.shape)  # (Batch, 4, z, y ,x)\n",
    "Vphysics_dy     = Dy(Vphysics[:, :, 1].flatten(0, 1)).reshape(year_data.shape)  # (Batch, 4, z, y ,x)\n",
    "Field_dx        = Dx(year_data.flatten(0,1)).reshape(year_data.shape)#(Batch, 4, z, y ,x)\n",
    "Field_dy        = Dy(year_data.flatten(0,1)).reshape(year_data.shape)#(Batch, 4, z, y ,x)\n",
    "Field_dz        = Dz(year_data.flatten(0,1)).reshape(year_data.shape)#(Batch, 4, z, y ,x)\n",
    "InteractionPart = torch.stack([Dx(p[:, 0]),Dy(p[:, 0])], 1)  # (Batch,2, z, y ,x)"
   ]
  },
  {
   "cell_type": "code",
   "execution_count": 135,
   "id": "8cbff2c9",
   "metadata": {
    "hidden": true
   },
   "outputs": [],
   "source": [
    "ct=2\n",
    "year_data       = year_data.cpu().numpy()[...,ct:-ct,:]      \n",
    "Nabla_cdot_V    = Nabla_cdot_V.cpu().numpy()[...,ct:-ct,:]   \n",
    "Vphysics        = Vphysics.cpu().numpy()[...,ct:-ct,:]\n",
    "\n",
    "Vphysics_dx     = Vphysics_dx.cpu().numpy()[...,ct:-ct,:]\n",
    "\n",
    "Vphysics_dy     = Vphysics_dy.cpu().numpy()[...,ct:-ct,:]    \n",
    "Field_dx        = Field_dx.cpu().numpy()[...,ct:-ct,:]       \n",
    "Field_dy        = Field_dy.cpu().numpy()[...,ct:-ct,:]       \n",
    "Field_dz        = Field_dz.cpu().numpy()[...,ct:-ct,:]\n",
    "InteractionPart = InteractionPart.cpu().numpy()[...,ct:-ct,:]"
   ]
  },
  {
   "cell_type": "code",
   "execution_count": 140,
   "id": "b417ef90",
   "metadata": {
    "hidden": true
   },
   "outputs": [],
   "source": [
    "Delta= ((year_data[1:]-year_data[:-1])/delta_time)"
   ]
  },
  {
   "cell_type": "code",
   "execution_count": 147,
   "id": "b3d729f9",
   "metadata": {
    "hidden": true
   },
   "outputs": [],
   "source": [
    "delta_time=(1*3600)\n",
    "Hdx = 6371000*np.sin(np.linspace(0,np.pi,32))*2*np.pi/64.0\n",
    "Hdx = Hdx.reshape(1,1,1,32,1)[...,ct:-ct,:]\n",
    "Hdy = 6371000*np.pi/32.0\n",
    "Omega = 2*np.pi/(24*3600)\n",
    "omg   = 2*Omega*np.sin(np.linspace(0,np.pi,32)).reshape(1,1,32,1)[...,ct:-ct,:]\n"
   ]
  },
  {
   "cell_type": "code",
   "execution_count": null,
   "id": "77ef0e9a",
   "metadata": {
    "hidden": true
   },
   "outputs": [],
   "source": [
    "Vphysics_dx    = Vphysics_dx/Hdx\n",
    "Vphysics_dy    = Vphysics_dy/Hdy\n",
    "Field_dx       = Field_dx/Hdx\n",
    "Field_dy       = Field_dy/Hdy\n",
    "Field          = year_data\n",
    "Nabla_cdot_V   = Field_dx[:,0:1] + Field_dy[:,1:2]\n",
    "Nabla_V_Field  = Nabla_cdot_V*Field #(Batch, 4, z, y ,x)\n",
    "\n",
    "InteractionPart=np.concatenate([\n",
    "    InteractionPart[:,0:1]/Hdx,\n",
    "    InteractionPart[:,1:2]/Hdy\n",
    " ],1)\n",
    "\n",
    "PhysicsPart    = -Vphysics_dx - Vphysics_dy  + Nabla_V_Field #(Batch,4,z, y ,x)\n",
    "Pure_Physics   = PhysicsPart[:,:2] - InteractionPart\n",
    "\n",
    "Residual_Part  =  Delta[:,:2] - Pure_Physics[:-1]\n",
    "Residual_Part2 = Delta[:,:2] - PhysicsPart[:-1][:,:2]"
   ]
  },
  {
   "cell_type": "code",
   "execution_count": 148,
   "id": "4e96ca2a",
   "metadata": {
    "hidden": true
   },
   "outputs": [],
   "source": [
    "Fcols = np.stack([omg*Field[:,1],\n",
    "                 -omg*Field[:,0]\n",
    "                 ],\n",
    "                 1)\n",
    "vorticity = Field_dx[:,1:2] - Field_dy[:,:1]"
   ]
  },
  {
   "cell_type": "code",
   "execution_count": 156,
   "id": "5beb41f0",
   "metadata": {
    "hidden": true
   },
   "outputs": [],
   "source": [
    "Residual_Part3 = Delta[:,:2] - PhysicsPart[:-1][:,:2] - Fcols[:-1]"
   ]
  },
  {
   "cell_type": "code",
   "execution_count": 158,
   "id": "2232023b",
   "metadata": {
    "hidden": true
   },
   "outputs": [
    {
     "data": {
      "text/plain": [
       "(8735, 2, 13, 28, 64)"
      ]
     },
     "execution_count": 158,
     "metadata": {},
     "output_type": "execute_result"
    }
   ],
   "source": [
    "Residual_Part3.shape"
   ]
  },
  {
   "cell_type": "code",
   "execution_count": null,
   "id": "12c1586a",
   "metadata": {
    "code_folding": [],
    "hidden": true
   },
   "outputs": [],
   "source": [
    "record={}"
   ]
  },
  {
   "cell_type": "code",
   "execution_count": 164,
   "id": "9b930015",
   "metadata": {
    "code_folding": [],
    "hidden": true,
    "scrolled": true
   },
   "outputs": [
    {
     "name": "stdout",
     "output_type": "stream",
     "text": [
      "real_vorticity-> mean:[-2.4919368e-07] \n",
      "                      -> std:[4.332798e-05]\n"
     ]
    }
   ],
   "source": [
    "names = [\n",
    "    \"Field\",\"Delta\",\n",
    "    \"Vphysics_dx\",\"Vphysics_dy\",\n",
    "    \"Field_dx\",\"Field_dy\",\n",
    "    \"PhysicsPart\",\"InteractionPart\",\n",
    "    \"Pure_Physics\",\n",
    "    \"Residual_Part\",\n",
    "    \"Residual_Part2\",\n",
    "    \"Residual_Part3\",\n",
    "    \"Nabla_V_Field\",\n",
    "    \"Nabla_cdot_V\",\n",
    "    \"Fcols\",\"vorticity\",\"real_vorticity\"\n",
    "]\n",
    "datas= [\n",
    "    Field,Delta,\n",
    "    Vphysics_dx    ,Vphysics_dy    ,\n",
    "    Field_dx       ,Field_dy       ,\n",
    "    PhysicsPart    ,InteractionPart,\n",
    "    Pure_Physics,\n",
    "    Residual_Part,\n",
    "    Residual_Part2,\n",
    "    Residual_Part3,\n",
    "    Nabla_V_Field,\n",
    "    Nabla_cdot_V,\n",
    "    Fcols,vorticity,real_vorticity\n",
    "]\n",
    "\n",
    "for name, data in zip(names,datas):\n",
    "    if name not in record:\n",
    "        print(f\"{name}\",end=\"\")\n",
    "        record[name]={'mean':data.mean(axis=(0,2,3,4)),'std':data.std(axis=(0,2,3,4))}\n",
    "        means = record[name]['mean']\n",
    "        stds  = record[name]['std']\n",
    "        print(f\"\"\"-> mean:{means} \n",
    "                      -> std:{stds}\"\"\")"
   ]
  },
  {
   "cell_type": "code",
   "execution_count": 153,
   "id": "499120db",
   "metadata": {
    "code_folding": [
     1
    ],
    "hidden": true
   },
   "outputs": [],
   "source": [
    "import pandas as pd\n",
    "def show_record(record):\n",
    "    table={}\n",
    "    item_names = ['u','v','T','phi']\n",
    "    for name, val in record.items():\n",
    "        table[name]={}\n",
    "        means = record[name]['mean']\n",
    "        stds  = record[name]['std']\n",
    "        scale = 1 if name in ['Field'] else delta_time\n",
    "        for item_name, val in zip(item_names,means):\n",
    "            table[name][item_name+'.mean']=val*scale\n",
    "        for item_name, val in zip(item_names,stds):\n",
    "            table[name][item_name+'.std']=val*scale\n",
    "    df= pd.DataFrame(data=table).transpose()\n",
    "    return df"
   ]
  },
  {
   "cell_type": "code",
   "execution_count": 165,
   "id": "f049231b",
   "metadata": {
    "hidden": true,
    "scrolled": false
   },
   "outputs": [
    {
     "data": {
      "text/html": [
       "<div>\n",
       "<style scoped>\n",
       "    .dataframe tbody tr th:only-of-type {\n",
       "        vertical-align: middle;\n",
       "    }\n",
       "\n",
       "    .dataframe tbody tr th {\n",
       "        vertical-align: top;\n",
       "    }\n",
       "\n",
       "    .dataframe thead th {\n",
       "        text-align: right;\n",
       "    }\n",
       "</style>\n",
       "<table border=\"1\" class=\"dataframe\">\n",
       "  <thead>\n",
       "    <tr style=\"text-align: right;\">\n",
       "      <th></th>\n",
       "      <th>u.mean</th>\n",
       "      <th>v.mean</th>\n",
       "      <th>T.mean</th>\n",
       "      <th>phi.mean</th>\n",
       "      <th>u.std</th>\n",
       "      <th>v.std</th>\n",
       "      <th>T.std</th>\n",
       "      <th>phi.std</th>\n",
       "    </tr>\n",
       "  </thead>\n",
       "  <tbody>\n",
       "    <tr>\n",
       "      <th>Field</th>\n",
       "      <td>8.201371e+00</td>\n",
       "      <td>2.354707e-02</td>\n",
       "      <td>2.448318e+02</td>\n",
       "      <td>7.838273e+04</td>\n",
       "      <td>14.507908</td>\n",
       "      <td>9.343637</td>\n",
       "      <td>29.523876</td>\n",
       "      <td>59775.492188</td>\n",
       "    </tr>\n",
       "    <tr>\n",
       "      <th>Delta</th>\n",
       "      <td>-3.732116e-05</td>\n",
       "      <td>7.484815e-06</td>\n",
       "      <td>-1.832329e-05</td>\n",
       "      <td>-5.276844e-03</td>\n",
       "      <td>1.026204</td>\n",
       "      <td>1.161194</td>\n",
       "      <td>0.363488</td>\n",
       "      <td>54.075617</td>\n",
       "    </tr>\n",
       "    <tr>\n",
       "      <th>Vphysics_dx</th>\n",
       "      <td>3.734938e-10</td>\n",
       "      <td>-6.960626e-13</td>\n",
       "      <td>2.869646e-09</td>\n",
       "      <td>9.214287e-07</td>\n",
       "      <td>1.855312</td>\n",
       "      <td>1.493355</td>\n",
       "      <td>10.790954</td>\n",
       "      <td>3859.415951</td>\n",
       "    </tr>\n",
       "    <tr>\n",
       "      <th>Vphysics_dy</th>\n",
       "      <td>-1.480541e-03</td>\n",
       "      <td>6.803644e-03</td>\n",
       "      <td>2.462913e-03</td>\n",
       "      <td>2.317257e+00</td>\n",
       "      <td>0.975709</td>\n",
       "      <td>0.868165</td>\n",
       "      <td>7.980132</td>\n",
       "      <td>3065.469861</td>\n",
       "    </tr>\n",
       "    <tr>\n",
       "      <th>Field_dx</th>\n",
       "      <td>1.247434e-11</td>\n",
       "      <td>6.267945e-13</td>\n",
       "      <td>7.215006e-10</td>\n",
       "      <td>-8.222842e-08</td>\n",
       "      <td>0.045488</td>\n",
       "      <td>0.064991</td>\n",
       "      <td>0.021729</td>\n",
       "      <td>3.868402</td>\n",
       "    </tr>\n",
       "    <tr>\n",
       "      <th>Field_dy</th>\n",
       "      <td>-3.635847e-05</td>\n",
       "      <td>6.626519e-06</td>\n",
       "      <td>1.555334e-03</td>\n",
       "      <td>7.756011e-01</td>\n",
       "      <td>0.054674</td>\n",
       "      <td>0.033686</td>\n",
       "      <td>0.021468</td>\n",
       "      <td>5.934148</td>\n",
       "    </tr>\n",
       "    <tr>\n",
       "      <th>PhysicsPart</th>\n",
       "      <td>9.840739e-04</td>\n",
       "      <td>-8.964073e-03</td>\n",
       "      <td>-3.742610e-03</td>\n",
       "      <td>1.355049e+00</td>\n",
       "      <td>1.115019</td>\n",
       "      <td>1.388372</td>\n",
       "      <td>0.307361</td>\n",
       "      <td>42.581459</td>\n",
       "    </tr>\n",
       "    <tr>\n",
       "      <th>InteractionPart</th>\n",
       "      <td>-8.222842e-08</td>\n",
       "      <td>7.755988e-01</td>\n",
       "      <td>NaN</td>\n",
       "      <td>NaN</td>\n",
       "      <td>3.868402</td>\n",
       "      <td>5.934150</td>\n",
       "      <td>NaN</td>\n",
       "      <td>NaN</td>\n",
       "    </tr>\n",
       "    <tr>\n",
       "      <th>Pure_Physics</th>\n",
       "      <td>9.841561e-04</td>\n",
       "      <td>-7.845629e-01</td>\n",
       "      <td>NaN</td>\n",
       "      <td>NaN</td>\n",
       "      <td>4.082669</td>\n",
       "      <td>6.212251</td>\n",
       "      <td>NaN</td>\n",
       "      <td>NaN</td>\n",
       "    </tr>\n",
       "    <tr>\n",
       "      <th>Residual_Part</th>\n",
       "      <td>-1.022069e-03</td>\n",
       "      <td>7.846938e-01</td>\n",
       "      <td>NaN</td>\n",
       "      <td>NaN</td>\n",
       "      <td>4.099126</td>\n",
       "      <td>6.223415</td>\n",
       "      <td>NaN</td>\n",
       "      <td>NaN</td>\n",
       "    </tr>\n",
       "    <tr>\n",
       "      <th>Residual_Part2</th>\n",
       "      <td>-1.021986e-03</td>\n",
       "      <td>8.972022e-03</td>\n",
       "      <td>NaN</td>\n",
       "      <td>NaN</td>\n",
       "      <td>1.323144</td>\n",
       "      <td>1.470606</td>\n",
       "      <td>NaN</td>\n",
       "      <td>NaN</td>\n",
       "    </tr>\n",
       "    <tr>\n",
       "      <th>Nabla_V_Field</th>\n",
       "      <td>-4.964656e-04</td>\n",
       "      <td>-2.160440e-03</td>\n",
       "      <td>-1.279693e-03</td>\n",
       "      <td>3.672309e+00</td>\n",
       "      <td>0.712158</td>\n",
       "      <td>0.516465</td>\n",
       "      <td>8.524923</td>\n",
       "      <td>2961.647400</td>\n",
       "    </tr>\n",
       "    <tr>\n",
       "      <th>Nabla_cdot_V</th>\n",
       "      <td>6.626526e-06</td>\n",
       "      <td>NaN</td>\n",
       "      <td>NaN</td>\n",
       "      <td>NaN</td>\n",
       "      <td>0.035526</td>\n",
       "      <td>NaN</td>\n",
       "      <td>NaN</td>\n",
       "      <td>NaN</td>\n",
       "    </tr>\n",
       "    <tr>\n",
       "      <th>Fcols</th>\n",
       "      <td>3.615753e-03</td>\n",
       "      <td>-2.774338e+00</td>\n",
       "      <td>NaN</td>\n",
       "      <td>NaN</td>\n",
       "      <td>3.217932</td>\n",
       "      <td>5.600066</td>\n",
       "      <td>NaN</td>\n",
       "      <td>NaN</td>\n",
       "    </tr>\n",
       "    <tr>\n",
       "      <th>vorticity</th>\n",
       "      <td>3.635856e-05</td>\n",
       "      <td>NaN</td>\n",
       "      <td>NaN</td>\n",
       "      <td>NaN</td>\n",
       "      <td>0.095505</td>\n",
       "      <td>NaN</td>\n",
       "      <td>NaN</td>\n",
       "      <td>NaN</td>\n",
       "    </tr>\n",
       "    <tr>\n",
       "      <th>Residual_Part3</th>\n",
       "      <td>-4.634575e-03</td>\n",
       "      <td>2.783301e+00</td>\n",
       "      <td>NaN</td>\n",
       "      <td>NaN</td>\n",
       "      <td>3.507477</td>\n",
       "      <td>5.810173</td>\n",
       "      <td>NaN</td>\n",
       "      <td>NaN</td>\n",
       "    </tr>\n",
       "    <tr>\n",
       "      <th>real_vorticity</th>\n",
       "      <td>-8.970972e-04</td>\n",
       "      <td>NaN</td>\n",
       "      <td>NaN</td>\n",
       "      <td>NaN</td>\n",
       "      <td>0.155981</td>\n",
       "      <td>NaN</td>\n",
       "      <td>NaN</td>\n",
       "      <td>NaN</td>\n",
       "    </tr>\n",
       "  </tbody>\n",
       "</table>\n",
       "</div>"
      ],
      "text/plain": [
       "                       u.mean        v.mean        T.mean      phi.mean  \\\n",
       "Field            8.201371e+00  2.354707e-02  2.448318e+02  7.838273e+04   \n",
       "Delta           -3.732116e-05  7.484815e-06 -1.832329e-05 -5.276844e-03   \n",
       "Vphysics_dx      3.734938e-10 -6.960626e-13  2.869646e-09  9.214287e-07   \n",
       "Vphysics_dy     -1.480541e-03  6.803644e-03  2.462913e-03  2.317257e+00   \n",
       "Field_dx         1.247434e-11  6.267945e-13  7.215006e-10 -8.222842e-08   \n",
       "Field_dy        -3.635847e-05  6.626519e-06  1.555334e-03  7.756011e-01   \n",
       "PhysicsPart      9.840739e-04 -8.964073e-03 -3.742610e-03  1.355049e+00   \n",
       "InteractionPart -8.222842e-08  7.755988e-01           NaN           NaN   \n",
       "Pure_Physics     9.841561e-04 -7.845629e-01           NaN           NaN   \n",
       "Residual_Part   -1.022069e-03  7.846938e-01           NaN           NaN   \n",
       "Residual_Part2  -1.021986e-03  8.972022e-03           NaN           NaN   \n",
       "Nabla_V_Field   -4.964656e-04 -2.160440e-03 -1.279693e-03  3.672309e+00   \n",
       "Nabla_cdot_V     6.626526e-06           NaN           NaN           NaN   \n",
       "Fcols            3.615753e-03 -2.774338e+00           NaN           NaN   \n",
       "vorticity        3.635856e-05           NaN           NaN           NaN   \n",
       "Residual_Part3  -4.634575e-03  2.783301e+00           NaN           NaN   \n",
       "real_vorticity  -8.970972e-04           NaN           NaN           NaN   \n",
       "\n",
       "                     u.std     v.std      T.std       phi.std  \n",
       "Field            14.507908  9.343637  29.523876  59775.492188  \n",
       "Delta             1.026204  1.161194   0.363488     54.075617  \n",
       "Vphysics_dx       1.855312  1.493355  10.790954   3859.415951  \n",
       "Vphysics_dy       0.975709  0.868165   7.980132   3065.469861  \n",
       "Field_dx          0.045488  0.064991   0.021729      3.868402  \n",
       "Field_dy          0.054674  0.033686   0.021468      5.934148  \n",
       "PhysicsPart       1.115019  1.388372   0.307361     42.581459  \n",
       "InteractionPart   3.868402  5.934150        NaN           NaN  \n",
       "Pure_Physics      4.082669  6.212251        NaN           NaN  \n",
       "Residual_Part     4.099126  6.223415        NaN           NaN  \n",
       "Residual_Part2    1.323144  1.470606        NaN           NaN  \n",
       "Nabla_V_Field     0.712158  0.516465   8.524923   2961.647400  \n",
       "Nabla_cdot_V      0.035526       NaN        NaN           NaN  \n",
       "Fcols             3.217932  5.600066        NaN           NaN  \n",
       "vorticity         0.095505       NaN        NaN           NaN  \n",
       "Residual_Part3    3.507477  5.810173        NaN           NaN  \n",
       "real_vorticity    0.155981       NaN        NaN           NaN  "
      ]
     },
     "execution_count": 165,
     "metadata": {},
     "output_type": "execute_result"
    }
   ],
   "source": [
    "show_record(record)"
   ]
  },
  {
   "cell_type": "code",
   "execution_count": 146,
   "id": "a1ebd1a9",
   "metadata": {
    "hidden": true
   },
   "outputs": [
    {
     "data": {
      "text/plain": [
       "1.9519221295943134"
      ]
     },
     "execution_count": 146,
     "metadata": {},
     "output_type": "execute_result"
    }
   ],
   "source": [
    "np.sqrt(1.1**2+1.4**2+0.8**2)"
   ]
  }
 ],
 "metadata": {
  "kernelspec": {
   "display_name": "Python 3 (ipykernel)",
   "language": "python",
   "name": "python3"
  },
  "language_info": {
   "codemirror_mode": {
    "name": "ipython",
    "version": 3
   },
   "file_extension": ".py",
   "mimetype": "text/x-python",
   "name": "python",
   "nbconvert_exporter": "python",
   "pygments_lexer": "ipython3",
   "version": "3.9.13"
  },
  "vscode": {
   "interpreter": {
    "hash": "e6b4e50d8356ba75a9636787f9051ee458aaf13e87df491415cc800c7b2b8a21"
   }
  }
 },
 "nbformat": 4,
 "nbformat_minor": 5
}
