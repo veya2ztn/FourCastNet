{
 "cells": [
  {
   "cell_type": "code",
   "execution_count": 2,
   "id": "eec2e41a",
   "metadata": {},
   "outputs": [],
   "source": [
    "import numpy as np"
   ]
  },
  {
   "cell_type": "code",
   "execution_count": 65,
   "id": "c2704b69",
   "metadata": {},
   "outputs": [],
   "source": [
    "all_vnames = single_vnames + level_vnames"
   ]
  },
  {
   "cell_type": "markdown",
   "id": "c731d017",
   "metadata": {},
   "source": [
    "### lets do time-space normalization"
   ]
  },
  {
   "cell_type": "markdown",
   "id": "03bcf29c",
   "metadata": {},
   "source": [
    "The main observation comes here, the variance along different location and timing is different. \n",
    "\n",
    "For example, 赤道 and 北维回归线 的变化率就是不同的。\n",
    "\n",
    "For example, 春天的变化率就明显小于夏天的变化率。\n",
    "\n",
    "所以，我们的目的就是实现一个 time-space 同时归一化的方案。\n",
    "\n",
    "把 time 按照 365天 进行分块， 会得到一个矩阵，矩阵的每一列就是每年这一个日期的变量，矩阵的行就是这一年这个日期的变量。\n"
   ]
  },
  {
   "cell_type": "code",
   "execution_count": null,
   "id": "c2c0bf57",
   "metadata": {},
   "outputs": [],
   "source": [
    "#mean, std = np.load(\"datasets/weatherbench32x64/mean_std.npy\")"
   ]
  },
  {
   "cell_type": "code",
   "execution_count": 33,
   "id": "22e3144c",
   "metadata": {},
   "outputs": [],
   "source": [
    "import numpy as np"
   ]
  },
  {
   "cell_type": "code",
   "execution_count": 34,
   "id": "b0fe8cb4",
   "metadata": {},
   "outputs": [],
   "source": [
    "alldata = np.zeros((2,110,8784,2048))\n",
    "for i in range(110):\n",
    "    alldata[:,i] = np.load(f\"datasets/weatherbench32x64/space_time_normlization/feature_{i}.npy\")[:,0]"
   ]
  },
  {
   "cell_type": "code",
   "execution_count": 35,
   "id": "ab9ee7ad",
   "metadata": {},
   "outputs": [],
   "source": [
    "alldata = alldata.reshape(2, 110, 8784, 32, 64)"
   ]
  },
  {
   "cell_type": "code",
   "execution_count": 36,
   "id": "e3cb591f",
   "metadata": {},
   "outputs": [],
   "source": [
    "alldata = alldata.transpose(0,2,1,3,4)"
   ]
  },
  {
   "cell_type": "code",
   "execution_count": 38,
   "id": "8c95f4c1",
   "metadata": {},
   "outputs": [],
   "source": [
    "alldata = alldata.transpose(1,0,2,3,4)"
   ]
  },
  {
   "cell_type": "code",
   "execution_count": 41,
   "id": "b5af9e60",
   "metadata": {},
   "outputs": [],
   "source": [
    "timelist =  np.arange(np.datetime64(\"1979-01-02\"), np.datetime64(\"2016-01-01\"), np.timedelta64(1, \"h\"))"
   ]
  },
  {
   "cell_type": "code",
   "execution_count": 59,
   "id": "76e279b8",
   "metadata": {},
   "outputs": [],
   "source": [
    "now_time = np.datetime64(\"2016-01-01\") - np.timedelta64(1, \"h\") "
   ]
  },
  {
   "cell_type": "code",
   "execution_count": 60,
   "id": "bb37379c",
   "metadata": {},
   "outputs": [
    {
     "data": {
      "text/plain": [
       "numpy.datetime64('2015-12-31T23','h')"
      ]
     },
     "execution_count": 60,
     "metadata": {},
     "output_type": "execute_result"
    }
   ],
   "source": []
  },
  {
   "cell_type": "code",
   "execution_count": 48,
   "id": "360cdc2e",
   "metadata": {},
   "outputs": [],
   "source": [
    "start_time = np.datetime64(\"2016-01-01\")  "
   ]
  },
  {
   "cell_type": "code",
   "execution_count": 61,
   "id": "717cb181",
   "metadata": {},
   "outputs": [],
   "source": [
    "out = (now_time - start_time)"
   ]
  },
  {
   "cell_type": "code",
   "execution_count": 57,
   "id": "eb106fe1",
   "metadata": {},
   "outputs": [
    {
     "data": {
      "text/plain": [
       "numpy.timedelta64(-1,'D')"
      ]
     },
     "execution_count": 57,
     "metadata": {},
     "output_type": "execute_result"
    }
   ],
   "source": []
  },
  {
   "cell_type": "code",
   "execution_count": 63,
   "id": "d2d5d788",
   "metadata": {},
   "outputs": [
    {
     "data": {
      "text/plain": [
       "8783.0"
      ]
     },
     "execution_count": 63,
     "metadata": {},
     "output_type": "execute_result"
    }
   ],
   "source": [
    "(out/ np.timedelta64(1,'h'))%8784"
   ]
  },
  {
   "cell_type": "code",
   "execution_count": 44,
   "id": "10800539",
   "metadata": {
    "scrolled": true
   },
   "outputs": [
    {
     "data": {
      "text/plain": [
       "numpy.datetime64('2014-12-30T23','h')"
      ]
     },
     "execution_count": 44,
     "metadata": {},
     "output_type": "execute_result"
    }
   ],
   "source": [
    "timelist[-1] - 8784"
   ]
  },
  {
   "cell_type": "code",
   "execution_count": 40,
   "id": "8133b155",
   "metadata": {},
   "outputs": [],
   "source": [
    "for i,meanstd in enumerate(alldata):\n",
    "    np.save(f\"datasets/weatherbench32x64/sp_meanstd/{i:4d}.npy\",meanstd)"
   ]
  },
  {
   "cell_type": "code",
   "execution_count": 39,
   "id": "776e063a",
   "metadata": {},
   "outputs": [
    {
     "data": {
      "text/plain": [
       "(8784, 2, 110, 32, 64)"
      ]
     },
     "execution_count": 39,
     "metadata": {},
     "output_type": "execute_result"
    }
   ],
   "source": [
    "alldata.shape"
   ]
  },
  {
   "cell_type": "code",
   "execution_count": 6,
   "id": "f26b9195",
   "metadata": {},
   "outputs": [],
   "source": [
    "spmean,spstd = alldata"
   ]
  },
  {
   "cell_type": "code",
   "execution_count": 13,
   "id": "9a269939",
   "metadata": {},
   "outputs": [],
   "source": [
    "all_data = np.stack(all_data)\n",
    "#all_data = all_data.reshape(-1,110,32,64)"
   ]
  },
  {
   "cell_type": "code",
   "execution_count": 16,
   "id": "1d14b67f",
   "metadata": {},
   "outputs": [
    {
     "data": {
      "text/plain": [
       "(8760, 110, 32, 64)"
      ]
     },
     "execution_count": 16,
     "metadata": {},
     "output_type": "execute_result"
    }
   ],
   "source": [
    "resulted.shape"
   ]
  },
  {
   "cell_type": "code",
   "execution_count": 14,
   "id": "3f630e7b",
   "metadata": {},
   "outputs": [],
   "source": [
    "resulted = (all_data - spmean[-8760:])/spstd[-8760:]"
   ]
  },
  {
   "cell_type": "code",
   "execution_count": 18,
   "id": "c11ffb5d",
   "metadata": {},
   "outputs": [],
   "source": [
    "from mltool.visualization import *"
   ]
  },
  {
   "cell_type": "code",
   "execution_count": 32,
   "id": "12411296",
   "metadata": {},
   "outputs": [
    {
     "name": "stdout",
     "output_type": "stream",
     "text": [
      "0.07384374885885525\n"
     ]
    },
    {
     "data": {
      "text/plain": [
       "[<matplotlib.lines.Line2D at 0x7fc5a8108460>]"
      ]
     },
     "execution_count": 32,
     "metadata": {},
     "output_type": "execute_result"
    },
    {
     "data": {
      "image/png": "[encoded data removed]",
      "text/plain": [
       "<Figure size 640x480 with 1 Axes>"
      ]
     },
     "metadata": {},
     "output_type": "display_data"
    }
   ],
   "source": [
    "%matplotlib inline\n",
    "test_data = resulted[:,30].reshape(8760,32*64)\n",
    "line = (test_data.mean(axis=(0)))\n",
    "print(line.mean())\n",
    "plt.plot(line)"
   ]
  },
  {
   "cell_type": "code",
   "execution_count": 9,
   "id": "d67c524a",
   "metadata": {
    "code_folding": [],
    "scrolled": true
   },
   "outputs": [
    {
     "name": "stderr",
     "output_type": "stream",
     "text": [
      "  0%|          | 0/1 [00:00<?, ?it/s]\n",
      "0it [00:00, ?it/s]\u001b[A\n",
      "146it [00:00, 1456.92it/s]\u001b[A\n",
      "292it [00:00, 1436.01it/s]\u001b[A\n",
      "439it [00:00, 1449.93it/s]\u001b[A\n",
      "585it [00:00, 1421.73it/s]\u001b[A\n",
      "728it [00:00, 1389.94it/s]\u001b[A\n",
      "868it [00:00, 1140.39it/s]\u001b[A\n",
      "989it [00:00, 1046.39it/s]\u001b[A\n",
      "1099it [00:00, 1057.12it/s]\u001b[A\n",
      "1209it [00:01, 1033.92it/s]\u001b[A\n",
      "1349it [00:01, 1132.16it/s]\u001b[A\n",
      "1488it [00:01, 1204.45it/s]\u001b[A\n",
      "1622it [00:01, 1242.24it/s]\u001b[A\n",
      "1765it [00:01, 1296.67it/s]\u001b[A\n",
      "1910it [00:01, 1339.28it/s]\u001b[A\n",
      "2054it [00:01, 1367.24it/s]\u001b[A\n",
      "2202it [00:01, 1400.13it/s]\u001b[A\n",
      "2346it [00:01, 1411.07it/s]\u001b[A\n",
      "2492it [00:01, 1424.14it/s]\u001b[A\n",
      "2637it [00:02, 1431.49it/s]\u001b[A\n",
      "2788it [00:02, 1452.28it/s]\u001b[A\n",
      "2941it [00:02, 1474.61it/s]\u001b[A\n",
      "3100it [00:02, 1508.18it/s]\u001b[A\n",
      "3251it [00:02, 1499.55it/s]\u001b[A\n",
      "3405it [00:02, 1508.54it/s]\u001b[A\n",
      "3558it [00:02, 1512.61it/s]\u001b[A\n",
      "3711it [00:02, 1516.93it/s]\u001b[A\n",
      "3863it [00:02, 1290.83it/s]\u001b[A\n",
      "4008it [00:03, 1332.93it/s]\u001b[A\n",
      "4157it [00:03, 1375.83it/s]\u001b[A\n",
      "4299it [00:03, 1385.23it/s]\u001b[A\n",
      "4441it [00:03, 1393.17it/s]\u001b[A\n",
      "4584it [00:03, 1402.64it/s]\u001b[A\n",
      "4726it [00:03, 1406.52it/s]\u001b[A\n",
      "4868it [00:03, 1408.91it/s]\u001b[A\n",
      "5016it [00:03, 1427.42it/s]\u001b[A\n",
      "5160it [00:03, 1424.11it/s]\u001b[A\n",
      "5307it [00:03, 1436.50it/s]\u001b[A\n",
      "5452it [00:04, 1439.82it/s]\u001b[A\n",
      "5597it [00:04, 1427.44it/s]\u001b[A\n",
      "5743it [00:04, 1435.16it/s]\u001b[A\n",
      "5890it [00:04, 1443.37it/s]\u001b[A\n",
      "6035it [00:04, 1392.16it/s]\u001b[A\n",
      "6175it [00:04, 1206.82it/s]\u001b[A\n",
      "6317it [00:04, 1263.04it/s]\u001b[A\n",
      "6448it [00:04, 1149.06it/s]\u001b[A\n",
      "6591it [00:04, 1220.37it/s]\u001b[A\n",
      "6732it [00:05, 1270.33it/s]\u001b[A\n",
      "6871it [00:05, 1301.18it/s]\u001b[A\n",
      "7004it [00:05, 1208.77it/s]\u001b[A\n",
      "7150it [00:05, 1276.16it/s]\u001b[A\n",
      "7297it [00:05, 1329.33it/s]\u001b[A\n",
      "7445it [00:05, 1369.57it/s]\u001b[A\n",
      "7593it [00:05, 1399.83it/s]\u001b[A\n",
      "7741it [00:05, 1420.98it/s]\u001b[A\n",
      "7886it [00:05, 1428.71it/s]\u001b[A\n",
      "8033it [00:05, 1440.43it/s]\u001b[A\n",
      "8178it [00:06, 1271.89it/s]\u001b[A\n",
      "8310it [00:06, 1246.13it/s]\u001b[A\n",
      "8450it [00:06, 1288.24it/s]\u001b[A\n",
      "8595it [00:06, 1331.67it/s]\u001b[A\n",
      "8760it [00:06, 1342.85it/s]\u001b[A\n",
      "100%|██████████| 1/1 [00:06<00:00,  6.53s/it]\n"
     ]
    }
   ],
   "source": [
    "import os\n",
    "import numpy as np\n",
    "from tqdm.notebook import tqdm\n",
    "def init_file_list(years):\n",
    "    file_list = []\n",
    "    for year in years:\n",
    "        if year == 1979: # 1979年数据只有8753个，缺少第一天前7小时数据，所以这里我们从第二天开始算起\n",
    "            for hour in range(17, 8753, 1):\n",
    "                file_list.append([year, hour])\n",
    "        else:\n",
    "            if year % 4 == 0:\n",
    "                max_item = 8784\n",
    "            else:\n",
    "                max_item = 8760\n",
    "            for hour in range(0, max_item, 1):\n",
    "                file_list.append([year, hour])\n",
    "    return file_list\n",
    "#all_data = np.zeros((324312,110,32,64))\n",
    "all_data=[]\n",
    "offset = 0\n",
    "for year in tqdm(range(2015, 2016)):\n",
    "    yearhourlist= init_file_list([year])\n",
    "    for i,(year, hour) in tqdm(enumerate(yearhourlist)):\n",
    "        url = f\"datasets/weatherbench32x64/{year}/{year}-{hour:04d}.npy\"\n",
    "        all_data.append(np.load(url) )\n",
    "        offset+=1"
   ]
  },
  {
   "cell_type": "code",
   "execution_count": 5,
   "id": "5782daa7",
   "metadata": {
    "code_folding": [],
    "scrolled": true
   },
   "outputs": [
    {
     "data": {
      "application/vnd.jupyter.widget-view+json": {
       "model_id": "913cedb29d9947ed918ebe04e2e9d54b",
       "version_major": 2,
       "version_minor": 0
      },
      "text/plain": [
       "  0%|          | 0/36 [00:00<?, ?it/s]"
      ]
     },
     "metadata": {},
     "output_type": "display_data"
    },
    {
     "name": "stdout",
     "output_type": "stream",
     "text": [
      "1980-->(8784, 110, 32, 64)\n"
     ]
    },
    {
     "data": {
      "application/vnd.jupyter.widget-view+json": {
       "model_id": "02bea54a2249435689b0e559a26d83b1",
       "version_major": 2,
       "version_minor": 0
      },
      "text/plain": [
       "0it [00:00, ?it/s]"
      ]
     },
     "metadata": {},
     "output_type": "display_data"
    },
    {
     "name": "stdout",
     "output_type": "stream",
     "text": [
      "1981-->(8760, 110, 32, 64)\n"
     ]
    },
    {
     "data": {
      "application/vnd.jupyter.widget-view+json": {
       "model_id": "92812a468d51451a9bd63cc6f32be097",
       "version_major": 2,
       "version_minor": 0
      },
      "text/plain": [
       "0it [00:00, ?it/s]"
      ]
     },
     "metadata": {},
     "output_type": "display_data"
    },
    {
     "name": "stdout",
     "output_type": "stream",
     "text": [
      "1982-->(8760, 110, 32, 64)\n"
     ]
    },
    {
     "data": {
      "application/vnd.jupyter.widget-view+json": {
       "model_id": "ec99765cc8284d38a16841cee053535a",
       "version_major": 2,
       "version_minor": 0
      },
      "text/plain": [
       "0it [00:00, ?it/s]"
      ]
     },
     "metadata": {},
     "output_type": "display_data"
    },
    {
     "name": "stdout",
     "output_type": "stream",
     "text": [
      "1983-->(8760, 110, 32, 64)\n"
     ]
    },
    {
     "data": {
      "application/vnd.jupyter.widget-view+json": {
       "model_id": "b29b6a4979de45c681622c95c49471cd",
       "version_major": 2,
       "version_minor": 0
      },
      "text/plain": [
       "0it [00:00, ?it/s]"
      ]
     },
     "metadata": {},
     "output_type": "display_data"
    },
    {
     "name": "stderr",
     "output_type": "stream",
     "text": [
      "\n",
      "KeyboardInterrupt\n",
      "\n"
     ]
    }
   ],
   "source": [
    "for i in range(110):\n",
    "    save_file = f\"datasets/weatherbench32x64/space_time_normlization/feature_{i}.npy\"\n",
    "    print(f\"deal_with_feature:{i}\")\n",
    "    if os.path.exists(save_file):continue\n",
    "    picked_feature = all_data[-(36*366*24):,i].reshape(36,366*24,32*64)\n",
    "    start = np.copy(picked_feature)\n",
    "    origin= np.copy(picked_feature)\n",
    "    last_start = origin \n",
    "    ultra_mean = np.zeros((start.shape[1],32*64))\n",
    "    ultra_std  = np.ones((start.shape[1],32*64))\n",
    "    for _ in range(20):\n",
    "        mean, std = start.mean(axis=(0,2),keepdims=1),start.std(axis=(0,2),keepdims=1)\n",
    "        start = (start - mean)/std\n",
    "        ultra_mean = ultra_mean + ultra_std*mean\n",
    "        ultra_std  = ultra_std*std\n",
    "        mean, std = start.mean(axis=(0,1),keepdims=1),start.std(axis=(0,1),keepdims=1)\n",
    "        start = (start - mean)/std\n",
    "        ultra_mean = ultra_mean + ultra_std*mean\n",
    "        ultra_std  = ultra_std*std\n",
    "        delta = (np.linalg.norm(start-last_start))\n",
    "        if delta < 1e-5:\n",
    "            continue\n",
    "        last_start = start \n",
    "    ultra_mean_std = np.stack([ultra_mean,ultra_std])\n",
    "    np.save(save_file,ultra_mean_std)"
   ]
  },
  {
   "cell_type": "code",
   "execution_count": 19,
   "id": "5bf09cfb",
   "metadata": {},
   "outputs": [],
   "source": [
    "import numpy as np "
   ]
  },
  {
   "cell_type": "code",
   "execution_count": 20,
   "id": "60d19203",
   "metadata": {},
   "outputs": [],
   "source": [
    "np.save(\"test\",np.random.randn(3))"
   ]
  },
  {
   "cell_type": "code",
   "execution_count": 18,
   "id": "fd0c1e9e",
   "metadata": {
    "code_folding": []
   },
   "outputs": [
    {
     "name": "stdout",
     "output_type": "stream",
     "text": [
      "1840055.155952121\n",
      "19.46335684036139\n",
      "0.012801624411753752\n",
      "2.7898697400769973e-05\n"
     ]
    },
    {
     "ename": "KeyboardInterrupt",
     "evalue": "",
     "output_type": "error",
     "traceback": [
      "\u001b[0;31m---------------------------------------------------------------------------\u001b[0m",
      "\u001b[0;31mKeyboardInterrupt\u001b[0m                         Traceback (most recent call last)",
      "Cell \u001b[0;32mIn[18], line 13\u001b[0m\n\u001b[1;32m     11\u001b[0m ultra_std  \u001b[38;5;241m=\u001b[39m ultra_std\u001b[38;5;241m*\u001b[39mstd\n\u001b[1;32m     12\u001b[0m mean, std \u001b[38;5;241m=\u001b[39m start\u001b[38;5;241m.\u001b[39mmean(axis\u001b[38;5;241m=\u001b[39m(\u001b[38;5;241m0\u001b[39m,\u001b[38;5;241m1\u001b[39m),keepdims\u001b[38;5;241m=\u001b[39m\u001b[38;5;241m1\u001b[39m),start\u001b[38;5;241m.\u001b[39mstd(axis\u001b[38;5;241m=\u001b[39m(\u001b[38;5;241m0\u001b[39m,\u001b[38;5;241m1\u001b[39m),keepdims\u001b[38;5;241m=\u001b[39m\u001b[38;5;241m1\u001b[39m)\n\u001b[0;32m---> 13\u001b[0m start \u001b[38;5;241m=\u001b[39m (\u001b[43mstart\u001b[49m\u001b[43m \u001b[49m\u001b[38;5;241;43m-\u001b[39;49m\u001b[43m \u001b[49m\u001b[43mmean\u001b[49m)\u001b[38;5;241m/\u001b[39mstd\n\u001b[1;32m     14\u001b[0m ultra_mean \u001b[38;5;241m=\u001b[39m ultra_mean \u001b[38;5;241m+\u001b[39m ultra_std\u001b[38;5;241m*\u001b[39mmean\n\u001b[1;32m     15\u001b[0m ultra_std  \u001b[38;5;241m=\u001b[39m ultra_std\u001b[38;5;241m*\u001b[39mstd\n",
      "\u001b[0;31mKeyboardInterrupt\u001b[0m: "
     ]
    }
   ],
   "source": []
  },
  {
   "cell_type": "code",
   "execution_count": 5,
   "id": "8bacff89",
   "metadata": {
    "scrolled": true
   },
   "outputs": [],
   "source": [
    "new_data = np.load(\"timedata.npy\")\n",
    "new_data-=new_data.min(0,keepdims=1)\n",
    "padding  = np.ones((325008-324312,110))\n",
    "new_data = np.concatenate([padding,new_data]).reshape(37,366,24,110)[1:]"
   ]
  },
  {
   "cell_type": "code",
   "execution_count": 388,
   "id": "da2ce227",
   "metadata": {},
   "outputs": [
    {
     "data": {
      "text/plain": [
       "(324312, 110)"
      ]
     },
     "execution_count": 388,
     "metadata": {},
     "output_type": "execute_result"
    }
   ],
   "source": [
    "np.load(\"timedata.npy\").shape"
   ]
  },
  {
   "cell_type": "code",
   "execution_count": 6,
   "id": "f8b592e5",
   "metadata": {},
   "outputs": [],
   "source": [
    "new_data = np.load(\"timedata.npy\")[-(366*24*36):].reshape(36,366*24,110)"
   ]
  },
  {
   "cell_type": "code",
   "execution_count": 398,
   "id": "f880f895",
   "metadata": {},
   "outputs": [],
   "source": [
    "mean = new_data.mean(0)\n",
    "std  = new_data.std(0)"
   ]
  },
  {
   "cell_type": "code",
   "execution_count": 404,
   "id": "c61b31fa",
   "metadata": {},
   "outputs": [],
   "source": [
    "mean, std = start.mean(axis=(0,2),keepdims=1),start.std(axis=(0,2),keepdims=1)"
   ]
  },
  {
   "cell_type": "code",
   "execution_count": 414,
   "id": "10e9d49d",
   "metadata": {},
   "outputs": [
    {
     "data": {
      "text/plain": [
       "(36, 8784, 110)"
      ]
     },
     "execution_count": 414,
     "metadata": {},
     "output_type": "execute_result"
    }
   ],
   "source": [
    "new_data.shape"
   ]
  },
  {
   "cell_type": "code",
   "execution_count": 21,
   "id": "51d2ed12",
   "metadata": {
    "scrolled": true
   },
   "outputs": [
    {
     "name": "stdout",
     "output_type": "stream",
     "text": [
      "5485.903449662026\n",
      "620.0189425198847\n",
      "124.11711237256792\n",
      "50.1836885515912\n",
      "21.47227509572674\n",
      "9.379032147950369\n",
      "4.184013696506848\n",
      "1.9063976809976357\n",
      "0.8855105327086192\n",
      "0.417992135571584\n",
      "0.19980784876325983\n",
      "0.09640924267614293\n",
      "0.046830311239869665\n",
      "0.022853511008531793\n",
      "0.011188057034672285\n",
      "0.0054888639451962954\n",
      "0.0026966717016158872\n",
      "0.00132612187282098\n",
      "0.0006525435354040577\n",
      "0.00032122838297238043\n"
     ]
    }
   ],
   "source": [
    "start = np.copy(new_data)\n",
    "origin= np.copy(start)\n",
    "last_start = origin \n",
    "ultra_mean = np.zeros((start.shape[1],110))\n",
    "ultra_std  = np.ones((start.shape[1],110))\n",
    "for _ in range(20):\n",
    "    mean, std = start.mean(axis=(0,2),keepdims=1),start.std(axis=(0,2),keepdims=1)\n",
    "    start = (start - mean)/std\n",
    "    ultra_mean = ultra_mean + ultra_std*mean\n",
    "    ultra_std  = ultra_std*std\n",
    "    mean, std = start.mean(axis=(0,1),keepdims=1),start.std(axis=(0,1),keepdims=1)\n",
    "    start = (start - mean)/std\n",
    "    ultra_mean = ultra_mean + ultra_std*mean\n",
    "    ultra_std  = ultra_std*std\n",
    "    print(np.linalg.norm(start-last_start))\n",
    "    last_start = start "
   ]
  },
  {
   "cell_type": "code",
   "execution_count": 20,
   "id": "38e92296",
   "metadata": {},
   "outputs": [
    {
     "data": {
      "text/plain": [
       "array([[0.70048776, 0.82223057, 0.87174128, ..., 1.0153014 , 0.92632182,\n",
       "        0.92235651],\n",
       "       [0.6896331 , 0.79816521, 0.87836868, ..., 0.96206024, 0.89574199,\n",
       "        0.88392969],\n",
       "       [0.68693566, 0.80411314, 0.91981109, ..., 0.88959456, 0.84606595,\n",
       "        0.86723578],\n",
       "       ...,\n",
       "       [0.83763903, 1.06938173, 1.12698513, ..., 0.5961677 , 0.66314374,\n",
       "        0.67468927],\n",
       "       [0.84121506, 1.0640779 , 1.13885359, ..., 0.62499484, 0.67804138,\n",
       "        0.67886899],\n",
       "       [0.83952541, 1.04900593, 1.13088392, ..., 0.67030353, 0.70439511,\n",
       "        0.69247697]])"
      ]
     },
     "execution_count": 20,
     "metadata": {},
     "output_type": "execute_result"
    }
   ],
   "source": [
    "start"
   ]
  },
  {
   "cell_type": "code",
   "execution_count": 17,
   "id": "a3d977a9",
   "metadata": {},
   "outputs": [
    {
     "data": {
      "text/plain": [
       "array([[[0.02097367, 0.04394777, 0.02557934, ..., 0.02383019,\n",
       "         0.02541198, 0.02899741],\n",
       "        [0.02110799, 0.04422921, 0.02574315, ..., 0.0239828 ,\n",
       "         0.02557472, 0.02918311],\n",
       "        [0.02097669, 0.0439541 , 0.02558302, ..., 0.02383362,\n",
       "         0.02541564, 0.02900159],\n",
       "        ...,\n",
       "        [0.02377769, 0.04982325, 0.0289991 , ..., 0.02701611,\n",
       "         0.02880937, 0.03287414],\n",
       "        [0.02370133, 0.04966324, 0.02890597, ..., 0.02692934,\n",
       "         0.02871684, 0.03276856],\n",
       "        [0.02378909, 0.04984714, 0.029013  , ..., 0.02702906,\n",
       "         0.02882318, 0.03288991]]])"
      ]
     },
     "execution_count": 17,
     "metadata": {},
     "output_type": "execute_result"
    }
   ],
   "source": [
    "ultra_std"
   ]
  },
  {
   "cell_type": "code",
   "execution_count": 421,
   "id": "cf3da2a7",
   "metadata": {},
   "outputs": [],
   "source": [
    "final_start = (origin - ultra_mean)/ultra_std"
   ]
  },
  {
   "cell_type": "code",
   "execution_count": 423,
   "id": "b4442269",
   "metadata": {},
   "outputs": [
    {
     "data": {
      "text/plain": [
       "9.780836658897525e-13"
      ]
     },
     "execution_count": 423,
     "metadata": {},
     "output_type": "execute_result"
    }
   ],
   "source": [
    "np.linalg.norm(final_start-start)"
   ]
  },
  {
   "cell_type": "code",
   "execution_count": 367,
   "id": "64822a32",
   "metadata": {
    "scrolled": true
   },
   "outputs": [],
   "source": [
    "start = np.copy(new_data)\n",
    "origin= np.copy(start)\n",
    "for _ in range(10):\n",
    "    start /= start.sum(axis=0,keepdims=1)\n",
    "    start /= start.sum(axis=1,keepdims=1)\n",
    "#     print(start.sum(axis=0)[:3])    \n",
    "#     print(start.sum(axis=1)[:3])\n",
    "#     print(\"=======================\")"
   ]
  },
  {
   "cell_type": "code",
   "execution_count": 363,
   "id": "0ec17cb9",
   "metadata": {},
   "outputs": [],
   "source": [
    "newcoef= coeff.mean(0,keepdims=1)\n",
    "newstart = origin*newcoef"
   ]
  },
  {
   "cell_type": "code",
   "execution_count": 364,
   "id": "b81c6065",
   "metadata": {},
   "outputs": [],
   "source": [
    "coeff  = start/(origin+1e-10)"
   ]
  },
  {
   "cell_type": "code",
   "execution_count": 368,
   "id": "f4fa4698",
   "metadata": {},
   "outputs": [],
   "source": [
    "korigin= origin.reshape(coeff.shape[0], 366*24, 110)\n",
    "kstart =  start.reshape(coeff.shape[0], 366*24, 110)\n",
    "kcoeff =   coeff.reshape(coeff.shape[0], 366*24, 110)"
   ]
  },
  {
   "cell_type": "code",
   "execution_count": 382,
   "id": "82949b6e",
   "metadata": {},
   "outputs": [
    {
     "data": {
      "text/plain": [
       "[<matplotlib.lines.Line2D at 0x7f6de19370a0>]"
      ]
     },
     "execution_count": 382,
     "metadata": {},
     "output_type": "execute_result"
    },
    {
     "data": {
      "image/png": "[encoded data removed]",
      "text/plain": [
       "<Figure size 640x480 with 1 Axes>"
      ]
     },
     "metadata": {},
     "output_type": "display_data"
    }
   ],
   "source": [
    "plt.plot(coeff[1,:,1,58],'b')\n",
    "plt.plot(coeff[2,:,1,58],'c')\n",
    "plt.plot(coeff[3,:,1,58],'g')\n",
    "plt.plot(0.03/new_data.mean(0)[:,1,58],'r')\n"
   ]
  },
  {
   "cell_type": "code",
   "execution_count": 351,
   "id": "4ae59548",
   "metadata": {},
   "outputs": [
    {
     "data": {
      "text/plain": [
       "[<matplotlib.lines.Line2D at 0x7f6de2469dc0>]"
      ]
     },
     "execution_count": 351,
     "metadata": {},
     "output_type": "execute_result"
    },
    {
     "data": {
      "image/png": "[encoded data removed]",
      "text/plain": [
       "<Figure size 640x480 with 1 Axes>"
      ]
     },
     "metadata": {},
     "output_type": "display_data"
    }
   ],
   "source": [
    "plt.plot(kcoeff[:,40 ,22],'b')\n",
    "plt.plot(kcoeff[:,10,22],'c')\n",
    "plt.plot(kcoeff[:,422,22],'g')\n",
    "plt.plot(kcoeff[:,830,22],'black')\n",
    "plt.plot(kcoeff[:,923,22],'pink')\n",
    "plt.plot(kcoeff[:,13,22],'orange')"
   ]
  },
  {
   "cell_type": "code",
   "execution_count": 352,
   "id": "c2ceadee",
   "metadata": {},
   "outputs": [
    {
     "data": {
      "text/plain": [
       "[<matplotlib.lines.Line2D at 0x7f6de23ea5e0>]"
      ]
     },
     "execution_count": 352,
     "metadata": {},
     "output_type": "execute_result"
    },
    {
     "data": {
      "image/png": "[encoded data removed]",
      "text/plain": [
       "<Figure size 640x480 with 1 Axes>"
      ]
     },
     "metadata": {},
     "output_type": "display_data"
    }
   ],
   "source": [
    "plt.plot(kcoeff[9, :,-22],'b')\n",
    "plt.plot(kcoeff[1, :,-22],'c')\n",
    "plt.plot(kcoeff[2, :,-22],'g')\n",
    "plt.plot(kcoeff[20,:,-22],'r')\n",
    "#plt.plot(coeff.mean(0)[:,-22],'black')"
   ]
  },
  {
   "cell_type": "code",
   "execution_count": 353,
   "id": "a1781fc8",
   "metadata": {},
   "outputs": [],
   "source": [
    "nstart  = (start - 1/366)\n",
    "nstart = nstart**2"
   ]
  },
  {
   "cell_type": "code",
   "execution_count": 354,
   "id": "02ee339d",
   "metadata": {},
   "outputs": [],
   "source": [
    "stds1 = (start - 1/366).std(axis=0).reshape(-1,110)\n",
    "stds2 = (start - 1/366).std(axis=1).reshape(-1,110)"
   ]
  },
  {
   "cell_type": "code",
   "execution_count": 361,
   "id": "053737fd",
   "metadata": {},
   "outputs": [
    {
     "data": {
      "text/plain": [
       "[<matplotlib.lines.Line2D at 0x7f6de20f22b0>]"
      ]
     },
     "execution_count": 361,
     "metadata": {},
     "output_type": "execute_result"
    },
    {
     "data": {
      "image/png": "[encoded data removed]",
      "text/plain": [
       "<Figure size 640x480 with 1 Axes>"
      ]
     },
     "metadata": {},
     "output_type": "display_data"
    }
   ],
   "source": [
    "plt.plot(stds2[40:,32])"
   ]
  },
  {
   "cell_type": "code",
   "execution_count": 317,
   "id": "3db91ec8",
   "metadata": {},
   "outputs": [],
   "source": [
    "norigin= nstart**2\n",
    "for _ in range(20):\n",
    "    nstart /= nstart.sum(axis=0,keepdims=1)\n",
    "    nstart /= nstart.sum(axis=1,keepdims=1)\n",
    "#     print(nstart.sum(axis=0)[:3])    \n",
    "#     print(nstart.sum(axis=1)[:3])\n",
    "#     print(\"=======================\")"
   ]
  },
  {
   "cell_type": "code",
   "execution_count": 323,
   "id": "cd0996e6",
   "metadata": {},
   "outputs": [],
   "source": [
    "final_state = ncoeff*(start - 1/366)"
   ]
  },
  {
   "cell_type": "code",
   "execution_count": 333,
   "id": "9ec5d4fd",
   "metadata": {
    "scrolled": true
   },
   "outputs": [
    {
     "data": {
      "text/plain": [
       "array([[[-2.96981654e-02, -1.13896085e-02, -1.94120722e-02, ...,\n",
       "         -1.50920051e-02, -1.43945023e-02, -1.23524648e-02],\n",
       "        [-2.96844467e-02, -1.15881481e-02, -1.91772813e-02, ...,\n",
       "         -1.55838418e-02, -1.44971412e-02, -1.24284252e-02],\n",
       "        [-2.99202168e-02, -1.16401631e-02, -1.86841768e-02, ...,\n",
       "         -1.66302398e-02, -1.53806297e-02, -1.29937480e-02],\n",
       "        ...,\n",
       "        [-3.04512734e-02, -1.10833244e-02, -1.80343125e-02, ...,\n",
       "         -1.53317467e-02, -1.40146716e-02, -1.23948715e-02],\n",
       "        [-3.01059141e-02, -1.07621824e-02, -1.75750963e-02, ...,\n",
       "         -1.42665099e-02, -1.34988358e-02, -1.19198307e-02],\n",
       "        [-3.00412573e-02, -1.07345481e-02, -1.77029169e-02, ...,\n",
       "         -1.40822183e-02, -1.31781745e-02, -1.17608208e-02]],\n",
       "\n",
       "       [[-3.01260811e-02, -1.07669732e-02, -1.77039717e-02, ...,\n",
       "         -1.43905205e-02, -1.34417322e-02, -1.19309607e-02],\n",
       "        [-3.01405839e-02, -1.07670061e-02, -1.76528595e-02, ...,\n",
       "         -1.50560544e-02, -1.40653346e-02, -1.22983460e-02],\n",
       "        [-3.03902133e-02, -1.07416104e-02, -1.75311724e-02, ...,\n",
       "         -1.57733091e-02, -1.47188567e-02, -1.27732120e-02],\n",
       "        ...,\n",
       "        [-3.01787135e-02, -1.08617821e-02, -1.76973070e-02, ...,\n",
       "         -1.65741976e-02, -1.43107332e-02, -1.20729717e-02],\n",
       "        [-2.98386776e-02, -1.07867066e-02, -1.77127444e-02, ...,\n",
       "         -1.65220082e-02, -1.45745891e-02, -1.23624485e-02],\n",
       "        [-2.98738915e-02, -1.06710268e-02, -1.75927899e-02, ...,\n",
       "         -1.66357159e-02, -1.44707347e-02, -1.23531026e-02]],\n",
       "\n",
       "       [[-2.97873949e-02, -1.06448387e-02, -1.75099629e-02, ...,\n",
       "         -1.70959654e-02, -1.47923785e-02, -1.28616717e-02],\n",
       "        [-2.97726927e-02, -1.06739323e-02, -1.75922380e-02, ...,\n",
       "         -1.78283979e-02, -1.53628031e-02, -1.37207360e-02],\n",
       "        [-3.00293274e-02, -1.06845691e-02, -1.78396577e-02, ...,\n",
       "         -1.89315824e-02, -1.62832271e-02, -1.47318675e-02],\n",
       "        ...,\n",
       "        [-2.98538379e-02, -1.13943846e-02, -1.75987380e-02, ...,\n",
       "         -1.78927016e-02, -1.64561302e-02, -1.36542742e-02],\n",
       "        [-2.94924386e-02, -1.10205224e-02, -1.75841390e-02, ...,\n",
       "         -1.70968259e-02, -1.60008318e-02, -1.31383042e-02],\n",
       "        [-2.95034347e-02, -1.10749237e-02, -1.73016542e-02, ...,\n",
       "         -1.69208266e-02, -1.57859631e-02, -1.32194679e-02]],\n",
       "\n",
       "       ...,\n",
       "\n",
       "       [[ 2.99599037e-03, -8.36679946e-04,  1.85839319e-03, ...,\n",
       "          2.40909697e-03,  3.00070429e-03,  3.72025747e-03],\n",
       "        [ 3.10714526e-03, -7.61653857e-04,  1.86451202e-03, ...,\n",
       "          2.81574136e-03,  3.23845010e-03,  3.85059800e-03],\n",
       "        [ 3.14523422e-03, -7.13288076e-04,  2.02479645e-03, ...,\n",
       "          3.18035987e-03,  3.21501043e-03,  3.96507739e-03],\n",
       "        ...,\n",
       "        [ 2.99881359e-03, -2.20198643e-04,  9.66656428e-04, ...,\n",
       "          2.89034026e-03,  3.07166655e-03,  4.11867550e-03],\n",
       "        [ 3.01693868e-03, -2.60552334e-04,  7.57591653e-04, ...,\n",
       "          3.28309172e-03,  3.22453728e-03,  4.29633827e-03],\n",
       "        [ 2.97754119e-03, -2.70496345e-04,  8.95735386e-04, ...,\n",
       "          2.96611982e-03,  3.01928016e-03,  4.23024602e-03]],\n",
       "\n",
       "       [[ 2.96765878e-03, -2.56586708e-04,  9.45991394e-04, ...,\n",
       "          2.41566369e-03,  2.79875979e-03,  4.31343163e-03],\n",
       "        [ 2.90859928e-03, -2.08291101e-04,  9.37511591e-04, ...,\n",
       "          1.81148686e-03,  2.81495087e-03,  4.53393548e-03],\n",
       "        [ 2.80232230e-03, -1.61117114e-04,  1.05667364e-03, ...,\n",
       "          1.97676257e-03,  3.20007636e-03,  4.82900444e-03],\n",
       "        ...,\n",
       "        [ 2.76160040e-03, -5.15482658e-04,  2.91832923e-03, ...,\n",
       "          3.05865164e-03,  2.91190365e-03,  3.00838224e-03],\n",
       "        [ 2.90072920e-03, -2.39889446e-04,  2.64913525e-03, ...,\n",
       "          2.66036505e-03,  2.73412743e-03,  3.05539313e-03],\n",
       "        [ 2.95888100e-03, -1.95452190e-04,  2.51205483e-03, ...,\n",
       "          2.49649465e-03,  2.31309519e-03,  2.75877839e-03]],\n",
       "\n",
       "       [[ 3.01273834e-03, -2.21765215e-04,  2.47359610e-03, ...,\n",
       "          2.39620174e-03,  2.43894579e-03,  2.67053472e-03],\n",
       "        [ 2.96418582e-03, -1.41383112e-04,  2.42331456e-03, ...,\n",
       "          1.89207994e-03,  2.06057997e-03,  2.50175848e-03],\n",
       "        [ 2.86071985e-03, -8.13475240e-05,  2.48359077e-03, ...,\n",
       "          1.49629420e-03,  1.93009918e-03,  2.25538049e-03],\n",
       "        ...,\n",
       "        [ 2.28904758e-03,  3.21349889e-04,  3.00901328e-03, ...,\n",
       "          1.51392966e-03,  1.15104814e-03,  4.80736954e-04],\n",
       "        [ 2.31521796e-03,  2.20802840e-04,  2.60190705e-03, ...,\n",
       "          7.36080726e-04,  6.17354036e-04, -2.13786182e-04],\n",
       "        [ 2.24364713e-03,  2.81370379e-04,  2.65098271e-03, ...,\n",
       "          3.69761597e-04,  2.46886360e-04, -5.82512864e-04]]])"
      ]
     },
     "execution_count": 333,
     "metadata": {},
     "output_type": "execute_result"
    }
   ],
   "source": [
    "final_state.mean(axis=0)"
   ]
  },
  {
   "cell_type": "code",
   "execution_count": 319,
   "id": "8261a997",
   "metadata": {},
   "outputs": [],
   "source": [
    "ncoeff  = np.sqrt(nstart/(norigin+1e-10))\n",
    "knorigin= norigin.reshape(coeff2.shape[0], 366*24, 110)\n",
    "knstart =  nstart.reshape(coeff2.shape[0], 366*24, 110)\n",
    "kncoeff =  ncoeff.reshape(coeff2.shape[0], 366*24, 110)"
   ]
  },
  {
   "cell_type": "code",
   "execution_count": 322,
   "id": "789c5103",
   "metadata": {},
   "outputs": [
    {
     "data": {
      "text/plain": [
       "[<matplotlib.lines.Line2D at 0x7f6de35f6af0>]"
      ]
     },
     "execution_count": 322,
     "metadata": {},
     "output_type": "execute_result"
    },
    {
     "data": {
      "image/png": "[encoded data removed]",
      "text/plain": [
       "<Figure size 640x480 with 1 Axes>"
      ]
     },
     "metadata": {},
     "output_type": "display_data"
    }
   ],
   "source": [
    "plt.plot(knstart[9, :,-22],'b')\n",
    "plt.plot(knstart[1, :,-22],'c')\n",
    "plt.plot(knstart[2, :,-22],'g')\n",
    "plt.plot(knstart[20,:,-22],'r')"
   ]
  },
  {
   "cell_type": "code",
   "execution_count": 320,
   "id": "dc6dad3b",
   "metadata": {},
   "outputs": [
    {
     "data": {
      "text/plain": [
       "[<matplotlib.lines.Line2D at 0x7f6de3747a00>]"
      ]
     },
     "execution_count": 320,
     "metadata": {},
     "output_type": "execute_result"
    },
    {
     "data": {
      "image/png": "[encoded data removed]",
      "text/plain": [
       "<Figure size 640x480 with 1 Axes>"
      ]
     },
     "metadata": {},
     "output_type": "display_data"
    }
   ],
   "source": [
    "plt.plot(kncoeff[9, :,-22],'b')\n",
    "plt.plot(kncoeff[1, :,-22],'c')\n",
    "plt.plot(kncoeff[2, :,-22],'g')\n",
    "plt.plot(kncoeff[20,:,-22],'r')\n",
    "#plt.plot(coeff.mean(0)[:,-22],'black')"
   ]
  },
  {
   "cell_type": "code",
   "execution_count": 132,
   "id": "a1559bb6",
   "metadata": {},
   "outputs": [],
   "source": [
    "from mltool.visualization import *"
   ]
  },
  {
   "cell_type": "code",
   "execution_count": 138,
   "id": "0dd53c73",
   "metadata": {},
   "outputs": [
    {
     "data": {
      "text/plain": [
       "[<matplotlib.lines.Line2D at 0x7f6d0d5ae4f0>]"
      ]
     },
     "execution_count": 138,
     "metadata": {},
     "output_type": "execute_result"
    },
    {
     "data": {
      "image/png": "[encoded data removed]",
      "text/plain": [
       "<Figure size 640x480 with 1 Axes>"
      ]
     },
     "metadata": {},
     "output_type": "display_data"
    }
   ],
   "source": [
    "%matplotlib inline\n",
    "plt.plot(coeff[-1][:,19])"
   ]
  },
  {
   "cell_type": "markdown",
   "id": "e73ff14d",
   "metadata": {
    "heading_collapsed": true
   },
   "source": [
    "### measure the different between float16 dataset and float32 dataset"
   ]
  },
  {
   "cell_type": "code",
   "execution_count": 36,
   "id": "f2b30feb",
   "metadata": {
    "code_folding": [
     0,
     14
    ],
    "hidden": true,
    "scrolled": true
   },
   "outputs": [
    {
     "name": "stdout",
     "output_type": "stream",
     "text": [
      "2018-->(8760, 110, 32, 64)\n"
     ]
    },
    {
     "name": "stderr",
     "output_type": "stream",
     "text": [
      "8760it [00:10, 860.06it/s]\n"
     ]
    }
   ],
   "source": [
    "def init_file_list(years):\n",
    "    file_list = []\n",
    "    for year in years:\n",
    "        if year == 1979: # 1979年数据只有8753个，缺少第一天前7小时数据，所以这里我们从第二天开始算起\n",
    "            for hour in range(17, 8753, 1):\n",
    "                file_list.append([year, hour])\n",
    "        else:\n",
    "            if year % 4 == 0:\n",
    "                max_item = 8784\n",
    "            else:\n",
    "                max_item = 8760\n",
    "            for hour in range(0, max_item, 1):\n",
    "                file_list.append([year, hour])\n",
    "    return file_list\n",
    "for year in range(2018, 2019):\n",
    "    yearhourlist= init_file_list([year])\n",
    "    full_data = np.zeros((len(yearhourlist),110,32,64))\n",
    "    print(f\"{year}-->{full_data.shape}\")\n",
    "    for i,(year, hour) in tqdm(enumerate(yearhourlist)):\n",
    "        url = f\"datasets/weatherbench_6hour_full/{year}/{year}-{hour:04d}.npy\"\n",
    "        full_data[i]=np.load(url)\n"
   ]
  },
  {
   "cell_type": "code",
   "execution_count": 23,
   "id": "09563da7",
   "metadata": {
    "hidden": true
   },
   "outputs": [],
   "source": [
    "from train.pretrain import *\n",
    "from train.pretrain import get_args\n",
    "from mltool.universal_model_util import get_model_para_detail\n",
    "import numpy as np\n",
    "ckpt_path = \"checkpoints/WeathBench7066/AFNONet/ts_3_finetune-2D706N_per_1_step/01_09_02_41_31-seed_73001/\"\n",
    "args=get_args(os.path.join(ckpt_path,\"config.json\"))"
   ]
  },
  {
   "cell_type": "code",
   "execution_count": 25,
   "id": "6505d7df",
   "metadata": {
    "hidden": true
   },
   "outputs": [
    {
     "data": {
      "text/plain": [
       "{'dataset_flag': '2D70N',\n",
       " 'root': None,\n",
       " 'mode': 'finetune',\n",
       " 'time_step': 3,\n",
       " 'check_data': True,\n",
       " 'time_reverse_flag': 'only_forward',\n",
       " 'use_offline_data': 2,\n",
       " 'add_ConstDirectly': 0,\n",
       " 'add_LunaSolarDirectly': 0,\n",
       " 'time_intervel': 1,\n",
       " 'cross_sample': 1,\n",
       " 'use_position_idx': 0,\n",
       " 'img_size': (32, 64),\n",
       " 'patch_range': 5,\n",
       " 'debug': 0,\n",
       " 'picked_input_property': None,\n",
       " 'picked_output_property': None}"
      ]
     },
     "execution_count": 25,
     "metadata": {},
     "output_type": "execute_result"
    }
   ],
   "source": [
    "args= parse_default_args(args)\n",
    "args.dataset_kargs"
   ]
  },
  {
   "cell_type": "code",
   "execution_count": 26,
   "id": "b0a2f239",
   "metadata": {
    "hidden": true
   },
   "outputs": [
    {
     "name": "stdout",
     "output_type": "stream",
     "text": [
      "use dataset in datasets/weatherbench_6hour_full/\n"
     ]
    }
   ],
   "source": [
    "args.dataset_kargs['time_intervel'] = 6\n",
    "args.dataset_kargs['root'] = 'datasets/weatherbench_6hour_full/'\n",
    "dataset1 =  WeathBench32x64(split='test',**args.dataset_kargs)"
   ]
  },
  {
   "cell_type": "code",
   "execution_count": 27,
   "id": "7e78480b",
   "metadata": {
    "hidden": true
   },
   "outputs": [
    {
     "name": "stdout",
     "output_type": "stream",
     "text": [
      "use dataset in datasets/weatherbench_6hour\n",
      "load data from datasets/weatherbench_6hour/test.npy\n"
     ]
    }
   ],
   "source": [
    "args.dataset_kargs['time_intervel'] = 1\n",
    "args.dataset_kargs['root'] = None\n",
    "dataset2 = WeathBench7066(split='test',dataset_flag='2D70N')"
   ]
  },
  {
   "cell_type": "code",
   "execution_count": 32,
   "id": "f8902509",
   "metadata": {
    "code_folding": [
     2
    ],
    "hidden": true,
    "scrolled": true
   },
   "outputs": [
    {
     "name": "stdout",
     "output_type": "stream",
     "text": [
      "50hPa_u_component_of_wind      : 0.001490\n",
      "100hPa_u_component_of_wind     : 0.000864\n",
      "150hPa_u_component_of_wind     : 0.000673\n",
      "200hPa_u_component_of_wind     : 0.000761\n",
      "250hPa_u_component_of_wind     : 0.000695\n",
      "300hPa_u_component_of_wind     : 0.000659\n",
      "400hPa_u_component_of_wind     : 0.000561\n",
      "500hPa_u_component_of_wind     : 0.000616\n",
      "600hPa_u_component_of_wind     : 0.000781\n",
      "700hPa_u_component_of_wind     : 0.000798\n",
      "850hPa_u_component_of_wind     : 0.000770\n",
      "925hPa_u_component_of_wind     : 0.000797\n",
      "1000hPa_u_component_of_wind    : 0.000730\n",
      "10m_u_component_of_wind        : 0.000707\n",
      "50hPa_v_component_of_wind      : 0.003294\n",
      "100hPa_v_component_of_wind     : 0.001217\n",
      "150hPa_v_component_of_wind     : 0.000553\n",
      "200hPa_v_component_of_wind     : 0.000619\n",
      "250hPa_v_component_of_wind     : 0.000442\n",
      "300hPa_v_component_of_wind     : 0.000294\n",
      "400hPa_v_component_of_wind     : 0.000241\n",
      "500hPa_v_component_of_wind     : 0.000398\n",
      "600hPa_v_component_of_wind     : 0.000534\n",
      "700hPa_v_component_of_wind     : 0.000537\n",
      "850hPa_v_component_of_wind     : 0.000385\n",
      "925hPa_v_component_of_wind     : 0.000327\n",
      "1000hPa_v_component_of_wind    : 0.000375\n",
      "10m_v_component_of_wind        : 0.000412\n",
      "50hPa_temperature              : 0.002806\n",
      "100hPa_temperature             : 0.000231\n",
      "150hPa_temperature             : 0.001848\n",
      "200hPa_temperature             : 0.003663\n",
      "250hPa_temperature             : 0.004687\n",
      "300hPa_temperature             : 0.003957\n",
      "400hPa_temperature             : 0.003392\n",
      "500hPa_temperature             : 0.003015\n",
      "600hPa_temperature             : 0.002931\n",
      "700hPa_temperature             : 0.002816\n",
      "850hPa_temperature             : 0.002822\n",
      "925hPa_temperature             : 0.002916\n",
      "1000hPa_temperature            : 0.003016\n",
      "2m_temperature                 : 0.002423\n",
      "50hPa_geopotential             : 0.002868\n",
      "100hPa_geopotential            : 0.003789\n",
      "150hPa_geopotential            : 0.003395\n",
      "200hPa_geopotential            : 0.003083\n",
      "250hPa_geopotential            : 0.002847\n",
      "300hPa_geopotential            : 0.002671\n",
      "400hPa_geopotential            : 0.002411\n",
      "500hPa_geopotential            : 0.002219\n",
      "600hPa_geopotential            : 0.001966\n",
      "700hPa_geopotential            : 0.001665\n",
      "850hPa_geopotential            : 0.001550\n",
      "925hPa_geopotential            : 0.001586\n",
      "1000hPa_geopotential           : 0.001687\n",
      "1000hPa_geopotential           : 0.001687\n",
      "50hPa_relative_humidity        : 0.001156\n",
      "100hPa_relative_humidity       : 0.001396\n",
      "150hPa_relative_humidity       : 0.000174\n",
      "200hPa_relative_humidity       : 0.000767\n",
      "250hPa_relative_humidity       : 0.002728\n",
      "300hPa_relative_humidity       : 0.002631\n",
      "400hPa_relative_humidity       : 0.000836\n",
      "500hPa_relative_humidity       : 0.000302\n",
      "600hPa_relative_humidity       : 0.000295\n",
      "700hPa_relative_humidity       : 0.000330\n",
      "850hPa_relative_humidity       : 0.000369\n",
      "925hPa_relative_humidity       : 0.000904\n",
      "1000hPa_relative_humidity      : 0.002048\n",
      "1000hPa_relative_humidity      : 0.002048\n"
     ]
    }
   ],
   "source": [
    "idx = 100\n",
    "ts  = 0\n",
    "for name, val in zip(dataset1.vnames,np.abs(dataset1[idx][ts] - dataset2[idx][ts].numpy()).mean(axis=(1,2))):\n",
    "    print(f\"{name:30s} : {val:6f}\")"
   ]
  },
  {
   "cell_type": "code",
   "execution_count": 40,
   "id": "ce117553",
   "metadata": {
    "hidden": true,
    "scrolled": true
   },
   "outputs": [],
   "source": [
    "test_data_ck_normed = (test_data_ck - mean[:,None,None])/std[:,None,None]"
   ]
  },
  {
   "cell_type": "code",
   "execution_count": 60,
   "id": "ad5a9446",
   "metadata": {
    "hidden": true
   },
   "outputs": [],
   "source": [
    "dataset_delta = test_data_mine - test_data_ck_normed"
   ]
  },
  {
   "cell_type": "code",
   "execution_count": 62,
   "id": "7b463356",
   "metadata": {
    "hidden": true
   },
   "outputs": [],
   "source": [
    "channel_delta = dataset_delta.std(axis=(0,2,3))"
   ]
  },
  {
   "cell_type": "code",
   "execution_count": null,
   "id": "a00bb25c",
   "metadata": {
    "code_folding": [],
    "hidden": true
   },
   "outputs": [],
   "source": [
    "_component_list= ([58, 59, 60, 61, 62, 63, 64, 65, 66, 67, 68, 69, 70,  1]+ # u component of wind and the 10m u wind\n",
    "                    [71, 72, 73, 74, 75, 76, 77, 78, 79, 80, 81, 82, 83,  2]+   # v component of wind and the 10m v wind\n",
    "                    [19, 20, 21, 22, 23, 24, 25, 26, 27, 28, 29, 30, 31,  0]+   # Temperature and the 2m_temperature\n",
    "                    [ 6,  7,  8,  9, 10, 11, 12, 13, 14, 15, 16, 17, 18, 18]+   # Geopotential and the last one is ground Geopotential, should be replace later\n",
    "                    [45, 46, 47, 48, 49, 50, 51, 52, 53, 54, 55, 56, 57, 57]    # Realitve humidity and the Realitve humidity at groud, should be modified by total precipitaiton later\n",
    "                    )"
   ]
  },
  {
   "cell_type": "code",
   "execution_count": 68,
   "id": "4375fda1",
   "metadata": {
    "hidden": true
   },
   "outputs": [
    {
     "data": {
      "text/plain": [
       "array([0.00149878, 0.00157587, 0.00199237, 0.00248572, 0.00279373,\n",
       "       0.00277465, 0.00233057, 0.0019122 , 0.00163115, 0.00144281,\n",
       "       0.00131152, 0.00135736, 0.00110778, 0.00099857])"
      ]
     },
     "execution_count": 68,
     "metadata": {},
     "output_type": "execute_result"
    }
   ],
   "source": [
    "(channel_delta*std)[[71, 72, 73, 74, 75, 76, 77, 78, 79, 80, 81, 82, 83,  2]]"
   ]
  },
  {
   "cell_type": "code",
   "execution_count": 67,
   "id": "7f38444e",
   "metadata": {
    "hidden": true
   },
   "outputs": [
    {
     "data": {
      "text/plain": [
       "array([0.00219803, 0.0025446 , 0.00178881, 0.00148911, 0.00185834,\n",
       "       0.00223996, 0.00266491, 0.00277288, 0.00287536, 0.0031905 ,\n",
       "       0.00330547, 0.00335385, 0.00352648, 0.00438791])"
      ]
     },
     "execution_count": 67,
     "metadata": {},
     "output_type": "execute_result"
    }
   ],
   "source": [
    "(channel_delta*std)[[19, 20, 21, 22, 23, 24, 25, 26, 27, 28, 29, 30, 31,  0]]"
   ]
  },
  {
   "cell_type": "code",
   "execution_count": 66,
   "id": "0633b670",
   "metadata": {
    "hidden": true
   },
   "outputs": [
    {
     "data": {
      "text/plain": [
       "array([1.20470876, 1.13270624, 1.29297307, 1.27106557, 1.20714406,\n",
       "       1.11384715, 0.90969343, 0.69600837, 0.55860671, 0.43730723,\n",
       "       0.3072357 , 0.25897993, 0.22564171, 0.22564171])"
      ]
     },
     "execution_count": 66,
     "metadata": {},
     "output_type": "execute_result"
    }
   ],
   "source": [
    "(channel_delta*std)[[ 6,  7,  8,  9, 10, 11, 12, 13, 14, 15, 16, 17, 18, 18]]"
   ]
  },
  {
   "cell_type": "code",
   "execution_count": 69,
   "id": "147e69e1",
   "metadata": {
    "hidden": true,
    "scrolled": true
   },
   "outputs": [
    {
     "data": {
      "text/plain": [
       "array([4.38791277e-03, 1.16846769e-03, 9.98568404e-04, 6.44233400e-05,\n",
       "       8.47243583e-08, 2.95181480e+02, 1.20470876e+00, 1.13270624e+00,\n",
       "       1.29297307e+00, 1.27106557e+00, 1.20714406e+00, 1.11384715e+00,\n",
       "       9.09693427e-01, 6.96008369e-01, 5.58606708e-01, 4.37307233e-01,\n",
       "       3.07235696e-01, 2.58979934e-01, 2.25641715e-01, 2.19803137e-03,\n",
       "       2.54460460e-03, 1.78881489e-03, 1.48910805e-03, 1.85834327e-03,\n",
       "       2.23995544e-03, 2.66491349e-03, 2.77288410e-03, 2.87536353e-03,\n",
       "       3.19049926e-03, 3.30547101e-03, 3.35385363e-03, 3.52648243e-03,\n",
       "       4.06302863e-11, 1.26962878e-10, 7.59680905e-10, 4.84855146e-09,\n",
       "       1.61158260e-08, 3.64509409e-08, 1.11480413e-07, 2.29869273e-07,\n",
       "       3.73001201e-07, 5.37821815e-07, 8.83598773e-07, 1.05720007e-06,\n",
       "       1.21159245e-06, 3.15134035e-03, 7.08821741e-03, 6.88877988e-03,\n",
       "       6.71556591e-03, 7.22124243e-03, 7.10276963e-03, 7.10575295e-03,\n",
       "       6.92982214e-03, 6.73439139e-03, 6.37142574e-03, 5.69017026e-03,\n",
       "       4.35098920e-03, 3.69156359e-03, 3.38415629e-03, 2.83260627e-03,\n",
       "       3.33717613e-03, 3.68984809e-03, 3.74722682e-03, 3.58055921e-03,\n",
       "       2.99697597e-03, 2.51173325e-03, 2.17535913e-03, 1.93780254e-03,\n",
       "       1.71958538e-03, 1.66630826e-03, 1.29633464e-03, 1.49877508e-03,\n",
       "       1.57586806e-03, 1.99236782e-03, 2.48572060e-03, 2.79373092e-03,\n",
       "       2.77464886e-03, 2.33056797e-03, 1.91219895e-03, 1.63115260e-03,\n",
       "       1.44280546e-03, 1.31152230e-03, 1.35736375e-03, 1.10778233e-03,\n",
       "       3.83473264e-09, 4.41575708e-09, 6.16101177e-09, 8.56571560e-09,\n",
       "       1.13032367e-08, 1.30060701e-08, 1.23132019e-08, 1.00743655e-08,\n",
       "       8.81492843e-09, 8.77252025e-09, 9.66297648e-09, 1.00147885e-08,\n",
       "       7.98715345e-09, 6.71882932e-09, 2.47046521e-09, 1.46804403e-09,\n",
       "       1.09127771e-09, 8.27573260e-10, 5.33482537e-10, 1.96573439e-10,\n",
       "       1.36022534e-10, 4.48411222e-10, 7.70497213e-10, 9.27098255e-10,\n",
       "       9.96086191e-10, 1.12489294e-09])"
      ]
     },
     "execution_count": 69,
     "metadata": {},
     "output_type": "execute_result"
    }
   ],
   "source": [
    "channel_delta*std"
   ]
  },
  {
   "cell_type": "markdown",
   "id": "eb101b62",
   "metadata": {
    "heading_collapsed": true
   },
   "source": [
    "### data analysis"
   ]
  },
  {
   "cell_type": "code",
   "execution_count": 16,
   "id": "65a7ecac",
   "metadata": {
    "hidden": true
   },
   "outputs": [
    {
     "data": {
      "text/plain": [
       "array([-0.23913043, -0.5       , -0.5       , -0.5       ])"
      ]
     },
     "execution_count": 16,
     "metadata": {},
     "output_type": "execute_result"
    }
   ],
   "source": [
    "dataset[0][1][1]"
   ]
  },
  {
   "cell_type": "code",
   "execution_count": 14,
   "id": "d80ed98f",
   "metadata": {
    "hidden": true
   },
   "outputs": [],
   "source": [
    "epochs = np.arange(100)"
   ]
  },
  {
   "cell_type": "code",
   "execution_count": 9,
   "id": "c23a1545",
   "metadata": {
    "hidden": true
   },
   "outputs": [],
   "source": [
    "train_data = np.load(\"datasets/weatherbench_6hour_offline/means_stds_pixelnorm.npy\")"
   ]
  },
  {
   "cell_type": "code",
   "execution_count": 11,
   "id": "47e507bf",
   "metadata": {
    "hidden": true
   },
   "outputs": [
    {
     "data": {
      "text/plain": [
       "-3.32913351786477"
      ]
     },
     "execution_count": 11,
     "metadata": {},
     "output_type": "execute_result"
    }
   ],
   "source": [
    "np.min(train_data)"
   ]
  },
  {
   "cell_type": "code",
   "execution_count": 40,
   "id": "80674374",
   "metadata": {
    "hidden": true
   },
   "outputs": [],
   "source": [
    "delta_data = (train_data[1:] - train_data[:-1])\n",
    "norm_data = np.sqrt(np.sum(delta_data**2,axis=(1,2,3)))\n",
    "#norm_data = norm_data/norm_data.mean()"
   ]
  },
  {
   "cell_type": "code",
   "execution_count": 42,
   "id": "2cf363e3",
   "metadata": {
    "hidden": true
   },
   "outputs": [
    {
     "data": {
      "text/plain": [
       "8.033047"
      ]
     },
     "execution_count": 42,
     "metadata": {},
     "output_type": "execute_result"
    }
   ],
   "source": [
    "norm_data[:-1].mean()"
   ]
  },
  {
   "cell_type": "code",
   "execution_count": 41,
   "id": "99697aaa",
   "metadata": {
    "hidden": true
   },
   "outputs": [
    {
     "data": {
      "text/plain": [
       "8.042866"
      ]
     },
     "execution_count": 41,
     "metadata": {},
     "output_type": "execute_result"
    }
   ],
   "source": [
    "norm_data.mean()"
   ]
  },
  {
   "cell_type": "code",
   "execution_count": 39,
   "id": "78f52cdd",
   "metadata": {
    "hidden": true
   },
   "outputs": [
    {
     "data": {
      "text/plain": [
       "[<matplotlib.lines.Line2D at 0x7f339800ad90>]"
      ]
     },
     "execution_count": 39,
     "metadata": {},
     "output_type": "execute_result"
    },
    {
     "data": {
      "image/png": "[encoded data removed]",
      "text/plain": [
       "<Figure size 640x480 with 1 Axes>"
      ]
     },
     "metadata": {},
     "output_type": "display_data"
    }
   ],
   "source": [
    "%matplotlib inline\n",
    "plt.plot(norm_data)"
   ]
  },
  {
   "cell_type": "code",
   "execution_count": 23,
   "id": "f4b1481f",
   "metadata": {
    "hidden": true
   },
   "outputs": [],
   "source": [
    "delta_step =norm_data[:-1]/norm_data[1:]"
   ]
  },
  {
   "cell_type": "code",
   "execution_count": 24,
   "id": "ee12aeb6",
   "metadata": {
    "hidden": true
   },
   "outputs": [],
   "source": [
    "from mltool.visualization import *"
   ]
  },
  {
   "cell_type": "code",
   "execution_count": 25,
   "id": "c2831e76",
   "metadata": {
    "hidden": true
   },
   "outputs": [
    {
     "data": {
      "image/png": "[encoded data removed]",
      "text/plain": [
       "<Figure size 640x480 with 1 Axes>"
      ]
     },
     "metadata": {},
     "output_type": "display_data"
    }
   ],
   "source": [
    "smoothhist(delta_step)"
   ]
  },
  {
   "cell_type": "code",
   "execution_count": 34,
   "id": "af81d85f",
   "metadata": {
    "hidden": true
   },
   "outputs": [
    {
     "data": {
      "text/plain": [
       "2.4260402"
      ]
     },
     "execution_count": 34,
     "metadata": {},
     "output_type": "execute_result"
    }
   ],
   "source": [
    "norm_data[-1]"
   ]
  },
  {
   "cell_type": "code",
   "execution_count": 35,
   "id": "229f18b7",
   "metadata": {
    "hidden": true
   },
   "outputs": [
    {
     "data": {
      "text/plain": [
       "0.9380386"
      ]
     },
     "execution_count": 35,
     "metadata": {},
     "output_type": "execute_result"
    }
   ],
   "source": [
    "norm_data[-2]"
   ]
  },
  {
   "cell_type": "code",
   "execution_count": 37,
   "id": "942c94a2",
   "metadata": {
    "hidden": true
   },
   "outputs": [
    {
     "data": {
      "text/plain": [
       "[<matplotlib.lines.Line2D at 0x7f3396e78af0>]"
      ]
     },
     "execution_count": 37,
     "metadata": {},
     "output_type": "execute_result"
    },
    {
     "data": {
      "image/png": "[encoded data removed]",
      "text/plain": [
       "<Figure size 640x480 with 1 Axes>"
      ]
     },
     "metadata": {},
     "output_type": "display_data"
    }
   ],
   "source": []
  },
  {
   "cell_type": "code",
   "execution_count": 3,
   "id": "1e9d2e02",
   "metadata": {
    "hidden": true
   },
   "outputs": [],
   "source": [
    "sH = 720\n",
    "sW = 1440\n",
    "tH = 32\n",
    "tW = 64\n",
    "steph = sH /float(tH)\n",
    "stepw = sW /float(tW)\n",
    "x     = np.arange(0, sW, stepw).astype('int')\n",
    "y     = np.linspace(0, sH-1, tH, dtype='int')\n",
    "x, y  = np.meshgrid(x, y)\n",
    "\n",
    "latitude   = np.linspace(90,-90,721)\n",
    "longitude  = np.linspace(0,360,1440)\n",
    "\n",
    "LaLotude = np.stack([latitude[y],longitude[x]])/180*np.pi\n",
    "\n",
    "LaLotudeVector = np.stack([np.cos(LaLotude[1])*np.cos(LaLotude[0]),np.cos(LaLotude[1])*np.sin(LaLotude[0]),np.sin(LaLotude[1])],2)"
   ]
  },
  {
   "cell_type": "code",
   "execution_count": 6,
   "id": "26c6abb6",
   "metadata": {
    "hidden": true
   },
   "outputs": [],
   "source": [
    "timelists = np.arange(np.datetime64(\"1979-01-02\"), np.datetime64(\"2017-01-01\"), np.timedelta64(6, \"h\"))"
   ]
  },
  {
   "cell_type": "code",
   "execution_count": 16,
   "id": "47d4efc9",
   "metadata": {
    "hidden": true
   },
   "outputs": [],
   "source": [
    "import datetime"
   ]
  },
  {
   "cell_type": "code",
   "execution_count": 26,
   "id": "e0349044",
   "metadata": {
    "hidden": true
   },
   "outputs": [],
   "source": [
    "sun_vector = np.stack([np.cos(sun_lat/180*np.pi)*np.cos(sun_lon/180*np.pi),\n",
    "                    np.cos(sun_lat/180*np.pi)*np.sin(sun_lon/180*np.pi),\n",
    "                    np.sin(sun_lat/180*np.pi)])"
   ]
  },
  {
   "cell_type": "code",
   "execution_count": 31,
   "id": "5c0a72f2",
   "metadata": {
    "hidden": true
   },
   "outputs": [],
   "source": [
    "mask=(LaLotudeVector@sun_vector)"
   ]
  },
  {
   "cell_type": "code",
   "execution_count": 32,
   "id": "7b42132d",
   "metadata": {
    "hidden": true
   },
   "outputs": [
    {
     "data": {
      "text/plain": [
       "0.37799625648571333"
      ]
     },
     "execution_count": 32,
     "metadata": {},
     "output_type": "execute_result"
    }
   ],
   "source": [
    "mask[0,45]"
   ]
  },
  {
   "cell_type": "code",
   "execution_count": 33,
   "id": "f780a78c",
   "metadata": {
    "hidden": true
   },
   "outputs": [
    {
     "data": {
      "text/plain": [
       "0.37799625648571333"
      ]
     },
     "execution_count": 33,
     "metadata": {},
     "output_type": "execute_result"
    }
   ],
   "source": [
    "LaLotudeVector[0,45]@sun_vector"
   ]
  },
  {
   "cell_type": "code",
   "execution_count": 28,
   "id": "cad28c64",
   "metadata": {
    "hidden": true
   },
   "outputs": [
    {
     "data": {
      "text/plain": [
       "(3,)"
      ]
     },
     "execution_count": 28,
     "metadata": {},
     "output_type": "execute_result"
    }
   ],
   "source": [
    "sun_vector.shape"
   ]
  },
  {
   "cell_type": "code",
   "execution_count": 25,
   "id": "17a09388",
   "metadata": {
    "hidden": true,
    "scrolled": true
   },
   "outputs": [],
   "source": [
    "sun_lon, sun_lat = get_sub_sun_point(a.item())"
   ]
  },
  {
   "cell_type": "code",
   "execution_count": null,
   "id": "363a600d",
   "metadata": {
    "hidden": true
   },
   "outputs": [],
   "source": []
  },
  {
   "cell_type": "code",
   "execution_count": 22,
   "id": "109e057c",
   "metadata": {
    "hidden": true
   },
   "outputs": [],
   "source": [
    "import math"
   ]
  },
  {
   "cell_type": "code",
   "execution_count": 10,
   "id": "3c34a486",
   "metadata": {
    "hidden": true
   },
   "outputs": [],
   "source": [
    "a = timelists[0]"
   ]
  },
  {
   "cell_type": "code",
   "execution_count": null,
   "id": "556bbb59",
   "metadata": {
    "hidden": true
   },
   "outputs": [],
   "source": [
    "a."
   ]
  },
  {
   "cell_type": "code",
   "execution_count": 7,
   "id": "724bd5ab",
   "metadata": {
    "hidden": true
   },
   "outputs": [],
   "source": [
    "delta_data = train_data[1:] - train_data[:-1]"
   ]
  },
  {
   "cell_type": "code",
   "execution_count": 8,
   "id": "f9ad7b5c",
   "metadata": {
    "hidden": true
   },
   "outputs": [],
   "source": [
    "delta_data = delta_data.astype('float64')"
   ]
  },
  {
   "cell_type": "code",
   "execution_count": 9,
   "id": "e7016af0",
   "metadata": {
    "hidden": true
   },
   "outputs": [],
   "source": [
    "mean = delta_data.mean(0)"
   ]
  },
  {
   "cell_type": "code",
   "execution_count": 11,
   "id": "e5e7adc4",
   "metadata": {
    "hidden": true
   },
   "outputs": [],
   "source": [
    "stds = delta_data.std(0)"
   ]
  },
  {
   "cell_type": "code",
   "execution_count": 14,
   "id": "e290508b",
   "metadata": {
    "hidden": true
   },
   "outputs": [],
   "source": [
    "mean_stds = np.stack([mean,stds])"
   ]
  },
  {
   "cell_type": "code",
   "execution_count": 16,
   "id": "531da073",
   "metadata": {
    "hidden": true
   },
   "outputs": [],
   "source": [
    "np.save(\"datasets/weatherbench_6hour_offline/delta_means_stds_pixelnorm.npy\",mean_stds)"
   ]
  },
  {
   "cell_type": "code",
   "execution_count": 225,
   "id": "9ed4e5a8",
   "metadata": {
    "code_folding": [
     0
    ],
    "hidden": true
   },
   "outputs": [
    {
     "name": "stdout",
     "output_type": "stream",
     "text": [
      "Writing run_script/create_2D68K_offline.py\n"
     ]
    }
   ],
   "source": [
    "%%writefile run_script/create_2D68K_offline.py\n",
    "import numpy as np\n",
    "\n",
    "train_data = np.load(\"datasets/weatherbench_6hour_offline/train_2D70N.npy\").astype('float64')\n",
    "train_data = train_data[:,list(range(0,14*4-1))+list(range(14*4,14*5-1))]\n",
    "\n",
    "valid_data = np.load(\"datasets/weatherbench_6hour_offline/valid_2D70N.npy\").astype('float64')\n",
    "valid_data = valid_data[:,list(range(0,14*4-1))+list(range(14*4,14*5-1))]\n",
    "test_data = np.load(\"datasets/weatherbench_6hour_offline/test_2D70N.npy\").astype('float64')\n",
    "test_data = test_data[:,list(range(0,14*4-1))+list(range(14*4,14*5-1))]\n",
    "\n",
    "mean_pixelnorm = train_data.mean(0)\n",
    "stds_pixelnorm = train_data.std(0)\n",
    "means_stds_pixelnorm = np.stack([mean_pixelnorm,stds_pixelnorm])\n",
    "np.save(\"datasets/weatherbench_6hour_offline/means_stds_pixelnorm.npy\", means_stds_pixelnorm)\n",
    "\n",
    "train_data_half = (train_data - mean_pixelnorm)/(stds_pixelnorm+1e-10)\n",
    "train_data_half = train_data_half.astype('float16')\n",
    "np.save(\"datasets/weatherbench_6hour_offline/train_2D68K_pixelnorm.npy\",train_data_half)\n",
    "\n",
    "valid_data_half = (valid_data - mean_pixelnorm)/(stds_pixelnorm+1e-10)\n",
    "valid_data_half = valid_data_half.astype('float16')\n",
    "np.save(\"datasets/weatherbench_6hour_offline/valid_2D68K_pixelnorm.npy\", valid_data_half)\n",
    "test_data_half = (test_data - mean_pixelnorm)/(stds_pixelnorm+1e-10)\n",
    "test_data_half = test_data_half.astype('float16')\n",
    "np.save(\"datasets/weatherbench_6hour_offline/test_2D68K_pixelnorm.npy\", test_data_half)"
   ]
  },
  {
   "cell_type": "code",
   "execution_count": 3,
   "id": "81bb1ce5",
   "metadata": {
    "hidden": true
   },
   "outputs": [
    {
     "name": "stdout",
     "output_type": "stream",
     "text": [
      "True\n",
      "False\n"
     ]
    }
   ],
   "source": []
  },
  {
   "cell_type": "code",
   "execution_count": 45,
   "id": "97e4b957",
   "metadata": {
    "hidden": true
   },
   "outputs": [],
   "source": [
    "line  = data[:,49,7,15].astype('float')"
   ]
  },
  {
   "cell_type": "code",
   "execution_count": 22,
   "id": "0ad03677",
   "metadata": {
    "hidden": true
   },
   "outputs": [],
   "source": [
    "from mltool.visualization import *"
   ]
  },
  {
   "cell_type": "code",
   "execution_count": null,
   "id": "aa8a2380",
   "metadata": {
    "hidden": true
   },
   "outputs": [],
   "source": [
    "time_features(pd.to_datetime(times)"
   ]
  },
  {
   "cell_type": "code",
   "execution_count": 37,
   "id": "4db5f798",
   "metadata": {
    "hidden": true
   },
   "outputs": [],
   "source": [
    "def func(T,w11,w21,w31,w41,w12,w22,w32,w42,o11,o21,o31,o41,o12,o22,o32,o42):\n",
    "    return ( w11*np.sin(2*np.pi*T.hour/24 + o11)       + w12*np.cos(2*np.pi*T.hour/24 + o12) +\n",
    "             w21*np.sin(2*np.pi*T.dayofweek/7 + o21)   + w22*np.cos(2*np.pi*T.dayofweek/7 + o22) +\n",
    "             w31*np.sin(2*np.pi*T.day/31 + o31)        + w32*np.cos(2*np.pi*T.day/31 + o32) +\n",
    "             w41*np.sin(2*np.pi*T.dayofyear/366 + o41) + w42*np.cos(2*np.pi*T.dayofyear/366 + o42))"
   ]
  },
  {
   "cell_type": "code",
   "execution_count": 41,
   "id": "af6f4903",
   "metadata": {
    "hidden": true
   },
   "outputs": [],
   "source": [
    "from scipy.optimize import curve_fit"
   ]
  },
  {
   "cell_type": "code",
   "execution_count": 49,
   "id": "c313dc49",
   "metadata": {
    "hidden": true
   },
   "outputs": [],
   "source": [
    "xdata = timestamp[:-1]\n",
    "ydata = line"
   ]
  },
  {
   "cell_type": "code",
   "execution_count": 50,
   "id": "b8ada383",
   "metadata": {
    "hidden": true
   },
   "outputs": [],
   "source": [
    "popt, pcov = curve_fit(func, xdata, ydata)"
   ]
  },
  {
   "cell_type": "code",
   "execution_count": 55,
   "id": "94b0ddaf",
   "metadata": {
    "hidden": true
   },
   "outputs": [
    {
     "data": {
      "text/plain": [
       "(16, 16)"
      ]
     },
     "execution_count": 55,
     "metadata": {},
     "output_type": "execute_result"
    }
   ],
   "source": [
    "pcov.shape"
   ]
  },
  {
   "cell_type": "code",
   "execution_count": 51,
   "id": "da634c87",
   "metadata": {
    "hidden": true
   },
   "outputs": [],
   "source": [
    "from mltool.visualization import *"
   ]
  },
  {
   "cell_type": "code",
   "execution_count": 53,
   "id": "c19828e7",
   "metadata": {
    "hidden": true
   },
   "outputs": [
    {
     "data": {
      "text/plain": [
       "[<matplotlib.lines.Line2D at 0x7f29de65c1f0>]"
      ]
     },
     "execution_count": 53,
     "metadata": {},
     "output_type": "execute_result"
    },
    {
     "data": {
      "image/png": "[encoded data removed]",
      "text/plain": [
       "<Figure size 640x480 with 1 Axes>"
      ]
     },
     "metadata": {},
     "output_type": "display_data"
    }
   ],
   "source": [
    "%matplotlib inline\n",
    "start = 100\n",
    "plt.plot(func(xdata[start:start+100], *popt), 'r-')\n",
    "plt.plot(ydata[start:start+100], 'b-', label='data')"
   ]
  },
  {
   "cell_type": "code",
   "execution_count": 12,
   "id": "1c2f67b2",
   "metadata": {
    "hidden": true
   },
   "outputs": [],
   "source": [
    "import scipy"
   ]
  },
  {
   "cell_type": "code",
   "execution_count": 47,
   "id": "88112b56",
   "metadata": {
    "hidden": true
   },
   "outputs": [],
   "source": [
    "import scipy.fft as fft"
   ]
  },
  {
   "cell_type": "code",
   "execution_count": 54,
   "id": "c89f5105",
   "metadata": {
    "hidden": true
   },
   "outputs": [],
   "source": [
    "fft_line = fft.rfft(line,norm=\"ortho\")"
   ]
  },
  {
   "cell_type": "code",
   "execution_count": 80,
   "id": "12739b22",
   "metadata": {
    "hidden": true
   },
   "outputs": [
    {
     "data": {
      "text/plain": [
       "array([27608, 27609, 27610, 27611, 27612, 27613, 27614, 27615, 27616,\n",
       "       27617, 27618, 27619, 27620, 27621, 27622, 27623, 27624, 27625,\n",
       "       27626, 27627, 27628, 27629, 27630, 27631, 27632, 27633, 27634,\n",
       "       27635, 27636, 27637, 27638, 27639, 27640, 27641, 27642, 27643,\n",
       "       27644, 27645, 27646, 27647, 27648, 27649, 27650, 27651, 27652,\n",
       "       27653, 27654, 27655, 27656, 27657, 27658, 27659, 27660, 27661,\n",
       "       27662, 27663, 27664, 27665, 27666, 27667, 27668, 27669, 27670,\n",
       "       27671, 27672, 27673, 27674, 27675, 27676, 27677, 27678, 27679,\n",
       "       27680, 27681, 27682, 27683, 27684, 27685, 27686, 27687, 27688,\n",
       "       27689, 27690, 27691, 27692, 27693, 27694, 27695, 27696, 27697,\n",
       "       27698, 27699, 27700, 27701, 27702, 27703, 27704, 27705, 27706,\n",
       "       27707, 27708, 27709, 27710, 27711, 27712, 27713, 27714, 27715,\n",
       "       27716, 27717, 27718, 27719, 27720, 27721, 27722, 27723, 27724,\n",
       "       27725, 27726, 27727, 27728, 27729, 27730, 27731, 27732, 27733,\n",
       "       27734, 27735, 27736, 27737, 27738, 27739, 27740, 27741, 27742,\n",
       "       27743, 27744, 27745, 27746, 27747, 27748, 27749, 27750, 27751,\n",
       "       27752, 27753, 27754, 27755, 27756, 27757])"
      ]
     },
     "execution_count": 80,
     "metadata": {},
     "output_type": "execute_result"
    }
   ],
   "source": [
    "(fft.rfftfreq(len(line))*len(line))[-150:].astype('int')"
   ]
  },
  {
   "cell_type": "code",
   "execution_count": 88,
   "id": "effee691",
   "metadata": {
    "hidden": true
   },
   "outputs": [
    {
     "name": "stdout",
     "output_type": "stream",
     "text": [
      "55514\n",
      "55514\n",
      "13878.0\n",
      "1982.0\n",
      "462.0\n",
      "37.0\n"
     ]
    }
   ],
   "source": [
    "print(len(line)//1)\n",
    "print(len(line)//1)\n",
    "print(len(line)//(24/6))\n",
    "print(len(line)//(24*7/6))\n",
    "print(len(line)//(24*30/6))\n",
    "print(len(line)//(24*366/6))"
   ]
  },
  {
   "cell_type": "code",
   "execution_count": 94,
   "id": "2e991e61",
   "metadata": {
    "hidden": true
   },
   "outputs": [],
   "source": [
    "fake_fft_line = np.zeros_like(fft_line)\n",
    "fake_fft_line[-10:] = fft_line[-10:]\n",
    "for mid in  [13878, 1982,462,37]:\n",
    "    fake_fft_line[mid-10:mid+10] = fft_line[mid -10:mid+10]\n",
    "fake_fft_line[0]=fft_line[0]"
   ]
  },
  {
   "cell_type": "code",
   "execution_count": 95,
   "id": "cca09775",
   "metadata": {
    "hidden": true
   },
   "outputs": [],
   "source": [
    "reconstruct = fft.irfft(fake_fft_line,n=len(line),norm=\"ortho\")"
   ]
  },
  {
   "cell_type": "code",
   "execution_count": 121,
   "id": "11771885",
   "metadata": {
    "hidden": true
   },
   "outputs": [],
   "source": [
    "reserve_freq = np.argsort(abs(fft_line))[-5000:]\n",
    "fake_fft_line = np.zeros_like(fft_line)\n",
    "fake_fft_line[reserve_freq] = fft_line[reserve_freq]\n",
    "reconstruct = fft.irfft(fake_fft_line,n=len(line),norm=\"ortho\")"
   ]
  },
  {
   "cell_type": "code",
   "execution_count": 122,
   "id": "89ee013f",
   "metadata": {
    "hidden": true
   },
   "outputs": [
    {
     "data": {
      "text/plain": [
       "array([ 0.15472035,  0.02968823, -0.0213942 , ...,  0.03790627,\n",
       "        0.19149126,  0.24010597])"
      ]
     },
     "execution_count": 122,
     "metadata": {},
     "output_type": "execute_result"
    }
   ],
   "source": [
    "reconstruct"
   ]
  },
  {
   "cell_type": "code",
   "execution_count": 123,
   "id": "e4286464",
   "metadata": {
    "hidden": true
   },
   "outputs": [
    {
     "data": {
      "text/plain": [
       "[<matplotlib.lines.Line2D at 0x7f79ea234b80>]"
      ]
     },
     "execution_count": 123,
     "metadata": {},
     "output_type": "execute_result"
    },
    {
     "data": {
      "image/png": "[encoded data removed]",
      "text/plain": [
       "<Figure size 640x480 with 1 Axes>"
      ]
     },
     "metadata": {},
     "output_type": "display_data"
    }
   ],
   "source": [
    "%matplotlib inline\n",
    "start=300\n",
    "plt.plot(line[start:start+60],'r')\n",
    "plt.plot(reconstruct[start:start+60],'g')"
   ]
  },
  {
   "cell_type": "code",
   "execution_count": 56,
   "id": "6e25cfbb",
   "metadata": {
    "hidden": true
   },
   "outputs": [
    {
     "data": {
      "text/plain": [
       "array([0.00099793, 0.00100946, 0.00102101, ..., 0.00096344, 0.00097492,\n",
       "       0.00098642])"
      ]
     },
     "execution_count": 56,
     "metadata": {},
     "output_type": "execute_result"
    }
   ],
   "source": [
    "reconstruct"
   ]
  },
  {
   "cell_type": "code",
   "execution_count": 34,
   "id": "1ba3965e",
   "metadata": {
    "hidden": true
   },
   "outputs": [],
   "source": [
    "delta_std[55]=1\n",
    "delta_std[69]=1"
   ]
  },
  {
   "cell_type": "code",
   "execution_count": 36,
   "id": "80373bd1",
   "metadata": {
    "hidden": true
   },
   "outputs": [],
   "source": [
    "delta_mean_std = np.stack([delta_mean,delta_std])"
   ]
  },
  {
   "cell_type": "code",
   "execution_count": 39,
   "id": "044072cd",
   "metadata": {
    "hidden": true
   },
   "outputs": [],
   "source": [
    "np.save(\"datasets/weatherbench_6hour/delta_mean_std.npy\",delta_mean_std)"
   ]
  },
  {
   "cell_type": "code",
   "execution_count": 35,
   "id": "dceff67a",
   "metadata": {
    "hidden": true
   },
   "outputs": [
    {
     "data": {
      "text/plain": [
       "(2, 110)"
      ]
     },
     "execution_count": 35,
     "metadata": {},
     "output_type": "execute_result"
    }
   ],
   "source": [
    "np.load(\"datasets/weatherbench_6hour/mean_std.npy\").shape"
   ]
  },
  {
   "cell_type": "code",
   "execution_count": null,
   "id": "8d1de51f",
   "metadata": {
    "hidden": true
   },
   "outputs": [],
   "source": []
  },
  {
   "cell_type": "code",
   "execution_count": 1,
   "id": "96c9b402",
   "metadata": {
    "hidden": true
   },
   "outputs": [],
   "source": [
    "import torch\n",
    "import numpy as np"
   ]
  },
  {
   "cell_type": "code",
   "execution_count": 14,
   "id": "dd1ab599",
   "metadata": {
    "hidden": true
   },
   "outputs": [
    {
     "data": {
      "text/plain": [
       "<All keys matched successfully>"
      ]
     },
     "execution_count": 14,
     "metadata": {},
     "output_type": "execute_result"
    }
   ],
   "source": [
    "a = torch.ones(1,5)\n",
    "b = torch.ones(1,10)\n",
    "c = torch.arange(10).reshape(1,10)\n",
    "layer = torch.nn.Linear(5,10)\n",
    "layer.load_state_dict(torch.load(\"debug/test.weight\"))"
   ]
  },
  {
   "cell_type": "code",
   "execution_count": 15,
   "id": "ea1460bd",
   "metadata": {
    "hidden": true
   },
   "outputs": [],
   "source": [
    "torch.save(layer.state_dict(),'debug/test.weight')"
   ]
  },
  {
   "cell_type": "code",
   "execution_count": 16,
   "id": "be759159",
   "metadata": {
    "hidden": true
   },
   "outputs": [],
   "source": [
    "torch.nn.MSELoss()(b+c,layer(a)+c).backward()"
   ]
  },
  {
   "cell_type": "code",
   "execution_count": 17,
   "id": "786009a7",
   "metadata": {
    "hidden": true
   },
   "outputs": [
    {
     "data": {
      "text/plain": [
       "tensor([[-3.1168e-01, -3.1168e-01, -3.1168e-01, -3.1168e-01, -3.1168e-01],\n",
       "        [ 1.0257e-02,  1.0257e-02,  1.0257e-02,  1.0257e-02,  1.0257e-02],\n",
       "        [-4.6965e-02, -4.6965e-02, -4.6965e-02, -4.6965e-02, -4.6965e-02],\n",
       "        [ 2.4194e-02,  2.4194e-02,  2.4194e-02,  2.4194e-02,  2.4194e-02],\n",
       "        [-4.9562e-01, -4.9562e-01, -4.9562e-01, -4.9562e-01, -4.9562e-01],\n",
       "        [-1.2085e-01, -1.2085e-01, -1.2085e-01, -1.2085e-01, -1.2085e-01],\n",
       "        [-3.5114e-01, -3.5114e-01, -3.5114e-01, -3.5114e-01, -3.5114e-01],\n",
       "        [-3.4697e-01, -3.4697e-01, -3.4697e-01, -3.4697e-01, -3.4697e-01],\n",
       "        [-2.1173e-01, -2.1173e-01, -2.1173e-01, -2.1173e-01, -2.1173e-01],\n",
       "        [-2.8019e-04, -2.8019e-04, -2.8019e-04, -2.8019e-04, -2.8019e-04]])"
      ]
     },
     "execution_count": 17,
     "metadata": {},
     "output_type": "execute_result"
    }
   ],
   "source": [
    "layer.weight.grad"
   ]
  },
  {
   "cell_type": "code",
   "execution_count": 13,
   "id": "94f1eee4",
   "metadata": {
    "hidden": true
   },
   "outputs": [
    {
     "data": {
      "text/plain": [
       "tensor([[-3.1168e-01, -3.1168e-01, -3.1168e-01, -3.1168e-01, -3.1168e-01],\n",
       "        [ 1.0257e-02,  1.0257e-02,  1.0257e-02,  1.0257e-02,  1.0257e-02],\n",
       "        [-4.6965e-02, -4.6965e-02, -4.6965e-02, -4.6965e-02, -4.6965e-02],\n",
       "        [ 2.4194e-02,  2.4194e-02,  2.4194e-02,  2.4194e-02,  2.4194e-02],\n",
       "        [-4.9562e-01, -4.9562e-01, -4.9562e-01, -4.9562e-01, -4.9562e-01],\n",
       "        [-1.2085e-01, -1.2085e-01, -1.2085e-01, -1.2085e-01, -1.2085e-01],\n",
       "        [-3.5114e-01, -3.5114e-01, -3.5114e-01, -3.5114e-01, -3.5114e-01],\n",
       "        [-3.4697e-01, -3.4697e-01, -3.4697e-01, -3.4697e-01, -3.4697e-01],\n",
       "        [-2.1173e-01, -2.1173e-01, -2.1173e-01, -2.1173e-01, -2.1173e-01],\n",
       "        [-2.8021e-04, -2.8021e-04, -2.8021e-04, -2.8021e-04, -2.8021e-04]])"
      ]
     },
     "execution_count": 13,
     "metadata": {},
     "output_type": "execute_result"
    }
   ],
   "source": [
    "layer.weight.grad"
   ]
  },
  {
   "cell_type": "code",
   "execution_count": 3,
   "id": "536b1136",
   "metadata": {
    "hidden": true
   },
   "outputs": [],
   "source": [
    "from cephdataset import WeathBench7066PatchDataset"
   ]
  },
  {
   "cell_type": "code",
   "execution_count": 42,
   "id": "d4b8591f",
   "metadata": {
    "hidden": true
   },
   "outputs": [],
   "source": [
    "a=torch.randn(5,14)\n",
    "b=a.reshape(1,70)\n",
    "c=a.flatten(0,1)"
   ]
  },
  {
   "cell_type": "code",
   "execution_count": 43,
   "id": "8f34058e",
   "metadata": {
    "hidden": true
   },
   "outputs": [
    {
     "data": {
      "text/plain": [
       "tensor(0.)"
      ]
     },
     "execution_count": 43,
     "metadata": {},
     "output_type": "execute_result"
    }
   ],
   "source": [
    "torch.dist(b,c)"
   ]
  },
  {
   "cell_type": "code",
   "execution_count": 38,
   "id": "9c415308",
   "metadata": {
    "hidden": true
   },
   "outputs": [
    {
     "name": "stdout",
     "output_type": "stream",
     "text": [
      "use offline data mode <2>: train/valid/test use offline data\n",
      "use dataset in datasets/weatherbench_6hour\n",
      "load data from datasets/weatherbench_6hour/valid_2D70N.npy\n",
      "notice we will use around_index(28, 64, 2, 5, 5) to patch data\n"
     ]
    }
   ],
   "source": [
    "dataset_flag = \"2D70N\"\n",
    "flag = \"valid\"\n",
    "\n",
    "kargs={'dataset_flag':dataset_flag ,\n",
    " 'root': \"datasets/weatherbench_6hour\",\n",
    " 'mode': 'pretrain',\n",
    " 'time_step': 2,\n",
    " 'check_data': True,\n",
    " 'time_reverse_flag': 'only_forward',\n",
    " 'time_intervel': 1,\n",
    " 'cross_sample': 0,\n",
    " 'random_dataset': 0, \n",
    " 'use_offline_data':2,'with_idx':True,\n",
    " 'patch_range':5}\n",
    "dataset1 = WeathBench7066PatchDataset(split=flag,**kargs)"
   ]
  },
  {
   "cell_type": "code",
   "execution_count": 14,
   "id": "0e515bf9",
   "metadata": {
    "hidden": true
   },
   "outputs": [
    {
     "name": "stdout",
     "output_type": "stream",
     "text": [
      "0\n"
     ]
    },
    {
     "data": {
      "text/plain": [
       "torch.Size([70, 32, 64])"
      ]
     },
     "execution_count": 14,
     "metadata": {},
     "output_type": "execute_result"
    }
   ],
   "source": [
    "print(dataset1[0][0])\n",
    "dataset1[0][1][0].shape"
   ]
  },
  {
   "cell_type": "code",
   "execution_count": 39,
   "id": "847fca4a",
   "metadata": {
    "hidden": true
   },
   "outputs": [
    {
     "name": "stdout",
     "output_type": "stream",
     "text": [
      "use offline data mode <2>: train/valid/test use offline data\n",
      "use dataset in datasets/weatherbench_6hour\n",
      "load data from datasets/weatherbench_6hour/test_2D70N.npy\n",
      "notice we will use around_index(28, 64, 2, 5, 5) to patch data\n"
     ]
    }
   ],
   "source": [
    "dataset_flag = \"2D70N\"\n",
    "flag = \"test\"\n",
    "\n",
    "kargs={'dataset_flag':dataset_flag ,\n",
    " 'root': \"datasets/weatherbench_6hour\",\n",
    " 'mode': 'pretrain',\n",
    " 'time_step': 2,\n",
    " 'check_data': True,\n",
    " 'time_reverse_flag': 'only_forward',\n",
    " 'time_intervel': 1,\n",
    " 'cross_sample': 0,\n",
    " 'random_dataset': 0, \n",
    " 'use_offline_data':2,'with_idx':True,\n",
    " 'patch_range':5}\n",
    "dataset2 = WeathBench7066PatchDataset(split=flag,**kargs)"
   ]
  },
  {
   "cell_type": "code",
   "execution_count": 15,
   "id": "1617876f",
   "metadata": {
    "hidden": true
   },
   "outputs": [
    {
     "name": "stdout",
     "output_type": "stream",
     "text": [
      " 55 -> 0.009417231448110746\n",
      " 69 -> 0.025083986984419517\n"
     ]
    }
   ],
   "source": [
    "for idx,(a,b) in enumerate(zip(dataset1[0][1][0],dataset2[0][1][0])):\n",
    "    delta = torch.dist(a,b).item()\n",
    "    if delta > 1e-4:print(f\"{idx:3d} -> {delta}\")"
   ]
  },
  {
   "cell_type": "code",
   "execution_count": 41,
   "id": "b0cb9ce0",
   "metadata": {
    "hidden": true,
    "scrolled": false
   },
   "outputs": [
    {
     "data": {
      "text/plain": [
       "tensor(0.)"
      ]
     },
     "execution_count": 41,
     "metadata": {},
     "output_type": "execute_result"
    }
   ],
   "source": [
    "torch.dist(dataset1[0][1][0][55] - (dataset1[0][1][0][55][0][0]  - dataset2[0][1][0][55][0][0] ),dataset2[0][1][0][55])"
   ]
  },
  {
   "cell_type": "code",
   "execution_count": 34,
   "id": "19f492ea",
   "metadata": {
    "hidden": true,
    "scrolled": true
   },
   "outputs": [
    {
     "data": {
      "text/plain": [
       "tensor([-0.6394, -0.6394, -0.6394, -0.6394, -0.6394, -0.6394, -0.6394, -0.6394,\n",
       "        -0.6394, -0.6394, -0.6394, -0.6394, -0.6394, -0.6394, -0.6394, -0.6394,\n",
       "        -0.6394, -0.6394, -0.6394, -0.6394, -0.6394, -0.6394, -0.6394, -0.6394,\n",
       "        -0.6394, -0.6394, -0.6394, -0.6394, -0.6394, -0.6394, -0.6394, -0.6394,\n",
       "        -0.6394, -0.6394, -0.6394, -0.6394, -0.6394, -0.6394, -0.6394, -0.6394,\n",
       "        -0.6394, -0.6394, -0.6394, -0.6394, -0.6394, -0.6394, -0.6394, -0.6394,\n",
       "        -0.6394, -0.6394, -0.6394, -0.6394, -0.6394, -0.6394, -0.6394, -0.6394,\n",
       "        -0.6394, -0.6394, -0.6394, -0.6394, -0.6394, -0.6394, -0.6394, -0.6394],\n",
       "       dtype=torch.float64)"
      ]
     },
     "execution_count": 34,
     "metadata": {},
     "output_type": "execute_result"
    }
   ],
   "source": [
    "dataset1[0][1][0][55][0] "
   ]
  },
  {
   "cell_type": "code",
   "execution_count": 27,
   "id": "397f4a1c",
   "metadata": {
    "hidden": true,
    "scrolled": true
   },
   "outputs": [
    {
     "data": {
      "text/plain": [
       "tensor([[-0.6396, -0.6396, -0.6396,  ..., -0.6396, -0.6396, -0.6396],\n",
       "        [-0.6396, -0.6396, -0.6396,  ..., -0.6396, -0.6396, -0.6396],\n",
       "        [-0.6396, -0.6396, -0.6396,  ..., -0.6396, -0.6396, -0.6396],\n",
       "        ...,\n",
       "        [-0.6396, -0.6396, -0.6396,  ..., -0.6396, -0.6396, -0.6396],\n",
       "        [-0.6396, -0.6396, -0.6396,  ..., -0.6396, -0.6396, -0.6396],\n",
       "        [-0.6396, -0.6396, -0.6396,  ..., -0.6396, -0.6396, -0.6396]])"
      ]
     },
     "execution_count": 27,
     "metadata": {},
     "output_type": "execute_result"
    }
   ],
   "source": [
    "dataset2[0][1][0][55]"
   ]
  },
  {
   "cell_type": "code",
   "execution_count": 23,
   "id": "7160ce17",
   "metadata": {
    "hidden": true
   },
   "outputs": [
    {
     "data": {
      "text/plain": [
       "tensor(5.2915, dtype=torch.float64)"
      ]
     },
     "execution_count": 23,
     "metadata": {},
     "output_type": "execute_result"
    }
   ],
   "source": [
    "torch.dist(torch.round(dataset1[0][1][0],decimals=0),torch.round(dataset2[0][1][0],decimals=0))"
   ]
  },
  {
   "cell_type": "code",
   "execution_count": 6,
   "id": "6364e716",
   "metadata": {
    "hidden": true
   },
   "outputs": [
    {
     "data": {
      "text/plain": [
       "tensor(0.0268, dtype=torch.float64)"
      ]
     },
     "execution_count": 6,
     "metadata": {},
     "output_type": "execute_result"
    }
   ],
   "source": [
    "torch.dist(dataset1[0][0],dataset2[0][0])"
   ]
  },
  {
   "cell_type": "code",
   "execution_count": 13,
   "id": "58a8aef2",
   "metadata": {
    "hidden": true
   },
   "outputs": [],
   "source": [
    "data = dataset.dataset_tensor\n",
    "data = data*dataset.mean_std[1].reshape(1,110,1,1) + dataset.mean_std[0].reshape(1,110,1,1)"
   ]
  },
  {
   "cell_type": "code",
   "execution_count": 14,
   "id": "74df743c",
   "metadata": {
    "hidden": true
   },
   "outputs": [],
   "source": [
    "_component_list= ([58, 59, 60, 61, 62, 63, 64, 65, 66, 67, 68, 69, 70,  1]+ # u component of wind and the 10m u wind\n",
    "                    [71, 72, 73, 74, 75, 76, 77, 78, 79, 80, 81, 82, 83,  2] # v component of wind and the 10m v wind\n",
    ")"
   ]
  },
  {
   "cell_type": "code",
   "execution_count": 15,
   "id": "74f3bce4",
   "metadata": {
    "hidden": true
   },
   "outputs": [],
   "source": [
    "volecity = data[:,_component_list].reshape(1460,2,14,32,64)"
   ]
  },
  {
   "cell_type": "code",
   "execution_count": 17,
   "id": "2d1e0089",
   "metadata": {
    "hidden": true
   },
   "outputs": [],
   "source": [
    "sixhourvolecity = volecity*3.6"
   ]
  },
  {
   "cell_type": "code",
   "execution_count": 20,
   "id": "1409d042",
   "metadata": {
    "hidden": true
   },
   "outputs": [],
   "source": [
    "from mltool.visualization import *"
   ]
  },
  {
   "cell_type": "code",
   "execution_count": 21,
   "id": "bed189bb",
   "metadata": {
    "hidden": true
   },
   "outputs": [],
   "source": [
    "vdata =  sixhourvolecity[:,0].flatten().numpy()"
   ]
  },
  {
   "cell_type": "code",
   "execution_count": 23,
   "id": "33cb5022",
   "metadata": {
    "hidden": true
   },
   "outputs": [],
   "source": [
    "smoothhist(vdata)"
   ]
  },
  {
   "cell_type": "code",
   "execution_count": 24,
   "id": "5aea5835",
   "metadata": {
    "hidden": true
   },
   "outputs": [],
   "source": [
    "plt.show()"
   ]
  },
  {
   "cell_type": "code",
   "execution_count": 11,
   "id": "2a2c8c85",
   "metadata": {
    "hidden": true
   },
   "outputs": [],
   "source": [
    "center_h = np.random.randint(dataset.img_shape[-2] - (dataset.patch_range//2)*2) \n",
    "center_w = np.random.randint(dataset.img_shape[-1])"
   ]
  },
  {
   "cell_type": "code",
   "execution_count": 12,
   "id": "1b559e8a",
   "metadata": {
    "hidden": true
   },
   "outputs": [],
   "source": [
    "patch_idx_h, patch_idx_w = dataset.around_index[center_h, center_w]"
   ]
  },
  {
   "cell_type": "code",
   "execution_count": 13,
   "id": "52a7cc88",
   "metadata": {
    "hidden": true,
    "scrolled": true
   },
   "outputs": [
    {
     "data": {
      "text/plain": [
       "(28, 64, 2, 5, 5)"
      ]
     },
     "execution_count": 13,
     "metadata": {},
     "output_type": "execute_result"
    }
   ],
   "source": [
    "dataset.around_index.shape"
   ]
  },
  {
   "cell_type": "code",
   "execution_count": 14,
   "id": "6f23fe4c",
   "metadata": {
    "hidden": true
   },
   "outputs": [],
   "source": [
    "data = torch.arange(32*64).reshape(1,1,32,64)"
   ]
  },
  {
   "cell_type": "code",
   "execution_count": 16,
   "id": "b74acfd6",
   "metadata": {
    "hidden": true
   },
   "outputs": [
    {
     "data": {
      "text/plain": [
       "tensor([[[[368, 369, 370, 371, 372],\n",
       "          [432, 433, 434, 435, 436],\n",
       "          [496, 497, 498, 499, 500],\n",
       "          [560, 561, 562, 563, 564],\n",
       "          [624, 625, 626, 627, 628]]]])"
      ]
     },
     "execution_count": 16,
     "metadata": {},
     "output_type": "execute_result"
    }
   ],
   "source": [
    "data[...,patch_idx_h, patch_idx_w]"
   ]
  },
  {
   "cell_type": "code",
   "execution_count": 3,
   "id": "b3bfbad6",
   "metadata": {
    "hidden": true
   },
   "outputs": [],
   "source": [
    "import numpy as np"
   ]
  },
  {
   "cell_type": "code",
   "execution_count": 50,
   "id": "9d9c9929",
   "metadata": {
    "hidden": true
   },
   "outputs": [],
   "source": [
    "dataloader = torch.utils.data.DataLoader(dataset,batch_size=3)"
   ]
  },
  {
   "cell_type": "code",
   "execution_count": 58,
   "id": "8ddcff12",
   "metadata": {
    "code_folding": [
     0
    ],
    "hidden": true
   },
   "outputs": [],
   "source": [
    "class RandomSelectPatchFetcher:\n",
    "    def __init__(self,data_loader,device):\n",
    "        dataset = data_loader.dataset\n",
    "        assert dataset.use_offline_data  \n",
    "        self.data  = dataset.dataset_tensor #(B,70,32,64)\n",
    "        self.batch_size = data_loader.batch_size \n",
    "        self.patch_range= dataset.patch_range\n",
    "        self.img_shape  = dataset.img_shape\n",
    "        self.around_index = dataset.around_index\n",
    "        self.length = len(dataset)\n",
    "        self.time_step = dataset.time_step\n",
    "        self.device = device\n",
    "    def next(self):\n",
    "        center_h = np.random.randint(self.patch_range//2, self.img_shape[-2] - (self.patch_range//2)*2,size=(self.batch_size,)) \n",
    "        center_w = np.random.randint(self.img_shape[-1],size=(self.batch_size,))\n",
    "        patch_idx = self.around_index[center_h, center_w] #(B,2,5,5) \n",
    "        patch_idx_h = patch_idx[:,0]#(B,5,5)\n",
    "        patch_idx_w = patch_idx[:,1]#(B,5,5)\n",
    "        batch_idx = np.random.randint(self.length,size=(self.batch_size,)).reshape(self.batch_size,1,1) #(B,1,1)\n",
    "        return [self.data[batch_idx+i,:,patch_idx_h,patch_idx_w].to(self.device) for i in range(self.time_step)]"
   ]
  },
  {
   "cell_type": "code",
   "execution_count": 99,
   "id": "b6012360",
   "metadata": {
    "hidden": true
   },
   "outputs": [],
   "source": [
    "fetcher.data = torch.arange(8*2*32*64).reshape(8,2, 32, 64)"
   ]
  },
  {
   "cell_type": "code",
   "execution_count": 100,
   "id": "99b969b1",
   "metadata": {
    "hidden": true
   },
   "outputs": [],
   "source": [
    "# center_h = np.random.randint(fetcher.patch_range//2, fetcher.img_shape[-2] - (fetcher.patch_range//2)*2,size=(fetcher.batch_size)) \n",
    "# center_w = np.random.randint(fetcher.img_shape[-1],size=(fetcher.batch_size))\n",
    "center_h = np.array([1,2,4])\n",
    "center_w = np.array([2,2,4])\n",
    "patch_idx = fetcher.around_index[center_h, center_w] #(B,5,5) (B,5,5)\n",
    "patch_idx_h = patch_idx[:,0]\n",
    "patch_idx_w = patch_idx[:,1]\n",
    "batch_idx = batch_idx = np.array([1,2,3]).reshape(3,1,1)"
   ]
  },
  {
   "cell_type": "code",
   "execution_count": 101,
   "id": "8c58a7b2",
   "metadata": {
    "hidden": true
   },
   "outputs": [],
   "source": [
    "a,b = [fetcher.data[batch_idx+i,:,patch_idx_h,patch_idx_w].to(fetcher.device) for i in range(fetcher.time_step)]"
   ]
  },
  {
   "cell_type": "code",
   "execution_count": null,
   "id": "c735fbcb",
   "metadata": {
    "hidden": true
   },
   "outputs": [],
   "source": [
    "np.random.randint("
   ]
  },
  {
   "cell_type": "code",
   "execution_count": 37,
   "id": "2b592445",
   "metadata": {
    "hidden": true
   },
   "outputs": [],
   "source": [
    "batch_idx = np.stack([np.ones((5,5))*1,np.ones((5,5))*2])"
   ]
  },
  {
   "cell_type": "code",
   "execution_count": 42,
   "id": "01bbc4a5",
   "metadata": {
    "hidden": true
   },
   "outputs": [],
   "source": [
    "batch_idx = np.array([1,2]).reshape(2,1,1)"
   ]
  },
  {
   "cell_type": "code",
   "execution_count": 45,
   "id": "a9ca44b1",
   "metadata": {
    "hidden": true
   },
   "outputs": [
    {
     "data": {
      "text/plain": [
       "(2, 1, 1)"
      ]
     },
     "execution_count": 45,
     "metadata": {},
     "output_type": "execute_result"
    }
   ],
   "source": [
    "batch_idx.shape"
   ]
  },
  {
   "cell_type": "code",
   "execution_count": 23,
   "id": "7766c68f",
   "metadata": {
    "hidden": true
   },
   "outputs": [],
   "source": [
    "import torch"
   ]
  },
  {
   "cell_type": "code",
   "execution_count": 47,
   "id": "d422a42d",
   "metadata": {
    "hidden": true
   },
   "outputs": [
    {
     "data": {
      "text/plain": [
       "tensor(0.)"
      ]
     },
     "execution_count": 47,
     "metadata": {},
     "output_type": "execute_result"
    }
   ],
   "source": [
    "torch.dist(dataset_tensor[batch_idx,:,patch_idx_h, patch_idx_w][0],\n",
    "           dataset_tensor[batch_idx[0,0,0],:,patch_idx_h[0], patch_idx_w[0]].permute(1,2,0))"
   ]
  },
  {
   "cell_type": "code",
   "execution_count": 48,
   "id": "33f79a16",
   "metadata": {
    "hidden": true
   },
   "outputs": [
    {
     "data": {
      "text/plain": [
       "tensor(0.)"
      ]
     },
     "execution_count": 48,
     "metadata": {},
     "output_type": "execute_result"
    }
   ],
   "source": [
    "torch.dist(dataset_tensor[batch_idx,:,patch_idx_h, patch_idx_w][1],\n",
    "           dataset_tensor[batch_idx[1,0,0],:,patch_idx_h[1], patch_idx_w[1]].permute(1,2,0))"
   ]
  },
  {
   "cell_type": "code",
   "execution_count": 7,
   "id": "037b80cd",
   "metadata": {
    "hidden": true
   },
   "outputs": [
    {
     "data": {
      "text/plain": [
       "torch.Size([70, 5, 5])"
      ]
     },
     "execution_count": 7,
     "metadata": {},
     "output_type": "execute_result"
    }
   ],
   "source": []
  },
  {
   "cell_type": "code",
   "execution_count": 15,
   "id": "38cc8560",
   "metadata": {
    "hidden": true
   },
   "outputs": [],
   "source": [
    "def get_center_around_indexes(patch_range,img_shape):\n",
    "    hlist   = range(patch_range//2, img_shape[-2] - (patch_range//2))\n",
    "    wlist   = range(img_shape[-1])\n",
    "    xes,yes = np.meshgrid(hlist,wlist)\n",
    "    coor    = np.stack([xes,yes],-1).reshape(-1,2)\n",
    "    indexes = np.array([np.stack(get_patch_location_index([x,y],img_shape,patch_range)) for x,y in coor] )\n",
    "    indexes = indexes.reshape(len(wlist),len(hlist),2,patch_range,patch_range).transpose(1,0,2,3,4)\n",
    "    coor    = coor.reshape(len(wlist),len(hlist),2).transpose(2,1,0)\n",
    "    return coor, indexes"
   ]
  },
  {
   "cell_type": "markdown",
   "id": "fd10ca1b",
   "metadata": {
    "heading_collapsed": true
   },
   "source": [
    "# WeatherBench"
   ]
  },
  {
   "cell_type": "code",
   "execution_count": null,
   "id": "cb0008d4",
   "metadata": {
    "hidden": true
   },
   "outputs": [],
   "source": []
  },
  {
   "cell_type": "code",
   "execution_count": 2,
   "id": "4b334fa6",
   "metadata": {
    "hidden": true
   },
   "outputs": [],
   "source": [
    "import os\n",
    "import numpy as np"
   ]
  },
  {
   "cell_type": "code",
   "execution_count": 3,
   "id": "16e47289",
   "metadata": {
    "hidden": true
   },
   "outputs": [],
   "source": [
    "DATAROOT=\"/nvme/zhangtianning/datasets/weatherbench/weatherbench32x64\""
   ]
  },
  {
   "cell_type": "code",
   "execution_count": 4,
   "id": "94b23bd2",
   "metadata": {
    "hidden": true
   },
   "outputs": [],
   "source": [
    "years = os.listdir(DATAROOT)"
   ]
  },
  {
   "cell_type": "code",
   "execution_count": 4,
   "id": "b55f3116",
   "metadata": {
    "code_folding": [],
    "hidden": true
   },
   "outputs": [],
   "source": [
    "def init_file_list(years):\n",
    "    file_list = []\n",
    "    for year in years:\n",
    "        if year == 1979: # 1979年数据只有8753个，缺少第一天前7小时数据，所以这里我们从第二天开始算起\n",
    "            for hour in range(17, 8753, 1):\n",
    "                file_list.append([year, hour])\n",
    "        else:\n",
    "            if year % 4 == 0:\n",
    "                max_item = 8784\n",
    "            else:\n",
    "                max_item = 8760\n",
    "            for hour in range(0, max_item, 1):\n",
    "                file_list.append([year, hour])\n",
    "    return file_list"
   ]
  },
  {
   "cell_type": "code",
   "execution_count": 10,
   "id": "4cc9e22c",
   "metadata": {
    "hidden": true
   },
   "outputs": [],
   "source": [
    "yearhourslist=init_file_list([1979])"
   ]
  },
  {
   "cell_type": "code",
   "execution_count": 11,
   "id": "5d5ee856",
   "metadata": {
    "hidden": true
   },
   "outputs": [],
   "source": [
    "data = []\n",
    "for year, hour in yearhourslist:\n",
    "    url = f\"{DATAROOT}/{year}/{year}-{hour:04d}.npy\"\n",
    "    data.append(np.load(url))"
   ]
  },
  {
   "cell_type": "code",
   "execution_count": 12,
   "id": "e01ac26b",
   "metadata": {
    "hidden": true
   },
   "outputs": [],
   "source": [
    "data=np.stack(data)"
   ]
  },
  {
   "cell_type": "code",
   "execution_count": 13,
   "id": "21c9f676",
   "metadata": {
    "hidden": true
   },
   "outputs": [
    {
     "data": {
      "text/plain": [
       "(8736, 110, 32, 64)"
      ]
     },
     "execution_count": 13,
     "metadata": {},
     "output_type": "execute_result"
    }
   ],
   "source": [
    "data.shape"
   ]
  },
  {
   "cell_type": "code",
   "execution_count": 16,
   "id": "5209c12e",
   "metadata": {
    "hidden": true
   },
   "outputs": [],
   "source": [
    "multi_level_vnames = [\n",
    "    \"z\", \"t\", \"q\", \"r\", \"u\", \"v\", \"vo\", \"pv\",\n",
    "]\n",
    "single_level_vnames = [\n",
    "    \"t2m\", \"u10\", \"v10\", \"tcc\", \"tp\", \"tisr\",\n",
    "]\n",
    "long2shortname_dict = {\"geopotential\": \"z\", \n",
    "                       \"temperature\": \"t\", \n",
    "                       \"specific_humidity\": \"q\", \n",
    "                       \"relative_humidity\": \"r\", \n",
    "                       \"u_component_of_wind\": \"u\", \n",
    "                       \"v_component_of_wind\": \"v\", \n",
    "                       \"vorticity\": \"vo\", \n",
    "                       \"potential_vorticity\": \"pv\", \n",
    "                \"2m_temperature\": \"t2m\", \n",
    "                \"10m_u_component_of_wind\": \"u10\", \n",
    "                \"10m_v_component_of_wind\": \"v10\", \n",
    "                \"total_cloud_cover\": \"tcc\",\n",
    "                \"total_precipitation\": \"tp\", \n",
    "                \"toa_incident_solar_radiation\": \"tisr\"}\n",
    "constants = [\n",
    "    \"lsm\", \"slt\", \"orography\"\n",
    "]\n",
    "height_level = [50, 100, 150, 200, 250, 300, 400, 500, 600, 700, 850, 925, 1000]\n",
    "multi_level_dict_param = {\"z\":height_level, \"t\": height_level, \"q\": height_level, \"r\": height_level}\n"
   ]
  },
  {
   "cell_type": "code",
   "execution_count": 36,
   "id": "4523841d",
   "metadata": {
    "hidden": true
   },
   "outputs": [],
   "source": []
  },
  {
   "cell_type": "code",
   "execution_count": 37,
   "id": "2a4be570",
   "metadata": {
    "hidden": true
   },
   "outputs": [],
   "source": [
    "level_vnames = np.array(level_vnames)"
   ]
  },
  {
   "cell_type": "code",
   "execution_count": 38,
   "id": "4a5f69c4",
   "metadata": {
    "hidden": true
   },
   "outputs": [
    {
     "data": {
      "text/plain": [
       "array(['50hPa_geopotential', '50hPa_temperature',\n",
       "       '50hPa_specific_humidity', '50hPa_relative_humidity',\n",
       "       '50hPa_u_component_of_wind', '50hPa_v_component_of_wind',\n",
       "       '50hPa_vorticity', '50hPa_potential_vorticity'], dtype='<U27')"
      ]
     },
     "execution_count": 38,
     "metadata": {},
     "output_type": "execute_result"
    }
   ],
   "source": [
    "level_vnames.reshape(8,13)[:,0]"
   ]
  },
  {
   "cell_type": "code",
   "execution_count": 17,
   "id": "ae7e28d8",
   "metadata": {
    "hidden": true
   },
   "outputs": [],
   "source": [
    "heightdata = data[:,6:].reshape(8736, 8, 13, 32, 64)\n",
    "# heightdata[:,0] is geopotential          7.777e+04±5.952e+04 [-6.261e+03,2.081e+05] unit: m^2s^-2 \n",
    "# heightdata[:,1] is temperature           2.432e+02±2.882e+01 [ 1.776e+02,3.225e+02] unit: K\n",
    "# heightdata[:,2] is specific_humidity     1.771e-03±3.553e-03 [-6.156e-06,2.469e-02] unit: kg \n",
    "# heightdata[:,3] is relative_humidity     4.870e+01±3.626e+01 [-9.227e+00,1.782e+02] unit: %\n",
    "# heightdata[:,4] is u_component_of_wind   7.307e+00±1.409e+01 [-5.961e+01,1.117e+02] unit: ms^-1\n",
    "# heightdata[:,5] is v_component_of_wind   3.442e-02±9.212e+00 [-9.401e+01,9.645e+01] unit: ms^-1\n",
    "# heightdata[:,6] is vorticity            -2.492e-07±4.333e-05 [-1.153e-03,1.433e-03] unit:  \n",
    "# heightdata[:,7] is potential_vorticity  -1.363e-07±1.026e-05 [-2.604e-04,1.432e-04] unit:   "
   ]
  },
  {
   "cell_type": "code",
   "execution_count": 27,
   "id": "5c40934a",
   "metadata": {
    "hidden": true,
    "scrolled": false
   },
   "outputs": [
    {
     "name": "stdout",
     "output_type": "stream",
     "text": [
      "7.777e+04±5.952e+04 [-6.261e+03,2.081e+05]\n",
      "2.432e+02±2.882e+01 [1.776e+02,3.225e+02]\n",
      "1.771e-03±3.553e-03 [-6.156e-06,2.469e-02]\n",
      "4.870e+01±3.626e+01 [-9.227e+00,1.782e+02]\n",
      "7.307e+00±1.409e+01 [-5.961e+01,1.117e+02]\n",
      "3.442e-02±9.212e+00 [-9.401e+01,9.645e+01]\n",
      "-2.492e-07±4.333e-05 [-1.153e-03,1.433e-03]\n",
      "-1.363e-07±1.026e-05 [-2.604e-04,1.432e-04]\n"
     ]
    }
   ],
   "source": [
    "for i in range(8):\n",
    "    data = heightdata[:,i]\n",
    "    print(f\"{data.mean():.3e}±{data.std():.3e} [{data.min():.3e},{data.max():.3e}]\")"
   ]
  },
  {
   "cell_type": "code",
   "execution_count": 29,
   "id": "d320279a",
   "metadata": {
    "hidden": true
   },
   "outputs": [],
   "source": [
    "from cephdataset import BaseDataset"
   ]
  },
  {
   "cell_type": "code",
   "execution_count": 39,
   "id": "f1983597",
   "metadata": {
    "hidden": true
   },
   "outputs": [],
   "source": [
    "mean_std_info = np.load(\"/nvme/zhangtianning/datasets/weatherbench/weatherbench32x64/mean_std.npy\")"
   ]
  },
  {
   "cell_type": "code",
   "execution_count": 46,
   "id": "1f7ff8a7",
   "metadata": {
    "hidden": true
   },
   "outputs": [
    {
     "data": {
      "text/plain": [
       "array([10.27698228, 12.52860717,  8.92840926,  7.19445705,  8.53572232,\n",
       "       10.71944056, 12.69260423, 13.06556828, 13.42290514, 14.77465358,\n",
       "       15.58016255, 16.0798523 , 17.11261468])"
      ]
     },
     "execution_count": 46,
     "metadata": {},
     "output_type": "execute_result"
    }
   ],
   "source": [
    "mean_std_info[1][6:].reshape(8,13)[1]"
   ]
  },
  {
   "cell_type": "code",
   "execution_count": 47,
   "id": "f34bd3fd",
   "metadata": {
    "hidden": true,
    "scrolled": true
   },
   "outputs": [
    {
     "data": {
      "text/plain": [
       "array([212.46681965, 208.3921226 , 213.31250125, 218.05583224,\n",
       "       222.77171537, 228.87366884, 242.14303417, 252.95490299,\n",
       "       261.14155898, 267.39864117, 274.56928968, 277.35748774,\n",
       "       281.01954037])"
      ]
     },
     "execution_count": 47,
     "metadata": {},
     "output_type": "execute_result"
    }
   ],
   "source": [
    "mean_std_info[0][6:].reshape(8,13)[1]"
   ]
  },
  {
   "cell_type": "code",
   "execution_count": 52,
   "id": "b04875f3",
   "metadata": {
    "hidden": true
   },
   "outputs": [],
   "source": [
    "a=np.random.randn(110,2,3)"
   ]
  },
  {
   "cell_type": "code",
   "execution_count": 57,
   "id": "9e2d4f58",
   "metadata": {
    "hidden": true
   },
   "outputs": [
    {
     "data": {
      "text/plain": [
       "(8, 1, 1)"
      ]
     },
     "execution_count": 57,
     "metadata": {},
     "output_type": "execute_result"
    }
   ],
   "source": [
    "b[6:].reshape(8,13,1,1).mean(1).shape"
   ]
  },
  {
   "cell_type": "code",
   "execution_count": 61,
   "id": "fc0a73ce",
   "metadata": {
    "hidden": true
   },
   "outputs": [
    {
     "ename": "ValueError",
     "evalue": "operands could not be broadcast together with shapes (110,2,3) (110,) ",
     "output_type": "error",
     "traceback": [
      "\u001b[0;31m---------------------------------------------------------------------------\u001b[0m",
      "\u001b[0;31mValueError\u001b[0m                                Traceback (most recent call last)",
      "Input \u001b[0;32mIn [61]\u001b[0m, in \u001b[0;36m<cell line: 3>\u001b[0;34m()\u001b[0m\n\u001b[1;32m      1\u001b[0m b\u001b[38;5;241m=\u001b[39mnp\u001b[38;5;241m.\u001b[39mrandom\u001b[38;5;241m.\u001b[39mrandn(\u001b[38;5;241m110\u001b[39m)\n\u001b[1;32m      2\u001b[0m c\u001b[38;5;241m=\u001b[39mnp\u001b[38;5;241m.\u001b[39mrandom\u001b[38;5;241m.\u001b[39mrandn(\u001b[38;5;241m110\u001b[39m)\n\u001b[0;32m----> 3\u001b[0m ((\u001b[43ma\u001b[49m\u001b[38;5;241;43m-\u001b[39;49m\u001b[43mb\u001b[49m)\u001b[38;5;241m/\u001b[39mc)\u001b[38;5;241m.\u001b[39mshape\n",
      "\u001b[0;31mValueError\u001b[0m: operands could not be broadcast together with shapes (110,2,3) (110,) "
     ]
    }
   ],
   "source": [
    "b=np.random.randn(110)\n",
    "c=np.random.randn(110)\n",
    "((a-b)/c).shape"
   ]
  },
  {
   "cell_type": "code",
   "execution_count": 60,
   "id": "a723115b",
   "metadata": {
    "hidden": true
   },
   "outputs": [
    {
     "data": {
      "text/plain": [
       "(110, 2, 3)"
      ]
     },
     "execution_count": 60,
     "metadata": {},
     "output_type": "execute_result"
    }
   ],
   "source": [
    "a[:].shape"
   ]
  },
  {
   "cell_type": "code",
   "execution_count": 108,
   "id": "6519b0ff",
   "metadata": {
    "code_folding": [
     0,
     22,
     43,
     45,
     108
    ],
    "hidden": true
   },
   "outputs": [],
   "source": [
    "class WeathBench(BaseDataset):\n",
    "    yeas_split={'train':range(1979, 2016),\n",
    "                'valid':range(2016, 2018),\n",
    "                 'test':range(2018,2022),\n",
    "                'all': range(1979, 2022),\n",
    "                'debug':range(1979,1980)}\n",
    "    single_vnames = [\"2m_temperature\", \n",
    "                      \"10m_u_component_of_wind\", \n",
    "                      \"10m_v_component_of_wind\", \n",
    "                      \"total_cloud_cover\",\n",
    "                      \"total_precipitation\", \n",
    "                      \"toa_incident_solar_radiation\"]\n",
    "    level_vnames= []\n",
    "    for physics_name in [\"geopotential\", \"temperature\",\n",
    "                         \"specific_humidity\",\"relative_humidity\",\n",
    "                         \"u_component_of_wind\",\"v_component_of_wind\",\n",
    "                         \"vorticity\",\"potential_vorticity\"]:\n",
    "        for pressure_level in [50, 100, 150, 200, 250, 300, 400, 500, 600, 700, 850, 925, 1000]:\n",
    "            level_vnames.append(f\"{pressure_level}hPa_{physics_name}\")\n",
    "    all_vnames = single_vnames + level_vnames\n",
    "    \n",
    "    @staticmethod\n",
    "    def init_file_list(years):\n",
    "        file_list = []\n",
    "        for year in years:\n",
    "            if year == 1979: # 1979年数据只有8753个，缺少第一天前7小时数据，所以这里我们从第二天开始算起\n",
    "                for hour in range(17, 8753, 1):\n",
    "                    file_list.append([year, hour])\n",
    "            else:\n",
    "                if year % 4 == 0:\n",
    "                    max_item = 8784\n",
    "                else:\n",
    "                    max_item = 8760\n",
    "                for hour in range(0, max_item, 1):\n",
    "                    file_list.append([year, hour])\n",
    "        return file_list\n",
    "\n",
    "    def __init__(self, split=\"train\", mode='pretrain', channel_last=True, check_data=True,\n",
    "                 root='datasets/weatherbench', time_step=2,\n",
    "                 with_idx=False,\n",
    "                 years=None, \n",
    "                 dataset_flag='normal',\n",
    "                 **kargs):\n",
    "        if years is None:\n",
    "            years = self.yeas_split[split]\n",
    "        else:\n",
    "            print(f\"you are using flag={split}, the default range is {list(self.yeas_split[split])}\")\n",
    "            print(f\"noice you assign your own year list {list(years)}\")\n",
    "\n",
    "        self.root             = root\n",
    "        self.single_data_path_list = self.init_file_list(years) # [[year,idx],[year,idx],.....]\n",
    "        self.dataset_flag     = dataset_flag\n",
    "        self.clim_tensor      = 0\n",
    "        self.mean_std         = np.load(os.path.join(root,\"mean_std.npy\"))\n",
    "        \n",
    "        self.mode             = mode\n",
    "        self.channel_last     = channel_last\n",
    "        self.with_idx         = with_idx\n",
    "        self.error_path       = []\n",
    "        self.time_step        = time_step\n",
    "        self.dataset_flag     = dataset_flag\n",
    "        \n",
    "    \n",
    "        config_pool = self.config_pool\n",
    "        \n",
    "        if dataset_flag in config_pool:\n",
    "            self.channel_choice, self.normalize_type, mean_std, self.do_normlize_data , self.inv_normlize_data = config_pool[dataset_flag]\n",
    "            self.mean,self.std = mean_std\n",
    "            self.vname= [self.all_vnames[i] for i in self.channel_choice]\n",
    "        else:\n",
    "            raise NotImplementedErrorl\n",
    "            \n",
    "    @property\n",
    "    def config_pool(self):\n",
    "        config_pool={\n",
    "            \n",
    "            '2D110N': (list(range(110))  ,'gauss_norm'   , self.mean_std.reshape(2,110,1,1)      , lambda x:x, lambda x:x ),\n",
    "            '2D110U': (list(range(110))  ,'unit_norm'    , self.mean_std.reshape(2,110,1,1)      , lambda x:x, lambda x:x ),\n",
    "            '2D104N': (list(range(6,110)),'gauss_norm'   , self.mean_std[:,6:].reshape(2,104,1,1), lambda x:x, lambda x:x ),\n",
    "            '2D104U': (list(range(6,110)),'unit_norm'    , self.mean_std[:,6:].reshape(2,104,1,1), lambda x:x, lambda x:x ),\n",
    "            '3D104N': (list(range(6,110)),'gauss_norm_3D', self.mean_std[:,6:].reshape(2,8,13,1,1,1).mean(2), lambda x:x, lambda x:x ),\n",
    "            '3D104U': (list(range(6,110)),'unit_norm_3D' , self.mean_std[:,6:].reshape(2,8,13,1,1,1).mean(2), lambda x:x, lambda x:x ),\n",
    "        }\n",
    "        def do_batch_normlize(batch,mean,std):\n",
    "            if isinstance(batch,list):\n",
    "                return [(x-mean/std) for x in batch]\n",
    "            else:\n",
    "                return batch-mean/std\n",
    "        \n",
    "        def inv_batch_normlize(batch,mean,std):\n",
    "            if isinstance(batch,list):\n",
    "                return [(x*std+mean) for x in batch]\n",
    "            else:\n",
    "                return batch*std+mean\n",
    "        \n",
    "        mean, std = self.mean_std.reshape(2,110,1,1)\n",
    "        config_pool['2D110O'] =(list(range(110))  ,'none', (0,1) , lambda x:do_batch_normlize(x,mean,std), \n",
    "                                                                   lambda x:inv_batch_normlize(x,mean,std))\n",
    "        \n",
    "        mean, std = self.mean_std[:,6:].reshape(2,104,1,1)\n",
    "        config_pool['2D104O'] =(list(range(6,110)),'none', (0,1) , lambda x:do_batch_normlize(x,mean,std), \n",
    "                                                                   lambda x:inv_batch_normlize(x,mean,std))\n",
    "        \n",
    "        mean, std = self.mean_std[:,6:].reshape(2,8,13,1,1,1).mean(2)\n",
    "        config_pool['3D104O'] =(list(range(6,110))  ,'3D', (0,1) , lambda x:do_batch_normlize(x,mean,std), \n",
    "                                                                   lambda x:inv_batch_normlize(x,mean,std))\n",
    "        return config_pool\n",
    "    \n",
    "    def __len__(self):\n",
    "        return len(self.yeas_split) - self.time_step + 1\n",
    " \n",
    "    def get_item(self,idx):\n",
    "        year, hour = self.single_data_path_list[idx]\n",
    "        url = f\"{self.root}/{year}/{year}-{hour:04d}.npy\"\n",
    "        data= np.load(url)[self.channel_choice]\n",
    "        if '3D' in self.normalize_type:\n",
    "            shape= data.shape\n",
    "            data = data.reshape(8,13,*shape[-2:])\n",
    "        if 'gauss_norm' in self.normalize_type:\n",
    "            return (data - self.mean)/self.std\n",
    "        elif 'unit_norm' in self.normalize_type:\n",
    "            return data/self.std\n",
    "        else:\n",
    "            return data\n",
    "        \n"
   ]
  },
  {
   "cell_type": "code",
   "execution_count": 109,
   "id": "ea987bed",
   "metadata": {
    "hidden": true
   },
   "outputs": [],
   "source": [
    "dataset = WeathBench(split='debug',dataset_flag='3D104O')"
   ]
  },
  {
   "cell_type": "code",
   "execution_count": 111,
   "id": "bd52652e",
   "metadata": {
    "hidden": true
   },
   "outputs": [
    {
     "data": {
      "text/plain": [
       "(8, 13, 32, 64)"
      ]
     },
     "execution_count": 111,
     "metadata": {},
     "output_type": "execute_result"
    }
   ],
   "source": [
    "dataset[0][0].shape"
   ]
  },
  {
   "cell_type": "markdown",
   "id": "7bb8c6a8",
   "metadata": {
    "heading_collapsed": true,
    "hidden": true
   },
   "source": [
    "#### analyze the drive information"
   ]
  },
  {
   "cell_type": "code",
   "execution_count": 90,
   "id": "a5e4ba6a",
   "metadata": {
    "hidden": true
   },
   "outputs": [],
   "source": [
    "import torch\n",
    "import numpy as np\n",
    "import torch\n",
    "import torch.nn as nn\n",
    "import torch.nn.functional as F\n",
    "import torch\n",
    "import os\n",
    "os.environ[\"CUDA_VISIBLE_DEVICES\"] = \"7\"\n",
    "def Drive(x,position=-1,dim=3,mode='circular'):\n",
    "    expandQ=False\n",
    "    if len(x.shape) == dim + 1 and x.shape[1]!=1:\n",
    "        x = x.unsqueeze(1)\n",
    "        expandQ = True\n",
    "    conv_engine = [torch.conv1d, torch.conv2d, torch.conv3d][dim-1]\n",
    "    weight = torch.Tensor([1/12, -8/12, 0, 8/12, -1/12]).cuda()\n",
    "    weight = weight[(None,)*(dim + 1)].transpose(position,-1)\n",
    "    pad_num = 2\n",
    "    padtuple = [0]*dim*2\n",
    "    padtuple[(-position-1)*2]   = pad_num\n",
    "    padtuple[(-position-1)*2+1] = pad_num\n",
    "    padtuple = tuple(padtuple)\n",
    "    x = conv_engine(F.pad(x, padtuple, mode=mode), weight)\n",
    "    return x.squeeze(1) if expandQ else x\n",
    "\n",
    "Dx = lambda x:Drive(x,position=-1,dim=3,mode='circular')\n",
    "Dy = lambda x:Drive(x,position=-2,dim=3,mode='replicate')\n",
    "Dz = lambda x:Drive(x,position=-3,dim=3,mode='replicate')"
   ]
  },
  {
   "cell_type": "code",
   "execution_count": 162,
   "id": "c0ff39f7",
   "metadata": {
    "hidden": true
   },
   "outputs": [],
   "source": [
    "real_vorticity=heightdata[:,6:7]"
   ]
  },
  {
   "cell_type": "code",
   "execution_count": 163,
   "id": "3b1bc992",
   "metadata": {
    "hidden": true
   },
   "outputs": [
    {
     "data": {
      "text/plain": [
       "(8736, 1, 13, 32, 64)"
      ]
     },
     "execution_count": 163,
     "metadata": {},
     "output_type": "execute_result"
    }
   ],
   "source": [
    "real_vorticity.shape"
   ]
  },
  {
   "cell_type": "code",
   "execution_count": 134,
   "id": "bf0a7aac",
   "metadata": {
    "hidden": true
   },
   "outputs": [],
   "source": [
    "UVTPdata = heightdata[:,[4,5,1,0]]\n",
    "year_data = torch.Tensor(UVTPdata).cuda()\n",
    "u = year_data[:, 0:1]  # (Batch, 1, z, y ,x)\n",
    "v = year_data[:, 1:2]  # (Batch, 1, z, y ,x)\n",
    "T = year_data[:, 2:3]  # (Batch, 1, z, y ,x)\n",
    "p = year_data[:, 3:4]  # (Batch, 1, z, y ,x)\n",
    "V = torch.cat([u, v], 1)  # (Batch, 3, z, y ,x)\n",
    "Nabla_cdot_V    = (Dx(u[:, 0]) + Dy(v[:, 0])).unsqueeze(1)  # (Batch, 1, z, y ,x)\n",
    "Vphysics        = torch.stack([V*u, V*v, V*T, V*p], 1)\n",
    "Vphysics_dx     = Dx(Vphysics[:, :, 0].flatten(0, 1)).reshape(year_data.shape)  # (Batch, 4, z, y ,x)\n",
    "Vphysics_dy     = Dy(Vphysics[:, :, 1].flatten(0, 1)).reshape(year_data.shape)  # (Batch, 4, z, y ,x)\n",
    "Field_dx        = Dx(year_data.flatten(0,1)).reshape(year_data.shape)#(Batch, 4, z, y ,x)\n",
    "Field_dy        = Dy(year_data.flatten(0,1)).reshape(year_data.shape)#(Batch, 4, z, y ,x)\n",
    "Field_dz        = Dz(year_data.flatten(0,1)).reshape(year_data.shape)#(Batch, 4, z, y ,x)\n",
    "InteractionPart = torch.stack([Dx(p[:, 0]),Dy(p[:, 0])], 1)  # (Batch,2, z, y ,x)"
   ]
  },
  {
   "cell_type": "code",
   "execution_count": 135,
   "id": "8cbff2c9",
   "metadata": {
    "hidden": true
   },
   "outputs": [],
   "source": [
    "ct=2\n",
    "year_data       = year_data.cpu().numpy()[...,ct:-ct,:]      \n",
    "Nabla_cdot_V    = Nabla_cdot_V.cpu().numpy()[...,ct:-ct,:]   \n",
    "Vphysics        = Vphysics.cpu().numpy()[...,ct:-ct,:]\n",
    "\n",
    "Vphysics_dx     = Vphysics_dx.cpu().numpy()[...,ct:-ct,:]\n",
    "\n",
    "Vphysics_dy     = Vphysics_dy.cpu().numpy()[...,ct:-ct,:]    \n",
    "Field_dx        = Field_dx.cpu().numpy()[...,ct:-ct,:]       \n",
    "Field_dy        = Field_dy.cpu().numpy()[...,ct:-ct,:]       \n",
    "Field_dz        = Field_dz.cpu().numpy()[...,ct:-ct,:]\n",
    "InteractionPart = InteractionPart.cpu().numpy()[...,ct:-ct,:]"
   ]
  },
  {
   "cell_type": "code",
   "execution_count": 140,
   "id": "b417ef90",
   "metadata": {
    "hidden": true
   },
   "outputs": [],
   "source": [
    "Delta= ((year_data[1:]-year_data[:-1])/delta_time)"
   ]
  },
  {
   "cell_type": "code",
   "execution_count": 147,
   "id": "b3d729f9",
   "metadata": {
    "hidden": true
   },
   "outputs": [],
   "source": [
    "delta_time=(1*3600)\n",
    "Hdx = 6371000*np.sin(np.linspace(0,np.pi,32))*2*np.pi/64.0\n",
    "Hdx = Hdx.reshape(1,1,1,32,1)[...,ct:-ct,:]\n",
    "Hdy = 6371000*np.pi/32.0\n",
    "Omega = 2*np.pi/(24*3600)\n",
    "omg   = 2*Omega*np.sin(np.linspace(0,np.pi,32)).reshape(1,1,32,1)[...,ct:-ct,:]\n"
   ]
  },
  {
   "cell_type": "code",
   "execution_count": null,
   "id": "77ef0e9a",
   "metadata": {
    "hidden": true
   },
   "outputs": [],
   "source": [
    "Vphysics_dx    = Vphysics_dx/Hdx\n",
    "Vphysics_dy    = Vphysics_dy/Hdy\n",
    "Field_dx       = Field_dx/Hdx\n",
    "Field_dy       = Field_dy/Hdy\n",
    "Field          = year_data\n",
    "Nabla_cdot_V   = Field_dx[:,0:1] + Field_dy[:,1:2]\n",
    "Nabla_V_Field  = Nabla_cdot_V*Field #(Batch, 4, z, y ,x)\n",
    "\n",
    "InteractionPart=np.concatenate([\n",
    "    InteractionPart[:,0:1]/Hdx,\n",
    "    InteractionPart[:,1:2]/Hdy\n",
    " ],1)\n",
    "\n",
    "PhysicsPart    = -Vphysics_dx - Vphysics_dy  + Nabla_V_Field #(Batch,4,z, y ,x)\n",
    "Pure_Physics   = PhysicsPart[:,:2] - InteractionPart\n",
    "\n",
    "Residual_Part  =  Delta[:,:2] - Pure_Physics[:-1]\n",
    "Residual_Part2 = Delta[:,:2] - PhysicsPart[:-1][:,:2]"
   ]
  },
  {
   "cell_type": "code",
   "execution_count": 148,
   "id": "4e96ca2a",
   "metadata": {
    "hidden": true
   },
   "outputs": [],
   "source": [
    "Fcols = np.stack([omg*Field[:,1],\n",
    "                 -omg*Field[:,0]\n",
    "                 ],\n",
    "                 1)\n",
    "vorticity = Field_dx[:,1:2] - Field_dy[:,:1]"
   ]
  },
  {
   "cell_type": "code",
   "execution_count": 156,
   "id": "5beb41f0",
   "metadata": {
    "hidden": true
   },
   "outputs": [],
   "source": [
    "Residual_Part3 = Delta[:,:2] - PhysicsPart[:-1][:,:2] - Fcols[:-1]"
   ]
  },
  {
   "cell_type": "code",
   "execution_count": 158,
   "id": "2232023b",
   "metadata": {
    "hidden": true
   },
   "outputs": [
    {
     "data": {
      "text/plain": [
       "(8735, 2, 13, 28, 64)"
      ]
     },
     "execution_count": 158,
     "metadata": {},
     "output_type": "execute_result"
    }
   ],
   "source": [
    "Residual_Part3.shape"
   ]
  },
  {
   "cell_type": "code",
   "execution_count": null,
   "id": "12c1586a",
   "metadata": {
    "code_folding": [],
    "hidden": true
   },
   "outputs": [],
   "source": [
    "record={}"
   ]
  },
  {
   "cell_type": "code",
   "execution_count": 164,
   "id": "9b930015",
   "metadata": {
    "code_folding": [],
    "hidden": true,
    "scrolled": true
   },
   "outputs": [
    {
     "name": "stdout",
     "output_type": "stream",
     "text": [
      "real_vorticity-> mean:[-2.4919368e-07] \n",
      "                      -> std:[4.332798e-05]\n"
     ]
    }
   ],
   "source": [
    "names = [\n",
    "    \"Field\",\"Delta\",\n",
    "    \"Vphysics_dx\",\"Vphysics_dy\",\n",
    "    \"Field_dx\",\"Field_dy\",\n",
    "    \"PhysicsPart\",\"InteractionPart\",\n",
    "    \"Pure_Physics\",\n",
    "    \"Residual_Part\",\n",
    "    \"Residual_Part2\",\n",
    "    \"Residual_Part3\",\n",
    "    \"Nabla_V_Field\",\n",
    "    \"Nabla_cdot_V\",\n",
    "    \"Fcols\",\"vorticity\",\"real_vorticity\"\n",
    "]\n",
    "datas= [\n",
    "    Field,Delta,\n",
    "    Vphysics_dx    ,Vphysics_dy    ,\n",
    "    Field_dx       ,Field_dy       ,\n",
    "    PhysicsPart    ,InteractionPart,\n",
    "    Pure_Physics,\n",
    "    Residual_Part,\n",
    "    Residual_Part2,\n",
    "    Residual_Part3,\n",
    "    Nabla_V_Field,\n",
    "    Nabla_cdot_V,\n",
    "    Fcols,vorticity,real_vorticity\n",
    "]\n",
    "\n",
    "for name, data in zip(names,datas):\n",
    "    if name not in record:\n",
    "        print(f\"{name}\",end=\"\")\n",
    "        record[name]={'mean':data.mean(axis=(0,2,3,4)),'std':data.std(axis=(0,2,3,4))}\n",
    "        means = record[name]['mean']\n",
    "        stds  = record[name]['std']\n",
    "        print(f\"\"\"-> mean:{means} \n",
    "                      -> std:{stds}\"\"\")"
   ]
  },
  {
   "cell_type": "code",
   "execution_count": 153,
   "id": "499120db",
   "metadata": {
    "code_folding": [
     1
    ],
    "hidden": true
   },
   "outputs": [],
   "source": [
    "import pandas as pd\n",
    "def show_record(record):\n",
    "    table={}\n",
    "    item_names = ['u','v','T','phi']\n",
    "    for name, val in record.items():\n",
    "        table[name]={}\n",
    "        means = record[name]['mean']\n",
    "        stds  = record[name]['std']\n",
    "        scale = 1 if name in ['Field'] else delta_time\n",
    "        for item_name, val in zip(item_names,means):\n",
    "            table[name][item_name+'.mean']=val*scale\n",
    "        for item_name, val in zip(item_names,stds):\n",
    "            table[name][item_name+'.std']=val*scale\n",
    "    df= pd.DataFrame(data=table).transpose()\n",
    "    return df"
   ]
  },
  {
   "cell_type": "code",
   "execution_count": 165,
   "id": "f049231b",
   "metadata": {
    "hidden": true,
    "scrolled": false
   },
   "outputs": [
    {
     "data": {
      "text/html": [
       "<div>\n",
       "<style scoped>\n",
       "    .dataframe tbody tr th:only-of-type {\n",
       "        vertical-align: middle;\n",
       "    }\n",
       "\n",
       "    .dataframe tbody tr th {\n",
       "        vertical-align: top;\n",
       "    }\n",
       "\n",
       "    .dataframe thead th {\n",
       "        text-align: right;\n",
       "    }\n",
       "</style>\n",
       "<table border=\"1\" class=\"dataframe\">\n",
       "  <thead>\n",
       "    <tr style=\"text-align: right;\">\n",
       "      <th></th>\n",
       "      <th>u.mean</th>\n",
       "      <th>v.mean</th>\n",
       "      <th>T.mean</th>\n",
       "      <th>phi.mean</th>\n",
       "      <th>u.std</th>\n",
       "      <th>v.std</th>\n",
       "      <th>T.std</th>\n",
       "      <th>phi.std</th>\n",
       "    </tr>\n",
       "  </thead>\n",
       "  <tbody>\n",
       "    <tr>\n",
       "      <th>Field</th>\n",
       "      <td>8.201371e+00</td>\n",
       "      <td>2.354707e-02</td>\n",
       "      <td>2.448318e+02</td>\n",
       "      <td>7.838273e+04</td>\n",
       "      <td>14.507908</td>\n",
       "      <td>9.343637</td>\n",
       "      <td>29.523876</td>\n",
       "      <td>59775.492188</td>\n",
       "    </tr>\n",
       "    <tr>\n",
       "      <th>Delta</th>\n",
       "      <td>-3.732116e-05</td>\n",
       "      <td>7.484815e-06</td>\n",
       "      <td>-1.832329e-05</td>\n",
       "      <td>-5.276844e-03</td>\n",
       "      <td>1.026204</td>\n",
       "      <td>1.161194</td>\n",
       "      <td>0.363488</td>\n",
       "      <td>54.075617</td>\n",
       "    </tr>\n",
       "    <tr>\n",
       "      <th>Vphysics_dx</th>\n",
       "      <td>3.734938e-10</td>\n",
       "      <td>-6.960626e-13</td>\n",
       "      <td>2.869646e-09</td>\n",
       "      <td>9.214287e-07</td>\n",
       "      <td>1.855312</td>\n",
       "      <td>1.493355</td>\n",
       "      <td>10.790954</td>\n",
       "      <td>3859.415951</td>\n",
       "    </tr>\n",
       "    <tr>\n",
       "      <th>Vphysics_dy</th>\n",
       "      <td>-1.480541e-03</td>\n",
       "      <td>6.803644e-03</td>\n",
       "      <td>2.462913e-03</td>\n",
       "      <td>2.317257e+00</td>\n",
       "      <td>0.975709</td>\n",
       "      <td>0.868165</td>\n",
       "      <td>7.980132</td>\n",
       "      <td>3065.469861</td>\n",
       "    </tr>\n",
       "    <tr>\n",
       "      <th>Field_dx</th>\n",
       "      <td>1.247434e-11</td>\n",
       "      <td>6.267945e-13</td>\n",
       "      <td>7.215006e-10</td>\n",
       "      <td>-8.222842e-08</td>\n",
       "      <td>0.045488</td>\n",
       "      <td>0.064991</td>\n",
       "      <td>0.021729</td>\n",
       "      <td>3.868402</td>\n",
       "    </tr>\n",
       "    <tr>\n",
       "      <th>Field_dy</th>\n",
       "      <td>-3.635847e-05</td>\n",
       "      <td>6.626519e-06</td>\n",
       "      <td>1.555334e-03</td>\n",
       "      <td>7.756011e-01</td>\n",
       "      <td>0.054674</td>\n",
       "      <td>0.033686</td>\n",
       "      <td>0.021468</td>\n",
       "      <td>5.934148</td>\n",
       "    </tr>\n",
       "    <tr>\n",
       "      <th>PhysicsPart</th>\n",
       "      <td>9.840739e-04</td>\n",
       "      <td>-8.964073e-03</td>\n",
       "      <td>-3.742610e-03</td>\n",
       "      <td>1.355049e+00</td>\n",
       "      <td>1.115019</td>\n",
       "      <td>1.388372</td>\n",
       "      <td>0.307361</td>\n",
       "      <td>42.581459</td>\n",
       "    </tr>\n",
       "    <tr>\n",
       "      <th>InteractionPart</th>\n",
       "      <td>-8.222842e-08</td>\n",
       "      <td>7.755988e-01</td>\n",
       "      <td>NaN</td>\n",
       "      <td>NaN</td>\n",
       "      <td>3.868402</td>\n",
       "      <td>5.934150</td>\n",
       "      <td>NaN</td>\n",
       "      <td>NaN</td>\n",
       "    </tr>\n",
       "    <tr>\n",
       "      <th>Pure_Physics</th>\n",
       "      <td>9.841561e-04</td>\n",
       "      <td>-7.845629e-01</td>\n",
       "      <td>NaN</td>\n",
       "      <td>NaN</td>\n",
       "      <td>4.082669</td>\n",
       "      <td>6.212251</td>\n",
       "      <td>NaN</td>\n",
       "      <td>NaN</td>\n",
       "    </tr>\n",
       "    <tr>\n",
       "      <th>Residual_Part</th>\n",
       "      <td>-1.022069e-03</td>\n",
       "      <td>7.846938e-01</td>\n",
       "      <td>NaN</td>\n",
       "      <td>NaN</td>\n",
       "      <td>4.099126</td>\n",
       "      <td>6.223415</td>\n",
       "      <td>NaN</td>\n",
       "      <td>NaN</td>\n",
       "    </tr>\n",
       "    <tr>\n",
       "      <th>Residual_Part2</th>\n",
       "      <td>-1.021986e-03</td>\n",
       "      <td>8.972022e-03</td>\n",
       "      <td>NaN</td>\n",
       "      <td>NaN</td>\n",
       "      <td>1.323144</td>\n",
       "      <td>1.470606</td>\n",
       "      <td>NaN</td>\n",
       "      <td>NaN</td>\n",
       "    </tr>\n",
       "    <tr>\n",
       "      <th>Nabla_V_Field</th>\n",
       "      <td>-4.964656e-04</td>\n",
       "      <td>-2.160440e-03</td>\n",
       "      <td>-1.279693e-03</td>\n",
       "      <td>3.672309e+00</td>\n",
       "      <td>0.712158</td>\n",
       "      <td>0.516465</td>\n",
       "      <td>8.524923</td>\n",
       "      <td>2961.647400</td>\n",
       "    </tr>\n",
       "    <tr>\n",
       "      <th>Nabla_cdot_V</th>\n",
       "      <td>6.626526e-06</td>\n",
       "      <td>NaN</td>\n",
       "      <td>NaN</td>\n",
       "      <td>NaN</td>\n",
       "      <td>0.035526</td>\n",
       "      <td>NaN</td>\n",
       "      <td>NaN</td>\n",
       "      <td>NaN</td>\n",
       "    </tr>\n",
       "    <tr>\n",
       "      <th>Fcols</th>\n",
       "      <td>3.615753e-03</td>\n",
       "      <td>-2.774338e+00</td>\n",
       "      <td>NaN</td>\n",
       "      <td>NaN</td>\n",
       "      <td>3.217932</td>\n",
       "      <td>5.600066</td>\n",
       "      <td>NaN</td>\n",
       "      <td>NaN</td>\n",
       "    </tr>\n",
       "    <tr>\n",
       "      <th>vorticity</th>\n",
       "      <td>3.635856e-05</td>\n",
       "      <td>NaN</td>\n",
       "      <td>NaN</td>\n",
       "      <td>NaN</td>\n",
       "      <td>0.095505</td>\n",
       "      <td>NaN</td>\n",
       "      <td>NaN</td>\n",
       "      <td>NaN</td>\n",
       "    </tr>\n",
       "    <tr>\n",
       "      <th>Residual_Part3</th>\n",
       "      <td>-4.634575e-03</td>\n",
       "      <td>2.783301e+00</td>\n",
       "      <td>NaN</td>\n",
       "      <td>NaN</td>\n",
       "      <td>3.507477</td>\n",
       "      <td>5.810173</td>\n",
       "      <td>NaN</td>\n",
       "      <td>NaN</td>\n",
       "    </tr>\n",
       "    <tr>\n",
       "      <th>real_vorticity</th>\n",
       "      <td>-8.970972e-04</td>\n",
       "      <td>NaN</td>\n",
       "      <td>NaN</td>\n",
       "      <td>NaN</td>\n",
       "      <td>0.155981</td>\n",
       "      <td>NaN</td>\n",
       "      <td>NaN</td>\n",
       "      <td>NaN</td>\n",
       "    </tr>\n",
       "  </tbody>\n",
       "</table>\n",
       "</div>"
      ],
      "text/plain": [
       "                       u.mean        v.mean        T.mean      phi.mean  \\\n",
       "Field            8.201371e+00  2.354707e-02  2.448318e+02  7.838273e+04   \n",
       "Delta           -3.732116e-05  7.484815e-06 -1.832329e-05 -5.276844e-03   \n",
       "Vphysics_dx      3.734938e-10 -6.960626e-13  2.869646e-09  9.214287e-07   \n",
       "Vphysics_dy     -1.480541e-03  6.803644e-03  2.462913e-03  2.317257e+00   \n",
       "Field_dx         1.247434e-11  6.267945e-13  7.215006e-10 -8.222842e-08   \n",
       "Field_dy        -3.635847e-05  6.626519e-06  1.555334e-03  7.756011e-01   \n",
       "PhysicsPart      9.840739e-04 -8.964073e-03 -3.742610e-03  1.355049e+00   \n",
       "InteractionPart -8.222842e-08  7.755988e-01           NaN           NaN   \n",
       "Pure_Physics     9.841561e-04 -7.845629e-01           NaN           NaN   \n",
       "Residual_Part   -1.022069e-03  7.846938e-01           NaN           NaN   \n",
       "Residual_Part2  -1.021986e-03  8.972022e-03           NaN           NaN   \n",
       "Nabla_V_Field   -4.964656e-04 -2.160440e-03 -1.279693e-03  3.672309e+00   \n",
       "Nabla_cdot_V     6.626526e-06           NaN           NaN           NaN   \n",
       "Fcols            3.615753e-03 -2.774338e+00           NaN           NaN   \n",
       "vorticity        3.635856e-05           NaN           NaN           NaN   \n",
       "Residual_Part3  -4.634575e-03  2.783301e+00           NaN           NaN   \n",
       "real_vorticity  -8.970972e-04           NaN           NaN           NaN   \n",
       "\n",
       "                     u.std     v.std      T.std       phi.std  \n",
       "Field            14.507908  9.343637  29.523876  59775.492188  \n",
       "Delta             1.026204  1.161194   0.363488     54.075617  \n",
       "Vphysics_dx       1.855312  1.493355  10.790954   3859.415951  \n",
       "Vphysics_dy       0.975709  0.868165   7.980132   3065.469861  \n",
       "Field_dx          0.045488  0.064991   0.021729      3.868402  \n",
       "Field_dy          0.054674  0.033686   0.021468      5.934148  \n",
       "PhysicsPart       1.115019  1.388372   0.307361     42.581459  \n",
       "InteractionPart   3.868402  5.934150        NaN           NaN  \n",
       "Pure_Physics      4.082669  6.212251        NaN           NaN  \n",
       "Residual_Part     4.099126  6.223415        NaN           NaN  \n",
       "Residual_Part2    1.323144  1.470606        NaN           NaN  \n",
       "Nabla_V_Field     0.712158  0.516465   8.524923   2961.647400  \n",
       "Nabla_cdot_V      0.035526       NaN        NaN           NaN  \n",
       "Fcols             3.217932  5.600066        NaN           NaN  \n",
       "vorticity         0.095505       NaN        NaN           NaN  \n",
       "Residual_Part3    3.507477  5.810173        NaN           NaN  \n",
       "real_vorticity    0.155981       NaN        NaN           NaN  "
      ]
     },
     "execution_count": 165,
     "metadata": {},
     "output_type": "execute_result"
    }
   ],
   "source": [
    "show_record(record)"
   ]
  },
  {
   "cell_type": "code",
   "execution_count": 146,
   "id": "a1ebd1a9",
   "metadata": {
    "hidden": true
   },
   "outputs": [
    {
     "data": {
      "text/plain": [
       "1.9519221295943134"
      ]
     },
     "execution_count": 146,
     "metadata": {},
     "output_type": "execute_result"
    }
   ],
   "source": [
    "np.sqrt(1.1**2+1.4**2+0.8**2)"
   ]
  }
 ],
 "metadata": {
  "kernelspec": {
   "display_name": "Python 3 (ipykernel)",
   "language": "python",
   "name": "python3"
  },
  "language_info": {
   "codemirror_mode": {
    "name": "ipython",
    "version": 3
   },
   "file_extension": ".py",
   "mimetype": "text/x-python",
   "name": "python",
   "nbconvert_exporter": "python",
   "pygments_lexer": "ipython3",
   "version": "3.9.13"
  },
  "vscode": {
   "interpreter": {
    "hash": "e6b4e50d8356ba75a9636787f9051ee458aaf13e87df491415cc800c7b2b8a21"
   }
  }
 },
 "nbformat": 4,
 "nbformat_minor": 5
}
