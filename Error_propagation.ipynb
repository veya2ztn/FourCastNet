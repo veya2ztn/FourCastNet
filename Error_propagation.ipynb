{
 "cells": [
  {
   "cell_type": "code",
   "execution_count": 1,
   "id": "59801861",
   "metadata": {},
   "outputs": [],
   "source": [
    "from model.afnonet import AFNONet"
   ]
  },
  {
   "cell_type": "code",
   "execution_count": 34,
   "id": "55858b40",
   "metadata": {},
   "outputs": [],
   "source": [
    "from model.GradientModifier import *"
   ]
  },
  {
   "cell_type": "code",
   "execution_count": 4,
   "id": "f5568544",
   "metadata": {},
   "outputs": [],
   "source": [
    "import os \n",
    "import torch"
   ]
  },
  {
   "cell_type": "markdown",
   "id": "4617eb80",
   "metadata": {},
   "source": [
    "$$\n",
    "\\left(\n",
    "\\begin{array}{ccccccc}\n",
    " \\epsilon _{\\text{II}}^1-\\epsilon _{\\text{II}}^{\\text{real}} & 0 & 0 & 0 & 0 & 0 & 0 \\\\\n",
    " \\epsilon _{\\text{III}}^2-\\epsilon _{\\text{III}}^{\\text{real}} & \\epsilon _{\\text{III}}^1-\\epsilon _{\\text{III}}^{\\text{real}} & 0 & 0 & 0 & 0 & 0 \\\\\n",
    " \\epsilon _{\\text{IV}}^3-\\epsilon _{\\text{IV}}^{\\text{real}} & \\epsilon _{\\text{IV}}^2-\\epsilon _{\\text{IV}}^{\\text{real}} & \\epsilon _{\\text{IV}}^1-\\epsilon _{\\text{IV}}^{\\text{real}} & 0 & 0 & 0 & 0 \\\\\n",
    " \\epsilon _V^4-\\epsilon _V^{\\text{real}} & \\epsilon _V^3-\\epsilon _V^{\\text{real}} & \\epsilon _V^2-\\epsilon _V^{\\text{real}} & \\epsilon _V^1-\\epsilon _V^{\\text{real}} & 0 & 0 & 0 \\\\\n",
    " \\epsilon _{\\text{VI}}^5-\\epsilon _{\\text{VI}}^{\\text{real}} & \\epsilon _{\\text{VI}}^4-\\epsilon _{\\text{VI}}^{\\text{real}} & \\epsilon _{\\text{VI}}^3-\\epsilon _{\\text{VI}}^{\\text{real}} & \\epsilon _{\\text{VI}}^2-\\epsilon _{\\text{VI}}^{\\text{real}} & \\epsilon _{\\text{VI}}^1-\\epsilon _{\\text{VI}}^{\\text{real}} & 0 & 0 \\\\\n",
    " \\epsilon _{\\text{VII}}^6-\\epsilon _{\\text{VII}}^{\\text{real}} & \\epsilon _{\\text{VII}}^5-\\epsilon _{\\text{VII}}^{\\text{real}} & \\epsilon _{\\text{VII}}^4-\\epsilon _{\\text{VII}}^{\\text{real}} & \\epsilon _{\\text{VII}}^3-\\epsilon _{\\text{VII}}^{\\text{real}} & \\epsilon _{\\text{VII}}^2-\\epsilon _{\\text{VII}}^{\\text{real}} & \\epsilon _{\\text{VII}}^1-\\epsilon _{\\text{VII}}^{\\text{real}} & 0 \\\\\n",
    " \\epsilon _{\\text{VIII}}^7-\\epsilon _{\\text{VIII}}^{\\text{real}} & \\epsilon _{\\text{VIII}}^6-\\epsilon _{\\text{VIII}}^{\\text{real}} & \\epsilon _{\\text{VIII}}^5-\\epsilon _{\\text{VIII}}^{\\text{real}} & \\epsilon _{\\text{VIII}}^4-\\epsilon _{\\text{VIII}}^{\\text{real}} & \\epsilon _{\\text{VIII}}^3-\\epsilon _{\\text{VIII}}^{\\text{real}} & \\epsilon _{\\text{VIII}}^2-\\epsilon _{\\text{VIII}}^{\\text{real}} & \\epsilon _{\\text{VIII}}^1-\\epsilon _{\\text{VIII}}^{\\text{real}} \\\\\n",
    "\\end{array}\n",
    "\\right)\n",
    "$$"
   ]
  },
  {
   "cell_type": "markdown",
   "id": "a3528d69",
   "metadata": {},
   "source": [
    "$$ \n",
    "f (X_t)+\\epsilon_I^t=\\hat{X_{t+1}} + \\epsilon_I^t = X_{t+1}\n",
    "$$"
   ]
  },
  {
   "cell_type": "markdown",
   "id": "6cf60ccc",
   "metadata": {},
   "source": [
    "$$\n",
    "f[f(X_t)] + \\epsilon_{II}^t = X_{t+2}\\\\\n",
    "f (X_{t+1})+\\epsilon_I^{t+1}=\\hat{X_{t+2}} + \\epsilon_I^{t+1} = X_{t+2}\n",
    "$$\n"
   ]
  },
  {
   "cell_type": "markdown",
   "id": "8984a7b5",
   "metadata": {},
   "source": [
    "$$\n",
    "\\epsilon_{II}^t = f (X_{t+1}) - f[f(X_t)]  +\\epsilon_I^{t+1} = f (X_{t+1}) - f[\\hat{X_{t+1}}]+\\epsilon_I^{t+1}\n",
    "$$"
   ]
  },
  {
   "cell_type": "markdown",
   "id": "02826458",
   "metadata": {},
   "source": [
    "$$\n",
    "\\epsilon_{II}^t = \\nabla f|_{X_{t+1}} [X_{t+1}-\\hat{X_{t+1}}]+\\epsilon_I^{t+1} =  \\nabla f|_{X_{t+1}} \\epsilon_I^{t} +\\epsilon_I^{t+1}\n",
    "$$"
   ]
  },
  {
   "cell_type": "code",
   "execution_count": 76,
   "id": "17fceeb7",
   "metadata": {},
   "outputs": [],
   "source": [
    "import numpy as np"
   ]
  },
  {
   "cell_type": "code",
   "execution_count": 123,
   "id": "0d4db813",
   "metadata": {},
   "outputs": [],
   "source": [
    "def get_error_propagation(fourcastresult):\n",
    "    error_order = torch.LongTensor([  0,\n",
    "                                  2, 1,\n",
    "                                  5, 4, 3,\n",
    "                                  9, 8, 7, 6,\n",
    "                                 14,13,12,11,10,\n",
    "                                 20,19,18,17,16,15,\n",
    "                                 27,26,25,24,23,22,21])\n",
    "    N=7;x,y = torch.tril_indices(N,N)\n",
    "    out={}\n",
    "    for key in ['abs_error', 'est_error', 'Jacobianv', 'JacobV_N']:\n",
    "        b = []\n",
    "        for i in range(len(fourcastresult)-10):\n",
    "            a = torch.zeros(N,N)\n",
    "            a[x,y] = fourcastresult[i][key][error_order].sqrt()\n",
    "            if key != 'JacobV_N':a=a/fourcastresult[i]['blevel_v'][:,None].sqrt()\n",
    "            b.append(a)\n",
    "        b = torch.stack(b)\n",
    "        out[key] = b\n",
    "    \n",
    "\n",
    "    for key in ['alevel_v','blevel_v','JacobVA_N']:\n",
    "        b = []\n",
    "        for i in range(len(fourcastresult)-10):\n",
    "            b.append(fourcastresult[i][key])\n",
    "        b = torch.stack(b)\n",
    "        out[key] = b\n",
    "    return out"
   ]
  },
  {
   "cell_type": "code",
   "execution_count": 104,
   "id": "49428e0b",
   "metadata": {},
   "outputs": [],
   "source": [
    "def get_fourcastresult(fourcastresult):\n",
    "    #fourcastresult=\"checkpoints/WeathBench7066/AFNONet/ts_2_pretrain-2D706N_per_1_step/01_06_12_22-seed_73001\"\n",
    "    ROOT= fourcastresult\n",
    "    fourcastresult_list = [os.path.join(ROOT,p) for p in os.listdir(fourcastresult) if 'fourcastresult.gpu' in p]\n",
    "    fourcastresult={}\n",
    "    for save_path in fourcastresult_list:\n",
    "        tmp = torch.load(save_path)\n",
    "        for key,val in tmp.items():\n",
    "            if key not in fourcastresult:\n",
    "                fourcastresult[key] = val\n",
    "            else:\n",
    "                if key == 'global_rmse_map':\n",
    "\n",
    "                    fourcastresult['global_rmse_map'] = [a+b for a,b in zip(fourcastresult['global_rmse_map'],tmp['global_rmse_map'])]\n",
    "                else:\n",
    "                    fourcastresult[key] = val # overwrite\n",
    "    return fourcastresult"
   ]
  },
  {
   "cell_type": "code",
   "execution_count": 135,
   "id": "23ce4a9a",
   "metadata": {},
   "outputs": [],
   "source": [
    "fourcastresult=\"checkpoints/WeathBench7066/AFNONet/ts_2_pretrain-2D706N_per_1_step/01_06_12_22-seed_73001\"\n",
    "fourcastresult_pretrain = get_fourcastresult(fourcastresult)"
   ]
  },
  {
   "cell_type": "code",
   "execution_count": 134,
   "id": "241e9154",
   "metadata": {},
   "outputs": [
    {
     "data": {
      "text/plain": [
       "dict_keys(['accu', 'rmse', 'std_pred', 'std_true', 'snap_line', 'hmse', 'abs_error', 'est_error', 'alevel_v', 'blevel_v', 'Jacobianv', 'JacobV_N', 'JacobVA_N'])"
      ]
     },
     "execution_count": 134,
     "metadata": {},
     "output_type": "execute_result"
    }
   ],
   "source": [
    "fourcastresult_pretrain[0].keys()"
   ]
  },
  {
   "cell_type": "code",
   "execution_count": 136,
   "id": "c97e782e",
   "metadata": {},
   "outputs": [],
   "source": [
    "fourcastresult=\"checkpoints/WeathBench7066/AFNONet/ts_3_finetune-2D706N_per_1_step/01_09_02_41_31-seed_73001\"\n",
    "fourcastresult_finetune = get_fourcastresult(fourcastresult)"
   ]
  },
  {
   "cell_type": "code",
   "execution_count": 137,
   "id": "6bc92513",
   "metadata": {
    "scrolled": false
   },
   "outputs": [],
   "source": [
    "error_propagation_pretrain = get_error_propagation(fourcastresult_pretrain)\n",
    "error_propagation_finetune = get_error_propagation(fourcastresult_finetune)"
   ]
  },
  {
   "cell_type": "code",
   "execution_count": 146,
   "id": "c7f8f1ef",
   "metadata": {},
   "outputs": [],
   "source": [
    "from mltool.visualization import *"
   ]
  },
  {
   "cell_type": "code",
   "execution_count": 180,
   "id": "7f88d66f",
   "metadata": {},
   "outputs": [
    {
     "data": {
      "text/plain": [
       "tensor([[0.1116, 0.0000, 0.0000, 0.0000, 0.0000, 0.0000, 0.0000],\n",
       "        [0.1576, 0.1149, 0.0000, 0.0000, 0.0000, 0.0000, 0.0000],\n",
       "        [0.2322, 0.1994, 0.1335, 0.0000, 0.0000, 0.0000, 0.0000],\n",
       "        [0.2976, 0.2763, 0.2361, 0.1538, 0.0000, 0.0000, 0.0000],\n",
       "        [0.3664, 0.3508, 0.3248, 0.2794, 0.1849, 0.0000, 0.0000],\n",
       "        [0.4360, 0.4236, 0.4040, 0.3742, 0.3221, 0.2143, 0.0000],\n",
       "        [0.5070, 0.4965, 0.4809, 0.4582, 0.4238, 0.3637, 0.2429]])"
      ]
     },
     "execution_count": 180,
     "metadata": {},
     "output_type": "execute_result"
    }
   ],
   "source": []
  },
  {
   "cell_type": "code",
   "execution_count": 178,
   "id": "0517b974",
   "metadata": {},
   "outputs": [
    {
     "data": {
      "text/plain": [
       "tensor([[0.2625, 0.0000, 0.0000, 0.0000, 0.0000, 0.0000, 0.0000],\n",
       "        [0.2788, 0.2437, 0.0000, 0.0000, 0.0000, 0.0000, 0.0000],\n",
       "        [0.3135, 0.2873, 0.2431, 0.0000, 0.0000, 0.0000, 0.0000],\n",
       "        [0.3501, 0.3301, 0.2978, 0.2413, 0.0000, 0.0000, 0.0000],\n",
       "        [0.3982, 0.3820, 0.3581, 0.3196, 0.2506, 0.0000, 0.0000],\n",
       "        [0.4518, 0.4379, 0.4185, 0.3906, 0.3454, 0.2636, 0.0000],\n",
       "        [0.5103, 0.4979, 0.4815, 0.4592, 0.4272, 0.3755, 0.2796]])"
      ]
     },
     "execution_count": 178,
     "metadata": {},
     "output_type": "execute_result"
    }
   ],
   "source": [
    "error_propagation_finetune['est_error'].mean(0)"
   ]
  },
  {
   "cell_type": "code",
   "execution_count": 188,
   "id": "019cff54",
   "metadata": {},
   "outputs": [
    {
     "data": {
      "text/plain": [
       "tensor([0.8785, 0.8052, 0.7498, 0.7022, 0.6603, 0.6228, 0.5887])"
      ]
     },
     "execution_count": 188,
     "metadata": {},
     "output_type": "execute_result"
    }
   ],
   "source": [
    "error_propagation_pretrain['alevel_v'].mean(0).sqrt()/error_propagation_finetune['blevel_v'].mean(0).sqrt()"
   ]
  },
  {
   "cell_type": "code",
   "execution_count": 182,
   "id": "e63bd85b",
   "metadata": {},
   "outputs": [
    {
     "data": {
      "text/plain": [
       "tensor([[0.5542, 0.0000, 0.0000, 0.0000, 0.0000, 0.0000, 0.0000],\n",
       "        [0.6753, 0.6637, 0.0000, 0.0000, 0.0000, 0.0000, 0.0000],\n",
       "        [0.7563, 0.7471, 0.7312, 0.0000, 0.0000, 0.0000, 0.0000],\n",
       "        [0.8206, 0.8132, 0.8006, 0.7801, 0.0000, 0.0000, 0.0000],\n",
       "        [0.8786, 0.8722, 0.8621, 0.8462, 0.8201, 0.0000, 0.0000],\n",
       "        [0.9336, 0.9279, 0.9191, 0.9064, 0.8863, 0.8535, 0.0000],\n",
       "        [0.9874, 0.9821, 0.9743, 0.9632, 0.9473, 0.9220, 0.8816]])"
      ]
     },
     "execution_count": 182,
     "metadata": {},
     "output_type": "execute_result"
    }
   ],
   "source": [
    "error_propagation_pretrain['Jacobianv'].mean(0)"
   ]
  },
  {
   "cell_type": "code",
   "execution_count": 186,
   "id": "920b2bde",
   "metadata": {},
   "outputs": [
    {
     "data": {
      "text/plain": [
       "tensor([[0.1116, 0.0000, 0.0000, 0.0000, 0.0000, 0.0000, 0.0000],\n",
       "        [0.1576, 0.1149, 0.0000, 0.0000, 0.0000, 0.0000, 0.0000],\n",
       "        [0.2322, 0.1994, 0.1335, 0.0000, 0.0000, 0.0000, 0.0000],\n",
       "        [0.2976, 0.2763, 0.2361, 0.1538, 0.0000, 0.0000, 0.0000],\n",
       "        [0.3664, 0.3508, 0.3248, 0.2794, 0.1849, 0.0000, 0.0000],\n",
       "        [0.4360, 0.4236, 0.4040, 0.3742, 0.3221, 0.2143, 0.0000],\n",
       "        [0.5070, 0.4965, 0.4809, 0.4582, 0.4238, 0.3637, 0.2429]])"
      ]
     },
     "execution_count": 186,
     "metadata": {},
     "output_type": "execute_result"
    }
   ],
   "source": [
    "error_propagation_pretrain['est_error'].mean(0)"
   ]
  },
  {
   "cell_type": "code",
   "execution_count": 189,
   "id": "73388d50",
   "metadata": {},
   "outputs": [
    {
     "data": {
      "text/plain": [
       "tensor([[0.5603, 0.0000, 0.0000, 0.0000, 0.0000, 0.0000, 0.0000],\n",
       "        [0.6665, 0.6527, 0.0000, 0.0000, 0.0000, 0.0000, 0.0000],\n",
       "        [0.7407, 0.7300, 0.7138, 0.0000, 0.0000, 0.0000, 0.0000],\n",
       "        [0.8007, 0.7922, 0.7793, 0.7596, 0.0000, 0.0000, 0.0000],\n",
       "        [0.8561, 0.8487, 0.8382, 0.8225, 0.7983, 0.0000, 0.0000],\n",
       "        [0.9089, 0.9020, 0.8928, 0.8800, 0.8609, 0.8315, 0.0000],\n",
       "        [0.9606, 0.9541, 0.9456, 0.9344, 0.9190, 0.8961, 0.8603]])"
      ]
     },
     "execution_count": 189,
     "metadata": {},
     "output_type": "execute_result"
    }
   ],
   "source": [
    "error_propagation_finetune['Jacobianv'].mean(0)"
   ]
  },
  {
   "cell_type": "code",
   "execution_count": 199,
   "id": "0b716315",
   "metadata": {},
   "outputs": [
    {
     "data": {
      "text/plain": [
       "tensor([[0.2508, 0.0000, 0.0000, 0.0000, 0.0000, 0.0000, 0.0000],\n",
       "        [0.2616, 0.2287, 0.0000, 0.0000, 0.0000, 0.0000, 0.0000],\n",
       "        [0.2907, 0.2664, 0.2254, 0.0000, 0.0000, 0.0000, 0.0000],\n",
       "        [0.3219, 0.3035, 0.2738, 0.2218, 0.0000, 0.0000, 0.0000],\n",
       "        [0.3637, 0.3488, 0.3270, 0.2919, 0.2289, 0.0000, 0.0000],\n",
       "        [0.4104, 0.3978, 0.3802, 0.3548, 0.3138, 0.2395, 0.0000],\n",
       "        [0.4618, 0.4506, 0.4357, 0.4156, 0.3866, 0.3398, 0.2530]])"
      ]
     },
     "execution_count": 199,
     "metadata": {},
     "output_type": "execute_result"
    }
   ],
   "source": [
    "error_propagation_finetune['est_error'].mean(0)*error_propagation_finetune['blevel_v'].mean(0)[:,None].sqrt()/error_propagation_pretrain['blevel_v'].mean(0)[:,None].sqrt()"
   ]
  },
  {
   "cell_type": "code",
   "execution_count": 192,
   "id": "ef1344ae",
   "metadata": {},
   "outputs": [
    {
     "data": {
      "text/plain": [
       "tensor([0.2170, 0.2410, 0.2619, 0.2821, 0.3020, 0.3219, 0.3418])"
      ]
     },
     "execution_count": 192,
     "metadata": {},
     "output_type": "execute_result"
    }
   ],
   "source": [
    "error_propagation_pretrain['blevel_v'].mean(0).sqrt()"
   ]
  },
  {
   "cell_type": "code",
   "execution_count": 191,
   "id": "92246477",
   "metadata": {},
   "outputs": [
    {
     "data": {
      "text/plain": [
       "tensor([0.2073, 0.2262, 0.2429, 0.2593, 0.2758, 0.2924, 0.3093])"
      ]
     },
     "execution_count": 191,
     "metadata": {},
     "output_type": "execute_result"
    }
   ],
   "source": [
    "error_propagation_finetune['blevel_v'].mean(0).sqrt()"
   ]
  },
  {
   "cell_type": "code",
   "execution_count": 171,
   "id": "3f041aa0",
   "metadata": {},
   "outputs": [],
   "source": [
    "x, y  = np.meshgrid(np.arange(7),np.arange(7))\n",
    "z = error_propagation_finetune['abs_error'].mean(0).numpy()\n",
    "data = np.stack([x,y,z],-1).reshape(-1,3)\n",
    "data = data[data[:,2]>0]"
   ]
  },
  {
   "cell_type": "code",
   "execution_count": 204,
   "id": "a76d9764",
   "metadata": {},
   "outputs": [],
   "source": [
    "weight = torch.load(\"checkpoints/WeathBench7066/AFNONet/time_step_2_pretrain-2D706N_every_1_step/10_14_20_18_11-seed_73001/backbone.best.pt\", map_location='cpu')"
   ]
  },
  {
   "cell_type": "code",
   "execution_count": 206,
   "id": "614da764",
   "metadata": {},
   "outputs": [
    {
     "data": {
      "text/plain": [
       "['patch_embed.proj.conv_layers.0.weight',\n",
       " 'patch_embed.proj.conv_layers.1.weight']"
      ]
     },
     "execution_count": 206,
     "metadata": {},
     "output_type": "execute_result"
    }
   ],
   "source": [
    "[k for k in weight['model'] if 'patch_embed.proj' in k]"
   ]
  },
  {
   "cell_type": "code",
   "execution_count": 70,
   "id": "96b3a6c1",
   "metadata": {},
   "outputs": [
    {
     "data": {
      "text/plain": [
       "tensor([[0.6446, 0.0000, 0.0000, 0.0000, 0.0000, 0.0000, 0.0000],\n",
       "        [0.7194, 0.7120, 0.0000, 0.0000, 0.0000, 0.0000, 0.0000],\n",
       "        [0.7791, 0.7752, 0.7665, 0.0000, 0.0000, 0.0000, 0.0000],\n",
       "        [0.8270, 0.8244, 0.8209, 0.8109, 0.0000, 0.0000, 0.0000],\n",
       "        [0.8678, 0.8656, 0.8632, 0.8604, 0.8489, 0.0000, 0.0000],\n",
       "        [0.9025, 0.9008, 0.8987, 0.8968, 0.8948, 0.8815, 0.0000],\n",
       "        [0.9320, 0.9305, 0.9289, 0.9272, 0.9260, 0.9253, 0.9100]])"
      ]
     },
     "execution_count": 70,
     "metadata": {},
     "output_type": "execute_result"
    }
   ],
   "source": [
    "error_propagation_finetune['JacobV_N'].mean(0)"
   ]
  },
  {
   "cell_type": "code",
   "execution_count": 72,
   "id": "418f9ac8",
   "metadata": {},
   "outputs": [
    {
     "data": {
      "text/plain": [
       "tensor([[0.5542, 0.0000, 0.0000, 0.0000, 0.0000, 0.0000, 0.0000],\n",
       "        [0.6753, 0.6637, 0.0000, 0.0000, 0.0000, 0.0000, 0.0000],\n",
       "        [0.7563, 0.7471, 0.7312, 0.0000, 0.0000, 0.0000, 0.0000],\n",
       "        [0.8206, 0.8132, 0.8006, 0.7801, 0.0000, 0.0000, 0.0000],\n",
       "        [0.8786, 0.8722, 0.8621, 0.8462, 0.8201, 0.0000, 0.0000],\n",
       "        [0.9336, 0.9279, 0.9191, 0.9064, 0.8863, 0.8535, 0.0000],\n",
       "        [0.9874, 0.9821, 0.9743, 0.9632, 0.9473, 0.9220, 0.8816]])"
      ]
     },
     "execution_count": 72,
     "metadata": {},
     "output_type": "execute_result"
    }
   ],
   "source": [
    "error_propagation_pretrain['Jacobianv'].mean(0)"
   ]
  },
  {
   "cell_type": "code",
   "execution_count": 35,
   "id": "1d880b66",
   "metadata": {},
   "outputs": [],
   "source": [
    "model = AFNONet(img_size=(32,64), patch_size=2, in_chans= 70 ,out_chans= 70 ,embed_dim=768,depth=12)\n",
    "# x = torch.randn(2,70,32,64)\n",
    "# y = torch.randn(2,70,32,64)\n",
    "# torch.save(model.state_dict(),\"debug/testmodel.pt\")\n",
    "# torch.save(x,\"debug/testx.pt\")\n",
    "# torch.save(y,\"debug/testy.pt\")\n",
    "model.load_state_dict(torch.load(\"debug/testmodel.pt\"))\n",
    "x = torch.load(\"debug/testx.pt\")\n",
    "y = torch.load(\"debug/testy.pt\")"
   ]
  },
  {
   "cell_type": "code",
   "execution_count": 42,
   "id": "406b8285",
   "metadata": {},
   "outputs": [],
   "source": [
    "class NGmod_RotationDeltaX(Nodal_GradientModifier):\n",
    "    def normed(self,a):\n",
    "        shape = a.shape\n",
    "        a = a.reshape(a.size(0),-1)\n",
    "        a = a/a.norm(dim=1,keepdim=True)\n",
    "        a = a.reshape(shape)\n",
    "        return a \n",
    "\n",
    "    def getRotationDeltaloss(self, modelfun, x,  t , rotation_regular_mode = '0y0'):\n",
    "        y = model(x)\n",
    "        if rotation_regular_mode =='0y0':\n",
    "            delta = (self.normed(y - x),)\n",
    "        elif rotation_regular_mode =='0v0':\n",
    "            delta = (self.normed(y.detach() - x),)\n",
    "        elif rotation_regular_mode =='Yy0':\n",
    "            delta = (self.normed(t - x),self.normed(y - x))\n",
    "        elif rotation_regular_mode =='Yv0':\n",
    "            delta = (self.normed(t - x),self.normed(y.detach() - x))\n",
    "        elif rotation_regular_mode =='YyN':\n",
    "            delta = (self.normed(t - x),self.normed(y - x),self.normed(torch.rand_like(x)))\n",
    "        else:\n",
    "            raise NotImplementedError\n",
    "        penalty= 0\n",
    "        for delta_cons in delta:\n",
    "            grad = functorch.jvp(modelfun, (x,), (delta_cons,))[1] \n",
    "            position_range = list(range(1,len(grad.shape))) # (B,P, W,H ) --> (1,2,3)\n",
    "            penalty       += ((torch.sum(grad**2,dim=position_range).sqrt()-1)**2).mean()\n",
    "        return penalty\n",
    "\n",
    "    def getL2loss(self,modelfun,x,chunk=10,coef=None):\n",
    "        raise\n",
    "    def getL1loss(self,modelfun,x,chunk=10,coef=None):\n",
    "        raise"
   ]
  },
  {
   "cell_type": "code",
   "execution_count": 8,
   "id": "f0ffa83d",
   "metadata": {},
   "outputs": [],
   "source": [
    "from einops.layers.torch import Rearrange"
   ]
  },
  {
   "cell_type": "code",
   "execution_count": 9,
   "id": "e43a2c89",
   "metadata": {},
   "outputs": [],
   "source": [
    "import torch.nn as nn"
   ]
  },
  {
   "cell_type": "code",
   "execution_count": 10,
   "id": "4e3c85f5",
   "metadata": {},
   "outputs": [],
   "source": [
    "class MyModel(nn.Module):\n",
    "    def __init__(self):\n",
    "        super().__init__()\n",
    "        self.linear = nn.Linear(30,30)\n",
    "    def forward(self,x):\n",
    "        x = self.linear(x)\n",
    "        x = torch.sigmoid(x)\n",
    "        x = x**2\n",
    "        return x\n",
    "model = MyModel()\n",
    "torch.save(model.state_dict(),\"debug/testmodel2.pt\")\n",
    "x = torch.randn(2,30)\n",
    "y = torch.randn(2,30)\n",
    "torch.save(x,\"debug/testx2.pt\")\n",
    "torch.save(y,\"debug/testy2.pt\")"
   ]
  },
  {
   "cell_type": "code",
   "execution_count": 11,
   "id": "c0b6c4f8",
   "metadata": {},
   "outputs": [],
   "source": [
    "model = AFNONet(img_size=(32,64), patch_size=2, in_chans= 70 ,out_chans= 70 ,embed_dim=768,depth=12)\n",
    "# x = torch.randn(2,70,32,64)\n",
    "# y = torch.randn(2,70,32,64)\n",
    "# torch.save(model.state_dict(),\"debug/testmodel.pt\")\n",
    "# torch.save(x,\"debug/testx.pt\")\n",
    "# torch.save(y,\"debug/testy.pt\")\n",
    "model.load_state_dict(torch.load(\"debug/testmodel.pt\"))\n",
    "x = torch.load(\"debug/testx.pt\")\n",
    "y = torch.load(\"debug/testy.pt\")\n",
    "ngmod = NGmod_RotationDeltaX(0,0,0 )"
   ]
  },
  {
   "cell_type": "code",
   "execution_count": 16,
   "id": "6dade5f7",
   "metadata": {},
   "outputs": [],
   "source": [
    "cotangents1 = torch.randn(3,*x.shape)"
   ]
  },
  {
   "cell_type": "code",
   "execution_count": 43,
   "id": "e0fb379e",
   "metadata": {},
   "outputs": [
    {
     "name": "stdout",
     "output_type": "stream",
     "text": [
      "tensor(1.8809, grad_fn=<AddBackward0>)\n",
      "blocks.11.mlp.fc1.weight - 0.12911739945411682\n",
      "blocks.11.mlp.fc1.bias - 0.003467740025371313\n",
      "norm.weight - 0.028279943391680717\n",
      "norm.bias - 0.0017165266908705235\n",
      "pre_logits.conv1.weight - 2.469726085662842\n",
      "pre_logits.conv1.bias - 0.0033190883696079254\n",
      "pre_logits.conv2.weight - 1.0886025428771973\n",
      "pre_logits.conv2.bias - 0.002785270567983389\n",
      "head.weight - 0.2757563292980194\n"
     ]
    }
   ],
   "source": [
    "model = AFNONet(img_size=(32,64), patch_size=2, in_chans= 70 ,out_chans= 70 ,embed_dim=768,depth=12)\n",
    "# x = torch.randn(2,70,32,64)\n",
    "# y = torch.randn(2,70,32,64)\n",
    "# torch.save(model.state_dict(),\"debug/testmodel.pt\")\n",
    "# torch.save(x,\"debug/testx.pt\")\n",
    "# torch.save(y,\"debug/testy.pt\")\n",
    "model.load_state_dict(torch.load(\"debug/testmodel.pt\"))\n",
    "x = torch.load(\"debug/testx.pt\")\n",
    "y = torch.load(\"debug/testy.pt\")\n",
    "ngmod = NGmod_RotationDeltaX(0,0,0 )\n",
    "loss = ngmod.getRotationDeltaloss(model,x, y,rotation_regular_mode='YyN')\n",
    "print(loss)\n",
    "loss.backward()\n",
    "ll = [[name,p.grad.norm()] for idx,(name,p) in enumerate(model.named_parameters()) if p.grad is not None]\n",
    "for i in range(-10,-1,1):\n",
    "    name,pnorm = ll[i] \n",
    "    print(f\"{name} - {pnorm}\")\n",
    "    "
   ]
  },
  {
   "cell_type": "code",
   "execution_count": 91,
   "id": "7d4ad3bf",
   "metadata": {},
   "outputs": [
    {
     "name": "stdout",
     "output_type": "stream",
     "text": [
      "tensor(0.9506, grad_fn=<MeanBackward0>)\n",
      "blocks.11.mlp.fc1.weight - 30.728208541870117\n",
      "blocks.11.mlp.fc1.bias - 0.0\n",
      "norm.weight - 27.712812423706055\n",
      "norm.bias - 0.0\n",
      "pre_logits.conv1.weight - 15.994429588317871\n",
      "pre_logits.conv1.bias - 0.19202826917171478\n",
      "pre_logits.conv2.weight - 19.3148250579834\n",
      "pre_logits.conv2.bias - 0.1864301562309265\n",
      "head.weight - 9.63589096069336\n"
     ]
    }
   ],
   "source": [
    "model = AFNONet(img_size=(32,64), patch_size=2, in_chans= 70 ,out_chans= 70 ,embed_dim=768,depth=12)\n",
    "# x = torch.randn(2,70,32,64)\n",
    "# y = torch.randn(2,70,32,64)\n",
    "# torch.save(model.state_dict(),\"debug/testmodel.pt\")\n",
    "# torch.save(x,\"debug/testx.pt\")\n",
    "# torch.save(y,\"debug/testy.pt\")\n",
    "model.load_state_dict(torch.load(\"debug/testmodel.pt\"))\n",
    "x = torch.load(\"debug/testx.pt\")\n",
    "y = torch.load(\"debug/testy.pt\")\n",
    "ngmod = NGmod_RotationDelta2(0,0,0 )\n",
    "loss = ngmod.getRotationDeltaloss(model,x, model(x), y,rotation_regular_mode='0y0')\n",
    "print(loss)\n",
    "loss.backward()\n",
    "ll = [[name,p.norm()] for idx,(name,p) in enumerate(model.named_parameters()) if p.grad is not None]\n",
    "for i in range(-10,-1,1):\n",
    "    name,pnorm = ll[i] \n",
    "    print(f\"{name} - {pnorm}\")\n",
    "    "
   ]
  },
  {
   "cell_type": "code",
   "execution_count": 82,
   "id": "2e6da5a1",
   "metadata": {},
   "outputs": [
    {
     "name": "stdout",
     "output_type": "stream",
     "text": [
      "tensor(0.0157, grad_fn=<MeanBackward0>)\n",
      "linear.weight - 0.047377560287714005\n",
      "linear.bias - 0.004780657589435577\n"
     ]
    }
   ],
   "source": [
    "model = MyModel()\n",
    "model.load_state_dict(torch.load(\"debug/testmodel2.pt\"))\n",
    "x = torch.load(\"debug/testx2.pt\")\n",
    "y = torch.load(\"debug/testy2.pt\")\n",
    "ngmod = NGmod_RotationDelta(0,0,0 )\n",
    "loss = ngmod.getRotationDeltaloss(model,x,model(x),y,rotation_regular_mode='0y0')\n",
    "print(loss)\n",
    "loss.backward()\n",
    "for idx,(name,p) in enumerate(model.named_parameters()):\n",
    "    print(f\"{name} - {p.grad.norm()}\")\n",
    "    "
   ]
  },
  {
   "cell_type": "code",
   "execution_count": 81,
   "id": "9d62f5cb",
   "metadata": {},
   "outputs": [
    {
     "name": "stdout",
     "output_type": "stream",
     "text": [
      "tensor(0.9756, grad_fn=<MeanBackward0>)\n",
      "linear.weight - 0.0752129852771759\n",
      "linear.bias - 0.005585702136158943\n"
     ]
    }
   ],
   "source": [
    "model = MyModel()\n",
    "model.load_state_dict(torch.load(\"debug/testmodel2.pt\"))\n",
    "x = torch.load(\"debug/testx2.pt\")\n",
    "y = torch.load(\"debug/testy2.pt\")\n",
    "ngmod = NGmod_RotationDelta2(0,0,0 )\n",
    "loss = ngmod.getRotationDeltaloss(model,x,model(x),y,rotation_regular_mode='0y0')\n",
    "print(loss)\n",
    "loss.backward()\n",
    "for idx,(name,p) in enumerate(model.named_parameters()):\n",
    "    print(f\"{name} - {p.grad.norm()}\")\n",
    "    "
   ]
  },
  {
   "cell_type": "code",
   "execution_count": 78,
   "id": "955cdde3",
   "metadata": {},
   "outputs": [],
   "source": [
    "class NGmod_RotationDelta2(Nodal_GradientModifier):\n",
    "    def normed(self,a):\n",
    "        shape = a.shape\n",
    "        a = a.reshape(a.size(0),-1)\n",
    "        a = a/a.norm(dim=1,keepdim=True)\n",
    "        a = a.reshape(shape)\n",
    "        return a \n",
    "\n",
    "    def getRotationDeltaloss(self, modelfun, x, y, t , rotation_regular_mode = '0y0'):\n",
    "        #y, vjpfunc = functorch.vjp(modelfun, x) # notice this will calculate f(x) again, so can be reduced in real implement.\n",
    "        if rotation_regular_mode =='0y0':\n",
    "            delta = self.normed(y - x)\n",
    "        elif rotation_regular_mode =='0v0':\n",
    "            delta = self.normed(y.detach() - x)\n",
    "        elif rotation_regular_mode =='Yy0':\n",
    "            delta = torch.cat([self.normed(t - x),self.normed(y - x)])\n",
    "        elif rotation_regular_mode =='Yv0':\n",
    "            delta = torch.cat([self.normed(t - x),self.normed(y.detach() - x)])\n",
    "        elif rotation_regular_mode =='YyN':\n",
    "            delta = torch.cat([self.normed(t - x),self.normed(y - x),self.normed(torch.rand_like(x))])\n",
    "        else:\n",
    "            raise NotImplementedError\n",
    "        #_,vjpfunc = functorch.vjp(modelfun, x) # notice this will calculate f(x) again, so can be reduced in real implement.    \n",
    "        #grad = vjpfunc(delta)[0]\n",
    "        grad           = functorch.jvp(model, (x,), (delta,))[1]\n",
    "        position_range = list(range(1,len(grad.shape))) # (B,P, W,H ) --> (1,2,3)\n",
    "        penalty        = ((torch.sum(grad**2,dim=position_range)-1)**2).mean()\n",
    "        return penalty"
   ]
  }
 ],
 "metadata": {
  "kernelspec": {
   "display_name": "Python 3 (ipykernel)",
   "language": "python",
   "name": "python3"
  },
  "language_info": {
   "codemirror_mode": {
    "name": "ipython",
    "version": 3
   },
   "file_extension": ".py",
   "mimetype": "text/x-python",
   "name": "python",
   "nbconvert_exporter": "python",
   "pygments_lexer": "ipython3",
   "version": "3.9.13"
  }
 },
 "nbformat": 4,
 "nbformat_minor": 5
}
