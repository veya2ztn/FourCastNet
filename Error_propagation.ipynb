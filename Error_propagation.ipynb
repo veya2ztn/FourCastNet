{
 "cells": [
  {
   "cell_type": "code",
   "execution_count": 2,
   "id": "59801861",
   "metadata": {},
   "outputs": [],
   "source": [
    "from model.afnonet import AFNONet"
   ]
  },
  {
   "cell_type": "code",
   "execution_count": 3,
   "id": "f5568544",
   "metadata": {},
   "outputs": [],
   "source": [
    "import os \n",
    "import torch"
   ]
  },
  {
   "cell_type": "markdown",
   "id": "4617eb80",
   "metadata": {},
   "source": [
    "$$\n",
    "\\left(\n",
    "\\begin{array}{ccccccc}\n",
    " \\epsilon _{\\text{II}}^1-\\epsilon _{\\text{II}}^{\\text{real}} & 0 & 0 & 0 & 0 & 0 & 0 \\\\\n",
    " \\epsilon _{\\text{III}}^2-\\epsilon _{\\text{III}}^{\\text{real}} & \\epsilon _{\\text{III}}^1-\\epsilon _{\\text{III}}^{\\text{real}} & 0 & 0 & 0 & 0 & 0 \\\\\n",
    " \\epsilon _{\\text{IV}}^3-\\epsilon _{\\text{IV}}^{\\text{real}} & \\epsilon _{\\text{IV}}^2-\\epsilon _{\\text{IV}}^{\\text{real}} & \\epsilon _{\\text{IV}}^1-\\epsilon _{\\text{IV}}^{\\text{real}} & 0 & 0 & 0 & 0 \\\\\n",
    " \\epsilon _V^4-\\epsilon _V^{\\text{real}} & \\epsilon _V^3-\\epsilon _V^{\\text{real}} & \\epsilon _V^2-\\epsilon _V^{\\text{real}} & \\epsilon _V^1-\\epsilon _V^{\\text{real}} & 0 & 0 & 0 \\\\\n",
    " \\epsilon _{\\text{VI}}^5-\\epsilon _{\\text{VI}}^{\\text{real}} & \\epsilon _{\\text{VI}}^4-\\epsilon _{\\text{VI}}^{\\text{real}} & \\epsilon _{\\text{VI}}^3-\\epsilon _{\\text{VI}}^{\\text{real}} & \\epsilon _{\\text{VI}}^2-\\epsilon _{\\text{VI}}^{\\text{real}} & \\epsilon _{\\text{VI}}^1-\\epsilon _{\\text{VI}}^{\\text{real}} & 0 & 0 \\\\\n",
    " \\epsilon _{\\text{VII}}^6-\\epsilon _{\\text{VII}}^{\\text{real}} & \\epsilon _{\\text{VII}}^5-\\epsilon _{\\text{VII}}^{\\text{real}} & \\epsilon _{\\text{VII}}^4-\\epsilon _{\\text{VII}}^{\\text{real}} & \\epsilon _{\\text{VII}}^3-\\epsilon _{\\text{VII}}^{\\text{real}} & \\epsilon _{\\text{VII}}^2-\\epsilon _{\\text{VII}}^{\\text{real}} & \\epsilon _{\\text{VII}}^1-\\epsilon _{\\text{VII}}^{\\text{real}} & 0 \\\\\n",
    " \\epsilon _{\\text{VIII}}^7-\\epsilon _{\\text{VIII}}^{\\text{real}} & \\epsilon _{\\text{VIII}}^6-\\epsilon _{\\text{VIII}}^{\\text{real}} & \\epsilon _{\\text{VIII}}^5-\\epsilon _{\\text{VIII}}^{\\text{real}} & \\epsilon _{\\text{VIII}}^4-\\epsilon _{\\text{VIII}}^{\\text{real}} & \\epsilon _{\\text{VIII}}^3-\\epsilon _{\\text{VIII}}^{\\text{real}} & \\epsilon _{\\text{VIII}}^2-\\epsilon _{\\text{VIII}}^{\\text{real}} & \\epsilon _{\\text{VIII}}^1-\\epsilon _{\\text{VIII}}^{\\text{real}} \\\\\n",
    "\\end{array}\n",
    "\\right)\n",
    "$$"
   ]
  },
  {
   "cell_type": "markdown",
   "id": "a3528d69",
   "metadata": {},
   "source": [
    "$$ \n",
    "f (X_t)+\\epsilon_I^t=\\hat{X_{t+1}} + \\epsilon_I^t = X_{t+1}\n",
    "$$"
   ]
  },
  {
   "cell_type": "markdown",
   "id": "6cf60ccc",
   "metadata": {},
   "source": [
    "$$\n",
    "f[f(X_t)] + \\epsilon_{II}^t = X_{t+2}\\\\\n",
    "f (X_{t+1})+\\epsilon_I^{t+1}=\\hat{X_{t+2}} + \\epsilon_I^{t+1} = X_{t+2}\n",
    "$$\n"
   ]
  },
  {
   "cell_type": "markdown",
   "id": "8984a7b5",
   "metadata": {},
   "source": [
    "$$\n",
    "\\epsilon_{II}^t = f (X_{t+1}) - f[f(X_t)]  +\\epsilon_I^{t+1} = f (X_{t+1}) - f[\\hat{X_{t+1}}]+\\epsilon_I^{t+1}\n",
    "$$"
   ]
  },
  {
   "cell_type": "markdown",
   "id": "02826458",
   "metadata": {},
   "source": [
    "$$\n",
    "\\epsilon_{II}^t = \\nabla f|_{X_{t+1}} [X_{t+1}-\\hat{X_{t+1}}]+\\epsilon_I^{t+1} =  \\nabla f|_{X_{t+1}} \\epsilon_I^{t} +\\epsilon_I^{t+1}\n",
    "$$"
   ]
  },
  {
   "cell_type": "code",
   "execution_count": 4,
   "id": "17fceeb7",
   "metadata": {},
   "outputs": [],
   "source": [
    "import numpy as np"
   ]
  },
  {
   "cell_type": "code",
   "execution_count": null,
   "id": "4fcaf986",
   "metadata": {},
   "outputs": [],
   "source": []
  },
  {
   "cell_type": "code",
   "execution_count": 5,
   "id": "0d4db813",
   "metadata": {
    "code_folding": [
     0
    ]
   },
   "outputs": [],
   "source": [
    "def get_error_propagation(fourcastresult):\n",
    "    error_order7 = torch.LongTensor([  0,\n",
    "                                      7, 1,\n",
    "                                     13, 8, 2,\n",
    "                                     18,14, 9, 3,\n",
    "                                     22,19,15,10,4,\n",
    "                                     25,23,20,16,11,5,\n",
    "                                     27,26,24,21,17,12,6])\n",
    "    error_order6 = torch.LongTensor([ 0,\n",
    "                                      6, 1,\n",
    "                                     11, 7, 2,\n",
    "                                     15,12, 8, 3,\n",
    "                                     18,16,13, 9,4,\n",
    "                                     20,19,17,14,10,5\n",
    "                                    ])\n",
    "    idxkeys=[t for t in fourcastresult.keys() if isinstance(t,int)]\n",
    "    idxkeys.sort()\n",
    "    out={}\n",
    "    for key in ['error_record']:\n",
    "        b = []\n",
    "        for i in idxkeys:\n",
    "            N=7;x,y = torch.tril_indices(N,N)\n",
    "            a = torch.zeros(N,N,70)\n",
    "            a[x,y] = fourcastresult[i][key][error_order7]\n",
    "            b.append(a)\n",
    "        b = torch.stack(b)\n",
    "        out[key] = b\n",
    "    for key in ['real_res_error_record', 'real_appx_delta_record','appx_res_error_record' ]:\n",
    "        b = []\n",
    "        for i in idxkeys:\n",
    "            N=6;x,y = torch.tril_indices(N,N)\n",
    "            a = torch.zeros(N,N,70)\n",
    "            a[x,y] = fourcastresult[i][key][error_order6]\n",
    "            b.append(a)\n",
    "        b = torch.stack(b)\n",
    "        out[key] = b\n",
    "    for key in ['real_res_angle_record','appx_res_angle_record']:\n",
    "        b = []\n",
    "        for i in idxkeys:\n",
    "            N=6;x,y = torch.tril_indices(N,N)\n",
    "            a = torch.zeros(N,N)\n",
    "            a[x,y] = fourcastresult[i][key][error_order6]\n",
    "            b.append(a)\n",
    "        b = torch.stack(b)\n",
    "        out[key] = b\n",
    "#     for key in ['abs_error', 'est_error', 'Jacobianv', 'JacobV_N','abc_error']:\n",
    "#         b = []\n",
    "#         for i in range(len(fourcastresult)-10):\n",
    "#             a = torch.zeros(N,N)\n",
    "#             a[x,y] = fourcastresult[i][key][error_order]\n",
    "#             if key != 'JacobV_N':a=a/fourcastresult[i]['blevel_v'].mean(1)[1:,None]\n",
    "#             b.append(a)\n",
    "#         b = torch.stack(b)\n",
    "#         out[key] = b\n",
    "    \n",
    "#     for key in ['Angle']:\n",
    "#         b = []\n",
    "#         for i in range(len(fourcastresult)-10):\n",
    "#             a = torch.zeros(N,N)\n",
    "#             a[x,y] = fourcastresult[i][key][error_order]\n",
    "#             b.append(a)\n",
    "#         b = torch.stack(b)\n",
    "#         out[key] = b\n",
    "        \n",
    "#     for key in ['alevel_v','blevel_v','JacobVA_N']:\n",
    "#         b = []\n",
    "#         for i in range(len(fourcastresult)-10):\n",
    "#             b.append(fourcastresult[i][key])\n",
    "#         b = torch.stack(b)\n",
    "#         out[key] = b\n",
    "    return out"
   ]
  },
  {
   "cell_type": "code",
   "execution_count": 6,
   "id": "49428e0b",
   "metadata": {
    "code_folding": [
     0
    ]
   },
   "outputs": [],
   "source": [
    "def get_fourcastresult(fourcastresult):\n",
    "    #fourcastresult=\"checkpoints/WeathBench7066/AFNONet/ts_2_pretrain-2D706N_per_1_step/01_06_12_22-seed_73001\"\n",
    "    ROOT= fourcastresult\n",
    "    fourcastresult_list = [os.path.join(ROOT,p) for p in os.listdir(fourcastresult) if 'fourcastresult.gpu' in p]\n",
    "    fourcastresult={}\n",
    "    for save_path in fourcastresult_list:\n",
    "        tmp = torch.load(save_path)\n",
    "        for key,val in tmp.items():\n",
    "            if key not in fourcastresult:\n",
    "                fourcastresult[key] = val\n",
    "            else:\n",
    "                if key == 'global_rmse_map':\n",
    "\n",
    "                    fourcastresult['global_rmse_map'] = [a+b for a,b in zip(fourcastresult['global_rmse_map'],tmp['global_rmse_map'])]\n",
    "                else:\n",
    "                    fourcastresult[key] = val # overwrite\n",
    "    return fourcastresult"
   ]
  },
  {
   "cell_type": "code",
   "execution_count": 7,
   "id": "23ce4a9a",
   "metadata": {},
   "outputs": [],
   "source": [
    "# fourcastresult_pretrain=\"checkpoints/WeathBench7066/AFNONet/ts_2_pretrain-2D706N_per_1_step/01_06_12_22-seed_73001\"\n",
    "# fourcastresult_pretrain = get_fourcastresult(fourcastresult_pretrain)\n",
    "# # torch.save(fourcastresult_pretrain,fourcastresult+\"/fourcastresult.mid_tangent.pt\")\n",
    "# fourcastresult_finetune=\"checkpoints/WeathBench7066/AFNONet/ts_3_finetune-2D706N_per_1_step/01_09_02_41_31-seed_73001\"\n",
    "# fourcastresult_finetune = get_fourcastresult(fourcastresult_finetune)\n",
    "# #torch.save(fourcastresult_finetune,fourcastresult+\"/fourcastresult.right_tangent.pt\")"
   ]
  },
  {
   "cell_type": "code",
   "execution_count": 7,
   "id": "d4cabae4",
   "metadata": {},
   "outputs": [],
   "source": [
    "fwd1times_sketch   = get_error_propagation(get_fourcastresult(\"checkpoints/WeathBench7066/AFNONet/ts_2_pretrain-2D706N_per_1_step/01_26_14_21_64252-seed_73001\"))\n",
    "fwd2times_sketch   = get_error_propagation(get_fourcastresult(\"checkpoints/WeathBench7066/AFNONet/ts_3_finetune-2D706N_per_1_step/01_26_17_38_64254-seed_73001\"))\n",
    "fwd2times_pretrain = get_error_propagation(get_fourcastresult(\"checkpoints/WeathBench7066/AFNONet/ts_3_pretrain-2D706N_per_1_step/01_26_23_35_64256-seed_73001\"))\n",
    "fwd3times_sketch   = get_error_propagation(get_fourcastresult(\"checkpoints/WeathBench7066/AFNONet/ts_4_finetune-2D706N_per_1_step/01_26_23_56_64255-seed_73001\"))\n",
    "fwd3times_pretrain = get_error_propagation(get_fourcastresult(\"checkpoints/WeathBench7066/AFNONet/ts_4_pretrain-2D706N_per_1_step/01_26_17_38_64248-seed_73001\"))"
   ]
  },
  {
   "cell_type": "code",
   "execution_count": 8,
   "id": "7b60b64e",
   "metadata": {},
   "outputs": [],
   "source": [
    "import torch"
   ]
  },
  {
   "cell_type": "code",
   "execution_count": 9,
   "id": "afc4baf3",
   "metadata": {},
   "outputs": [],
   "source": [
    "from mltool.visualization import *"
   ]
  },
  {
   "cell_type": "code",
   "execution_count": 10,
   "id": "4e564bed",
   "metadata": {
    "code_folding": [
     13
    ]
   },
   "outputs": [],
   "source": [
    "_component_list= ([58, 59, 60, 61, 62, 63, 64, 65, 66, 67, 68, 69, 70,  1]+ # u component of wind and the 10m u wind\n",
    "                    [71, 72, 73, 74, 75, 76, 77, 78, 79, 80, 81, 82, 83,  2]+   # v component of wind and the 10m v wind\n",
    "                    [19, 20, 21, 22, 23, 24, 25, 26, 27, 28, 29, 30, 31,  0]+   # Temperature and the 2m_temperature\n",
    "                    [ 6,  7,  8,  9, 10, 11, 12, 13, 14, 15, 16, 17, 18, 18]+   # Geopotential and the last one is ground Geopotential, should be replace later\n",
    "                    [45, 46, 47, 48, 49, 50, 51, 52, 53, 54, 55, 56, 57, 57]    # Realitve humidity and the Realitve humidity at groud, should be modified by total precipitaiton later\n",
    "                    )\n",
    "single_vnames = [\"2m_temperature\",\n",
    "                  \"10m_u_component_of_wind\",\n",
    "                  \"10m_v_component_of_wind\",\n",
    "                  \"total_cloud_cover\",\n",
    "                  \"total_precipitation\",\n",
    "                  \"toa_incident_solar_radiation\"]\n",
    "level_vnames= []\n",
    "for physics_name in [\"geopotential\", \"temperature\",\n",
    "                     \"specific_humidity\",\"relative_humidity\",\n",
    "                     \"u_component_of_wind\",\"v_component_of_wind\",\n",
    "                     \"vorticity\",\"potential_vorticity\"]:\n",
    "    for pressure_level in [50, 100, 150, 200, 250, 300, 400, 500, 600, 700, 850, 925, 1000]:\n",
    "        level_vnames.append(f\"{pressure_level}hPa_{physics_name}\")\n",
    "all_vnames = single_vnames + level_vnames\n",
    "vnames= np.array([all_vnames[i] for i in _component_list])\n",
    "vnames[14*4-1] = 'pad1'\n",
    "vnames[-1]='pad2'"
   ]
  },
  {
   "cell_type": "code",
   "execution_count": 11,
   "id": "06c1fe33",
   "metadata": {},
   "outputs": [],
   "source": [
    "data_list = [\n",
    "fwd1times_sketch  ,\n",
    "fwd2times_sketch  ,\n",
    "fwd2times_pretrain,\n",
    "fwd3times_sketch  ,\n",
    "fwd3times_pretrain,    \n",
    "]\n",
    "name_list = [\n",
    "\"fwd1times_sketch\"  ,\n",
    "\"fwd2times_sketch\"  ,\n",
    "\"fwd2times_pretrain\",\n",
    "\"fwd3times_sketch\"  ,\n",
    "\"fwd3times_pretrain\"\n",
    "]"
   ]
  },
  {
   "cell_type": "code",
   "execution_count": 33,
   "id": "82cdcefe",
   "metadata": {},
   "outputs": [],
   "source": [
    "upsign = ['I','II','III','IV','V','VI','VII','VIII']"
   ]
  },
  {
   "cell_type": "markdown",
   "id": "07812ebe",
   "metadata": {},
   "source": [
    "### plot"
   ]
  },
  {
   "cell_type": "code",
   "execution_count": 86,
   "id": "478522c4",
   "metadata": {},
   "outputs": [],
   "source": [
    "# %matplotlib inline\n",
    "# import matplotlib.pyplot as plt\n",
    "# import scienceplots\n",
    "\n",
    "# plt.style.use('science')\n",
    "# error_matrix      = data_list[4]['error_record']\n",
    "# colorlist=['r','g','b','pink','black','yellow']\n",
    "# plt.figure(figsize=(10,6))\n",
    "\n",
    "# with plt.style.context(['science', 'no-latex', 'nature']):\n",
    "#     for level in range(7):\n",
    "#         data = error_matrix[:,level,0]\n",
    "#         mean = data.mean(0)\n",
    "#         std  = data.std(0)\n",
    "#         x_axis = np.arange(len(mean))\n",
    "#         plt.errorbar(x_axis, mean, yerr = std,label=r\"$||\\epsilon^\"+f\"{level}\"+r\"||$\")\n",
    "#         plt.xticks(x_axis,vnames,rotation = 90) \n",
    "#         plt.legend(prop={'size': 14})\n",
    "#         ax = plt.gca()\n",
    "#         plt.text(.5,.9,'fwd3times_pretrain',horizontalalignment='center',\n",
    "#             transform=ax.transAxes,fontdict={'size':30})"
   ]
  },
  {
   "cell_type": "code",
   "execution_count": 87,
   "id": "0e2087f7",
   "metadata": {},
   "outputs": [],
   "source": [
    "# %matplotlib inline\n",
    "# import matplotlib.pyplot as plt\n",
    "# import scienceplots\n",
    "\n",
    "# plt.style.use('science')\n",
    "\n",
    "# colorlist=['r','g','b','pink','black','yellow']\n",
    "# plt.figure(figsize=(10,6))\n",
    "\n",
    "# with plt.style.context(['science', 'no-latex', 'nature']):\n",
    "#     for name,tdata in zip(name_list,data_list):\n",
    "#         data = tdata['error_record'][:,0,0]\n",
    "#         mean = data.mean(0)\n",
    "#         std  = data.std(0)\n",
    "#         x_axis = np.arange(len(mean))\n",
    "#         plt.errorbar(x_axis, mean, yerr = std,label=name)\n",
    "#         plt.xticks(x_axis,vnames,rotation = 90) \n",
    "#         plt.legend(prop={'size': 14})\n",
    "#         ax = plt.gca()\n",
    "#         plt.text(.5,.9,r\"$|| \\epsilon^I ||$\",horizontalalignment='center',transform=ax.transAxes,fontdict={'size':30})"
   ]
  },
  {
   "cell_type": "code",
   "execution_count": 118,
   "id": "c4f2c6e1",
   "metadata": {},
   "outputs": [],
   "source": [
    "# %matplotlib inline\n",
    "# import matplotlib.pyplot as plt\n",
    "# import scienceplots\n",
    "\n",
    "# plt.style.use('science')\n",
    "# dataidx = 4\n",
    "# error_matrix      = data_list[dataidx]['real_res_error_record']\n",
    "# colorlist=['r','g','b','pink','black','yellow']\n",
    "# plt.figure(figsize=(10,6))\n",
    "# upsign = ['I','II','III','IV','V','VI','VII','VIII']\n",
    "# with plt.style.context(['science', 'no-latex', 'nature']):\n",
    "#     for level in range(6):\n",
    "#         data = error_matrix[:,level,0]\n",
    "#         mean = data.mean(0)\n",
    "#         std  = data.std(0)\n",
    "#         x_axis = np.arange(len(mean))\n",
    "#         plt.errorbar(x_axis, mean, yerr = std,\n",
    "#                      label=r\"$||\\epsilon_{t+\"+f\"{level+2}\"+\"}^{\"+f\"{upsign[level+2]}\"+r\"} - \\epsilon_{t+\"+f\"{level+2}\"+\"}^I||$ = $||M \\epsilon_{t+\"+f\"{level+2}\"+\"}^{\"+f\"{upsign[level+1]}\"+r\"}||$\"\n",
    "#                     )\n",
    "#         plt.legend(prop={'size': 12})\n",
    "# #        plt.xticks(x_axis,vnames,rotation = 90) \n",
    "#         ax = plt.gca()\n",
    "#         plt.text(.5,.9,name_list[dataidx],horizontalalignment='center',\n",
    "#             transform=ax.transAxes,fontdict={'size':13})"
   ]
  },
  {
   "cell_type": "code",
   "execution_count": 179,
   "id": "d015b15e",
   "metadata": {},
   "outputs": [],
   "source": [
    "# %matplotlib inline\n",
    "# import matplotlib.pyplot as plt\n",
    "# import scienceplots\n",
    "\n",
    "# plt.style.use('science')\n",
    "\n",
    "# colorlist=['r','g','b','pink','black','yellow']\n",
    "# plt.figure(figsize=(10,6))\n",
    "# level = 5\n",
    "# with plt.style.context(['science', 'no-latex', 'nature']):\n",
    "#     for name,tdata in zip(name_list,data_list):\n",
    "#         data = tdata['real_res_error_record'][:,level,0]\n",
    "#         mean = data.mean(0)\n",
    "#         std  = data.std(0)\n",
    "#         x_axis = np.arange(len(mean))\n",
    "#         plt.errorbar(x_axis, mean, yerr = std,label=name)\n",
    "#         plt.xticks(x_axis,vnames,rotation = 90) \n",
    "#         plt.legend(prop={'size': 14})\n",
    "#         ax = plt.gca()\n",
    "#         plt.text(.5,.9,r\"$||\\epsilon_{t+\"+f\"{level+2}\"+\"}^{\"+f\"{upsign[level+2]}\"+r\"} - \\epsilon_{t+\"+f\"{level+2}\"+\"}^I||$ = $||M \\epsilon_{t+\"+f\"{level+2}\"+\"}^{\"+f\"{upsign[level+1]}\"+r\"}||$\",\n",
    "#                  horizontalalignment='center',transform=ax.transAxes,fontdict={'size':14})"
   ]
  },
  {
   "cell_type": "code",
   "execution_count": 1,
   "id": "78bd1adf",
   "metadata": {},
   "outputs": [],
   "source": [
    "# %matplotlib inline\n",
    "# import matplotlib.pyplot as plt\n",
    "# import scienceplots\n",
    "\n",
    "# plt.style.use('science')\n",
    "\n",
    "# colorlist=['r','g','b','pink','black','yellow']\n",
    "# plt.figure(figsize=(10,6))\n",
    "# level = 0\n",
    "# with plt.style.context(['science', 'no-latex', 'nature']):\n",
    "#     for name,tdata in zip(name_list,data_list):\n",
    "#         data = tdata['real_res_error_record'][:,level,0]\n",
    "#         mean = data.mean(0)\n",
    "#         std  = data.std(0)\n",
    "#         x_axis = np.arange(len(mean))\n",
    "#         plt.errorbar(x_axis, mean, yerr = std,label=name)\n",
    "#         plt.xticks(x_axis,vnames,rotation = 90) \n",
    "#         plt.legend(prop={'size': 14})\n",
    "#         ax = plt.gca()\n",
    "#         plt.text(.5,.9,r\" $||J|_{(\\frac{1}{2}X_{t+\"+f\"{level+2}\"+\"}^O + \\\\frac{1}{2}X_{t+\"+f\"{level+2}\"+\"}^{\"+f\"{upsign[level+1]}\"+r\"})}\\epsilon_{t+\"+f\"{level+2}\"+\"}^{\"+f\"{upsign[level+1]}\"+r\"}||$\",\n",
    "#                  horizontalalignment='center',transform=ax.transAxes,fontdict={'size':14})"
   ]
  },
  {
   "cell_type": "code",
   "execution_count": 57,
   "id": "0c376806",
   "metadata": {
    "code_folding": []
   },
   "outputs": [],
   "source": [
    "# %matplotlib inline\n",
    "# colorlist=['r','g','b','pink','black','purple','olive']\n",
    "# import scienceplots\n",
    "# plt.style.use('science')\n",
    "# with plt.style.context(['science', 'no-latex', 'nature']):\n",
    "#     fig, axes = plt.subplots(5, 1,figsize=(10,6))\n",
    "#     axes=axes.flatten()\n",
    "#     level=0\n",
    "#     for num,(ax,name,tdata) in enumerate(zip(axes,name_list,data_list)):\n",
    "#         for level in range(6):\n",
    "#             data = tdata['appx_res_error_record'][:,level,0]\n",
    "#             mean = data.mean(0)\n",
    "#             std  = data.std(0)\n",
    "#             x_axis = np.arange(len(mean))\n",
    "#             #plt.errorbar(x_axis, mean, yerr = std,label=name)\n",
    "#             ax.plot(x_axis, mean, label=name+'_real',color = colorlist[level])\n",
    "#             data = tdata['real_res_error_record'][:,level,0]\n",
    "#             mean = data.mean(0)\n",
    "#             std  = data.std(0)\n",
    "#             x_axis = np.arange(len(mean))\n",
    "#             ax.plot(x_axis, mean, label=name+'_appx',linestyle = ':',color = colorlist[level])\n",
    "#         ax.set_ylim([0,0.08])\n",
    "#         ax.set_xticklabels([])\n",
    "#         ax.text(.5,.7,name,horizontalalignment='center',transform=ax.transAxes,fontdict={'size':10})\n",
    "#         #ax.set_yticklabels([])\n",
    "#         #ax.set_yscale('log')\n",
    "#         if num == 0:ax.set_title(\"Error_Approx_Via_Jacobian\",fontsize=20)\n",
    "# plt.subplots_adjust(wspace=0, hspace=0)"
   ]
  },
  {
   "cell_type": "code",
   "execution_count": 180,
   "id": "e9926467",
   "metadata": {},
   "outputs": [],
   "source": [
    "# %matplotlib inline\n",
    "# import matplotlib.pyplot as plt\n",
    "# import scienceplots\n",
    "\n",
    "# plt.style.use('science')\n",
    "\n",
    "# colorlist=['r','g','b','pink','black','yellow']\n",
    "# plt.figure(figsize=(10,6))\n",
    "# level = 0\n",
    "# with plt.style.context(['science', 'no-latex', 'nature']):\n",
    "#     for offset,(name,tdata) in enumerate(zip(name_list,data_list)):\n",
    "#         tdata_real_res_error_alpha = tdata['real_res_error_record']/(tdata['error_record'][:,:6,:6]+1e-10)\n",
    "#         data = tdata_real_res_error_alpha[:,level,0]\n",
    "#         mean = data.mean(0)\n",
    "#         std  = data.std(0)\n",
    "#         x_axis = np.arange(len(mean))\n",
    "#         plt.errorbar(x_axis, mean, yerr = std,label=name)\n",
    "#         plt.legend(prop={'size': 14})\n",
    "#         plt.xticks(x_axis,vnames,rotation = 90) \n",
    "#         ax = plt.gca()\n",
    "#         plt.text(.5,.9,r\"$\\frac{||\\epsilon_{t+\"+f\"{level+2}\"+\"}^{\"+f\"{upsign[level+2]}\"+r\"} - \\epsilon_{t+\"+f\"{level+2}\"+\"}^I||}{||\\epsilon_{t+\"+f\"{level+2}\"+\"}^{\"+f\"{upsign[level+1]}\"+r\"}||}$\",\n",
    "#                  horizontalalignment='center',transform=ax.transAxes,fontdict={'size':20})"
   ]
  },
  {
   "cell_type": "code",
   "execution_count": 58,
   "id": "5b149b1d",
   "metadata": {},
   "outputs": [],
   "source": [
    "# %matplotlib inline\n",
    "# import matplotlib.pyplot as plt\n",
    "# import scienceplots\n",
    "\n",
    "# plt.style.use('science')\n",
    "\n",
    "# colorlist=['r','g','b','pink','black','yellow']\n",
    "# plt.figure(figsize=(10,6))\n",
    "# level = 0\n",
    "# with plt.style.context(['science', 'no-latex', 'nature']):\n",
    "#     for offset,(name,tdata) in enumerate(zip(name_list,data_list)):\n",
    "#         tdata_real_res_error_alpha = (tdata['real_res_error_record']).mean(-1)/(tdata['error_record'].mean(-1)[:,:6,:6]+1e-10)\n",
    "#         data = tdata_real_res_error_alpha[:,:,0]\n",
    "#         mean = data.mean(0)\n",
    "#         std  = data.std(0)\n",
    "#         x_axis = np.arange(len(mean))\n",
    "#         plt.errorbar(x_axis, mean, yerr = std,label=name)\n",
    "#         plt.legend(prop={'size': 14})\n",
    "#         plt.xticks(x_axis,[r\"$\\alpha^{\"+upsign[i]+\"}$\" for i in range(6)],fontsize=20)\n",
    "#         ax = plt.gca()\n",
    "#         plt.text(.5,.9,r\"$\\frac{||\\epsilon_{t+\"+f\"n\"+\"}^{\"+f\"N\"+r\"} - \\epsilon_{t+\"+f\"n\"+\"}^I||}{||\\epsilon_{t+\"+f\"n-1\"+\"}^{\"+f\"N-1\"+r\"}||}$\",\n",
    "#                  horizontalalignment='center',transform=ax.transAxes,fontdict={'size':20})"
   ]
  },
  {
   "cell_type": "code",
   "execution_count": 75,
   "id": "48cbc6f9",
   "metadata": {},
   "outputs": [],
   "source": [
    "# %matplotlib inline\n",
    "# import matplotlib.pyplot as plt\n",
    "# import scienceplots\n",
    "\n",
    "# plt.style.use('science')\n",
    "\n",
    "# colorlist=['r','g','b','olive','black','purple','pink']\n",
    "# plt.figure(figsize=(10,6))\n",
    "# level = 0\n",
    "# with plt.style.context(['science', 'no-latex', 'ieee']):\n",
    "#     for offset,(name,tdata) in enumerate(zip(name_list,data_list)):\n",
    "#         tdata_real_res_error_alpha = (tdata['real_res_error_record']).mean(-1)/(tdata['error_record'].mean(-1)[:,:6,:6]+1e-10)\n",
    "#         data = tdata_real_res_error_alpha[:,:,0]\n",
    "#         mean = data.mean(0)\n",
    "#         std  = data.std(0)\n",
    "#         x_axis = np.arange(len(mean))\n",
    "#         plt.plot(x_axis, mean,label=name,linewidth=2, linestyle = '-',color = colorlist[offset])\n",
    "#         tdata_real_res_error_alpha = (tdata['appx_res_error_record']).mean(-1)/(tdata['error_record'].mean(-1)[:,:6,:6]+1e-10)\n",
    "#         data = tdata_real_res_error_alpha[:,:,0]\n",
    "#         mean = data.mean(0)\n",
    "#         std  = data.std(0)\n",
    "#         x_axis = np.arange(len(mean))\n",
    "#         plt.plot(x_axis, mean,linestyle = ':',linewidth=2,color = colorlist[offset])\n",
    "#         plt.legend(prop={'size': 14})\n",
    "#         plt.xticks(x_axis,[r\"$\\alpha^{\"+upsign[i]+\"}$\" for i in range(6)],fontsize=20)\n",
    "#         ax = plt.gca()\n",
    "#         plt.text(.5,.1,\"Error_Approx_Via_Jacobian\", \n",
    "#                  horizontalalignment='center',transform=ax.transAxes,fontdict={'size':20})"
   ]
  },
  {
   "cell_type": "code",
   "execution_count": 89,
   "id": "f0693d4c",
   "metadata": {},
   "outputs": [],
   "source": [
    "# %matplotlib inline\n",
    "# import matplotlib.pyplot as plt\n",
    "# import scienceplots\n",
    "\n",
    "# plt.style.use('science')\n",
    "\n",
    "# colorlist=['r','g','b','olive','black','purple','pink']\n",
    "# plt.figure(figsize=(10,6))\n",
    "# level = 0\n",
    "# with plt.style.context(['science', 'no-latex', 'ieee']):\n",
    "#     for offset,(name,tdata) in enumerate(zip(name_list,data_list)):\n",
    "#         tdata_real_res_error_alpha = torch.arccos(tdata['real_res_angle_record'])/np.pi*180\n",
    "#         data = tdata_real_res_error_alpha[:,:,0]\n",
    "#         mean = data.mean(0)\n",
    "#         std  = data.std(0)\n",
    "#         x_axis = np.arange(len(mean))\n",
    "#         plt.plot(x_axis, mean,label=name,linewidth=2, linestyle = '-',color = colorlist[offset])\n",
    "#         tdata_real_res_error_alpha = torch.arccos(tdata['appx_res_angle_record'])/np.pi*180\n",
    "#         data = tdata_real_res_error_alpha[:,:,0]\n",
    "#         mean = data.mean(0)\n",
    "#         std  = data.std(0)\n",
    "#         x_axis = np.arange(len(mean))\n",
    "#         plt.plot(x_axis, mean,linestyle = ':',linewidth=2,color = colorlist[offset])\n",
    "#     plt.legend(prop={'size': 14})\n",
    "#     plt.xticks(x_axis,[r\"$\\theta^{\"+upsign[i]+\"}$\" for i in range(6)],fontsize=20)\n",
    "#     ax = plt.gca()\n",
    "#     plt.text(.5,.6,\"Error_Vertical_Via_Jacobian\", \n",
    "#              horizontalalignment='center',transform=ax.transAxes,fontdict={'size':20})"
   ]
  },
  {
   "cell_type": "markdown",
   "id": "f4b375b6",
   "metadata": {
    "heading_collapsed": true
   },
   "source": [
    "### old M_iteration_method"
   ]
  },
  {
   "cell_type": "code",
   "execution_count": 157,
   "id": "6c1eec90",
   "metadata": {
    "hidden": true
   },
   "outputs": [],
   "source": [
    "# # property_index = 3\n",
    "# # data = D3error[:,property_index]\n",
    "# # name = D3name[property_index]\n",
    "# # fig = plt.figure(figsize=(12,24))\n",
    "# # _=plt.imshow(data)\n",
    "# # _=plt.xticks(range(len(name)),name,rotation=-90)\n",
    "\n",
    "# error_propagation_finetune['abc_error'].mean(0)\n",
    "\n",
    "# error_propagation_pretrain['blevel_v'].mean(dim=(0,2))\n",
    "\n",
    "# (np.arccos(error_propagation_pretrain['Angle'])/np.pi*180).mean(0)\n",
    "\n",
    "# error_propagation_pretrain1 = get_error_propagation(fourcastresult_pretrain1)\n",
    "# error_propagation_pretrain2 = get_error_propagation(fourcastresult_pretrain2)\n",
    "\n",
    "# error_propagation_finetune1 = get_error_propagation(fourcastresult_finetune1)\n",
    "# error_propagation_finetune2 = get_error_propagation(fourcastresult_finetune2)\n",
    "\n",
    "# error_propagation_finetune1['est_error'].mean(0)\n",
    "\n",
    "# error_propagation_finetune2['est_error'].mean(0)\n",
    "\n",
    "# error_propagation_finetune1['abs_error'].mean(0)\n",
    "\n",
    "# error_propagation_finetune2['abs_error'].mean(0)\n",
    "\n",
    "# error_propagation_pretrain1['abs_error'].mean(0)\n",
    "\n",
    "# error_propagation_pretrain2['abs_error'].mean(0)\n",
    "\n",
    "# error_propagation_finetune1['JacobV_N'].mean(0).sqrt()\n",
    "\n",
    "# error_propagation_finetune2['JacobV_N'].mean(0).sqrt()\n",
    "\n",
    "# print(error_propagation_pretrain1['JacobVA_N'].mean(0).sqrt())\n",
    "# print(error_propagation_pretrain2['JacobVA_N'].mean(0).sqrt())\n",
    "# print(error_propagation_finetune1['JacobVA_N'].mean(0).sqrt())\n",
    "# print(error_propagation_finetune2['JacobVA_N'].mean(0).sqrt())\n",
    "\n",
    "# error_propagation_finetune2['JacobVA_N'].mean(0).sqrt()\n",
    "\n",
    "# error_propagation_pretrain['alevel_v'].mean(0).sqrt()/error_propagation_finetune['blevel_v'].mean(0).sqrt()\n",
    "\n",
    "# error_propagation_pretrain['Jacobianv'].mean(0)\n",
    "\n",
    "# error_propagation_finetune['est_error'].mean(0)\n",
    "\n",
    "# error_propagation_finetune['Jacobianv'].mean(0)\n",
    "\n",
    "# error_propagation_finetune['est_error'].mean(0)*error_propagation_finetune['blevel_v'].mean(0)[:,None].sqrt()/error_propagation_pretrain['blevel_v'].mean(0)[:,None].sqrt()\n",
    "\n",
    "# error_propagation_pretrain['blevel_v'].mean(0).sqrt()\n",
    "\n",
    "# error_propagation_finetune['blevel_v'].mean(0).sqrt()\n",
    "\n",
    "# x, y  = np.meshgrid(np.arange(7),np.arange(7))\n",
    "# z = error_propagation_finetune['abs_error'].mean(0).numpy()\n",
    "# data = np.stack([x,y,z],-1).reshape(-1,3)\n",
    "# data = data[data[:,2]>0]\n",
    "\n",
    "# weight = torch.load(\"checkpoints/WeathBench7066/AFNONet/time_step_2_pretrain-2D706N_every_1_step/10_14_20_18_11-seed_73001/backbone.best.pt\", map_location='cpu')\n",
    "\n",
    "# [k for k in weight['model'] if 'patch_embed.proj' in k]\n",
    "\n",
    "# error_propagation_finetune['JacobV_N'].mean(0)\n",
    "\n",
    "# error_propagation_pretrain['Jacobianv'].mean(0)"
   ]
  },
  {
   "cell_type": "markdown",
   "id": "c092e07b",
   "metadata": {
    "heading_collapsed": true
   },
   "source": [
    "### res"
   ]
  },
  {
   "cell_type": "code",
   "execution_count": 35,
   "id": "1d880b66",
   "metadata": {
    "hidden": true
   },
   "outputs": [],
   "source": [
    "model = AFNONet(img_size=(32,64), patch_size=2, in_chans= 70 ,out_chans= 70 ,embed_dim=768,depth=12)\n",
    "# x = torch.randn(2,70,32,64)\n",
    "# y = torch.randn(2,70,32,64)\n",
    "# torch.save(model.state_dict(),\"debug/testmodel.pt\")\n",
    "# torch.save(x,\"debug/testx.pt\")\n",
    "# torch.save(y,\"debug/testy.pt\")\n",
    "model.load_state_dict(torch.load(\"debug/testmodel.pt\"))\n",
    "x = torch.load(\"debug/testx.pt\")\n",
    "y = torch.load(\"debug/testy.pt\")"
   ]
  },
  {
   "cell_type": "code",
   "execution_count": 42,
   "id": "406b8285",
   "metadata": {
    "code_folding": [
     0
    ],
    "hidden": true
   },
   "outputs": [],
   "source": [
    "class NGmod_RotationDeltaX(Nodal_GradientModifier):\n",
    "    def normed(self,a):\n",
    "        shape = a.shape\n",
    "        a = a.reshape(a.size(0),-1)\n",
    "        a = a/a.norm(dim=1,keepdim=True)\n",
    "        a = a.reshape(shape)\n",
    "        return a \n",
    "\n",
    "    def getRotationDeltaloss(self, modelfun, x,  t , rotation_regular_mode = '0y0'):\n",
    "        y = model(x)\n",
    "        if rotation_regular_mode =='0y0':\n",
    "            delta = (self.normed(y - x),)\n",
    "        elif rotation_regular_mode =='0v0':\n",
    "            delta = (self.normed(y.detach() - x),)\n",
    "        elif rotation_regular_mode =='Yy0':\n",
    "            delta = (self.normed(t - x),self.normed(y - x))\n",
    "        elif rotation_regular_mode =='Yv0':\n",
    "            delta = (self.normed(t - x),self.normed(y.detach() - x))\n",
    "        elif rotation_regular_mode =='YyN':\n",
    "            delta = (self.normed(t - x),self.normed(y - x),self.normed(torch.rand_like(x)))\n",
    "        else:\n",
    "            raise NotImplementedError\n",
    "        penalty= 0\n",
    "        for delta_cons in delta:\n",
    "            grad = functorch.jvp(modelfun, (x,), (delta_cons,))[1] \n",
    "            position_range = list(range(1,len(grad.shape))) # (B,P, W,H ) --> (1,2,3)\n",
    "            penalty       += ((torch.sum(grad**2,dim=position_range).sqrt()-1)**2).mean()\n",
    "        return penalty\n",
    "\n",
    "    def getL2loss(self,modelfun,x,chunk=10,coef=None):\n",
    "        raise\n",
    "    def getL1loss(self,modelfun,x,chunk=10,coef=None):\n",
    "        raise"
   ]
  },
  {
   "cell_type": "code",
   "execution_count": 8,
   "id": "f0ffa83d",
   "metadata": {
    "hidden": true
   },
   "outputs": [],
   "source": [
    "from einops.layers.torch import Rearrange"
   ]
  },
  {
   "cell_type": "code",
   "execution_count": 9,
   "id": "e43a2c89",
   "metadata": {
    "hidden": true
   },
   "outputs": [],
   "source": [
    "import torch.nn as nn"
   ]
  },
  {
   "cell_type": "code",
   "execution_count": 10,
   "id": "4e3c85f5",
   "metadata": {
    "hidden": true
   },
   "outputs": [],
   "source": [
    "class MyModel(nn.Module):\n",
    "    def __init__(self):\n",
    "        super().__init__()\n",
    "        self.linear = nn.Linear(30,30)\n",
    "    def forward(self,x):\n",
    "        x = self.linear(x)\n",
    "        x = torch.sigmoid(x)\n",
    "        x = x**2\n",
    "        return x\n",
    "model = MyModel()\n",
    "torch.save(model.state_dict(),\"debug/testmodel2.pt\")\n",
    "x = torch.randn(2,30)\n",
    "y = torch.randn(2,30)\n",
    "torch.save(x,\"debug/testx2.pt\")\n",
    "torch.save(y,\"debug/testy2.pt\")"
   ]
  },
  {
   "cell_type": "code",
   "execution_count": 11,
   "id": "c0b6c4f8",
   "metadata": {
    "hidden": true
   },
   "outputs": [],
   "source": [
    "model = AFNONet(img_size=(32,64), patch_size=2, in_chans= 70 ,out_chans= 70 ,embed_dim=768,depth=12)\n",
    "# x = torch.randn(2,70,32,64)\n",
    "# y = torch.randn(2,70,32,64)\n",
    "# torch.save(model.state_dict(),\"debug/testmodel.pt\")\n",
    "# torch.save(x,\"debug/testx.pt\")\n",
    "# torch.save(y,\"debug/testy.pt\")\n",
    "model.load_state_dict(torch.load(\"debug/testmodel.pt\"))\n",
    "x = torch.load(\"debug/testx.pt\")\n",
    "y = torch.load(\"debug/testy.pt\")\n",
    "ngmod = NGmod_RotationDeltaX(0,0,0 )"
   ]
  },
  {
   "cell_type": "code",
   "execution_count": 16,
   "id": "6dade5f7",
   "metadata": {
    "hidden": true
   },
   "outputs": [],
   "source": [
    "cotangents1 = torch.randn(3,*x.shape)"
   ]
  },
  {
   "cell_type": "code",
   "execution_count": 43,
   "id": "e0fb379e",
   "metadata": {
    "hidden": true
   },
   "outputs": [
    {
     "name": "stdout",
     "output_type": "stream",
     "text": [
      "tensor(1.8809, grad_fn=<AddBackward0>)\n",
      "blocks.11.mlp.fc1.weight - 0.12911739945411682\n",
      "blocks.11.mlp.fc1.bias - 0.003467740025371313\n",
      "norm.weight - 0.028279943391680717\n",
      "norm.bias - 0.0017165266908705235\n",
      "pre_logits.conv1.weight - 2.469726085662842\n",
      "pre_logits.conv1.bias - 0.0033190883696079254\n",
      "pre_logits.conv2.weight - 1.0886025428771973\n",
      "pre_logits.conv2.bias - 0.002785270567983389\n",
      "head.weight - 0.2757563292980194\n"
     ]
    }
   ],
   "source": [
    "model = AFNONet(img_size=(32,64), patch_size=2, in_chans= 70 ,out_chans= 70 ,embed_dim=768,depth=12)\n",
    "# x = torch.randn(2,70,32,64)\n",
    "# y = torch.randn(2,70,32,64)\n",
    "# torch.save(model.state_dict(),\"debug/testmodel.pt\")\n",
    "# torch.save(x,\"debug/testx.pt\")\n",
    "# torch.save(y,\"debug/testy.pt\")\n",
    "model.load_state_dict(torch.load(\"debug/testmodel.pt\"))\n",
    "x = torch.load(\"debug/testx.pt\")\n",
    "y = torch.load(\"debug/testy.pt\")\n",
    "ngmod = NGmod_RotationDeltaX(0,0,0 )\n",
    "loss = ngmod.getRotationDeltaloss(model,x, y,rotation_regular_mode='YyN')\n",
    "print(loss)\n",
    "loss.backward()\n",
    "ll = [[name,p.grad.norm()] for idx,(name,p) in enumerate(model.named_parameters()) if p.grad is not None]\n",
    "for i in range(-10,-1,1):\n",
    "    name,pnorm = ll[i] \n",
    "    print(f\"{name} - {pnorm}\")\n",
    "    "
   ]
  },
  {
   "cell_type": "code",
   "execution_count": 91,
   "id": "7d4ad3bf",
   "metadata": {
    "hidden": true
   },
   "outputs": [
    {
     "name": "stdout",
     "output_type": "stream",
     "text": [
      "tensor(0.9506, grad_fn=<MeanBackward0>)\n",
      "blocks.11.mlp.fc1.weight - 30.728208541870117\n",
      "blocks.11.mlp.fc1.bias - 0.0\n",
      "norm.weight - 27.712812423706055\n",
      "norm.bias - 0.0\n",
      "pre_logits.conv1.weight - 15.994429588317871\n",
      "pre_logits.conv1.bias - 0.19202826917171478\n",
      "pre_logits.conv2.weight - 19.3148250579834\n",
      "pre_logits.conv2.bias - 0.1864301562309265\n",
      "head.weight - 9.63589096069336\n"
     ]
    }
   ],
   "source": [
    "model = AFNONet(img_size=(32,64), patch_size=2, in_chans= 70 ,out_chans= 70 ,embed_dim=768,depth=12)\n",
    "# x = torch.randn(2,70,32,64)\n",
    "# y = torch.randn(2,70,32,64)\n",
    "# torch.save(model.state_dict(),\"debug/testmodel.pt\")\n",
    "# torch.save(x,\"debug/testx.pt\")\n",
    "# torch.save(y,\"debug/testy.pt\")\n",
    "model.load_state_dict(torch.load(\"debug/testmodel.pt\"))\n",
    "x = torch.load(\"debug/testx.pt\")\n",
    "y = torch.load(\"debug/testy.pt\")\n",
    "ngmod = NGmod_RotationDelta2(0,0,0 )\n",
    "loss = ngmod.getRotationDeltaloss(model,x, model(x), y,rotation_regular_mode='0y0')\n",
    "print(loss)\n",
    "loss.backward()\n",
    "ll = [[name,p.norm()] for idx,(name,p) in enumerate(model.named_parameters()) if p.grad is not None]\n",
    "for i in range(-10,-1,1):\n",
    "    name,pnorm = ll[i] \n",
    "    print(f\"{name} - {pnorm}\")\n",
    "    "
   ]
  },
  {
   "cell_type": "code",
   "execution_count": 82,
   "id": "2e6da5a1",
   "metadata": {
    "hidden": true
   },
   "outputs": [
    {
     "name": "stdout",
     "output_type": "stream",
     "text": [
      "tensor(0.0157, grad_fn=<MeanBackward0>)\n",
      "linear.weight - 0.047377560287714005\n",
      "linear.bias - 0.004780657589435577\n"
     ]
    }
   ],
   "source": [
    "model = MyModel()\n",
    "model.load_state_dict(torch.load(\"debug/testmodel2.pt\"))\n",
    "x = torch.load(\"debug/testx2.pt\")\n",
    "y = torch.load(\"debug/testy2.pt\")\n",
    "ngmod = NGmod_RotationDelta(0,0,0 )\n",
    "loss = ngmod.getRotationDeltaloss(model,x,model(x),y,rotation_regular_mode='0y0')\n",
    "print(loss)\n",
    "loss.backward()\n",
    "for idx,(name,p) in enumerate(model.named_parameters()):\n",
    "    print(f\"{name} - {p.grad.norm()}\")\n",
    "    "
   ]
  },
  {
   "cell_type": "code",
   "execution_count": 81,
   "id": "9d62f5cb",
   "metadata": {
    "hidden": true
   },
   "outputs": [
    {
     "name": "stdout",
     "output_type": "stream",
     "text": [
      "tensor(0.9756, grad_fn=<MeanBackward0>)\n",
      "linear.weight - 0.0752129852771759\n",
      "linear.bias - 0.005585702136158943\n"
     ]
    }
   ],
   "source": [
    "model = MyModel()\n",
    "model.load_state_dict(torch.load(\"debug/testmodel2.pt\"))\n",
    "x = torch.load(\"debug/testx2.pt\")\n",
    "y = torch.load(\"debug/testy2.pt\")\n",
    "ngmod = NGmod_RotationDelta2(0,0,0 )\n",
    "loss = ngmod.getRotationDeltaloss(model,x,model(x),y,rotation_regular_mode='0y0')\n",
    "print(loss)\n",
    "loss.backward()\n",
    "for idx,(name,p) in enumerate(model.named_parameters()):\n",
    "    print(f\"{name} - {p.grad.norm()}\")\n",
    "    "
   ]
  },
  {
   "cell_type": "code",
   "execution_count": 78,
   "id": "955cdde3",
   "metadata": {
    "hidden": true
   },
   "outputs": [],
   "source": [
    "class NGmod_RotationDelta2(Nodal_GradientModifier):\n",
    "    def normed(self,a):\n",
    "        shape = a.shape\n",
    "        a = a.reshape(a.size(0),-1)\n",
    "        a = a/a.norm(dim=1,keepdim=True)\n",
    "        a = a.reshape(shape)\n",
    "        return a \n",
    "\n",
    "    def getRotationDeltaloss(self, modelfun, x, y, t , rotation_regular_mode = '0y0'):\n",
    "        #y, vjpfunc = functorch.vjp(modelfun, x) # notice this will calculate f(x) again, so can be reduced in real implement.\n",
    "        if rotation_regular_mode =='0y0':\n",
    "            delta = self.normed(y - x)\n",
    "        elif rotation_regular_mode =='0v0':\n",
    "            delta = self.normed(y.detach() - x)\n",
    "        elif rotation_regular_mode =='Yy0':\n",
    "            delta = torch.cat([self.normed(t - x),self.normed(y - x)])\n",
    "        elif rotation_regular_mode =='Yv0':\n",
    "            delta = torch.cat([self.normed(t - x),self.normed(y.detach() - x)])\n",
    "        elif rotation_regular_mode =='YyN':\n",
    "            delta = torch.cat([self.normed(t - x),self.normed(y - x),self.normed(torch.rand_like(x))])\n",
    "        else:\n",
    "            raise NotImplementedError\n",
    "        #_,vjpfunc = functorch.vjp(modelfun, x) # notice this will calculate f(x) again, so can be reduced in real implement.    \n",
    "        #grad = vjpfunc(delta)[0]\n",
    "        grad           = functorch.jvp(model, (x,), (delta,))[1]\n",
    "        position_range = list(range(1,len(grad.shape))) # (B,P, W,H ) --> (1,2,3)\n",
    "        penalty        = ((torch.sum(grad**2,dim=position_range)-1)**2).mean()\n",
    "        return penalty"
   ]
  }
 ],
 "metadata": {
  "kernelspec": {
   "display_name": "Python 3 (ipykernel)",
   "language": "python",
   "name": "python3"
  },
  "language_info": {
   "codemirror_mode": {
    "name": "ipython",
    "version": 3
   },
   "file_extension": ".py",
   "mimetype": "text/x-python",
   "name": "python",
   "nbconvert_exporter": "python",
   "pygments_lexer": "ipython3",
   "version": "3.9.15"
  }
 },
 "nbformat": 4,
 "nbformat_minor": 5
}
