{
 "cells": [
  {
   "cell_type": "markdown",
   "id": "2e7e53ed",
   "metadata": {},
   "source": [
    "# Introduction"
   ]
  },
  {
   "cell_type": "markdown",
   "id": "307cf5c9",
   "metadata": {},
   "source": [
    "GraphCast 最大的数据结构是构建了一个「均匀」的三角形mesh网络, 网络的每个node都可以对应到球面的一个点, 所以可以用$(\\theta,\\phi)$来简单的表示每个node。\n",
    "当然在数据结构中，我们直接用 $node_0,node_1,\\dots,node_N$ 来顺序存储所有 node\n",
    "有几个难点:\n",
    "- 我们需要记录每个 node 的近临关系，在GraphCast中定义了 $M_0,M_1,\\dots,M_6$ 七个level，且是5近临或者6近临结构。所以每个level都是应该存储在$(N,6)$的table，每个元素表示的是紧邻的点(由于我们最后是计算综合的aggregate，所以这里的顺序没有关系）\n",
    "- mesh 的方式是 icosahedral （二十面体）以及后续的三角划分，这种方法叫做 Geodesic_polyhedron [https://en.wikipedia.org/wiki/Geodesic_polyhedron]"
   ]
  },
  {
   "cell_type": "markdown",
   "id": "13c7666e",
   "metadata": {},
   "source": [
    "所以第一步就是建立球面上的 二十面体 $M_0$ 以及接下来所有 $M_i$ 的 node， 用$(\\theta,\\phi)$来标记。\n",
    "\n",
    "- 我们可以用 `anti_lib_progs` 这个包来生成坐标，但是没有临近关系。\n",
    "- 我们也可以用 Mathematica 13.0 来做\n",
    "```\n",
    "GetNearByPoint[polygons_] := Module[{pool = Association[]},\n",
    "  For[i = 1, i <= Length[polygons], i++,\n",
    "   polygon = polygons[[i]];\n",
    "   For[j = 1, j <= 3, j++,\n",
    "    keyvalue = TakeDrop[polygon, {j}];\n",
    "    key = keyvalue[[1]][[1]];\n",
    "    val = keyvalue[[2]];\n",
    "    If[KeyExistsQ[pool, key], , pool[key] = {}];\n",
    "    pool[key] = Union[Join[pool[key], val]];\n",
    "    ]\n",
    "   ];\n",
    "  pool\n",
    "  ]\n",
    "GetNearByPoint[polygons_, position_] := \n",
    " Module[{pool = Association[]},\n",
    "  For[i = 1, i <= Length[polygons], i++,\n",
    "   polygon = polygons[[i]];\n",
    "   For[j = 1, j <= 3, j++,\n",
    "    keyvalue = TakeDrop[polygon, {j}];\n",
    "    key = position[[keyvalue[[1]][[1]]]];\n",
    "    val = position[[keyvalue[[2]]]];\n",
    "    If[KeyExistsQ[pool, key], , pool[key] = {}];\n",
    "    pool[key] = Union[Join[pool[key], val]];\n",
    "    ]\n",
    "   ];\n",
    "  pool\n",
    "  ]\n",
    "polygons = GeodesicPolyhedron[\"Icosahedron\", 1];\n",
    "GetNearByPoint[polygons[[2]], Round[polygons[[1]], 0.0001]]\n",
    "Graphics3D[polygons]\n",
    "```\n",
    "这里我们可以发现， 论文中使用的setting是\n",
    "`GeodesicPolyhedron[\"Icosahedron\", n];` $n\\in[1,2,4,8,16,32,64]$\n",
    "\n",
    "对应的 node数为 $[12,42,162,642,2562,10242,40962]$\n",
    "\n",
    "所以还是相当大的一个Mesh, 但他实际上还是取决于分辨率的。\n",
    "- 比如 32x64 那么对应的 node 为 2048 对于 M5\n",
    "- 比如 64x128 那么对应的 node 为 8192 对应于 M6\n",
    "- 比如 720x1440 那么对应的 node 为   这是 25 倍的 M7"
   ]
  },
  {
   "cell_type": "markdown",
   "id": "8ee1e683",
   "metadata": {
    "heading_collapsed": true
   },
   "source": [
    "### Create Mesh-Node"
   ]
  },
  {
   "cell_type": "markdown",
   "id": "04bb1614",
   "metadata": {
    "hidden": true
   },
   "source": [
    "我们这里直接用 Mathematica 中生成需要的所有 node"
   ]
  },
  {
   "cell_type": "code",
   "execution_count": 7,
   "id": "a1acca1e",
   "metadata": {
    "hidden": true
   },
   "outputs": [],
   "source": [
    "import os\n",
    "os.environ['CUDA_VISIBLE_DEVICES']=\"7\"\n",
    "\n",
    "import numpy as np\n",
    "import torch\n",
    "import csv\n"
   ]
  },
  {
   "cell_type": "code",
   "execution_count": 8,
   "id": "21d053d5",
   "metadata": {
    "hidden": true
   },
   "outputs": [],
   "source": [
    "flag = \"mesh5\""
   ]
  },
  {
   "cell_type": "markdown",
   "id": "34c5e704",
   "metadata": {
    "heading_collapsed": true
   },
   "source": [
    "### Mesh Network"
   ]
  },
  {
   "cell_type": "code",
   "execution_count": 9,
   "id": "0bcd71e6",
   "metadata": {
    "hidden": true
   },
   "outputs": [],
   "source": [
    "import copy"
   ]
  },
  {
   "cell_type": "code",
   "execution_count": 10,
   "id": "79b4c2d2",
   "metadata": {
    "hidden": true,
    "scrolled": true
   },
   "outputs": [],
   "source": [
    "ROOTPATH=f\"GraphCastStructure/{flag}\"\n",
    "if not os.path.exists(ROOTPATH):os.makedirs(ROOTPATH)"
   ]
  },
  {
   "cell_type": "markdown",
   "id": "04e10e4a",
   "metadata": {
    "heading_collapsed": true,
    "hidden": true
   },
   "source": [
    "##### loading"
   ]
  },
  {
   "cell_type": "code",
   "execution_count": 8,
   "id": "98708331",
   "metadata": {
    "hidden": true
   },
   "outputs": [],
   "source": [
    "ROOTPATH=f\"GraphCastStructure/{flag}\"\n",
    "if not os.path.exists(ROOTPATH):os.makedirs(ROOTPATH)\n",
    "M2M_node2position                 = np.load(os.path.join(ROOTPATH   ,f\"M2M_node2position.npy\"   ))\n",
    "M2M_edgeid2pair                   = np.load(os.path.join(ROOTPATH   ,f\"M2M_edgeid2pair.npy\"   ))\n",
    "M2M_position2node                 = torch.load(os.path.join(ROOTPATH,f\"M2M_position2node.pt\"   )                 )\n",
    "M2M_node2lined_node               = torch.load(os.path.join(ROOTPATH,f\"M2M_node2lined_node.pt\"   )               )\n",
    "M2M_edge2id                       = torch.load(os.path.join(ROOTPATH,f\"M2M_edge2id.pt\"   )                       )\n",
    "M2M_nearby_node_per_node_per_level= torch.load(os.path.join(ROOTPATH,f\"M2M_nearby_node_per_node_per_level.pt\"   ))\n",
    "M2M_nearby_edge_per_node_per_level= torch.load(os.path.join(ROOTPATH,f\"M2M_nearby_edge_per_node_per_level.pt\"   ))"
   ]
  },
  {
   "cell_type": "code",
   "execution_count": null,
   "id": "d95830b7",
   "metadata": {
    "hidden": true
   },
   "outputs": [],
   "source": [
    "# np.save(os.path.join(ROOTPATH,f\"M2M_node2position.npy\"   ), node2position)  \n",
    "# np.save(os.path.join(ROOTPATH,f\"M2M_edgeid2pair.npy\"   )   , edgeid2pair  )\n",
    "# torch.save(position2node                ,os.path.join(ROOTPATH,f\"M2M_position2node.pt\"   )                 )\n",
    "# torch.save(node_to_linked_nodes         ,os.path.join(ROOTPATH,f\"M2M_node2lined_node.pt\"   )               )\n",
    "# torch.save(edge2id                      ,os.path.join(ROOTPATH,f\"M2M_edge2id.pt\"   )                       )                \n",
    "# torch.save(node2nearby_por_level        ,os.path.join(ROOTPATH,f\"M2M_nearby_node_per_node_per_level.pt\"   ))\n",
    "# torch.save(key_nearbyedge_pair_per_level,os.path.join(ROOTPATH,f\"M2M_nearby_edge_per_node_per_level.pt\"   ))\n",
    "# #torch.save(key_nearby_pair_per_level    ,os.path.join(ROOTPATH,f\"M2M_pair_per_level.pt\"   ))"
   ]
  },
  {
   "cell_type": "code",
   "execution_count": 3,
   "id": "9d586b61",
   "metadata": {
    "hidden": true
   },
   "outputs": [],
   "source": [
    "# node2position                = np.load(f\"GraphCastStructure/{flag}_node2position.npy\")\n",
    "# edgeid2pair                  = np.load(f\"GraphCastStructure/{flag}_edgeid2pair.npy\")\n",
    "# position2node                = torch.load(f\"GraphCastStructure/{flag}_position2node.json.pt\")\n",
    "# key_nearby_pair_per_level    = torch.load(f\"GraphCastStructure/{flag}_keynodes2nearbynodes_pair_per_level.json.pt\")\n",
    "# edge2id                      = torch.load(f\"GraphCastStructure/{flag}_edge2id.json.pt\")\n",
    "# node2nearby_per_level        = torch.load(f\"GraphCastStructure/{flag}_node2nearby_per_level.json.pt\")\n",
    "# key_nearbyedge_pair_per_level= torch.load(f\"GraphCastStructure/{flag}_keynodes2nearbyedges_pair_per_level.json.pt\")\n",
    "# node_to_linked_nodes         = torch.load(f\"GraphCastStructure/{flag}_node_to_linked_nodes.json.pt\")"
   ]
  },
  {
   "cell_type": "markdown",
   "id": "71221cd5",
   "metadata": {
    "heading_collapsed": true,
    "hidden": true
   },
   "source": [
    "##### generate "
   ]
  },
  {
   "cell_type": "code",
   "execution_count": 7,
   "id": "58a7b18d",
   "metadata": {
    "code_folding": [
     0
    ],
    "hidden": true
   },
   "outputs": [],
   "source": [
    "def readMx(path):\n",
    "    pool = {}\n",
    "    with open(path, 'r') as csvfile:\n",
    "        spamreader = csv.reader(csvfile)\n",
    "        for row in spamreader:\n",
    "            key,val = row\n",
    "            key = eval(key.replace(\"{\",\"(\").replace(\"}\",\")\"))\n",
    "            val = eval(val.replace(\"{\",\"(\").replace(\"}\",\")\"))\n",
    "            pool[key]=val\n",
    "    return pool\n",
    "\n",
    "Mpoolist = [readMx(f'GraphCastStructure/M{i+1}.csv') for i in range(5)]"
   ]
  },
  {
   "cell_type": "code",
   "execution_count": 8,
   "id": "f9860fbe",
   "metadata": {
    "code_folding": [
     3
    ],
    "hidden": true
   },
   "outputs": [],
   "source": [
    "position2node = {}\n",
    "for pool in Mpoolist:\n",
    "    for key in pool:\n",
    "        if key not in position2node:\n",
    "            position2node[key] = len(position2node)\n",
    "node2position = np.zeros((len(position2node),3))\n",
    "for key,val in position2node.items():\n",
    "    node2position[val]=np.array(key)\n",
    "    \n",
    "torch.save(position2node,os.path.join(ROOTPATH,f\"M2M_position2node.pt\"   ))\n",
    "np.save(os.path.join(ROOTPATH,f\"M2M_node2position.npy\"   ),node2position)  "
   ]
  },
  {
   "cell_type": "code",
   "execution_count": 9,
   "id": "9f50a2b8",
   "metadata": {
    "code_folding": [],
    "hidden": true
   },
   "outputs": [],
   "source": [
    "node2nearby_por_level = []\n",
    "node_to_linked_nodes ={}\n",
    "for pool in Mpoolist:\n",
    "    node2nearby = {}\n",
    "    linked_nodes = []\n",
    "    for pos, nearby in pool.items():\n",
    "        node_id = position2node[pos]\n",
    "        nearby_ids = [position2node[p] for p in nearby]\n",
    "        if node_id not in node2nearby:node2nearby[node_id]=[]\n",
    "        if node_id not in node_to_linked_nodes:node_to_linked_nodes[node_id] = []\n",
    "        node2nearby[node_id]+=nearby_ids\n",
    "        node_to_linked_nodes[node_id]+=nearby_ids\n",
    "    node2nearby_por_level.append(node2nearby)"
   ]
  },
  {
   "cell_type": "code",
   "execution_count": 10,
   "id": "1e559a9c",
   "metadata": {
    "code_folding": [],
    "hidden": true
   },
   "outputs": [],
   "source": [
    "key_nearby_pair_per_level = []\n",
    "for level, node2nearby in enumerate(node2nearby_por_level):\n",
    "    max_length = max([len(t) for t in node2nearby.values()])\n",
    "    key_nodes = []\n",
    "    nearby_nodes_list = []\n",
    "    for key_node,nearby_nodes in node2nearby.items():\n",
    "        key_nodes.append(key_node)\n",
    "        nearby_nodes_list.append(nearby_nodes if len(nearby_nodes)==max_length else nearby_nodes+[-1])\n",
    "    key_nodes = np.array(key_nodes)\n",
    "    nearby_nodes = np.array(nearby_nodes_list)\n",
    "    key_nearby_pair_per_level.append([key_nodes,nearby_nodes])\n",
    "    #print(f\"{level}: {min(lenth_list)} - {max(lenth_list)}\")\n",
    "\n",
    "edge2id = {}\n",
    "for key_nodes, node2nearby in key_nearby_pair_per_level:\n",
    "    for key_node, nearby_nodes in zip(key_nodes, node2nearby):\n",
    "        for nearby_node in nearby_nodes:\n",
    "            if key_node == -1:continue\n",
    "            if nearby_node == -1:continue\n",
    "            edge_id = [key_node,nearby_node]\n",
    "            edge_id.sort()\n",
    "            edge_id = tuple(edge_id) # unique edge number\n",
    "            if edge_id not in edge2id:\n",
    "                edge2id[edge_id] = len(edge2id)\n",
    "                \n",
    "edgeid2pair = np.zeros((len(edge2id),2),dtype='int')\n",
    "for pair, _id in edge2id.items():\n",
    "    edgeid2pair[_id] = np.array(pair)\n",
    "\n",
    "key_nearbyedge_pair_per_level = []\n",
    "for key_nodes, node2nearby in key_nearby_pair_per_level:\n",
    "    node2nearby_edge_list =[]\n",
    "    for key_node, nearby_nodes in zip(key_nodes, node2nearby):\n",
    "        nearby_edge_id = []\n",
    "        for nearby_node in nearby_nodes:\n",
    "            if key_node == -1 or nearby_node == -1:\n",
    "                edge_id = -1\n",
    "            else:\n",
    "                edge_pair = [key_node,nearby_node]\n",
    "                edge_pair.sort()\n",
    "                edge_id = tuple(edge_pair)\n",
    "                edge_id = edge2id[edge_id]\n",
    "            nearby_edge_id.append(edge_id)\n",
    "        node2nearby_edge_list.append(nearby_edge_id)\n",
    "    key_nearbyedge_pair_per_level.append([key_nodes,np.array(node2nearby_edge_list)])"
   ]
  },
  {
   "cell_type": "code",
   "execution_count": 11,
   "id": "44ba175f",
   "metadata": {
    "hidden": true
   },
   "outputs": [],
   "source": [
    "np.save(os.path.join(ROOTPATH,f\"M2M_edgeid2pair.npy\"   ), edgeid2pair)\n",
    "torch.save(node_to_linked_nodes         ,os.path.join(ROOTPATH,f\"M2M_node2lined_node.pt\"   ))\n",
    "torch.save(edge2id                      ,os.path.join(ROOTPATH,f\"M2M_edge2id.pt\"   ))                \n",
    "torch.save(node2nearby_por_level        ,os.path.join(ROOTPATH,f\"M2M_nearby_node_per_node_per_level.pt\"   ))\n",
    "torch.save(key_nearbyedge_pair_per_level,os.path.join(ROOTPATH,f\"M2M_nearby_edge_per_node_per_level.pt\"   ))\n",
    "#torch.save(key_nearby_pair_per_level    ,os.path.join(ROOTPATH,f\"M2M_pair_per_level.pt\"   ))"
   ]
  },
  {
   "cell_type": "code",
   "execution_count": null,
   "id": "aee1a47b",
   "metadata": {
    "hidden": true
   },
   "outputs": [],
   "source": [
    "#torch.save(node_to_linked_nodes,os.path.join(ROOTPATH,f\"M2M_node2lined_node.pt\"   ))"
   ]
  },
  {
   "cell_type": "code",
   "execution_count": 116,
   "id": "732f09d2",
   "metadata": {
    "code_folding": [],
    "hidden": true
   },
   "outputs": [],
   "source": [
    "# np.save(f\"GraphCastStructure/{flag}_edgeid2pair.npy\",edgeid2pair)\n",
    "# torch.save(edge2id,f\"GraphCastStructure/{flag}_edge2id.json.pt\")                \n",
    "# torch.save(key_nearby_pair_per_level,f\"GraphCastStructure/{flag}_keynodes2nearbynodes_pair_per_level.json.pt\")\n",
    "# torch.save(node2nearby_por_level,f\"GraphCastStructure/{flag}_node2nearby_per_level.json.pt\")\n",
    "# torch.save(key_nearbyedge_pair_per_level,f\"GraphCastStructure/{flag}_keynodes2nearbyedges_pair_per_level.json.pt\")"
   ]
  },
  {
   "cell_type": "markdown",
   "id": "21fc0249",
   "metadata": {
    "heading_collapsed": true
   },
   "source": [
    "### Grid and Mesh Network"
   ]
  },
  {
   "cell_type": "markdown",
   "id": "573314da",
   "metadata": {
    "hidden": true
   },
   "source": [
    "然后我们计算 grid 和 node 之间的聚合关系"
   ]
  },
  {
   "cell_type": "markdown",
   "id": "50f74c6b",
   "metadata": {
    "hidden": true
   },
   "source": [
    "我们用 721x1440 作为例子, 先用 (720, 1440, 3) 来表示出每个位置的 pos"
   ]
  },
  {
   "cell_type": "code",
   "execution_count": 11,
   "id": "39c78d4d",
   "metadata": {
    "hidden": true
   },
   "outputs": [],
   "source": [
    "resolution = 32\n",
    "resolution_flag=f\"{resolution}x{2*resolution}\""
   ]
  },
  {
   "cell_type": "code",
   "execution_count": 12,
   "id": "9abd1c07",
   "metadata": {
    "hidden": true
   },
   "outputs": [],
   "source": [
    "ROOTPATH=f\"GraphCastStructure/{flag}\"\n",
    "if not os.path.exists(ROOTPATH):os.makedirs(ROOTPATH)\n",
    "node2position= np.load(os.path.join(ROOTPATH   ,f\"M2M_node2position.npy\"   ))\n",
    "position2node= torch.load(os.path.join(ROOTPATH,f\"M2M_position2node.pt\"   )                 )\n",
    "ROOTPATH=f\"GraphCastStructure/{flag}/{resolution_flag}\"\n",
    "if not os.path.exists(ROOTPATH):os.makedirs(ROOTPATH)"
   ]
  },
  {
   "cell_type": "markdown",
   "id": "6bc63cd4",
   "metadata": {
    "heading_collapsed": true,
    "hidden": true
   },
   "source": [
    "#### load"
   ]
  },
  {
   "cell_type": "code",
   "execution_count": 5,
   "id": "9c8758c5",
   "metadata": {
    "hidden": true
   },
   "outputs": [],
   "source": [
    "ROOTPATH=f\"GraphCastStructure/{flag}/{resolution_flag}\"\n",
    "if not os.path.exists(ROOTPATH):os.makedirs(ROOTPATH)\n",
    "G2M_grid2LaLotudePos = np.load(os.path.join(ROOTPATH,f\"G2M_grid2LaLotudePos.npy\"   )     )\n",
    "M2G_LaLotudePos2grid = np.load(os.path.join(ROOTPATH,f\"M2G_LaLotudeGrid2rect_tensor.npy\"))\n",
    "G2M_rect_of_node_tensor    = np.load(os.path.join(ROOTPATH,f\"G2M_rect_of_node_tensor.npy\"   ) )\n",
    "G2M_rect_distant_tensor    = np.load(os.path.join(ROOTPATH,f\"G2M_rect_distant_tensor.npy\"   ) )\n",
    "G2M_edge_id_of_node_tensor = np.load(os.path.join(ROOTPATH,f\"G2M_edge_id_of_node_tensor.npy\") )\n",
    "G2M_edge_coef_node_tensor  = np.load(os.path.join(ROOTPATH,f\"G2M_edge_coef_node_tensor.npy\" ) )\n",
    "G2M_edge_id2pair_tensor    = np.load(os.path.join(ROOTPATH,f\"G2M_edge_id2pair_tensor.npy\"   ) )\n",
    "G2M_edge_pos2_id           = torch.load(os.path.join(ROOTPATH,f\"G2M_edge_pos2_id.pt\"   ))\n",
    "M2G_node_of_rect_tensor    = np.load(os.path.join(ROOTPATH,f\"M2G_node_of_rect_tensor.npy\"   ))    \n",
    "M2G_node_distant_tensor    = np.load(os.path.join(ROOTPATH,f\"M2G_node_of_rect_tensor.npy\"   ))    \n",
    "M2G_edge_id_of_grid_tensor= np.load(os.path.join(ROOTPATH,f\"M2G_edge_id_of_grid_tensor.npy\"   ))  \n",
    "M2G_edge_coef_grid_tensor = np.load(os.path.join(ROOTPATH,f\"M2G_edge_coef_grid_tensor.npy\"   ) )  \n",
    "M2G_edge_id2pair_tensor   = np.load(os.path.join(ROOTPATH,f\"M2G_edge_id2pair_tensor.npy\")      )  \n",
    "# M2G_node_of_rect        = torch.load(os.path.join(ROOTPATH,f\"M2G_node_of_rect.pt\"   ))\n",
    "# M2G_node_distant        = torch.load(os.path.join(ROOTPATH,f\"M2G_node_distant.pt\"   ))\n",
    "# M2G_edge_id_of_rect     = torch.load(os.path.join(ROOTPATH,f\"M2G_edge_id_of_rect.pt\"))\n",
    "# M2G_edge_coef_rect      = torch.load(os.path.join(ROOTPATH,f\"M2G_edge_coef_rect.pt\" ))\n",
    "# M2G_edge_id2pair        = torch.load(os.path.join(ROOTPATH,f\"M2G_edge_id2pair.pt\"   ))\n",
    "# M2G_edge_pos2_id        = torch.load(os.path.join(ROOTPATH,f\"M2G_edge_pos2_id.pt\"   ))"
   ]
  },
  {
   "cell_type": "code",
   "execution_count": 34,
   "id": "46965d75",
   "metadata": {
    "hidden": true
   },
   "outputs": [],
   "source": []
  },
  {
   "cell_type": "code",
   "execution_count": 8,
   "id": "e3140a41",
   "metadata": {
    "hidden": true
   },
   "outputs": [],
   "source": [
    "# rect2LaLotude = torch.load(f\"GraphCastStructure/{flag}_rect2LaLotude.json.pt\")\n",
    "# LaLotude2rect = torch.load(f\"GraphCastStructure/{flag}_LaLotude2rect.json.pt\")\n",
    "# the_neighby_rect_distant = np.load(f\"GraphCastStructure/{flag}_the_neighby_rect_distant.npy\")\n",
    "# the_neighby_rect_of_node = np.load(f\"GraphCastStructure/{flag}_the_neighby_rect_of_node.npy\")\n",
    "# G2M_edge_id_of_node_tensor = np.load(f\"GraphCastStructure/{flag}_G2M_edge_id_of_node_tensor.npy\")\n",
    "# G2M_edge_coef_node_tensor  = np.load(f\"GraphCastStructure/{flag}_G2M_edge_coef_node_tensor.npy\")\n",
    "# the_neighby_node_of_rect = torch.load(f\"GraphCastStructure/{flag}_the_neighby_node_of_rect.json.pt\")\n",
    "# G2M_edge_id_of_rect_tensor   = np.load(f\"GraphCastStructure/{flag}_G2M_edge_id_of_rect_tensor.npy\"  )\n",
    "# G2M_edge_coef_of_rect_tensor = np.load(f\"GraphCastStructure/{flag}_G2M_edge_coef_of_rect_tensor.npy\")\n",
    "# LaLotudePos2grid = np.load(f\"GraphCastStructure/{flag}_LaLotudePos2grid.npy\")"
   ]
  },
  {
   "cell_type": "code",
   "execution_count": null,
   "id": "a798450a",
   "metadata": {
    "hidden": true
   },
   "outputs": [],
   "source": [
    "# M2G_node_of_rect_tensor = np.load(os.path.join(ROOTPATH,f\"M2G_node_of_rect_tensor.npy\"   ))    \n",
    "# M2G_node_distant_tensor = np.load(os.path.join(ROOTPATH,f\"M2G_node_of_rect_tensor.npy\"   ))    \n",
    "# M2G_node_of_rect        = torch.load(os.path.join(ROOTPATH,f\"M2G_node_of_rect.pt\"   ))\n",
    "# M2G_node_distant        = torch.load(os.path.join(ROOTPATH,f\"M2G_node_distant.pt\"   ))\n",
    "# M2G_edge_id_of_rect     = torch.load(os.path.join(ROOTPATH,f\"M2G_edge_id_of_rect.pt\"))\n",
    "# M2G_edge_coef_rect      = torch.load(os.path.join(ROOTPATH,f\"M2G_edge_coef_rect.pt\" ))\n",
    "# M2G_edge_id2pair        = torch.load(os.path.join(ROOTPATH,f\"M2G_edge_id2pair.pt\"   ))\n",
    "# M2G_edge_pos2_id        = torch.load(os.path.join(ROOTPATH,f\"M2G_edge_pos2_id.pt\"   ))"
   ]
  },
  {
   "cell_type": "markdown",
   "id": "ef568ca3",
   "metadata": {
    "heading_collapsed": true,
    "hidden": true
   },
   "source": [
    "#### generate"
   ]
  },
  {
   "cell_type": "code",
   "execution_count": 13,
   "id": "a549e23f",
   "metadata": {
    "hidden": true
   },
   "outputs": [],
   "source": [
    "theta_offset= (180/resolution/2)\n",
    "latitude   = (np.linspace(0,180,resolution+1) + theta_offset)[:resolution]\n",
    "longitude  = np.linspace(0,360,2*resolution+1)[:(2*resolution)]\n",
    "x, y           = np.meshgrid(latitude, longitude)\n",
    "LaLotude       = np.stack([y,x],-1).transpose(1,0,2)\n",
    "\n",
    "\n",
    "pos = node2position\n",
    "phi         = np.arctan2(pos[:,0],pos[:,1])\n",
    "phi[phi<0]  = 2*np.pi +  phi[phi<0]\n",
    "theta       = np.arctan2(np.sqrt(pos[:,0]**2+pos[:,1]**2),pos[:,2]) \n",
    "phi   = phi*180/np.pi\n",
    "theta = theta*180/np.pi\n",
    "\n",
    "theta_index = (theta-theta_offset)//(180/resolution)\n",
    "phi_index   = phi//(180/resolution)\n",
    "rectangle_theta_idx = np.stack([theta_index,theta_index+1,theta_index+1,theta_index],axis=1)\n",
    "\n",
    "rectangle_phi_idx   = np.stack([phi_index,phi_index,phi_index+1,phi_index+1],axis=1)\n",
    "\n",
    "rectangle_theta_idx[position2node[0,0, 1]]= np.array([-1,-1,-1,-1])\n",
    "rectangle_theta_idx[position2node[0,0,-1]]= np.array([resolution,resolution,resolution,resolution])\n",
    "rectangle_phi_idx[position2node[0,0, 1]]= np.array([0,0,0,0])\n",
    "rectangle_phi_idx[position2node[0,0,-1]]= np.array([0,0,0,0])\n",
    "\n",
    "rectangle_theta= rectangle_theta_idx*(180/resolution)+theta_offset\n",
    "rectangle_theta[rectangle_theta_idx<0]           = 0\n",
    "rectangle_theta[rectangle_theta_idx>=resolution] = 180\n",
    "\n",
    "rectangle_phi   = rectangle_phi_idx*(180/resolution)\n",
    "rectangle_phi[rectangle_phi_idx>=2*resolution] = 0\n",
    "\n",
    "rectangle_angle_position = np.stack([rectangle_phi,rectangle_theta],-1)"
   ]
  },
  {
   "cell_type": "code",
   "execution_count": 648,
   "id": "6dc0b90b",
   "metadata": {
    "hidden": true
   },
   "outputs": [],
   "source": [
    "# print(np.sort(np.array(list(set(LaLotude.reshape(-1,2)[:,1])))))\n",
    "# print(np.sort(np.array(list(set(rectangle_theta.flatten())))))"
   ]
  },
  {
   "cell_type": "code",
   "execution_count": 653,
   "id": "28337ddb",
   "metadata": {
    "hidden": true
   },
   "outputs": [],
   "source": [
    "# print(np.sort(np.array(list(set(LaLotude.reshape(-1,2)[:,0])))))\n",
    "# print(np.sort(np.array(list(set(rectangle_phi.flatten())))))"
   ]
  },
  {
   "cell_type": "code",
   "execution_count": 14,
   "id": "d2d1b735",
   "metadata": {
    "hidden": true
   },
   "outputs": [],
   "source": [
    "rectangle_theta=rectangle_theta/180*np.pi #(720,1440)\n",
    "rectangle_phi  =rectangle_phi  /180*np.pi #(720,1440) \n",
    "\n",
    "rectangle_x = np.sin(rectangle_theta)*np.sin(rectangle_phi)\n",
    "rectangle_y = np.sin(rectangle_theta)*np.cos(rectangle_phi)\n",
    "rectangle_z = np.cos(rectangle_theta)\n",
    "rectangle_position_o = np.stack([rectangle_x,rectangle_y,rectangle_z],-1)\n",
    "\n",
    "LaLotudePI     = np.stack([y,x],-1).transpose(1,0,2)/180*np.pi #(720,1440)\n",
    "LaLotudeVector_o = np.stack([np.sin(LaLotudePI[...,1])*np.sin(LaLotudePI[...,0]),\n",
    "                             np.sin(LaLotudePI[...,1])*np.cos(LaLotudePI[...,0]),\n",
    "                             np.cos(LaLotudePI[...,1])],2)\n"
   ]
  },
  {
   "cell_type": "code",
   "execution_count": 75,
   "id": "06f79362",
   "metadata": {
    "hidden": true
   },
   "outputs": [],
   "source": [
    "# rectangle_position = np.stack([rectangle_x,rectangle_y,rectangle_z],-1)\n",
    "# rectangle_position[position2node[0,0, 1]]= np.array([[0.        , 0.        , 1.        ]]*4)\n",
    "# rectangle_position[position2node[0,0,-1]]=np.array([[0.        , 0.        , -1.        ]]*4)"
   ]
  },
  {
   "cell_type": "code",
   "execution_count": 15,
   "id": "506bcceb",
   "metadata": {
    "hidden": true,
    "scrolled": true
   },
   "outputs": [],
   "source": []
  },
  {
   "cell_type": "code",
   "execution_count": 15,
   "id": "e29150eb",
   "metadata": {
    "hidden": true
   },
   "outputs": [
    {
     "name": "stdout",
     "output_type": "stream",
     "text": [
      "2048\n",
      "2562\n",
      "1928\n"
     ]
    }
   ],
   "source": [
    "LaLotudeVector     = np.round(LaLotudeVector_o,8)\n",
    "rectangle_position = np.round(rectangle_position_o,8)\n",
    "LaLotudeVectorPool = {}\n",
    "for pos in LaLotudeVector.reshape(-1,3):  \n",
    "    LaLotudeVectorPool[tuple(pos)] = len(LaLotudeVectorPool)\n",
    "print(len(LaLotudeVectorPool))\n",
    "print(len(rectangle_position))\n",
    "\n",
    "LaLotude2rect = {}\n",
    "rect2LaLotude = {}\n",
    "for pos in [(0,0,1),(0,0,-1)]:\n",
    "    if pos not in LaLotude2rect:\n",
    "            node = len(LaLotude2rect)\n",
    "            rect2LaLotude[node]= pos\n",
    "            LaLotude2rect[pos] = node\n",
    "\n",
    "for pos_list in rectangle_position:\n",
    "    for pos in pos_list:\n",
    "        pos= tuple(pos)\n",
    "        if pos not in LaLotude2rect:\n",
    "            node = len(LaLotude2rect)\n",
    "            rect2LaLotude[node]= pos\n",
    "            LaLotude2rect[pos] = node\n",
    "print(len(LaLotude2rect))\n",
    "G2M_rect_pool = copy.deepcopy(LaLotude2rect)\n",
    "# now we deal with the rest postion that won't appear in rect\n",
    "for pos in LaLotudeVectorPool.keys():\n",
    "    pos= tuple(pos)\n",
    "    if pos in LaLotude2rect:continue\n",
    "    node = len(LaLotude2rect)\n",
    "    rect2LaLotude[node]= pos\n",
    "    LaLotude2rect[pos] = node"
   ]
  },
  {
   "cell_type": "code",
   "execution_count": 16,
   "id": "c671e40c",
   "metadata": {
    "hidden": true
   },
   "outputs": [
    {
     "data": {
      "text/plain": [
       "2050"
      ]
     },
     "execution_count": 16,
     "metadata": {},
     "output_type": "execute_result"
    }
   ],
   "source": [
    "len(LaLotude2rect)"
   ]
  },
  {
   "cell_type": "code",
   "execution_count": 17,
   "id": "fef277d5",
   "metadata": {
    "hidden": true
   },
   "outputs": [],
   "source": [
    "grid2LaLotudePos = []\n",
    "for i,poss in enumerate(G2M_rect_pool.keys()):\n",
    "    if (poss[-1]==1) or (poss[-1]==-1):continue\n",
    "    grid2LaLotudePos.append(LaLotudeVectorPool[tuple(poss)])\n",
    "G2M_grid2LaLotudePos = np.array(grid2LaLotudePos)  \n",
    "np.save(os.path.join(ROOTPATH,f\"G2M_grid2LaLotudePos.npy\"   ),G2M_grid2LaLotudePos)    "
   ]
  },
  {
   "cell_type": "code",
   "execution_count": 18,
   "id": "1b576d91",
   "metadata": {
    "hidden": true
   },
   "outputs": [
    {
     "name": "stdout",
     "output_type": "stream",
     "text": [
      "(0, 0, 1)\n",
      "(0, 0, -1)\n"
     ]
    }
   ],
   "source": [
    "# should only be (0,0,1) and (0,0,-1)\n",
    "for key in LaLotude2rect.keys():\n",
    "    if key not in LaLotudeVectorPool:\n",
    "        print(key)"
   ]
  },
  {
   "cell_type": "code",
   "execution_count": null,
   "id": "cea542dc",
   "metadata": {
    "hidden": true
   },
   "outputs": [],
   "source": [
    "# notice the mesh will not use all grid point \n",
    "# in this example, there are 64*128=8192 grid points\n",
    "# however, the mesh only need 7790 grid poitns\n",
    "# thus, there are 402 points infomation won't seed to build mesh \n",
    "# it is OK for the Grid to Mesh stage.\n",
    "# but be careful to the procedue during Mesh to Grid stage"
   ]
  },
  {
   "cell_type": "code",
   "execution_count": null,
   "id": "db93b31b",
   "metadata": {
    "hidden": true
   },
   "outputs": [],
   "source": []
  },
  {
   "cell_type": "code",
   "execution_count": 19,
   "id": "eeb850a0",
   "metadata": {
    "hidden": true
   },
   "outputs": [],
   "source": [
    "# rectangle_position record which grid box the mesh node in.\n",
    "LaLotudePos2grid = []\n",
    "for i,poss in enumerate(LaLotudeVector.reshape(-1,3)):\n",
    "    LaLotudePos2grid.append(LaLotude2rect[tuple(poss)])\n",
    "LaLotudePos2grid = np.array(LaLotudePos2grid)\n",
    "LaLotudePos2grid = LaLotudePos2grid.reshape((resolution),(2*resolution))  \n",
    "\n",
    "np.save(os.path.join(ROOTPATH,f\"M2G_LaLotudeGrid2rect_tensor.npy\"   ),LaLotudePos2grid)    "
   ]
  },
  {
   "cell_type": "code",
   "execution_count": 679,
   "id": "0c61bce5",
   "metadata": {
    "code_folding": [],
    "hidden": true,
    "scrolled": false
   },
   "outputs": [],
   "source": [
    "#np.save(f\"GraphCastStructure/{flag}_LaLotudePos2grid.npy\",LaLotudePos2grid)"
   ]
  },
  {
   "cell_type": "markdown",
   "id": "16a23cc4",
   "metadata": {
    "hidden": true
   },
   "source": [
    "##### from the Grid to Mesh "
   ]
  },
  {
   "cell_type": "code",
   "execution_count": 20,
   "id": "cbc11504",
   "metadata": {
    "code_folding": [],
    "hidden": true
   },
   "outputs": [],
   "source": [
    "G2M_edge_id2pair   = {} #np.zeros((len(node2position),4),dtype='float')\n",
    "G2M_edge_pos2_id   = {} #np.zeros((len(node2position),4),dtype='float')\n",
    "\n",
    "G2M_rect_of_node   = {} #np.zeros((len(node2position),4),dtype='int')\n",
    "G2M_rect_distant   = {} #np.zeros((len(node2position),4),dtype='float')\n",
    "G2M_edge_id_of_node= {} #np.zeros((len(node2position),4),dtype='float')\n",
    "G2M_edge_coef_node = {} #np.zeros((len(node2position),4),dtype='float')\n",
    "\n",
    "G2M_node_of_rect   = {} #np.zeros((len(node2position),4),dtype='int')\n",
    "G2M_node_distant   = {} #np.zeros((len(node2position),4),dtype='float')\n",
    "G2M_edge_id_of_rect= {} #np.zeros((len(node2position),4),dtype='float')\n",
    "G2M_edge_coef_rect = {} #np.zeros((len(node2position),4),dtype='float')\n",
    "\n",
    "\n",
    "for node_id, (node_pos,rec_poses) in enumerate(zip(node2position,rectangle_position)):\n",
    "    for rec_pos in rec_poses:\n",
    "        rect_id = LaLotude2rect[tuple(rec_pos)]\n",
    "        distant = np.linalg.norm(node_pos - rec_pos)\n",
    "        edgeflag = (rect_id, node_id)\n",
    "        if  edgeflag not in G2M_edge_pos2_id:\n",
    "            G2M_edge_id = len(G2M_edge_pos2_id)\n",
    "            G2M_edge_pos2_id[edgeflag]=G2M_edge_id\n",
    "            G2M_edge_id2pair[G2M_edge_id] = edgeflag\n",
    "        G2M_edge_id = G2M_edge_pos2_id[edgeflag]\n",
    "        if node_id not in G2M_edge_id_of_node:G2M_edge_id_of_node[node_id] = [] \n",
    "        if node_id not in G2M_edge_coef_node :G2M_edge_coef_node[node_id]  = []\n",
    "        if node_id not in G2M_rect_of_node   :G2M_rect_of_node[node_id]    = []\n",
    "        if node_id not in G2M_rect_distant   :G2M_rect_distant[node_id]    = []\n",
    "        \n",
    "        if rect_id not in G2M_node_of_rect   :G2M_node_of_rect[rect_id]    = [] \n",
    "        if rect_id not in G2M_node_distant   :G2M_node_distant[rect_id]    = []\n",
    "        if rect_id not in G2M_edge_id_of_rect:G2M_edge_id_of_rect[rect_id] = []\n",
    "        if rect_id not in G2M_edge_coef_rect :G2M_edge_coef_rect[rect_id]  = []\n",
    "            \n",
    "        G2M_rect_of_node[node_id].append(rect_id)\n",
    "        G2M_rect_distant[node_id].append(distant)\n",
    "        G2M_edge_id_of_node[node_id].append(G2M_edge_id)\n",
    "        G2M_edge_coef_node[node_id].append(distant)\n",
    "\n",
    "        G2M_node_of_rect[rect_id].append(node_id)\n",
    "        G2M_node_distant[rect_id].append(distant)\n",
    "        G2M_edge_id_of_rect[rect_id].append(G2M_edge_id)\n",
    "        G2M_edge_coef_rect[rect_id].append(distant)"
   ]
  },
  {
   "cell_type": "code",
   "execution_count": 21,
   "id": "7bdbd0ef",
   "metadata": {
    "code_folding": [],
    "hidden": true
   },
   "outputs": [],
   "source": [
    "# build edge \n",
    "G2M_edge_id2pair_tensor   = np.zeros((len(G2M_edge_id2pair),2),dtype='int')  #<-- save \n",
    "for i in range(len(G2M_edge_id2pair)):\n",
    "    G2M_edge_id2pair_tensor[i]    = np.array(G2M_edge_id2pair[i])\n",
    "G2M_edge_pos2_id = G2M_edge_pos2_id       \n",
    "np.save(os.path.join(ROOTPATH,f\"G2M_edge_id2pair_tensor.npy\"   ), G2M_edge_id2pair_tensor) \n",
    "torch.save(G2M_edge_pos2_id    ,os.path.join(ROOTPATH,f\"G2M_edge_pos2_id.pt\"   ))  "
   ]
  },
  {
   "cell_type": "code",
   "execution_count": 22,
   "id": "92e986f2",
   "metadata": {
    "code_folding": [],
    "hidden": true
   },
   "outputs": [],
   "source": [
    "# build neighbor rect of ordered node\n",
    "G2M_rect_of_node_tensor = np.zeros((len(G2M_rect_of_node),4),dtype='int')    #<-- save  \n",
    "G2M_rect_distant_tensor = np.zeros((len(G2M_rect_of_node),4),dtype='float')  #<-- save \n",
    "for i in range(len(G2M_rect_of_node)):\n",
    "    G2M_rect_of_node_tensor[i] = np.array(G2M_rect_of_node[i])\n",
    "    G2M_rect_distant_tensor[i] = np.array(G2M_rect_distant[i])\n",
    "# build neighbor egde of ordered node\n",
    "G2M_edge_id_of_node_tensor= np.zeros((len(G2M_rect_of_node),4),dtype='int')   #<-- save \n",
    "G2M_edge_coef_node_tensor = np.zeros((len(G2M_rect_of_node),4),dtype='float') #<-- save \n",
    "for i in range(len(G2M_rect_of_node)):\n",
    "    G2M_edge_id_of_node_tensor[i] = np.array(G2M_edge_id_of_node[i] )\n",
    "    G2M_edge_coef_node_tensor[i]  = np.array(G2M_edge_coef_node[i]  )\n",
    "np.save(os.path.join(ROOTPATH,f\"G2M_rect_of_node_tensor.npy\"   ), G2M_rect_of_node_tensor)    \n",
    "np.save(os.path.join(ROOTPATH,f\"G2M_rect_distant_tensor.npy\"   ), G2M_rect_distant_tensor)    \n",
    "np.save(os.path.join(ROOTPATH,f\"G2M_edge_id_of_node_tensor.npy\"), G2M_edge_id_of_node_tensor)    \n",
    "np.save(os.path.join(ROOTPATH,f\"G2M_edge_coef_node_tensor.npy\" ), G2M_edge_coef_node_tensor) \n",
    "        "
   ]
  },
  {
   "cell_type": "code",
   "execution_count": 63,
   "id": "7fd96474",
   "metadata": {
    "hidden": true
   },
   "outputs": [],
   "source": [
    "# max_rank = 8\n",
    "\n",
    "# # build neighbor node of ordered rect  (a full grid = rect + ungraded grid)\n",
    "# G2M_node_of_rect_tensor = np.zeros((len(G2M_node_of_rect),4),dtype='int')    #<-- save  \n",
    "# G2M_node_distant_tensor = np.zeros((len(G2M_node_of_rect),4),dtype='float')  #<-- save \n",
    "# for i in range(len(G2M_node_of_rect)):\n",
    "#     G2M_node_of_rect_tensor[i] = np.array(G2M_node_of_rect[i])\n",
    "#     G2M_node_distant_tensor[i] = np.array(G2M_node_distant[i])\n",
    "# # build neighbor egde of ordered rect\n",
    "# G2M_edge_id_of_rect_tensor= np.zeros((len(G2M_node_of_rect),4),dtype='int')   #<-- save \n",
    "# G2M_edge_coef_rect_tensor = np.zeros((len(G2M_node_of_rect),4),dtype='float') #<-- save \n",
    "# for i in range(len(G2M_rect_of_node)):\n",
    "#     G2M_edge_id_of_rect_tensor[i] = np.array(G2M_edge_id_of_rect[i] )\n",
    "#     G2M_edge_coef_rect_tensor[i]  = np.array(G2M_edge_coef_rect[i]  )\n",
    "\n"
   ]
  },
  {
   "cell_type": "markdown",
   "id": "7c91d51d",
   "metadata": {
    "hidden": true
   },
   "source": [
    "##### from the Mesh to Grid "
   ]
  },
  {
   "cell_type": "markdown",
   "id": "3d5d5584",
   "metadata": {
    "hidden": true
   },
   "source": [
    "###### shared mesh to grid network with rest unused grid"
   ]
  },
  {
   "cell_type": "markdown",
   "id": "0e0c16dc",
   "metadata": {
    "hidden": true
   },
   "source": [
    "###### a brand new mesh to grid network"
   ]
  },
  {
   "cell_type": "code",
   "execution_count": 23,
   "id": "621c9f6c",
   "metadata": {
    "code_folding": [
     29
    ],
    "hidden": true
   },
   "outputs": [],
   "source": [
    "M2G_node_of_rect   = {} #np.zeros((len(node2position),4),dtype='int')\n",
    "M2G_node_distant   = {} #np.zeros((len(node2position),4),dtype='float')\n",
    "M2G_edge_id2pair   = G2M_edge_id2pair #np.zeros((len(node2position),4),dtype='float')\n",
    "M2G_edge_pos2_id   = G2M_edge_pos2_id #np.zeros((len(node2position),4),dtype='float')\n",
    "M2G_edge_id_of_rect= {} #np.zeros((len(node2position),4),dtype='float')\n",
    "M2G_edge_coef_rect = {} #np.zeros((len(node2position),4),dtype='float')\n",
    "\n",
    "# firstly we \n",
    "for node_id, (node_pos,rec_poses) in enumerate(zip(node2position,rectangle_position)):\n",
    "    for rec_pos in rec_poses:\n",
    "        rect_id = LaLotude2rect[tuple(rec_pos)]\n",
    "        distant = np.linalg.norm(node_pos - rec_pos)\n",
    "        edgepair= (rect_id,node_id)\n",
    "        assert edgepair in M2G_edge_pos2_id\n",
    "#         if  edgepair not in M2G_edge_pos2_id:\n",
    "#             M2G_edge_id = len(M2G_edge_pos2_id)\n",
    "#             M2G_edge_pos2_id[edgepair]    = M2G_edge_id\n",
    "#             M2G_edge_id2pair[M2G_edge_id] = edgepair\n",
    "        M2G_edge_id = M2G_edge_pos2_id[edgepair]\n",
    "        if rect_id not in M2G_edge_id_of_rect:M2G_edge_id_of_rect[rect_id] = [] \n",
    "        if rect_id not in M2G_edge_coef_rect : M2G_edge_coef_rect[rect_id] = []\n",
    "        if rect_id not in M2G_node_of_rect   :   M2G_node_of_rect[rect_id] = []\n",
    "        if rect_id not in M2G_node_distant   :   M2G_node_distant[rect_id] = []\n",
    "        M2G_node_of_rect[   rect_id].append(node_id)\n",
    "        M2G_node_distant[   rect_id].append(distant)\n",
    "        M2G_edge_id_of_rect[rect_id].append(M2G_edge_id)\n",
    "        M2G_edge_coef_rect[ rect_id].append(distant)\n",
    "# now we deal with grid that won't appear in rectangle_position:\n",
    "\n",
    "for pos in LaLotudeVectorPool.keys():\n",
    "    pos= tuple(pos)\n",
    "    if pos in LaLotude2rect:continue\n",
    "    node = len(LaLotude2rect)\n",
    "    rect2LaLotude[node]= pos\n",
    "    LaLotude2rect[pos] = node\n",
    "\n",
    "max_rank = 8\n",
    "for rec_pos in LaLotudeVectorPool.keys():\n",
    "    rec_pos    = tuple(rec_pos)\n",
    "    if rec_pos in G2M_rect_pool:continue\n",
    "    rect_id    = LaLotude2rect[rec_pos]\n",
    "    allnodes   = node2position\n",
    "    alldists   = distant = np.linalg.norm(node2position - np.array([rec_pos]),axis=1)\n",
    "    near_node  = np.argsort(alldists)[:max_rank]\n",
    "    near_dist  = alldists[near_node]\n",
    "    \n",
    "    for node_id,distant in zip(near_node,near_dist):\n",
    "        edgepair= (rect_id,node_id)\n",
    "        if  edgepair not in M2G_edge_pos2_id:\n",
    "            M2G_edge_id = len(M2G_edge_pos2_id)\n",
    "            M2G_edge_pos2_id[edgepair]    = M2G_edge_id\n",
    "            M2G_edge_id2pair[M2G_edge_id] = edgepair\n",
    "        if rect_id not in M2G_edge_id_of_rect: M2G_edge_id_of_rect[rect_id] = [] \n",
    "        if rect_id not in M2G_edge_coef_rect : M2G_edge_coef_rect[rect_id] = []\n",
    "        if rect_id not in M2G_node_of_rect   :   M2G_node_of_rect[rect_id] = []\n",
    "        if rect_id not in M2G_node_distant   :   M2G_node_distant[rect_id] = []\n",
    "        M2G_edge_id = M2G_edge_pos2_id[edgepair]        \n",
    "        M2G_node_of_rect[   rect_id].append(node_id)\n",
    "        M2G_node_distant[   rect_id].append(distant)\n",
    "        M2G_edge_id_of_rect[rect_id].append(M2G_edge_id)\n",
    "        M2G_edge_coef_rect[ rect_id].append(distant)"
   ]
  },
  {
   "cell_type": "code",
   "execution_count": 24,
   "id": "dee5b006",
   "metadata": {
    "code_folding": [],
    "hidden": true
   },
   "outputs": [],
   "source": [
    "M2G_edge2id_max_rank = {}\n",
    "M2G_id2edge_max_rank = []\n",
    "M2G_node_of_rect_tensor = np.zeros((len(M2G_node_distant),max_rank),dtype='int')\n",
    "M2G_node_distant_tensor = np.zeros((len(M2G_node_distant),max_rank),dtype='float')\n",
    "for rect_id in range(len(M2G_node_distant)):\n",
    "    nearby_node = M2G_node_of_rect[rect_id]\n",
    "    nearby_dist = M2G_node_distant[rect_id]\n",
    "    order       = np.argsort(nearby_dist)[:max_rank]\n",
    "    nearby_node = [nearby_node[idx] for idx in order]\n",
    "    nearby_dist = [nearby_dist[idx] for idx in order]\n",
    "    if len(nearby_node)<max_rank:\n",
    "        nearby_node = np.pad(nearby_node,(0,max_rank - len(nearby_node)),constant_values=-1)\n",
    "        nearby_dist = np.pad(nearby_dist,(0,max_rank - len(nearby_dist)),constant_values=-100)\n",
    "    for node_id in nearby_node:\n",
    "        if node_id <0:continue\n",
    "        saved_edge_relation = (rect_id,node_id)\n",
    "        if saved_edge_relation not in M2G_edge2id_max_rank:\n",
    "            M2G_edge2id_max_rank[saved_edge_relation] = len(M2G_id2edge_max_rank)\n",
    "            M2G_id2edge_max_rank.append(saved_edge_relation)\n",
    "    M2G_node_of_rect_tensor[rect_id]= np.array(nearby_node)\n",
    "    M2G_node_distant_tensor[rect_id]= np.array(nearby_dist)\n",
    "\n",
    "np.save(os.path.join(ROOTPATH,f\"M2G_id2edge_max_rank.npy\"   ), M2G_id2edge_max_rank)    \n",
    "np.save(os.path.join(ROOTPATH,f\"M2G_node_of_rect_tensor.npy\"   ),M2G_node_of_rect_tensor)    \n",
    "np.save(os.path.join(ROOTPATH,f\"M2G_node_distant_tensor.npy\"   ),M2G_node_distant_tensor)    "
   ]
  },
  {
   "cell_type": "code",
   "execution_count": 27,
   "id": "01832dba",
   "metadata": {
    "hidden": true
   },
   "outputs": [],
   "source": [
    "M2G_edge_id2pair_tensor = np.zeros((len(M2G_edge_id2pair),2),dtype='int')   #<-- save \n",
    "for i in range(len(M2G_edge_id2pair)):\n",
    "    M2G_edge_id2pair_tensor[i] = M2G_edge_id2pair[i]\n",
    "np.save(os.path.join(ROOTPATH,f\"M2G_edge_id2pair_tensor.npy\")      , M2G_edge_id2pair_tensor)"
   ]
  },
  {
   "cell_type": "code",
   "execution_count": 28,
   "id": "1114e4a5",
   "metadata": {
    "code_folding": [],
    "hidden": true
   },
   "outputs": [],
   "source": [
    "# build neighbor egde of ordered node\n",
    "M2G_edge_id_of_grid_tensor= np.zeros((len(M2G_node_of_rect),max_rank),dtype='int')   #<-- save \n",
    "M2G_edge_coef_grid_tensor = np.zeros((len(M2G_node_of_rect),max_rank),dtype='float') #<-- save \n",
    "for rect_id in range(len(M2G_node_distant)):\n",
    "    nearby_edge = M2G_edge_id_of_rect[rect_id]\n",
    "    nearby_dist =  M2G_edge_coef_rect[rect_id]\n",
    "    order       = np.argsort(nearby_dist)[:max_rank]\n",
    "    nearby_edge = [nearby_edge[idx] for idx in order]\n",
    "    nearby_dist = [nearby_dist[idx] for idx in order]\n",
    "    if len(nearby_edge)< max_rank:\n",
    "        nearby_edge = np.pad(nearby_edge,(0,max_rank - len(nearby_edge)),constant_values=-1)\n",
    "        nearby_dist = np.pad(nearby_dist,(0,max_rank - len(nearby_dist)),constant_values=-100)\n",
    "    M2G_edge_id_of_grid_tensor[rect_id]= np.array(nearby_edge)\n",
    "    M2G_edge_coef_grid_tensor[rect_id] = np.array(nearby_dist)\n",
    "np.save(os.path.join(ROOTPATH,f\"M2G_edge_id_of_grid_tensor.npy\"   ), M2G_edge_id_of_grid_tensor)    \n",
    "np.save(os.path.join(ROOTPATH,f\"M2G_edge_coef_grid_tensor.npy\"   ) , M2G_edge_coef_grid_tensor)        "
   ]
  },
  {
   "cell_type": "code",
   "execution_count": null,
   "id": "74a56426",
   "metadata": {
    "hidden": true
   },
   "outputs": [],
   "source": [
    "# torch.save(M2G_node_of_rect    ,os.path.join(ROOTPATH,f\"M2G_node_of_rect.pt\"   ))    \n",
    "# torch.save(M2G_node_distant    ,os.path.join(ROOTPATH,f\"M2G_node_distant.pt\"   ))    \n",
    "# torch.save(M2G_edge_id_of_rect ,os.path.join(ROOTPATH,f\"M2G_edge_id_of_rect.pt\"))    \n",
    "# torch.save(M2G_edge_coef_rect  ,os.path.join(ROOTPATH,f\"M2G_edge_coef_rect.pt\" )) \n",
    "# torch.save(M2G_edge_id2pair    ,os.path.join(ROOTPATH,f\"M2G_edge_id2pair.pt\"   )) \n",
    "# torch.save(M2G_edge_pos2_id    ,os.path.join(ROOTPATH,f\"M2G_edge_pos2_id.pt\"   ))"
   ]
  },
  {
   "cell_type": "code",
   "execution_count": 180,
   "id": "1fd356b9",
   "metadata": {
    "code_folding": [],
    "hidden": true
   },
   "outputs": [],
   "source": [
    "# the last thing is get the mapping between (32x64) grid and rect"
   ]
  },
  {
   "cell_type": "code",
   "execution_count": 185,
   "id": "9b048836",
   "metadata": {
    "code_folding": [],
    "hidden": true
   },
   "outputs": [],
   "source": [
    "# the_neighby_node_of_the_rect = []\n",
    "# the_neighby_node_distantrect = []\n",
    "# for i in range(len(rect2LaLotude)):\n",
    "#     the_neighby_node_of_the_rect.append(np.array([key for key,val in the_neighby_node_of_rect[i].items()],dtype='int'))\n",
    "#     the_neighby_node_distantrect.append(np.array([val for key,val in the_neighby_node_of_rect[i].items()],dtype='float'))\n",
    "# the_neighby_node_of_the_rect = np.stack(the_neighby_node_of_the_rect)    \n",
    "# the_neighby_node_distantrect = np.stack(the_neighby_node_distantrect)"
   ]
  },
  {
   "cell_type": "markdown",
   "id": "a073ee92",
   "metadata": {
    "heading_collapsed": true
   },
   "source": [
    "# running"
   ]
  },
  {
   "cell_type": "markdown",
   "id": "b1016aca",
   "metadata": {
    "heading_collapsed": true,
    "hidden": true
   },
   "source": [
    "#### Grid toMesh"
   ]
  },
  {
   "cell_type": "code",
   "execution_count": null,
   "id": "34fa6f3b",
   "metadata": {
    "hidden": true
   },
   "outputs": [],
   "source": [
    "# G2M_rect_of_node_tensor    \n",
    "# G2M_rect_distant_tensor    \n",
    "# G2M_edge_id_of_node_tensor \n",
    "# G2M_edge_coef_node_tensor  \n",
    "# G2M_edge_id2pair_tensor    \n",
    "# G2M_edge_pos2_id           "
   ]
  },
  {
   "cell_type": "code",
   "execution_count": 9,
   "id": "c1a1a78a",
   "metadata": {
    "hidden": true
   },
   "outputs": [
    {
     "data": {
      "text/plain": [
       "(10242, 4)"
      ]
     },
     "execution_count": 9,
     "metadata": {},
     "output_type": "execute_result"
    }
   ],
   "source": [
    "G2M_edge_id_of_node_tensor.shape"
   ]
  },
  {
   "cell_type": "code",
   "execution_count": 10,
   "id": "db91e2a1",
   "metadata": {
    "hidden": true
   },
   "outputs": [],
   "source": [
    "G2M_edge_id_of_node_tensor= torch.LongTensor(G2M_edge_id_of_node_tensor)\n",
    "G2M_edge_id2pair_tensor   = torch.LongTensor(G2M_edge_id2pair_tensor)\n",
    "G2M_edge_coef_node_tensor = torch.Tensor(G2M_edge_coef_node_tensor).softmax(-1).unsqueeze(-1)"
   ]
  },
  {
   "cell_type": "code",
   "execution_count": null,
   "id": "92fa7515",
   "metadata": {
    "hidden": true
   },
   "outputs": [],
   "source": [
    "B                        = 2 \n",
    "embedding_dim            = 128\n",
    "grid_rect_embedding      = torch.randn(B,len(G2M_grid2LaLotudePos),embedding_dim)\n",
    "north_south_embedding    = torch.randn(B,2,embedding_dim)\n",
    "grid_rect_embedding      = torch.cat([north_south_embedding,grid_rect_embedding],1)\n",
    "grid_mesh_bond_embedding = torch.randn(B,len(G2M_edge_id2pair_tensor),embedding_dim)\n",
    "mesh_node_embedding      = torch.randn(B,len(M2M_node2position),embedding_dim)\n",
    "\n",
    "\n",
    "MLP_G2M_GM2E= torch.nn.Linear(embedding_dim*3,embedding_dim)\n",
    "MLP_G2M_E2M = torch.nn.Linear(embedding_dim*2,embedding_dim)\n",
    "MLP_G2M_G2G = torch.nn.Linear(embedding_dim  ,embedding_dim)\n",
    "\n",
    "\n",
    "delta_grid_mesh_bond_embedding = MLP_G2M_GM2E(torch.cat([grid_mesh_bond_embedding,\n",
    "                                 grid_rect_embedding[:,G2M_edge_id2pair_tensor[:,0]],\n",
    "                                 mesh_node_embedding[:,G2M_edge_id2pair_tensor[:,1]]],-1))\n",
    "\n",
    "delta_mesh_node_embedding      = MLP_G2M_E2M(torch.cat([mesh_node_embedding,\n",
    "        torch.mean(delta_grid_mesh_bond_embedding[:,G2M_edge_id_of_node_tensor]*G2M_edge_coef_node_tensor,\n",
    "                               -2)],-1))\n",
    "\n",
    "delta_grid_rect_embedding      = MLP_G2M_G2G(grid_rect_embedding)\n",
    "grid_mesh_bond_embedding+= delta_grid_mesh_bond_embedding\n",
    "mesh_node_embedding     += delta_mesh_node_embedding\n",
    "grid_rect_embedding     += delta_grid_rect_embedding"
   ]
  },
  {
   "cell_type": "markdown",
   "id": "56d1877d",
   "metadata": {
    "heading_collapsed": true,
    "hidden": true
   },
   "source": [
    "#### Mesh to Mesh"
   ]
  },
  {
   "cell_type": "code",
   "execution_count": null,
   "id": "b5b39991",
   "metadata": {
    "hidden": true
   },
   "outputs": [],
   "source": [
    "# M2M_node2position                 \n",
    "# M2M_edgeid2pair                   \n",
    "# M2M_position2node                 \n",
    "# M2M_node2lined_node               \n",
    "# M2M_edge2id                       \n",
    "# M2M_nearby_node_per_node_per_level\n",
    "# M2M_nearby_edge_per_node_per_level"
   ]
  },
  {
   "cell_type": "code",
   "execution_count": null,
   "id": "7b6c0548",
   "metadata": {
    "hidden": true
   },
   "outputs": [],
   "source": [
    "mesh_mesh_bond_embedding           = torch.randn(B,len(M2M_edgeid2pair),embedding_dim)"
   ]
  },
  {
   "cell_type": "code",
   "execution_count": 78,
   "id": "14cc3a8e",
   "metadata": {
    "hidden": true
   },
   "outputs": [],
   "source": [
    "MLP_M2M_N2E = torch.nn.Linear(128*3,128)\n",
    "MLP_M2M_E2N = torch.nn.Linear(128*2,128)"
   ]
  },
  {
   "cell_type": "code",
   "execution_count": 79,
   "id": "f3696200",
   "metadata": {
    "hidden": true
   },
   "outputs": [],
   "source": [
    "delta_mesh_mesh_bond_embedding = MLP_M2M_N2E(torch.cat([mesh_mesh_bond_embedding,\n",
    "                                                        mesh_node_embedding[:,M2M_edgeid2pair[:,0]],\n",
    "                                                        mesh_node_embedding[:,M2M_edgeid2pair[:,1]]],-1))"
   ]
  },
  {
   "cell_type": "code",
   "execution_count": 80,
   "id": "cb8735e6",
   "metadata": {
    "hidden": true,
    "scrolled": true
   },
   "outputs": [
    {
     "data": {
      "text/plain": [
       "torch.Size([2, 40950, 128])"
      ]
     },
     "execution_count": 80,
     "metadata": {},
     "output_type": "execute_result"
    }
   ],
   "source": [
    "delta_mesh_mesh_bond_embedding.shape"
   ]
  },
  {
   "cell_type": "code",
   "execution_count": 81,
   "id": "4e60d627",
   "metadata": {
    "hidden": true
   },
   "outputs": [],
   "source": [
    "delta_mesh_mesh_bond_embedding= torch.nn.functional.pad(delta_mesh_mesh_bond_embedding,(0,0,0,1))\n",
    "# notice the nearby node of each level either 5 or 6, then we use -1 as the padding number.\n",
    "mesh_node_aggregration = torch.zeros_like(mesh_node_embedding)\n",
    "for start_node, end_node_list in key_nearbyedge_pair_per_level:\n",
    "    mesh_node_aggregration[:,start_node] += delta_mesh_mesh_bond_embedding[:,end_node_list].sum(-2)\n",
    "mesh_node_aggregration = mesh_node_aggregration/num_of_linked_nodes.unsqueeze(-1)\n",
    "delta_mesh_node_embedding = MLP_G2M_E2M(torch.cat([mesh_node_embedding,mesh_node_aggregration],-1))\n",
    "\n",
    "mesh_mesh_bond_embedding += delta_mesh_mesh_bond_embedding[:,:-1]\n",
    "mesh_node_embedding      += delta_mesh_node_embedding"
   ]
  },
  {
   "cell_type": "markdown",
   "id": "0728be78",
   "metadata": {
    "hidden": true
   },
   "source": [
    "#### Mesh to Grid"
   ]
  },
  {
   "cell_type": "code",
   "execution_count": 40,
   "id": "47bca24b",
   "metadata": {
    "hidden": true
   },
   "outputs": [
    {
     "data": {
      "text/plain": [
       "2050"
      ]
     },
     "execution_count": 40,
     "metadata": {},
     "output_type": "execute_result"
    }
   ],
   "source": [
    "len(M2G_edge_id_of_grid_tensor)"
   ]
  },
  {
   "cell_type": "code",
   "execution_count": 41,
   "id": "5bc72036",
   "metadata": {
    "hidden": true,
    "scrolled": true
   },
   "outputs": [
    {
     "data": {
      "text/plain": [
       "(2042,)"
      ]
     },
     "execution_count": 41,
     "metadata": {},
     "output_type": "execute_result"
    }
   ],
   "source": [
    "G2M_grid2LaLotudePos.shape"
   ]
  },
  {
   "cell_type": "code",
   "execution_count": 13,
   "id": "aaefef12",
   "metadata": {
    "code_folding": [],
    "hidden": true
   },
   "outputs": [
    {
     "data": {
      "text/plain": [
       "(10242, 4)"
      ]
     },
     "execution_count": 13,
     "metadata": {},
     "output_type": "execute_result"
    }
   ],
   "source": [
    "# M2G_node_of_rect_tensor    \n",
    "# M2G_node_distant_tensor  \n",
    "# M2G_edge_id_of_grid_tensor\n",
    "# M2G_edge_coef_grid_tensor\n",
    "# M2G_edge_id2pair_tensor"
   ]
  },
  {
   "cell_type": "code",
   "execution_count": 216,
   "id": "8a868525",
   "metadata": {
    "code_folding": [],
    "hidden": true
   },
   "outputs": [],
   "source": [
    "# G2M_edge_id_of_rect_tensor   = np.load(f\"GraphCastStructure/{flag}_G2M_edge_id_of_rect_tensor.npy\"  )\n",
    "# G2M_edge_coef_of_rect_tensor = np.load(f\"GraphCastStructure/{flag}_G2M_edge_coef_of_rect_tensor.npy\")"
   ]
  },
  {
   "cell_type": "code",
   "execution_count": 122,
   "id": "0f6864e2",
   "metadata": {
    "hidden": true
   },
   "outputs": [],
   "source": [
    "MLP_M2G_MG2E= torch.nn.Linear(128*3,128)\n",
    "MLP_M2G_E2G = torch.nn.Linear(128*2,128)"
   ]
  },
  {
   "cell_type": "code",
   "execution_count": null,
   "id": "cfa375c2",
   "metadata": {
    "hidden": true
   },
   "outputs": [],
   "source": [
    "mesh_grid_bond_embedding = torch.nn.functional.pad(grid_mesh_bond_embedding,(0,0,0,len(M2G_edge_id2pair_tensor) - len(G2M_edge_id2pair_tensor) ))\n",
    "grid_allrect_embedding   = torch.nn.functional.pad(grid_rect_embedding,(0,0,0,len(M2G_node_of_rect_tensor) - grid_rect_embedding.shape[-2] ))"
   ]
  },
  {
   "cell_type": "code",
   "execution_count": 38,
   "id": "aa4b76cb",
   "metadata": {
    "hidden": true
   },
   "outputs": [
    {
     "data": {
      "text/plain": [
       "2049"
      ]
     },
     "execution_count": 38,
     "metadata": {},
     "output_type": "execute_result"
    }
   ],
   "source": [
    "M2G_edge_id2pair_tensor[:,0].max()"
   ]
  },
  {
   "cell_type": "code",
   "execution_count": 34,
   "id": "235da902",
   "metadata": {
    "hidden": true
   },
   "outputs": [
    {
     "data": {
      "text/plain": [
       "10241"
      ]
     },
     "execution_count": 34,
     "metadata": {},
     "output_type": "execute_result"
    }
   ],
   "source": [
    "M2G_edge_id2pair_tensor.max()"
   ]
  },
  {
   "cell_type": "markdown",
   "id": "63084ff5",
   "metadata": {
    "heading_collapsed": true
   },
   "source": [
    "# Test"
   ]
  },
  {
   "cell_type": "code",
   "execution_count": 169,
   "id": "8433c2c2",
   "metadata": {
    "code_folding": [
     0,
     23,
     61,
     94
    ],
    "hidden": true
   },
   "outputs": [],
   "source": [
    "class MLP(nn.Module):\n",
    "    def __init__(self, input_channel, output_cannel, bias=False, \n",
    "                 nonlinear='tanh',depth=1):\n",
    "        super().__init__()\n",
    "        self.linear    = torch.nn.Linear(input_channel,output_cannel,bias=bias)\n",
    "        self.nonlinear = nonlinear\n",
    "        self.depth     = depth\n",
    "        if nonlinear == 'tanh':\n",
    "            self.activator = torch.nn.Tanh()\n",
    "        elif nonlinear == 'relu':\n",
    "            self.activator = torch.nn.ReLU()\n",
    "        elif nonlinear == 'sigmoid':\n",
    "            self.activator = torch.nn.Sigmoid()\n",
    "        elif nonlinear == 'swish':\n",
    "            self.activator = torch.nn.SiLU()\n",
    "        else:\n",
    "            raise NotImplementedError\n",
    "        self.norm  = torch.nn.LayerNorm(output_cannel)\n",
    "\n",
    "    def forward(self,x):\n",
    "        x = self.norm(self.activator(self.linear(x))) \n",
    "        return x\n",
    "\n",
    "class Grid2Mesh(nn.Module):\n",
    "    def __init__(self, G2M_edge_id2pair_tensor, G2M_edge_id_of_node_tensor, G2M_edge_coef_node_tensor, \n",
    "                 embed_dim=128,nonlinear='tanh',mlp_depth=1,mlp_bias = False):\n",
    "        super().__init__()\n",
    "        self.G2M_edge_id2pair_tensor   = G2M_edge_id2pair_tensor\n",
    "        self.G2M_edge_id_of_node_tensor= G2M_edge_id_of_node_tensor\n",
    "        self.G2M_edge_coef_node_tensor = G2M_edge_coef_node_tensor\n",
    "        #self.register_buffer('G2M_edge_coef_node_tensor', G2M_edge_coef_node_tensor)\n",
    "\n",
    "        self.MLP_G2M_GM2E= MLP(embed_dim*3,embed_dim,nonlinear=nonlinear,depth=mlp_depth,bias=mlp_bias)\n",
    "        self.MLP_G2M_E2M = MLP(embed_dim*2,embed_dim,nonlinear=nonlinear,depth=mlp_depth,bias=mlp_bias)\n",
    "        self.MLP_G2M_G2G = MLP(embed_dim  ,embed_dim,nonlinear=nonlinear,depth=mlp_depth,bias=mlp_bias)\n",
    "        self.rect_index_limit = self.G2M_edge_id2pair_tensor[:,0].max() + 1\n",
    "        self.node_index_limit = self.G2M_edge_id2pair_tensor[:,1].max() + 1\n",
    "        self.edge_index_limit = len(self.G2M_edge_id2pair_tensor)\n",
    "    def forward(self, grid_mesh_bond_embedding,grid_rect_embedding,mesh_node_embedding):\n",
    "        ### shape checking\n",
    "        ### all the necessary rect of grid is recorded in G2M_grid2LaLotudePos\n",
    "        #### we will plus north south point at the begining torch.cat([north_south_embedding,grid_rect_embedding],1)\n",
    "        assert len(grid_rect_embedding.shape) == len(mesh_node_embedding.shape) == len(grid_mesh_bond_embedding.shape) == 3\n",
    "        assert self.rect_index_limit == grid_rect_embedding.shape[1]\n",
    "        assert self.node_index_limit == mesh_node_embedding.shape[1]\n",
    "        assert self.edge_index_limit == grid_mesh_bond_embedding.shape[1] \n",
    "        device = self.MLP_G2M_GM2E.linear.weight.device\n",
    "        \n",
    "        delta_grid_mesh_bond_embedding = self.MLP_G2M_GM2E(torch.cat([grid_mesh_bond_embedding,\n",
    "                                 grid_rect_embedding[:,self.G2M_edge_id2pair_tensor[:,0]],\n",
    "                                 mesh_node_embedding[:,self.G2M_edge_id2pair_tensor[:,1]]],-1))\n",
    "\n",
    "        delta_mesh_node_embedding      = self.MLP_G2M_E2M(torch.cat([mesh_node_embedding,\n",
    "                torch.mean(delta_grid_mesh_bond_embedding[:,self.G2M_edge_id_of_node_tensor]*self.G2M_edge_coef_node_tensor.to(device),\n",
    "                                       -2)],-1))\n",
    "        delta_grid_rect_embedding      = self.MLP_G2M_G2G(grid_rect_embedding)\n",
    "        grid_mesh_bond_embedding      += delta_grid_mesh_bond_embedding\n",
    "        grid_rect_embedding           += delta_grid_rect_embedding\n",
    "        mesh_node_embedding           += delta_mesh_node_embedding\n",
    "        return grid_mesh_bond_embedding,grid_rect_embedding,mesh_node_embedding\n",
    "\n",
    "class Mesh2Grid(nn.Module):\n",
    "    def __init__(self, M2G_edge_id2pair_tensor, M2G_edge_id_of_grid_tensor, M2G_edge_coef_grid_tensor, \\\n",
    "                 embed_dim=128,nonlinear='tanh',mlp_depth=1,mlp_bias = False):\n",
    "        super().__init__()\n",
    "        self.M2G_edge_id2pair_tensor      = M2G_edge_id2pair_tensor\n",
    "        self.M2G_edge_id_of_grid_tensor   = M2G_edge_id_of_grid_tensor\n",
    "        self.M2G_edge_coef_grid_tensor = M2G_edge_coef_grid_tensor\n",
    "        #self.register_buffer('M2G_edge_coef_grid_tensor', M2G_edge_coef_grid_tensor)\n",
    "\n",
    "        self.MLP_M2G_MG2E= MLP(embed_dim*3,embed_dim,nonlinear=nonlinear,depth=mlp_depth,bias=mlp_bias)\n",
    "        self.MLP_M2G_E2G = MLP(embed_dim*2,embed_dim,nonlinear=nonlinear,depth=mlp_depth,bias=mlp_bias)\n",
    "\n",
    "\n",
    "        self.rect_index_limit = self.M2G_edge_id2pair_tensor[:,0].max() + 1\n",
    "        self.node_index_limit = self.M2G_edge_id2pair_tensor[:,1].max() + 1\n",
    "        self.edge_index_limit = len(self.M2G_edge_id2pair_tensor)\n",
    "\n",
    "    def forward(self, mesh_grid_bond_embedding,grid_allrect_embedding,mesh_node_embedding):\n",
    "        assert len(grid_allrect_embedding.shape) == len(mesh_node_embedding.shape) == len(mesh_grid_bond_embedding.shape) == 3\n",
    "        assert self.rect_index_limit == grid_allrect_embedding.shape[1]\n",
    "        assert self.node_index_limit == mesh_node_embedding.shape[1]\n",
    "        assert self.edge_index_limit == mesh_grid_bond_embedding.shape[1] \n",
    "        device = self.MLP_M2G_MG2E.linear.weight.device\n",
    "        \n",
    "        delta_mesh_grid_bond_embedding = self.MLP_M2G_MG2E(torch.cat([mesh_grid_bond_embedding,\n",
    "                                      mesh_node_embedding[:,self.M2G_edge_id2pair_tensor[:,1]],\n",
    "                                   grid_allrect_embedding[:,self.M2G_edge_id2pair_tensor[:,0]]],-1))\n",
    "        delta_grid_rect_embedding     = self.MLP_M2G_E2G(torch.cat([grid_allrect_embedding,\n",
    "                            torch.mean(delta_mesh_grid_bond_embedding[:,self.M2G_edge_id_of_grid_tensor]*self.M2G_edge_coef_grid_tensor.to(device),\n",
    "                                       -2)],-1))\n",
    "        grid_allrect_embedding += delta_grid_rect_embedding\n",
    "        return grid_allrect_embedding\n",
    "\n",
    "class Mesh2Mesh(nn.Module):\n",
    "    def __init__(self, M2M_edgeid2pair, key_nearbyedge_pair_per_level, num_of_linked_nodes, \n",
    "                 embed_dim=128,nonlinear='tanh',mlp_depth=1,mlp_bias = False):\n",
    "        super().__init__()\n",
    "        \n",
    "        self.M2M_edgeid2pair = M2M_edgeid2pair\n",
    "        self.key_nearbyedge_pair_per_level = key_nearbyedge_pair_per_level\n",
    "        self.num_of_linked_nodes = num_of_linked_nodes\n",
    "        #self.register_buffer('num_of_linked_nodes', num_of_linked_nodes)\n",
    "\n",
    "\n",
    "        self.MLP_M2M_N2E= MLP(embed_dim*3,embed_dim,nonlinear=nonlinear,depth=mlp_depth,bias=mlp_bias)\n",
    "        self.MLP_M2M_E2N= MLP(embed_dim*2,embed_dim,nonlinear=nonlinear,depth=mlp_depth,bias=mlp_bias)\n",
    "\n",
    "        self.node_index_limit = self.M2M_edgeid2pair[:,1].max() + 1\n",
    "        self.edge_index_limit = len(self.M2M_edgeid2pair)\n",
    "        \n",
    "    def forward(self, mesh_mesh_bond_embedding,mesh_node_embedding):\n",
    "        assert len(mesh_node_embedding.shape) == len(mesh_mesh_bond_embedding.shape) == 3\n",
    "        assert self.node_index_limit == mesh_node_embedding.shape[1]\n",
    "        assert self.edge_index_limit == mesh_mesh_bond_embedding.shape[1] \n",
    "        device = self.MLP_M2M_N2E.linear.weight.device\n",
    "        delta_mesh_mesh_bond_embedding = self.MLP_M2M_N2E(torch.cat([mesh_mesh_bond_embedding,\n",
    "                                        mesh_node_embedding[:,self.M2M_edgeid2pair[:,0]],\n",
    "                                        mesh_node_embedding[:,self.M2M_edgeid2pair[:,1]]],-1))\n",
    "        delta_mesh_mesh_bond_embedding= torch.nn.functional.pad(delta_mesh_mesh_bond_embedding,(0,0,0,1))\n",
    "        # notice the nearby node of each level either 5 or 6, then we use -1 as the padding number.\n",
    "        mesh_node_aggregration = torch.zeros_like(mesh_node_embedding)\n",
    "        for start_node, end_node_list in self.key_nearbyedge_pair_per_level:\n",
    "            mesh_node_aggregration[:,start_node] += delta_mesh_mesh_bond_embedding[:,end_node_list].sum(-2)\n",
    "        mesh_node_aggregration = mesh_node_aggregration/self.num_of_linked_nodes.to(device)\n",
    "        \n",
    "        delta_mesh_node_embedding = self.MLP_M2M_E2N(torch.cat([mesh_node_embedding,mesh_node_aggregration],-1))\n",
    "        mesh_mesh_bond_embedding += delta_mesh_mesh_bond_embedding[:,:-1]\n",
    "        mesh_node_embedding      += delta_mesh_node_embedding    \n",
    "        return mesh_mesh_bond_embedding,mesh_node_embedding\n",
    "    "
   ]
  },
  {
   "cell_type": "code",
   "execution_count": null,
   "id": "5e0ce07d",
   "metadata": {
    "code_folding": [],
    "hidden": true
   },
   "outputs": [],
   "source": [
    "# ROOTPATH=f\"GraphCastStructure/{flag}\"\n",
    "# if not os.path.exists(ROOTPATH):os.makedirs(ROOTPATH)\n",
    "# M2M_node2position                 = np.load(os.path.join(ROOTPATH   ,f\"M2M_node2position.npy\"   ))\n",
    "# M2M_position2node                 = torch.load(os.path.join(ROOTPATH,f\"M2M_position2node.pt\"   )                 )\n",
    "# # M2M_node2lined_node               = torch.load(os.path.join(ROOTPATH,f\"M2M_node2lined_node.pt\"   )               )\n",
    "# # M2M_edge2id                       = torch.load(os.path.join(ROOTPATH,f\"M2M_edge2id.pt\"   )                       )\n",
    "\n",
    "# M2M_edgeid2pair                   = np.load(os.path.join(ROOTPATH   ,f\"M2M_edgeid2pair.npy\"   ))\n",
    "# M2M_nearby_edge_per_node_per_level= torch.load(os.path.join(ROOTPATH,f\"M2M_nearby_edge_per_node_per_level.pt\"   ))\n",
    "# #M2M_nearby_node_per_node_per_level= torch.load(os.path.join(ROOTPATH,f\"M2M_nearby_node_per_node_per_level.pt\"   ))\n",
    "\n",
    "# ROOTPATH=f\"GraphCastStructure/{flag}/{resolution_flag}\"\n",
    "# if not os.path.exists(ROOTPATH):os.makedirs(ROOTPATH)\n",
    "# G2M_grid2LaLotudePos = np.load(os.path.join(ROOTPATH,f\"G2M_grid2LaLotudePos.npy\"   )     )\n",
    "# M2G_LaLotudePos2grid = np.load(os.path.join(ROOTPATH,f\"M2G_LaLotudeGrid2rect_tensor.npy\"))\n",
    "\n",
    "# # G2M_rect_of_node_tensor    = np.load(os.path.join(ROOTPATH,f\"G2M_rect_of_node_tensor.npy\"   ) )\n",
    "# # G2M_rect_distant_tensor    = np.load(os.path.join(ROOTPATH,f\"G2M_rect_distant_tensor.npy\"   ) )\n",
    "# G2M_edge_id_of_node_tensor = np.load(os.path.join(ROOTPATH,f\"G2M_edge_id_of_node_tensor.npy\") )\n",
    "# G2M_edge_coef_node_tensor  = np.load(os.path.join(ROOTPATH,f\"G2M_edge_coef_node_tensor.npy\" ) )\n",
    "# G2M_edge_id2pair_tensor    = np.load(os.path.join(ROOTPATH,f\"G2M_edge_id2pair_tensor.npy\"   ) )\n",
    "# # G2M_edge_pos2_id           = torch.load(os.path.join(ROOTPATH,f\"G2M_edge_pos2_id.pt\"   ))\n",
    "# # M2G_node_of_rect_tensor    = np.load(os.path.join(ROOTPATH,f\"M2G_node_of_rect_tensor.npy\"   ))    \n",
    "# # M2G_node_distant_tensor    = np.load(os.path.join(ROOTPATH,f\"M2G_node_of_rect_tensor.npy\"   ))    \n",
    "# M2G_edge_id_of_grid_tensor= np.load(os.path.join(ROOTPATH,f\"M2G_edge_id_of_grid_tensor.npy\"   ))  \n",
    "# M2G_edge_coef_grid_tensor = np.load(os.path.join(ROOTPATH,f\"M2G_edge_coef_grid_tensor.npy\"   ) )  \n",
    "# M2G_edge_id2pair_tensor   = np.load(os.path.join(ROOTPATH,f\"M2G_edge_id2pair_tensor.npy\")      )  \n",
    "\n",
    "# B                        = 2 \n",
    "# grid_rect_embedding      = torch.randn(B,len(G2M_grid2LaLotudePos),embedding_dim)\n",
    "# north_south_embedding    = torch.randn(B,2,embedding_dim)\n",
    "# grid_rect_embedding      = torch.cat([north_south_embedding,grid_rect_embedding],1)\n",
    "# grid_mesh_bond_embedding = torch.randn(B,len(G2M_edge_id2pair_tensor),embedding_dim)\n",
    "# mesh_node_embedding      = torch.randn(B,len(M2M_node2position),embedding_dim)\n",
    "# mesh_mesh_bond_embedding = torch.randn(B,len(M2M_edgeid2pair),embedding_dim)\n",
    "\n",
    "# embedding_layer = nn.Linear(70,embedding_dim)\n",
    "# _input = torch.randn(B,70,64,128)\n",
    "\n",
    "# feature_along_latlot = embedding_layer(_input.permute(0,2,3,1).flatten(1,2))\n",
    "# grid_rect_embedding  = feature_along_latlot[:,G2M_grid2LaLotudePos]\n",
    "# north_south_embedding= torch.randn(B,2,embedding_dim)\n",
    "# grid_rect_embedding  = torch.cat([north_south_embedding,grid_rect_embedding],1)\n",
    "\n",
    "\n",
    "# grid_mesh_bond_embedding,grid_rect_embedding,mesh_node_embedding = layer_grid2mesh(grid_mesh_bond_embedding,grid_rect_embedding,mesh_node_embedding)\n",
    "# mesh_mesh_bond_embedding, mesh_node_embedding  = layer_mesh2mesh(mesh_mesh_bond_embedding, mesh_node_embedding)\n",
    "\n",
    "# mesh_grid_bond_embedding = torch.nn.functional.pad(grid_mesh_bond_embedding,(0,0,0,len(M2G_edge_id2pair_tensor) - len(G2M_edge_id2pair_tensor) ))\n",
    "# grid_allrect_embedding   = torch.nn.functional.pad(grid_rect_embedding,(0,0,0,len(M2G_node_of_rect_tensor) - grid_rect_embedding.shape[-2] ))\n",
    "# grid_allrect_embedding   = layer_mesh2grid(mesh_grid_bond_embedding,grid_allrect_embedding,mesh_node_embedding)"
   ]
  },
  {
   "cell_type": "code",
   "execution_count": 254,
   "id": "2298376d",
   "metadata": {
    "hidden": true
   },
   "outputs": [],
   "source": [
    "import torch.nn as nn"
   ]
  },
  {
   "cell_type": "code",
   "execution_count": null,
   "id": "3fb60e21",
   "metadata": {
    "hidden": true
   },
   "outputs": [],
   "source": [
    "flag = \"mesh6\""
   ]
  },
  {
   "cell_type": "code",
   "execution_count": 182,
   "id": "2949336a",
   "metadata": {
    "code_folding": [
     0
    ],
    "hidden": true
   },
   "outputs": [],
   "source": [
    "class GraphCast(nn.Module):\n",
    "    '''\n",
    "    Repreduce of GraphCast in Pytorch.\n",
    "    GraphCast has three part:\n",
    "    - Grid to Mesh\n",
    "    - Mesh to Mesh\n",
    "    - Mesh to Grid\n",
    "    -------------------------------------\n",
    "    the input is a tensor (B, P, W, H), but the internal tensor all with shape (B, L ,P)\n",
    "    where the L equal the node number or edge number.\n",
    "    '''\n",
    "    def __init__(self, img_size=(64,128),  in_chans=70, out_chans=70, depth=6, embed_dim=128, graphflag='mesh5', nonlinear='swish', **kargs):\n",
    "        super().__init__()\n",
    "        flag = graphflag\n",
    "        resolution_flag=f'{img_size[0]}x{img_size[1]}'\n",
    "        ROOTPATH=f\"GraphCastStructure/{flag}\"\n",
    "        if not os.path.exists(ROOTPATH):\n",
    "            self.generate_mesh2mesh_graph_static_file(flag)\n",
    "        M2M_node2position                 = np.load(os.path.join(ROOTPATH   ,f\"M2M_node2position.npy\"   ))\n",
    "        M2M_position2node                 = torch.load(os.path.join(ROOTPATH,f\"M2M_position2node.pt\"   )                 )\n",
    "        M2M_node2lined_node               = torch.load(os.path.join(ROOTPATH,f\"M2M_node2lined_node.pt\"   )               )\n",
    "        # M2M_edge2id                       = torch.load(os.path.join(ROOTPATH,f\"M2M_edge2id.pt\"   )                       )\n",
    "\n",
    "        M2M_edgeid2pair                   = np.load(os.path.join(ROOTPATH   ,f\"M2M_edgeid2pair.npy\"   ))\n",
    "        M2M_nearby_edge_per_node_per_level= torch.load(os.path.join(ROOTPATH,f\"M2M_nearby_edge_per_node_per_level.pt\"   ))\n",
    "        #M2M_nearby_node_per_node_per_level= torch.load(os.path.join(ROOTPATH,f\"M2M_nearby_node_per_node_per_level.pt\"   ))\n",
    "\n",
    "        ROOTPATH=f\"GraphCastStructure/{flag}/{resolution_flag}\"\n",
    "        if not os.path.exists(ROOTPATH):self.generate_grid2mesh_graph_static_file(flag,img_size[0])\n",
    "        G2M_grid2LaLotudePos = np.load(os.path.join(ROOTPATH,f\"G2M_grid2LaLotudePos.npy\"   )     )\n",
    "        M2G_LaLotudePos2grid = np.load(os.path.join(ROOTPATH,f\"M2G_LaLotudeGrid2rect_tensor.npy\"))\n",
    "\n",
    "        # G2M_rect_of_node_tensor    = np.load(os.path.join(ROOTPATH,f\"G2M_rect_of_node_tensor.npy\"   ) )\n",
    "        # G2M_rect_distant_tensor    = np.load(os.path.join(ROOTPATH,f\"G2M_rect_distant_tensor.npy\"   ) )\n",
    "        G2M_edge_id_of_node_tensor = np.load(os.path.join(ROOTPATH,f\"G2M_edge_id_of_node_tensor.npy\") )\n",
    "        G2M_edge_coef_node_tensor  = np.load(os.path.join(ROOTPATH,f\"G2M_edge_coef_node_tensor.npy\" ) )\n",
    "        G2M_edge_id2pair_tensor    = np.load(os.path.join(ROOTPATH,f\"G2M_edge_id2pair_tensor.npy\"   ) )\n",
    "        # G2M_edge_pos2_id           = torch.load(os.path.join(ROOTPATH,f\"G2M_edge_pos2_id.pt\"   ))\n",
    "        # M2G_node_of_rect_tensor    = np.load(os.path.join(ROOTPATH,f\"M2G_node_of_rect_tensor.npy\"   ))    \n",
    "        # M2G_node_distant_tensor    = np.load(os.path.join(ROOTPATH,f\"M2G_node_of_rect_tensor.npy\"   ))    \n",
    "        M2G_edge_id_of_grid_tensor= np.load(os.path.join(ROOTPATH,f\"M2G_edge_id_of_grid_tensor.npy\"   ))  \n",
    "        M2G_edge_coef_grid_tensor = np.load(os.path.join(ROOTPATH,f\"M2G_edge_coef_grid_tensor.npy\"   ) )  \n",
    "        M2G_edge_id2pair_tensor   = np.load(os.path.join(ROOTPATH,f\"M2G_edge_id2pair_tensor.npy\")      )  \n",
    "        \n",
    "        embedding_dim = embed_dim\n",
    "        self.num_unactivated_grid = num_unactivated_grid = len(M2G_edge_id_of_grid_tensor) - len(G2M_grid2LaLotudePos) - 2\n",
    "        self.num_unactivated_edge = num_unactivated_edge = len(M2G_edge_id2pair_tensor) - len(G2M_edge_id2pair_tensor)\n",
    "        print(f'''\n",
    "        This is ===> GraphCast Model <===\n",
    "        Information: \n",
    "            total mesh node:{len(M2M_node2position):5d} total unique mesh edge:{len(M2M_edgeid2pair):5d} \n",
    "            total grid node {np.prod(img_size)}+2 = {(len(M2G_edge_id_of_grid_tensor))} but activated grid {len(G2M_grid2LaLotudePos):5d} +  2\n",
    "            from activated grid to mesh, create 4*{len(M2M_node2position)} = {len(G2M_edge_id2pair_tensor)} edge\n",
    "            there are {num_unactivated_grid} unactivated grid node\n",
    "            when mapping node to grid, \n",
    "            from node to activated grid, there are {len(G2M_edge_id2pair_tensor)} \n",
    "            from node to unactivated grid, there are {num_unactivated_edge} edge\n",
    "            thus, totally have {len(M2G_edge_id2pair_tensor)} edge. \n",
    "            #notice some grid only have 1-2 linked node but some grid may have 30 lined node\n",
    "        ''')\n",
    "        G2M_edge_id2pair_tensor   = torch.LongTensor(G2M_edge_id2pair_tensor)\n",
    "        G2M_edge_coef_node_tensor = torch.Tensor(G2M_edge_coef_node_tensor).softmax(-1).unsqueeze(-1)\n",
    "        \n",
    "\n",
    "        M2M_edgeid2pair                    = torch.LongTensor(M2M_edgeid2pair)\n",
    "        M2M_nearby_edge_per_node_per_level = [[torch.LongTensor(start_node),torch.LongTensor(linked_edge_list)] for start_node,linked_edge_list in M2M_nearby_edge_per_node_per_level]\n",
    "        M2M_num_of_linked_nodes            = torch.FloatTensor([len(M2M_node2lined_node[t]) for t in range(len(M2M_node2lined_node))]).unsqueeze(-1)\n",
    "        \n",
    "        M2G_edge_id2pair_tensor  = torch.LongTensor(M2G_edge_id2pair_tensor)\n",
    "        M2G_node_of_rect_tensor  = torch.LongTensor(M2G_edge_id_of_grid_tensor)\n",
    "        M2G_edge_coef_grid_tensor= torch.Tensor(M2G_edge_coef_grid_tensor).softmax(-1).unsqueeze(-1)\n",
    "\n",
    "\n",
    "        M2G_LaLotudePos2grid = torch.LongTensor(M2G_LaLotudePos2grid)\n",
    "        G2M_grid2LaLotudePos = torch.LongTensor(G2M_grid2LaLotudePos)\n",
    "        \n",
    "\n",
    "        \n",
    "\n",
    "        self.M2G_LaLotudePos2grid = M2G_LaLotudePos2grid\n",
    "        self.G2M_grid2LaLotudePos = G2M_grid2LaLotudePos\n",
    "        \n",
    "        self.layer_grid2mesh = Grid2Mesh(G2M_edge_id2pair_tensor,G2M_edge_id_of_node_tensor,G2M_edge_coef_node_tensor, \n",
    "                                         embed_dim=embedding_dim,nonlinear=nonlinear)\n",
    "        \n",
    "        self.layer_mesh2mesh = nn.ModuleList()\n",
    "        for i in range(depth):\n",
    "            self.layer_mesh2mesh.append(Mesh2Mesh(M2M_edgeid2pair, M2M_nearby_edge_per_node_per_level, M2M_num_of_linked_nodes, \n",
    "                                                  embed_dim=embedding_dim,nonlinear=nonlinear))\n",
    "        self.layer_mesh2grid = Mesh2Grid(M2G_edge_id2pair_tensor,M2G_node_of_rect_tensor,M2G_edge_coef_grid_tensor, \n",
    "                                         embed_dim=embedding_dim,nonlinear=nonlinear)\n",
    "        \n",
    "        self.grid_rect_embedding_layer = nn.Linear(in_chans,embedding_dim)\n",
    "        self.northsouthembbed = nn.Parameter(torch.randn(2,embedding_dim))\n",
    "        \n",
    "        self.mesh_node_embedding       = nn.Parameter(torch.randn(len(M2M_node2position),embedding_dim))\n",
    "        self.mesh_mesh_bond_embedding  = nn.Parameter(torch.randn(len(M2M_edgeid2pair),embedding_dim))\n",
    "        self.grid_mesh_bond_embedding  = nn.Parameter(torch.randn(len(G2M_edge_id2pair_tensor),embedding_dim))\n",
    "\n",
    "        self.projection      = nn.Linear(embedding_dim,out_chans)\n",
    "\n",
    "    def forward(self, _input):\n",
    "        B, P , W, H =_input.shape\n",
    "        feature_along_latlot     = self.grid_rect_embedding_layer(_input.permute(0,2,3,1).flatten(1,2))\n",
    "        grid_rect_embedding      = feature_along_latlot[:,self.G2M_grid2LaLotudePos]\n",
    "        grid_rect_embedding      = torch.cat([self.northsouthembbed.repeat(B,1,1),grid_rect_embedding],1)\n",
    "        grid_mesh_bond_embedding = self.grid_mesh_bond_embedding.repeat(B,1,1)\n",
    "        mesh_node_embedding      = self.mesh_node_embedding.repeat(B,1,1)\n",
    "        mesh_mesh_bond_embedding = self.mesh_mesh_bond_embedding.repeat(B,1,1)\n",
    "        grid_mesh_bond_embedding,grid_rect_embedding,mesh_node_embedding = self.layer_grid2mesh(\n",
    "                                        grid_mesh_bond_embedding,grid_rect_embedding,mesh_node_embedding)\n",
    "        for mesh2mesh in self.layer_mesh2mesh:\n",
    "            mesh_mesh_bond_embedding, mesh_node_embedding  = mesh2mesh(mesh_mesh_bond_embedding, mesh_node_embedding)\n",
    "        grid_mesh_bond_embedding = torch.nn.functional.pad(grid_mesh_bond_embedding,(0,0,0,self.num_unactivated_edge))\n",
    "        grid_rect_embedding      = torch.nn.functional.pad(grid_rect_embedding,(0,0,0,self.num_unactivated_grid ))\n",
    "        grid_rect_embedding      = self.layer_mesh2grid(grid_mesh_bond_embedding,grid_rect_embedding,mesh_node_embedding)\n",
    "        grid_rect_embedding      = grid_rect_embedding[:,self.M2G_LaLotudePos2grid] #(B,64,128,embed_dim)\n",
    "        return self.projection(grid_rect_embedding).permute(0,3,1,2)\n",
    "\n",
    "    @staticmethod\n",
    "    def generate_mesh2mesh_graph_static_file(flag):\n",
    "        def readMx(path):\n",
    "            pool = {}\n",
    "            with open(path, 'r') as csvfile:\n",
    "                spamreader = csv.reader(csvfile)\n",
    "                for row in spamreader:\n",
    "                    key,val = row\n",
    "                    key = eval(key.replace(\"{\",\"(\").replace(\"}\",\")\"))\n",
    "                    val = eval(val.replace(\"{\",\"(\").replace(\"}\",\")\"))\n",
    "                    pool[key]=val\n",
    "            return pool\n",
    "        ROOTPATH=f\"GraphCastStructure/{flag}\"\n",
    "        if not os.path.exists(ROOTPATH):os.makedirs(ROOTPATH)\n",
    "        print(f\"creating Mesh static file, save in {ROOTPATH}\")\n",
    "        Mpoolist = [readMx(f'GraphCastStructure/M{i+1}.csv') for i in range(int(flag[-1]))]\n",
    "        position2node = {}\n",
    "        for pool in Mpoolist:\n",
    "            for key in pool:\n",
    "                if key not in position2node:\n",
    "                    position2node[key] = len(position2node)\n",
    "        node2position = np.zeros((len(position2node),3))\n",
    "        for key,val in position2node.items():\n",
    "            node2position[val]=np.array(key)\n",
    "            \n",
    "        torch.save(position2node,os.path.join(ROOTPATH,f\"M2M_position2node.pt\"   ))\n",
    "        np.save(os.path.join(ROOTPATH,f\"M2M_node2position.npy\"   ),node2position)  \n",
    "\n",
    "\n",
    "        node2nearby_por_level = []\n",
    "        node_to_linked_nodes ={}\n",
    "        for pool in Mpoolist:\n",
    "            node2nearby = {}\n",
    "            linked_nodes = []\n",
    "            for pos, nearby in pool.items():\n",
    "                node_id = position2node[pos]\n",
    "                nearby_ids = [position2node[p] for p in nearby]\n",
    "                if node_id not in node2nearby:node2nearby[node_id]=[]\n",
    "                if node_id not in node_to_linked_nodes:node_to_linked_nodes[node_id] = []\n",
    "                node2nearby[node_id]+=nearby_ids\n",
    "                node_to_linked_nodes[node_id]+=nearby_ids\n",
    "            node2nearby_por_level.append(node2nearby)\n",
    "        key_nearby_pair_per_level = []\n",
    "        for level, node2nearby in enumerate(node2nearby_por_level):\n",
    "            max_length = max([len(t) for t in node2nearby.values()])\n",
    "            key_nodes = []\n",
    "            nearby_nodes_list = []\n",
    "            for key_node,nearby_nodes in node2nearby.items():\n",
    "                key_nodes.append(key_node)\n",
    "                nearby_nodes_list.append(nearby_nodes if len(nearby_nodes)==max_length else nearby_nodes+[-1])\n",
    "            key_nodes = np.array(key_nodes)\n",
    "            nearby_nodes = np.array(nearby_nodes_list)\n",
    "            key_nearby_pair_per_level.append([key_nodes,nearby_nodes])\n",
    "            #print(f\"{level}: {min(lenth_list)} - {max(lenth_list)}\")\n",
    "\n",
    "        edge2id = {}\n",
    "        for key_nodes, node2nearby in key_nearby_pair_per_level:\n",
    "            for key_node, nearby_nodes in zip(key_nodes, node2nearby):\n",
    "                for nearby_node in nearby_nodes:\n",
    "                    if key_node == -1:continue\n",
    "                    if nearby_node == -1:continue\n",
    "                    edge_id = [key_node,nearby_node]\n",
    "                    edge_id.sort()\n",
    "                    edge_id = tuple(edge_id) # unique edge number\n",
    "                    if edge_id not in edge2id:\n",
    "                        edge2id[edge_id] = len(edge2id)\n",
    "                        \n",
    "        edgeid2pair = np.zeros((len(edge2id),2),dtype='int')\n",
    "        for pair, _id in edge2id.items():\n",
    "            edgeid2pair[_id] = np.array(pair)\n",
    "\n",
    "        key_nearbyedge_pair_per_level = []\n",
    "        for key_nodes, node2nearby in key_nearby_pair_per_level:\n",
    "            node2nearby_edge_list =[]\n",
    "            for key_node, nearby_nodes in zip(key_nodes, node2nearby):\n",
    "                nearby_edge_id = []\n",
    "                for nearby_node in nearby_nodes:\n",
    "                    if key_node == -1 or nearby_node == -1:\n",
    "                        edge_id = -1\n",
    "                    else:\n",
    "                        edge_pair = [key_node,nearby_node]\n",
    "                        edge_pair.sort()\n",
    "                        edge_id = tuple(edge_pair)\n",
    "                        edge_id = edge2id[edge_id]\n",
    "                    nearby_edge_id.append(edge_id)\n",
    "                node2nearby_edge_list.append(nearby_edge_id)\n",
    "            key_nearbyedge_pair_per_level.append([key_nodes,np.array(node2nearby_edge_list)])\n",
    "        np.save(os.path.join(ROOTPATH,f\"M2M_edgeid2pair.npy\"   ), edgeid2pair)\n",
    "        torch.save(node_to_linked_nodes         ,os.path.join(ROOTPATH,f\"M2M_node2lined_node.pt\"   ))\n",
    "        torch.save(edge2id                      ,os.path.join(ROOTPATH,f\"M2M_edge2id.pt\"   ))                \n",
    "        torch.save(node2nearby_por_level        ,os.path.join(ROOTPATH,f\"M2M_nearby_node_per_node_per_level.pt\"   ))\n",
    "        torch.save(key_nearbyedge_pair_per_level,os.path.join(ROOTPATH,f\"M2M_nearby_edge_per_node_per_level.pt\"   ))\n",
    "        #torch.save(key_nearby_pair_per_level    ,os.path.join(ROOTPATH,f\"M2M_pair_per_level.pt\"   ))\n",
    "        print(\"done~\")\n",
    "\n",
    "    @staticmethod\n",
    "    def generate_grid2mesh_graph_static_file(flag,resolution):\n",
    "        resolution_flag=f\"{resolution}x{2*resolution}\"\n",
    "        ROOTPATH=f\"GraphCastStructure/{flag}\"\n",
    "        if not os.path.exists(ROOTPATH):os.makedirs(ROOTPATH)\n",
    "        node2position= np.load(os.path.join(ROOTPATH   ,f\"M2M_node2position.npy\"   ))\n",
    "        position2node= torch.load(os.path.join(ROOTPATH,f\"M2M_position2node.pt\"   )                 )\n",
    "        ROOTPATH=f\"GraphCastStructure/{flag}/{resolution_flag}\"\n",
    "        if not os.path.exists(ROOTPATH):os.makedirs(ROOTPATH)\n",
    "        print(f\"creating Grid to Mesh and Mesh to Grid static file, save in {ROOTPATH}\")\n",
    "        theta_offset= (180/resolution/2)\n",
    "        latitude   = (np.linspace(0,180,resolution+1) + theta_offset)[:resolution]\n",
    "        longitude  = np.linspace(0,360,2*resolution+1)[:(2*resolution)]\n",
    "        x, y           = np.meshgrid(latitude, longitude)\n",
    "        LaLotude       = np.stack([y,x],-1).transpose(1,0,2)\n",
    "\n",
    "\n",
    "        pos = node2position\n",
    "        phi         = np.arctan2(pos[:,0],pos[:,1])\n",
    "        phi[phi<0]  = 2*np.pi +  phi[phi<0]\n",
    "        theta       = np.arctan2(np.sqrt(pos[:,0]**2+pos[:,1]**2),pos[:,2]) \n",
    "        phi   = phi*180/np.pi\n",
    "        theta = theta*180/np.pi\n",
    "\n",
    "        theta_index = (theta-theta_offset)//(180/resolution)\n",
    "        phi_index   = phi//(180/resolution)\n",
    "        rectangle_theta_idx = np.stack([theta_index,theta_index+1,theta_index+1,theta_index],axis=1)\n",
    "\n",
    "        rectangle_phi_idx   = np.stack([phi_index,phi_index,phi_index+1,phi_index+1],axis=1)\n",
    "\n",
    "        rectangle_theta_idx[position2node[0,0, 1]]= np.array([-1,-1,-1,-1])\n",
    "        rectangle_theta_idx[position2node[0,0,-1]]= np.array([resolution,resolution,resolution,resolution])\n",
    "        rectangle_phi_idx[position2node[0,0, 1]]= np.array([0,0,0,0])\n",
    "        rectangle_phi_idx[position2node[0,0,-1]]= np.array([0,0,0,0])\n",
    "\n",
    "        rectangle_theta= rectangle_theta_idx*(180/resolution)+theta_offset\n",
    "        rectangle_theta[rectangle_theta_idx<0]           = 0\n",
    "        rectangle_theta[rectangle_theta_idx>=resolution] = 180\n",
    "\n",
    "        rectangle_phi   = rectangle_phi_idx*(180/resolution)\n",
    "        rectangle_phi[rectangle_phi_idx>=2*resolution] = 0\n",
    "\n",
    "        rectangle_angle_position = np.stack([rectangle_phi,rectangle_theta],-1)\n",
    "\n",
    "        rectangle_theta=rectangle_theta/180*np.pi #(720,1440)\n",
    "        rectangle_phi  =rectangle_phi  /180*np.pi #(720,1440) \n",
    "\n",
    "        rectangle_x = np.sin(rectangle_theta)*np.sin(rectangle_phi)\n",
    "        rectangle_y = np.sin(rectangle_theta)*np.cos(rectangle_phi)\n",
    "        rectangle_z = np.cos(rectangle_theta)\n",
    "        rectangle_position_o = np.stack([rectangle_x,rectangle_y,rectangle_z],-1)\n",
    "\n",
    "        LaLotudePI     = np.stack([y,x],-1).transpose(1,0,2)/180*np.pi #(720,1440)\n",
    "        LaLotudeVector_o = np.stack([np.sin(LaLotudePI[...,1])*np.sin(LaLotudePI[...,0]),\n",
    "                                    np.sin(LaLotudePI[...,1])*np.cos(LaLotudePI[...,0]),\n",
    "                                    np.cos(LaLotudePI[...,1])],2)\n",
    "\n",
    "        LaLotudeVector     = np.round(LaLotudeVector_o,8)\n",
    "        rectangle_position = np.round(rectangle_position_o,8)\n",
    "        LaLotudeVectorPool = {}\n",
    "        for pos in LaLotudeVector.reshape(-1,3):  \n",
    "            LaLotudeVectorPool[tuple(pos)] = len(LaLotudeVectorPool)\n",
    "        print(len(LaLotudeVectorPool))\n",
    "        print(len(rectangle_position))\n",
    "\n",
    "        LaLotude2rect = {}\n",
    "        rect2LaLotude = {}\n",
    "        for pos in [(0,0,1),(0,0,-1)]:\n",
    "            if pos not in LaLotude2rect:\n",
    "                    node = len(LaLotude2rect)\n",
    "                    rect2LaLotude[node]= pos\n",
    "                    LaLotude2rect[pos] = node\n",
    "\n",
    "        for pos_list in rectangle_position:\n",
    "            for pos in pos_list:\n",
    "                pos= tuple(pos)\n",
    "                if pos not in LaLotude2rect:\n",
    "                    node = len(LaLotude2rect)\n",
    "                    rect2LaLotude[node]= pos\n",
    "                    LaLotude2rect[pos] = node\n",
    "        print(len(LaLotude2rect))\n",
    "        G2M_rect_pool = copy.deepcopy(LaLotude2rect)\n",
    "        # now we deal with the rest postion that won't appear in rect\n",
    "        for pos in LaLotudeVectorPool.keys():\n",
    "            pos= tuple(pos)\n",
    "            if pos in LaLotude2rect:continue\n",
    "            node = len(LaLotude2rect)\n",
    "            rect2LaLotude[node]= pos\n",
    "            LaLotude2rect[pos] = node\n",
    "\n",
    "        grid2LaLotudePos = []\n",
    "        for i,poss in enumerate(G2M_rect_pool.keys()):\n",
    "            if (poss[-1]==1) or (poss[-1]==-1):continue\n",
    "            grid2LaLotudePos.append(LaLotudeVectorPool[tuple(poss)])\n",
    "        G2M_grid2LaLotudePos = np.array(grid2LaLotudePos)  \n",
    "        np.save(os.path.join(ROOTPATH,f\"G2M_grid2LaLotudePos.npy\"   ),G2M_grid2LaLotudePos)    \n",
    "\n",
    "        # should only be (0,0,1) and (0,0,-1)\n",
    "        for key in LaLotude2rect.keys():\n",
    "            if key not in LaLotudeVectorPool:\n",
    "                print(key)\n",
    "\n",
    "        # rectangle_position record which grid box the mesh node in.\n",
    "        LaLotudePos2grid = []\n",
    "        for i,poss in enumerate(LaLotudeVector.reshape(-1,3)):\n",
    "            LaLotudePos2grid.append(LaLotude2rect[tuple(poss)])\n",
    "        LaLotudePos2grid = np.array(LaLotudePos2grid)\n",
    "        LaLotudePos2grid = LaLotudePos2grid.reshape((resolution),(2*resolution))  \n",
    "\n",
    "        np.save(os.path.join(ROOTPATH,f\"M2G_LaLotudeGrid2rect_tensor.npy\"   ),LaLotudePos2grid)    \n",
    "\n",
    "        G2M_edge_id2pair   = {} #np.zeros((len(node2position),4),dtype='float')\n",
    "        G2M_edge_pos2_id   = {} #np.zeros((len(node2position),4),dtype='float')\n",
    "\n",
    "        G2M_rect_of_node   = {} #np.zeros((len(node2position),4),dtype='int')\n",
    "        G2M_rect_distant   = {} #np.zeros((len(node2position),4),dtype='float')\n",
    "        G2M_edge_id_of_node= {} #np.zeros((len(node2position),4),dtype='float')\n",
    "        G2M_edge_coef_node = {} #np.zeros((len(node2position),4),dtype='float')\n",
    "\n",
    "        G2M_node_of_rect   = {} #np.zeros((len(node2position),4),dtype='int')\n",
    "        G2M_node_distant   = {} #np.zeros((len(node2position),4),dtype='float')\n",
    "        G2M_edge_id_of_rect= {} #np.zeros((len(node2position),4),dtype='float')\n",
    "        G2M_edge_coef_rect = {} #np.zeros((len(node2position),4),dtype='float')\n",
    "\n",
    "\n",
    "        for node_id, (node_pos,rec_poses) in enumerate(zip(node2position,rectangle_position)):\n",
    "            for rec_pos in rec_poses:\n",
    "                rect_id = LaLotude2rect[tuple(rec_pos)]\n",
    "                distant = np.linalg.norm(node_pos - rec_pos)\n",
    "                if (rect_id, node_id) not in G2M_edge_pos2_id:\n",
    "                    G2M_edge_id = len(G2M_edge_pos2_id)\n",
    "                    G2M_edge_pos2_id[rect_id, node_id]=G2M_edge_id\n",
    "                    G2M_edge_id2pair[G2M_edge_id] = [rect_id, node_id]\n",
    "                G2M_edge_id = G2M_edge_pos2_id[rect_id, node_id]\n",
    "                if node_id not in G2M_edge_id_of_node:G2M_edge_id_of_node[node_id] = [] \n",
    "                if node_id not in G2M_edge_coef_node :G2M_edge_coef_node[node_id]  = []\n",
    "                if node_id not in G2M_rect_of_node   :G2M_rect_of_node[node_id]    = []\n",
    "                if node_id not in G2M_rect_distant   :G2M_rect_distant[node_id]    = []\n",
    "                \n",
    "                if rect_id not in G2M_node_of_rect   :G2M_node_of_rect[rect_id]    = [] \n",
    "                if rect_id not in G2M_node_distant   :G2M_node_distant[rect_id]    = []\n",
    "                if rect_id not in G2M_edge_id_of_rect:G2M_edge_id_of_rect[rect_id] = []\n",
    "                if rect_id not in G2M_edge_coef_rect :G2M_edge_coef_rect[rect_id]  = []\n",
    "                    \n",
    "                G2M_rect_of_node[node_id].append(rect_id)\n",
    "                G2M_rect_distant[node_id].append(distant)\n",
    "                G2M_edge_id_of_node[node_id].append(G2M_edge_id)\n",
    "                G2M_edge_coef_node[node_id].append(distant)\n",
    "\n",
    "                G2M_node_of_rect[rect_id].append(node_id)\n",
    "                G2M_node_distant[rect_id].append(distant)\n",
    "                G2M_edge_id_of_rect[rect_id].append(G2M_edge_id)\n",
    "                G2M_edge_coef_rect[rect_id].append(distant)\n",
    "\n",
    "        # build edge \n",
    "        G2M_edge_id2pair_tensor   = np.zeros((len(G2M_edge_id2pair),2),dtype='int')  #<-- save \n",
    "        for i in range(len(G2M_edge_id2pair)):\n",
    "            G2M_edge_id2pair_tensor[i]    = np.array(G2M_edge_id2pair[i])\n",
    "        G2M_edge_pos2_id = G2M_edge_pos2_id       \n",
    "        np.save(os.path.join(ROOTPATH,f\"G2M_edge_id2pair_tensor.npy\"   ), G2M_edge_id2pair_tensor) \n",
    "        torch.save(G2M_edge_pos2_id    ,os.path.join(ROOTPATH,f\"G2M_edge_pos2_id.pt\"   ))  \n",
    "\n",
    "        # build neighbor rect of ordered node\n",
    "        G2M_rect_of_node_tensor = np.zeros((len(G2M_rect_of_node),4),dtype='int')    #<-- save  \n",
    "        G2M_rect_distant_tensor = np.zeros((len(G2M_rect_of_node),4),dtype='float')  #<-- save \n",
    "        for i in range(len(G2M_rect_of_node)):\n",
    "            G2M_rect_of_node_tensor[i] = np.array(G2M_rect_of_node[i])\n",
    "            G2M_rect_distant_tensor[i] = np.array(G2M_rect_distant[i])\n",
    "        # build neighbor egde of ordered node\n",
    "        G2M_edge_id_of_node_tensor= np.zeros((len(G2M_rect_of_node),4),dtype='int')   #<-- save \n",
    "        G2M_edge_coef_node_tensor = np.zeros((len(G2M_rect_of_node),4),dtype='float') #<-- save \n",
    "        for i in range(len(G2M_rect_of_node)):\n",
    "            G2M_edge_id_of_node_tensor[i] = np.array(G2M_edge_id_of_node[i] )\n",
    "            G2M_edge_coef_node_tensor[i]  = np.array(G2M_edge_coef_node[i]  )\n",
    "        np.save(os.path.join(ROOTPATH,f\"G2M_rect_of_node_tensor.npy\"   ), G2M_rect_of_node_tensor)    \n",
    "        np.save(os.path.join(ROOTPATH,f\"G2M_rect_distant_tensor.npy\"   ), G2M_rect_distant_tensor)    \n",
    "        np.save(os.path.join(ROOTPATH,f\"G2M_edge_id_of_node_tensor.npy\"), G2M_edge_id_of_node_tensor)    \n",
    "        np.save(os.path.join(ROOTPATH,f\"G2M_edge_coef_node_tensor.npy\" ), G2M_edge_coef_node_tensor) \n",
    "                \n",
    "        M2G_node_of_rect   = {} #np.zeros((len(node2position),4),dtype='int')\n",
    "        M2G_node_distant   = {} #np.zeros((len(node2position),4),dtype='float')\n",
    "        M2G_edge_id2pair   = G2M_edge_id2pair #np.zeros((len(node2position),4),dtype='float')\n",
    "        M2G_edge_pos2_id   = G2M_edge_pos2_id #np.zeros((len(node2position),4),dtype='float')\n",
    "        M2G_edge_id_of_rect= {} #np.zeros((len(node2position),4),dtype='float')\n",
    "        M2G_edge_coef_rect = {} #np.zeros((len(node2position),4),dtype='float')\n",
    "\n",
    "        # firstly we \n",
    "        for node_id, (node_pos,rec_poses) in enumerate(zip(node2position,rectangle_position)):\n",
    "            for rec_pos in rec_poses:\n",
    "                rect_id = LaLotude2rect[tuple(rec_pos)]\n",
    "                distant = np.linalg.norm(node_pos - rec_pos)\n",
    "                edgepair= (rect_id,node_id)\n",
    "                assert edgepair in M2G_edge_pos2_id\n",
    "        #         if  edgepair not in M2G_edge_pos2_id:\n",
    "        #             M2G_edge_id = len(M2G_edge_pos2_id)\n",
    "        #             M2G_edge_pos2_id[edgepair]    = M2G_edge_id\n",
    "        #             M2G_edge_id2pair[M2G_edge_id] = edgepair\n",
    "                M2G_edge_id = M2G_edge_pos2_id[edgepair]\n",
    "                if rect_id not in M2G_edge_id_of_rect:M2G_edge_id_of_rect[rect_id] = [] \n",
    "                if rect_id not in M2G_edge_coef_rect : M2G_edge_coef_rect[rect_id] = []\n",
    "                if rect_id not in M2G_node_of_rect   :   M2G_node_of_rect[rect_id] = []\n",
    "                if rect_id not in M2G_node_distant   :   M2G_node_distant[rect_id] = []\n",
    "                M2G_node_of_rect[   rect_id].append(node_id)\n",
    "                M2G_node_distant[   rect_id].append(distant)\n",
    "                M2G_edge_id_of_rect[rect_id].append(M2G_edge_id)\n",
    "                M2G_edge_coef_rect[ rect_id].append(distant)\n",
    "        # now we deal with grid that won't appear in rectangle_position:\n",
    "\n",
    "        for pos in LaLotudeVectorPool.keys():\n",
    "            pos= tuple(pos)\n",
    "            if pos in LaLotude2rect:continue\n",
    "            node = len(LaLotude2rect)\n",
    "            rect2LaLotude[node]= pos\n",
    "            LaLotude2rect[pos] = node\n",
    "\n",
    "        max_rank = 8\n",
    "        for rec_pos in LaLotudeVectorPool.keys():\n",
    "            rec_pos    = tuple(rec_pos)\n",
    "            if rec_pos in G2M_rect_pool:continue\n",
    "            rect_id    = LaLotude2rect[rec_pos]\n",
    "            allnodes   = node2position\n",
    "            alldists   = distant = np.linalg.norm(node2position - np.array([rec_pos]),axis=1)\n",
    "            near_node  = np.argsort(alldists)[:max_rank]\n",
    "            near_dist  = alldists[near_node]\n",
    "            \n",
    "            for node_id,distant in zip(near_node,near_dist):\n",
    "                edgepair= (rect_id,node_id)\n",
    "                if  edgepair not in M2G_edge_pos2_id:\n",
    "                    M2G_edge_id = len(M2G_edge_pos2_id)\n",
    "                    M2G_edge_pos2_id[edgepair]    = M2G_edge_id\n",
    "                    M2G_edge_id2pair[M2G_edge_id] = edgepair\n",
    "                if rect_id not in M2G_edge_id_of_rect: M2G_edge_id_of_rect[rect_id] = [] \n",
    "                if rect_id not in M2G_edge_coef_rect : M2G_edge_coef_rect[rect_id] = []\n",
    "                if rect_id not in M2G_node_of_rect   :   M2G_node_of_rect[rect_id] = []\n",
    "                if rect_id not in M2G_node_distant   :   M2G_node_distant[rect_id] = []\n",
    "                M2G_edge_id = M2G_edge_pos2_id[edgepair]        \n",
    "                M2G_node_of_rect[   rect_id].append(node_id)\n",
    "                M2G_node_distant[   rect_id].append(distant)\n",
    "                M2G_edge_id_of_rect[rect_id].append(M2G_edge_id)\n",
    "                M2G_edge_coef_rect[ rect_id].append(distant)\n",
    "\n",
    "        M2G_node_of_rect_tensor = np.zeros((len(M2G_node_distant),max_rank),dtype='int')\n",
    "        M2G_node_distant_tensor = np.zeros((len(M2G_node_distant),max_rank),dtype='float')\n",
    "        for rect_id in range(len(M2G_node_distant)):\n",
    "            nearby_node = M2G_node_of_rect[rect_id]\n",
    "            nearby_dist = M2G_node_distant[rect_id]\n",
    "            order       = np.argsort(nearby_dist)[:max_rank]\n",
    "            nearby_node = [nearby_node[idx] for idx in order]\n",
    "            nearby_dist = [nearby_dist[idx] for idx in order]\n",
    "            if len(nearby_node)<max_rank:\n",
    "                nearby_node = np.pad(nearby_node,(0,max_rank - len(nearby_node)),constant_values=-1)\n",
    "                nearby_dist = np.pad(nearby_dist,(0,max_rank - len(nearby_dist)),constant_values=-100)\n",
    "            M2G_node_of_rect_tensor[rect_id]= np.array(nearby_node)\n",
    "            M2G_node_distant_tensor[rect_id]= np.array(nearby_dist)\n",
    "\n",
    "        np.save(os.path.join(ROOTPATH,f\"M2G_node_of_rect_tensor.npy\"   ),M2G_node_of_rect_tensor)    \n",
    "        np.save(os.path.join(ROOTPATH,f\"M2G_node_distant_tensor.npy\"   ),M2G_node_distant_tensor)    \n",
    "\n",
    "        M2G_edge_id2pair_tensor = np.zeros((len(M2G_edge_id2pair),2),dtype='int')   #<-- save \n",
    "        for i in range(len(M2G_edge_id2pair)):\n",
    "            M2G_edge_id2pair_tensor[i] = M2G_edge_id2pair[i]\n",
    "\n",
    "        # build neighbor egde of ordered node\n",
    "        M2G_edge_id_of_grid_tensor= np.zeros((len(M2G_node_of_rect),max_rank),dtype='int')   #<-- save \n",
    "        M2G_edge_coef_grid_tensor = np.zeros((len(M2G_node_of_rect),max_rank),dtype='float') #<-- save \n",
    "        for rect_id in range(len(M2G_node_distant)):\n",
    "            nearby_node = M2G_edge_id_of_rect[rect_id]\n",
    "            nearby_dist =  M2G_edge_coef_rect[rect_id]\n",
    "            order       = np.argsort(nearby_dist)[:max_rank]\n",
    "            nearby_node = [nearby_node[idx] for idx in order]\n",
    "            nearby_dist = [nearby_dist[idx] for idx in order]\n",
    "            if len(nearby_node)< max_rank:\n",
    "                nearby_node = np.pad(nearby_node,(0,max_rank - len(nearby_node)),constant_values=-1)\n",
    "                nearby_dist = np.pad(nearby_dist,(0,max_rank - len(nearby_dist)),constant_values=-100)\n",
    "            M2G_edge_id_of_grid_tensor[rect_id]= np.array(nearby_node)\n",
    "            M2G_edge_coef_grid_tensor[rect_id] = np.array(nearby_dist)\n",
    "\n",
    "        np.save(os.path.join(ROOTPATH,f\"M2G_edge_id_of_grid_tensor.npy\"   ), M2G_edge_id_of_grid_tensor)    \n",
    "        np.save(os.path.join(ROOTPATH,f\"M2G_edge_coef_grid_tensor.npy\"   ) , M2G_edge_coef_grid_tensor)    \n",
    "        np.save(os.path.join(ROOTPATH,f\"M2G_edge_id2pair_tensor.npy\")      , M2G_edge_id2pair_tensor)    \n",
    "        print(\"done~\")\n"
   ]
  },
  {
   "cell_type": "code",
   "execution_count": 183,
   "id": "74a1b4b4",
   "metadata": {
    "hidden": true,
    "scrolled": false
   },
   "outputs": [
    {
     "name": "stdout",
     "output_type": "stream",
     "text": [
      "\n",
      "        This is ===> GraphCast Model <===\n",
      "        Information: \n",
      "            total mesh node:10242 total unique mesh edge:40950 \n",
      "            total grid node 8192+2 = 8194 but activated grid  7788 +  2\n",
      "            from activated grid to mesh, create 4*10242 = 40962 edge\n",
      "            there are 404 unactivated grid node\n",
      "            when mapping node to grid, \n",
      "            from node to activated grid, there are 40962 \n",
      "            from node to unactivated grid, there are 3232 edge\n",
      "            thus, totally have 44194 edge. \n",
      "            #notice some grid only have 1-2 linked node but some grid may have 30 lined node\n",
      "        \n"
     ]
    }
   ],
   "source": [
    "model = GraphCast()"
   ]
  },
  {
   "cell_type": "code",
   "execution_count": 184,
   "id": "a3ad2d32",
   "metadata": {
    "hidden": true
   },
   "outputs": [],
   "source": [
    "a = torch.randn(2,70,64,128)"
   ]
  },
  {
   "cell_type": "markdown",
   "id": "b977c0bb",
   "metadata": {
    "heading_collapsed": true
   },
   "source": [
    "# DGL"
   ]
  },
  {
   "cell_type": "code",
   "execution_count": 23,
   "id": "96521cb5",
   "metadata": {
    "code_folding": [
     0
    ],
    "hidden": true
   },
   "outputs": [],
   "source": [
    "# def readMx(path):\n",
    "#     pool = {}\n",
    "#     with open(path, 'r') as csvfile:\n",
    "#         spamreader = csv.reader(csvfile)\n",
    "#         for row in spamreader:\n",
    "#             key,val = row\n",
    "#             key = eval(key.replace(\"{\",\"(\").replace(\"}\",\")\"))\n",
    "#             val = eval(val.replace(\"{\",\"(\").replace(\"}\",\")\"))\n",
    "#             pool[key]=val\n",
    "#     return pool\n",
    "\n",
    "# Mpoolist = [readMx(f'GraphCastStructure/M{i+1}.csv') for i in range(5)]"
   ]
  },
  {
   "cell_type": "code",
   "execution_count": 2,
   "id": "cf143fda",
   "metadata": {
    "code_folding": [],
    "hidden": true
   },
   "outputs": [],
   "source": [
    "import os\n",
    "os.environ['CUDA_VISIBLE_DEVICES']=\"7\"\n",
    "\n",
    "import numpy as np\n",
    "import os\n",
    "import torch\n",
    "import dgl\n",
    "import dgl.function as fn\n",
    "flag = \"mesh5\"\n",
    "resolution_flag = \"32x64\""
   ]
  },
  {
   "cell_type": "code",
   "execution_count": 3,
   "id": "7582e57c",
   "metadata": {
    "hidden": true
   },
   "outputs": [],
   "source": [
    "import torch.nn as nn"
   ]
  },
  {
   "cell_type": "code",
   "execution_count": 3,
   "id": "5b8bf075",
   "metadata": {
    "hidden": true
   },
   "outputs": [],
   "source": [
    "embed_dim = 128\n",
    "activator = nn.Sequential(torch.nn.SiLU(),torch.nn.LayerNorm(embed_dim))\n",
    "activator = torch.nn.Identity()"
   ]
  },
  {
   "cell_type": "code",
   "execution_count": 4,
   "id": "0707212c",
   "metadata": {
    "hidden": true
   },
   "outputs": [],
   "source": [
    "linear_src = nn.Parameter(torch.randn(embed_dim, embed_dim))\n",
    "linear_dst = nn.Parameter(torch.randn(embed_dim, embed_dim))\n",
    "linear_edge= nn.Parameter(torch.randn(embed_dim, embed_dim))"
   ]
  },
  {
   "cell_type": "code",
   "execution_count": 5,
   "id": "2526eccc",
   "metadata": {
    "hidden": true
   },
   "outputs": [],
   "source": []
  },
  {
   "cell_type": "code",
   "execution_count": 54,
   "id": "1c42c024",
   "metadata": {
    "hidden": true
   },
   "outputs": [
    {
     "data": {
      "text/plain": [
       "Graph(num_nodes={'grid': 2050, 'mesh': 2562},\n",
       "      num_edges={('grid', 'doweight', 'mesh'): 10242, ('mesh', 'doweight', 'grid'): 11008, ('mesh', 'noweight', 'mesh'): 20460},\n",
       "      metagraph=[('grid', 'mesh', 'doweight'), ('mesh', 'grid', 'doweight'), ('mesh', 'mesh', 'noweight')])"
      ]
     },
     "execution_count": 54,
     "metadata": {},
     "output_type": "execute_result"
    }
   ],
   "source": [
    "ROOTPATH=f\"GraphCastStructure/{flag}\"  \n",
    "M2M_edgeid2pair         = (np.load(os.path.join(ROOTPATH,f\"M2M_edgeid2pair.npy\"   )))\n",
    "ROOTPATH=f\"GraphCastStructure/{flag}/{resolution_flag}\"\n",
    "G2M_edge_id2pair_tensor = (np.load(os.path.join(ROOTPATH,f\"G2M_edge_id2pair_tensor.npy\")))\n",
    "M2G_edge_id2pair_tensor = (np.load(os.path.join(ROOTPATH,f\"M2G_id2edge_max_rank.npy\")))\n",
    "\n",
    "# ### this will create three sub graph without edge weigth sharing.\n",
    "# ### such a configuration is wrong since the secone ('mesh', 'noweight', 'mesh') will \n",
    "# ### overwrite first ('mesh', 'noweight', 'mesh')\n",
    "# # graph_data = {\n",
    "# #            ('mesh', 'noweight', 'mesh')  : (M2M_edgeid2pair[:,0], M2M_edgeid2pair[:,1]),\n",
    "# #            ('mesh', 'noweight', 'mesh')  : (M2M_edgeid2pair[:,1], M2M_edgeid2pair[:,0]),\n",
    "# #            ('mesh', 'doweight', 'grid')  : (M2G_edge_id2pair_tensor[:,1],M2G_edge_id2pair_tensor[:,0]),\n",
    "# #            ('grid', 'doweight', 'mesh')  : (G2M_edge_id2pair_tensor[:,0],G2M_edge_id2pair_tensor[:,1])\n",
    "# #         }\n",
    "# ### thus, the correct way is \n",
    "graph_data = {\n",
    "           ('mesh', 'noweight', 'mesh')  : (np.concatenate([M2M_edgeid2pair[:,0], M2M_edgeid2pair[:,1]]),\n",
    "                                            np.concatenate([M2M_edgeid2pair[:,1], M2M_edgeid2pair[:,0]])),\n",
    "           ('mesh', 'doweight', 'grid')  : (M2G_edge_id2pair_tensor[:,1],M2G_edge_id2pair_tensor[:,0]),\n",
    "           ('grid', 'doweight', 'mesh')  : (G2M_edge_id2pair_tensor[:,0],G2M_edge_id2pair_tensor[:,1])\n",
    "        }\n",
    "g = dgl.heterograph(graph_data)\n",
    "g"
   ]
  },
  {
   "cell_type": "code",
   "execution_count": null,
   "id": "0af30423",
   "metadata": {
    "hidden": true
   },
   "outputs": [],
   "source": [
    "M2G_node_of_rect_tensor = np.load(os.path.join(ROOTPATH,f\"M2G_node_of_rect_tensor.npy\"   ))  \n",
    "M2G_node_distant_tensor = np.load(os.path.join(ROOTPATH,f\"M2G_node_of_rect_tensor.npy\"   )) "
   ]
  },
  {
   "cell_type": "code",
   "execution_count": 241,
   "id": "ef205b5d",
   "metadata": {
    "hidden": true
   },
   "outputs": [
    {
     "data": {
      "text/plain": [
       "10032"
      ]
     },
     "execution_count": 241,
     "metadata": {},
     "output_type": "execute_result"
    }
   ],
   "source": [
    "# it must smaller than the edge number in ('grid', 'doweight', 'mesh') since we only take  \n",
    "len(mesh2grid_graph_edge_id)"
   ]
  },
  {
   "cell_type": "code",
   "execution_count": 224,
   "id": "7f2ba949",
   "metadata": {
    "code_folding": [
     0
    ],
    "hidden": true
   },
   "outputs": [],
   "source": [
    "# ### the goal is to create a network that can share edge feature in grid2mesh and mesh2grid network\n",
    "# ### thus, we will merge mesh node and grid node into one big graph\n",
    "# ### then use the subgraph to do compute. There is one thing need to be comfirmed that\n",
    "# ### the subgraph can auto slice the feature in big graph.\n",
    "# ### but due to the DGL limitation, it is impossible to simply create feature shared edge\n",
    "# ROOTPATH=f\"GraphCastStructure/{flag}\"  \n",
    "# M2M_edgeid2pair         = (np.load(os.path.join(ROOTPATH,f\"M2M_edgeid2pair.npy\"   )))\n",
    "# ROOTPATH=f\"GraphCastStructure/{flag}/{resolution_flag}\"\n",
    "# G2M_edge_id2pair_tensor = (np.load(os.path.join(ROOTPATH,f\"G2M_edge_id2pair_tensor.npy\")))\n",
    "# M2G_edge_id2pair_tensor = (np.load(os.path.join(ROOTPATH,f\"M2G_id2edge_max_rank.npy\")))\n",
    "# GridNodeOffset = M2M_edgeid2pair.max() + 1\n",
    "# G2M_edge_id2pair_tensor = (np.load(os.path.join(ROOTPATH,f\"G2M_edge_id2pair_tensor.npy\")))\n",
    "# M2G_edge_id2pair_tensor = (np.load(os.path.join(ROOTPATH,f\"M2G_id2edge_max_rank.npy\")))\n",
    "# G2M_edge_id2pair_tensor[:,0]= G2M_edge_id2pair_tensor[:,0] + GridNodeOffset\n",
    "# M2G_edge_id2pair_tensor[:,0]= M2G_edge_id2pair_tensor[:,0] + GridNodeOffset\n",
    "\n",
    "# GM_unique_edge_linked = {}\n",
    "# for rect_id, node_id in G2M_edge_id2pair_tensor:\n",
    "#     edge_pair = (rect_id, node_id)\n",
    "#     if edge_pair not in GM_unique_edge_linked:\n",
    "#         GM_unique_edge_linked[edge_pair] = len(GM_unique_edge_linked)\n",
    "# for rect_id, node_id in M2G_edge_id2pair_tensor:\n",
    "#     edge_pair = (rect_id, node_id)\n",
    "#     if edge_pair not in GM_unique_edge_linked:\n",
    "#         GM_unique_edge_linked[edge_pair] = len(GM_unique_edge_linked)  \n",
    "# GM_unique_edge_linked = np.array([k for k in GM_unique_edge_linked.keys()])\n",
    "\n",
    "# u = np.concatenate([M2M_edgeid2pair[:,0]])\n",
    "# v = np.concatenate([M2M_edgeid2pair[:,1]])\n",
    "# g  = dgl.graph((u,v))\n",
    "# g.ndata['feat'] = torch.randn(g.num_nodes() ,2,embed_dim).share_memory_()\n",
    "# g.edata['feat'] = torch.randn(g.num_edges() ,2,embed_dim).share_memory_()\n",
    "# rg = dgl.reverse(g,copy_ndata=True,copy_edata=True)\n",
    "# g  = dgl.merge([g,rg])\n",
    "\n",
    "# edgeid = 50\n",
    "# u = M2M_edgeid2pair[edgeid,0]\n",
    "# v = M2M_edgeid2pair[edgeid,1]\n",
    "# print(torch.dist(g.edata['feat'][g.edge_ids(v,u)],g.edata['feat'][g.edge_ids(u,v)]))\n",
    "# g.edata['feat'][g.edge_ids(u,v)]=g.edata['feat'][g.edge_ids(u,v)]+4\n",
    "# print(torch.dist(g.edata['feat'][g.edge_ids(v,u)],g.edata['feat'][g.edge_ids(u,v)]))"
   ]
  },
  {
   "cell_type": "code",
   "execution_count": 56,
   "id": "74cb4a83",
   "metadata": {
    "hidden": true
   },
   "outputs": [
    {
     "data": {
      "text/plain": [
       "2050"
      ]
     },
     "execution_count": 56,
     "metadata": {},
     "output_type": "execute_result"
    }
   ],
   "source": [
    "g.num_nodes('grid')"
   ]
  },
  {
   "cell_type": "code",
   "execution_count": 55,
   "id": "18ac30b3",
   "metadata": {
    "code_folding": [],
    "hidden": true
   },
   "outputs": [
    {
     "name": "stderr",
     "output_type": "stream",
     "text": [
      "/nvme/zhangtianning/anaconda3/envs/pytorch/lib/python3.9/site-packages/torch/storage.py:315: UserWarning: TypedStorage is deprecated. It will be removed in the future and UntypedStorage will be the only storage class. This should only matter to you if you are using storages directly.\n",
      "  warnings.warn(message, UserWarning)\n"
     ]
    }
   ],
   "source": [
    "g.nodes['grid'].data['feat']                           = torch.randn(g.num_nodes('grid')    ,2,embed_dim)\n",
    "g.nodes['mesh'].data['feat']                           = torch.randn(g.num_nodes('mesh')    ,2,embed_dim)\n",
    "g.edges['noweight'].data['feat']                       = torch.randn(g.num_edges('noweight'),2,embed_dim)\n",
    "a = torch.randn(g.num_edges(('grid', 'doweight', 'mesh')),2,embed_dim)\n",
    "g.edges[('grid', 'doweight', 'mesh')].data['feat']     = a\n",
    "# g.edges[('mesh', 'doweight', 'grid')].data['feat']     = torch.nn.functional.pad(a,(0,0,\n",
    "#             0,0,0,g.num_edges(('mesh', 'doweight', 'grid')) -  g.num_edges(('grid', 'doweight', 'mesh'))))\n",
    "\n",
    "src_flag = 'grid'\n",
    "tgt_flag = 'mesh'\n",
    "edgetype = 'doweight'\n",
    "edgeflag = (src_flag, edgetype, tgt_flag)\n",
    "g.nodes[src_flag].data['src']   = g.nodes[src_flag].data['feat'] @ linear_src\n",
    "g.nodes[tgt_flag].data['dst']   = g.nodes[tgt_flag].data['feat'] @ linear_dst\n",
    "g.apply_edges(fn.u_add_v('src', 'dst', 'node_to_edge'),etype=edgeflag)\n",
    "g.edges[edgeflag].data['add_feat'] = activator(g.edges[edgeflag].data['node_to_edge'] +\n",
    "                                               g.edges[edgeflag].data['feat'] @ linear_edge)\n",
    "g.update_all(fn.copy_e('add_feat','add_feat'),\n",
    "             fn.sum('add_feat', 'add_feat'),etype=edgeflag)\n",
    "g.nodes[tgt_flag].data['feat']+= g.nodes[tgt_flag].data['add_feat']\n",
    "g.edges[edgeflag].data['feat']+= g.edges[edgeflag].data['add_feat']"
   ]
  },
  {
   "cell_type": "code",
   "execution_count": 6,
   "id": "7520c336",
   "metadata": {
    "hidden": true
   },
   "outputs": [],
   "source": [
    "import os\n",
    "os.environ['CUDA_VISIBLE_DEVICES']=\"7\"\n",
    "\n",
    "import numpy as np\n",
    "import os\n",
    "import torch.nn as nn\n",
    "import torch\n",
    "import dgl\n",
    "import dgl.function as fn\n",
    "from einops import rearrange\n",
    "flag = \"mesh5\"\n",
    "resolution_flag = \"32x64\""
   ]
  },
  {
   "cell_type": "code",
   "execution_count": 7,
   "id": "b038ab0c",
   "metadata": {
    "code_folding": [
     41
    ],
    "hidden": true
   },
   "outputs": [],
   "source": [
    "class Node2Edge2NodeBlockDGL(nn.Module):\n",
    "    def __init__(self, src_flag, edgetype, tgt_flag, embed_dim=128,do_source_update=False):\n",
    "        super().__init__()\n",
    "        self.activator    = nn.Sequential(torch.nn.SiLU(),torch.nn.LayerNorm(embed_dim))\n",
    "        self.STE2E_S2E = nn.Parameter(torch.randn(embed_dim, embed_dim))\n",
    "        self.STE2E_T2E = nn.Parameter(torch.randn(embed_dim, embed_dim))\n",
    "        self.STE2E_E2E = nn.Parameter(torch.randn(embed_dim, embed_dim))\n",
    "        self.ET2T_E2T  = nn.Parameter(torch.randn(embed_dim, embed_dim))\n",
    "        self.ET2T_T2T  = nn.Parameter(torch.randn(embed_dim, embed_dim))\n",
    "        self.S2S = None\n",
    "        if do_source_update:\n",
    "            self.S2S   = nn.Parameter(torch.randn(embed_dim, embed_dim))\n",
    "        self.src_flag = src_flag\n",
    "        self.tgt_flag = tgt_flag\n",
    "        self.edgetype = edgetype\n",
    "        \n",
    "    def forward(self,g):\n",
    "        src_flag = self.src_flag\n",
    "        tgt_flag = self.tgt_flag\n",
    "        edgetype = self.edgetype\n",
    "        edgeflag = (src_flag, edgetype, tgt_flag)\n",
    "        g.nodes[src_flag].data['src']     = g.nodes[src_flag].data['feat'] @ self.STE2E_S2E\n",
    "        g.nodes[tgt_flag].data['dst']     = g.nodes[tgt_flag].data['feat'] @ self.STE2E_T2E\n",
    "        g.edges[edgeflag].data['add_feat']= g.edges[edgeflag].data['feat'] @ self.STE2E_E2E\n",
    "        \n",
    "        g.apply_edges(fn.u_add_v('src', 'dst', 'node_to_edge'),etype=edgeflag)\n",
    "        g.edges[edgeflag].data['add_feat'] = self.activator(g.edges[edgeflag].data['node_to_edge'] +\n",
    "                                                            g.edges[edgeflag].data['add_feat'])\n",
    "        if 'coef' in g.edges[edgeflag].data:\n",
    "            g.edges[edgeflag].data['add_feat']*= g.edges[edgeflag].data['coef']\n",
    "            g.update_all(fn.copy_e('add_feat','add_feat'),fn.sum('add_feat', 'add_feat'),\n",
    "                         etype=edgeflag)\n",
    "        else:\n",
    "            g.update_all(fn.copy_e('add_feat','add_feat'),fn.mean('add_feat', 'add_feat'),\n",
    "                         etype=edgeflag)\n",
    "        g.nodes[tgt_flag].data['feat'] = g.nodes[tgt_flag].data['feat'] + g.nodes[tgt_flag].data['add_feat']\n",
    "        g.edges[edgeflag].data['feat'] = g.edges[edgeflag].data['feat'] + g.edges[edgeflag].data['add_feat']\n",
    "        if self.S2S is not None:\n",
    "            g.nodes[src_flag].data['feat'] = g.nodes[src_flag].data['feat']+ self.activator(g.nodes[src_flag].data['feat']@ self.S2S)\n",
    "        return g\n",
    "\n",
    "class GraphCastDGL(nn.Module):\n",
    "    '''\n",
    "    Repreduce of GraphCast in Pytorch.\n",
    "    GraphCast has three part:\n",
    "    - Grid to Mesh\n",
    "    - Mesh to Mesh\n",
    "    - Mesh to Grid\n",
    "    -------------------------------------\n",
    "    the input is a tensor (B, P, W, H), but the internal tensor all with shape (B, L ,P)\n",
    "    where the L equal the node number or edge number.\n",
    "    '''\n",
    "    def __init__(self, img_size=(32,64),  in_chans=70, out_chans=70, depth=6, embed_dim=128, graphflag='mesh5', nonlinear='swish', **kargs):\n",
    "        super().__init__()\n",
    "        flag = graphflag\n",
    "        resolution_flag=f'{img_size[0]}x{img_size[1]}'\n",
    "        ROOTPATH=f\"GraphCastStructure/{flag}\"\n",
    "        \n",
    "        M2M_edgeid2pair         = torch.LongTensor(np.load(os.path.join(ROOTPATH,f\"M2M_edgeid2pair.npy\"   )))\n",
    "        ROOTPATH=f\"GraphCastStructure/{flag}/{resolution_flag}\"\n",
    "        G2M_edge_id2pair_tensor = (np.load(os.path.join(ROOTPATH,f\"G2M_edge_id2pair_tensor.npy\")))\n",
    "        M2G_edge_id2pair_tensor = (np.load(os.path.join(ROOTPATH,f\"M2G_id2edge_max_rank.npy\")))\n",
    "        \n",
    "        self.G2M_grid2LaLotudePos = np.load(os.path.join(ROOTPATH,f\"G2M_grid2LaLotudePos.npy\"   )     )\n",
    "        self.M2G_LaLotudePos2grid = np.load(os.path.join(ROOTPATH,f\"M2G_LaLotudeGrid2rect_tensor.npy\"))\n",
    "\n",
    "\n",
    "        graph_data = {\n",
    "                   ('mesh', 'M2M', 'mesh')  : (np.concatenate([M2M_edgeid2pair[:,0], M2M_edgeid2pair[:,1]]),\n",
    "                                               np.concatenate([M2M_edgeid2pair[:,1], M2M_edgeid2pair[:,0]])),\n",
    "                   ('mesh', 'M2G', 'grid')  : (M2G_edge_id2pair_tensor[:,1],M2G_edge_id2pair_tensor[:,0]),\n",
    "                   ('grid', 'G2M', 'mesh')  : (G2M_edge_id2pair_tensor[:,0],G2M_edge_id2pair_tensor[:,1])\n",
    "                }\n",
    "        g = dgl.heterograph(graph_data)\n",
    "\n",
    "        total_mesh_node = g.num_nodes('mesh')\n",
    "        total_mesh_edge = g.num_edges('M2M')\n",
    "        total_grid_node = g.num_nodes('grid') - 2\n",
    "        total_G2M_edges = g.num_edges('G2M')\n",
    "        total_M2G_edges = g.num_edges('M2G')\n",
    "        self.activated_gridn  = activated_gridn  = G2M_edge_id2pair_tensor[:,0].max()+1\n",
    "        self.unactivated_grid = unactivated_grid = g.num_nodes('grid') - activated_gridn\n",
    "        \n",
    "        shared_pair_u = M2G_edge_id2pair_tensor[:,0][M2G_edge_id2pair_tensor[:,0]<=G2M_edge_id2pair_tensor[:,0].max()]\n",
    "        shared_pair_v = M2G_edge_id2pair_tensor[:,1][M2G_edge_id2pair_tensor[:,0]<=G2M_edge_id2pair_tensor[:,0].max()]\n",
    "        ## now we need find the order of all the ('grid', 'G2M', 'mesh') edge \n",
    "        ## in ('mesh', 'M2G', 'grid') subgraph\n",
    "        self.reorder_edge_id_of_M2G_from_G2M = g.edge_ids(shared_pair_u,shared_pair_v, etype=('grid', 'G2M', 'mesh')) \n",
    "        M2G_edge_from_node_to_activate_grid = len(self.reorder_edge_id_of_M2G_from_G2M)\n",
    "        self.num_unactivated_edge = num_unactivated_edge = total_M2G_edges - M2G_edge_from_node_to_activate_grid\n",
    "        print(f'''\n",
    "        This is ===> GraphCast Model(DGL) <===\n",
    "        Information: \n",
    "            total mesh node:{total_mesh_node:5d} total unique mesh edge:{total_mesh_edge//2:5d}*2={total_mesh_edge:5d} \n",
    "            total grid node {total_grid_node}+2 = {total_grid_node+2} but activated grid {activated_gridn} \n",
    "            from activated grid to mesh, create 4*{total_mesh_node} - 6 = {total_G2M_edges} edges. (north and south pole repeat 4 times) \n",
    "            there are {unactivated_grid} unactivated grid node\n",
    "            when mapping node to grid, \n",
    "            from node to activated grid, there are {M2G_edge_from_node_to_activate_grid} edges\n",
    "            from node to unactivated grid, there are {num_unactivated_edge} edges\n",
    "            thus, totally have {total_M2G_edges} edge. \n",
    "            #notice some grid only have 1-2 linked node but some grid may have 30 lined node\n",
    "        ''')\n",
    "        \n",
    "        G2M_rect_of_node_tensor= np.load(os.path.join(ROOTPATH,f\"G2M_rect_of_node_tensor.npy\"))  \n",
    "        G2M_rect_distant_tensor= np.load(os.path.join(ROOTPATH,f\"G2M_rect_distant_tensor.npy\") )\n",
    "        G2M_rect_node_tensor= torch.LongTensor(G2M_rect_of_node_tensor)  \n",
    "        G2M_rect_coef_tensor= torch.softmax(torch.FloatTensor(G2M_rect_distant_tensor),axis=-1)\n",
    "\n",
    "        #### create_edge_coef_in_grid2mesh ######\n",
    "        edge_flag = ('grid', 'G2M', 'mesh')\n",
    "        NRC_tensor = torch.Tensor([(node_id, rect_id, coef) for node_id, (rect_list,coef_list) in enumerate(zip(\n",
    "            G2M_rect_node_tensor,G2M_rect_coef_tensor)) for rect_id,coef in zip(rect_list,coef_list)])\n",
    "        edge_idlist = g.edge_ids(NRC_tensor[:,1].long(),NRC_tensor[:,0].long(), etype=edge_flag)    \n",
    "        edge_ids={}\n",
    "        for _id,coef in zip(edge_idlist,NRC_tensor[:,2]):\n",
    "            _id = _id.item()\n",
    "            if _id not in edge_ids:edge_ids[_id]=coef\n",
    "            edge_ids[_id] += coef\n",
    "        edge_coef = torch.stack([edge_ids[i] for i in range(len(edge_ids))])\n",
    "        self.G2M_edge_coef = torch.nn.Parameter(edge_coef.unsqueeze(-1).unsqueeze(-1) ,requires_grad=False) \n",
    "        #g.edges[edge_flag].data['coef'] = \n",
    "\n",
    "        #### create_edge_coef_in_mesh2grid ######\n",
    "        edge_flag = ('mesh', 'M2G', 'grid')\n",
    "        M2G_node_of_rect_tensor = np.load(os.path.join(ROOTPATH,f\"M2G_node_of_rect_tensor.npy\"   ))  \n",
    "        M2G_node_distant_tensor = np.load(os.path.join(ROOTPATH,f\"M2G_node_of_rect_tensor.npy\"   ))  \n",
    "        M2G_node_of_rect_tensor = torch.LongTensor(M2G_node_of_rect_tensor)  \n",
    "        M2G_node_distant_tensor = torch.softmax(torch.FloatTensor(M2G_node_distant_tensor),axis=-1)\n",
    "        \n",
    "        NRC_tensor = torch.Tensor([(node_id, rect_id, coef) for rect_id, (node_list,coef_list) in enumerate(zip(\n",
    "            M2G_node_of_rect_tensor,M2G_node_distant_tensor)) for node_id,coef in zip(node_list,coef_list) if node_id>=0]  )\n",
    "        edge_idlist = g.edge_ids(NRC_tensor[:,0].long(),NRC_tensor[:,1].long(), etype=edge_flag)  \n",
    "\n",
    "        edge_ids={}\n",
    "        for _id,coef in zip(edge_idlist,NRC_tensor[:,2]):\n",
    "            _id = _id.item()\n",
    "            if _id not in edge_ids:edge_ids[_id]=coef\n",
    "            edge_ids[_id] += coef\n",
    "        edge_coef = torch.stack([edge_ids[i] for i in range(len(edge_ids))])\n",
    "        self.M2G_edge_coef = torch.nn.Parameter(edge_coef.unsqueeze(-1).unsqueeze(-1) ,requires_grad=False) # to automatively go into cuda\n",
    "        #g.edges[edge_flag].data['coef'] = torch.nn.Parameter(edge_coef ,requires_grad=False) # to automatively go into cuda\n",
    "\n",
    "        \n",
    "        edge_flag = ('mesh', 'M2M', 'mesh')\n",
    "        #self.M2M_edge_coef = torch.nn.Parameter(torch.FloatTensor([1/4]),requires_grad=False)\n",
    "        #g.edges[edge_flag].data['coef'] = 1/4 \n",
    "        \n",
    "        self.grid2mesh = Node2Edge2NodeBlockDGL('grid','G2M','mesh',embed_dim=embed_dim,do_source_update=True)\n",
    "        self.mesh2mesh = nn.ModuleList()\n",
    "        for i in range(depth):\n",
    "            self.mesh2mesh.append(Node2Edge2NodeBlockDGL('mesh','M2M','mesh',embed_dim=embed_dim))        \n",
    "        self.mesh2grid = Node2Edge2NodeBlockDGL('mesh','M2G','grid',embed_dim=embed_dim)\n",
    "        \n",
    "        \n",
    "        self.grid_rect_embedding_layer = nn.Linear(in_chans,embed_dim)\n",
    "        \n",
    "        self.projection                = nn.Linear(embed_dim,out_chans)\n",
    "        \n",
    "        self.northsouthembbed          = nn.Parameter(torch.randn(2,embed_dim))\n",
    "        self.mesh_node_embedding       = nn.Parameter(torch.randn(g.num_nodes('mesh')               ,1, embed_dim))\n",
    "        self.mesh_mesh_bond_embedding  = nn.Parameter(torch.randn(g.num_edges('M2M')                ,1, embed_dim))\n",
    "        self.grid_mesh_bond_embedding  = nn.Parameter(torch.randn(g.num_edges(('grid','G2M','mesh')),1, embed_dim)/10)\n",
    "\n",
    "        self.g = g\n",
    "    \n",
    "    def forward(self, _input):\n",
    "        B, P , W, H =_input.shape\n",
    "        # (B,P,W,H) -> (B,W*H,P)\n",
    "        feature_along_latlot     = self.grid_rect_embedding_layer(rearrange(_input,\"B P W H -> (W H) B P\"))\n",
    "        grid_rect_embedding      = feature_along_latlot[self.G2M_grid2LaLotudePos] # (L,B,D)\n",
    "        grid_rect_embedding      = torch.cat([rearrange(self.northsouthembbed.repeat(B,1,1),\"B L D -> L B D\"),\n",
    "                                              grid_rect_embedding]) ## --> (L+2, B, D)\n",
    "        \n",
    "        g = self.g\n",
    "        g.nodes['grid'].data['feat']= torch.nn.functional.pad(grid_rect_embedding,(0,0,0,0,0,self.unactivated_grid))\n",
    "        g.nodes['mesh'].data['feat']= self.mesh_node_embedding\n",
    "        g.edges['G2M'].data['feat'] = self.grid_mesh_bond_embedding\n",
    "        g.edges['M2M'].data['feat'] = self.mesh_mesh_bond_embedding     \n",
    "        \n",
    "        g.edges['G2M'].data['coef'] = self.G2M_edge_coef\n",
    "        g.edges['M2G'].data['coef'] = self.M2G_edge_coef\n",
    "        #checknan(g,'initial');\n",
    "        g = self.grid2mesh(g);\n",
    "        #checknan(g,'grid2mesh');\n",
    "        for layer_idx, mesh2mesh in enumerate(self.mesh2mesh):\n",
    "            g = mesh2mesh(g);#checknan(g,f\"mesh2mesh_{layer_idx}\")\n",
    "        g.edges['M2G'].data['feat'] = torch.nn.functional.pad(g.edges['G2M'].data['feat'][self.reorder_edge_id_of_M2G_from_G2M],(0,0,0,0,0,self.num_unactivated_edge))\n",
    "        g      = self.mesh2grid(g);#checknan(g,'mesh2grid');\n",
    "        out = g.nodes['grid'].data['feat'][self.M2G_LaLotudePos2grid] #(64,128,B,embed_dim)\n",
    "        return self.projection(out).permute(2,3,0,1)"
   ]
  },
  {
   "cell_type": "code",
   "execution_count": 27,
   "id": "ec13483c",
   "metadata": {
    "code_folding": [],
    "hidden": true
   },
   "outputs": [],
   "source": [
    "def checknan(g,name):\n",
    "    print(f\"========={name}===========\")\n",
    "    print(f\"grid = {g.nodes['grid'].data['feat'].shape}\")\n",
    "    print(f\"mesh = {g.nodes['mesh'].data['feat'].shape}\")\n",
    "    print(f\"G2M  = {g.edges['G2M' ].data['feat'].shape}\")\n",
    "    print(f\"M2M  = {g.edges['M2M' ].data['feat'].shape}\")"
   ]
  },
  {
   "cell_type": "code",
   "execution_count": 9,
   "id": "a268939d",
   "metadata": {
    "hidden": true,
    "scrolled": false
   },
   "outputs": [
    {
     "name": "stdout",
     "output_type": "stream",
     "text": [
      "\n",
      "        This is ===> GraphCast Model(DGL) <===\n",
      "        Information: \n",
      "            total mesh node: 2562 total unique mesh edge:10230*2=20460 \n",
      "            total grid node 2048+2 = 2050 but activated grid 1928 \n",
      "            from activated grid to mesh, create 4*2562 - 6 = 10242 edges. (north and south pole repeat 4 times) \n",
      "            there are 122 unactivated grid node\n",
      "            when mapping node to grid, \n",
      "            from node to activated grid, there are 10032 edges\n",
      "            from node to unactivated grid, there are 976 edges\n",
      "            thus, totally have 11008 edge. \n",
      "            #notice some grid only have 1-2 linked node but some grid may have 30 lined node\n",
      "        \n",
      "torch.Size([2, 70, 32, 64])\n",
      "tensor(-0.0060, grad_fn=<MeanBackward0>)\n"
     ]
    },
    {
     "name": "stderr",
     "output_type": "stream",
     "text": [
      "/nvme/zhangtianning/anaconda3/envs/pytorch/lib/python3.9/site-packages/torch/storage.py:315: UserWarning: TypedStorage is deprecated. It will be removed in the future and UntypedStorage will be the only storage class. This should only matter to you if you are using storages directly.\n",
      "  warnings.warn(message, UserWarning)\n"
     ]
    }
   ],
   "source": [
    "model = GraphCastDGL(img_size=(32,64))\n",
    "a = torch.randn(2,70,32,64)\n",
    "o = model(a)\n",
    "print(o.shape)\n",
    "print(o.mean())"
   ]
  },
  {
   "cell_type": "code",
   "execution_count": 24,
   "id": "cc2f4c6b",
   "metadata": {
    "hidden": true
   },
   "outputs": [],
   "source": [
    "_input = torch.randn(2,70,32,64).cuda()\n",
    "model = model.cuda()\n",
    "model.g = model.g.to(next(model.parameters()).device)"
   ]
  },
  {
   "cell_type": "code",
   "execution_count": null,
   "id": "ba69f652",
   "metadata": {
    "hidden": true
   },
   "outputs": [],
   "source": []
  },
  {
   "cell_type": "code",
   "execution_count": 28,
   "id": "f094556b",
   "metadata": {
    "hidden": true,
    "scrolled": false
   },
   "outputs": [
    {
     "name": "stdout",
     "output_type": "stream",
     "text": [
      "=========initial===========\n",
      "grid = torch.Size([2050, 2, 128])\n",
      "mesh = torch.Size([2562, 1, 128])\n",
      "G2M  = torch.Size([10242, 1, 128])\n",
      "M2M  = torch.Size([20460, 1, 128])\n",
      "=========grid2mesh===========\n",
      "grid = torch.Size([2050, 2, 128])\n",
      "mesh = torch.Size([2562, 2, 128])\n",
      "G2M  = torch.Size([10242, 2, 128])\n",
      "M2M  = torch.Size([20460, 1, 128])\n",
      "=========mesh2mesh===========\n",
      "grid = torch.Size([2050, 2, 128])\n",
      "mesh = torch.Size([2562, 2, 128])\n",
      "G2M  = torch.Size([10242, 2, 128])\n",
      "M2M  = torch.Size([20460, 2, 128])\n",
      "=========mesh2grid===========\n",
      "grid = torch.Size([2050, 2, 128])\n",
      "mesh = torch.Size([2562, 2, 128])\n",
      "G2M  = torch.Size([10242, 2, 128])\n",
      "M2M  = torch.Size([20460, 2, 128])\n"
     ]
    }
   ],
   "source": [
    "with torch.no_grad():\n",
    "    B, P , W, H =_input.shape\n",
    "    # (B,P,W,H) -> (B,W*H,P)\n",
    "    feature_along_latlot     = model.grid_rect_embedding_layer(rearrange(_input,\"B P W H -> (W H) B P\"))\n",
    "    grid_rect_embedding      = feature_along_latlot[model.G2M_grid2LaLotudePos] # (L,B,D)\n",
    "    grid_rect_embedding      = torch.cat([rearrange(model.northsouthembbed.repeat(B,1,1),\"B L D -> L B D\"),\n",
    "                                            grid_rect_embedding]) ## --> (L+2, B, D)\n",
    "    \n",
    "    g = model.g\n",
    "    g.nodes['grid'].data['feat']= torch.nn.functional.pad(grid_rect_embedding,(0,0,0,0,0,model.unactivated_grid))\n",
    "    g.nodes['mesh'].data['feat']= model.mesh_node_embedding\n",
    "    g.edges['G2M'].data['feat'] = model.grid_mesh_bond_embedding\n",
    "    g.edges['M2M'].data['feat'] = model.mesh_mesh_bond_embedding     \n",
    "    g.edges['G2M'].data['coef'] = model.G2M_edge_coef\n",
    "    g.edges['M2G'].data['coef'] = model.M2G_edge_coef\n",
    "    checknan(g,'initial');\n",
    "    g = model.grid2mesh(g);checknan(g,'grid2mesh');\n",
    "    g = model.mesh2mesh[0](g);checknan(g,'mesh2mesh');\n",
    "    g.edges['M2G'].data['feat'] = torch.nn.functional.pad(g.edges['G2M'].data['feat'][model.reorder_edge_id_of_M2G_from_G2M],(0,0,0,0,0,model.num_unactivated_edge))\n",
    "    g      = model.mesh2grid(g);checknan(g,'mesh2grid');\n"
   ]
  },
  {
   "cell_type": "code",
   "execution_count": 18,
   "id": "03836d10",
   "metadata": {
    "hidden": true
   },
   "outputs": [
    {
     "name": "stdout",
     "output_type": "stream",
     "text": [
      "1.27 ms ± 1.81 µs per loop (mean ± std. dev. of 7 runs, 1,000 loops each)\n"
     ]
    }
   ],
   "source": [
    "%%timeit\n",
    "with torch.no_grad():\n",
    "    B, P , W, H =_input.shape\n",
    "    # (B,P,W,H) -> (B,W*H,P)\n",
    "    feature_along_latlot     = model.grid_rect_embedding_layer(rearrange(_input,\"B P W H -> (W H) B P\"))\n",
    "    grid_rect_embedding      = feature_along_latlot[model.G2M_grid2LaLotudePos] # (L,B,D)\n",
    "    grid_rect_embedding      = torch.cat([rearrange(model.northsouthembbed.repeat(B,1,1),\"B L D -> L B D\"),\n",
    "                                            grid_rect_embedding]) ## --> (L+2, B, D)\n",
    "\n",
    "    g = model.g\n",
    "    g.nodes['grid'].data['feat']= torch.nn.functional.pad(grid_rect_embedding,(0,0,0,0,0,model.unactivated_grid))\n",
    "    g.nodes['mesh'].data['feat']= model.mesh_node_embedding\n",
    "    g.edges['G2M'].data['feat'] = model.grid_mesh_bond_embedding\n",
    "    g.edges['M2M'].data['feat'] = model.mesh_mesh_bond_embedding     \n",
    "    g.edges['G2M'].data['coef'] = model.G2M_edge_coef\n",
    "    g.edges['M2G'].data['coef'] = model.M2G_edge_coef\n",
    "    #checknan(g,'initial');\n",
    "    g = model.mesh2mesh[0](g);"
   ]
  },
  {
   "cell_type": "code",
   "execution_count": 17,
   "id": "19e624d5",
   "metadata": {
    "hidden": true
   },
   "outputs": [
    {
     "name": "stdout",
     "output_type": "stream",
     "text": [
      "1.29 ms ± 2.35 µs per loop (mean ± std. dev. of 7 runs, 1,000 loops each)\n"
     ]
    }
   ],
   "source": [
    "%%timeit\n",
    "with torch.no_grad():\n",
    "    B, P , W, H =_input.shape\n",
    "    # (B,P,W,H) -> (B,W*H,P)\n",
    "    feature_along_latlot     = model.grid_rect_embedding_layer(rearrange(_input,\"B P W H -> (W H) B P\"))\n",
    "    grid_rect_embedding      = feature_along_latlot[model.G2M_grid2LaLotudePos] # (L,B,D)\n",
    "    grid_rect_embedding      = torch.cat([rearrange(model.northsouthembbed.repeat(B,1,1),\"B L D -> L B D\"),\n",
    "                                            grid_rect_embedding]) ## --> (L+2, B, D)\n",
    "\n",
    "    g = model.g\n",
    "    g.nodes['grid'].data['feat']= torch.nn.functional.pad(grid_rect_embedding,(0,0,0,0,0,model.unactivated_grid))\n",
    "    g.nodes['mesh'].data['feat']= model.mesh_node_embedding\n",
    "    g.edges['G2M'].data['feat'] = model.grid_mesh_bond_embedding\n",
    "    g.edges['M2M'].data['feat'] = model.mesh_mesh_bond_embedding     \n",
    "    g.edges['G2M'].data['coef'] = model.G2M_edge_coef\n",
    "    g.edges['M2G'].data['coef'] = model.M2G_edge_coef\n",
    "    #checknan(g,'initial');\n",
    "    g.edges['M2G'].data['feat'] = torch.nn.functional.pad(g.edges['G2M'].data['feat'][model.reorder_edge_id_of_M2G_from_G2M],(0,0,0,0,0,model.num_unactivated_edge))\n",
    "    g      = model.mesh2grid(g);#checknan(g,'mesh2grid');"
   ]
  },
  {
   "cell_type": "markdown",
   "id": "c28668a1",
   "metadata": {},
   "source": [
    "# Deploy"
   ]
  },
  {
   "cell_type": "code",
   "execution_count": 2,
   "id": "2998dfc6",
   "metadata": {},
   "outputs": [],
   "source": [
    "import os\n",
    "os.environ['CUDA_VISIBLE_DEVICES']=\"7\"\n",
    "\n",
    "import numpy as np\n",
    "import torch\n",
    "import csv"
   ]
  },
  {
   "cell_type": "code",
   "execution_count": 3,
   "id": "378a0662",
   "metadata": {},
   "outputs": [],
   "source": [
    "from model.GraphCast import *"
   ]
  },
  {
   "cell_type": "code",
   "execution_count": 4,
   "id": "4dcb838d",
   "metadata": {
    "scrolled": true
   },
   "outputs": [
    {
     "name": "stdout",
     "output_type": "stream",
     "text": [
      "\n",
      "        This is ===> GraphCast Model <===\n",
      "        Information: \n",
      "            total mesh node: 2562 total unique mesh edge:10230 \n",
      "            total grid node 2048+2 = 2050 but activated grid  1926 +  2\n",
      "            from activated grid to mesh, create 4*2562 = 10242 edge\n",
      "            there are 122 unactivated grid node\n",
      "            when mapping node to grid, \n",
      "            from node to activated grid, there are 10242 \n",
      "            from node to unactivated grid, there are 976 edge\n",
      "            thus, totally have 11218 edge. \n",
      "            #notice some grid only have 1-2 linked node but some grid may have 30 lined node\n",
      "        \n"
     ]
    }
   ],
   "source": [
    "model = GraphCast(img_size=(32,64),in_chans=70,out_chans=70)"
   ]
  },
  {
   "cell_type": "code",
   "execution_count": 1,
   "id": "a03f1d0b",
   "metadata": {},
   "outputs": [],
   "source": []
  },
  {
   "cell_type": "code",
   "execution_count": null,
   "id": "e313c743",
   "metadata": {},
   "outputs": [],
   "source": []
  },
  {
   "cell_type": "code",
   "execution_count": 4,
   "id": "b48d7801",
   "metadata": {},
   "outputs": [],
   "source": [
    "model = model.cuda()\n",
    "\n",
    "_input = torch.randn(16,70,32,64).cuda()\n",
    "\n",
    "B, P , W, H =_input.shape\n",
    "feature_along_latlot     = model.grid_rect_embedding_layer(_input.permute(0,2,3,1).flatten(1,2))\n",
    "grid_rect_embedding      = feature_along_latlot[:,model.G2M_grid2LaLotudePos]\n",
    "grid_rect_embedding      = torch.cat([model.northsouthembbed.repeat(B,1,1),grid_rect_embedding],1)\n",
    "grid_mesh_bond_embedding = model.grid_mesh_bond_embedding.repeat(B,1,1)\n",
    "mesh_node_embedding      = model.mesh_node_embedding.repeat(B,1,1)\n",
    "mesh_mesh_bond_embedding = model.mesh_mesh_bond_embedding.repeat(B,1,1)"
   ]
  },
  {
   "cell_type": "code",
   "execution_count": 5,
   "id": "e9fe1aca",
   "metadata": {
    "code_folding": []
   },
   "outputs": [
    {
     "name": "stdout",
     "output_type": "stream",
     "text": [
      "4.17 ms ± 1.31 µs per loop (mean ± std. dev. of 7 runs, 100 loops each)\n"
     ]
    }
   ],
   "source": [
    "%%timeit\n",
    "with torch.no_grad():\n",
    "    feature_along_latlot     = model.grid_rect_embedding_layer(_input.permute(0,2,3,1).flatten(1,2))\n",
    "    grid_rect_embedding      = feature_along_latlot[:,model.G2M_grid2LaLotudePos]\n",
    "    grid_rect_embedding      = torch.cat([model.northsouthembbed.repeat(B,1,1),grid_rect_embedding],1)\n",
    "    grid_mesh_bond_embedding = model.grid_mesh_bond_embedding.repeat(B,1,1)\n",
    "    mesh_node_embedding      = model.mesh_node_embedding.repeat(B,1,1)\n",
    "    mesh_mesh_bond_embedding = model.mesh_mesh_bond_embedding.repeat(B,1,1)\n",
    "#     grid_mesh_bond_embedding,grid_rect_embedding,mesh_node_embedding = model.layer_grid2mesh(\n",
    "#                                     grid_mesh_bond_embedding,grid_rect_embedding,mesh_node_embedding)\n",
    "    mesh_mesh_bond_embedding, mesh_node_embedding  = model.layer_mesh2mesh[0](mesh_mesh_bond_embedding, mesh_node_embedding)"
   ]
  },
  {
   "cell_type": "code",
   "execution_count": 6,
   "id": "2d37873b",
   "metadata": {
    "code_folding": []
   },
   "outputs": [
    {
     "name": "stdout",
     "output_type": "stream",
     "text": [
      "3.54 ms ± 3.72 µs per loop (mean ± std. dev. of 7 runs, 100 loops each)\n"
     ]
    }
   ],
   "source": [
    "%%timeit\n",
    "with torch.no_grad():\n",
    "    feature_along_latlot     = model.grid_rect_embedding_layer(_input.permute(0,2,3,1).flatten(1,2))\n",
    "    grid_rect_embedding      = feature_along_latlot[:,model.G2M_grid2LaLotudePos]\n",
    "    grid_rect_embedding      = torch.cat([model.northsouthembbed.repeat(B,1,1),grid_rect_embedding],1)\n",
    "    grid_mesh_bond_embedding = model.grid_mesh_bond_embedding.repeat(B,1,1)\n",
    "    mesh_node_embedding      = model.mesh_node_embedding.repeat(B,1,1)\n",
    "    mesh_mesh_bond_embedding = model.mesh_mesh_bond_embedding.repeat(B,1,1)\n",
    "    grid_mesh_bond_embedding,grid_rect_embedding,mesh_node_embedding = model.layer_grid2mesh(\n",
    "                                    grid_mesh_bond_embedding,grid_rect_embedding,mesh_node_embedding)\n",
    "    #mesh_mesh_bond_embedding, mesh_node_embedding  = model.layer_mesh2mesh[0](mesh_mesh_bond_embedding, mesh_node_embedding)"
   ]
  },
  {
   "cell_type": "code",
   "execution_count": 7,
   "id": "c3abfa5e",
   "metadata": {},
   "outputs": [],
   "source": [
    "for mesh2mesh in model.layer_mesh2mesh:\n",
    "    mesh_mesh_bond_embedding, mesh_node_embedding  = mesh2mesh(mesh_mesh_bond_embedding, mesh_node_embedding)"
   ]
  },
  {
   "cell_type": "code",
   "execution_count": 8,
   "id": "7695b230",
   "metadata": {},
   "outputs": [
    {
     "name": "stdout",
     "output_type": "stream",
     "text": [
      "3.71 ms ± 1.69 µs per loop (mean ± std. dev. of 7 runs, 100 loops each)\n"
     ]
    }
   ],
   "source": [
    "%%timeit\n",
    "with torch.no_grad():\n",
    "    feature_along_latlot     = model.grid_rect_embedding_layer(_input.permute(0,2,3,1).flatten(1,2))\n",
    "    grid_rect_embedding      = feature_along_latlot[:,model.G2M_grid2LaLotudePos]\n",
    "    grid_rect_embedding      = torch.cat([model.northsouthembbed.repeat(B,1,1),grid_rect_embedding],1)\n",
    "    grid_mesh_bond_embedding = model.grid_mesh_bond_embedding.repeat(B,1,1)\n",
    "    mesh_node_embedding      = model.mesh_node_embedding.repeat(B,1,1)\n",
    "    mesh_mesh_bond_embedding = model.mesh_mesh_bond_embedding.repeat(B,1,1)\n",
    "    grid_mesh_bond_embedding = torch.nn.functional.pad(grid_mesh_bond_embedding,(0,0,0,model.num_unactivated_edge))\n",
    "    grid_rect_embedding      = torch.nn.functional.pad(grid_rect_embedding,(0,0,0,model.num_unactivated_grid ))\n",
    "    grid_rect_embedding      = model.layer_mesh2grid(grid_mesh_bond_embedding,grid_rect_embedding,mesh_node_embedding)\n",
    "    grid_rect_embedding      = grid_rect_embedding[:,model.M2G_LaLotudePos2grid] #(B,64,128,embed_dim)"
   ]
  },
  {
   "cell_type": "code",
   "execution_count": null,
   "id": "806c41dc",
   "metadata": {},
   "outputs": [],
   "source": []
  },
  {
   "cell_type": "markdown",
   "id": "ce2182e6",
   "metadata": {
    "heading_collapsed": true
   },
   "source": [
    "# Deploy 2"
   ]
  },
  {
   "cell_type": "code",
   "execution_count": 32,
   "id": "fe38ae84",
   "metadata": {
    "hidden": true
   },
   "outputs": [],
   "source": [
    "import functorch"
   ]
  },
  {
   "cell_type": "code",
   "execution_count": 40,
   "id": "f69b44f9",
   "metadata": {
    "hidden": true
   },
   "outputs": [
    {
     "ename": "RuntimeError",
     "evalue": "mat1 and mat2 shapes cannot be multiplied (21x5 and 3x5)",
     "output_type": "error",
     "traceback": [
      "\u001b[0;31m---------------------------------------------------------------------------\u001b[0m",
      "\u001b[0;31mRuntimeError\u001b[0m                              Traceback (most recent call last)",
      "Cell \u001b[0;32mIn[40], line 1\u001b[0m\n\u001b[0;32m----> 1\u001b[0m \u001b[43mtorch\u001b[49m\u001b[38;5;241;43m.\u001b[39;49m\u001b[43mmatmul\u001b[49m\u001b[43m(\u001b[49m\u001b[43mtorch\u001b[49m\u001b[38;5;241;43m.\u001b[39;49m\u001b[43mrandn\u001b[49m\u001b[43m(\u001b[49m\u001b[38;5;241;43m3\u001b[39;49m\u001b[43m,\u001b[49m\u001b[38;5;241;43m7\u001b[39;49m\u001b[43m,\u001b[49m\u001b[38;5;241;43m5\u001b[39;49m\u001b[43m)\u001b[49m\u001b[43m,\u001b[49m\u001b[43mtorch\u001b[49m\u001b[38;5;241;43m.\u001b[39;49m\u001b[43mrandn\u001b[49m\u001b[43m(\u001b[49m\u001b[38;5;241;43m3\u001b[39;49m\u001b[43m,\u001b[49m\u001b[38;5;241;43m5\u001b[39;49m\u001b[43m)\u001b[49m\u001b[43m)\u001b[49m\u001b[38;5;241m.\u001b[39mshape\n",
      "\u001b[0;31mRuntimeError\u001b[0m: mat1 and mat2 shapes cannot be multiplied (21x5 and 3x5)"
     ]
    }
   ],
   "source": [
    "torch.matmul(torch.randn(3,7,5),torch.randn(5,3)).shape"
   ]
  },
  {
   "cell_type": "code",
   "execution_count": 26,
   "id": "07843843",
   "metadata": {
    "code_folding": [
     7,
     33,
     65,
     88,
     137,
     142
    ],
    "hidden": true
   },
   "outputs": [],
   "source": [
    "import torch.nn as nn\n",
    "import numpy as np\n",
    "import torch\n",
    "import os\n",
    "import csv\n",
    "import copy\n",
    "\n",
    "class Node2Edge2NodeBlockSingleLevel(nn.Module):\n",
    "    def __init__(self, src_tgt_order, edge_order, bond_coef, \n",
    "                 embed_dim=128,do_source_update = False,\n",
    "                 **kargs):\n",
    "        super().__init__()\n",
    "        self.src_order = src_tgt_order[:,0]\n",
    "        self.tgt_order = src_tgt_order[:,1]\n",
    "        self.edge_order= edge_order\n",
    "        #self.bond_coef = bond_coef\n",
    "        #self.register_buffer('G2M_edge_coef_node_tensor', G2M_edge_coef_node_tensor)\n",
    "\n",
    "        self.activator = nn.Sequential(torch.nn.SiLU(),torch.nn.LayerNorm(embed_dim))\n",
    "        self.STE2E_S2E = nn.Parameter(torch.randn(embed_dim, embed_dim),requires_grad=True)\n",
    "        self.STE2E_T2E = nn.Parameter(torch.randn(embed_dim, embed_dim),requires_grad=True)\n",
    "        self.STE2E_E2E = nn.Parameter(torch.randn(embed_dim, embed_dim),requires_grad=True)\n",
    "        self.ET2T_E2T  = nn.Parameter(torch.randn(embed_dim, embed_dim),requires_grad=True)\n",
    "        self.ET2T_T2T  = nn.Parameter(torch.randn(embed_dim, embed_dim),requires_grad=True)\n",
    "        self.bond_coef  = nn.Parameter(bond_coef,requires_grad=False)\n",
    "        self.S2S = None\n",
    "        if do_source_update:\n",
    "            self.S2S   = nn.Parameter(torch.FloatTensor(size=(embed_dim, embed_dim)))\n",
    "            \n",
    "        self.src_index_limit  = self.src_order.max() + 1\n",
    "        self.tgt_index_limit  = self.tgt_order.max() + 1\n",
    "        self.edge_index_limit = len(self.src_order)\n",
    "    \n",
    "    def forward(self, bond_embedding, src_embedding, tgt_embedding):\n",
    "        ### shape checking\n",
    "        ### all the necessary rect of grid is recorded in G2M_grid2LaLotudePos\n",
    "        #### we will plus north south point at the begining torch.cat([north_south_embedding,grid_rect_embedding],1)\n",
    "        assert len(bond_embedding.shape) == len(src_embedding.shape) == len(tgt_embedding.shape) == 3\n",
    "        assert self.src_index_limit  ==  src_embedding.shape[1]\n",
    "        assert self.tgt_index_limit  ==  tgt_embedding.shape[1]\n",
    "        assert self.edge_index_limit == bond_embedding.shape[1] \n",
    "        device = self.STE2E_S2E.device\n",
    "        \n",
    "        ## compute delta bond embedding\n",
    "        delta_bond_embedding = src_embedding[:,self.src_order] @ self.STE2E_S2E #(B,L,D)\n",
    "        delta_bond_embedding = delta_bond_embedding + tgt_embedding[:,self.tgt_order] @ self.STE2E_T2E #(B,L,D)\n",
    "        delta_bond_embedding = delta_bond_embedding + bond_embedding @ self.STE2E_E2E  #(B,1,D)\n",
    "        delta_bond_embedding = self.activator(delta_bond_embedding) #(B,L,D)\n",
    "\n",
    "        ## compute delta tgt embedding\n",
    "        bond_reduce = (delta_bond_embedding[:,self.edge_order]*self.bond_coef.unsqueeze(-1)).sum(-2)\n",
    "        #bond_reduce = torch.einsum('blnd,ln->bld',\n",
    "        #                           delta_bond_embedding[:,self.edge_order],\n",
    "        #                           self.bond_coef) ### 2.6 ms vs 2.2 ms\n",
    "        delta_tgt_embedding = bond_reduce@self.ET2T_E2T\n",
    "        delta_tgt_embedding = delta_tgt_embedding + tgt_embedding@self.ET2T_T2T\n",
    "        delta_tgt_embedding = self.activator(delta_tgt_embedding)\n",
    "        \n",
    "        delta_src_embedding = self.activator(src_embedding@self.S2S) if self.S2S is not None else 0\n",
    "        \n",
    "        bond_embedding= bond_embedding + delta_bond_embedding\n",
    "        src_embedding = src_embedding  + delta_src_embedding\n",
    "        tgt_embedding = tgt_embedding  + delta_tgt_embedding\n",
    "        \n",
    "        return bond_embedding,src_embedding,tgt_embedding\n",
    "\n",
    "class Node2Edge2NodeBlockMultiLevel(nn.Module):\n",
    "    def __init__(self, src_tgt_order, edge_order, num_of_linked_nodes, \n",
    "                 embed_dim=128,do_source_update = False,\n",
    "                 **kargs):\n",
    "        super().__init__()\n",
    "        self.src_order            = src_tgt_order[:,0]\n",
    "        self.tgt_order            = src_tgt_order[:,1]\n",
    "        self.edge_order           = edge_order\n",
    "        \n",
    "        \n",
    "        self.activator = nn.Sequential(torch.nn.SiLU(),torch.nn.LayerNorm(embed_dim))\n",
    "        self.STE2E_S2E = nn.Parameter(torch.randn(embed_dim, embed_dim),requires_grad=True)\n",
    "        self.STE2E_T2E = nn.Parameter(torch.randn(embed_dim, embed_dim),requires_grad=True)\n",
    "        self.STE2E_E2E = nn.Parameter(torch.randn(embed_dim, embed_dim),requires_grad=True)\n",
    "        self.ET2T_E2T  = nn.Parameter(torch.randn(embed_dim, embed_dim),requires_grad=True)\n",
    "        self.ET2T_T2T  = nn.Parameter(torch.randn(embed_dim, embed_dim),requires_grad=True)\n",
    "        self.num_of_linked_nodes  = nn.Parameter(num_of_linked_nodes,requires_grad=False)\n",
    "        \n",
    "        self.S2S = None\n",
    "        if do_source_update:\n",
    "            self.S2S   = nn.Parameter(torch.FloatTensor(size=(embed_dim, embed_dim)))\n",
    "        \n",
    "\n",
    "    def forward(self, bond_embedding, src_embedding, tgt_embedding):\n",
    "        ### shape checking\n",
    "        ### all the necessary rect of grid is recorded in G2M_grid2LaLotudePos\n",
    "        #### we will plus north south point at the begining torch.cat([north_south_embedding,grid_rect_embedding],1)\n",
    "        assert len(bond_embedding.shape) == len(src_embedding.shape) == len(tgt_embedding.shape) == 3\n",
    "        device = self.STE2E_S2E.device\n",
    "        \n",
    "        \n",
    "        ## compute delta bond embedding\n",
    "        \n",
    "        delta_bond_embedding = src_embedding[:,self.src_order] @ self.STE2E_S2E #(B,L,D)\n",
    "        delta_bond_embedding = delta_bond_embedding + tgt_embedding[:,self.tgt_order] @ self.STE2E_T2E #(B,L,D)\n",
    "        delta_bond_embedding = delta_bond_embedding + bond_embedding @ self.STE2E_E2E  #(B,1,D)\n",
    "        delta_bond_embedding = self.activator(delta_bond_embedding) #(B,L,D)\n",
    "\n",
    "        \n",
    "        ## compute delta tgt embedding\n",
    "        delta_bond_embedding= torch.nn.functional.pad(delta_bond_embedding,(0,0,0,1))\n",
    "        # notice the nearby node of each level either 5 or 6, then we use -1 as the padding number.\n",
    "        # notice some node has multi-level nearby,\n",
    "        bond_reduce = torch.zeros_like(tgt_embedding)\n",
    "        for start_node, end_node_list in self.edge_order:\n",
    "            bond_reduce[:,start_node] += delta_bond_embedding[:,end_node_list].sum(-2)\n",
    "        bond_reduce = bond_reduce/self.num_of_linked_nodes\n",
    "\n",
    "        delta_tgt_embedding = bond_reduce@self.ET2T_E2T\n",
    "        delta_tgt_embedding = delta_tgt_embedding + tgt_embedding@self.ET2T_T2T\n",
    "        delta_tgt_embedding = self.activator(delta_tgt_embedding)\n",
    "        \n",
    "        ## compute delta src embedding\n",
    "        delta_src_embedding   = self.activator(src_embedding@self.S2S) if self.S2S is not None else 0\n",
    "        \n",
    "        bond_embedding = bond_embedding + delta_bond_embedding[:,:-1]\n",
    "        src_embedding  = src_embedding  + delta_src_embedding\n",
    "        tgt_embedding  = tgt_embedding  + delta_tgt_embedding\n",
    "        \n",
    "        return bond_embedding,src_embedding,tgt_embedding\n",
    "    \n",
    "class GraphCast(nn.Module):\n",
    "    '''\n",
    "    Repreduce of GraphCast in Pytorch.\n",
    "    GraphCast has three part:\n",
    "    - Grid to Mesh\n",
    "    - Mesh to Mesh\n",
    "    - Mesh to Grid\n",
    "    -------------------------------------\n",
    "    the input is a tensor (B, P, W, H), but the internal tensor all with shape (B, L ,P)\n",
    "    where the L equal the node number or edge number.\n",
    "    '''\n",
    "    def __init__(self, img_size=(64,128),  in_chans=70, out_chans=70, depth=6, embed_dim=128, graphflag='mesh5', nonlinear='swish', **kargs):\n",
    "        super().__init__()\n",
    "        flag = graphflag\n",
    "        resolution_flag=f'{img_size[0]}x{img_size[1]}'\n",
    "        ROOTPATH=f\"GraphCastStructure/{flag}\"\n",
    "        if not os.path.exists(ROOTPATH):\n",
    "            self.generate_mesh2mesh_graph_static_file(flag)\n",
    "        M2M_node2position                 = np.load(os.path.join(ROOTPATH   ,f\"M2M_node2position.npy\"   ))\n",
    "        M2M_position2node                 = torch.load(os.path.join(ROOTPATH,f\"M2M_position2node.pt\"   )                 )\n",
    "        M2M_node2lined_node               = torch.load(os.path.join(ROOTPATH,f\"M2M_node2lined_node.pt\"   )               )\n",
    "        # M2M_edge2id                       = torch.load(os.path.join(ROOTPATH,f\"M2M_edge2id.pt\"   )                       )\n",
    "\n",
    "        M2M_edgeid2pair                   = np.load(os.path.join(ROOTPATH   ,f\"M2M_edgeid2pair.npy\"   ))\n",
    "        M2M_nearby_edge_per_node_per_level= torch.load(os.path.join(ROOTPATH,f\"M2M_nearby_edge_per_node_per_level.pt\"   ))\n",
    "        #M2M_nearby_node_per_node_per_level= torch.load(os.path.join(ROOTPATH,f\"M2M_nearby_node_per_node_per_level.pt\"   ))\n",
    "\n",
    "        ROOTPATH=f\"GraphCastStructure/{flag}/{resolution_flag}\"\n",
    "        if not os.path.exists(ROOTPATH):self.generate_grid2mesh_graph_static_file(flag,img_size[0])\n",
    "        G2M_grid2LaLotudePos = np.load(os.path.join(ROOTPATH,f\"G2M_grid2LaLotudePos.npy\"   )     )\n",
    "        M2G_LaLotudePos2grid = np.load(os.path.join(ROOTPATH,f\"M2G_LaLotudeGrid2rect_tensor.npy\"))\n",
    "\n",
    "        # G2M_rect_of_node_tensor    = np.load(os.path.join(ROOTPATH,f\"G2M_rect_of_node_tensor.npy\"   ) )\n",
    "        # G2M_rect_distant_tensor    = np.load(os.path.join(ROOTPATH,f\"G2M_rect_distant_tensor.npy\"   ) )\n",
    "        G2M_edge_id_of_node_tensor = np.load(os.path.join(ROOTPATH,f\"G2M_edge_id_of_node_tensor.npy\") )\n",
    "        G2M_edge_coef_node_tensor  = np.load(os.path.join(ROOTPATH,f\"G2M_edge_coef_node_tensor.npy\" ) )\n",
    "        G2M_edge_id2pair_tensor    = np.load(os.path.join(ROOTPATH,f\"G2M_edge_id2pair_tensor.npy\"   ) )\n",
    "        # G2M_edge_pos2_id           = torch.load(os.path.join(ROOTPATH,f\"G2M_edge_pos2_id.pt\"   ))\n",
    "        # M2G_node_of_rect_tensor    = np.load(os.path.join(ROOTPATH,f\"M2G_node_of_rect_tensor.npy\"   ))    \n",
    "        # M2G_node_distant_tensor    = np.load(os.path.join(ROOTPATH,f\"M2G_node_of_rect_tensor.npy\"   ))    \n",
    "        M2G_edge_id_of_grid_tensor= np.load(os.path.join(ROOTPATH,f\"M2G_edge_id_of_grid_tensor.npy\"   ))  \n",
    "        M2G_edge_coef_grid_tensor = np.load(os.path.join(ROOTPATH,f\"M2G_edge_coef_grid_tensor.npy\"   ) )  \n",
    "        M2G_edge_id2pair_tensor   = np.load(os.path.join(ROOTPATH,f\"M2G_edge_id2pair_tensor.npy\")      )  \n",
    "        \n",
    "        embedding_dim = embed_dim\n",
    "        self.num_unactivated_grid = num_unactivated_grid = len(M2G_edge_id_of_grid_tensor) - len(G2M_grid2LaLotudePos) - 2\n",
    "        self.num_unactivated_edge = num_unactivated_edge = len(M2G_edge_id2pair_tensor) - len(G2M_edge_id2pair_tensor)\n",
    "        print(f'''\n",
    "        This is ===> GraphCast Model <===\n",
    "        Information: \n",
    "            total mesh node:{len(M2M_node2position):5d} total unique mesh edge:{len(M2M_edgeid2pair):5d} \n",
    "            total grid node {np.prod(img_size)}+2 = {(len(M2G_edge_id_of_grid_tensor))} but activated grid {len(G2M_grid2LaLotudePos):5d} +  2\n",
    "            from activated grid to mesh, create 4*{len(M2M_node2position)} = {len(G2M_edge_id2pair_tensor)} edge\n",
    "            there are {num_unactivated_grid} unactivated grid node\n",
    "            when mapping node to grid, \n",
    "            from node to activated grid, there are {len(G2M_edge_id2pair_tensor)} \n",
    "            from node to unactivated grid, there are {num_unactivated_edge} edge\n",
    "            thus, totally have {len(M2G_edge_id2pair_tensor)} edge. \n",
    "            #notice some grid only have 1-2 linked node but some grid may have 30 lined node\n",
    "        ''')\n",
    "        G2M_edge_id2pair_tensor   = torch.LongTensor(G2M_edge_id2pair_tensor)\n",
    "        G2M_edge_coef_node_tensor = torch.Tensor(G2M_edge_coef_node_tensor).softmax(-1)\n",
    "        \n",
    "\n",
    "        M2M_edgeid2pair                    = torch.LongTensor(M2M_edgeid2pair)\n",
    "        M2M_nearby_edge_per_node_per_level = [[torch.LongTensor(start_node),torch.LongTensor(linked_edge_list)] for start_node,linked_edge_list in M2M_nearby_edge_per_node_per_level]\n",
    "        M2M_num_of_linked_nodes            = torch.FloatTensor([len(M2M_node2lined_node[t]) for t in range(len(M2M_node2lined_node))]).unsqueeze(-1)\n",
    "        \n",
    "        M2G_edge_id2pair_tensor  = torch.LongTensor(M2G_edge_id2pair_tensor) # (L,2)\n",
    "        #notice the M2G_edge_id2pair_tensor record (rect_id , node_id) but in this implement\n",
    "        # the order should be (src,tgt) which is node_id,rect_id\n",
    "        # lets convert it .\n",
    "        M2G_edge_id2pair_tensor  = torch.stack([M2G_edge_id2pair_tensor[:,1],M2G_edge_id2pair_tensor[:,0]],-1)\n",
    "        M2G_edge_of_rect_tensor  = torch.LongTensor(M2G_edge_id_of_grid_tensor)\n",
    "        M2G_edge_coef_grid_tensor= torch.Tensor(M2G_edge_coef_grid_tensor).softmax(-1)\n",
    "\n",
    "\n",
    "        M2G_LaLotudePos2grid = torch.LongTensor(M2G_LaLotudePos2grid)\n",
    "        G2M_grid2LaLotudePos = torch.LongTensor(G2M_grid2LaLotudePos)\n",
    "        \n",
    "\n",
    "        \n",
    "\n",
    "        self.M2G_LaLotudePos2grid = M2G_LaLotudePos2grid\n",
    "        self.G2M_grid2LaLotudePos = G2M_grid2LaLotudePos\n",
    "        \n",
    "        self.layer_grid2mesh = Node2Edge2NodeBlockSingleLevel(G2M_edge_id2pair_tensor,G2M_edge_id_of_node_tensor,G2M_edge_coef_node_tensor, \n",
    "                                         embed_dim=embedding_dim,do_source_update=True)\n",
    "        \n",
    "        self.layer_mesh2mesh = nn.ModuleList()\n",
    "        for i in range(depth):\n",
    "            self.layer_mesh2mesh.append(Node2Edge2NodeBlockMultiLevel(M2M_edgeid2pair, M2M_nearby_edge_per_node_per_level, M2M_num_of_linked_nodes, \n",
    "                                                  embed_dim=embedding_dim))\n",
    "        \n",
    "        self.layer_mesh2grid = Node2Edge2NodeBlockSingleLevel(M2G_edge_id2pair_tensor,M2G_edge_of_rect_tensor,M2G_edge_coef_grid_tensor, \n",
    "                                         embed_dim=embedding_dim)\n",
    "        \n",
    "        self.grid_rect_embedding_layer = nn.Linear(in_chans,embedding_dim)\n",
    "        self.northsouthembbed = nn.Parameter(torch.randn(2,embedding_dim))\n",
    "        \n",
    "        self.mesh_node_embedding       = nn.Parameter(torch.randn(1,len(M2M_node2position)      ,embedding_dim))\n",
    "        self.mesh_mesh_bond_embedding  = nn.Parameter(torch.randn(1,len(M2M_edgeid2pair)        ,embedding_dim))\n",
    "        self.grid_mesh_bond_embedding  = nn.Parameter(torch.randn(1,len(G2M_edge_id2pair_tensor),embedding_dim))\n",
    "\n",
    "        self.projection      = nn.Linear(embedding_dim,out_chans)\n",
    "\n",
    "    def forward(self, _input):\n",
    "        B, P , W, H =_input.shape\n",
    "        feature_along_latlot     = self.grid_rect_embedding_layer(_input.permute(0,2,3,1).flatten(1,2))\n",
    "        grid_rect_embedding      = feature_along_latlot[:,self.G2M_grid2LaLotudePos]\n",
    "        grid_rect_embedding      = torch.cat([self.northsouthembbed.repeat(B,1,1),grid_rect_embedding],1)\n",
    "        grid_mesh_bond_embedding = self.grid_mesh_bond_embedding\n",
    "        mesh_node_embedding      = self.mesh_node_embedding\n",
    "        mesh_mesh_bond_embedding = self.mesh_mesh_bond_embedding\n",
    "        \n",
    "        grid_mesh_bond_embedding,grid_rect_embedding,mesh_node_embedding = self.layer_grid2mesh(\n",
    "                                        grid_mesh_bond_embedding,grid_rect_embedding,mesh_node_embedding)\n",
    "        for mesh2mesh in self.layer_mesh2mesh:\n",
    "            mesh_mesh_bond_embedding, mesh_node_embedding,_  = mesh2mesh(mesh_mesh_bond_embedding, mesh_node_embedding, mesh_node_embedding)\n",
    "        grid_mesh_bond_embedding = torch.nn.functional.pad(grid_mesh_bond_embedding,(0,0,0,self.num_unactivated_edge))\n",
    "        grid_rect_embedding      = torch.nn.functional.pad(grid_rect_embedding,(0,0,0,self.num_unactivated_grid ))\n",
    "        grid_mesh_bond_embedding,mesh_node_embedding,grid_rect_embedding      = self.layer_mesh2grid(grid_mesh_bond_embedding,mesh_node_embedding,grid_rect_embedding)\n",
    "        grid_rect_embedding      = grid_rect_embedding[:,self.M2G_LaLotudePos2grid] #(B,64,128,embed_dim)\n",
    "        return self.projection(grid_rect_embedding).permute(0,3,1,2)\n"
   ]
  },
  {
   "cell_type": "code",
   "execution_count": 5,
   "id": "f4d46164",
   "metadata": {
    "hidden": true
   },
   "outputs": [],
   "source": [
    "flag = 'mesh5'\n",
    "resolution_flag= '32x64'\n",
    "ROOTPATH=f\"GraphCastStructure/{flag}/{resolution_flag}\""
   ]
  },
  {
   "cell_type": "code",
   "execution_count": 27,
   "id": "4b38a9ff",
   "metadata": {
    "hidden": true,
    "scrolled": true
   },
   "outputs": [
    {
     "name": "stdout",
     "output_type": "stream",
     "text": [
      "\n",
      "        This is ===> GraphCast Model <===\n",
      "        Information: \n",
      "            total mesh node: 2562 total unique mesh edge:10230 \n",
      "            total grid node 2048+2 = 2050 but activated grid  1926 +  2\n",
      "            from activated grid to mesh, create 4*2562 = 10242 edge\n",
      "            there are 122 unactivated grid node\n",
      "            when mapping node to grid, \n",
      "            from node to activated grid, there are 10242 \n",
      "            from node to unactivated grid, there are 976 edge\n",
      "            thus, totally have 11218 edge. \n",
      "            #notice some grid only have 1-2 linked node but some grid may have 30 lined node\n",
      "        \n"
     ]
    },
    {
     "data": {
      "text/plain": [
       "torch.Size([2, 70, 32, 64])"
      ]
     },
     "execution_count": 27,
     "metadata": {},
     "output_type": "execute_result"
    }
   ],
   "source": [
    "model = GraphCast((32,64))\n",
    "a = torch.randn(2,70,32,64)\n",
    "model(a).shape"
   ]
  },
  {
   "cell_type": "code",
   "execution_count": 28,
   "id": "ab50351d",
   "metadata": {
    "hidden": true
   },
   "outputs": [],
   "source": [
    "model = model.cuda()\n",
    "_input = torch.randn(16,70,32,64).cuda()"
   ]
  },
  {
   "cell_type": "code",
   "execution_count": 30,
   "id": "052e13a0",
   "metadata": {
    "hidden": true
   },
   "outputs": [
    {
     "name": "stdout",
     "output_type": "stream",
     "text": [
      "2.48 ms ± 12.1 µs per loop (mean ± std. dev. of 7 runs, 100 loops each)\n"
     ]
    }
   ],
   "source": [
    "%%timeit\n",
    "with torch.no_grad():\n",
    "    B, P , W, H =_input.shape\n",
    "    feature_along_latlot     = model.grid_rect_embedding_layer(_input.permute(0,2,3,1).flatten(1,2))\n",
    "    grid_rect_embedding      = feature_along_latlot[:,model.G2M_grid2LaLotudePos]\n",
    "    grid_rect_embedding      = torch.cat([model.northsouthembbed.repeat(B,1,1),grid_rect_embedding],1)\n",
    "    grid_mesh_bond_embedding = model.grid_mesh_bond_embedding\n",
    "    mesh_node_embedding      = model.mesh_node_embedding\n",
    "    mesh_mesh_bond_embedding = model.mesh_mesh_bond_embedding\n",
    "\n",
    "    grid_mesh_bond_embedding,grid_rect_embedding,mesh_node_embedding = model.layer_grid2mesh(\n",
    "                                    grid_mesh_bond_embedding,grid_rect_embedding,mesh_node_embedding)"
   ]
  },
  {
   "cell_type": "code",
   "execution_count": 9,
   "id": "de1139d0",
   "metadata": {
    "hidden": true
   },
   "outputs": [
    {
     "name": "stdout",
     "output_type": "stream",
     "text": [
      "1.23 ms ± 4.32 µs per loop (mean ± std. dev. of 7 runs, 1,000 loops each)\n"
     ]
    }
   ],
   "source": [
    "%%timeit\n",
    "with torch.no_grad():\n",
    "    B, P , W, H =_input.shape\n",
    "    feature_along_latlot     = model.grid_rect_embedding_layer(_input.permute(0,2,3,1).flatten(1,2))\n",
    "    grid_rect_embedding      = feature_along_latlot[:,model.G2M_grid2LaLotudePos]\n",
    "    grid_rect_embedding      = torch.cat([model.northsouthembbed.repeat(B,1,1),grid_rect_embedding],1)\n",
    "    grid_mesh_bond_embedding = model.grid_mesh_bond_embedding\n",
    "    mesh_node_embedding      = model.mesh_node_embedding\n",
    "    mesh_mesh_bond_embedding = model.mesh_mesh_bond_embedding\n",
    "    mesh_mesh_bond_embedding, mesh_node_embedding,_  = model.layer_mesh2mesh[0](mesh_mesh_bond_embedding, mesh_node_embedding, mesh_node_embedding)"
   ]
  },
  {
   "cell_type": "code",
   "execution_count": 12,
   "id": "f49aec12",
   "metadata": {
    "hidden": true
   },
   "outputs": [
    {
     "name": "stdout",
     "output_type": "stream",
     "text": [
      "2.82 ms ± 7.05 µs per loop (mean ± std. dev. of 7 runs, 100 loops each)\n"
     ]
    }
   ],
   "source": [
    "%%timeit\n",
    "with torch.no_grad():\n",
    "    B, P , W, H =_input.shape\n",
    "    feature_along_latlot     = model.grid_rect_embedding_layer(_input.permute(0,2,3,1).flatten(1,2))\n",
    "    grid_rect_embedding      = feature_along_latlot[:,model.G2M_grid2LaLotudePos]\n",
    "    grid_rect_embedding      = torch.cat([model.northsouthembbed.repeat(B,1,1),grid_rect_embedding],1)\n",
    "    grid_mesh_bond_embedding = model.grid_mesh_bond_embedding\n",
    "    mesh_node_embedding      = model.mesh_node_embedding\n",
    "    mesh_mesh_bond_embedding = model.mesh_mesh_bond_embedding\n",
    "    grid_mesh_bond_embedding = torch.nn.functional.pad(grid_mesh_bond_embedding,(0,0,0,model.num_unactivated_edge))\n",
    "    grid_rect_embedding      = torch.nn.functional.pad(grid_rect_embedding,(0,0,0,model.num_unactivated_grid ))\n",
    "    grid_mesh_bond_embedding,mesh_node_embedding,grid_rect_embedding      = model.layer_mesh2grid(grid_mesh_bond_embedding,mesh_node_embedding,grid_rect_embedding)\n",
    "    "
   ]
  }
 ],
 "metadata": {
  "kernelspec": {
   "display_name": "Python 3 (ipykernel)",
   "language": "python",
   "name": "python3"
  },
  "language_info": {
   "codemirror_mode": {
    "name": "ipython",
    "version": 3
   },
   "file_extension": ".py",
   "mimetype": "text/x-python",
   "name": "python",
   "nbconvert_exporter": "python",
   "pygments_lexer": "ipython3",
   "version": "3.9.13"
  }
 },
 "nbformat": 4,
 "nbformat_minor": 5
}
