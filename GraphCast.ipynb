{
 "cells": [
  {
   "cell_type": "code",
   "execution_count": 2,
   "id": "88765277",
   "metadata": {},
   "outputs": [],
   "source": [
    "import torch"
   ]
  },
  {
   "cell_type": "code",
   "execution_count": 6,
   "id": "f0464c98",
   "metadata": {},
   "outputs": [],
   "source": [
    "a = torch.Tensor([1e-7])"
   ]
  },
  {
   "cell_type": "code",
   "execution_count": 10,
   "id": "b098df98",
   "metadata": {},
   "outputs": [
    {
     "data": {
      "text/plain": [
       "tensor([1.1921e-07], dtype=torch.float16)"
      ]
     },
     "execution_count": 10,
     "metadata": {},
     "output_type": "execute_result"
    }
   ],
   "source": [
    "a.half()"
   ]
  },
  {
   "cell_type": "code",
   "execution_count": 5,
   "id": "debba109",
   "metadata": {},
   "outputs": [
    {
     "data": {
      "text/plain": [
       "1.1920928955078125e-07"
      ]
     },
     "execution_count": 5,
     "metadata": {},
     "output_type": "execute_result"
    }
   ],
   "source": [
    "torch.finfo(torch.float32).eps"
   ]
  },
  {
   "cell_type": "markdown",
   "id": "2e7e53ed",
   "metadata": {},
   "source": [
    "# Introduction"
   ]
  },
  {
   "cell_type": "markdown",
   "id": "307cf5c9",
   "metadata": {},
   "source": [
    "GraphCast 最大的数据结构是构建了一个「均匀」的三角形mesh网络, 网络的每个node都可以对应到球面的一个点, 所以可以用$(\\theta,\\phi)$来简单的表示每个node。\n",
    "当然在数据结构中，我们直接用 $node_0,node_1,\\dots,node_N$ 来顺序存储所有 node\n",
    "有几个难点:\n",
    "- 我们需要记录每个 node 的近临关系，在GraphCast中定义了 $M_0,M_1,\\dots,M_6$ 七个level，且是5近临结构。所以每个level都是一个$(N,5)$的table，每个元素表示的是紧邻的点(由于我们最后是计算综合的aggregate，所以这里的顺序没有关系）\n",
    "- mesh 的方式是 icosahedral （二十面体）以及后续的三角划分，这种方法叫做 Geodesic_polyhedron [https://en.wikipedia.org/wiki/Geodesic_polyhedron]"
   ]
  },
  {
   "cell_type": "markdown",
   "id": "13c7666e",
   "metadata": {},
   "source": [
    "所以第一步就是建立球面上的 二十面体 $M_0$ 以及接下来所有 $M_i$ 的 node， 用$(\\theta,\\phi)$来标记。\n",
    "\n",
    "- 我们可以用 `anti_lib_progs` 这个包来生成坐标，但是没有临近关系。\n",
    "- 我们也可以用 Mathematica 13.0 来做\n",
    "```\n",
    "GetNearByPoint[polygons_] := Module[{pool = Association[]},\n",
    "  For[i = 1, i <= Length[polygons], i++,\n",
    "   polygon = polygons[[i]];\n",
    "   For[j = 1, j <= 3, j++,\n",
    "    keyvalue = TakeDrop[polygon, {j}];\n",
    "    key = keyvalue[[1]][[1]];\n",
    "    val = keyvalue[[2]];\n",
    "    If[KeyExistsQ[pool, key], , pool[key] = {}];\n",
    "    pool[key] = Union[Join[pool[key], val]];\n",
    "    ]\n",
    "   ];\n",
    "  pool\n",
    "  ]\n",
    "GetNearByPoint[polygons_, position_] := \n",
    " Module[{pool = Association[]},\n",
    "  For[i = 1, i <= Length[polygons], i++,\n",
    "   polygon = polygons[[i]];\n",
    "   For[j = 1, j <= 3, j++,\n",
    "    keyvalue = TakeDrop[polygon, {j}];\n",
    "    key = position[[keyvalue[[1]][[1]]]];\n",
    "    val = position[[keyvalue[[2]]]];\n",
    "    If[KeyExistsQ[pool, key], , pool[key] = {}];\n",
    "    pool[key] = Union[Join[pool[key], val]];\n",
    "    ]\n",
    "   ];\n",
    "  pool\n",
    "  ]\n",
    "polygons = GeodesicPolyhedron[\"Icosahedron\", 1];\n",
    "GetNearByPoint[polygons[[2]], Round[polygons[[1]], 0.0001]]\n",
    "Graphics3D[polygons]\n",
    "```\n",
    "这里我们可以发现， 论文中使用的setting是\n",
    "`GeodesicPolyhedron[\"Icosahedron\", n];` $n\\in[1,2,4,8,16,32,64]$\n",
    "\n",
    "对应的 node数为 $[12,42,162,642,2562,10242,40962]$\n",
    "\n",
    "所以还是相当大的一个Mesh, 但他实际上还是取决于分辨率的。\n",
    "- 比如 32x64 那么对应的 node 为 2048 对于 M5\n",
    "- 比如 64x128 那么对应的 node 为 8192 对应于 M6\n",
    "- 比如 720x1440 那么对应的 node 为 1036800 这是 25 倍的 M7"
   ]
  },
  {
   "cell_type": "markdown",
   "id": "8ee1e683",
   "metadata": {},
   "source": [
    "### Create Mesh-Node"
   ]
  },
  {
   "cell_type": "markdown",
   "id": "04bb1614",
   "metadata": {},
   "source": [
    "我们这里直接用 Mathematica 中生成需要的所有 node"
   ]
  },
  {
   "cell_type": "code",
   "execution_count": 1,
   "id": "22048b56",
   "metadata": {},
   "outputs": [],
   "source": [
    "import csv"
   ]
  },
  {
   "cell_type": "code",
   "execution_count": 11,
   "id": "a46cff8b",
   "metadata": {},
   "outputs": [],
   "source": [
    "import numpy as np"
   ]
  },
  {
   "cell_type": "code",
   "execution_count": null,
   "id": "049d17b4",
   "metadata": {},
   "outputs": [],
   "source": [
    "'GraphCastStructure/M1.csv'"
   ]
  },
  {
   "cell_type": "code",
   "execution_count": 13,
   "id": "58a7b18d",
   "metadata": {},
   "outputs": [],
   "source": [
    "def readMx(path):\n",
    "    pool = {}\n",
    "    with open(path, 'r') as csvfile:\n",
    "        spamreader = csv.reader(csvfile)\n",
    "        for row in spamreader:\n",
    "            key,val = row\n",
    "            key = eval(key.replace(\"{\",\"(\").replace(\"}\",\")\"))\n",
    "            val = eval(val.replace(\"{\",\"(\").replace(\"}\",\")\"))\n",
    "            pool[key]=val\n",
    "    return pool"
   ]
  },
  {
   "cell_type": "code",
   "execution_count": 20,
   "id": "f07f44b2",
   "metadata": {},
   "outputs": [],
   "source": [
    "Mpoolist = [readMx(f'GraphCastStructure/M{i+1}.csv') for i in range(7)]"
   ]
  },
  {
   "cell_type": "code",
   "execution_count": 1,
   "id": "98c9b32a",
   "metadata": {},
   "outputs": [],
   "source": [
    "import torch"
   ]
  },
  {
   "cell_type": "code",
   "execution_count": 45,
   "id": "f6fa4c21",
   "metadata": {},
   "outputs": [
    {
     "ename": "RuntimeError",
     "evalue": "linalg.norm: If dim is specified, it must be of length 1 or 2. Got [1, 2, 3]",
     "output_type": "error",
     "traceback": [
      "\u001b[0;31m---------------------------------------------------------------------------\u001b[0m",
      "\u001b[0;31mRuntimeError\u001b[0m                              Traceback (most recent call last)",
      "Cell \u001b[0;32mIn [45], line 1\u001b[0m\n\u001b[0;32m----> 1\u001b[0m \u001b[43mtorch\u001b[49m\u001b[38;5;241;43m.\u001b[39;49m\u001b[43mlinalg\u001b[49m\u001b[38;5;241;43m.\u001b[39;49m\u001b[43mnorm\u001b[49m\u001b[43m(\u001b[49m\u001b[43ma\u001b[49m\u001b[43m,\u001b[49m\u001b[43mdim\u001b[49m\u001b[38;5;241;43m=\u001b[39;49m\u001b[43m(\u001b[49m\u001b[38;5;241;43m1\u001b[39;49m\u001b[43m,\u001b[49m\u001b[38;5;241;43m2\u001b[39;49m\u001b[43m,\u001b[49m\u001b[38;5;241;43m3\u001b[39;49m\u001b[43m)\u001b[49m\u001b[43m)\u001b[49m\n",
      "\u001b[0;31mRuntimeError\u001b[0m: linalg.norm: If dim is specified, it must be of length 1 or 2. Got [1, 2, 3]"
     ]
    }
   ],
   "source": [
    "\n",
    "torch.linalg.norm(a,dim=(1,2,3))"
   ]
  },
  {
   "cell_type": "code",
   "execution_count": 58,
   "id": "b8c037e0",
   "metadata": {},
   "outputs": [],
   "source": [
    "a = torch.randn(2,3,4,5)"
   ]
  },
  {
   "cell_type": "code",
   "execution_count": 59,
   "id": "70ac8e1e",
   "metadata": {},
   "outputs": [],
   "source": []
  },
  {
   "cell_type": "code",
   "execution_count": 60,
   "id": "1d085634",
   "metadata": {},
   "outputs": [
    {
     "data": {
      "text/plain": [
       "torch.Size([2, 3, 4, 5])"
      ]
     },
     "execution_count": 60,
     "metadata": {},
     "output_type": "execute_result"
    }
   ],
   "source": [
    "a.shape"
   ]
  },
  {
   "cell_type": "code",
   "execution_count": 61,
   "id": "7fb06525",
   "metadata": {},
   "outputs": [
    {
     "data": {
      "text/plain": [
       "tensor([1.0000, 1.0000])"
      ]
     },
     "execution_count": 61,
     "metadata": {},
     "output_type": "execute_result"
    }
   ],
   "source": [
    "torch.einsum('Bijk,Bijk->B',a,a)"
   ]
  },
  {
   "cell_type": "code",
   "execution_count": 21,
   "id": "f9860fbe",
   "metadata": {},
   "outputs": [],
   "source": [
    "position2node = {}\n",
    "for pool in Mpoolist:\n",
    "    for key in pool:\n",
    "        if key not in position2node:\n",
    "            position2node[key] = len(position2node)"
   ]
  },
  {
   "cell_type": "code",
   "execution_count": 75,
   "id": "589562fd",
   "metadata": {},
   "outputs": [],
   "source": [
    "enumerate"
   ]
  },
  {
   "cell_type": "code",
   "execution_count": 76,
   "id": "7aca001b",
   "metadata": {},
   "outputs": [],
   "source": [
    "def save_json(path,_dict):\n",
    "    with open(path,'w') as f:\n",
    "        json.dump(_dict,f)"
   ]
  },
  {
   "cell_type": "code",
   "execution_count": 78,
   "id": "d37ab84c",
   "metadata": {},
   "outputs": [],
   "source": [
    "import torch"
   ]
  },
  {
   "cell_type": "code",
   "execution_count": 79,
   "id": "a59f514f",
   "metadata": {},
   "outputs": [],
   "source": [
    "torch.save(position2node,\"GraphCastStructure/position2node.json.pt\")"
   ]
  },
  {
   "cell_type": "code",
   "execution_count": 25,
   "id": "559fe948",
   "metadata": {},
   "outputs": [],
   "source": [
    "node2position = np.zeros((40962,3))\n",
    "for key,val in position2node.items():\n",
    "    node2position[val]=np.array(key)"
   ]
  },
  {
   "cell_type": "code",
   "execution_count": 81,
   "id": "a4c4adaf",
   "metadata": {},
   "outputs": [],
   "source": [
    "np.save(\"GraphCastStructure/node2position.npy\",node2position)"
   ]
  },
  {
   "cell_type": "code",
   "execution_count": 40,
   "id": "732f09d2",
   "metadata": {},
   "outputs": [],
   "source": [
    "node2nearby_por_level = []\n",
    "for pool in Mpoolist:\n",
    "    node2nearby = {}\n",
    "    for pos, nearby in pool.items():\n",
    "        node_id = position2node[pos]\n",
    "        nearby_ids = [position2node[p] for p in nearby]\n",
    "        if node_id not in node2nearby:node2nearby[node_id]=[]\n",
    "        node2nearby[node_id]+=nearby_ids\n",
    "    node2nearby_por_level.append(node2nearby)"
   ]
  },
  {
   "cell_type": "code",
   "execution_count": 84,
   "id": "b4c3dd6b",
   "metadata": {},
   "outputs": [],
   "source": [
    "torch.save(node2nearby_por_level,\"GraphCastStructure/node2nearby_per_level.json.pt\")"
   ]
  },
  {
   "cell_type": "code",
   "execution_count": 67,
   "id": "bf06b5da",
   "metadata": {},
   "outputs": [],
   "source": [
    "key_nearby_pair_per_level = []\n",
    "for level, node2nearby in enumerate(node2nearby_por_level):\n",
    "    max_length = max([len(t) for t in node2nearby.values()])\n",
    "    key_nodes = []\n",
    "    nearby_nodes_list = []\n",
    "    for key_node,nearby_nodes in node2nearby.items():\n",
    "        key_nodes.append(key_node)\n",
    "        nearby_nodes_list.append(nearby_nodes if len(nearby_nodes)==max_length else nearby_nodes+[-1])\n",
    "    key_nodes = np.array(key_nodes)\n",
    "    nearby_nodes = np.array(nearby_nodes_list)\n",
    "    key_nearby_pair_per_level.append([key_nodes,nearby_nodes])\n",
    "    #print(f\"{level}: {min(lenth_list)} - {max(lenth_list)}\")\n",
    "    "
   ]
  },
  {
   "cell_type": "code",
   "execution_count": 85,
   "id": "55f7dcdc",
   "metadata": {},
   "outputs": [],
   "source": [
    "torch.save(key_nearby_pair_per_level,\"GraphCastStructure/keynodes2nearbynodes_pair_per_level.json.pt\")"
   ]
  },
  {
   "cell_type": "code",
   "execution_count": 64,
   "id": "7d10b77f",
   "metadata": {},
   "outputs": [],
   "source": [
    "edge2id = {}\n",
    "\n",
    "for key_nodes, node2nearby in key_nearby_pair_per_level:\n",
    "    for key_node, nearby_nodes in zip(key_nodes, node2nearby):\n",
    "        for nearby_node in nearby_nodes:\n",
    "            if key_node == -1:continue\n",
    "            if nearby_node == -1:continue\n",
    "            edge_id = [key_node,nearby_node]\n",
    "            edge_id.sort()\n",
    "            edge_id = tuple(edge_id)\n",
    "            if edge_id not in edge2id:\n",
    "                edge2id[edge_id] = len(edge2id)\n",
    "                "
   ]
  },
  {
   "cell_type": "code",
   "execution_count": 86,
   "id": "69038ff6",
   "metadata": {},
   "outputs": [],
   "source": [
    "torch.save(edge2id,\"GraphCastStructure/edge2id.json.pt\")"
   ]
  },
  {
   "cell_type": "code",
   "execution_count": 65,
   "id": "ad0ede29",
   "metadata": {},
   "outputs": [],
   "source": [
    "edgeid2pair = np.zeros((len(edge2id),2),dtype='int')\n",
    "for pair, _id in edge2id.items():\n",
    "    edgeid2pair[_id] = np.array(pair)"
   ]
  },
  {
   "cell_type": "code",
   "execution_count": 88,
   "id": "782ba23b",
   "metadata": {},
   "outputs": [],
   "source": [
    "np.save(\"GraphCastStructure/edgeid2pair.npy\",edgeid2pair)"
   ]
  },
  {
   "cell_type": "code",
   "execution_count": 71,
   "id": "14c31d07",
   "metadata": {},
   "outputs": [],
   "source": [
    "key_nearbyedge_pair_per_level = []\n",
    "for key_nodes, node2nearby in key_nearby_pair_per_level:\n",
    "    node2nearby_edge_list =[]\n",
    "    for key_node, nearby_nodes in zip(key_nodes, node2nearby):\n",
    "        nearby_edge_id = []\n",
    "        for nearby_node in nearby_nodes:\n",
    "            if key_node == -1 or nearby_node == -1:\n",
    "                edge_id = -1\n",
    "            else:\n",
    "                edge_pair = [key_node,nearby_node]\n",
    "                edge_pair.sort()\n",
    "                edge_id = tuple(edge_pair)\n",
    "                edge_id = edge2id[edge_id]\n",
    "            nearby_edge_id.append(edge_id)\n",
    "        node2nearby_edge_list.append(nearby_edge_id)\n",
    "    key_nearbyedge_pair_per_level.append([key_nodes,np.array(node2nearby_edge_list)])"
   ]
  },
  {
   "cell_type": "code",
   "execution_count": 89,
   "id": "69f8b434",
   "metadata": {},
   "outputs": [],
   "source": [
    "torch.save(key_nearbyedge_pair_per_level,\"GraphCastStructure/keynodes2nearbyedges_pair_per_level.json.pt\")"
   ]
  },
  {
   "cell_type": "markdown",
   "id": "605d747b",
   "metadata": {},
   "source": [
    "然后我们计算 grid 和 node 之间的聚合关系"
   ]
  },
  {
   "cell_type": "markdown",
   "id": "38e15e1f",
   "metadata": {},
   "source": [
    "我们用 721x1440 作为例子, 先用 (720, 1440, 3) 来表示出每个位置的 pos"
   ]
  },
  {
   "cell_type": "code",
   "execution_count": 90,
   "id": "c780a654",
   "metadata": {},
   "outputs": [],
   "source": [
    "latitude   = np.linspace(90,-90,721)\n",
    "longitude  = np.linspace(0,360,1440)"
   ]
  },
  {
   "cell_type": "code",
   "execution_count": 100,
   "id": "e875ed77",
   "metadata": {},
   "outputs": [],
   "source": [
    "x, y  = np.meshgrid(latitude, longitude)"
   ]
  },
  {
   "cell_type": "code",
   "execution_count": 131,
   "id": "09b61532",
   "metadata": {},
   "outputs": [],
   "source": [
    "LaLotude = np.stack([y,x],-1).transpose(1,0,2)/180*np.pi #(721,1440)"
   ]
  },
  {
   "cell_type": "code",
   "execution_count": 184,
   "id": "0287e37a",
   "metadata": {},
   "outputs": [],
   "source": [
    "LaLotudeVector = np.stack([np.cos(LaLotude[...,1])*np.cos(LaLotude[...,0]),\n",
    "                           np.cos(LaLotude[...,1])*np.sin(LaLotude[...,0]),\n",
    "                           np.sin(LaLotude[...,1])],2)"
   ]
  },
  {
   "cell_type": "code",
   "execution_count": 200,
   "id": "4345dfa8",
   "metadata": {},
   "outputs": [],
   "source": [
    "LaLotudeVector = LaLotudeVector[180:-180]"
   ]
  },
  {
   "cell_type": "code",
   "execution_count": 201,
   "id": "0578804a",
   "metadata": {},
   "outputs": [],
   "source": [
    "LaLotudeVector = LaLotudeVector.reshape(-1,3)"
   ]
  },
  {
   "cell_type": "code",
   "execution_count": 157,
   "id": "f673b428",
   "metadata": {
    "scrolled": true
   },
   "outputs": [],
   "source": [
    "unit = 0.014101772938180504\n",
    "radius = 0.6*unit"
   ]
  },
  {
   "cell_type": "code",
   "execution_count": 202,
   "id": "dd366574",
   "metadata": {},
   "outputs": [
    {
     "data": {
      "text/plain": [
       "(array([ 4146, 16482, 16483, 16545]),)"
      ]
     },
     "execution_count": 202,
     "metadata": {},
     "output_type": "execute_result"
    }
   ],
   "source": [
    "grid_pos = LaLotudeVector[10000]\n",
    "np.where(np.logical_and((node2position < (grid_pos + unit)).all(axis=1),\n",
    "                        (node2position > (grid_pos - unit)).all(axis=1)))"
   ]
  },
  {
   "cell_type": "code",
   "execution_count": 205,
   "id": "51fd8047",
   "metadata": {},
   "outputs": [],
   "source": [
    "from tqdm.notebook import tqdm"
   ]
  },
  {
   "cell_type": "code",
   "execution_count": 206,
   "id": "85623800",
   "metadata": {},
   "outputs": [
    {
     "data": {
      "application/vnd.jupyter.widget-view+json": {
       "model_id": "8e128896ebbb4393b01557883848f7ab",
       "version_major": 2,
       "version_minor": 0
      },
      "text/plain": [
       "0it [00:00, ?it/s]"
      ]
     },
     "metadata": {},
     "output_type": "display_data"
    }
   ],
   "source": [
    "hard_indexes = []\n",
    "for idx,grid_pos in tqdm(enumerate(LaLotudeVector)):\n",
    "    rough_range_index = np.where(np.logical_and((node2position < (grid_pos + unit)).all(axis=1),\n",
    "                                                (node2position > (grid_pos - unit)).all(axis=1)))[0]\n",
    "    rough_range = node2position[rough_range_index]\n",
    "    hard_index  = np.where(np.linalg.norm(rough_range - grid_pos,axis=1)<0.6*unit)\n",
    "    hard_indexes.append(rough_range_index[hard_index])\n",
    "    "
   ]
  },
  {
   "cell_type": "code",
   "execution_count": 207,
   "id": "831fe9e3",
   "metadata": {},
   "outputs": [],
   "source": [
    "aware =[ len(t) for t in hard_indexes]"
   ]
  },
  {
   "cell_type": "code",
   "execution_count": 208,
   "id": "97a41403",
   "metadata": {},
   "outputs": [],
   "source": [
    "from mltool.visualization import *"
   ]
  },
  {
   "cell_type": "code",
   "execution_count": null,
   "id": "8908a492",
   "metadata": {},
   "outputs": [],
   "source": []
  }
 ],
 "metadata": {
  "kernelspec": {
   "display_name": "Python 3 (ipykernel)",
   "language": "python",
   "name": "python3"
  },
  "language_info": {
   "codemirror_mode": {
    "name": "ipython",
    "version": 3
   },
   "file_extension": ".py",
   "mimetype": "text/x-python",
   "name": "python",
   "nbconvert_exporter": "python",
   "pygments_lexer": "ipython3",
   "version": "3.9.13"
  }
 },
 "nbformat": 4,
 "nbformat_minor": 5
}
