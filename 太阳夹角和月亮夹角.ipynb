{
 "cells": [
  {
   "cell_type": "markdown",
   "id": "5d8cc77f",
   "metadata": {},
   "source": [
    "我们知道地球系统明显的收到太阳(年)和月球(潮汐)的印象， 直观体现为就是时间可以用「太阳直射角」（太阳在天空中的高度）来描述，这样的话我们就可以按照 mesh 的方案构建一个 （32x64） 或者 （720x1440） 的时间mapping 而不是一个数字"
   ]
  },
  {
   "cell_type": "markdown",
   "id": "3dd181e3",
   "metadata": {},
   "source": [
    "# Solar "
   ]
  },
  {
   "cell_type": "markdown",
   "id": "f5df465e",
   "metadata": {},
   "source": [
    "我们首先要知道的是任意时间 (xxxx年xxxx日xxxx小时) 太阳直射点的经纬度。\n",
    "- 太陽直射點是太陽高度角（太陽光入射角度）為90度的點，它是地心與日心連線和地球球面成90度的交點。\n",
    "太陽直射點所在的經線的地方時理論上為正午12時，但需視乎該地政府所定下的時區為多少而定。"
   ]
  },
  {
   "cell_type": "markdown",
   "id": "70b695b1",
   "metadata": {},
   "source": [
    "所以维度由公转决定， 精度由自转决定，我们先来算纬度\n"
   ]
  },
  {
   "cell_type": "markdown",
   "id": "07df8c70",
   "metadata": {},
   "source": [
    "太阳赤纬=0.3723＋23.2567sinθ＋0.1149sin2θ－0.1712sin3θ－0.758cosθ＋0.3656cos\n",
    "2θ＋0.0201cos3θ\n",
    "式中θ称日角，即 θ=2πt／365.2422\n",
    "这里t又由两部分组成，即 t=N－N0\n",
    "式中N为积日，所谓积日，就是日期在年内的顺序号，例如，1月1日其积日为1，平年12月\n",
    "31日的积日为365，闰年则为366，等等。\n",
    "N0=79.6764＋0.2422×（年份－1985）－INT〔（年份－1985）／4〕\n",
    "\n",
    "cite：http://m.blog.chinaunix.net/uid-8015611-id-2035001.html"
   ]
  },
  {
   "cell_type": "code",
   "execution_count": 5,
   "id": "871649ad",
   "metadata": {},
   "outputs": [],
   "source": [
    "import math"
   ]
  },
  {
   "cell_type": "code",
   "execution_count": 25,
   "id": "00a68d40",
   "metadata": {},
   "outputs": [],
   "source": [
    "def jiri(year,month,day):\n",
    "    if year%4==0 and year%100!=0 or year%400==0:leap=1\n",
    "    else:leap=0\n",
    "    mm=(0,31,leap+59,leap+90,leap+120,leap+151,leap+181,leap+212,leap+243,leap+273,leap+304,leap+334)\n",
    "    return mm[month-1]+day\n",
    "\n",
    "def solarpoint(year,month,day):\n",
    "    t=jiri(year,month,day)-79.6764-0.2422*(year-1985)+int((year-1985)/4)\n",
    "    sita=2*3.14159265*t/365.2422\n",
    "    delta=0.3723+23.2567*math.sin(sita)+0.1149*math.sin(2*sita)-0.1712*math.sin(3*sita)-0.758*math.cos(sita)+0.3656*math.cos(\n",
    "2*sita)+0.0201*math.cos(3*sita)\n",
    "    return delta\n"
   ]
  },
  {
   "cell_type": "code",
   "execution_count": 19,
   "id": "2cf98c13",
   "metadata": {},
   "outputs": [],
   "source": [
    "import numpy as np"
   ]
  },
  {
   "cell_type": "markdown",
   "id": "a96dd9ff",
   "metadata": {},
   "source": [
    "所以在 `np.datetime64(\"2018-01-01T12\",'h')` 这个时间点的太阳直射点就是 w=`solarpoint(2018,1,1)` 经度就是 h=`(12.0 - currTime)*15.0` = 0"
   ]
  },
  {
   "cell_type": "markdown",
   "id": "92f142e1",
   "metadata": {},
   "source": [
    "对于每一个太阳经纬度$(\\theta,\\phi)$, 我们都可以做出一个从「直射点」到「直射点背面」的一个演化mask。 值从 1 到 -1。 最简单的做法就是找向量的夹角。"
   ]
  },
  {
   "cell_type": "code",
   "execution_count": null,
   "id": "905831a7",
   "metadata": {},
   "outputs": [],
   "source": [
    "以 32x64 为例， 我们的数据是从 721x1440 的数据中跳出来的，所以具体的经纬度就是 np."
   ]
  },
  {
   "cell_type": "code",
   "execution_count": 53,
   "id": "93f0df1e",
   "metadata": {},
   "outputs": [],
   "source": [
    "sH = 720\n",
    "sW = 1440\n",
    "tH = 32\n",
    "tW = 64\n",
    "steph = sH /float(tH)\n",
    "stepw = sW /float(tW)\n",
    "x     = np.arange(0, sW, stepw).astype('int')\n",
    "y     = np.linspace(0, sH-1, tH, dtype='int')\n",
    "x, y  = np.meshgrid(x, y)\n",
    "\n",
    "latitude   = np.linspace(90,-90,721)\n",
    "longitude  = np.linspace(0,360,1440)\n",
    "\n",
    "LaLotude = np.stack([latitude[y],longitude[x]])/180*np.pi\n",
    "\n",
    "LaLotudeVector = np.stack([np.cos(LaLotude[1])*np.cos(LaLotude[0]),np.cos(LaLotude[1])*np.sin(LaLotude[0]),np.sin(LaLotude[1])],2)"
   ]
  },
  {
   "cell_type": "code",
   "execution_count": 66,
   "id": "f259550e",
   "metadata": {},
   "outputs": [
    {
     "data": {
      "text/plain": [
       "array([6.123234e-17, 1.000000e+00, 0.000000e+00])"
      ]
     },
     "execution_count": 66,
     "metadata": {},
     "output_type": "execute_result"
    }
   ],
   "source": [
    "LaLotudeVector[0,0]"
   ]
  },
  {
   "cell_type": "code",
   "execution_count": 75,
   "id": "e1ee318e",
   "metadata": {},
   "outputs": [],
   "source": [
    "phi = solarpoint(2018,1,1)/180*np.pi\n",
    "theta   = (12.0 - 0)*15.0/180*np.pi"
   ]
  },
  {
   "cell_type": "code",
   "execution_count": 78,
   "id": "94465d02",
   "metadata": {},
   "outputs": [
    {
     "data": {
      "text/plain": [
       "3.141592653589793"
      ]
     },
     "execution_count": 78,
     "metadata": {},
     "output_type": "execute_result"
    }
   ],
   "source": [
    "theta"
   ]
  },
  {
   "cell_type": "code",
   "execution_count": 76,
   "id": "8ee71533",
   "metadata": {},
   "outputs": [],
   "source": [
    "solarpointvector=  np.stack([np.cos(theta)*np.cos(phi),np.cos(theta)*np.sin(phi),np.sin(theta)])"
   ]
  },
  {
   "cell_type": "markdown",
   "id": "7bc4a06d",
   "metadata": {},
   "source": [
    "# luna system"
   ]
  },
  {
   "cell_type": "markdown",
   "id": "8c12440b",
   "metadata": {},
   "source": [
    "月面系统会比较复杂一点， 有两个比较直观可用的工具\n",
    "- https://astronomy.stackexchange.com/questions/29932/how-to-calculate-declination-of-moon\n",
    "- https://astronomy.stackexchange.com/questions/30355/how-to-calculate-the-ground-track-of-the-moons-position-on-the-earths-surface\n",
    "- 或者 Mathmatica 中的 `MoonPosition` \n",
    "- https://skymarvels.com/infopages/vids/Earth%20-%20Sub-lunar%20Point%20001.htm Demo"
   ]
  },
  {
   "cell_type": "markdown",
   "id": "63b555a1",
   "metadata": {},
   "source": [
    "Given a date and time, the position of the Moon can be calculated to provide the declination and right ascension. The sub-point of the Moon (the point on the Earth at which the Moon is at the zenith) is as follows:\n",
    "\n",
    "- latitude = declination of the Moon\n",
    "\n",
    "- longitude can be found by calculating the local mean sidereal time (LMST) that equals the Moon's right ascension. (LMST dependents on the date, time, and longitude.) Everything is known except for the longitude."
   ]
  },
  {
   "cell_type": "code",
   "execution_count": null,
   "id": "cb6e0820",
   "metadata": {},
   "outputs": [],
   "source": []
  },
  {
   "cell_type": "markdown",
   "id": "cc396c14",
   "metadata": {},
   "source": [
    "简单来说就是有\n",
    "$$\n",
    "u = t - 0.48 \\sin {2 \\pi (t - 3.45) \\over 27.55455}\n",
    "$$"
   ]
  },
  {
   "cell_type": "markdown",
   "id": "9c739c16",
   "metadata": {},
   "source": [
    "#### longitude"
   ]
  },
  {
   "cell_type": "markdown",
   "id": "af026ecc",
   "metadata": {},
   "source": [
    "基本上就是用公式\n",
    "$$\n",
    "RA_{Moon}=LMST=GMST+long_{East}\n",
    "$$"
   ]
  },
  {
   "cell_type": "markdown",
   "id": "7c13693f",
   "metadata": {},
   "source": [
    "以及一个经验公式\n",
    "$$\n",
    "\\mathit{GMST}_{\\text{deg}} = 100.4606184 + 0.9856473662862 D + 15 H\n",
    "$$"
   ]
  },
  {
   "cell_type": "code",
   "execution_count": null,
   "id": "2aad6761",
   "metadata": {},
   "outputs": [],
   "source": [
    "这里的 D 是距离 Jan 1, 2000 at 12 h UT 的天数"
   ]
  },
  {
   "cell_type": "markdown",
   "id": "d1a26720",
   "metadata": {},
   "source": [
    "Right ascension is generally measured in units of time, not degrees of arc. 24 hours of time corresponds to 360 degrees of arc at the equator. "
   ]
  },
  {
   "cell_type": "code",
   "execution_count": null,
   "id": "770a846b",
   "metadata": {},
   "outputs": [],
   "source": [
    "基本上 RA 就是用 Greenwich Time 算出来的角度.\n"
   ]
  },
  {
   "cell_type": "code",
   "execution_count": 83,
   "id": "750a9e00",
   "metadata": {},
   "outputs": [
    {
     "name": "stdout",
     "output_type": "stream",
     "text": [
      "Looking in indexes: https://pypi.tuna.tsinghua.edu.cn/simple\n",
      "Collecting ephem\n",
      "  Downloading https://pypi.tuna.tsinghua.edu.cn/packages/70/b0/bc5b238c739cdd1e73fef4b255aaaeaec1ae3b50e059610e35edfcec78f7/ephem-4.1.4-cp39-cp39-manylinux_2_17_x86_64.manylinux2014_x86_64.whl (1.8 MB)\n",
      "\u001b[2K     \u001b[38;2;114;156;31m━━━━━━━━━━━━━━━━━━━━━━━━━━━━━━━━━━━━━━━━\u001b[0m \u001b[32m1.8/1.8 MB\u001b[0m \u001b[31m5.5 MB/s\u001b[0m eta \u001b[36m0:00:00\u001b[0mm eta \u001b[36m0:00:01\u001b[0m0:01\u001b[0m:01\u001b[0m\n",
      "\u001b[?25hInstalling collected packages: ephem\n",
      "Successfully installed ephem-4.1.4\n"
     ]
    }
   ],
   "source": [
    "!pip install ephem"
   ]
  },
  {
   "cell_type": "code",
   "execution_count": 86,
   "id": "fe68e03a",
   "metadata": {},
   "outputs": [],
   "source": [
    "import ephem"
   ]
  },
  {
   "cell_type": "code",
   "execution_count": 88,
   "id": "04aea721",
   "metadata": {},
   "outputs": [],
   "source": [
    "import datetime"
   ]
  },
  {
   "cell_type": "code",
   "execution_count": 94,
   "id": "e4f4e2bc",
   "metadata": {},
   "outputs": [],
   "source": [
    "def get_sub_luna_point(year,month,day):\n",
    "    greenwich = ephem.Observer()\n",
    "    greenwich.lat = \"0\"\n",
    "    greenwich.lon = \"0\"\n",
    "    greenwich.date =datetime.datetime(year, month, day)\n",
    "\n",
    "    #add Moon Sub Solar Point\n",
    "    moon = ephem.Moon(greenwich)\n",
    "    moon.compute(greenwich.date)\n",
    "    moon_lon = math.degrees(moon.ra - greenwich.sidereal_time() )\n",
    "    # map longitude value from -180 to +180 \n",
    "    if moon_lon < -180.0 :moon_lon = 360.0 + moon_lon \n",
    "    elif moon_lon > 180.0 :moon_lon = moon_lon - 360.0\n",
    "\n",
    "    moon_lat = math.degrees(moon.dec)\n",
    "    #print( \"moon Lon:\",moon_lon, \"Lat:\",moon_lat)\n",
    "    return moon_lon,moon_lat\n",
    "    "
   ]
  },
  {
   "cell_type": "code",
   "execution_count": 98,
   "id": "3b22b3bb",
   "metadata": {},
   "outputs": [],
   "source": [
    "def get_sub_sun_point(year,month,day):\n",
    "    greenwich      = ephem.Observer()\n",
    "    greenwich.lat  = \"0\"\n",
    "    greenwich.lon  = \"0\"\n",
    "    greenwich.date =datetime.datetime(year, month, day)\n",
    "\n",
    "    #add sun Sub Solar Point\n",
    "    sun = ephem.Sun(greenwich)\n",
    "    sun.compute(greenwich.date)\n",
    "    sun_lon = math.degrees(sun.ra - greenwich.sidereal_time() )\n",
    "    # map longitude value from -180 to +180 \n",
    "    if sun_lon < -180.0 :sun_lon = 360.0 + sun_lon \n",
    "    elif sun_lon > 180.0 :sun_lon = sun_lon - 360.0\n",
    "\n",
    "    sun_lat = math.degrees(sun.dec)\n",
    "    #print( \"sun Lon:\",sun_lon, \"Lat:\",sun_lat)\n",
    "    return sun_lon,sun_lat"
   ]
  }
 ],
 "metadata": {
  "kernelspec": {
   "display_name": "Python 3 (ipykernel)",
   "language": "python",
   "name": "python3"
  },
  "language_info": {
   "codemirror_mode": {
    "name": "ipython",
    "version": 3
   },
   "file_extension": ".py",
   "mimetype": "text/x-python",
   "name": "python",
   "nbconvert_exporter": "python",
   "pygments_lexer": "ipython3",
   "version": "3.9.13"
  }
 },
 "nbformat": 4,
 "nbformat_minor": 5
}
