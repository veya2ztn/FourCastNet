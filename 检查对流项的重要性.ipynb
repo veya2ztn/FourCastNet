{
 "cells": [
  {
   "cell_type": "markdown",
   "id": "0293d522",
   "metadata": {
    "heading_collapsed": true
   },
   "source": [
    "# from package data"
   ]
  },
  {
   "cell_type": "code",
   "execution_count": 1,
   "id": "3fae3646",
   "metadata": {
    "hidden": true
   },
   "outputs": [],
   "source": [
    "import numpy as np\n",
    "import os"
   ]
  },
  {
   "cell_type": "code",
   "execution_count": 21,
   "id": "53f20cdd",
   "metadata": {
    "hidden": true
   },
   "outputs": [
    {
     "data": {
      "text/plain": [
       "array([ 0.57815005,  0.56099775,  0.42491165, 26.4544745 ])"
      ]
     },
     "execution_count": 21,
     "metadata": {},
     "output_type": "execute_result"
    }
   ],
   "source": [
    "np.array([2.67662060e-05,2.59721181e-05,1.96718356e-05,1.22474419e-03])*6*3600"
   ]
  },
  {
   "cell_type": "code",
   "execution_count": 8,
   "id": "01b85312",
   "metadata": {
    "hidden": true
   },
   "outputs": [],
   "source": [
    "DATAROOT=\"/nvme/zhangtianning/datasets/ERA5/numpy_set_float32\"\n",
    "#Nabla_cdot_V_l    = np.load(os.path.join(DATAROOT,\"Nabla_cdot_V_train.npy\"  ))\n",
    "year_data_l       = np.load(os.path.join(DATAROOT,\"all_data_test.npy\"))\n",
    "Vphysics_dx_l     = np.load(os.path.join(DATAROOT,\"Vphysics_dx_test.npy\"))\n",
    "Vphysics_dy_l     = np.load(os.path.join(DATAROOT,\"Vphysics_dy_test.npy\"))\n",
    "Field_dx_l        = np.load(os.path.join(DATAROOT,\"Field_dx_test.npy\"))\n",
    "Field_dy_l        = np.load(os.path.join(DATAROOT,\"Field_dy_test.npy\"))\n",
    "# InteractionPart_l = np.load(os.path.join(DATAROOT,\"InteractionPart_train.npy\"))"
   ]
  },
  {
   "cell_type": "code",
   "execution_count": 12,
   "id": "fe86ecba",
   "metadata": {
    "hidden": true
   },
   "outputs": [],
   "source": [
    "year_data_l = year_data_l[...,1:-1,:]"
   ]
  },
  {
   "cell_type": "code",
   "execution_count": 13,
   "id": "ab8664d8",
   "metadata": {
    "hidden": true
   },
   "outputs": [],
   "source": [
    "u = year_data_l[:,0:1,]\n",
    "v = year_data_l[:,1:2,]\n",
    "T = year_data_l[:,2:3,]\n",
    "p = year_data_l[:,3:4,]"
   ]
  },
  {
   "cell_type": "code",
   "execution_count": 15,
   "id": "887cabe9",
   "metadata": {
    "hidden": true
   },
   "outputs": [],
   "source": [
    "compute_vphysics_dx_l=Field_dx_l*u + year_data_l*Field_dx_l[:,0:1]"
   ]
  },
  {
   "cell_type": "code",
   "execution_count": 51,
   "id": "ff1054ef",
   "metadata": {
    "hidden": true
   },
   "outputs": [],
   "source": [
    "InteractionPart_l=np.concatenate([InteractionPart_l[:,0:1,:,1:-1,:]/Hdx.reshape(1,1,1,32,1)[...,1:-1,:]*6*3600,\n",
    "          InteractionPart_l[:,1:2,:,1:-1,:]/Hdy*6*3600\n",
    "         ],1)"
   ]
  },
  {
   "cell_type": "code",
   "execution_count": 15,
   "id": "2ab8c986",
   "metadata": {
    "hidden": true
   },
   "outputs": [],
   "source": [
    "Hdx = 6371000*np.sin(np.linspace(0,720*np.pi/721,32))*2*np.pi/1440.0#m\n",
    "Hdy = 6371000*np.pi/720.0\n",
    "\n",
    "Vphysics_dx_l = Vphysics_dx_l[...,1:-1,:]/Hdx.reshape(1,1,1,32,1)[...,1:-1,:]*6*3600\n",
    "Vphysics_dy_l = Vphysics_dy_l[...,1:-1,:]/Hdy*6*3600\n",
    "\n",
    "Field_dx_l= Field_dx_l[...,1:-1,:]/Hdx.reshape(1,1,1,32,1)[...,1:-1,:]*6*3600\n",
    "Field_dy_l= Field_dy_l[...,1:-1,:]/Hdy*6*3600\n",
    "\n",
    "Field = year_data_l\n",
    "\n",
    "Nabla_cdot_V   = Field_dx_l[:,0:1] + Field_dy_l[:,1:2]\n",
    "Nabla_V_Field  = Nabla_cdot_V*Field[...,1:-1,:] #(Batch, 4, z, y ,x)\n",
    "\n",
    "PhysicsPart    = -Vphysics_dx_l - Vphysics_dy_l  + Nabla_V_Field #(Batch,4,z, y ,x)\n",
    "\n",
    "Delta= year_data_l[1:,:,:,1:-1,:]-year_data_l[:-1,:,:,1:-1,:]"
   ]
  },
  {
   "cell_type": "code",
   "execution_count": 119,
   "id": "807326f2",
   "metadata": {
    "hidden": true
   },
   "outputs": [
    {
     "data": {
      "text/plain": [
       "(54056, 4, 3, 32, 64)"
      ]
     },
     "execution_count": 119,
     "metadata": {},
     "output_type": "execute_result"
    }
   ],
   "source": [
    "Field.shape"
   ]
  },
  {
   "cell_type": "code",
   "execution_count": 213,
   "id": "e5a553a9",
   "metadata": {
    "hidden": true
   },
   "outputs": [],
   "source": [
    "Omega = 2*np.pi/(24*3600)\n",
    "omg   = 2*Omega*np.sin(np.linspace(0,720*np.pi/721,32)).reshape(1,1,32,1)[...,1:-1,:]\n",
    "\n",
    "Fcols = np.stack([omg*Field[:,1,...,1:-1,:],\n",
    "                 -omg*Field[:,0,...,1:-1,:]\n",
    "                 ],\n",
    "                 1)*(6*3600)"
   ]
  },
  {
   "cell_type": "code",
   "execution_count": 214,
   "id": "92af1a85",
   "metadata": {
    "hidden": true
   },
   "outputs": [],
   "source": [
    "cent  = 6371000*np.sin(np.linspace(0,720*np.pi/721,32)).reshape(1,1,32,1)[...,1:-1,:]*(Omega**2)*np.sin(np.linspace(0,720*np.pi/721,32)).reshape(1,1,32,1)[...,1:-1,:]"
   ]
  },
  {
   "cell_type": "code",
   "execution_count": 96,
   "id": "bfd9d8b5",
   "metadata": {
    "hidden": true
   },
   "outputs": [],
   "source": [
    "Speed_PhysicsPart = Fcols + PhysicsPart[:,:2]"
   ]
  },
  {
   "cell_type": "code",
   "execution_count": 97,
   "id": "9111d367",
   "metadata": {
    "code_folding": [],
    "hidden": true
   },
   "outputs": [],
   "source": [
    "#record={}"
   ]
  },
  {
   "cell_type": "code",
   "execution_count": 113,
   "id": "a5888a60",
   "metadata": {
    "hidden": true
   },
   "outputs": [
    {
     "name": "stdout",
     "output_type": "stream",
     "text": [
      "Field-> mean:[2.5879788e+00 7.1378373e-02 2.2813908e+04 2.6789578e+02] \n",
      "                      -> std:[9.3581161e+00 6.9625368e+00 2.2779877e+04 2.0678736e+01]\n"
     ]
    }
   ],
   "source": [
    "names = [\n",
    "\"Vphysics_dx_l    \",\n",
    "\"Vphysics_dy_l    \",\n",
    "\"Field_dx_l       \",\n",
    "\"Field_dy_l       \",\n",
    "\"Delta            \",\n",
    "\"PhysicsPart      \",\n",
    "\"InteractionPart_l\",\n",
    "\"Speed_PhysicsPart\",\n",
    "\"Coriolis\",\n",
    "\"Field\"\n",
    "]\n",
    "datas= [\n",
    "Vphysics_dx_l    ,\n",
    "Vphysics_dy_l    ,\n",
    "Field_dx_l       ,\n",
    "Field_dy_l       ,\n",
    "Delta,\n",
    "PhysicsPart,\n",
    "InteractionPart_l,\n",
    "Speed_PhysicsPart,\n",
    "Fcols,\n",
    "Field\n",
    "]\n",
    "\n",
    "for name, data in zip(names,datas):\n",
    "    if name not in record:\n",
    "        record[name]={'mean':data.mean(axis=(0,2,3,4)),'std':data.std(axis=(0,2,3,4))}\n",
    "        means = record[name]['mean']\n",
    "        stds  = record[name]['std']\n",
    "        print(f\"\"\"{name}-> mean:{means} \n",
    "                      -> std:{stds}\"\"\")"
   ]
  },
  {
   "cell_type": "code",
   "execution_count": 71,
   "id": "8a98fda0",
   "metadata": {
    "hidden": true
   },
   "outputs": [],
   "source": [
    "import pandas as pd"
   ]
  },
  {
   "cell_type": "code",
   "execution_count": 125,
   "id": "e45d6006",
   "metadata": {
    "hidden": true
   },
   "outputs": [
    {
     "data": {
      "text/html": [
       "<div>\n",
       "<style scoped>\n",
       "    .dataframe tbody tr th:only-of-type {\n",
       "        vertical-align: middle;\n",
       "    }\n",
       "\n",
       "    .dataframe tbody tr th {\n",
       "        vertical-align: top;\n",
       "    }\n",
       "\n",
       "    .dataframe thead th {\n",
       "        text-align: right;\n",
       "    }\n",
       "</style>\n",
       "<table border=\"1\" class=\"dataframe\">\n",
       "  <thead>\n",
       "    <tr style=\"text-align: right;\">\n",
       "      <th></th>\n",
       "      <th>u.mean</th>\n",
       "      <th>v.mean</th>\n",
       "      <th>phi.mean</th>\n",
       "      <th>T.mean</th>\n",
       "      <th>u.std</th>\n",
       "      <th>v.std</th>\n",
       "      <th>phi.std</th>\n",
       "      <th>T.std</th>\n",
       "    </tr>\n",
       "  </thead>\n",
       "  <tbody>\n",
       "    <tr>\n",
       "      <th>Vphysics_dx_l</th>\n",
       "      <td>-0.010389</td>\n",
       "      <td>0.010372</td>\n",
       "      <td>-15.440293</td>\n",
       "      <td>-1.567747</td>\n",
       "      <td>10.928425</td>\n",
       "      <td>8.855646</td>\n",
       "      <td>14466.454603</td>\n",
       "      <td>134.355430</td>\n",
       "    </tr>\n",
       "    <tr>\n",
       "      <th>Vphysics_dy_l</th>\n",
       "      <td>-0.014326</td>\n",
       "      <td>-0.038923</td>\n",
       "      <td>-3.949892</td>\n",
       "      <td>0.661720</td>\n",
       "      <td>8.248512</td>\n",
       "      <td>8.171262</td>\n",
       "      <td>14285.976562</td>\n",
       "      <td>126.136284</td>\n",
       "    </tr>\n",
       "    <tr>\n",
       "      <th>Field_dx_l</th>\n",
       "      <td>-0.006099</td>\n",
       "      <td>-0.002192</td>\n",
       "      <td>-0.229208</td>\n",
       "      <td>0.000843</td>\n",
       "      <td>0.507612</td>\n",
       "      <td>0.638157</td>\n",
       "      <td>23.932706</td>\n",
       "      <td>0.430413</td>\n",
       "    </tr>\n",
       "    <tr>\n",
       "      <th>Field_dy_l</th>\n",
       "      <td>-0.006519</td>\n",
       "      <td>0.002594</td>\n",
       "      <td>-1.749277</td>\n",
       "      <td>-0.019260</td>\n",
       "      <td>0.626688</td>\n",
       "      <td>0.472728</td>\n",
       "      <td>27.701265</td>\n",
       "      <td>0.405070</td>\n",
       "    </tr>\n",
       "    <tr>\n",
       "      <th>Delta</th>\n",
       "      <td>0.000021</td>\n",
       "      <td>-0.000002</td>\n",
       "      <td>-0.000546</td>\n",
       "      <td>0.000026</td>\n",
       "      <td>3.280018</td>\n",
       "      <td>3.796076</td>\n",
       "      <td>215.981201</td>\n",
       "      <td>1.982062</td>\n",
       "    </tr>\n",
       "    <tr>\n",
       "      <th>PhysicsPart</th>\n",
       "      <td>0.011243</td>\n",
       "      <td>0.056157</td>\n",
       "      <td>-6.752281</td>\n",
       "      <td>-0.027942</td>\n",
       "      <td>8.337613</td>\n",
       "      <td>8.863453</td>\n",
       "      <td>540.010947</td>\n",
       "      <td>3.695993</td>\n",
       "    </tr>\n",
       "    <tr>\n",
       "      <th>InteractionPart_l</th>\n",
       "      <td>0.000843</td>\n",
       "      <td>-0.019260</td>\n",
       "      <td>NaN</td>\n",
       "      <td>NaN</td>\n",
       "      <td>0.430413</td>\n",
       "      <td>0.405071</td>\n",
       "      <td>NaN</td>\n",
       "      <td>NaN</td>\n",
       "    </tr>\n",
       "    <tr>\n",
       "      <th>Speed_PhysicsPart</th>\n",
       "      <td>0.161378</td>\n",
       "      <td>-5.020204</td>\n",
       "      <td>NaN</td>\n",
       "      <td>NaN</td>\n",
       "      <td>16.318185</td>\n",
       "      <td>22.784317</td>\n",
       "      <td>NaN</td>\n",
       "      <td>NaN</td>\n",
       "    </tr>\n",
       "    <tr>\n",
       "      <th>Coriolis</th>\n",
       "      <td>0.150135</td>\n",
       "      <td>-5.076361</td>\n",
       "      <td>NaN</td>\n",
       "      <td>NaN</td>\n",
       "      <td>14.020784</td>\n",
       "      <td>20.969825</td>\n",
       "      <td>NaN</td>\n",
       "      <td>NaN</td>\n",
       "    </tr>\n",
       "    <tr>\n",
       "      <th>Field</th>\n",
       "      <td>2.587979</td>\n",
       "      <td>0.071378</td>\n",
       "      <td>22813.908203</td>\n",
       "      <td>267.895782</td>\n",
       "      <td>9.358116</td>\n",
       "      <td>6.962537</td>\n",
       "      <td>22779.876953</td>\n",
       "      <td>20.678736</td>\n",
       "    </tr>\n",
       "  </tbody>\n",
       "</table>\n",
       "</div>"
      ],
      "text/plain": [
       "                     u.mean    v.mean      phi.mean      T.mean      u.std  \\\n",
       "Vphysics_dx_l     -0.010389  0.010372    -15.440293   -1.567747  10.928425   \n",
       "Vphysics_dy_l     -0.014326 -0.038923     -3.949892    0.661720   8.248512   \n",
       "Field_dx_l        -0.006099 -0.002192     -0.229208    0.000843   0.507612   \n",
       "Field_dy_l        -0.006519  0.002594     -1.749277   -0.019260   0.626688   \n",
       "Delta              0.000021 -0.000002     -0.000546    0.000026   3.280018   \n",
       "PhysicsPart        0.011243  0.056157     -6.752281   -0.027942   8.337613   \n",
       "InteractionPart_l  0.000843 -0.019260           NaN         NaN   0.430413   \n",
       "Speed_PhysicsPart  0.161378 -5.020204           NaN         NaN  16.318185   \n",
       "Coriolis           0.150135 -5.076361           NaN         NaN  14.020784   \n",
       "Field              2.587979  0.071378  22813.908203  267.895782   9.358116   \n",
       "\n",
       "                       v.std       phi.std       T.std  \n",
       "Vphysics_dx_l       8.855646  14466.454603  134.355430  \n",
       "Vphysics_dy_l       8.171262  14285.976562  126.136284  \n",
       "Field_dx_l          0.638157     23.932706    0.430413  \n",
       "Field_dy_l          0.472728     27.701265    0.405070  \n",
       "Delta               3.796076    215.981201    1.982062  \n",
       "PhysicsPart         8.863453    540.010947    3.695993  \n",
       "InteractionPart_l   0.405071           NaN         NaN  \n",
       "Speed_PhysicsPart  22.784317           NaN         NaN  \n",
       "Coriolis           20.969825           NaN         NaN  \n",
       "Field               6.962537  22779.876953   20.678736  "
      ]
     },
     "execution_count": 125,
     "metadata": {},
     "output_type": "execute_result"
    }
   ],
   "source": [
    "table={}\n",
    "item_names = ['u','v','phi','T']\n",
    "for name, val in record.items():\n",
    "    table[name]={}\n",
    "    means = record[name]['mean']\n",
    "    stds  = record[name]['std']\n",
    "    for item_name, val in zip(item_names,means):\n",
    "        table[name][item_name+'.mean']=val\n",
    "    for item_name, val in zip(item_names,stds):\n",
    "        table[name][item_name+'.std']=val\n",
    "df= pd.DataFrame(data=table).transpose()\n",
    "df"
   ]
  },
  {
   "cell_type": "code",
   "execution_count": 55,
   "id": "a9300e78",
   "metadata": {
    "hidden": true
   },
   "outputs": [],
   "source": [
    "absdelta = np.abs(PhysicsPart[:-1])-np.abs(Delta)"
   ]
  },
  {
   "cell_type": "code",
   "execution_count": 31,
   "id": "d8bd0508",
   "metadata": {
    "hidden": true,
    "scrolled": true
   },
   "outputs": [
    {
     "data": {
      "text/plain": [
       "array([[6.8582321e-04, 3.0365341e+00, 2.9900851e+00, 3.2115424e+00,\n",
       "        3.3119178e+00, 3.6096151e+00, 3.9751532e+00, 4.0409827e+00,\n",
       "        3.9987764e+00, 3.6142375e+00, 3.1261528e+00, 2.5146220e+00,\n",
       "        2.0914984e+00, 1.8692865e+00, 1.7569691e+00, 1.5595763e+00,\n",
       "        1.4677874e+00, 1.5765243e+00, 1.8257756e+00, 2.1604939e+00,\n",
       "        2.6817858e+00, 3.2946739e+00, 3.9003646e+00, 4.4444013e+00,\n",
       "        4.8586063e+00, 5.0699425e+00, 5.0095835e+00, 4.4081330e+00,\n",
       "        3.1421418e+00, 2.3717465e+00, 2.1505504e+00, 1.7760234e+00],\n",
       "       [6.7546038e-04, 3.0193648e+00, 3.1491852e+00, 3.3569860e+00,\n",
       "        3.5339034e+00, 3.9186771e+00, 4.3958836e+00, 4.6796927e+00,\n",
       "        4.6748643e+00, 4.2665548e+00, 3.4933813e+00, 2.6541188e+00,\n",
       "        2.1811774e+00, 1.9074473e+00, 1.7990435e+00, 1.5918880e+00,\n",
       "        1.5058992e+00, 1.6057800e+00, 1.8195912e+00, 2.2459192e+00,\n",
       "        2.8685102e+00, 3.7508392e+00, 4.8192420e+00, 5.9064946e+00,\n",
       "        6.6435027e+00, 6.7405386e+00, 5.9491496e+00, 4.4815097e+00,\n",
       "        3.1961126e+00, 2.5023723e+00, 2.0810101e+00, 1.7875297e+00],\n",
       "       [1.7347470e+02, 1.7445872e+02, 1.8364996e+02, 1.9127969e+02,\n",
       "        2.0323389e+02, 2.2358450e+02, 2.4084212e+02, 2.4307661e+02,\n",
       "        2.2418219e+02, 1.9148444e+02, 1.6903369e+02, 1.3773068e+02,\n",
       "        1.4329770e+02, 1.5508908e+02, 1.6416885e+02, 1.7037555e+02,\n",
       "        1.7233867e+02, 1.6724683e+02, 1.5921391e+02, 1.4970120e+02,\n",
       "        1.4320523e+02, 1.5386403e+02, 2.0035501e+02, 2.7291989e+02,\n",
       "        3.4371597e+02, 3.7973813e+02, 3.6128061e+02, 2.9037296e+02,\n",
       "        2.2247096e+02, 1.8221548e+02, 1.7647758e+02, 1.5735461e+02],\n",
       "       [1.2087426e+00, 1.2299249e+00, 1.3936177e+00, 1.5580022e+00,\n",
       "        2.1734490e+00, 2.3303361e+00, 2.4696460e+00, 2.7175946e+00,\n",
       "        2.7268865e+00, 2.6499681e+00, 2.5314658e+00, 2.4712217e+00,\n",
       "        2.2514307e+00, 2.0455642e+00, 1.6463827e+00, 1.3041016e+00,\n",
       "        1.3581558e+00, 1.4922807e+00, 1.6611623e+00, 1.9562446e+00,\n",
       "        2.0041237e+00, 1.9055580e+00, 1.6275175e+00, 1.7756629e+00,\n",
       "        1.9689606e+00, 1.9978793e+00, 1.9117239e+00, 1.8048699e+00,\n",
       "        1.8298514e+00, 1.8027000e+00, 1.4871423e+00, 1.3770275e+00]],\n",
       "      dtype=float32)"
      ]
     },
     "execution_count": 31,
     "metadata": {},
     "output_type": "execute_result"
    }
   ],
   "source": [
    "Delta.std(axis=(0,2,4))"
   ]
  },
  {
   "cell_type": "code",
   "execution_count": 84,
   "id": "d63da35c",
   "metadata": {
    "hidden": true
   },
   "outputs": [
    {
     "name": "stdout",
     "output_type": "stream",
     "text": [
      "Vphysics_dx_l-> mean:-4.346e+00 std:7.261e+03\n",
      "Vphysics_dy_l-> mean:-8.354e-01 std:7.143e+03\n"
     ]
    }
   ],
   "source": [
    "name = \"Vphysics_dx_l\";data = Vphysics_dx_l\n",
    "print(f\"{name}-> mean:{data.mean():.3e} std:{data.std():.3e}\")\n",
    "name = \"Vphysics_dy_l\";data = Vphysics_dy_l\n",
    "print(f\"{name}-> mean:{data.mean():.3e} std:{data.std():.3e}\")"
   ]
  },
  {
   "cell_type": "markdown",
   "id": "b89caed0",
   "metadata": {},
   "source": [
    "# from origin raw data"
   ]
  },
  {
   "cell_type": "code",
   "execution_count": 92,
   "id": "ca2e521e",
   "metadata": {
    "code_folding": [
     17,
     28,
     54,
     71
    ]
   },
   "outputs": [],
   "source": [
    "# %load downsamplefrom720.py\n",
    "import torch\n",
    "import numpy as np\n",
    "import xarray as xr\n",
    "from concurrent.futures import ThreadPoolExecutor\n",
    "import torch\n",
    "import torch.nn as nn\n",
    "import torch.nn.functional as F\n",
    "import torch\n",
    "import os\n",
    "os.environ[\"CUDA_VISIBLE_DEVICES\"] = \"7\"\n",
    "# import petrel_client\n",
    "# from petrel_client.client import Client\n",
    "# client_config_file = \"/mnt/lustre/share/pymc/mc.conf\"\n",
    "\n",
    "\n",
    "# surface_pressure inf, mean_sea_level_pressure inf, 50h_geopotential inf\n",
    "vnames = [\n",
    "    '10m_u_component_of_wind', '10m_v_component_of_wind', '2m_temperature', 'surface_pressure', 'mean_sea_level_pressure',\n",
    "    '1000h_u_component_of_wind', '1000h_v_component_of_wind', '1000h_geopotential',\n",
    "    '850h_temperature', '850h_u_component_of_wind', '850h_v_component_of_wind', '850h_geopotential', '850h_relative_humidity',\n",
    "    '500h_temperature', '500h_u_component_of_wind', '500h_v_component_of_wind', '500h_geopotential', '500h_relative_humidity',\n",
    "    '50h_geopotential',\n",
    "    'total_column_water_vapour',\n",
    "    # '850h_geopotential',\n",
    "    # 'surface_pressure', 'mean_sea_level_pressure', '50h_geopotential',\n",
    "    # '850h_geopotential'\n",
    "]\n",
    "vnames_short = [\n",
    "    'u10', 'v10', 't2m', 'sp', 'msl',\n",
    "    'u', 'v', 'z',\n",
    "    't', 'u', 'v', 'z', 'r',\n",
    "    't', 'u', 'v', 'z', 'r',\n",
    "    'z',\n",
    "    'tcwv'\n",
    "    # 'z',\n",
    "    # 'sp', 'msl', 'z',\n",
    "    # 'z',\n",
    "]\n",
    "physics_index = [5, 9, 14, #u\n",
    "                 6, 10, 15,#v\n",
    "                 2, 8, 13, #T\n",
    "                 7, 11, 16,#phi\n",
    "                ]\n",
    "\n",
    "years = range(1979, 1980)\n",
    "#years = range(1988, 1989)\n",
    "Ashape = (721, 1440)\n",
    "import os\n",
    "import subprocess\n",
    "w = 721\n",
    "h = 1440\n",
    "CACHEROOT = \"/nvme/zhangtianning/datasets/ERA5/grid\"\n",
    "DATAROOT  = \"/nvme/zhangtianning/datasets/ERA5/numpy\"\n",
    "def get_numpy_from_grid(vname_pair, year):\n",
    "    #return np.random.randn(1500,w,h)\n",
    "    vname, vname_short = vname_pair\n",
    "    fname   = f'{CACHEROOT}/{year}/{vname}/{vname:s}-{year:d}.grib'\n",
    "    if len(os.listdir(CACHEROOT))>0:\n",
    "        for tyear in os.listdir(CACHEROOT):\n",
    "            if os.path.exists(os.path.join(DATAROOT,f\"all_data_{tyear}.npy\")):\n",
    "                pass\n",
    "                #os.system(f\"rm -r {CACHEROOT}/{tyear}\")\n",
    "                #os.system(f\"rm -r {CACHEROOT}/{year}\")\n",
    "    if not os.path.exists(fname):\n",
    "        print(f\"download {fname}\")\n",
    "        os.system(f\"aws s3 --endpoint-url=http://10.140.2.254:80 --profile chenzhuo cp s3://era5/{vname}/{vname}-{year}.grib {fname}\")\n",
    "    ds = xr.open_dataset(fname, engine=\"cfgrib\")\n",
    "    ds_array = ds.data_vars[vname_short]\n",
    "    return ds_array\n",
    "\n",
    "def Drive(x,position=-1,dim=3,mode='circular'):\n",
    "    expandQ=False\n",
    "    if len(x.shape) == dim + 1 and x.shape[1]!=1:\n",
    "        x = x.unsqueeze(1)\n",
    "        expandQ = True\n",
    "    conv_engine = [torch.conv1d, torch.conv2d, torch.conv3d][dim-1]\n",
    "    weight = torch.Tensor([1/12, -8/12, 0, 8/12, -1/12]).cuda()\n",
    "    weight = weight[(None,)*(dim + 1)].transpose(position,-1)\n",
    "    pad_num = 2\n",
    "    padtuple = [0]*dim*2\n",
    "    padtuple[(-position-1)*2]   = pad_num\n",
    "    padtuple[(-position-1)*2+1] = pad_num\n",
    "    padtuple = tuple(padtuple)\n",
    "    x = conv_engine(F.pad(x, padtuple, mode=mode), weight)\n",
    "    return x.squeeze(1) if expandQ else x\n",
    "\n",
    "\n",
    "Dx = lambda x:Drive(x,position=-1,dim=3,mode='circular')\n",
    "Dy = lambda x:Drive(x,position=-2,dim=3,mode='replicate')\n",
    "Dz = lambda x:Drive(x,position=-3,dim=3,mode='replicate')\n",
    "from tqdm import tqdm\n",
    "\n",
    "\n",
    "x = np.linspace(0, 1440, 97)[:-1]\n",
    "y = np.linspace(0, 720, 49)\n",
    "x = x.astype('int')\n",
    "y = y.astype('int')\n",
    "x, y = np.meshgrid(x, y)"
   ]
  },
  {
   "cell_type": "code",
   "execution_count": 3,
   "id": "8061f63c",
   "metadata": {
    "code_folding": [
     0
    ]
   },
   "outputs": [],
   "source": [
    "# means=[-0.000111572605,\n",
    "#         5759.5347,\n",
    "#         -5.081689e-06,\n",
    "#         -0.17256598,\n",
    "#         -2.5754157e-06,\n",
    "#         -0.20135987,\n",
    "#         2577.635,\n",
    "#         0.00091999245]"
   ]
  },
  {
   "cell_type": "code",
   "execution_count": 4,
   "id": "401948da",
   "metadata": {
    "code_folding": [
     0
    ]
   },
   "outputs": [],
   "source": [
    "# stds=[0.8410478,\n",
    "#     15005.763,\n",
    "#     5970.817,\n",
    "#     10405.471,\n",
    "#     8.406051,\n",
    "#     465.392,\n",
    "#     10321.853,\n",
    "#     5.363033]"
   ]
  },
  {
   "cell_type": "code",
   "execution_count": 93,
   "id": "2595dfee",
   "metadata": {},
   "outputs": [],
   "source": [
    "from tqdm.notebook import tqdm"
   ]
  },
  {
   "cell_type": "code",
   "execution_count": 94,
   "id": "afcd8a45",
   "metadata": {
    "code_folding": [
     0
    ]
   },
   "outputs": [],
   "source": [
    "def pad_data(year_data):\n",
    "    nan_count= np.isnan(year_data).sum()\n",
    "    nanlevel = 0\n",
    "    if nan_count > 0:\n",
    "        t, p, xx, yy = np.where(np.isnan(year_data))\n",
    "        year_data[p,xx,yy] = (year_data[t,p,xx-1,yy] + year_data[t,p,xx+1,yy] \n",
    "                            + year_data[t,p,xx,yy-1] + year_data[t,p,xx,yy+1])/4\n",
    "    \n",
    "        \n",
    "        if np.isnan(year_data).sum() > 0:\n",
    "            print(\"bad nan detect\")\n",
    "            nanlevel=1 \n",
    "            t,p, xx, yy = np.where(np.isnan(year_data))\n",
    "            trail_x = xx\n",
    "            while np.isnan(year_data[t,p,trail_x,yy]).any():\n",
    "                trail_x+=1\n",
    "            year_data[t,p,xx,yy] = year_data[t,p,trail_x,yy]\n",
    "    return year_data, nan_count, nanlevel"
   ]
  },
  {
   "cell_type": "code",
   "execution_count": 157,
   "id": "28ca7fc2",
   "metadata": {
    "code_folding": [],
    "scrolled": false
   },
   "outputs": [
    {
     "name": "stdout",
     "output_type": "stream",
     "text": [
      "loading 1979 data ................done!\n",
      "postprecessing ..............."
     ]
    },
    {
     "data": {
      "application/vnd.jupyter.widget-view+json": {
       "model_id": "84aa0af5898a438784f2e452bf63f428",
       "version_major": 2,
       "version_minor": 0
      },
      "text/plain": [
       "0it [00:00, ?it/s]"
      ]
     },
     "metadata": {},
     "output_type": "display_data"
    }
   ],
   "source": [
    "for year in years:    \n",
    "    print(f\"loading {year} data ................\", end=\"\")\n",
    "    year_datas= []\n",
    "    for physics_name_idx in physics_index:\n",
    "        vname = vnames[physics_name_idx]\n",
    "        vname_short= vnames_short[physics_name_idx]\n",
    "        year_datas.append(get_numpy_from_grid([vname, vname_short], year))\n",
    "    #year_datas= np.stack(year_datas,1)\n",
    "    print(\"done!\")\n",
    "    print(f\"postprecessing ...............\", end=\"\")\n",
    "    Vphysics_dx_l    =[]\n",
    "    Vphysics_dy_l    =[]\n",
    "    Field_dx_l       =[]\n",
    "    Field_dy_l       =[]\n",
    "    Field_dz_l       =[]\n",
    "    InteractionPart_l=[]\n",
    "    year_data_l      =[]\n",
    "    Nabla_cdot_V_l   =[]\n",
    "    #year_datas= torch.Tensor(year_datas.reshape(len(year_datas),4,3,w,h))\n",
    "    i=0\n",
    "    nanlist= []\n",
    "    for year_data in tqdm(zip(*year_datas)):\n",
    "        i+=1\n",
    "        year_data= np.stack(year_data,0)\n",
    "        #break\n",
    "        nan_count= np.isnan(year_data).sum()\n",
    "        if nan_count > 0:\n",
    "            p, xx, yy = np.where(np.isnan(year_data))\n",
    "            year_data[p,xx,yy] = (year_data[p,xx-1,yy] + year_data[p,xx+1,yy] \n",
    "                                + year_data[p,xx,yy-1] + year_data[p,xx,yy+1])/4\n",
    "        nanlevel=0\n",
    "        if np.isnan(year_data).sum() > 0:\n",
    "            print(\"bad nan detect\")\n",
    "            nanlevel=1 \n",
    "            p, xx, yy = np.where(np.isnan(year_data))\n",
    "            trail_x = xx\n",
    "            while np.isnan(year_data[p,trail_x,y]).any():\n",
    "                trail_x+=1\n",
    "            year_data[p,xx,yy] = year_data[p,trail_x,yy]\n",
    "        nanlist.append([np.isnan(year_data).sum(),nanlevel])\n",
    "        \n",
    "        year_data= torch.Tensor(year_data).unsqueeze(0)\n",
    "        \n",
    "        year_data= year_data.reshape(1,4,3,w,h).cuda()\n",
    "        u = year_data[:, 0:1]  # (Batch, 1, z, y ,x)\n",
    "        v = year_data[:, 1:2]  # (Batch, 1, z, y ,x)\n",
    "        T = year_data[:, 2:3]  # (Batch, 1, z, y ,x)\n",
    "        p = year_data[:, 3:4]  # (Batch, 1, z, y ,x)\n",
    "        V = torch.cat([u, v], 1)  # (Batch, 3, z, y ,x)\n",
    "        Nabla_cdot_V    = (Dx(u[:, 0]) + Dy(v[:, 0])).unsqueeze(1)  # (Batch, 1, z, y ,x)\n",
    "        Vphysics        = torch.stack([V*u, V*v, V*T, V*p], 1)\n",
    "        Vphysics_dx     = Dx(Vphysics[:, :, 0].flatten(0, 1)).reshape(year_data.shape)  # (Batch, 4, z, y ,x)\n",
    "        Vphysics_dy     = Dy(Vphysics[:, :, 1].flatten(0, 1)).reshape(year_data.shape)  # (Batch, 4, z, y ,x)\n",
    "        Field_dx        = Dx(year_data.flatten(0,1)).reshape(year_data.shape)#(Batch, 4, z, y ,x)\n",
    "        Field_dy        = Dy(year_data.flatten(0,1)).reshape(year_data.shape)#(Batch, 4, z, y ,x)\n",
    "        Field_dz        = Dz(year_data.flatten(0,1)).reshape(year_data.shape)#(Batch, 4, z, y ,x)\n",
    "        InteractionPart = torch.stack([Dx(p[:, 0]),Dy(p[:, 0])], 1)  # (Batch,2, z, y ,x)\n",
    "        \n",
    "        Nabla_cdot_V_l.append(   (   Nabla_cdot_V[...,y,x].cpu().numpy()))\n",
    "        year_data_l.append(      (      year_data[...,y,x].cpu().numpy()))\n",
    "        Vphysics_dx_l.append(    (    Vphysics_dx[...,y,x].cpu().numpy()))\n",
    "        Vphysics_dy_l.append(    (    Vphysics_dy[...,y,x].cpu().numpy()))\n",
    "        Field_dx_l.append(       (       Field_dx[...,y,x].cpu().numpy()))\n",
    "        Field_dy_l.append(       (       Field_dy[...,y,x].cpu().numpy()))\n",
    "        Field_dz_l.append(       (       Field_dz[...,y,x].cpu().numpy()))\n",
    "        InteractionPart_l.append((InteractionPart[...,y,x].cpu().numpy()))        "
   ]
  },
  {
   "cell_type": "code",
   "execution_count": 158,
   "id": "a255d2de",
   "metadata": {
    "code_folding": []
   },
   "outputs": [],
   "source": [
    "Nabla_cdot_V    = np.concatenate(Nabla_cdot_V_l   )[...,1:-1,:]\n",
    "year_data       = np.concatenate(year_data_l      )[...,1:-1,:]\n",
    "Vphysics_dx     = np.concatenate(Vphysics_dx_l    )[...,1:-1,:]\n",
    "Vphysics_dy     = np.concatenate(Vphysics_dy_l    )[...,1:-1,:]\n",
    "Field_dx        = np.concatenate(Field_dx_l       )[...,1:-1,:]\n",
    "Field_dy        = np.concatenate(Field_dy_l       )[...,1:-1,:]\n",
    "Field_dz        = np.concatenate(Field_dz_l       )[...,1:-1,:]\n",
    "InteractionPart = np.concatenate(InteractionPart_l)[...,1:-1,:]"
   ]
  },
  {
   "cell_type": "code",
   "execution_count": 160,
   "id": "8a59f4e6",
   "metadata": {},
   "outputs": [
    {
     "name": "stdout",
     "output_type": "stream",
     "text": [
      "0.0081150625,0.8149286\n",
      "5785.038,15093.026\n",
      "-1.3076661,5933.7363\n",
      "15.531034,9137.067\n",
      "-0.043823842,8.15883\n",
      "-0.6715402,18.189743\n",
      "4820.2764,10079.634\n",
      "-1.4213241,28.157673\n"
     ]
    },
    {
     "data": {
      "text/plain": [
       "(None, None)"
      ]
     },
     "execution_count": 160,
     "metadata": {},
     "output_type": "execute_result"
    }
   ],
   "source": [
    "print((Nabla_cdot_V   ).mean(),end=','),print((Nabla_cdot_V   ).std())\n",
    "print((year_data      ).mean(),end=','),print((year_data      ).std())\n",
    "print((Vphysics_dx    ).mean(),end=','),print((Vphysics_dx    ).std())\n",
    "print((Vphysics_dy    ).mean(),end=','),print((Vphysics_dy    ).std())\n",
    "print((Field_dx       ).mean(),end=','),print((Field_dx       ).std())\n",
    "print((Field_dy       ).mean(),end=','),print((Field_dy       ).std())\n",
    "print((Field_dz       ).mean(),end=','),print((Field_dz       ).std())\n",
    "print((InteractionPart).mean(),end=','),print((InteractionPart).std())"
   ]
  },
  {
   "cell_type": "code",
   "execution_count": 166,
   "id": "182ea8bf",
   "metadata": {},
   "outputs": [],
   "source": [
    "Delta= (year_data[1:]-year_data[:-1])/(6*3600)\n",
    "\n",
    "Hdx = 6371000*np.sin(np.linspace(0,720,49)/720*np.pi)*2*np.pi/1440.0\n",
    "Hdx = Hdx.reshape(1,1,1,49,1)[...,1:-1,:]\n",
    "Hdy = 6371000*np.pi/720.0\n",
    "\n",
    "Vphysics_dx    = Vphysics_dx/Hdx\n",
    "Vphysics_dy    = Vphysics_dy/Hdy\n",
    "Field_dx       = Field_dx/Hdx\n",
    "Field_dy       = Field_dy/Hdy\n",
    "Field          = year_data\n",
    "Nabla_cdot_V   = Field_dx[:,0:1] + Field_dy[:,1:2]\n",
    "Nabla_V_Field  = Nabla_cdot_V*Field #(Batch, 4, z, y ,x)"
   ]
  },
  {
   "cell_type": "code",
   "execution_count": 164,
   "id": "4e7dabf1",
   "metadata": {},
   "outputs": [],
   "source": [
    "InteractionPart=np.concatenate([\n",
    "    InteractionPart[:,0:1]/Hdx,\n",
    "    InteractionPart[:,1:2]/Hdy\n",
    " ],1)"
   ]
  },
  {
   "cell_type": "code",
   "execution_count": 165,
   "id": "499a15fb",
   "metadata": {},
   "outputs": [],
   "source": [
    "PhysicsPart    = -Vphysics_dx - Vphysics_dy  + Nabla_V_Field #(Batch,4,z, y ,x)\n",
    "\n",
    "Pure_Physics = PhysicsPart[:,:2] - InteractionPart\n",
    "\n",
    "Residual_Part =  Delta[:,:2] - Pure_Physics[:-1]\n",
    "\n",
    "Residual_Part2=  Delta[:,:2] - PhysicsPart[:-1][:,:2]"
   ]
  },
  {
   "cell_type": "code",
   "execution_count": 167,
   "id": "e058687e",
   "metadata": {
    "code_folding": [
     2,
     17
    ]
   },
   "outputs": [],
   "source": [
    "record={}\n",
    "\n",
    "names = [\n",
    "    \"Vphysics_dx\",\n",
    "    \"Vphysics_dy\",\n",
    "    \"Field_dx\",\n",
    "    \"Field_dy\",\n",
    "    \"Delta\",\n",
    "    \"PhysicsPart\",\n",
    "    \"InteractionPart\",\n",
    "    \"Field\",\n",
    "    \"Pure_Physics\",\n",
    "    \"Residual_Part\",\n",
    "    \"Residual_Part2\",\n",
    "    \"Nabla_V_Field\",\n",
    "    \"Nabla_cdot_V\"\n",
    "]\n",
    "datas= [\n",
    "    Vphysics_dx    ,\n",
    "    Vphysics_dy    ,\n",
    "    Field_dx       ,\n",
    "    Field_dy       ,\n",
    "    Delta,\n",
    "    PhysicsPart,\n",
    "    InteractionPart,\n",
    "    Field,\n",
    "    Pure_Physics,\n",
    "    Residual_Part,\n",
    "        Residual_Part2,\n",
    "        Nabla_V_Field,\n",
    "        Nabla_cdot_V\n",
    "]\n",
    "\n",
    "for name, data in zip(names,datas):\n",
    "    if name not in record:\n",
    "        record[name]={'mean':data.mean(axis=(0,2,3,4)),'std':data.std(axis=(0,2,3,4))}\n",
    "        means = record[name]['mean']\n",
    "        stds  = record[name]['std']\n",
    "        print(f\"\"\"{name}-> mean:{means} \n",
    "                      -> std:{stds}\"\"\")"
   ]
  },
  {
   "cell_type": "code",
   "execution_count": 189,
   "id": "0f5a6002",
   "metadata": {},
   "outputs": [
    {
     "data": {
      "text/plain": [
       "6.0"
      ]
     },
     "execution_count": 189,
     "metadata": {},
     "output_type": "execute_result"
    }
   ],
   "source": [
    "96/2/2/2/2"
   ]
  },
  {
   "cell_type": "code",
   "execution_count": null,
   "id": "469929cb",
   "metadata": {},
   "outputs": [],
   "source": [
    "import pandas as pd\n",
    "def show_record(record):\n",
    "    table={}\n",
    "    item_names = ['u','v','T','phi']\n",
    "    for name, val in record.items():\n",
    "        table[name]={}\n",
    "        means = record[name]['mean']\n",
    "        stds  = record[name]['std']\n",
    "        scale = 1 if name in ['Field'] else 6*3600\n",
    "        for item_name, val in zip(item_names,means):\n",
    "            table[name][item_name+'.mean']=val*scale\n",
    "        for item_name, val in zip(item_names,stds):\n",
    "            table[name][item_name+'.std']=val*scale\n",
    "    df= pd.DataFrame(data=table).transpose()\n",
    "    return df"
   ]
  },
  {
   "cell_type": "code",
   "execution_count": 199,
   "id": "7c9babf1",
   "metadata": {},
   "outputs": [
    {
     "data": {
      "text/html": [
       "<div>\n",
       "<style scoped>\n",
       "    .dataframe tbody tr th:only-of-type {\n",
       "        vertical-align: middle;\n",
       "    }\n",
       "\n",
       "    .dataframe tbody tr th {\n",
       "        vertical-align: top;\n",
       "    }\n",
       "\n",
       "    .dataframe thead th {\n",
       "        text-align: right;\n",
       "    }\n",
       "</style>\n",
       "<table border=\"1\" class=\"dataframe\">\n",
       "  <thead>\n",
       "    <tr style=\"text-align: right;\">\n",
       "      <th></th>\n",
       "      <th>u.mean</th>\n",
       "      <th>v.mean</th>\n",
       "      <th>T.mean</th>\n",
       "      <th>phi.mean</th>\n",
       "      <th>u.std</th>\n",
       "      <th>v.std</th>\n",
       "      <th>T.std</th>\n",
       "      <th>phi.std</th>\n",
       "    </tr>\n",
       "  </thead>\n",
       "  <tbody>\n",
       "    <tr>\n",
       "      <th>Vphysics_dx</th>\n",
       "      <td>-0.018282</td>\n",
       "      <td>0.007609</td>\n",
       "      <td>-0.334980</td>\n",
       "      <td>-9.062807</td>\n",
       "      <td>10.737418</td>\n",
       "      <td>8.737609</td>\n",
       "      <td>136.285303</td>\n",
       "      <td>14521.652115</td>\n",
       "    </tr>\n",
       "    <tr>\n",
       "      <th>Vphysics_dy</th>\n",
       "      <td>-0.026208</td>\n",
       "      <td>-0.022910</td>\n",
       "      <td>1.613607</td>\n",
       "      <td>46.706918</td>\n",
       "      <td>8.160330</td>\n",
       "      <td>7.995125</td>\n",
       "      <td>127.352970</td>\n",
       "      <td>14198.753643</td>\n",
       "    </tr>\n",
       "    <tr>\n",
       "      <th>Field_dx</th>\n",
       "      <td>-0.001391</td>\n",
       "      <td>-0.001975</td>\n",
       "      <td>0.003829</td>\n",
       "      <td>-0.156239</td>\n",
       "      <td>0.518175</td>\n",
       "      <td>0.629573</td>\n",
       "      <td>0.440272</td>\n",
       "      <td>24.520506</td>\n",
       "    </tr>\n",
       "    <tr>\n",
       "      <th>Field_dy</th>\n",
       "      <td>-0.005270</td>\n",
       "      <td>0.006639</td>\n",
       "      <td>-0.017943</td>\n",
       "      <td>-2.070606</td>\n",
       "      <td>0.633020</td>\n",
       "      <td>0.479048</td>\n",
       "      <td>0.416807</td>\n",
       "      <td>28.196510</td>\n",
       "    </tr>\n",
       "    <tr>\n",
       "      <th>Delta</th>\n",
       "      <td>0.000148</td>\n",
       "      <td>-0.000085</td>\n",
       "      <td>-0.000161</td>\n",
       "      <td>-0.006712</td>\n",
       "      <td>3.252417</td>\n",
       "      <td>3.739944</td>\n",
       "      <td>1.961468</td>\n",
       "      <td>210.937078</td>\n",
       "    </tr>\n",
       "    <tr>\n",
       "      <th>PhysicsPart</th>\n",
       "      <td>0.027327</td>\n",
       "      <td>0.056185</td>\n",
       "      <td>-0.024790</td>\n",
       "      <td>-6.584695</td>\n",
       "      <td>8.201135</td>\n",
       "      <td>8.708302</td>\n",
       "      <td>3.605344</td>\n",
       "      <td>533.826262</td>\n",
       "    </tr>\n",
       "    <tr>\n",
       "      <th>InteractionPart</th>\n",
       "      <td>-0.156239</td>\n",
       "      <td>-2.070608</td>\n",
       "      <td>NaN</td>\n",
       "      <td>NaN</td>\n",
       "      <td>24.520506</td>\n",
       "      <td>28.196510</td>\n",
       "      <td>NaN</td>\n",
       "      <td>NaN</td>\n",
       "    </tr>\n",
       "    <tr>\n",
       "      <th>Field</th>\n",
       "      <td>2.791147</td>\n",
       "      <td>0.084584</td>\n",
       "      <td>268.888611</td>\n",
       "      <td>22868.474609</td>\n",
       "      <td>9.514891</td>\n",
       "      <td>7.041424</td>\n",
       "      <td>20.263653</td>\n",
       "      <td>22848.212891</td>\n",
       "    </tr>\n",
       "    <tr>\n",
       "      <th>Pure_Physics</th>\n",
       "      <td>0.183566</td>\n",
       "      <td>2.126793</td>\n",
       "      <td>NaN</td>\n",
       "      <td>NaN</td>\n",
       "      <td>26.215173</td>\n",
       "      <td>29.649409</td>\n",
       "      <td>NaN</td>\n",
       "      <td>NaN</td>\n",
       "    </tr>\n",
       "    <tr>\n",
       "      <th>Residual_Part</th>\n",
       "      <td>-0.183517</td>\n",
       "      <td>-2.127055</td>\n",
       "      <td>NaN</td>\n",
       "      <td>NaN</td>\n",
       "      <td>26.441180</td>\n",
       "      <td>29.582388</td>\n",
       "      <td>NaN</td>\n",
       "      <td>NaN</td>\n",
       "    </tr>\n",
       "    <tr>\n",
       "      <th>Residual_Part2</th>\n",
       "      <td>-0.027196</td>\n",
       "      <td>-0.056185</td>\n",
       "      <td>NaN</td>\n",
       "      <td>NaN</td>\n",
       "      <td>8.751517</td>\n",
       "      <td>8.696250</td>\n",
       "      <td>NaN</td>\n",
       "      <td>NaN</td>\n",
       "    </tr>\n",
       "    <tr>\n",
       "      <th>Nabla_V_Field</th>\n",
       "      <td>-0.017163</td>\n",
       "      <td>0.040884</td>\n",
       "      <td>1.253838</td>\n",
       "      <td>31.059340</td>\n",
       "      <td>9.403112</td>\n",
       "      <td>7.409642</td>\n",
       "      <td>212.267191</td>\n",
       "      <td>25070.185168</td>\n",
       "    </tr>\n",
       "    <tr>\n",
       "      <th>Nabla_cdot_V</th>\n",
       "      <td>0.005248</td>\n",
       "      <td>NaN</td>\n",
       "      <td>NaN</td>\n",
       "      <td>NaN</td>\n",
       "      <td>0.806464</td>\n",
       "      <td>NaN</td>\n",
       "      <td>NaN</td>\n",
       "      <td>NaN</td>\n",
       "    </tr>\n",
       "  </tbody>\n",
       "</table>\n",
       "</div>"
      ],
      "text/plain": [
       "                   u.mean    v.mean      T.mean      phi.mean      u.std  \\\n",
       "Vphysics_dx     -0.018282  0.007609   -0.334980     -9.062807  10.737418   \n",
       "Vphysics_dy     -0.026208 -0.022910    1.613607     46.706918   8.160330   \n",
       "Field_dx        -0.001391 -0.001975    0.003829     -0.156239   0.518175   \n",
       "Field_dy        -0.005270  0.006639   -0.017943     -2.070606   0.633020   \n",
       "Delta            0.000148 -0.000085   -0.000161     -0.006712   3.252417   \n",
       "PhysicsPart      0.027327  0.056185   -0.024790     -6.584695   8.201135   \n",
       "InteractionPart -0.156239 -2.070608         NaN           NaN  24.520506   \n",
       "Field            2.791147  0.084584  268.888611  22868.474609   9.514891   \n",
       "Pure_Physics     0.183566  2.126793         NaN           NaN  26.215173   \n",
       "Residual_Part   -0.183517 -2.127055         NaN           NaN  26.441180   \n",
       "Residual_Part2  -0.027196 -0.056185         NaN           NaN   8.751517   \n",
       "Nabla_V_Field   -0.017163  0.040884    1.253838     31.059340   9.403112   \n",
       "Nabla_cdot_V     0.005248       NaN         NaN           NaN   0.806464   \n",
       "\n",
       "                     v.std       T.std       phi.std  \n",
       "Vphysics_dx       8.737609  136.285303  14521.652115  \n",
       "Vphysics_dy       7.995125  127.352970  14198.753643  \n",
       "Field_dx          0.629573    0.440272     24.520506  \n",
       "Field_dy          0.479048    0.416807     28.196510  \n",
       "Delta             3.739944    1.961468    210.937078  \n",
       "PhysicsPart       8.708302    3.605344    533.826262  \n",
       "InteractionPart  28.196510         NaN           NaN  \n",
       "Field             7.041424   20.263653  22848.212891  \n",
       "Pure_Physics     29.649409         NaN           NaN  \n",
       "Residual_Part    29.582388         NaN           NaN  \n",
       "Residual_Part2    8.696250         NaN           NaN  \n",
       "Nabla_V_Field     7.409642  212.267191  25070.185168  \n",
       "Nabla_cdot_V           NaN         NaN           NaN  "
      ]
     },
     "execution_count": 199,
     "metadata": {},
     "output_type": "execute_result"
    }
   ],
   "source": [
    "show_record(record)"
   ]
  },
  {
   "cell_type": "markdown",
   "id": "a8400aaa",
   "metadata": {
    "heading_collapsed": true
   },
   "source": [
    "# 检查多step时序是否满足简单约束"
   ]
  },
  {
   "cell_type": "code",
   "execution_count": 196,
   "id": "7a39d2f6",
   "metadata": {
    "hidden": true
   },
   "outputs": [
    {
     "name": "stdout",
     "output_type": "stream",
     "text": [
      "[-2.52965258e-09 -7.43957267e-09  8.72048350e-10 -2.59878779e-07]\n"
     ]
    }
   ],
   "source": [
    "print(DeltaPhysicsPart.mean(axis=(0,2,3,4)))"
   ]
  },
  {
   "cell_type": "code",
   "execution_count": 197,
   "id": "cbe3884c",
   "metadata": {
    "hidden": true
   },
   "outputs": [
    {
     "name": "stdout",
     "output_type": "stream",
     "text": [
      "[0.00043707 0.00048891 0.00015177 0.01749836]\n"
     ]
    }
   ],
   "source": [
    "print(DeltaPhysicsPart.std(axis=(0,2,3,4)))"
   ]
  },
  {
   "cell_type": "code",
   "execution_count": 220,
   "id": "feb0fa04",
   "metadata": {
    "hidden": true
   },
   "outputs": [],
   "source": [
    "record2={}"
   ]
  },
  {
   "cell_type": "code",
   "execution_count": 225,
   "id": "79dcf551",
   "metadata": {
    "hidden": true
   },
   "outputs": [],
   "source": [
    "Pure_Physics2 = PhysicsPart[:,:2] + InteractionPart"
   ]
  },
  {
   "cell_type": "code",
   "execution_count": 227,
   "id": "3a452d14",
   "metadata": {
    "hidden": true
   },
   "outputs": [
    {
     "name": "stdout",
     "output_type": "stream",
     "text": [
      "Delta_Pure_Physics2-> mean:[-1.33596632e-09 -6.55722599e-08] \n",
      "                      -> std:[0.00073334 0.00071037]\n"
     ]
    }
   ],
   "source": [
    "names = [\n",
    "\"Delta_Field\",\n",
    "\"Delta_Delta\",\n",
    "\"Delta_Vphysics_dx\",\n",
    "\"Delta_Vphysics_dy\",\n",
    "\"Delta_Field_dx\",\n",
    "\"Delta_Field_dy\",\n",
    "\"Delta_PhysicsPart\",\n",
    "\"Delta_InteractionPart\",\n",
    "\"Delta_Nabla_V_Field\",\n",
    "\"Delta_Nabla_cdot_V\",\n",
    "\"Delta_Pure_Physics\",\n",
    "\"Delta_Pure_Physics2\",\n",
    "]\n",
    "datas= [\n",
    "Field[1:]-Field[:-1],\n",
    "Delta[1:]-Delta[:-1],\n",
    "    \n",
    "Vphysics_dx[1:]-Vphysics_dx[:-1],\n",
    "Vphysics_dy[1:]-Vphysics_dy[:-1],\n",
    "Field_dx[1:]-Field_dx[:-1],\n",
    "Field_dy[1:]-Field_dy[:-1],\n",
    "    \n",
    "PhysicsPart[1:]-PhysicsPart[:-1],\n",
    "InteractionPart[1:]-InteractionPart[:-1],\n",
    "\n",
    "Nabla_V_Field[1:]-Nabla_V_Field[:-1],\n",
    "Nabla_cdot_V[1:]-Nabla_cdot_V[:-1],\n",
    "Pure_Physics[1:]-Pure_Physics[:-1],\n",
    "Pure_Physics2[1:]-Pure_Physics2[:-1]\n",
    "     \n",
    "]\n",
    "\n",
    "for name, data in zip(names,datas):\n",
    "    if name not in record2:\n",
    "        record2[name]={'mean':data.mean(axis=(0,2,3,4)),'std':data.std(axis=(0,2,3,4))}\n",
    "        means = record2[name]['mean']\n",
    "        stds  = record2[name]['std']\n",
    "        print(f\"\"\"{name}-> mean:{means} \n",
    "                      -> std:{stds}\"\"\")"
   ]
  },
  {
   "cell_type": "code",
   "execution_count": 228,
   "id": "e2ac928c",
   "metadata": {
    "hidden": true
   },
   "outputs": [
    {
     "data": {
      "text/html": [
       "<div>\n",
       "<style scoped>\n",
       "    .dataframe tbody tr th:only-of-type {\n",
       "        vertical-align: middle;\n",
       "    }\n",
       "\n",
       "    .dataframe tbody tr th {\n",
       "        vertical-align: top;\n",
       "    }\n",
       "\n",
       "    .dataframe thead th {\n",
       "        text-align: right;\n",
       "    }\n",
       "</style>\n",
       "<table border=\"1\" class=\"dataframe\">\n",
       "  <thead>\n",
       "    <tr style=\"text-align: right;\">\n",
       "      <th></th>\n",
       "      <th>u.mean</th>\n",
       "      <th>v.mean</th>\n",
       "      <th>T.mean</th>\n",
       "      <th>phi.mean</th>\n",
       "      <th>u.std</th>\n",
       "      <th>v.std</th>\n",
       "      <th>T.std</th>\n",
       "      <th>phi.std</th>\n",
       "    </tr>\n",
       "  </thead>\n",
       "  <tbody>\n",
       "    <tr>\n",
       "      <th>Delta_Field</th>\n",
       "      <td>3.205036</td>\n",
       "      <td>-1.838042e+00</td>\n",
       "      <td>-3.472811e+00</td>\n",
       "      <td>-144.973515</td>\n",
       "      <td>70252.250290</td>\n",
       "      <td>80782.826042</td>\n",
       "      <td>42367.703247</td>\n",
       "      <td>4.556240e+06</td>\n",
       "    </tr>\n",
       "    <tr>\n",
       "      <th>Delta_Delta</th>\n",
       "      <td>0.000116</td>\n",
       "      <td>2.404016e-05</td>\n",
       "      <td>-1.336383e-04</td>\n",
       "      <td>0.002357</td>\n",
       "      <td>4.457346</td>\n",
       "      <td>5.089614</td>\n",
       "      <td>2.716328</td>\n",
       "      <td>2.433105e+02</td>\n",
       "    </tr>\n",
       "    <tr>\n",
       "      <th>Delta_Vphysics_dx</th>\n",
       "      <td>-0.000002</td>\n",
       "      <td>-2.570180e-05</td>\n",
       "      <td>3.057546e-04</td>\n",
       "      <td>-0.007261</td>\n",
       "      <td>12.448258</td>\n",
       "      <td>10.505241</td>\n",
       "      <td>135.833837</td>\n",
       "      <td>1.640126e+04</td>\n",
       "    </tr>\n",
       "    <tr>\n",
       "      <th>Delta_Vphysics_dy</th>\n",
       "      <td>0.000029</td>\n",
       "      <td>1.059230e-04</td>\n",
       "      <td>-1.257631e-03</td>\n",
       "      <td>-0.050401</td>\n",
       "      <td>9.509203</td>\n",
       "      <td>9.302144</td>\n",
       "      <td>134.664940</td>\n",
       "      <td>1.664235e+04</td>\n",
       "    </tr>\n",
       "    <tr>\n",
       "      <th>Delta_Field_dx</th>\n",
       "      <td>0.000001</td>\n",
       "      <td>-5.571974e-07</td>\n",
       "      <td>2.135792e-07</td>\n",
       "      <td>0.000026</td>\n",
       "      <td>0.504207</td>\n",
       "      <td>0.645084</td>\n",
       "      <td>0.308346</td>\n",
       "      <td>1.331160e+01</td>\n",
       "    </tr>\n",
       "    <tr>\n",
       "      <th>Delta_Field_dy</th>\n",
       "      <td>0.000001</td>\n",
       "      <td>-4.624348e-06</td>\n",
       "      <td>-1.613735e-05</td>\n",
       "      <td>-0.001256</td>\n",
       "      <td>0.606013</td>\n",
       "      <td>0.498960</td>\n",
       "      <td>0.279796</td>\n",
       "      <td>1.172719e+01</td>\n",
       "    </tr>\n",
       "    <tr>\n",
       "      <th>Delta_PhysicsPart</th>\n",
       "      <td>-0.000055</td>\n",
       "      <td>-1.606948e-04</td>\n",
       "      <td>1.883624e-05</td>\n",
       "      <td>-0.005613</td>\n",
       "      <td>9.440750</td>\n",
       "      <td>10.560448</td>\n",
       "      <td>3.278242</td>\n",
       "      <td>3.779647e+02</td>\n",
       "    </tr>\n",
       "    <tr>\n",
       "      <th>Delta_InteractionPart</th>\n",
       "      <td>0.000026</td>\n",
       "      <td>-1.255666e-03</td>\n",
       "      <td>NaN</td>\n",
       "      <td>NaN</td>\n",
       "      <td>13.311601</td>\n",
       "      <td>11.727190</td>\n",
       "      <td>NaN</td>\n",
       "      <td>NaN</td>\n",
       "    </tr>\n",
       "    <tr>\n",
       "      <th>Delta_Nabla_V_Field</th>\n",
       "      <td>-0.000028</td>\n",
       "      <td>-8.047395e-05</td>\n",
       "      <td>-9.330440e-04</td>\n",
       "      <td>-0.063275</td>\n",
       "      <td>11.141464</td>\n",
       "      <td>8.473336</td>\n",
       "      <td>215.393648</td>\n",
       "      <td>2.783000e+04</td>\n",
       "    </tr>\n",
       "    <tr>\n",
       "      <th>Delta_Nabla_cdot_V</th>\n",
       "      <td>-0.000003</td>\n",
       "      <td>NaN</td>\n",
       "      <td>NaN</td>\n",
       "      <td>NaN</td>\n",
       "      <td>0.808611</td>\n",
       "      <td>NaN</td>\n",
       "      <td>NaN</td>\n",
       "      <td>NaN</td>\n",
       "    </tr>\n",
       "    <tr>\n",
       "      <th>Delta_Pure_Physics</th>\n",
       "      <td>-0.000080</td>\n",
       "      <td>1.094971e-03</td>\n",
       "      <td>NaN</td>\n",
       "      <td>NaN</td>\n",
       "      <td>16.785155</td>\n",
       "      <td>16.206883</td>\n",
       "      <td>NaN</td>\n",
       "      <td>NaN</td>\n",
       "    </tr>\n",
       "    <tr>\n",
       "      <th>Delta_Pure_Physics2</th>\n",
       "      <td>-0.000029</td>\n",
       "      <td>-1.416361e-03</td>\n",
       "      <td>NaN</td>\n",
       "      <td>NaN</td>\n",
       "      <td>15.840187</td>\n",
       "      <td>15.343959</td>\n",
       "      <td>NaN</td>\n",
       "      <td>NaN</td>\n",
       "    </tr>\n",
       "  </tbody>\n",
       "</table>\n",
       "</div>"
      ],
      "text/plain": [
       "                         u.mean        v.mean        T.mean    phi.mean  \\\n",
       "Delta_Field            3.205036 -1.838042e+00 -3.472811e+00 -144.973515   \n",
       "Delta_Delta            0.000116  2.404016e-05 -1.336383e-04    0.002357   \n",
       "Delta_Vphysics_dx     -0.000002 -2.570180e-05  3.057546e-04   -0.007261   \n",
       "Delta_Vphysics_dy      0.000029  1.059230e-04 -1.257631e-03   -0.050401   \n",
       "Delta_Field_dx         0.000001 -5.571974e-07  2.135792e-07    0.000026   \n",
       "Delta_Field_dy         0.000001 -4.624348e-06 -1.613735e-05   -0.001256   \n",
       "Delta_PhysicsPart     -0.000055 -1.606948e-04  1.883624e-05   -0.005613   \n",
       "Delta_InteractionPart  0.000026 -1.255666e-03           NaN         NaN   \n",
       "Delta_Nabla_V_Field   -0.000028 -8.047395e-05 -9.330440e-04   -0.063275   \n",
       "Delta_Nabla_cdot_V    -0.000003           NaN           NaN         NaN   \n",
       "Delta_Pure_Physics    -0.000080  1.094971e-03           NaN         NaN   \n",
       "Delta_Pure_Physics2   -0.000029 -1.416361e-03           NaN         NaN   \n",
       "\n",
       "                              u.std         v.std         T.std       phi.std  \n",
       "Delta_Field            70252.250290  80782.826042  42367.703247  4.556240e+06  \n",
       "Delta_Delta                4.457346      5.089614      2.716328  2.433105e+02  \n",
       "Delta_Vphysics_dx         12.448258     10.505241    135.833837  1.640126e+04  \n",
       "Delta_Vphysics_dy          9.509203      9.302144    134.664940  1.664235e+04  \n",
       "Delta_Field_dx             0.504207      0.645084      0.308346  1.331160e+01  \n",
       "Delta_Field_dy             0.606013      0.498960      0.279796  1.172719e+01  \n",
       "Delta_PhysicsPart          9.440750     10.560448      3.278242  3.779647e+02  \n",
       "Delta_InteractionPart     13.311601     11.727190           NaN           NaN  \n",
       "Delta_Nabla_V_Field       11.141464      8.473336    215.393648  2.783000e+04  \n",
       "Delta_Nabla_cdot_V         0.808611           NaN           NaN           NaN  \n",
       "Delta_Pure_Physics        16.785155     16.206883           NaN           NaN  \n",
       "Delta_Pure_Physics2       15.840187     15.343959           NaN           NaN  "
      ]
     },
     "execution_count": 228,
     "metadata": {},
     "output_type": "execute_result"
    }
   ],
   "source": [
    "show_record(record2)"
   ]
  }
 ],
 "metadata": {
  "kernelspec": {
   "display_name": "Python 3 (ipykernel)",
   "language": "python",
   "name": "python3"
  },
  "language_info": {
   "codemirror_mode": {
    "name": "ipython",
    "version": 3
   },
   "file_extension": ".py",
   "mimetype": "text/x-python",
   "name": "python",
   "nbconvert_exporter": "python",
   "pygments_lexer": "ipython3",
   "version": "3.9.12"
  },
  "vscode": {
   "interpreter": {
    "hash": "fc77af441bfc2c62c4c17d61422da4a44e42f2508bbc97d57f2d3e249317e47a"
   }
  }
 },
 "nbformat": 4,
 "nbformat_minor": 5
}
